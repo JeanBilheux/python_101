{
 "cells": [
  {
   "cell_type": "markdown",
   "metadata": {},
   "source": [
    "@property simplify the validity check of instance's attributes"
   ]
  },
  {
   "cell_type": "markdown",
   "metadata": {
    "collapsed": true
   },
   "source": [
    "## on-the-fly calculation "
   ]
  },
  {
   "cell_type": "code",
   "execution_count": 110,
   "metadata": {
    "collapsed": true
   },
   "outputs": [],
   "source": [
    "from datetime import datetime, timedelta\n",
    "import time"
   ]
  },
  {
   "cell_type": "code",
   "execution_count": 179,
   "metadata": {
    "collapsed": true
   },
   "outputs": [],
   "source": [
    "class Bucket(object):\n",
    "    \n",
    "    def __init__(self, period):\n",
    "        self.period_delta = timedelta(seconds = period)\n",
    "        self.reset_time = datetime.now()\n",
    "        self.quota = 0\n",
    "            \n",
    "    def is_bucket_empty(self):\n",
    "        now = datetime.now()\n",
    "        if now - self.reset_time >= self.period_delta:\n",
    "            print(\"Bucket is now empty!\")\n",
    "        else:\n",
    "            time_left = self.period_delta - (now - self.reset_time)\n",
    "            print(\"no, still full, but will be empty in %ss!\" %time_left.seconds)\n",
    "        \n",
    "    def __repr__(self):\n",
    "        return \"Bucket(quota=%d)\" % self.quota"
   ]
  },
  {
   "cell_type": "code",
   "execution_count": 180,
   "metadata": {
    "collapsed": true
   },
   "outputs": [],
   "source": [
    "def fill(bucket, amount):\n",
    "    now = datetime.now()\n",
    "    if now - bucket.reset_time > bucket.period_delta:\n",
    "        print(\"the bucket is empty\")\n",
    "        bucket.quota = 0\n",
    "        bucket.reset_time = now\n",
    "    \n",
    "    print(\"refilling the bucket\")\n",
    "    bucket.quota += amount"
   ]
  },
  {
   "cell_type": "code",
   "execution_count": 181,
   "metadata": {
    "collapsed": true
   },
   "outputs": [],
   "source": [
    "def deduct(bucket, amount):\n",
    "    now = datetime.now()\n",
    "    if now - bucket.reset_time > bucket.period_delta:\n",
    "        return False\n",
    "    if bucket.quota - amount < 0:\n",
    "        return False\n",
    "    bucket.quota -= amount\n",
    "    return True"
   ]
  },
  {
   "cell_type": "markdown",
   "metadata": {},
   "source": [
    "##### how to use the class "
   ]
  },
  {
   "cell_type": "code",
   "execution_count": 193,
   "metadata": {
    "collapsed": true
   },
   "outputs": [],
   "source": [
    "time_to_empty_bucket = 10 #s"
   ]
  },
  {
   "cell_type": "code",
   "execution_count": 194,
   "metadata": {
    "collapsed": false
   },
   "outputs": [
    {
     "name": "stdout",
     "output_type": "stream",
     "text": [
      "Time it takes to the bucket to empty itself:  0:00:10\n",
      "Last time the bucket was filled:  2016-01-08 13:25:30.708535\n"
     ]
    }
   ],
   "source": [
    "bucket = Bucket(time_to_empty_bucket)\n",
    "print(\"Time it takes to the bucket to empty itself: \", bucket.period_delta)\n",
    "print(\"Last time the bucket was filled: \", bucket.reset_time)"
   ]
  },
  {
   "cell_type": "code",
   "execution_count": 195,
   "metadata": {
    "collapsed": false
   },
   "outputs": [
    {
     "name": "stdout",
     "output_type": "stream",
     "text": [
      "no, still full, but will be empty in 9s\n"
     ]
    }
   ],
   "source": [
    "bucket.is_bucket_empty()"
   ]
  },
  {
   "cell_type": "code",
   "execution_count": 196,
   "metadata": {
    "collapsed": false
   },
   "outputs": [
    {
     "name": "stdout",
     "output_type": "stream",
     "text": [
      "Bucket(quota=0)\n"
     ]
    }
   ],
   "source": [
    "print(bucket)"
   ]
  },
  {
   "cell_type": "markdown",
   "metadata": {},
   "source": [
    "If I take more than *time_to_empty_bucket* to fill the bucket, the bucket will be empty"
   ]
  },
  {
   "cell_type": "code",
   "execution_count": 197,
   "metadata": {
    "collapsed": false
   },
   "outputs": [
    {
     "name": "stdout",
     "output_type": "stream",
     "text": [
      "refilling the bucket\n"
     ]
    }
   ],
   "source": [
    "fill(bucket, 50)"
   ]
  },
  {
   "cell_type": "markdown",
   "metadata": {},
   "source": [
    "Then I deduct the quota I need to fully fill it (%)"
   ]
  },
  {
   "cell_type": "code",
   "execution_count": 198,
   "metadata": {
    "collapsed": false
   },
   "outputs": [
    {
     "name": "stdout",
     "output_type": "stream",
     "text": [
      "Had 45 quota\n",
      "Bucket(quota=5)\n"
     ]
    }
   ],
   "source": [
    "quota_requested = 45\n",
    "if deduct(bucket, quota_requested):\n",
    "    print('Had %d quota' %quota_requested)\n",
    "else:\n",
    "    print('Not enough for %d quota' %quota_requested)\n",
    "print(bucket)"
   ]
  },
  {
   "cell_type": "markdown",
   "metadata": {},
   "source": [
    "The problem with this implementation is that **deduct** return false for 2 raisons. \n",
    " * the bucket is now empty\n",
    " * the quota requested is too hight"
   ]
  },
  {
   "cell_type": "markdown",
   "metadata": {},
   "source": [
    "We need to keep track of ht max_quota and quota_consumed"
   ]
  },
  {
   "cell_type": "code",
   "execution_count": 199,
   "metadata": {
    "collapsed": true
   },
   "outputs": [],
   "source": [
    "class Bucket(object):\n",
    "    \n",
    "    def __init__(self, period):\n",
    "        self.period_delta = timedelta(seconds = period)\n",
    "        self.reset_time = datetime.now()\n",
    "        self.max_quota = 0\n",
    "        self.quota_consumed = 0\n",
    "        \n",
    "    def __repr__(self):\n",
    "        return ('Bucket(max_quota=%d, quota_consumed=%d)' %(self.max_quota, self.quota_consumed))\n",
    "    \n",
    "    @property\n",
    "    def quota(self):\n",
    "        return self.max_quota - self.quota_consumed\n",
    "    \n",
    "    @quota.setter\n",
    "    def quota(self, amount):\n",
    "        delta = self.max_quota - amount\n",
    "        if amount == 0:\n",
    "            #quota being reset for a new period\n",
    "            self.quota_consumed = 0\n",
    "            self.max_quota = 0\n",
    "        elif delta < 0:\n",
    "            #quota being filled for the new period\n",
    "            assert self.quota_consumed == 0\n",
    "            self.max_quota = amount\n",
    "        else:\n",
    "            assert self.max_quota >= self.quota_consumed\n",
    "            self.quota_consumed += delta"
   ]
  },
  {
   "cell_type": "code",
   "execution_count": 200,
   "metadata": {
    "collapsed": false
   },
   "outputs": [
    {
     "name": "stdout",
     "output_type": "stream",
     "text": [
      "Initial Bucket(max_quota=0, quota_consumed=0)\n"
     ]
    }
   ],
   "source": [
    "bucket = Bucket(100)\n",
    "print('Initial', bucket)"
   ]
  },
  {
   "cell_type": "code",
   "execution_count": 201,
   "metadata": {
    "collapsed": false
   },
   "outputs": [
    {
     "name": "stdout",
     "output_type": "stream",
     "text": [
      "refilling the bucket\n",
      "Filled Bucket(max_quota=100, quota_consumed=0)\n"
     ]
    }
   ],
   "source": [
    "fill(bucket, 100)\n",
    "print('Filled', bucket)"
   ]
  },
  {
   "cell_type": "code",
   "execution_count": 202,
   "metadata": {
    "collapsed": false
   },
   "outputs": [
    {
     "name": "stdout",
     "output_type": "stream",
     "text": [
      "Had 45 quota\n",
      "Bucket(max_quota=100, quota_consumed=45)\n"
     ]
    }
   ],
   "source": [
    "quota_requested = 45\n",
    "if deduct(bucket, quota_requested):\n",
    "    print('Had %d quota' %quota_requested)\n",
    "else:\n",
    "    print('Not enough for %d quota' %quota_requested)\n",
    "print(bucket)\n"
   ]
  },
  {
   "cell_type": "code",
   "execution_count": 203,
   "metadata": {
    "collapsed": false
   },
   "outputs": [
    {
     "name": "stdout",
     "output_type": "stream",
     "text": [
      "Now  Bucket(max_quota=100, quota_consumed=45)\n"
     ]
    }
   ],
   "source": [
    "print('Now ', bucket)"
   ]
  },
  {
   "cell_type": "code",
   "execution_count": 205,
   "metadata": {
    "collapsed": false
   },
   "outputs": [
    {
     "name": "stdout",
     "output_type": "stream",
     "text": [
      "Not enough for 55 quota\n",
      "Bucket(max_quota=100, quota_consumed=45)\n"
     ]
    }
   ],
   "source": [
    "quota_requested = 55\n",
    "if deduct(bucket, quota_requested):\n",
    "    print('Had %d quota' %quota_requested)\n",
    "else:\n",
    "    print('Not enough for %d quota' %quota_requested)\n",
    "print(bucket)\n"
   ]
  },
  {
   "cell_type": "code",
   "execution_count": 206,
   "metadata": {
    "collapsed": false
   },
   "outputs": [
    {
     "name": "stdout",
     "output_type": "stream",
     "text": [
      "Still Bucket(max_quota=100, quota_consumed=45)\n"
     ]
    }
   ],
   "source": [
    "print('Still', bucket)"
   ]
  },
  {
   "cell_type": "code",
   "execution_count": null,
   "metadata": {
    "collapsed": true
   },
   "outputs": [],
   "source": []
  }
 ],
 "metadata": {
  "kernelspec": {
   "display_name": "Python 3",
   "language": "python",
   "name": "python3"
  },
  "language_info": {
   "codemirror_mode": {
    "name": "ipython",
    "version": 3
   },
   "file_extension": ".py",
   "mimetype": "text/x-python",
   "name": "python",
   "nbconvert_exporter": "python",
   "pygments_lexer": "ipython3",
   "version": "3.4.3"
  }
 },
 "nbformat": 4,
 "nbformat_minor": 0
}
