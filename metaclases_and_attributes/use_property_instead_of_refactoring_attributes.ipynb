{
 "cells": [
  {
   "cell_type": "markdown",
   "metadata": {},
   "source": [
    "@property simplify the validity check of instance's attributes"
   ]
  },
  {
   "cell_type": "markdown",
   "metadata": {
    "collapsed": true
   },
   "source": [
    "## on-the-fly calculation "
   ]
  },
  {
   "cell_type": "code",
   "execution_count": 2,
   "metadata": {
    "collapsed": true
   },
   "outputs": [],
   "source": [
    "from datetime import datetime, timedelta"
   ]
  },
  {
   "cell_type": "code",
   "execution_count": 4,
   "metadata": {
    "collapsed": true
   },
   "outputs": [],
   "source": [
    "class Bucket(object):\n",
    "    \n",
    "    def __init__(self, period):\n",
    "        self.period_delta = timedelta(seconds = period)\n",
    "        self.reset_time = datetime.now()\n",
    "        self.quota = 0\n",
    "        \n",
    "    def __repr__(self):\n",
    "        return \"Bucket(quota=%d)\" % self.quota"
   ]
  },
  {
   "cell_type": "code",
   "execution_count": 37,
   "metadata": {
    "collapsed": true
   },
   "outputs": [],
   "source": [
    "def fill(bucket, amount):\n",
    "    now = datetime.now()\n",
    "    if now - bucket.reset_time > bucket.period_delta:\n",
    "        print(\"the bucket is empty\")\n",
    "        bucket.quota = 0\n",
    "        bucket.reset_time = now\n",
    "    \n",
    "    print(\"refilling the bucket\")\n",
    "    bucket.quota += amount"
   ]
  },
  {
   "cell_type": "code",
   "execution_count": 59,
   "metadata": {
    "collapsed": true
   },
   "outputs": [],
   "source": [
    "def deduct(bucket, amount):\n",
    "    now = datetime.now()\n",
    "    if now - bucket.reset_time > bucket.period_delta:\n",
    "        return False\n",
    "    if bucket.quota - amount < 0:\n",
    "        return False\n",
    "    bucket.quota -= amount\n",
    "    return True"
   ]
  },
  {
   "cell_type": "markdown",
   "metadata": {},
   "source": [
    "##### how to use the class "
   ]
  },
  {
   "cell_type": "code",
   "execution_count": 60,
   "metadata": {
    "collapsed": true
   },
   "outputs": [],
   "source": [
    "time_to_empty_bucket = 10 #s"
   ]
  },
  {
   "cell_type": "code",
   "execution_count": 61,
   "metadata": {
    "collapsed": false
   },
   "outputs": [
    {
     "name": "stdout",
     "output_type": "stream",
     "text": [
      "Time it takes to the bucket to empty itself:  0:00:10\n",
      "Last time the bucket was filled:  2016-01-07 17:20:12.968619\n"
     ]
    }
   ],
   "source": [
    "bucket = Bucket(time_to_empty_bucket)\n",
    "print(\"Time it takes to the bucket to empty itself: \", bucket.period_delta)\n",
    "print(\"Last time the bucket was filled: \", bucket.reset_time)"
   ]
  },
  {
   "cell_type": "code",
   "execution_count": 62,
   "metadata": {
    "collapsed": false
   },
   "outputs": [
    {
     "name": "stdout",
     "output_type": "stream",
     "text": [
      "Bucket(quota=0)\n"
     ]
    }
   ],
   "source": [
    "print(bucket)"
   ]
  },
  {
   "cell_type": "markdown",
   "metadata": {},
   "source": [
    "If I take more than *time_to_empty_bucket* to fill the bucket, the bucket will be empty"
   ]
  },
  {
   "cell_type": "code",
   "execution_count": 69,
   "metadata": {
    "collapsed": false
   },
   "outputs": [
    {
     "name": "stdout",
     "output_type": "stream",
     "text": [
      "the bucket is empty\n",
      "refilling the bucket\n"
     ]
    }
   ],
   "source": [
    "fill(bucket, 50)"
   ]
  },
  {
   "cell_type": "markdown",
   "metadata": {},
   "source": [
    "Then I deduct the quota I need to fully fill it (%)"
   ]
  },
  {
   "cell_type": "code",
   "execution_count": 75,
   "metadata": {
    "collapsed": false
   },
   "outputs": [
    {
     "name": "stdout",
     "output_type": "stream",
     "text": [
      "Not enough for 99 quota\n",
      "Bucket(quota=50)\n"
     ]
    }
   ],
   "source": [
    "if deduct(bucket, 99):\n",
    "    print('Had 99 quota')\n",
    "else:\n",
    "    print('Not enough for 99 quota')\n",
    "print(bucket)"
   ]
  },
  {
   "cell_type": "code",
   "execution_count": null,
   "metadata": {
    "collapsed": true
   },
   "outputs": [],
   "source": []
  },
  {
   "cell_type": "code",
   "execution_count": null,
   "metadata": {
    "collapsed": true
   },
   "outputs": [],
   "source": []
  }
 ],
 "metadata": {
  "kernelspec": {
   "display_name": "Python 3",
   "language": "python",
   "name": "python3"
  },
  "language_info": {
   "codemirror_mode": {
    "name": "ipython",
    "version": 3
   },
   "file_extension": ".py",
   "mimetype": "text/x-python",
   "name": "python",
   "nbconvert_exporter": "python",
   "pygments_lexer": "ipython3",
   "version": "3.4.3"
  }
 },
 "nbformat": 4,
 "nbformat_minor": 0
}
