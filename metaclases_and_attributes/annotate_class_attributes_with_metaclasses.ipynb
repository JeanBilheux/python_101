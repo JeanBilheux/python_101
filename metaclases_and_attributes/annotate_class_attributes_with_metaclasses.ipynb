{
 "cells": [
  {
   "cell_type": "markdown",
   "metadata": {},
   "source": [
    "**metaclasses** allows to *modify* and *annotate* properties after a class is defined but before it is used."
   ]
  },
  {
   "cell_type": "markdown",
   "metadata": {},
   "source": [
    "## Example 1 "
   ]
  },
  {
   "cell_type": "markdown",
   "metadata": {},
   "source": [
    "We want to define a class that represents a row in our customer database. We would like a corresponding property on the class for each column in the database table. "
   ]
  },
  {
   "cell_type": "code",
   "execution_count": 1,
   "metadata": {
    "collapsed": true
   },
   "outputs": [],
   "source": [
    "class Field(object):\n",
    "    \n",
    "    def __init__(self, name):\n",
    "        self.name = name\n",
    "        self.internal_name = '_' + self.name\n",
    "        \n",
    "    def __get__(self, instance, instance_type):\n",
    "        if instance is None: return self\n",
    "        return getattr(instance, self.internal_name, '')\n",
    "    \n",
    "    def __set__(self, instance, value):\n",
    "        setattr(instance, self.internal_name, value)"
   ]
  },
  {
   "cell_type": "code",
   "execution_count": null,
   "metadata": {
    "collapsed": true
   },
   "outputs": [],
   "source": []
  }
 ],
 "metadata": {
  "kernelspec": {
   "display_name": "Python 3",
   "language": "python",
   "name": "python3"
  },
  "language_info": {
   "codemirror_mode": {
    "name": "ipython",
    "version": 3
   },
   "file_extension": ".py",
   "mimetype": "text/x-python",
   "name": "python",
   "nbconvert_exporter": "python",
   "pygments_lexer": "ipython3",
   "version": "3.4.3"
  }
 },
 "nbformat": 4,
 "nbformat_minor": 0
}
