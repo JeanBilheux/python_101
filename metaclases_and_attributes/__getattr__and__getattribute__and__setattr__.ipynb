{
 "cells": [
  {
   "cell_type": "markdown",
   "metadata": {},
   "source": [
    "# __getattr__ "
   ]
  },
  {
   "cell_type": "markdown",
   "metadata": {},
   "source": [
    "This illustrates when the **__getattr__** method is called"
   ]
  },
  {
   "cell_type": "code",
   "execution_count": 4,
   "metadata": {
    "collapsed": true
   },
   "outputs": [],
   "source": [
    "class LazyDB(object):\n",
    "    \n",
    "    def __init__(self):\n",
    "        self.exists = 5\n",
    "        \n",
    "    def __getattr__(self, name):\n",
    "        print(\"Called __getattr__ in LazyDB (%s)\" %name)\n",
    "        value = \"Value for %s\" %name\n",
    "        setattr(self, name, value)\n",
    "        return value"
   ]
  },
  {
   "cell_type": "code",
   "execution_count": 26,
   "metadata": {
    "collapsed": false
   },
   "outputs": [
    {
     "name": "stdout",
     "output_type": "stream",
     "text": [
      "Before: {'exists': 5}\n"
     ]
    }
   ],
   "source": [
    "data = LazyDB()\n",
    "print(\"Before:\", data.__dict__)"
   ]
  },
  {
   "cell_type": "code",
   "execution_count": 27,
   "metadata": {
    "collapsed": false
   },
   "outputs": [
    {
     "name": "stdout",
     "output_type": "stream",
     "text": [
      "Called __getattr__ in LazyDB (foo)\n",
      "Adding an atribute:  Value for foo\n"
     ]
    }
   ],
   "source": [
    "print(\"Adding an atribute: \", data.foo)"
   ]
  },
  {
   "cell_type": "code",
   "execution_count": 28,
   "metadata": {
    "collapsed": false
   },
   "outputs": [
    {
     "name": "stdout",
     "output_type": "stream",
     "text": [
      "After: {'exists': 5, 'foo': 'Value for foo'}\n"
     ]
    }
   ],
   "source": [
    "print(\"After:\", data.__dict__)"
   ]
  },
  {
   "cell_type": "code",
   "execution_count": 29,
   "metadata": {
    "collapsed": false
   },
   "outputs": [
    {
     "name": "stdout",
     "output_type": "stream",
     "text": [
      "Called __getattr__ in LazyDB (baa)\n"
     ]
    },
    {
     "data": {
      "text/plain": [
       "'Value for baa'"
      ]
     },
     "execution_count": 29,
     "metadata": {},
     "output_type": "execute_result"
    }
   ],
   "source": [
    "data.baa"
   ]
  },
  {
   "cell_type": "code",
   "execution_count": 30,
   "metadata": {
    "collapsed": false
   },
   "outputs": [
    {
     "name": "stdout",
     "output_type": "stream",
     "text": [
      "{'exists': 5, 'foo': 'Value for foo', 'baa': 'Value for baa'}\n"
     ]
    }
   ],
   "source": [
    "print(data.__dict__)"
   ]
  },
  {
   "cell_type": "code",
   "execution_count": 31,
   "metadata": {
    "collapsed": false
   },
   "outputs": [
    {
     "data": {
      "text/plain": [
       "'Value for baa'"
      ]
     },
     "execution_count": 31,
     "metadata": {},
     "output_type": "execute_result"
    }
   ],
   "source": [
    "data.baa"
   ]
  },
  {
   "cell_type": "code",
   "execution_count": 32,
   "metadata": {
    "collapsed": false
   },
   "outputs": [
    {
     "name": "stdout",
     "output_type": "stream",
     "text": [
      "{'exists': 5, 'foo': 'Value for foo', 'baa': 'Value for baa'}\n"
     ]
    }
   ],
   "source": [
    "print(data.__dict__)"
   ]
  },
  {
   "cell_type": "markdown",
   "metadata": {},
   "source": [
    "How to retrieve value of attributes using string name"
   ]
  },
  {
   "cell_type": "code",
   "execution_count": 36,
   "metadata": {
    "collapsed": false
   },
   "outputs": [
    {
     "name": "stdout",
     "output_type": "stream",
     "text": [
      "5\n"
     ]
    }
   ],
   "source": [
    "print(getattr(data, 'exists'))"
   ]
  },
  {
   "cell_type": "code",
   "execution_count": 37,
   "metadata": {
    "collapsed": false
   },
   "outputs": [
    {
     "name": "stdout",
     "output_type": "stream",
     "text": [
      "Value for foo\n"
     ]
    }
   ],
   "source": [
    "print(getattr(data, 'foo'))"
   ]
  },
  {
   "cell_type": "markdown",
   "metadata": {},
   "source": [
    "### when does __getattr__ is called "
   ]
  },
  {
   "cell_type": "code",
   "execution_count": 5,
   "metadata": {
    "collapsed": false
   },
   "outputs": [],
   "source": [
    "class LoggingLazyDB(LazyDB):\n",
    "    \n",
    "    def __getattr__(self, name):\n",
    "        print(\"Called __getattr__(%s)\" %name)\n",
    "        return super().__getattr__(name)"
   ]
  },
  {
   "cell_type": "code",
   "execution_count": 9,
   "metadata": {
    "collapsed": false
   },
   "outputs": [
    {
     "name": "stdout",
     "output_type": "stream",
     "text": [
      "Exists: 5\n",
      "Called __getattr__(foo)\n",
      "foo:  Value for foo\n",
      "foo:  Value for foo\n"
     ]
    }
   ],
   "source": [
    "data = LoggingLazyDB()\n",
    "print('Exists:', data.exists)\n",
    "print('foo: ', data.foo)\n",
    "print('foo: ', data.foo)"
   ]
  },
  {
   "cell_type": "markdown",
   "metadata": {},
   "source": [
    "This show that **\\_\\_getattr__** is only reached when a variable is defined for the **the first time**"
   ]
  },
  {
   "cell_type": "markdown",
   "metadata": {},
   "source": [
    "The *exists* attributes is present from the start, so **\\_\\_getattr__** is never called for it.\n",
    "\n",
    "Because *foo* is not in the instance dictionary, so **\\_\\_getattr__** is called."
   ]
  },
  {
   "cell_type": "markdown",
   "metadata": {},
   "source": [
    "### \\_\\_getattribute__ "
   ]
  },
  {
   "cell_type": "markdown",
   "metadata": {},
   "source": [
    "This method is called every time an attribute is accessed on an object (even when it does already exist)"
   ]
  },
  {
   "cell_type": "code",
   "execution_count": 71,
   "metadata": {
    "collapsed": true
   },
   "outputs": [],
   "source": [
    "class ValidatingDB(object):\n",
    "    \n",
    "    def __init__(self):\n",
    "        self.exists = 5\n",
    "        \n",
    "    def __getattribute__(self, name):\n",
    "        print('Called __getattribute__ (%s)' %name)\n",
    "        try:\n",
    "            print('super() called worked on %s' %name)\n",
    "            return super().__getattribute__(name)\n",
    "        except AttributeError:\n",
    "            #if variable does not exist yet, setattr is called\n",
    "            value = \"Value for %s\" %name\n",
    "            setattr(self, name, value)\n",
    "            return value"
   ]
  },
  {
   "cell_type": "code",
   "execution_count": 67,
   "metadata": {
    "collapsed": false
   },
   "outputs": [
    {
     "name": "stdout",
     "output_type": "stream",
     "text": [
      "Called __getattribute__ (__class__)\n",
      "super() called worked on __class__\n",
      "Called __getattribute__ (__class__)\n",
      "super() called worked on __class__\n"
     ]
    }
   ],
   "source": [
    "data = ValidatingDB()"
   ]
  },
  {
   "cell_type": "code",
   "execution_count": 68,
   "metadata": {
    "collapsed": false
   },
   "outputs": [
    {
     "name": "stdout",
     "output_type": "stream",
     "text": [
      "Called __getattribute__ (exists)\n",
      "super() called worked on exists\n",
      "exists: 5\n"
     ]
    }
   ],
   "source": [
    "print('exists:', data.exists)"
   ]
  },
  {
   "cell_type": "code",
   "execution_count": 69,
   "metadata": {
    "collapsed": false
   },
   "outputs": [
    {
     "name": "stdout",
     "output_type": "stream",
     "text": [
      "Called __getattribute__ (foo)\n",
      "super() called worked on foo\n",
      "foo:  Value for foo\n"
     ]
    }
   ],
   "source": [
    "print('foo: ', data.foo)"
   ]
  },
  {
   "cell_type": "code",
   "execution_count": 70,
   "metadata": {
    "collapsed": false
   },
   "outputs": [
    {
     "name": "stdout",
     "output_type": "stream",
     "text": [
      "Called __getattribute__ (foo)\n",
      "super() called worked on foo\n",
      "foo:  Value for foo\n"
     ]
    }
   ],
   "source": [
    "print('foo: ', data.foo)"
   ]
  },
  {
   "cell_type": "markdown",
   "metadata": {},
   "source": [
    "### Check for missing attribute "
   ]
  },
  {
   "cell_type": "code",
   "execution_count": 72,
   "metadata": {
    "collapsed": true
   },
   "outputs": [],
   "source": [
    "class MissingPropertyDB(object):\n",
    "    \n",
    "    def __init__(self):\n",
    "        self.exists = 10\n",
    "    \n",
    "    def __getattr__(self, name):\n",
    "        if name == 'bad_name':\n",
    "            raise AttributeError(\"%s is missing in __getattr__ call\" %name)\n",
    "            \n",
    "    def __getattribute__(self, name):\n",
    "        if name == 'bad_name':\n",
    "            raise AttributeError(\"%s is missing in __getattribute__ call\" %name)"
   ]
  },
  {
   "cell_type": "code",
   "execution_count": 73,
   "metadata": {
    "collapsed": false
   },
   "outputs": [
    {
     "name": "stdout",
     "output_type": "stream",
     "text": [
      "Called __getattribute__ (__class__)\n",
      "super() called worked on __class__\n",
      "Called __getattribute__ (__class__)\n",
      "super() called worked on __class__\n"
     ]
    }
   ],
   "source": [
    "data = MissingPropertyDB()"
   ]
  },
  {
   "cell_type": "code",
   "execution_count": 80,
   "metadata": {
    "collapsed": false
   },
   "outputs": [
    {
     "name": "stdout",
     "output_type": "stream",
     "text": [
      "Called __getattr__(bad_name)\n"
     ]
    },
    {
     "data": {
      "text/plain": [
       "'Value for bad_name'"
      ]
     },
     "execution_count": 80,
     "metadata": {},
     "output_type": "execute_result"
    }
   ],
   "source": [
    "data.bad_name"
   ]
  },
  {
   "cell_type": "markdown",
   "metadata": {},
   "source": [
    "### \\_\\_hasattr\\_\\_ and \\_\\_getattr\\_\\_"
   ]
  },
  {
   "cell_type": "markdown",
   "metadata": {},
   "source": [
    "### example 1 "
   ]
  },
  {
   "cell_type": "code",
   "execution_count": 7,
   "metadata": {
    "collapsed": false
   },
   "outputs": [
    {
     "name": "stdout",
     "output_type": "stream",
     "text": [
      "checking the class:\n",
      "False\n",
      "Before:  {'exists': 5}\n",
      "Called __getattr__(foo)\n",
      "Called __getattr__ in LazyDB (foo)\n",
      "foo exists?  True\n",
      "After:  {'foo': 'Value for foo', 'exists': 5}\n",
      "foo exists?  True\n"
     ]
    }
   ],
   "source": [
    "data = LoggingLazyDB()\n",
    "print(\"checking the class:\")\n",
    "print(hasattr(LoggingLazyDB, 'foo'))\n",
    "print('Before: ', data.__dict__)\n",
    "print('foo exists? ', hasattr(data, 'foo'))\n",
    "print('After: ', data.__dict__)\n",
    "print('foo exists? ', hasattr(data, 'foo'))"
   ]
  },
  {
   "cell_type": "markdown",
   "metadata": {},
   "source": [
    "When **hasattr** is called on an instance, it creates the instance attributes by calling **\\_\\_getattr__**,\n",
    "also created when **getattr** is called !"
   ]
  },
  {
   "cell_type": "code",
   "execution_count": 79,
   "metadata": {
    "collapsed": false
   },
   "outputs": [
    {
     "name": "stdout",
     "output_type": "stream",
     "text": [
      "{'exists': 5, 'foo': 'Value for foo'}\n",
      "Called __getattr__(baa)\n",
      "Before: %s Value for baa\n",
      "{'exists': 5, 'foo': 'Value for foo', 'baa': 'Value for baa'}\n"
     ]
    }
   ],
   "source": [
    "print(data.__dict__)\n",
    "print('Before: ', getattr(data, 'baa'))\n",
    "print(data.__dict__)"
   ]
  },
  {
   "cell_type": "markdown",
   "metadata": {},
   "source": [
    "### example 2"
   ]
  },
  {
   "cell_type": "code",
   "execution_count": 1,
   "metadata": {
    "collapsed": true
   },
   "outputs": [],
   "source": [
    "class ObjectCreator(object):\n",
    "    pass"
   ]
  },
  {
   "cell_type": "code",
   "execution_count": 9,
   "metadata": {
    "collapsed": false
   },
   "outputs": [
    {
     "name": "stdout",
     "output_type": "stream",
     "text": [
      "False\n"
     ]
    }
   ],
   "source": [
    "print(hasattr(ObjectCreator, 'new_attribute'))"
   ]
  },
  {
   "cell_type": "code",
   "execution_count": 11,
   "metadata": {
    "collapsed": true
   },
   "outputs": [],
   "source": [
    "ObjectCreator.new_attribute = 'foo'"
   ]
  },
  {
   "cell_type": "code",
   "execution_count": 12,
   "metadata": {
    "collapsed": false
   },
   "outputs": [
    {
     "name": "stdout",
     "output_type": "stream",
     "text": [
      "True\n"
     ]
    }
   ],
   "source": [
    "print(hasattr(ObjectCreator, 'new_attribute'))"
   ]
  },
  {
   "cell_type": "markdown",
   "metadata": {},
   "source": [
    "### \\_\\_setattr\\_\\_ "
   ]
  },
  {
   "cell_type": "code",
   "execution_count": 82,
   "metadata": {
    "collapsed": true
   },
   "outputs": [],
   "source": [
    "class SavingDB(object):\n",
    "    \n",
    "    def __setattr__(self, name, value):\n",
    "        print('Saving data to DB in SavingDB')\n",
    "        super().__setattr__(name, value)"
   ]
  },
  {
   "cell_type": "code",
   "execution_count": 84,
   "metadata": {
    "collapsed": true
   },
   "outputs": [],
   "source": [
    "class LoggingSavingDB(SavingDB):\n",
    "    \n",
    "    def __setattr__(self, name, value):\n",
    "        print('Called __setattr__(%s, %r)' %(name, value))\n",
    "        super().__setattr__(name, value)"
   ]
  },
  {
   "cell_type": "code",
   "execution_count": 85,
   "metadata": {
    "collapsed": false
   },
   "outputs": [
    {
     "name": "stdout",
     "output_type": "stream",
     "text": [
      "Before:  {}\n",
      "Called __setattr__(foo, 5)\n",
      "Saving data to DB in SavingDB\n",
      "After:  {'foo': 5}\n",
      "Called __setattr__(foo, 7)\n",
      "Saving data to DB in SavingDB\n",
      "Finally:  {'foo': 7}\n"
     ]
    }
   ],
   "source": [
    "data = LoggingSavingDB()\n",
    "print('Before: ', data.__dict__)\n",
    "data.foo = 5\n",
    "print('After: ', data.__dict__)\n",
    "data.foo = 7\n",
    "print('Finally: ', data.__dict__)"
   ]
  },
  {
   "cell_type": "markdown",
   "metadata": {},
   "source": [
    "**\\_\\_setattr\\_\\_** is called every time we are doing an assignment to an attribute"
   ]
  },
  {
   "cell_type": "markdown",
   "metadata": {},
   "source": [
    "But the problem is that sometimes we do not want to call **getattribute** and/or **setattr**"
   ]
  },
  {
   "cell_type": "markdown",
   "metadata": {},
   "source": [
    "__example__\n",
    "    \n",
    "    def __getattribute__(self, name):\n",
    "        print('Called __getattribute__(%s)' % name)\n",
    "        return self._data[name]\n",
    "        \n",
    "this will loop for ever as we call **getattribute**, inside **getattribute**, etc     \n",
    "        \n"
   ]
  },
  {
   "cell_type": "markdown",
   "metadata": {},
   "source": [
    "**The solution** called the *super().\\_\\_getattribute\\_\\_*\n",
    "\n",
    "    def __getattribute__(self, name):\n",
    "        data_dict = super().__getattribute__('data')\n",
    "        return data_dict[name]"
   ]
  },
  {
   "cell_type": "markdown",
   "metadata": {},
   "source": [
    "Same thing with **\\_\\_setattr\\_\\_** where we will need to use **super().\\_\\_setattr\\_\\_**"
   ]
  },
  {
   "cell_type": "code",
   "execution_count": null,
   "metadata": {
    "collapsed": true
   },
   "outputs": [],
   "source": []
  }
 ],
 "metadata": {
  "kernelspec": {
   "display_name": "Python 3",
   "language": "python",
   "name": "python3"
  },
  "language_info": {
   "codemirror_mode": {
    "name": "ipython",
    "version": 3
   },
   "file_extension": ".py",
   "mimetype": "text/x-python",
   "name": "python",
   "nbconvert_exporter": "python",
   "pygments_lexer": "ipython3",
   "version": "3.4.4"
  }
 },
 "nbformat": 4,
 "nbformat_minor": 0
}
