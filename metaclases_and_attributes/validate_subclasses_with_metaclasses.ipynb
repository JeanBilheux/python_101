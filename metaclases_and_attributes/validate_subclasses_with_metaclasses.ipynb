{
 "cells": [
  {
   "cell_type": "markdown",
   "metadata": {},
   "source": [
    "## metaclass "
   ]
  },
  {
   "cell_type": "markdown",
   "metadata": {},
   "source": [
    "Nice doc. found [here](http://stackoverflow.com/questions/100003/what-is-a-metaclass-in-python)\n",
    "\n",
    "A *metaclass* is the class of a class. Like a class defines how an instance behaves, a *metaclass* defines how a class behaves. A class is an instance of a metaclass.\n",
    "\n",
    "In python, classes are objects too. This object (the class) is itself capable of creating objects (instances), and this is why it's a class.\n",
    "\n"
   ]
  },
  {
   "cell_type": "markdown",
   "metadata": {},
   "source": [
    "It's defined by inheriting from *type*. "
   ]
  },
  {
   "cell_type": "markdown",
   "metadata": {},
   "source": [
    "### python 3 "
   ]
  },
  {
   "cell_type": "code",
   "execution_count": 8,
   "metadata": {
    "collapsed": true
   },
   "outputs": [],
   "source": [
    "class Meta(type):\n",
    "    \n",
    "    def __new__(meta, name, bases, class_dict):\n",
    "        print('meta: ', meta)\n",
    "        print('name: ', name)\n",
    "        print('bases: ', bases)\n",
    "        print('class_dict: ', class_dict)\n",
    "        return type.__new__(meta, name, bases, class_dict)"
   ]
  },
  {
   "cell_type": "code",
   "execution_count": 9,
   "metadata": {
    "collapsed": false
   },
   "outputs": [
    {
     "name": "stdout",
     "output_type": "stream",
     "text": [
      "meta:  <class '__main__.Meta'>\n",
      "name:  MyClass\n",
      "bases:  (<class 'object'>,)\n",
      "class_dict:  {'__module__': '__main__', 'stuff': 123, '__qualname__': 'MyClass', 'foo': <function MyClass.foo at 0x10912dbf8>}\n"
     ]
    }
   ],
   "source": [
    "class MyClass(object, metaclass=Meta):\n",
    "    stuff = 123\n",
    "    \n",
    "    def foo(self):\n",
    "        pass"
   ]
  },
  {
   "cell_type": "markdown",
   "metadata": {},
   "source": [
    "### python 2 "
   ]
  },
  {
   "cell_type": "code",
   "execution_count": null,
   "metadata": {
    "collapsed": false
   },
   "outputs": [],
   "source": [
    "class Meta(type):\n",
    "    def __new__(meta, name, bases, class_dict):\n",
    "        #...\n",
    "        return super(Meta, cls).__new__(cls, name, bases, class_dict)\n",
    "    \n",
    "class MyclassInPython2(object):\n",
    "    __metaclass__ = Meta\n",
    "    \n",
    "    #..."
   ]
  },
  {
   "cell_type": "code",
   "execution_count": null,
   "metadata": {
    "collapsed": true
   },
   "outputs": [],
   "source": []
  }
 ],
 "metadata": {
  "kernelspec": {
   "display_name": "Python 3",
   "language": "python",
   "name": "python3"
  },
  "language_info": {
   "codemirror_mode": {
    "name": "ipython",
    "version": 3
   },
   "file_extension": ".py",
   "mimetype": "text/x-python",
   "name": "python",
   "nbconvert_exporter": "python",
   "pygments_lexer": "ipython3",
   "version": "3.4.3"
  }
 },
 "nbformat": 4,
 "nbformat_minor": 0
}
