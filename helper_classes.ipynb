{
 "cells": [
  {
   "cell_type": "markdown",
   "metadata": {},
   "source": [
    "### Class to keep record of students grades"
   ]
  },
  {
   "cell_type": "code",
   "execution_count": 6,
   "metadata": {
    "collapsed": true
   },
   "outputs": [],
   "source": [
    "class SimpleGradebook(object):\n",
    "    def __init__(self):\n",
    "        self._grades = {}\n",
    "        \n",
    "    def add_student(self, name):\n",
    "        self._grades[name] = []\n",
    "        \n",
    "    def report_grade(self, name, score):\n",
    "        self._grades[name].append(score)\n",
    "        \n",
    "    def average_grade(self, name):\n",
    "        grades = self._grades[name]\n",
    "        return sum(grades) / len(grades)"
   ]
  },
  {
   "cell_type": "code",
   "execution_count": 10,
   "metadata": {
    "collapsed": false
   },
   "outputs": [
    {
     "name": "stdout",
     "output_type": "stream",
     "text": [
      "14.33 \n"
     ]
    }
   ],
   "source": [
    "book = SimpleGradebook()\n",
    "book.add_student('Isaac Newton')\n",
    "book.report_grade('Isaac Newton', 10)\n",
    "book.report_grade('Isaac Newton', 20)\n",
    "book.report_grade('Isaac Newton', 13)\n",
    "print(\"%.2f \" % book.average_grade('Isaac Newton'))"
   ]
  },
  {
   "cell_type": "markdown",
   "metadata": {},
   "source": [
    "### Now we want to keep grades by subject"
   ]
  },
  {
   "cell_type": "code",
   "execution_count": 37,
   "metadata": {
    "collapsed": true
   },
   "outputs": [],
   "source": [
    "class BySubjectGradebook(object):\n",
    "    def __init__(self):\n",
    "        self._grades ={}\n",
    "    \n",
    "    def add_student(self, name):\n",
    "        self._grades[name] = {}\n",
    "    \n",
    "    def report_grade(self, name, subject, score):\n",
    "        print('entering report_grade of student: %s, subject: %s, score: %.1f' %(name, subject, score))\n",
    "        by_subject = self._grades[name]\n",
    "        print(\"by_subject: \", by_subject)\n",
    "        grade_list = by_subject.setdefault(subject, [])\n",
    "        print(\"grade_list: \", grade_list)\n",
    "        grade_list.append(score)\n",
    "        print('before leaving report grade, by_subject is', by_subject)\n",
    "        \n",
    "    def average_grade(self, name):\n",
    "        by_subject = self._grades[name]\n",
    "        total, count = 0, 0\n",
    "        for grades in by_subject.values():\n",
    "            total += sum(grades)\n",
    "            count += len(grades)\n",
    "        return total /count"
   ]
  },
  {
   "cell_type": "code",
   "execution_count": 38,
   "metadata": {
    "collapsed": false
   },
   "outputs": [
    {
     "name": "stdout",
     "output_type": "stream",
     "text": [
      "entering report_grade of student: Albert Einstein, subject: Math, score: 7.5\n",
      "by_subject:  {}\n",
      "grade_list:  []\n",
      "before leaving report grade, by_subject is {'Math': [7.5]}\n",
      "entering report_grade of student: Albert Einstein, subject: Math, score: 10.0\n",
      "by_subject:  {'Math': [7.5]}\n",
      "grade_list:  [7.5]\n",
      "before leaving report grade, by_subject is {'Math': [7.5, 10]}\n",
      "entering report_grade of student: Albert Einstein, subject: Gym, score: 15.0\n",
      "by_subject:  {'Math': [7.5, 10]}\n",
      "grade_list:  []\n",
      "before leaving report grade, by_subject is {'Gym': [15], 'Math': [7.5, 10]}\n",
      "entering report_grade of student: Albert Einstein, subject: Physics, score: 9.0\n",
      "by_subject:  {'Gym': [15], 'Math': [7.5, 10]}\n",
      "grade_list:  []\n",
      "before leaving report grade, by_subject is {'Gym': [15], 'Physics': [9], 'Math': [7.5, 10]}\n",
      "10.38\n",
      "entering report_grade of student: Bob, subject: Math, score: 10.5\n",
      "by_subject:  {}\n",
      "grade_list:  []\n",
      "before leaving report grade, by_subject is {'Math': [10.5]}\n",
      "entering report_grade of student: Bob, subject: Math, score: 9.5\n",
      "by_subject:  {'Math': [10.5]}\n",
      "grade_list:  [10.5]\n",
      "before leaving report grade, by_subject is {'Math': [10.5, 9.5]}\n",
      "entering report_grade of student: Bob, subject: Gym, score: 11.0\n",
      "by_subject:  {'Math': [10.5, 9.5]}\n",
      "grade_list:  []\n",
      "before leaving report grade, by_subject is {'Gym': [11], 'Math': [10.5, 9.5]}\n",
      "entering report_grade of student: Bob, subject: Physics, score: 12.0\n",
      "by_subject:  {'Gym': [11], 'Math': [10.5, 9.5]}\n",
      "grade_list:  []\n",
      "before leaving report grade, by_subject is {'Gym': [11], 'Physics': [12], 'Math': [10.5, 9.5]}\n",
      "10.75\n"
     ]
    }
   ],
   "source": [
    "book = BySubjectGradebook()\n",
    "book.add_student('Albert Einstein')\n",
    "book.report_grade('Albert Einstein', 'Math', 7.5)\n",
    "book.report_grade('Albert Einstein', 'Math', 10)\n",
    "book.report_grade('Albert Einstein', 'Gym', 15)\n",
    "book.report_grade('Albert Einstein', 'Physics', 9)\n",
    "print(\"%.2f\" % book.average_grade('Albert Einstein'))\n",
    "book.add_student('Bob')\n",
    "book.report_grade('Bob', 'Math', 10.5)\n",
    "book.report_grade('Bob', 'Math', 9.5)\n",
    "book.report_grade('Bob', 'Gym', 11)\n",
    "book.report_grade('Bob', 'Physics', 12)\n",
    "print(\"%.2f\" % book.average_grade('Bob'))\n"
   ]
  },
  {
   "cell_type": "markdown",
   "metadata": {},
   "source": [
    "### Now we want to also record the weight of each grade (quizz, homework, test, exam...)"
   ]
  },
  {
   "cell_type": "code",
   "execution_count": 58,
   "metadata": {
    "collapsed": false
   },
   "outputs": [],
   "source": [
    "class WeightedGradebook(object):\n",
    "    \n",
    "    def __init__(self):\n",
    "        self._grades = {}\n",
    "    \n",
    "    def add_student(self, name):\n",
    "        self._grades[name] = {}\n",
    "    \n",
    "    def report_grade(self, name, subject, score, weight):\n",
    "        by_subject = self._grades[name]\n",
    "        grade_list = by_subject.setdefault(subject, [])\n",
    "        grade_list.append((score, weight))\n",
    "        \n",
    "    def average_grade(self, name):\n",
    "        by_subject = self._grades[name]\n",
    "        score_sum, score_count = 0, 0\n",
    "        for subject, scores in by_subject.items():\n",
    "            subject_avg, total_weight = 0, 0\n",
    "            for score, weight in scores:\n",
    "                total_weight += weight\n",
    "                subject_avg = weight * score\n",
    "            score_sum += subject_avg\n",
    "            score_count += total_weight\n",
    "        return score_sum / score_count"
   ]
  },
  {
   "cell_type": "code",
   "execution_count": 59,
   "metadata": {
    "collapsed": false
   },
   "outputs": [
    {
     "name": "stdout",
     "output_type": "stream",
     "text": [
      "80.0\n"
     ]
    }
   ],
   "source": [
    "book = WeightedGradebook()\n",
    "book.add_student('Albert Einstein')\n",
    "book.report_grade('Albert Einstein', 'Math', 80, 0.10)\n",
    "print(book.average_grade('Albert Einstein'))"
   ]
  },
  {
   "cell_type": "markdown",
   "metadata": {},
   "source": [
    "**the level of complexity increases ! We have to manage a tuple inside a dictionary !**"
   ]
  },
  {
   "cell_type": "markdown",
   "metadata": {},
   "source": [
    "### Refactoring to class"
   ]
  },
  {
   "cell_type": "code",
   "execution_count": 60,
   "metadata": {
    "collapsed": true
   },
   "outputs": [],
   "source": [
    "import collections"
   ]
  },
  {
   "cell_type": "code",
   "execution_count": 61,
   "metadata": {
    "collapsed": true
   },
   "outputs": [],
   "source": [
    "Grade = collections.namedtuple('Grade', ('score','weight'))"
   ]
  },
  {
   "cell_type": "code",
   "execution_count": 79,
   "metadata": {
    "collapsed": true
   },
   "outputs": [],
   "source": [
    "class Subject(object):\n",
    "    '''\n",
    "    This class represent a single subject that contains a set of grades\n",
    "    '''\n",
    "    \n",
    "    def __init__(self):\n",
    "        self._grades = []\n",
    "        \n",
    "    def report_grade(self, score, weight):\n",
    "        self._grades.append(Grade(score=score, weight=weight))\n",
    "    \n",
    "    def average_grade(self):\n",
    "        total, total_weight = 0, 0\n",
    "        for grade in self._grades:\n",
    "            total += grade.score * grade.weight\n",
    "            total_weight += grade.weight\n",
    "        return total/total_weight"
   ]
  },
  {
   "cell_type": "code",
   "execution_count": 80,
   "metadata": {
    "collapsed": true
   },
   "outputs": [],
   "source": [
    "class Student(object):\n",
    "    '''\n",
    "    class represent a set of subjects that are being studied by a single student\n",
    "    '''\n",
    "    \n",
    "    def __init__(self):\n",
    "        self._subjects = {}\n",
    "        \n",
    "    def subject(self, name):\n",
    "        if name not in self._subjects:\n",
    "            self._subjects[name] = Subject()\n",
    "        return self._subjects[name]\n",
    "    \n",
    "    def average_grade(self):\n",
    "        total, count = 0, 0\n",
    "        for subject in self._subjects.values():\n",
    "            total += subject.average_grade()\n",
    "            count += 1\n",
    "        return total / count"
   ]
  },
  {
   "cell_type": "code",
   "execution_count": 81,
   "metadata": {
    "collapsed": true
   },
   "outputs": [],
   "source": [
    "class Gradebook(object):\n",
    "    '''\n",
    "    container for all of the students keyed dynamically by their names\n",
    "    '''\n",
    "    def __init__(self):\n",
    "        self._students = {}\n",
    "        \n",
    "    def student(self, name):\n",
    "        if name not in self._students:\n",
    "            self._students[name] = Student()\n",
    "        return self._students[name]"
   ]
  },
  {
   "cell_type": "code",
   "execution_count": 82,
   "metadata": {
    "collapsed": true
   },
   "outputs": [],
   "source": [
    "book = Gradebook()"
   ]
  },
  {
   "cell_type": "code",
   "execution_count": 83,
   "metadata": {
    "collapsed": true
   },
   "outputs": [],
   "source": [
    "albert = book.student('Albert Einstein')"
   ]
  },
  {
   "cell_type": "code",
   "execution_count": 84,
   "metadata": {
    "collapsed": true
   },
   "outputs": [],
   "source": [
    "math = albert.subject('Math')"
   ]
  },
  {
   "cell_type": "code",
   "execution_count": 85,
   "metadata": {
    "collapsed": true
   },
   "outputs": [],
   "source": [
    "math.report_grade(80, 0.10)"
   ]
  },
  {
   "cell_type": "code",
   "execution_count": 86,
   "metadata": {
    "collapsed": false
   },
   "outputs": [
    {
     "name": "stdout",
     "output_type": "stream",
     "text": [
      "80.0\n"
     ]
    }
   ],
   "source": [
    "print(albert.average_grade())"
   ]
  },
  {
   "cell_type": "code",
   "execution_count": null,
   "metadata": {
    "collapsed": true
   },
   "outputs": [],
   "source": []
  }
 ],
 "metadata": {
  "kernelspec": {
   "display_name": "Python 3",
   "language": "python",
   "name": "python3"
  },
  "language_info": {
   "codemirror_mode": {
    "name": "ipython",
    "version": 3
   },
   "file_extension": ".py",
   "mimetype": "text/x-python",
   "name": "python",
   "nbconvert_exporter": "python",
   "pygments_lexer": "ipython3",
   "version": "3.4.3"
  }
 },
 "nbformat": 4,
 "nbformat_minor": 0
}
