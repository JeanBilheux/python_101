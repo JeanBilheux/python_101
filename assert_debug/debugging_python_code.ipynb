{
 "cells": [
  {
   "cell_type": "markdown",
   "metadata": {
    "collapsed": true
   },
   "source": [
    "Tutorial found [here](http://howchoo.com/g/zgi2y2iwyze/debugging-your-python-code)"
   ]
  },
  {
   "cell_type": "markdown",
   "metadata": {},
   "source": [
    "Once the debugging mode is on, we can do\n",
    "    * 'n'  for next line\n",
    "    * 'c'  to the end or next break point\n",
    "    * 'p'  to get the value of arguments live\n",
    "    * 's'  to step inside a function\n",
    "    * 'b'  to add a breakpoint on the fly"
   ]
  },
  {
   "cell_type": "markdown",
   "metadata": {},
   "source": [
    "```\n",
    "['debugger.py', '1', '2']\n",
    "> /Users/someuser/debugger.py(15)main()\n",
    "-> addition = add(sys.argv[1], sys.argv[2])\n",
    "(Pdb)\n",
    "```"
   ]
  },
  {
   "cell_type": "markdown",
   "metadata": {},
   "source": [
    "Here we specify the line where to put the breakpoint after starting the debugging mode"
   ]
  },
  {
   "cell_type": "markdown",
   "metadata": {},
   "source": [
    "```\n",
    "-> addition = add(sys.argv[1], sys.argv[2])\n",
    "(Pdb) b 18\n",
    "Breakpoint 1 at /Users/someuser/debugger.py:18\n",
    "(Pdb) c\n",
    "We are in add--\n",
    "3\n",
    "> /Users/someuser/debugger.py(18)main()\n",
    "-> print subtraction\n",
    "(Pdb) p subtraction\n",
    "-1\n",
    "(Pdb)\n",
    "```"
   ]
  },
  {
   "cell_type": "markdown",
   "metadata": {},
   "source": [
    "    * 'l' in case we get lost\n",
    "    * 'w' where"
   ]
  },
  {
   "cell_type": "markdown",
   "metadata": {},
   "source": [
    "```\n",
    "['debugger.py', '1', '2']\n",
    "> /Users/someuser/debugger.py(15)main()\n",
    "-> addition = add(sys.argv[1], sys.argv[2])\n",
    "(Pdb) l\n",
    " 10\n",
    " 11     def main():\n",
    " 12         #Assuming our inputs are valid numbers\n",
    " 13         print sys.argv\n",
    " 14         pdb.set_trace() # <-- Break point added here\n",
    " 15  ->     addition = add(sys.argv[1], sys.argv[2])\n",
    " 16         print addition\n",
    " 17         subtraction = sub(sys.argv[1], sys.argv[2])\n",
    " 18         print subtraction\n",
    " ```"
   ]
  },
  {
   "cell_type": "markdown",
   "metadata": {},
   "source": [
    "    * Assign variables on the fly"
   ]
  },
  {
   "cell_type": "markdown",
   "metadata": {},
   "source": [
    "Noticed that if the variables are 'n', 'p'... (pdb commands), we must use a '!' in front"
   ]
  },
  {
   "cell_type": "markdown",
   "metadata": {},
   "source": [
    "```\n",
    "(Pdb) !n=5\n",
    "(Pdb) p n\n",
    "5\n",
    "```"
   ]
  },
  {
   "cell_type": "markdown",
   "metadata": {},
   "source": [
    "    * 'q' to quit"
   ]
  },
  {
   "cell_type": "markdown",
   "metadata": {},
   "source": [
    "The official doc can be found [here](https://docs.python.org/2/library/pdb.html)"
   ]
  },
  {
   "cell_type": "markdown",
   "metadata": {},
   "source": [
    "To run pdb from the console directly"
   ]
  },
  {
   "cell_type": "markdown",
   "metadata": {},
   "source": [
    "```\n",
    ">>> import pdb\n",
    ">>> import mymodule\n",
    ">>> pdb.run('mymodule.test()')\n",
    "> <string>(0)?()\n",
    "(Pdb) continue\n",
    "> <string>(1)?()\n",
    "(Pdb) continue\n",
    "NameError: 'spam'\n",
    "> <string>(1)?()\n",
    "(Pdb)\n",
    "```"
   ]
  },
  {
   "cell_type": "markdown",
   "metadata": {},
   "source": [
    "    * 'cl' to clear breakpoints\n",
    "    * 'disable' to disable list of breakpoints"
   ]
  },
  {
   "cell_type": "code",
   "execution_count": null,
   "metadata": {
    "collapsed": true
   },
   "outputs": [],
   "source": []
  }
 ],
 "metadata": {
  "kernelspec": {
   "display_name": "Python 3",
   "language": "python",
   "name": "python3"
  },
  "language_info": {
   "codemirror_mode": {
    "name": "ipython",
    "version": 3
   },
   "file_extension": ".py",
   "mimetype": "text/x-python",
   "name": "python",
   "nbconvert_exporter": "python",
   "pygments_lexer": "ipython3",
   "version": "3.4.4"
  }
 },
 "nbformat": 4,
 "nbformat_minor": 0
}
