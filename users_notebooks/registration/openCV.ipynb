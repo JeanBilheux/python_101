{
 "cells": [
  {
   "cell_type": "code",
   "execution_count": 1,
   "metadata": {
    "collapsed": true
   },
   "outputs": [],
   "source": [
    "import cv2"
   ]
  },
  {
   "cell_type": "code",
   "execution_count": 2,
   "metadata": {
    "collapsed": true
   },
   "outputs": [],
   "source": [
    "import os\n",
    "import numpy as np"
   ]
  },
  {
   "cell_type": "code",
   "execution_count": 4,
   "metadata": {
    "collapsed": false
   },
   "outputs": [],
   "source": [
    "import matplotlib as plt\n",
    "%matplotlib notebook"
   ]
  },
  {
   "cell_type": "code",
   "execution_count": 12,
   "metadata": {
    "collapsed": false
   },
   "outputs": [],
   "source": [
    "from IPython.html import widgets\n",
    "from IPython.display import display"
   ]
  },
  {
   "cell_type": "markdown",
   "metadata": {},
   "source": [
    "### Select working folder"
   ]
  },
  {
   "cell_type": "code",
   "execution_count": 5,
   "metadata": {
    "collapsed": true
   },
   "outputs": [],
   "source": [
    "%gui qt"
   ]
  },
  {
   "cell_type": "code",
   "execution_count": 6,
   "metadata": {
    "collapsed": true
   },
   "outputs": [],
   "source": [
    "try:\n",
    "    from PySide import QtCore, QtGui\n",
    "except ImportError:\n",
    "    from PyQt4 import QtCore, QtGui\n",
    "\n",
    "def gui_fname(dir=None, message=None):\n",
    "    \"\"\"Select a directory\n",
    "    \"\"\"\n",
    "    if dir is None: dir ='../'\n",
    "    if message is None: message = 'Select Folder ...'\n",
    "    dir_name = QtGui.QFileDialog.getExistingDirectory(None, message,\n",
    "                                                      dir,\n",
    "                                                      QtGui.QFileDialog.ShowDirsOnly)\n",
    "    return dir_name"
   ]
  },
  {
   "cell_type": "code",
   "execution_count": 7,
   "metadata": {
    "collapsed": true
   },
   "outputs": [],
   "source": [
    "%gui qt\n",
    "data_folder = gui_fname()\n",
    "%matplotlib inline"
   ]
  },
  {
   "cell_type": "code",
   "execution_count": 8,
   "metadata": {
    "collapsed": false
   },
   "outputs": [
    {
     "name": "stdout",
     "output_type": "stream",
     "text": [
      "You have selected the following folder:  /Users/j35/Desktop/Registration_sample/Cropped_RawData\n"
     ]
    }
   ],
   "source": [
    "print(\"You have selected the following folder: \", data_folder)"
   ]
  },
  {
   "cell_type": "code",
   "execution_count": 9,
   "metadata": {
    "collapsed": false
   },
   "outputs": [
    {
     "name": "stdout",
     "output_type": "stream",
     "text": [
      "Folder contains 959 files.\n"
     ]
    }
   ],
   "source": [
    "list_of_files = [name for name in os.listdir(data_folder) if os.path.isfile(os.path.join(data_folder, name))]\n",
    "number_of_files = len(list_of_files)\n",
    "print('Folder contains %d files.' %number_of_files)"
   ]
  },
  {
   "cell_type": "markdown",
   "metadata": {},
   "source": [
    "### Load the data "
   ]
  },
  {
   "cell_type": "code",
   "execution_count": 28,
   "metadata": {
    "collapsed": false
   },
   "outputs": [],
   "source": [
    "w = widgets.IntProgress()\n",
    "w.max = (number_of_files-1)\n",
    "display(w)\n",
    "index = 0\n",
    "\n",
    "raw_images = []\n",
    "for file in list_of_files:\n",
    "    _file = os.path.join(data_folder, file)\n",
    "    _image = cv2.imread(_file, cv2.IMREAD_ANYDEPTH)\n",
    "    raw_images.append(_image)\n",
    "    w.value = index\n",
    "    index += 1"
   ]
  },
  {
   "cell_type": "code",
   "execution_count": 37,
   "metadata": {
    "collapsed": false
   },
   "outputs": [
    {
     "data": {
      "text/plain": [
       "959"
      ]
     },
     "execution_count": 37,
     "metadata": {},
     "output_type": "execute_result"
    }
   ],
   "source": [
    "len(raw_images)"
   ]
  },
  {
   "cell_type": "markdown",
   "metadata": {},
   "source": [
    "### Setting the parameters"
   ]
  },
  {
   "cell_type": "code",
   "execution_count": 39,
   "metadata": {
    "collapsed": false
   },
   "outputs": [
    {
     "name": "stdout",
     "output_type": "stream",
     "text": [
      "(246, 132)\n"
     ]
    }
   ],
   "source": [
    "sz = raw_images[0].shape\n",
    "print(sz)"
   ]
  },
  {
   "cell_type": "markdown",
   "metadata": {},
   "source": [
    "Define the motion model"
   ]
  },
  {
   "cell_type": "code",
   "execution_count": 40,
   "metadata": {
    "collapsed": true
   },
   "outputs": [],
   "source": [
    "warp_mode = cv2.MOTION_TRANSLATION"
   ]
  },
  {
   "cell_type": "markdown",
   "metadata": {},
   "source": [
    "Specify the number of iterations"
   ]
  },
  {
   "cell_type": "code",
   "execution_count": 42,
   "metadata": {
    "collapsed": true
   },
   "outputs": [],
   "source": [
    "number_of_iterations = 5000"
   ]
  },
  {
   "cell_type": "markdown",
   "metadata": {},
   "source": [
    "Specify the threshold of the increment in the correlation coefficient between two iterations"
   ]
  },
  {
   "cell_type": "code",
   "execution_count": 43,
   "metadata": {
    "collapsed": true
   },
   "outputs": [],
   "source": [
    "termination_eps = 1e-10"
   ]
  },
  {
   "cell_type": "markdown",
   "metadata": {},
   "source": [
    "Define termination criteria"
   ]
  },
  {
   "cell_type": "code",
   "execution_count": 44,
   "metadata": {
    "collapsed": true
   },
   "outputs": [],
   "source": [
    "criteria = (cv2.TERM_CRITERIA_EPS | cv2.TERM_CRITERIA_COUNT, number_of_iterations, termination_eps)"
   ]
  },
  {
   "cell_type": "markdown",
   "metadata": {},
   "source": [
    "### Looping over all the images"
   ]
  },
  {
   "cell_type": "code",
   "execution_count": 45,
   "metadata": {
    "collapsed": true
   },
   "outputs": [],
   "source": [
    "w = widgets.IntProgress()\n",
    "w.max = (number_of_files-2)\n",
    "display(w)\n",
    "index = 0\n",
    "\n",
    "im0 = raw_images[0]\n",
    "aligned_images = []\n",
    "aligned_images.append(im0)\n",
    "\n",
    "for index in range(1, len(raw_images)):\n",
    "\n",
    "    imx = raw_images[index]\n",
    "    \n",
    "    #Define 2x3 matrix and initialize the matrix identity\n",
    "    warp_matrix = np.eye(2, 3, dtype=np.float32) \n",
    "    \n",
    "    #Run the ECC algorithm. Result is stored in warp_matrix\n",
    "    (cc, warp_matrix) = cv2.findTransformECC(im0, imx, warp_matrix, warp_mode, criteria)\n",
    "    \n",
    "    # use warpAffine for translation, Euclidian and Affine\n",
    "    imx_aligned = cv2.warpAffine(imx, warp_matrix, (sz[1], sz[0]), flags=cv2.INTER_LINEAR + cv2.WARP_INVERSE_MAP)\n",
    "    aligned_images.append(imx_aligned)\n",
    "    \n",
    "    w.value = index"
   ]
  },
  {
   "cell_type": "markdown",
   "metadata": {},
   "source": [
    "### Export aligned images"
   ]
  },
  {
   "cell_type": "code",
   "execution_count": 48,
   "metadata": {
    "collapsed": true
   },
   "outputs": [],
   "source": [
    "from PIL import Image"
   ]
  },
  {
   "cell_type": "code",
   "execution_count": 46,
   "metadata": {
    "collapsed": true
   },
   "outputs": [],
   "source": [
    "%gui qt\n",
    "output_folder = gui_fname()\n",
    "%matplotlib inline"
   ]
  },
  {
   "cell_type": "code",
   "execution_count": 49,
   "metadata": {
    "collapsed": false
   },
   "outputs": [],
   "source": [
    "w2 = widgets.IntProgress()\n",
    "w2.max = (number_of_files-2)\n",
    "display(w2)\n",
    "index = 0\n",
    "\n",
    "for index in range(0, number_of_files):\n",
    "    output_filename = os.path.join(output_folder, list_of_files[index])\n",
    "    _im = aligned_images[index]\n",
    "    _new_im = Image.fromarray(np.float32(_im))\n",
    "    _new_im.save(output_filename)\n",
    "    w2.value = index"
   ]
  },
  {
   "cell_type": "code",
   "execution_count": null,
   "metadata": {
    "collapsed": true
   },
   "outputs": [],
   "source": []
  }
 ],
 "metadata": {
  "kernelspec": {
   "display_name": "Python 3",
   "language": "python",
   "name": "python3"
  },
  "language_info": {
   "codemirror_mode": {
    "name": "ipython",
    "version": 3
   },
   "file_extension": ".py",
   "mimetype": "text/x-python",
   "name": "python",
   "nbconvert_exporter": "python",
   "pygments_lexer": "ipython3",
   "version": "3.4.4"
  }
 },
 "nbformat": 4,
 "nbformat_minor": 0
}
