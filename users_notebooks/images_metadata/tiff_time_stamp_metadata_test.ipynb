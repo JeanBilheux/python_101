{
 "cells": [
  {
   "cell_type": "code",
   "execution_count": 127,
   "metadata": {
    "collapsed": true
   },
   "outputs": [],
   "source": [
    "from PIL import Image\n",
    "import datetime\n",
    "import os\n",
    "\n",
    "import decimal"
   ]
  },
  {
   "cell_type": "code",
   "execution_count": 179,
   "metadata": {
    "run_control": {
     "frozen": false,
     "read_only": false
    }
   },
   "outputs": [],
   "source": [
    "class MetadataHandler(object):\n",
    "\n",
    "    @staticmethod\n",
    "    def get_time_stamp(file_name='', ext='tif'):\n",
    "\n",
    "        if ext == 'tif':\n",
    "            try:\n",
    "                o_image = Image.open(file_name)\n",
    "                o_dict = dict(o_image.tag_v2)\n",
    "                time_stamp = o_dict[65002] + o_dict[65003] * 1e-9\n",
    "                time_stamp = MetadataHandler._convert_epics_timestamp_to_rfc3339_timestamp(time_stamp)\n",
    "\n",
    "            except:\n",
    "                time_stamp = os.path.getctime(file_name)\n",
    "        elif ext == 'fits':\n",
    "            time_stamp = os.path.getctime(file_name)\n",
    "\n",
    "        else:\n",
    "            raise NotImplemented\n",
    "\n",
    "        return time_stamp\n",
    "\n",
    "    @staticmethod\n",
    "    def convert_to_human_readable_format(timestamp):\n",
    "        \"\"\"Convert the unix time stamp into a human readable time format\n",
    "\n",
    "        Format return will look like  \"2018-01-29 10:30:25\"\n",
    "        \"\"\"\n",
    "        return datetime.datetime.fromtimestamp(timestamp).strftime(\"%Y-%m-%d %H:%M:%S\")\n",
    "\n",
    "    @staticmethod\n",
    "    def _convert_epics_timestamp_to_rfc3339_timestamp(epics_timestamp):\n",
    "        # TIFF files from CG1D have EPICS timestamps.  From the Controls\n",
    "        # Wiki:\n",
    "        #\n",
    "        # > EPICS timestamp. The timestamp is made when the image is read\n",
    "        # > out from the camera. Format is seconds.nanoseconds since Jan 1st\n",
    "        # > 00:00 1990.\n",
    "\n",
    "        # Convert seconds since \"EPICS epoch\" to seconds since the \"UNIX\n",
    "        # epoch\" so that Python can understand it.  I got the offset by\n",
    "        # calculating the number of seconds between the two epochs at\n",
    "        # https://www.epochconverter.com/\n",
    "        EPOCH_OFFSET = 631152000\n",
    "        unix_epoch_timestamp = EPOCH_OFFSET + epics_timestamp\n",
    "\n",
    "        return unix_epoch_timestamp"
   ]
  },
  {
   "cell_type": "code",
   "execution_count": 180,
   "metadata": {},
   "outputs": [],
   "source": [
    "import glob\n",
    "list_files = glob.glob('/Volumes/my_book_thunderbolt_duo/IPTS/IPTS-21115/test/*.tiff')"
   ]
  },
  {
   "cell_type": "code",
   "execution_count": 181,
   "metadata": {},
   "outputs": [],
   "source": [
    "list_time_stamp = []\n",
    "for _index, _file in enumerate(list_files):\n",
    "    _time_stamp = MetadataHandler.get_time_stamp(file_name=_file, ext='tif')\n",
    "    # _time_stamp = self._convert_epics_timestamp_to_rfc3339_timestamp(_time_stamp)\n",
    "    list_time_stamp.append(_time_stamp)\n",
    "\n",
    "list_relative_time_offset = []\n",
    "for _index in np.arange(1, len(list_files)):\n",
    "    _offset = list_time_stamp[_index] - list_time_stamp[_index-1]\n",
    "    list_relative_time_offset.append(_offset)\n",
    "    "
   ]
  },
  {
   "cell_type": "code",
   "execution_count": 182,
   "metadata": {},
   "outputs": [
    {
     "data": {
      "text/plain": [
       "[1532609660.077958,\n",
       " 1532609660.1101246,\n",
       " 1532609660.137714,\n",
       " 1532609660.1683102,\n",
       " 1532609660.1980076,\n",
       " 1532609660.22847]"
      ]
     },
     "execution_count": 182,
     "metadata": {},
     "output_type": "execute_result"
    }
   ],
   "source": [
    "list_time_stamp[19:25]"
   ]
  },
  {
   "cell_type": "code",
   "execution_count": 183,
   "metadata": {},
   "outputs": [
    {
     "data": {
      "text/plain": [
       "[0.032166481018066406,\n",
       " 0.02758932113647461,\n",
       " 0.030596256256103516,\n",
       " 0.029697418212890625,\n",
       " 0.03046250343322754,\n",
       " 0.02954697608947754]"
      ]
     },
     "execution_count": 183,
     "metadata": {},
     "output_type": "execute_result"
    }
   ],
   "source": [
    "list_relative_time_offset[19:25]"
   ]
  },
  {
   "cell_type": "code",
   "execution_count": 184,
   "metadata": {},
   "outputs": [
    {
     "data": {
      "text/plain": [
       "['/Volumes/my_book_thunderbolt_duo/IPTS/IPTS-21115/test/20180726_test_0000_0019.tiff',\n",
       " '/Volumes/my_book_thunderbolt_duo/IPTS/IPTS-21115/test/20180726_test_0000_0020.tiff',\n",
       " '/Volumes/my_book_thunderbolt_duo/IPTS/IPTS-21115/test/20180726_test_0000_0021.tiff',\n",
       " '/Volumes/my_book_thunderbolt_duo/IPTS/IPTS-21115/test/20180726_test_0000_0022.tiff',\n",
       " '/Volumes/my_book_thunderbolt_duo/IPTS/IPTS-21115/test/20180726_test_0000_0023.tiff',\n",
       " '/Volumes/my_book_thunderbolt_duo/IPTS/IPTS-21115/test/20180726_test_0000_0024.tiff']"
      ]
     },
     "execution_count": 184,
     "metadata": {},
     "output_type": "execute_result"
    }
   ],
   "source": [
    "list_files[19:25]"
   ]
  },
  {
   "cell_type": "code",
   "execution_count": 171,
   "metadata": {},
   "outputs": [
    {
     "name": "stdout",
     "output_type": "stream",
     "text": [
      "/Volumes/my_book_thunderbolt_duo/IPTS/IPTS-21115/test/20180726_test_0000_0020.tiff\n",
      "time_stamp_ns: 110124529\n",
      "time_stamp_string: 901457660.110124529\n",
      "float(time_stamp_string): \n",
      "901457660.1101246\n",
      "Decimal(time_stamp_string:) \n",
      "901457660.110124529\n"
     ]
    }
   ],
   "source": [
    "_file = list_files[20]\n",
    "\n",
    "print(_file)\n",
    "o_image = Image.open(_file)\n",
    "o_dict = dict(o_image.tag_v2)\n",
    "time_stamp_s = repr(o_dict[65002])\n",
    "time_stamp_ns = repr(o_dict[65003])\n",
    "print(\"time_stamp_ns: \" + time_stamp_ns)\n",
    "\n",
    "time_stamp_string = time_stamp_s + \".\" + time_stamp_ns\n",
    "print(\"time_stamp_string: \" + time_stamp_string)\n",
    "\n",
    "print(\"float(time_stamp_string): \")\n",
    "print(float(time_stamp_string))\n",
    "print(\"Decimal(time_stamp_string:) \")\n",
    "print(Decimal(time_stamp_string))\n"
   ]
  },
  {
   "cell_type": "code",
   "execution_count": 76,
   "metadata": {},
   "outputs": [],
   "source": [
    "#dict(o_image.tag_v2)"
   ]
  },
  {
   "cell_type": "code",
   "execution_count": 118,
   "metadata": {},
   "outputs": [
    {
     "name": "stdout",
     "output_type": "stream",
     "text": [
      "901458101.3218701\n"
     ]
    }
   ],
   "source": [
    "a=901458101.321870069\n",
    "print(np.float(str(a)))"
   ]
  },
  {
   "cell_type": "code",
   "execution_count": 120,
   "metadata": {},
   "outputs": [
    {
     "data": {
      "text/plain": [
       "Decimal('901458101.3218701')"
      ]
     },
     "execution_count": 120,
     "metadata": {},
     "output_type": "execute_result"
    }
   ],
   "source": [
    "Decimal(str(a))"
   ]
  },
  {
   "cell_type": "code",
   "execution_count": 123,
   "metadata": {},
   "outputs": [
    {
     "data": {
      "text/plain": [
       "901458101.3218701"
      ]
     },
     "execution_count": 123,
     "metadata": {},
     "output_type": "execute_result"
    }
   ],
   "source": [
    "float(time_stamp_s + '.' + time_stamp_ns)"
   ]
  },
  {
   "cell_type": "code",
   "execution_count": 124,
   "metadata": {},
   "outputs": [
    {
     "data": {
      "text/plain": [
       "Decimal('901458101.321870069')"
      ]
     },
     "execution_count": 124,
     "metadata": {},
     "output_type": "execute_result"
    }
   ],
   "source": [
    "Decimal(time_stamp_s + '.' + time_stamp_ns)"
   ]
  },
  {
   "cell_type": "code",
   "execution_count": 126,
   "metadata": {},
   "outputs": [
    {
     "name": "stdout",
     "output_type": "stream",
     "text": [
      "901458101.3218701\n",
      "901458101.321870069\n"
     ]
    }
   ],
   "source": [
    "part1 = 901458101\n",
    "part2 = 321870069\n",
    "\n",
    "# str and float\n",
    "full_str = str(part1) + '.' + str(part2)\n",
    "print(float(full_str))\n",
    "\n",
    "# repr and Decimal\n",
    "full_str_2 = repr(part1) + '.' + repr(part2)\n",
    "print(Decimal(full_str_2))"
   ]
  },
  {
   "cell_type": "code",
   "execution_count": 172,
   "metadata": {},
   "outputs": [
    {
     "data": {
      "text/plain": [
       "30393067"
      ]
     },
     "execution_count": 172,
     "metadata": {},
     "output_type": "execute_result"
    }
   ],
   "source": [
    "time1 = 77958169\n",
    "time0 = 47565102\n",
    "\n",
    "time1-time0\n"
   ]
  },
  {
   "cell_type": "code",
   "execution_count": null,
   "metadata": {
    "collapsed": true
   },
   "outputs": [],
   "source": [
    "30ms"
   ]
  }
 ],
 "metadata": {
  "kernelspec": {
   "display_name": "Python 3",
   "language": "python",
   "name": "python3"
  },
  "language_info": {
   "codemirror_mode": {
    "name": "ipython",
    "version": 3
   },
   "file_extension": ".py",
   "mimetype": "text/x-python",
   "name": "python",
   "nbconvert_exporter": "python",
   "pygments_lexer": "ipython3",
   "version": "3.6.3"
  },
  "toc": {
   "colors": {
    "hover_highlight": "#DAA520",
    "running_highlight": "#FF0000",
    "selected_highlight": "#FFD700"
   },
   "moveMenuLeft": true,
   "nav_menu": {
    "height": "12px",
    "width": "252px"
   },
   "navigate_menu": true,
   "number_sections": true,
   "sideBar": true,
   "threshold": 4,
   "toc_cell": false,
   "toc_section_display": "block",
   "toc_window_display": false
  }
 },
 "nbformat": 4,
 "nbformat_minor": 2
}
