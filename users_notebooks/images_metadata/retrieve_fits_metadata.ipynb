{
 "cells": [
  {
   "cell_type": "code",
   "execution_count": 9,
   "metadata": {
    "collapsed": true
   },
   "outputs": [],
   "source": [
    "import pyfits\n",
    "import os\n",
    "import pprint"
   ]
  },
  {
   "cell_type": "markdown",
   "metadata": {},
   "source": [
    "### new file format"
   ]
  },
  {
   "cell_type": "code",
   "execution_count": 10,
   "metadata": {
    "collapsed": true
   },
   "outputs": [],
   "source": [
    "filename = 'data.fits'\n",
    "assert os.path.isfile(filename)"
   ]
  },
  {
   "cell_type": "code",
   "execution_count": 11,
   "metadata": {
    "collapsed": false
   },
   "outputs": [
    {
     "data": {
      "text/plain": [
       "SIMPLE  =                    T / file does conform to FITS standard             \n",
       "BITPIX  =                   16 / number of bits per data pixel                  \n",
       "NAXIS   =                    2 / number of data axes                            \n",
       "NAXIS1  =                 2048 / length of data axis 1                          \n",
       "NAXIS2  =                 2048 / length of data axis 2                          \n",
       "EXTEND  =                    T / FITS dataset may contain extensions            \n",
       "COMMENT   FITS (Flexible Image Transport System) format is defined in 'Astronomy\n",
       "COMMENT   and Astrophysics', volume 376, page 359; bibcode: 2001A&A...376..359H \n",
       "BZERO   =                32768 / offset data range to that of unsigned short    \n",
       "BSCALE  =                    1 / default scaling factor                         \n",
       "HEAD    = 'DW936_BV'           / Head model                                     \n",
       "ACQMODE = 'Single Scan'        / Acquisition mode                               \n",
       "READMODE= 'Image   '           / Readout mode                                   \n",
       "IMGRECT = '1, 2048, 2048, 1'   / Image format                                   \n",
       "HBIN    =                    1 / Horizontal binning                             \n",
       "VBIN    =                    1 / Vertical binning                               \n",
       "SUBRECT = '1, 2048, 2048, 1'   / Subimage format                                \n",
       "DATATYPE= 'Counts  '           / Data type                                      \n",
       "XTYPE   = 'Pixel number'       / Calibration type                               \n",
       "XUNIT   =                    0 / Calibration units                              \n",
       "TRIGGER = 'Internal'           / Trigger mode                                   \n",
       "CALIB   = '0,1,0,0 '           / Calibration                                    \n",
       "DLLVER  = '2.93.30007.0'       / Software Version                               \n",
       "EXPOSURE=                  40. / Total Exposure Time                            \n",
       "TEMP    =                 -60. / Temperature                                    \n",
       "READTIME=              1.0E-06 / Pixel readout time                             \n",
       "OPERATN =                    4 / Type of system                                 \n",
       "GAIN    =                    0 / Gain                                           \n",
       "EMREALGN=                    0 / EM Real Gain                                   \n",
       "VCLKAMP =                    0 / Vertical Clock Amplitude                       \n",
       "VSHIFT  =            7.695E-05 / Vertical Shift Speed                           \n",
       "PREAMP  =                   1. / Pre Amplifier Gain                             \n",
       "SERNO   =                 9201 / Serial Number                                  \n",
       "UNSTTEMP=                -999. / Unstabilized Temperature                       \n",
       "BLCLAMP =                    F / Baseline Clamp                                 \n",
       "PRECAN  =                    0 / Prescans                                       \n",
       "FLIPX   =                    0 / Horizontally Flipped                           \n",
       "FLIPY   =                    0 / Vertically Flipped                             \n",
       "CNTCVTMD=                    0 / Count Convert Mode                             \n",
       "CNTCVT  =                    0 / Count Convert                                  \n",
       "DTNWLGTH=                 500. / Detection Wavelength                           \n",
       "SNTVTY  =                   0. / Sensitivity                                    \n",
       "SPSNFLTR=                    0 / Spurious Noise Filter Mode                     \n",
       "THRSHLD =                   0. / Threshold                                      \n",
       "PCNTENLD=                    0 / Photon Counting Enabled                        \n",
       "NSETHSLD=                    0 / Number of Photon Counting Thresholds           \n",
       "PTNTHLD1=                   0. / Photon Counting Threshold 1                    \n",
       "PTNTHLD2=                   0. / Photon Counting Threshold 2                    \n",
       "PTNTHLD3=                   0. / Photon Counting Threshold 3                    \n",
       "PTNTHLD4=                   0. / Photon Counting Threshold 4                    \n",
       "AVGFTRMD=                    0 / Averaging Filter Mode                          \n",
       "AVGFCTR =                    1 / Averaging factor                               \n",
       "FRMCNT  =                    1 / Frame Count                                    \n",
       "USERTXT1= '        '           / User text                                      \n",
       "USERTXT2= '        '           / User text                                      \n",
       "USERTXT3= '        '           / User text                                      \n",
       "USERTXT4= '        '           / User text                                      \n",
       "DATE    = '2015-06-18T10:28:15' / file creation date (YYYY-MM-DDThh:mm:ss)      \n",
       "FRAME   = '2015-06-18T10:28:15.000' / Start of Frame Exposure                   \n",
       "ESHTMODE=                    0 / Electronic Shuttering Mode                     "
      ]
     },
     "execution_count": 11,
     "metadata": {},
     "output_type": "execute_result"
    }
   ],
   "source": [
    "hdu_list = pyfits.open(filename)\n",
    "hdu_0 = hdu_list[0]\n",
    "hdu_0.header"
   ]
  },
  {
   "cell_type": "code",
   "execution_count": 13,
   "metadata": {
    "collapsed": false
   },
   "outputs": [
    {
     "data": {
      "text/plain": [
       "40.0"
      ]
     },
     "execution_count": 13,
     "metadata": {},
     "output_type": "execute_result"
    }
   ],
   "source": [
    "hdu_0.header['EXPOSURE']"
   ]
  },
  {
   "cell_type": "code",
   "execution_count": 8,
   "metadata": {
    "collapsed": false
   },
   "outputs": [
    {
     "name": "stdout",
     "output_type": "stream",
     "text": [
      "Filename: data.fits\n",
      "No.    Name         Type      Cards   Dimensions   Format\n",
      "0    PRIMARY     PrimaryHDU      12   (512, 512)   int16   \n"
     ]
    }
   ],
   "source": [
    "hdu_list.info()"
   ]
  },
  {
   "cell_type": "markdown",
   "metadata": {},
   "source": [
    "### old file format "
   ]
  },
  {
   "cell_type": "code",
   "execution_count": 14,
   "metadata": {
    "collapsed": true
   },
   "outputs": [],
   "source": [
    "filename = 'old_data_format.fits'\n",
    "assert os.path.isfile(filename)"
   ]
  },
  {
   "cell_type": "code",
   "execution_count": 15,
   "metadata": {
    "collapsed": false
   },
   "outputs": [
    {
     "data": {
      "text/plain": [
       "SIMPLE  =                    T / file does conform to FITS standard             \n",
       "BITPIX  =                   16 / number of bits per data pixel                  \n",
       "NAXIS   =                    2 / number of data axes                            \n",
       "NAXIS1  =                  512 / length of data axis 1                          \n",
       "NAXIS2  =                  512 / length of data axis 2                          \n",
       "EXTEND  =                    T / FITS dataset may contain extensions            \n",
       "COMMENT   FITS (Flexible Image Transport System) format is defined in 'Astronomy\n",
       "COMMENT   and Astrophysics', volume 376, page 359; bibcode: 2001A&A...376..359H \n",
       "TOF     =           0.00013408 / Ttime of flight from the external trigger      \n",
       "TIMEBIN =           1.024E-005 / Time width of this image                       \n",
       "N_COUNTS=                10373 / Total counts in this image                     \n",
       "N_TRIGS =               141286 / Number of triggers acquired                    "
      ]
     },
     "execution_count": 15,
     "metadata": {},
     "output_type": "execute_result"
    }
   ],
   "source": [
    "hdu_list = pyfits.open(filename)\n",
    "hdu_0 = hdu_list[0]\n",
    "hdu_0.header"
   ]
  },
  {
   "cell_type": "code",
   "execution_count": 17,
   "metadata": {
    "collapsed": true
   },
   "outputs": [],
   "source": [
    "import time"
   ]
  },
  {
   "cell_type": "code",
   "execution_count": 20,
   "metadata": {
    "collapsed": false
   },
   "outputs": [
    {
     "data": {
      "text/plain": [
       "'Wed Apr  8 13:44:23 2015'"
      ]
     },
     "execution_count": 20,
     "metadata": {},
     "output_type": "execute_result"
    }
   ],
   "source": [
    "time.ctime(os.path.getmtime(filename))"
   ]
  },
  {
   "cell_type": "code",
   "execution_count": null,
   "metadata": {
    "collapsed": true
   },
   "outputs": [],
   "source": []
  }
 ],
 "metadata": {
  "kernelspec": {
   "display_name": "Python 2",
   "language": "python",
   "name": "python2"
  },
  "language_info": {
   "codemirror_mode": {
    "name": "ipython",
    "version": 2
   },
   "file_extension": ".py",
   "mimetype": "text/x-python",
   "name": "python",
   "nbconvert_exporter": "python",
   "pygments_lexer": "ipython2",
   "version": "2.7.12"
  }
 },
 "nbformat": 4,
 "nbformat_minor": 0
}
