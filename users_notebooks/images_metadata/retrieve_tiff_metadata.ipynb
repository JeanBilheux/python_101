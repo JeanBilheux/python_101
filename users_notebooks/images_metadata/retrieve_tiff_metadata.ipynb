{
 "cells": [
  {
   "cell_type": "code",
   "execution_count": 14,
   "metadata": {
    "collapsed": false,
    "run_control": {
     "frozen": false,
     "read_only": false
    }
   },
   "outputs": [],
   "source": [
    "import os\n",
    "import numpy as np"
   ]
  },
  {
   "cell_type": "code",
   "execution_count": 8,
   "metadata": {
    "collapsed": false,
    "run_control": {
     "frozen": false,
     "read_only": false
    }
   },
   "outputs": [],
   "source": [
    "file = 'data.tiff'\n",
    "assert os.path.isfile(file)"
   ]
  },
  {
   "cell_type": "code",
   "execution_count": 9,
   "metadata": {
    "collapsed": false,
    "run_control": {
     "frozen": false,
     "read_only": false
    }
   },
   "outputs": [],
   "source": [
    "from PIL import Image\n",
    "from PIL.ExifTags import TAGS"
   ]
  },
  {
   "cell_type": "code",
   "execution_count": 15,
   "metadata": {
    "collapsed": false,
    "run_control": {
     "frozen": false,
     "read_only": false
    }
   },
   "outputs": [
    {
     "name": "stdout",
     "output_type": "stream",
     "text": [
      "<class 'numpy.ndarray'>\n"
     ]
    }
   ],
   "source": [
    "image = Image.open(file)\n",
    "data = np.array(image)\n",
    "print(type(data))"
   ]
  },
  {
   "cell_type": "code",
   "execution_count": 16,
   "metadata": {
    "collapsed": false,
    "run_control": {
     "frozen": false,
     "read_only": false
    }
   },
   "outputs": [
    {
     "name": "stdout",
     "output_type": "stream",
     "text": [
      "<class 'PIL.TiffImagePlugin.TiffImageFile'>\n"
     ]
    }
   ],
   "source": [
    "print(type(i))"
   ]
  },
  {
   "cell_type": "code",
   "execution_count": 17,
   "metadata": {
    "collapsed": false,
    "run_control": {
     "frozen": false,
     "read_only": false
    }
   },
   "outputs": [],
   "source": [
    "i = Image.open(file)\n",
    "info = i.tag.tags\n",
    "for tag, value in info.items():\n",
    "    decoded = TAGS.get(tag, tag)\n",
    "    print(\"%s = %s\"%(decoded, value))"
   ]
  },
  {
   "cell_type": "code",
   "execution_count": 18,
   "metadata": {
    "collapsed": false,
    "run_control": {
     "frozen": false,
     "read_only": false
    }
   },
   "outputs": [],
   "source": [
    "metadata = i.tag_v2.as_dict()"
   ]
  },
  {
   "cell_type": "code",
   "execution_count": 19,
   "metadata": {
    "collapsed": false,
    "run_control": {
     "frozen": false,
     "read_only": false
    }
   },
   "outputs": [
    {
     "name": "stdout",
     "output_type": "stream",
     "text": [
      "{256: 2350,\n",
      " 257: 2160,\n",
      " 258: (16,),\n",
      " 259: 1,\n",
      " 262: 1,\n",
      " 271: 'Unknown',\n",
      " 272: 'Unknown',\n",
      " 273: (8,),\n",
      " 277: 1,\n",
      " 278: 2160,\n",
      " 279: (10152000,),\n",
      " 284: 1,\n",
      " 305: 'EPICS areaDetector',\n",
      " 339: (1,),\n",
      " 65000: (1474426062.175999,),\n",
      " 65001: (199,),\n",
      " 65002: (843274062,),\n",
      " 65003: (176053657,),\n",
      " 65010: ('FileNameStr:CO-11-uptake',),\n",
      " 65011: ('InstrumentStr:CG1D',),\n",
      " 65012: ('IPTS:17255',),\n",
      " 65013: ('ITEMS:-1',),\n",
      " 65014: ('SampleDescStr:OB_Ti64Blocks',),\n",
      " 65015: ('NotesStr:step_size_0.23_aperture_size_8.2mm',),\n",
      " 65016: ('DataSetStr:3D',),\n",
      " 65017: ('DataAcqModeStr:White Beam',),\n",
      " 65018: ('DataTypeStr:OB',),\n",
      " 65019: ('ModelStr:DG-152X-C1E-FI',),\n",
      " 65020: ('ManufacturerStr:Andor',),\n",
      " 65021: ('ExposureTime:0.010000',),\n",
      " 65022: ('ExposurePeriod:0.010000',),\n",
      " 65023: ('NumExposures:1',),\n",
      " 65024: ('NumImages:500',),\n",
      " 65025: ('ImageCounter:199',),\n",
      " 65026: ('MinX:1',),\n",
      " 65027: ('MinY:1',),\n",
      " 65028: ('SizeX:2350',),\n",
      " 65029: ('SizeY:2160',),\n",
      " 65030: ('Temperature:0.000000',),\n",
      " 65031: ('TemperatureActual:-0.440000',),\n",
      " 65032: ('MotScanDeviceStr:Small Rot',),\n",
      " 65033: ('RotationActual:0.000132',),\n",
      " 65034: ('MotLiftTable.RBV:126.521174',),\n",
      " 65035: ('MotLiftTable:126.400000',),\n",
      " 65036: ('MotShortAxis.RBV:82.011000',),\n",
      " 65037: ('MotShortAxis:82.000000',),\n",
      " 65038: ('MotLongAxis.RBV:354.977000',),\n",
      " 65039: ('MotLongAxis:355.000000',),\n",
      " 65040: ('MotRotTable.RBV:270.157500',),\n",
      " 65041: ('MotRotTable:270.157500',),\n",
      " 65042: ('MotSmallRotTable.RBV:0.000132',),\n",
      " 65043: ('MotSmallRotTable:0.000000',),\n",
      " 65044: ('MotZaberRot.RBV:359.997640',),\n",
      " 65045: ('MotZaberRot:359.999751',),\n",
      " 65046: ('MotDetTable.RBV:542.000000',),\n",
      " 65047: ('MotDetTable:542.000000',),\n",
      " 65048: ('MotCameraVert.RBV:-51.699796',),\n",
      " 65049: ('MotCameraVert:-51.699796',),\n",
      " 65050: ('MotHoriTrans.RBV:28.000000',),\n",
      " 65051: ('MotHoriTrans:28.000000',),\n",
      " 65052: ('MotVertTrans.RBV:60.000000',),\n",
      " 65053: ('MotVertTrans:60.000000',),\n",
      " 65054: ('MotDiffuser.RBV:86.300000',),\n",
      " 65055: ('MotDiffuser:86.300000',),\n",
      " 65056: ('MotAperture.RBV:254.300000',),\n",
      " 65057: ('MotAperture:254.300000',),\n",
      " 65058: ('MotSlitVB.RBV:18.000000',),\n",
      " 65059: ('MotSlitVB:18.000000',),\n",
      " 65060: ('MotSlitVT.RBV:18.000000',),\n",
      " 65061: ('MotSlitVT:18.000000',),\n",
      " 65062: ('MotSlitHR.RBV:15.000000',),\n",
      " 65063: ('MotSlitHR:15.000000',),\n",
      " 65064: ('MotSlitHL.RBV:18.000000',),\n",
      " 65065: ('MotSlitHL:18.000000',),\n",
      " 65066: ('AndorCMOSFrameRate:100.000000',),\n",
      " 65067: ('AndorCMOSPreAmpGain:2',),\n",
      " 65068: ('AndorCMOSBinning:0',),\n",
      " 65069: ('AndorCMOSReadoutRate:3',),\n",
      " 65070: ('AndorCMOSShutterMode:0',),\n",
      " 65071: ('AndorCMOSSerialStr:VSC-00990',),\n",
      " 65072: ('AndorCMOSFirmareStr:12.10.23.0',),\n",
      " 65073: ('AndorCMOSSoftwareStr:3.9.30003.0',),\n",
      " 65074: ('AndorCMOSControllerStr:3',),\n",
      " 65075: ('AndorCMOSTempStatus:1',),\n",
      " 65076: ('AndorCMOSSensorCooling:1',),\n",
      " 65077: ('AndorCMOSFanSpeed:1',),\n",
      " 65078: ('IntegrationMode:No Integration',)}\n"
     ]
    }
   ],
   "source": [
    "import pprint\n",
    "pprint.pprint(metadata)"
   ]
  },
  {
   "cell_type": "code",
   "execution_count": 24,
   "metadata": {
    "collapsed": false,
    "run_control": {
     "frozen": false,
     "read_only": false
    }
   },
   "outputs": [
    {
     "name": "stdout",
     "output_type": "stream",
     "text": [
      "0.010000\n",
      "ExposureTime\n"
     ]
    }
   ],
   "source": [
    "[name, acquisition_duration] = metadata[65021][0].split(':')\n",
    "print(acquisition_duration)\n",
    "print(name)"
   ]
  },
  {
   "cell_type": "code",
   "execution_count": 105,
   "metadata": {
    "collapsed": false,
    "run_control": {
     "frozen": false,
     "read_only": false
    }
   },
   "outputs": [
    {
     "data": {
      "text/plain": [
       "tuple"
      ]
     },
     "execution_count": 105,
     "metadata": {},
     "output_type": "execute_result"
    }
   ],
   "source": [
    "acquisition_time = metadata[65000]\n",
    "type(acquisition_time)"
   ]
  },
  {
   "cell_type": "code",
   "execution_count": 106,
   "metadata": {
    "collapsed": false,
    "run_control": {
     "frozen": false,
     "read_only": false
    }
   },
   "outputs": [
    {
     "data": {
      "text/plain": [
       "1474426062.175999"
      ]
     },
     "execution_count": 106,
     "metadata": {},
     "output_type": "execute_result"
    }
   ],
   "source": [
    "acquisition_time[0]"
   ]
  },
  {
   "cell_type": "code",
   "execution_count": 107,
   "metadata": {
    "collapsed": false,
    "run_control": {
     "frozen": false,
     "read_only": false
    }
   },
   "outputs": [],
   "source": [
    "import time"
   ]
  },
  {
   "cell_type": "code",
   "execution_count": 112,
   "metadata": {
    "collapsed": false,
    "run_control": {
     "frozen": false,
     "read_only": false
    }
   },
   "outputs": [
    {
     "data": {
      "text/plain": [
       "'Tue Sep 20 22:47:42 2016'"
      ]
     },
     "execution_count": 112,
     "metadata": {},
     "output_type": "execute_result"
    }
   ],
   "source": [
    "time.ctime(acquisition_time[0])"
   ]
  },
  {
   "cell_type": "code",
   "execution_count": 115,
   "metadata": {
    "collapsed": false,
    "run_control": {
     "frozen": false,
     "read_only": false
    }
   },
   "outputs": [],
   "source": [
    "import datetime"
   ]
  },
  {
   "cell_type": "markdown",
   "metadata": {
    "run_control": {
     "frozen": false,
     "read_only": false
    }
   },
   "source": [
    "check if changing the values after the digit change the time "
   ]
  },
  {
   "cell_type": "code",
   "execution_count": 128,
   "metadata": {
    "collapsed": false,
    "run_control": {
     "frozen": false,
     "read_only": false
    }
   },
   "outputs": [],
   "source": [
    "time1 = 1474426062.175999\n",
    "time2 = 1474426062.500000"
   ]
  },
  {
   "cell_type": "code",
   "execution_count": 130,
   "metadata": {
    "collapsed": false,
    "run_control": {
     "frozen": false,
     "read_only": false
    }
   },
   "outputs": [
    {
     "name": "stdout",
     "output_type": "stream",
     "text": [
      "Tue Sep 20 22:47:42 2016\n",
      "Tue Sep 20 22:47:42 2016\n"
     ]
    }
   ],
   "source": [
    "print(time.ctime(time1))\n",
    "print(time.ctime(time2))"
   ]
  },
  {
   "cell_type": "code",
   "execution_count": null,
   "metadata": {
    "collapsed": false,
    "run_control": {
     "frozen": false,
     "read_only": false
    }
   },
   "outputs": [],
   "source": []
  }
 ],
 "metadata": {
  "anaconda-cloud": {},
  "kernelspec": {
   "display_name": "Python [default]",
   "language": "python",
   "name": "python3"
  },
  "language_info": {
   "codemirror_mode": {
    "name": "ipython",
    "version": 3
   },
   "file_extension": ".py",
   "mimetype": "text/x-python",
   "name": "python",
   "nbconvert_exporter": "python",
   "pygments_lexer": "ipython3",
   "version": "3.5.3"
  },
  "toc": {
   "colors": {
    "hover_highlight": "#DAA520",
    "running_highlight": "#FF0000",
    "selected_highlight": "#FFD700"
   },
   "moveMenuLeft": true,
   "nav_menu": {
    "height": "12px",
    "width": "252px"
   },
   "navigate_menu": true,
   "number_sections": true,
   "sideBar": true,
   "threshold": 4,
   "toc_cell": false,
   "toc_section_display": "block",
   "toc_window_display": false
  }
 },
 "nbformat": 4,
 "nbformat_minor": 0
}
