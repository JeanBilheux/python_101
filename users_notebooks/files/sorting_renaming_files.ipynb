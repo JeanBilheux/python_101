{
 "cells": [
  {
   "cell_type": "code",
   "execution_count": 1,
   "metadata": {
    "collapsed": true
   },
   "outputs": [],
   "source": [
    "%matplotlib inline"
   ]
  },
  {
   "cell_type": "code",
   "execution_count": 2,
   "metadata": {
    "collapsed": true
   },
   "outputs": [],
   "source": [
    "import os\n",
    "import numpy as np\n",
    "import glob"
   ]
  },
  {
   "cell_type": "code",
   "execution_count": 3,
   "metadata": {
    "collapsed": true
   },
   "outputs": [],
   "source": [
    "import matplotlib.pyplot as plt\n",
    "#%matplotlib notebook"
   ]
  },
  {
   "cell_type": "code",
   "execution_count": 4,
   "metadata": {
    "collapsed": false
   },
   "outputs": [
    {
     "name": "stderr",
     "output_type": "stream",
     "text": [
      "/Users/j35/anaconda/lib/python3.4/site-packages/IPython/html.py:14: ShimWarning: The `IPython.html` package has been deprecated. You should import from `notebook` instead. `IPython.html.widgets` has moved to `ipywidgets`.\n",
      "  \"`IPython.html.widgets` has moved to `ipywidgets`.\", ShimWarning)\n"
     ]
    }
   ],
   "source": [
    "from IPython.html import widgets\n",
    "from IPython.html.widgets import interact\n",
    "from IPython.display import display"
   ]
  },
  {
   "cell_type": "code",
   "execution_count": 5,
   "metadata": {
    "collapsed": true
   },
   "outputs": [],
   "source": [
    "from PyQt4 import QtGui"
   ]
  },
  {
   "cell_type": "code",
   "execution_count": 6,
   "metadata": {
    "collapsed": true
   },
   "outputs": [],
   "source": [
    "import pyfits\n",
    "import shutil"
   ]
  },
  {
   "cell_type": "markdown",
   "metadata": {},
   "source": [
    "## Select the working folder"
   ]
  },
  {
   "cell_type": "code",
   "execution_count": 7,
   "metadata": {
    "collapsed": true
   },
   "outputs": [],
   "source": [
    "%gui qt"
   ]
  },
  {
   "cell_type": "code",
   "execution_count": 8,
   "metadata": {
    "collapsed": true
   },
   "outputs": [],
   "source": [
    "try:\n",
    "    from PySide import QtCore, QtGui\n",
    "except ImportError:\n",
    "    from PyQt4 import QtCore, QtGui\n",
    "\n",
    "def gui_fname(dir=None, message=None):\n",
    "    \"\"\"Select a directory\n",
    "    \"\"\"\n",
    "    if dir is None: dir ='../'\n",
    "    if message is None: message = 'Select Folder ...'\n",
    "    dir_name = QtGui.QFileDialog.getExistingDirectory(None, message,\n",
    "                                                      dir,\n",
    "                                                      QtGui.QFileDialog.ShowDirsOnly)\n",
    "    return dir_name"
   ]
  },
  {
   "cell_type": "code",
   "execution_count": 9,
   "metadata": {
    "collapsed": true
   },
   "outputs": [],
   "source": [
    "%gui qt\n",
    "data_folder = gui_fname()\n",
    "%matplotlib inline"
   ]
  },
  {
   "cell_type": "code",
   "execution_count": null,
   "metadata": {
    "collapsed": false
   },
   "outputs": [],
   "source": [
    "# remove hidden file .DS_Store \n",
    "ds_file = os.path.join(data_folder, \".DS_Store\")\n",
    "try:\n",
    "    os.remove(ds_file)\n",
    "except:\n",
    "    pass"
   ]
  },
  {
   "cell_type": "code",
   "execution_count": null,
   "metadata": {
    "collapsed": false
   },
   "outputs": [],
   "source": [
    "list_of_files = [name for name in os.listdir(data_folder) if os.path.isfile(os.path.join(data_folder, name))]\n",
    "number_of_files = len(list_of_files)\n",
    "print('Folder contains %d files.' %number_of_files)"
   ]
  },
  {
   "cell_type": "markdown",
   "metadata": {},
   "source": [
    "### check that files have been loaded in the right order"
   ]
  },
  {
   "cell_type": "code",
   "execution_count": null,
   "metadata": {
    "collapsed": false
   },
   "outputs": [],
   "source": [
    "from pprint import pprint\n",
    "pprint(list_of_files)"
   ]
  },
  {
   "cell_type": "markdown",
   "metadata": {},
   "source": [
    "#### !!! wrong! files are in the wrong ordre !!!!"
   ]
  },
  {
   "cell_type": "markdown",
   "metadata": {},
   "source": [
    "## Sort files (accroding to the last digits of their name)"
   ]
  },
  {
   "cell_type": "markdown",
   "metadata": {},
   "source": [
    "#### files should be sorted as following\n",
    "1. Lid_spr_1.fits\n",
    "2. Lid_spr_10.fits\n",
    "3. Lid_spr_11.fits\n",
    "4. Lid_spr_20.fits\n",
    "5. Lid_spr_100.fits\n",
    "\n",
    "to do so, we need to write a method that will correctly format the last digits of the name as following\n",
    "\n",
    "1. Lid_spr_0001.fits\n",
    "2. Lid_spr_0010.fits\n",
    "3. Lid_spr_0011.fits\n",
    "4. Lid_spr_0100.fits"
   ]
  },
  {
   "cell_type": "code",
   "execution_count": null,
   "metadata": {
    "collapsed": true
   },
   "outputs": [],
   "source": [
    "def format_filename(filename):\n",
    "    base, ext = os.path.splitext(filename)\n",
    "    filename_split = base.split('_')\n",
    "    index = filename_split[-1]\n",
    "    index_formatted = \"%.4d\" % int(index)\n",
    "    filename_split[-1] = index_formatted\n",
    "    new_filename = \"_\".join(filename_split)\n",
    "    return new_filename + ext\n",
    "\n",
    "## try\n",
    "#filename = list_of_files[0]\n",
    "#print(format_filename(filename))"
   ]
  },
  {
   "cell_type": "code",
   "execution_count": null,
   "metadata": {
    "collapsed": false
   },
   "outputs": [],
   "source": [
    "list_of_files_reformatted = []\n",
    "for file in list_of_files:\n",
    "    new_file_name = format_filename(file)\n",
    "    list_of_files_reformatted.append(new_file_name)"
   ]
  },
  {
   "cell_type": "code",
   "execution_count": null,
   "metadata": {
    "collapsed": false
   },
   "outputs": [],
   "source": [
    "pprint(list_of_files_reformatted)"
   ]
  },
  {
   "cell_type": "markdown",
   "metadata": {},
   "source": [
    "## Renaming the files"
   ]
  },
  {
   "cell_type": "markdown",
   "metadata": {},
   "source": [
    "#### Select where to mv the new renamed files"
   ]
  },
  {
   "cell_type": "code",
   "execution_count": 10,
   "metadata": {
    "collapsed": true
   },
   "outputs": [],
   "source": [
    "%gui qt\n",
    "renamed_folder = gui_fname(dir=data_folder)\n",
    "%matplotlib inline"
   ]
  },
  {
   "cell_type": "code",
   "execution_count": null,
   "metadata": {
    "collapsed": false
   },
   "outputs": [],
   "source": [
    "pbar = widgets.IntProgress()\n",
    "pbar.max = len(list_of_files)\n",
    "display(pbar)\n",
    "\n",
    "for index, file in enumerate(list_of_files):\n",
    "    old_full_file_name = data_folder + '/' + file\n",
    "    new_file = list_of_files_reformatted[index]\n",
    "    new_full_file_name = renamed_folder + '/' + new_file\n",
    "#    print(\"%s -> %s\" %(old_full_file_name, new_full_file_name))\n",
    "    shutil.copyfile(old_full_file_name, new_full_file_name)\n",
    "    pbar.value = index\n"
   ]
  },
  {
   "cell_type": "markdown",
   "metadata": {},
   "source": [
    "## Loading the data in the right order this time"
   ]
  },
  {
   "cell_type": "code",
   "execution_count": 11,
   "metadata": {
    "collapsed": true
   },
   "outputs": [],
   "source": [
    "list_of_files_sorted = glob.glob(renamed_folder + '/*.fits')\n",
    "## pprint(list_of_files_sorted)"
   ]
  },
  {
   "cell_type": "code",
   "execution_count": 12,
   "metadata": {
    "collapsed": false
   },
   "outputs": [],
   "source": [
    "pbar = widgets.IntProgress()\n",
    "pbar.max = len(list_of_files_sorted)\n",
    "display(pbar)\n",
    "\n",
    "list_images = []\n",
    "for index, file in enumerate(list_of_files_sorted):\n",
    "    o_fits = pyfits.open(file)\n",
    "    o_fits_0 = o_fits[0]\n",
    "    list_images.append(o_fits_0.data)\n",
    "    pbar.value = index\n",
    "    \n",
    "#print(len(list_images))"
   ]
  }
 ],
 "metadata": {
  "kernelspec": {
   "display_name": "Python 3",
   "language": "python",
   "name": "python3"
  },
  "language_info": {
   "codemirror_mode": {
    "name": "ipython",
    "version": 3
   },
   "file_extension": ".py",
   "mimetype": "text/x-python",
   "name": "python",
   "nbconvert_exporter": "python",
   "pygments_lexer": "ipython3",
   "version": "3.4.4"
  }
 },
 "nbformat": 4,
 "nbformat_minor": 0
}
