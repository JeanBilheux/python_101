{
 "cells": [
  {
   "cell_type": "markdown",
   "metadata": {},
   "source": [
    "### Import"
   ]
  },
  {
   "cell_type": "code",
   "execution_count": 51,
   "metadata": {
    "collapsed": false
   },
   "outputs": [],
   "source": [
    "%gui qt\n",
    "from PyQt4 import QtGui, QtCore\n",
    "from IPython.html import widgets\n",
    "from IPython.display import display\n",
    "\n",
    "import glob\n",
    "import os\n",
    "from shutil import copyfile, rmtree"
   ]
  },
  {
   "cell_type": "markdown",
   "metadata": {},
   "source": [
    "## Documentation "
   ]
  },
  {
   "cell_type": "markdown",
   "metadata": {},
   "source": [
    "This notebook will allow to **deal** to a given number of folders, a set of files.\n",
    "\n",
    "_examples:_\n",
    "\n",
    "**    number of folder = 2**\n",
    "  \n",
    "    file_001 -> folder_1\n",
    "    file_002 -> folder_2\n",
    "    file_003 -> folder_1\n",
    "    file_004 -> folder_2\n",
    "    ..\n",
    "    \n",
    "    \n",
    "**    number of folder = 3**\n",
    "\n",
    "    file_001 -> folder_1\n",
    "    file_002 -> folder_2\n",
    "    file_003 -> folder_3\n",
    "    file_004 -> folder_1\n",
    "    file_005 -> folder_2\n",
    "    file_006 -> folder_3\n",
    "    file_007 -> folder_1\n",
    "    ..\n",
    "    "
   ]
  },
  {
   "cell_type": "markdown",
   "metadata": {},
   "source": [
    "## select input folder"
   ]
  },
  {
   "cell_type": "code",
   "execution_count": 2,
   "metadata": {
    "collapsed": true
   },
   "outputs": [],
   "source": [
    "def gui_fname(dir=None):\n",
    "    \"\"\"Select a file via a dialog and returns the file name.\n",
    "    \"\"\"\n",
    "    if dir is None: dir ='./'\n",
    "    dir_name = QtGui.QFileDialog.getExistingDirectory(None, \"Select Folder ...\",\n",
    "                                                  dir,\n",
    "                                                  QtGui.QFileDialog.ShowDirsOnly)\n",
    "    return dir_name"
   ]
  },
  {
   "cell_type": "code",
   "execution_count": 6,
   "metadata": {
    "collapsed": true
   },
   "outputs": [],
   "source": [
    "%gui qt\n",
    "input_dname = gui_fname()"
   ]
  },
  {
   "cell_type": "markdown",
   "metadata": {},
   "source": [
    "## select top output folder "
   ]
  },
  {
   "cell_type": "code",
   "execution_count": 7,
   "metadata": {
    "collapsed": true
   },
   "outputs": [],
   "source": [
    "%gui qt\n",
    "output_dname = gui_fname()"
   ]
  },
  {
   "cell_type": "markdown",
   "metadata": {},
   "source": [
    "## select number of output folder"
   ]
  },
  {
   "cell_type": "code",
   "execution_count": 14,
   "metadata": {
    "collapsed": true
   },
   "outputs": [],
   "source": [
    "deal_coefficient_w = widgets.IntSlider(\n",
    "    value=2,\n",
    "    min=2,\n",
    "    max=10.0,\n",
    "    step=1,\n",
    "    description='Deal Coefficient:',\n",
    "    orientation='horizontal',\n",
    ")\n",
    "display(deal_coefficient_w)"
   ]
  },
  {
   "cell_type": "code",
   "execution_count": 46,
   "metadata": {
    "collapsed": false
   },
   "outputs": [],
   "source": [
    "deal_coefficient = deal_coefficient_w.value"
   ]
  },
  {
   "cell_type": "markdown",
   "metadata": {},
   "source": [
    "## Perform calculations "
   ]
  },
  {
   "cell_type": "code",
   "execution_count": 47,
   "metadata": {
    "collapsed": true
   },
   "outputs": [],
   "source": [
    "def create_log_file(folder = '', content = None):\n",
    "    if content is None:\n",
    "        return\n",
    "    \n",
    "    output_file_name = os.path.join(folder, 'log.txt')\n",
    "    f = open(output_file_name, 'w')\n",
    "    for _line in content:\n",
    "        f.write(_line + \"\\n\")\n",
    "        \n",
    "    f.close()\n",
    "    "
   ]
  },
  {
   "cell_type": "code",
   "execution_count": 52,
   "metadata": {
    "collapsed": false
   },
   "outputs": [],
   "source": [
    "# retrieve list of files to deal\n",
    "ext = ''\n",
    "\n",
    "list_of_files_fits = glob.glob(input_dname + '/*.fits')\n",
    "list_of_files_tif = glob.glob(input_dname + '/*.tif')\n",
    "\n",
    "list_of_files = []\n",
    "if len(list_of_files_fits) == len(list_of_files_tif):\n",
    "    raise ValueError(\"Can not figure out the input files you want to work on!\")\n",
    "elif len(list_of_files_fits) > len(list_of_files_tif):\n",
    "    list_of_files = list_of_files_fits\n",
    "    ext = '.fits'\n",
    "else:\n",
    "    list_of_files = list_of_files_tif\n",
    "    ext = '.tif'\n",
    "    \n",
    "# create output folders\n",
    "list_output_folder = []\n",
    "for index in range(deal_coefficient):    \n",
    "    _folder_name = \"folder_%.2d\" %index\n",
    "    list_output_folder.append(_folder_name)\n",
    "    \n",
    "for _folder in list_output_folder:\n",
    "    _full_folder_name = os.path.join(output_dname, _folder)\n",
    "    if os.path.isdir(_full_folder_name) and os.path.exists(_full_folder_name):\n",
    "        rmtree(_full_folder_name)\n",
    "    os.mkdir(_full_folder_name)\n",
    "\n",
    "# move files to right folders\n",
    "file_index = 0\n",
    "folder_index = 0\n",
    "\n",
    "log_renaming_table = ['#Renaming log']\n",
    "log_renaming_table.append('#Input Folder: %s' %input_dname)\n",
    "log_renaming_table.append('#Output Folder: %s' % output_dname)\n",
    "log_renaming_table.append('#Deal coeficient: %d' %deal_coefficient)\n",
    "log_renaming_table.append('#')\n",
    "log_renaming_table.append('#old_file_name \\tnew_folder_destination \\tnew_file_name')\n",
    "\n",
    "for _file in list_of_files:\n",
    "\n",
    "    #figure out the new name\n",
    "    _new_file_name = \"file_%.4d\" % file_index\n",
    "    _new_file_name += ext\n",
    "    _folder_name = list_output_folder[folder_index]\n",
    "    _new_full_file_name = os.path.join(output_dname, _folder_name, _new_file_name)\n",
    "    \n",
    "    #mv file to right folder\n",
    "    copyfile(_file, _new_full_file_name)\n",
    "    \n",
    "    _log = \"%s \\t%.2d \\t%s\" %(_file, folder_index, _new_file_name)\n",
    "    log_renaming_table.append(_log)\n",
    "    \n",
    "    folder_index += 1\n",
    "    if folder_index > (deal_coefficient-1):\n",
    "        folder_index = 0\n",
    "        file_index += 1\n",
    "\n",
    "# output log file\n",
    "create_log_file(folder = output_dname, content = log_renaming_table)\n",
    "        \n",
    "        "
   ]
  },
  {
   "cell_type": "code",
   "execution_count": null,
   "metadata": {
    "collapsed": true
   },
   "outputs": [],
   "source": []
  }
 ],
 "metadata": {
  "kernelspec": {
   "display_name": "Python 3",
   "language": "python",
   "name": "python3"
  },
  "language_info": {
   "codemirror_mode": {
    "name": "ipython",
    "version": 3
   },
   "file_extension": ".py",
   "mimetype": "text/x-python",
   "name": "python",
   "nbconvert_exporter": "python",
   "pygments_lexer": "ipython3",
   "version": "3.5.1"
  }
 },
 "nbformat": 4,
 "nbformat_minor": 0
}
