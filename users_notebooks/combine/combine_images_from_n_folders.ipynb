{
 "cells": [
  {
   "cell_type": "markdown",
   "metadata": {},
   "source": [
    "# Combine fits files with same name from n different folders "
   ]
  },
  {
   "cell_type": "markdown",
   "metadata": {},
   "source": [
    "#### Algorithms available\n",
    " * Add\n",
    " * Mean"
   ]
  },
  {
   "cell_type": "code",
   "execution_count": 1,
   "metadata": {
    "collapsed": false
   },
   "outputs": [
    {
     "name": "stderr",
     "output_type": "stream",
     "text": [
      "/Users/j35/anaconda/envs/py35/lib/python3.5/site-packages/IPython/html.py:14: ShimWarning: The `IPython.html` package has been deprecated. You should import from `notebook` instead. `IPython.html.widgets` has moved to `ipywidgets`.\n",
      "  \"`IPython.html.widgets` has moved to `ipywidgets`.\", ShimWarning)\n"
     ]
    }
   ],
   "source": [
    "import os\n",
    "\n",
    "from IPython.html import widgets\n",
    "from IPython.display import display\n",
    "\n",
    "import matplotlib.pyplot as plt\n",
    "\n",
    "import glob\n",
    "import pyfits\n",
    "\n",
    "import widgets_handler"
   ]
  },
  {
   "cell_type": "code",
   "execution_count": 2,
   "metadata": {
    "collapsed": true
   },
   "outputs": [],
   "source": [
    "root_folder =  \"/Volumes/"
   ]
  },
  {
   "cell_type": "markdown",
   "metadata": {},
   "source": [
    "### Select folder n"
   ]
  },
  {
   "cell_type": "markdown",
   "metadata": {},
   "source": [
    "#### Select all the folders to add... click CANCEL to let the program know you do not have any more folder to add "
   ]
  },
  {
   "cell_type": "code",
   "execution_count": 5,
   "metadata": {
    "collapsed": true
   },
   "outputs": [],
   "source": [
    "%gui qt"
   ]
  },
  {
   "cell_type": "code",
   "execution_count": 6,
   "metadata": {
    "collapsed": false
   },
   "outputs": [],
   "source": [
    "list_folders = []\n",
    "\n",
    "while(True):\n",
    "    folder_n = widgets_handler.gui_fname(dir = root_folder)\n",
    "    if folder_n is '':\n",
    "        break\n",
    "    list_folders.append(folder_n)\n",
    "%matplotlib inline"
   ]
  },
  {
   "cell_type": "markdown",
   "metadata": {},
   "source": [
    "### Check that all folders have the same number of images"
   ]
  },
  {
   "cell_type": "code",
   "execution_count": 7,
   "metadata": {
    "collapsed": false
   },
   "outputs": [],
   "source": [
    "number_of_files = []\n",
    "list_files_in_folders = []\n",
    "for _folder in list_folders:\n",
    "    list_fname = glob.glob(_folder + '/*.fits')\n",
    "    number_of_files.append(len(list_fname))\n",
    "    list_files_in_folders.append(list_fname)\n",
    "\n",
    "assert len(set(number_of_files)) == 1    "
   ]
  },
  {
   "cell_type": "markdown",
   "metadata": {},
   "source": [
    "## Loading the data "
   ]
  },
  {
   "cell_type": "code",
   "execution_count": 8,
   "metadata": {
    "collapsed": false
   },
   "outputs": [],
   "source": [
    "w = widgets.IntProgress()\n",
    "w.max = len(list_folders)-1\n",
    "display(w)\n",
    "\n",
    "index = 0\n",
    "data_folders = []\n",
    "\n",
    "for index_folder, list_folder in enumerate(list_files_in_folders):\n",
    "\n",
    "    _data_folder = []\n",
    "    for index_file, filename in enumerate(list_folder):\n",
    "        hdu_list = pyfits.open(filename)\n",
    "        hdu = hdu_list[0]\n",
    "        _data_folder.append(hdu.data)\n",
    "    \n",
    "    data_folders.append(_data_folder)\n",
    "    w.value = index_folder"
   ]
  },
  {
   "cell_type": "code",
   "execution_count": 9,
   "metadata": {
    "collapsed": false
   },
   "outputs": [
    {
     "data": {
      "text/plain": [
       "(3, 1485, 512, 512)"
      ]
     },
     "execution_count": 9,
     "metadata": {},
     "output_type": "execute_result"
    }
   ],
   "source": [
    "import numpy as np\n",
    "np.shape(data_folders)"
   ]
  },
  {
   "cell_type": "markdown",
   "metadata": {},
   "source": [
    "## Retrieving images index"
   ]
  },
  {
   "cell_type": "code",
   "execution_count": 10,
   "metadata": {
    "collapsed": false
   },
   "outputs": [],
   "source": [
    "def digit_file_name(full_file_name):\n",
    "    base_name = os.path.basename(full_file_name)\n",
    "    [short_name, ext] = base_name.split('.')\n",
    "    [image_name, image_sequence_number] = short_name.split('_')\n",
    "    image_name_split = image_name.split('Image')\n",
    "    image_number = image_name_split[1]\n",
    "    return [image_name, image_number, image_sequence_number]"
   ]
  },
  {
   "cell_type": "code",
   "execution_count": 11,
   "metadata": {
    "collapsed": false
   },
   "outputs": [],
   "source": [
    "list_image_numbers = []\n",
    "for index_folder, list_folder in enumerate(list_files_in_folders):\n",
    "    _first_image = list_folder[0]\n",
    "    [image_name, image_number, image_sequence_number] = digit_file_name(_first_image)\n",
    "    list_image_numbers.append(image_number)\n",
    "    \n",
    "list_image_sequence = []\n",
    "for index_file, _file in enumerate(list_files_in_folders[0]):\n",
    "    [image_name, image_number, image_sequence_number] = digit_file_name(_file)\n",
    "    list_image_sequence.append(image_sequence_number)\n",
    "    "
   ]
  },
  {
   "cell_type": "markdown",
   "metadata": {},
   "source": [
    "## Add data "
   ]
  },
  {
   "cell_type": "code",
   "execution_count": 12,
   "metadata": {
    "collapsed": false
   },
   "outputs": [],
   "source": [
    "w = widgets.IntProgress()\n",
    "number_of_files = len(data_folders[0])\n",
    "w.max = number_of_files -1\n",
    "display(w)\n",
    "\n",
    "sum_data = []\n",
    "sum_names = []\n",
    "for index_file in range(number_of_files):\n",
    "\n",
    "    _add_data = []\n",
    "    tmp_name = ''\n",
    "    for index_folder, folder_name in enumerate(list_files_in_folders):\n",
    "        _list_data = data_folders[index_folder]\n",
    "        _data = _list_data[index_file]\n",
    "        [image_name, image_number, image_seqence_number] = digit_file_name(folder_name[index_file])\n",
    "        if index_folder == 0:\n",
    "            _add_data = _data\n",
    "            _tmp_name = \"%.2d\" %int(image_number)\n",
    "        else:\n",
    "            _add_data += _data\n",
    "            _tmp_name += '_%.2d' %int(image_number)\n",
    "    \n",
    "    sum_data.append(_add_data)\n",
    "    sum_names.append(_tmp_name)\n",
    "    w.value = index_file"
   ]
  },
  {
   "cell_type": "markdown",
   "metadata": {},
   "source": [
    "## Exporting data "
   ]
  },
  {
   "cell_type": "code",
   "execution_count": 13,
   "metadata": {
    "collapsed": true
   },
   "outputs": [],
   "source": [
    "from PyQt4 import QtCore, QtGui\n",
    "\n",
    "def gui_fname(dir=None):\n",
    "    \"\"\"Select a folder\n",
    "    \"\"\"\n",
    "    if dir is None: dir ='./'\n",
    "    dir_name = QtGui.QFileDialog.getExistingDirectory(None, \"Select Folder ...\",\n",
    "                                                  dir,\n",
    "                                                  QtGui.QFileDialog.ShowDirsOnly)\n",
    "    return dir_name"
   ]
  },
  {
   "cell_type": "code",
   "execution_count": 14,
   "metadata": {
    "collapsed": true
   },
   "outputs": [],
   "source": [
    "%gui qt\n",
    "dir_name = gui_fname(dir = root_folder)\n",
    "%matplotlib inline"
   ]
  },
  {
   "cell_type": "code",
   "execution_count": 15,
   "metadata": {
    "collapsed": false
   },
   "outputs": [],
   "source": [
    "w = widgets.IntProgress()\n",
    "w.max = len(sum_data)-1\n",
    "display(w)\n",
    "\n",
    "for index in range(len(sum_data)):\n",
    "    \n",
    "    full_name = os.path.join(dir_name, sum_names[index] + '_' + list_image_sequence[index] + '.fits')\n",
    "\n",
    "    hdu = pyfits.PrimaryHDU(sum_data[index])\n",
    "    hdulist = pyfits.HDUList([hdu])\n",
    "    hdulist.writeto(full_name)\n",
    "    \n",
    "    w.value = index"
   ]
  },
  {
   "cell_type": "code",
   "execution_count": null,
   "metadata": {
    "collapsed": true
   },
   "outputs": [],
   "source": []
  }
 ],
 "metadata": {
  "anaconda-cloud": {},
  "kernelspec": {
   "display_name": "Python [default]",
   "language": "python",
   "name": "python3"
  },
  "language_info": {
   "codemirror_mode": {
    "name": "ipython",
    "version": 3
   },
   "file_extension": ".py",
   "mimetype": "text/x-python",
   "name": "python",
   "nbconvert_exporter": "python",
   "pygments_lexer": "ipython3",
   "version": "3.5.2"
  }
 },
 "nbformat": 4,
 "nbformat_minor": 0
}
