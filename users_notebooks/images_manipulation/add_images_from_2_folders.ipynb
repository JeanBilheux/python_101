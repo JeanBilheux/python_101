{
 "cells": [
  {
   "cell_type": "markdown",
   "metadata": {},
   "source": [
    "# Add fits files with same name from 2 different folders "
   ]
  },
  {
   "cell_type": "code",
   "execution_count": 58,
   "metadata": {
    "collapsed": false
   },
   "outputs": [],
   "source": [
    "import os\n",
    "\n",
    "from IPython.html import widgets\n",
    "from IPython.display import display\n",
    "\n",
    "import matplotlib.pyplot as plt\n",
    "\n",
    "import glob\n",
    "import pyfits"
   ]
  },
  {
   "cell_type": "code",
   "execution_count": 59,
   "metadata": {
    "collapsed": true
   },
   "outputs": [],
   "source": [
    "%gui qt"
   ]
  },
  {
   "cell_type": "code",
   "execution_count": 60,
   "metadata": {
    "collapsed": true
   },
   "outputs": [],
   "source": [
    "root_folder = '/Users/j35/Desktop/'"
   ]
  },
  {
   "cell_type": "code",
   "execution_count": 61,
   "metadata": {
    "collapsed": true
   },
   "outputs": [],
   "source": [
    "from PyQt4 import QtCore, QtGui\n",
    "\n",
    "def gui_fname(dir=None):\n",
    "    \"\"\"Select a file via a dialog and returns the file name.\n",
    "    \"\"\"\n",
    "    if dir is None: dir ='./'\n",
    "    dir_name = QtGui.QFileDialog.getExistingDirectory(None, \"Select Folder ...\",\n",
    "                                                  dir,\n",
    "                                                  QtGui.QFileDialog.ShowDirsOnly)\n",
    "    return dir_name"
   ]
  },
  {
   "cell_type": "markdown",
   "metadata": {},
   "source": [
    "### Select folder1 "
   ]
  },
  {
   "cell_type": "code",
   "execution_count": 62,
   "metadata": {
    "collapsed": true
   },
   "outputs": [],
   "source": [
    "%gui qt\n",
    "folder_1 = gui_fname(dir = root_folder)\n",
    "%matplotlib inline"
   ]
  },
  {
   "cell_type": "markdown",
   "metadata": {},
   "source": [
    "### Select folder2"
   ]
  },
  {
   "cell_type": "code",
   "execution_count": 63,
   "metadata": {
    "collapsed": true
   },
   "outputs": [],
   "source": [
    "%gui qt\n",
    "folder_2 = gui_fname(dir = root_folder)\n",
    "%matplotlib inline"
   ]
  },
  {
   "cell_type": "markdown",
   "metadata": {},
   "source": [
    "### Check input "
   ]
  },
  {
   "cell_type": "code",
   "execution_count": 64,
   "metadata": {
    "collapsed": false
   },
   "outputs": [],
   "source": [
    "list_fname_1 = glob.glob(folder_1 + '/*.fits')\n",
    "list_fname_2 = glob.glob(folder_2 + '/*.fits')\n",
    "assert len(list_fname_1) == len(list_fname_2)"
   ]
  },
  {
   "cell_type": "markdown",
   "metadata": {},
   "source": [
    "## loading the data "
   ]
  },
  {
   "cell_type": "code",
   "execution_count": 65,
   "metadata": {
    "collapsed": false
   },
   "outputs": [],
   "source": [
    "w = widgets.IntProgress()\n",
    "w.max = len(list_fname_1)-1\n",
    "display(w)\n",
    "\n",
    "index = 0\n",
    "data_folder_1 = []\n",
    "data_folder_2 = []\n",
    "for index in range(len(list_fname_1)):\n",
    "    hdu_list = pyfits.open(list_fname_1[index])\n",
    "    hdu = hdu_list[0]\n",
    "    data_folder_1.append(hdu.data)\n",
    "\n",
    "    hdu_list = pyfits.open(list_fname_2[index])\n",
    "    hud = hdu_list[0]\n",
    "    data_folder_2.append(hdu.data)\n",
    "    \n",
    "    w.value = index"
   ]
  },
  {
   "cell_type": "code",
   "execution_count": 66,
   "metadata": {
    "collapsed": false
   },
   "outputs": [],
   "source": [
    "def digit_file_name(full_file_name):\n",
    "    base_name = os.path.basename(full_file_name)\n",
    "    [short_name, ext] = base_name.split('.')\n",
    "    [image_name, image_number] = short_name.split('_')\n",
    "    return [image_name, image_number]"
   ]
  },
  {
   "cell_type": "code",
   "execution_count": 67,
   "metadata": {
    "collapsed": false
   },
   "outputs": [],
   "source": [
    "w = widgets.IntProgress()\n",
    "w.max = len(list_fname_1)-1\n",
    "display(w)\n",
    "\n",
    "sum_data = []\n",
    "sum_names = []\n",
    "for index in range(len(list_fname_1)):\n",
    "    \n",
    "    [image_name_1, image_number_1] = digit_file_name(list_fname_1[index])\n",
    "    [image_name_2, image_number_2] = digit_file_name(list_fname_2[index])\n",
    "    \n",
    "    #make sure that files to add have same name\n",
    "    if image_number_1 == image_number_2:\n",
    "        _new_data = data_folder_1[index] + data_folder_2[index]\n",
    "        sum_data.append(_new_data)\n",
    "        _new_name = image_name_1 + '_add_' + image_name_2 + '_' + image_number_1 + '.fits'\n",
    "        sum_names.append(_new_name)\n",
    "    else:\n",
    "        raise ValueError(\"Files to add do not have the same name!\")\n",
    "        \n",
    "    w.value = index    "
   ]
  },
  {
   "cell_type": "markdown",
   "metadata": {},
   "source": [
    "## Exporting data "
   ]
  },
  {
   "cell_type": "code",
   "execution_count": 68,
   "metadata": {
    "collapsed": true
   },
   "outputs": [],
   "source": [
    "from PyQt4 import QtCore, QtGui\n",
    "\n",
    "def gui_fname(dir=None):\n",
    "    \"\"\"Select a folder\n",
    "    \"\"\"\n",
    "    if dir is None: dir ='./'\n",
    "    dir_name = QtGui.QFileDialog.getExistingDirectory(None, \"Select Folder ...\",\n",
    "                                                  dir,\n",
    "                                                  QtGui.QFileDialog.ShowDirsOnly)\n",
    "    return dir_name"
   ]
  },
  {
   "cell_type": "code",
   "execution_count": 69,
   "metadata": {
    "collapsed": true
   },
   "outputs": [],
   "source": [
    "%gui qt\n",
    "dir_name = gui_fname(dir = root_folder)\n",
    "%matplotlib inline"
   ]
  },
  {
   "cell_type": "code",
   "execution_count": 70,
   "metadata": {
    "collapsed": false
   },
   "outputs": [],
   "source": [
    "w = widgets.IntProgress()\n",
    "w.max = len(list_fname_1)-1\n",
    "display(w)\n",
    "\n",
    "for index in range(len(list_fname_1)):\n",
    "    \n",
    "    full_name = os.path.join(dir_name, sum_names[index])\n",
    "    \n",
    "    hdu = pyfits.PrimaryHDU(sum_data[index])\n",
    "    hdulist = pyfits.HDUList([hdu])\n",
    "    hdulist.writeto(full_name)\n",
    "    \n",
    "    w.value = index"
   ]
  },
  {
   "cell_type": "code",
   "execution_count": null,
   "metadata": {
    "collapsed": true
   },
   "outputs": [],
   "source": []
  }
 ],
 "metadata": {
  "anaconda-cloud": {},
  "kernelspec": {
   "display_name": "Python [default]",
   "language": "python",
   "name": "python3"
  },
  "language_info": {
   "codemirror_mode": {
    "name": "ipython",
    "version": 3
   },
   "file_extension": ".py",
   "mimetype": "text/x-python",
   "name": "python",
   "nbconvert_exporter": "python",
   "pygments_lexer": "ipython3",
   "version": "3.5.2"
  }
 },
 "nbformat": 4,
 "nbformat_minor": 0
}
