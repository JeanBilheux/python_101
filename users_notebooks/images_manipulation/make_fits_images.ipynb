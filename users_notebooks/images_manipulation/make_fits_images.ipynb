{
 "cells": [
  {
   "cell_type": "markdown",
   "metadata": {},
   "source": [
    "In this notebook, we will create fake FITS images. Those can then be used to debug/test other programs/notebooks that work on those images"
   ]
  },
  {
   "cell_type": "code",
   "execution_count": 2,
   "metadata": {
    "collapsed": true
   },
   "outputs": [],
   "source": [
    "%matplotlib inline\n",
    "import matplotlib.pyplot as plt\n",
    "from IPython.display import display\n",
    "\n",
    "import pyfits\n",
    "from pprint import pprint\n",
    "\n",
    "from ipywidgets import widgets\n",
    "import numpy as np\n",
    "import glob\n",
    "\n",
    "import pprint"
   ]
  },
  {
   "cell_type": "code",
   "execution_count": 3,
   "metadata": {
    "collapsed": false
   },
   "outputs": [],
   "source": [
    "default_dir = '/Volumes/my_book_thunderbolt_duo/IPTS/FITSimages/'\n",
    "assert os.path.isdir(default_dir)"
   ]
  },
  {
   "cell_type": "markdown",
   "metadata": {},
   "source": [
    "Make arrays"
   ]
  },
  {
   "cell_type": "code",
   "execution_count": 4,
   "metadata": {
    "collapsed": true
   },
   "outputs": [],
   "source": [
    "size_width = 500\n",
    "size_height = 500\n",
    "nbr_array = 10"
   ]
  },
  {
   "cell_type": "code",
   "execution_count": 13,
   "metadata": {
    "collapsed": false
   },
   "outputs": [],
   "source": [
    "final_array = []\n",
    "for n in range(nbr_array):\n",
    "    _local_array = np.zeros((size_height, size_width))\n",
    "    _local_array[:, 100:200] = n+1\n",
    "    _local_array[0:10,:] = n+2\n",
    "    final_array.append(_local_array)\n"
   ]
  },
  {
   "cell_type": "markdown",
   "metadata": {},
   "source": [
    "Export arrays"
   ]
  },
  {
   "cell_type": "code",
   "execution_count": 14,
   "metadata": {
    "collapsed": true
   },
   "outputs": [],
   "source": [
    "list_files = glob.glob(default_dir + '*.fits')\n",
    "for _file in list_files:\n",
    "    os.remove(_file)\n",
    "\n",
    "for n in range(nbr_array):\n",
    "    _short_file_name = \"image_{:02d}.fits\".format(n+1)\n",
    "    _full_file_name = os.path.join(default_dir, _short_file_name)\n",
    "    _array = final_array[n]\n",
    "    \n",
    "    hdu = pyfits.PrimaryHDU(_array)\n",
    "    hdulist = pyfits.HDUList([hdu])\n",
    "    hdulist.writeto(_full_file_name)"
   ]
  },
  {
   "cell_type": "code",
   "execution_count": null,
   "metadata": {
    "collapsed": true
   },
   "outputs": [],
   "source": []
  }
 ],
 "metadata": {
  "kernelspec": {
   "display_name": "Python 2",
   "language": "python",
   "name": "python2"
  },
  "language_info": {
   "codemirror_mode": {
    "name": "ipython",
    "version": 2
   },
   "file_extension": ".py",
   "mimetype": "text/x-python",
   "name": "python",
   "nbconvert_exporter": "python",
   "pygments_lexer": "ipython2",
   "version": "2.7.12"
  }
 },
 "nbformat": 4,
 "nbformat_minor": 0
}
