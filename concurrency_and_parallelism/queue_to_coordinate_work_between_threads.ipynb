{
 "cells": [
  {
   "cell_type": "markdown",
   "metadata": {},
   "source": [
    "Python programs that do many things concurrently often need to coordinat their work.\n",
    "\n",
    "**Example:**\n",
    "\n",
    "    We want to build a system that will take a constant stream of images from our camera, resize them and then add them to a photo gallery online.\n",
    "    \n",
    "This could be split into 3 phases:\n",
    " * Phase 1: new images are retrieved\n",
    " * Phase 2: the downloaded images are passed through the reisze function\n",
    " * Phase 3: the resized images aer consumed by the upload function\n",
    "\n"
   ]
  },
  {
   "cell_type": "markdown",
   "metadata": {},
   "source": [
    "Let's pretend we already wrote the code for *download*, *resize* and *upload*, **how do we assemble a pipeline to do the work concurrently ?**"
   ]
  },
  {
   "cell_type": "markdown",
   "metadata": {},
   "source": [
    "### First"
   ]
  },
  {
   "cell_type": "markdown",
   "metadata": {},
   "source": [
    "We need a way to hand off work between the pipeline phases. "
   ]
  },
  {
   "cell_type": "code",
   "execution_count": 1,
   "metadata": {
    "collapsed": true
   },
   "outputs": [],
   "source": [
    "from threading import Lock"
   ]
  },
  {
   "cell_type": "code",
   "execution_count": 2,
   "metadata": {
    "collapsed": true
   },
   "outputs": [],
   "source": [
    "class MyQueue(object):\n",
    "    \n",
    "    def __init__(self):\n",
    "        self.items = deque()\n",
    "        self.lock = Lock"
   ]
  },
  {
   "cell_type": "markdown",
   "metadata": {},
   "source": [
    "The producer (the camera) adds new images to the end of the list of pending items"
   ]
  },
  {
   "cell_type": "code",
   "execution_count": 3,
   "metadata": {
    "collapsed": true
   },
   "outputs": [],
   "source": [
    "def put(self, item):\n",
    "    with self.lock:\n",
    "        self.items.append(item)"
   ]
  },
  {
   "cell_type": "markdown",
   "metadata": {},
   "source": [
    "The consumer (Phase 1), removes images from the front of the list of pending items"
   ]
  },
  {
   "cell_type": "code",
   "execution_count": 4,
   "metadata": {
    "collapsed": true
   },
   "outputs": [],
   "source": [
    "def get(self):\n",
    "    with self.lock:\n",
    "        return self.items.popleft()"
   ]
  },
  {
   "cell_type": "code",
   "execution_count": null,
   "metadata": {
    "collapsed": true
   },
   "outputs": [],
   "source": []
  }
 ],
 "metadata": {
  "kernelspec": {
   "display_name": "Python 3",
   "language": "python",
   "name": "python3"
  },
  "language_info": {
   "codemirror_mode": {
    "name": "ipython",
    "version": 3
   },
   "file_extension": ".py",
   "mimetype": "text/x-python",
   "name": "python",
   "nbconvert_exporter": "python",
   "pygments_lexer": "ipython3",
   "version": "3.5.1"
  }
 },
 "nbformat": 4,
 "nbformat_minor": 0
}
