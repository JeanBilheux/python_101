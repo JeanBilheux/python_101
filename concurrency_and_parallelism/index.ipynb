{
 "cells": [
  {
   "cell_type": "markdown",
   "metadata": {},
   "source": [
    "## Concurrency "
   ]
  },
  {
   "cell_type": "markdown",
   "metadata": {},
   "source": [
    "This is when a computer does **many different things** at the same time.\n",
    "\n",
    "For example, on a 1 CPU core computer, the OS will rapidly change the focus of the various program running, giving the illusion that they are running in parallel."
   ]
  },
  {
   "cell_type": "markdown",
   "metadata": {},
   "source": [
    "## Parallelism"
   ]
  },
  {
   "cell_type": "markdown",
   "metadata": {},
   "source": [
    "This is when many things are ran **at the same time**. \n",
    "\n",
    "For example, computers with many CPU cores, can execute multiple program at the same time. Each CPU core runs instructions of different programs.... allowing all of them to make progress at the same time."
   ]
  },
  {
   "cell_type": "code",
   "execution_count": null,
   "metadata": {
    "collapsed": true
   },
   "outputs": [],
   "source": []
  }
 ],
 "metadata": {
  "kernelspec": {
   "display_name": "Python 3",
   "language": "python",
   "name": "python3"
  },
  "language_info": {
   "codemirror_mode": {
    "name": "ipython",
    "version": 3
   },
   "file_extension": ".py",
   "mimetype": "text/x-python",
   "name": "python",
   "nbconvert_exporter": "python",
   "pygments_lexer": "ipython3",
   "version": "3.4.4"
  }
 },
 "nbformat": 4,
 "nbformat_minor": 0
}
