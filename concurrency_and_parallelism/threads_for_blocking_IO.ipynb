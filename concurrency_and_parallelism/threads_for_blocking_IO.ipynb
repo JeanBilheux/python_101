{
 "cells": [
  {
   "cell_type": "markdown",
   "metadata": {},
   "source": [
    "The standard implementation of python is called **CPython**. \n",
    "\n",
    "CPython runs a python program in two steps:\n",
    "    * parses and compiles the source text code into bytecode\n",
    "    * runs the bytecode using a stack-based interpreter\n",
    "    \n",
    "The bytecode interpreter has state that must be maintained and coherent while the python program executes. Python enforces coherence with a mechanism called the *global interpreter lock (GIL)*.\n",
    "\n",
    "**GIL**: is a mutual-exclusion lock that prevents CPython from bein affected by preemptive multithreading = one thread takes control of a program by interrupting another thread. Such an interruption could corrupt the interpreter state if it comes at an unexpected time. The GIL prevents these interruptions and ensures that every bytecode instruction works correctly.\n",
    "\n",
    "[For more infos about GIL](https://wiki.python.org/moin/GlobalInterpreterLock)"
   ]
  },
  {
   "cell_type": "markdown",
   "metadata": {},
   "source": [
    "__Negative side effect:__\n",
    "\n",
    "Even if Python supports multiple threads of execution, the GIL causes only one of them to make forward progress at a time. \n",
    "\n",
    "This means that when you reach for threads to do parallel computation and speed up our Python code, that will not work as expected !"
   ]
  },
  {
   "cell_type": "markdown",
   "metadata": {},
   "source": [
    "### Example"
   ]
  },
  {
   "cell_type": "code",
   "execution_count": 1,
   "metadata": {
    "collapsed": true
   },
   "outputs": [],
   "source": [
    "def factorize(number):\n",
    "    for i in range(1, number+1):\n",
    "        if number % i == 0:\n",
    "            yield i"
   ]
  },
  {
   "cell_type": "code",
   "execution_count": 2,
   "metadata": {
    "collapsed": true
   },
   "outputs": [],
   "source": [
    "import time"
   ]
  },
  {
   "cell_type": "code",
   "execution_count": 3,
   "metadata": {
    "collapsed": false
   },
   "outputs": [
    {
     "name": "stdout",
     "output_type": "stream",
     "text": [
      "It took 0.699 seconds\n"
     ]
    }
   ],
   "source": [
    "numbers = [2139079, 1214759, 1516637, 1582285]\n",
    "start = time.time()\n",
    "for number in numbers:\n",
    "    list(factorize(number))\n",
    "end = time.time()\n",
    "print(\"It took %.3f seconds\" % (end - start))"
   ]
  },
  {
   "cell_type": "markdown",
   "metadata": {},
   "source": [
    "Let's try to use multithreading for this !"
   ]
  },
  {
   "cell_type": "code",
   "execution_count": 4,
   "metadata": {
    "collapsed": true
   },
   "outputs": [],
   "source": [
    "from threading import Thread\n",
    "\n",
    "class FactorizeThread(Thread):\n",
    "    \n",
    "    def __init__(self, number):\n",
    "        super().__init__()\n",
    "        self.number = number\n",
    "        \n",
    "    def run(self):\n",
    "        self.factors = list(factorize(self.number))"
   ]
  },
  {
   "cell_type": "code",
   "execution_count": 6,
   "metadata": {
    "collapsed": false
   },
   "outputs": [
    {
     "name": "stdout",
     "output_type": "stream",
     "text": [
      "Took 0.854 seconds\n"
     ]
    }
   ],
   "source": [
    "start = time.time()\n",
    "threads = []\n",
    "for number in numbers:\n",
    "    thread = FactorizeThread(number)\n",
    "    thread.start()\n",
    "    threads.append(thread)\n",
    "    \n",
    "for thread in threads:\n",
    "    thread.join()\n",
    "\n",
    "end = time.time()\n",
    "print(\"Took %.3f seconds\" % (end-start))"
   ]
  },
  {
   "cell_type": "markdown",
   "metadata": {},
   "source": [
    "Suprisingly, it took longer !!!!"
   ]
  },
  {
   "cell_type": "markdown",
   "metadata": {},
   "source": [
    "This illustrate the effect of the GIL on programs running in the standard CPython interpreter."
   ]
  },
  {
   "cell_type": "markdown",
   "metadata": {},
   "source": [
    "There are ways to get CPython to utilize multiple cores, but that does not work with the standard **Thread** class. "
   ]
  },
  {
   "cell_type": "markdown",
   "metadata": {},
   "source": [
    "### Thread in Python"
   ]
  },
  {
   "cell_type": "markdown",
   "metadata": {},
   "source": [
    "* with threads, we can leave it to Python to run functions seemingly in parallel.\n",
    "* blocking I/O. This happens when Python does certain types of system calls. Using thread helps us handle blocking I/O by insulating our program from the time it takes for the OS to respond to our request.\n",
    "\n",
    "    for example, if we want to control a remote airplane, we want to send a command but in the same time listen to another one....etc, they have to be in parallel."
   ]
  },
  {
   "cell_type": "code",
   "execution_count": null,
   "metadata": {
    "collapsed": true
   },
   "outputs": [],
   "source": []
  }
 ],
 "metadata": {
  "kernelspec": {
   "display_name": "Python 3",
   "language": "python",
   "name": "python3"
  },
  "language_info": {
   "codemirror_mode": {
    "name": "ipython",
    "version": 3
   },
   "file_extension": ".py",
   "mimetype": "text/x-python",
   "name": "python",
   "nbconvert_exporter": "python",
   "pygments_lexer": "ipython3",
   "version": "3.4.4"
  }
 },
 "nbformat": 4,
 "nbformat_minor": 0
}
