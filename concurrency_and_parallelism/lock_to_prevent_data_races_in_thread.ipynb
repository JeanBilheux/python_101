{
 "cells": [
  {
   "cell_type": "markdown",
   "metadata": {
    "collapsed": true
   },
   "source": [
    "**GIL**: Global Interpreter Lock\n",
    "\n",
    "GIL prevents python from running threads on different CPU cores."
   ]
  },
  {
   "cell_type": "markdown",
   "metadata": {},
   "source": [
    "**Attention**\n",
    "\n",
    "Even if only one thread runs at a time, a thread's operations on *data structure* can be interrupted between any two butecode instructions in the python interpreter. This is dangerous if we access the same object from different threads in the same time. "
   ]
  },
  {
   "cell_type": "markdown",
   "metadata": {},
   "source": [
    "Example:"
   ]
  },
  {
   "cell_type": "code",
   "execution_count": 19,
   "metadata": {
    "collapsed": true
   },
   "outputs": [],
   "source": [
    "from threading import Thread, Lock"
   ]
  },
  {
   "cell_type": "code",
   "execution_count": 7,
   "metadata": {
    "collapsed": true
   },
   "outputs": [],
   "source": [
    "class Counter(object):\n",
    "    \n",
    "    def __init__(self):\n",
    "        self.count = 0\n",
    "        \n",
    "    def increment(self, offset):\n",
    "        self.count += offset"
   ]
  },
  {
   "cell_type": "code",
   "execution_count": 13,
   "metadata": {
    "collapsed": true
   },
   "outputs": [],
   "source": [
    "def worker(sensor_index, how_many, counter):\n",
    "    for _ in range(how_many):\n",
    "        # do something here\n",
    "        counter.increment(1)"
   ]
  },
  {
   "cell_type": "code",
   "execution_count": 14,
   "metadata": {
    "collapsed": true
   },
   "outputs": [],
   "source": [
    "def run_threads(func, how_many, counter):\n",
    "    threads = []\n",
    "    for i in range(5):\n",
    "        args = (i, how_many, counter)\n",
    "        thread = Thread(target = func, args=args)\n",
    "        threads.append(thread)\n",
    "        thread.start()\n",
    "    for thread in threads:\n",
    "        thread.join()"
   ]
  },
  {
   "cell_type": "code",
   "execution_count": 15,
   "metadata": {
    "collapsed": false
   },
   "outputs": [
    {
     "name": "stdout",
     "output_type": "stream",
     "text": [
      "Counter should be 500000, found 444858\n"
     ]
    }
   ],
   "source": [
    "how_many = 10**5\n",
    "counter = Counter()\n",
    "run_threads(worker, how_many, counter)\n",
    "print(\"Counter should be %d, found %d\" % (5*how_many, counter.count))"
   ]
  },
  {
   "cell_type": "markdown",
   "metadata": {},
   "source": [
    "We are way off here !!!!\n",
    "\n",
    "The problem comes from the fact that python interpreter enforces fairness between the threads to make sure they all have **the same processing time**. In order to do this, python will suspend a thread that is running and will resume another one. But we never know when python will suspend our threads. A thread can even be paused in the middle of an operation...and that's what happened here !"
   ]
  },
  {
   "cell_type": "markdown",
   "metadata": {},
   "source": [
    "The *Counter* object's *increment* method is:\n",
    "```\n",
    "counter.count += offset\n",
    "```"
   ]
  },
  {
   "cell_type": "markdown",
   "metadata": {},
   "source": [
    "But the *+=* operator used on an object attribute acutally instructs phtyon to do 3 separate operations behind the scenes. It is equivalent to:\n",
    "```\n",
    "value = getattr(counter, 'count')\n",
    "result = value + offset\n",
    "setattr(counter, 'count', result)\n",
    "```"
   ]
  },
  {
   "cell_type": "markdown",
   "metadata": {},
   "source": [
    "Python threads incrementing the counter can be suspended between any two of these operations. \n",
    "\n",
    "example of what can go wrong:\n",
    "```\n",
    "# Running in Thread A\n",
    "value_a = getattr(counter, 'count')\n",
    "# Context switch to Thread B\n",
    "value_b = getattr(counter, 'count')\n",
    "result_b = value_b + 1\n",
    "setattr_b(counter, 'count', result_b)\n",
    "# Context switch back to Thread A\n",
    "result_a = value_a + 1\n",
    "setattr(counter, 'count', result_a)\n",
    "```"
   ]
  },
  {
   "cell_type": "markdown",
   "metadata": {},
   "source": [
    "Thread A stomped on thread B, erasing all of its progress incrementing the counter !!!!!"
   ]
  },
  {
   "cell_type": "markdown",
   "metadata": {},
   "source": [
    "### Solution"
   ]
  },
  {
   "cell_type": "markdown",
   "metadata": {},
   "source": [
    "So to prevent data races like this, Python includes a robust set of tools in the *threading* built-in module."
   ]
  },
  {
   "cell_type": "markdown",
   "metadata": {},
   "source": [
    "### lock"
   ]
  },
  {
   "cell_type": "markdown",
   "metadata": {},
   "source": [
    "This is mutual-exclusion lock (mutex). "
   ]
  },
  {
   "cell_type": "markdown",
   "metadata": {},
   "source": [
    "By using a lock, I can have the *Counter* class protec it scurrent value against simultaneous access from multiple threads. Only 1 thread will be able to acquire the lock at a time. "
   ]
  },
  {
   "cell_type": "code",
   "execution_count": 20,
   "metadata": {
    "collapsed": true
   },
   "outputs": [],
   "source": [
    "class LockingCounter(object):\n",
    "    \n",
    "    def __init__(self):\n",
    "        self.lock = Lock()\n",
    "        self.count = 0\n",
    "        \n",
    "    def increment(self, offset):\n",
    "        with self.lock:\n",
    "            self.count += offset"
   ]
  },
  {
   "cell_type": "code",
   "execution_count": 21,
   "metadata": {
    "collapsed": false
   },
   "outputs": [
    {
     "name": "stdout",
     "output_type": "stream",
     "text": [
      "Counter should be 500000, found 500000\n"
     ]
    }
   ],
   "source": [
    "counter = LockingCounter()\n",
    "run_threads(worker, how_many, counter)\n",
    "print('Counter should be %d, found %d' %(5*how_many, counter.count))"
   ]
  },
  {
   "cell_type": "markdown",
   "metadata": {},
   "source": [
    "###  Things to remember\n",
    "\n",
    " * our programs will corrupt data structures if we allow multiple threads to modify the same objects without locks"
   ]
  },
  {
   "cell_type": "code",
   "execution_count": null,
   "metadata": {
    "collapsed": true
   },
   "outputs": [],
   "source": []
  }
 ],
 "metadata": {
  "kernelspec": {
   "display_name": "Python 3",
   "language": "python",
   "name": "python3"
  },
  "language_info": {
   "codemirror_mode": {
    "name": "ipython",
    "version": 3
   },
   "file_extension": ".py",
   "mimetype": "text/x-python",
   "name": "python",
   "nbconvert_exporter": "python",
   "pygments_lexer": "ipython3",
   "version": "3.5.1"
  }
 },
 "nbformat": 4,
 "nbformat_minor": 0
}
