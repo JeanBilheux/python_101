{
 "cells": [
  {
   "cell_type": "markdown",
   "id": "888c13c3",
   "metadata": {},
   "source": [
    "**PyVista** documentation can be found [here](https://docs.pyvista.org/index.html)\n",
    "\n",
    "```\n",
    "conda install -c conda-forge pyvista\n",
    "conda install -c conda-forge ipyvtklink\n",
    "```"
   ]
  },
  {
   "cell_type": "code",
   "execution_count": 1,
   "id": "b3980bd5",
   "metadata": {},
   "outputs": [],
   "source": [
    "import pyvista as pv\n",
    "from pyvista import examples\n",
    "\n",
    "pv.set_jupyter_backend('ipyvtklink') "
   ]
  },
  {
   "cell_type": "code",
   "execution_count": 2,
   "id": "31fd7ecf",
   "metadata": {},
   "outputs": [
    {
     "data": {
      "application/vnd.jupyter.widget-view+json": {
       "model_id": "f68783232cbd45edab131e4c75aab26f",
       "version_major": 2,
       "version_minor": 0
      },
      "text/plain": [
       "ViewInteractiveWidget(height=768, layout=Layout(height='auto', width='100%'), width=1024)"
      ]
     },
     "metadata": {},
     "output_type": "display_data"
    }
   ],
   "source": [
    "mesh = examples.download_notch_stress()\n",
    "mesh.plot(scalars='Nodal Stress', component=0, cmap='turbo', cpos='xy')"
   ]
  },
  {
   "cell_type": "code",
   "execution_count": 3,
   "id": "c8fdcd42",
   "metadata": {},
   "outputs": [
    {
     "name": "stderr",
     "output_type": "stream",
     "text": [
      "/Users/j35/opt/anaconda3/envs/py38/lib/python3.8/site-packages/pyvista/jupyter/notebook.py:60: UserWarning: Failed to use notebook backend: \n",
      "\n",
      "Install ``panel`` to use this feature\n",
      "\n",
      "Falling back to a static output.\n",
      "  warnings.warn(f'Failed to use notebook backend: \\n\\n{e}\\n\\n'\n"
     ]
    },
    {
     "data": {
      "image/png": "[encoded data removed]",
      "text/plain": [
       "<PIL.Image.Image image mode=RGB size=960x400>"
      ]
     },
     "metadata": {},
     "output_type": "display_data"
    }
   ],
   "source": []
  },
  {
   "cell_type": "code",
   "execution_count": null,
   "id": "9d86901f",
   "metadata": {},
   "outputs": [],
   "source": []
  }
 ],
 "metadata": {
  "kernelspec": {
   "display_name": "Python 3 (ipykernel)",
   "language": "python",
   "name": "python3"
  },
  "language_info": {
   "codemirror_mode": {
    "name": "ipython",
    "version": 3
   },
   "file_extension": ".py",
   "mimetype": "text/x-python",
   "name": "python",
   "nbconvert_exporter": "python",
   "pygments_lexer": "ipython3",
   "version": "3.8.13"
  }
 },
 "nbformat": 4,
 "nbformat_minor": 5
}
