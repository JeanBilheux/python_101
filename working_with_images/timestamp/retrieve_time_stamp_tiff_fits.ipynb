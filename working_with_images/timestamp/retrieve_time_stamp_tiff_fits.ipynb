{
 "cells": [
  {
   "cell_type": "code",
   "execution_count": 9,
   "metadata": {
    "run_control": {
     "frozen": false,
     "read_only": false
    }
   },
   "outputs": [],
   "source": [
    "import os\n",
    "import time"
   ]
  },
  {
   "cell_type": "markdown",
   "metadata": {
    "run_control": {
     "frozen": false,
     "read_only": false
    }
   },
   "source": [
    "Define files"
   ]
  },
  {
   "cell_type": "code",
   "execution_count": 3,
   "metadata": {
    "run_control": {
     "frozen": false,
     "read_only": false
    }
   },
   "outputs": [],
   "source": [
    "fits_file = 'data/Image001.Cimg.fits'\n",
    "assert os.path.exists(fits_file)"
   ]
  },
  {
   "cell_type": "code",
   "execution_count": 4,
   "metadata": {
    "run_control": {
     "frozen": false,
     "read_only": false
    }
   },
   "outputs": [],
   "source": [
    "tiff_file = 'data/20170928_diagonal_orientation_0030_0000.tiff'\n",
    "assert os.path.exists(tiff_file)"
   ]
  },
  {
   "cell_type": "markdown",
   "metadata": {
    "run_control": {
     "frozen": false,
     "read_only": false
    }
   },
   "source": [
    "Expected time stamp\n",
    "\n",
    " * fits_file -> 05/19/2017 at 11:31:19\n",
    " * tiff_file -> 09/28/2017 at 19:02:39\n",
    " \n",
    "**NB** Both files have been imported to local computer via *filezilla* on that day 10/17/2017"
   ]
  },
  {
   "cell_type": "markdown",
   "metadata": {
    "run_control": {
     "frozen": false,
     "read_only": false
    }
   },
   "source": [
    "# using python "
   ]
  },
  {
   "cell_type": "code",
   "execution_count": 5,
   "metadata": {},
   "outputs": [],
   "source": [
    "st = os.stat(tiff_file)"
   ]
  },
  {
   "cell_type": "code",
   "execution_count": 8,
   "metadata": {},
   "outputs": [
    {
     "data": {
      "text/plain": [
       "os.stat_result(st_mode=33184, st_ino=346870406, st_dev=16777218, st_nlink=1, st_uid=1376125886, st_gid=1551083765, st_size=8391265, st_atime=1508259447, st_mtime=1508252052, st_ctime=1508259404)"
      ]
     },
     "execution_count": 8,
     "metadata": {},
     "output_type": "execute_result"
    }
   ],
   "source": [
    "st"
   ]
  },
  {
   "cell_type": "code",
   "execution_count": 13,
   "metadata": {},
   "outputs": [
    {
     "name": "stdout",
     "output_type": "stream",
     "text": [
      "st_atime: Tue Oct 17 12:57:27 2017\n",
      "st_mtime: Tue Oct 17 10:54:12 2017\n",
      "st_ctime: Tue Oct 17 12:56:44 2017\n"
     ]
    }
   ],
   "source": [
    "print(\"st_atime: {}\".format(time.asctime(time.localtime(st.st_atime))))\n",
    "print(\"st_mtime: {}\".format(time.asctime(time.localtime(st.st_mtime))))\n",
    "print(\"st_ctime: {}\".format(time.asctime(time.localtime(st.st_ctime))))"
   ]
  },
  {
   "cell_type": "markdown",
   "metadata": {},
   "source": [
    "Wrong Time !!!!"
   ]
  },
  {
   "cell_type": "markdown",
   "metadata": {},
   "source": [
    "# using metadata"
   ]
  },
  {
   "cell_type": "markdown",
   "metadata": {},
   "source": [
    "## TIFF "
   ]
  },
  {
   "cell_type": "code",
   "execution_count": 16,
   "metadata": {},
   "outputs": [],
   "source": [
    "from PIL import Image\n",
    "from PIL.ExifTags import TAGS"
   ]
  },
  {
   "cell_type": "code",
   "execution_count": 23,
   "metadata": {
    "scrolled": true
   },
   "outputs": [
    {
     "data": {
      "text/plain": [
       "{256: 2048,\n",
       " 257: 2048,\n",
       " 258: (16,),\n",
       " 259: 1,\n",
       " 262: 1,\n",
       " 271: 'Unknown',\n",
       " 272: 'Unknown',\n",
       " 273: (8,),\n",
       " 277: 1,\n",
       " 278: 2048,\n",
       " 279: (8388608,),\n",
       " 284: 1,\n",
       " 305: 'EPICS areaDetector',\n",
       " 339: (1,),\n",
       " 65000: (875487759.2927526,),\n",
       " 65001: (1,),\n",
       " 65002: (875487759,),\n",
       " 65003: (303042215,),\n",
       " 65010: ('FileNameStr:diagonal_orientation',),\n",
       " 65011: ('InstrumentStr:CG1D',),\n",
       " 65012: ('IPTS:19831',),\n",
       " 65013: ('ITEMS:51673',),\n",
       " 65014: ('SampleDescStr:woodSamples',),\n",
       " 65015: ('NotesStr:',),\n",
       " 65016: ('DataSetStr:2D',),\n",
       " 65017: ('DataAcqModeStr:White Beam',),\n",
       " 65018: ('DataTypeStr:Raw',),\n",
       " 65019: ('ModelStr:DW936_BV',),\n",
       " 65020: ('ManufacturerStr:Andor',),\n",
       " 65021: ('ExposureTime:30.000000',),\n",
       " 65022: ('ExposurePeriod:34.451660',),\n",
       " 65023: ('NumExposures:1',),\n",
       " 65024: ('NumImages:5',),\n",
       " 65025: ('ImageCounter:1',),\n",
       " 65026: ('MinX:0',),\n",
       " 65027: ('MinY:0',),\n",
       " 65028: ('SizeX:2048',),\n",
       " 65029: ('SizeY:2048',),\n",
       " 65030: ('Temperature:-60.000000',),\n",
       " 65031: ('TemperatureActual:-59.777000',),\n",
       " 65032: ('MotScanDeviceStr:Small Rot',),\n",
       " 65033: ('RotationActual:359.549920',),\n",
       " 65034: ('MotLiftTable.RBV:249.993793',),\n",
       " 65035: ('MotLiftTable:250.000000',),\n",
       " 65036: ('MotShortAxis.RBV:30.005000',),\n",
       " 65037: ('MotShortAxis:30.000000',),\n",
       " 65038: ('MotLongAxis.RBV:105.003000',),\n",
       " 65039: ('MotLongAxis:105.000000',),\n",
       " 65040: ('MotRotTable.RBV:181.999000',),\n",
       " 65041: ('MotRotTable:182.000000',),\n",
       " 65042: ('MotSmallRotTable.RBV:359.549920',),\n",
       " 65043: ('MotSmallRotTable:359.550000',),\n",
       " 65044: ('MotZaberRot.RBV:-0.003056',),\n",
       " 65045: ('MotZaberRot:0.000000',),\n",
       " 65046: ('MotDetTable.RBV:200.000000',),\n",
       " 65047: ('MotDetTable:200.000000',),\n",
       " 65048: ('MotCameraVert.RBV:-51.699796',),\n",
       " 65049: ('MotCameraVert:-51.699796',),\n",
       " 65050: ('MotHoriTrans.RBV:28.000000',),\n",
       " 65051: ('MotHoriTrans:28.000000',),\n",
       " 65052: ('MotVertTrans.RBV:60.000000',),\n",
       " 65053: ('MotVertTrans:60.000000',),\n",
       " 65054: ('MotDiffuser.RBV:86.300000',),\n",
       " 65055: ('MotDiffuser:86.300000',),\n",
       " 65056: ('MotAperture.RBV:189.700000',),\n",
       " 65057: ('MotAperture:189.700000',),\n",
       " 65058: ('MotSlitVB.RBV:40.000000',),\n",
       " 65059: ('MotSlitVB:40.000000',),\n",
       " 65060: ('MotSlitVT.RBV:35.000000',),\n",
       " 65061: ('MotSlitVT:35.000000',),\n",
       " 65062: ('MotSlitHR.RBV:30.000000',),\n",
       " 65063: ('MotSlitHR:30.000000',),\n",
       " 65064: ('MotSlitHL.RBV:39.992859',),\n",
       " 65065: ('MotSlitHL:39.992859',),\n",
       " 65066: ('BMCounter:0',),\n",
       " 65067: ('BMCounterRate:0',),\n",
       " 65068: ('FurnaceSetpointTemp:0.000000',),\n",
       " 65069: ('FurnaceRampRate:5.000000',),\n",
       " 65070: ('FurnaceSampleTemp:185.400000',),\n",
       " 65071: ('NIAI0:0.000000',),\n",
       " 65072: ('NIAI1:0.000000',),\n",
       " 65073: ('PotentiostatE:0.000000',),\n",
       " 65074: ('PotentiostatI:0.000000',),\n",
       " 65075: ('AndorCCDCooler:1',),\n",
       " 65076: ('AndorCCDTempStatusStr:Stabilized at set point',),\n",
       " 65077: ('AndorCCDPreAmpGain:0',),\n",
       " 65078: ('AndorCCDADCSpeed:2',)}"
      ]
     },
     "execution_count": 23,
     "metadata": {},
     "output_type": "execute_result"
    }
   ],
   "source": [
    "o_image = Image.open(tiff_file)\n",
    "o_dict = dict(o_image.tag_v2)\n",
    "o_dict"
   ]
  },
  {
   "cell_type": "code",
   "execution_count": 28,
   "metadata": {},
   "outputs": [
    {
     "name": "stdout",
     "output_type": "stream",
     "text": [
      "tag 65000: Sun Sep 28 19:02:39 1997\n"
     ]
    }
   ],
   "source": [
    "acquisition_time = o_dict[65000][0]\n",
    "print(\"tag 65000: {}\".format(time.asctime(time.localtime(acquisition_time))))\n"
   ]
  },
  {
   "cell_type": "markdown",
   "metadata": {},
   "source": [
    "This works !!!!!"
   ]
  },
  {
   "cell_type": "markdown",
   "metadata": {},
   "source": [
    "## FITS"
   ]
  },
  {
   "cell_type": "code",
   "execution_count": 30,
   "metadata": {
    "collapsed": true
   },
   "outputs": [],
   "source": [
    "from astropy.io import fits"
   ]
  },
  {
   "cell_type": "code",
   "execution_count": 32,
   "metadata": {
    "collapsed": true
   },
   "outputs": [],
   "source": [
    "hdulist = fits.open(fits_file)"
   ]
  },
  {
   "cell_type": "code",
   "execution_count": 35,
   "metadata": {},
   "outputs": [
    {
     "name": "stdout",
     "output_type": "stream",
     "text": [
      "Filename: data/Image001.Cimg.fits\n",
      "No.    Name      Ver    Type      Cards   Dimensions   Format\n",
      "  0  PRIMARY       1 PrimaryHDU      12   (4096, 4096)   int16   \n"
     ]
    }
   ],
   "source": [
    "hdulist.info()"
   ]
  },
  {
   "cell_type": "code",
   "execution_count": 36,
   "metadata": {},
   "outputs": [
    {
     "data": {
      "text/plain": [
       "SIMPLE  =                    T / file does conform to FITS standard             \n",
       "BITPIX  =                   16 / number of bits per data pixel                  \n",
       "NAXIS   =                    2 / number of data axes                            \n",
       "NAXIS1  =                 4096 / length of data axis 1                          \n",
       "NAXIS2  =                 4096 / length of data axis 2                          \n",
       "EXTEND  =                    T / FITS dataset may contain extensions            \n",
       "COMMENT   FITS (Flexible Image Transport System) format is defined in 'Astronomy\n",
       "COMMENT   and Astrophysics', volume 376, page 359; bibcode: 2001A&A...376..359H \n",
       "HIERARCH GOOD_COUNTS = 268176259 / Valid counts in this image                   \n",
       "HIERARCH BAD_COUNTS =   188308 / Misanalyzed counts in this image               \n",
       "N_FRAMES=              1620000 / Number of frames acquired for that image       \n",
       "ANGLE   =                   0. / Angle of the rotation stage, deg               "
      ]
     },
     "execution_count": 36,
     "metadata": {},
     "output_type": "execute_result"
    }
   ],
   "source": [
    "hdulist[0].header"
   ]
  },
  {
   "cell_type": "markdown",
   "metadata": {},
   "source": [
    "this does not Work !!!!"
   ]
  },
  {
   "cell_type": "code",
   "execution_count": null,
   "metadata": {
    "collapsed": true
   },
   "outputs": [],
   "source": []
  }
 ],
 "metadata": {
  "kernelspec": {
   "display_name": "Python [conda env:py35]",
   "language": "python",
   "name": "conda-env-py35-py"
  },
  "language_info": {
   "codemirror_mode": {
    "name": "ipython",
    "version": 3
   },
   "file_extension": ".py",
   "mimetype": "text/x-python",
   "name": "python",
   "nbconvert_exporter": "python",
   "pygments_lexer": "ipython3",
   "version": "3.5.3"
  },
  "toc": {
   "colors": {
    "hover_highlight": "#DAA520",
    "running_highlight": "#FF0000",
    "selected_highlight": "#FFD700"
   },
   "moveMenuLeft": true,
   "nav_menu": {
    "height": "12px",
    "width": "252px"
   },
   "navigate_menu": true,
   "number_sections": true,
   "sideBar": true,
   "threshold": 4,
   "toc_cell": false,
   "toc_section_display": "block",
   "toc_window_display": false
  }
 },
 "nbformat": 4,
 "nbformat_minor": 2
}
