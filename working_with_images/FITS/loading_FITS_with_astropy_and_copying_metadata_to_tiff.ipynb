{
 "cells": [
  {
   "cell_type": "code",
   "execution_count": 68,
   "metadata": {},
   "outputs": [],
   "source": [
    "from astropy.io import fits\n",
    "import numpy as np\n",
    "from PIL import Image, TiffTags\n",
    "import os\n",
    "from PIL.TiffImagePlugin import ImageFileDirectory_v2, ImageFileDirectory_v1\n",
    "import matplotlib.pyplot as plt"
   ]
  },
  {
   "cell_type": "code",
   "execution_count": 2,
   "metadata": {},
   "outputs": [],
   "source": [
    "fits_image_filename_0 = \"/Users/j35/IPTS/IPTS-SNAP/PID1_15min__0__67.5__188_01481.fits\"\n",
    "assert os.path.exists(fits_image_filename_0)\n",
    "fits_image_filename_1 = \"/Users/j35/IPTS/IPTS-SNAP/PID1_15min__0__67.5__188_01480.fits\"\n",
    "assert os.path.exists(fits_image_filename_1)"
   ]
  },
  {
   "cell_type": "markdown",
   "metadata": {},
   "source": [
    "### loading fits "
   ]
  },
  {
   "cell_type": "code",
   "execution_count": 3,
   "metadata": {},
   "outputs": [],
   "source": [
    "def load_fits(file_name):\n",
    "    tmp = fits.open(file_name,ignore_missing_end=True)\n",
    "    return tmp"
   ]
  },
  {
   "cell_type": "code",
   "execution_count": 4,
   "metadata": {},
   "outputs": [],
   "source": [
    "fits_0 = load_fits(fits_image_filename_0)\n",
    "fits_0 = fits_0[0]"
   ]
  },
  {
   "cell_type": "code",
   "execution_count": 5,
   "metadata": {},
   "outputs": [
    {
     "data": {
      "text/plain": [
       "SIMPLE  =                    T / file does conform to FITS standard             \n",
       "BITPIX  =                   16 / number of bits per data pixel                  \n",
       "NAXIS   =                    2 / number of data axes                            \n",
       "NAXIS1  =                  512 / length of data axis 1                          \n",
       "NAXIS2  =                  512 / length of data axis 2                          \n",
       "EXTEND  =                    T / FITS dataset may contain extensions            \n",
       "COMMENT   FITS (Flexible Image Transport System) format is defined in 'Astronomy\n",
       "COMMENT   and Astrophysics', volume 376, page 359; bibcode: 2001A&A...376..359H \n",
       "TOF     =   0.0158886399999999 / Ttime of flight from the external trigger      \n",
       "TIMEBIN =           1.024E-005 / Time width of this image                       \n",
       "N_COUNTS=                 9739 / Total counts in this image                     \n",
       "N_TRIGS =                51490 / Number of triggers acquired                    \n",
       "TEST1   = 'One_Continuous_Word_here' / Comment1                                 \n",
       "TEST2   = '14.567  '           / Comment1                                       \n",
       "TEST3   = '14.567  '           / Comment1                                       \n",
       "TEST4   = '4.567   '           / Comment1                                       \n",
       "TEST5   = '567     '           / 012345678 012345678 012345678 012345678 0123456\n",
       "TEST6   = '514.567 '           / Comment6                                       \n",
       "TEST7   = '15567   '           / Comment7                                       \n",
       "TEST8   = 'Hlkdh   '           / Comment8                                       \n",
       "TEST9   = 'LKJ:lk  '           / Comment9                                       \n",
       "TEST10  = 'JLKLILNNk'          / Comment10                                      \n",
       "TEST11  = '464678  '           / Comment11                                      \n",
       "TEST12  = '234239402398'       / Comment12                                      \n",
       "TEST13  = '12sdkjfkj'          / Comment13                                      \n",
       "TEST14  = '14.567  '           / Comment14                                      \n",
       "TEST15  = '14.567  '           / Comment15                                      \n",
       "TEST16  = '14.567  '           / Comment16                                      \n",
       "TEST17  = '14.567  '           / Comment17                                      \n",
       "TEST18  = '14.567  '           / Comment18                                      \n",
       "TEST19  = '14.567  '           / Comment19                                      \n",
       "TEST20  = '14.567  '           / Comment20                                      \n",
       "TEST21  = '        '                                                            \n",
       "TEST22  = '14.567  '           / Comment2                                       "
      ]
     },
     "execution_count": 5,
     "metadata": {},
     "output_type": "execute_result"
    }
   ],
   "source": [
    "fits_0.header"
   ]
  },
  {
   "cell_type": "code",
   "execution_count": 6,
   "metadata": {},
   "outputs": [],
   "source": [
    "# number of triggered events"
   ]
  },
  {
   "cell_type": "code",
   "execution_count": 7,
   "metadata": {},
   "outputs": [
    {
     "name": "stdout",
     "output_type": "stream",
     "text": [
      "N_TRIGS: 51490\n"
     ]
    }
   ],
   "source": [
    "metadata_value = fits_0.header['N_TRIGS']\n",
    "print(\"N_TRIGS: {}\".format(metadata_value))"
   ]
  },
  {
   "cell_type": "code",
   "execution_count": 8,
   "metadata": {},
   "outputs": [],
   "source": [
    "data = fits_0.data"
   ]
  },
  {
   "cell_type": "markdown",
   "metadata": {},
   "source": [
    "### work on both files"
   ]
  },
  {
   "cell_type": "code",
   "execution_count": 9,
   "metadata": {},
   "outputs": [],
   "source": [
    "fits_0 = load_fits(fits_image_filename_0)\n",
    "fits_0 = fits_0[0]\n",
    "metadata_value_0 = fits_0.header['N_TRIGS']\n",
    "data_0 = fits_0.data"
   ]
  },
  {
   "cell_type": "code",
   "execution_count": 10,
   "metadata": {},
   "outputs": [],
   "source": [
    "fits_1 = load_fits(fits_image_filename_1)\n",
    "fits_1 = fits_1[0]\n",
    "metadata_value_1 = fits_1.header['N_TRIGS']\n",
    "data_1 = fits_1.data"
   ]
  },
  {
   "cell_type": "code",
   "execution_count": 11,
   "metadata": {},
   "outputs": [
    {
     "name": "stdout",
     "output_type": "stream",
     "text": [
      "metadata0: 51490\n",
      "metadata1: 51490\n",
      "combined: 102980\n"
     ]
    }
   ],
   "source": [
    "metadata_value_combined = metadata_value_0 + metadata_value_1\n",
    "print(\"metadata0: {}\".format(metadata_value_0))\n",
    "print(\"metadata1: {}\".format(metadata_value_1))\n",
    "print(\"combined: {}\".format(metadata_value_combined))"
   ]
  },
  {
   "cell_type": "markdown",
   "metadata": {},
   "source": [
    "### making tiff with metadata added"
   ]
  },
  {
   "cell_type": "code",
   "execution_count": 12,
   "metadata": {},
   "outputs": [],
   "source": [
    "tiff_image_filename_0_1 = \"/Users/j35/IPTS/IPTS-SNAP/PID1_15min__01480_and_01481.tiff\""
   ]
  },
  {
   "cell_type": "code",
   "execution_count": 13,
   "metadata": {},
   "outputs": [
    {
     "data": {
      "text/plain": [
       "dtype('float32')"
      ]
     },
     "execution_count": 13,
     "metadata": {},
     "output_type": "execute_result"
    }
   ],
   "source": [
    "combined_data = np.add(data_0, data_1, dtype=np.float32)\n",
    "combined_data.dtype"
   ]
  },
  {
   "cell_type": "code",
   "execution_count": 29,
   "metadata": {},
   "outputs": [
    {
     "data": {
      "text/plain": [
       "SIMPLE  =                    T / file does conform to FITS standard             \n",
       "BITPIX  =                   16 / number of bits per data pixel                  \n",
       "NAXIS   =                    2 / number of data axes                            \n",
       "NAXIS1  =                  512 / length of data axis 1                          \n",
       "NAXIS2  =                  512 / length of data axis 2                          \n",
       "EXTEND  =                    T / FITS dataset may contain extensions            \n",
       "COMMENT   FITS (Flexible Image Transport System) format is defined in 'Astronomy\n",
       "COMMENT   and Astrophysics', volume 376, page 359; bibcode: 2001A&A...376..359H \n",
       "TOF     =   0.0158886399999999 / Ttime of flight from the external trigger      \n",
       "TIMEBIN =           1.024E-005 / Time width of this image                       \n",
       "N_COUNTS=                 9739 / Total counts in this image                     \n",
       "N_TRIGS =                51490 / Number of triggers acquired                    \n",
       "TEST1   = 'One_Continuous_Word_here' / Comment1                                 \n",
       "TEST2   = '14.567  '           / Comment1                                       \n",
       "TEST3   = '14.567  '           / Comment1                                       \n",
       "TEST4   = '4.567   '           / Comment1                                       \n",
       "TEST5   = '567     '           / 012345678 012345678 012345678 012345678 0123456\n",
       "TEST6   = '514.567 '           / Comment6                                       \n",
       "TEST7   = '15567   '           / Comment7                                       \n",
       "TEST8   = 'Hlkdh   '           / Comment8                                       \n",
       "TEST9   = 'LKJ:lk  '           / Comment9                                       \n",
       "TEST10  = 'JLKLILNNk'          / Comment10                                      \n",
       "TEST11  = '464678  '           / Comment11                                      \n",
       "TEST12  = '234239402398'       / Comment12                                      \n",
       "TEST13  = '12sdkjfkj'          / Comment13                                      \n",
       "TEST14  = '14.567  '           / Comment14                                      \n",
       "TEST15  = '14.567  '           / Comment15                                      \n",
       "TEST16  = '14.567  '           / Comment16                                      \n",
       "TEST17  = '14.567  '           / Comment17                                      \n",
       "TEST18  = '14.567  '           / Comment18                                      \n",
       "TEST19  = '14.567  '           / Comment19                                      \n",
       "TEST20  = '14.567  '           / Comment20                                      \n",
       "TEST21  = '        '                                                            \n",
       "TEST22  = '14.567  '           / Comment2                                       "
      ]
     },
     "execution_count": 29,
     "metadata": {},
     "output_type": "execute_result"
    }
   ],
   "source": [
    "metadata = fits_0.header\n",
    "raw_metadata = metadata\n",
    "metadata"
   ]
  },
  {
   "cell_type": "code",
   "execution_count": 15,
   "metadata": {},
   "outputs": [],
   "source": [
    "new_metadata = {'N_TRIGS': metadata_value_combined}\n",
    "new_metadata = {'remove_me': 'value of remove_me'}"
   ]
  },
  {
   "cell_type": "code",
   "execution_count": 16,
   "metadata": {},
   "outputs": [],
   "source": [
    "# metadata['N_TRIGS'] = metadata_value_combined"
   ]
  },
  {
   "cell_type": "code",
   "execution_count": 17,
   "metadata": {},
   "outputs": [],
   "source": [
    "new_metadata = ImageFileDirectory_v2()"
   ]
  },
  {
   "cell_type": "code",
   "execution_count": 50,
   "metadata": {},
   "outputs": [],
   "source": [
    "new_metadata['N_TRIGS'] = \"{}\".format(metadata_value_combined)\n",
    "new_metadata.tagtype['N_TRIGS'] = TiffTags.FLOAT"
   ]
  },
  {
   "cell_type": "code",
   "execution_count": 51,
   "metadata": {},
   "outputs": [
    {
     "data": {
      "text/plain": [
       "{'N_TRIGS': 11}"
      ]
     },
     "execution_count": 51,
     "metadata": {},
     "output_type": "execute_result"
    }
   ],
   "source": [
    "new_metadata.tagtype"
   ]
  },
  {
   "cell_type": "code",
   "execution_count": 56,
   "metadata": {
    "scrolled": false
   },
   "outputs": [
    {
     "ename": "TypeError",
     "evalue": "'<' not supported between instances of 'str' and 'int'",
     "output_type": "error",
     "traceback": [
      "\u001b[0;31m---------------------------------------------------------------------------\u001b[0m",
      "\u001b[0;31mTypeError\u001b[0m                                 Traceback (most recent call last)",
      "\u001b[0;32m<ipython-input-56-0125d76d7e04>\u001b[0m in \u001b[0;36m<module>\u001b[0;34m\u001b[0m\n\u001b[1;32m      1\u001b[0m \u001b[0mnew_image\u001b[0m \u001b[0;34m=\u001b[0m \u001b[0mImage\u001b[0m\u001b[0;34m.\u001b[0m\u001b[0mfromarray\u001b[0m\u001b[0;34m(\u001b[0m\u001b[0mcombined_data\u001b[0m\u001b[0;34m)\u001b[0m\u001b[0;34m\u001b[0m\u001b[0;34m\u001b[0m\u001b[0m\n\u001b[0;32m----> 2\u001b[0;31m \u001b[0mnew_image\u001b[0m\u001b[0;34m.\u001b[0m\u001b[0msave\u001b[0m\u001b[0;34m(\u001b[0m\u001b[0mtiff_image_filename_0_1\u001b[0m\u001b[0;34m,\u001b[0m \u001b[0mtiffinfo\u001b[0m\u001b[0;34m=\u001b[0m\u001b[0mnew_metadata\u001b[0m\u001b[0;34m)\u001b[0m\u001b[0;34m\u001b[0m\u001b[0;34m\u001b[0m\u001b[0m\n\u001b[0m",
      "\u001b[0;32m//miniconda3/envs/py36/lib/python3.6/site-packages/PIL/Image.py\u001b[0m in \u001b[0;36msave\u001b[0;34m(self, fp, format, **params)\u001b[0m\n\u001b[1;32m   2100\u001b[0m \u001b[0;34m\u001b[0m\u001b[0m\n\u001b[1;32m   2101\u001b[0m         \u001b[0;32mtry\u001b[0m\u001b[0;34m:\u001b[0m\u001b[0;34m\u001b[0m\u001b[0;34m\u001b[0m\u001b[0m\n\u001b[0;32m-> 2102\u001b[0;31m             \u001b[0msave_handler\u001b[0m\u001b[0;34m(\u001b[0m\u001b[0mself\u001b[0m\u001b[0;34m,\u001b[0m \u001b[0mfp\u001b[0m\u001b[0;34m,\u001b[0m \u001b[0mfilename\u001b[0m\u001b[0;34m)\u001b[0m\u001b[0;34m\u001b[0m\u001b[0;34m\u001b[0m\u001b[0m\n\u001b[0m\u001b[1;32m   2103\u001b[0m         \u001b[0;32mfinally\u001b[0m\u001b[0;34m:\u001b[0m\u001b[0;34m\u001b[0m\u001b[0;34m\u001b[0m\u001b[0m\n\u001b[1;32m   2104\u001b[0m             \u001b[0;31m# do what we can to clean up\u001b[0m\u001b[0;34m\u001b[0m\u001b[0;34m\u001b[0m\u001b[0;34m\u001b[0m\u001b[0m\n",
      "\u001b[0;32m//miniconda3/envs/py36/lib/python3.6/site-packages/PIL/TiffImagePlugin.py\u001b[0m in \u001b[0;36m_save\u001b[0;34m(im, fp, filename)\u001b[0m\n\u001b[1;32m   1627\u001b[0m \u001b[0;34m\u001b[0m\u001b[0m\n\u001b[1;32m   1628\u001b[0m     \u001b[0;32melse\u001b[0m\u001b[0;34m:\u001b[0m\u001b[0;34m\u001b[0m\u001b[0;34m\u001b[0m\u001b[0m\n\u001b[0;32m-> 1629\u001b[0;31m         \u001b[0moffset\u001b[0m \u001b[0;34m=\u001b[0m \u001b[0mifd\u001b[0m\u001b[0;34m.\u001b[0m\u001b[0msave\u001b[0m\u001b[0;34m(\u001b[0m\u001b[0mfp\u001b[0m\u001b[0;34m)\u001b[0m\u001b[0;34m\u001b[0m\u001b[0;34m\u001b[0m\u001b[0m\n\u001b[0m\u001b[1;32m   1630\u001b[0m \u001b[0;34m\u001b[0m\u001b[0m\n\u001b[1;32m   1631\u001b[0m         ImageFile._save(\n",
      "\u001b[0;32m//miniconda3/envs/py36/lib/python3.6/site-packages/PIL/TiffImagePlugin.py\u001b[0m in \u001b[0;36msave\u001b[0;34m(self, fp)\u001b[0m\n\u001b[1;32m    863\u001b[0m \u001b[0;34m\u001b[0m\u001b[0m\n\u001b[1;32m    864\u001b[0m         \u001b[0moffset\u001b[0m \u001b[0;34m=\u001b[0m \u001b[0mfp\u001b[0m\u001b[0;34m.\u001b[0m\u001b[0mtell\u001b[0m\u001b[0;34m(\u001b[0m\u001b[0;34m)\u001b[0m\u001b[0;34m\u001b[0m\u001b[0;34m\u001b[0m\u001b[0m\n\u001b[0;32m--> 865\u001b[0;31m         \u001b[0mresult\u001b[0m \u001b[0;34m=\u001b[0m \u001b[0mself\u001b[0m\u001b[0;34m.\u001b[0m\u001b[0mtobytes\u001b[0m\u001b[0;34m(\u001b[0m\u001b[0moffset\u001b[0m\u001b[0;34m)\u001b[0m\u001b[0;34m\u001b[0m\u001b[0;34m\u001b[0m\u001b[0m\n\u001b[0m\u001b[1;32m    866\u001b[0m         \u001b[0mfp\u001b[0m\u001b[0;34m.\u001b[0m\u001b[0mwrite\u001b[0m\u001b[0;34m(\u001b[0m\u001b[0mresult\u001b[0m\u001b[0;34m)\u001b[0m\u001b[0;34m\u001b[0m\u001b[0;34m\u001b[0m\u001b[0m\n\u001b[1;32m    867\u001b[0m         \u001b[0;32mreturn\u001b[0m \u001b[0moffset\u001b[0m \u001b[0;34m+\u001b[0m \u001b[0mlen\u001b[0m\u001b[0;34m(\u001b[0m\u001b[0mresult\u001b[0m\u001b[0;34m)\u001b[0m\u001b[0;34m\u001b[0m\u001b[0;34m\u001b[0m\u001b[0m\n",
      "\u001b[0;32m//miniconda3/envs/py36/lib/python3.6/site-packages/PIL/TiffImagePlugin.py\u001b[0m in \u001b[0;36mtobytes\u001b[0;34m(self, offset)\u001b[0m\n\u001b[1;32m    799\u001b[0m         \u001b[0;31m# pass 1: convert tags to binary format\u001b[0m\u001b[0;34m\u001b[0m\u001b[0;34m\u001b[0m\u001b[0;34m\u001b[0m\u001b[0m\n\u001b[1;32m    800\u001b[0m         \u001b[0;31m# always write tags in ascending order\u001b[0m\u001b[0;34m\u001b[0m\u001b[0;34m\u001b[0m\u001b[0;34m\u001b[0m\u001b[0m\n\u001b[0;32m--> 801\u001b[0;31m         \u001b[0;32mfor\u001b[0m \u001b[0mtag\u001b[0m\u001b[0;34m,\u001b[0m \u001b[0mvalue\u001b[0m \u001b[0;32min\u001b[0m \u001b[0msorted\u001b[0m\u001b[0;34m(\u001b[0m\u001b[0mself\u001b[0m\u001b[0;34m.\u001b[0m\u001b[0m_tags_v2\u001b[0m\u001b[0;34m.\u001b[0m\u001b[0mitems\u001b[0m\u001b[0;34m(\u001b[0m\u001b[0;34m)\u001b[0m\u001b[0;34m)\u001b[0m\u001b[0;34m:\u001b[0m\u001b[0;34m\u001b[0m\u001b[0;34m\u001b[0m\u001b[0m\n\u001b[0m\u001b[1;32m    802\u001b[0m             \u001b[0;32mif\u001b[0m \u001b[0mtag\u001b[0m \u001b[0;34m==\u001b[0m \u001b[0mSTRIPOFFSETS\u001b[0m\u001b[0;34m:\u001b[0m\u001b[0;34m\u001b[0m\u001b[0;34m\u001b[0m\u001b[0m\n\u001b[1;32m    803\u001b[0m                 \u001b[0mstripoffsets\u001b[0m \u001b[0;34m=\u001b[0m \u001b[0mlen\u001b[0m\u001b[0;34m(\u001b[0m\u001b[0mentries\u001b[0m\u001b[0;34m)\u001b[0m\u001b[0;34m\u001b[0m\u001b[0;34m\u001b[0m\u001b[0m\n",
      "\u001b[0;31mTypeError\u001b[0m: '<' not supported between instances of 'str' and 'int'"
     ]
    }
   ],
   "source": [
    "new_image = Image.fromarray(combined_data)\n",
    "new_image.save(tiff_image_filename_0_1, tiffinfo=new_metadata)"
   ]
  },
  {
   "cell_type": "markdown",
   "metadata": {},
   "source": [
    "# try this\n",
    "https://stackoverflow.com/questions/20529187/what-is-the-best-way-to-save-image-metadata-alongside-a-tif/20529932#20529932"
   ]
  },
  {
   "cell_type": "code",
   "execution_count": 79,
   "metadata": {},
   "outputs": [],
   "source": [
    "import tifffile\n",
    "import json"
   ]
  },
  {
   "cell_type": "code",
   "execution_count": 80,
   "metadata": {},
   "outputs": [],
   "source": [
    "data = combined_data\n",
    "metadata = dict(N_TAGS=metadata_value_combined)\n",
    "metadata = json.dumps(metadata)\n",
    "tifffile.imsave(tiff_image_filename_0_1, data, description=metadata)"
   ]
  },
  {
   "cell_type": "markdown",
   "metadata": {},
   "source": [
    "### let's see if that worked "
   ]
  },
  {
   "cell_type": "code",
   "execution_count": 74,
   "metadata": {},
   "outputs": [
    {
     "data": {
      "text/plain": [
       "<matplotlib.colorbar.Colorbar at 0x7f95ab20fac8>"
      ]
     },
     "execution_count": 74,
     "metadata": {},
     "output_type": "execute_result"
    },
    {
     "data": {
      "image/png": "[encoded data removed]",
      "text/plain": [
       "<Figure size 432x288 with 2 Axes>"
      ]
     },
     "metadata": {
      "needs_background": "light"
     },
     "output_type": "display_data"
    }
   ],
   "source": [
    "pillow_image = Image.open(tiff_image_filename_0_1)\n",
    "\n",
    "plt.figure()\n",
    "plt.imshow(pillow_image)\n",
    "plt.colorbar()"
   ]
  },
  {
   "cell_type": "code",
   "execution_count": 87,
   "metadata": {},
   "outputs": [],
   "source": [
    "with tifffile.TiffFile(tiff_image_filename_0_1) as tiff:\n",
    "    data = tiff.asarray()\n"
   ]
  },
  {
   "cell_type": "code",
   "execution_count": 93,
   "metadata": {},
   "outputs": [],
   "source": [
    "tif = tifffile.TiffFile(tiff_image_filename_0_1)\n",
    "data = tif.asarray()\n",
    "metadata = tif.pages[0]"
   ]
  },
  {
   "cell_type": "code",
   "execution_count": 98,
   "metadata": {},
   "outputs": [
    {
     "data": {
      "text/plain": [
       "'{\"N_TAGS\": 102980}'"
      ]
     },
     "execution_count": 98,
     "metadata": {},
     "output_type": "execute_result"
    }
   ],
   "source": [
    "metadata.tags['ImageDescription'].value"
   ]
  },
  {
   "cell_type": "code",
   "execution_count": null,
   "metadata": {},
   "outputs": [],
   "source": []
  }
 ],
 "metadata": {
  "kernelspec": {
   "display_name": "Python 3",
   "language": "python",
   "name": "python3"
  },
  "language_info": {
   "codemirror_mode": {
    "name": "ipython",
    "version": 3
   },
   "file_extension": ".py",
   "mimetype": "text/x-python",
   "name": "python",
   "nbconvert_exporter": "python",
   "pygments_lexer": "ipython3",
   "version": "3.6.9"
  }
 },
 "nbformat": 4,
 "nbformat_minor": 1
}
