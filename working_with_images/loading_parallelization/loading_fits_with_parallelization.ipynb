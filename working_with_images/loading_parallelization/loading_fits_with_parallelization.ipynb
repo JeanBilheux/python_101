{
 "cells": [
  {
   "cell_type": "code",
   "execution_count": 6,
   "metadata": {
    "collapsed": true
   },
   "outputs": [],
   "source": [
    "import pyfits\n",
    "import os\n",
    "import glob\n",
    "\n",
    "from ipywidgets import widgets\n",
    "from IPython.display import display\n",
    "\n",
    "import time\n",
    "\n",
    "from concurrent.futures import ProcessPoolExecutor"
   ]
  },
  {
   "cell_type": "code",
   "execution_count": 7,
   "metadata": {
    "collapsed": true
   },
   "outputs": [],
   "source": [
    "main_directory = '/Volumes/my_book_thunderbolt_duo/iBeatles/test_data/SHORT_Run19'\n",
    "assert os.path.exists(main_directory)"
   ]
  },
  {
   "cell_type": "code",
   "execution_count": 8,
   "metadata": {
    "collapsed": false
   },
   "outputs": [
    {
     "name": "stdout",
     "output_type": "stream",
     "text": [
      "About to load 788 files\n"
     ]
    }
   ],
   "source": [
    "list_files = glob.glob(main_directory + '/*.fits')\n",
    "print(\"About to load {} files\".format(len(list_files)))"
   ]
  },
  {
   "cell_type": "code",
   "execution_count": 9,
   "metadata": {
    "collapsed": true
   },
   "outputs": [],
   "source": [
    "def load_data(file):\n",
    "    hdu_list = pyfits.open(file)\n",
    "    _image = hdu_list[0].data\n",
    "    hdu_list.close()\n",
    "    return _image"
   ]
  },
  {
   "cell_type": "code",
   "execution_count": 10,
   "metadata": {
    "collapsed": false
   },
   "outputs": [
    {
     "name": "stdout",
     "output_type": "stream",
     "text": [
      "Process took 1.4s\n"
     ]
    }
   ],
   "source": [
    "time_before = time.time()\n",
    "e = ProcessPoolExecutor()\n",
    "result = list(e.map(load_data, list_files))\n",
    "time_after = time.time()\n",
    "print(\"Process took {:.2}s\".format(time_after - time_before))"
   ]
  },
  {
   "cell_type": "code",
   "execution_count": null,
   "metadata": {
    "collapsed": true
   },
   "outputs": [],
   "source": [
    "# process took 1.3 s "
   ]
  }
 ],
 "metadata": {
  "kernelspec": {
   "display_name": "Python 3",
   "language": "python",
   "name": "python3"
  },
  "language_info": {
   "codemirror_mode": {
    "name": "ipython",
    "version": 3
   },
   "file_extension": ".py",
   "mimetype": "text/x-python",
   "name": "python",
   "nbconvert_exporter": "python",
   "pygments_lexer": "ipython3",
   "version": "3.5.2"
  }
 },
 "nbformat": 4,
 "nbformat_minor": 0
}
