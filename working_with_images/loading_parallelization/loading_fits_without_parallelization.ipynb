{
 "cells": [
  {
   "cell_type": "code",
   "execution_count": 1,
   "metadata": {
    "collapsed": true
   },
   "outputs": [],
   "source": [
    "import pyfits\n",
    "import os\n",
    "import glob\n",
    "\n",
    "from ipywidgets import widgets\n",
    "from IPython.display import display\n",
    "\n",
    "import time"
   ]
  },
  {
   "cell_type": "code",
   "execution_count": 2,
   "metadata": {
    "collapsed": true
   },
   "outputs": [],
   "source": [
    "main_directory = '/Volumes/my_book_thunderbolt_duo/iBeatles/test_data/SHORT_Run19'\n",
    "assert os.path.exists(main_directory)"
   ]
  },
  {
   "cell_type": "code",
   "execution_count": 3,
   "metadata": {
    "collapsed": false
   },
   "outputs": [
    {
     "name": "stdout",
     "output_type": "stream",
     "text": [
      "About to load 788 files\n"
     ]
    }
   ],
   "source": [
    "list_files = glob.glob(main_directory + '/*.fits')\n",
    "print(\"About to load {} files\".format(len(list_files)))"
   ]
  },
  {
   "cell_type": "code",
   "execution_count": 4,
   "metadata": {
    "collapsed": false
   },
   "outputs": [
    {
     "name": "stdout",
     "output_type": "stream",
     "text": [
      "Process took 2.1e+01s\n"
     ]
    }
   ],
   "source": [
    "time_before = time.time()\n",
    "\n",
    "w = widgets.IntProgress(descrption='Loading data')\n",
    "w.max = len(list_files)\n",
    "display(w)\n",
    "\n",
    "data = []\n",
    "for _index, _file in enumerate(list_files):\n",
    "    hdu_list = pyfits.open(_file)\n",
    "    _image = hdu_list[0].data\n",
    "    data.append(_image)\n",
    "    hdu_list.close()\n",
    "    w.value = _index + 1\n",
    "\n",
    "w.visible = False\n",
    "\n",
    "time_after = time.time()\n",
    "print(\"Process took {:.2}s\".format(time_after - time_before))"
   ]
  },
  {
   "cell_type": "code",
   "execution_count": null,
   "metadata": {
    "collapsed": true
   },
   "outputs": [],
   "source": [
    "# It took 21s to load the first time !"
   ]
  }
 ],
 "metadata": {
  "kernelspec": {
   "display_name": "Python 3",
   "language": "python",
   "name": "python3"
  },
  "language_info": {
   "codemirror_mode": {
    "name": "ipython",
    "version": 3
   },
   "file_extension": ".py",
   "mimetype": "text/x-python",
   "name": "python",
   "nbconvert_exporter": "python",
   "pygments_lexer": "ipython3",
   "version": "3.5.2"
  }
 },
 "nbformat": 4,
 "nbformat_minor": 0
}
