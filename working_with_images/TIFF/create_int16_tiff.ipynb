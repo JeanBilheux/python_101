{
 "cells": [
  {
   "cell_type": "markdown",
   "metadata": {},
   "source": [
    "http://tjelvarolsson.com/blog/saving-16bit-tiff-files-using-python/"
   ]
  },
  {
   "cell_type": "code",
   "execution_count": 8,
   "metadata": {
    "run_control": {
     "frozen": false,
     "read_only": false
    }
   },
   "outputs": [
    {
     "name": "stdout",
     "output_type": "stream",
     "text": [
      "Requirement already satisfied: libtiff in /Users/j35/anaconda/envs/py36/lib/python3.6/site-packages (0.4.2)\n",
      "Collecting TIFF\n",
      "\u001b[31m  Could not find a version that satisfies the requirement TIFF (from versions: )\u001b[0m\n",
      "\u001b[31mNo matching distribution found for TIFF\u001b[0m\n"
     ]
    }
   ],
   "source": [
    "!pip install libtiff"
   ]
  },
  {
   "cell_type": "code",
   "execution_count": 1,
   "metadata": {},
   "outputs": [
    {
     "ename": "ImportError",
     "evalue": "Failed to find TIFF library. Make sure that libtiff is installed and its location is listed in PATH|LD_LIBRARY_PATH|..",
     "output_type": "error",
     "traceback": [
      "\u001b[0;31m---------------------------------------------------------------------------\u001b[0m",
      "\u001b[0;31mImportError\u001b[0m                               Traceback (most recent call last)",
      "\u001b[0;32m<ipython-input-1-cdb02661fdbb>\u001b[0m in \u001b[0;36m<module>\u001b[0;34m()\u001b[0m\n\u001b[0;32m----> 1\u001b[0;31m \u001b[0;32mfrom\u001b[0m \u001b[0mlibtiff\u001b[0m \u001b[0;32mimport\u001b[0m \u001b[0mTIFFfile\u001b[0m\u001b[0;34m,\u001b[0m \u001b[0mTIFFimage\u001b[0m\u001b[0;34m\u001b[0m\u001b[0m\n\u001b[0m",
      "\u001b[0;32m~/anaconda/envs/py36/lib/python3.6/site-packages/libtiff/__init__.py\u001b[0m in \u001b[0;36m<module>\u001b[0;34m()\u001b[0m\n\u001b[1;32m     18\u001b[0m \u001b[0m__all__\u001b[0m \u001b[0;34m=\u001b[0m \u001b[0;34m[\u001b[0m\u001b[0;34m'TIFF'\u001b[0m\u001b[0;34m,\u001b[0m \u001b[0;34m'TIFF3D'\u001b[0m\u001b[0;34m,\u001b[0m \u001b[0;34m'TIFFfile'\u001b[0m\u001b[0;34m,\u001b[0m \u001b[0;34m'TiffArray'\u001b[0m\u001b[0;34m,\u001b[0m \u001b[0;34m'TiffFile'\u001b[0m\u001b[0;34m,\u001b[0m \u001b[0;34m'TiffFiles'\u001b[0m\u001b[0;34m,\u001b[0m \u001b[0;34m'TiffChannelsAndFiles'\u001b[0m\u001b[0;34m,\u001b[0m \u001b[0;34m'TiffBase'\u001b[0m\u001b[0;34m]\u001b[0m\u001b[0;34m\u001b[0m\u001b[0m\n\u001b[1;32m     19\u001b[0m \u001b[0;34m\u001b[0m\u001b[0m\n\u001b[0;32m---> 20\u001b[0;31m \u001b[0;32mfrom\u001b[0m \u001b[0;34m.\u001b[0m\u001b[0mlibtiff_ctypes\u001b[0m \u001b[0;32mimport\u001b[0m \u001b[0mlibtiff\u001b[0m\u001b[0;34m,\u001b[0m \u001b[0mTIFF\u001b[0m\u001b[0;34m,\u001b[0m \u001b[0mTIFF3D\u001b[0m\u001b[0;34m\u001b[0m\u001b[0m\n\u001b[0m\u001b[1;32m     21\u001b[0m \u001b[0;32mfrom\u001b[0m \u001b[0;34m.\u001b[0m\u001b[0mtiff\u001b[0m \u001b[0;32mimport\u001b[0m \u001b[0mTIFFfile\u001b[0m\u001b[0;34m,\u001b[0m \u001b[0mTIFFimage\u001b[0m\u001b[0;34m,\u001b[0m \u001b[0mTiffArray\u001b[0m\u001b[0;34m\u001b[0m\u001b[0m\n\u001b[1;32m     22\u001b[0m \u001b[0;32mfrom\u001b[0m \u001b[0;34m.\u001b[0m\u001b[0mtiff_file\u001b[0m \u001b[0;32mimport\u001b[0m \u001b[0mTiffFile\u001b[0m\u001b[0;34m\u001b[0m\u001b[0m\n",
      "\u001b[0;32m~/anaconda/envs/py36/lib/python3.6/site-packages/libtiff/libtiff_ctypes.py\u001b[0m in \u001b[0;36m<module>\u001b[0;34m()\u001b[0m\n\u001b[1;32m     44\u001b[0m         \u001b[0mlib\u001b[0m \u001b[0;34m=\u001b[0m \u001b[0mctypes\u001b[0m\u001b[0;34m.\u001b[0m\u001b[0mutil\u001b[0m\u001b[0;34m.\u001b[0m\u001b[0mfind_library\u001b[0m\u001b[0;34m(\u001b[0m\u001b[0;34m'tiff'\u001b[0m\u001b[0;34m)\u001b[0m\u001b[0;34m\u001b[0m\u001b[0m\n\u001b[1;32m     45\u001b[0m \u001b[0;32mif\u001b[0m \u001b[0mlib\u001b[0m \u001b[0;32mis\u001b[0m \u001b[0;32mNone\u001b[0m\u001b[0;34m:\u001b[0m\u001b[0;34m\u001b[0m\u001b[0m\n\u001b[0;32m---> 46\u001b[0;31m     raise ImportError('Failed to find TIFF library. Make sure that libtiff '\n\u001b[0m\u001b[1;32m     47\u001b[0m                       \u001b[0;34m'is installed and its location is listed in '\u001b[0m\u001b[0;34m\u001b[0m\u001b[0m\n\u001b[1;32m     48\u001b[0m                       'PATH|LD_LIBRARY_PATH|..')\n",
      "\u001b[0;31mImportError\u001b[0m: Failed to find TIFF library. Make sure that libtiff is installed and its location is listed in PATH|LD_LIBRARY_PATH|.."
     ]
    }
   ],
   "source": [
    "from libtiff import TIFFfile, TIFFimage"
   ]
  },
  {
   "cell_type": "code",
   "execution_count": null,
   "metadata": {
    "collapsed": true
   },
   "outputs": [],
   "source": []
  }
 ],
 "metadata": {
  "kernelspec": {
   "display_name": "Python 3",
   "language": "python",
   "name": "python3"
  },
  "toc": {
   "colors": {
    "hover_highlight": "#DAA520",
    "running_highlight": "#FF0000",
    "selected_highlight": "#FFD700"
   },
   "moveMenuLeft": true,
   "nav_menu": {
    "height": "12px",
    "width": "252px"
   },
   "navigate_menu": true,
   "number_sections": true,
   "sideBar": true,
   "threshold": 4,
   "toc_cell": false,
   "toc_section_display": "block",
   "toc_window_display": false
  }
 },
 "nbformat": 4,
 "nbformat_minor": 2
}
