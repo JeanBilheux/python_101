{
 "cells": [
  {
   "cell_type": "markdown",
   "metadata": {
    "collapsed": true,
    "run_control": {
     "frozen": false,
     "read_only": false
    }
   },
   "source": [
    "# Learning how to load (PIL), manipulate data (numpy)  and save them back in tiff (16bits) (PIL)"
   ]
  },
  {
   "cell_type": "markdown",
   "metadata": {
    "run_control": {
     "frozen": false,
     "read_only": false
    }
   },
   "source": [
    "Python Imaging Library (PIL) documentation can be found [here](http://effbot.org/imagingbook/pil-index.htm)"
   ]
  },
  {
   "cell_type": "code",
   "execution_count": 1,
   "metadata": {
    "run_control": {
     "frozen": false,
     "read_only": false
    }
   },
   "outputs": [],
   "source": [
    "from PIL import Image\n",
    "\n",
    "%matplotlib notebook\n",
    "import matplotlib.pyplot as plt\n",
    "import numpy as np\n",
    "\n",
    "import time"
   ]
  },
  {
   "cell_type": "code",
   "execution_count": 86,
   "metadata": {
    "run_control": {
     "frozen": false,
     "read_only": false
    }
   },
   "outputs": [],
   "source": [
    "filename = '/Users/j35/Desktop/image001_with_gamma.tif'"
   ]
  },
  {
   "cell_type": "code",
   "execution_count": 126,
   "metadata": {
    "run_control": {
     "frozen": false,
     "read_only": false
    }
   },
   "outputs": [],
   "source": [
    "data = np.ones((10, 10))*10000\n",
    "data = np.asarray(data, dtype=np.int16)"
   ]
  },
  {
   "cell_type": "code",
   "execution_count": 136,
   "metadata": {},
   "outputs": [
    {
     "name": "stdout",
     "output_type": "stream",
     "text": [
      "int16\n",
      "[[10000 10000 10000 10000 10000 10000 10000 10000 10000 10000]\n",
      " [10000 10000 10000 10000 10000 10000 10000 10000 10000 10000]\n",
      " [10000 10000 10000 10000 10000 10000 10000 10000 10000 10000]\n",
      " [10000 10000 10000 10000 10000 10000 10000 10000 10000 10000]\n",
      " [10000 10000 10000 10000 10000 10000 10000 10000 10000 10000]\n",
      " [10000 10000 10000 10000 10000 32767 10000 10000 10000 10000]\n",
      " [10000 10000 10000 10000 10000 10000 10000 10000 10000 10000]\n",
      " [10000 10000 10000 10000 10000 10000 10000 10000 10000 10000]\n",
      " [10000 10000 10000 10000 10000 10000 10000 10000 10000 10000]\n",
      " [10000 10000 10000 10000 10000 10000 10000 10000 10000 10000]]\n",
      "\n",
      "float32\n",
      "[[10000. 10000. 10000. 10000. 10000. 10000. 10000. 10000. 10000. 10000.]\n",
      " [10000. 10000. 10000. 10000. 10000. 10000. 10000. 10000. 10000. 10000.]\n",
      " [10000. 10000. 10000. 10000. 10000. 10000. 10000. 10000. 10000. 10000.]\n",
      " [10000. 10000. 10000. 10000. 10000. 10000. 10000. 10000. 10000. 10000.]\n",
      " [10000. 10000. 10000. 10000. 10000. 10000. 10000. 10000. 10000. 10000.]\n",
      " [10000. 10000. 10000. 10000. 10000. 32767. 10000. 10000. 10000. 10000.]\n",
      " [10000. 10000. 10000. 10000. 10000. 10000. 10000. 10000. 10000. 10000.]\n",
      " [10000. 10000. 10000. 10000. 10000. 10000. 10000. 10000. 10000. 10000.]\n",
      " [10000. 10000. 10000. 10000. 10000. 10000. 10000. 10000. 10000. 10000.]\n",
      " [10000. 10000. 10000. 10000. 10000. 10000. 10000. 10000. 10000. 10000.]]\n",
      "\n",
      "int16\n",
      "[[10000 10000 10000 10000 10000 10000 10000 10000 10000 10000]\n",
      " [10000 10000 10000 10000 10000 10000 10000 10000 10000 10000]\n",
      " [10000 10000 10000 10000 10000 10000 10000 10000 10000 10000]\n",
      " [10000 10000 10000 10000 10000 10000 10000 10000 10000 10000]\n",
      " [10000 10000 10000 10000 10000 10000 10000 10000 10000 10000]\n",
      " [10000 10000 10000 10000 10000 32767 10000 10000 10000 10000]\n",
      " [10000 10000 10000 10000 10000 10000 10000 10000 10000 10000]\n",
      " [10000 10000 10000 10000 10000 10000 10000 10000 10000 10000]\n",
      " [10000 10000 10000 10000 10000 10000 10000 10000 10000 10000]\n",
      " [10000 10000 10000 10000 10000 10000 10000 10000 10000 10000]]\n"
     ]
    }
   ],
   "source": [
    "print(data.dtype)\n",
    "print(data)\n",
    "\n",
    "print(\"\")\n",
    "\n",
    "new_data = np.asarray(data, dtype=np.float32)\n",
    "print(new_data.dtype)\n",
    "print(new_data)\n",
    "\n",
    "print(\"\")\n",
    "\n",
    "new_data = np.asarray(new_data, dtype=np.int16)\n",
    "print(new_data.dtype)\n",
    "print(new_data)"
   ]
  },
  {
   "cell_type": "code",
   "execution_count": 128,
   "metadata": {},
   "outputs": [
    {
     "data": {
      "text/plain": [
       "iinfo(min=-32768, max=32767, dtype=int16)"
      ]
     },
     "execution_count": 128,
     "metadata": {},
     "output_type": "execute_result"
    }
   ],
   "source": [
    "np.iinfo(data.dtype)"
   ]
  },
  {
   "cell_type": "code",
   "execution_count": 129,
   "metadata": {},
   "outputs": [],
   "source": [
    "data[5, 5] = np.iinfo(data.dtype).max"
   ]
  },
  {
   "cell_type": "code",
   "execution_count": 130,
   "metadata": {},
   "outputs": [
    {
     "data": {
      "text/plain": [
       "dtype('int16')"
      ]
     },
     "execution_count": 130,
     "metadata": {},
     "output_type": "execute_result"
    }
   ],
   "source": [
    "data.dtype"
   ]
  },
  {
   "cell_type": "code",
   "execution_count": 124,
   "metadata": {
    "run_control": {
     "frozen": false,
     "read_only": false
    }
   },
   "outputs": [],
   "source": [
    "my_file = Image.fromarray(data)\n",
    "my_file.save(filename, dtype=np.int16)"
   ]
  },
  {
   "cell_type": "code",
   "execution_count": 125,
   "metadata": {},
   "outputs": [
    {
     "data": {
      "text/plain": [
       "dtype('int16')"
      ]
     },
     "execution_count": 125,
     "metadata": {},
     "output_type": "execute_result"
    }
   ],
   "source": [
    "data.dtype"
   ]
  },
  {
   "cell_type": "markdown",
   "metadata": {},
   "source": [
    "checking the format of the data created"
   ]
  },
  {
   "cell_type": "code",
   "execution_count": 117,
   "metadata": {
    "collapsed": true
   },
   "outputs": [],
   "source": [
    "loaded_data = Image.open(filename)\n",
    "data = np.asarray(loaded_data)"
   ]
  },
  {
   "cell_type": "code",
   "execution_count": 118,
   "metadata": {},
   "outputs": [
    {
     "data": {
      "text/plain": [
       "dtype('int32')"
      ]
     },
     "execution_count": 118,
     "metadata": {},
     "output_type": "execute_result"
    }
   ],
   "source": [
    "data.dtype"
   ]
  },
  {
   "cell_type": "markdown",
   "metadata": {
    "run_control": {
     "frozen": false,
     "read_only": false
    }
   },
   "source": [
    "# Creating set of images "
   ]
  },
  {
   "cell_type": "code",
   "execution_count": null,
   "metadata": {
    "collapsed": true
   },
   "outputs": [],
   "source": [
    "loade"
   ]
  },
  {
   "cell_type": "code",
   "execution_count": null,
   "metadata": {
    "collapsed": true
   },
   "outputs": [],
   "source": []
  },
  {
   "cell_type": "code",
   "execution_count": null,
   "metadata": {
    "collapsed": true
   },
   "outputs": [],
   "source": []
  },
  {
   "cell_type": "code",
   "execution_count": 16,
   "metadata": {
    "run_control": {
     "frozen": false,
     "read_only": false
    }
   },
   "outputs": [],
   "source": [
    "output_folder = '/Users/j35/Desktop/ideal_water_intake_images/'\n",
    "display_flag = False"
   ]
  },
  {
   "cell_type": "code",
   "execution_count": 17,
   "metadata": {
    "run_control": {
     "frozen": false,
     "read_only": false
    },
    "scrolled": false
   },
   "outputs": [],
   "source": [
    "data = np.ones([100, 100])\n",
    "data[94:,:] = 0 #bottom part of image\n",
    "\n",
    "if display_flag:\n",
    "    figure = plt.figure(figsize=(5,5))\n",
    "    ax_img = plt.subplot(111)\n",
    "\n",
    "counter = 0\n",
    "for index in np.arange(99,0,-1):\n",
    "    data[index, 48:53] = 0\n",
    "    file_name = \"image_{:03}.tif\".format(counter)\n",
    "    counter += 1\n",
    "    \n",
    "    if display_flag:\n",
    "        ax_img.imshow(data, \n",
    "                     cmap='viridis')\n",
    "        figure.canvas.draw()\n",
    "        time.sleep(1e-7)\n",
    "    \n",
    "    full_file_name = os.path.join(output_folder, file_name)\n",
    "    my_image = Image.fromarray(data)\n",
    "    my_image.save(full_file_name)    "
   ]
  },
  {
   "cell_type": "code",
   "execution_count": null,
   "metadata": {
    "run_control": {
     "frozen": false,
     "read_only": false
    }
   },
   "outputs": [],
   "source": []
  }
 ],
 "metadata": {
  "anaconda-cloud": {},
  "kernelspec": {
   "display_name": "Python 3",
   "language": "python",
   "name": "python3"
  },
  "language_info": {
   "codemirror_mode": {
    "name": "ipython",
    "version": 3
   },
   "file_extension": ".py",
   "mimetype": "text/x-python",
   "name": "python",
   "nbconvert_exporter": "python",
   "pygments_lexer": "ipython3",
   "version": "3.6.3"
  },
  "toc": {
   "colors": {
    "hover_highlight": "#DAA520",
    "running_highlight": "#FF0000",
    "selected_highlight": "#FFD700"
   },
   "moveMenuLeft": true,
   "nav_menu": {
    "height": "156px",
    "width": "252px"
   },
   "navigate_menu": true,
   "number_sections": true,
   "sideBar": true,
   "threshold": 4,
   "toc_cell": false,
   "toc_section_display": "block",
   "toc_window_display": false
  }
 },
 "nbformat": 4,
 "nbformat_minor": 1
}
