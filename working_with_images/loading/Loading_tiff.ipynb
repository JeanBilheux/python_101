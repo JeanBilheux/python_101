{
 "cells": [
  {
   "cell_type": "code",
   "execution_count": 26,
   "metadata": {
    "collapsed": false
   },
   "outputs": [
    {
     "name": "stdout",
     "output_type": "stream",
     "text": [
      "Using Anaconda Cloud api site https://api.anaconda.org\n",
      "Fetching package metadata .........\n",
      "Solving package specifications: ..........\n",
      "\n",
      "Package plan for installation in environment /Users/j35/anaconda/envs/py35:\n",
      "\n",
      "The following packages will be downloaded:\n",
      "\n",
      "    package                    |            build\n",
      "    ---------------------------|-----------------\n",
      "    tifffile-0.9.0             |      np111py35_0         119 KB  conda-forge\n",
      "\n",
      "The following NEW packages will be INSTALLED:\n",
      "\n",
      "    tifffile: 0.9.0-np111py35_0 conda-forge\n",
      "\n",
      "Fetching packages ...\n",
      "tifffile-0.9.0 100% |################################| Time: 0:00:00   1.47 MB/s\n",
      "Extracting packages ...\n",
      "[      COMPLETE      ]|###################################################| 100%\n",
      "Linking packages ...\n",
      "[      COMPLETE      ]|###################################################| 100%\n"
     ]
    }
   ],
   "source": [
    "!conda install tifffile -y -c conda-forge"
   ]
  },
  {
   "cell_type": "code",
   "execution_count": 1,
   "metadata": {
    "collapsed": true
   },
   "outputs": [],
   "source": [
    "import scipy as sp\n",
    "import scipy.misc\n",
    "import os"
   ]
  },
  {
   "cell_type": "code",
   "execution_count": 16,
   "metadata": {
    "collapsed": true
   },
   "outputs": [],
   "source": [
    "%matplotlib inline\n",
    "import matplotlib.pyplot as plt"
   ]
  },
  {
   "cell_type": "code",
   "execution_count": 8,
   "metadata": {
    "collapsed": false
   },
   "outputs": [],
   "source": [
    "basedir = os.path.join('..', 'data')\n",
    "data_file_short = 'data.tif'\n",
    "data_file = os.path.join(basedir, data_file_short)\n",
    "im0 = sp.misc.imread(data_file, True)"
   ]
  },
  {
   "cell_type": "code",
   "execution_count": 9,
   "metadata": {
    "collapsed": false
   },
   "outputs": [
    {
     "data": {
      "text/plain": [
       "array([[ 1.        ,  1.        ,  1.        , ...,  1.        ,\n",
       "         1.        ,  1.        ],\n",
       "       [ 1.        ,  1.        ,  1.        , ...,  1.        ,\n",
       "         1.        ,  1.        ],\n",
       "       [ 1.        ,  1.        ,  1.        , ...,  1.        ,\n",
       "         1.        ,  1.        ],\n",
       "       ..., \n",
       "       [ 1.        ,  1.        ,  1.        , ...,  1.        ,\n",
       "         1.        ,  1.        ],\n",
       "       [ 1.        ,  0.99082494,  0.9252423 , ...,  0.95730591,\n",
       "         0.98460561,  0.93192017],\n",
       "       [ 0.9459787 ,  0.75743192,  0.55793023, ...,  0.72299832,\n",
       "         0.72856855,  0.64480394]], dtype=float32)"
      ]
     },
     "execution_count": 9,
     "metadata": {},
     "output_type": "execute_result"
    }
   ],
   "source": [
    "im0"
   ]
  },
  {
   "cell_type": "code",
   "execution_count": 43,
   "metadata": {
    "collapsed": true
   },
   "outputs": [],
   "source": [
    "from PIL import Image"
   ]
  },
  {
   "cell_type": "code",
   "execution_count": 46,
   "metadata": {
    "collapsed": true
   },
   "outputs": [],
   "source": [
    "import pprint"
   ]
  },
  {
   "cell_type": "code",
   "execution_count": 55,
   "metadata": {
    "collapsed": false
   },
   "outputs": [
    {
     "name": "stdout",
     "output_type": "stream",
     "text": [
      "{'_TiffImageFile__first': 10152008,\n",
      " '_TiffImageFile__fp': <_io.BufferedReader name='../data/tiff_with_metadata.tiff'>,\n",
      " '_TiffImageFile__frame': 0,\n",
      " '_TiffImageFile__next': 0,\n",
      " '_compression': 'raw',\n",
      " '_frame_pos': [10152008],\n",
      " '_is_animated': None,\n",
      " '_n_frames': None,\n",
      " '_planar_configuration': 1,\n",
      " 'category': 0,\n",
      " 'decoderconfig': (),\n",
      " 'decodermaxblock': 65536,\n",
      " 'filename': '../data/tiff_with_metadata.tiff',\n",
      " 'fp': <_io.BufferedReader name='../data/tiff_with_metadata.tiff'>,\n",
      " 'ifd': <PIL.TiffImagePlugin.ImageFileDirectory_v1 object at 0x114d5d6a0>,\n",
      " 'im': None,\n",
      " 'info': {'compression': 'raw', 'resolution': (1, 1)},\n",
      " 'mode': 'I;16',\n",
      " 'palette': None,\n",
      " 'pyaccess': None,\n",
      " 'readonly': 1,\n",
      " 'size': (2350, 2160),\n",
      " 'tag': <PIL.TiffImagePlugin.ImageFileDirectory_v1 object at 0x114d5d6a0>,\n",
      " 'tag_v2': <PIL.TiffImagePlugin.ImageFileDirectory_v2 object at 0x1156c9748>,\n",
      " 'tile': [('raw', (0, 0, 2350, 2160), 8, ('I;16', 0, 1))],\n",
      " 'use_load_libtiff': False}\n"
     ]
    }
   ],
   "source": [
    "data_file_metadata = os.path.join(basedir, 'tiff_with_metadata.tiff')\n",
    "im = Image.open(data_file_metadata)\n",
    "pprint.pprint(im.__dict__)"
   ]
  },
  {
   "cell_type": "markdown",
   "metadata": {},
   "source": [
    "### tifffile "
   ]
  },
  {
   "cell_type": "code",
   "execution_count": 27,
   "metadata": {
    "collapsed": true
   },
   "outputs": [],
   "source": [
    "import tifffile"
   ]
  },
  {
   "cell_type": "code",
   "execution_count": 29,
   "metadata": {
    "collapsed": false
   },
   "outputs": [],
   "source": [
    "with tifffile.TiffFile(data_file) as tif:\n",
    "    image = tif.asarray()\n",
    "    "
   ]
  },
  {
   "cell_type": "code",
   "execution_count": 30,
   "metadata": {
    "collapsed": false
   },
   "outputs": [
    {
     "data": {
      "text/plain": [
       "array([[ 1.        ,  1.        ,  1.        , ...,  1.        ,\n",
       "         1.        ,  1.        ],\n",
       "       [ 1.        ,  1.        ,  1.        , ...,  1.        ,\n",
       "         1.        ,  1.        ],\n",
       "       [ 1.        ,  1.        ,  1.        , ...,  1.        ,\n",
       "         1.        ,  1.        ],\n",
       "       ..., \n",
       "       [ 1.        ,  1.        ,  1.        , ...,  1.        ,\n",
       "         1.        ,  1.        ],\n",
       "       [ 1.        ,  0.99082494,  0.9252423 , ...,  0.95730591,\n",
       "         0.98460561,  0.93192017],\n",
       "       [ 0.9459787 ,  0.75743192,  0.55793023, ...,  0.72299832,\n",
       "         0.72856855,  0.64480394]], dtype=float32)"
      ]
     },
     "execution_count": 30,
     "metadata": {},
     "output_type": "execute_result"
    }
   ],
   "source": [
    "image"
   ]
  },
  {
   "cell_type": "code",
   "execution_count": 31,
   "metadata": {
    "collapsed": true
   },
   "outputs": [],
   "source": [
    "tif = tifffile.TiffFile(data_file)"
   ]
  },
  {
   "cell_type": "code",
   "execution_count": 32,
   "metadata": {
    "collapsed": false
   },
   "outputs": [
    {
     "data": {
      "text/plain": [
       "os.stat_result(st_mode=33188, st_ino=35621503, st_dev=16777219, st_nlink=1, st_uid=1376125886, st_gid=1551083765, st_size=1048710, st_atime=1474472203, st_mtime=1468934702, st_ctime=1468934702)"
      ]
     },
     "execution_count": 32,
     "metadata": {},
     "output_type": "execute_result"
    }
   ],
   "source": [
    "tif.fstat"
   ]
  },
  {
   "cell_type": "markdown",
   "metadata": {},
   "source": [
    "### using tiffinfo (shell script)"
   ]
  },
  {
   "cell_type": "code",
   "execution_count": 56,
   "metadata": {
    "collapsed": false
   },
   "outputs": [
    {
     "name": "stdout",
     "output_type": "stream",
     "text": [
      "TIFFOpen: data_file_metadata: No such file or directory.\r\n"
     ]
    }
   ],
   "source": [
    "!tiffinfo data_file_metadata"
   ]
  },
  {
   "cell_type": "code",
   "execution_count": 58,
   "metadata": {
    "collapsed": false
   },
   "outputs": [
    {
     "name": "stdout",
     "output_type": "stream",
     "text": [
      "TIFFReadDirectory: Warning, Unknown field with tag 65000 (0xfde8) encountered.\r\n",
      "TIFFReadDirectory: Warning, Unknown field with tag 65001 (0xfde9) encountered.\r\n",
      "TIFFReadDirectory: Warning, Unknown field with tag 65002 (0xfdea) encountered.\r\n",
      "TIFFReadDirectory: Warning, Unknown field with tag 65003 (0xfdeb) encountered.\r\n",
      "TIFFReadDirectory: Warning, Unknown field with tag 65010 (0xfdf2) encountered.\r\n",
      "TIFFReadDirectory: Warning, Unknown field with tag 65011 (0xfdf3) encountered.\r\n",
      "TIFFReadDirectory: Warning, Unknown field with tag 65012 (0xfdf4) encountered.\r\n",
      "TIFFReadDirectory: Warning, Unknown field with tag 65013 (0xfdf5) encountered.\r\n",
      "TIFFReadDirectory: Warning, Unknown field with tag 65014 (0xfdf6) encountered.\r\n",
      "TIFFReadDirectory: Warning, Unknown field with tag 65015 (0xfdf7) encountered.\r\n",
      "TIFFReadDirectory: Warning, Unknown field with tag 65016 (0xfdf8) encountered.\r\n",
      "TIFFReadDirectory: Warning, Unknown field with tag 65017 (0xfdf9) encountered.\r\n",
      "TIFFReadDirectory: Warning, Unknown field with tag 65018 (0xfdfa) encountered.\r\n",
      "TIFFReadDirectory: Warning, Unknown field with tag 65019 (0xfdfb) encountered.\r\n",
      "TIFFReadDirectory: Warning, Unknown field with tag 65020 (0xfdfc) encountered.\r\n",
      "TIFFReadDirectory: Warning, Unknown field with tag 65021 (0xfdfd) encountered.\r\n",
      "TIFFReadDirectory: Warning, Unknown field with tag 65022 (0xfdfe) encountered.\r\n",
      "TIFFReadDirectory: Warning, Unknown field with tag 65023 (0xfdff) encountered.\r\n",
      "TIFFReadDirectory: Warning, Unknown field with tag 65024 (0xfe00) encountered.\r\n",
      "TIFFReadDirectory: Warning, Unknown field with tag 65025 (0xfe01) encountered.\r\n",
      "TIFFReadDirectory: Warning, Unknown field with tag 65026 (0xfe02) encountered.\r\n",
      "TIFFReadDirectory: Warning, Unknown field with tag 65027 (0xfe03) encountered.\r\n",
      "TIFFReadDirectory: Warning, Unknown field with tag 65028 (0xfe04) encountered.\r\n",
      "TIFFReadDirectory: Warning, Unknown field with tag 65029 (0xfe05) encountered.\r\n",
      "TIFFReadDirectory: Warning, Unknown field with tag 65030 (0xfe06) encountered.\r\n",
      "TIFFReadDirectory: Warning, Unknown field with tag 65031 (0xfe07) encountered.\r\n",
      "TIFFReadDirectory: Warning, Unknown field with tag 65032 (0xfe08) encountered.\r\n",
      "TIFFReadDirectory: Warning, Unknown field with tag 65033 (0xfe09) encountered.\r\n",
      "TIFFReadDirectory: Warning, Unknown field with tag 65034 (0xfe0a) encountered.\r\n",
      "TIFFReadDirectory: Warning, Unknown field with tag 65035 (0xfe0b) encountered.\r\n",
      "TIFFReadDirectory: Warning, Unknown field with tag 65036 (0xfe0c) encountered.\r\n",
      "TIFFReadDirectory: Warning, Unknown field with tag 65037 (0xfe0d) encountered.\r\n",
      "TIFFReadDirectory: Warning, Unknown field with tag 65038 (0xfe0e) encountered.\r\n",
      "TIFFReadDirectory: Warning, Unknown field with tag 65039 (0xfe0f) encountered.\r\n",
      "TIFFReadDirectory: Warning, Unknown field with tag 65040 (0xfe10) encountered.\r\n",
      "TIFFReadDirectory: Warning, Unknown field with tag 65041 (0xfe11) encountered.\r\n",
      "TIFFReadDirectory: Warning, Unknown field with tag 65042 (0xfe12) encountered.\r\n",
      "TIFFReadDirectory: Warning, Unknown field with tag 65043 (0xfe13) encountered.\r\n",
      "TIFFReadDirectory: Warning, Unknown field with tag 65044 (0xfe14) encountered.\r\n",
      "TIFFReadDirectory: Warning, Unknown field with tag 65045 (0xfe15) encountered.\r\n",
      "TIFFReadDirectory: Warning, Unknown field with tag 65046 (0xfe16) encountered.\r\n",
      "TIFFReadDirectory: Warning, Unknown field with tag 65047 (0xfe17) encountered.\r\n",
      "TIFFReadDirectory: Warning, Unknown field with tag 65048 (0xfe18) encountered.\r\n",
      "TIFFReadDirectory: Warning, Unknown field with tag 65049 (0xfe19) encountered.\r\n",
      "TIFFReadDirectory: Warning, Unknown field with tag 65050 (0xfe1a) encountered.\r\n",
      "TIFFReadDirectory: Warning, Unknown field with tag 65051 (0xfe1b) encountered.\r\n",
      "TIFFReadDirectory: Warning, Unknown field with tag 65052 (0xfe1c) encountered.\r\n",
      "TIFFReadDirectory: Warning, Unknown field with tag 65053 (0xfe1d) encountered.\r\n",
      "TIFFReadDirectory: Warning, Unknown field with tag 65054 (0xfe1e) encountered.\r\n",
      "TIFFReadDirectory: Warning, Unknown field with tag 65055 (0xfe1f) encountered.\r\n",
      "TIFFReadDirectory: Warning, Unknown field with tag 65056 (0xfe20) encountered.\r\n",
      "TIFFReadDirectory: Warning, Unknown field with tag 65057 (0xfe21) encountered.\r\n",
      "TIFFReadDirectory: Warning, Unknown field with tag 65058 (0xfe22) encountered.\r\n",
      "TIFFReadDirectory: Warning, Unknown field with tag 65059 (0xfe23) encountered.\r\n",
      "TIFFReadDirectory: Warning, Unknown field with tag 65060 (0xfe24) encountered.\r\n",
      "TIFFReadDirectory: Warning, Unknown field with tag 65061 (0xfe25) encountered.\r\n",
      "TIFFReadDirectory: Warning, Unknown field with tag 65062 (0xfe26) encountered.\r\n",
      "TIFFReadDirectory: Warning, Unknown field with tag 65063 (0xfe27) encountered.\r\n",
      "TIFFReadDirectory: Warning, Unknown field with tag 65064 (0xfe28) encountered.\r\n",
      "TIFFReadDirectory: Warning, Unknown field with tag 65065 (0xfe29) encountered.\r\n",
      "TIFFReadDirectory: Warning, Unknown field with tag 65066 (0xfe2a) encountered.\r\n",
      "TIFFReadDirectory: Warning, Unknown field with tag 65067 (0xfe2b) encountered.\r\n",
      "TIFFReadDirectory: Warning, Unknown field with tag 65068 (0xfe2c) encountered.\r\n",
      "TIFFReadDirectory: Warning, Unknown field with tag 65069 (0xfe2d) encountered.\r\n",
      "TIFFReadDirectory: Warning, Unknown field with tag 65070 (0xfe2e) encountered.\r\n",
      "TIFFReadDirectory: Warning, Unknown field with tag 65071 (0xfe2f) encountered.\r\n",
      "TIFFReadDirectory: Warning, Unknown field with tag 65072 (0xfe30) encountered.\r\n",
      "TIFFReadDirectory: Warning, Unknown field with tag 65073 (0xfe31) encountered.\r\n",
      "TIFFReadDirectory: Warning, Unknown field with tag 65074 (0xfe32) encountered.\r\n",
      "TIFFReadDirectory: Warning, Unknown field with tag 65075 (0xfe33) encountered.\r\n",
      "TIFFReadDirectory: Warning, Unknown field with tag 65076 (0xfe34) encountered.\r\n",
      "TIFFReadDirectory: Warning, Unknown field with tag 65077 (0xfe35) encountered.\r\n",
      "TIFFReadDirectory: Warning, Unknown field with tag 65078 (0xfe36) encountered.\r\n",
      "TIFF Directory at offset 0x9ae848 (10152008)\r\n",
      "  Image Width: 2350 Image Length: 2160\r\n",
      "  Bits/Sample: 16\r\n",
      "  Sample Format: unsigned integer\r\n",
      "  Compression Scheme: None\r\n",
      "  Photometric Interpretation: min-is-black\r\n",
      "  Samples/Pixel: 1\r\n",
      "  Rows/Strip: 2160\r\n",
      "  Planar Configuration: single image plane\r\n",
      "  Make: Unknown\r\n",
      "  Model: Unknown\r\n",
      "  Software: EPICS areaDetector\r\n",
      "  Tag 65000: 1474426059.602074\r\n",
      "  Tag 65001: 56\r\n",
      "  Tag 65002: 843274059\r\n",
      "  Tag 65003: 602125815\r\n",
      "  Tag 65010: FileNameStr:CO-11-uptake\r\n",
      "  Tag 65011: InstrumentStr:CG1D\r\n",
      "  Tag 65012: IPTS:17255\r\n",
      "  Tag 65013: ITEMS:-1\r\n",
      "  Tag 65014: SampleDescStr:OB_Ti64Blocks\r\n",
      "  Tag 65015: NotesStr:step_size_0.23_aperture_size_8.2mm\r\n",
      "  Tag 65016: DataSetStr:3D\r\n",
      "  Tag 65017: DataAcqModeStr:White Beam\r\n",
      "  Tag 65018: DataTypeStr:OB\r\n",
      "  Tag 65019: ModelStr:DG-152X-C1E-FI\r\n",
      "  Tag 65020: ManufacturerStr:Andor\r\n",
      "  Tag 65021: ExposureTime:0.010000\r\n",
      "  Tag 65022: ExposurePeriod:0.010000\r\n",
      "  Tag 65023: NumExposures:1\r\n",
      "  Tag 65024: NumImages:500\r\n",
      "  Tag 65025: ImageCounter:56\r\n",
      "  Tag 65026: MinX:1\r\n",
      "  Tag 65027: MinY:1\r\n",
      "  Tag 65028: SizeX:2350\r\n",
      "  Tag 65029: SizeY:2160\r\n",
      "  Tag 65030: Temperature:0.000000\r\n",
      "  Tag 65031: TemperatureActual:-0.440000\r\n",
      "  Tag 65032: MotScanDeviceStr:Small Rot\r\n",
      "  Tag 65033: RotationActual:0.000132\r\n",
      "  Tag 65034: MotLiftTable.RBV:126.609270\r\n",
      "  Tag 65035: MotLiftTable:126.400000\r\n",
      "  Tag 65036: MotShortAxis.RBV:82.011000\r\n",
      "  Tag 65037: MotShortAxis:82.000000\r\n",
      "  Tag 65038: MotLongAxis.RBV:354.977000\r\n",
      "  Tag 65039: MotLongAxis:355.000000\r\n",
      "  Tag 65040: MotRotTable.RBV:270.157500\r\n",
      "  Tag 65041: MotRotTable:270.157500\r\n",
      "  Tag 65042: MotSmallRotTable.RBV:0.000132\r\n",
      "  Tag 65043: MotSmallRotTable:0.000000\r\n",
      "  Tag 65044: MotZaberRot.RBV:359.997640\r\n",
      "  Tag 65045: MotZaberRot:359.999751\r\n",
      "  Tag 65046: MotDetTable.RBV:542.000000\r\n",
      "  Tag 65047: MotDetTable:542.000000\r\n",
      "  Tag 65048: MotCameraVert.RBV:-51.699796\r\n",
      "  Tag 65049: MotCameraVert:-51.699796\r\n",
      "  Tag 65050: MotHoriTrans.RBV:28.000000\r\n",
      "  Tag 65051: MotHoriTrans:28.000000\r\n",
      "  Tag 65052: MotVertTrans.RBV:60.000000\r\n",
      "  Tag 65053: MotVertTrans:60.000000\r\n",
      "  Tag 65054: MotDiffuser.RBV:86.300000\r\n",
      "  Tag 65055: MotDiffuser:86.300000\r\n",
      "  Tag 65056: MotAperture.RBV:254.300000\r\n",
      "  Tag 65057: MotAperture:254.300000\r\n",
      "  Tag 65058: MotSlitVB.RBV:18.000000\r\n",
      "  Tag 65059: MotSlitVB:18.000000\r\n",
      "  Tag 65060: MotSlitVT.RBV:18.000000\r\n",
      "  Tag 65061: MotSlitVT:18.000000\r\n",
      "  Tag 65062: MotSlitHR.RBV:15.000000\r\n",
      "  Tag 65063: MotSlitHR:15.000000\r\n",
      "  Tag 65064: MotSlitHL.RBV:18.000000\r\n",
      "  Tag 65065: MotSlitHL:18.000000\r\n",
      "  Tag 65066: AndorCMOSFrameRate:100.000000\r\n",
      "  Tag 65067: AndorCMOSPreAmpGain:2\r\n",
      "  Tag 65068: AndorCMOSBinning:0\r\n",
      "  Tag 65069: AndorCMOSReadoutRate:3\r\n",
      "  Tag 65070: AndorCMOSShutterMode:0\r\n",
      "  Tag 65071: AndorCMOSSerialStr:VSC-00990\r\n",
      "  Tag 65072: AndorCMOSFirmareStr:12.10.23.0\r\n",
      "  Tag 65073: AndorCMOSSoftwareStr:3.9.30003.0\r\n",
      "  Tag 65074: AndorCMOSControllerStr:3\r\n",
      "  Tag 65075: AndorCMOSTempStatus:1\r\n",
      "  Tag 65076: AndorCMOSSensorCooling:1\r\n",
      "  Tag 65077: AndorCMOSFanSpeed:1\r\n",
      "  Tag 65078: IntegrationMode:No Integration\r\n"
     ]
    }
   ],
   "source": [
    "!tiffinfo /Users/j35/git/python_tutorial/python/working_with_images/TIFF/images/tiff_with_metadata.tiff"
   ]
  },
  {
   "cell_type": "code",
   "execution_count": null,
   "metadata": {
    "collapsed": true
   },
   "outputs": [],
   "source": []
  }
 ],
 "metadata": {
  "kernelspec": {
   "display_name": "Python 3",
   "language": "python",
   "name": "python3"
  },
  "language_info": {
   "codemirror_mode": {
    "name": "ipython",
    "version": 3
   },
   "file_extension": ".py",
   "mimetype": "text/x-python",
   "name": "python",
   "nbconvert_exporter": "python",
   "pygments_lexer": "ipython3",
   "version": "3.5.1"
  }
 },
 "nbformat": 4,
 "nbformat_minor": 0
}
