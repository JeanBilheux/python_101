{
 "cells": [
  {
   "cell_type": "code",
   "execution_count": 1,
   "metadata": {
    "collapsed": true
   },
   "outputs": [],
   "source": [
    "from PIL import Image"
   ]
  },
  {
   "cell_type": "code",
   "execution_count": 2,
   "metadata": {
    "collapsed": false
   },
   "outputs": [],
   "source": [
    "%matplotlib inline\n",
    "import matplotlib.pyplot as plt"
   ]
  },
  {
   "cell_type": "code",
   "execution_count": 3,
   "metadata": {
    "collapsed": true
   },
   "outputs": [],
   "source": [
    "import os\n",
    "import numpy as np"
   ]
  },
  {
   "cell_type": "code",
   "execution_count": 4,
   "metadata": {
    "collapsed": false
   },
   "outputs": [
    {
     "name": "stderr",
     "output_type": "stream",
     "text": [
      "/Users/j35/anaconda/lib/python3.4/site-packages/IPython/html.py:14: ShimWarning: The `IPython.html` package has been deprecated. You should import from `notebook` instead. `IPython.html.widgets` has moved to `ipywidgets`.\n",
      "  \"`IPython.html.widgets` has moved to `ipywidgets`.\", ShimWarning)\n"
     ]
    }
   ],
   "source": [
    "from IPython.html import widgets\n",
    "from IPython.html.widgets import interact\n",
    "from IPython.display import display"
   ]
  },
  {
   "cell_type": "code",
   "execution_count": 5,
   "metadata": {
    "collapsed": true
   },
   "outputs": [],
   "source": [
    "from PyQt4 import QtGui"
   ]
  },
  {
   "cell_type": "code",
   "execution_count": 6,
   "metadata": {
    "collapsed": true
   },
   "outputs": [],
   "source": [
    "import imreg_dft as ird"
   ]
  },
  {
   "cell_type": "code",
   "execution_count": 67,
   "metadata": {
    "collapsed": true
   },
   "outputs": [],
   "source": [
    "import scipy as sp  #this won't work withou imreg_dft somehow!!!"
   ]
  },
  {
   "cell_type": "markdown",
   "metadata": {},
   "source": [
    "### Define working images"
   ]
  },
  {
   "cell_type": "code",
   "execution_count": 68,
   "metadata": {
    "collapsed": true
   },
   "outputs": [],
   "source": [
    "file1 = 'simple_data_set/image1.png'\n",
    "file2 = 'simple_data_set/image2.png'"
   ]
  },
  {
   "cell_type": "code",
   "execution_count": 69,
   "metadata": {
    "collapsed": false
   },
   "outputs": [
    {
     "name": "stdout",
     "output_type": "stream",
     "text": [
      "file1 exist? True\n",
      "file2 exist? True\n"
     ]
    }
   ],
   "source": [
    "print(\"file1 exist? %s\" %os.path.isfile(file1))\n",
    "print(\"file2 exist? %s\" %os.path.isfile(file2))"
   ]
  },
  {
   "cell_type": "markdown",
   "metadata": {},
   "source": [
    "### Load the images"
   ]
  },
  {
   "cell_type": "code",
   "execution_count": 70,
   "metadata": {
    "collapsed": false
   },
   "outputs": [],
   "source": [
    "im1 = sp.misc.imread(file1)\n",
    "im1 = im1[:, :, 0]\n",
    "[y_size_image, x_size_image] = im1.shape"
   ]
  },
  {
   "cell_type": "code",
   "execution_count": 21,
   "metadata": {
    "collapsed": false
   },
   "outputs": [],
   "source": [
    "im2 = sp.misc.imread(file2)\n",
    "im2.shape\n",
    "im2 = im2[:, :, 0]"
   ]
  },
  {
   "cell_type": "markdown",
   "metadata": {},
   "source": [
    "### Calculate the transformation to apply to second image"
   ]
  },
  {
   "cell_type": "code",
   "execution_count": 22,
   "metadata": {
    "collapsed": false
   },
   "outputs": [
    {
     "name": "stderr",
     "output_type": "stream",
     "text": [
      "/Users/j35/anaconda/lib/python3.4/site-packages/scipy/ndimage/interpolation.py:549: UserWarning: From scipy 0.13.0, the output shape of zoom() is calculated with round() instead of int() - for these inputs the size of the returned array has changed.\n",
      "  \"the returned array has changed.\", UserWarning)\n"
     ]
    }
   ],
   "source": [
    "result = ird.similarity(im1, im2, numiter=3)"
   ]
  },
  {
   "cell_type": "code",
   "execution_count": 23,
   "metadata": {
    "collapsed": false
   },
   "outputs": [
    {
     "data": {
      "text/plain": [
       "0.99626920220235782"
      ]
     },
     "execution_count": 23,
     "metadata": {},
     "output_type": "execute_result"
    }
   ],
   "source": [
    "result['scale']"
   ]
  },
  {
   "cell_type": "code",
   "execution_count": 24,
   "metadata": {
    "collapsed": false
   },
   "outputs": [
    {
     "data": {
      "text/plain": [
       "0.049039866684779554"
      ]
     },
     "execution_count": 24,
     "metadata": {},
     "output_type": "execute_result"
    }
   ],
   "source": [
    "result['angle']"
   ]
  },
  {
   "cell_type": "code",
   "execution_count": 25,
   "metadata": {
    "collapsed": false
   },
   "outputs": [
    {
     "data": {
      "text/plain": [
       "0.52904283097236027"
      ]
     },
     "execution_count": 25,
     "metadata": {},
     "output_type": "execute_result"
    }
   ],
   "source": [
    "result['success']"
   ]
  },
  {
   "cell_type": "code",
   "execution_count": 26,
   "metadata": {
    "collapsed": false
   },
   "outputs": [
    {
     "data": {
      "text/plain": [
       "array([  4.44981135, -89.20747261])"
      ]
     },
     "execution_count": 26,
     "metadata": {},
     "output_type": "execute_result"
    }
   ],
   "source": [
    "result['tvec']"
   ]
  },
  {
   "cell_type": "code",
   "execution_count": 27,
   "metadata": {
    "collapsed": false
   },
   "outputs": [
    {
     "data": {
      "text/plain": [
       "array([[ 254.83702375,  254.89126442,  254.9507876 , ...,  254.7065862 ,\n",
       "         254.74468728,  254.78815573],\n",
       "       [ 254.83756604,  254.89097744,  254.94958329, ...,  254.70910551,\n",
       "         254.74663014,  254.78944057],\n",
       "       [ 254.83860225,  254.89146811,  254.94946866, ...,  254.71143004,\n",
       "         254.74858166,  254.79096327],\n",
       "       ..., \n",
       "       [ 255.        ,  255.        ,  255.        , ...,  254.6982482 ,\n",
       "         254.73933933,  254.7862046 ],\n",
       "       [ 255.        ,  255.        ,  255.        , ...,  254.70111157,\n",
       "         254.74099115,  254.78648141],\n",
       "       [ 255.        ,  255.        ,  255.        , ...,  254.70390727,\n",
       "         254.74279185,  254.78715183]])"
      ]
     },
     "execution_count": 27,
     "metadata": {},
     "output_type": "execute_result"
    }
   ],
   "source": [
    "result['timg']   #the transformed image"
   ]
  },
  {
   "cell_type": "code",
   "execution_count": 29,
   "metadata": {
    "collapsed": false,
    "scrolled": false
   },
   "outputs": [
    {
     "data": {
      "image/png": "[encoded data removed]",
      "text/plain": [
       "<matplotlib.figure.Figure at 0x10d626e80>"
      ]
     },
     "metadata": {},
     "output_type": "display_data"
    }
   ],
   "source": [
    "ird.imshow(im1, im2, result['timg']);"
   ]
  },
  {
   "cell_type": "code",
   "execution_count": 37,
   "metadata": {
    "collapsed": false
   },
   "outputs": [
    {
     "data": {
      "text/plain": [
       "<matplotlib.colorbar.Colorbar at 0x1117719b0>"
      ]
     },
     "execution_count": 37,
     "metadata": {},
     "output_type": "execute_result"
    },
    {
     "data": {
      "image/png": "[encoded data removed]",
      "text/plain": [
       "<matplotlib.figure.Figure at 0x1111a7cc0>"
      ]
     },
     "metadata": {},
     "output_type": "display_data"
    }
   ],
   "source": [
    "plt.figure(figsize=(15,15))\n",
    "plt.subplot(131)\n",
    "plt.imshow(result['timg'])\n",
    "plt.colorbar()\n",
    "plt.subplot(132)\n",
    "plt.imshow(im1)\n",
    "plt.colorbar()\n",
    "plt.subplot(133)\n",
    "plt.imshow(im2)\n",
    "plt.colorbar()"
   ]
  },
  {
   "cell_type": "markdown",
   "metadata": {},
   "source": [
    "### !! The transformation to apply seems correct, but the intensities returned are wrong !"
   ]
  },
  {
   "cell_type": "markdown",
   "metadata": {},
   "source": [
    "## So let's try to apply the correction calculated and see if we can get the images registered"
   ]
  },
  {
   "cell_type": "code",
   "execution_count": 40,
   "metadata": {
    "collapsed": false
   },
   "outputs": [
    {
     "name": "stdout",
     "output_type": "stream",
     "text": [
      "4\n"
     ]
    }
   ],
   "source": [
    "xoffset = int(result['tvec'][0])\n",
    "print(xoffset)"
   ]
  },
  {
   "cell_type": "code",
   "execution_count": 41,
   "metadata": {
    "collapsed": false
   },
   "outputs": [
    {
     "name": "stdout",
     "output_type": "stream",
     "text": [
      "-89\n"
     ]
    }
   ],
   "source": [
    "yoffset = int(result['tvec'][1])\n",
    "print(yoffset)"
   ]
  },
  {
   "cell_type": "code",
   "execution_count": 62,
   "metadata": {
    "collapsed": true
   },
   "outputs": [],
   "source": [
    "def translate_array(old_array, xoffset, yoffset):\n",
    "    \n",
    "    [ysize, xsize] = old_array.shape\n",
    "    new_array = np.zeros((ysize, xsize))\n",
    "    \n",
    "    if xoffset < 0:\n",
    "        old_array_from_x = xoffset\n",
    "        old_array_to_x = xsize\n",
    "        new_array_from_x = 0\n",
    "        new_array_to_x = xsize - abs(xoffset)\n",
    "\n",
    "    elif xoffset > 0:\n",
    "        old_array_from_x = 0\n",
    "        old_array_to_x = xsize - xoffset\n",
    "        new_array_from_x = xoffset\n",
    "        new_array_to_x = xsize\n",
    "    \n",
    "    else:\n",
    "        old_array_from_x = 0\n",
    "        old_array_to_x = xsize\n",
    "        new_array_from_x = 0\n",
    "        new_array_to_x = xsize\n",
    "    \n",
    "    if yoffset < 0:\n",
    "        old_array_from_y = abs(yoffset)\n",
    "        old_array_to_y = ysize\n",
    "        new_array_from_y = 0\n",
    "        new_array_to_y = ysize - abs(yoffset)\n",
    "    \n",
    "    elif yoffset > 0:\n",
    "        old_array_from_y = 0\n",
    "        old_array_to_y = ysize - yoffset\n",
    "        new_array_from_y = yoffset\n",
    "        new_array_to_y = ysize\n",
    "    \n",
    "    else:\n",
    "        old_array_from_y = 0\n",
    "        old_array_to_y = ysize\n",
    "        new_array_from_y = 0\n",
    "        new_array_to_y = ysize\n",
    "    \n",
    "    print('working with x')\n",
    "    print(\"old_array_from_x: %d\" %old_array_from_x)\n",
    "    print(\"old_array_to_x: %d\" %old_array_to_x)\n",
    "    print()\n",
    "    print(\"new_array_from_x: %d\" %new_array_from_x)\n",
    "    print(\"new_array_to_x: %d\" %new_array_to_x)\n",
    "\n",
    "    print(\"\\n\")\n",
    "    print(\"working with Y\")\n",
    "    print(\"old_array_from_y: %d\" %old_array_from_y)\n",
    "    print(\"old_array_to_y: %d\" %old_array_to_y)\n",
    "    print()\n",
    "    print(\"new_array_from_y: %d\" %new_array_from_y)\n",
    "    print(\"new_array_to_y: %d\" %new_array_to_y)\n",
    "\n",
    "\n",
    "    \n",
    "    \n",
    "    new_array[new_array_from_x: new_array_to_x, new_array_from_y: new_array_to_y] = \\\n",
    "    old_array[old_array_from_x: old_array_to_x, old_array_from_y: old_array_to_y]\n",
    "    \n",
    "    return new_array\n",
    "            "
   ]
  },
  {
   "cell_type": "code",
   "execution_count": 63,
   "metadata": {
    "collapsed": false
   },
   "outputs": [
    {
     "name": "stdout",
     "output_type": "stream",
     "text": [
      "working with x\n",
      "old_array_from_x: 0\n",
      "old_array_to_x: 296\n",
      "\n",
      "new_array_from_x: 4\n",
      "new_array_to_x: 300\n",
      "\n",
      "\n",
      "working with Y\n",
      "old_array_from_y: 89\n",
      "old_array_to_y: 300\n",
      "\n",
      "new_array_from_y: 0\n",
      "new_array_to_y: 211\n"
     ]
    }
   ],
   "source": [
    "new_im2 = translate_array(im2, xoffset, yoffset)"
   ]
  },
  {
   "cell_type": "code",
   "execution_count": 65,
   "metadata": {
    "collapsed": false
   },
   "outputs": [
    {
     "data": {
      "text/plain": [
       "<matplotlib.colorbar.Colorbar at 0x113367978>"
      ]
     },
     "execution_count": 65,
     "metadata": {},
     "output_type": "execute_result"
    },
    {
     "data": {
      "image/png": "[encoded data removed]",
      "text/plain": [
       "<matplotlib.figure.Figure at 0x112ee94e0>"
      ]
     },
     "metadata": {},
     "output_type": "display_data"
    }
   ],
   "source": [
    "plt.figure(figsize=(15, 15))\n",
    "\n",
    "plt.subplot(131)\n",
    "plt.imshow(im1, cmap='viridis')\n",
    "plt.colorbar()\n",
    "\n",
    "plt.subplot(132)\n",
    "plt.imshow(im2, cmap='viridis')\n",
    "plt.colorbar()\n",
    "\n",
    "plt.subplot(133)\n",
    "plt.imshow(new_im2, cmap='viridis')\n",
    "plt.colorbar()"
   ]
  },
  {
   "cell_type": "markdown",
   "metadata": {},
   "source": [
    "### Looks like this is working just fine !"
   ]
  },
  {
   "cell_type": "code",
   "execution_count": null,
   "metadata": {
    "collapsed": true
   },
   "outputs": [],
   "source": []
  }
 ],
 "metadata": {
  "kernelspec": {
   "display_name": "Python 3",
   "language": "python",
   "name": "python3"
  },
  "language_info": {
   "codemirror_mode": {
    "name": "ipython",
    "version": 3
   },
   "file_extension": ".py",
   "mimetype": "text/x-python",
   "name": "python",
   "nbconvert_exporter": "python",
   "pygments_lexer": "ipython3",
   "version": "3.4.3"
  }
 },
 "nbformat": 4,
 "nbformat_minor": 0
}
