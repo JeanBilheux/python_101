{
 "cells": [
  {
   "cell_type": "code",
   "execution_count": 1,
   "metadata": {
    "collapsed": true
   },
   "outputs": [],
   "source": [
    "from PIL import Image"
   ]
  },
  {
   "cell_type": "code",
   "execution_count": 2,
   "metadata": {
    "collapsed": false
   },
   "outputs": [],
   "source": [
    "%matplotlib inline\n",
    "import matplotlib.pyplot as plt"
   ]
  },
  {
   "cell_type": "code",
   "execution_count": 3,
   "metadata": {
    "collapsed": true
   },
   "outputs": [],
   "source": [
    "import os\n",
    "import numpy as np"
   ]
  },
  {
   "cell_type": "code",
   "execution_count": 4,
   "metadata": {
    "collapsed": false
   },
   "outputs": [
    {
     "name": "stderr",
     "output_type": "stream",
     "text": [
      "/Users/j35/anaconda/lib/python3.4/site-packages/IPython/html.py:14: ShimWarning: The `IPython.html` package has been deprecated. You should import from `notebook` instead. `IPython.html.widgets` has moved to `ipywidgets`.\n",
      "  \"`IPython.html.widgets` has moved to `ipywidgets`.\", ShimWarning)\n"
     ]
    }
   ],
   "source": [
    "from IPython.html import widgets\n",
    "from IPython.html.widgets import interact\n",
    "from IPython.display import display"
   ]
  },
  {
   "cell_type": "code",
   "execution_count": 5,
   "metadata": {
    "collapsed": true
   },
   "outputs": [],
   "source": [
    "from PyQt4 import QtGui"
   ]
  },
  {
   "cell_type": "code",
   "execution_count": 6,
   "metadata": {
    "collapsed": true
   },
   "outputs": [],
   "source": [
    "import imreg_dft as ird"
   ]
  },
  {
   "cell_type": "code",
   "execution_count": 7,
   "metadata": {
    "collapsed": true
   },
   "outputs": [],
   "source": [
    "import scipy as sp"
   ]
  },
  {
   "cell_type": "markdown",
   "metadata": {},
   "source": [
    "### Select working folder"
   ]
  },
  {
   "cell_type": "code",
   "execution_count": 8,
   "metadata": {
    "collapsed": true
   },
   "outputs": [],
   "source": [
    "%gui qt"
   ]
  },
  {
   "cell_type": "code",
   "execution_count": 9,
   "metadata": {
    "collapsed": true
   },
   "outputs": [],
   "source": [
    "try:\n",
    "    from PySide import QtCore, QtGui\n",
    "except ImportError:\n",
    "    from PyQt4 import QtCore, QtGui\n",
    "\n",
    "def gui_fname(dir=None, message=None):\n",
    "    \"\"\"Select a directory\n",
    "    \"\"\"\n",
    "    if dir is None: dir ='../'\n",
    "    if message is None: message = 'Select Folder ...'\n",
    "    dir_name = QtGui.QFileDialog.getExistingDirectory(None, message,\n",
    "                                                      dir,\n",
    "                                                      QtGui.QFileDialog.ShowDirsOnly)\n",
    "    return dir_name"
   ]
  },
  {
   "cell_type": "code",
   "execution_count": 10,
   "metadata": {
    "collapsed": true
   },
   "outputs": [],
   "source": [
    "%gui qt\n",
    "data_folder = gui_fname()\n",
    "%matplotlib inline"
   ]
  },
  {
   "cell_type": "code",
   "execution_count": 11,
   "metadata": {
    "collapsed": true
   },
   "outputs": [],
   "source": [
    "# remove hidden file .DS_Store \n",
    "ds_file = os.path.join(data_folder, \".DS_Store\")\n",
    "try:\n",
    "    os.remove(ds_file)\n",
    "except:\n",
    "    pass"
   ]
  },
  {
   "cell_type": "code",
   "execution_count": 12,
   "metadata": {
    "collapsed": false
   },
   "outputs": [
    {
     "name": "stdout",
     "output_type": "stream",
     "text": [
      "Folder contains 18 files.\n"
     ]
    }
   ],
   "source": [
    "list_of_files = [name for name in os.listdir(data_folder) if os.path.isfile(os.path.join(data_folder, name))]\n",
    "number_of_files = len(list_of_files)\n",
    "print('Folder contains %d files.' %number_of_files)"
   ]
  },
  {
   "cell_type": "markdown",
   "metadata": {},
   "source": [
    "### Load the template (first image) and loop over all the images to register them\n",
    "Previous image will always be used as template to following image"
   ]
  },
  {
   "cell_type": "code",
   "execution_count": 26,
   "metadata": {
    "collapsed": false
   },
   "outputs": [
    {
     "name": "stdout",
     "output_type": "stream",
     "text": [
      "-0.140849256245\n",
      "-0.0744158764352\n",
      "0.0448007815403\n",
      "-0.0665208752539\n",
      "-0.112812066042\n",
      "-0.0611325346632\n",
      "-0.107903249003\n",
      "-0.103613921737\n",
      "-0.127659161632\n",
      "-0.106109066149\n",
      "-0.10090191952\n",
      "-0.0482660002291\n",
      "-0.08976211705\n",
      "-0.05611222702\n",
      "-0.090425116898\n",
      "-0.127854635924\n",
      "-0.130034994207\n"
     ]
    },
    {
     "name": "stderr",
     "output_type": "stream",
     "text": [
      "/Users/j35/anaconda/lib/python3.4/site-packages/scipy/ndimage/interpolation.py:549: UserWarning: From scipy 0.13.0, the output shape of zoom() is calculated with round() instead of int() - for these inputs the size of the returned array has changed.\n",
      "  \"the returned array has changed.\", UserWarning)\n"
     ]
    }
   ],
   "source": [
    "final_array = []\n",
    "\n",
    "name_image0 = os.path.join(data_folder, list_of_files[0])\n",
    "image0 = sp.misc.imread(name_image0)\n",
    "final_array.append(image0)\n",
    "\n",
    "pb = widgets.IntProgress()\n",
    "pb.max = number_of_files\n",
    "display(pb)\n",
    "\n",
    "for index in range(1, number_of_files):\n",
    "    name_image1 = os.path.join(data_folder, list_of_files[index])\n",
    "    image1 = sp.misc.imread(name_image1)\n",
    "    \n",
    "    result = ird.similarity(image0, image1, numiter=3, exponent='inf')\n",
    "\n",
    "    image_registered = result['timg']\n",
    "    final_array.append(image_registered)\n",
    "    \n",
    "    pb.value = index+1\n"
   ]
  },
  {
   "cell_type": "markdown",
   "metadata": {
    "collapsed": true
   },
   "source": [
    "### Save registered images"
   ]
  },
  {
   "cell_type": "code",
   "execution_count": 20,
   "metadata": {
    "collapsed": true
   },
   "outputs": [],
   "source": [
    "%gui qt\n",
    "output_folder = gui_fname()\n",
    "%matplotlib inline"
   ]
  },
  {
   "cell_type": "code",
   "execution_count": 25,
   "metadata": {
    "collapsed": false
   },
   "outputs": [],
   "source": [
    "for index in range(number_of_files):\n",
    "    output_file_name = os.path.join(output_folder, list_of_files[index])\n",
    "    image = Image.fromarray(np.float32(final_array[index]))\n",
    "    image.save(output_file_name)\n",
    "    "
   ]
  },
  {
   "cell_type": "code",
   "execution_count": null,
   "metadata": {
    "collapsed": true
   },
   "outputs": [],
   "source": []
  }
 ],
 "metadata": {
  "kernelspec": {
   "display_name": "Python 3",
   "language": "python",
   "name": "python3"
  },
  "language_info": {
   "codemirror_mode": {
    "name": "ipython",
    "version": 3
   },
   "file_extension": ".py",
   "mimetype": "text/x-python",
   "name": "python",
   "nbconvert_exporter": "python",
   "pygments_lexer": "ipython3",
   "version": "3.4.3"
  }
 },
 "nbformat": 4,
 "nbformat_minor": 0
}
