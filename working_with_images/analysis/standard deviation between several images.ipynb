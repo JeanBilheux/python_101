{
 "cells": [
  {
   "cell_type": "code",
   "execution_count": 1,
   "id": "f9b3eeac",
   "metadata": {},
   "outputs": [],
   "source": [
    "import os\n",
    "import numpy as np\n",
    "from PIL import Image"
   ]
  },
  {
   "cell_type": "markdown",
   "id": "6de2713b",
   "metadata": {},
   "source": [
    "Make up my own data"
   ]
  },
  {
   "cell_type": "code",
   "execution_count": 7,
   "id": "edd63845",
   "metadata": {},
   "outputs": [],
   "source": [
    "image1 = np.zeros((10, 10))\n",
    "image1[:5,:5] = 5\n",
    "\n",
    "image2 = np.zeros((10, 10))\n",
    "image2[:5,:5] = 4\n",
    "\n",
    "image3 = np.zeros((10, 10))\n",
    "image3[:5,:5] = 6\n",
    "\n",
    "image4 = np.zeros((10, 10))\n",
    "image4[:5,:5] = 50\n",
    "\n"
   ]
  },
  {
   "cell_type": "code",
   "execution_count": 10,
   "id": "38456bc9",
   "metadata": {},
   "outputs": [],
   "source": [
    "image_median = np.median([image1, image2, image3, image4], axis=0)"
   ]
  },
  {
   "cell_type": "code",
   "execution_count": 11,
   "id": "0f0c48c7",
   "metadata": {},
   "outputs": [
    {
     "data": {
      "text/plain": [
       "array([[5.5, 5.5, 5.5, 5.5, 5.5, 0. , 0. , 0. , 0. , 0. ],\n",
       "       [5.5, 5.5, 5.5, 5.5, 5.5, 0. , 0. , 0. , 0. , 0. ],\n",
       "       [5.5, 5.5, 5.5, 5.5, 5.5, 0. , 0. , 0. , 0. , 0. ],\n",
       "       [5.5, 5.5, 5.5, 5.5, 5.5, 0. , 0. , 0. , 0. , 0. ],\n",
       "       [5.5, 5.5, 5.5, 5.5, 5.5, 0. , 0. , 0. , 0. , 0. ],\n",
       "       [0. , 0. , 0. , 0. , 0. , 0. , 0. , 0. , 0. , 0. ],\n",
       "       [0. , 0. , 0. , 0. , 0. , 0. , 0. , 0. , 0. , 0. ],\n",
       "       [0. , 0. , 0. , 0. , 0. , 0. , 0. , 0. , 0. , 0. ],\n",
       "       [0. , 0. , 0. , 0. , 0. , 0. , 0. , 0. , 0. , 0. ],\n",
       "       [0. , 0. , 0. , 0. , 0. , 0. , 0. , 0. , 0. , 0. ]])"
      ]
     },
     "execution_count": 11,
     "metadata": {},
     "output_type": "execute_result"
    }
   ],
   "source": [
    "image_median"
   ]
  },
  {
   "cell_type": "code",
   "execution_count": 14,
   "id": "d34cdb8b",
   "metadata": {},
   "outputs": [
    {
     "data": {
      "text/plain": [
       "array([2.75, 2.75, 2.75, 2.75, 2.75, 0.  , 0.  , 0.  , 0.  , 0.  ])"
      ]
     },
     "execution_count": 14,
     "metadata": {},
     "output_type": "execute_result"
    }
   ],
   "source": [
    "np.std(image_median, axis=0)"
   ]
  },
  {
   "cell_type": "code",
   "execution_count": 13,
   "id": "175e07b7",
   "metadata": {},
   "outputs": [
    {
     "data": {
      "text/plain": [
       "21.650635094610966"
      ]
     },
     "execution_count": 13,
     "metadata": {},
     "output_type": "execute_result"
    }
   ],
   "source": [
    "np.std(image4)"
   ]
  },
  {
   "cell_type": "code",
   "execution_count": null,
   "id": "f0e9ebfe",
   "metadata": {},
   "outputs": [],
   "source": []
  }
 ],
 "metadata": {
  "kernelspec": {
   "display_name": "Python 3",
   "language": "python",
   "name": "python3"
  },
  "language_info": {
   "codemirror_mode": {
    "name": "ipython",
    "version": 3
   },
   "file_extension": ".py",
   "mimetype": "text/x-python",
   "name": "python",
   "nbconvert_exporter": "python",
   "pygments_lexer": "ipython3",
   "version": "3.6.7"
  }
 },
 "nbformat": 4,
 "nbformat_minor": 5
}
