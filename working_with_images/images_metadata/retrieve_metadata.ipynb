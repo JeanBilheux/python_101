{
 "cells": [
  {
   "cell_type": "code",
   "execution_count": 2,
   "metadata": {
    "run_control": {
     "frozen": false,
     "read_only": false
    }
   },
   "outputs": [],
   "source": [
    "import os"
   ]
  },
  {
   "cell_type": "code",
   "execution_count": 3,
   "metadata": {
    "run_control": {
     "frozen": false,
     "read_only": false
    }
   },
   "outputs": [],
   "source": [
    "file = '/users/j35/Desktop/image1.tiff'\n",
    "assert os.path.isfile(file)"
   ]
  },
  {
   "cell_type": "code",
   "execution_count": 4,
   "metadata": {
    "run_control": {
     "frozen": false,
     "read_only": false
    }
   },
   "outputs": [],
   "source": [
    "from PIL import Image\n",
    "from PIL.ExifTags import TAGS"
   ]
  },
  {
   "cell_type": "code",
   "execution_count": 5,
   "metadata": {
    "run_control": {
     "frozen": false,
     "read_only": false
    }
   },
   "outputs": [],
   "source": [
    "i = Image.open(file)"
   ]
  },
  {
   "cell_type": "code",
   "execution_count": 6,
   "metadata": {
    "run_control": {
     "frozen": false,
     "read_only": false
    }
   },
   "outputs": [],
   "source": [
    "i = Image.open(file)\n",
    "info = i.tag.tags\n",
    "for tag, value in info.items():\n",
    "    decoded = TAGS.get(tag, tag)\n",
    "    print(\"%s = %s\"%(decoded, value))"
   ]
  },
  {
   "cell_type": "code",
   "execution_count": 7,
   "metadata": {
    "run_control": {
     "frozen": false,
     "read_only": false
    }
   },
   "outputs": [],
   "source": [
    "metadata = i.tag_v2.as_dict()"
   ]
  },
  {
   "cell_type": "code",
   "execution_count": 8,
   "metadata": {
    "run_control": {
     "frozen": false,
     "read_only": false
    }
   },
   "outputs": [
    {
     "name": "stdout",
     "output_type": "stream",
     "text": [
      "{256: 2048,\n",
      " 257: 2048,\n",
      " 258: (16,),\n",
      " 259: 1,\n",
      " 262: 1,\n",
      " 271: 'Unknown',\n",
      " 272: 'Unknown',\n",
      " 273: (8,),\n",
      " 277: 1,\n",
      " 278: 2048,\n",
      " 279: (8388608,),\n",
      " 284: 1,\n",
      " 305: 'EPICS areaDetector',\n",
      " 339: (1,),\n",
      " 65000: (843871369.4444352,),\n",
      " 65001: (885,),\n",
      " 65002: (843871369,),\n",
      " 65003: (454741557,),\n",
      " 65010: ('FileNameStr:Cordierite_Position1',),\n",
      " 65011: ('InstrumentStr:CG1D',),\n",
      " 65012: ('IPTS:17255',),\n",
      " 65013: ('ITEMS:-1',),\n",
      " 65014: ('SampleDescStr:DF for 23 Sep',),\n",
      " 65015: ('NotesStr:CCD, aperture = 1.1 cm',),\n",
      " 65016: ('DataSetStr:3D',),\n",
      " 65017: ('DataAcqModeStr:White Beam',),\n",
      " 65018: ('DataTypeStr:Raw',),\n",
      " 65019: ('ModelStr:DW936_BV',),\n",
      " 65020: ('ManufacturerStr:Andor',),\n",
      " 65021: ('ExposureTime:35.000000',),\n",
      " 65022: ('ExposurePeriod:39.451660',),\n",
      " 65023: ('NumExposures:1',),\n",
      " 65024: ('NumImages:1',),\n",
      " 65025: ('ImageCounter:885',),\n",
      " 65026: ('MinX:0',),\n",
      " 65027: ('MinY:0',),\n",
      " 65028: ('SizeX:2048',),\n",
      " 65029: ('SizeY:2048',),\n",
      " 65030: ('Temperature:-60.000000',),\n",
      " 65031: ('TemperatureActual:-59.777000',),\n",
      " 65032: ('MotScanDeviceStr:Small Rot',),\n",
      " 65033: ('RotationActual:176.800132',),\n",
      " 65034: ('MotLiftTable.RBV:238.020839',),\n",
      " 65035: ('MotLiftTable:238.000000',),\n",
      " 65036: ('MotShortAxis.RBV:33.800000',),\n",
      " 65037: ('MotShortAxis:33.800000',),\n",
      " 65038: ('MotLongAxis.RBV:206.524000',),\n",
      " 65039: ('MotLongAxis:206.500000',),\n",
      " 65040: ('MotRotTable.RBV:270.157500',),\n",
      " 65041: ('MotRotTable:270.157500',),\n",
      " 65042: ('MotSmallRotTable.RBV:176.800132',),\n",
      " 65043: ('MotSmallRotTable:176.800000',),\n",
      " 65044: ('MotDetTable.RBV:200.000000',),\n",
      " 65045: ('MotDetTable:200.000000',),\n",
      " 65046: ('MotCameraVert.RBV:-51.699796',),\n",
      " 65047: ('MotCameraVert:-51.699796',),\n",
      " 65048: ('MotHoriTrans.RBV:28.000000',),\n",
      " 65049: ('MotHoriTrans:28.000000',),\n",
      " 65050: ('MotVertTrans.RBV:60.000000',),\n",
      " 65051: ('MotVertTrans:60.000000',),\n",
      " 65052: ('MotDiffuser.RBV:86.300000',),\n",
      " 65053: ('MotDiffuser:86.300000',),\n",
      " 65054: ('MotAperture.RBV:220.000000',),\n",
      " 65055: ('MotAperture:220.000000',),\n",
      " 65056: ('MotSlitVB.RBV:40.000000',),\n",
      " 65057: ('MotSlitVB:40.000000',),\n",
      " 65058: ('MotSlitVT.RBV:39.998484',),\n",
      " 65059: ('MotSlitVT:39.998484',),\n",
      " 65060: ('MotSlitHR.RBV:39.875250',),\n",
      " 65061: ('MotSlitHR:39.875250',),\n",
      " 65062: ('MotSlitHL.RBV:39.996437',),\n",
      " 65063: ('MotSlitHL:39.996437',),\n",
      " 65064: ('AndorCCDCooler:1',),\n",
      " 65065: ('AndorCCDTempStatusStr:Stabilized at set point',),\n",
      " 65066: ('AndorCCDPreAmpGain:0',),\n",
      " 65067: ('AndorCCDADCSpeed:2',),\n",
      " 65068: ('MotZaberRot.RBV:359.997640',),\n",
      " 65069: ('MotZaberRot:359.999751',)}\n"
     ]
    }
   ],
   "source": [
    "import pprint\n",
    "pprint.pprint(metadata)"
   ]
  },
  {
   "cell_type": "code",
   "execution_count": 9,
   "metadata": {
    "run_control": {
     "frozen": false,
     "read_only": false
    }
   },
   "outputs": [
    {
     "data": {
      "text/plain": [
       "tuple"
      ]
     },
     "execution_count": 9,
     "metadata": {},
     "output_type": "execute_result"
    }
   ],
   "source": [
    "acquisition_time = metadata[65000]\n",
    "type(acquisition_time)"
   ]
  },
  {
   "cell_type": "code",
   "execution_count": 10,
   "metadata": {
    "run_control": {
     "frozen": false,
     "read_only": false
    }
   },
   "outputs": [
    {
     "data": {
      "text/plain": [
       "843871369.4444352"
      ]
     },
     "execution_count": 10,
     "metadata": {},
     "output_type": "execute_result"
    }
   ],
   "source": [
    "acquisition_time[0]"
   ]
  },
  {
   "cell_type": "code",
   "execution_count": 11,
   "metadata": {
    "run_control": {
     "frozen": false,
     "read_only": false
    }
   },
   "outputs": [],
   "source": [
    "import time"
   ]
  },
  {
   "cell_type": "code",
   "execution_count": 12,
   "metadata": {
    "run_control": {
     "frozen": false,
     "read_only": false
    }
   },
   "outputs": [
    {
     "data": {
      "text/plain": [
       "'Fri Sep 27 20:42:49 1996'"
      ]
     },
     "execution_count": 12,
     "metadata": {},
     "output_type": "execute_result"
    }
   ],
   "source": [
    "time.ctime(acquisition_time[0])"
   ]
  },
  {
   "cell_type": "code",
   "execution_count": 13,
   "metadata": {
    "run_control": {
     "frozen": false,
     "read_only": false
    }
   },
   "outputs": [],
   "source": [
    "import datetime"
   ]
  },
  {
   "cell_type": "markdown",
   "metadata": {
    "run_control": {
     "frozen": false,
     "read_only": false
    }
   },
   "source": [
    "check if changing the values after the digit change the time "
   ]
  },
  {
   "cell_type": "code",
   "execution_count": 128,
   "metadata": {
    "run_control": {
     "frozen": false,
     "read_only": false
    }
   },
   "outputs": [],
   "source": [
    "time1 = 1474426062.175999\n",
    "time2 = 1474426062.500000"
   ]
  },
  {
   "cell_type": "code",
   "execution_count": 130,
   "metadata": {
    "run_control": {
     "frozen": false,
     "read_only": false
    }
   },
   "outputs": [
    {
     "name": "stdout",
     "output_type": "stream",
     "text": [
      "Tue Sep 20 22:47:42 2016\n",
      "Tue Sep 20 22:47:42 2016\n"
     ]
    }
   ],
   "source": [
    "print(time.ctime(time1))\n",
    "print(time.ctime(time2))"
   ]
  },
  {
   "cell_type": "code",
   "execution_count": null,
   "metadata": {
    "run_control": {
     "frozen": false,
     "read_only": false
    }
   },
   "outputs": [],
   "source": []
  }
 ],
 "metadata": {
  "kernelspec": {
   "display_name": "Python 3",
   "language": "python",
   "name": "python3"
  },
  "language_info": {
   "codemirror_mode": {
    "name": "ipython",
    "version": 3
   },
   "file_extension": ".py",
   "mimetype": "text/x-python",
   "name": "python",
   "nbconvert_exporter": "python",
   "pygments_lexer": "ipython3",
   "version": "3.6.2"
  },
  "toc": {
   "colors": {
    "hover_highlight": "#DAA520",
    "running_highlight": "#FF0000",
    "selected_highlight": "#FFD700"
   },
   "moveMenuLeft": true,
   "nav_menu": {
    "height": "12px",
    "width": "252px"
   },
   "navigate_menu": true,
   "number_sections": true,
   "sideBar": true,
   "threshold": 4,
   "toc_cell": false,
   "toc_section_display": "block",
   "toc_window_display": false
  }
 },
 "nbformat": 4,
 "nbformat_minor": 1
}
