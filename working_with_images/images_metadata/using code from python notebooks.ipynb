{
 "cells": [
  {
   "cell_type": "code",
   "execution_count": 2,
   "id": "7c978cb5",
   "metadata": {},
   "outputs": [],
   "source": [
    "from PIL import Image\n",
    "import datetime\n",
    "import os\n",
    "from collections import OrderedDict"
   ]
  },
  {
   "cell_type": "code",
   "execution_count": 5,
   "id": "71f91c72",
   "metadata": {},
   "outputs": [],
   "source": [
    " def get_value_of_metadata_key(filename='', list_key=None):\n",
    "        if filename == \"\":\n",
    "            return {}\n",
    "\n",
    "        image = Image.open(filename)\n",
    "        metadata = image.tag_v2\n",
    "        result = {}\n",
    "        if list_key == []:\n",
    "            for _key in metadata.keys():\n",
    "                result[_key] = metadata.get(_key)\n",
    "            return result\n",
    "\n",
    "        for _meta in list_key:\n",
    "            result[_meta] = metadata.get(_meta)\n",
    "\n",
    "        image.close()\n",
    "        return result\n",
    "\n",
    "def retrieve_value_of_metadata_key(list_files=[], list_key=[]):\n",
    "    if list_files == []:\n",
    "        return {}\n",
    "\n",
    "    _dict = OrderedDict()\n",
    "    for _file in list_files:\n",
    "        _meta = get_value_of_metadata_key(filename=_file,\n",
    "                                                         list_key=list_key)\n",
    "        _dict[_file] = _meta\n",
    "\n",
    "    return _dict"
   ]
  },
  {
   "cell_type": "code",
   "execution_count": 13,
   "id": "f4b94d8e",
   "metadata": {},
   "outputs": [],
   "source": [
    "file = \"/Volumes/G-DRIVE/IPTS/IPTS-25967/raw/radiographs/Aug25_2020/20200825_P6_wet_0060_000_000_0050.tiff\"\n",
    "file = \"data.tiff\"\n",
    "assert os.path.exists(file)"
   ]
  },
  {
   "cell_type": "code",
   "execution_count": 14,
   "id": "0800a8a5",
   "metadata": {
    "scrolled": false
   },
   "outputs": [
    {
     "data": {
      "text/plain": [
       "OrderedDict([('data.tiff',\n",
       "              {256: 2350,\n",
       "               257: 2160,\n",
       "               258: (16,),\n",
       "               259: 1,\n",
       "               65024: 'NumImages:500',\n",
       "               65025: 'ImageCounter:199',\n",
       "               262: 1,\n",
       "               65026: 'MinX:1',\n",
       "               65027: 'MinY:1',\n",
       "               65028: 'SizeX:2350',\n",
       "               65029: 'SizeY:2160',\n",
       "               65030: 'Temperature:0.000000',\n",
       "               65031: 'TemperatureActual:-0.440000',\n",
       "               65032: 'MotScanDeviceStr:Small Rot',\n",
       "               65033: 'RotationActual:0.000132',\n",
       "               271: 'Unknown',\n",
       "               272: 'Unknown',\n",
       "               273: (8,),\n",
       "               65034: 'MotLiftTable.RBV:126.521174',\n",
       "               65035: 'MotLiftTable:126.400000',\n",
       "               65036: 'MotShortAxis.RBV:82.011000',\n",
       "               277: 1,\n",
       "               278: 2160,\n",
       "               279: (10152000,),\n",
       "               65039: 'MotLongAxis:355.000000',\n",
       "               65040: 'MotRotTable.RBV:270.157500',\n",
       "               65041: 'MotRotTable:270.157500',\n",
       "               65042: 'MotSmallRotTable.RBV:0.000132',\n",
       "               284: 1,\n",
       "               65044: 'MotZaberRot.RBV:359.997640',\n",
       "               65045: 'MotZaberRot:359.999751',\n",
       "               65046: 'MotDetTable.RBV:542.000000',\n",
       "               65047: 'MotDetTable:542.000000',\n",
       "               65048: 'MotCameraVert.RBV:-51.699796',\n",
       "               65049: 'MotCameraVert:-51.699796',\n",
       "               65050: 'MotHoriTrans.RBV:28.000000',\n",
       "               65051: 'MotHoriTrans:28.000000',\n",
       "               65052: 'MotVertTrans.RBV:60.000000',\n",
       "               65053: 'MotVertTrans:60.000000',\n",
       "               65054: 'MotDiffuser.RBV:86.300000',\n",
       "               65055: 'MotDiffuser:86.300000',\n",
       "               65056: 'MotAperture.RBV:254.300000',\n",
       "               65057: 'MotAperture:254.300000',\n",
       "               65058: 'MotSlitVB.RBV:18.000000',\n",
       "               65059: 'MotSlitVB:18.000000',\n",
       "               65060: 'MotSlitVT.RBV:18.000000',\n",
       "               65061: 'MotSlitVT:18.000000',\n",
       "               65062: 'MotSlitHR.RBV:15.000000',\n",
       "               65063: 'MotSlitHR:15.000000',\n",
       "               305: 'EPICS areaDetector',\n",
       "               65037: 'MotShortAxis:82.000000',\n",
       "               65066: 'AndorCMOSFrameRate:100.000000',\n",
       "               65067: 'AndorCMOSPreAmpGain:2',\n",
       "               65068: 'AndorCMOSBinning:0',\n",
       "               65069: 'AndorCMOSReadoutRate:3',\n",
       "               65038: 'MotLongAxis.RBV:354.977000',\n",
       "               65071: 'AndorCMOSSerialStr:VSC-00990',\n",
       "               65072: 'AndorCMOSFirmareStr:12.10.23.0',\n",
       "               65073: 'AndorCMOSSoftwareStr:3.9.30003.0',\n",
       "               65074: 'AndorCMOSControllerStr:3',\n",
       "               65075: 'AndorCMOSTempStatus:1',\n",
       "               65076: 'AndorCMOSSensorCooling:1',\n",
       "               65077: 'AndorCMOSFanSpeed:1',\n",
       "               65078: 'IntegrationMode:No Integration',\n",
       "               65043: 'MotSmallRotTable:0.000000',\n",
       "               339: (1,),\n",
       "               65064: 'MotSlitHL.RBV:18.000000',\n",
       "               65065: 'MotSlitHL:18.000000',\n",
       "               65070: 'AndorCMOSShutterMode:0',\n",
       "               65000: 1474426062.175999,\n",
       "               65001: 199,\n",
       "               65002: 843274062,\n",
       "               65003: 176053657,\n",
       "               65010: 'FileNameStr:CO-11-uptake',\n",
       "               65011: 'InstrumentStr:CG1D',\n",
       "               65012: 'IPTS:17255',\n",
       "               65013: 'ITEMS:-1',\n",
       "               65014: 'SampleDescStr:OB_Ti64Blocks',\n",
       "               65015: 'NotesStr:step_size_0.23_aperture_size_8.2mm',\n",
       "               65016: 'DataSetStr:3D',\n",
       "               65017: 'DataAcqModeStr:White Beam',\n",
       "               65018: 'DataTypeStr:OB',\n",
       "               65019: 'ModelStr:DG-152X-C1E-FI',\n",
       "               65020: 'ManufacturerStr:Andor',\n",
       "               65021: 'ExposureTime:0.010000',\n",
       "               65022: 'ExposurePeriod:0.010000',\n",
       "               65023: 'NumExposures:1'})])"
      ]
     },
     "execution_count": 14,
     "metadata": {},
     "output_type": "execute_result"
    }
   ],
   "source": [
    "retrieve_value_of_metadata_key(list_files=[file], list_key=[])"
   ]
  },
  {
   "cell_type": "code",
   "execution_count": 15,
   "id": "1a05d260",
   "metadata": {},
   "outputs": [
    {
     "data": {
      "text/plain": [
       "OrderedDict([('data.tiff', {65039: 'MotLongAxis:355.000000'})])"
      ]
     },
     "execution_count": 15,
     "metadata": {},
     "output_type": "execute_result"
    }
   ],
   "source": [
    "retrieve_value_of_metadata_key(list_files=[file], list_key=[65039])"
   ]
  },
  {
   "cell_type": "code",
   "execution_count": null,
   "id": "a4a9bc99",
   "metadata": {},
   "outputs": [],
   "source": []
  }
 ],
 "metadata": {
  "kernelspec": {
   "display_name": "Python 3",
   "language": "python",
   "name": "python3"
  },
  "language_info": {
   "codemirror_mode": {
    "name": "ipython",
    "version": 3
   },
   "file_extension": ".py",
   "mimetype": "text/x-python",
   "name": "python",
   "nbconvert_exporter": "python",
   "pygments_lexer": "ipython3",
   "version": "3.7.10"
  }
 },
 "nbformat": 4,
 "nbformat_minor": 5
}
