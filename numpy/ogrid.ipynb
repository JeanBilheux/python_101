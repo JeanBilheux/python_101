{
 "cells": [
  {
   "cell_type": "code",
   "execution_count": 10,
   "id": "dc45b316",
   "metadata": {},
   "outputs": [],
   "source": [
    "import os\n",
    "from PIL import Image\n",
    "import numpy as np"
   ]
  },
  {
   "cell_type": "code",
   "execution_count": 4,
   "id": "9172e63b",
   "metadata": {},
   "outputs": [
    {
     "data": {
      "text/plain": [
       "True"
      ]
     },
     "execution_count": 4,
     "metadata": {},
     "output_type": "execute_result"
    }
   ],
   "source": [
    "lena = \"../data/images/lena_color.tiff\"\n",
    "os.path.exists(lena)"
   ]
  },
  {
   "cell_type": "code",
   "execution_count": 11,
   "id": "2cd9657f",
   "metadata": {},
   "outputs": [],
   "source": [
    "image = np.asarray(Image.open(lena))"
   ]
  },
  {
   "cell_type": "code",
   "execution_count": 12,
   "id": "9fa09f3f",
   "metadata": {},
   "outputs": [
    {
     "data": {
      "text/plain": [
       "numpy.ndarray"
      ]
     },
     "execution_count": 12,
     "metadata": {},
     "output_type": "execute_result"
    }
   ],
   "source": [
    "type(image)"
   ]
  },
  {
   "cell_type": "code",
   "execution_count": 15,
   "id": "09d7baf0",
   "metadata": {},
   "outputs": [],
   "source": [
    "lx, ly, _ = np.shape(image)"
   ]
  },
  {
   "cell_type": "code",
   "execution_count": 19,
   "id": "714d34db",
   "metadata": {},
   "outputs": [],
   "source": [
    "X, Y = np.ogrid[0:lx, 0:ly]"
   ]
  },
  {
   "cell_type": "code",
   "execution_count": 25,
   "id": "f69bd4fe",
   "metadata": {},
   "outputs": [
    {
     "data": {
      "text/plain": [
       "(512, 1)"
      ]
     },
     "execution_count": 25,
     "metadata": {},
     "output_type": "execute_result"
    }
   ],
   "source": [
    "np.shape(X)"
   ]
  },
  {
   "cell_type": "code",
   "execution_count": 26,
   "id": "389986c6",
   "metadata": {},
   "outputs": [
    {
     "data": {
      "text/plain": [
       "(1, 512)"
      ]
     },
     "execution_count": 26,
     "metadata": {},
     "output_type": "execute_result"
    }
   ],
   "source": [
    "np.shape(Y)"
   ]
  },
  {
   "cell_type": "code",
   "execution_count": null,
   "id": "ce5264d9",
   "metadata": {},
   "outputs": [],
   "source": []
  }
 ],
 "metadata": {
  "kernelspec": {
   "display_name": "Python 3 (ipykernel)",
   "language": "python",
   "name": "python3"
  },
  "language_info": {
   "codemirror_mode": {
    "name": "ipython",
    "version": 3
   },
   "file_extension": ".py",
   "mimetype": "text/x-python",
   "name": "python",
   "nbconvert_exporter": "python",
   "pygments_lexer": "ipython3",
   "version": "3.8.13"
  }
 },
 "nbformat": 4,
 "nbformat_minor": 5
}
