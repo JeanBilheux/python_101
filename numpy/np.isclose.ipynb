{
 "cells": [
  {
   "cell_type": "markdown",
   "id": "3886dcc9",
   "metadata": {},
   "source": [
    "[numpy.isclose reference document](https://numpy.org/doc/stable/reference/generated/numpy.isclose.html)"
   ]
  },
  {
   "cell_type": "code",
   "execution_count": 2,
   "id": "82eee4e4",
   "metadata": {},
   "outputs": [],
   "source": [
    "import numpy as np"
   ]
  },
  {
   "cell_type": "code",
   "execution_count": 38,
   "id": "860c87fa",
   "metadata": {},
   "outputs": [
    {
     "data": {
      "text/plain": [
       "array([ 0,  1,  2,  3,  4,  5,  6,  7,  8,  9, 10])"
      ]
     },
     "execution_count": 38,
     "metadata": {},
     "output_type": "execute_result"
    }
   ],
   "source": [
    "angles = np.arange(0,11,1)\n",
    "angles"
   ]
  },
  {
   "cell_type": "code",
   "execution_count": 39,
   "id": "6683a9d5",
   "metadata": {},
   "outputs": [
    {
     "data": {
      "text/plain": [
       "array([[ 0],\n",
       "       [ 1],\n",
       "       [ 2],\n",
       "       [ 3],\n",
       "       [ 4],\n",
       "       [ 5],\n",
       "       [ 6],\n",
       "       [ 7],\n",
       "       [ 8],\n",
       "       [ 9],\n",
       "       [10]])"
      ]
     },
     "execution_count": 39,
     "metadata": {},
     "output_type": "execute_result"
    }
   ],
   "source": [
    "angles = angles[..., np.newaxis]\n",
    "angles\n"
   ]
  },
  {
   "cell_type": "code",
   "execution_count": 40,
   "id": "aac18b4d",
   "metadata": {},
   "outputs": [
    {
     "data": {
      "text/plain": [
       "array([[  0,   1,   2,   3,   4,   5,   6,   7,   8,   9,  10],\n",
       "       [ -1,   0,   1,   2,   3,   4,   5,   6,   7,   8,   9],\n",
       "       [ -2,  -1,   0,   1,   2,   3,   4,   5,   6,   7,   8],\n",
       "       [ -3,  -2,  -1,   0,   1,   2,   3,   4,   5,   6,   7],\n",
       "       [ -4,  -3,  -2,  -1,   0,   1,   2,   3,   4,   5,   6],\n",
       "       [ -5,  -4,  -3,  -2,  -1,   0,   1,   2,   3,   4,   5],\n",
       "       [ -6,  -5,  -4,  -3,  -2,  -1,   0,   1,   2,   3,   4],\n",
       "       [ -7,  -6,  -5,  -4,  -3,  -2,  -1,   0,   1,   2,   3],\n",
       "       [ -8,  -7,  -6,  -5,  -4,  -3,  -2,  -1,   0,   1,   2],\n",
       "       [ -9,  -8,  -7,  -6,  -5,  -4,  -3,  -2,  -1,   0,   1],\n",
       "       [-10,  -9,  -8,  -7,  -6,  -5,  -4,  -3,  -2,  -1,   0]])"
      ]
     },
     "execution_count": 40,
     "metadata": {},
     "output_type": "execute_result"
    }
   ],
   "source": [
    "diff_matrix = angles.T - angles\n",
    "diff_matrix"
   ]
  },
  {
   "cell_type": "code",
   "execution_count": 41,
   "id": "32217dfa",
   "metadata": {},
   "outputs": [
    {
     "data": {
      "text/plain": [
       "array([[False, False, False, False, False, False, False, False, False,\n",
       "         True, False],\n",
       "       [False, False, False, False, False, False, False, False, False,\n",
       "        False,  True],\n",
       "       [False, False, False, False, False, False, False, False, False,\n",
       "        False, False],\n",
       "       [False, False, False, False, False, False, False, False, False,\n",
       "        False, False],\n",
       "       [False, False, False, False, False, False, False, False, False,\n",
       "        False, False],\n",
       "       [False, False, False, False, False, False, False, False, False,\n",
       "        False, False],\n",
       "       [False, False, False, False, False, False, False, False, False,\n",
       "        False, False],\n",
       "       [False, False, False, False, False, False, False, False, False,\n",
       "        False, False],\n",
       "       [False, False, False, False, False, False, False, False, False,\n",
       "        False, False],\n",
       "       [False, False, False, False, False, False, False, False, False,\n",
       "        False, False],\n",
       "       [False, False, False, False, False, False, False, False, False,\n",
       "        False, False]])"
      ]
     },
     "execution_count": 41,
     "metadata": {},
     "output_type": "execute_result"
    }
   ],
   "source": [
    "np.isclose(diff_matrix, 9, atol=1e-3)"
   ]
  },
  {
   "cell_type": "code",
   "execution_count": 42,
   "id": "d613e148",
   "metadata": {},
   "outputs": [
    {
     "data": {
      "text/plain": [
       "(array([0, 1]), array([ 9, 10]))"
      ]
     },
     "execution_count": 42,
     "metadata": {},
     "output_type": "execute_result"
    }
   ],
   "source": [
    "np.where(np.isclose(diff_matrix, 9, atol=1e-3))"
   ]
  },
  {
   "cell_type": "code",
   "execution_count": 46,
   "id": "3b39547a",
   "metadata": {},
   "outputs": [],
   "source": [
    "idx_lowrange, idx_highrange = np.where(np.isclose(diff_matrix, 9, atol=1e-3))"
   ]
  },
  {
   "cell_type": "code",
   "execution_count": 47,
   "id": "b69ebfbe",
   "metadata": {},
   "outputs": [
    {
     "data": {
      "text/plain": [
       "array([0, 1])"
      ]
     },
     "execution_count": 47,
     "metadata": {},
     "output_type": "execute_result"
    }
   ],
   "source": [
    "idx_lowrange"
   ]
  },
  {
   "cell_type": "code",
   "execution_count": 48,
   "id": "49ed2456",
   "metadata": {},
   "outputs": [
    {
     "name": "stdout",
     "output_type": "stream",
     "text": [
      "[ 9 10]\n"
     ]
    }
   ],
   "source": [
    "print(idx_highrange)"
   ]
  },
  {
   "cell_type": "code",
   "execution_count": null,
   "id": "354bef0a",
   "metadata": {},
   "outputs": [],
   "source": []
  }
 ],
 "metadata": {
  "kernelspec": {
   "display_name": "Python 3",
   "language": "python",
   "name": "python3"
  },
  "language_info": {
   "codemirror_mode": {
    "name": "ipython",
    "version": 3
   },
   "file_extension": ".py",
   "mimetype": "text/x-python",
   "name": "python",
   "nbconvert_exporter": "python",
   "pygments_lexer": "ipython3",
   "version": "3.7.12"
  }
 },
 "nbformat": 4,
 "nbformat_minor": 5
}
