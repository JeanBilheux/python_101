{
 "cells": [
  {
   "cell_type": "code",
   "execution_count": 2,
   "metadata": {},
   "outputs": [],
   "source": [
    "import numpy as np"
   ]
  },
  {
   "cell_type": "code",
   "execution_count": 25,
   "metadata": {},
   "outputs": [
    {
     "name": "stdout",
     "output_type": "stream",
     "text": [
      "a1: [ 1  2  3  4  5  6  7  8  9 20]\n",
      "a2: [ 11.  12.  13.  14.  15.  16.  17.  18.  19.  20.]\n",
      "a3: [ 21.  22.  23.  24.  25.  26.  27.  28.  29.  30.]\n"
     ]
    }
   ],
   "source": [
    "a1 = np.array([1,2,3,4,5,6,7,8,9,20])\n",
    "a2 = np.linspace(1,10,10)+10\n",
    "a3 = np.linspace(1,10,10)+20\n",
    "\n",
    "print(\"a1:\", a1)\n",
    "print(\"a2:\", a2)\n",
    "print(\"a3:\", a3)"
   ]
  },
  {
   "cell_type": "markdown",
   "metadata": {},
   "source": [
    "### add"
   ]
  },
  {
   "cell_type": "code",
   "execution_count": 26,
   "metadata": {},
   "outputs": [
    {
     "name": "stdout",
     "output_type": "stream",
     "text": [
      "[ 33.  36.  39.  42.  45.  48.  51.  54.  57.  70.]\n"
     ]
    }
   ],
   "source": [
    "a_add = np.add(a1,a2)\n",
    "a_add = np.add(a_add, a3)\n",
    "print(a_add)"
   ]
  },
  {
   "cell_type": "markdown",
   "metadata": {},
   "source": [
    "### mean"
   ]
  },
  {
   "cell_type": "code",
   "execution_count": 27,
   "metadata": {},
   "outputs": [
    {
     "name": "stdout",
     "output_type": "stream",
     "text": [
      "b:  [[  1.   2.   3.   4.   5.   6.   7.   8.   9.  20.]\n",
      " [ 11.  12.  13.  14.  15.  16.  17.  18.  19.  20.]\n",
      " [ 21.  22.  23.  24.  25.  26.  27.  28.  29.  30.]]\n"
     ]
    }
   ],
   "source": [
    "b = np.array([a1, a2, a3])\n",
    "print(\"b: \", b)"
   ]
  },
  {
   "cell_type": "code",
   "execution_count": 28,
   "metadata": {},
   "outputs": [
    {
     "name": "stdout",
     "output_type": "stream",
     "text": [
      "a_median:  [ 11.  12.  13.  14.  15.  16.  17.  18.  19.  20.]\n"
     ]
    }
   ],
   "source": [
    "a_median = np.median(b, axis=0)\n",
    "print(\"a_median: \", a_median)"
   ]
  },
  {
   "cell_type": "markdown",
   "metadata": {
    "collapsed": true
   },
   "source": [
    "4D mean"
   ]
  },
  {
   "cell_type": "code",
   "execution_count": 25,
   "metadata": {},
   "outputs": [],
   "source": [
    "data_tof1 = np.array([[1,2,3],[3,4,5]])\n",
    "data_tof2 = np.array([[6,7,8],[9,10,11]])\n",
    "data_tof3 = np.array([[11,12,13],[13,14,15]])\n",
    "big_array_1 = np.array([data_tof1, data_tof2, data_tof3])\n",
    "big_array_2 = big_array_1 + 10\n",
    "big_array_3 = big_array_1 + 15"
   ]
  },
  {
   "cell_type": "code",
   "execution_count": 36,
   "metadata": {},
   "outputs": [
    {
     "name": "stdout",
     "output_type": "stream",
     "text": [
      "[[[ 1  2  3]\n",
      "  [ 3  4  5]]\n",
      "\n",
      " [[ 6  7  8]\n",
      "  [ 9 10 11]]\n",
      "\n",
      " [[11 12 13]\n",
      "  [13 14 15]]]\n",
      "[[[11 12 13]\n",
      "  [13 14 15]]\n",
      "\n",
      " [[16 17 18]\n",
      "  [19 20 21]]\n",
      "\n",
      " [[21 22 23]\n",
      "  [23 24 25]]]\n",
      "[[[16 17 18]\n",
      "  [18 19 20]]\n",
      "\n",
      " [[21 22 23]\n",
      "  [24 25 26]]\n",
      "\n",
      " [[26 27 28]\n",
      "  [28 29 30]]]\n"
     ]
    }
   ],
   "source": [
    "print(big_array_1)\n",
    "print(big_array_2)\n",
    "print(big_array_3)\n"
   ]
  },
  {
   "cell_type": "code",
   "execution_count": 37,
   "metadata": {},
   "outputs": [
    {
     "data": {
      "text/plain": [
       "(3, 3, 2, 3)"
      ]
     },
     "execution_count": 37,
     "metadata": {},
     "output_type": "execute_result"
    }
   ],
   "source": [
    "full_array = np.array([big_array_1, big_array_2, big_array_3])\n",
    "np.shape(full_array)"
   ]
  },
  {
   "cell_type": "code",
   "execution_count": 38,
   "metadata": {},
   "outputs": [
    {
     "name": "stdout",
     "output_type": "stream",
     "text": [
      "[[[[ 1  2  3]\n",
      "   [ 3  4  5]]\n",
      "\n",
      "  [[ 6  7  8]\n",
      "   [ 9 10 11]]\n",
      "\n",
      "  [[11 12 13]\n",
      "   [13 14 15]]]\n",
      "\n",
      "\n",
      " [[[11 12 13]\n",
      "   [13 14 15]]\n",
      "\n",
      "  [[16 17 18]\n",
      "   [19 20 21]]\n",
      "\n",
      "  [[21 22 23]\n",
      "   [23 24 25]]]\n",
      "\n",
      "\n",
      " [[[16 17 18]\n",
      "   [18 19 20]]\n",
      "\n",
      "  [[21 22 23]\n",
      "   [24 25 26]]\n",
      "\n",
      "  [[26 27 28]\n",
      "   [28 29 30]]]]\n"
     ]
    }
   ],
   "source": [
    "print(full_array)"
   ]
  },
  {
   "cell_type": "code",
   "execution_count": 32,
   "metadata": {},
   "outputs": [
    {
     "data": {
      "text/plain": [
       "(3, 2, 3)"
      ]
     },
     "execution_count": 32,
     "metadata": {},
     "output_type": "execute_result"
    }
   ],
   "source": [
    "np.shape(np.mean(full_array, axis=0))"
   ]
  },
  {
   "cell_type": "code",
   "execution_count": 39,
   "metadata": {},
   "outputs": [
    {
     "name": "stdout",
     "output_type": "stream",
     "text": [
      "[[[ 9.33333333 10.33333333 11.33333333]\n",
      "  [11.33333333 12.33333333 13.33333333]]\n",
      "\n",
      " [[14.33333333 15.33333333 16.33333333]\n",
      "  [17.33333333 18.33333333 19.33333333]]\n",
      "\n",
      " [[19.33333333 20.33333333 21.33333333]\n",
      "  [21.33333333 22.33333333 23.33333333]]]\n"
     ]
    }
   ],
   "source": [
    "print(np.mean(full_array, axis=0))"
   ]
  },
  {
   "cell_type": "code",
   "execution_count": null,
   "metadata": {},
   "outputs": [],
   "source": []
  }
 ],
 "metadata": {
  "kernelspec": {
   "display_name": "Python 3",
   "language": "python",
   "name": "python3"
  },
  "language_info": {
   "codemirror_mode": {
    "name": "ipython",
    "version": 3
   },
   "file_extension": ".py",
   "mimetype": "text/x-python",
   "name": "python",
   "nbconvert_exporter": "python",
   "pygments_lexer": "ipython3",
   "version": "3.6.10"
  }
 },
 "nbformat": 4,
 "nbformat_minor": 1
}
