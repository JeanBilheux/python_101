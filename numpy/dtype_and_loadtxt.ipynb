{
 "cells": [
  {
   "cell_type": "markdown",
   "metadata": {},
   "source": [
    "# Playing with dtype"
   ]
  },
  {
   "cell_type": "code",
   "execution_count": 3,
   "metadata": {
    "collapsed": true
   },
   "outputs": [],
   "source": [
    "import numpy as np"
   ]
  },
  {
   "cell_type": "code",
   "execution_count": null,
   "metadata": {
    "collapsed": false
   },
   "outputs": [],
   "source": [
    "particle_type = np.dtype([('mass', 'f4'), ('velocity', 'f4'), ('other', 'object')])"
   ]
  },
  {
   "cell_type": "code",
   "execution_count": null,
   "metadata": {
    "collapsed": false
   },
   "outputs": [],
   "source": [
    "particles = np.array([(1, 2, None), (1, 2, None), (3, 4, None)], dtype=particle_type)"
   ]
  },
  {
   "cell_type": "code",
   "execution_count": null,
   "metadata": {
    "collapsed": false
   },
   "outputs": [],
   "source": [
    "print(particles)"
   ]
  },
  {
   "cell_type": "code",
   "execution_count": null,
   "metadata": {
    "collapsed": false
   },
   "outputs": [],
   "source": [
    "particles[0]"
   ]
  },
  {
   "cell_type": "code",
   "execution_count": null,
   "metadata": {
    "collapsed": false
   },
   "outputs": [],
   "source": [
    "print(particles['velocity'])"
   ]
  },
  {
   "cell_type": "code",
   "execution_count": null,
   "metadata": {
    "collapsed": false
   },
   "outputs": [],
   "source": [
    "particles.sort(order=('velocity'))"
   ]
  },
  {
   "cell_type": "markdown",
   "metadata": {},
   "source": [
    "# Complex data type"
   ]
  },
  {
   "cell_type": "code",
   "execution_count": 29,
   "metadata": {
    "collapsed": false
   },
   "outputs": [],
   "source": [
    "dt_complex = np.dtype([('time', float), \n",
    "                       ('size', float),\n",
    "                      ('position', [('az', float),\n",
    "                                   ('el', float),\n",
    "                                   ('region_type', int),\n",
    "                                   ('region_ID', int)]),\n",
    "                      ('gain', int),\n",
    "                      ('samples', float, 3)])"
   ]
  },
  {
   "cell_type": "code",
   "execution_count": 30,
   "metadata": {
    "collapsed": true
   },
   "outputs": [],
   "source": [
    "filename = 'nested_dtype.txt'"
   ]
  },
  {
   "cell_type": "code",
   "execution_count": 31,
   "metadata": {
    "collapsed": false
   },
   "outputs": [],
   "source": [
    "data = np.loadtxt(filename, dtype=dt_complex, skiprows=2)"
   ]
  },
  {
   "cell_type": "code",
   "execution_count": 32,
   "metadata": {
    "collapsed": false
   },
   "outputs": [
    {
     "name": "stdout",
     "output_type": "stream",
     "text": [
      "[ (1111111.0, 10.0, (0.7, -0.1, 1, 4), 40, [0.361358537, 0.924940989, 0.476165854])\n",
      " (1111112.0, 10.0, (0.9, -0.1, 1, 4), 40, [0.157334404, 0.965901723, 0.8487847])\n",
      " (1111113.0, 10.0, (1.1, -0.1, 1, 4), 40, [0.114315107, 0.101304054, 0.430552638])\n",
      " (1111114.0, 10.0, (1.3, -0.1, 1, 4), 40, [0.72485143, 0.292217202, 0.398807113])\n",
      " (1111115.0, 10.0, (1.5, -0.1, 1, 4), 40, [0.968001027, 0.899049691, 0.072604841])\n",
      " (1111116.0, 10.0, (1.7, -0.1, 1, 4), 40, [0.693286874, 0.468478564, 0.231692357])\n",
      " (1111117.0, 10.0, (1.9, -0.1, 1, 4), 40, [0.245350889, 0.649302438, 0.864083429])\n",
      " (1111118.0, 10.0, (2.1, -0.1, 1, 4), 40, [0.610551061, 0.410296878, 0.696429115])\n",
      " (1111119.0, 10.0, (2.3, -0.1, 1, 4), 40, [0.385871885, 0.147101673, 0.599135281])\n",
      " (1111120.0, 10.0, (2.5, -0.1, 1, 4), 40, [0.815657218, 0.359923327, 0.244355926])\n",
      " (1111121.0, 10.0, (2.7, -0.1, 1, 4), 40, [0.747577973, 0.990528394, 0.502516903])\n",
      " (1111122.0, 10.0, (2.9, -0.1, 1, 4), 40, [0.50384251, 0.757717939, 0.304764243])\n",
      " (1111123.0, 10.0, (3.1, -0.1, 1, 4), 40, [0.067893369, 0.632484537, 0.480706427])]\n"
     ]
    }
   ],
   "source": [
    "print(data)"
   ]
  },
  {
   "cell_type": "code",
   "execution_count": 33,
   "metadata": {
    "collapsed": false
   },
   "outputs": [
    {
     "name": "stdout",
     "output_type": "stream",
     "text": [
      "[ 1111111.  1111112.  1111113.  1111114.  1111115.  1111116.  1111117.\n",
      "  1111118.  1111119.  1111120.  1111121.  1111122.  1111123.]\n"
     ]
    }
   ],
   "source": [
    "print(data['time'])"
   ]
  },
  {
   "cell_type": "markdown",
   "metadata": {},
   "source": [
    "# Simple data type"
   ]
  },
  {
   "cell_type": "code",
   "execution_count": 35,
   "metadata": {
    "collapsed": true
   },
   "outputs": [],
   "source": [
    "simple_file = 'simple_ascii.txt'"
   ]
  },
  {
   "cell_type": "code",
   "execution_count": 37,
   "metadata": {
    "collapsed": false
   },
   "outputs": [],
   "source": [
    "data = np.loadtxt(simple_file, skiprows=1)"
   ]
  },
  {
   "cell_type": "code",
   "execution_count": 38,
   "metadata": {
    "collapsed": false
   },
   "outputs": [
    {
     "name": "stdout",
     "output_type": "stream",
     "text": [
      "[[  0.00000000e+00   9.23023571e-01]\n",
      " [  1.00000000e+00   5.59561400e-03]\n",
      " [  2.00000000e+00   5.37504838e-01]\n",
      " [  3.00000000e+00   1.09805089e-01]\n",
      " [  4.00000000e+00   1.43641749e-01]\n",
      " [  5.00000000e+00   4.47421227e-01]\n",
      " [  6.00000000e+00   1.14211060e-01]\n",
      " [  7.00000000e+00   3.14909911e-01]\n",
      " [  8.00000000e+00   6.42922859e-01]\n",
      " [  9.00000000e+00   5.17006498e-01]\n",
      " [  1.00000000e+01   9.91316359e-01]\n",
      " [  1.10000000e+01   4.04477667e-01]\n",
      " [  1.20000000e+01   4.13677723e-01]\n",
      " [  1.30000000e+01   8.75453720e-02]\n",
      " [  1.40000000e+01   3.15667572e-01]\n",
      " [  1.50000000e+01   8.22787064e-01]\n",
      " [  1.60000000e+01   4.23755621e-01]\n",
      " [  1.70000000e+01   3.50010693e-01]\n",
      " [  1.80000000e+01   4.21360837e-01]\n",
      " [  1.90000000e+01   9.80659102e-01]]\n"
     ]
    }
   ],
   "source": [
    "print(data)"
   ]
  },
  {
   "cell_type": "code",
   "execution_count": null,
   "metadata": {
    "collapsed": true
   },
   "outputs": [],
   "source": []
  }
 ],
 "metadata": {
  "kernelspec": {
   "display_name": "Python 3",
   "language": "python",
   "name": "python3"
  },
  "language_info": {
   "codemirror_mode": {
    "name": "ipython",
    "version": 3
   },
   "file_extension": ".py",
   "mimetype": "text/x-python",
   "name": "python",
   "nbconvert_exporter": "python",
   "pygments_lexer": "ipython3",
   "version": "3.4.3"
  }
 },
 "nbformat": 4,
 "nbformat_minor": 0
}
