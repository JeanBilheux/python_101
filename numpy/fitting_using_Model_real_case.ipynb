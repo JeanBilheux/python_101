{
 "cells": [
  {
   "cell_type": "code",
   "execution_count": 77,
   "metadata": {
    "collapsed": true
   },
   "outputs": [],
   "source": [
    "import math\n",
    "import numpy as np\n",
    "from scipy.special import erf"
   ]
  },
  {
   "cell_type": "code",
   "execution_count": 78,
   "metadata": {
    "collapsed": true
   },
   "outputs": [],
   "source": [
    "        \n",
    "def basic_fit(t, d_spacing, alpha, sigma, a1, a2):\n",
    "\n",
    "    _step1 = t-d_spacing\n",
    "    _step2 = _step1 / alpha\n",
    "    \n",
    "    term1 = np.exp((t-d_spacing)/alpha + (sigma*sigma)/(2*alpha*alpha))\n",
    "    term2 = erf(-((t-d_spacing)/(sigma * math.sqrt(2))) + sigma/alpha)\n",
    "    term0 = erf(-((t-d_spacing)/(sigma*math.sqrt(2))))\n",
    "    \n",
    "    y = a1 + a2 * (term0 - (term1 * term2))\n",
    "    \n",
    "    return y"
   ]
  },
  {
   "cell_type": "code",
   "execution_count": 79,
   "metadata": {
    "collapsed": false
   },
   "outputs": [],
   "source": [
    "from lmfit import Model"
   ]
  },
  {
   "cell_type": "code",
   "execution_count": 80,
   "metadata": {
    "collapsed": false
   },
   "outputs": [],
   "source": [
    "x_axis = np.linspace(0, 160, 161)\n",
    "y_axis = np.linspace(0, 160, 161) * np.random.rand()\n",
    "y_axis[20] = np.NaN"
   ]
  },
  {
   "cell_type": "code",
   "execution_count": 81,
   "metadata": {
    "collapsed": true
   },
   "outputs": [],
   "source": [
    "d_spacing = 0.9\n",
    "alpha = 4.5\n",
    "sigma = 3.5\n",
    "a1 = 411\n",
    "a2 = 0.26"
   ]
  },
  {
   "cell_type": "code",
   "execution_count": 86,
   "metadata": {
    "collapsed": true
   },
   "outputs": [],
   "source": [
    "gmodel = Model(basic_fit, missing='drop')"
   ]
  },
  {
   "cell_type": "code",
   "execution_count": 87,
   "metadata": {
    "collapsed": true
   },
   "outputs": [],
   "source": [
    "params = gmodel.make_params()"
   ]
  },
  {
   "cell_type": "code",
   "execution_count": 88,
   "metadata": {
    "collapsed": true
   },
   "outputs": [],
   "source": [
    "params.add('d_spacing', value=d_spacing)\n",
    "params.add('sigma', value=sigma)\n",
    "params.add('alpha', value=alpha)\n",
    "params.add('a1', value=a1, vary=True)\n",
    "params.add('a2', value=a2, vary=True)"
   ]
  },
  {
   "cell_type": "code",
   "execution_count": 89,
   "metadata": {
    "collapsed": false
   },
   "outputs": [],
   "source": [
    "result = gmodel.fit(y_axis, params, t=x_axis)"
   ]
  },
  {
   "cell_type": "code",
   "execution_count": null,
   "metadata": {
    "collapsed": true
   },
   "outputs": [],
   "source": []
  },
  {
   "cell_type": "code",
   "execution_count": null,
   "metadata": {
    "collapsed": true
   },
   "outputs": [],
   "source": []
  }
 ],
 "metadata": {
  "kernelspec": {
   "display_name": "Python 2",
   "language": "python",
   "name": "python2"
  },
  "language_info": {
   "codemirror_mode": {
    "name": "ipython",
    "version": 2
   },
   "file_extension": ".py",
   "mimetype": "text/x-python",
   "name": "python",
   "nbconvert_exporter": "python",
   "pygments_lexer": "ipython2",
   "version": "2.7.12"
  }
 },
 "nbformat": 4,
 "nbformat_minor": 0
}
