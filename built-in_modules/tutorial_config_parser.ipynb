{
 "cells": [
  {
   "cell_type": "code",
   "execution_count": 17,
   "metadata": {
    "collapsed": false
   },
   "outputs": [],
   "source": [
    "import configparser\n",
    "import os"
   ]
  },
  {
   "cell_type": "code",
   "execution_count": 10,
   "metadata": {
    "collapsed": true
   },
   "outputs": [],
   "source": [
    "file = 'data/simple.ini'\n",
    "assert os.path.isfile(file)"
   ]
  },
  {
   "cell_type": "markdown",
   "metadata": {},
   "source": [
    "### reading configuration file"
   ]
  },
  {
   "cell_type": "code",
   "execution_count": 18,
   "metadata": {
    "collapsed": false
   },
   "outputs": [
    {
     "data": {
      "text/plain": [
       "['data/simple.ini']"
      ]
     },
     "execution_count": 18,
     "metadata": {},
     "output_type": "execute_result"
    }
   ],
   "source": [
    "parser = configparser.ConfigParser()\n",
    "parser.read(file)"
   ]
  },
  {
   "cell_type": "markdown",
   "metadata": {},
   "source": [
    "#### retrieve a variable"
   ]
  },
  {
   "cell_type": "code",
   "execution_count": 12,
   "metadata": {
    "collapsed": false
   },
   "outputs": [
    {
     "name": "stdout",
     "output_type": "stream",
     "text": [
      "http://yahoo.fr\n"
     ]
    }
   ],
   "source": [
    "print(parser.get('bug_tracker', 'url'))"
   ]
  },
  {
   "cell_type": "markdown",
   "metadata": {},
   "source": [
    "#### retrieve all variables"
   ]
  },
  {
   "cell_type": "code",
   "execution_count": 13,
   "metadata": {
    "collapsed": false
   },
   "outputs": [
    {
     "name": "stdout",
     "output_type": "stream",
     "text": [
      "Section: bug_tracker\n",
      "  Options:  ['url', 'username', 'password']\n",
      "    url = http://yahoo.fr\n",
      "    username = dhellman\n",
      "    password = SECRET\n",
      "Section: section1\n",
      "  Options:  ['variable1', 'variable2', 'variable3']\n",
      "    variable1 = ab\n",
      "    variable2 = [10,20,30]\n",
      "    variable3 = [[10,20,30],[40,50,60]]\n"
     ]
    }
   ],
   "source": [
    "for section_name in parser.sections():\n",
    "    print(\"Section: %s\" %section_name)\n",
    "    print(\"  Options: \", parser.options(section_name))\n",
    "    for name, value in parser.items(section_name):\n",
    "        print(\"    %s = %s\" %(name, value))\n",
    "    print"
   ]
  },
  {
   "cell_type": "markdown",
   "metadata": {},
   "source": [
    "### saving configuration file"
   ]
  },
  {
   "cell_type": "code",
   "execution_count": 33,
   "metadata": {
    "collapsed": true
   },
   "outputs": [],
   "source": [
    "output_file = 'data/simple_only_string.ini'"
   ]
  },
  {
   "cell_type": "code",
   "execution_count": 34,
   "metadata": {
    "collapsed": true
   },
   "outputs": [],
   "source": [
    "my_dict = {'variable1': 'value1',\n",
    "          'variable2': '[10,20,30]',\n",
    "           'variable4': 20,\n",
    "          'variable3': True }"
   ]
  },
  {
   "cell_type": "code",
   "execution_count": 36,
   "metadata": {
    "collapsed": false
   },
   "outputs": [],
   "source": [
    "config = configparser.ConfigParser()\n",
    "cfgfile = open(output_file, 'w')\n",
    "\n",
    "config.add_section(\"Settings\")\n",
    "#for key, value in my_dict.items():\n",
    "#    config.set('Settings', key, value)\n",
    "config.set('Settings', 'variable1', 'me')\n",
    "config.set('Settings', 'variable2', '10')\n",
    "\n",
    "config.write(cfgfile)\n",
    "cfgfile.close()\n"
   ]
  },
  {
   "cell_type": "markdown",
   "metadata": {},
   "source": [
    "#### saving configuration file (but not only of strings) "
   ]
  },
  {
   "cell_type": "code",
   "execution_count": 40,
   "metadata": {
    "collapsed": false
   },
   "outputs": [],
   "source": [
    "# lets create that config file for next time...\n",
    "output_file_2 = 'data/simple_string_boolean_int.ini'\n",
    "Config = configparser.ConfigParser()\n",
    "cfgfile = open(output_file_2, 'w')\n",
    "\n",
    "my_dict = {'variable1': 'value1',\n",
    "          'variable2': '[[10,20,30],[20,30,40]]',\n",
    "           'variable5': [['a','b','c'],[True, 1, 2], [False, 2, 3]],\n",
    "           'variable4': 20,\n",
    "          'variable3': True }\n",
    "\n",
    "# add the settings to the structure of the file, and lets write it out...\n",
    "Config.add_section('Person')\n",
    "Config['Person'] = my_dict\n",
    "Config.write(cfgfile)\n",
    "cfgfile.close()"
   ]
  },
  {
   "cell_type": "code",
   "execution_count": null,
   "metadata": {
    "collapsed": true
   },
   "outputs": [],
   "source": []
  }
 ],
 "metadata": {
  "kernelspec": {
   "display_name": "Python 3",
   "language": "python",
   "name": "python3"
  },
  "language_info": {
   "codemirror_mode": {
    "name": "ipython",
    "version": 3
   },
   "file_extension": ".py",
   "mimetype": "text/x-python",
   "name": "python",
   "nbconvert_exporter": "python",
   "pygments_lexer": "ipython3",
   "version": "3.5.1"
  }
 },
 "nbformat": 4,
 "nbformat_minor": 0
}
