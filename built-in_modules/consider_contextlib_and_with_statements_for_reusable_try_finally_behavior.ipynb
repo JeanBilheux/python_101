{
 "cells": [
  {
   "cell_type": "markdown",
   "metadata": {},
   "source": [
    "The *with* statement is used to indicate when code is running in a special context. \n",
    "\n",
    "  example [lock](../concurrency_and_parallelism/lock_to_prevent_data_races_in_thread.ipynb)"
   ]
  },
  {
   "cell_type": "markdown",
   "metadata": {},
   "source": [
    "```\n",
    "lock = Lock()\n",
    "with lock:\n",
    "    print(\"lock is held\")\n",
    "```"
   ]
  },
  {
   "cell_type": "markdown",
   "metadata": {},
   "source": [
    "is equivalent to"
   ]
  },
  {
   "cell_type": "markdown",
   "metadata": {},
   "source": [
    "```\n",
    "lock.aquire()\n",
    "try:\n",
    "    print(\"Lock is held\")\n",
    "finally:\n",
    "    lock.release()\n",
    "```"
   ]
  },
  {
   "cell_type": "markdown",
   "metadata": {},
   "source": [
    "### contextlib"
   ]
  },
  {
   "cell_type": "markdown",
   "metadata": {},
   "source": [
    "It's easy to make our objects and functions capable of use in **with** statements by using the *contextlib* built-in module. This module contains the *contextmanager* decorator, which lets s simple function be used in *with* statements. "
   ]
  },
  {
   "cell_type": "markdown",
   "metadata": {},
   "source": [
    "For example, if we want a region of our code to have more debug logging sometimes.\n",
    "\n",
    "Here, we have a function that does logging at two severity levels"
   ]
  },
  {
   "cell_type": "code",
   "execution_count": 2,
   "metadata": {
    "collapsed": true
   },
   "outputs": [],
   "source": [
    "def my_function():\n",
    "    logging.debug(\"Some debug data\")\n",
    "    logging.error(\"Error log here\")\n",
    "    logging.debug(\"More debug data\")"
   ]
  },
  {
   "cell_type": "markdown",
   "metadata": {},
   "source": [
    "The default log level for the program is WARNING, so only the error message will print to the screen when I run the function. "
   ]
  },
  {
   "cell_type": "markdown",
   "metadata": {},
   "source": [
    "my_function()\n",
    ">>>\n",
    "Error log here"
   ]
  },
  {
   "cell_type": "markdown",
   "metadata": {},
   "source": [
    "I can elevate the log level of this function temporarily by defining a context manager. This helper function boosts the logging severity level before running the code in the *with* block and reduced the logging severity level afterward."
   ]
  },
  {
   "cell_type": "code",
   "execution_count": 7,
   "metadata": {
    "collapsed": true
   },
   "outputs": [],
   "source": [
    "from contextlib import contextmanager"
   ]
  },
  {
   "cell_type": "code",
   "execution_count": 8,
   "metadata": {
    "collapsed": false
   },
   "outputs": [],
   "source": [
    "@contextmanager\n",
    "def debug_logging(level):\n",
    "    logger = logging.getLogger()\n",
    "    old_level = logger.getEffectiveLevel()\n",
    "    logger.setLevel(level)\n",
    "    try:\n",
    "        yield\n",
    "    finally:\n",
    "        logger.setLebel(old_level)"
   ]
  },
  {
   "cell_type": "code",
   "execution_count": null,
   "metadata": {
    "collapsed": true
   },
   "outputs": [],
   "source": []
  }
 ],
 "metadata": {
  "kernelspec": {
   "display_name": "Python 3",
   "language": "python",
   "name": "python3"
  },
  "language_info": {
   "codemirror_mode": {
    "name": "ipython",
    "version": 3
   },
   "file_extension": ".py",
   "mimetype": "text/x-python",
   "name": "python",
   "nbconvert_exporter": "python",
   "pygments_lexer": "ipython3",
   "version": "3.5.1"
  }
 },
 "nbformat": 4,
 "nbformat_minor": 0
}
