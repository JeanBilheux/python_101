{
 "cells": [
  {
   "cell_type": "markdown",
   "metadata": {},
   "source": [
    "# installation"
   ]
  },
  {
   "cell_type": "code",
   "execution_count": null,
   "metadata": {
    "scrolled": false
   },
   "outputs": [],
   "source": [
    "!pip install requests requests_oauthlib"
   ]
  },
  {
   "cell_type": "code",
   "execution_count": null,
   "metadata": {},
   "outputs": [],
   "source": [
    "!pip install https://oncat.ornl.gov/packages/PyONCat-1.0rc4-py2.py3-none-any.whl"
   ]
  },
  {
   "cell_type": "markdown",
   "metadata": {},
   "source": [
    "# Test"
   ]
  },
  {
   "cell_type": "code",
   "execution_count": 7,
   "metadata": {},
   "outputs": [
    {
     "ename": "NameError",
     "evalue": "name 'pyoncatForADDIE' is not defined",
     "output_type": "error",
     "traceback": [
      "\u001b[0;31m---------------------------------------------------------------------------\u001b[0m",
      "\u001b[0;31mNameError\u001b[0m                                 Traceback (most recent call last)",
      "\u001b[0;32m<ipython-input-7-7994a528e981>\u001b[0m in \u001b[0;36m<module>\u001b[0;34m\u001b[0m\n\u001b[1;32m     82\u001b[0m     \u001b[0museRcFile\u001b[0m \u001b[0;34m=\u001b[0m \u001b[0;32mTrue\u001b[0m\u001b[0;34m\u001b[0m\u001b[0;34m\u001b[0m\u001b[0m\n\u001b[1;32m     83\u001b[0m     \u001b[0mdashes\u001b[0m \u001b[0;34m=\u001b[0m \u001b[0;36m35\u001b[0m\u001b[0;34m\u001b[0m\u001b[0;34m\u001b[0m\u001b[0m\n\u001b[0;32m---> 84\u001b[0;31m     \u001b[0moncat\u001b[0m \u001b[0;34m=\u001b[0m \u001b[0mpyoncatForADDIE\u001b[0m\u001b[0;34m(\u001b[0m\u001b[0museRcFile\u001b[0m\u001b[0;34m=\u001b[0m\u001b[0museRcFile\u001b[0m\u001b[0;34m)\u001b[0m\u001b[0;34m\u001b[0m\u001b[0;34m\u001b[0m\u001b[0m\n\u001b[0m\u001b[1;32m     85\u001b[0m \u001b[0;34m\u001b[0m\u001b[0m\n\u001b[1;32m     86\u001b[0m     \u001b[0mprint\u001b[0m\u001b[0;34m(\u001b[0m\u001b[0;34m\"-\"\u001b[0m \u001b[0;34m*\u001b[0m \u001b[0mdashes\u001b[0m\u001b[0;34m)\u001b[0m\u001b[0;34m\u001b[0m\u001b[0;34m\u001b[0m\u001b[0m\n",
      "\u001b[0;31mNameError\u001b[0m: name 'pyoncatForADDIE' is not defined"
     ]
    }
   ],
   "source": [
    "# Create token store\n",
    "class InMemoryTokenStore(object):\n",
    "    def __init__(self):\n",
    "        self._token = None\n",
    "\n",
    "    def set_token(self, token):\n",
    "        pass\n",
    "\n",
    "    def get_token(self):\n",
    "        return self._token\n",
    "\n",
    "\n",
    "def pyoncatGetNexus(oncat=None,\n",
    "                    instrument='',\n",
    "                    runs=-1,\n",
    "                    facility='SNS',\n",
    "                    projection=[]):\n",
    "\n",
    "    if projection == []:\n",
    "        projection = ['location',\n",
    "                      'indexed.run_number',\n",
    "                      'metadata.entry.sample.chemical_formula',\n",
    "                      'metadata.entry.sample.mass_density',\n",
    "                      'metadata.entry.title',\n",
    "                      'metadata.entry.proton_charge',\n",
    "                      'metadata.entry.daslogs.bl1b:se:sampletemp.device_name'\n",
    "                      ]\n",
    "\n",
    "    datafiles = oncat.Datafile.list(\n",
    "        facility=facility,\n",
    "        instrument=instrument,\n",
    "        projection=projection,\n",
    "        tags=['type/raw'],\n",
    "        exts=['.nxs.h5'],\n",
    "        ranges_q='indexed.run_number:%s' % runs\n",
    "    )\n",
    "    return datafiles\n",
    "\n",
    "def pyoncatGetTemplate(oncat=None,\n",
    "                       instrument='',\n",
    "                       facility='SNS'):\n",
    "    all_templates = oncat.Template.list(facility=facility,\n",
    "                                        instrument=instrument,\n",
    "                                        )\n",
    "    return all_templates\n",
    "\n",
    "def pyoncatGetRunsFromIpts(oncat=None,\n",
    "                           instrument='',\n",
    "                           ipts='',\n",
    "                           facility='SNS',\n",
    "                           projection=[]):\n",
    "\n",
    "    if projection == []:\n",
    "        projection = ['indexed.run_number',\n",
    "                      'metadata.entry.sample.chemical_formula',\n",
    "                      'metadata.entry.sample.mass_density',\n",
    "                      'metadata.entry.title',\n",
    "                      'metadata.entry.proton_charge',\n",
    "                      'metadata.entry.daslogs.bl1b:se:sampletemp.device_name'\n",
    "                     ]\n",
    "\n",
    "    run_list = oncat.Datafile.list(facility=facility,\n",
    "                                   instrument=instrument,\n",
    "                                   experiment=ipts,\n",
    "                                   projection=projection,\n",
    "                                   tags=['type/raw'],\n",
    "                                   exts=['.nxs.h5'])\n",
    "    return run_list\n",
    "\n",
    "def pyoncatGetIptsList(oncat=None,\n",
    "                       instrument='',\n",
    "                       facility='SNS'):\n",
    "    ipts_list = oncat.Experiment.list(\n",
    "        facility=facility,\n",
    "        instrument=instrument,\n",
    "        projection=['id']\n",
    "    )\n",
    "    return [ipts.name for ipts in ipts_list]\n",
    "\n",
    "\n",
    "if __name__ == \"__main__\":\n",
    "    useRcFile = True\n",
    "    dashes = 35\n",
    "    oncat = pyoncatForADDIE(useRcFile=useRcFile)\n",
    "\n",
    "    print(\"-\" * dashes)\n",
    "    print(\"NOMAD file 11000\")\n",
    "    print(\"-\" * dashes)\n",
    "    datafiles = pyoncatGetRuns(oncat, 'NOM', 111000)\n",
    "    for datafile in datafiles:\n",
    "        print(datafile.location)\n",
    "\n",
    "    print(\"-\" * dashes)\n",
    "    print(\"ARCS file 11000\")\n",
    "    print(\"-\" * dashes)\n",
    "    datafiles = pyoncatGetRuns(oncat, 'ARCS', 11000)\n",
    "    for datafile in datafiles:\n",
    "        print(datafile.location)\n",
    "\n",
    "    print(\"-\" * dashes)\n",
    "    print(\"NOMAD IPTSs\")\n",
    "    print(\"-\" * dashes)\n",
    "    print(pyoncatGetIptsList(oncat, 'NOM'))\n",
    "\n",
    "    print(\"-\" * dashes)\n",
    "    print(\"VISION IPTSs\")\n",
    "    print(\"-\" * dashes)\n",
    "    print(pyoncatGetIptsList(oncat, 'VIS'))\n",
    "\n"
   ]
  },
  {
   "cell_type": "code",
   "execution_count": null,
   "metadata": {},
   "outputs": [],
   "source": []
  }
 ],
 "metadata": {
  "kernelspec": {
   "display_name": "Python 3",
   "language": "python",
   "name": "python3"
  },
  "language_info": {
   "codemirror_mode": {
    "name": "ipython",
    "version": 3
   },
   "file_extension": ".py",
   "mimetype": "text/x-python",
   "name": "python",
   "nbconvert_exporter": "python",
   "pygments_lexer": "ipython3",
   "version": "3.6.7"
  }
 },
 "nbformat": 4,
 "nbformat_minor": 2
}
