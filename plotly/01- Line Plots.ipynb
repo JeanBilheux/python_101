{
 "cells": [
  {
   "cell_type": "markdown",
   "metadata": {},
   "source": [
    "# Line Plots\n",
    "A line chart or line plot or line graph or curve chart is a type of chart which displays information as a series of data points called 'markers' connected by straight line segments. [Line Chart on Wikipedia](https://en.wikipedia.org/wiki/Line_chart)\n",
    "\n",
    "* Line graphs are used to track changes over short and long periods of time. When smaller changes exist, line graphs are better to use than bar graphs. Line graphs can also be used to compare changes over the same period of time for more than one group. [Source](https://nces.ed.gov/nceskids/help/user_guide/graph/whentouse.asp)\n",
    "\n",
    "* Line graphs are usually used to show time series data - that is how one or more variables vary over a continuous period of time. Typical examples of the types of data that can be presented using line graphs are monthly rainfall and annual unemployment rates. \n",
    "\n",
    "* Line graphs are particularly useful for identifying patterns and trends in the data such as seasonal effects, large changes and turning points. \n",
    "\n",
    "* As well as time series data, line graphs can also be appropriate for displaying data that are measured over other continuous variables such as distance. \n",
    "\n",
    "* For example, a line graph could be used to show how pollution levels vary with increasing distance from a source, or how the level of a chemical varies with depth of soil. \n",
    "\n",
    "* However, it is important to consider whether the data have been collected at sufficiently regular intervals so that estimates made for a point lying half-way along the line between two successive measurements would be reasonable.\n",
    "\n",
    "* In a line graph the x-axis represents the continuous variable (for example year or distance from the initial measurement) whilst the y-axis has a scale and indicates the measurement.\n",
    "\n",
    "* Several data series can be plotted on the same line chart and this is particularly useful for analysing and comparing the trends in different datasets. [Source](https://www.le.ac.uk/oerresources/ssds/numeracyskills/page_34.htm)"
   ]
  },
  {
   "cell_type": "code",
   "execution_count": 1,
   "metadata": {},
   "outputs": [
    {
     "data": {
      "text/plain": [
       "'4.8.1'"
      ]
     },
     "execution_count": 1,
     "metadata": {},
     "output_type": "execute_result"
    }
   ],
   "source": [
    "#!pip install --upgrade plotly\n",
    "import plotly\n",
    "plotly.__version__"
   ]
  },
  {
   "cell_type": "markdown",
   "metadata": {},
   "source": [
    "## Simple Line Plot with plotly.express\n",
    "*plotly.express* is a high level interface to Plotly .. With *px.line*, each data point is represented as a vertex (which location is given by the x and y columns) of a polyline mark in 2D space."
   ]
  },
  {
   "cell_type": "code",
   "execution_count": 7,
   "metadata": {},
   "outputs": [
    {
     "data": {
      "application/vnd.plotly.v1+json": {
       "config": {
        "plotlyServerURL": "https://plot.ly"
       },
       "data": [
        {
         "hovertemplate": "year=%{x}<br>lifeExp=%{y}<extra></extra>",
         "legendgroup": "",
         "line": {
          "color": "#636efa",
          "dash": "solid"
         },
         "mode": "lines",
         "name": "",
         "orientation": "v",
         "showlegend": false,
         "type": "scatter",
         "x": [
          1952,
          1957,
          1962,
          1967,
          1972,
          1977,
          1982,
          1987,
          1992,
          1997,
          2002,
          2007
         ],
         "xaxis": "x",
         "y": [
          68.75,
          69.96,
          71.3,
          72.13,
          72.88,
          74.21,
          75.76,
          76.86,
          77.95,
          78.61,
          79.77,
          80.653
         ],
         "yaxis": "y"
        }
       ],
       "layout": {
        "legend": {
         "tracegroupgap": 0
        },
        "template": {
         "data": {
          "bar": [
           {
            "error_x": {
             "color": "#2a3f5f"
            },
            "error_y": {
             "color": "#2a3f5f"
            },
            "marker": {
             "line": {
              "color": "#E5ECF6",
              "width": 0.5
             }
            },
            "type": "bar"
           }
          ],
          "barpolar": [
           {
            "marker": {
             "line": {
              "color": "#E5ECF6",
              "width": 0.5
             }
            },
            "type": "barpolar"
           }
          ],
          "carpet": [
           {
            "aaxis": {
             "endlinecolor": "#2a3f5f",
             "gridcolor": "white",
             "linecolor": "white",
             "minorgridcolor": "white",
             "startlinecolor": "#2a3f5f"
            },
            "baxis": {
             "endlinecolor": "#2a3f5f",
             "gridcolor": "white",
             "linecolor": "white",
             "minorgridcolor": "white",
             "startlinecolor": "#2a3f5f"
            },
            "type": "carpet"
           }
          ],
          "choropleth": [
           {
            "colorbar": {
             "outlinewidth": 0,
             "ticks": ""
            },
            "type": "choropleth"
           }
          ],
          "contour": [
           {
            "colorbar": {
             "outlinewidth": 0,
             "ticks": ""
            },
            "colorscale": [
             [
              0,
              "#0d0887"
             ],
             [
              0.1111111111111111,
              "#46039f"
             ],
             [
              0.2222222222222222,
              "#7201a8"
             ],
             [
              0.3333333333333333,
              "#9c179e"
             ],
             [
              0.4444444444444444,
              "#bd3786"
             ],
             [
              0.5555555555555556,
              "#d8576b"
             ],
             [
              0.6666666666666666,
              "#ed7953"
             ],
             [
              0.7777777777777778,
              "#fb9f3a"
             ],
             [
              0.8888888888888888,
              "#fdca26"
             ],
             [
              1,
              "#f0f921"
             ]
            ],
            "type": "contour"
           }
          ],
          "contourcarpet": [
           {
            "colorbar": {
             "outlinewidth": 0,
             "ticks": ""
            },
            "type": "contourcarpet"
           }
          ],
          "heatmap": [
           {
            "colorbar": {
             "outlinewidth": 0,
             "ticks": ""
            },
            "colorscale": [
             [
              0,
              "#0d0887"
             ],
             [
              0.1111111111111111,
              "#46039f"
             ],
             [
              0.2222222222222222,
              "#7201a8"
             ],
             [
              0.3333333333333333,
              "#9c179e"
             ],
             [
              0.4444444444444444,
              "#bd3786"
             ],
             [
              0.5555555555555556,
              "#d8576b"
             ],
             [
              0.6666666666666666,
              "#ed7953"
             ],
             [
              0.7777777777777778,
              "#fb9f3a"
             ],
             [
              0.8888888888888888,
              "#fdca26"
             ],
             [
              1,
              "#f0f921"
             ]
            ],
            "type": "heatmap"
           }
          ],
          "heatmapgl": [
           {
            "colorbar": {
             "outlinewidth": 0,
             "ticks": ""
            },
            "colorscale": [
             [
              0,
              "#0d0887"
             ],
             [
              0.1111111111111111,
              "#46039f"
             ],
             [
              0.2222222222222222,
              "#7201a8"
             ],
             [
              0.3333333333333333,
              "#9c179e"
             ],
             [
              0.4444444444444444,
              "#bd3786"
             ],
             [
              0.5555555555555556,
              "#d8576b"
             ],
             [
              0.6666666666666666,
              "#ed7953"
             ],
             [
              0.7777777777777778,
              "#fb9f3a"
             ],
             [
              0.8888888888888888,
              "#fdca26"
             ],
             [
              1,
              "#f0f921"
             ]
            ],
            "type": "heatmapgl"
           }
          ],
          "histogram": [
           {
            "marker": {
             "colorbar": {
              "outlinewidth": 0,
              "ticks": ""
             }
            },
            "type": "histogram"
           }
          ],
          "histogram2d": [
           {
            "colorbar": {
             "outlinewidth": 0,
             "ticks": ""
            },
            "colorscale": [
             [
              0,
              "#0d0887"
             ],
             [
              0.1111111111111111,
              "#46039f"
             ],
             [
              0.2222222222222222,
              "#7201a8"
             ],
             [
              0.3333333333333333,
              "#9c179e"
             ],
             [
              0.4444444444444444,
              "#bd3786"
             ],
             [
              0.5555555555555556,
              "#d8576b"
             ],
             [
              0.6666666666666666,
              "#ed7953"
             ],
             [
              0.7777777777777778,
              "#fb9f3a"
             ],
             [
              0.8888888888888888,
              "#fdca26"
             ],
             [
              1,
              "#f0f921"
             ]
            ],
            "type": "histogram2d"
           }
          ],
          "histogram2dcontour": [
           {
            "colorbar": {
             "outlinewidth": 0,
             "ticks": ""
            },
            "colorscale": [
             [
              0,
              "#0d0887"
             ],
             [
              0.1111111111111111,
              "#46039f"
             ],
             [
              0.2222222222222222,
              "#7201a8"
             ],
             [
              0.3333333333333333,
              "#9c179e"
             ],
             [
              0.4444444444444444,
              "#bd3786"
             ],
             [
              0.5555555555555556,
              "#d8576b"
             ],
             [
              0.6666666666666666,
              "#ed7953"
             ],
             [
              0.7777777777777778,
              "#fb9f3a"
             ],
             [
              0.8888888888888888,
              "#fdca26"
             ],
             [
              1,
              "#f0f921"
             ]
            ],
            "type": "histogram2dcontour"
           }
          ],
          "mesh3d": [
           {
            "colorbar": {
             "outlinewidth": 0,
             "ticks": ""
            },
            "type": "mesh3d"
           }
          ],
          "parcoords": [
           {
            "line": {
             "colorbar": {
              "outlinewidth": 0,
              "ticks": ""
             }
            },
            "type": "parcoords"
           }
          ],
          "pie": [
           {
            "automargin": true,
            "type": "pie"
           }
          ],
          "scatter": [
           {
            "marker": {
             "colorbar": {
              "outlinewidth": 0,
              "ticks": ""
             }
            },
            "type": "scatter"
           }
          ],
          "scatter3d": [
           {
            "line": {
             "colorbar": {
              "outlinewidth": 0,
              "ticks": ""
             }
            },
            "marker": {
             "colorbar": {
              "outlinewidth": 0,
              "ticks": ""
             }
            },
            "type": "scatter3d"
           }
          ],
          "scattercarpet": [
           {
            "marker": {
             "colorbar": {
              "outlinewidth": 0,
              "ticks": ""
             }
            },
            "type": "scattercarpet"
           }
          ],
          "scattergeo": [
           {
            "marker": {
             "colorbar": {
              "outlinewidth": 0,
              "ticks": ""
             }
            },
            "type": "scattergeo"
           }
          ],
          "scattergl": [
           {
            "marker": {
             "colorbar": {
              "outlinewidth": 0,
              "ticks": ""
             }
            },
            "type": "scattergl"
           }
          ],
          "scattermapbox": [
           {
            "marker": {
             "colorbar": {
              "outlinewidth": 0,
              "ticks": ""
             }
            },
            "type": "scattermapbox"
           }
          ],
          "scatterpolar": [
           {
            "marker": {
             "colorbar": {
              "outlinewidth": 0,
              "ticks": ""
             }
            },
            "type": "scatterpolar"
           }
          ],
          "scatterpolargl": [
           {
            "marker": {
             "colorbar": {
              "outlinewidth": 0,
              "ticks": ""
             }
            },
            "type": "scatterpolargl"
           }
          ],
          "scatterternary": [
           {
            "marker": {
             "colorbar": {
              "outlinewidth": 0,
              "ticks": ""
             }
            },
            "type": "scatterternary"
           }
          ],
          "surface": [
           {
            "colorbar": {
             "outlinewidth": 0,
             "ticks": ""
            },
            "colorscale": [
             [
              0,
              "#0d0887"
             ],
             [
              0.1111111111111111,
              "#46039f"
             ],
             [
              0.2222222222222222,
              "#7201a8"
             ],
             [
              0.3333333333333333,
              "#9c179e"
             ],
             [
              0.4444444444444444,
              "#bd3786"
             ],
             [
              0.5555555555555556,
              "#d8576b"
             ],
             [
              0.6666666666666666,
              "#ed7953"
             ],
             [
              0.7777777777777778,
              "#fb9f3a"
             ],
             [
              0.8888888888888888,
              "#fdca26"
             ],
             [
              1,
              "#f0f921"
             ]
            ],
            "type": "surface"
           }
          ],
          "table": [
           {
            "cells": {
             "fill": {
              "color": "#EBF0F8"
             },
             "line": {
              "color": "white"
             }
            },
            "header": {
             "fill": {
              "color": "#C8D4E3"
             },
             "line": {
              "color": "white"
             }
            },
            "type": "table"
           }
          ]
         },
         "layout": {
          "annotationdefaults": {
           "arrowcolor": "#2a3f5f",
           "arrowhead": 0,
           "arrowwidth": 1
          },
          "coloraxis": {
           "colorbar": {
            "outlinewidth": 0,
            "ticks": ""
           }
          },
          "colorscale": {
           "diverging": [
            [
             0,
             "#8e0152"
            ],
            [
             0.1,
             "#c51b7d"
            ],
            [
             0.2,
             "#de77ae"
            ],
            [
             0.3,
             "#f1b6da"
            ],
            [
             0.4,
             "#fde0ef"
            ],
            [
             0.5,
             "#f7f7f7"
            ],
            [
             0.6,
             "#e6f5d0"
            ],
            [
             0.7,
             "#b8e186"
            ],
            [
             0.8,
             "#7fbc41"
            ],
            [
             0.9,
             "#4d9221"
            ],
            [
             1,
             "#276419"
            ]
           ],
           "sequential": [
            [
             0,
             "#0d0887"
            ],
            [
             0.1111111111111111,
             "#46039f"
            ],
            [
             0.2222222222222222,
             "#7201a8"
            ],
            [
             0.3333333333333333,
             "#9c179e"
            ],
            [
             0.4444444444444444,
             "#bd3786"
            ],
            [
             0.5555555555555556,
             "#d8576b"
            ],
            [
             0.6666666666666666,
             "#ed7953"
            ],
            [
             0.7777777777777778,
             "#fb9f3a"
            ],
            [
             0.8888888888888888,
             "#fdca26"
            ],
            [
             1,
             "#f0f921"
            ]
           ],
           "sequentialminus": [
            [
             0,
             "#0d0887"
            ],
            [
             0.1111111111111111,
             "#46039f"
            ],
            [
             0.2222222222222222,
             "#7201a8"
            ],
            [
             0.3333333333333333,
             "#9c179e"
            ],
            [
             0.4444444444444444,
             "#bd3786"
            ],
            [
             0.5555555555555556,
             "#d8576b"
            ],
            [
             0.6666666666666666,
             "#ed7953"
            ],
            [
             0.7777777777777778,
             "#fb9f3a"
            ],
            [
             0.8888888888888888,
             "#fdca26"
            ],
            [
             1,
             "#f0f921"
            ]
           ]
          },
          "colorway": [
           "#636efa",
           "#EF553B",
           "#00cc96",
           "#ab63fa",
           "#FFA15A",
           "#19d3f3",
           "#FF6692",
           "#B6E880",
           "#FF97FF",
           "#FECB52"
          ],
          "font": {
           "color": "#2a3f5f"
          },
          "geo": {
           "bgcolor": "white",
           "lakecolor": "white",
           "landcolor": "#E5ECF6",
           "showlakes": true,
           "showland": true,
           "subunitcolor": "white"
          },
          "hoverlabel": {
           "align": "left"
          },
          "hovermode": "closest",
          "mapbox": {
           "style": "light"
          },
          "paper_bgcolor": "white",
          "plot_bgcolor": "#E5ECF6",
          "polar": {
           "angularaxis": {
            "gridcolor": "white",
            "linecolor": "white",
            "ticks": ""
           },
           "bgcolor": "#E5ECF6",
           "radialaxis": {
            "gridcolor": "white",
            "linecolor": "white",
            "ticks": ""
           }
          },
          "scene": {
           "xaxis": {
            "backgroundcolor": "#E5ECF6",
            "gridcolor": "white",
            "gridwidth": 2,
            "linecolor": "white",
            "showbackground": true,
            "ticks": "",
            "zerolinecolor": "white"
           },
           "yaxis": {
            "backgroundcolor": "#E5ECF6",
            "gridcolor": "white",
            "gridwidth": 2,
            "linecolor": "white",
            "showbackground": true,
            "ticks": "",
            "zerolinecolor": "white"
           },
           "zaxis": {
            "backgroundcolor": "#E5ECF6",
            "gridcolor": "white",
            "gridwidth": 2,
            "linecolor": "white",
            "showbackground": true,
            "ticks": "",
            "zerolinecolor": "white"
           }
          },
          "shapedefaults": {
           "line": {
            "color": "#2a3f5f"
           }
          },
          "ternary": {
           "aaxis": {
            "gridcolor": "white",
            "linecolor": "white",
            "ticks": ""
           },
           "baxis": {
            "gridcolor": "white",
            "linecolor": "white",
            "ticks": ""
           },
           "bgcolor": "#E5ECF6",
           "caxis": {
            "gridcolor": "white",
            "linecolor": "white",
            "ticks": ""
           }
          },
          "title": {
           "x": 0.05
          },
          "xaxis": {
           "automargin": true,
           "gridcolor": "white",
           "linecolor": "white",
           "ticks": "",
           "title": {
            "standoff": 15
           },
           "zerolinecolor": "white",
           "zerolinewidth": 2
          },
          "yaxis": {
           "automargin": true,
           "gridcolor": "white",
           "linecolor": "white",
           "ticks": "",
           "title": {
            "standoff": 15
           },
           "zerolinecolor": "white",
           "zerolinewidth": 2
          }
         }
        },
        "title": {
         "text": "Life expectancy in Canada"
        },
        "xaxis": {
         "anchor": "y",
         "domain": [
          0,
          1
         ],
         "title": {
          "text": "year"
         }
        },
        "yaxis": {
         "anchor": "x",
         "domain": [
          0,
          1
         ],
         "title": {
          "text": "lifeExp"
         }
        }
       }
      },
      "text/html": [
       "<div>\n",
       "        \n",
       "        \n",
       "            <div id=\"0044b9eb-98da-4dd0-842c-17aaa69120ce\" class=\"plotly-graph-div\" style=\"height:525px; width:100%;\"></div>\n",
       "            <script type=\"text/javascript\">\n",
       "                require([\"plotly\"], function(Plotly) {\n",
       "                    window.PLOTLYENV=window.PLOTLYENV || {};\n",
       "                    \n",
       "                if (document.getElementById(\"0044b9eb-98da-4dd0-842c-17aaa69120ce\")) {\n",
       "                    Plotly.newPlot(\n",
       "                        '0044b9eb-98da-4dd0-842c-17aaa69120ce',\n",
       "                        [{\"hovertemplate\": \"year=%{x}<br>lifeExp=%{y}<extra></extra>\", \"legendgroup\": \"\", \"line\": {\"color\": \"#636efa\", \"dash\": \"solid\"}, \"mode\": \"lines\", \"name\": \"\", \"orientation\": \"v\", \"showlegend\": false, \"type\": \"scatter\", \"x\": [1952, 1957, 1962, 1967, 1972, 1977, 1982, 1987, 1992, 1997, 2002, 2007], \"xaxis\": \"x\", \"y\": [68.75, 69.96, 71.3, 72.13, 72.88, 74.21, 75.76, 76.86, 77.95, 78.61, 79.77, 80.653], \"yaxis\": \"y\"}],\n",
       "                        {\"legend\": {\"tracegroupgap\": 0}, \"template\": {\"data\": {\"bar\": [{\"error_x\": {\"color\": \"#2a3f5f\"}, \"error_y\": {\"color\": \"#2a3f5f\"}, \"marker\": {\"line\": {\"color\": \"#E5ECF6\", \"width\": 0.5}}, \"type\": \"bar\"}], \"barpolar\": [{\"marker\": {\"line\": {\"color\": \"#E5ECF6\", \"width\": 0.5}}, \"type\": \"barpolar\"}], \"carpet\": [{\"aaxis\": {\"endlinecolor\": \"#2a3f5f\", \"gridcolor\": \"white\", \"linecolor\": \"white\", \"minorgridcolor\": \"white\", \"startlinecolor\": \"#2a3f5f\"}, \"baxis\": {\"endlinecolor\": \"#2a3f5f\", \"gridcolor\": \"white\", \"linecolor\": \"white\", \"minorgridcolor\": \"white\", \"startlinecolor\": \"#2a3f5f\"}, \"type\": \"carpet\"}], \"choropleth\": [{\"colorbar\": {\"outlinewidth\": 0, \"ticks\": \"\"}, \"type\": \"choropleth\"}], \"contour\": [{\"colorbar\": {\"outlinewidth\": 0, \"ticks\": \"\"}, \"colorscale\": [[0.0, \"#0d0887\"], [0.1111111111111111, \"#46039f\"], [0.2222222222222222, \"#7201a8\"], [0.3333333333333333, \"#9c179e\"], [0.4444444444444444, \"#bd3786\"], [0.5555555555555556, \"#d8576b\"], [0.6666666666666666, \"#ed7953\"], [0.7777777777777778, \"#fb9f3a\"], [0.8888888888888888, \"#fdca26\"], [1.0, \"#f0f921\"]], \"type\": \"contour\"}], \"contourcarpet\": [{\"colorbar\": {\"outlinewidth\": 0, \"ticks\": \"\"}, \"type\": \"contourcarpet\"}], \"heatmap\": [{\"colorbar\": {\"outlinewidth\": 0, \"ticks\": \"\"}, \"colorscale\": [[0.0, \"#0d0887\"], [0.1111111111111111, \"#46039f\"], [0.2222222222222222, \"#7201a8\"], [0.3333333333333333, \"#9c179e\"], [0.4444444444444444, \"#bd3786\"], [0.5555555555555556, \"#d8576b\"], [0.6666666666666666, \"#ed7953\"], [0.7777777777777778, \"#fb9f3a\"], [0.8888888888888888, \"#fdca26\"], [1.0, \"#f0f921\"]], \"type\": \"heatmap\"}], \"heatmapgl\": [{\"colorbar\": {\"outlinewidth\": 0, \"ticks\": \"\"}, \"colorscale\": [[0.0, \"#0d0887\"], [0.1111111111111111, \"#46039f\"], [0.2222222222222222, \"#7201a8\"], [0.3333333333333333, \"#9c179e\"], [0.4444444444444444, \"#bd3786\"], [0.5555555555555556, \"#d8576b\"], [0.6666666666666666, \"#ed7953\"], [0.7777777777777778, \"#fb9f3a\"], [0.8888888888888888, \"#fdca26\"], [1.0, \"#f0f921\"]], \"type\": \"heatmapgl\"}], \"histogram\": [{\"marker\": {\"colorbar\": {\"outlinewidth\": 0, \"ticks\": \"\"}}, \"type\": \"histogram\"}], \"histogram2d\": [{\"colorbar\": {\"outlinewidth\": 0, \"ticks\": \"\"}, \"colorscale\": [[0.0, \"#0d0887\"], [0.1111111111111111, \"#46039f\"], [0.2222222222222222, \"#7201a8\"], [0.3333333333333333, \"#9c179e\"], [0.4444444444444444, \"#bd3786\"], [0.5555555555555556, \"#d8576b\"], [0.6666666666666666, \"#ed7953\"], [0.7777777777777778, \"#fb9f3a\"], [0.8888888888888888, \"#fdca26\"], [1.0, \"#f0f921\"]], \"type\": \"histogram2d\"}], \"histogram2dcontour\": [{\"colorbar\": {\"outlinewidth\": 0, \"ticks\": \"\"}, \"colorscale\": [[0.0, \"#0d0887\"], [0.1111111111111111, \"#46039f\"], [0.2222222222222222, \"#7201a8\"], [0.3333333333333333, \"#9c179e\"], [0.4444444444444444, \"#bd3786\"], [0.5555555555555556, \"#d8576b\"], [0.6666666666666666, \"#ed7953\"], [0.7777777777777778, \"#fb9f3a\"], [0.8888888888888888, \"#fdca26\"], [1.0, \"#f0f921\"]], \"type\": \"histogram2dcontour\"}], \"mesh3d\": [{\"colorbar\": {\"outlinewidth\": 0, \"ticks\": \"\"}, \"type\": \"mesh3d\"}], \"parcoords\": [{\"line\": {\"colorbar\": {\"outlinewidth\": 0, \"ticks\": \"\"}}, \"type\": \"parcoords\"}], \"pie\": [{\"automargin\": true, \"type\": \"pie\"}], \"scatter\": [{\"marker\": {\"colorbar\": {\"outlinewidth\": 0, \"ticks\": \"\"}}, \"type\": \"scatter\"}], \"scatter3d\": [{\"line\": {\"colorbar\": {\"outlinewidth\": 0, \"ticks\": \"\"}}, \"marker\": {\"colorbar\": {\"outlinewidth\": 0, \"ticks\": \"\"}}, \"type\": \"scatter3d\"}], \"scattercarpet\": [{\"marker\": {\"colorbar\": {\"outlinewidth\": 0, \"ticks\": \"\"}}, \"type\": \"scattercarpet\"}], \"scattergeo\": [{\"marker\": {\"colorbar\": {\"outlinewidth\": 0, \"ticks\": \"\"}}, \"type\": \"scattergeo\"}], \"scattergl\": [{\"marker\": {\"colorbar\": {\"outlinewidth\": 0, \"ticks\": \"\"}}, \"type\": \"scattergl\"}], \"scattermapbox\": [{\"marker\": {\"colorbar\": {\"outlinewidth\": 0, \"ticks\": \"\"}}, \"type\": \"scattermapbox\"}], \"scatterpolar\": [{\"marker\": {\"colorbar\": {\"outlinewidth\": 0, \"ticks\": \"\"}}, \"type\": \"scatterpolar\"}], \"scatterpolargl\": [{\"marker\": {\"colorbar\": {\"outlinewidth\": 0, \"ticks\": \"\"}}, \"type\": \"scatterpolargl\"}], \"scatterternary\": [{\"marker\": {\"colorbar\": {\"outlinewidth\": 0, \"ticks\": \"\"}}, \"type\": \"scatterternary\"}], \"surface\": [{\"colorbar\": {\"outlinewidth\": 0, \"ticks\": \"\"}, \"colorscale\": [[0.0, \"#0d0887\"], [0.1111111111111111, \"#46039f\"], [0.2222222222222222, \"#7201a8\"], [0.3333333333333333, \"#9c179e\"], [0.4444444444444444, \"#bd3786\"], [0.5555555555555556, \"#d8576b\"], [0.6666666666666666, \"#ed7953\"], [0.7777777777777778, \"#fb9f3a\"], [0.8888888888888888, \"#fdca26\"], [1.0, \"#f0f921\"]], \"type\": \"surface\"}], \"table\": [{\"cells\": {\"fill\": {\"color\": \"#EBF0F8\"}, \"line\": {\"color\": \"white\"}}, \"header\": {\"fill\": {\"color\": \"#C8D4E3\"}, \"line\": {\"color\": \"white\"}}, \"type\": \"table\"}]}, \"layout\": {\"annotationdefaults\": {\"arrowcolor\": \"#2a3f5f\", \"arrowhead\": 0, \"arrowwidth\": 1}, \"coloraxis\": {\"colorbar\": {\"outlinewidth\": 0, \"ticks\": \"\"}}, \"colorscale\": {\"diverging\": [[0, \"#8e0152\"], [0.1, \"#c51b7d\"], [0.2, \"#de77ae\"], [0.3, \"#f1b6da\"], [0.4, \"#fde0ef\"], [0.5, \"#f7f7f7\"], [0.6, \"#e6f5d0\"], [0.7, \"#b8e186\"], [0.8, \"#7fbc41\"], [0.9, \"#4d9221\"], [1, \"#276419\"]], \"sequential\": [[0.0, \"#0d0887\"], [0.1111111111111111, \"#46039f\"], [0.2222222222222222, \"#7201a8\"], [0.3333333333333333, \"#9c179e\"], [0.4444444444444444, \"#bd3786\"], [0.5555555555555556, \"#d8576b\"], [0.6666666666666666, \"#ed7953\"], [0.7777777777777778, \"#fb9f3a\"], [0.8888888888888888, \"#fdca26\"], [1.0, \"#f0f921\"]], \"sequentialminus\": [[0.0, \"#0d0887\"], [0.1111111111111111, \"#46039f\"], [0.2222222222222222, \"#7201a8\"], [0.3333333333333333, \"#9c179e\"], [0.4444444444444444, \"#bd3786\"], [0.5555555555555556, \"#d8576b\"], [0.6666666666666666, \"#ed7953\"], [0.7777777777777778, \"#fb9f3a\"], [0.8888888888888888, \"#fdca26\"], [1.0, \"#f0f921\"]]}, \"colorway\": [\"#636efa\", \"#EF553B\", \"#00cc96\", \"#ab63fa\", \"#FFA15A\", \"#19d3f3\", \"#FF6692\", \"#B6E880\", \"#FF97FF\", \"#FECB52\"], \"font\": {\"color\": \"#2a3f5f\"}, \"geo\": {\"bgcolor\": \"white\", \"lakecolor\": \"white\", \"landcolor\": \"#E5ECF6\", \"showlakes\": true, \"showland\": true, \"subunitcolor\": \"white\"}, \"hoverlabel\": {\"align\": \"left\"}, \"hovermode\": \"closest\", \"mapbox\": {\"style\": \"light\"}, \"paper_bgcolor\": \"white\", \"plot_bgcolor\": \"#E5ECF6\", \"polar\": {\"angularaxis\": {\"gridcolor\": \"white\", \"linecolor\": \"white\", \"ticks\": \"\"}, \"bgcolor\": \"#E5ECF6\", \"radialaxis\": {\"gridcolor\": \"white\", \"linecolor\": \"white\", \"ticks\": \"\"}}, \"scene\": {\"xaxis\": {\"backgroundcolor\": \"#E5ECF6\", \"gridcolor\": \"white\", \"gridwidth\": 2, \"linecolor\": \"white\", \"showbackground\": true, \"ticks\": \"\", \"zerolinecolor\": \"white\"}, \"yaxis\": {\"backgroundcolor\": \"#E5ECF6\", \"gridcolor\": \"white\", \"gridwidth\": 2, \"linecolor\": \"white\", \"showbackground\": true, \"ticks\": \"\", \"zerolinecolor\": \"white\"}, \"zaxis\": {\"backgroundcolor\": \"#E5ECF6\", \"gridcolor\": \"white\", \"gridwidth\": 2, \"linecolor\": \"white\", \"showbackground\": true, \"ticks\": \"\", \"zerolinecolor\": \"white\"}}, \"shapedefaults\": {\"line\": {\"color\": \"#2a3f5f\"}}, \"ternary\": {\"aaxis\": {\"gridcolor\": \"white\", \"linecolor\": \"white\", \"ticks\": \"\"}, \"baxis\": {\"gridcolor\": \"white\", \"linecolor\": \"white\", \"ticks\": \"\"}, \"bgcolor\": \"#E5ECF6\", \"caxis\": {\"gridcolor\": \"white\", \"linecolor\": \"white\", \"ticks\": \"\"}}, \"title\": {\"x\": 0.05}, \"xaxis\": {\"automargin\": true, \"gridcolor\": \"white\", \"linecolor\": \"white\", \"ticks\": \"\", \"title\": {\"standoff\": 15}, \"zerolinecolor\": \"white\", \"zerolinewidth\": 2}, \"yaxis\": {\"automargin\": true, \"gridcolor\": \"white\", \"linecolor\": \"white\", \"ticks\": \"\", \"title\": {\"standoff\": 15}, \"zerolinecolor\": \"white\", \"zerolinewidth\": 2}}}, \"title\": {\"text\": \"Life expectancy in Canada\"}, \"xaxis\": {\"anchor\": \"y\", \"domain\": [0.0, 1.0], \"title\": {\"text\": \"year\"}}, \"yaxis\": {\"anchor\": \"x\", \"domain\": [0.0, 1.0], \"title\": {\"text\": \"lifeExp\"}}},\n",
       "                        {\"responsive\": true}\n",
       "                    ).then(function(){\n",
       "                            \n",
       "var gd = document.getElementById('0044b9eb-98da-4dd0-842c-17aaa69120ce');\n",
       "var x = new MutationObserver(function (mutations, observer) {{\n",
       "        var display = window.getComputedStyle(gd).display;\n",
       "        if (!display || display === 'none') {{\n",
       "            console.log([gd, 'removed!']);\n",
       "            Plotly.purge(gd);\n",
       "            observer.disconnect();\n",
       "        }}\n",
       "}});\n",
       "\n",
       "// Listen for the removal of the full notebook cells\n",
       "var notebookContainer = gd.closest('#notebook-container');\n",
       "if (notebookContainer) {{\n",
       "    x.observe(notebookContainer, {childList: true});\n",
       "}}\n",
       "\n",
       "// Listen for the clearing of the current output cell\n",
       "var outputEl = gd.closest('.output');\n",
       "if (outputEl) {{\n",
       "    x.observe(outputEl, {childList: true});\n",
       "}}\n",
       "\n",
       "                        })\n",
       "                };\n",
       "                });\n",
       "            </script>\n",
       "        </div>"
      ]
     },
     "metadata": {},
     "output_type": "display_data"
    }
   ],
   "source": [
    "import plotly.express as px\n",
    "\n",
    "df = px.data.gapminder().query(\"country=='Canada'\")\n",
    "fig = px.line(df, x=\"year\", y=\"lifeExp\", title='Life expectancy in Canada')\n",
    "fig.show()"
   ]
  },
  {
   "cell_type": "code",
   "execution_count": 4,
   "metadata": {},
   "outputs": [
    {
     "data": {
      "text/html": [
       "<div>\n",
       "<style scoped>\n",
       "    .dataframe tbody tr th:only-of-type {\n",
       "        vertical-align: middle;\n",
       "    }\n",
       "\n",
       "    .dataframe tbody tr th {\n",
       "        vertical-align: top;\n",
       "    }\n",
       "\n",
       "    .dataframe thead th {\n",
       "        text-align: right;\n",
       "    }\n",
       "</style>\n",
       "<table border=\"1\" class=\"dataframe\">\n",
       "  <thead>\n",
       "    <tr style=\"text-align: right;\">\n",
       "      <th></th>\n",
       "      <th>country</th>\n",
       "      <th>continent</th>\n",
       "      <th>year</th>\n",
       "      <th>lifeExp</th>\n",
       "      <th>pop</th>\n",
       "      <th>gdpPercap</th>\n",
       "      <th>iso_alpha</th>\n",
       "      <th>iso_num</th>\n",
       "    </tr>\n",
       "  </thead>\n",
       "  <tbody>\n",
       "    <tr>\n",
       "      <th>240</th>\n",
       "      <td>Canada</td>\n",
       "      <td>Americas</td>\n",
       "      <td>1952</td>\n",
       "      <td>68.750</td>\n",
       "      <td>14785584</td>\n",
       "      <td>11367.16112</td>\n",
       "      <td>CAN</td>\n",
       "      <td>124</td>\n",
       "    </tr>\n",
       "    <tr>\n",
       "      <th>241</th>\n",
       "      <td>Canada</td>\n",
       "      <td>Americas</td>\n",
       "      <td>1957</td>\n",
       "      <td>69.960</td>\n",
       "      <td>17010154</td>\n",
       "      <td>12489.95006</td>\n",
       "      <td>CAN</td>\n",
       "      <td>124</td>\n",
       "    </tr>\n",
       "    <tr>\n",
       "      <th>242</th>\n",
       "      <td>Canada</td>\n",
       "      <td>Americas</td>\n",
       "      <td>1962</td>\n",
       "      <td>71.300</td>\n",
       "      <td>18985849</td>\n",
       "      <td>13462.48555</td>\n",
       "      <td>CAN</td>\n",
       "      <td>124</td>\n",
       "    </tr>\n",
       "    <tr>\n",
       "      <th>243</th>\n",
       "      <td>Canada</td>\n",
       "      <td>Americas</td>\n",
       "      <td>1967</td>\n",
       "      <td>72.130</td>\n",
       "      <td>20819767</td>\n",
       "      <td>16076.58803</td>\n",
       "      <td>CAN</td>\n",
       "      <td>124</td>\n",
       "    </tr>\n",
       "    <tr>\n",
       "      <th>244</th>\n",
       "      <td>Canada</td>\n",
       "      <td>Americas</td>\n",
       "      <td>1972</td>\n",
       "      <td>72.880</td>\n",
       "      <td>22284500</td>\n",
       "      <td>18970.57086</td>\n",
       "      <td>CAN</td>\n",
       "      <td>124</td>\n",
       "    </tr>\n",
       "    <tr>\n",
       "      <th>245</th>\n",
       "      <td>Canada</td>\n",
       "      <td>Americas</td>\n",
       "      <td>1977</td>\n",
       "      <td>74.210</td>\n",
       "      <td>23796400</td>\n",
       "      <td>22090.88306</td>\n",
       "      <td>CAN</td>\n",
       "      <td>124</td>\n",
       "    </tr>\n",
       "    <tr>\n",
       "      <th>246</th>\n",
       "      <td>Canada</td>\n",
       "      <td>Americas</td>\n",
       "      <td>1982</td>\n",
       "      <td>75.760</td>\n",
       "      <td>25201900</td>\n",
       "      <td>22898.79214</td>\n",
       "      <td>CAN</td>\n",
       "      <td>124</td>\n",
       "    </tr>\n",
       "    <tr>\n",
       "      <th>247</th>\n",
       "      <td>Canada</td>\n",
       "      <td>Americas</td>\n",
       "      <td>1987</td>\n",
       "      <td>76.860</td>\n",
       "      <td>26549700</td>\n",
       "      <td>26626.51503</td>\n",
       "      <td>CAN</td>\n",
       "      <td>124</td>\n",
       "    </tr>\n",
       "    <tr>\n",
       "      <th>248</th>\n",
       "      <td>Canada</td>\n",
       "      <td>Americas</td>\n",
       "      <td>1992</td>\n",
       "      <td>77.950</td>\n",
       "      <td>28523502</td>\n",
       "      <td>26342.88426</td>\n",
       "      <td>CAN</td>\n",
       "      <td>124</td>\n",
       "    </tr>\n",
       "    <tr>\n",
       "      <th>249</th>\n",
       "      <td>Canada</td>\n",
       "      <td>Americas</td>\n",
       "      <td>1997</td>\n",
       "      <td>78.610</td>\n",
       "      <td>30305843</td>\n",
       "      <td>28954.92589</td>\n",
       "      <td>CAN</td>\n",
       "      <td>124</td>\n",
       "    </tr>\n",
       "    <tr>\n",
       "      <th>250</th>\n",
       "      <td>Canada</td>\n",
       "      <td>Americas</td>\n",
       "      <td>2002</td>\n",
       "      <td>79.770</td>\n",
       "      <td>31902268</td>\n",
       "      <td>33328.96507</td>\n",
       "      <td>CAN</td>\n",
       "      <td>124</td>\n",
       "    </tr>\n",
       "    <tr>\n",
       "      <th>251</th>\n",
       "      <td>Canada</td>\n",
       "      <td>Americas</td>\n",
       "      <td>2007</td>\n",
       "      <td>80.653</td>\n",
       "      <td>33390141</td>\n",
       "      <td>36319.23501</td>\n",
       "      <td>CAN</td>\n",
       "      <td>124</td>\n",
       "    </tr>\n",
       "  </tbody>\n",
       "</table>\n",
       "</div>"
      ],
      "text/plain": [
       "    country continent  year  lifeExp       pop    gdpPercap iso_alpha  iso_num\n",
       "240  Canada  Americas  1952   68.750  14785584  11367.16112       CAN      124\n",
       "241  Canada  Americas  1957   69.960  17010154  12489.95006       CAN      124\n",
       "242  Canada  Americas  1962   71.300  18985849  13462.48555       CAN      124\n",
       "243  Canada  Americas  1967   72.130  20819767  16076.58803       CAN      124\n",
       "244  Canada  Americas  1972   72.880  22284500  18970.57086       CAN      124\n",
       "245  Canada  Americas  1977   74.210  23796400  22090.88306       CAN      124\n",
       "246  Canada  Americas  1982   75.760  25201900  22898.79214       CAN      124\n",
       "247  Canada  Americas  1987   76.860  26549700  26626.51503       CAN      124\n",
       "248  Canada  Americas  1992   77.950  28523502  26342.88426       CAN      124\n",
       "249  Canada  Americas  1997   78.610  30305843  28954.92589       CAN      124\n",
       "250  Canada  Americas  2002   79.770  31902268  33328.96507       CAN      124\n",
       "251  Canada  Americas  2007   80.653  33390141  36319.23501       CAN      124"
      ]
     },
     "execution_count": 4,
     "metadata": {},
     "output_type": "execute_result"
    }
   ],
   "source": [
    "df"
   ]
  },
  {
   "cell_type": "markdown",
   "metadata": {},
   "source": [
    "## Line Plot with column encoding color"
   ]
  },
  {
   "cell_type": "code",
   "execution_count": 8,
   "metadata": {},
   "outputs": [
    {
     "data": {
      "application/vnd.plotly.v1+json": {
       "config": {
        "plotlyServerURL": "https://plot.ly"
       },
       "data": [
        {
         "hovertemplate": "country=Australia<br>year=%{x}<br>lifeExp=%{y}<extra></extra>",
         "legendgroup": "Australia",
         "line": {
          "color": "#636efa",
          "dash": "solid"
         },
         "mode": "lines",
         "name": "Australia",
         "orientation": "v",
         "showlegend": true,
         "type": "scatter",
         "x": [
          1952,
          1957,
          1962,
          1967,
          1972,
          1977,
          1982,
          1987,
          1992,
          1997,
          2002,
          2007
         ],
         "xaxis": "x",
         "y": [
          69.12,
          70.33,
          70.93,
          71.1,
          71.93,
          73.49,
          74.74,
          76.32,
          77.56,
          78.83,
          80.37,
          81.235
         ],
         "yaxis": "y"
        },
        {
         "hovertemplate": "country=New Zealand<br>year=%{x}<br>lifeExp=%{y}<extra></extra>",
         "legendgroup": "New Zealand",
         "line": {
          "color": "#EF553B",
          "dash": "solid"
         },
         "mode": "lines",
         "name": "New Zealand",
         "orientation": "v",
         "showlegend": true,
         "type": "scatter",
         "x": [
          1952,
          1957,
          1962,
          1967,
          1972,
          1977,
          1982,
          1987,
          1992,
          1997,
          2002,
          2007
         ],
         "xaxis": "x",
         "y": [
          69.39,
          70.26,
          71.24,
          71.52,
          71.89,
          72.22,
          73.84,
          74.32,
          76.33,
          77.55,
          79.11,
          80.204
         ],
         "yaxis": "y"
        }
       ],
       "layout": {
        "legend": {
         "title": {
          "text": "country"
         },
         "tracegroupgap": 0
        },
        "margin": {
         "t": 60
        },
        "template": {
         "data": {
          "bar": [
           {
            "error_x": {
             "color": "#2a3f5f"
            },
            "error_y": {
             "color": "#2a3f5f"
            },
            "marker": {
             "line": {
              "color": "#E5ECF6",
              "width": 0.5
             }
            },
            "type": "bar"
           }
          ],
          "barpolar": [
           {
            "marker": {
             "line": {
              "color": "#E5ECF6",
              "width": 0.5
             }
            },
            "type": "barpolar"
           }
          ],
          "carpet": [
           {
            "aaxis": {
             "endlinecolor": "#2a3f5f",
             "gridcolor": "white",
             "linecolor": "white",
             "minorgridcolor": "white",
             "startlinecolor": "#2a3f5f"
            },
            "baxis": {
             "endlinecolor": "#2a3f5f",
             "gridcolor": "white",
             "linecolor": "white",
             "minorgridcolor": "white",
             "startlinecolor": "#2a3f5f"
            },
            "type": "carpet"
           }
          ],
          "choropleth": [
           {
            "colorbar": {
             "outlinewidth": 0,
             "ticks": ""
            },
            "type": "choropleth"
           }
          ],
          "contour": [
           {
            "colorbar": {
             "outlinewidth": 0,
             "ticks": ""
            },
            "colorscale": [
             [
              0,
              "#0d0887"
             ],
             [
              0.1111111111111111,
              "#46039f"
             ],
             [
              0.2222222222222222,
              "#7201a8"
             ],
             [
              0.3333333333333333,
              "#9c179e"
             ],
             [
              0.4444444444444444,
              "#bd3786"
             ],
             [
              0.5555555555555556,
              "#d8576b"
             ],
             [
              0.6666666666666666,
              "#ed7953"
             ],
             [
              0.7777777777777778,
              "#fb9f3a"
             ],
             [
              0.8888888888888888,
              "#fdca26"
             ],
             [
              1,
              "#f0f921"
             ]
            ],
            "type": "contour"
           }
          ],
          "contourcarpet": [
           {
            "colorbar": {
             "outlinewidth": 0,
             "ticks": ""
            },
            "type": "contourcarpet"
           }
          ],
          "heatmap": [
           {
            "colorbar": {
             "outlinewidth": 0,
             "ticks": ""
            },
            "colorscale": [
             [
              0,
              "#0d0887"
             ],
             [
              0.1111111111111111,
              "#46039f"
             ],
             [
              0.2222222222222222,
              "#7201a8"
             ],
             [
              0.3333333333333333,
              "#9c179e"
             ],
             [
              0.4444444444444444,
              "#bd3786"
             ],
             [
              0.5555555555555556,
              "#d8576b"
             ],
             [
              0.6666666666666666,
              "#ed7953"
             ],
             [
              0.7777777777777778,
              "#fb9f3a"
             ],
             [
              0.8888888888888888,
              "#fdca26"
             ],
             [
              1,
              "#f0f921"
             ]
            ],
            "type": "heatmap"
           }
          ],
          "heatmapgl": [
           {
            "colorbar": {
             "outlinewidth": 0,
             "ticks": ""
            },
            "colorscale": [
             [
              0,
              "#0d0887"
             ],
             [
              0.1111111111111111,
              "#46039f"
             ],
             [
              0.2222222222222222,
              "#7201a8"
             ],
             [
              0.3333333333333333,
              "#9c179e"
             ],
             [
              0.4444444444444444,
              "#bd3786"
             ],
             [
              0.5555555555555556,
              "#d8576b"
             ],
             [
              0.6666666666666666,
              "#ed7953"
             ],
             [
              0.7777777777777778,
              "#fb9f3a"
             ],
             [
              0.8888888888888888,
              "#fdca26"
             ],
             [
              1,
              "#f0f921"
             ]
            ],
            "type": "heatmapgl"
           }
          ],
          "histogram": [
           {
            "marker": {
             "colorbar": {
              "outlinewidth": 0,
              "ticks": ""
             }
            },
            "type": "histogram"
           }
          ],
          "histogram2d": [
           {
            "colorbar": {
             "outlinewidth": 0,
             "ticks": ""
            },
            "colorscale": [
             [
              0,
              "#0d0887"
             ],
             [
              0.1111111111111111,
              "#46039f"
             ],
             [
              0.2222222222222222,
              "#7201a8"
             ],
             [
              0.3333333333333333,
              "#9c179e"
             ],
             [
              0.4444444444444444,
              "#bd3786"
             ],
             [
              0.5555555555555556,
              "#d8576b"
             ],
             [
              0.6666666666666666,
              "#ed7953"
             ],
             [
              0.7777777777777778,
              "#fb9f3a"
             ],
             [
              0.8888888888888888,
              "#fdca26"
             ],
             [
              1,
              "#f0f921"
             ]
            ],
            "type": "histogram2d"
           }
          ],
          "histogram2dcontour": [
           {
            "colorbar": {
             "outlinewidth": 0,
             "ticks": ""
            },
            "colorscale": [
             [
              0,
              "#0d0887"
             ],
             [
              0.1111111111111111,
              "#46039f"
             ],
             [
              0.2222222222222222,
              "#7201a8"
             ],
             [
              0.3333333333333333,
              "#9c179e"
             ],
             [
              0.4444444444444444,
              "#bd3786"
             ],
             [
              0.5555555555555556,
              "#d8576b"
             ],
             [
              0.6666666666666666,
              "#ed7953"
             ],
             [
              0.7777777777777778,
              "#fb9f3a"
             ],
             [
              0.8888888888888888,
              "#fdca26"
             ],
             [
              1,
              "#f0f921"
             ]
            ],
            "type": "histogram2dcontour"
           }
          ],
          "mesh3d": [
           {
            "colorbar": {
             "outlinewidth": 0,
             "ticks": ""
            },
            "type": "mesh3d"
           }
          ],
          "parcoords": [
           {
            "line": {
             "colorbar": {
              "outlinewidth": 0,
              "ticks": ""
             }
            },
            "type": "parcoords"
           }
          ],
          "pie": [
           {
            "automargin": true,
            "type": "pie"
           }
          ],
          "scatter": [
           {
            "marker": {
             "colorbar": {
              "outlinewidth": 0,
              "ticks": ""
             }
            },
            "type": "scatter"
           }
          ],
          "scatter3d": [
           {
            "line": {
             "colorbar": {
              "outlinewidth": 0,
              "ticks": ""
             }
            },
            "marker": {
             "colorbar": {
              "outlinewidth": 0,
              "ticks": ""
             }
            },
            "type": "scatter3d"
           }
          ],
          "scattercarpet": [
           {
            "marker": {
             "colorbar": {
              "outlinewidth": 0,
              "ticks": ""
             }
            },
            "type": "scattercarpet"
           }
          ],
          "scattergeo": [
           {
            "marker": {
             "colorbar": {
              "outlinewidth": 0,
              "ticks": ""
             }
            },
            "type": "scattergeo"
           }
          ],
          "scattergl": [
           {
            "marker": {
             "colorbar": {
              "outlinewidth": 0,
              "ticks": ""
             }
            },
            "type": "scattergl"
           }
          ],
          "scattermapbox": [
           {
            "marker": {
             "colorbar": {
              "outlinewidth": 0,
              "ticks": ""
             }
            },
            "type": "scattermapbox"
           }
          ],
          "scatterpolar": [
           {
            "marker": {
             "colorbar": {
              "outlinewidth": 0,
              "ticks": ""
             }
            },
            "type": "scatterpolar"
           }
          ],
          "scatterpolargl": [
           {
            "marker": {
             "colorbar": {
              "outlinewidth": 0,
              "ticks": ""
             }
            },
            "type": "scatterpolargl"
           }
          ],
          "scatterternary": [
           {
            "marker": {
             "colorbar": {
              "outlinewidth": 0,
              "ticks": ""
             }
            },
            "type": "scatterternary"
           }
          ],
          "surface": [
           {
            "colorbar": {
             "outlinewidth": 0,
             "ticks": ""
            },
            "colorscale": [
             [
              0,
              "#0d0887"
             ],
             [
              0.1111111111111111,
              "#46039f"
             ],
             [
              0.2222222222222222,
              "#7201a8"
             ],
             [
              0.3333333333333333,
              "#9c179e"
             ],
             [
              0.4444444444444444,
              "#bd3786"
             ],
             [
              0.5555555555555556,
              "#d8576b"
             ],
             [
              0.6666666666666666,
              "#ed7953"
             ],
             [
              0.7777777777777778,
              "#fb9f3a"
             ],
             [
              0.8888888888888888,
              "#fdca26"
             ],
             [
              1,
              "#f0f921"
             ]
            ],
            "type": "surface"
           }
          ],
          "table": [
           {
            "cells": {
             "fill": {
              "color": "#EBF0F8"
             },
             "line": {
              "color": "white"
             }
            },
            "header": {
             "fill": {
              "color": "#C8D4E3"
             },
             "line": {
              "color": "white"
             }
            },
            "type": "table"
           }
          ]
         },
         "layout": {
          "annotationdefaults": {
           "arrowcolor": "#2a3f5f",
           "arrowhead": 0,
           "arrowwidth": 1
          },
          "coloraxis": {
           "colorbar": {
            "outlinewidth": 0,
            "ticks": ""
           }
          },
          "colorscale": {
           "diverging": [
            [
             0,
             "#8e0152"
            ],
            [
             0.1,
             "#c51b7d"
            ],
            [
             0.2,
             "#de77ae"
            ],
            [
             0.3,
             "#f1b6da"
            ],
            [
             0.4,
             "#fde0ef"
            ],
            [
             0.5,
             "#f7f7f7"
            ],
            [
             0.6,
             "#e6f5d0"
            ],
            [
             0.7,
             "#b8e186"
            ],
            [
             0.8,
             "#7fbc41"
            ],
            [
             0.9,
             "#4d9221"
            ],
            [
             1,
             "#276419"
            ]
           ],
           "sequential": [
            [
             0,
             "#0d0887"
            ],
            [
             0.1111111111111111,
             "#46039f"
            ],
            [
             0.2222222222222222,
             "#7201a8"
            ],
            [
             0.3333333333333333,
             "#9c179e"
            ],
            [
             0.4444444444444444,
             "#bd3786"
            ],
            [
             0.5555555555555556,
             "#d8576b"
            ],
            [
             0.6666666666666666,
             "#ed7953"
            ],
            [
             0.7777777777777778,
             "#fb9f3a"
            ],
            [
             0.8888888888888888,
             "#fdca26"
            ],
            [
             1,
             "#f0f921"
            ]
           ],
           "sequentialminus": [
            [
             0,
             "#0d0887"
            ],
            [
             0.1111111111111111,
             "#46039f"
            ],
            [
             0.2222222222222222,
             "#7201a8"
            ],
            [
             0.3333333333333333,
             "#9c179e"
            ],
            [
             0.4444444444444444,
             "#bd3786"
            ],
            [
             0.5555555555555556,
             "#d8576b"
            ],
            [
             0.6666666666666666,
             "#ed7953"
            ],
            [
             0.7777777777777778,
             "#fb9f3a"
            ],
            [
             0.8888888888888888,
             "#fdca26"
            ],
            [
             1,
             "#f0f921"
            ]
           ]
          },
          "colorway": [
           "#636efa",
           "#EF553B",
           "#00cc96",
           "#ab63fa",
           "#FFA15A",
           "#19d3f3",
           "#FF6692",
           "#B6E880",
           "#FF97FF",
           "#FECB52"
          ],
          "font": {
           "color": "#2a3f5f"
          },
          "geo": {
           "bgcolor": "white",
           "lakecolor": "white",
           "landcolor": "#E5ECF6",
           "showlakes": true,
           "showland": true,
           "subunitcolor": "white"
          },
          "hoverlabel": {
           "align": "left"
          },
          "hovermode": "closest",
          "mapbox": {
           "style": "light"
          },
          "paper_bgcolor": "white",
          "plot_bgcolor": "#E5ECF6",
          "polar": {
           "angularaxis": {
            "gridcolor": "white",
            "linecolor": "white",
            "ticks": ""
           },
           "bgcolor": "#E5ECF6",
           "radialaxis": {
            "gridcolor": "white",
            "linecolor": "white",
            "ticks": ""
           }
          },
          "scene": {
           "xaxis": {
            "backgroundcolor": "#E5ECF6",
            "gridcolor": "white",
            "gridwidth": 2,
            "linecolor": "white",
            "showbackground": true,
            "ticks": "",
            "zerolinecolor": "white"
           },
           "yaxis": {
            "backgroundcolor": "#E5ECF6",
            "gridcolor": "white",
            "gridwidth": 2,
            "linecolor": "white",
            "showbackground": true,
            "ticks": "",
            "zerolinecolor": "white"
           },
           "zaxis": {
            "backgroundcolor": "#E5ECF6",
            "gridcolor": "white",
            "gridwidth": 2,
            "linecolor": "white",
            "showbackground": true,
            "ticks": "",
            "zerolinecolor": "white"
           }
          },
          "shapedefaults": {
           "line": {
            "color": "#2a3f5f"
           }
          },
          "ternary": {
           "aaxis": {
            "gridcolor": "white",
            "linecolor": "white",
            "ticks": ""
           },
           "baxis": {
            "gridcolor": "white",
            "linecolor": "white",
            "ticks": ""
           },
           "bgcolor": "#E5ECF6",
           "caxis": {
            "gridcolor": "white",
            "linecolor": "white",
            "ticks": ""
           }
          },
          "title": {
           "x": 0.05
          },
          "xaxis": {
           "automargin": true,
           "gridcolor": "white",
           "linecolor": "white",
           "ticks": "",
           "title": {
            "standoff": 15
           },
           "zerolinecolor": "white",
           "zerolinewidth": 2
          },
          "yaxis": {
           "automargin": true,
           "gridcolor": "white",
           "linecolor": "white",
           "ticks": "",
           "title": {
            "standoff": 15
           },
           "zerolinecolor": "white",
           "zerolinewidth": 2
          }
         }
        },
        "xaxis": {
         "anchor": "y",
         "domain": [
          0,
          1
         ],
         "title": {
          "text": "year"
         }
        },
        "yaxis": {
         "anchor": "x",
         "domain": [
          0,
          1
         ],
         "title": {
          "text": "lifeExp"
         }
        }
       }
      },
      "text/html": [
       "<div>\n",
       "        \n",
       "        \n",
       "            <div id=\"9e5b5bdb-d821-44e2-bb43-e63ef3c5868d\" class=\"plotly-graph-div\" style=\"height:525px; width:100%;\"></div>\n",
       "            <script type=\"text/javascript\">\n",
       "                require([\"plotly\"], function(Plotly) {\n",
       "                    window.PLOTLYENV=window.PLOTLYENV || {};\n",
       "                    \n",
       "                if (document.getElementById(\"9e5b5bdb-d821-44e2-bb43-e63ef3c5868d\")) {\n",
       "                    Plotly.newPlot(\n",
       "                        '9e5b5bdb-d821-44e2-bb43-e63ef3c5868d',\n",
       "                        [{\"hovertemplate\": \"country=Australia<br>year=%{x}<br>lifeExp=%{y}<extra></extra>\", \"legendgroup\": \"Australia\", \"line\": {\"color\": \"#636efa\", \"dash\": \"solid\"}, \"mode\": \"lines\", \"name\": \"Australia\", \"orientation\": \"v\", \"showlegend\": true, \"type\": \"scatter\", \"x\": [1952, 1957, 1962, 1967, 1972, 1977, 1982, 1987, 1992, 1997, 2002, 2007], \"xaxis\": \"x\", \"y\": [69.12, 70.33, 70.93, 71.1, 71.93, 73.49, 74.74, 76.32, 77.56, 78.83, 80.37, 81.235], \"yaxis\": \"y\"}, {\"hovertemplate\": \"country=New Zealand<br>year=%{x}<br>lifeExp=%{y}<extra></extra>\", \"legendgroup\": \"New Zealand\", \"line\": {\"color\": \"#EF553B\", \"dash\": \"solid\"}, \"mode\": \"lines\", \"name\": \"New Zealand\", \"orientation\": \"v\", \"showlegend\": true, \"type\": \"scatter\", \"x\": [1952, 1957, 1962, 1967, 1972, 1977, 1982, 1987, 1992, 1997, 2002, 2007], \"xaxis\": \"x\", \"y\": [69.39, 70.26, 71.24, 71.52, 71.89, 72.22, 73.84, 74.32, 76.33, 77.55, 79.11, 80.204], \"yaxis\": \"y\"}],\n",
       "                        {\"legend\": {\"title\": {\"text\": \"country\"}, \"tracegroupgap\": 0}, \"margin\": {\"t\": 60}, \"template\": {\"data\": {\"bar\": [{\"error_x\": {\"color\": \"#2a3f5f\"}, \"error_y\": {\"color\": \"#2a3f5f\"}, \"marker\": {\"line\": {\"color\": \"#E5ECF6\", \"width\": 0.5}}, \"type\": \"bar\"}], \"barpolar\": [{\"marker\": {\"line\": {\"color\": \"#E5ECF6\", \"width\": 0.5}}, \"type\": \"barpolar\"}], \"carpet\": [{\"aaxis\": {\"endlinecolor\": \"#2a3f5f\", \"gridcolor\": \"white\", \"linecolor\": \"white\", \"minorgridcolor\": \"white\", \"startlinecolor\": \"#2a3f5f\"}, \"baxis\": {\"endlinecolor\": \"#2a3f5f\", \"gridcolor\": \"white\", \"linecolor\": \"white\", \"minorgridcolor\": \"white\", \"startlinecolor\": \"#2a3f5f\"}, \"type\": \"carpet\"}], \"choropleth\": [{\"colorbar\": {\"outlinewidth\": 0, \"ticks\": \"\"}, \"type\": \"choropleth\"}], \"contour\": [{\"colorbar\": {\"outlinewidth\": 0, \"ticks\": \"\"}, \"colorscale\": [[0.0, \"#0d0887\"], [0.1111111111111111, \"#46039f\"], [0.2222222222222222, \"#7201a8\"], [0.3333333333333333, \"#9c179e\"], [0.4444444444444444, \"#bd3786\"], [0.5555555555555556, \"#d8576b\"], [0.6666666666666666, \"#ed7953\"], [0.7777777777777778, \"#fb9f3a\"], [0.8888888888888888, \"#fdca26\"], [1.0, \"#f0f921\"]], \"type\": \"contour\"}], \"contourcarpet\": [{\"colorbar\": {\"outlinewidth\": 0, \"ticks\": \"\"}, \"type\": \"contourcarpet\"}], \"heatmap\": [{\"colorbar\": {\"outlinewidth\": 0, \"ticks\": \"\"}, \"colorscale\": [[0.0, \"#0d0887\"], [0.1111111111111111, \"#46039f\"], [0.2222222222222222, \"#7201a8\"], [0.3333333333333333, \"#9c179e\"], [0.4444444444444444, \"#bd3786\"], [0.5555555555555556, \"#d8576b\"], [0.6666666666666666, \"#ed7953\"], [0.7777777777777778, \"#fb9f3a\"], [0.8888888888888888, \"#fdca26\"], [1.0, \"#f0f921\"]], \"type\": \"heatmap\"}], \"heatmapgl\": [{\"colorbar\": {\"outlinewidth\": 0, \"ticks\": \"\"}, \"colorscale\": [[0.0, \"#0d0887\"], [0.1111111111111111, \"#46039f\"], [0.2222222222222222, \"#7201a8\"], [0.3333333333333333, \"#9c179e\"], [0.4444444444444444, \"#bd3786\"], [0.5555555555555556, \"#d8576b\"], [0.6666666666666666, \"#ed7953\"], [0.7777777777777778, \"#fb9f3a\"], [0.8888888888888888, \"#fdca26\"], [1.0, \"#f0f921\"]], \"type\": \"heatmapgl\"}], \"histogram\": [{\"marker\": {\"colorbar\": {\"outlinewidth\": 0, \"ticks\": \"\"}}, \"type\": \"histogram\"}], \"histogram2d\": [{\"colorbar\": {\"outlinewidth\": 0, \"ticks\": \"\"}, \"colorscale\": [[0.0, \"#0d0887\"], [0.1111111111111111, \"#46039f\"], [0.2222222222222222, \"#7201a8\"], [0.3333333333333333, \"#9c179e\"], [0.4444444444444444, \"#bd3786\"], [0.5555555555555556, \"#d8576b\"], [0.6666666666666666, \"#ed7953\"], [0.7777777777777778, \"#fb9f3a\"], [0.8888888888888888, \"#fdca26\"], [1.0, \"#f0f921\"]], \"type\": \"histogram2d\"}], \"histogram2dcontour\": [{\"colorbar\": {\"outlinewidth\": 0, \"ticks\": \"\"}, \"colorscale\": [[0.0, \"#0d0887\"], [0.1111111111111111, \"#46039f\"], [0.2222222222222222, \"#7201a8\"], [0.3333333333333333, \"#9c179e\"], [0.4444444444444444, \"#bd3786\"], [0.5555555555555556, \"#d8576b\"], [0.6666666666666666, \"#ed7953\"], [0.7777777777777778, \"#fb9f3a\"], [0.8888888888888888, \"#fdca26\"], [1.0, \"#f0f921\"]], \"type\": \"histogram2dcontour\"}], \"mesh3d\": [{\"colorbar\": {\"outlinewidth\": 0, \"ticks\": \"\"}, \"type\": \"mesh3d\"}], \"parcoords\": [{\"line\": {\"colorbar\": {\"outlinewidth\": 0, \"ticks\": \"\"}}, \"type\": \"parcoords\"}], \"pie\": [{\"automargin\": true, \"type\": \"pie\"}], \"scatter\": [{\"marker\": {\"colorbar\": {\"outlinewidth\": 0, \"ticks\": \"\"}}, \"type\": \"scatter\"}], \"scatter3d\": [{\"line\": {\"colorbar\": {\"outlinewidth\": 0, \"ticks\": \"\"}}, \"marker\": {\"colorbar\": {\"outlinewidth\": 0, \"ticks\": \"\"}}, \"type\": \"scatter3d\"}], \"scattercarpet\": [{\"marker\": {\"colorbar\": {\"outlinewidth\": 0, \"ticks\": \"\"}}, \"type\": \"scattercarpet\"}], \"scattergeo\": [{\"marker\": {\"colorbar\": {\"outlinewidth\": 0, \"ticks\": \"\"}}, \"type\": \"scattergeo\"}], \"scattergl\": [{\"marker\": {\"colorbar\": {\"outlinewidth\": 0, \"ticks\": \"\"}}, \"type\": \"scattergl\"}], \"scattermapbox\": [{\"marker\": {\"colorbar\": {\"outlinewidth\": 0, \"ticks\": \"\"}}, \"type\": \"scattermapbox\"}], \"scatterpolar\": [{\"marker\": {\"colorbar\": {\"outlinewidth\": 0, \"ticks\": \"\"}}, \"type\": \"scatterpolar\"}], \"scatterpolargl\": [{\"marker\": {\"colorbar\": {\"outlinewidth\": 0, \"ticks\": \"\"}}, \"type\": \"scatterpolargl\"}], \"scatterternary\": [{\"marker\": {\"colorbar\": {\"outlinewidth\": 0, \"ticks\": \"\"}}, \"type\": \"scatterternary\"}], \"surface\": [{\"colorbar\": {\"outlinewidth\": 0, \"ticks\": \"\"}, \"colorscale\": [[0.0, \"#0d0887\"], [0.1111111111111111, \"#46039f\"], [0.2222222222222222, \"#7201a8\"], [0.3333333333333333, \"#9c179e\"], [0.4444444444444444, \"#bd3786\"], [0.5555555555555556, \"#d8576b\"], [0.6666666666666666, \"#ed7953\"], [0.7777777777777778, \"#fb9f3a\"], [0.8888888888888888, \"#fdca26\"], [1.0, \"#f0f921\"]], \"type\": \"surface\"}], \"table\": [{\"cells\": {\"fill\": {\"color\": \"#EBF0F8\"}, \"line\": {\"color\": \"white\"}}, \"header\": {\"fill\": {\"color\": \"#C8D4E3\"}, \"line\": {\"color\": \"white\"}}, \"type\": \"table\"}]}, \"layout\": {\"annotationdefaults\": {\"arrowcolor\": \"#2a3f5f\", \"arrowhead\": 0, \"arrowwidth\": 1}, \"coloraxis\": {\"colorbar\": {\"outlinewidth\": 0, \"ticks\": \"\"}}, \"colorscale\": {\"diverging\": [[0, \"#8e0152\"], [0.1, \"#c51b7d\"], [0.2, \"#de77ae\"], [0.3, \"#f1b6da\"], [0.4, \"#fde0ef\"], [0.5, \"#f7f7f7\"], [0.6, \"#e6f5d0\"], [0.7, \"#b8e186\"], [0.8, \"#7fbc41\"], [0.9, \"#4d9221\"], [1, \"#276419\"]], \"sequential\": [[0.0, \"#0d0887\"], [0.1111111111111111, \"#46039f\"], [0.2222222222222222, \"#7201a8\"], [0.3333333333333333, \"#9c179e\"], [0.4444444444444444, \"#bd3786\"], [0.5555555555555556, \"#d8576b\"], [0.6666666666666666, \"#ed7953\"], [0.7777777777777778, \"#fb9f3a\"], [0.8888888888888888, \"#fdca26\"], [1.0, \"#f0f921\"]], \"sequentialminus\": [[0.0, \"#0d0887\"], [0.1111111111111111, \"#46039f\"], [0.2222222222222222, \"#7201a8\"], [0.3333333333333333, \"#9c179e\"], [0.4444444444444444, \"#bd3786\"], [0.5555555555555556, \"#d8576b\"], [0.6666666666666666, \"#ed7953\"], [0.7777777777777778, \"#fb9f3a\"], [0.8888888888888888, \"#fdca26\"], [1.0, \"#f0f921\"]]}, \"colorway\": [\"#636efa\", \"#EF553B\", \"#00cc96\", \"#ab63fa\", \"#FFA15A\", \"#19d3f3\", \"#FF6692\", \"#B6E880\", \"#FF97FF\", \"#FECB52\"], \"font\": {\"color\": \"#2a3f5f\"}, \"geo\": {\"bgcolor\": \"white\", \"lakecolor\": \"white\", \"landcolor\": \"#E5ECF6\", \"showlakes\": true, \"showland\": true, \"subunitcolor\": \"white\"}, \"hoverlabel\": {\"align\": \"left\"}, \"hovermode\": \"closest\", \"mapbox\": {\"style\": \"light\"}, \"paper_bgcolor\": \"white\", \"plot_bgcolor\": \"#E5ECF6\", \"polar\": {\"angularaxis\": {\"gridcolor\": \"white\", \"linecolor\": \"white\", \"ticks\": \"\"}, \"bgcolor\": \"#E5ECF6\", \"radialaxis\": {\"gridcolor\": \"white\", \"linecolor\": \"white\", \"ticks\": \"\"}}, \"scene\": {\"xaxis\": {\"backgroundcolor\": \"#E5ECF6\", \"gridcolor\": \"white\", \"gridwidth\": 2, \"linecolor\": \"white\", \"showbackground\": true, \"ticks\": \"\", \"zerolinecolor\": \"white\"}, \"yaxis\": {\"backgroundcolor\": \"#E5ECF6\", \"gridcolor\": \"white\", \"gridwidth\": 2, \"linecolor\": \"white\", \"showbackground\": true, \"ticks\": \"\", \"zerolinecolor\": \"white\"}, \"zaxis\": {\"backgroundcolor\": \"#E5ECF6\", \"gridcolor\": \"white\", \"gridwidth\": 2, \"linecolor\": \"white\", \"showbackground\": true, \"ticks\": \"\", \"zerolinecolor\": \"white\"}}, \"shapedefaults\": {\"line\": {\"color\": \"#2a3f5f\"}}, \"ternary\": {\"aaxis\": {\"gridcolor\": \"white\", \"linecolor\": \"white\", \"ticks\": \"\"}, \"baxis\": {\"gridcolor\": \"white\", \"linecolor\": \"white\", \"ticks\": \"\"}, \"bgcolor\": \"#E5ECF6\", \"caxis\": {\"gridcolor\": \"white\", \"linecolor\": \"white\", \"ticks\": \"\"}}, \"title\": {\"x\": 0.05}, \"xaxis\": {\"automargin\": true, \"gridcolor\": \"white\", \"linecolor\": \"white\", \"ticks\": \"\", \"title\": {\"standoff\": 15}, \"zerolinecolor\": \"white\", \"zerolinewidth\": 2}, \"yaxis\": {\"automargin\": true, \"gridcolor\": \"white\", \"linecolor\": \"white\", \"ticks\": \"\", \"title\": {\"standoff\": 15}, \"zerolinecolor\": \"white\", \"zerolinewidth\": 2}}}, \"xaxis\": {\"anchor\": \"y\", \"domain\": [0.0, 1.0], \"title\": {\"text\": \"year\"}}, \"yaxis\": {\"anchor\": \"x\", \"domain\": [0.0, 1.0], \"title\": {\"text\": \"lifeExp\"}}},\n",
       "                        {\"responsive\": true}\n",
       "                    ).then(function(){\n",
       "                            \n",
       "var gd = document.getElementById('9e5b5bdb-d821-44e2-bb43-e63ef3c5868d');\n",
       "var x = new MutationObserver(function (mutations, observer) {{\n",
       "        var display = window.getComputedStyle(gd).display;\n",
       "        if (!display || display === 'none') {{\n",
       "            console.log([gd, 'removed!']);\n",
       "            Plotly.purge(gd);\n",
       "            observer.disconnect();\n",
       "        }}\n",
       "}});\n",
       "\n",
       "// Listen for the removal of the full notebook cells\n",
       "var notebookContainer = gd.closest('#notebook-container');\n",
       "if (notebookContainer) {{\n",
       "    x.observe(notebookContainer, {childList: true});\n",
       "}}\n",
       "\n",
       "// Listen for the clearing of the current output cell\n",
       "var outputEl = gd.closest('.output');\n",
       "if (outputEl) {{\n",
       "    x.observe(outputEl, {childList: true});\n",
       "}}\n",
       "\n",
       "                        })\n",
       "                };\n",
       "                });\n",
       "            </script>\n",
       "        </div>"
      ]
     },
     "metadata": {},
     "output_type": "display_data"
    }
   ],
   "source": [
    "import plotly.express as px\n",
    "\n",
    "df = px.data.gapminder().query(\"continent=='Oceania'\")\n",
    "fig = px.line(df, x=\"year\", y=\"lifeExp\", color='country')\n",
    "fig.show()"
   ]
  },
  {
   "cell_type": "code",
   "execution_count": 9,
   "metadata": {},
   "outputs": [
    {
     "data": {
      "application/vnd.plotly.v1+json": {
       "config": {
        "plotlyServerURL": "https://plot.ly"
       },
       "data": [
        {
         "hovertemplate": "<b>%{hovertext}</b><br><br>continent=Europe<br>country=Albania<br>year=%{x}<br>lifeExp=%{y}<extra></extra>",
         "hovertext": [
          "Albania",
          "Albania",
          "Albania",
          "Albania",
          "Albania",
          "Albania",
          "Albania",
          "Albania",
          "Albania",
          "Albania",
          "Albania",
          "Albania"
         ],
         "legendgroup": "Europe",
         "line": {
          "color": "#636efa",
          "dash": "solid"
         },
         "mode": "lines",
         "name": "Europe",
         "showlegend": true,
         "type": "scattergl",
         "x": [
          1952,
          1957,
          1962,
          1967,
          1972,
          1977,
          1982,
          1987,
          1992,
          1997,
          2002,
          2007
         ],
         "xaxis": "x",
         "y": [
          55.23,
          59.28,
          64.82,
          66.22,
          67.69,
          68.93,
          70.42,
          72,
          71.581,
          72.95,
          75.65100000000001,
          76.423
         ],
         "yaxis": "y"
        },
        {
         "hovertemplate": "<b>%{hovertext}</b><br><br>continent=Europe<br>country=Austria<br>year=%{x}<br>lifeExp=%{y}<extra></extra>",
         "hovertext": [
          "Austria",
          "Austria",
          "Austria",
          "Austria",
          "Austria",
          "Austria",
          "Austria",
          "Austria",
          "Austria",
          "Austria",
          "Austria",
          "Austria"
         ],
         "legendgroup": "Europe",
         "line": {
          "color": "#636efa",
          "dash": "solid"
         },
         "mode": "lines",
         "name": "Europe",
         "showlegend": false,
         "type": "scattergl",
         "x": [
          1952,
          1957,
          1962,
          1967,
          1972,
          1977,
          1982,
          1987,
          1992,
          1997,
          2002,
          2007
         ],
         "xaxis": "x",
         "y": [
          66.8,
          67.48,
          69.54,
          70.14,
          70.63,
          72.17,
          73.18,
          74.94,
          76.04,
          77.51,
          78.98,
          79.829
         ],
         "yaxis": "y"
        },
        {
         "hovertemplate": "<b>%{hovertext}</b><br><br>continent=Europe<br>country=Belgium<br>year=%{x}<br>lifeExp=%{y}<extra></extra>",
         "hovertext": [
          "Belgium",
          "Belgium",
          "Belgium",
          "Belgium",
          "Belgium",
          "Belgium",
          "Belgium",
          "Belgium",
          "Belgium",
          "Belgium",
          "Belgium",
          "Belgium"
         ],
         "legendgroup": "Europe",
         "line": {
          "color": "#636efa",
          "dash": "solid"
         },
         "mode": "lines",
         "name": "Europe",
         "showlegend": false,
         "type": "scattergl",
         "x": [
          1952,
          1957,
          1962,
          1967,
          1972,
          1977,
          1982,
          1987,
          1992,
          1997,
          2002,
          2007
         ],
         "xaxis": "x",
         "y": [
          68,
          69.24,
          70.25,
          70.94,
          71.44,
          72.8,
          73.93,
          75.35,
          76.46,
          77.53,
          78.32,
          79.441
         ],
         "yaxis": "y"
        },
        {
         "hovertemplate": "<b>%{hovertext}</b><br><br>continent=Europe<br>country=Bosnia and Herzegovina<br>year=%{x}<br>lifeExp=%{y}<extra></extra>",
         "hovertext": [
          "Bosnia and Herzegovina",
          "Bosnia and Herzegovina",
          "Bosnia and Herzegovina",
          "Bosnia and Herzegovina",
          "Bosnia and Herzegovina",
          "Bosnia and Herzegovina",
          "Bosnia and Herzegovina",
          "Bosnia and Herzegovina",
          "Bosnia and Herzegovina",
          "Bosnia and Herzegovina",
          "Bosnia and Herzegovina",
          "Bosnia and Herzegovina"
         ],
         "legendgroup": "Europe",
         "line": {
          "color": "#636efa",
          "dash": "solid"
         },
         "mode": "lines",
         "name": "Europe",
         "showlegend": false,
         "type": "scattergl",
         "x": [
          1952,
          1957,
          1962,
          1967,
          1972,
          1977,
          1982,
          1987,
          1992,
          1997,
          2002,
          2007
         ],
         "xaxis": "x",
         "y": [
          53.82,
          58.45,
          61.93,
          64.79,
          67.45,
          69.86,
          70.69,
          71.14,
          72.178,
          73.244,
          74.09,
          74.852
         ],
         "yaxis": "y"
        },
        {
         "hovertemplate": "<b>%{hovertext}</b><br><br>continent=Europe<br>country=Bulgaria<br>year=%{x}<br>lifeExp=%{y}<extra></extra>",
         "hovertext": [
          "Bulgaria",
          "Bulgaria",
          "Bulgaria",
          "Bulgaria",
          "Bulgaria",
          "Bulgaria",
          "Bulgaria",
          "Bulgaria",
          "Bulgaria",
          "Bulgaria",
          "Bulgaria",
          "Bulgaria"
         ],
         "legendgroup": "Europe",
         "line": {
          "color": "#636efa",
          "dash": "solid"
         },
         "mode": "lines",
         "name": "Europe",
         "showlegend": false,
         "type": "scattergl",
         "x": [
          1952,
          1957,
          1962,
          1967,
          1972,
          1977,
          1982,
          1987,
          1992,
          1997,
          2002,
          2007
         ],
         "xaxis": "x",
         "y": [
          59.6,
          66.61,
          69.51,
          70.42,
          70.9,
          70.81,
          71.08,
          71.34,
          71.19,
          70.32,
          72.14,
          73.005
         ],
         "yaxis": "y"
        },
        {
         "hovertemplate": "<b>%{hovertext}</b><br><br>continent=Europe<br>country=Croatia<br>year=%{x}<br>lifeExp=%{y}<extra></extra>",
         "hovertext": [
          "Croatia",
          "Croatia",
          "Croatia",
          "Croatia",
          "Croatia",
          "Croatia",
          "Croatia",
          "Croatia",
          "Croatia",
          "Croatia",
          "Croatia",
          "Croatia"
         ],
         "legendgroup": "Europe",
         "line": {
          "color": "#636efa",
          "dash": "solid"
         },
         "mode": "lines",
         "name": "Europe",
         "showlegend": false,
         "type": "scattergl",
         "x": [
          1952,
          1957,
          1962,
          1967,
          1972,
          1977,
          1982,
          1987,
          1992,
          1997,
          2002,
          2007
         ],
         "xaxis": "x",
         "y": [
          61.21,
          64.77,
          67.13,
          68.5,
          69.61,
          70.64,
          70.46,
          71.52,
          72.527,
          73.68,
          74.876,
          75.748
         ],
         "yaxis": "y"
        },
        {
         "hovertemplate": "<b>%{hovertext}</b><br><br>continent=Europe<br>country=Czech Republic<br>year=%{x}<br>lifeExp=%{y}<extra></extra>",
         "hovertext": [
          "Czech Republic",
          "Czech Republic",
          "Czech Republic",
          "Czech Republic",
          "Czech Republic",
          "Czech Republic",
          "Czech Republic",
          "Czech Republic",
          "Czech Republic",
          "Czech Republic",
          "Czech Republic",
          "Czech Republic"
         ],
         "legendgroup": "Europe",
         "line": {
          "color": "#636efa",
          "dash": "solid"
         },
         "mode": "lines",
         "name": "Europe",
         "showlegend": false,
         "type": "scattergl",
         "x": [
          1952,
          1957,
          1962,
          1967,
          1972,
          1977,
          1982,
          1987,
          1992,
          1997,
          2002,
          2007
         ],
         "xaxis": "x",
         "y": [
          66.87,
          69.03,
          69.9,
          70.38,
          70.29,
          70.71,
          70.96,
          71.58,
          72.4,
          74.01,
          75.51,
          76.486
         ],
         "yaxis": "y"
        },
        {
         "hovertemplate": "<b>%{hovertext}</b><br><br>continent=Europe<br>country=Denmark<br>year=%{x}<br>lifeExp=%{y}<extra></extra>",
         "hovertext": [
          "Denmark",
          "Denmark",
          "Denmark",
          "Denmark",
          "Denmark",
          "Denmark",
          "Denmark",
          "Denmark",
          "Denmark",
          "Denmark",
          "Denmark",
          "Denmark"
         ],
         "legendgroup": "Europe",
         "line": {
          "color": "#636efa",
          "dash": "solid"
         },
         "mode": "lines",
         "name": "Europe",
         "showlegend": false,
         "type": "scattergl",
         "x": [
          1952,
          1957,
          1962,
          1967,
          1972,
          1977,
          1982,
          1987,
          1992,
          1997,
          2002,
          2007
         ],
         "xaxis": "x",
         "y": [
          70.78,
          71.81,
          72.35,
          72.96,
          73.47,
          74.69,
          74.63,
          74.8,
          75.33,
          76.11,
          77.18,
          78.332
         ],
         "yaxis": "y"
        },
        {
         "hovertemplate": "<b>%{hovertext}</b><br><br>continent=Europe<br>country=Finland<br>year=%{x}<br>lifeExp=%{y}<extra></extra>",
         "hovertext": [
          "Finland",
          "Finland",
          "Finland",
          "Finland",
          "Finland",
          "Finland",
          "Finland",
          "Finland",
          "Finland",
          "Finland",
          "Finland",
          "Finland"
         ],
         "legendgroup": "Europe",
         "line": {
          "color": "#636efa",
          "dash": "solid"
         },
         "mode": "lines",
         "name": "Europe",
         "showlegend": false,
         "type": "scattergl",
         "x": [
          1952,
          1957,
          1962,
          1967,
          1972,
          1977,
          1982,
          1987,
          1992,
          1997,
          2002,
          2007
         ],
         "xaxis": "x",
         "y": [
          66.55,
          67.49,
          68.75,
          69.83,
          70.87,
          72.52,
          74.55,
          74.83,
          75.7,
          77.13,
          78.37,
          79.313
         ],
         "yaxis": "y"
        },
        {
         "hovertemplate": "<b>%{hovertext}</b><br><br>continent=Europe<br>country=France<br>year=%{x}<br>lifeExp=%{y}<extra></extra>",
         "hovertext": [
          "France",
          "France",
          "France",
          "France",
          "France",
          "France",
          "France",
          "France",
          "France",
          "France",
          "France",
          "France"
         ],
         "legendgroup": "Europe",
         "line": {
          "color": "#636efa",
          "dash": "solid"
         },
         "mode": "lines",
         "name": "Europe",
         "showlegend": false,
         "type": "scattergl",
         "x": [
          1952,
          1957,
          1962,
          1967,
          1972,
          1977,
          1982,
          1987,
          1992,
          1997,
          2002,
          2007
         ],
         "xaxis": "x",
         "y": [
          67.41,
          68.93,
          70.51,
          71.55,
          72.38,
          73.83,
          74.89,
          76.34,
          77.46,
          78.64,
          79.59,
          80.657
         ],
         "yaxis": "y"
        },
        {
         "hovertemplate": "<b>%{hovertext}</b><br><br>continent=Europe<br>country=Germany<br>year=%{x}<br>lifeExp=%{y}<extra></extra>",
         "hovertext": [
          "Germany",
          "Germany",
          "Germany",
          "Germany",
          "Germany",
          "Germany",
          "Germany",
          "Germany",
          "Germany",
          "Germany",
          "Germany",
          "Germany"
         ],
         "legendgroup": "Europe",
         "line": {
          "color": "#636efa",
          "dash": "solid"
         },
         "mode": "lines",
         "name": "Europe",
         "showlegend": false,
         "type": "scattergl",
         "x": [
          1952,
          1957,
          1962,
          1967,
          1972,
          1977,
          1982,
          1987,
          1992,
          1997,
          2002,
          2007
         ],
         "xaxis": "x",
         "y": [
          67.5,
          69.1,
          70.3,
          70.8,
          71,
          72.5,
          73.8,
          74.847,
          76.07,
          77.34,
          78.67,
          79.406
         ],
         "yaxis": "y"
        },
        {
         "hovertemplate": "<b>%{hovertext}</b><br><br>continent=Europe<br>country=Greece<br>year=%{x}<br>lifeExp=%{y}<extra></extra>",
         "hovertext": [
          "Greece",
          "Greece",
          "Greece",
          "Greece",
          "Greece",
          "Greece",
          "Greece",
          "Greece",
          "Greece",
          "Greece",
          "Greece",
          "Greece"
         ],
         "legendgroup": "Europe",
         "line": {
          "color": "#636efa",
          "dash": "solid"
         },
         "mode": "lines",
         "name": "Europe",
         "showlegend": false,
         "type": "scattergl",
         "x": [
          1952,
          1957,
          1962,
          1967,
          1972,
          1977,
          1982,
          1987,
          1992,
          1997,
          2002,
          2007
         ],
         "xaxis": "x",
         "y": [
          65.86,
          67.86,
          69.51,
          71,
          72.34,
          73.68,
          75.24,
          76.67,
          77.03,
          77.869,
          78.256,
          79.483
         ],
         "yaxis": "y"
        },
        {
         "hovertemplate": "<b>%{hovertext}</b><br><br>continent=Europe<br>country=Hungary<br>year=%{x}<br>lifeExp=%{y}<extra></extra>",
         "hovertext": [
          "Hungary",
          "Hungary",
          "Hungary",
          "Hungary",
          "Hungary",
          "Hungary",
          "Hungary",
          "Hungary",
          "Hungary",
          "Hungary",
          "Hungary",
          "Hungary"
         ],
         "legendgroup": "Europe",
         "line": {
          "color": "#636efa",
          "dash": "solid"
         },
         "mode": "lines",
         "name": "Europe",
         "showlegend": false,
         "type": "scattergl",
         "x": [
          1952,
          1957,
          1962,
          1967,
          1972,
          1977,
          1982,
          1987,
          1992,
          1997,
          2002,
          2007
         ],
         "xaxis": "x",
         "y": [
          64.03,
          66.41,
          67.96,
          69.5,
          69.76,
          69.95,
          69.39,
          69.58,
          69.17,
          71.04,
          72.59,
          73.33800000000001
         ],
         "yaxis": "y"
        },
        {
         "hovertemplate": "<b>%{hovertext}</b><br><br>continent=Europe<br>country=Iceland<br>year=%{x}<br>lifeExp=%{y}<extra></extra>",
         "hovertext": [
          "Iceland",
          "Iceland",
          "Iceland",
          "Iceland",
          "Iceland",
          "Iceland",
          "Iceland",
          "Iceland",
          "Iceland",
          "Iceland",
          "Iceland",
          "Iceland"
         ],
         "legendgroup": "Europe",
         "line": {
          "color": "#636efa",
          "dash": "solid"
         },
         "mode": "lines",
         "name": "Europe",
         "showlegend": false,
         "type": "scattergl",
         "x": [
          1952,
          1957,
          1962,
          1967,
          1972,
          1977,
          1982,
          1987,
          1992,
          1997,
          2002,
          2007
         ],
         "xaxis": "x",
         "y": [
          72.49,
          73.47,
          73.68,
          73.73,
          74.46,
          76.11,
          76.99,
          77.23,
          78.77,
          78.95,
          80.5,
          81.757
         ],
         "yaxis": "y"
        },
        {
         "hovertemplate": "<b>%{hovertext}</b><br><br>continent=Europe<br>country=Ireland<br>year=%{x}<br>lifeExp=%{y}<extra></extra>",
         "hovertext": [
          "Ireland",
          "Ireland",
          "Ireland",
          "Ireland",
          "Ireland",
          "Ireland",
          "Ireland",
          "Ireland",
          "Ireland",
          "Ireland",
          "Ireland",
          "Ireland"
         ],
         "legendgroup": "Europe",
         "line": {
          "color": "#636efa",
          "dash": "solid"
         },
         "mode": "lines",
         "name": "Europe",
         "showlegend": false,
         "type": "scattergl",
         "x": [
          1952,
          1957,
          1962,
          1967,
          1972,
          1977,
          1982,
          1987,
          1992,
          1997,
          2002,
          2007
         ],
         "xaxis": "x",
         "y": [
          66.91,
          68.9,
          70.29,
          71.08,
          71.28,
          72.03,
          73.1,
          74.36,
          75.467,
          76.122,
          77.783,
          78.885
         ],
         "yaxis": "y"
        },
        {
         "hovertemplate": "<b>%{hovertext}</b><br><br>continent=Europe<br>country=Italy<br>year=%{x}<br>lifeExp=%{y}<extra></extra>",
         "hovertext": [
          "Italy",
          "Italy",
          "Italy",
          "Italy",
          "Italy",
          "Italy",
          "Italy",
          "Italy",
          "Italy",
          "Italy",
          "Italy",
          "Italy"
         ],
         "legendgroup": "Europe",
         "line": {
          "color": "#636efa",
          "dash": "solid"
         },
         "mode": "lines",
         "name": "Europe",
         "showlegend": false,
         "type": "scattergl",
         "x": [
          1952,
          1957,
          1962,
          1967,
          1972,
          1977,
          1982,
          1987,
          1992,
          1997,
          2002,
          2007
         ],
         "xaxis": "x",
         "y": [
          65.94,
          67.81,
          69.24,
          71.06,
          72.19,
          73.48,
          74.98,
          76.42,
          77.44,
          78.82,
          80.24,
          80.546
         ],
         "yaxis": "y"
        },
        {
         "hovertemplate": "<b>%{hovertext}</b><br><br>continent=Europe<br>country=Montenegro<br>year=%{x}<br>lifeExp=%{y}<extra></extra>",
         "hovertext": [
          "Montenegro",
          "Montenegro",
          "Montenegro",
          "Montenegro",
          "Montenegro",
          "Montenegro",
          "Montenegro",
          "Montenegro",
          "Montenegro",
          "Montenegro",
          "Montenegro",
          "Montenegro"
         ],
         "legendgroup": "Europe",
         "line": {
          "color": "#636efa",
          "dash": "solid"
         },
         "mode": "lines",
         "name": "Europe",
         "showlegend": false,
         "type": "scattergl",
         "x": [
          1952,
          1957,
          1962,
          1967,
          1972,
          1977,
          1982,
          1987,
          1992,
          1997,
          2002,
          2007
         ],
         "xaxis": "x",
         "y": [
          59.163999999999994,
          61.448,
          63.728,
          67.178,
          70.63600000000001,
          73.066,
          74.101,
          74.865,
          75.435,
          75.445,
          73.98100000000001,
          74.543
         ],
         "yaxis": "y"
        },
        {
         "hovertemplate": "<b>%{hovertext}</b><br><br>continent=Europe<br>country=Netherlands<br>year=%{x}<br>lifeExp=%{y}<extra></extra>",
         "hovertext": [
          "Netherlands",
          "Netherlands",
          "Netherlands",
          "Netherlands",
          "Netherlands",
          "Netherlands",
          "Netherlands",
          "Netherlands",
          "Netherlands",
          "Netherlands",
          "Netherlands",
          "Netherlands"
         ],
         "legendgroup": "Europe",
         "line": {
          "color": "#636efa",
          "dash": "solid"
         },
         "mode": "lines",
         "name": "Europe",
         "showlegend": false,
         "type": "scattergl",
         "x": [
          1952,
          1957,
          1962,
          1967,
          1972,
          1977,
          1982,
          1987,
          1992,
          1997,
          2002,
          2007
         ],
         "xaxis": "x",
         "y": [
          72.13,
          72.99,
          73.23,
          73.82,
          73.75,
          75.24,
          76.05,
          76.83,
          77.42,
          78.03,
          78.53,
          79.762
         ],
         "yaxis": "y"
        },
        {
         "hovertemplate": "<b>%{hovertext}</b><br><br>continent=Europe<br>country=Norway<br>year=%{x}<br>lifeExp=%{y}<extra></extra>",
         "hovertext": [
          "Norway",
          "Norway",
          "Norway",
          "Norway",
          "Norway",
          "Norway",
          "Norway",
          "Norway",
          "Norway",
          "Norway",
          "Norway",
          "Norway"
         ],
         "legendgroup": "Europe",
         "line": {
          "color": "#636efa",
          "dash": "solid"
         },
         "mode": "lines",
         "name": "Europe",
         "showlegend": false,
         "type": "scattergl",
         "x": [
          1952,
          1957,
          1962,
          1967,
          1972,
          1977,
          1982,
          1987,
          1992,
          1997,
          2002,
          2007
         ],
         "xaxis": "x",
         "y": [
          72.67,
          73.44,
          73.47,
          74.08,
          74.34,
          75.37,
          75.97,
          75.89,
          77.32,
          78.32,
          79.05,
          80.196
         ],
         "yaxis": "y"
        },
        {
         "hovertemplate": "<b>%{hovertext}</b><br><br>continent=Europe<br>country=Poland<br>year=%{x}<br>lifeExp=%{y}<extra></extra>",
         "hovertext": [
          "Poland",
          "Poland",
          "Poland",
          "Poland",
          "Poland",
          "Poland",
          "Poland",
          "Poland",
          "Poland",
          "Poland",
          "Poland",
          "Poland"
         ],
         "legendgroup": "Europe",
         "line": {
          "color": "#636efa",
          "dash": "solid"
         },
         "mode": "lines",
         "name": "Europe",
         "showlegend": false,
         "type": "scattergl",
         "x": [
          1952,
          1957,
          1962,
          1967,
          1972,
          1977,
          1982,
          1987,
          1992,
          1997,
          2002,
          2007
         ],
         "xaxis": "x",
         "y": [
          61.31,
          65.77,
          67.64,
          69.61,
          70.85,
          70.67,
          71.32,
          70.98,
          70.99,
          72.75,
          74.67,
          75.563
         ],
         "yaxis": "y"
        },
        {
         "hovertemplate": "<b>%{hovertext}</b><br><br>continent=Europe<br>country=Portugal<br>year=%{x}<br>lifeExp=%{y}<extra></extra>",
         "hovertext": [
          "Portugal",
          "Portugal",
          "Portugal",
          "Portugal",
          "Portugal",
          "Portugal",
          "Portugal",
          "Portugal",
          "Portugal",
          "Portugal",
          "Portugal",
          "Portugal"
         ],
         "legendgroup": "Europe",
         "line": {
          "color": "#636efa",
          "dash": "solid"
         },
         "mode": "lines",
         "name": "Europe",
         "showlegend": false,
         "type": "scattergl",
         "x": [
          1952,
          1957,
          1962,
          1967,
          1972,
          1977,
          1982,
          1987,
          1992,
          1997,
          2002,
          2007
         ],
         "xaxis": "x",
         "y": [
          59.82,
          61.51,
          64.39,
          66.6,
          69.26,
          70.41,
          72.77,
          74.06,
          74.86,
          75.97,
          77.29,
          78.098
         ],
         "yaxis": "y"
        },
        {
         "hovertemplate": "<b>%{hovertext}</b><br><br>continent=Europe<br>country=Romania<br>year=%{x}<br>lifeExp=%{y}<extra></extra>",
         "hovertext": [
          "Romania",
          "Romania",
          "Romania",
          "Romania",
          "Romania",
          "Romania",
          "Romania",
          "Romania",
          "Romania",
          "Romania",
          "Romania",
          "Romania"
         ],
         "legendgroup": "Europe",
         "line": {
          "color": "#636efa",
          "dash": "solid"
         },
         "mode": "lines",
         "name": "Europe",
         "showlegend": false,
         "type": "scattergl",
         "x": [
          1952,
          1957,
          1962,
          1967,
          1972,
          1977,
          1982,
          1987,
          1992,
          1997,
          2002,
          2007
         ],
         "xaxis": "x",
         "y": [
          61.05,
          64.1,
          66.8,
          66.8,
          69.21,
          69.46,
          69.66,
          69.53,
          69.36,
          69.72,
          71.322,
          72.476
         ],
         "yaxis": "y"
        },
        {
         "hovertemplate": "<b>%{hovertext}</b><br><br>continent=Europe<br>country=Serbia<br>year=%{x}<br>lifeExp=%{y}<extra></extra>",
         "hovertext": [
          "Serbia",
          "Serbia",
          "Serbia",
          "Serbia",
          "Serbia",
          "Serbia",
          "Serbia",
          "Serbia",
          "Serbia",
          "Serbia",
          "Serbia",
          "Serbia"
         ],
         "legendgroup": "Europe",
         "line": {
          "color": "#636efa",
          "dash": "solid"
         },
         "mode": "lines",
         "name": "Europe",
         "showlegend": false,
         "type": "scattergl",
         "x": [
          1952,
          1957,
          1962,
          1967,
          1972,
          1977,
          1982,
          1987,
          1992,
          1997,
          2002,
          2007
         ],
         "xaxis": "x",
         "y": [
          57.996,
          61.685,
          64.531,
          66.914,
          68.7,
          70.3,
          70.16199999999999,
          71.218,
          71.65899999999999,
          72.232,
          73.21300000000001,
          74.002
         ],
         "yaxis": "y"
        },
        {
         "hovertemplate": "<b>%{hovertext}</b><br><br>continent=Europe<br>country=Slovak Republic<br>year=%{x}<br>lifeExp=%{y}<extra></extra>",
         "hovertext": [
          "Slovak Republic",
          "Slovak Republic",
          "Slovak Republic",
          "Slovak Republic",
          "Slovak Republic",
          "Slovak Republic",
          "Slovak Republic",
          "Slovak Republic",
          "Slovak Republic",
          "Slovak Republic",
          "Slovak Republic",
          "Slovak Republic"
         ],
         "legendgroup": "Europe",
         "line": {
          "color": "#636efa",
          "dash": "solid"
         },
         "mode": "lines",
         "name": "Europe",
         "showlegend": false,
         "type": "scattergl",
         "x": [
          1952,
          1957,
          1962,
          1967,
          1972,
          1977,
          1982,
          1987,
          1992,
          1997,
          2002,
          2007
         ],
         "xaxis": "x",
         "y": [
          64.36,
          67.45,
          70.33,
          70.98,
          70.35,
          70.45,
          70.8,
          71.08,
          71.38,
          72.71,
          73.8,
          74.663
         ],
         "yaxis": "y"
        },
        {
         "hovertemplate": "<b>%{hovertext}</b><br><br>continent=Europe<br>country=Slovenia<br>year=%{x}<br>lifeExp=%{y}<extra></extra>",
         "hovertext": [
          "Slovenia",
          "Slovenia",
          "Slovenia",
          "Slovenia",
          "Slovenia",
          "Slovenia",
          "Slovenia",
          "Slovenia",
          "Slovenia",
          "Slovenia",
          "Slovenia",
          "Slovenia"
         ],
         "legendgroup": "Europe",
         "line": {
          "color": "#636efa",
          "dash": "solid"
         },
         "mode": "lines",
         "name": "Europe",
         "showlegend": false,
         "type": "scattergl",
         "x": [
          1952,
          1957,
          1962,
          1967,
          1972,
          1977,
          1982,
          1987,
          1992,
          1997,
          2002,
          2007
         ],
         "xaxis": "x",
         "y": [
          65.57,
          67.85,
          69.15,
          69.18,
          69.82,
          70.97,
          71.063,
          72.25,
          73.64,
          75.13,
          76.66,
          77.926
         ],
         "yaxis": "y"
        },
        {
         "hovertemplate": "<b>%{hovertext}</b><br><br>continent=Europe<br>country=Spain<br>year=%{x}<br>lifeExp=%{y}<extra></extra>",
         "hovertext": [
          "Spain",
          "Spain",
          "Spain",
          "Spain",
          "Spain",
          "Spain",
          "Spain",
          "Spain",
          "Spain",
          "Spain",
          "Spain",
          "Spain"
         ],
         "legendgroup": "Europe",
         "line": {
          "color": "#636efa",
          "dash": "solid"
         },
         "mode": "lines",
         "name": "Europe",
         "showlegend": false,
         "type": "scattergl",
         "x": [
          1952,
          1957,
          1962,
          1967,
          1972,
          1977,
          1982,
          1987,
          1992,
          1997,
          2002,
          2007
         ],
         "xaxis": "x",
         "y": [
          64.94,
          66.66,
          69.69,
          71.44,
          73.06,
          74.39,
          76.3,
          76.9,
          77.57,
          78.77,
          79.78,
          80.941
         ],
         "yaxis": "y"
        },
        {
         "hovertemplate": "<b>%{hovertext}</b><br><br>continent=Europe<br>country=Sweden<br>year=%{x}<br>lifeExp=%{y}<extra></extra>",
         "hovertext": [
          "Sweden",
          "Sweden",
          "Sweden",
          "Sweden",
          "Sweden",
          "Sweden",
          "Sweden",
          "Sweden",
          "Sweden",
          "Sweden",
          "Sweden",
          "Sweden"
         ],
         "legendgroup": "Europe",
         "line": {
          "color": "#636efa",
          "dash": "solid"
         },
         "mode": "lines",
         "name": "Europe",
         "showlegend": false,
         "type": "scattergl",
         "x": [
          1952,
          1957,
          1962,
          1967,
          1972,
          1977,
          1982,
          1987,
          1992,
          1997,
          2002,
          2007
         ],
         "xaxis": "x",
         "y": [
          71.86,
          72.49,
          73.37,
          74.16,
          74.72,
          75.44,
          76.42,
          77.19,
          78.16,
          79.39,
          80.04,
          80.884
         ],
         "yaxis": "y"
        },
        {
         "hovertemplate": "<b>%{hovertext}</b><br><br>continent=Europe<br>country=Switzerland<br>year=%{x}<br>lifeExp=%{y}<extra></extra>",
         "hovertext": [
          "Switzerland",
          "Switzerland",
          "Switzerland",
          "Switzerland",
          "Switzerland",
          "Switzerland",
          "Switzerland",
          "Switzerland",
          "Switzerland",
          "Switzerland",
          "Switzerland",
          "Switzerland"
         ],
         "legendgroup": "Europe",
         "line": {
          "color": "#636efa",
          "dash": "solid"
         },
         "mode": "lines",
         "name": "Europe",
         "showlegend": false,
         "type": "scattergl",
         "x": [
          1952,
          1957,
          1962,
          1967,
          1972,
          1977,
          1982,
          1987,
          1992,
          1997,
          2002,
          2007
         ],
         "xaxis": "x",
         "y": [
          69.62,
          70.56,
          71.32,
          72.77,
          73.78,
          75.39,
          76.21,
          77.41,
          78.03,
          79.37,
          80.62,
          81.70100000000001
         ],
         "yaxis": "y"
        },
        {
         "hovertemplate": "<b>%{hovertext}</b><br><br>continent=Europe<br>country=Turkey<br>year=%{x}<br>lifeExp=%{y}<extra></extra>",
         "hovertext": [
          "Turkey",
          "Turkey",
          "Turkey",
          "Turkey",
          "Turkey",
          "Turkey",
          "Turkey",
          "Turkey",
          "Turkey",
          "Turkey",
          "Turkey",
          "Turkey"
         ],
         "legendgroup": "Europe",
         "line": {
          "color": "#636efa",
          "dash": "solid"
         },
         "mode": "lines",
         "name": "Europe",
         "showlegend": false,
         "type": "scattergl",
         "x": [
          1952,
          1957,
          1962,
          1967,
          1972,
          1977,
          1982,
          1987,
          1992,
          1997,
          2002,
          2007
         ],
         "xaxis": "x",
         "y": [
          43.585,
          48.07899999999999,
          52.098,
          54.336000000000006,
          57.005,
          59.507,
          61.036,
          63.108000000000004,
          66.146,
          68.835,
          70.845,
          71.777
         ],
         "yaxis": "y"
        },
        {
         "hovertemplate": "<b>%{hovertext}</b><br><br>continent=Europe<br>country=United Kingdom<br>year=%{x}<br>lifeExp=%{y}<extra></extra>",
         "hovertext": [
          "United Kingdom",
          "United Kingdom",
          "United Kingdom",
          "United Kingdom",
          "United Kingdom",
          "United Kingdom",
          "United Kingdom",
          "United Kingdom",
          "United Kingdom",
          "United Kingdom",
          "United Kingdom",
          "United Kingdom"
         ],
         "legendgroup": "Europe",
         "line": {
          "color": "#636efa",
          "dash": "solid"
         },
         "mode": "lines",
         "name": "Europe",
         "showlegend": false,
         "type": "scattergl",
         "x": [
          1952,
          1957,
          1962,
          1967,
          1972,
          1977,
          1982,
          1987,
          1992,
          1997,
          2002,
          2007
         ],
         "xaxis": "x",
         "y": [
          69.18,
          70.42,
          70.76,
          71.36,
          72.01,
          72.76,
          74.04,
          75.007,
          76.42,
          77.218,
          78.471,
          79.425
         ],
         "yaxis": "y"
        },
        {
         "hovertemplate": "<b>%{hovertext}</b><br><br>continent=Africa<br>country=Algeria<br>year=%{x}<br>lifeExp=%{y}<extra></extra>",
         "hovertext": [
          "Algeria",
          "Algeria",
          "Algeria",
          "Algeria",
          "Algeria",
          "Algeria",
          "Algeria",
          "Algeria",
          "Algeria",
          "Algeria",
          "Algeria",
          "Algeria"
         ],
         "legendgroup": "Africa",
         "line": {
          "color": "#EF553B",
          "dash": "solid"
         },
         "mode": "lines",
         "name": "Africa",
         "showlegend": true,
         "type": "scattergl",
         "x": [
          1952,
          1957,
          1962,
          1967,
          1972,
          1977,
          1982,
          1987,
          1992,
          1997,
          2002,
          2007
         ],
         "xaxis": "x",
         "y": [
          43.077,
          45.685,
          48.303000000000004,
          51.407,
          54.518,
          58.013999999999996,
          61.368,
          65.79899999999999,
          67.744,
          69.152,
          70.994,
          72.301
         ],
         "yaxis": "y"
        },
        {
         "hovertemplate": "<b>%{hovertext}</b><br><br>continent=Africa<br>country=Angola<br>year=%{x}<br>lifeExp=%{y}<extra></extra>",
         "hovertext": [
          "Angola",
          "Angola",
          "Angola",
          "Angola",
          "Angola",
          "Angola",
          "Angola",
          "Angola",
          "Angola",
          "Angola",
          "Angola",
          "Angola"
         ],
         "legendgroup": "Africa",
         "line": {
          "color": "#EF553B",
          "dash": "solid"
         },
         "mode": "lines",
         "name": "Africa",
         "showlegend": false,
         "type": "scattergl",
         "x": [
          1952,
          1957,
          1962,
          1967,
          1972,
          1977,
          1982,
          1987,
          1992,
          1997,
          2002,
          2007
         ],
         "xaxis": "x",
         "y": [
          30.015,
          31.999000000000002,
          34,
          35.985,
          37.928000000000004,
          39.483000000000004,
          39.942,
          39.906,
          40.647,
          40.963,
          41.003,
          42.731
         ],
         "yaxis": "y"
        },
        {
         "hovertemplate": "<b>%{hovertext}</b><br><br>continent=Africa<br>country=Benin<br>year=%{x}<br>lifeExp=%{y}<extra></extra>",
         "hovertext": [
          "Benin",
          "Benin",
          "Benin",
          "Benin",
          "Benin",
          "Benin",
          "Benin",
          "Benin",
          "Benin",
          "Benin",
          "Benin",
          "Benin"
         ],
         "legendgroup": "Africa",
         "line": {
          "color": "#EF553B",
          "dash": "solid"
         },
         "mode": "lines",
         "name": "Africa",
         "showlegend": false,
         "type": "scattergl",
         "x": [
          1952,
          1957,
          1962,
          1967,
          1972,
          1977,
          1982,
          1987,
          1992,
          1997,
          2002,
          2007
         ],
         "xaxis": "x",
         "y": [
          38.223,
          40.358000000000004,
          42.618,
          44.885,
          47.013999999999996,
          49.19,
          50.903999999999996,
          52.336999999999996,
          53.919,
          54.777,
          54.406000000000006,
          56.728
         ],
         "yaxis": "y"
        },
        {
         "hovertemplate": "<b>%{hovertext}</b><br><br>continent=Africa<br>country=Botswana<br>year=%{x}<br>lifeExp=%{y}<extra></extra>",
         "hovertext": [
          "Botswana",
          "Botswana",
          "Botswana",
          "Botswana",
          "Botswana",
          "Botswana",
          "Botswana",
          "Botswana",
          "Botswana",
          "Botswana",
          "Botswana",
          "Botswana"
         ],
         "legendgroup": "Africa",
         "line": {
          "color": "#EF553B",
          "dash": "solid"
         },
         "mode": "lines",
         "name": "Africa",
         "showlegend": false,
         "type": "scattergl",
         "x": [
          1952,
          1957,
          1962,
          1967,
          1972,
          1977,
          1982,
          1987,
          1992,
          1997,
          2002,
          2007
         ],
         "xaxis": "x",
         "y": [
          47.622,
          49.618,
          51.52,
          53.298,
          56.023999999999994,
          59.318999999999996,
          61.483999999999995,
          63.622,
          62.745,
          52.556000000000004,
          46.63399999999999,
          50.728
         ],
         "yaxis": "y"
        },
        {
         "hovertemplate": "<b>%{hovertext}</b><br><br>continent=Africa<br>country=Burkina Faso<br>year=%{x}<br>lifeExp=%{y}<extra></extra>",
         "hovertext": [
          "Burkina Faso",
          "Burkina Faso",
          "Burkina Faso",
          "Burkina Faso",
          "Burkina Faso",
          "Burkina Faso",
          "Burkina Faso",
          "Burkina Faso",
          "Burkina Faso",
          "Burkina Faso",
          "Burkina Faso",
          "Burkina Faso"
         ],
         "legendgroup": "Africa",
         "line": {
          "color": "#EF553B",
          "dash": "solid"
         },
         "mode": "lines",
         "name": "Africa",
         "showlegend": false,
         "type": "scattergl",
         "x": [
          1952,
          1957,
          1962,
          1967,
          1972,
          1977,
          1982,
          1987,
          1992,
          1997,
          2002,
          2007
         ],
         "xaxis": "x",
         "y": [
          31.975,
          34.906,
          37.814,
          40.696999999999996,
          43.591,
          46.137,
          48.122,
          49.556999999999995,
          50.26,
          50.324,
          50.65,
          52.295
         ],
         "yaxis": "y"
        },
        {
         "hovertemplate": "<b>%{hovertext}</b><br><br>continent=Africa<br>country=Burundi<br>year=%{x}<br>lifeExp=%{y}<extra></extra>",
         "hovertext": [
          "Burundi",
          "Burundi",
          "Burundi",
          "Burundi",
          "Burundi",
          "Burundi",
          "Burundi",
          "Burundi",
          "Burundi",
          "Burundi",
          "Burundi",
          "Burundi"
         ],
         "legendgroup": "Africa",
         "line": {
          "color": "#EF553B",
          "dash": "solid"
         },
         "mode": "lines",
         "name": "Africa",
         "showlegend": false,
         "type": "scattergl",
         "x": [
          1952,
          1957,
          1962,
          1967,
          1972,
          1977,
          1982,
          1987,
          1992,
          1997,
          2002,
          2007
         ],
         "xaxis": "x",
         "y": [
          39.031,
          40.533,
          42.045,
          43.548,
          44.056999999999995,
          45.91,
          47.471000000000004,
          48.211000000000006,
          44.736000000000004,
          45.326,
          47.36,
          49.58
         ],
         "yaxis": "y"
        },
        {
         "hovertemplate": "<b>%{hovertext}</b><br><br>continent=Africa<br>country=Cameroon<br>year=%{x}<br>lifeExp=%{y}<extra></extra>",
         "hovertext": [
          "Cameroon",
          "Cameroon",
          "Cameroon",
          "Cameroon",
          "Cameroon",
          "Cameroon",
          "Cameroon",
          "Cameroon",
          "Cameroon",
          "Cameroon",
          "Cameroon",
          "Cameroon"
         ],
         "legendgroup": "Africa",
         "line": {
          "color": "#EF553B",
          "dash": "solid"
         },
         "mode": "lines",
         "name": "Africa",
         "showlegend": false,
         "type": "scattergl",
         "x": [
          1952,
          1957,
          1962,
          1967,
          1972,
          1977,
          1982,
          1987,
          1992,
          1997,
          2002,
          2007
         ],
         "xaxis": "x",
         "y": [
          38.523,
          40.428000000000004,
          42.643,
          44.799,
          47.049,
          49.355,
          52.961000000000006,
          54.985,
          54.31399999999999,
          52.199,
          49.856,
          50.43
         ],
         "yaxis": "y"
        },
        {
         "hovertemplate": "<b>%{hovertext}</b><br><br>continent=Africa<br>country=Central African Republic<br>year=%{x}<br>lifeExp=%{y}<extra></extra>",
         "hovertext": [
          "Central African Republic",
          "Central African Republic",
          "Central African Republic",
          "Central African Republic",
          "Central African Republic",
          "Central African Republic",
          "Central African Republic",
          "Central African Republic",
          "Central African Republic",
          "Central African Republic",
          "Central African Republic",
          "Central African Republic"
         ],
         "legendgroup": "Africa",
         "line": {
          "color": "#EF553B",
          "dash": "solid"
         },
         "mode": "lines",
         "name": "Africa",
         "showlegend": false,
         "type": "scattergl",
         "x": [
          1952,
          1957,
          1962,
          1967,
          1972,
          1977,
          1982,
          1987,
          1992,
          1997,
          2002,
          2007
         ],
         "xaxis": "x",
         "y": [
          35.463,
          37.464,
          39.475,
          41.478,
          43.457,
          46.775,
          48.295,
          50.485,
          49.396,
          46.066,
          43.308,
          44.74100000000001
         ],
         "yaxis": "y"
        },
        {
         "hovertemplate": "<b>%{hovertext}</b><br><br>continent=Africa<br>country=Chad<br>year=%{x}<br>lifeExp=%{y}<extra></extra>",
         "hovertext": [
          "Chad",
          "Chad",
          "Chad",
          "Chad",
          "Chad",
          "Chad",
          "Chad",
          "Chad",
          "Chad",
          "Chad",
          "Chad",
          "Chad"
         ],
         "legendgroup": "Africa",
         "line": {
          "color": "#EF553B",
          "dash": "solid"
         },
         "mode": "lines",
         "name": "Africa",
         "showlegend": false,
         "type": "scattergl",
         "x": [
          1952,
          1957,
          1962,
          1967,
          1972,
          1977,
          1982,
          1987,
          1992,
          1997,
          2002,
          2007
         ],
         "xaxis": "x",
         "y": [
          38.092,
          39.881,
          41.716,
          43.601000000000006,
          45.568999999999996,
          47.383,
          49.516999999999996,
          51.051,
          51.724,
          51.573,
          50.525,
          50.651
         ],
         "yaxis": "y"
        },
        {
         "hovertemplate": "<b>%{hovertext}</b><br><br>continent=Africa<br>country=Comoros<br>year=%{x}<br>lifeExp=%{y}<extra></extra>",
         "hovertext": [
          "Comoros",
          "Comoros",
          "Comoros",
          "Comoros",
          "Comoros",
          "Comoros",
          "Comoros",
          "Comoros",
          "Comoros",
          "Comoros",
          "Comoros",
          "Comoros"
         ],
         "legendgroup": "Africa",
         "line": {
          "color": "#EF553B",
          "dash": "solid"
         },
         "mode": "lines",
         "name": "Africa",
         "showlegend": false,
         "type": "scattergl",
         "x": [
          1952,
          1957,
          1962,
          1967,
          1972,
          1977,
          1982,
          1987,
          1992,
          1997,
          2002,
          2007
         ],
         "xaxis": "x",
         "y": [
          40.715,
          42.46,
          44.467,
          46.472,
          48.943999999999996,
          50.93899999999999,
          52.933,
          54.926,
          57.93899999999999,
          60.66,
          62.974,
          65.152
         ],
         "yaxis": "y"
        },
        {
         "hovertemplate": "<b>%{hovertext}</b><br><br>continent=Africa<br>country=Congo, Dem. Rep.<br>year=%{x}<br>lifeExp=%{y}<extra></extra>",
         "hovertext": [
          "Congo, Dem. Rep.",
          "Congo, Dem. Rep.",
          "Congo, Dem. Rep.",
          "Congo, Dem. Rep.",
          "Congo, Dem. Rep.",
          "Congo, Dem. Rep.",
          "Congo, Dem. Rep.",
          "Congo, Dem. Rep.",
          "Congo, Dem. Rep.",
          "Congo, Dem. Rep.",
          "Congo, Dem. Rep.",
          "Congo, Dem. Rep."
         ],
         "legendgroup": "Africa",
         "line": {
          "color": "#EF553B",
          "dash": "solid"
         },
         "mode": "lines",
         "name": "Africa",
         "showlegend": false,
         "type": "scattergl",
         "x": [
          1952,
          1957,
          1962,
          1967,
          1972,
          1977,
          1982,
          1987,
          1992,
          1997,
          2002,
          2007
         ],
         "xaxis": "x",
         "y": [
          39.143,
          40.652,
          42.122,
          44.056000000000004,
          45.989,
          47.803999999999995,
          47.784,
          47.412,
          45.548,
          42.586999999999996,
          44.966,
          46.461999999999996
         ],
         "yaxis": "y"
        },
        {
         "hovertemplate": "<b>%{hovertext}</b><br><br>continent=Africa<br>country=Congo, Rep.<br>year=%{x}<br>lifeExp=%{y}<extra></extra>",
         "hovertext": [
          "Congo, Rep.",
          "Congo, Rep.",
          "Congo, Rep.",
          "Congo, Rep.",
          "Congo, Rep.",
          "Congo, Rep.",
          "Congo, Rep.",
          "Congo, Rep.",
          "Congo, Rep.",
          "Congo, Rep.",
          "Congo, Rep.",
          "Congo, Rep."
         ],
         "legendgroup": "Africa",
         "line": {
          "color": "#EF553B",
          "dash": "solid"
         },
         "mode": "lines",
         "name": "Africa",
         "showlegend": false,
         "type": "scattergl",
         "x": [
          1952,
          1957,
          1962,
          1967,
          1972,
          1977,
          1982,
          1987,
          1992,
          1997,
          2002,
          2007
         ],
         "xaxis": "x",
         "y": [
          42.111000000000004,
          45.053000000000004,
          48.435,
          52.04,
          54.907,
          55.625,
          56.695,
          57.47,
          56.433,
          52.961999999999996,
          52.97,
          55.321999999999996
         ],
         "yaxis": "y"
        },
        {
         "hovertemplate": "<b>%{hovertext}</b><br><br>continent=Africa<br>country=Cote d'Ivoire<br>year=%{x}<br>lifeExp=%{y}<extra></extra>",
         "hovertext": [
          "Cote d'Ivoire",
          "Cote d'Ivoire",
          "Cote d'Ivoire",
          "Cote d'Ivoire",
          "Cote d'Ivoire",
          "Cote d'Ivoire",
          "Cote d'Ivoire",
          "Cote d'Ivoire",
          "Cote d'Ivoire",
          "Cote d'Ivoire",
          "Cote d'Ivoire",
          "Cote d'Ivoire"
         ],
         "legendgroup": "Africa",
         "line": {
          "color": "#EF553B",
          "dash": "solid"
         },
         "mode": "lines",
         "name": "Africa",
         "showlegend": false,
         "type": "scattergl",
         "x": [
          1952,
          1957,
          1962,
          1967,
          1972,
          1977,
          1982,
          1987,
          1992,
          1997,
          2002,
          2007
         ],
         "xaxis": "x",
         "y": [
          40.477,
          42.468999999999994,
          44.93,
          47.35,
          49.801,
          52.373999999999995,
          53.983000000000004,
          54.655,
          52.044,
          47.99100000000001,
          46.832,
          48.328
         ],
         "yaxis": "y"
        },
        {
         "hovertemplate": "<b>%{hovertext}</b><br><br>continent=Africa<br>country=Djibouti<br>year=%{x}<br>lifeExp=%{y}<extra></extra>",
         "hovertext": [
          "Djibouti",
          "Djibouti",
          "Djibouti",
          "Djibouti",
          "Djibouti",
          "Djibouti",
          "Djibouti",
          "Djibouti",
          "Djibouti",
          "Djibouti",
          "Djibouti",
          "Djibouti"
         ],
         "legendgroup": "Africa",
         "line": {
          "color": "#EF553B",
          "dash": "solid"
         },
         "mode": "lines",
         "name": "Africa",
         "showlegend": false,
         "type": "scattergl",
         "x": [
          1952,
          1957,
          1962,
          1967,
          1972,
          1977,
          1982,
          1987,
          1992,
          1997,
          2002,
          2007
         ],
         "xaxis": "x",
         "y": [
          34.812,
          37.328,
          39.693000000000005,
          42.074,
          44.36600000000001,
          46.519,
          48.812,
          50.04,
          51.604,
          53.157,
          53.373000000000005,
          54.791000000000004
         ],
         "yaxis": "y"
        },
        {
         "hovertemplate": "<b>%{hovertext}</b><br><br>continent=Africa<br>country=Egypt<br>year=%{x}<br>lifeExp=%{y}<extra></extra>",
         "hovertext": [
          "Egypt",
          "Egypt",
          "Egypt",
          "Egypt",
          "Egypt",
          "Egypt",
          "Egypt",
          "Egypt",
          "Egypt",
          "Egypt",
          "Egypt",
          "Egypt"
         ],
         "legendgroup": "Africa",
         "line": {
          "color": "#EF553B",
          "dash": "solid"
         },
         "mode": "lines",
         "name": "Africa",
         "showlegend": false,
         "type": "scattergl",
         "x": [
          1952,
          1957,
          1962,
          1967,
          1972,
          1977,
          1982,
          1987,
          1992,
          1997,
          2002,
          2007
         ],
         "xaxis": "x",
         "y": [
          41.893,
          44.443999999999996,
          46.992,
          49.293,
          51.137,
          53.318999999999996,
          56.006,
          59.797,
          63.674,
          67.217,
          69.806,
          71.33800000000001
         ],
         "yaxis": "y"
        },
        {
         "hovertemplate": "<b>%{hovertext}</b><br><br>continent=Africa<br>country=Equatorial Guinea<br>year=%{x}<br>lifeExp=%{y}<extra></extra>",
         "hovertext": [
          "Equatorial Guinea",
          "Equatorial Guinea",
          "Equatorial Guinea",
          "Equatorial Guinea",
          "Equatorial Guinea",
          "Equatorial Guinea",
          "Equatorial Guinea",
          "Equatorial Guinea",
          "Equatorial Guinea",
          "Equatorial Guinea",
          "Equatorial Guinea",
          "Equatorial Guinea"
         ],
         "legendgroup": "Africa",
         "line": {
          "color": "#EF553B",
          "dash": "solid"
         },
         "mode": "lines",
         "name": "Africa",
         "showlegend": false,
         "type": "scattergl",
         "x": [
          1952,
          1957,
          1962,
          1967,
          1972,
          1977,
          1982,
          1987,
          1992,
          1997,
          2002,
          2007
         ],
         "xaxis": "x",
         "y": [
          34.482,
          35.983000000000004,
          37.485,
          38.986999999999995,
          40.516,
          42.023999999999994,
          43.662,
          45.663999999999994,
          47.545,
          48.245,
          49.348,
          51.57899999999999
         ],
         "yaxis": "y"
        },
        {
         "hovertemplate": "<b>%{hovertext}</b><br><br>continent=Africa<br>country=Eritrea<br>year=%{x}<br>lifeExp=%{y}<extra></extra>",
         "hovertext": [
          "Eritrea",
          "Eritrea",
          "Eritrea",
          "Eritrea",
          "Eritrea",
          "Eritrea",
          "Eritrea",
          "Eritrea",
          "Eritrea",
          "Eritrea",
          "Eritrea",
          "Eritrea"
         ],
         "legendgroup": "Africa",
         "line": {
          "color": "#EF553B",
          "dash": "solid"
         },
         "mode": "lines",
         "name": "Africa",
         "showlegend": false,
         "type": "scattergl",
         "x": [
          1952,
          1957,
          1962,
          1967,
          1972,
          1977,
          1982,
          1987,
          1992,
          1997,
          2002,
          2007
         ],
         "xaxis": "x",
         "y": [
          35.928000000000004,
          38.047,
          40.158,
          42.18899999999999,
          44.141999999999996,
          44.535,
          43.89,
          46.453,
          49.99100000000001,
          53.378,
          55.24,
          58.04
         ],
         "yaxis": "y"
        },
        {
         "hovertemplate": "<b>%{hovertext}</b><br><br>continent=Africa<br>country=Ethiopia<br>year=%{x}<br>lifeExp=%{y}<extra></extra>",
         "hovertext": [
          "Ethiopia",
          "Ethiopia",
          "Ethiopia",
          "Ethiopia",
          "Ethiopia",
          "Ethiopia",
          "Ethiopia",
          "Ethiopia",
          "Ethiopia",
          "Ethiopia",
          "Ethiopia",
          "Ethiopia"
         ],
         "legendgroup": "Africa",
         "line": {
          "color": "#EF553B",
          "dash": "solid"
         },
         "mode": "lines",
         "name": "Africa",
         "showlegend": false,
         "type": "scattergl",
         "x": [
          1952,
          1957,
          1962,
          1967,
          1972,
          1977,
          1982,
          1987,
          1992,
          1997,
          2002,
          2007
         ],
         "xaxis": "x",
         "y": [
          34.078,
          36.667,
          40.059,
          42.115,
          43.515,
          44.51,
          44.916000000000004,
          46.684,
          48.091,
          49.402,
          50.725,
          52.946999999999996
         ],
         "yaxis": "y"
        },
        {
         "hovertemplate": "<b>%{hovertext}</b><br><br>continent=Africa<br>country=Gabon<br>year=%{x}<br>lifeExp=%{y}<extra></extra>",
         "hovertext": [
          "Gabon",
          "Gabon",
          "Gabon",
          "Gabon",
          "Gabon",
          "Gabon",
          "Gabon",
          "Gabon",
          "Gabon",
          "Gabon",
          "Gabon",
          "Gabon"
         ],
         "legendgroup": "Africa",
         "line": {
          "color": "#EF553B",
          "dash": "solid"
         },
         "mode": "lines",
         "name": "Africa",
         "showlegend": false,
         "type": "scattergl",
         "x": [
          1952,
          1957,
          1962,
          1967,
          1972,
          1977,
          1982,
          1987,
          1992,
          1997,
          2002,
          2007
         ],
         "xaxis": "x",
         "y": [
          37.003,
          38.999,
          40.489000000000004,
          44.598,
          48.69,
          52.79,
          56.56399999999999,
          60.19,
          61.36600000000001,
          60.461000000000006,
          56.761,
          56.735
         ],
         "yaxis": "y"
        },
        {
         "hovertemplate": "<b>%{hovertext}</b><br><br>continent=Africa<br>country=Gambia<br>year=%{x}<br>lifeExp=%{y}<extra></extra>",
         "hovertext": [
          "Gambia",
          "Gambia",
          "Gambia",
          "Gambia",
          "Gambia",
          "Gambia",
          "Gambia",
          "Gambia",
          "Gambia",
          "Gambia",
          "Gambia",
          "Gambia"
         ],
         "legendgroup": "Africa",
         "line": {
          "color": "#EF553B",
          "dash": "solid"
         },
         "mode": "lines",
         "name": "Africa",
         "showlegend": false,
         "type": "scattergl",
         "x": [
          1952,
          1957,
          1962,
          1967,
          1972,
          1977,
          1982,
          1987,
          1992,
          1997,
          2002,
          2007
         ],
         "xaxis": "x",
         "y": [
          30,
          32.065,
          33.896,
          35.857,
          38.308,
          41.842,
          45.58,
          49.265,
          52.644,
          55.861000000000004,
          58.041000000000004,
          59.448
         ],
         "yaxis": "y"
        },
        {
         "hovertemplate": "<b>%{hovertext}</b><br><br>continent=Africa<br>country=Ghana<br>year=%{x}<br>lifeExp=%{y}<extra></extra>",
         "hovertext": [
          "Ghana",
          "Ghana",
          "Ghana",
          "Ghana",
          "Ghana",
          "Ghana",
          "Ghana",
          "Ghana",
          "Ghana",
          "Ghana",
          "Ghana",
          "Ghana"
         ],
         "legendgroup": "Africa",
         "line": {
          "color": "#EF553B",
          "dash": "solid"
         },
         "mode": "lines",
         "name": "Africa",
         "showlegend": false,
         "type": "scattergl",
         "x": [
          1952,
          1957,
          1962,
          1967,
          1972,
          1977,
          1982,
          1987,
          1992,
          1997,
          2002,
          2007
         ],
         "xaxis": "x",
         "y": [
          43.148999999999994,
          44.778999999999996,
          46.452,
          48.071999999999996,
          49.875,
          51.756,
          53.744,
          55.729,
          57.501000000000005,
          58.556000000000004,
          58.453,
          60.022
         ],
         "yaxis": "y"
        },
        {
         "hovertemplate": "<b>%{hovertext}</b><br><br>continent=Africa<br>country=Guinea<br>year=%{x}<br>lifeExp=%{y}<extra></extra>",
         "hovertext": [
          "Guinea",
          "Guinea",
          "Guinea",
          "Guinea",
          "Guinea",
          "Guinea",
          "Guinea",
          "Guinea",
          "Guinea",
          "Guinea",
          "Guinea",
          "Guinea"
         ],
         "legendgroup": "Africa",
         "line": {
          "color": "#EF553B",
          "dash": "solid"
         },
         "mode": "lines",
         "name": "Africa",
         "showlegend": false,
         "type": "scattergl",
         "x": [
          1952,
          1957,
          1962,
          1967,
          1972,
          1977,
          1982,
          1987,
          1992,
          1997,
          2002,
          2007
         ],
         "xaxis": "x",
         "y": [
          33.609,
          34.558,
          35.753,
          37.196999999999996,
          38.842,
          40.762,
          42.891000000000005,
          45.552,
          48.576,
          51.455,
          53.676,
          56.007
         ],
         "yaxis": "y"
        },
        {
         "hovertemplate": "<b>%{hovertext}</b><br><br>continent=Africa<br>country=Guinea-Bissau<br>year=%{x}<br>lifeExp=%{y}<extra></extra>",
         "hovertext": [
          "Guinea-Bissau",
          "Guinea-Bissau",
          "Guinea-Bissau",
          "Guinea-Bissau",
          "Guinea-Bissau",
          "Guinea-Bissau",
          "Guinea-Bissau",
          "Guinea-Bissau",
          "Guinea-Bissau",
          "Guinea-Bissau",
          "Guinea-Bissau",
          "Guinea-Bissau"
         ],
         "legendgroup": "Africa",
         "line": {
          "color": "#EF553B",
          "dash": "solid"
         },
         "mode": "lines",
         "name": "Africa",
         "showlegend": false,
         "type": "scattergl",
         "x": [
          1952,
          1957,
          1962,
          1967,
          1972,
          1977,
          1982,
          1987,
          1992,
          1997,
          2002,
          2007
         ],
         "xaxis": "x",
         "y": [
          32.5,
          33.489000000000004,
          34.488,
          35.492,
          36.486,
          37.465,
          39.327,
          41.245,
          43.266000000000005,
          44.873000000000005,
          45.504,
          46.388000000000005
         ],
         "yaxis": "y"
        },
        {
         "hovertemplate": "<b>%{hovertext}</b><br><br>continent=Africa<br>country=Kenya<br>year=%{x}<br>lifeExp=%{y}<extra></extra>",
         "hovertext": [
          "Kenya",
          "Kenya",
          "Kenya",
          "Kenya",
          "Kenya",
          "Kenya",
          "Kenya",
          "Kenya",
          "Kenya",
          "Kenya",
          "Kenya",
          "Kenya"
         ],
         "legendgroup": "Africa",
         "line": {
          "color": "#EF553B",
          "dash": "solid"
         },
         "mode": "lines",
         "name": "Africa",
         "showlegend": false,
         "type": "scattergl",
         "x": [
          1952,
          1957,
          1962,
          1967,
          1972,
          1977,
          1982,
          1987,
          1992,
          1997,
          2002,
          2007
         ],
         "xaxis": "x",
         "y": [
          42.27,
          44.68600000000001,
          47.949,
          50.653999999999996,
          53.559,
          56.155,
          58.766000000000005,
          59.339,
          59.285,
          54.407,
          50.992,
          54.11
         ],
         "yaxis": "y"
        },
        {
         "hovertemplate": "<b>%{hovertext}</b><br><br>continent=Africa<br>country=Lesotho<br>year=%{x}<br>lifeExp=%{y}<extra></extra>",
         "hovertext": [
          "Lesotho",
          "Lesotho",
          "Lesotho",
          "Lesotho",
          "Lesotho",
          "Lesotho",
          "Lesotho",
          "Lesotho",
          "Lesotho",
          "Lesotho",
          "Lesotho",
          "Lesotho"
         ],
         "legendgroup": "Africa",
         "line": {
          "color": "#EF553B",
          "dash": "solid"
         },
         "mode": "lines",
         "name": "Africa",
         "showlegend": false,
         "type": "scattergl",
         "x": [
          1952,
          1957,
          1962,
          1967,
          1972,
          1977,
          1982,
          1987,
          1992,
          1997,
          2002,
          2007
         ],
         "xaxis": "x",
         "y": [
          42.138000000000005,
          45.047,
          47.747,
          48.492,
          49.766999999999996,
          52.208,
          55.078,
          57.18,
          59.685,
          55.558,
          44.593,
          42.592
         ],
         "yaxis": "y"
        },
        {
         "hovertemplate": "<b>%{hovertext}</b><br><br>continent=Africa<br>country=Liberia<br>year=%{x}<br>lifeExp=%{y}<extra></extra>",
         "hovertext": [
          "Liberia",
          "Liberia",
          "Liberia",
          "Liberia",
          "Liberia",
          "Liberia",
          "Liberia",
          "Liberia",
          "Liberia",
          "Liberia",
          "Liberia",
          "Liberia"
         ],
         "legendgroup": "Africa",
         "line": {
          "color": "#EF553B",
          "dash": "solid"
         },
         "mode": "lines",
         "name": "Africa",
         "showlegend": false,
         "type": "scattergl",
         "x": [
          1952,
          1957,
          1962,
          1967,
          1972,
          1977,
          1982,
          1987,
          1992,
          1997,
          2002,
          2007
         ],
         "xaxis": "x",
         "y": [
          38.48,
          39.486,
          40.501999999999995,
          41.536,
          42.614,
          43.763999999999996,
          44.852,
          46.027,
          40.802,
          42.221000000000004,
          43.753,
          45.678000000000004
         ],
         "yaxis": "y"
        },
        {
         "hovertemplate": "<b>%{hovertext}</b><br><br>continent=Africa<br>country=Libya<br>year=%{x}<br>lifeExp=%{y}<extra></extra>",
         "hovertext": [
          "Libya",
          "Libya",
          "Libya",
          "Libya",
          "Libya",
          "Libya",
          "Libya",
          "Libya",
          "Libya",
          "Libya",
          "Libya",
          "Libya"
         ],
         "legendgroup": "Africa",
         "line": {
          "color": "#EF553B",
          "dash": "solid"
         },
         "mode": "lines",
         "name": "Africa",
         "showlegend": false,
         "type": "scattergl",
         "x": [
          1952,
          1957,
          1962,
          1967,
          1972,
          1977,
          1982,
          1987,
          1992,
          1997,
          2002,
          2007
         ],
         "xaxis": "x",
         "y": [
          42.723,
          45.288999999999994,
          47.808,
          50.227,
          52.773,
          57.442,
          62.155,
          66.234,
          68.755,
          71.555,
          72.737,
          73.952
         ],
         "yaxis": "y"
        },
        {
         "hovertemplate": "<b>%{hovertext}</b><br><br>continent=Africa<br>country=Madagascar<br>year=%{x}<br>lifeExp=%{y}<extra></extra>",
         "hovertext": [
          "Madagascar",
          "Madagascar",
          "Madagascar",
          "Madagascar",
          "Madagascar",
          "Madagascar",
          "Madagascar",
          "Madagascar",
          "Madagascar",
          "Madagascar",
          "Madagascar",
          "Madagascar"
         ],
         "legendgroup": "Africa",
         "line": {
          "color": "#EF553B",
          "dash": "solid"
         },
         "mode": "lines",
         "name": "Africa",
         "showlegend": false,
         "type": "scattergl",
         "x": [
          1952,
          1957,
          1962,
          1967,
          1972,
          1977,
          1982,
          1987,
          1992,
          1997,
          2002,
          2007
         ],
         "xaxis": "x",
         "y": [
          36.681,
          38.865,
          40.848,
          42.881,
          44.851000000000006,
          46.881,
          48.968999999999994,
          49.35,
          52.214,
          54.978,
          57.286,
          59.443000000000005
         ],
         "yaxis": "y"
        },
        {
         "hovertemplate": "<b>%{hovertext}</b><br><br>continent=Africa<br>country=Malawi<br>year=%{x}<br>lifeExp=%{y}<extra></extra>",
         "hovertext": [
          "Malawi",
          "Malawi",
          "Malawi",
          "Malawi",
          "Malawi",
          "Malawi",
          "Malawi",
          "Malawi",
          "Malawi",
          "Malawi",
          "Malawi",
          "Malawi"
         ],
         "legendgroup": "Africa",
         "line": {
          "color": "#EF553B",
          "dash": "solid"
         },
         "mode": "lines",
         "name": "Africa",
         "showlegend": false,
         "type": "scattergl",
         "x": [
          1952,
          1957,
          1962,
          1967,
          1972,
          1977,
          1982,
          1987,
          1992,
          1997,
          2002,
          2007
         ],
         "xaxis": "x",
         "y": [
          36.256,
          37.207,
          38.41,
          39.486999999999995,
          41.766000000000005,
          43.766999999999996,
          45.641999999999996,
          47.457,
          49.42,
          47.495,
          45.00899999999999,
          48.303000000000004
         ],
         "yaxis": "y"
        },
        {
         "hovertemplate": "<b>%{hovertext}</b><br><br>continent=Africa<br>country=Mali<br>year=%{x}<br>lifeExp=%{y}<extra></extra>",
         "hovertext": [
          "Mali",
          "Mali",
          "Mali",
          "Mali",
          "Mali",
          "Mali",
          "Mali",
          "Mali",
          "Mali",
          "Mali",
          "Mali",
          "Mali"
         ],
         "legendgroup": "Africa",
         "line": {
          "color": "#EF553B",
          "dash": "solid"
         },
         "mode": "lines",
         "name": "Africa",
         "showlegend": false,
         "type": "scattergl",
         "x": [
          1952,
          1957,
          1962,
          1967,
          1972,
          1977,
          1982,
          1987,
          1992,
          1997,
          2002,
          2007
         ],
         "xaxis": "x",
         "y": [
          33.685,
          35.306999999999995,
          36.936,
          38.486999999999995,
          39.977,
          41.714,
          43.916000000000004,
          46.364,
          48.388000000000005,
          49.903,
          51.818000000000005,
          54.467
         ],
         "yaxis": "y"
        },
        {
         "hovertemplate": "<b>%{hovertext}</b><br><br>continent=Africa<br>country=Mauritania<br>year=%{x}<br>lifeExp=%{y}<extra></extra>",
         "hovertext": [
          "Mauritania",
          "Mauritania",
          "Mauritania",
          "Mauritania",
          "Mauritania",
          "Mauritania",
          "Mauritania",
          "Mauritania",
          "Mauritania",
          "Mauritania",
          "Mauritania",
          "Mauritania"
         ],
         "legendgroup": "Africa",
         "line": {
          "color": "#EF553B",
          "dash": "solid"
         },
         "mode": "lines",
         "name": "Africa",
         "showlegend": false,
         "type": "scattergl",
         "x": [
          1952,
          1957,
          1962,
          1967,
          1972,
          1977,
          1982,
          1987,
          1992,
          1997,
          2002,
          2007
         ],
         "xaxis": "x",
         "y": [
          40.543,
          42.338,
          44.248000000000005,
          46.288999999999994,
          48.437,
          50.852,
          53.599,
          56.145,
          58.333,
          60.43,
          62.247,
          64.164
         ],
         "yaxis": "y"
        },
        {
         "hovertemplate": "<b>%{hovertext}</b><br><br>continent=Africa<br>country=Mauritius<br>year=%{x}<br>lifeExp=%{y}<extra></extra>",
         "hovertext": [
          "Mauritius",
          "Mauritius",
          "Mauritius",
          "Mauritius",
          "Mauritius",
          "Mauritius",
          "Mauritius",
          "Mauritius",
          "Mauritius",
          "Mauritius",
          "Mauritius",
          "Mauritius"
         ],
         "legendgroup": "Africa",
         "line": {
          "color": "#EF553B",
          "dash": "solid"
         },
         "mode": "lines",
         "name": "Africa",
         "showlegend": false,
         "type": "scattergl",
         "x": [
          1952,
          1957,
          1962,
          1967,
          1972,
          1977,
          1982,
          1987,
          1992,
          1997,
          2002,
          2007
         ],
         "xaxis": "x",
         "y": [
          50.986000000000004,
          58.089,
          60.246,
          61.556999999999995,
          62.943999999999996,
          64.93,
          66.711,
          68.74,
          69.745,
          70.736,
          71.954,
          72.801
         ],
         "yaxis": "y"
        },
        {
         "hovertemplate": "<b>%{hovertext}</b><br><br>continent=Africa<br>country=Morocco<br>year=%{x}<br>lifeExp=%{y}<extra></extra>",
         "hovertext": [
          "Morocco",
          "Morocco",
          "Morocco",
          "Morocco",
          "Morocco",
          "Morocco",
          "Morocco",
          "Morocco",
          "Morocco",
          "Morocco",
          "Morocco",
          "Morocco"
         ],
         "legendgroup": "Africa",
         "line": {
          "color": "#EF553B",
          "dash": "solid"
         },
         "mode": "lines",
         "name": "Africa",
         "showlegend": false,
         "type": "scattergl",
         "x": [
          1952,
          1957,
          1962,
          1967,
          1972,
          1977,
          1982,
          1987,
          1992,
          1997,
          2002,
          2007
         ],
         "xaxis": "x",
         "y": [
          42.873000000000005,
          45.423,
          47.924,
          50.335,
          52.861999999999995,
          55.73,
          59.65,
          62.677,
          65.393,
          67.66,
          69.615,
          71.164
         ],
         "yaxis": "y"
        },
        {
         "hovertemplate": "<b>%{hovertext}</b><br><br>continent=Africa<br>country=Mozambique<br>year=%{x}<br>lifeExp=%{y}<extra></extra>",
         "hovertext": [
          "Mozambique",
          "Mozambique",
          "Mozambique",
          "Mozambique",
          "Mozambique",
          "Mozambique",
          "Mozambique",
          "Mozambique",
          "Mozambique",
          "Mozambique",
          "Mozambique",
          "Mozambique"
         ],
         "legendgroup": "Africa",
         "line": {
          "color": "#EF553B",
          "dash": "solid"
         },
         "mode": "lines",
         "name": "Africa",
         "showlegend": false,
         "type": "scattergl",
         "x": [
          1952,
          1957,
          1962,
          1967,
          1972,
          1977,
          1982,
          1987,
          1992,
          1997,
          2002,
          2007
         ],
         "xaxis": "x",
         "y": [
          31.285999999999998,
          33.779,
          36.161,
          38.113,
          40.328,
          42.495,
          42.795,
          42.861000000000004,
          44.284,
          46.343999999999994,
          44.026,
          42.082
         ],
         "yaxis": "y"
        },
        {
         "hovertemplate": "<b>%{hovertext}</b><br><br>continent=Africa<br>country=Namibia<br>year=%{x}<br>lifeExp=%{y}<extra></extra>",
         "hovertext": [
          "Namibia",
          "Namibia",
          "Namibia",
          "Namibia",
          "Namibia",
          "Namibia",
          "Namibia",
          "Namibia",
          "Namibia",
          "Namibia",
          "Namibia",
          "Namibia"
         ],
         "legendgroup": "Africa",
         "line": {
          "color": "#EF553B",
          "dash": "solid"
         },
         "mode": "lines",
         "name": "Africa",
         "showlegend": false,
         "type": "scattergl",
         "x": [
          1952,
          1957,
          1962,
          1967,
          1972,
          1977,
          1982,
          1987,
          1992,
          1997,
          2002,
          2007
         ],
         "xaxis": "x",
         "y": [
          41.725,
          45.226000000000006,
          48.386,
          51.159,
          53.867,
          56.437,
          58.968,
          60.835,
          61.998999999999995,
          58.909,
          51.479,
          52.906000000000006
         ],
         "yaxis": "y"
        },
        {
         "hovertemplate": "<b>%{hovertext}</b><br><br>continent=Africa<br>country=Niger<br>year=%{x}<br>lifeExp=%{y}<extra></extra>",
         "hovertext": [
          "Niger",
          "Niger",
          "Niger",
          "Niger",
          "Niger",
          "Niger",
          "Niger",
          "Niger",
          "Niger",
          "Niger",
          "Niger",
          "Niger"
         ],
         "legendgroup": "Africa",
         "line": {
          "color": "#EF553B",
          "dash": "solid"
         },
         "mode": "lines",
         "name": "Africa",
         "showlegend": false,
         "type": "scattergl",
         "x": [
          1952,
          1957,
          1962,
          1967,
          1972,
          1977,
          1982,
          1987,
          1992,
          1997,
          2002,
          2007
         ],
         "xaxis": "x",
         "y": [
          37.444,
          38.598,
          39.486999999999995,
          40.118,
          40.546,
          41.291000000000004,
          42.598,
          44.555,
          47.391000000000005,
          51.313,
          54.496,
          56.867
         ],
         "yaxis": "y"
        },
        {
         "hovertemplate": "<b>%{hovertext}</b><br><br>continent=Africa<br>country=Nigeria<br>year=%{x}<br>lifeExp=%{y}<extra></extra>",
         "hovertext": [
          "Nigeria",
          "Nigeria",
          "Nigeria",
          "Nigeria",
          "Nigeria",
          "Nigeria",
          "Nigeria",
          "Nigeria",
          "Nigeria",
          "Nigeria",
          "Nigeria",
          "Nigeria"
         ],
         "legendgroup": "Africa",
         "line": {
          "color": "#EF553B",
          "dash": "solid"
         },
         "mode": "lines",
         "name": "Africa",
         "showlegend": false,
         "type": "scattergl",
         "x": [
          1952,
          1957,
          1962,
          1967,
          1972,
          1977,
          1982,
          1987,
          1992,
          1997,
          2002,
          2007
         ],
         "xaxis": "x",
         "y": [
          36.324,
          37.802,
          39.36,
          41.04,
          42.821000000000005,
          44.513999999999996,
          45.826,
          46.886,
          47.472,
          47.464,
          46.608000000000004,
          46.858999999999995
         ],
         "yaxis": "y"
        },
        {
         "hovertemplate": "<b>%{hovertext}</b><br><br>continent=Africa<br>country=Reunion<br>year=%{x}<br>lifeExp=%{y}<extra></extra>",
         "hovertext": [
          "Reunion",
          "Reunion",
          "Reunion",
          "Reunion",
          "Reunion",
          "Reunion",
          "Reunion",
          "Reunion",
          "Reunion",
          "Reunion",
          "Reunion",
          "Reunion"
         ],
         "legendgroup": "Africa",
         "line": {
          "color": "#EF553B",
          "dash": "solid"
         },
         "mode": "lines",
         "name": "Africa",
         "showlegend": false,
         "type": "scattergl",
         "x": [
          1952,
          1957,
          1962,
          1967,
          1972,
          1977,
          1982,
          1987,
          1992,
          1997,
          2002,
          2007
         ],
         "xaxis": "x",
         "y": [
          52.724,
          55.09,
          57.666000000000004,
          60.542,
          64.274,
          67.064,
          69.885,
          71.913,
          73.615,
          74.77199999999999,
          75.744,
          76.442
         ],
         "yaxis": "y"
        },
        {
         "hovertemplate": "<b>%{hovertext}</b><br><br>continent=Africa<br>country=Rwanda<br>year=%{x}<br>lifeExp=%{y}<extra></extra>",
         "hovertext": [
          "Rwanda",
          "Rwanda",
          "Rwanda",
          "Rwanda",
          "Rwanda",
          "Rwanda",
          "Rwanda",
          "Rwanda",
          "Rwanda",
          "Rwanda",
          "Rwanda",
          "Rwanda"
         ],
         "legendgroup": "Africa",
         "line": {
          "color": "#EF553B",
          "dash": "solid"
         },
         "mode": "lines",
         "name": "Africa",
         "showlegend": false,
         "type": "scattergl",
         "x": [
          1952,
          1957,
          1962,
          1967,
          1972,
          1977,
          1982,
          1987,
          1992,
          1997,
          2002,
          2007
         ],
         "xaxis": "x",
         "y": [
          40,
          41.5,
          43,
          44.1,
          44.6,
          45,
          46.218,
          44.02,
          23.599,
          36.086999999999996,
          43.413000000000004,
          46.242
         ],
         "yaxis": "y"
        },
        {
         "hovertemplate": "<b>%{hovertext}</b><br><br>continent=Africa<br>country=Sao Tome and Principe<br>year=%{x}<br>lifeExp=%{y}<extra></extra>",
         "hovertext": [
          "Sao Tome and Principe",
          "Sao Tome and Principe",
          "Sao Tome and Principe",
          "Sao Tome and Principe",
          "Sao Tome and Principe",
          "Sao Tome and Principe",
          "Sao Tome and Principe",
          "Sao Tome and Principe",
          "Sao Tome and Principe",
          "Sao Tome and Principe",
          "Sao Tome and Principe",
          "Sao Tome and Principe"
         ],
         "legendgroup": "Africa",
         "line": {
          "color": "#EF553B",
          "dash": "solid"
         },
         "mode": "lines",
         "name": "Africa",
         "showlegend": false,
         "type": "scattergl",
         "x": [
          1952,
          1957,
          1962,
          1967,
          1972,
          1977,
          1982,
          1987,
          1992,
          1997,
          2002,
          2007
         ],
         "xaxis": "x",
         "y": [
          46.471000000000004,
          48.945,
          51.893,
          54.425,
          56.48,
          58.55,
          60.351000000000006,
          61.728,
          62.742,
          63.306000000000004,
          64.337,
          65.528
         ],
         "yaxis": "y"
        },
        {
         "hovertemplate": "<b>%{hovertext}</b><br><br>continent=Africa<br>country=Senegal<br>year=%{x}<br>lifeExp=%{y}<extra></extra>",
         "hovertext": [
          "Senegal",
          "Senegal",
          "Senegal",
          "Senegal",
          "Senegal",
          "Senegal",
          "Senegal",
          "Senegal",
          "Senegal",
          "Senegal",
          "Senegal",
          "Senegal"
         ],
         "legendgroup": "Africa",
         "line": {
          "color": "#EF553B",
          "dash": "solid"
         },
         "mode": "lines",
         "name": "Africa",
         "showlegend": false,
         "type": "scattergl",
         "x": [
          1952,
          1957,
          1962,
          1967,
          1972,
          1977,
          1982,
          1987,
          1992,
          1997,
          2002,
          2007
         ],
         "xaxis": "x",
         "y": [
          37.278,
          39.329,
          41.45399999999999,
          43.563,
          45.815,
          48.879,
          52.379,
          55.769,
          58.196000000000005,
          60.187,
          61.6,
          63.062
         ],
         "yaxis": "y"
        },
        {
         "hovertemplate": "<b>%{hovertext}</b><br><br>continent=Africa<br>country=Sierra Leone<br>year=%{x}<br>lifeExp=%{y}<extra></extra>",
         "hovertext": [
          "Sierra Leone",
          "Sierra Leone",
          "Sierra Leone",
          "Sierra Leone",
          "Sierra Leone",
          "Sierra Leone",
          "Sierra Leone",
          "Sierra Leone",
          "Sierra Leone",
          "Sierra Leone",
          "Sierra Leone",
          "Sierra Leone"
         ],
         "legendgroup": "Africa",
         "line": {
          "color": "#EF553B",
          "dash": "solid"
         },
         "mode": "lines",
         "name": "Africa",
         "showlegend": false,
         "type": "scattergl",
         "x": [
          1952,
          1957,
          1962,
          1967,
          1972,
          1977,
          1982,
          1987,
          1992,
          1997,
          2002,
          2007
         ],
         "xaxis": "x",
         "y": [
          30.331,
          31.57,
          32.766999999999996,
          34.113,
          35.4,
          36.788000000000004,
          38.445,
          40.006,
          38.333,
          39.897,
          41.012,
          42.568000000000005
         ],
         "yaxis": "y"
        },
        {
         "hovertemplate": "<b>%{hovertext}</b><br><br>continent=Africa<br>country=Somalia<br>year=%{x}<br>lifeExp=%{y}<extra></extra>",
         "hovertext": [
          "Somalia",
          "Somalia",
          "Somalia",
          "Somalia",
          "Somalia",
          "Somalia",
          "Somalia",
          "Somalia",
          "Somalia",
          "Somalia",
          "Somalia",
          "Somalia"
         ],
         "legendgroup": "Africa",
         "line": {
          "color": "#EF553B",
          "dash": "solid"
         },
         "mode": "lines",
         "name": "Africa",
         "showlegend": false,
         "type": "scattergl",
         "x": [
          1952,
          1957,
          1962,
          1967,
          1972,
          1977,
          1982,
          1987,
          1992,
          1997,
          2002,
          2007
         ],
         "xaxis": "x",
         "y": [
          32.978,
          34.977,
          36.981,
          38.977,
          40.973,
          41.974,
          42.955,
          44.501000000000005,
          39.658,
          43.795,
          45.93600000000001,
          48.159
         ],
         "yaxis": "y"
        },
        {
         "hovertemplate": "<b>%{hovertext}</b><br><br>continent=Africa<br>country=South Africa<br>year=%{x}<br>lifeExp=%{y}<extra></extra>",
         "hovertext": [
          "South Africa",
          "South Africa",
          "South Africa",
          "South Africa",
          "South Africa",
          "South Africa",
          "South Africa",
          "South Africa",
          "South Africa",
          "South Africa",
          "South Africa",
          "South Africa"
         ],
         "legendgroup": "Africa",
         "line": {
          "color": "#EF553B",
          "dash": "solid"
         },
         "mode": "lines",
         "name": "Africa",
         "showlegend": false,
         "type": "scattergl",
         "x": [
          1952,
          1957,
          1962,
          1967,
          1972,
          1977,
          1982,
          1987,
          1992,
          1997,
          2002,
          2007
         ],
         "xaxis": "x",
         "y": [
          45.00899999999999,
          47.985,
          49.951,
          51.927,
          53.696000000000005,
          55.527,
          58.161,
          60.833999999999996,
          61.888000000000005,
          60.236000000000004,
          53.365,
          49.339
         ],
         "yaxis": "y"
        },
        {
         "hovertemplate": "<b>%{hovertext}</b><br><br>continent=Africa<br>country=Sudan<br>year=%{x}<br>lifeExp=%{y}<extra></extra>",
         "hovertext": [
          "Sudan",
          "Sudan",
          "Sudan",
          "Sudan",
          "Sudan",
          "Sudan",
          "Sudan",
          "Sudan",
          "Sudan",
          "Sudan",
          "Sudan",
          "Sudan"
         ],
         "legendgroup": "Africa",
         "line": {
          "color": "#EF553B",
          "dash": "solid"
         },
         "mode": "lines",
         "name": "Africa",
         "showlegend": false,
         "type": "scattergl",
         "x": [
          1952,
          1957,
          1962,
          1967,
          1972,
          1977,
          1982,
          1987,
          1992,
          1997,
          2002,
          2007
         ],
         "xaxis": "x",
         "y": [
          38.635,
          39.624,
          40.87,
          42.858000000000004,
          45.083,
          47.8,
          50.338,
          51.744,
          53.556000000000004,
          55.373000000000005,
          56.369,
          58.556000000000004
         ],
         "yaxis": "y"
        },
        {
         "hovertemplate": "<b>%{hovertext}</b><br><br>continent=Africa<br>country=Swaziland<br>year=%{x}<br>lifeExp=%{y}<extra></extra>",
         "hovertext": [
          "Swaziland",
          "Swaziland",
          "Swaziland",
          "Swaziland",
          "Swaziland",
          "Swaziland",
          "Swaziland",
          "Swaziland",
          "Swaziland",
          "Swaziland",
          "Swaziland",
          "Swaziland"
         ],
         "legendgroup": "Africa",
         "line": {
          "color": "#EF553B",
          "dash": "solid"
         },
         "mode": "lines",
         "name": "Africa",
         "showlegend": false,
         "type": "scattergl",
         "x": [
          1952,
          1957,
          1962,
          1967,
          1972,
          1977,
          1982,
          1987,
          1992,
          1997,
          2002,
          2007
         ],
         "xaxis": "x",
         "y": [
          41.407,
          43.424,
          44.992,
          46.633,
          49.552,
          52.537,
          55.56100000000001,
          57.678000000000004,
          58.474,
          54.288999999999994,
          43.869,
          39.613
         ],
         "yaxis": "y"
        },
        {
         "hovertemplate": "<b>%{hovertext}</b><br><br>continent=Africa<br>country=Tanzania<br>year=%{x}<br>lifeExp=%{y}<extra></extra>",
         "hovertext": [
          "Tanzania",
          "Tanzania",
          "Tanzania",
          "Tanzania",
          "Tanzania",
          "Tanzania",
          "Tanzania",
          "Tanzania",
          "Tanzania",
          "Tanzania",
          "Tanzania",
          "Tanzania"
         ],
         "legendgroup": "Africa",
         "line": {
          "color": "#EF553B",
          "dash": "solid"
         },
         "mode": "lines",
         "name": "Africa",
         "showlegend": false,
         "type": "scattergl",
         "x": [
          1952,
          1957,
          1962,
          1967,
          1972,
          1977,
          1982,
          1987,
          1992,
          1997,
          2002,
          2007
         ],
         "xaxis": "x",
         "y": [
          41.215,
          42.974,
          44.246,
          45.757,
          47.62,
          49.919,
          50.608000000000004,
          51.535,
          50.44,
          48.466,
          49.651,
          52.516999999999996
         ],
         "yaxis": "y"
        },
        {
         "hovertemplate": "<b>%{hovertext}</b><br><br>continent=Africa<br>country=Togo<br>year=%{x}<br>lifeExp=%{y}<extra></extra>",
         "hovertext": [
          "Togo",
          "Togo",
          "Togo",
          "Togo",
          "Togo",
          "Togo",
          "Togo",
          "Togo",
          "Togo",
          "Togo",
          "Togo",
          "Togo"
         ],
         "legendgroup": "Africa",
         "line": {
          "color": "#EF553B",
          "dash": "solid"
         },
         "mode": "lines",
         "name": "Africa",
         "showlegend": false,
         "type": "scattergl",
         "x": [
          1952,
          1957,
          1962,
          1967,
          1972,
          1977,
          1982,
          1987,
          1992,
          1997,
          2002,
          2007
         ],
         "xaxis": "x",
         "y": [
          38.596,
          41.208,
          43.922,
          46.769,
          49.75899999999999,
          52.887,
          55.471000000000004,
          56.941,
          58.06100000000001,
          58.39,
          57.56100000000001,
          58.42
         ],
         "yaxis": "y"
        },
        {
         "hovertemplate": "<b>%{hovertext}</b><br><br>continent=Africa<br>country=Tunisia<br>year=%{x}<br>lifeExp=%{y}<extra></extra>",
         "hovertext": [
          "Tunisia",
          "Tunisia",
          "Tunisia",
          "Tunisia",
          "Tunisia",
          "Tunisia",
          "Tunisia",
          "Tunisia",
          "Tunisia",
          "Tunisia",
          "Tunisia",
          "Tunisia"
         ],
         "legendgroup": "Africa",
         "line": {
          "color": "#EF553B",
          "dash": "solid"
         },
         "mode": "lines",
         "name": "Africa",
         "showlegend": false,
         "type": "scattergl",
         "x": [
          1952,
          1957,
          1962,
          1967,
          1972,
          1977,
          1982,
          1987,
          1992,
          1997,
          2002,
          2007
         ],
         "xaxis": "x",
         "y": [
          44.6,
          47.1,
          49.57899999999999,
          52.053000000000004,
          55.602,
          59.836999999999996,
          64.048,
          66.89399999999999,
          70.001,
          71.973,
          73.042,
          73.923
         ],
         "yaxis": "y"
        },
        {
         "hovertemplate": "<b>%{hovertext}</b><br><br>continent=Africa<br>country=Uganda<br>year=%{x}<br>lifeExp=%{y}<extra></extra>",
         "hovertext": [
          "Uganda",
          "Uganda",
          "Uganda",
          "Uganda",
          "Uganda",
          "Uganda",
          "Uganda",
          "Uganda",
          "Uganda",
          "Uganda",
          "Uganda",
          "Uganda"
         ],
         "legendgroup": "Africa",
         "line": {
          "color": "#EF553B",
          "dash": "solid"
         },
         "mode": "lines",
         "name": "Africa",
         "showlegend": false,
         "type": "scattergl",
         "x": [
          1952,
          1957,
          1962,
          1967,
          1972,
          1977,
          1982,
          1987,
          1992,
          1997,
          2002,
          2007
         ],
         "xaxis": "x",
         "y": [
          39.978,
          42.571000000000005,
          45.343999999999994,
          48.051,
          51.016000000000005,
          50.35,
          49.849,
          51.50899999999999,
          48.825,
          44.578,
          47.813,
          51.542
         ],
         "yaxis": "y"
        },
        {
         "hovertemplate": "<b>%{hovertext}</b><br><br>continent=Africa<br>country=Zambia<br>year=%{x}<br>lifeExp=%{y}<extra></extra>",
         "hovertext": [
          "Zambia",
          "Zambia",
          "Zambia",
          "Zambia",
          "Zambia",
          "Zambia",
          "Zambia",
          "Zambia",
          "Zambia",
          "Zambia",
          "Zambia",
          "Zambia"
         ],
         "legendgroup": "Africa",
         "line": {
          "color": "#EF553B",
          "dash": "solid"
         },
         "mode": "lines",
         "name": "Africa",
         "showlegend": false,
         "type": "scattergl",
         "x": [
          1952,
          1957,
          1962,
          1967,
          1972,
          1977,
          1982,
          1987,
          1992,
          1997,
          2002,
          2007
         ],
         "xaxis": "x",
         "y": [
          42.038000000000004,
          44.077,
          46.023,
          47.768,
          50.107,
          51.386,
          51.821000000000005,
          50.821000000000005,
          46.1,
          40.238,
          39.193000000000005,
          42.38399999999999
         ],
         "yaxis": "y"
        },
        {
         "hovertemplate": "<b>%{hovertext}</b><br><br>continent=Africa<br>country=Zimbabwe<br>year=%{x}<br>lifeExp=%{y}<extra></extra>",
         "hovertext": [
          "Zimbabwe",
          "Zimbabwe",
          "Zimbabwe",
          "Zimbabwe",
          "Zimbabwe",
          "Zimbabwe",
          "Zimbabwe",
          "Zimbabwe",
          "Zimbabwe",
          "Zimbabwe",
          "Zimbabwe",
          "Zimbabwe"
         ],
         "legendgroup": "Africa",
         "line": {
          "color": "#EF553B",
          "dash": "solid"
         },
         "mode": "lines",
         "name": "Africa",
         "showlegend": false,
         "type": "scattergl",
         "x": [
          1952,
          1957,
          1962,
          1967,
          1972,
          1977,
          1982,
          1987,
          1992,
          1997,
          2002,
          2007
         ],
         "xaxis": "x",
         "y": [
          48.451,
          50.468999999999994,
          52.358000000000004,
          53.995,
          55.635,
          57.674,
          60.363,
          62.351000000000006,
          60.376999999999995,
          46.809,
          39.989000000000004,
          43.486999999999995
         ],
         "yaxis": "y"
        },
        {
         "hovertemplate": "<b>%{hovertext}</b><br><br>continent=Americas<br>country=Argentina<br>year=%{x}<br>lifeExp=%{y}<extra></extra>",
         "hovertext": [
          "Argentina",
          "Argentina",
          "Argentina",
          "Argentina",
          "Argentina",
          "Argentina",
          "Argentina",
          "Argentina",
          "Argentina",
          "Argentina",
          "Argentina",
          "Argentina"
         ],
         "legendgroup": "Americas",
         "line": {
          "color": "#00cc96",
          "dash": "solid"
         },
         "mode": "lines",
         "name": "Americas",
         "showlegend": true,
         "type": "scattergl",
         "x": [
          1952,
          1957,
          1962,
          1967,
          1972,
          1977,
          1982,
          1987,
          1992,
          1997,
          2002,
          2007
         ],
         "xaxis": "x",
         "y": [
          62.485,
          64.399,
          65.142,
          65.634,
          67.065,
          68.48100000000001,
          69.942,
          70.774,
          71.868,
          73.275,
          74.34,
          75.32
         ],
         "yaxis": "y"
        },
        {
         "hovertemplate": "<b>%{hovertext}</b><br><br>continent=Americas<br>country=Bolivia<br>year=%{x}<br>lifeExp=%{y}<extra></extra>",
         "hovertext": [
          "Bolivia",
          "Bolivia",
          "Bolivia",
          "Bolivia",
          "Bolivia",
          "Bolivia",
          "Bolivia",
          "Bolivia",
          "Bolivia",
          "Bolivia",
          "Bolivia",
          "Bolivia"
         ],
         "legendgroup": "Americas",
         "line": {
          "color": "#00cc96",
          "dash": "solid"
         },
         "mode": "lines",
         "name": "Americas",
         "showlegend": false,
         "type": "scattergl",
         "x": [
          1952,
          1957,
          1962,
          1967,
          1972,
          1977,
          1982,
          1987,
          1992,
          1997,
          2002,
          2007
         ],
         "xaxis": "x",
         "y": [
          40.414,
          41.89,
          43.428000000000004,
          45.032,
          46.714,
          50.023,
          53.858999999999995,
          57.251000000000005,
          59.957,
          62.05,
          63.883,
          65.554
         ],
         "yaxis": "y"
        },
        {
         "hovertemplate": "<b>%{hovertext}</b><br><br>continent=Americas<br>country=Brazil<br>year=%{x}<br>lifeExp=%{y}<extra></extra>",
         "hovertext": [
          "Brazil",
          "Brazil",
          "Brazil",
          "Brazil",
          "Brazil",
          "Brazil",
          "Brazil",
          "Brazil",
          "Brazil",
          "Brazil",
          "Brazil",
          "Brazil"
         ],
         "legendgroup": "Americas",
         "line": {
          "color": "#00cc96",
          "dash": "solid"
         },
         "mode": "lines",
         "name": "Americas",
         "showlegend": false,
         "type": "scattergl",
         "x": [
          1952,
          1957,
          1962,
          1967,
          1972,
          1977,
          1982,
          1987,
          1992,
          1997,
          2002,
          2007
         ],
         "xaxis": "x",
         "y": [
          50.917,
          53.285,
          55.665,
          57.632,
          59.504,
          61.489,
          63.336000000000006,
          65.205,
          67.057,
          69.388,
          71.006,
          72.39
         ],
         "yaxis": "y"
        },
        {
         "hovertemplate": "<b>%{hovertext}</b><br><br>continent=Americas<br>country=Canada<br>year=%{x}<br>lifeExp=%{y}<extra></extra>",
         "hovertext": [
          "Canada",
          "Canada",
          "Canada",
          "Canada",
          "Canada",
          "Canada",
          "Canada",
          "Canada",
          "Canada",
          "Canada",
          "Canada",
          "Canada"
         ],
         "legendgroup": "Americas",
         "line": {
          "color": "#00cc96",
          "dash": "solid"
         },
         "mode": "lines",
         "name": "Americas",
         "showlegend": false,
         "type": "scattergl",
         "x": [
          1952,
          1957,
          1962,
          1967,
          1972,
          1977,
          1982,
          1987,
          1992,
          1997,
          2002,
          2007
         ],
         "xaxis": "x",
         "y": [
          68.75,
          69.96,
          71.3,
          72.13,
          72.88,
          74.21,
          75.76,
          76.86,
          77.95,
          78.61,
          79.77,
          80.653
         ],
         "yaxis": "y"
        },
        {
         "hovertemplate": "<b>%{hovertext}</b><br><br>continent=Americas<br>country=Chile<br>year=%{x}<br>lifeExp=%{y}<extra></extra>",
         "hovertext": [
          "Chile",
          "Chile",
          "Chile",
          "Chile",
          "Chile",
          "Chile",
          "Chile",
          "Chile",
          "Chile",
          "Chile",
          "Chile",
          "Chile"
         ],
         "legendgroup": "Americas",
         "line": {
          "color": "#00cc96",
          "dash": "solid"
         },
         "mode": "lines",
         "name": "Americas",
         "showlegend": false,
         "type": "scattergl",
         "x": [
          1952,
          1957,
          1962,
          1967,
          1972,
          1977,
          1982,
          1987,
          1992,
          1997,
          2002,
          2007
         ],
         "xaxis": "x",
         "y": [
          54.745,
          56.074,
          57.924,
          60.523,
          63.441,
          67.05199999999999,
          70.565,
          72.492,
          74.126,
          75.816,
          77.86,
          78.553
         ],
         "yaxis": "y"
        },
        {
         "hovertemplate": "<b>%{hovertext}</b><br><br>continent=Americas<br>country=Colombia<br>year=%{x}<br>lifeExp=%{y}<extra></extra>",
         "hovertext": [
          "Colombia",
          "Colombia",
          "Colombia",
          "Colombia",
          "Colombia",
          "Colombia",
          "Colombia",
          "Colombia",
          "Colombia",
          "Colombia",
          "Colombia",
          "Colombia"
         ],
         "legendgroup": "Americas",
         "line": {
          "color": "#00cc96",
          "dash": "solid"
         },
         "mode": "lines",
         "name": "Americas",
         "showlegend": false,
         "type": "scattergl",
         "x": [
          1952,
          1957,
          1962,
          1967,
          1972,
          1977,
          1982,
          1987,
          1992,
          1997,
          2002,
          2007
         ],
         "xaxis": "x",
         "y": [
          50.643,
          55.118,
          57.863,
          59.963,
          61.623000000000005,
          63.836999999999996,
          66.653,
          67.768,
          68.421,
          70.313,
          71.682,
          72.889
         ],
         "yaxis": "y"
        },
        {
         "hovertemplate": "<b>%{hovertext}</b><br><br>continent=Americas<br>country=Costa Rica<br>year=%{x}<br>lifeExp=%{y}<extra></extra>",
         "hovertext": [
          "Costa Rica",
          "Costa Rica",
          "Costa Rica",
          "Costa Rica",
          "Costa Rica",
          "Costa Rica",
          "Costa Rica",
          "Costa Rica",
          "Costa Rica",
          "Costa Rica",
          "Costa Rica",
          "Costa Rica"
         ],
         "legendgroup": "Americas",
         "line": {
          "color": "#00cc96",
          "dash": "solid"
         },
         "mode": "lines",
         "name": "Americas",
         "showlegend": false,
         "type": "scattergl",
         "x": [
          1952,
          1957,
          1962,
          1967,
          1972,
          1977,
          1982,
          1987,
          1992,
          1997,
          2002,
          2007
         ],
         "xaxis": "x",
         "y": [
          57.206,
          60.026,
          62.842,
          65.42399999999999,
          67.84899999999999,
          70.75,
          73.45,
          74.752,
          75.71300000000001,
          77.26,
          78.123,
          78.782
         ],
         "yaxis": "y"
        },
        {
         "hovertemplate": "<b>%{hovertext}</b><br><br>continent=Americas<br>country=Cuba<br>year=%{x}<br>lifeExp=%{y}<extra></extra>",
         "hovertext": [
          "Cuba",
          "Cuba",
          "Cuba",
          "Cuba",
          "Cuba",
          "Cuba",
          "Cuba",
          "Cuba",
          "Cuba",
          "Cuba",
          "Cuba",
          "Cuba"
         ],
         "legendgroup": "Americas",
         "line": {
          "color": "#00cc96",
          "dash": "solid"
         },
         "mode": "lines",
         "name": "Americas",
         "showlegend": false,
         "type": "scattergl",
         "x": [
          1952,
          1957,
          1962,
          1967,
          1972,
          1977,
          1982,
          1987,
          1992,
          1997,
          2002,
          2007
         ],
         "xaxis": "x",
         "y": [
          59.42100000000001,
          62.325,
          65.24600000000001,
          68.29,
          70.723,
          72.649,
          73.717,
          74.17399999999999,
          74.414,
          76.15100000000001,
          77.158,
          78.273
         ],
         "yaxis": "y"
        },
        {
         "hovertemplate": "<b>%{hovertext}</b><br><br>continent=Americas<br>country=Dominican Republic<br>year=%{x}<br>lifeExp=%{y}<extra></extra>",
         "hovertext": [
          "Dominican Republic",
          "Dominican Republic",
          "Dominican Republic",
          "Dominican Republic",
          "Dominican Republic",
          "Dominican Republic",
          "Dominican Republic",
          "Dominican Republic",
          "Dominican Republic",
          "Dominican Republic",
          "Dominican Republic",
          "Dominican Republic"
         ],
         "legendgroup": "Americas",
         "line": {
          "color": "#00cc96",
          "dash": "solid"
         },
         "mode": "lines",
         "name": "Americas",
         "showlegend": false,
         "type": "scattergl",
         "x": [
          1952,
          1957,
          1962,
          1967,
          1972,
          1977,
          1982,
          1987,
          1992,
          1997,
          2002,
          2007
         ],
         "xaxis": "x",
         "y": [
          45.928000000000004,
          49.828,
          53.458999999999996,
          56.751000000000005,
          59.631,
          61.788000000000004,
          63.727,
          66.046,
          68.457,
          69.957,
          70.847,
          72.235
         ],
         "yaxis": "y"
        },
        {
         "hovertemplate": "<b>%{hovertext}</b><br><br>continent=Americas<br>country=Ecuador<br>year=%{x}<br>lifeExp=%{y}<extra></extra>",
         "hovertext": [
          "Ecuador",
          "Ecuador",
          "Ecuador",
          "Ecuador",
          "Ecuador",
          "Ecuador",
          "Ecuador",
          "Ecuador",
          "Ecuador",
          "Ecuador",
          "Ecuador",
          "Ecuador"
         ],
         "legendgroup": "Americas",
         "line": {
          "color": "#00cc96",
          "dash": "solid"
         },
         "mode": "lines",
         "name": "Americas",
         "showlegend": false,
         "type": "scattergl",
         "x": [
          1952,
          1957,
          1962,
          1967,
          1972,
          1977,
          1982,
          1987,
          1992,
          1997,
          2002,
          2007
         ],
         "xaxis": "x",
         "y": [
          48.357,
          51.356,
          54.64,
          56.678000000000004,
          58.79600000000001,
          61.31,
          64.342,
          67.23100000000001,
          69.613,
          72.312,
          74.173,
          74.994
         ],
         "yaxis": "y"
        },
        {
         "hovertemplate": "<b>%{hovertext}</b><br><br>continent=Americas<br>country=El Salvador<br>year=%{x}<br>lifeExp=%{y}<extra></extra>",
         "hovertext": [
          "El Salvador",
          "El Salvador",
          "El Salvador",
          "El Salvador",
          "El Salvador",
          "El Salvador",
          "El Salvador",
          "El Salvador",
          "El Salvador",
          "El Salvador",
          "El Salvador",
          "El Salvador"
         ],
         "legendgroup": "Americas",
         "line": {
          "color": "#00cc96",
          "dash": "solid"
         },
         "mode": "lines",
         "name": "Americas",
         "showlegend": false,
         "type": "scattergl",
         "x": [
          1952,
          1957,
          1962,
          1967,
          1972,
          1977,
          1982,
          1987,
          1992,
          1997,
          2002,
          2007
         ],
         "xaxis": "x",
         "y": [
          45.262,
          48.57,
          52.306999999999995,
          55.855,
          58.207,
          56.696000000000005,
          56.604,
          63.153999999999996,
          66.798,
          69.535,
          70.734,
          71.878
         ],
         "yaxis": "y"
        },
        {
         "hovertemplate": "<b>%{hovertext}</b><br><br>continent=Americas<br>country=Guatemala<br>year=%{x}<br>lifeExp=%{y}<extra></extra>",
         "hovertext": [
          "Guatemala",
          "Guatemala",
          "Guatemala",
          "Guatemala",
          "Guatemala",
          "Guatemala",
          "Guatemala",
          "Guatemala",
          "Guatemala",
          "Guatemala",
          "Guatemala",
          "Guatemala"
         ],
         "legendgroup": "Americas",
         "line": {
          "color": "#00cc96",
          "dash": "solid"
         },
         "mode": "lines",
         "name": "Americas",
         "showlegend": false,
         "type": "scattergl",
         "x": [
          1952,
          1957,
          1962,
          1967,
          1972,
          1977,
          1982,
          1987,
          1992,
          1997,
          2002,
          2007
         ],
         "xaxis": "x",
         "y": [
          42.023,
          44.141999999999996,
          46.95399999999999,
          50.016000000000005,
          53.738,
          56.028999999999996,
          58.137,
          60.782,
          63.373000000000005,
          66.322,
          68.97800000000001,
          70.259
         ],
         "yaxis": "y"
        },
        {
         "hovertemplate": "<b>%{hovertext}</b><br><br>continent=Americas<br>country=Haiti<br>year=%{x}<br>lifeExp=%{y}<extra></extra>",
         "hovertext": [
          "Haiti",
          "Haiti",
          "Haiti",
          "Haiti",
          "Haiti",
          "Haiti",
          "Haiti",
          "Haiti",
          "Haiti",
          "Haiti",
          "Haiti",
          "Haiti"
         ],
         "legendgroup": "Americas",
         "line": {
          "color": "#00cc96",
          "dash": "solid"
         },
         "mode": "lines",
         "name": "Americas",
         "showlegend": false,
         "type": "scattergl",
         "x": [
          1952,
          1957,
          1962,
          1967,
          1972,
          1977,
          1982,
          1987,
          1992,
          1997,
          2002,
          2007
         ],
         "xaxis": "x",
         "y": [
          37.579,
          40.696,
          43.59,
          46.243,
          48.042,
          49.923,
          51.461000000000006,
          53.636,
          55.089,
          56.67100000000001,
          58.137,
          60.916000000000004
         ],
         "yaxis": "y"
        },
        {
         "hovertemplate": "<b>%{hovertext}</b><br><br>continent=Americas<br>country=Honduras<br>year=%{x}<br>lifeExp=%{y}<extra></extra>",
         "hovertext": [
          "Honduras",
          "Honduras",
          "Honduras",
          "Honduras",
          "Honduras",
          "Honduras",
          "Honduras",
          "Honduras",
          "Honduras",
          "Honduras",
          "Honduras",
          "Honduras"
         ],
         "legendgroup": "Americas",
         "line": {
          "color": "#00cc96",
          "dash": "solid"
         },
         "mode": "lines",
         "name": "Americas",
         "showlegend": false,
         "type": "scattergl",
         "x": [
          1952,
          1957,
          1962,
          1967,
          1972,
          1977,
          1982,
          1987,
          1992,
          1997,
          2002,
          2007
         ],
         "xaxis": "x",
         "y": [
          41.912,
          44.665,
          48.041000000000004,
          50.924,
          53.88399999999999,
          57.402,
          60.909,
          64.492,
          66.399,
          67.65899999999999,
          68.565,
          70.19800000000001
         ],
         "yaxis": "y"
        },
        {
         "hovertemplate": "<b>%{hovertext}</b><br><br>continent=Americas<br>country=Jamaica<br>year=%{x}<br>lifeExp=%{y}<extra></extra>",
         "hovertext": [
          "Jamaica",
          "Jamaica",
          "Jamaica",
          "Jamaica",
          "Jamaica",
          "Jamaica",
          "Jamaica",
          "Jamaica",
          "Jamaica",
          "Jamaica",
          "Jamaica",
          "Jamaica"
         ],
         "legendgroup": "Americas",
         "line": {
          "color": "#00cc96",
          "dash": "solid"
         },
         "mode": "lines",
         "name": "Americas",
         "showlegend": false,
         "type": "scattergl",
         "x": [
          1952,
          1957,
          1962,
          1967,
          1972,
          1977,
          1982,
          1987,
          1992,
          1997,
          2002,
          2007
         ],
         "xaxis": "x",
         "y": [
          58.53,
          62.61,
          65.61,
          67.51,
          69,
          70.11,
          71.21,
          71.77,
          71.766,
          72.262,
          72.047,
          72.567
         ],
         "yaxis": "y"
        },
        {
         "hovertemplate": "<b>%{hovertext}</b><br><br>continent=Americas<br>country=Mexico<br>year=%{x}<br>lifeExp=%{y}<extra></extra>",
         "hovertext": [
          "Mexico",
          "Mexico",
          "Mexico",
          "Mexico",
          "Mexico",
          "Mexico",
          "Mexico",
          "Mexico",
          "Mexico",
          "Mexico",
          "Mexico",
          "Mexico"
         ],
         "legendgroup": "Americas",
         "line": {
          "color": "#00cc96",
          "dash": "solid"
         },
         "mode": "lines",
         "name": "Americas",
         "showlegend": false,
         "type": "scattergl",
         "x": [
          1952,
          1957,
          1962,
          1967,
          1972,
          1977,
          1982,
          1987,
          1992,
          1997,
          2002,
          2007
         ],
         "xaxis": "x",
         "y": [
          50.788999999999994,
          55.19,
          58.299,
          60.11,
          62.361000000000004,
          65.032,
          67.405,
          69.498,
          71.455,
          73.67,
          74.902,
          76.195
         ],
         "yaxis": "y"
        },
        {
         "hovertemplate": "<b>%{hovertext}</b><br><br>continent=Americas<br>country=Nicaragua<br>year=%{x}<br>lifeExp=%{y}<extra></extra>",
         "hovertext": [
          "Nicaragua",
          "Nicaragua",
          "Nicaragua",
          "Nicaragua",
          "Nicaragua",
          "Nicaragua",
          "Nicaragua",
          "Nicaragua",
          "Nicaragua",
          "Nicaragua",
          "Nicaragua",
          "Nicaragua"
         ],
         "legendgroup": "Americas",
         "line": {
          "color": "#00cc96",
          "dash": "solid"
         },
         "mode": "lines",
         "name": "Americas",
         "showlegend": false,
         "type": "scattergl",
         "x": [
          1952,
          1957,
          1962,
          1967,
          1972,
          1977,
          1982,
          1987,
          1992,
          1997,
          2002,
          2007
         ],
         "xaxis": "x",
         "y": [
          42.31399999999999,
          45.431999999999995,
          48.632,
          51.88399999999999,
          55.151,
          57.47,
          59.298,
          62.008,
          65.843,
          68.426,
          70.836,
          72.899
         ],
         "yaxis": "y"
        },
        {
         "hovertemplate": "<b>%{hovertext}</b><br><br>continent=Americas<br>country=Panama<br>year=%{x}<br>lifeExp=%{y}<extra></extra>",
         "hovertext": [
          "Panama",
          "Panama",
          "Panama",
          "Panama",
          "Panama",
          "Panama",
          "Panama",
          "Panama",
          "Panama",
          "Panama",
          "Panama",
          "Panama"
         ],
         "legendgroup": "Americas",
         "line": {
          "color": "#00cc96",
          "dash": "solid"
         },
         "mode": "lines",
         "name": "Americas",
         "showlegend": false,
         "type": "scattergl",
         "x": [
          1952,
          1957,
          1962,
          1967,
          1972,
          1977,
          1982,
          1987,
          1992,
          1997,
          2002,
          2007
         ],
         "xaxis": "x",
         "y": [
          55.191,
          59.201,
          61.817,
          64.071,
          66.21600000000001,
          68.681,
          70.472,
          71.523,
          72.462,
          73.738,
          74.712,
          75.53699999999999
         ],
         "yaxis": "y"
        },
        {
         "hovertemplate": "<b>%{hovertext}</b><br><br>continent=Americas<br>country=Paraguay<br>year=%{x}<br>lifeExp=%{y}<extra></extra>",
         "hovertext": [
          "Paraguay",
          "Paraguay",
          "Paraguay",
          "Paraguay",
          "Paraguay",
          "Paraguay",
          "Paraguay",
          "Paraguay",
          "Paraguay",
          "Paraguay",
          "Paraguay",
          "Paraguay"
         ],
         "legendgroup": "Americas",
         "line": {
          "color": "#00cc96",
          "dash": "solid"
         },
         "mode": "lines",
         "name": "Americas",
         "showlegend": false,
         "type": "scattergl",
         "x": [
          1952,
          1957,
          1962,
          1967,
          1972,
          1977,
          1982,
          1987,
          1992,
          1997,
          2002,
          2007
         ],
         "xaxis": "x",
         "y": [
          62.648999999999994,
          63.196000000000005,
          64.361,
          64.95100000000001,
          65.815,
          66.35300000000001,
          66.874,
          67.378,
          68.225,
          69.4,
          70.755,
          71.752
         ],
         "yaxis": "y"
        },
        {
         "hovertemplate": "<b>%{hovertext}</b><br><br>continent=Americas<br>country=Peru<br>year=%{x}<br>lifeExp=%{y}<extra></extra>",
         "hovertext": [
          "Peru",
          "Peru",
          "Peru",
          "Peru",
          "Peru",
          "Peru",
          "Peru",
          "Peru",
          "Peru",
          "Peru",
          "Peru",
          "Peru"
         ],
         "legendgroup": "Americas",
         "line": {
          "color": "#00cc96",
          "dash": "solid"
         },
         "mode": "lines",
         "name": "Americas",
         "showlegend": false,
         "type": "scattergl",
         "x": [
          1952,
          1957,
          1962,
          1967,
          1972,
          1977,
          1982,
          1987,
          1992,
          1997,
          2002,
          2007
         ],
         "xaxis": "x",
         "y": [
          43.902,
          46.263000000000005,
          49.096000000000004,
          51.445,
          55.448,
          58.446999999999996,
          61.406000000000006,
          64.134,
          66.458,
          68.38600000000001,
          69.906,
          71.421
         ],
         "yaxis": "y"
        },
        {
         "hovertemplate": "<b>%{hovertext}</b><br><br>continent=Americas<br>country=Puerto Rico<br>year=%{x}<br>lifeExp=%{y}<extra></extra>",
         "hovertext": [
          "Puerto Rico",
          "Puerto Rico",
          "Puerto Rico",
          "Puerto Rico",
          "Puerto Rico",
          "Puerto Rico",
          "Puerto Rico",
          "Puerto Rico",
          "Puerto Rico",
          "Puerto Rico",
          "Puerto Rico",
          "Puerto Rico"
         ],
         "legendgroup": "Americas",
         "line": {
          "color": "#00cc96",
          "dash": "solid"
         },
         "mode": "lines",
         "name": "Americas",
         "showlegend": false,
         "type": "scattergl",
         "x": [
          1952,
          1957,
          1962,
          1967,
          1972,
          1977,
          1982,
          1987,
          1992,
          1997,
          2002,
          2007
         ],
         "xaxis": "x",
         "y": [
          64.28,
          68.54,
          69.62,
          71.1,
          72.16,
          73.44,
          73.75,
          74.63,
          73.911,
          74.917,
          77.778,
          78.74600000000001
         ],
         "yaxis": "y"
        },
        {
         "hovertemplate": "<b>%{hovertext}</b><br><br>continent=Americas<br>country=Trinidad and Tobago<br>year=%{x}<br>lifeExp=%{y}<extra></extra>",
         "hovertext": [
          "Trinidad and Tobago",
          "Trinidad and Tobago",
          "Trinidad and Tobago",
          "Trinidad and Tobago",
          "Trinidad and Tobago",
          "Trinidad and Tobago",
          "Trinidad and Tobago",
          "Trinidad and Tobago",
          "Trinidad and Tobago",
          "Trinidad and Tobago",
          "Trinidad and Tobago",
          "Trinidad and Tobago"
         ],
         "legendgroup": "Americas",
         "line": {
          "color": "#00cc96",
          "dash": "solid"
         },
         "mode": "lines",
         "name": "Americas",
         "showlegend": false,
         "type": "scattergl",
         "x": [
          1952,
          1957,
          1962,
          1967,
          1972,
          1977,
          1982,
          1987,
          1992,
          1997,
          2002,
          2007
         ],
         "xaxis": "x",
         "y": [
          59.1,
          61.8,
          64.9,
          65.4,
          65.9,
          68.3,
          68.832,
          69.582,
          69.862,
          69.465,
          68.976,
          69.819
         ],
         "yaxis": "y"
        },
        {
         "hovertemplate": "<b>%{hovertext}</b><br><br>continent=Americas<br>country=United States<br>year=%{x}<br>lifeExp=%{y}<extra></extra>",
         "hovertext": [
          "United States",
          "United States",
          "United States",
          "United States",
          "United States",
          "United States",
          "United States",
          "United States",
          "United States",
          "United States",
          "United States",
          "United States"
         ],
         "legendgroup": "Americas",
         "line": {
          "color": "#00cc96",
          "dash": "solid"
         },
         "mode": "lines",
         "name": "Americas",
         "showlegend": false,
         "type": "scattergl",
         "x": [
          1952,
          1957,
          1962,
          1967,
          1972,
          1977,
          1982,
          1987,
          1992,
          1997,
          2002,
          2007
         ],
         "xaxis": "x",
         "y": [
          68.44,
          69.49,
          70.21,
          70.76,
          71.34,
          73.38,
          74.65,
          75.02,
          76.09,
          76.81,
          77.31,
          78.242
         ],
         "yaxis": "y"
        },
        {
         "hovertemplate": "<b>%{hovertext}</b><br><br>continent=Americas<br>country=Uruguay<br>year=%{x}<br>lifeExp=%{y}<extra></extra>",
         "hovertext": [
          "Uruguay",
          "Uruguay",
          "Uruguay",
          "Uruguay",
          "Uruguay",
          "Uruguay",
          "Uruguay",
          "Uruguay",
          "Uruguay",
          "Uruguay",
          "Uruguay",
          "Uruguay"
         ],
         "legendgroup": "Americas",
         "line": {
          "color": "#00cc96",
          "dash": "solid"
         },
         "mode": "lines",
         "name": "Americas",
         "showlegend": false,
         "type": "scattergl",
         "x": [
          1952,
          1957,
          1962,
          1967,
          1972,
          1977,
          1982,
          1987,
          1992,
          1997,
          2002,
          2007
         ],
         "xaxis": "x",
         "y": [
          66.071,
          67.044,
          68.253,
          68.468,
          68.673,
          69.48100000000001,
          70.805,
          71.918,
          72.752,
          74.223,
          75.307,
          76.384
         ],
         "yaxis": "y"
        },
        {
         "hovertemplate": "<b>%{hovertext}</b><br><br>continent=Americas<br>country=Venezuela<br>year=%{x}<br>lifeExp=%{y}<extra></extra>",
         "hovertext": [
          "Venezuela",
          "Venezuela",
          "Venezuela",
          "Venezuela",
          "Venezuela",
          "Venezuela",
          "Venezuela",
          "Venezuela",
          "Venezuela",
          "Venezuela",
          "Venezuela",
          "Venezuela"
         ],
         "legendgroup": "Americas",
         "line": {
          "color": "#00cc96",
          "dash": "solid"
         },
         "mode": "lines",
         "name": "Americas",
         "showlegend": false,
         "type": "scattergl",
         "x": [
          1952,
          1957,
          1962,
          1967,
          1972,
          1977,
          1982,
          1987,
          1992,
          1997,
          2002,
          2007
         ],
         "xaxis": "x",
         "y": [
          55.088,
          57.907,
          60.77,
          63.479,
          65.712,
          67.456,
          68.557,
          70.19,
          71.15,
          72.146,
          72.766,
          73.747
         ],
         "yaxis": "y"
        },
        {
         "hovertemplate": "<b>%{hovertext}</b><br><br>continent=Oceania<br>country=Australia<br>year=%{x}<br>lifeExp=%{y}<extra></extra>",
         "hovertext": [
          "Australia",
          "Australia",
          "Australia",
          "Australia",
          "Australia",
          "Australia",
          "Australia",
          "Australia",
          "Australia",
          "Australia",
          "Australia",
          "Australia"
         ],
         "legendgroup": "Oceania",
         "line": {
          "color": "#ab63fa",
          "dash": "solid"
         },
         "mode": "lines",
         "name": "Oceania",
         "showlegend": true,
         "type": "scattergl",
         "x": [
          1952,
          1957,
          1962,
          1967,
          1972,
          1977,
          1982,
          1987,
          1992,
          1997,
          2002,
          2007
         ],
         "xaxis": "x",
         "y": [
          69.12,
          70.33,
          70.93,
          71.1,
          71.93,
          73.49,
          74.74,
          76.32,
          77.56,
          78.83,
          80.37,
          81.235
         ],
         "yaxis": "y"
        },
        {
         "hovertemplate": "<b>%{hovertext}</b><br><br>continent=Oceania<br>country=New Zealand<br>year=%{x}<br>lifeExp=%{y}<extra></extra>",
         "hovertext": [
          "New Zealand",
          "New Zealand",
          "New Zealand",
          "New Zealand",
          "New Zealand",
          "New Zealand",
          "New Zealand",
          "New Zealand",
          "New Zealand",
          "New Zealand",
          "New Zealand",
          "New Zealand"
         ],
         "legendgroup": "Oceania",
         "line": {
          "color": "#ab63fa",
          "dash": "solid"
         },
         "mode": "lines",
         "name": "Oceania",
         "showlegend": false,
         "type": "scattergl",
         "x": [
          1952,
          1957,
          1962,
          1967,
          1972,
          1977,
          1982,
          1987,
          1992,
          1997,
          2002,
          2007
         ],
         "xaxis": "x",
         "y": [
          69.39,
          70.26,
          71.24,
          71.52,
          71.89,
          72.22,
          73.84,
          74.32,
          76.33,
          77.55,
          79.11,
          80.204
         ],
         "yaxis": "y"
        }
       ],
       "layout": {
        "legend": {
         "title": {
          "text": "continent"
         },
         "tracegroupgap": 0
        },
        "margin": {
         "t": 60
        },
        "template": {
         "data": {
          "bar": [
           {
            "error_x": {
             "color": "#2a3f5f"
            },
            "error_y": {
             "color": "#2a3f5f"
            },
            "marker": {
             "line": {
              "color": "#E5ECF6",
              "width": 0.5
             }
            },
            "type": "bar"
           }
          ],
          "barpolar": [
           {
            "marker": {
             "line": {
              "color": "#E5ECF6",
              "width": 0.5
             }
            },
            "type": "barpolar"
           }
          ],
          "carpet": [
           {
            "aaxis": {
             "endlinecolor": "#2a3f5f",
             "gridcolor": "white",
             "linecolor": "white",
             "minorgridcolor": "white",
             "startlinecolor": "#2a3f5f"
            },
            "baxis": {
             "endlinecolor": "#2a3f5f",
             "gridcolor": "white",
             "linecolor": "white",
             "minorgridcolor": "white",
             "startlinecolor": "#2a3f5f"
            },
            "type": "carpet"
           }
          ],
          "choropleth": [
           {
            "colorbar": {
             "outlinewidth": 0,
             "ticks": ""
            },
            "type": "choropleth"
           }
          ],
          "contour": [
           {
            "colorbar": {
             "outlinewidth": 0,
             "ticks": ""
            },
            "colorscale": [
             [
              0,
              "#0d0887"
             ],
             [
              0.1111111111111111,
              "#46039f"
             ],
             [
              0.2222222222222222,
              "#7201a8"
             ],
             [
              0.3333333333333333,
              "#9c179e"
             ],
             [
              0.4444444444444444,
              "#bd3786"
             ],
             [
              0.5555555555555556,
              "#d8576b"
             ],
             [
              0.6666666666666666,
              "#ed7953"
             ],
             [
              0.7777777777777778,
              "#fb9f3a"
             ],
             [
              0.8888888888888888,
              "#fdca26"
             ],
             [
              1,
              "#f0f921"
             ]
            ],
            "type": "contour"
           }
          ],
          "contourcarpet": [
           {
            "colorbar": {
             "outlinewidth": 0,
             "ticks": ""
            },
            "type": "contourcarpet"
           }
          ],
          "heatmap": [
           {
            "colorbar": {
             "outlinewidth": 0,
             "ticks": ""
            },
            "colorscale": [
             [
              0,
              "#0d0887"
             ],
             [
              0.1111111111111111,
              "#46039f"
             ],
             [
              0.2222222222222222,
              "#7201a8"
             ],
             [
              0.3333333333333333,
              "#9c179e"
             ],
             [
              0.4444444444444444,
              "#bd3786"
             ],
             [
              0.5555555555555556,
              "#d8576b"
             ],
             [
              0.6666666666666666,
              "#ed7953"
             ],
             [
              0.7777777777777778,
              "#fb9f3a"
             ],
             [
              0.8888888888888888,
              "#fdca26"
             ],
             [
              1,
              "#f0f921"
             ]
            ],
            "type": "heatmap"
           }
          ],
          "heatmapgl": [
           {
            "colorbar": {
             "outlinewidth": 0,
             "ticks": ""
            },
            "colorscale": [
             [
              0,
              "#0d0887"
             ],
             [
              0.1111111111111111,
              "#46039f"
             ],
             [
              0.2222222222222222,
              "#7201a8"
             ],
             [
              0.3333333333333333,
              "#9c179e"
             ],
             [
              0.4444444444444444,
              "#bd3786"
             ],
             [
              0.5555555555555556,
              "#d8576b"
             ],
             [
              0.6666666666666666,
              "#ed7953"
             ],
             [
              0.7777777777777778,
              "#fb9f3a"
             ],
             [
              0.8888888888888888,
              "#fdca26"
             ],
             [
              1,
              "#f0f921"
             ]
            ],
            "type": "heatmapgl"
           }
          ],
          "histogram": [
           {
            "marker": {
             "colorbar": {
              "outlinewidth": 0,
              "ticks": ""
             }
            },
            "type": "histogram"
           }
          ],
          "histogram2d": [
           {
            "colorbar": {
             "outlinewidth": 0,
             "ticks": ""
            },
            "colorscale": [
             [
              0,
              "#0d0887"
             ],
             [
              0.1111111111111111,
              "#46039f"
             ],
             [
              0.2222222222222222,
              "#7201a8"
             ],
             [
              0.3333333333333333,
              "#9c179e"
             ],
             [
              0.4444444444444444,
              "#bd3786"
             ],
             [
              0.5555555555555556,
              "#d8576b"
             ],
             [
              0.6666666666666666,
              "#ed7953"
             ],
             [
              0.7777777777777778,
              "#fb9f3a"
             ],
             [
              0.8888888888888888,
              "#fdca26"
             ],
             [
              1,
              "#f0f921"
             ]
            ],
            "type": "histogram2d"
           }
          ],
          "histogram2dcontour": [
           {
            "colorbar": {
             "outlinewidth": 0,
             "ticks": ""
            },
            "colorscale": [
             [
              0,
              "#0d0887"
             ],
             [
              0.1111111111111111,
              "#46039f"
             ],
             [
              0.2222222222222222,
              "#7201a8"
             ],
             [
              0.3333333333333333,
              "#9c179e"
             ],
             [
              0.4444444444444444,
              "#bd3786"
             ],
             [
              0.5555555555555556,
              "#d8576b"
             ],
             [
              0.6666666666666666,
              "#ed7953"
             ],
             [
              0.7777777777777778,
              "#fb9f3a"
             ],
             [
              0.8888888888888888,
              "#fdca26"
             ],
             [
              1,
              "#f0f921"
             ]
            ],
            "type": "histogram2dcontour"
           }
          ],
          "mesh3d": [
           {
            "colorbar": {
             "outlinewidth": 0,
             "ticks": ""
            },
            "type": "mesh3d"
           }
          ],
          "parcoords": [
           {
            "line": {
             "colorbar": {
              "outlinewidth": 0,
              "ticks": ""
             }
            },
            "type": "parcoords"
           }
          ],
          "pie": [
           {
            "automargin": true,
            "type": "pie"
           }
          ],
          "scatter": [
           {
            "marker": {
             "colorbar": {
              "outlinewidth": 0,
              "ticks": ""
             }
            },
            "type": "scatter"
           }
          ],
          "scatter3d": [
           {
            "line": {
             "colorbar": {
              "outlinewidth": 0,
              "ticks": ""
             }
            },
            "marker": {
             "colorbar": {
              "outlinewidth": 0,
              "ticks": ""
             }
            },
            "type": "scatter3d"
           }
          ],
          "scattercarpet": [
           {
            "marker": {
             "colorbar": {
              "outlinewidth": 0,
              "ticks": ""
             }
            },
            "type": "scattercarpet"
           }
          ],
          "scattergeo": [
           {
            "marker": {
             "colorbar": {
              "outlinewidth": 0,
              "ticks": ""
             }
            },
            "type": "scattergeo"
           }
          ],
          "scattergl": [
           {
            "marker": {
             "colorbar": {
              "outlinewidth": 0,
              "ticks": ""
             }
            },
            "type": "scattergl"
           }
          ],
          "scattermapbox": [
           {
            "marker": {
             "colorbar": {
              "outlinewidth": 0,
              "ticks": ""
             }
            },
            "type": "scattermapbox"
           }
          ],
          "scatterpolar": [
           {
            "marker": {
             "colorbar": {
              "outlinewidth": 0,
              "ticks": ""
             }
            },
            "type": "scatterpolar"
           }
          ],
          "scatterpolargl": [
           {
            "marker": {
             "colorbar": {
              "outlinewidth": 0,
              "ticks": ""
             }
            },
            "type": "scatterpolargl"
           }
          ],
          "scatterternary": [
           {
            "marker": {
             "colorbar": {
              "outlinewidth": 0,
              "ticks": ""
             }
            },
            "type": "scatterternary"
           }
          ],
          "surface": [
           {
            "colorbar": {
             "outlinewidth": 0,
             "ticks": ""
            },
            "colorscale": [
             [
              0,
              "#0d0887"
             ],
             [
              0.1111111111111111,
              "#46039f"
             ],
             [
              0.2222222222222222,
              "#7201a8"
             ],
             [
              0.3333333333333333,
              "#9c179e"
             ],
             [
              0.4444444444444444,
              "#bd3786"
             ],
             [
              0.5555555555555556,
              "#d8576b"
             ],
             [
              0.6666666666666666,
              "#ed7953"
             ],
             [
              0.7777777777777778,
              "#fb9f3a"
             ],
             [
              0.8888888888888888,
              "#fdca26"
             ],
             [
              1,
              "#f0f921"
             ]
            ],
            "type": "surface"
           }
          ],
          "table": [
           {
            "cells": {
             "fill": {
              "color": "#EBF0F8"
             },
             "line": {
              "color": "white"
             }
            },
            "header": {
             "fill": {
              "color": "#C8D4E3"
             },
             "line": {
              "color": "white"
             }
            },
            "type": "table"
           }
          ]
         },
         "layout": {
          "annotationdefaults": {
           "arrowcolor": "#2a3f5f",
           "arrowhead": 0,
           "arrowwidth": 1
          },
          "coloraxis": {
           "colorbar": {
            "outlinewidth": 0,
            "ticks": ""
           }
          },
          "colorscale": {
           "diverging": [
            [
             0,
             "#8e0152"
            ],
            [
             0.1,
             "#c51b7d"
            ],
            [
             0.2,
             "#de77ae"
            ],
            [
             0.3,
             "#f1b6da"
            ],
            [
             0.4,
             "#fde0ef"
            ],
            [
             0.5,
             "#f7f7f7"
            ],
            [
             0.6,
             "#e6f5d0"
            ],
            [
             0.7,
             "#b8e186"
            ],
            [
             0.8,
             "#7fbc41"
            ],
            [
             0.9,
             "#4d9221"
            ],
            [
             1,
             "#276419"
            ]
           ],
           "sequential": [
            [
             0,
             "#0d0887"
            ],
            [
             0.1111111111111111,
             "#46039f"
            ],
            [
             0.2222222222222222,
             "#7201a8"
            ],
            [
             0.3333333333333333,
             "#9c179e"
            ],
            [
             0.4444444444444444,
             "#bd3786"
            ],
            [
             0.5555555555555556,
             "#d8576b"
            ],
            [
             0.6666666666666666,
             "#ed7953"
            ],
            [
             0.7777777777777778,
             "#fb9f3a"
            ],
            [
             0.8888888888888888,
             "#fdca26"
            ],
            [
             1,
             "#f0f921"
            ]
           ],
           "sequentialminus": [
            [
             0,
             "#0d0887"
            ],
            [
             0.1111111111111111,
             "#46039f"
            ],
            [
             0.2222222222222222,
             "#7201a8"
            ],
            [
             0.3333333333333333,
             "#9c179e"
            ],
            [
             0.4444444444444444,
             "#bd3786"
            ],
            [
             0.5555555555555556,
             "#d8576b"
            ],
            [
             0.6666666666666666,
             "#ed7953"
            ],
            [
             0.7777777777777778,
             "#fb9f3a"
            ],
            [
             0.8888888888888888,
             "#fdca26"
            ],
            [
             1,
             "#f0f921"
            ]
           ]
          },
          "colorway": [
           "#636efa",
           "#EF553B",
           "#00cc96",
           "#ab63fa",
           "#FFA15A",
           "#19d3f3",
           "#FF6692",
           "#B6E880",
           "#FF97FF",
           "#FECB52"
          ],
          "font": {
           "color": "#2a3f5f"
          },
          "geo": {
           "bgcolor": "white",
           "lakecolor": "white",
           "landcolor": "#E5ECF6",
           "showlakes": true,
           "showland": true,
           "subunitcolor": "white"
          },
          "hoverlabel": {
           "align": "left"
          },
          "hovermode": "closest",
          "mapbox": {
           "style": "light"
          },
          "paper_bgcolor": "white",
          "plot_bgcolor": "#E5ECF6",
          "polar": {
           "angularaxis": {
            "gridcolor": "white",
            "linecolor": "white",
            "ticks": ""
           },
           "bgcolor": "#E5ECF6",
           "radialaxis": {
            "gridcolor": "white",
            "linecolor": "white",
            "ticks": ""
           }
          },
          "scene": {
           "xaxis": {
            "backgroundcolor": "#E5ECF6",
            "gridcolor": "white",
            "gridwidth": 2,
            "linecolor": "white",
            "showbackground": true,
            "ticks": "",
            "zerolinecolor": "white"
           },
           "yaxis": {
            "backgroundcolor": "#E5ECF6",
            "gridcolor": "white",
            "gridwidth": 2,
            "linecolor": "white",
            "showbackground": true,
            "ticks": "",
            "zerolinecolor": "white"
           },
           "zaxis": {
            "backgroundcolor": "#E5ECF6",
            "gridcolor": "white",
            "gridwidth": 2,
            "linecolor": "white",
            "showbackground": true,
            "ticks": "",
            "zerolinecolor": "white"
           }
          },
          "shapedefaults": {
           "line": {
            "color": "#2a3f5f"
           }
          },
          "ternary": {
           "aaxis": {
            "gridcolor": "white",
            "linecolor": "white",
            "ticks": ""
           },
           "baxis": {
            "gridcolor": "white",
            "linecolor": "white",
            "ticks": ""
           },
           "bgcolor": "#E5ECF6",
           "caxis": {
            "gridcolor": "white",
            "linecolor": "white",
            "ticks": ""
           }
          },
          "title": {
           "x": 0.05
          },
          "xaxis": {
           "automargin": true,
           "gridcolor": "white",
           "linecolor": "white",
           "ticks": "",
           "title": {
            "standoff": 15
           },
           "zerolinecolor": "white",
           "zerolinewidth": 2
          },
          "yaxis": {
           "automargin": true,
           "gridcolor": "white",
           "linecolor": "white",
           "ticks": "",
           "title": {
            "standoff": 15
           },
           "zerolinecolor": "white",
           "zerolinewidth": 2
          }
         }
        },
        "xaxis": {
         "anchor": "y",
         "domain": [
          0,
          1
         ],
         "title": {
          "text": "year"
         }
        },
        "yaxis": {
         "anchor": "x",
         "domain": [
          0,
          1
         ],
         "title": {
          "text": "lifeExp"
         }
        }
       }
      },
      "text/html": [
       "<div>\n",
       "        \n",
       "        \n",
       "            <div id=\"52474a51-4708-4881-b3aa-2b924b5354ee\" class=\"plotly-graph-div\" style=\"height:525px; width:100%;\"></div>\n",
       "            <script type=\"text/javascript\">\n",
       "                require([\"plotly\"], function(Plotly) {\n",
       "                    window.PLOTLYENV=window.PLOTLYENV || {};\n",
       "                    \n",
       "                if (document.getElementById(\"52474a51-4708-4881-b3aa-2b924b5354ee\")) {\n",
       "                    Plotly.newPlot(\n",
       "                        '52474a51-4708-4881-b3aa-2b924b5354ee',\n",
       "                        [{\"hovertemplate\": \"<b>%{hovertext}</b><br><br>continent=Europe<br>country=Albania<br>year=%{x}<br>lifeExp=%{y}<extra></extra>\", \"hovertext\": [\"Albania\", \"Albania\", \"Albania\", \"Albania\", \"Albania\", \"Albania\", \"Albania\", \"Albania\", \"Albania\", \"Albania\", \"Albania\", \"Albania\"], \"legendgroup\": \"Europe\", \"line\": {\"color\": \"#636efa\", \"dash\": \"solid\"}, \"mode\": \"lines\", \"name\": \"Europe\", \"showlegend\": true, \"type\": \"scattergl\", \"x\": [1952, 1957, 1962, 1967, 1972, 1977, 1982, 1987, 1992, 1997, 2002, 2007], \"xaxis\": \"x\", \"y\": [55.23, 59.28, 64.82, 66.22, 67.69, 68.93, 70.42, 72.0, 71.581, 72.95, 75.65100000000001, 76.423], \"yaxis\": \"y\"}, {\"hovertemplate\": \"<b>%{hovertext}</b><br><br>continent=Europe<br>country=Austria<br>year=%{x}<br>lifeExp=%{y}<extra></extra>\", \"hovertext\": [\"Austria\", \"Austria\", \"Austria\", \"Austria\", \"Austria\", \"Austria\", \"Austria\", \"Austria\", \"Austria\", \"Austria\", \"Austria\", \"Austria\"], \"legendgroup\": \"Europe\", \"line\": {\"color\": \"#636efa\", \"dash\": \"solid\"}, \"mode\": \"lines\", \"name\": \"Europe\", \"showlegend\": false, \"type\": \"scattergl\", \"x\": [1952, 1957, 1962, 1967, 1972, 1977, 1982, 1987, 1992, 1997, 2002, 2007], \"xaxis\": \"x\", \"y\": [66.8, 67.48, 69.54, 70.14, 70.63, 72.17, 73.18, 74.94, 76.04, 77.51, 78.98, 79.829], \"yaxis\": \"y\"}, {\"hovertemplate\": \"<b>%{hovertext}</b><br><br>continent=Europe<br>country=Belgium<br>year=%{x}<br>lifeExp=%{y}<extra></extra>\", \"hovertext\": [\"Belgium\", \"Belgium\", \"Belgium\", \"Belgium\", \"Belgium\", \"Belgium\", \"Belgium\", \"Belgium\", \"Belgium\", \"Belgium\", \"Belgium\", \"Belgium\"], \"legendgroup\": \"Europe\", \"line\": {\"color\": \"#636efa\", \"dash\": \"solid\"}, \"mode\": \"lines\", \"name\": \"Europe\", \"showlegend\": false, \"type\": \"scattergl\", \"x\": [1952, 1957, 1962, 1967, 1972, 1977, 1982, 1987, 1992, 1997, 2002, 2007], \"xaxis\": \"x\", \"y\": [68.0, 69.24, 70.25, 70.94, 71.44, 72.8, 73.93, 75.35, 76.46, 77.53, 78.32, 79.441], \"yaxis\": \"y\"}, {\"hovertemplate\": \"<b>%{hovertext}</b><br><br>continent=Europe<br>country=Bosnia and Herzegovina<br>year=%{x}<br>lifeExp=%{y}<extra></extra>\", \"hovertext\": [\"Bosnia and Herzegovina\", \"Bosnia and Herzegovina\", \"Bosnia and Herzegovina\", \"Bosnia and Herzegovina\", \"Bosnia and Herzegovina\", \"Bosnia and Herzegovina\", \"Bosnia and Herzegovina\", \"Bosnia and Herzegovina\", \"Bosnia and Herzegovina\", \"Bosnia and Herzegovina\", \"Bosnia and Herzegovina\", \"Bosnia and Herzegovina\"], \"legendgroup\": \"Europe\", \"line\": {\"color\": \"#636efa\", \"dash\": \"solid\"}, \"mode\": \"lines\", \"name\": \"Europe\", \"showlegend\": false, \"type\": \"scattergl\", \"x\": [1952, 1957, 1962, 1967, 1972, 1977, 1982, 1987, 1992, 1997, 2002, 2007], \"xaxis\": \"x\", \"y\": [53.82, 58.45, 61.93, 64.79, 67.45, 69.86, 70.69, 71.14, 72.178, 73.244, 74.09, 74.852], \"yaxis\": \"y\"}, {\"hovertemplate\": \"<b>%{hovertext}</b><br><br>continent=Europe<br>country=Bulgaria<br>year=%{x}<br>lifeExp=%{y}<extra></extra>\", \"hovertext\": [\"Bulgaria\", \"Bulgaria\", \"Bulgaria\", \"Bulgaria\", \"Bulgaria\", \"Bulgaria\", \"Bulgaria\", \"Bulgaria\", \"Bulgaria\", \"Bulgaria\", \"Bulgaria\", \"Bulgaria\"], \"legendgroup\": \"Europe\", \"line\": {\"color\": \"#636efa\", \"dash\": \"solid\"}, \"mode\": \"lines\", \"name\": \"Europe\", \"showlegend\": false, \"type\": \"scattergl\", \"x\": [1952, 1957, 1962, 1967, 1972, 1977, 1982, 1987, 1992, 1997, 2002, 2007], \"xaxis\": \"x\", \"y\": [59.6, 66.61, 69.51, 70.42, 70.9, 70.81, 71.08, 71.34, 71.19, 70.32, 72.14, 73.005], \"yaxis\": \"y\"}, {\"hovertemplate\": \"<b>%{hovertext}</b><br><br>continent=Europe<br>country=Croatia<br>year=%{x}<br>lifeExp=%{y}<extra></extra>\", \"hovertext\": [\"Croatia\", \"Croatia\", \"Croatia\", \"Croatia\", \"Croatia\", \"Croatia\", \"Croatia\", \"Croatia\", \"Croatia\", \"Croatia\", \"Croatia\", \"Croatia\"], \"legendgroup\": \"Europe\", \"line\": {\"color\": \"#636efa\", \"dash\": \"solid\"}, \"mode\": \"lines\", \"name\": \"Europe\", \"showlegend\": false, \"type\": \"scattergl\", \"x\": [1952, 1957, 1962, 1967, 1972, 1977, 1982, 1987, 1992, 1997, 2002, 2007], \"xaxis\": \"x\", \"y\": [61.21, 64.77, 67.13, 68.5, 69.61, 70.64, 70.46, 71.52, 72.527, 73.68, 74.876, 75.748], \"yaxis\": \"y\"}, {\"hovertemplate\": \"<b>%{hovertext}</b><br><br>continent=Europe<br>country=Czech Republic<br>year=%{x}<br>lifeExp=%{y}<extra></extra>\", \"hovertext\": [\"Czech Republic\", \"Czech Republic\", \"Czech Republic\", \"Czech Republic\", \"Czech Republic\", \"Czech Republic\", \"Czech Republic\", \"Czech Republic\", \"Czech Republic\", \"Czech Republic\", \"Czech Republic\", \"Czech Republic\"], \"legendgroup\": \"Europe\", \"line\": {\"color\": \"#636efa\", \"dash\": \"solid\"}, \"mode\": \"lines\", \"name\": \"Europe\", \"showlegend\": false, \"type\": \"scattergl\", \"x\": [1952, 1957, 1962, 1967, 1972, 1977, 1982, 1987, 1992, 1997, 2002, 2007], \"xaxis\": \"x\", \"y\": [66.87, 69.03, 69.9, 70.38, 70.29, 70.71, 70.96, 71.58, 72.4, 74.01, 75.51, 76.486], \"yaxis\": \"y\"}, {\"hovertemplate\": \"<b>%{hovertext}</b><br><br>continent=Europe<br>country=Denmark<br>year=%{x}<br>lifeExp=%{y}<extra></extra>\", \"hovertext\": [\"Denmark\", \"Denmark\", \"Denmark\", \"Denmark\", \"Denmark\", \"Denmark\", \"Denmark\", \"Denmark\", \"Denmark\", \"Denmark\", \"Denmark\", \"Denmark\"], \"legendgroup\": \"Europe\", \"line\": {\"color\": \"#636efa\", \"dash\": \"solid\"}, \"mode\": \"lines\", \"name\": \"Europe\", \"showlegend\": false, \"type\": \"scattergl\", \"x\": [1952, 1957, 1962, 1967, 1972, 1977, 1982, 1987, 1992, 1997, 2002, 2007], \"xaxis\": \"x\", \"y\": [70.78, 71.81, 72.35, 72.96, 73.47, 74.69, 74.63, 74.8, 75.33, 76.11, 77.18, 78.332], \"yaxis\": \"y\"}, {\"hovertemplate\": \"<b>%{hovertext}</b><br><br>continent=Europe<br>country=Finland<br>year=%{x}<br>lifeExp=%{y}<extra></extra>\", \"hovertext\": [\"Finland\", \"Finland\", \"Finland\", \"Finland\", \"Finland\", \"Finland\", \"Finland\", \"Finland\", \"Finland\", \"Finland\", \"Finland\", \"Finland\"], \"legendgroup\": \"Europe\", \"line\": {\"color\": \"#636efa\", \"dash\": \"solid\"}, \"mode\": \"lines\", \"name\": \"Europe\", \"showlegend\": false, \"type\": \"scattergl\", \"x\": [1952, 1957, 1962, 1967, 1972, 1977, 1982, 1987, 1992, 1997, 2002, 2007], \"xaxis\": \"x\", \"y\": [66.55, 67.49, 68.75, 69.83, 70.87, 72.52, 74.55, 74.83, 75.7, 77.13, 78.37, 79.313], \"yaxis\": \"y\"}, {\"hovertemplate\": \"<b>%{hovertext}</b><br><br>continent=Europe<br>country=France<br>year=%{x}<br>lifeExp=%{y}<extra></extra>\", \"hovertext\": [\"France\", \"France\", \"France\", \"France\", \"France\", \"France\", \"France\", \"France\", \"France\", \"France\", \"France\", \"France\"], \"legendgroup\": \"Europe\", \"line\": {\"color\": \"#636efa\", \"dash\": \"solid\"}, \"mode\": \"lines\", \"name\": \"Europe\", \"showlegend\": false, \"type\": \"scattergl\", \"x\": [1952, 1957, 1962, 1967, 1972, 1977, 1982, 1987, 1992, 1997, 2002, 2007], \"xaxis\": \"x\", \"y\": [67.41, 68.93, 70.51, 71.55, 72.38, 73.83, 74.89, 76.34, 77.46, 78.64, 79.59, 80.657], \"yaxis\": \"y\"}, {\"hovertemplate\": \"<b>%{hovertext}</b><br><br>continent=Europe<br>country=Germany<br>year=%{x}<br>lifeExp=%{y}<extra></extra>\", \"hovertext\": [\"Germany\", \"Germany\", \"Germany\", \"Germany\", \"Germany\", \"Germany\", \"Germany\", \"Germany\", \"Germany\", \"Germany\", \"Germany\", \"Germany\"], \"legendgroup\": \"Europe\", \"line\": {\"color\": \"#636efa\", \"dash\": \"solid\"}, \"mode\": \"lines\", \"name\": \"Europe\", \"showlegend\": false, \"type\": \"scattergl\", \"x\": [1952, 1957, 1962, 1967, 1972, 1977, 1982, 1987, 1992, 1997, 2002, 2007], \"xaxis\": \"x\", \"y\": [67.5, 69.1, 70.3, 70.8, 71.0, 72.5, 73.8, 74.847, 76.07, 77.34, 78.67, 79.406], \"yaxis\": \"y\"}, {\"hovertemplate\": \"<b>%{hovertext}</b><br><br>continent=Europe<br>country=Greece<br>year=%{x}<br>lifeExp=%{y}<extra></extra>\", \"hovertext\": [\"Greece\", \"Greece\", \"Greece\", \"Greece\", \"Greece\", \"Greece\", \"Greece\", \"Greece\", \"Greece\", \"Greece\", \"Greece\", \"Greece\"], \"legendgroup\": \"Europe\", \"line\": {\"color\": \"#636efa\", \"dash\": \"solid\"}, \"mode\": \"lines\", \"name\": \"Europe\", \"showlegend\": false, \"type\": \"scattergl\", \"x\": [1952, 1957, 1962, 1967, 1972, 1977, 1982, 1987, 1992, 1997, 2002, 2007], \"xaxis\": \"x\", \"y\": [65.86, 67.86, 69.51, 71.0, 72.34, 73.68, 75.24, 76.67, 77.03, 77.869, 78.256, 79.483], \"yaxis\": \"y\"}, {\"hovertemplate\": \"<b>%{hovertext}</b><br><br>continent=Europe<br>country=Hungary<br>year=%{x}<br>lifeExp=%{y}<extra></extra>\", \"hovertext\": [\"Hungary\", \"Hungary\", \"Hungary\", \"Hungary\", \"Hungary\", \"Hungary\", \"Hungary\", \"Hungary\", \"Hungary\", \"Hungary\", \"Hungary\", \"Hungary\"], \"legendgroup\": \"Europe\", \"line\": {\"color\": \"#636efa\", \"dash\": \"solid\"}, \"mode\": \"lines\", \"name\": \"Europe\", \"showlegend\": false, \"type\": \"scattergl\", \"x\": [1952, 1957, 1962, 1967, 1972, 1977, 1982, 1987, 1992, 1997, 2002, 2007], \"xaxis\": \"x\", \"y\": [64.03, 66.41, 67.96, 69.5, 69.76, 69.95, 69.39, 69.58, 69.17, 71.04, 72.59, 73.33800000000001], \"yaxis\": \"y\"}, {\"hovertemplate\": \"<b>%{hovertext}</b><br><br>continent=Europe<br>country=Iceland<br>year=%{x}<br>lifeExp=%{y}<extra></extra>\", \"hovertext\": [\"Iceland\", \"Iceland\", \"Iceland\", \"Iceland\", \"Iceland\", \"Iceland\", \"Iceland\", \"Iceland\", \"Iceland\", \"Iceland\", \"Iceland\", \"Iceland\"], \"legendgroup\": \"Europe\", \"line\": {\"color\": \"#636efa\", \"dash\": \"solid\"}, \"mode\": \"lines\", \"name\": \"Europe\", \"showlegend\": false, \"type\": \"scattergl\", \"x\": [1952, 1957, 1962, 1967, 1972, 1977, 1982, 1987, 1992, 1997, 2002, 2007], \"xaxis\": \"x\", \"y\": [72.49, 73.47, 73.68, 73.73, 74.46, 76.11, 76.99, 77.23, 78.77, 78.95, 80.5, 81.757], \"yaxis\": \"y\"}, {\"hovertemplate\": \"<b>%{hovertext}</b><br><br>continent=Europe<br>country=Ireland<br>year=%{x}<br>lifeExp=%{y}<extra></extra>\", \"hovertext\": [\"Ireland\", \"Ireland\", \"Ireland\", \"Ireland\", \"Ireland\", \"Ireland\", \"Ireland\", \"Ireland\", \"Ireland\", \"Ireland\", \"Ireland\", \"Ireland\"], \"legendgroup\": \"Europe\", \"line\": {\"color\": \"#636efa\", \"dash\": \"solid\"}, \"mode\": \"lines\", \"name\": \"Europe\", \"showlegend\": false, \"type\": \"scattergl\", \"x\": [1952, 1957, 1962, 1967, 1972, 1977, 1982, 1987, 1992, 1997, 2002, 2007], \"xaxis\": \"x\", \"y\": [66.91, 68.9, 70.29, 71.08, 71.28, 72.03, 73.1, 74.36, 75.467, 76.122, 77.783, 78.885], \"yaxis\": \"y\"}, {\"hovertemplate\": \"<b>%{hovertext}</b><br><br>continent=Europe<br>country=Italy<br>year=%{x}<br>lifeExp=%{y}<extra></extra>\", \"hovertext\": [\"Italy\", \"Italy\", \"Italy\", \"Italy\", \"Italy\", \"Italy\", \"Italy\", \"Italy\", \"Italy\", \"Italy\", \"Italy\", \"Italy\"], \"legendgroup\": \"Europe\", \"line\": {\"color\": \"#636efa\", \"dash\": \"solid\"}, \"mode\": \"lines\", \"name\": \"Europe\", \"showlegend\": false, \"type\": \"scattergl\", \"x\": [1952, 1957, 1962, 1967, 1972, 1977, 1982, 1987, 1992, 1997, 2002, 2007], \"xaxis\": \"x\", \"y\": [65.94, 67.81, 69.24, 71.06, 72.19, 73.48, 74.98, 76.42, 77.44, 78.82, 80.24, 80.546], \"yaxis\": \"y\"}, {\"hovertemplate\": \"<b>%{hovertext}</b><br><br>continent=Europe<br>country=Montenegro<br>year=%{x}<br>lifeExp=%{y}<extra></extra>\", \"hovertext\": [\"Montenegro\", \"Montenegro\", \"Montenegro\", \"Montenegro\", \"Montenegro\", \"Montenegro\", \"Montenegro\", \"Montenegro\", \"Montenegro\", \"Montenegro\", \"Montenegro\", \"Montenegro\"], \"legendgroup\": \"Europe\", \"line\": {\"color\": \"#636efa\", \"dash\": \"solid\"}, \"mode\": \"lines\", \"name\": \"Europe\", \"showlegend\": false, \"type\": \"scattergl\", \"x\": [1952, 1957, 1962, 1967, 1972, 1977, 1982, 1987, 1992, 1997, 2002, 2007], \"xaxis\": \"x\", \"y\": [59.163999999999994, 61.448, 63.728, 67.178, 70.63600000000001, 73.066, 74.101, 74.865, 75.435, 75.445, 73.98100000000001, 74.543], \"yaxis\": \"y\"}, {\"hovertemplate\": \"<b>%{hovertext}</b><br><br>continent=Europe<br>country=Netherlands<br>year=%{x}<br>lifeExp=%{y}<extra></extra>\", \"hovertext\": [\"Netherlands\", \"Netherlands\", \"Netherlands\", \"Netherlands\", \"Netherlands\", \"Netherlands\", \"Netherlands\", \"Netherlands\", \"Netherlands\", \"Netherlands\", \"Netherlands\", \"Netherlands\"], \"legendgroup\": \"Europe\", \"line\": {\"color\": \"#636efa\", \"dash\": \"solid\"}, \"mode\": \"lines\", \"name\": \"Europe\", \"showlegend\": false, \"type\": \"scattergl\", \"x\": [1952, 1957, 1962, 1967, 1972, 1977, 1982, 1987, 1992, 1997, 2002, 2007], \"xaxis\": \"x\", \"y\": [72.13, 72.99, 73.23, 73.82, 73.75, 75.24, 76.05, 76.83, 77.42, 78.03, 78.53, 79.762], \"yaxis\": \"y\"}, {\"hovertemplate\": \"<b>%{hovertext}</b><br><br>continent=Europe<br>country=Norway<br>year=%{x}<br>lifeExp=%{y}<extra></extra>\", \"hovertext\": [\"Norway\", \"Norway\", \"Norway\", \"Norway\", \"Norway\", \"Norway\", \"Norway\", \"Norway\", \"Norway\", \"Norway\", \"Norway\", \"Norway\"], \"legendgroup\": \"Europe\", \"line\": {\"color\": \"#636efa\", \"dash\": \"solid\"}, \"mode\": \"lines\", \"name\": \"Europe\", \"showlegend\": false, \"type\": \"scattergl\", \"x\": [1952, 1957, 1962, 1967, 1972, 1977, 1982, 1987, 1992, 1997, 2002, 2007], \"xaxis\": \"x\", \"y\": [72.67, 73.44, 73.47, 74.08, 74.34, 75.37, 75.97, 75.89, 77.32, 78.32, 79.05, 80.196], \"yaxis\": \"y\"}, {\"hovertemplate\": \"<b>%{hovertext}</b><br><br>continent=Europe<br>country=Poland<br>year=%{x}<br>lifeExp=%{y}<extra></extra>\", \"hovertext\": [\"Poland\", \"Poland\", \"Poland\", \"Poland\", \"Poland\", \"Poland\", \"Poland\", \"Poland\", \"Poland\", \"Poland\", \"Poland\", \"Poland\"], \"legendgroup\": \"Europe\", \"line\": {\"color\": \"#636efa\", \"dash\": \"solid\"}, \"mode\": \"lines\", \"name\": \"Europe\", \"showlegend\": false, \"type\": \"scattergl\", \"x\": [1952, 1957, 1962, 1967, 1972, 1977, 1982, 1987, 1992, 1997, 2002, 2007], \"xaxis\": \"x\", \"y\": [61.31, 65.77, 67.64, 69.61, 70.85, 70.67, 71.32, 70.98, 70.99, 72.75, 74.67, 75.563], \"yaxis\": \"y\"}, {\"hovertemplate\": \"<b>%{hovertext}</b><br><br>continent=Europe<br>country=Portugal<br>year=%{x}<br>lifeExp=%{y}<extra></extra>\", \"hovertext\": [\"Portugal\", \"Portugal\", \"Portugal\", \"Portugal\", \"Portugal\", \"Portugal\", \"Portugal\", \"Portugal\", \"Portugal\", \"Portugal\", \"Portugal\", \"Portugal\"], \"legendgroup\": \"Europe\", \"line\": {\"color\": \"#636efa\", \"dash\": \"solid\"}, \"mode\": \"lines\", \"name\": \"Europe\", \"showlegend\": false, \"type\": \"scattergl\", \"x\": [1952, 1957, 1962, 1967, 1972, 1977, 1982, 1987, 1992, 1997, 2002, 2007], \"xaxis\": \"x\", \"y\": [59.82, 61.51, 64.39, 66.6, 69.26, 70.41, 72.77, 74.06, 74.86, 75.97, 77.29, 78.098], \"yaxis\": \"y\"}, {\"hovertemplate\": \"<b>%{hovertext}</b><br><br>continent=Europe<br>country=Romania<br>year=%{x}<br>lifeExp=%{y}<extra></extra>\", \"hovertext\": [\"Romania\", \"Romania\", \"Romania\", \"Romania\", \"Romania\", \"Romania\", \"Romania\", \"Romania\", \"Romania\", \"Romania\", \"Romania\", \"Romania\"], \"legendgroup\": \"Europe\", \"line\": {\"color\": \"#636efa\", \"dash\": \"solid\"}, \"mode\": \"lines\", \"name\": \"Europe\", \"showlegend\": false, \"type\": \"scattergl\", \"x\": [1952, 1957, 1962, 1967, 1972, 1977, 1982, 1987, 1992, 1997, 2002, 2007], \"xaxis\": \"x\", \"y\": [61.05, 64.1, 66.8, 66.8, 69.21, 69.46, 69.66, 69.53, 69.36, 69.72, 71.322, 72.476], \"yaxis\": \"y\"}, {\"hovertemplate\": \"<b>%{hovertext}</b><br><br>continent=Europe<br>country=Serbia<br>year=%{x}<br>lifeExp=%{y}<extra></extra>\", \"hovertext\": [\"Serbia\", \"Serbia\", \"Serbia\", \"Serbia\", \"Serbia\", \"Serbia\", \"Serbia\", \"Serbia\", \"Serbia\", \"Serbia\", \"Serbia\", \"Serbia\"], \"legendgroup\": \"Europe\", \"line\": {\"color\": \"#636efa\", \"dash\": \"solid\"}, \"mode\": \"lines\", \"name\": \"Europe\", \"showlegend\": false, \"type\": \"scattergl\", \"x\": [1952, 1957, 1962, 1967, 1972, 1977, 1982, 1987, 1992, 1997, 2002, 2007], \"xaxis\": \"x\", \"y\": [57.996, 61.685, 64.531, 66.914, 68.7, 70.3, 70.16199999999999, 71.218, 71.65899999999999, 72.232, 73.21300000000001, 74.002], \"yaxis\": \"y\"}, {\"hovertemplate\": \"<b>%{hovertext}</b><br><br>continent=Europe<br>country=Slovak Republic<br>year=%{x}<br>lifeExp=%{y}<extra></extra>\", \"hovertext\": [\"Slovak Republic\", \"Slovak Republic\", \"Slovak Republic\", \"Slovak Republic\", \"Slovak Republic\", \"Slovak Republic\", \"Slovak Republic\", \"Slovak Republic\", \"Slovak Republic\", \"Slovak Republic\", \"Slovak Republic\", \"Slovak Republic\"], \"legendgroup\": \"Europe\", \"line\": {\"color\": \"#636efa\", \"dash\": \"solid\"}, \"mode\": \"lines\", \"name\": \"Europe\", \"showlegend\": false, \"type\": \"scattergl\", \"x\": [1952, 1957, 1962, 1967, 1972, 1977, 1982, 1987, 1992, 1997, 2002, 2007], \"xaxis\": \"x\", \"y\": [64.36, 67.45, 70.33, 70.98, 70.35, 70.45, 70.8, 71.08, 71.38, 72.71, 73.8, 74.663], \"yaxis\": \"y\"}, {\"hovertemplate\": \"<b>%{hovertext}</b><br><br>continent=Europe<br>country=Slovenia<br>year=%{x}<br>lifeExp=%{y}<extra></extra>\", \"hovertext\": [\"Slovenia\", \"Slovenia\", \"Slovenia\", \"Slovenia\", \"Slovenia\", \"Slovenia\", \"Slovenia\", \"Slovenia\", \"Slovenia\", \"Slovenia\", \"Slovenia\", \"Slovenia\"], \"legendgroup\": \"Europe\", \"line\": {\"color\": \"#636efa\", \"dash\": \"solid\"}, \"mode\": \"lines\", \"name\": \"Europe\", \"showlegend\": false, \"type\": \"scattergl\", \"x\": [1952, 1957, 1962, 1967, 1972, 1977, 1982, 1987, 1992, 1997, 2002, 2007], \"xaxis\": \"x\", \"y\": [65.57, 67.85, 69.15, 69.18, 69.82, 70.97, 71.063, 72.25, 73.64, 75.13, 76.66, 77.926], \"yaxis\": \"y\"}, {\"hovertemplate\": \"<b>%{hovertext}</b><br><br>continent=Europe<br>country=Spain<br>year=%{x}<br>lifeExp=%{y}<extra></extra>\", \"hovertext\": [\"Spain\", \"Spain\", \"Spain\", \"Spain\", \"Spain\", \"Spain\", \"Spain\", \"Spain\", \"Spain\", \"Spain\", \"Spain\", \"Spain\"], \"legendgroup\": \"Europe\", \"line\": {\"color\": \"#636efa\", \"dash\": \"solid\"}, \"mode\": \"lines\", \"name\": \"Europe\", \"showlegend\": false, \"type\": \"scattergl\", \"x\": [1952, 1957, 1962, 1967, 1972, 1977, 1982, 1987, 1992, 1997, 2002, 2007], \"xaxis\": \"x\", \"y\": [64.94, 66.66, 69.69, 71.44, 73.06, 74.39, 76.3, 76.9, 77.57, 78.77, 79.78, 80.941], \"yaxis\": \"y\"}, {\"hovertemplate\": \"<b>%{hovertext}</b><br><br>continent=Europe<br>country=Sweden<br>year=%{x}<br>lifeExp=%{y}<extra></extra>\", \"hovertext\": [\"Sweden\", \"Sweden\", \"Sweden\", \"Sweden\", \"Sweden\", \"Sweden\", \"Sweden\", \"Sweden\", \"Sweden\", \"Sweden\", \"Sweden\", \"Sweden\"], \"legendgroup\": \"Europe\", \"line\": {\"color\": \"#636efa\", \"dash\": \"solid\"}, \"mode\": \"lines\", \"name\": \"Europe\", \"showlegend\": false, \"type\": \"scattergl\", \"x\": [1952, 1957, 1962, 1967, 1972, 1977, 1982, 1987, 1992, 1997, 2002, 2007], \"xaxis\": \"x\", \"y\": [71.86, 72.49, 73.37, 74.16, 74.72, 75.44, 76.42, 77.19, 78.16, 79.39, 80.04, 80.884], \"yaxis\": \"y\"}, {\"hovertemplate\": \"<b>%{hovertext}</b><br><br>continent=Europe<br>country=Switzerland<br>year=%{x}<br>lifeExp=%{y}<extra></extra>\", \"hovertext\": [\"Switzerland\", \"Switzerland\", \"Switzerland\", \"Switzerland\", \"Switzerland\", \"Switzerland\", \"Switzerland\", \"Switzerland\", \"Switzerland\", \"Switzerland\", \"Switzerland\", \"Switzerland\"], \"legendgroup\": \"Europe\", \"line\": {\"color\": \"#636efa\", \"dash\": \"solid\"}, \"mode\": \"lines\", \"name\": \"Europe\", \"showlegend\": false, \"type\": \"scattergl\", \"x\": [1952, 1957, 1962, 1967, 1972, 1977, 1982, 1987, 1992, 1997, 2002, 2007], \"xaxis\": \"x\", \"y\": [69.62, 70.56, 71.32, 72.77, 73.78, 75.39, 76.21, 77.41, 78.03, 79.37, 80.62, 81.70100000000001], \"yaxis\": \"y\"}, {\"hovertemplate\": \"<b>%{hovertext}</b><br><br>continent=Europe<br>country=Turkey<br>year=%{x}<br>lifeExp=%{y}<extra></extra>\", \"hovertext\": [\"Turkey\", \"Turkey\", \"Turkey\", \"Turkey\", \"Turkey\", \"Turkey\", \"Turkey\", \"Turkey\", \"Turkey\", \"Turkey\", \"Turkey\", \"Turkey\"], \"legendgroup\": \"Europe\", \"line\": {\"color\": \"#636efa\", \"dash\": \"solid\"}, \"mode\": \"lines\", \"name\": \"Europe\", \"showlegend\": false, \"type\": \"scattergl\", \"x\": [1952, 1957, 1962, 1967, 1972, 1977, 1982, 1987, 1992, 1997, 2002, 2007], \"xaxis\": \"x\", \"y\": [43.585, 48.07899999999999, 52.098, 54.336000000000006, 57.005, 59.507, 61.036, 63.108000000000004, 66.146, 68.835, 70.845, 71.777], \"yaxis\": \"y\"}, {\"hovertemplate\": \"<b>%{hovertext}</b><br><br>continent=Europe<br>country=United Kingdom<br>year=%{x}<br>lifeExp=%{y}<extra></extra>\", \"hovertext\": [\"United Kingdom\", \"United Kingdom\", \"United Kingdom\", \"United Kingdom\", \"United Kingdom\", \"United Kingdom\", \"United Kingdom\", \"United Kingdom\", \"United Kingdom\", \"United Kingdom\", \"United Kingdom\", \"United Kingdom\"], \"legendgroup\": \"Europe\", \"line\": {\"color\": \"#636efa\", \"dash\": \"solid\"}, \"mode\": \"lines\", \"name\": \"Europe\", \"showlegend\": false, \"type\": \"scattergl\", \"x\": [1952, 1957, 1962, 1967, 1972, 1977, 1982, 1987, 1992, 1997, 2002, 2007], \"xaxis\": \"x\", \"y\": [69.18, 70.42, 70.76, 71.36, 72.01, 72.76, 74.04, 75.007, 76.42, 77.218, 78.471, 79.425], \"yaxis\": \"y\"}, {\"hovertemplate\": \"<b>%{hovertext}</b><br><br>continent=Africa<br>country=Algeria<br>year=%{x}<br>lifeExp=%{y}<extra></extra>\", \"hovertext\": [\"Algeria\", \"Algeria\", \"Algeria\", \"Algeria\", \"Algeria\", \"Algeria\", \"Algeria\", \"Algeria\", \"Algeria\", \"Algeria\", \"Algeria\", \"Algeria\"], \"legendgroup\": \"Africa\", \"line\": {\"color\": \"#EF553B\", \"dash\": \"solid\"}, \"mode\": \"lines\", \"name\": \"Africa\", \"showlegend\": true, \"type\": \"scattergl\", \"x\": [1952, 1957, 1962, 1967, 1972, 1977, 1982, 1987, 1992, 1997, 2002, 2007], \"xaxis\": \"x\", \"y\": [43.077, 45.685, 48.303000000000004, 51.407, 54.518, 58.013999999999996, 61.368, 65.79899999999999, 67.744, 69.152, 70.994, 72.301], \"yaxis\": \"y\"}, {\"hovertemplate\": \"<b>%{hovertext}</b><br><br>continent=Africa<br>country=Angola<br>year=%{x}<br>lifeExp=%{y}<extra></extra>\", \"hovertext\": [\"Angola\", \"Angola\", \"Angola\", \"Angola\", \"Angola\", \"Angola\", \"Angola\", \"Angola\", \"Angola\", \"Angola\", \"Angola\", \"Angola\"], \"legendgroup\": \"Africa\", \"line\": {\"color\": \"#EF553B\", \"dash\": \"solid\"}, \"mode\": \"lines\", \"name\": \"Africa\", \"showlegend\": false, \"type\": \"scattergl\", \"x\": [1952, 1957, 1962, 1967, 1972, 1977, 1982, 1987, 1992, 1997, 2002, 2007], \"xaxis\": \"x\", \"y\": [30.015, 31.999000000000002, 34.0, 35.985, 37.928000000000004, 39.483000000000004, 39.942, 39.906, 40.647, 40.963, 41.003, 42.731], \"yaxis\": \"y\"}, {\"hovertemplate\": \"<b>%{hovertext}</b><br><br>continent=Africa<br>country=Benin<br>year=%{x}<br>lifeExp=%{y}<extra></extra>\", \"hovertext\": [\"Benin\", \"Benin\", \"Benin\", \"Benin\", \"Benin\", \"Benin\", \"Benin\", \"Benin\", \"Benin\", \"Benin\", \"Benin\", \"Benin\"], \"legendgroup\": \"Africa\", \"line\": {\"color\": \"#EF553B\", \"dash\": \"solid\"}, \"mode\": \"lines\", \"name\": \"Africa\", \"showlegend\": false, \"type\": \"scattergl\", \"x\": [1952, 1957, 1962, 1967, 1972, 1977, 1982, 1987, 1992, 1997, 2002, 2007], \"xaxis\": \"x\", \"y\": [38.223, 40.358000000000004, 42.618, 44.885, 47.013999999999996, 49.19, 50.903999999999996, 52.336999999999996, 53.919, 54.777, 54.406000000000006, 56.728], \"yaxis\": \"y\"}, {\"hovertemplate\": \"<b>%{hovertext}</b><br><br>continent=Africa<br>country=Botswana<br>year=%{x}<br>lifeExp=%{y}<extra></extra>\", \"hovertext\": [\"Botswana\", \"Botswana\", \"Botswana\", \"Botswana\", \"Botswana\", \"Botswana\", \"Botswana\", \"Botswana\", \"Botswana\", \"Botswana\", \"Botswana\", \"Botswana\"], \"legendgroup\": \"Africa\", \"line\": {\"color\": \"#EF553B\", \"dash\": \"solid\"}, \"mode\": \"lines\", \"name\": \"Africa\", \"showlegend\": false, \"type\": \"scattergl\", \"x\": [1952, 1957, 1962, 1967, 1972, 1977, 1982, 1987, 1992, 1997, 2002, 2007], \"xaxis\": \"x\", \"y\": [47.622, 49.618, 51.52, 53.298, 56.023999999999994, 59.318999999999996, 61.483999999999995, 63.622, 62.745, 52.556000000000004, 46.63399999999999, 50.728], \"yaxis\": \"y\"}, {\"hovertemplate\": \"<b>%{hovertext}</b><br><br>continent=Africa<br>country=Burkina Faso<br>year=%{x}<br>lifeExp=%{y}<extra></extra>\", \"hovertext\": [\"Burkina Faso\", \"Burkina Faso\", \"Burkina Faso\", \"Burkina Faso\", \"Burkina Faso\", \"Burkina Faso\", \"Burkina Faso\", \"Burkina Faso\", \"Burkina Faso\", \"Burkina Faso\", \"Burkina Faso\", \"Burkina Faso\"], \"legendgroup\": \"Africa\", \"line\": {\"color\": \"#EF553B\", \"dash\": \"solid\"}, \"mode\": \"lines\", \"name\": \"Africa\", \"showlegend\": false, \"type\": \"scattergl\", \"x\": [1952, 1957, 1962, 1967, 1972, 1977, 1982, 1987, 1992, 1997, 2002, 2007], \"xaxis\": \"x\", \"y\": [31.975, 34.906, 37.814, 40.696999999999996, 43.591, 46.137, 48.122, 49.556999999999995, 50.26, 50.324, 50.65, 52.295], \"yaxis\": \"y\"}, {\"hovertemplate\": \"<b>%{hovertext}</b><br><br>continent=Africa<br>country=Burundi<br>year=%{x}<br>lifeExp=%{y}<extra></extra>\", \"hovertext\": [\"Burundi\", \"Burundi\", \"Burundi\", \"Burundi\", \"Burundi\", \"Burundi\", \"Burundi\", \"Burundi\", \"Burundi\", \"Burundi\", \"Burundi\", \"Burundi\"], \"legendgroup\": \"Africa\", \"line\": {\"color\": \"#EF553B\", \"dash\": \"solid\"}, \"mode\": \"lines\", \"name\": \"Africa\", \"showlegend\": false, \"type\": \"scattergl\", \"x\": [1952, 1957, 1962, 1967, 1972, 1977, 1982, 1987, 1992, 1997, 2002, 2007], \"xaxis\": \"x\", \"y\": [39.031, 40.533, 42.045, 43.548, 44.056999999999995, 45.91, 47.471000000000004, 48.211000000000006, 44.736000000000004, 45.326, 47.36, 49.58], \"yaxis\": \"y\"}, {\"hovertemplate\": \"<b>%{hovertext}</b><br><br>continent=Africa<br>country=Cameroon<br>year=%{x}<br>lifeExp=%{y}<extra></extra>\", \"hovertext\": [\"Cameroon\", \"Cameroon\", \"Cameroon\", \"Cameroon\", \"Cameroon\", \"Cameroon\", \"Cameroon\", \"Cameroon\", \"Cameroon\", \"Cameroon\", \"Cameroon\", \"Cameroon\"], \"legendgroup\": \"Africa\", \"line\": {\"color\": \"#EF553B\", \"dash\": \"solid\"}, \"mode\": \"lines\", \"name\": \"Africa\", \"showlegend\": false, \"type\": \"scattergl\", \"x\": [1952, 1957, 1962, 1967, 1972, 1977, 1982, 1987, 1992, 1997, 2002, 2007], \"xaxis\": \"x\", \"y\": [38.523, 40.428000000000004, 42.643, 44.799, 47.049, 49.355, 52.961000000000006, 54.985, 54.31399999999999, 52.199, 49.856, 50.43], \"yaxis\": \"y\"}, {\"hovertemplate\": \"<b>%{hovertext}</b><br><br>continent=Africa<br>country=Central African Republic<br>year=%{x}<br>lifeExp=%{y}<extra></extra>\", \"hovertext\": [\"Central African Republic\", \"Central African Republic\", \"Central African Republic\", \"Central African Republic\", \"Central African Republic\", \"Central African Republic\", \"Central African Republic\", \"Central African Republic\", \"Central African Republic\", \"Central African Republic\", \"Central African Republic\", \"Central African Republic\"], \"legendgroup\": \"Africa\", \"line\": {\"color\": \"#EF553B\", \"dash\": \"solid\"}, \"mode\": \"lines\", \"name\": \"Africa\", \"showlegend\": false, \"type\": \"scattergl\", \"x\": [1952, 1957, 1962, 1967, 1972, 1977, 1982, 1987, 1992, 1997, 2002, 2007], \"xaxis\": \"x\", \"y\": [35.463, 37.464, 39.475, 41.478, 43.457, 46.775, 48.295, 50.485, 49.396, 46.066, 43.308, 44.74100000000001], \"yaxis\": \"y\"}, {\"hovertemplate\": \"<b>%{hovertext}</b><br><br>continent=Africa<br>country=Chad<br>year=%{x}<br>lifeExp=%{y}<extra></extra>\", \"hovertext\": [\"Chad\", \"Chad\", \"Chad\", \"Chad\", \"Chad\", \"Chad\", \"Chad\", \"Chad\", \"Chad\", \"Chad\", \"Chad\", \"Chad\"], \"legendgroup\": \"Africa\", \"line\": {\"color\": \"#EF553B\", \"dash\": \"solid\"}, \"mode\": \"lines\", \"name\": \"Africa\", \"showlegend\": false, \"type\": \"scattergl\", \"x\": [1952, 1957, 1962, 1967, 1972, 1977, 1982, 1987, 1992, 1997, 2002, 2007], \"xaxis\": \"x\", \"y\": [38.092, 39.881, 41.716, 43.601000000000006, 45.568999999999996, 47.383, 49.516999999999996, 51.051, 51.724, 51.573, 50.525, 50.651], \"yaxis\": \"y\"}, {\"hovertemplate\": \"<b>%{hovertext}</b><br><br>continent=Africa<br>country=Comoros<br>year=%{x}<br>lifeExp=%{y}<extra></extra>\", \"hovertext\": [\"Comoros\", \"Comoros\", \"Comoros\", \"Comoros\", \"Comoros\", \"Comoros\", \"Comoros\", \"Comoros\", \"Comoros\", \"Comoros\", \"Comoros\", \"Comoros\"], \"legendgroup\": \"Africa\", \"line\": {\"color\": \"#EF553B\", \"dash\": \"solid\"}, \"mode\": \"lines\", \"name\": \"Africa\", \"showlegend\": false, \"type\": \"scattergl\", \"x\": [1952, 1957, 1962, 1967, 1972, 1977, 1982, 1987, 1992, 1997, 2002, 2007], \"xaxis\": \"x\", \"y\": [40.715, 42.46, 44.467, 46.472, 48.943999999999996, 50.93899999999999, 52.933, 54.926, 57.93899999999999, 60.66, 62.974, 65.152], \"yaxis\": \"y\"}, {\"hovertemplate\": \"<b>%{hovertext}</b><br><br>continent=Africa<br>country=Congo, Dem. Rep.<br>year=%{x}<br>lifeExp=%{y}<extra></extra>\", \"hovertext\": [\"Congo, Dem. Rep.\", \"Congo, Dem. Rep.\", \"Congo, Dem. Rep.\", \"Congo, Dem. Rep.\", \"Congo, Dem. Rep.\", \"Congo, Dem. Rep.\", \"Congo, Dem. Rep.\", \"Congo, Dem. Rep.\", \"Congo, Dem. Rep.\", \"Congo, Dem. Rep.\", \"Congo, Dem. Rep.\", \"Congo, Dem. Rep.\"], \"legendgroup\": \"Africa\", \"line\": {\"color\": \"#EF553B\", \"dash\": \"solid\"}, \"mode\": \"lines\", \"name\": \"Africa\", \"showlegend\": false, \"type\": \"scattergl\", \"x\": [1952, 1957, 1962, 1967, 1972, 1977, 1982, 1987, 1992, 1997, 2002, 2007], \"xaxis\": \"x\", \"y\": [39.143, 40.652, 42.122, 44.056000000000004, 45.989, 47.803999999999995, 47.784, 47.412, 45.548, 42.586999999999996, 44.966, 46.461999999999996], \"yaxis\": \"y\"}, {\"hovertemplate\": \"<b>%{hovertext}</b><br><br>continent=Africa<br>country=Congo, Rep.<br>year=%{x}<br>lifeExp=%{y}<extra></extra>\", \"hovertext\": [\"Congo, Rep.\", \"Congo, Rep.\", \"Congo, Rep.\", \"Congo, Rep.\", \"Congo, Rep.\", \"Congo, Rep.\", \"Congo, Rep.\", \"Congo, Rep.\", \"Congo, Rep.\", \"Congo, Rep.\", \"Congo, Rep.\", \"Congo, Rep.\"], \"legendgroup\": \"Africa\", \"line\": {\"color\": \"#EF553B\", \"dash\": \"solid\"}, \"mode\": \"lines\", \"name\": \"Africa\", \"showlegend\": false, \"type\": \"scattergl\", \"x\": [1952, 1957, 1962, 1967, 1972, 1977, 1982, 1987, 1992, 1997, 2002, 2007], \"xaxis\": \"x\", \"y\": [42.111000000000004, 45.053000000000004, 48.435, 52.04, 54.907, 55.625, 56.695, 57.47, 56.433, 52.961999999999996, 52.97, 55.321999999999996], \"yaxis\": \"y\"}, {\"hovertemplate\": \"<b>%{hovertext}</b><br><br>continent=Africa<br>country=Cote d'Ivoire<br>year=%{x}<br>lifeExp=%{y}<extra></extra>\", \"hovertext\": [\"Cote d'Ivoire\", \"Cote d'Ivoire\", \"Cote d'Ivoire\", \"Cote d'Ivoire\", \"Cote d'Ivoire\", \"Cote d'Ivoire\", \"Cote d'Ivoire\", \"Cote d'Ivoire\", \"Cote d'Ivoire\", \"Cote d'Ivoire\", \"Cote d'Ivoire\", \"Cote d'Ivoire\"], \"legendgroup\": \"Africa\", \"line\": {\"color\": \"#EF553B\", \"dash\": \"solid\"}, \"mode\": \"lines\", \"name\": \"Africa\", \"showlegend\": false, \"type\": \"scattergl\", \"x\": [1952, 1957, 1962, 1967, 1972, 1977, 1982, 1987, 1992, 1997, 2002, 2007], \"xaxis\": \"x\", \"y\": [40.477, 42.468999999999994, 44.93, 47.35, 49.801, 52.373999999999995, 53.983000000000004, 54.655, 52.044, 47.99100000000001, 46.832, 48.328], \"yaxis\": \"y\"}, {\"hovertemplate\": \"<b>%{hovertext}</b><br><br>continent=Africa<br>country=Djibouti<br>year=%{x}<br>lifeExp=%{y}<extra></extra>\", \"hovertext\": [\"Djibouti\", \"Djibouti\", \"Djibouti\", \"Djibouti\", \"Djibouti\", \"Djibouti\", \"Djibouti\", \"Djibouti\", \"Djibouti\", \"Djibouti\", \"Djibouti\", \"Djibouti\"], \"legendgroup\": \"Africa\", \"line\": {\"color\": \"#EF553B\", \"dash\": \"solid\"}, \"mode\": \"lines\", \"name\": \"Africa\", \"showlegend\": false, \"type\": \"scattergl\", \"x\": [1952, 1957, 1962, 1967, 1972, 1977, 1982, 1987, 1992, 1997, 2002, 2007], \"xaxis\": \"x\", \"y\": [34.812, 37.328, 39.693000000000005, 42.074, 44.36600000000001, 46.519, 48.812, 50.04, 51.604, 53.157, 53.373000000000005, 54.791000000000004], \"yaxis\": \"y\"}, {\"hovertemplate\": \"<b>%{hovertext}</b><br><br>continent=Africa<br>country=Egypt<br>year=%{x}<br>lifeExp=%{y}<extra></extra>\", \"hovertext\": [\"Egypt\", \"Egypt\", \"Egypt\", \"Egypt\", \"Egypt\", \"Egypt\", \"Egypt\", \"Egypt\", \"Egypt\", \"Egypt\", \"Egypt\", \"Egypt\"], \"legendgroup\": \"Africa\", \"line\": {\"color\": \"#EF553B\", \"dash\": \"solid\"}, \"mode\": \"lines\", \"name\": \"Africa\", \"showlegend\": false, \"type\": \"scattergl\", \"x\": [1952, 1957, 1962, 1967, 1972, 1977, 1982, 1987, 1992, 1997, 2002, 2007], \"xaxis\": \"x\", \"y\": [41.893, 44.443999999999996, 46.992, 49.293, 51.137, 53.318999999999996, 56.006, 59.797, 63.674, 67.217, 69.806, 71.33800000000001], \"yaxis\": \"y\"}, {\"hovertemplate\": \"<b>%{hovertext}</b><br><br>continent=Africa<br>country=Equatorial Guinea<br>year=%{x}<br>lifeExp=%{y}<extra></extra>\", \"hovertext\": [\"Equatorial Guinea\", \"Equatorial Guinea\", \"Equatorial Guinea\", \"Equatorial Guinea\", \"Equatorial Guinea\", \"Equatorial Guinea\", \"Equatorial Guinea\", \"Equatorial Guinea\", \"Equatorial Guinea\", \"Equatorial Guinea\", \"Equatorial Guinea\", \"Equatorial Guinea\"], \"legendgroup\": \"Africa\", \"line\": {\"color\": \"#EF553B\", \"dash\": \"solid\"}, \"mode\": \"lines\", \"name\": \"Africa\", \"showlegend\": false, \"type\": \"scattergl\", \"x\": [1952, 1957, 1962, 1967, 1972, 1977, 1982, 1987, 1992, 1997, 2002, 2007], \"xaxis\": \"x\", \"y\": [34.482, 35.983000000000004, 37.485, 38.986999999999995, 40.516, 42.023999999999994, 43.662, 45.663999999999994, 47.545, 48.245, 49.348, 51.57899999999999], \"yaxis\": \"y\"}, {\"hovertemplate\": \"<b>%{hovertext}</b><br><br>continent=Africa<br>country=Eritrea<br>year=%{x}<br>lifeExp=%{y}<extra></extra>\", \"hovertext\": [\"Eritrea\", \"Eritrea\", \"Eritrea\", \"Eritrea\", \"Eritrea\", \"Eritrea\", \"Eritrea\", \"Eritrea\", \"Eritrea\", \"Eritrea\", \"Eritrea\", \"Eritrea\"], \"legendgroup\": \"Africa\", \"line\": {\"color\": \"#EF553B\", \"dash\": \"solid\"}, \"mode\": \"lines\", \"name\": \"Africa\", \"showlegend\": false, \"type\": \"scattergl\", \"x\": [1952, 1957, 1962, 1967, 1972, 1977, 1982, 1987, 1992, 1997, 2002, 2007], \"xaxis\": \"x\", \"y\": [35.928000000000004, 38.047, 40.158, 42.18899999999999, 44.141999999999996, 44.535, 43.89, 46.453, 49.99100000000001, 53.378, 55.24, 58.04], \"yaxis\": \"y\"}, {\"hovertemplate\": \"<b>%{hovertext}</b><br><br>continent=Africa<br>country=Ethiopia<br>year=%{x}<br>lifeExp=%{y}<extra></extra>\", \"hovertext\": [\"Ethiopia\", \"Ethiopia\", \"Ethiopia\", \"Ethiopia\", \"Ethiopia\", \"Ethiopia\", \"Ethiopia\", \"Ethiopia\", \"Ethiopia\", \"Ethiopia\", \"Ethiopia\", \"Ethiopia\"], \"legendgroup\": \"Africa\", \"line\": {\"color\": \"#EF553B\", \"dash\": \"solid\"}, \"mode\": \"lines\", \"name\": \"Africa\", \"showlegend\": false, \"type\": \"scattergl\", \"x\": [1952, 1957, 1962, 1967, 1972, 1977, 1982, 1987, 1992, 1997, 2002, 2007], \"xaxis\": \"x\", \"y\": [34.078, 36.667, 40.059, 42.115, 43.515, 44.51, 44.916000000000004, 46.684, 48.091, 49.402, 50.725, 52.946999999999996], \"yaxis\": \"y\"}, {\"hovertemplate\": \"<b>%{hovertext}</b><br><br>continent=Africa<br>country=Gabon<br>year=%{x}<br>lifeExp=%{y}<extra></extra>\", \"hovertext\": [\"Gabon\", \"Gabon\", \"Gabon\", \"Gabon\", \"Gabon\", \"Gabon\", \"Gabon\", \"Gabon\", \"Gabon\", \"Gabon\", \"Gabon\", \"Gabon\"], \"legendgroup\": \"Africa\", \"line\": {\"color\": \"#EF553B\", \"dash\": \"solid\"}, \"mode\": \"lines\", \"name\": \"Africa\", \"showlegend\": false, \"type\": \"scattergl\", \"x\": [1952, 1957, 1962, 1967, 1972, 1977, 1982, 1987, 1992, 1997, 2002, 2007], \"xaxis\": \"x\", \"y\": [37.003, 38.999, 40.489000000000004, 44.598, 48.69, 52.79, 56.56399999999999, 60.19, 61.36600000000001, 60.461000000000006, 56.761, 56.735], \"yaxis\": \"y\"}, {\"hovertemplate\": \"<b>%{hovertext}</b><br><br>continent=Africa<br>country=Gambia<br>year=%{x}<br>lifeExp=%{y}<extra></extra>\", \"hovertext\": [\"Gambia\", \"Gambia\", \"Gambia\", \"Gambia\", \"Gambia\", \"Gambia\", \"Gambia\", \"Gambia\", \"Gambia\", \"Gambia\", \"Gambia\", \"Gambia\"], \"legendgroup\": \"Africa\", \"line\": {\"color\": \"#EF553B\", \"dash\": \"solid\"}, \"mode\": \"lines\", \"name\": \"Africa\", \"showlegend\": false, \"type\": \"scattergl\", \"x\": [1952, 1957, 1962, 1967, 1972, 1977, 1982, 1987, 1992, 1997, 2002, 2007], \"xaxis\": \"x\", \"y\": [30.0, 32.065, 33.896, 35.857, 38.308, 41.842, 45.58, 49.265, 52.644, 55.861000000000004, 58.041000000000004, 59.448], \"yaxis\": \"y\"}, {\"hovertemplate\": \"<b>%{hovertext}</b><br><br>continent=Africa<br>country=Ghana<br>year=%{x}<br>lifeExp=%{y}<extra></extra>\", \"hovertext\": [\"Ghana\", \"Ghana\", \"Ghana\", \"Ghana\", \"Ghana\", \"Ghana\", \"Ghana\", \"Ghana\", \"Ghana\", \"Ghana\", \"Ghana\", \"Ghana\"], \"legendgroup\": \"Africa\", \"line\": {\"color\": \"#EF553B\", \"dash\": \"solid\"}, \"mode\": \"lines\", \"name\": \"Africa\", \"showlegend\": false, \"type\": \"scattergl\", \"x\": [1952, 1957, 1962, 1967, 1972, 1977, 1982, 1987, 1992, 1997, 2002, 2007], \"xaxis\": \"x\", \"y\": [43.148999999999994, 44.778999999999996, 46.452, 48.071999999999996, 49.875, 51.756, 53.744, 55.729, 57.501000000000005, 58.556000000000004, 58.453, 60.022], \"yaxis\": \"y\"}, {\"hovertemplate\": \"<b>%{hovertext}</b><br><br>continent=Africa<br>country=Guinea<br>year=%{x}<br>lifeExp=%{y}<extra></extra>\", \"hovertext\": [\"Guinea\", \"Guinea\", \"Guinea\", \"Guinea\", \"Guinea\", \"Guinea\", \"Guinea\", \"Guinea\", \"Guinea\", \"Guinea\", \"Guinea\", \"Guinea\"], \"legendgroup\": \"Africa\", \"line\": {\"color\": \"#EF553B\", \"dash\": \"solid\"}, \"mode\": \"lines\", \"name\": \"Africa\", \"showlegend\": false, \"type\": \"scattergl\", \"x\": [1952, 1957, 1962, 1967, 1972, 1977, 1982, 1987, 1992, 1997, 2002, 2007], \"xaxis\": \"x\", \"y\": [33.609, 34.558, 35.753, 37.196999999999996, 38.842, 40.762, 42.891000000000005, 45.552, 48.576, 51.455, 53.676, 56.007], \"yaxis\": \"y\"}, {\"hovertemplate\": \"<b>%{hovertext}</b><br><br>continent=Africa<br>country=Guinea-Bissau<br>year=%{x}<br>lifeExp=%{y}<extra></extra>\", \"hovertext\": [\"Guinea-Bissau\", \"Guinea-Bissau\", \"Guinea-Bissau\", \"Guinea-Bissau\", \"Guinea-Bissau\", \"Guinea-Bissau\", \"Guinea-Bissau\", \"Guinea-Bissau\", \"Guinea-Bissau\", \"Guinea-Bissau\", \"Guinea-Bissau\", \"Guinea-Bissau\"], \"legendgroup\": \"Africa\", \"line\": {\"color\": \"#EF553B\", \"dash\": \"solid\"}, \"mode\": \"lines\", \"name\": \"Africa\", \"showlegend\": false, \"type\": \"scattergl\", \"x\": [1952, 1957, 1962, 1967, 1972, 1977, 1982, 1987, 1992, 1997, 2002, 2007], \"xaxis\": \"x\", \"y\": [32.5, 33.489000000000004, 34.488, 35.492, 36.486, 37.465, 39.327, 41.245, 43.266000000000005, 44.873000000000005, 45.504, 46.388000000000005], \"yaxis\": \"y\"}, {\"hovertemplate\": \"<b>%{hovertext}</b><br><br>continent=Africa<br>country=Kenya<br>year=%{x}<br>lifeExp=%{y}<extra></extra>\", \"hovertext\": [\"Kenya\", \"Kenya\", \"Kenya\", \"Kenya\", \"Kenya\", \"Kenya\", \"Kenya\", \"Kenya\", \"Kenya\", \"Kenya\", \"Kenya\", \"Kenya\"], \"legendgroup\": \"Africa\", \"line\": {\"color\": \"#EF553B\", \"dash\": \"solid\"}, \"mode\": \"lines\", \"name\": \"Africa\", \"showlegend\": false, \"type\": \"scattergl\", \"x\": [1952, 1957, 1962, 1967, 1972, 1977, 1982, 1987, 1992, 1997, 2002, 2007], \"xaxis\": \"x\", \"y\": [42.27, 44.68600000000001, 47.949, 50.653999999999996, 53.559, 56.155, 58.766000000000005, 59.339, 59.285, 54.407, 50.992, 54.11], \"yaxis\": \"y\"}, {\"hovertemplate\": \"<b>%{hovertext}</b><br><br>continent=Africa<br>country=Lesotho<br>year=%{x}<br>lifeExp=%{y}<extra></extra>\", \"hovertext\": [\"Lesotho\", \"Lesotho\", \"Lesotho\", \"Lesotho\", \"Lesotho\", \"Lesotho\", \"Lesotho\", \"Lesotho\", \"Lesotho\", \"Lesotho\", \"Lesotho\", \"Lesotho\"], \"legendgroup\": \"Africa\", \"line\": {\"color\": \"#EF553B\", \"dash\": \"solid\"}, \"mode\": \"lines\", \"name\": \"Africa\", \"showlegend\": false, \"type\": \"scattergl\", \"x\": [1952, 1957, 1962, 1967, 1972, 1977, 1982, 1987, 1992, 1997, 2002, 2007], \"xaxis\": \"x\", \"y\": [42.138000000000005, 45.047, 47.747, 48.492, 49.766999999999996, 52.208, 55.078, 57.18, 59.685, 55.558, 44.593, 42.592], \"yaxis\": \"y\"}, {\"hovertemplate\": \"<b>%{hovertext}</b><br><br>continent=Africa<br>country=Liberia<br>year=%{x}<br>lifeExp=%{y}<extra></extra>\", \"hovertext\": [\"Liberia\", \"Liberia\", \"Liberia\", \"Liberia\", \"Liberia\", \"Liberia\", \"Liberia\", \"Liberia\", \"Liberia\", \"Liberia\", \"Liberia\", \"Liberia\"], \"legendgroup\": \"Africa\", \"line\": {\"color\": \"#EF553B\", \"dash\": \"solid\"}, \"mode\": \"lines\", \"name\": \"Africa\", \"showlegend\": false, \"type\": \"scattergl\", \"x\": [1952, 1957, 1962, 1967, 1972, 1977, 1982, 1987, 1992, 1997, 2002, 2007], \"xaxis\": \"x\", \"y\": [38.48, 39.486, 40.501999999999995, 41.536, 42.614, 43.763999999999996, 44.852, 46.027, 40.802, 42.221000000000004, 43.753, 45.678000000000004], \"yaxis\": \"y\"}, {\"hovertemplate\": \"<b>%{hovertext}</b><br><br>continent=Africa<br>country=Libya<br>year=%{x}<br>lifeExp=%{y}<extra></extra>\", \"hovertext\": [\"Libya\", \"Libya\", \"Libya\", \"Libya\", \"Libya\", \"Libya\", \"Libya\", \"Libya\", \"Libya\", \"Libya\", \"Libya\", \"Libya\"], \"legendgroup\": \"Africa\", \"line\": {\"color\": \"#EF553B\", \"dash\": \"solid\"}, \"mode\": \"lines\", \"name\": \"Africa\", \"showlegend\": false, \"type\": \"scattergl\", \"x\": [1952, 1957, 1962, 1967, 1972, 1977, 1982, 1987, 1992, 1997, 2002, 2007], \"xaxis\": \"x\", \"y\": [42.723, 45.288999999999994, 47.808, 50.227, 52.773, 57.442, 62.155, 66.234, 68.755, 71.555, 72.737, 73.952], \"yaxis\": \"y\"}, {\"hovertemplate\": \"<b>%{hovertext}</b><br><br>continent=Africa<br>country=Madagascar<br>year=%{x}<br>lifeExp=%{y}<extra></extra>\", \"hovertext\": [\"Madagascar\", \"Madagascar\", \"Madagascar\", \"Madagascar\", \"Madagascar\", \"Madagascar\", \"Madagascar\", \"Madagascar\", \"Madagascar\", \"Madagascar\", \"Madagascar\", \"Madagascar\"], \"legendgroup\": \"Africa\", \"line\": {\"color\": \"#EF553B\", \"dash\": \"solid\"}, \"mode\": \"lines\", \"name\": \"Africa\", \"showlegend\": false, \"type\": \"scattergl\", \"x\": [1952, 1957, 1962, 1967, 1972, 1977, 1982, 1987, 1992, 1997, 2002, 2007], \"xaxis\": \"x\", \"y\": [36.681, 38.865, 40.848, 42.881, 44.851000000000006, 46.881, 48.968999999999994, 49.35, 52.214, 54.978, 57.286, 59.443000000000005], \"yaxis\": \"y\"}, {\"hovertemplate\": \"<b>%{hovertext}</b><br><br>continent=Africa<br>country=Malawi<br>year=%{x}<br>lifeExp=%{y}<extra></extra>\", \"hovertext\": [\"Malawi\", \"Malawi\", \"Malawi\", \"Malawi\", \"Malawi\", \"Malawi\", \"Malawi\", \"Malawi\", \"Malawi\", \"Malawi\", \"Malawi\", \"Malawi\"], \"legendgroup\": \"Africa\", \"line\": {\"color\": \"#EF553B\", \"dash\": \"solid\"}, \"mode\": \"lines\", \"name\": \"Africa\", \"showlegend\": false, \"type\": \"scattergl\", \"x\": [1952, 1957, 1962, 1967, 1972, 1977, 1982, 1987, 1992, 1997, 2002, 2007], \"xaxis\": \"x\", \"y\": [36.256, 37.207, 38.41, 39.486999999999995, 41.766000000000005, 43.766999999999996, 45.641999999999996, 47.457, 49.42, 47.495, 45.00899999999999, 48.303000000000004], \"yaxis\": \"y\"}, {\"hovertemplate\": \"<b>%{hovertext}</b><br><br>continent=Africa<br>country=Mali<br>year=%{x}<br>lifeExp=%{y}<extra></extra>\", \"hovertext\": [\"Mali\", \"Mali\", \"Mali\", \"Mali\", \"Mali\", \"Mali\", \"Mali\", \"Mali\", \"Mali\", \"Mali\", \"Mali\", \"Mali\"], \"legendgroup\": \"Africa\", \"line\": {\"color\": \"#EF553B\", \"dash\": \"solid\"}, \"mode\": \"lines\", \"name\": \"Africa\", \"showlegend\": false, \"type\": \"scattergl\", \"x\": [1952, 1957, 1962, 1967, 1972, 1977, 1982, 1987, 1992, 1997, 2002, 2007], \"xaxis\": \"x\", \"y\": [33.685, 35.306999999999995, 36.936, 38.486999999999995, 39.977, 41.714, 43.916000000000004, 46.364, 48.388000000000005, 49.903, 51.818000000000005, 54.467], \"yaxis\": \"y\"}, {\"hovertemplate\": \"<b>%{hovertext}</b><br><br>continent=Africa<br>country=Mauritania<br>year=%{x}<br>lifeExp=%{y}<extra></extra>\", \"hovertext\": [\"Mauritania\", \"Mauritania\", \"Mauritania\", \"Mauritania\", \"Mauritania\", \"Mauritania\", \"Mauritania\", \"Mauritania\", \"Mauritania\", \"Mauritania\", \"Mauritania\", \"Mauritania\"], \"legendgroup\": \"Africa\", \"line\": {\"color\": \"#EF553B\", \"dash\": \"solid\"}, \"mode\": \"lines\", \"name\": \"Africa\", \"showlegend\": false, \"type\": \"scattergl\", \"x\": [1952, 1957, 1962, 1967, 1972, 1977, 1982, 1987, 1992, 1997, 2002, 2007], \"xaxis\": \"x\", \"y\": [40.543, 42.338, 44.248000000000005, 46.288999999999994, 48.437, 50.852, 53.599, 56.145, 58.333, 60.43, 62.247, 64.164], \"yaxis\": \"y\"}, {\"hovertemplate\": \"<b>%{hovertext}</b><br><br>continent=Africa<br>country=Mauritius<br>year=%{x}<br>lifeExp=%{y}<extra></extra>\", \"hovertext\": [\"Mauritius\", \"Mauritius\", \"Mauritius\", \"Mauritius\", \"Mauritius\", \"Mauritius\", \"Mauritius\", \"Mauritius\", \"Mauritius\", \"Mauritius\", \"Mauritius\", \"Mauritius\"], \"legendgroup\": \"Africa\", \"line\": {\"color\": \"#EF553B\", \"dash\": \"solid\"}, \"mode\": \"lines\", \"name\": \"Africa\", \"showlegend\": false, \"type\": \"scattergl\", \"x\": [1952, 1957, 1962, 1967, 1972, 1977, 1982, 1987, 1992, 1997, 2002, 2007], \"xaxis\": \"x\", \"y\": [50.986000000000004, 58.089, 60.246, 61.556999999999995, 62.943999999999996, 64.93, 66.711, 68.74, 69.745, 70.736, 71.954, 72.801], \"yaxis\": \"y\"}, {\"hovertemplate\": \"<b>%{hovertext}</b><br><br>continent=Africa<br>country=Morocco<br>year=%{x}<br>lifeExp=%{y}<extra></extra>\", \"hovertext\": [\"Morocco\", \"Morocco\", \"Morocco\", \"Morocco\", \"Morocco\", \"Morocco\", \"Morocco\", \"Morocco\", \"Morocco\", \"Morocco\", \"Morocco\", \"Morocco\"], \"legendgroup\": \"Africa\", \"line\": {\"color\": \"#EF553B\", \"dash\": \"solid\"}, \"mode\": \"lines\", \"name\": \"Africa\", \"showlegend\": false, \"type\": \"scattergl\", \"x\": [1952, 1957, 1962, 1967, 1972, 1977, 1982, 1987, 1992, 1997, 2002, 2007], \"xaxis\": \"x\", \"y\": [42.873000000000005, 45.423, 47.924, 50.335, 52.861999999999995, 55.73, 59.65, 62.677, 65.393, 67.66, 69.615, 71.164], \"yaxis\": \"y\"}, {\"hovertemplate\": \"<b>%{hovertext}</b><br><br>continent=Africa<br>country=Mozambique<br>year=%{x}<br>lifeExp=%{y}<extra></extra>\", \"hovertext\": [\"Mozambique\", \"Mozambique\", \"Mozambique\", \"Mozambique\", \"Mozambique\", \"Mozambique\", \"Mozambique\", \"Mozambique\", \"Mozambique\", \"Mozambique\", \"Mozambique\", \"Mozambique\"], \"legendgroup\": \"Africa\", \"line\": {\"color\": \"#EF553B\", \"dash\": \"solid\"}, \"mode\": \"lines\", \"name\": \"Africa\", \"showlegend\": false, \"type\": \"scattergl\", \"x\": [1952, 1957, 1962, 1967, 1972, 1977, 1982, 1987, 1992, 1997, 2002, 2007], \"xaxis\": \"x\", \"y\": [31.285999999999998, 33.779, 36.161, 38.113, 40.328, 42.495, 42.795, 42.861000000000004, 44.284, 46.343999999999994, 44.026, 42.082], \"yaxis\": \"y\"}, {\"hovertemplate\": \"<b>%{hovertext}</b><br><br>continent=Africa<br>country=Namibia<br>year=%{x}<br>lifeExp=%{y}<extra></extra>\", \"hovertext\": [\"Namibia\", \"Namibia\", \"Namibia\", \"Namibia\", \"Namibia\", \"Namibia\", \"Namibia\", \"Namibia\", \"Namibia\", \"Namibia\", \"Namibia\", \"Namibia\"], \"legendgroup\": \"Africa\", \"line\": {\"color\": \"#EF553B\", \"dash\": \"solid\"}, \"mode\": \"lines\", \"name\": \"Africa\", \"showlegend\": false, \"type\": \"scattergl\", \"x\": [1952, 1957, 1962, 1967, 1972, 1977, 1982, 1987, 1992, 1997, 2002, 2007], \"xaxis\": \"x\", \"y\": [41.725, 45.226000000000006, 48.386, 51.159, 53.867, 56.437, 58.968, 60.835, 61.998999999999995, 58.909, 51.479, 52.906000000000006], \"yaxis\": \"y\"}, {\"hovertemplate\": \"<b>%{hovertext}</b><br><br>continent=Africa<br>country=Niger<br>year=%{x}<br>lifeExp=%{y}<extra></extra>\", \"hovertext\": [\"Niger\", \"Niger\", \"Niger\", \"Niger\", \"Niger\", \"Niger\", \"Niger\", \"Niger\", \"Niger\", \"Niger\", \"Niger\", \"Niger\"], \"legendgroup\": \"Africa\", \"line\": {\"color\": \"#EF553B\", \"dash\": \"solid\"}, \"mode\": \"lines\", \"name\": \"Africa\", \"showlegend\": false, \"type\": \"scattergl\", \"x\": [1952, 1957, 1962, 1967, 1972, 1977, 1982, 1987, 1992, 1997, 2002, 2007], \"xaxis\": \"x\", \"y\": [37.444, 38.598, 39.486999999999995, 40.118, 40.546, 41.291000000000004, 42.598, 44.555, 47.391000000000005, 51.313, 54.496, 56.867], \"yaxis\": \"y\"}, {\"hovertemplate\": \"<b>%{hovertext}</b><br><br>continent=Africa<br>country=Nigeria<br>year=%{x}<br>lifeExp=%{y}<extra></extra>\", \"hovertext\": [\"Nigeria\", \"Nigeria\", \"Nigeria\", \"Nigeria\", \"Nigeria\", \"Nigeria\", \"Nigeria\", \"Nigeria\", \"Nigeria\", \"Nigeria\", \"Nigeria\", \"Nigeria\"], \"legendgroup\": \"Africa\", \"line\": {\"color\": \"#EF553B\", \"dash\": \"solid\"}, \"mode\": \"lines\", \"name\": \"Africa\", \"showlegend\": false, \"type\": \"scattergl\", \"x\": [1952, 1957, 1962, 1967, 1972, 1977, 1982, 1987, 1992, 1997, 2002, 2007], \"xaxis\": \"x\", \"y\": [36.324, 37.802, 39.36, 41.04, 42.821000000000005, 44.513999999999996, 45.826, 46.886, 47.472, 47.464, 46.608000000000004, 46.858999999999995], \"yaxis\": \"y\"}, {\"hovertemplate\": \"<b>%{hovertext}</b><br><br>continent=Africa<br>country=Reunion<br>year=%{x}<br>lifeExp=%{y}<extra></extra>\", \"hovertext\": [\"Reunion\", \"Reunion\", \"Reunion\", \"Reunion\", \"Reunion\", \"Reunion\", \"Reunion\", \"Reunion\", \"Reunion\", \"Reunion\", \"Reunion\", \"Reunion\"], \"legendgroup\": \"Africa\", \"line\": {\"color\": \"#EF553B\", \"dash\": \"solid\"}, \"mode\": \"lines\", \"name\": \"Africa\", \"showlegend\": false, \"type\": \"scattergl\", \"x\": [1952, 1957, 1962, 1967, 1972, 1977, 1982, 1987, 1992, 1997, 2002, 2007], \"xaxis\": \"x\", \"y\": [52.724, 55.09, 57.666000000000004, 60.542, 64.274, 67.064, 69.885, 71.913, 73.615, 74.77199999999999, 75.744, 76.442], \"yaxis\": \"y\"}, {\"hovertemplate\": \"<b>%{hovertext}</b><br><br>continent=Africa<br>country=Rwanda<br>year=%{x}<br>lifeExp=%{y}<extra></extra>\", \"hovertext\": [\"Rwanda\", \"Rwanda\", \"Rwanda\", \"Rwanda\", \"Rwanda\", \"Rwanda\", \"Rwanda\", \"Rwanda\", \"Rwanda\", \"Rwanda\", \"Rwanda\", \"Rwanda\"], \"legendgroup\": \"Africa\", \"line\": {\"color\": \"#EF553B\", \"dash\": \"solid\"}, \"mode\": \"lines\", \"name\": \"Africa\", \"showlegend\": false, \"type\": \"scattergl\", \"x\": [1952, 1957, 1962, 1967, 1972, 1977, 1982, 1987, 1992, 1997, 2002, 2007], \"xaxis\": \"x\", \"y\": [40.0, 41.5, 43.0, 44.1, 44.6, 45.0, 46.218, 44.02, 23.599, 36.086999999999996, 43.413000000000004, 46.242], \"yaxis\": \"y\"}, {\"hovertemplate\": \"<b>%{hovertext}</b><br><br>continent=Africa<br>country=Sao Tome and Principe<br>year=%{x}<br>lifeExp=%{y}<extra></extra>\", \"hovertext\": [\"Sao Tome and Principe\", \"Sao Tome and Principe\", \"Sao Tome and Principe\", \"Sao Tome and Principe\", \"Sao Tome and Principe\", \"Sao Tome and Principe\", \"Sao Tome and Principe\", \"Sao Tome and Principe\", \"Sao Tome and Principe\", \"Sao Tome and Principe\", \"Sao Tome and Principe\", \"Sao Tome and Principe\"], \"legendgroup\": \"Africa\", \"line\": {\"color\": \"#EF553B\", \"dash\": \"solid\"}, \"mode\": \"lines\", \"name\": \"Africa\", \"showlegend\": false, \"type\": \"scattergl\", \"x\": [1952, 1957, 1962, 1967, 1972, 1977, 1982, 1987, 1992, 1997, 2002, 2007], \"xaxis\": \"x\", \"y\": [46.471000000000004, 48.945, 51.893, 54.425, 56.48, 58.55, 60.351000000000006, 61.728, 62.742, 63.306000000000004, 64.337, 65.528], \"yaxis\": \"y\"}, {\"hovertemplate\": \"<b>%{hovertext}</b><br><br>continent=Africa<br>country=Senegal<br>year=%{x}<br>lifeExp=%{y}<extra></extra>\", \"hovertext\": [\"Senegal\", \"Senegal\", \"Senegal\", \"Senegal\", \"Senegal\", \"Senegal\", \"Senegal\", \"Senegal\", \"Senegal\", \"Senegal\", \"Senegal\", \"Senegal\"], \"legendgroup\": \"Africa\", \"line\": {\"color\": \"#EF553B\", \"dash\": \"solid\"}, \"mode\": \"lines\", \"name\": \"Africa\", \"showlegend\": false, \"type\": \"scattergl\", \"x\": [1952, 1957, 1962, 1967, 1972, 1977, 1982, 1987, 1992, 1997, 2002, 2007], \"xaxis\": \"x\", \"y\": [37.278, 39.329, 41.45399999999999, 43.563, 45.815, 48.879, 52.379, 55.769, 58.196000000000005, 60.187, 61.6, 63.062], \"yaxis\": \"y\"}, {\"hovertemplate\": \"<b>%{hovertext}</b><br><br>continent=Africa<br>country=Sierra Leone<br>year=%{x}<br>lifeExp=%{y}<extra></extra>\", \"hovertext\": [\"Sierra Leone\", \"Sierra Leone\", \"Sierra Leone\", \"Sierra Leone\", \"Sierra Leone\", \"Sierra Leone\", \"Sierra Leone\", \"Sierra Leone\", \"Sierra Leone\", \"Sierra Leone\", \"Sierra Leone\", \"Sierra Leone\"], \"legendgroup\": \"Africa\", \"line\": {\"color\": \"#EF553B\", \"dash\": \"solid\"}, \"mode\": \"lines\", \"name\": \"Africa\", \"showlegend\": false, \"type\": \"scattergl\", \"x\": [1952, 1957, 1962, 1967, 1972, 1977, 1982, 1987, 1992, 1997, 2002, 2007], \"xaxis\": \"x\", \"y\": [30.331, 31.57, 32.766999999999996, 34.113, 35.4, 36.788000000000004, 38.445, 40.006, 38.333, 39.897, 41.012, 42.568000000000005], \"yaxis\": \"y\"}, {\"hovertemplate\": \"<b>%{hovertext}</b><br><br>continent=Africa<br>country=Somalia<br>year=%{x}<br>lifeExp=%{y}<extra></extra>\", \"hovertext\": [\"Somalia\", \"Somalia\", \"Somalia\", \"Somalia\", \"Somalia\", \"Somalia\", \"Somalia\", \"Somalia\", \"Somalia\", \"Somalia\", \"Somalia\", \"Somalia\"], \"legendgroup\": \"Africa\", \"line\": {\"color\": \"#EF553B\", \"dash\": \"solid\"}, \"mode\": \"lines\", \"name\": \"Africa\", \"showlegend\": false, \"type\": \"scattergl\", \"x\": [1952, 1957, 1962, 1967, 1972, 1977, 1982, 1987, 1992, 1997, 2002, 2007], \"xaxis\": \"x\", \"y\": [32.978, 34.977, 36.981, 38.977, 40.973, 41.974, 42.955, 44.501000000000005, 39.658, 43.795, 45.93600000000001, 48.159], \"yaxis\": \"y\"}, {\"hovertemplate\": \"<b>%{hovertext}</b><br><br>continent=Africa<br>country=South Africa<br>year=%{x}<br>lifeExp=%{y}<extra></extra>\", \"hovertext\": [\"South Africa\", \"South Africa\", \"South Africa\", \"South Africa\", \"South Africa\", \"South Africa\", \"South Africa\", \"South Africa\", \"South Africa\", \"South Africa\", \"South Africa\", \"South Africa\"], \"legendgroup\": \"Africa\", \"line\": {\"color\": \"#EF553B\", \"dash\": \"solid\"}, \"mode\": \"lines\", \"name\": \"Africa\", \"showlegend\": false, \"type\": \"scattergl\", \"x\": [1952, 1957, 1962, 1967, 1972, 1977, 1982, 1987, 1992, 1997, 2002, 2007], \"xaxis\": \"x\", \"y\": [45.00899999999999, 47.985, 49.951, 51.927, 53.696000000000005, 55.527, 58.161, 60.833999999999996, 61.888000000000005, 60.236000000000004, 53.365, 49.339], \"yaxis\": \"y\"}, {\"hovertemplate\": \"<b>%{hovertext}</b><br><br>continent=Africa<br>country=Sudan<br>year=%{x}<br>lifeExp=%{y}<extra></extra>\", \"hovertext\": [\"Sudan\", \"Sudan\", \"Sudan\", \"Sudan\", \"Sudan\", \"Sudan\", \"Sudan\", \"Sudan\", \"Sudan\", \"Sudan\", \"Sudan\", \"Sudan\"], \"legendgroup\": \"Africa\", \"line\": {\"color\": \"#EF553B\", \"dash\": \"solid\"}, \"mode\": \"lines\", \"name\": \"Africa\", \"showlegend\": false, \"type\": \"scattergl\", \"x\": [1952, 1957, 1962, 1967, 1972, 1977, 1982, 1987, 1992, 1997, 2002, 2007], \"xaxis\": \"x\", \"y\": [38.635, 39.624, 40.87, 42.858000000000004, 45.083, 47.8, 50.338, 51.744, 53.556000000000004, 55.373000000000005, 56.369, 58.556000000000004], \"yaxis\": \"y\"}, {\"hovertemplate\": \"<b>%{hovertext}</b><br><br>continent=Africa<br>country=Swaziland<br>year=%{x}<br>lifeExp=%{y}<extra></extra>\", \"hovertext\": [\"Swaziland\", \"Swaziland\", \"Swaziland\", \"Swaziland\", \"Swaziland\", \"Swaziland\", \"Swaziland\", \"Swaziland\", \"Swaziland\", \"Swaziland\", \"Swaziland\", \"Swaziland\"], \"legendgroup\": \"Africa\", \"line\": {\"color\": \"#EF553B\", \"dash\": \"solid\"}, \"mode\": \"lines\", \"name\": \"Africa\", \"showlegend\": false, \"type\": \"scattergl\", \"x\": [1952, 1957, 1962, 1967, 1972, 1977, 1982, 1987, 1992, 1997, 2002, 2007], \"xaxis\": \"x\", \"y\": [41.407, 43.424, 44.992, 46.633, 49.552, 52.537, 55.56100000000001, 57.678000000000004, 58.474, 54.288999999999994, 43.869, 39.613], \"yaxis\": \"y\"}, {\"hovertemplate\": \"<b>%{hovertext}</b><br><br>continent=Africa<br>country=Tanzania<br>year=%{x}<br>lifeExp=%{y}<extra></extra>\", \"hovertext\": [\"Tanzania\", \"Tanzania\", \"Tanzania\", \"Tanzania\", \"Tanzania\", \"Tanzania\", \"Tanzania\", \"Tanzania\", \"Tanzania\", \"Tanzania\", \"Tanzania\", \"Tanzania\"], \"legendgroup\": \"Africa\", \"line\": {\"color\": \"#EF553B\", \"dash\": \"solid\"}, \"mode\": \"lines\", \"name\": \"Africa\", \"showlegend\": false, \"type\": \"scattergl\", \"x\": [1952, 1957, 1962, 1967, 1972, 1977, 1982, 1987, 1992, 1997, 2002, 2007], \"xaxis\": \"x\", \"y\": [41.215, 42.974, 44.246, 45.757, 47.62, 49.919, 50.608000000000004, 51.535, 50.44, 48.466, 49.651, 52.516999999999996], \"yaxis\": \"y\"}, {\"hovertemplate\": \"<b>%{hovertext}</b><br><br>continent=Africa<br>country=Togo<br>year=%{x}<br>lifeExp=%{y}<extra></extra>\", \"hovertext\": [\"Togo\", \"Togo\", \"Togo\", \"Togo\", \"Togo\", \"Togo\", \"Togo\", \"Togo\", \"Togo\", \"Togo\", \"Togo\", \"Togo\"], \"legendgroup\": \"Africa\", \"line\": {\"color\": \"#EF553B\", \"dash\": \"solid\"}, \"mode\": \"lines\", \"name\": \"Africa\", \"showlegend\": false, \"type\": \"scattergl\", \"x\": [1952, 1957, 1962, 1967, 1972, 1977, 1982, 1987, 1992, 1997, 2002, 2007], \"xaxis\": \"x\", \"y\": [38.596, 41.208, 43.922, 46.769, 49.75899999999999, 52.887, 55.471000000000004, 56.941, 58.06100000000001, 58.39, 57.56100000000001, 58.42], \"yaxis\": \"y\"}, {\"hovertemplate\": \"<b>%{hovertext}</b><br><br>continent=Africa<br>country=Tunisia<br>year=%{x}<br>lifeExp=%{y}<extra></extra>\", \"hovertext\": [\"Tunisia\", \"Tunisia\", \"Tunisia\", \"Tunisia\", \"Tunisia\", \"Tunisia\", \"Tunisia\", \"Tunisia\", \"Tunisia\", \"Tunisia\", \"Tunisia\", \"Tunisia\"], \"legendgroup\": \"Africa\", \"line\": {\"color\": \"#EF553B\", \"dash\": \"solid\"}, \"mode\": \"lines\", \"name\": \"Africa\", \"showlegend\": false, \"type\": \"scattergl\", \"x\": [1952, 1957, 1962, 1967, 1972, 1977, 1982, 1987, 1992, 1997, 2002, 2007], \"xaxis\": \"x\", \"y\": [44.6, 47.1, 49.57899999999999, 52.053000000000004, 55.602, 59.836999999999996, 64.048, 66.89399999999999, 70.001, 71.973, 73.042, 73.923], \"yaxis\": \"y\"}, {\"hovertemplate\": \"<b>%{hovertext}</b><br><br>continent=Africa<br>country=Uganda<br>year=%{x}<br>lifeExp=%{y}<extra></extra>\", \"hovertext\": [\"Uganda\", \"Uganda\", \"Uganda\", \"Uganda\", \"Uganda\", \"Uganda\", \"Uganda\", \"Uganda\", \"Uganda\", \"Uganda\", \"Uganda\", \"Uganda\"], \"legendgroup\": \"Africa\", \"line\": {\"color\": \"#EF553B\", \"dash\": \"solid\"}, \"mode\": \"lines\", \"name\": \"Africa\", \"showlegend\": false, \"type\": \"scattergl\", \"x\": [1952, 1957, 1962, 1967, 1972, 1977, 1982, 1987, 1992, 1997, 2002, 2007], \"xaxis\": \"x\", \"y\": [39.978, 42.571000000000005, 45.343999999999994, 48.051, 51.016000000000005, 50.35, 49.849, 51.50899999999999, 48.825, 44.578, 47.813, 51.542], \"yaxis\": \"y\"}, {\"hovertemplate\": \"<b>%{hovertext}</b><br><br>continent=Africa<br>country=Zambia<br>year=%{x}<br>lifeExp=%{y}<extra></extra>\", \"hovertext\": [\"Zambia\", \"Zambia\", \"Zambia\", \"Zambia\", \"Zambia\", \"Zambia\", \"Zambia\", \"Zambia\", \"Zambia\", \"Zambia\", \"Zambia\", \"Zambia\"], \"legendgroup\": \"Africa\", \"line\": {\"color\": \"#EF553B\", \"dash\": \"solid\"}, \"mode\": \"lines\", \"name\": \"Africa\", \"showlegend\": false, \"type\": \"scattergl\", \"x\": [1952, 1957, 1962, 1967, 1972, 1977, 1982, 1987, 1992, 1997, 2002, 2007], \"xaxis\": \"x\", \"y\": [42.038000000000004, 44.077, 46.023, 47.768, 50.107, 51.386, 51.821000000000005, 50.821000000000005, 46.1, 40.238, 39.193000000000005, 42.38399999999999], \"yaxis\": \"y\"}, {\"hovertemplate\": \"<b>%{hovertext}</b><br><br>continent=Africa<br>country=Zimbabwe<br>year=%{x}<br>lifeExp=%{y}<extra></extra>\", \"hovertext\": [\"Zimbabwe\", \"Zimbabwe\", \"Zimbabwe\", \"Zimbabwe\", \"Zimbabwe\", \"Zimbabwe\", \"Zimbabwe\", \"Zimbabwe\", \"Zimbabwe\", \"Zimbabwe\", \"Zimbabwe\", \"Zimbabwe\"], \"legendgroup\": \"Africa\", \"line\": {\"color\": \"#EF553B\", \"dash\": \"solid\"}, \"mode\": \"lines\", \"name\": \"Africa\", \"showlegend\": false, \"type\": \"scattergl\", \"x\": [1952, 1957, 1962, 1967, 1972, 1977, 1982, 1987, 1992, 1997, 2002, 2007], \"xaxis\": \"x\", \"y\": [48.451, 50.468999999999994, 52.358000000000004, 53.995, 55.635, 57.674, 60.363, 62.351000000000006, 60.376999999999995, 46.809, 39.989000000000004, 43.486999999999995], \"yaxis\": \"y\"}, {\"hovertemplate\": \"<b>%{hovertext}</b><br><br>continent=Americas<br>country=Argentina<br>year=%{x}<br>lifeExp=%{y}<extra></extra>\", \"hovertext\": [\"Argentina\", \"Argentina\", \"Argentina\", \"Argentina\", \"Argentina\", \"Argentina\", \"Argentina\", \"Argentina\", \"Argentina\", \"Argentina\", \"Argentina\", \"Argentina\"], \"legendgroup\": \"Americas\", \"line\": {\"color\": \"#00cc96\", \"dash\": \"solid\"}, \"mode\": \"lines\", \"name\": \"Americas\", \"showlegend\": true, \"type\": \"scattergl\", \"x\": [1952, 1957, 1962, 1967, 1972, 1977, 1982, 1987, 1992, 1997, 2002, 2007], \"xaxis\": \"x\", \"y\": [62.485, 64.399, 65.142, 65.634, 67.065, 68.48100000000001, 69.942, 70.774, 71.868, 73.275, 74.34, 75.32], \"yaxis\": \"y\"}, {\"hovertemplate\": \"<b>%{hovertext}</b><br><br>continent=Americas<br>country=Bolivia<br>year=%{x}<br>lifeExp=%{y}<extra></extra>\", \"hovertext\": [\"Bolivia\", \"Bolivia\", \"Bolivia\", \"Bolivia\", \"Bolivia\", \"Bolivia\", \"Bolivia\", \"Bolivia\", \"Bolivia\", \"Bolivia\", \"Bolivia\", \"Bolivia\"], \"legendgroup\": \"Americas\", \"line\": {\"color\": \"#00cc96\", \"dash\": \"solid\"}, \"mode\": \"lines\", \"name\": \"Americas\", \"showlegend\": false, \"type\": \"scattergl\", \"x\": [1952, 1957, 1962, 1967, 1972, 1977, 1982, 1987, 1992, 1997, 2002, 2007], \"xaxis\": \"x\", \"y\": [40.414, 41.89, 43.428000000000004, 45.032, 46.714, 50.023, 53.858999999999995, 57.251000000000005, 59.957, 62.05, 63.883, 65.554], \"yaxis\": \"y\"}, {\"hovertemplate\": \"<b>%{hovertext}</b><br><br>continent=Americas<br>country=Brazil<br>year=%{x}<br>lifeExp=%{y}<extra></extra>\", \"hovertext\": [\"Brazil\", \"Brazil\", \"Brazil\", \"Brazil\", \"Brazil\", \"Brazil\", \"Brazil\", \"Brazil\", \"Brazil\", \"Brazil\", \"Brazil\", \"Brazil\"], \"legendgroup\": \"Americas\", \"line\": {\"color\": \"#00cc96\", \"dash\": \"solid\"}, \"mode\": \"lines\", \"name\": \"Americas\", \"showlegend\": false, \"type\": \"scattergl\", \"x\": [1952, 1957, 1962, 1967, 1972, 1977, 1982, 1987, 1992, 1997, 2002, 2007], \"xaxis\": \"x\", \"y\": [50.917, 53.285, 55.665, 57.632, 59.504, 61.489, 63.336000000000006, 65.205, 67.057, 69.388, 71.006, 72.39], \"yaxis\": \"y\"}, {\"hovertemplate\": \"<b>%{hovertext}</b><br><br>continent=Americas<br>country=Canada<br>year=%{x}<br>lifeExp=%{y}<extra></extra>\", \"hovertext\": [\"Canada\", \"Canada\", \"Canada\", \"Canada\", \"Canada\", \"Canada\", \"Canada\", \"Canada\", \"Canada\", \"Canada\", \"Canada\", \"Canada\"], \"legendgroup\": \"Americas\", \"line\": {\"color\": \"#00cc96\", \"dash\": \"solid\"}, \"mode\": \"lines\", \"name\": \"Americas\", \"showlegend\": false, \"type\": \"scattergl\", \"x\": [1952, 1957, 1962, 1967, 1972, 1977, 1982, 1987, 1992, 1997, 2002, 2007], \"xaxis\": \"x\", \"y\": [68.75, 69.96, 71.3, 72.13, 72.88, 74.21, 75.76, 76.86, 77.95, 78.61, 79.77, 80.653], \"yaxis\": \"y\"}, {\"hovertemplate\": \"<b>%{hovertext}</b><br><br>continent=Americas<br>country=Chile<br>year=%{x}<br>lifeExp=%{y}<extra></extra>\", \"hovertext\": [\"Chile\", \"Chile\", \"Chile\", \"Chile\", \"Chile\", \"Chile\", \"Chile\", \"Chile\", \"Chile\", \"Chile\", \"Chile\", \"Chile\"], \"legendgroup\": \"Americas\", \"line\": {\"color\": \"#00cc96\", \"dash\": \"solid\"}, \"mode\": \"lines\", \"name\": \"Americas\", \"showlegend\": false, \"type\": \"scattergl\", \"x\": [1952, 1957, 1962, 1967, 1972, 1977, 1982, 1987, 1992, 1997, 2002, 2007], \"xaxis\": \"x\", \"y\": [54.745, 56.074, 57.924, 60.523, 63.441, 67.05199999999999, 70.565, 72.492, 74.126, 75.816, 77.86, 78.553], \"yaxis\": \"y\"}, {\"hovertemplate\": \"<b>%{hovertext}</b><br><br>continent=Americas<br>country=Colombia<br>year=%{x}<br>lifeExp=%{y}<extra></extra>\", \"hovertext\": [\"Colombia\", \"Colombia\", \"Colombia\", \"Colombia\", \"Colombia\", \"Colombia\", \"Colombia\", \"Colombia\", \"Colombia\", \"Colombia\", \"Colombia\", \"Colombia\"], \"legendgroup\": \"Americas\", \"line\": {\"color\": \"#00cc96\", \"dash\": \"solid\"}, \"mode\": \"lines\", \"name\": \"Americas\", \"showlegend\": false, \"type\": \"scattergl\", \"x\": [1952, 1957, 1962, 1967, 1972, 1977, 1982, 1987, 1992, 1997, 2002, 2007], \"xaxis\": \"x\", \"y\": [50.643, 55.118, 57.863, 59.963, 61.623000000000005, 63.836999999999996, 66.653, 67.768, 68.421, 70.313, 71.682, 72.889], \"yaxis\": \"y\"}, {\"hovertemplate\": \"<b>%{hovertext}</b><br><br>continent=Americas<br>country=Costa Rica<br>year=%{x}<br>lifeExp=%{y}<extra></extra>\", \"hovertext\": [\"Costa Rica\", \"Costa Rica\", \"Costa Rica\", \"Costa Rica\", \"Costa Rica\", \"Costa Rica\", \"Costa Rica\", \"Costa Rica\", \"Costa Rica\", \"Costa Rica\", \"Costa Rica\", \"Costa Rica\"], \"legendgroup\": \"Americas\", \"line\": {\"color\": \"#00cc96\", \"dash\": \"solid\"}, \"mode\": \"lines\", \"name\": \"Americas\", \"showlegend\": false, \"type\": \"scattergl\", \"x\": [1952, 1957, 1962, 1967, 1972, 1977, 1982, 1987, 1992, 1997, 2002, 2007], \"xaxis\": \"x\", \"y\": [57.206, 60.026, 62.842, 65.42399999999999, 67.84899999999999, 70.75, 73.45, 74.752, 75.71300000000001, 77.26, 78.123, 78.782], \"yaxis\": \"y\"}, {\"hovertemplate\": \"<b>%{hovertext}</b><br><br>continent=Americas<br>country=Cuba<br>year=%{x}<br>lifeExp=%{y}<extra></extra>\", \"hovertext\": [\"Cuba\", \"Cuba\", \"Cuba\", \"Cuba\", \"Cuba\", \"Cuba\", \"Cuba\", \"Cuba\", \"Cuba\", \"Cuba\", \"Cuba\", \"Cuba\"], \"legendgroup\": \"Americas\", \"line\": {\"color\": \"#00cc96\", \"dash\": \"solid\"}, \"mode\": \"lines\", \"name\": \"Americas\", \"showlegend\": false, \"type\": \"scattergl\", \"x\": [1952, 1957, 1962, 1967, 1972, 1977, 1982, 1987, 1992, 1997, 2002, 2007], \"xaxis\": \"x\", \"y\": [59.42100000000001, 62.325, 65.24600000000001, 68.29, 70.723, 72.649, 73.717, 74.17399999999999, 74.414, 76.15100000000001, 77.158, 78.273], \"yaxis\": \"y\"}, {\"hovertemplate\": \"<b>%{hovertext}</b><br><br>continent=Americas<br>country=Dominican Republic<br>year=%{x}<br>lifeExp=%{y}<extra></extra>\", \"hovertext\": [\"Dominican Republic\", \"Dominican Republic\", \"Dominican Republic\", \"Dominican Republic\", \"Dominican Republic\", \"Dominican Republic\", \"Dominican Republic\", \"Dominican Republic\", \"Dominican Republic\", \"Dominican Republic\", \"Dominican Republic\", \"Dominican Republic\"], \"legendgroup\": \"Americas\", \"line\": {\"color\": \"#00cc96\", \"dash\": \"solid\"}, \"mode\": \"lines\", \"name\": \"Americas\", \"showlegend\": false, \"type\": \"scattergl\", \"x\": [1952, 1957, 1962, 1967, 1972, 1977, 1982, 1987, 1992, 1997, 2002, 2007], \"xaxis\": \"x\", \"y\": [45.928000000000004, 49.828, 53.458999999999996, 56.751000000000005, 59.631, 61.788000000000004, 63.727, 66.046, 68.457, 69.957, 70.847, 72.235], \"yaxis\": \"y\"}, {\"hovertemplate\": \"<b>%{hovertext}</b><br><br>continent=Americas<br>country=Ecuador<br>year=%{x}<br>lifeExp=%{y}<extra></extra>\", \"hovertext\": [\"Ecuador\", \"Ecuador\", \"Ecuador\", \"Ecuador\", \"Ecuador\", \"Ecuador\", \"Ecuador\", \"Ecuador\", \"Ecuador\", \"Ecuador\", \"Ecuador\", \"Ecuador\"], \"legendgroup\": \"Americas\", \"line\": {\"color\": \"#00cc96\", \"dash\": \"solid\"}, \"mode\": \"lines\", \"name\": \"Americas\", \"showlegend\": false, \"type\": \"scattergl\", \"x\": [1952, 1957, 1962, 1967, 1972, 1977, 1982, 1987, 1992, 1997, 2002, 2007], \"xaxis\": \"x\", \"y\": [48.357, 51.356, 54.64, 56.678000000000004, 58.79600000000001, 61.31, 64.342, 67.23100000000001, 69.613, 72.312, 74.173, 74.994], \"yaxis\": \"y\"}, {\"hovertemplate\": \"<b>%{hovertext}</b><br><br>continent=Americas<br>country=El Salvador<br>year=%{x}<br>lifeExp=%{y}<extra></extra>\", \"hovertext\": [\"El Salvador\", \"El Salvador\", \"El Salvador\", \"El Salvador\", \"El Salvador\", \"El Salvador\", \"El Salvador\", \"El Salvador\", \"El Salvador\", \"El Salvador\", \"El Salvador\", \"El Salvador\"], \"legendgroup\": \"Americas\", \"line\": {\"color\": \"#00cc96\", \"dash\": \"solid\"}, \"mode\": \"lines\", \"name\": \"Americas\", \"showlegend\": false, \"type\": \"scattergl\", \"x\": [1952, 1957, 1962, 1967, 1972, 1977, 1982, 1987, 1992, 1997, 2002, 2007], \"xaxis\": \"x\", \"y\": [45.262, 48.57, 52.306999999999995, 55.855, 58.207, 56.696000000000005, 56.604, 63.153999999999996, 66.798, 69.535, 70.734, 71.878], \"yaxis\": \"y\"}, {\"hovertemplate\": \"<b>%{hovertext}</b><br><br>continent=Americas<br>country=Guatemala<br>year=%{x}<br>lifeExp=%{y}<extra></extra>\", \"hovertext\": [\"Guatemala\", \"Guatemala\", \"Guatemala\", \"Guatemala\", \"Guatemala\", \"Guatemala\", \"Guatemala\", \"Guatemala\", \"Guatemala\", \"Guatemala\", \"Guatemala\", \"Guatemala\"], \"legendgroup\": \"Americas\", \"line\": {\"color\": \"#00cc96\", \"dash\": \"solid\"}, \"mode\": \"lines\", \"name\": \"Americas\", \"showlegend\": false, \"type\": \"scattergl\", \"x\": [1952, 1957, 1962, 1967, 1972, 1977, 1982, 1987, 1992, 1997, 2002, 2007], \"xaxis\": \"x\", \"y\": [42.023, 44.141999999999996, 46.95399999999999, 50.016000000000005, 53.738, 56.028999999999996, 58.137, 60.782, 63.373000000000005, 66.322, 68.97800000000001, 70.259], \"yaxis\": \"y\"}, {\"hovertemplate\": \"<b>%{hovertext}</b><br><br>continent=Americas<br>country=Haiti<br>year=%{x}<br>lifeExp=%{y}<extra></extra>\", \"hovertext\": [\"Haiti\", \"Haiti\", \"Haiti\", \"Haiti\", \"Haiti\", \"Haiti\", \"Haiti\", \"Haiti\", \"Haiti\", \"Haiti\", \"Haiti\", \"Haiti\"], \"legendgroup\": \"Americas\", \"line\": {\"color\": \"#00cc96\", \"dash\": \"solid\"}, \"mode\": \"lines\", \"name\": \"Americas\", \"showlegend\": false, \"type\": \"scattergl\", \"x\": [1952, 1957, 1962, 1967, 1972, 1977, 1982, 1987, 1992, 1997, 2002, 2007], \"xaxis\": \"x\", \"y\": [37.579, 40.696, 43.59, 46.243, 48.042, 49.923, 51.461000000000006, 53.636, 55.089, 56.67100000000001, 58.137, 60.916000000000004], \"yaxis\": \"y\"}, {\"hovertemplate\": \"<b>%{hovertext}</b><br><br>continent=Americas<br>country=Honduras<br>year=%{x}<br>lifeExp=%{y}<extra></extra>\", \"hovertext\": [\"Honduras\", \"Honduras\", \"Honduras\", \"Honduras\", \"Honduras\", \"Honduras\", \"Honduras\", \"Honduras\", \"Honduras\", \"Honduras\", \"Honduras\", \"Honduras\"], \"legendgroup\": \"Americas\", \"line\": {\"color\": \"#00cc96\", \"dash\": \"solid\"}, \"mode\": \"lines\", \"name\": \"Americas\", \"showlegend\": false, \"type\": \"scattergl\", \"x\": [1952, 1957, 1962, 1967, 1972, 1977, 1982, 1987, 1992, 1997, 2002, 2007], \"xaxis\": \"x\", \"y\": [41.912, 44.665, 48.041000000000004, 50.924, 53.88399999999999, 57.402, 60.909, 64.492, 66.399, 67.65899999999999, 68.565, 70.19800000000001], \"yaxis\": \"y\"}, {\"hovertemplate\": \"<b>%{hovertext}</b><br><br>continent=Americas<br>country=Jamaica<br>year=%{x}<br>lifeExp=%{y}<extra></extra>\", \"hovertext\": [\"Jamaica\", \"Jamaica\", \"Jamaica\", \"Jamaica\", \"Jamaica\", \"Jamaica\", \"Jamaica\", \"Jamaica\", \"Jamaica\", \"Jamaica\", \"Jamaica\", \"Jamaica\"], \"legendgroup\": \"Americas\", \"line\": {\"color\": \"#00cc96\", \"dash\": \"solid\"}, \"mode\": \"lines\", \"name\": \"Americas\", \"showlegend\": false, \"type\": \"scattergl\", \"x\": [1952, 1957, 1962, 1967, 1972, 1977, 1982, 1987, 1992, 1997, 2002, 2007], \"xaxis\": \"x\", \"y\": [58.53, 62.61, 65.61, 67.51, 69.0, 70.11, 71.21, 71.77, 71.766, 72.262, 72.047, 72.567], \"yaxis\": \"y\"}, {\"hovertemplate\": \"<b>%{hovertext}</b><br><br>continent=Americas<br>country=Mexico<br>year=%{x}<br>lifeExp=%{y}<extra></extra>\", \"hovertext\": [\"Mexico\", \"Mexico\", \"Mexico\", \"Mexico\", \"Mexico\", \"Mexico\", \"Mexico\", \"Mexico\", \"Mexico\", \"Mexico\", \"Mexico\", \"Mexico\"], \"legendgroup\": \"Americas\", \"line\": {\"color\": \"#00cc96\", \"dash\": \"solid\"}, \"mode\": \"lines\", \"name\": \"Americas\", \"showlegend\": false, \"type\": \"scattergl\", \"x\": [1952, 1957, 1962, 1967, 1972, 1977, 1982, 1987, 1992, 1997, 2002, 2007], \"xaxis\": \"x\", \"y\": [50.788999999999994, 55.19, 58.299, 60.11, 62.361000000000004, 65.032, 67.405, 69.498, 71.455, 73.67, 74.902, 76.195], \"yaxis\": \"y\"}, {\"hovertemplate\": \"<b>%{hovertext}</b><br><br>continent=Americas<br>country=Nicaragua<br>year=%{x}<br>lifeExp=%{y}<extra></extra>\", \"hovertext\": [\"Nicaragua\", \"Nicaragua\", \"Nicaragua\", \"Nicaragua\", \"Nicaragua\", \"Nicaragua\", \"Nicaragua\", \"Nicaragua\", \"Nicaragua\", \"Nicaragua\", \"Nicaragua\", \"Nicaragua\"], \"legendgroup\": \"Americas\", \"line\": {\"color\": \"#00cc96\", \"dash\": \"solid\"}, \"mode\": \"lines\", \"name\": \"Americas\", \"showlegend\": false, \"type\": \"scattergl\", \"x\": [1952, 1957, 1962, 1967, 1972, 1977, 1982, 1987, 1992, 1997, 2002, 2007], \"xaxis\": \"x\", \"y\": [42.31399999999999, 45.431999999999995, 48.632, 51.88399999999999, 55.151, 57.47, 59.298, 62.008, 65.843, 68.426, 70.836, 72.899], \"yaxis\": \"y\"}, {\"hovertemplate\": \"<b>%{hovertext}</b><br><br>continent=Americas<br>country=Panama<br>year=%{x}<br>lifeExp=%{y}<extra></extra>\", \"hovertext\": [\"Panama\", \"Panama\", \"Panama\", \"Panama\", \"Panama\", \"Panama\", \"Panama\", \"Panama\", \"Panama\", \"Panama\", \"Panama\", \"Panama\"], \"legendgroup\": \"Americas\", \"line\": {\"color\": \"#00cc96\", \"dash\": \"solid\"}, \"mode\": \"lines\", \"name\": \"Americas\", \"showlegend\": false, \"type\": \"scattergl\", \"x\": [1952, 1957, 1962, 1967, 1972, 1977, 1982, 1987, 1992, 1997, 2002, 2007], \"xaxis\": \"x\", \"y\": [55.191, 59.201, 61.817, 64.071, 66.21600000000001, 68.681, 70.472, 71.523, 72.462, 73.738, 74.712, 75.53699999999999], \"yaxis\": \"y\"}, {\"hovertemplate\": \"<b>%{hovertext}</b><br><br>continent=Americas<br>country=Paraguay<br>year=%{x}<br>lifeExp=%{y}<extra></extra>\", \"hovertext\": [\"Paraguay\", \"Paraguay\", \"Paraguay\", \"Paraguay\", \"Paraguay\", \"Paraguay\", \"Paraguay\", \"Paraguay\", \"Paraguay\", \"Paraguay\", \"Paraguay\", \"Paraguay\"], \"legendgroup\": \"Americas\", \"line\": {\"color\": \"#00cc96\", \"dash\": \"solid\"}, \"mode\": \"lines\", \"name\": \"Americas\", \"showlegend\": false, \"type\": \"scattergl\", \"x\": [1952, 1957, 1962, 1967, 1972, 1977, 1982, 1987, 1992, 1997, 2002, 2007], \"xaxis\": \"x\", \"y\": [62.648999999999994, 63.196000000000005, 64.361, 64.95100000000001, 65.815, 66.35300000000001, 66.874, 67.378, 68.225, 69.4, 70.755, 71.752], \"yaxis\": \"y\"}, {\"hovertemplate\": \"<b>%{hovertext}</b><br><br>continent=Americas<br>country=Peru<br>year=%{x}<br>lifeExp=%{y}<extra></extra>\", \"hovertext\": [\"Peru\", \"Peru\", \"Peru\", \"Peru\", \"Peru\", \"Peru\", \"Peru\", \"Peru\", \"Peru\", \"Peru\", \"Peru\", \"Peru\"], \"legendgroup\": \"Americas\", \"line\": {\"color\": \"#00cc96\", \"dash\": \"solid\"}, \"mode\": \"lines\", \"name\": \"Americas\", \"showlegend\": false, \"type\": \"scattergl\", \"x\": [1952, 1957, 1962, 1967, 1972, 1977, 1982, 1987, 1992, 1997, 2002, 2007], \"xaxis\": \"x\", \"y\": [43.902, 46.263000000000005, 49.096000000000004, 51.445, 55.448, 58.446999999999996, 61.406000000000006, 64.134, 66.458, 68.38600000000001, 69.906, 71.421], \"yaxis\": \"y\"}, {\"hovertemplate\": \"<b>%{hovertext}</b><br><br>continent=Americas<br>country=Puerto Rico<br>year=%{x}<br>lifeExp=%{y}<extra></extra>\", \"hovertext\": [\"Puerto Rico\", \"Puerto Rico\", \"Puerto Rico\", \"Puerto Rico\", \"Puerto Rico\", \"Puerto Rico\", \"Puerto Rico\", \"Puerto Rico\", \"Puerto Rico\", \"Puerto Rico\", \"Puerto Rico\", \"Puerto Rico\"], \"legendgroup\": \"Americas\", \"line\": {\"color\": \"#00cc96\", \"dash\": \"solid\"}, \"mode\": \"lines\", \"name\": \"Americas\", \"showlegend\": false, \"type\": \"scattergl\", \"x\": [1952, 1957, 1962, 1967, 1972, 1977, 1982, 1987, 1992, 1997, 2002, 2007], \"xaxis\": \"x\", \"y\": [64.28, 68.54, 69.62, 71.1, 72.16, 73.44, 73.75, 74.63, 73.911, 74.917, 77.778, 78.74600000000001], \"yaxis\": \"y\"}, {\"hovertemplate\": \"<b>%{hovertext}</b><br><br>continent=Americas<br>country=Trinidad and Tobago<br>year=%{x}<br>lifeExp=%{y}<extra></extra>\", \"hovertext\": [\"Trinidad and Tobago\", \"Trinidad and Tobago\", \"Trinidad and Tobago\", \"Trinidad and Tobago\", \"Trinidad and Tobago\", \"Trinidad and Tobago\", \"Trinidad and Tobago\", \"Trinidad and Tobago\", \"Trinidad and Tobago\", \"Trinidad and Tobago\", \"Trinidad and Tobago\", \"Trinidad and Tobago\"], \"legendgroup\": \"Americas\", \"line\": {\"color\": \"#00cc96\", \"dash\": \"solid\"}, \"mode\": \"lines\", \"name\": \"Americas\", \"showlegend\": false, \"type\": \"scattergl\", \"x\": [1952, 1957, 1962, 1967, 1972, 1977, 1982, 1987, 1992, 1997, 2002, 2007], \"xaxis\": \"x\", \"y\": [59.1, 61.8, 64.9, 65.4, 65.9, 68.3, 68.832, 69.582, 69.862, 69.465, 68.976, 69.819], \"yaxis\": \"y\"}, {\"hovertemplate\": \"<b>%{hovertext}</b><br><br>continent=Americas<br>country=United States<br>year=%{x}<br>lifeExp=%{y}<extra></extra>\", \"hovertext\": [\"United States\", \"United States\", \"United States\", \"United States\", \"United States\", \"United States\", \"United States\", \"United States\", \"United States\", \"United States\", \"United States\", \"United States\"], \"legendgroup\": \"Americas\", \"line\": {\"color\": \"#00cc96\", \"dash\": \"solid\"}, \"mode\": \"lines\", \"name\": \"Americas\", \"showlegend\": false, \"type\": \"scattergl\", \"x\": [1952, 1957, 1962, 1967, 1972, 1977, 1982, 1987, 1992, 1997, 2002, 2007], \"xaxis\": \"x\", \"y\": [68.44, 69.49, 70.21, 70.76, 71.34, 73.38, 74.65, 75.02, 76.09, 76.81, 77.31, 78.242], \"yaxis\": \"y\"}, {\"hovertemplate\": \"<b>%{hovertext}</b><br><br>continent=Americas<br>country=Uruguay<br>year=%{x}<br>lifeExp=%{y}<extra></extra>\", \"hovertext\": [\"Uruguay\", \"Uruguay\", \"Uruguay\", \"Uruguay\", \"Uruguay\", \"Uruguay\", \"Uruguay\", \"Uruguay\", \"Uruguay\", \"Uruguay\", \"Uruguay\", \"Uruguay\"], \"legendgroup\": \"Americas\", \"line\": {\"color\": \"#00cc96\", \"dash\": \"solid\"}, \"mode\": \"lines\", \"name\": \"Americas\", \"showlegend\": false, \"type\": \"scattergl\", \"x\": [1952, 1957, 1962, 1967, 1972, 1977, 1982, 1987, 1992, 1997, 2002, 2007], \"xaxis\": \"x\", \"y\": [66.071, 67.044, 68.253, 68.468, 68.673, 69.48100000000001, 70.805, 71.918, 72.752, 74.223, 75.307, 76.384], \"yaxis\": \"y\"}, {\"hovertemplate\": \"<b>%{hovertext}</b><br><br>continent=Americas<br>country=Venezuela<br>year=%{x}<br>lifeExp=%{y}<extra></extra>\", \"hovertext\": [\"Venezuela\", \"Venezuela\", \"Venezuela\", \"Venezuela\", \"Venezuela\", \"Venezuela\", \"Venezuela\", \"Venezuela\", \"Venezuela\", \"Venezuela\", \"Venezuela\", \"Venezuela\"], \"legendgroup\": \"Americas\", \"line\": {\"color\": \"#00cc96\", \"dash\": \"solid\"}, \"mode\": \"lines\", \"name\": \"Americas\", \"showlegend\": false, \"type\": \"scattergl\", \"x\": [1952, 1957, 1962, 1967, 1972, 1977, 1982, 1987, 1992, 1997, 2002, 2007], \"xaxis\": \"x\", \"y\": [55.088, 57.907, 60.77, 63.479, 65.712, 67.456, 68.557, 70.19, 71.15, 72.146, 72.766, 73.747], \"yaxis\": \"y\"}, {\"hovertemplate\": \"<b>%{hovertext}</b><br><br>continent=Oceania<br>country=Australia<br>year=%{x}<br>lifeExp=%{y}<extra></extra>\", \"hovertext\": [\"Australia\", \"Australia\", \"Australia\", \"Australia\", \"Australia\", \"Australia\", \"Australia\", \"Australia\", \"Australia\", \"Australia\", \"Australia\", \"Australia\"], \"legendgroup\": \"Oceania\", \"line\": {\"color\": \"#ab63fa\", \"dash\": \"solid\"}, \"mode\": \"lines\", \"name\": \"Oceania\", \"showlegend\": true, \"type\": \"scattergl\", \"x\": [1952, 1957, 1962, 1967, 1972, 1977, 1982, 1987, 1992, 1997, 2002, 2007], \"xaxis\": \"x\", \"y\": [69.12, 70.33, 70.93, 71.1, 71.93, 73.49, 74.74, 76.32, 77.56, 78.83, 80.37, 81.235], \"yaxis\": \"y\"}, {\"hovertemplate\": \"<b>%{hovertext}</b><br><br>continent=Oceania<br>country=New Zealand<br>year=%{x}<br>lifeExp=%{y}<extra></extra>\", \"hovertext\": [\"New Zealand\", \"New Zealand\", \"New Zealand\", \"New Zealand\", \"New Zealand\", \"New Zealand\", \"New Zealand\", \"New Zealand\", \"New Zealand\", \"New Zealand\", \"New Zealand\", \"New Zealand\"], \"legendgroup\": \"Oceania\", \"line\": {\"color\": \"#ab63fa\", \"dash\": \"solid\"}, \"mode\": \"lines\", \"name\": \"Oceania\", \"showlegend\": false, \"type\": \"scattergl\", \"x\": [1952, 1957, 1962, 1967, 1972, 1977, 1982, 1987, 1992, 1997, 2002, 2007], \"xaxis\": \"x\", \"y\": [69.39, 70.26, 71.24, 71.52, 71.89, 72.22, 73.84, 74.32, 76.33, 77.55, 79.11, 80.204], \"yaxis\": \"y\"}],\n",
       "                        {\"legend\": {\"title\": {\"text\": \"continent\"}, \"tracegroupgap\": 0}, \"margin\": {\"t\": 60}, \"template\": {\"data\": {\"bar\": [{\"error_x\": {\"color\": \"#2a3f5f\"}, \"error_y\": {\"color\": \"#2a3f5f\"}, \"marker\": {\"line\": {\"color\": \"#E5ECF6\", \"width\": 0.5}}, \"type\": \"bar\"}], \"barpolar\": [{\"marker\": {\"line\": {\"color\": \"#E5ECF6\", \"width\": 0.5}}, \"type\": \"barpolar\"}], \"carpet\": [{\"aaxis\": {\"endlinecolor\": \"#2a3f5f\", \"gridcolor\": \"white\", \"linecolor\": \"white\", \"minorgridcolor\": \"white\", \"startlinecolor\": \"#2a3f5f\"}, \"baxis\": {\"endlinecolor\": \"#2a3f5f\", \"gridcolor\": \"white\", \"linecolor\": \"white\", \"minorgridcolor\": \"white\", \"startlinecolor\": \"#2a3f5f\"}, \"type\": \"carpet\"}], \"choropleth\": [{\"colorbar\": {\"outlinewidth\": 0, \"ticks\": \"\"}, \"type\": \"choropleth\"}], \"contour\": [{\"colorbar\": {\"outlinewidth\": 0, \"ticks\": \"\"}, \"colorscale\": [[0.0, \"#0d0887\"], [0.1111111111111111, \"#46039f\"], [0.2222222222222222, \"#7201a8\"], [0.3333333333333333, \"#9c179e\"], [0.4444444444444444, \"#bd3786\"], [0.5555555555555556, \"#d8576b\"], [0.6666666666666666, \"#ed7953\"], [0.7777777777777778, \"#fb9f3a\"], [0.8888888888888888, \"#fdca26\"], [1.0, \"#f0f921\"]], \"type\": \"contour\"}], \"contourcarpet\": [{\"colorbar\": {\"outlinewidth\": 0, \"ticks\": \"\"}, \"type\": \"contourcarpet\"}], \"heatmap\": [{\"colorbar\": {\"outlinewidth\": 0, \"ticks\": \"\"}, \"colorscale\": [[0.0, \"#0d0887\"], [0.1111111111111111, \"#46039f\"], [0.2222222222222222, \"#7201a8\"], [0.3333333333333333, \"#9c179e\"], [0.4444444444444444, \"#bd3786\"], [0.5555555555555556, \"#d8576b\"], [0.6666666666666666, \"#ed7953\"], [0.7777777777777778, \"#fb9f3a\"], [0.8888888888888888, \"#fdca26\"], [1.0, \"#f0f921\"]], \"type\": \"heatmap\"}], \"heatmapgl\": [{\"colorbar\": {\"outlinewidth\": 0, \"ticks\": \"\"}, \"colorscale\": [[0.0, \"#0d0887\"], [0.1111111111111111, \"#46039f\"], [0.2222222222222222, \"#7201a8\"], [0.3333333333333333, \"#9c179e\"], [0.4444444444444444, \"#bd3786\"], [0.5555555555555556, \"#d8576b\"], [0.6666666666666666, \"#ed7953\"], [0.7777777777777778, \"#fb9f3a\"], [0.8888888888888888, \"#fdca26\"], [1.0, \"#f0f921\"]], \"type\": \"heatmapgl\"}], \"histogram\": [{\"marker\": {\"colorbar\": {\"outlinewidth\": 0, \"ticks\": \"\"}}, \"type\": \"histogram\"}], \"histogram2d\": [{\"colorbar\": {\"outlinewidth\": 0, \"ticks\": \"\"}, \"colorscale\": [[0.0, \"#0d0887\"], [0.1111111111111111, \"#46039f\"], [0.2222222222222222, \"#7201a8\"], [0.3333333333333333, \"#9c179e\"], [0.4444444444444444, \"#bd3786\"], [0.5555555555555556, \"#d8576b\"], [0.6666666666666666, \"#ed7953\"], [0.7777777777777778, \"#fb9f3a\"], [0.8888888888888888, \"#fdca26\"], [1.0, \"#f0f921\"]], \"type\": \"histogram2d\"}], \"histogram2dcontour\": [{\"colorbar\": {\"outlinewidth\": 0, \"ticks\": \"\"}, \"colorscale\": [[0.0, \"#0d0887\"], [0.1111111111111111, \"#46039f\"], [0.2222222222222222, \"#7201a8\"], [0.3333333333333333, \"#9c179e\"], [0.4444444444444444, \"#bd3786\"], [0.5555555555555556, \"#d8576b\"], [0.6666666666666666, \"#ed7953\"], [0.7777777777777778, \"#fb9f3a\"], [0.8888888888888888, \"#fdca26\"], [1.0, \"#f0f921\"]], \"type\": \"histogram2dcontour\"}], \"mesh3d\": [{\"colorbar\": {\"outlinewidth\": 0, \"ticks\": \"\"}, \"type\": \"mesh3d\"}], \"parcoords\": [{\"line\": {\"colorbar\": {\"outlinewidth\": 0, \"ticks\": \"\"}}, \"type\": \"parcoords\"}], \"pie\": [{\"automargin\": true, \"type\": \"pie\"}], \"scatter\": [{\"marker\": {\"colorbar\": {\"outlinewidth\": 0, \"ticks\": \"\"}}, \"type\": \"scatter\"}], \"scatter3d\": [{\"line\": {\"colorbar\": {\"outlinewidth\": 0, \"ticks\": \"\"}}, \"marker\": {\"colorbar\": {\"outlinewidth\": 0, \"ticks\": \"\"}}, \"type\": \"scatter3d\"}], \"scattercarpet\": [{\"marker\": {\"colorbar\": {\"outlinewidth\": 0, \"ticks\": \"\"}}, \"type\": \"scattercarpet\"}], \"scattergeo\": [{\"marker\": {\"colorbar\": {\"outlinewidth\": 0, \"ticks\": \"\"}}, \"type\": \"scattergeo\"}], \"scattergl\": [{\"marker\": {\"colorbar\": {\"outlinewidth\": 0, \"ticks\": \"\"}}, \"type\": \"scattergl\"}], \"scattermapbox\": [{\"marker\": {\"colorbar\": {\"outlinewidth\": 0, \"ticks\": \"\"}}, \"type\": \"scattermapbox\"}], \"scatterpolar\": [{\"marker\": {\"colorbar\": {\"outlinewidth\": 0, \"ticks\": \"\"}}, \"type\": \"scatterpolar\"}], \"scatterpolargl\": [{\"marker\": {\"colorbar\": {\"outlinewidth\": 0, \"ticks\": \"\"}}, \"type\": \"scatterpolargl\"}], \"scatterternary\": [{\"marker\": {\"colorbar\": {\"outlinewidth\": 0, \"ticks\": \"\"}}, \"type\": \"scatterternary\"}], \"surface\": [{\"colorbar\": {\"outlinewidth\": 0, \"ticks\": \"\"}, \"colorscale\": [[0.0, \"#0d0887\"], [0.1111111111111111, \"#46039f\"], [0.2222222222222222, \"#7201a8\"], [0.3333333333333333, \"#9c179e\"], [0.4444444444444444, \"#bd3786\"], [0.5555555555555556, \"#d8576b\"], [0.6666666666666666, \"#ed7953\"], [0.7777777777777778, \"#fb9f3a\"], [0.8888888888888888, \"#fdca26\"], [1.0, \"#f0f921\"]], \"type\": \"surface\"}], \"table\": [{\"cells\": {\"fill\": {\"color\": \"#EBF0F8\"}, \"line\": {\"color\": \"white\"}}, \"header\": {\"fill\": {\"color\": \"#C8D4E3\"}, \"line\": {\"color\": \"white\"}}, \"type\": \"table\"}]}, \"layout\": {\"annotationdefaults\": {\"arrowcolor\": \"#2a3f5f\", \"arrowhead\": 0, \"arrowwidth\": 1}, \"coloraxis\": {\"colorbar\": {\"outlinewidth\": 0, \"ticks\": \"\"}}, \"colorscale\": {\"diverging\": [[0, \"#8e0152\"], [0.1, \"#c51b7d\"], [0.2, \"#de77ae\"], [0.3, \"#f1b6da\"], [0.4, \"#fde0ef\"], [0.5, \"#f7f7f7\"], [0.6, \"#e6f5d0\"], [0.7, \"#b8e186\"], [0.8, \"#7fbc41\"], [0.9, \"#4d9221\"], [1, \"#276419\"]], \"sequential\": [[0.0, \"#0d0887\"], [0.1111111111111111, \"#46039f\"], [0.2222222222222222, \"#7201a8\"], [0.3333333333333333, \"#9c179e\"], [0.4444444444444444, \"#bd3786\"], [0.5555555555555556, \"#d8576b\"], [0.6666666666666666, \"#ed7953\"], [0.7777777777777778, \"#fb9f3a\"], [0.8888888888888888, \"#fdca26\"], [1.0, \"#f0f921\"]], \"sequentialminus\": [[0.0, \"#0d0887\"], [0.1111111111111111, \"#46039f\"], [0.2222222222222222, \"#7201a8\"], [0.3333333333333333, \"#9c179e\"], [0.4444444444444444, \"#bd3786\"], [0.5555555555555556, \"#d8576b\"], [0.6666666666666666, \"#ed7953\"], [0.7777777777777778, \"#fb9f3a\"], [0.8888888888888888, \"#fdca26\"], [1.0, \"#f0f921\"]]}, \"colorway\": [\"#636efa\", \"#EF553B\", \"#00cc96\", \"#ab63fa\", \"#FFA15A\", \"#19d3f3\", \"#FF6692\", \"#B6E880\", \"#FF97FF\", \"#FECB52\"], \"font\": {\"color\": \"#2a3f5f\"}, \"geo\": {\"bgcolor\": \"white\", \"lakecolor\": \"white\", \"landcolor\": \"#E5ECF6\", \"showlakes\": true, \"showland\": true, \"subunitcolor\": \"white\"}, \"hoverlabel\": {\"align\": \"left\"}, \"hovermode\": \"closest\", \"mapbox\": {\"style\": \"light\"}, \"paper_bgcolor\": \"white\", \"plot_bgcolor\": \"#E5ECF6\", \"polar\": {\"angularaxis\": {\"gridcolor\": \"white\", \"linecolor\": \"white\", \"ticks\": \"\"}, \"bgcolor\": \"#E5ECF6\", \"radialaxis\": {\"gridcolor\": \"white\", \"linecolor\": \"white\", \"ticks\": \"\"}}, \"scene\": {\"xaxis\": {\"backgroundcolor\": \"#E5ECF6\", \"gridcolor\": \"white\", \"gridwidth\": 2, \"linecolor\": \"white\", \"showbackground\": true, \"ticks\": \"\", \"zerolinecolor\": \"white\"}, \"yaxis\": {\"backgroundcolor\": \"#E5ECF6\", \"gridcolor\": \"white\", \"gridwidth\": 2, \"linecolor\": \"white\", \"showbackground\": true, \"ticks\": \"\", \"zerolinecolor\": \"white\"}, \"zaxis\": {\"backgroundcolor\": \"#E5ECF6\", \"gridcolor\": \"white\", \"gridwidth\": 2, \"linecolor\": \"white\", \"showbackground\": true, \"ticks\": \"\", \"zerolinecolor\": \"white\"}}, \"shapedefaults\": {\"line\": {\"color\": \"#2a3f5f\"}}, \"ternary\": {\"aaxis\": {\"gridcolor\": \"white\", \"linecolor\": \"white\", \"ticks\": \"\"}, \"baxis\": {\"gridcolor\": \"white\", \"linecolor\": \"white\", \"ticks\": \"\"}, \"bgcolor\": \"#E5ECF6\", \"caxis\": {\"gridcolor\": \"white\", \"linecolor\": \"white\", \"ticks\": \"\"}}, \"title\": {\"x\": 0.05}, \"xaxis\": {\"automargin\": true, \"gridcolor\": \"white\", \"linecolor\": \"white\", \"ticks\": \"\", \"title\": {\"standoff\": 15}, \"zerolinecolor\": \"white\", \"zerolinewidth\": 2}, \"yaxis\": {\"automargin\": true, \"gridcolor\": \"white\", \"linecolor\": \"white\", \"ticks\": \"\", \"title\": {\"standoff\": 15}, \"zerolinecolor\": \"white\", \"zerolinewidth\": 2}}}, \"xaxis\": {\"anchor\": \"y\", \"domain\": [0.0, 1.0], \"title\": {\"text\": \"year\"}}, \"yaxis\": {\"anchor\": \"x\", \"domain\": [0.0, 1.0], \"title\": {\"text\": \"lifeExp\"}}},\n",
       "                        {\"responsive\": true}\n",
       "                    ).then(function(){\n",
       "                            \n",
       "var gd = document.getElementById('52474a51-4708-4881-b3aa-2b924b5354ee');\n",
       "var x = new MutationObserver(function (mutations, observer) {{\n",
       "        var display = window.getComputedStyle(gd).display;\n",
       "        if (!display || display === 'none') {{\n",
       "            console.log([gd, 'removed!']);\n",
       "            Plotly.purge(gd);\n",
       "            observer.disconnect();\n",
       "        }}\n",
       "}});\n",
       "\n",
       "// Listen for the removal of the full notebook cells\n",
       "var notebookContainer = gd.closest('#notebook-container');\n",
       "if (notebookContainer) {{\n",
       "    x.observe(notebookContainer, {childList: true});\n",
       "}}\n",
       "\n",
       "// Listen for the clearing of the current output cell\n",
       "var outputEl = gd.closest('.output');\n",
       "if (outputEl) {{\n",
       "    x.observe(outputEl, {childList: true});\n",
       "}}\n",
       "\n",
       "                        })\n",
       "                };\n",
       "                });\n",
       "            </script>\n",
       "        </div>"
      ]
     },
     "metadata": {},
     "output_type": "display_data"
    }
   ],
   "source": [
    "import plotly.express as px\n",
    "\n",
    "df = px.data.gapminder().query(\"continent != 'Asia'\") # remove Asia for visibility\n",
    "fig = px.line(df, x=\"year\", y=\"lifeExp\", color=\"continent\",\n",
    "              line_group=\"country\", hover_name=\"country\")\n",
    "fig.show()"
   ]
  },
  {
   "cell_type": "markdown",
   "metadata": {},
   "source": [
    "## Using Plotly's Graph Objects\n",
    "* If Plotly Express does not provide a good starting point, it is possible to use the more generic *go.Scatter* from *plotly.graph_objects*. \n",
    "* Whereas *plotly.express* has two functions *scatter* and *line*, *go.Scatter* can be used both for plotting points (markers) or lines, depending on the value of mode. \n",
    "* The different options of go.Scatter are documented in its [reference page](https://plot.ly/python/reference/#scatter)."
   ]
  },
  {
   "cell_type": "markdown",
   "metadata": {},
   "source": [
    "## Line Plot with go.Scatter"
   ]
  },
  {
   "cell_type": "code",
   "execution_count": 10,
   "metadata": {},
   "outputs": [
    {
     "data": {
      "application/vnd.plotly.v1+json": {
       "config": {
        "plotlyServerURL": "https://plot.ly"
       },
       "data": [
        {
         "type": "scatter",
         "x": [
          0,
          1,
          2,
          3,
          4,
          5,
          6,
          7,
          8,
          9
         ],
         "y": [
          0,
          1,
          4,
          9,
          16,
          25,
          36,
          49,
          64,
          81
         ]
        }
       ],
       "layout": {
        "template": {
         "data": {
          "bar": [
           {
            "error_x": {
             "color": "#2a3f5f"
            },
            "error_y": {
             "color": "#2a3f5f"
            },
            "marker": {
             "line": {
              "color": "#E5ECF6",
              "width": 0.5
             }
            },
            "type": "bar"
           }
          ],
          "barpolar": [
           {
            "marker": {
             "line": {
              "color": "#E5ECF6",
              "width": 0.5
             }
            },
            "type": "barpolar"
           }
          ],
          "carpet": [
           {
            "aaxis": {
             "endlinecolor": "#2a3f5f",
             "gridcolor": "white",
             "linecolor": "white",
             "minorgridcolor": "white",
             "startlinecolor": "#2a3f5f"
            },
            "baxis": {
             "endlinecolor": "#2a3f5f",
             "gridcolor": "white",
             "linecolor": "white",
             "minorgridcolor": "white",
             "startlinecolor": "#2a3f5f"
            },
            "type": "carpet"
           }
          ],
          "choropleth": [
           {
            "colorbar": {
             "outlinewidth": 0,
             "ticks": ""
            },
            "type": "choropleth"
           }
          ],
          "contour": [
           {
            "colorbar": {
             "outlinewidth": 0,
             "ticks": ""
            },
            "colorscale": [
             [
              0,
              "#0d0887"
             ],
             [
              0.1111111111111111,
              "#46039f"
             ],
             [
              0.2222222222222222,
              "#7201a8"
             ],
             [
              0.3333333333333333,
              "#9c179e"
             ],
             [
              0.4444444444444444,
              "#bd3786"
             ],
             [
              0.5555555555555556,
              "#d8576b"
             ],
             [
              0.6666666666666666,
              "#ed7953"
             ],
             [
              0.7777777777777778,
              "#fb9f3a"
             ],
             [
              0.8888888888888888,
              "#fdca26"
             ],
             [
              1,
              "#f0f921"
             ]
            ],
            "type": "contour"
           }
          ],
          "contourcarpet": [
           {
            "colorbar": {
             "outlinewidth": 0,
             "ticks": ""
            },
            "type": "contourcarpet"
           }
          ],
          "heatmap": [
           {
            "colorbar": {
             "outlinewidth": 0,
             "ticks": ""
            },
            "colorscale": [
             [
              0,
              "#0d0887"
             ],
             [
              0.1111111111111111,
              "#46039f"
             ],
             [
              0.2222222222222222,
              "#7201a8"
             ],
             [
              0.3333333333333333,
              "#9c179e"
             ],
             [
              0.4444444444444444,
              "#bd3786"
             ],
             [
              0.5555555555555556,
              "#d8576b"
             ],
             [
              0.6666666666666666,
              "#ed7953"
             ],
             [
              0.7777777777777778,
              "#fb9f3a"
             ],
             [
              0.8888888888888888,
              "#fdca26"
             ],
             [
              1,
              "#f0f921"
             ]
            ],
            "type": "heatmap"
           }
          ],
          "heatmapgl": [
           {
            "colorbar": {
             "outlinewidth": 0,
             "ticks": ""
            },
            "colorscale": [
             [
              0,
              "#0d0887"
             ],
             [
              0.1111111111111111,
              "#46039f"
             ],
             [
              0.2222222222222222,
              "#7201a8"
             ],
             [
              0.3333333333333333,
              "#9c179e"
             ],
             [
              0.4444444444444444,
              "#bd3786"
             ],
             [
              0.5555555555555556,
              "#d8576b"
             ],
             [
              0.6666666666666666,
              "#ed7953"
             ],
             [
              0.7777777777777778,
              "#fb9f3a"
             ],
             [
              0.8888888888888888,
              "#fdca26"
             ],
             [
              1,
              "#f0f921"
             ]
            ],
            "type": "heatmapgl"
           }
          ],
          "histogram": [
           {
            "marker": {
             "colorbar": {
              "outlinewidth": 0,
              "ticks": ""
             }
            },
            "type": "histogram"
           }
          ],
          "histogram2d": [
           {
            "colorbar": {
             "outlinewidth": 0,
             "ticks": ""
            },
            "colorscale": [
             [
              0,
              "#0d0887"
             ],
             [
              0.1111111111111111,
              "#46039f"
             ],
             [
              0.2222222222222222,
              "#7201a8"
             ],
             [
              0.3333333333333333,
              "#9c179e"
             ],
             [
              0.4444444444444444,
              "#bd3786"
             ],
             [
              0.5555555555555556,
              "#d8576b"
             ],
             [
              0.6666666666666666,
              "#ed7953"
             ],
             [
              0.7777777777777778,
              "#fb9f3a"
             ],
             [
              0.8888888888888888,
              "#fdca26"
             ],
             [
              1,
              "#f0f921"
             ]
            ],
            "type": "histogram2d"
           }
          ],
          "histogram2dcontour": [
           {
            "colorbar": {
             "outlinewidth": 0,
             "ticks": ""
            },
            "colorscale": [
             [
              0,
              "#0d0887"
             ],
             [
              0.1111111111111111,
              "#46039f"
             ],
             [
              0.2222222222222222,
              "#7201a8"
             ],
             [
              0.3333333333333333,
              "#9c179e"
             ],
             [
              0.4444444444444444,
              "#bd3786"
             ],
             [
              0.5555555555555556,
              "#d8576b"
             ],
             [
              0.6666666666666666,
              "#ed7953"
             ],
             [
              0.7777777777777778,
              "#fb9f3a"
             ],
             [
              0.8888888888888888,
              "#fdca26"
             ],
             [
              1,
              "#f0f921"
             ]
            ],
            "type": "histogram2dcontour"
           }
          ],
          "mesh3d": [
           {
            "colorbar": {
             "outlinewidth": 0,
             "ticks": ""
            },
            "type": "mesh3d"
           }
          ],
          "parcoords": [
           {
            "line": {
             "colorbar": {
              "outlinewidth": 0,
              "ticks": ""
             }
            },
            "type": "parcoords"
           }
          ],
          "pie": [
           {
            "automargin": true,
            "type": "pie"
           }
          ],
          "scatter": [
           {
            "marker": {
             "colorbar": {
              "outlinewidth": 0,
              "ticks": ""
             }
            },
            "type": "scatter"
           }
          ],
          "scatter3d": [
           {
            "line": {
             "colorbar": {
              "outlinewidth": 0,
              "ticks": ""
             }
            },
            "marker": {
             "colorbar": {
              "outlinewidth": 0,
              "ticks": ""
             }
            },
            "type": "scatter3d"
           }
          ],
          "scattercarpet": [
           {
            "marker": {
             "colorbar": {
              "outlinewidth": 0,
              "ticks": ""
             }
            },
            "type": "scattercarpet"
           }
          ],
          "scattergeo": [
           {
            "marker": {
             "colorbar": {
              "outlinewidth": 0,
              "ticks": ""
             }
            },
            "type": "scattergeo"
           }
          ],
          "scattergl": [
           {
            "marker": {
             "colorbar": {
              "outlinewidth": 0,
              "ticks": ""
             }
            },
            "type": "scattergl"
           }
          ],
          "scattermapbox": [
           {
            "marker": {
             "colorbar": {
              "outlinewidth": 0,
              "ticks": ""
             }
            },
            "type": "scattermapbox"
           }
          ],
          "scatterpolar": [
           {
            "marker": {
             "colorbar": {
              "outlinewidth": 0,
              "ticks": ""
             }
            },
            "type": "scatterpolar"
           }
          ],
          "scatterpolargl": [
           {
            "marker": {
             "colorbar": {
              "outlinewidth": 0,
              "ticks": ""
             }
            },
            "type": "scatterpolargl"
           }
          ],
          "scatterternary": [
           {
            "marker": {
             "colorbar": {
              "outlinewidth": 0,
              "ticks": ""
             }
            },
            "type": "scatterternary"
           }
          ],
          "surface": [
           {
            "colorbar": {
             "outlinewidth": 0,
             "ticks": ""
            },
            "colorscale": [
             [
              0,
              "#0d0887"
             ],
             [
              0.1111111111111111,
              "#46039f"
             ],
             [
              0.2222222222222222,
              "#7201a8"
             ],
             [
              0.3333333333333333,
              "#9c179e"
             ],
             [
              0.4444444444444444,
              "#bd3786"
             ],
             [
              0.5555555555555556,
              "#d8576b"
             ],
             [
              0.6666666666666666,
              "#ed7953"
             ],
             [
              0.7777777777777778,
              "#fb9f3a"
             ],
             [
              0.8888888888888888,
              "#fdca26"
             ],
             [
              1,
              "#f0f921"
             ]
            ],
            "type": "surface"
           }
          ],
          "table": [
           {
            "cells": {
             "fill": {
              "color": "#EBF0F8"
             },
             "line": {
              "color": "white"
             }
            },
            "header": {
             "fill": {
              "color": "#C8D4E3"
             },
             "line": {
              "color": "white"
             }
            },
            "type": "table"
           }
          ]
         },
         "layout": {
          "annotationdefaults": {
           "arrowcolor": "#2a3f5f",
           "arrowhead": 0,
           "arrowwidth": 1
          },
          "coloraxis": {
           "colorbar": {
            "outlinewidth": 0,
            "ticks": ""
           }
          },
          "colorscale": {
           "diverging": [
            [
             0,
             "#8e0152"
            ],
            [
             0.1,
             "#c51b7d"
            ],
            [
             0.2,
             "#de77ae"
            ],
            [
             0.3,
             "#f1b6da"
            ],
            [
             0.4,
             "#fde0ef"
            ],
            [
             0.5,
             "#f7f7f7"
            ],
            [
             0.6,
             "#e6f5d0"
            ],
            [
             0.7,
             "#b8e186"
            ],
            [
             0.8,
             "#7fbc41"
            ],
            [
             0.9,
             "#4d9221"
            ],
            [
             1,
             "#276419"
            ]
           ],
           "sequential": [
            [
             0,
             "#0d0887"
            ],
            [
             0.1111111111111111,
             "#46039f"
            ],
            [
             0.2222222222222222,
             "#7201a8"
            ],
            [
             0.3333333333333333,
             "#9c179e"
            ],
            [
             0.4444444444444444,
             "#bd3786"
            ],
            [
             0.5555555555555556,
             "#d8576b"
            ],
            [
             0.6666666666666666,
             "#ed7953"
            ],
            [
             0.7777777777777778,
             "#fb9f3a"
            ],
            [
             0.8888888888888888,
             "#fdca26"
            ],
            [
             1,
             "#f0f921"
            ]
           ],
           "sequentialminus": [
            [
             0,
             "#0d0887"
            ],
            [
             0.1111111111111111,
             "#46039f"
            ],
            [
             0.2222222222222222,
             "#7201a8"
            ],
            [
             0.3333333333333333,
             "#9c179e"
            ],
            [
             0.4444444444444444,
             "#bd3786"
            ],
            [
             0.5555555555555556,
             "#d8576b"
            ],
            [
             0.6666666666666666,
             "#ed7953"
            ],
            [
             0.7777777777777778,
             "#fb9f3a"
            ],
            [
             0.8888888888888888,
             "#fdca26"
            ],
            [
             1,
             "#f0f921"
            ]
           ]
          },
          "colorway": [
           "#636efa",
           "#EF553B",
           "#00cc96",
           "#ab63fa",
           "#FFA15A",
           "#19d3f3",
           "#FF6692",
           "#B6E880",
           "#FF97FF",
           "#FECB52"
          ],
          "font": {
           "color": "#2a3f5f"
          },
          "geo": {
           "bgcolor": "white",
           "lakecolor": "white",
           "landcolor": "#E5ECF6",
           "showlakes": true,
           "showland": true,
           "subunitcolor": "white"
          },
          "hoverlabel": {
           "align": "left"
          },
          "hovermode": "closest",
          "mapbox": {
           "style": "light"
          },
          "paper_bgcolor": "white",
          "plot_bgcolor": "#E5ECF6",
          "polar": {
           "angularaxis": {
            "gridcolor": "white",
            "linecolor": "white",
            "ticks": ""
           },
           "bgcolor": "#E5ECF6",
           "radialaxis": {
            "gridcolor": "white",
            "linecolor": "white",
            "ticks": ""
           }
          },
          "scene": {
           "xaxis": {
            "backgroundcolor": "#E5ECF6",
            "gridcolor": "white",
            "gridwidth": 2,
            "linecolor": "white",
            "showbackground": true,
            "ticks": "",
            "zerolinecolor": "white"
           },
           "yaxis": {
            "backgroundcolor": "#E5ECF6",
            "gridcolor": "white",
            "gridwidth": 2,
            "linecolor": "white",
            "showbackground": true,
            "ticks": "",
            "zerolinecolor": "white"
           },
           "zaxis": {
            "backgroundcolor": "#E5ECF6",
            "gridcolor": "white",
            "gridwidth": 2,
            "linecolor": "white",
            "showbackground": true,
            "ticks": "",
            "zerolinecolor": "white"
           }
          },
          "shapedefaults": {
           "line": {
            "color": "#2a3f5f"
           }
          },
          "ternary": {
           "aaxis": {
            "gridcolor": "white",
            "linecolor": "white",
            "ticks": ""
           },
           "baxis": {
            "gridcolor": "white",
            "linecolor": "white",
            "ticks": ""
           },
           "bgcolor": "#E5ECF6",
           "caxis": {
            "gridcolor": "white",
            "linecolor": "white",
            "ticks": ""
           }
          },
          "title": {
           "x": 0.05
          },
          "xaxis": {
           "automargin": true,
           "gridcolor": "white",
           "linecolor": "white",
           "ticks": "",
           "title": {
            "standoff": 15
           },
           "zerolinecolor": "white",
           "zerolinewidth": 2
          },
          "yaxis": {
           "automargin": true,
           "gridcolor": "white",
           "linecolor": "white",
           "ticks": "",
           "title": {
            "standoff": 15
           },
           "zerolinecolor": "white",
           "zerolinewidth": 2
          }
         }
        }
       }
      },
      "text/html": [
       "<div>\n",
       "        \n",
       "        \n",
       "            <div id=\"03e74f32-a7c4-4f35-a77a-793baf1a5df0\" class=\"plotly-graph-div\" style=\"height:525px; width:100%;\"></div>\n",
       "            <script type=\"text/javascript\">\n",
       "                require([\"plotly\"], function(Plotly) {\n",
       "                    window.PLOTLYENV=window.PLOTLYENV || {};\n",
       "                    \n",
       "                if (document.getElementById(\"03e74f32-a7c4-4f35-a77a-793baf1a5df0\")) {\n",
       "                    Plotly.newPlot(\n",
       "                        '03e74f32-a7c4-4f35-a77a-793baf1a5df0',\n",
       "                        [{\"type\": \"scatter\", \"x\": [0, 1, 2, 3, 4, 5, 6, 7, 8, 9], \"y\": [0, 1, 4, 9, 16, 25, 36, 49, 64, 81]}],\n",
       "                        {\"template\": {\"data\": {\"bar\": [{\"error_x\": {\"color\": \"#2a3f5f\"}, \"error_y\": {\"color\": \"#2a3f5f\"}, \"marker\": {\"line\": {\"color\": \"#E5ECF6\", \"width\": 0.5}}, \"type\": \"bar\"}], \"barpolar\": [{\"marker\": {\"line\": {\"color\": \"#E5ECF6\", \"width\": 0.5}}, \"type\": \"barpolar\"}], \"carpet\": [{\"aaxis\": {\"endlinecolor\": \"#2a3f5f\", \"gridcolor\": \"white\", \"linecolor\": \"white\", \"minorgridcolor\": \"white\", \"startlinecolor\": \"#2a3f5f\"}, \"baxis\": {\"endlinecolor\": \"#2a3f5f\", \"gridcolor\": \"white\", \"linecolor\": \"white\", \"minorgridcolor\": \"white\", \"startlinecolor\": \"#2a3f5f\"}, \"type\": \"carpet\"}], \"choropleth\": [{\"colorbar\": {\"outlinewidth\": 0, \"ticks\": \"\"}, \"type\": \"choropleth\"}], \"contour\": [{\"colorbar\": {\"outlinewidth\": 0, \"ticks\": \"\"}, \"colorscale\": [[0.0, \"#0d0887\"], [0.1111111111111111, \"#46039f\"], [0.2222222222222222, \"#7201a8\"], [0.3333333333333333, \"#9c179e\"], [0.4444444444444444, \"#bd3786\"], [0.5555555555555556, \"#d8576b\"], [0.6666666666666666, \"#ed7953\"], [0.7777777777777778, \"#fb9f3a\"], [0.8888888888888888, \"#fdca26\"], [1.0, \"#f0f921\"]], \"type\": \"contour\"}], \"contourcarpet\": [{\"colorbar\": {\"outlinewidth\": 0, \"ticks\": \"\"}, \"type\": \"contourcarpet\"}], \"heatmap\": [{\"colorbar\": {\"outlinewidth\": 0, \"ticks\": \"\"}, \"colorscale\": [[0.0, \"#0d0887\"], [0.1111111111111111, \"#46039f\"], [0.2222222222222222, \"#7201a8\"], [0.3333333333333333, \"#9c179e\"], [0.4444444444444444, \"#bd3786\"], [0.5555555555555556, \"#d8576b\"], [0.6666666666666666, \"#ed7953\"], [0.7777777777777778, \"#fb9f3a\"], [0.8888888888888888, \"#fdca26\"], [1.0, \"#f0f921\"]], \"type\": \"heatmap\"}], \"heatmapgl\": [{\"colorbar\": {\"outlinewidth\": 0, \"ticks\": \"\"}, \"colorscale\": [[0.0, \"#0d0887\"], [0.1111111111111111, \"#46039f\"], [0.2222222222222222, \"#7201a8\"], [0.3333333333333333, \"#9c179e\"], [0.4444444444444444, \"#bd3786\"], [0.5555555555555556, \"#d8576b\"], [0.6666666666666666, \"#ed7953\"], [0.7777777777777778, \"#fb9f3a\"], [0.8888888888888888, \"#fdca26\"], [1.0, \"#f0f921\"]], \"type\": \"heatmapgl\"}], \"histogram\": [{\"marker\": {\"colorbar\": {\"outlinewidth\": 0, \"ticks\": \"\"}}, \"type\": \"histogram\"}], \"histogram2d\": [{\"colorbar\": {\"outlinewidth\": 0, \"ticks\": \"\"}, \"colorscale\": [[0.0, \"#0d0887\"], [0.1111111111111111, \"#46039f\"], [0.2222222222222222, \"#7201a8\"], [0.3333333333333333, \"#9c179e\"], [0.4444444444444444, \"#bd3786\"], [0.5555555555555556, \"#d8576b\"], [0.6666666666666666, \"#ed7953\"], [0.7777777777777778, \"#fb9f3a\"], [0.8888888888888888, \"#fdca26\"], [1.0, \"#f0f921\"]], \"type\": \"histogram2d\"}], \"histogram2dcontour\": [{\"colorbar\": {\"outlinewidth\": 0, \"ticks\": \"\"}, \"colorscale\": [[0.0, \"#0d0887\"], [0.1111111111111111, \"#46039f\"], [0.2222222222222222, \"#7201a8\"], [0.3333333333333333, \"#9c179e\"], [0.4444444444444444, \"#bd3786\"], [0.5555555555555556, \"#d8576b\"], [0.6666666666666666, \"#ed7953\"], [0.7777777777777778, \"#fb9f3a\"], [0.8888888888888888, \"#fdca26\"], [1.0, \"#f0f921\"]], \"type\": \"histogram2dcontour\"}], \"mesh3d\": [{\"colorbar\": {\"outlinewidth\": 0, \"ticks\": \"\"}, \"type\": \"mesh3d\"}], \"parcoords\": [{\"line\": {\"colorbar\": {\"outlinewidth\": 0, \"ticks\": \"\"}}, \"type\": \"parcoords\"}], \"pie\": [{\"automargin\": true, \"type\": \"pie\"}], \"scatter\": [{\"marker\": {\"colorbar\": {\"outlinewidth\": 0, \"ticks\": \"\"}}, \"type\": \"scatter\"}], \"scatter3d\": [{\"line\": {\"colorbar\": {\"outlinewidth\": 0, \"ticks\": \"\"}}, \"marker\": {\"colorbar\": {\"outlinewidth\": 0, \"ticks\": \"\"}}, \"type\": \"scatter3d\"}], \"scattercarpet\": [{\"marker\": {\"colorbar\": {\"outlinewidth\": 0, \"ticks\": \"\"}}, \"type\": \"scattercarpet\"}], \"scattergeo\": [{\"marker\": {\"colorbar\": {\"outlinewidth\": 0, \"ticks\": \"\"}}, \"type\": \"scattergeo\"}], \"scattergl\": [{\"marker\": {\"colorbar\": {\"outlinewidth\": 0, \"ticks\": \"\"}}, \"type\": \"scattergl\"}], \"scattermapbox\": [{\"marker\": {\"colorbar\": {\"outlinewidth\": 0, \"ticks\": \"\"}}, \"type\": \"scattermapbox\"}], \"scatterpolar\": [{\"marker\": {\"colorbar\": {\"outlinewidth\": 0, \"ticks\": \"\"}}, \"type\": \"scatterpolar\"}], \"scatterpolargl\": [{\"marker\": {\"colorbar\": {\"outlinewidth\": 0, \"ticks\": \"\"}}, \"type\": \"scatterpolargl\"}], \"scatterternary\": [{\"marker\": {\"colorbar\": {\"outlinewidth\": 0, \"ticks\": \"\"}}, \"type\": \"scatterternary\"}], \"surface\": [{\"colorbar\": {\"outlinewidth\": 0, \"ticks\": \"\"}, \"colorscale\": [[0.0, \"#0d0887\"], [0.1111111111111111, \"#46039f\"], [0.2222222222222222, \"#7201a8\"], [0.3333333333333333, \"#9c179e\"], [0.4444444444444444, \"#bd3786\"], [0.5555555555555556, \"#d8576b\"], [0.6666666666666666, \"#ed7953\"], [0.7777777777777778, \"#fb9f3a\"], [0.8888888888888888, \"#fdca26\"], [1.0, \"#f0f921\"]], \"type\": \"surface\"}], \"table\": [{\"cells\": {\"fill\": {\"color\": \"#EBF0F8\"}, \"line\": {\"color\": \"white\"}}, \"header\": {\"fill\": {\"color\": \"#C8D4E3\"}, \"line\": {\"color\": \"white\"}}, \"type\": \"table\"}]}, \"layout\": {\"annotationdefaults\": {\"arrowcolor\": \"#2a3f5f\", \"arrowhead\": 0, \"arrowwidth\": 1}, \"coloraxis\": {\"colorbar\": {\"outlinewidth\": 0, \"ticks\": \"\"}}, \"colorscale\": {\"diverging\": [[0, \"#8e0152\"], [0.1, \"#c51b7d\"], [0.2, \"#de77ae\"], [0.3, \"#f1b6da\"], [0.4, \"#fde0ef\"], [0.5, \"#f7f7f7\"], [0.6, \"#e6f5d0\"], [0.7, \"#b8e186\"], [0.8, \"#7fbc41\"], [0.9, \"#4d9221\"], [1, \"#276419\"]], \"sequential\": [[0.0, \"#0d0887\"], [0.1111111111111111, \"#46039f\"], [0.2222222222222222, \"#7201a8\"], [0.3333333333333333, \"#9c179e\"], [0.4444444444444444, \"#bd3786\"], [0.5555555555555556, \"#d8576b\"], [0.6666666666666666, \"#ed7953\"], [0.7777777777777778, \"#fb9f3a\"], [0.8888888888888888, \"#fdca26\"], [1.0, \"#f0f921\"]], \"sequentialminus\": [[0.0, \"#0d0887\"], [0.1111111111111111, \"#46039f\"], [0.2222222222222222, \"#7201a8\"], [0.3333333333333333, \"#9c179e\"], [0.4444444444444444, \"#bd3786\"], [0.5555555555555556, \"#d8576b\"], [0.6666666666666666, \"#ed7953\"], [0.7777777777777778, \"#fb9f3a\"], [0.8888888888888888, \"#fdca26\"], [1.0, \"#f0f921\"]]}, \"colorway\": [\"#636efa\", \"#EF553B\", \"#00cc96\", \"#ab63fa\", \"#FFA15A\", \"#19d3f3\", \"#FF6692\", \"#B6E880\", \"#FF97FF\", \"#FECB52\"], \"font\": {\"color\": \"#2a3f5f\"}, \"geo\": {\"bgcolor\": \"white\", \"lakecolor\": \"white\", \"landcolor\": \"#E5ECF6\", \"showlakes\": true, \"showland\": true, \"subunitcolor\": \"white\"}, \"hoverlabel\": {\"align\": \"left\"}, \"hovermode\": \"closest\", \"mapbox\": {\"style\": \"light\"}, \"paper_bgcolor\": \"white\", \"plot_bgcolor\": \"#E5ECF6\", \"polar\": {\"angularaxis\": {\"gridcolor\": \"white\", \"linecolor\": \"white\", \"ticks\": \"\"}, \"bgcolor\": \"#E5ECF6\", \"radialaxis\": {\"gridcolor\": \"white\", \"linecolor\": \"white\", \"ticks\": \"\"}}, \"scene\": {\"xaxis\": {\"backgroundcolor\": \"#E5ECF6\", \"gridcolor\": \"white\", \"gridwidth\": 2, \"linecolor\": \"white\", \"showbackground\": true, \"ticks\": \"\", \"zerolinecolor\": \"white\"}, \"yaxis\": {\"backgroundcolor\": \"#E5ECF6\", \"gridcolor\": \"white\", \"gridwidth\": 2, \"linecolor\": \"white\", \"showbackground\": true, \"ticks\": \"\", \"zerolinecolor\": \"white\"}, \"zaxis\": {\"backgroundcolor\": \"#E5ECF6\", \"gridcolor\": \"white\", \"gridwidth\": 2, \"linecolor\": \"white\", \"showbackground\": true, \"ticks\": \"\", \"zerolinecolor\": \"white\"}}, \"shapedefaults\": {\"line\": {\"color\": \"#2a3f5f\"}}, \"ternary\": {\"aaxis\": {\"gridcolor\": \"white\", \"linecolor\": \"white\", \"ticks\": \"\"}, \"baxis\": {\"gridcolor\": \"white\", \"linecolor\": \"white\", \"ticks\": \"\"}, \"bgcolor\": \"#E5ECF6\", \"caxis\": {\"gridcolor\": \"white\", \"linecolor\": \"white\", \"ticks\": \"\"}}, \"title\": {\"x\": 0.05}, \"xaxis\": {\"automargin\": true, \"gridcolor\": \"white\", \"linecolor\": \"white\", \"ticks\": \"\", \"title\": {\"standoff\": 15}, \"zerolinecolor\": \"white\", \"zerolinewidth\": 2}, \"yaxis\": {\"automargin\": true, \"gridcolor\": \"white\", \"linecolor\": \"white\", \"ticks\": \"\", \"title\": {\"standoff\": 15}, \"zerolinecolor\": \"white\", \"zerolinewidth\": 2}}}},\n",
       "                        {\"responsive\": true}\n",
       "                    ).then(function(){\n",
       "                            \n",
       "var gd = document.getElementById('03e74f32-a7c4-4f35-a77a-793baf1a5df0');\n",
       "var x = new MutationObserver(function (mutations, observer) {{\n",
       "        var display = window.getComputedStyle(gd).display;\n",
       "        if (!display || display === 'none') {{\n",
       "            console.log([gd, 'removed!']);\n",
       "            Plotly.purge(gd);\n",
       "            observer.disconnect();\n",
       "        }}\n",
       "}});\n",
       "\n",
       "// Listen for the removal of the full notebook cells\n",
       "var notebookContainer = gd.closest('#notebook-container');\n",
       "if (notebookContainer) {{\n",
       "    x.observe(notebookContainer, {childList: true});\n",
       "}}\n",
       "\n",
       "// Listen for the clearing of the current output cell\n",
       "var outputEl = gd.closest('.output');\n",
       "if (outputEl) {{\n",
       "    x.observe(outputEl, {childList: true});\n",
       "}}\n",
       "\n",
       "                        })\n",
       "                };\n",
       "                });\n",
       "            </script>\n",
       "        </div>"
      ]
     },
     "metadata": {},
     "output_type": "display_data"
    }
   ],
   "source": [
    "import plotly.graph_objects as go\n",
    "import numpy as np\n",
    "\n",
    "x = np.arange(10)\n",
    "\n",
    "fig = go.Figure(data=go.Scatter(x=x, y=x**2))\n",
    "fig.show()"
   ]
  },
  {
   "cell_type": "markdown",
   "metadata": {},
   "source": [
    "## Line Plot Modes"
   ]
  },
  {
   "cell_type": "code",
   "execution_count": 11,
   "metadata": {},
   "outputs": [
    {
     "data": {
      "application/vnd.plotly.v1+json": {
       "config": {
        "plotlyServerURL": "https://plot.ly"
       },
       "data": [
        {
         "mode": "lines",
         "name": "lines",
         "type": "scatter",
         "x": [
          0,
          0.010101010101010102,
          0.020202020202020204,
          0.030303030303030304,
          0.04040404040404041,
          0.05050505050505051,
          0.06060606060606061,
          0.07070707070707072,
          0.08080808080808081,
          0.09090909090909091,
          0.10101010101010102,
          0.11111111111111112,
          0.12121212121212122,
          0.13131313131313133,
          0.14141414141414144,
          0.15151515151515152,
          0.16161616161616163,
          0.17171717171717174,
          0.18181818181818182,
          0.19191919191919193,
          0.20202020202020204,
          0.21212121212121213,
          0.22222222222222224,
          0.23232323232323235,
          0.24242424242424243,
          0.25252525252525254,
          0.26262626262626265,
          0.27272727272727276,
          0.2828282828282829,
          0.29292929292929293,
          0.30303030303030304,
          0.31313131313131315,
          0.32323232323232326,
          0.33333333333333337,
          0.3434343434343435,
          0.3535353535353536,
          0.36363636363636365,
          0.37373737373737376,
          0.38383838383838387,
          0.393939393939394,
          0.4040404040404041,
          0.4141414141414142,
          0.42424242424242425,
          0.43434343434343436,
          0.4444444444444445,
          0.4545454545454546,
          0.4646464646464647,
          0.4747474747474748,
          0.48484848484848486,
          0.494949494949495,
          0.5050505050505051,
          0.5151515151515152,
          0.5252525252525253,
          0.5353535353535354,
          0.5454545454545455,
          0.5555555555555556,
          0.5656565656565657,
          0.5757575757575758,
          0.5858585858585859,
          0.595959595959596,
          0.6060606060606061,
          0.6161616161616162,
          0.6262626262626263,
          0.6363636363636365,
          0.6464646464646465,
          0.6565656565656566,
          0.6666666666666667,
          0.6767676767676768,
          0.686868686868687,
          0.696969696969697,
          0.7070707070707072,
          0.7171717171717172,
          0.7272727272727273,
          0.7373737373737375,
          0.7474747474747475,
          0.7575757575757577,
          0.7676767676767677,
          0.7777777777777778,
          0.787878787878788,
          0.797979797979798,
          0.8080808080808082,
          0.8181818181818182,
          0.8282828282828284,
          0.8383838383838385,
          0.8484848484848485,
          0.8585858585858587,
          0.8686868686868687,
          0.8787878787878789,
          0.888888888888889,
          0.8989898989898991,
          0.9090909090909092,
          0.9191919191919192,
          0.9292929292929294,
          0.9393939393939394,
          0.9494949494949496,
          0.9595959595959597,
          0.9696969696969697,
          0.9797979797979799,
          0.98989898989899,
          1
         ],
         "y": [
          6.624345363663242,
          4.388243586349924,
          4.4718282477365445,
          3.9270313778438295,
          5.865407629324679,
          2.6984613031197173,
          6.74481176421648,
          4.238793099104897,
          5.319039096057098,
          4.75062962452259,
          6.4621079370449745,
          2.939859290502346,
          4.677582795986493,
          4.615945645331585,
          6.133769442335438,
          3.900108732685969,
          4.8275717924495645,
          4.122141582078628,
          5.042213746715593,
          5.582815213715822,
          3.8993808227870788,
          6.144723709839614,
          5.901590720592796,
          5.502494338901868,
          5.900855949264412,
          4.316272140825667,
          4.877109774481352,
          4.064230565740932,
          4.732111920373984,
          5.530355466738186,
          4.308339248274691,
          4.603246473144023,
          4.312827299880401,
          4.15479435850128,
          4.328753869163181,
          4.987335401081099,
          3.882689651364722,
          5.234415697817092,
          6.659802177109871,
          5.742044160577335,
          4.808164447638385,
          4.112371035915164,
          4.252841706249162,
          6.692454601027746,
          5.050807754776029,
          4.363004353430647,
          5.190915484667466,
          7.100255136478842,
          5.1201589524816296,
          5.617203109707419,
          5.300170319955828,
          4.647750153506482,
          3.85748180197786,
          4.650657277587123,
          4.791105766625222,
          5.5866231911821975,
          5.838983413874505,
          5.931102081303557,
          5.285587325254259,
          5.885141164270728,
          4.245602059003347,
          6.252868155233288,
          5.512929820418009,
          4.7019071648972846,
          5.488518146537497,
          4.924428286978944,
          6.131629387451427,
          6.519816816422199,
          7.185575406533161,
          3.6035036645118623,
          3.5558861945704106,
          4.495534137053549,
          5.160037069447831,
          5.876168921116225,
          5.315634947241605,
          2.977798784175997,
          4.693795987371628,
          5.827974642607246,
          5.230094735364384,
          5.762011180312025,
          4.777671857389641,
          4.799241931070003,
          5.186561390988285,
          5.410051647208256,
          5.198299720126769,
          5.119008645807459,
          4.329337713710969,
          5.37756378632092,
          5.121821270991437,
          6.129483907911919,
          6.198917879901507,
          5.1851564174839435,
          4.624715049909886,
          4.361269592545778,
          5.423494354064113,
          5.077340068348559,
          4.656146324428924,
          5.043596856834247,
          4.379999156051871,
          5.698032034072219
         ]
        },
        {
         "mode": "lines+markers",
         "name": "lines+markers",
         "type": "scatter",
         "x": [
          0,
          0.010101010101010102,
          0.020202020202020204,
          0.030303030303030304,
          0.04040404040404041,
          0.05050505050505051,
          0.06060606060606061,
          0.07070707070707072,
          0.08080808080808081,
          0.09090909090909091,
          0.10101010101010102,
          0.11111111111111112,
          0.12121212121212122,
          0.13131313131313133,
          0.14141414141414144,
          0.15151515151515152,
          0.16161616161616163,
          0.17171717171717174,
          0.18181818181818182,
          0.19191919191919193,
          0.20202020202020204,
          0.21212121212121213,
          0.22222222222222224,
          0.23232323232323235,
          0.24242424242424243,
          0.25252525252525254,
          0.26262626262626265,
          0.27272727272727276,
          0.2828282828282829,
          0.29292929292929293,
          0.30303030303030304,
          0.31313131313131315,
          0.32323232323232326,
          0.33333333333333337,
          0.3434343434343435,
          0.3535353535353536,
          0.36363636363636365,
          0.37373737373737376,
          0.38383838383838387,
          0.393939393939394,
          0.4040404040404041,
          0.4141414141414142,
          0.42424242424242425,
          0.43434343434343436,
          0.4444444444444445,
          0.4545454545454546,
          0.4646464646464647,
          0.4747474747474748,
          0.48484848484848486,
          0.494949494949495,
          0.5050505050505051,
          0.5151515151515152,
          0.5252525252525253,
          0.5353535353535354,
          0.5454545454545455,
          0.5555555555555556,
          0.5656565656565657,
          0.5757575757575758,
          0.5858585858585859,
          0.595959595959596,
          0.6060606060606061,
          0.6161616161616162,
          0.6262626262626263,
          0.6363636363636365,
          0.6464646464646465,
          0.6565656565656566,
          0.6666666666666667,
          0.6767676767676768,
          0.686868686868687,
          0.696969696969697,
          0.7070707070707072,
          0.7171717171717172,
          0.7272727272727273,
          0.7373737373737375,
          0.7474747474747475,
          0.7575757575757577,
          0.7676767676767677,
          0.7777777777777778,
          0.787878787878788,
          0.797979797979798,
          0.8080808080808082,
          0.8181818181818182,
          0.8282828282828284,
          0.8383838383838385,
          0.8484848484848485,
          0.8585858585858587,
          0.8686868686868687,
          0.8787878787878789,
          0.888888888888889,
          0.8989898989898991,
          0.9090909090909092,
          0.9191919191919192,
          0.9292929292929294,
          0.9393939393939394,
          0.9494949494949496,
          0.9595959595959597,
          0.9696969696969697,
          0.9797979797979799,
          0.98989898989899,
          1
         ],
         "y": [
          -0.4471285647859982,
          1.2245077048054989,
          0.4034916417908,
          0.593578523237067,
          -1.0949118457410418,
          0.1693824330586681,
          0.7405564510962748,
          -0.9537006018079346,
          -0.26621850600362207,
          0.03261454669335856,
          -1.3731173202467557,
          0.31515939204229176,
          0.8461606475850334,
          -0.8595159408319863,
          0.35054597866410736,
          -1.3122834112374318,
          -0.038695509266051115,
          -1.6157723547032947,
          1.121417708235664,
          0.4089005379368278,
          -0.024616955875778355,
          -0.7751616191691596,
          1.2737559301587766,
          1.9671017492547347,
          -1.857981864446752,
          1.2361640304528203,
          1.6276507531489064,
          0.3380116965744758,
          -1.199268032335186,
          0.8633453175440216,
          -0.18092030207815046,
          -0.6039206277932573,
          -1.2300581356669618,
          0.5505374959762154,
          0.7928068659193477,
          -0.6235307296797916,
          0.5205763370733708,
          -1.1443413896231427,
          0.8018610318713447,
          0.04656729842414554,
          -0.18656977190734877,
          -0.10174587252914521,
          0.8688861570058679,
          0.7504116398650081,
          0.5294653243527092,
          0.13770120999738608,
          0.07782112791270591,
          0.6183802619985245,
          0.23249455917873788,
          0.6825514068644851,
          -0.31011677351806,
          -2.434837764107139,
          1.038824601859414,
          2.1869796469742577,
          0.44136444356858207,
          -0.10015523328349978,
          -0.13644474389603303,
          -0.11905418777480989,
          0.0174094083000046,
          -1.1220187287468883,
          -0.5170944579202279,
          -0.997026827650263,
          0.2487991613877705,
          -0.29664115237086275,
          0.4952113239779604,
          -0.17470315974250095,
          0.986335187821242,
          0.21353390133544178,
          2.1906997289697334,
          -1.8963609228910925,
          -0.646916688254908,
          0.901486891648711,
          2.528325706806398,
          -0.24863477771546005,
          0.043668993178389105,
          -0.22631424251360518,
          1.3314571125875918,
          -0.2873078634760189,
          0.6800698398781045,
          -0.3198015988986712,
          -1.2725587552459943,
          0.31354772046343216,
          0.5031848134353261,
          1.2932258825322618,
          -0.11044702641731631,
          -0.6173620637123609,
          0.5627610966190263,
          0.24073709223773224,
          0.28066507712263905,
          -0.07311270374727777,
          1.1603385699937696,
          0.36949271637572373,
          1.9046587083409812,
          1.1110566985605046,
          0.6590497961002102,
          -1.6274383406162574,
          0.602319280295629,
          0.42028220364705954,
          0.8109516728035557,
          1.0444420947072588
         ]
        },
        {
         "mode": "markers",
         "name": "markers",
         "type": "scatter",
         "x": [
          0,
          0.010101010101010102,
          0.020202020202020204,
          0.030303030303030304,
          0.04040404040404041,
          0.05050505050505051,
          0.06060606060606061,
          0.07070707070707072,
          0.08080808080808081,
          0.09090909090909091,
          0.10101010101010102,
          0.11111111111111112,
          0.12121212121212122,
          0.13131313131313133,
          0.14141414141414144,
          0.15151515151515152,
          0.16161616161616163,
          0.17171717171717174,
          0.18181818181818182,
          0.19191919191919193,
          0.20202020202020204,
          0.21212121212121213,
          0.22222222222222224,
          0.23232323232323235,
          0.24242424242424243,
          0.25252525252525254,
          0.26262626262626265,
          0.27272727272727276,
          0.2828282828282829,
          0.29292929292929293,
          0.30303030303030304,
          0.31313131313131315,
          0.32323232323232326,
          0.33333333333333337,
          0.3434343434343435,
          0.3535353535353536,
          0.36363636363636365,
          0.37373737373737376,
          0.38383838383838387,
          0.393939393939394,
          0.4040404040404041,
          0.4141414141414142,
          0.42424242424242425,
          0.43434343434343436,
          0.4444444444444445,
          0.4545454545454546,
          0.4646464646464647,
          0.4747474747474748,
          0.48484848484848486,
          0.494949494949495,
          0.5050505050505051,
          0.5151515151515152,
          0.5252525252525253,
          0.5353535353535354,
          0.5454545454545455,
          0.5555555555555556,
          0.5656565656565657,
          0.5757575757575758,
          0.5858585858585859,
          0.595959595959596,
          0.6060606060606061,
          0.6161616161616162,
          0.6262626262626263,
          0.6363636363636365,
          0.6464646464646465,
          0.6565656565656566,
          0.6666666666666667,
          0.6767676767676768,
          0.686868686868687,
          0.696969696969697,
          0.7070707070707072,
          0.7171717171717172,
          0.7272727272727273,
          0.7373737373737375,
          0.7474747474747475,
          0.7575757575757577,
          0.7676767676767677,
          0.7777777777777778,
          0.787878787878788,
          0.797979797979798,
          0.8080808080808082,
          0.8181818181818182,
          0.8282828282828284,
          0.8383838383838385,
          0.8484848484848485,
          0.8585858585858587,
          0.8686868686868687,
          0.8787878787878789,
          0.888888888888889,
          0.8989898989898991,
          0.9090909090909092,
          0.9191919191919192,
          0.9292929292929294,
          0.9393939393939394,
          0.9494949494949496,
          0.9595959595959597,
          0.9696969696969697,
          0.9797979797979799,
          0.98989898989899,
          1
         ],
         "y": [
          -5.400878191788927,
          -4.175994381549592,
          -5.56230543101909,
          -3.0451219249909656,
          -6.331951666517249,
          -6.760688560398783,
          -6.6507212658241,
          -5.890555584163049,
          -6.119115398559728,
          -3.043921096296358,
          -5.326499498078184,
          -6.342675789377436,
          -3.885617023220208,
          -5.586523938821593,
          -6.236853376541397,
          -4.1241610723507005,
          -4.376637823421968,
          -5.434956682955228,
          -3.5924599997587716,
          -4.870898420289275,
          -3.3830504011427,
          -4.497259118000096,
          -3.4411944593801405,
          -4.890597303574572,
          -6.219744396979033,
          -2.5506313509386027,
          -5.545774167982568,
          -5.1988378628888965,
          -5.700398504921255,
          -5.203394448964558,
          -4.7573305589182056,
          -4.798169821125996,
          -4.338979712401307,
          -3.207841791024433,
          -5.120464571788507,
          -6.233120735446427,
          -6.182318126509633,
          -5.665754518199127,
          -6.674195807618932,
          -4.174970175561014,
          -5.4982135636310785,
          -5.310984978302851,
          -5.001891482838004,
          -6.396620424595432,
          -5.861316360776042,
          -4.3252884743120275,
          -4.381460869213707,
          -5.443171930700638,
          -3.1894650858745437,
          -6.305726922557738,
          -5.344987210154979,
          -5.230839743135469,
          -7.79308500014654,
          -3.0624711863839202,
          -4.633667985459942,
          -6.044589381907792,
          -2.9488265571425556,
          -4.414337999827618,
          -4.570473859978035,
          -5.606998398200046,
          -4.893777275964783,
          -6.525680316229358,
          -4.204973905575155,
          -5.374438318843221,
          -4.865951803445377,
          -3.797945137800294,
          -4.715251889150942,
          -4.737532554536731,
          -4.723500695177816,
          -5.733271603895313,
          -4.163995280565731,
          -3.4566408891955165,
          -4.241194339902069,
          -4.115091185535117,
          -5.877281518918188,
          -5.867787222872925,
          -6.44087602429184,
          -3.767746929171564,
          -5.254179867607368,
          -3.600156057519014,
          -5.7819116826868004,
          -5.4375089828285805,
          -4.904574912808743,
          -4.078549931340489,
          -4.939249804200493,
          -4.788875244992283,
          -4.983472432694384,
          -4.822812279724039,
          -6.116470017884744,
          -4.919072899026721,
          -5.186578993511466,
          -5.056824480885847,
          -4.507663444063351,
          -5.680678141008886,
          -5.08450802740463,
          -5.297361882773504,
          -4.582697995025137,
          -4.21522934898441,
          -5.955425262373689,
          -4.414089568897384
         ]
        }
       ],
       "layout": {
        "template": {
         "data": {
          "bar": [
           {
            "error_x": {
             "color": "#2a3f5f"
            },
            "error_y": {
             "color": "#2a3f5f"
            },
            "marker": {
             "line": {
              "color": "#E5ECF6",
              "width": 0.5
             }
            },
            "type": "bar"
           }
          ],
          "barpolar": [
           {
            "marker": {
             "line": {
              "color": "#E5ECF6",
              "width": 0.5
             }
            },
            "type": "barpolar"
           }
          ],
          "carpet": [
           {
            "aaxis": {
             "endlinecolor": "#2a3f5f",
             "gridcolor": "white",
             "linecolor": "white",
             "minorgridcolor": "white",
             "startlinecolor": "#2a3f5f"
            },
            "baxis": {
             "endlinecolor": "#2a3f5f",
             "gridcolor": "white",
             "linecolor": "white",
             "minorgridcolor": "white",
             "startlinecolor": "#2a3f5f"
            },
            "type": "carpet"
           }
          ],
          "choropleth": [
           {
            "colorbar": {
             "outlinewidth": 0,
             "ticks": ""
            },
            "type": "choropleth"
           }
          ],
          "contour": [
           {
            "colorbar": {
             "outlinewidth": 0,
             "ticks": ""
            },
            "colorscale": [
             [
              0,
              "#0d0887"
             ],
             [
              0.1111111111111111,
              "#46039f"
             ],
             [
              0.2222222222222222,
              "#7201a8"
             ],
             [
              0.3333333333333333,
              "#9c179e"
             ],
             [
              0.4444444444444444,
              "#bd3786"
             ],
             [
              0.5555555555555556,
              "#d8576b"
             ],
             [
              0.6666666666666666,
              "#ed7953"
             ],
             [
              0.7777777777777778,
              "#fb9f3a"
             ],
             [
              0.8888888888888888,
              "#fdca26"
             ],
             [
              1,
              "#f0f921"
             ]
            ],
            "type": "contour"
           }
          ],
          "contourcarpet": [
           {
            "colorbar": {
             "outlinewidth": 0,
             "ticks": ""
            },
            "type": "contourcarpet"
           }
          ],
          "heatmap": [
           {
            "colorbar": {
             "outlinewidth": 0,
             "ticks": ""
            },
            "colorscale": [
             [
              0,
              "#0d0887"
             ],
             [
              0.1111111111111111,
              "#46039f"
             ],
             [
              0.2222222222222222,
              "#7201a8"
             ],
             [
              0.3333333333333333,
              "#9c179e"
             ],
             [
              0.4444444444444444,
              "#bd3786"
             ],
             [
              0.5555555555555556,
              "#d8576b"
             ],
             [
              0.6666666666666666,
              "#ed7953"
             ],
             [
              0.7777777777777778,
              "#fb9f3a"
             ],
             [
              0.8888888888888888,
              "#fdca26"
             ],
             [
              1,
              "#f0f921"
             ]
            ],
            "type": "heatmap"
           }
          ],
          "heatmapgl": [
           {
            "colorbar": {
             "outlinewidth": 0,
             "ticks": ""
            },
            "colorscale": [
             [
              0,
              "#0d0887"
             ],
             [
              0.1111111111111111,
              "#46039f"
             ],
             [
              0.2222222222222222,
              "#7201a8"
             ],
             [
              0.3333333333333333,
              "#9c179e"
             ],
             [
              0.4444444444444444,
              "#bd3786"
             ],
             [
              0.5555555555555556,
              "#d8576b"
             ],
             [
              0.6666666666666666,
              "#ed7953"
             ],
             [
              0.7777777777777778,
              "#fb9f3a"
             ],
             [
              0.8888888888888888,
              "#fdca26"
             ],
             [
              1,
              "#f0f921"
             ]
            ],
            "type": "heatmapgl"
           }
          ],
          "histogram": [
           {
            "marker": {
             "colorbar": {
              "outlinewidth": 0,
              "ticks": ""
             }
            },
            "type": "histogram"
           }
          ],
          "histogram2d": [
           {
            "colorbar": {
             "outlinewidth": 0,
             "ticks": ""
            },
            "colorscale": [
             [
              0,
              "#0d0887"
             ],
             [
              0.1111111111111111,
              "#46039f"
             ],
             [
              0.2222222222222222,
              "#7201a8"
             ],
             [
              0.3333333333333333,
              "#9c179e"
             ],
             [
              0.4444444444444444,
              "#bd3786"
             ],
             [
              0.5555555555555556,
              "#d8576b"
             ],
             [
              0.6666666666666666,
              "#ed7953"
             ],
             [
              0.7777777777777778,
              "#fb9f3a"
             ],
             [
              0.8888888888888888,
              "#fdca26"
             ],
             [
              1,
              "#f0f921"
             ]
            ],
            "type": "histogram2d"
           }
          ],
          "histogram2dcontour": [
           {
            "colorbar": {
             "outlinewidth": 0,
             "ticks": ""
            },
            "colorscale": [
             [
              0,
              "#0d0887"
             ],
             [
              0.1111111111111111,
              "#46039f"
             ],
             [
              0.2222222222222222,
              "#7201a8"
             ],
             [
              0.3333333333333333,
              "#9c179e"
             ],
             [
              0.4444444444444444,
              "#bd3786"
             ],
             [
              0.5555555555555556,
              "#d8576b"
             ],
             [
              0.6666666666666666,
              "#ed7953"
             ],
             [
              0.7777777777777778,
              "#fb9f3a"
             ],
             [
              0.8888888888888888,
              "#fdca26"
             ],
             [
              1,
              "#f0f921"
             ]
            ],
            "type": "histogram2dcontour"
           }
          ],
          "mesh3d": [
           {
            "colorbar": {
             "outlinewidth": 0,
             "ticks": ""
            },
            "type": "mesh3d"
           }
          ],
          "parcoords": [
           {
            "line": {
             "colorbar": {
              "outlinewidth": 0,
              "ticks": ""
             }
            },
            "type": "parcoords"
           }
          ],
          "pie": [
           {
            "automargin": true,
            "type": "pie"
           }
          ],
          "scatter": [
           {
            "marker": {
             "colorbar": {
              "outlinewidth": 0,
              "ticks": ""
             }
            },
            "type": "scatter"
           }
          ],
          "scatter3d": [
           {
            "line": {
             "colorbar": {
              "outlinewidth": 0,
              "ticks": ""
             }
            },
            "marker": {
             "colorbar": {
              "outlinewidth": 0,
              "ticks": ""
             }
            },
            "type": "scatter3d"
           }
          ],
          "scattercarpet": [
           {
            "marker": {
             "colorbar": {
              "outlinewidth": 0,
              "ticks": ""
             }
            },
            "type": "scattercarpet"
           }
          ],
          "scattergeo": [
           {
            "marker": {
             "colorbar": {
              "outlinewidth": 0,
              "ticks": ""
             }
            },
            "type": "scattergeo"
           }
          ],
          "scattergl": [
           {
            "marker": {
             "colorbar": {
              "outlinewidth": 0,
              "ticks": ""
             }
            },
            "type": "scattergl"
           }
          ],
          "scattermapbox": [
           {
            "marker": {
             "colorbar": {
              "outlinewidth": 0,
              "ticks": ""
             }
            },
            "type": "scattermapbox"
           }
          ],
          "scatterpolar": [
           {
            "marker": {
             "colorbar": {
              "outlinewidth": 0,
              "ticks": ""
             }
            },
            "type": "scatterpolar"
           }
          ],
          "scatterpolargl": [
           {
            "marker": {
             "colorbar": {
              "outlinewidth": 0,
              "ticks": ""
             }
            },
            "type": "scatterpolargl"
           }
          ],
          "scatterternary": [
           {
            "marker": {
             "colorbar": {
              "outlinewidth": 0,
              "ticks": ""
             }
            },
            "type": "scatterternary"
           }
          ],
          "surface": [
           {
            "colorbar": {
             "outlinewidth": 0,
             "ticks": ""
            },
            "colorscale": [
             [
              0,
              "#0d0887"
             ],
             [
              0.1111111111111111,
              "#46039f"
             ],
             [
              0.2222222222222222,
              "#7201a8"
             ],
             [
              0.3333333333333333,
              "#9c179e"
             ],
             [
              0.4444444444444444,
              "#bd3786"
             ],
             [
              0.5555555555555556,
              "#d8576b"
             ],
             [
              0.6666666666666666,
              "#ed7953"
             ],
             [
              0.7777777777777778,
              "#fb9f3a"
             ],
             [
              0.8888888888888888,
              "#fdca26"
             ],
             [
              1,
              "#f0f921"
             ]
            ],
            "type": "surface"
           }
          ],
          "table": [
           {
            "cells": {
             "fill": {
              "color": "#EBF0F8"
             },
             "line": {
              "color": "white"
             }
            },
            "header": {
             "fill": {
              "color": "#C8D4E3"
             },
             "line": {
              "color": "white"
             }
            },
            "type": "table"
           }
          ]
         },
         "layout": {
          "annotationdefaults": {
           "arrowcolor": "#2a3f5f",
           "arrowhead": 0,
           "arrowwidth": 1
          },
          "coloraxis": {
           "colorbar": {
            "outlinewidth": 0,
            "ticks": ""
           }
          },
          "colorscale": {
           "diverging": [
            [
             0,
             "#8e0152"
            ],
            [
             0.1,
             "#c51b7d"
            ],
            [
             0.2,
             "#de77ae"
            ],
            [
             0.3,
             "#f1b6da"
            ],
            [
             0.4,
             "#fde0ef"
            ],
            [
             0.5,
             "#f7f7f7"
            ],
            [
             0.6,
             "#e6f5d0"
            ],
            [
             0.7,
             "#b8e186"
            ],
            [
             0.8,
             "#7fbc41"
            ],
            [
             0.9,
             "#4d9221"
            ],
            [
             1,
             "#276419"
            ]
           ],
           "sequential": [
            [
             0,
             "#0d0887"
            ],
            [
             0.1111111111111111,
             "#46039f"
            ],
            [
             0.2222222222222222,
             "#7201a8"
            ],
            [
             0.3333333333333333,
             "#9c179e"
            ],
            [
             0.4444444444444444,
             "#bd3786"
            ],
            [
             0.5555555555555556,
             "#d8576b"
            ],
            [
             0.6666666666666666,
             "#ed7953"
            ],
            [
             0.7777777777777778,
             "#fb9f3a"
            ],
            [
             0.8888888888888888,
             "#fdca26"
            ],
            [
             1,
             "#f0f921"
            ]
           ],
           "sequentialminus": [
            [
             0,
             "#0d0887"
            ],
            [
             0.1111111111111111,
             "#46039f"
            ],
            [
             0.2222222222222222,
             "#7201a8"
            ],
            [
             0.3333333333333333,
             "#9c179e"
            ],
            [
             0.4444444444444444,
             "#bd3786"
            ],
            [
             0.5555555555555556,
             "#d8576b"
            ],
            [
             0.6666666666666666,
             "#ed7953"
            ],
            [
             0.7777777777777778,
             "#fb9f3a"
            ],
            [
             0.8888888888888888,
             "#fdca26"
            ],
            [
             1,
             "#f0f921"
            ]
           ]
          },
          "colorway": [
           "#636efa",
           "#EF553B",
           "#00cc96",
           "#ab63fa",
           "#FFA15A",
           "#19d3f3",
           "#FF6692",
           "#B6E880",
           "#FF97FF",
           "#FECB52"
          ],
          "font": {
           "color": "#2a3f5f"
          },
          "geo": {
           "bgcolor": "white",
           "lakecolor": "white",
           "landcolor": "#E5ECF6",
           "showlakes": true,
           "showland": true,
           "subunitcolor": "white"
          },
          "hoverlabel": {
           "align": "left"
          },
          "hovermode": "closest",
          "mapbox": {
           "style": "light"
          },
          "paper_bgcolor": "white",
          "plot_bgcolor": "#E5ECF6",
          "polar": {
           "angularaxis": {
            "gridcolor": "white",
            "linecolor": "white",
            "ticks": ""
           },
           "bgcolor": "#E5ECF6",
           "radialaxis": {
            "gridcolor": "white",
            "linecolor": "white",
            "ticks": ""
           }
          },
          "scene": {
           "xaxis": {
            "backgroundcolor": "#E5ECF6",
            "gridcolor": "white",
            "gridwidth": 2,
            "linecolor": "white",
            "showbackground": true,
            "ticks": "",
            "zerolinecolor": "white"
           },
           "yaxis": {
            "backgroundcolor": "#E5ECF6",
            "gridcolor": "white",
            "gridwidth": 2,
            "linecolor": "white",
            "showbackground": true,
            "ticks": "",
            "zerolinecolor": "white"
           },
           "zaxis": {
            "backgroundcolor": "#E5ECF6",
            "gridcolor": "white",
            "gridwidth": 2,
            "linecolor": "white",
            "showbackground": true,
            "ticks": "",
            "zerolinecolor": "white"
           }
          },
          "shapedefaults": {
           "line": {
            "color": "#2a3f5f"
           }
          },
          "ternary": {
           "aaxis": {
            "gridcolor": "white",
            "linecolor": "white",
            "ticks": ""
           },
           "baxis": {
            "gridcolor": "white",
            "linecolor": "white",
            "ticks": ""
           },
           "bgcolor": "#E5ECF6",
           "caxis": {
            "gridcolor": "white",
            "linecolor": "white",
            "ticks": ""
           }
          },
          "title": {
           "x": 0.05
          },
          "xaxis": {
           "automargin": true,
           "gridcolor": "white",
           "linecolor": "white",
           "ticks": "",
           "title": {
            "standoff": 15
           },
           "zerolinecolor": "white",
           "zerolinewidth": 2
          },
          "yaxis": {
           "automargin": true,
           "gridcolor": "white",
           "linecolor": "white",
           "ticks": "",
           "title": {
            "standoff": 15
           },
           "zerolinecolor": "white",
           "zerolinewidth": 2
          }
         }
        }
       }
      },
      "text/html": [
       "<div>\n",
       "        \n",
       "        \n",
       "            <div id=\"4e56af05-c064-494e-b0f7-05d2d4cdbe45\" class=\"plotly-graph-div\" style=\"height:525px; width:100%;\"></div>\n",
       "            <script type=\"text/javascript\">\n",
       "                require([\"plotly\"], function(Plotly) {\n",
       "                    window.PLOTLYENV=window.PLOTLYENV || {};\n",
       "                    \n",
       "                if (document.getElementById(\"4e56af05-c064-494e-b0f7-05d2d4cdbe45\")) {\n",
       "                    Plotly.newPlot(\n",
       "                        '4e56af05-c064-494e-b0f7-05d2d4cdbe45',\n",
       "                        [{\"mode\": \"lines\", \"name\": \"lines\", \"type\": \"scatter\", \"x\": [0.0, 0.010101010101010102, 0.020202020202020204, 0.030303030303030304, 0.04040404040404041, 0.05050505050505051, 0.06060606060606061, 0.07070707070707072, 0.08080808080808081, 0.09090909090909091, 0.10101010101010102, 0.11111111111111112, 0.12121212121212122, 0.13131313131313133, 0.14141414141414144, 0.15151515151515152, 0.16161616161616163, 0.17171717171717174, 0.18181818181818182, 0.19191919191919193, 0.20202020202020204, 0.21212121212121213, 0.22222222222222224, 0.23232323232323235, 0.24242424242424243, 0.25252525252525254, 0.26262626262626265, 0.27272727272727276, 0.2828282828282829, 0.29292929292929293, 0.30303030303030304, 0.31313131313131315, 0.32323232323232326, 0.33333333333333337, 0.3434343434343435, 0.3535353535353536, 0.36363636363636365, 0.37373737373737376, 0.38383838383838387, 0.393939393939394, 0.4040404040404041, 0.4141414141414142, 0.42424242424242425, 0.43434343434343436, 0.4444444444444445, 0.4545454545454546, 0.4646464646464647, 0.4747474747474748, 0.48484848484848486, 0.494949494949495, 0.5050505050505051, 0.5151515151515152, 0.5252525252525253, 0.5353535353535354, 0.5454545454545455, 0.5555555555555556, 0.5656565656565657, 0.5757575757575758, 0.5858585858585859, 0.595959595959596, 0.6060606060606061, 0.6161616161616162, 0.6262626262626263, 0.6363636363636365, 0.6464646464646465, 0.6565656565656566, 0.6666666666666667, 0.6767676767676768, 0.686868686868687, 0.696969696969697, 0.7070707070707072, 0.7171717171717172, 0.7272727272727273, 0.7373737373737375, 0.7474747474747475, 0.7575757575757577, 0.7676767676767677, 0.7777777777777778, 0.787878787878788, 0.797979797979798, 0.8080808080808082, 0.8181818181818182, 0.8282828282828284, 0.8383838383838385, 0.8484848484848485, 0.8585858585858587, 0.8686868686868687, 0.8787878787878789, 0.888888888888889, 0.8989898989898991, 0.9090909090909092, 0.9191919191919192, 0.9292929292929294, 0.9393939393939394, 0.9494949494949496, 0.9595959595959597, 0.9696969696969697, 0.9797979797979799, 0.98989898989899, 1.0], \"y\": [6.624345363663242, 4.388243586349924, 4.4718282477365445, 3.9270313778438295, 5.865407629324679, 2.6984613031197173, 6.74481176421648, 4.238793099104897, 5.319039096057098, 4.75062962452259, 6.4621079370449745, 2.939859290502346, 4.677582795986493, 4.615945645331585, 6.133769442335438, 3.900108732685969, 4.8275717924495645, 4.122141582078628, 5.042213746715593, 5.582815213715822, 3.8993808227870788, 6.144723709839614, 5.901590720592796, 5.502494338901868, 5.900855949264412, 4.316272140825667, 4.877109774481352, 4.064230565740932, 4.732111920373984, 5.530355466738186, 4.308339248274691, 4.603246473144023, 4.312827299880401, 4.15479435850128, 4.328753869163181, 4.987335401081099, 3.882689651364722, 5.234415697817092, 6.659802177109871, 5.742044160577335, 4.808164447638385, 4.112371035915164, 4.252841706249162, 6.692454601027746, 5.050807754776029, 4.363004353430647, 5.190915484667466, 7.100255136478842, 5.1201589524816296, 5.617203109707419, 5.300170319955828, 4.647750153506482, 3.85748180197786, 4.650657277587123, 4.791105766625222, 5.5866231911821975, 5.838983413874505, 5.931102081303557, 5.285587325254259, 5.885141164270728, 4.245602059003347, 6.252868155233288, 5.512929820418009, 4.7019071648972846, 5.488518146537497, 4.924428286978944, 6.131629387451427, 6.519816816422199, 7.185575406533161, 3.6035036645118623, 3.5558861945704106, 4.495534137053549, 5.160037069447831, 5.876168921116225, 5.315634947241605, 2.977798784175997, 4.693795987371628, 5.827974642607246, 5.230094735364384, 5.762011180312025, 4.777671857389641, 4.799241931070003, 5.186561390988285, 5.410051647208256, 5.198299720126769, 5.119008645807459, 4.329337713710969, 5.37756378632092, 5.121821270991437, 6.129483907911919, 6.198917879901507, 5.1851564174839435, 4.624715049909886, 4.361269592545778, 5.423494354064113, 5.077340068348559, 4.656146324428924, 5.043596856834247, 4.379999156051871, 5.698032034072219]}, {\"mode\": \"lines+markers\", \"name\": \"lines+markers\", \"type\": \"scatter\", \"x\": [0.0, 0.010101010101010102, 0.020202020202020204, 0.030303030303030304, 0.04040404040404041, 0.05050505050505051, 0.06060606060606061, 0.07070707070707072, 0.08080808080808081, 0.09090909090909091, 0.10101010101010102, 0.11111111111111112, 0.12121212121212122, 0.13131313131313133, 0.14141414141414144, 0.15151515151515152, 0.16161616161616163, 0.17171717171717174, 0.18181818181818182, 0.19191919191919193, 0.20202020202020204, 0.21212121212121213, 0.22222222222222224, 0.23232323232323235, 0.24242424242424243, 0.25252525252525254, 0.26262626262626265, 0.27272727272727276, 0.2828282828282829, 0.29292929292929293, 0.30303030303030304, 0.31313131313131315, 0.32323232323232326, 0.33333333333333337, 0.3434343434343435, 0.3535353535353536, 0.36363636363636365, 0.37373737373737376, 0.38383838383838387, 0.393939393939394, 0.4040404040404041, 0.4141414141414142, 0.42424242424242425, 0.43434343434343436, 0.4444444444444445, 0.4545454545454546, 0.4646464646464647, 0.4747474747474748, 0.48484848484848486, 0.494949494949495, 0.5050505050505051, 0.5151515151515152, 0.5252525252525253, 0.5353535353535354, 0.5454545454545455, 0.5555555555555556, 0.5656565656565657, 0.5757575757575758, 0.5858585858585859, 0.595959595959596, 0.6060606060606061, 0.6161616161616162, 0.6262626262626263, 0.6363636363636365, 0.6464646464646465, 0.6565656565656566, 0.6666666666666667, 0.6767676767676768, 0.686868686868687, 0.696969696969697, 0.7070707070707072, 0.7171717171717172, 0.7272727272727273, 0.7373737373737375, 0.7474747474747475, 0.7575757575757577, 0.7676767676767677, 0.7777777777777778, 0.787878787878788, 0.797979797979798, 0.8080808080808082, 0.8181818181818182, 0.8282828282828284, 0.8383838383838385, 0.8484848484848485, 0.8585858585858587, 0.8686868686868687, 0.8787878787878789, 0.888888888888889, 0.8989898989898991, 0.9090909090909092, 0.9191919191919192, 0.9292929292929294, 0.9393939393939394, 0.9494949494949496, 0.9595959595959597, 0.9696969696969697, 0.9797979797979799, 0.98989898989899, 1.0], \"y\": [-0.4471285647859982, 1.2245077048054989, 0.4034916417908, 0.593578523237067, -1.0949118457410418, 0.1693824330586681, 0.7405564510962748, -0.9537006018079346, -0.26621850600362207, 0.03261454669335856, -1.3731173202467557, 0.31515939204229176, 0.8461606475850334, -0.8595159408319863, 0.35054597866410736, -1.3122834112374318, -0.038695509266051115, -1.6157723547032947, 1.121417708235664, 0.4089005379368278, -0.024616955875778355, -0.7751616191691596, 1.2737559301587766, 1.9671017492547347, -1.857981864446752, 1.2361640304528203, 1.6276507531489064, 0.3380116965744758, -1.199268032335186, 0.8633453175440216, -0.18092030207815046, -0.6039206277932573, -1.2300581356669618, 0.5505374959762154, 0.7928068659193477, -0.6235307296797916, 0.5205763370733708, -1.1443413896231427, 0.8018610318713447, 0.04656729842414554, -0.18656977190734877, -0.10174587252914521, 0.8688861570058679, 0.7504116398650081, 0.5294653243527092, 0.13770120999738608, 0.07782112791270591, 0.6183802619985245, 0.23249455917873788, 0.6825514068644851, -0.31011677351806, -2.434837764107139, 1.038824601859414, 2.1869796469742577, 0.44136444356858207, -0.10015523328349978, -0.13644474389603303, -0.11905418777480989, 0.0174094083000046, -1.1220187287468883, -0.5170944579202279, -0.997026827650263, 0.2487991613877705, -0.29664115237086275, 0.4952113239779604, -0.17470315974250095, 0.986335187821242, 0.21353390133544178, 2.1906997289697334, -1.8963609228910925, -0.646916688254908, 0.901486891648711, 2.528325706806398, -0.24863477771546005, 0.043668993178389105, -0.22631424251360518, 1.3314571125875918, -0.2873078634760189, 0.6800698398781045, -0.3198015988986712, -1.2725587552459943, 0.31354772046343216, 0.5031848134353261, 1.2932258825322618, -0.11044702641731631, -0.6173620637123609, 0.5627610966190263, 0.24073709223773224, 0.28066507712263905, -0.07311270374727777, 1.1603385699937696, 0.36949271637572373, 1.9046587083409812, 1.1110566985605046, 0.6590497961002102, -1.6274383406162574, 0.602319280295629, 0.42028220364705954, 0.8109516728035557, 1.0444420947072588]}, {\"mode\": \"markers\", \"name\": \"markers\", \"type\": \"scatter\", \"x\": [0.0, 0.010101010101010102, 0.020202020202020204, 0.030303030303030304, 0.04040404040404041, 0.05050505050505051, 0.06060606060606061, 0.07070707070707072, 0.08080808080808081, 0.09090909090909091, 0.10101010101010102, 0.11111111111111112, 0.12121212121212122, 0.13131313131313133, 0.14141414141414144, 0.15151515151515152, 0.16161616161616163, 0.17171717171717174, 0.18181818181818182, 0.19191919191919193, 0.20202020202020204, 0.21212121212121213, 0.22222222222222224, 0.23232323232323235, 0.24242424242424243, 0.25252525252525254, 0.26262626262626265, 0.27272727272727276, 0.2828282828282829, 0.29292929292929293, 0.30303030303030304, 0.31313131313131315, 0.32323232323232326, 0.33333333333333337, 0.3434343434343435, 0.3535353535353536, 0.36363636363636365, 0.37373737373737376, 0.38383838383838387, 0.393939393939394, 0.4040404040404041, 0.4141414141414142, 0.42424242424242425, 0.43434343434343436, 0.4444444444444445, 0.4545454545454546, 0.4646464646464647, 0.4747474747474748, 0.48484848484848486, 0.494949494949495, 0.5050505050505051, 0.5151515151515152, 0.5252525252525253, 0.5353535353535354, 0.5454545454545455, 0.5555555555555556, 0.5656565656565657, 0.5757575757575758, 0.5858585858585859, 0.595959595959596, 0.6060606060606061, 0.6161616161616162, 0.6262626262626263, 0.6363636363636365, 0.6464646464646465, 0.6565656565656566, 0.6666666666666667, 0.6767676767676768, 0.686868686868687, 0.696969696969697, 0.7070707070707072, 0.7171717171717172, 0.7272727272727273, 0.7373737373737375, 0.7474747474747475, 0.7575757575757577, 0.7676767676767677, 0.7777777777777778, 0.787878787878788, 0.797979797979798, 0.8080808080808082, 0.8181818181818182, 0.8282828282828284, 0.8383838383838385, 0.8484848484848485, 0.8585858585858587, 0.8686868686868687, 0.8787878787878789, 0.888888888888889, 0.8989898989898991, 0.9090909090909092, 0.9191919191919192, 0.9292929292929294, 0.9393939393939394, 0.9494949494949496, 0.9595959595959597, 0.9696969696969697, 0.9797979797979799, 0.98989898989899, 1.0], \"y\": [-5.400878191788927, -4.175994381549592, -5.56230543101909, -3.0451219249909656, -6.331951666517249, -6.760688560398783, -6.6507212658241, -5.890555584163049, -6.119115398559728, -3.043921096296358, -5.326499498078184, -6.342675789377436, -3.885617023220208, -5.586523938821593, -6.236853376541397, -4.1241610723507005, -4.376637823421968, -5.434956682955228, -3.5924599997587716, -4.870898420289275, -3.3830504011427, -4.497259118000096, -3.4411944593801405, -4.890597303574572, -6.219744396979033, -2.5506313509386027, -5.545774167982568, -5.1988378628888965, -5.700398504921255, -5.203394448964558, -4.7573305589182056, -4.798169821125996, -4.338979712401307, -3.207841791024433, -5.120464571788507, -6.233120735446427, -6.182318126509633, -5.665754518199127, -6.674195807618932, -4.174970175561014, -5.4982135636310785, -5.310984978302851, -5.001891482838004, -6.396620424595432, -5.861316360776042, -4.3252884743120275, -4.381460869213707, -5.443171930700638, -3.1894650858745437, -6.305726922557738, -5.344987210154979, -5.230839743135469, -7.79308500014654, -3.0624711863839202, -4.633667985459942, -6.044589381907792, -2.9488265571425556, -4.414337999827618, -4.570473859978035, -5.606998398200046, -4.893777275964783, -6.525680316229358, -4.204973905575155, -5.374438318843221, -4.865951803445377, -3.797945137800294, -4.715251889150942, -4.737532554536731, -4.723500695177816, -5.733271603895313, -4.163995280565731, -3.4566408891955165, -4.241194339902069, -4.115091185535117, -5.877281518918188, -5.867787222872925, -6.44087602429184, -3.767746929171564, -5.254179867607368, -3.600156057519014, -5.7819116826868004, -5.4375089828285805, -4.904574912808743, -4.078549931340489, -4.939249804200493, -4.788875244992283, -4.983472432694384, -4.822812279724039, -6.116470017884744, -4.919072899026721, -5.186578993511466, -5.056824480885847, -4.507663444063351, -5.680678141008886, -5.08450802740463, -5.297361882773504, -4.582697995025137, -4.21522934898441, -5.955425262373689, -4.414089568897384]}],\n",
       "                        {\"template\": {\"data\": {\"bar\": [{\"error_x\": {\"color\": \"#2a3f5f\"}, \"error_y\": {\"color\": \"#2a3f5f\"}, \"marker\": {\"line\": {\"color\": \"#E5ECF6\", \"width\": 0.5}}, \"type\": \"bar\"}], \"barpolar\": [{\"marker\": {\"line\": {\"color\": \"#E5ECF6\", \"width\": 0.5}}, \"type\": \"barpolar\"}], \"carpet\": [{\"aaxis\": {\"endlinecolor\": \"#2a3f5f\", \"gridcolor\": \"white\", \"linecolor\": \"white\", \"minorgridcolor\": \"white\", \"startlinecolor\": \"#2a3f5f\"}, \"baxis\": {\"endlinecolor\": \"#2a3f5f\", \"gridcolor\": \"white\", \"linecolor\": \"white\", \"minorgridcolor\": \"white\", \"startlinecolor\": \"#2a3f5f\"}, \"type\": \"carpet\"}], \"choropleth\": [{\"colorbar\": {\"outlinewidth\": 0, \"ticks\": \"\"}, \"type\": \"choropleth\"}], \"contour\": [{\"colorbar\": {\"outlinewidth\": 0, \"ticks\": \"\"}, \"colorscale\": [[0.0, \"#0d0887\"], [0.1111111111111111, \"#46039f\"], [0.2222222222222222, \"#7201a8\"], [0.3333333333333333, \"#9c179e\"], [0.4444444444444444, \"#bd3786\"], [0.5555555555555556, \"#d8576b\"], [0.6666666666666666, \"#ed7953\"], [0.7777777777777778, \"#fb9f3a\"], [0.8888888888888888, \"#fdca26\"], [1.0, \"#f0f921\"]], \"type\": \"contour\"}], \"contourcarpet\": [{\"colorbar\": {\"outlinewidth\": 0, \"ticks\": \"\"}, \"type\": \"contourcarpet\"}], \"heatmap\": [{\"colorbar\": {\"outlinewidth\": 0, \"ticks\": \"\"}, \"colorscale\": [[0.0, \"#0d0887\"], [0.1111111111111111, \"#46039f\"], [0.2222222222222222, \"#7201a8\"], [0.3333333333333333, \"#9c179e\"], [0.4444444444444444, \"#bd3786\"], [0.5555555555555556, \"#d8576b\"], [0.6666666666666666, \"#ed7953\"], [0.7777777777777778, \"#fb9f3a\"], [0.8888888888888888, \"#fdca26\"], [1.0, \"#f0f921\"]], \"type\": \"heatmap\"}], \"heatmapgl\": [{\"colorbar\": {\"outlinewidth\": 0, \"ticks\": \"\"}, \"colorscale\": [[0.0, \"#0d0887\"], [0.1111111111111111, \"#46039f\"], [0.2222222222222222, \"#7201a8\"], [0.3333333333333333, \"#9c179e\"], [0.4444444444444444, \"#bd3786\"], [0.5555555555555556, \"#d8576b\"], [0.6666666666666666, \"#ed7953\"], [0.7777777777777778, \"#fb9f3a\"], [0.8888888888888888, \"#fdca26\"], [1.0, \"#f0f921\"]], \"type\": \"heatmapgl\"}], \"histogram\": [{\"marker\": {\"colorbar\": {\"outlinewidth\": 0, \"ticks\": \"\"}}, \"type\": \"histogram\"}], \"histogram2d\": [{\"colorbar\": {\"outlinewidth\": 0, \"ticks\": \"\"}, \"colorscale\": [[0.0, \"#0d0887\"], [0.1111111111111111, \"#46039f\"], [0.2222222222222222, \"#7201a8\"], [0.3333333333333333, \"#9c179e\"], [0.4444444444444444, \"#bd3786\"], [0.5555555555555556, \"#d8576b\"], [0.6666666666666666, \"#ed7953\"], [0.7777777777777778, \"#fb9f3a\"], [0.8888888888888888, \"#fdca26\"], [1.0, \"#f0f921\"]], \"type\": \"histogram2d\"}], \"histogram2dcontour\": [{\"colorbar\": {\"outlinewidth\": 0, \"ticks\": \"\"}, \"colorscale\": [[0.0, \"#0d0887\"], [0.1111111111111111, \"#46039f\"], [0.2222222222222222, \"#7201a8\"], [0.3333333333333333, \"#9c179e\"], [0.4444444444444444, \"#bd3786\"], [0.5555555555555556, \"#d8576b\"], [0.6666666666666666, \"#ed7953\"], [0.7777777777777778, \"#fb9f3a\"], [0.8888888888888888, \"#fdca26\"], [1.0, \"#f0f921\"]], \"type\": \"histogram2dcontour\"}], \"mesh3d\": [{\"colorbar\": {\"outlinewidth\": 0, \"ticks\": \"\"}, \"type\": \"mesh3d\"}], \"parcoords\": [{\"line\": {\"colorbar\": {\"outlinewidth\": 0, \"ticks\": \"\"}}, \"type\": \"parcoords\"}], \"pie\": [{\"automargin\": true, \"type\": \"pie\"}], \"scatter\": [{\"marker\": {\"colorbar\": {\"outlinewidth\": 0, \"ticks\": \"\"}}, \"type\": \"scatter\"}], \"scatter3d\": [{\"line\": {\"colorbar\": {\"outlinewidth\": 0, \"ticks\": \"\"}}, \"marker\": {\"colorbar\": {\"outlinewidth\": 0, \"ticks\": \"\"}}, \"type\": \"scatter3d\"}], \"scattercarpet\": [{\"marker\": {\"colorbar\": {\"outlinewidth\": 0, \"ticks\": \"\"}}, \"type\": \"scattercarpet\"}], \"scattergeo\": [{\"marker\": {\"colorbar\": {\"outlinewidth\": 0, \"ticks\": \"\"}}, \"type\": \"scattergeo\"}], \"scattergl\": [{\"marker\": {\"colorbar\": {\"outlinewidth\": 0, \"ticks\": \"\"}}, \"type\": \"scattergl\"}], \"scattermapbox\": [{\"marker\": {\"colorbar\": {\"outlinewidth\": 0, \"ticks\": \"\"}}, \"type\": \"scattermapbox\"}], \"scatterpolar\": [{\"marker\": {\"colorbar\": {\"outlinewidth\": 0, \"ticks\": \"\"}}, \"type\": \"scatterpolar\"}], \"scatterpolargl\": [{\"marker\": {\"colorbar\": {\"outlinewidth\": 0, \"ticks\": \"\"}}, \"type\": \"scatterpolargl\"}], \"scatterternary\": [{\"marker\": {\"colorbar\": {\"outlinewidth\": 0, \"ticks\": \"\"}}, \"type\": \"scatterternary\"}], \"surface\": [{\"colorbar\": {\"outlinewidth\": 0, \"ticks\": \"\"}, \"colorscale\": [[0.0, \"#0d0887\"], [0.1111111111111111, \"#46039f\"], [0.2222222222222222, \"#7201a8\"], [0.3333333333333333, \"#9c179e\"], [0.4444444444444444, \"#bd3786\"], [0.5555555555555556, \"#d8576b\"], [0.6666666666666666, \"#ed7953\"], [0.7777777777777778, \"#fb9f3a\"], [0.8888888888888888, \"#fdca26\"], [1.0, \"#f0f921\"]], \"type\": \"surface\"}], \"table\": [{\"cells\": {\"fill\": {\"color\": \"#EBF0F8\"}, \"line\": {\"color\": \"white\"}}, \"header\": {\"fill\": {\"color\": \"#C8D4E3\"}, \"line\": {\"color\": \"white\"}}, \"type\": \"table\"}]}, \"layout\": {\"annotationdefaults\": {\"arrowcolor\": \"#2a3f5f\", \"arrowhead\": 0, \"arrowwidth\": 1}, \"coloraxis\": {\"colorbar\": {\"outlinewidth\": 0, \"ticks\": \"\"}}, \"colorscale\": {\"diverging\": [[0, \"#8e0152\"], [0.1, \"#c51b7d\"], [0.2, \"#de77ae\"], [0.3, \"#f1b6da\"], [0.4, \"#fde0ef\"], [0.5, \"#f7f7f7\"], [0.6, \"#e6f5d0\"], [0.7, \"#b8e186\"], [0.8, \"#7fbc41\"], [0.9, \"#4d9221\"], [1, \"#276419\"]], \"sequential\": [[0.0, \"#0d0887\"], [0.1111111111111111, \"#46039f\"], [0.2222222222222222, \"#7201a8\"], [0.3333333333333333, \"#9c179e\"], [0.4444444444444444, \"#bd3786\"], [0.5555555555555556, \"#d8576b\"], [0.6666666666666666, \"#ed7953\"], [0.7777777777777778, \"#fb9f3a\"], [0.8888888888888888, \"#fdca26\"], [1.0, \"#f0f921\"]], \"sequentialminus\": [[0.0, \"#0d0887\"], [0.1111111111111111, \"#46039f\"], [0.2222222222222222, \"#7201a8\"], [0.3333333333333333, \"#9c179e\"], [0.4444444444444444, \"#bd3786\"], [0.5555555555555556, \"#d8576b\"], [0.6666666666666666, \"#ed7953\"], [0.7777777777777778, \"#fb9f3a\"], [0.8888888888888888, \"#fdca26\"], [1.0, \"#f0f921\"]]}, \"colorway\": [\"#636efa\", \"#EF553B\", \"#00cc96\", \"#ab63fa\", \"#FFA15A\", \"#19d3f3\", \"#FF6692\", \"#B6E880\", \"#FF97FF\", \"#FECB52\"], \"font\": {\"color\": \"#2a3f5f\"}, \"geo\": {\"bgcolor\": \"white\", \"lakecolor\": \"white\", \"landcolor\": \"#E5ECF6\", \"showlakes\": true, \"showland\": true, \"subunitcolor\": \"white\"}, \"hoverlabel\": {\"align\": \"left\"}, \"hovermode\": \"closest\", \"mapbox\": {\"style\": \"light\"}, \"paper_bgcolor\": \"white\", \"plot_bgcolor\": \"#E5ECF6\", \"polar\": {\"angularaxis\": {\"gridcolor\": \"white\", \"linecolor\": \"white\", \"ticks\": \"\"}, \"bgcolor\": \"#E5ECF6\", \"radialaxis\": {\"gridcolor\": \"white\", \"linecolor\": \"white\", \"ticks\": \"\"}}, \"scene\": {\"xaxis\": {\"backgroundcolor\": \"#E5ECF6\", \"gridcolor\": \"white\", \"gridwidth\": 2, \"linecolor\": \"white\", \"showbackground\": true, \"ticks\": \"\", \"zerolinecolor\": \"white\"}, \"yaxis\": {\"backgroundcolor\": \"#E5ECF6\", \"gridcolor\": \"white\", \"gridwidth\": 2, \"linecolor\": \"white\", \"showbackground\": true, \"ticks\": \"\", \"zerolinecolor\": \"white\"}, \"zaxis\": {\"backgroundcolor\": \"#E5ECF6\", \"gridcolor\": \"white\", \"gridwidth\": 2, \"linecolor\": \"white\", \"showbackground\": true, \"ticks\": \"\", \"zerolinecolor\": \"white\"}}, \"shapedefaults\": {\"line\": {\"color\": \"#2a3f5f\"}}, \"ternary\": {\"aaxis\": {\"gridcolor\": \"white\", \"linecolor\": \"white\", \"ticks\": \"\"}, \"baxis\": {\"gridcolor\": \"white\", \"linecolor\": \"white\", \"ticks\": \"\"}, \"bgcolor\": \"#E5ECF6\", \"caxis\": {\"gridcolor\": \"white\", \"linecolor\": \"white\", \"ticks\": \"\"}}, \"title\": {\"x\": 0.05}, \"xaxis\": {\"automargin\": true, \"gridcolor\": \"white\", \"linecolor\": \"white\", \"ticks\": \"\", \"title\": {\"standoff\": 15}, \"zerolinecolor\": \"white\", \"zerolinewidth\": 2}, \"yaxis\": {\"automargin\": true, \"gridcolor\": \"white\", \"linecolor\": \"white\", \"ticks\": \"\", \"title\": {\"standoff\": 15}, \"zerolinecolor\": \"white\", \"zerolinewidth\": 2}}}},\n",
       "                        {\"responsive\": true}\n",
       "                    ).then(function(){\n",
       "                            \n",
       "var gd = document.getElementById('4e56af05-c064-494e-b0f7-05d2d4cdbe45');\n",
       "var x = new MutationObserver(function (mutations, observer) {{\n",
       "        var display = window.getComputedStyle(gd).display;\n",
       "        if (!display || display === 'none') {{\n",
       "            console.log([gd, 'removed!']);\n",
       "            Plotly.purge(gd);\n",
       "            observer.disconnect();\n",
       "        }}\n",
       "}});\n",
       "\n",
       "// Listen for the removal of the full notebook cells\n",
       "var notebookContainer = gd.closest('#notebook-container');\n",
       "if (notebookContainer) {{\n",
       "    x.observe(notebookContainer, {childList: true});\n",
       "}}\n",
       "\n",
       "// Listen for the clearing of the current output cell\n",
       "var outputEl = gd.closest('.output');\n",
       "if (outputEl) {{\n",
       "    x.observe(outputEl, {childList: true});\n",
       "}}\n",
       "\n",
       "                        })\n",
       "                };\n",
       "                });\n",
       "            </script>\n",
       "        </div>"
      ]
     },
     "metadata": {},
     "output_type": "display_data"
    }
   ],
   "source": [
    "import plotly.graph_objects as go\n",
    "\n",
    "# Create random data with numpy\n",
    "import numpy as np\n",
    "np.random.seed(1)\n",
    "\n",
    "N = 100\n",
    "random_x = np.linspace(0, 1, N)\n",
    "random_y0 = np.random.randn(N) + 5\n",
    "random_y1 = np.random.randn(N)\n",
    "random_y2 = np.random.randn(N) - 5\n",
    "\n",
    "# Create traces\n",
    "fig = go.Figure()\n",
    "fig.add_trace(go.Scatter(x=random_x, y=random_y0,\n",
    "                    mode='lines',\n",
    "                    name='lines'))\n",
    "fig.add_trace(go.Scatter(x=random_x, y=random_y1,\n",
    "                    mode='lines+markers',\n",
    "                    name='lines+markers'))\n",
    "fig.add_trace(go.Scatter(x=random_x, y=random_y2,\n",
    "                    mode='markers', name='markers'))\n",
    "\n",
    "fig.show()"
   ]
  },
  {
   "cell_type": "markdown",
   "metadata": {},
   "source": [
    "## Style Line Plots\n",
    "Here we style the color and dash of the traces, adds trace names, modify line width, and adds plot and axes titles."
   ]
  },
  {
   "cell_type": "code",
   "execution_count": 12,
   "metadata": {},
   "outputs": [
    {
     "data": {
      "application/vnd.plotly.v1+json": {
       "config": {
        "plotlyServerURL": "https://plot.ly"
       },
       "data": [
        {
         "line": {
          "color": "firebrick",
          "width": 4
         },
         "name": "High 2014",
         "type": "scatter",
         "x": [
          "January",
          "February",
          "March",
          "April",
          "May",
          "June",
          "July",
          "August",
          "September",
          "October",
          "November",
          "December"
         ],
         "y": [
          28.8,
          28.5,
          37,
          56.8,
          69.7,
          79.7,
          78.5,
          77.8,
          74.1,
          62.6,
          45.3,
          39.9
         ]
        },
        {
         "line": {
          "color": "royalblue",
          "width": 4
         },
         "name": "Low 2014",
         "type": "scatter",
         "x": [
          "January",
          "February",
          "March",
          "April",
          "May",
          "June",
          "July",
          "August",
          "September",
          "October",
          "November",
          "December"
         ],
         "y": [
          12.7,
          14.3,
          18.6,
          35.5,
          49.9,
          58,
          60,
          58.6,
          51.7,
          45.2,
          32.2,
          29.1
         ]
        },
        {
         "line": {
          "color": "firebrick",
          "dash": "dash",
          "width": 4
         },
         "name": "High 2007",
         "type": "scatter",
         "x": [
          "January",
          "February",
          "March",
          "April",
          "May",
          "June",
          "July",
          "August",
          "September",
          "October",
          "November",
          "December"
         ],
         "y": [
          36.5,
          26.6,
          43.6,
          52.3,
          71.5,
          81.4,
          80.5,
          82.2,
          76,
          67.3,
          46.1,
          35
         ]
        },
        {
         "line": {
          "color": "royalblue",
          "dash": "dash",
          "width": 4
         },
         "name": "Low 2007",
         "type": "scatter",
         "x": [
          "January",
          "February",
          "March",
          "April",
          "May",
          "June",
          "July",
          "August",
          "September",
          "October",
          "November",
          "December"
         ],
         "y": [
          23.6,
          14,
          27,
          36.8,
          47.6,
          57.7,
          58.9,
          61.2,
          53.3,
          48.5,
          31,
          23.6
         ]
        },
        {
         "line": {
          "color": "firebrick",
          "dash": "dot",
          "width": 4
         },
         "name": "High 2000",
         "type": "scatter",
         "x": [
          "January",
          "February",
          "March",
          "April",
          "May",
          "June",
          "July",
          "August",
          "September",
          "October",
          "November",
          "December"
         ],
         "y": [
          32.5,
          37.6,
          49.9,
          53,
          69.1,
          75.4,
          76.5,
          76.6,
          70.7,
          60.6,
          45.1,
          29.3
         ]
        },
        {
         "line": {
          "color": "royalblue",
          "dash": "dot",
          "width": 4
         },
         "name": "Low 2000",
         "type": "scatter",
         "x": [
          "January",
          "February",
          "March",
          "April",
          "May",
          "June",
          "July",
          "August",
          "September",
          "October",
          "November",
          "December"
         ],
         "y": [
          13.8,
          22.3,
          32.5,
          37.2,
          49.9,
          56.1,
          57.7,
          58.3,
          51.2,
          42.8,
          31.6,
          15.9
         ]
        }
       ],
       "layout": {
        "template": {
         "data": {
          "bar": [
           {
            "error_x": {
             "color": "#2a3f5f"
            },
            "error_y": {
             "color": "#2a3f5f"
            },
            "marker": {
             "line": {
              "color": "#E5ECF6",
              "width": 0.5
             }
            },
            "type": "bar"
           }
          ],
          "barpolar": [
           {
            "marker": {
             "line": {
              "color": "#E5ECF6",
              "width": 0.5
             }
            },
            "type": "barpolar"
           }
          ],
          "carpet": [
           {
            "aaxis": {
             "endlinecolor": "#2a3f5f",
             "gridcolor": "white",
             "linecolor": "white",
             "minorgridcolor": "white",
             "startlinecolor": "#2a3f5f"
            },
            "baxis": {
             "endlinecolor": "#2a3f5f",
             "gridcolor": "white",
             "linecolor": "white",
             "minorgridcolor": "white",
             "startlinecolor": "#2a3f5f"
            },
            "type": "carpet"
           }
          ],
          "choropleth": [
           {
            "colorbar": {
             "outlinewidth": 0,
             "ticks": ""
            },
            "type": "choropleth"
           }
          ],
          "contour": [
           {
            "colorbar": {
             "outlinewidth": 0,
             "ticks": ""
            },
            "colorscale": [
             [
              0,
              "#0d0887"
             ],
             [
              0.1111111111111111,
              "#46039f"
             ],
             [
              0.2222222222222222,
              "#7201a8"
             ],
             [
              0.3333333333333333,
              "#9c179e"
             ],
             [
              0.4444444444444444,
              "#bd3786"
             ],
             [
              0.5555555555555556,
              "#d8576b"
             ],
             [
              0.6666666666666666,
              "#ed7953"
             ],
             [
              0.7777777777777778,
              "#fb9f3a"
             ],
             [
              0.8888888888888888,
              "#fdca26"
             ],
             [
              1,
              "#f0f921"
             ]
            ],
            "type": "contour"
           }
          ],
          "contourcarpet": [
           {
            "colorbar": {
             "outlinewidth": 0,
             "ticks": ""
            },
            "type": "contourcarpet"
           }
          ],
          "heatmap": [
           {
            "colorbar": {
             "outlinewidth": 0,
             "ticks": ""
            },
            "colorscale": [
             [
              0,
              "#0d0887"
             ],
             [
              0.1111111111111111,
              "#46039f"
             ],
             [
              0.2222222222222222,
              "#7201a8"
             ],
             [
              0.3333333333333333,
              "#9c179e"
             ],
             [
              0.4444444444444444,
              "#bd3786"
             ],
             [
              0.5555555555555556,
              "#d8576b"
             ],
             [
              0.6666666666666666,
              "#ed7953"
             ],
             [
              0.7777777777777778,
              "#fb9f3a"
             ],
             [
              0.8888888888888888,
              "#fdca26"
             ],
             [
              1,
              "#f0f921"
             ]
            ],
            "type": "heatmap"
           }
          ],
          "heatmapgl": [
           {
            "colorbar": {
             "outlinewidth": 0,
             "ticks": ""
            },
            "colorscale": [
             [
              0,
              "#0d0887"
             ],
             [
              0.1111111111111111,
              "#46039f"
             ],
             [
              0.2222222222222222,
              "#7201a8"
             ],
             [
              0.3333333333333333,
              "#9c179e"
             ],
             [
              0.4444444444444444,
              "#bd3786"
             ],
             [
              0.5555555555555556,
              "#d8576b"
             ],
             [
              0.6666666666666666,
              "#ed7953"
             ],
             [
              0.7777777777777778,
              "#fb9f3a"
             ],
             [
              0.8888888888888888,
              "#fdca26"
             ],
             [
              1,
              "#f0f921"
             ]
            ],
            "type": "heatmapgl"
           }
          ],
          "histogram": [
           {
            "marker": {
             "colorbar": {
              "outlinewidth": 0,
              "ticks": ""
             }
            },
            "type": "histogram"
           }
          ],
          "histogram2d": [
           {
            "colorbar": {
             "outlinewidth": 0,
             "ticks": ""
            },
            "colorscale": [
             [
              0,
              "#0d0887"
             ],
             [
              0.1111111111111111,
              "#46039f"
             ],
             [
              0.2222222222222222,
              "#7201a8"
             ],
             [
              0.3333333333333333,
              "#9c179e"
             ],
             [
              0.4444444444444444,
              "#bd3786"
             ],
             [
              0.5555555555555556,
              "#d8576b"
             ],
             [
              0.6666666666666666,
              "#ed7953"
             ],
             [
              0.7777777777777778,
              "#fb9f3a"
             ],
             [
              0.8888888888888888,
              "#fdca26"
             ],
             [
              1,
              "#f0f921"
             ]
            ],
            "type": "histogram2d"
           }
          ],
          "histogram2dcontour": [
           {
            "colorbar": {
             "outlinewidth": 0,
             "ticks": ""
            },
            "colorscale": [
             [
              0,
              "#0d0887"
             ],
             [
              0.1111111111111111,
              "#46039f"
             ],
             [
              0.2222222222222222,
              "#7201a8"
             ],
             [
              0.3333333333333333,
              "#9c179e"
             ],
             [
              0.4444444444444444,
              "#bd3786"
             ],
             [
              0.5555555555555556,
              "#d8576b"
             ],
             [
              0.6666666666666666,
              "#ed7953"
             ],
             [
              0.7777777777777778,
              "#fb9f3a"
             ],
             [
              0.8888888888888888,
              "#fdca26"
             ],
             [
              1,
              "#f0f921"
             ]
            ],
            "type": "histogram2dcontour"
           }
          ],
          "mesh3d": [
           {
            "colorbar": {
             "outlinewidth": 0,
             "ticks": ""
            },
            "type": "mesh3d"
           }
          ],
          "parcoords": [
           {
            "line": {
             "colorbar": {
              "outlinewidth": 0,
              "ticks": ""
             }
            },
            "type": "parcoords"
           }
          ],
          "pie": [
           {
            "automargin": true,
            "type": "pie"
           }
          ],
          "scatter": [
           {
            "marker": {
             "colorbar": {
              "outlinewidth": 0,
              "ticks": ""
             }
            },
            "type": "scatter"
           }
          ],
          "scatter3d": [
           {
            "line": {
             "colorbar": {
              "outlinewidth": 0,
              "ticks": ""
             }
            },
            "marker": {
             "colorbar": {
              "outlinewidth": 0,
              "ticks": ""
             }
            },
            "type": "scatter3d"
           }
          ],
          "scattercarpet": [
           {
            "marker": {
             "colorbar": {
              "outlinewidth": 0,
              "ticks": ""
             }
            },
            "type": "scattercarpet"
           }
          ],
          "scattergeo": [
           {
            "marker": {
             "colorbar": {
              "outlinewidth": 0,
              "ticks": ""
             }
            },
            "type": "scattergeo"
           }
          ],
          "scattergl": [
           {
            "marker": {
             "colorbar": {
              "outlinewidth": 0,
              "ticks": ""
             }
            },
            "type": "scattergl"
           }
          ],
          "scattermapbox": [
           {
            "marker": {
             "colorbar": {
              "outlinewidth": 0,
              "ticks": ""
             }
            },
            "type": "scattermapbox"
           }
          ],
          "scatterpolar": [
           {
            "marker": {
             "colorbar": {
              "outlinewidth": 0,
              "ticks": ""
             }
            },
            "type": "scatterpolar"
           }
          ],
          "scatterpolargl": [
           {
            "marker": {
             "colorbar": {
              "outlinewidth": 0,
              "ticks": ""
             }
            },
            "type": "scatterpolargl"
           }
          ],
          "scatterternary": [
           {
            "marker": {
             "colorbar": {
              "outlinewidth": 0,
              "ticks": ""
             }
            },
            "type": "scatterternary"
           }
          ],
          "surface": [
           {
            "colorbar": {
             "outlinewidth": 0,
             "ticks": ""
            },
            "colorscale": [
             [
              0,
              "#0d0887"
             ],
             [
              0.1111111111111111,
              "#46039f"
             ],
             [
              0.2222222222222222,
              "#7201a8"
             ],
             [
              0.3333333333333333,
              "#9c179e"
             ],
             [
              0.4444444444444444,
              "#bd3786"
             ],
             [
              0.5555555555555556,
              "#d8576b"
             ],
             [
              0.6666666666666666,
              "#ed7953"
             ],
             [
              0.7777777777777778,
              "#fb9f3a"
             ],
             [
              0.8888888888888888,
              "#fdca26"
             ],
             [
              1,
              "#f0f921"
             ]
            ],
            "type": "surface"
           }
          ],
          "table": [
           {
            "cells": {
             "fill": {
              "color": "#EBF0F8"
             },
             "line": {
              "color": "white"
             }
            },
            "header": {
             "fill": {
              "color": "#C8D4E3"
             },
             "line": {
              "color": "white"
             }
            },
            "type": "table"
           }
          ]
         },
         "layout": {
          "annotationdefaults": {
           "arrowcolor": "#2a3f5f",
           "arrowhead": 0,
           "arrowwidth": 1
          },
          "coloraxis": {
           "colorbar": {
            "outlinewidth": 0,
            "ticks": ""
           }
          },
          "colorscale": {
           "diverging": [
            [
             0,
             "#8e0152"
            ],
            [
             0.1,
             "#c51b7d"
            ],
            [
             0.2,
             "#de77ae"
            ],
            [
             0.3,
             "#f1b6da"
            ],
            [
             0.4,
             "#fde0ef"
            ],
            [
             0.5,
             "#f7f7f7"
            ],
            [
             0.6,
             "#e6f5d0"
            ],
            [
             0.7,
             "#b8e186"
            ],
            [
             0.8,
             "#7fbc41"
            ],
            [
             0.9,
             "#4d9221"
            ],
            [
             1,
             "#276419"
            ]
           ],
           "sequential": [
            [
             0,
             "#0d0887"
            ],
            [
             0.1111111111111111,
             "#46039f"
            ],
            [
             0.2222222222222222,
             "#7201a8"
            ],
            [
             0.3333333333333333,
             "#9c179e"
            ],
            [
             0.4444444444444444,
             "#bd3786"
            ],
            [
             0.5555555555555556,
             "#d8576b"
            ],
            [
             0.6666666666666666,
             "#ed7953"
            ],
            [
             0.7777777777777778,
             "#fb9f3a"
            ],
            [
             0.8888888888888888,
             "#fdca26"
            ],
            [
             1,
             "#f0f921"
            ]
           ],
           "sequentialminus": [
            [
             0,
             "#0d0887"
            ],
            [
             0.1111111111111111,
             "#46039f"
            ],
            [
             0.2222222222222222,
             "#7201a8"
            ],
            [
             0.3333333333333333,
             "#9c179e"
            ],
            [
             0.4444444444444444,
             "#bd3786"
            ],
            [
             0.5555555555555556,
             "#d8576b"
            ],
            [
             0.6666666666666666,
             "#ed7953"
            ],
            [
             0.7777777777777778,
             "#fb9f3a"
            ],
            [
             0.8888888888888888,
             "#fdca26"
            ],
            [
             1,
             "#f0f921"
            ]
           ]
          },
          "colorway": [
           "#636efa",
           "#EF553B",
           "#00cc96",
           "#ab63fa",
           "#FFA15A",
           "#19d3f3",
           "#FF6692",
           "#B6E880",
           "#FF97FF",
           "#FECB52"
          ],
          "font": {
           "color": "#2a3f5f"
          },
          "geo": {
           "bgcolor": "white",
           "lakecolor": "white",
           "landcolor": "#E5ECF6",
           "showlakes": true,
           "showland": true,
           "subunitcolor": "white"
          },
          "hoverlabel": {
           "align": "left"
          },
          "hovermode": "closest",
          "mapbox": {
           "style": "light"
          },
          "paper_bgcolor": "white",
          "plot_bgcolor": "#E5ECF6",
          "polar": {
           "angularaxis": {
            "gridcolor": "white",
            "linecolor": "white",
            "ticks": ""
           },
           "bgcolor": "#E5ECF6",
           "radialaxis": {
            "gridcolor": "white",
            "linecolor": "white",
            "ticks": ""
           }
          },
          "scene": {
           "xaxis": {
            "backgroundcolor": "#E5ECF6",
            "gridcolor": "white",
            "gridwidth": 2,
            "linecolor": "white",
            "showbackground": true,
            "ticks": "",
            "zerolinecolor": "white"
           },
           "yaxis": {
            "backgroundcolor": "#E5ECF6",
            "gridcolor": "white",
            "gridwidth": 2,
            "linecolor": "white",
            "showbackground": true,
            "ticks": "",
            "zerolinecolor": "white"
           },
           "zaxis": {
            "backgroundcolor": "#E5ECF6",
            "gridcolor": "white",
            "gridwidth": 2,
            "linecolor": "white",
            "showbackground": true,
            "ticks": "",
            "zerolinecolor": "white"
           }
          },
          "shapedefaults": {
           "line": {
            "color": "#2a3f5f"
           }
          },
          "ternary": {
           "aaxis": {
            "gridcolor": "white",
            "linecolor": "white",
            "ticks": ""
           },
           "baxis": {
            "gridcolor": "white",
            "linecolor": "white",
            "ticks": ""
           },
           "bgcolor": "#E5ECF6",
           "caxis": {
            "gridcolor": "white",
            "linecolor": "white",
            "ticks": ""
           }
          },
          "title": {
           "x": 0.05
          },
          "xaxis": {
           "automargin": true,
           "gridcolor": "white",
           "linecolor": "white",
           "ticks": "",
           "title": {
            "standoff": 15
           },
           "zerolinecolor": "white",
           "zerolinewidth": 2
          },
          "yaxis": {
           "automargin": true,
           "gridcolor": "white",
           "linecolor": "white",
           "ticks": "",
           "title": {
            "standoff": 15
           },
           "zerolinecolor": "white",
           "zerolinewidth": 2
          }
         }
        },
        "title": {
         "text": "Average High and Low Temperatures in New York"
        },
        "xaxis": {
         "title": {
          "text": "Month"
         }
        },
        "yaxis": {
         "title": {
          "text": "Temperature (degrees F)"
         }
        }
       }
      },
      "text/html": [
       "<div>\n",
       "        \n",
       "        \n",
       "            <div id=\"3579d930-5961-4c31-97ce-b5136ff7b46a\" class=\"plotly-graph-div\" style=\"height:525px; width:100%;\"></div>\n",
       "            <script type=\"text/javascript\">\n",
       "                require([\"plotly\"], function(Plotly) {\n",
       "                    window.PLOTLYENV=window.PLOTLYENV || {};\n",
       "                    \n",
       "                if (document.getElementById(\"3579d930-5961-4c31-97ce-b5136ff7b46a\")) {\n",
       "                    Plotly.newPlot(\n",
       "                        '3579d930-5961-4c31-97ce-b5136ff7b46a',\n",
       "                        [{\"line\": {\"color\": \"firebrick\", \"width\": 4}, \"name\": \"High 2014\", \"type\": \"scatter\", \"x\": [\"January\", \"February\", \"March\", \"April\", \"May\", \"June\", \"July\", \"August\", \"September\", \"October\", \"November\", \"December\"], \"y\": [28.8, 28.5, 37.0, 56.8, 69.7, 79.7, 78.5, 77.8, 74.1, 62.6, 45.3, 39.9]}, {\"line\": {\"color\": \"royalblue\", \"width\": 4}, \"name\": \"Low 2014\", \"type\": \"scatter\", \"x\": [\"January\", \"February\", \"March\", \"April\", \"May\", \"June\", \"July\", \"August\", \"September\", \"October\", \"November\", \"December\"], \"y\": [12.7, 14.3, 18.6, 35.5, 49.9, 58.0, 60.0, 58.6, 51.7, 45.2, 32.2, 29.1]}, {\"line\": {\"color\": \"firebrick\", \"dash\": \"dash\", \"width\": 4}, \"name\": \"High 2007\", \"type\": \"scatter\", \"x\": [\"January\", \"February\", \"March\", \"April\", \"May\", \"June\", \"July\", \"August\", \"September\", \"October\", \"November\", \"December\"], \"y\": [36.5, 26.6, 43.6, 52.3, 71.5, 81.4, 80.5, 82.2, 76.0, 67.3, 46.1, 35.0]}, {\"line\": {\"color\": \"royalblue\", \"dash\": \"dash\", \"width\": 4}, \"name\": \"Low 2007\", \"type\": \"scatter\", \"x\": [\"January\", \"February\", \"March\", \"April\", \"May\", \"June\", \"July\", \"August\", \"September\", \"October\", \"November\", \"December\"], \"y\": [23.6, 14.0, 27.0, 36.8, 47.6, 57.7, 58.9, 61.2, 53.3, 48.5, 31.0, 23.6]}, {\"line\": {\"color\": \"firebrick\", \"dash\": \"dot\", \"width\": 4}, \"name\": \"High 2000\", \"type\": \"scatter\", \"x\": [\"January\", \"February\", \"March\", \"April\", \"May\", \"June\", \"July\", \"August\", \"September\", \"October\", \"November\", \"December\"], \"y\": [32.5, 37.6, 49.9, 53.0, 69.1, 75.4, 76.5, 76.6, 70.7, 60.6, 45.1, 29.3]}, {\"line\": {\"color\": \"royalblue\", \"dash\": \"dot\", \"width\": 4}, \"name\": \"Low 2000\", \"type\": \"scatter\", \"x\": [\"January\", \"February\", \"March\", \"April\", \"May\", \"June\", \"July\", \"August\", \"September\", \"October\", \"November\", \"December\"], \"y\": [13.8, 22.3, 32.5, 37.2, 49.9, 56.1, 57.7, 58.3, 51.2, 42.8, 31.6, 15.9]}],\n",
       "                        {\"template\": {\"data\": {\"bar\": [{\"error_x\": {\"color\": \"#2a3f5f\"}, \"error_y\": {\"color\": \"#2a3f5f\"}, \"marker\": {\"line\": {\"color\": \"#E5ECF6\", \"width\": 0.5}}, \"type\": \"bar\"}], \"barpolar\": [{\"marker\": {\"line\": {\"color\": \"#E5ECF6\", \"width\": 0.5}}, \"type\": \"barpolar\"}], \"carpet\": [{\"aaxis\": {\"endlinecolor\": \"#2a3f5f\", \"gridcolor\": \"white\", \"linecolor\": \"white\", \"minorgridcolor\": \"white\", \"startlinecolor\": \"#2a3f5f\"}, \"baxis\": {\"endlinecolor\": \"#2a3f5f\", \"gridcolor\": \"white\", \"linecolor\": \"white\", \"minorgridcolor\": \"white\", \"startlinecolor\": \"#2a3f5f\"}, \"type\": \"carpet\"}], \"choropleth\": [{\"colorbar\": {\"outlinewidth\": 0, \"ticks\": \"\"}, \"type\": \"choropleth\"}], \"contour\": [{\"colorbar\": {\"outlinewidth\": 0, \"ticks\": \"\"}, \"colorscale\": [[0.0, \"#0d0887\"], [0.1111111111111111, \"#46039f\"], [0.2222222222222222, \"#7201a8\"], [0.3333333333333333, \"#9c179e\"], [0.4444444444444444, \"#bd3786\"], [0.5555555555555556, \"#d8576b\"], [0.6666666666666666, \"#ed7953\"], [0.7777777777777778, \"#fb9f3a\"], [0.8888888888888888, \"#fdca26\"], [1.0, \"#f0f921\"]], \"type\": \"contour\"}], \"contourcarpet\": [{\"colorbar\": {\"outlinewidth\": 0, \"ticks\": \"\"}, \"type\": \"contourcarpet\"}], \"heatmap\": [{\"colorbar\": {\"outlinewidth\": 0, \"ticks\": \"\"}, \"colorscale\": [[0.0, \"#0d0887\"], [0.1111111111111111, \"#46039f\"], [0.2222222222222222, \"#7201a8\"], [0.3333333333333333, \"#9c179e\"], [0.4444444444444444, \"#bd3786\"], [0.5555555555555556, \"#d8576b\"], [0.6666666666666666, \"#ed7953\"], [0.7777777777777778, \"#fb9f3a\"], [0.8888888888888888, \"#fdca26\"], [1.0, \"#f0f921\"]], \"type\": \"heatmap\"}], \"heatmapgl\": [{\"colorbar\": {\"outlinewidth\": 0, \"ticks\": \"\"}, \"colorscale\": [[0.0, \"#0d0887\"], [0.1111111111111111, \"#46039f\"], [0.2222222222222222, \"#7201a8\"], [0.3333333333333333, \"#9c179e\"], [0.4444444444444444, \"#bd3786\"], [0.5555555555555556, \"#d8576b\"], [0.6666666666666666, \"#ed7953\"], [0.7777777777777778, \"#fb9f3a\"], [0.8888888888888888, \"#fdca26\"], [1.0, \"#f0f921\"]], \"type\": \"heatmapgl\"}], \"histogram\": [{\"marker\": {\"colorbar\": {\"outlinewidth\": 0, \"ticks\": \"\"}}, \"type\": \"histogram\"}], \"histogram2d\": [{\"colorbar\": {\"outlinewidth\": 0, \"ticks\": \"\"}, \"colorscale\": [[0.0, \"#0d0887\"], [0.1111111111111111, \"#46039f\"], [0.2222222222222222, \"#7201a8\"], [0.3333333333333333, \"#9c179e\"], [0.4444444444444444, \"#bd3786\"], [0.5555555555555556, \"#d8576b\"], [0.6666666666666666, \"#ed7953\"], [0.7777777777777778, \"#fb9f3a\"], [0.8888888888888888, \"#fdca26\"], [1.0, \"#f0f921\"]], \"type\": \"histogram2d\"}], \"histogram2dcontour\": [{\"colorbar\": {\"outlinewidth\": 0, \"ticks\": \"\"}, \"colorscale\": [[0.0, \"#0d0887\"], [0.1111111111111111, \"#46039f\"], [0.2222222222222222, \"#7201a8\"], [0.3333333333333333, \"#9c179e\"], [0.4444444444444444, \"#bd3786\"], [0.5555555555555556, \"#d8576b\"], [0.6666666666666666, \"#ed7953\"], [0.7777777777777778, \"#fb9f3a\"], [0.8888888888888888, \"#fdca26\"], [1.0, \"#f0f921\"]], \"type\": \"histogram2dcontour\"}], \"mesh3d\": [{\"colorbar\": {\"outlinewidth\": 0, \"ticks\": \"\"}, \"type\": \"mesh3d\"}], \"parcoords\": [{\"line\": {\"colorbar\": {\"outlinewidth\": 0, \"ticks\": \"\"}}, \"type\": \"parcoords\"}], \"pie\": [{\"automargin\": true, \"type\": \"pie\"}], \"scatter\": [{\"marker\": {\"colorbar\": {\"outlinewidth\": 0, \"ticks\": \"\"}}, \"type\": \"scatter\"}], \"scatter3d\": [{\"line\": {\"colorbar\": {\"outlinewidth\": 0, \"ticks\": \"\"}}, \"marker\": {\"colorbar\": {\"outlinewidth\": 0, \"ticks\": \"\"}}, \"type\": \"scatter3d\"}], \"scattercarpet\": [{\"marker\": {\"colorbar\": {\"outlinewidth\": 0, \"ticks\": \"\"}}, \"type\": \"scattercarpet\"}], \"scattergeo\": [{\"marker\": {\"colorbar\": {\"outlinewidth\": 0, \"ticks\": \"\"}}, \"type\": \"scattergeo\"}], \"scattergl\": [{\"marker\": {\"colorbar\": {\"outlinewidth\": 0, \"ticks\": \"\"}}, \"type\": \"scattergl\"}], \"scattermapbox\": [{\"marker\": {\"colorbar\": {\"outlinewidth\": 0, \"ticks\": \"\"}}, \"type\": \"scattermapbox\"}], \"scatterpolar\": [{\"marker\": {\"colorbar\": {\"outlinewidth\": 0, \"ticks\": \"\"}}, \"type\": \"scatterpolar\"}], \"scatterpolargl\": [{\"marker\": {\"colorbar\": {\"outlinewidth\": 0, \"ticks\": \"\"}}, \"type\": \"scatterpolargl\"}], \"scatterternary\": [{\"marker\": {\"colorbar\": {\"outlinewidth\": 0, \"ticks\": \"\"}}, \"type\": \"scatterternary\"}], \"surface\": [{\"colorbar\": {\"outlinewidth\": 0, \"ticks\": \"\"}, \"colorscale\": [[0.0, \"#0d0887\"], [0.1111111111111111, \"#46039f\"], [0.2222222222222222, \"#7201a8\"], [0.3333333333333333, \"#9c179e\"], [0.4444444444444444, \"#bd3786\"], [0.5555555555555556, \"#d8576b\"], [0.6666666666666666, \"#ed7953\"], [0.7777777777777778, \"#fb9f3a\"], [0.8888888888888888, \"#fdca26\"], [1.0, \"#f0f921\"]], \"type\": \"surface\"}], \"table\": [{\"cells\": {\"fill\": {\"color\": \"#EBF0F8\"}, \"line\": {\"color\": \"white\"}}, \"header\": {\"fill\": {\"color\": \"#C8D4E3\"}, \"line\": {\"color\": \"white\"}}, \"type\": \"table\"}]}, \"layout\": {\"annotationdefaults\": {\"arrowcolor\": \"#2a3f5f\", \"arrowhead\": 0, \"arrowwidth\": 1}, \"coloraxis\": {\"colorbar\": {\"outlinewidth\": 0, \"ticks\": \"\"}}, \"colorscale\": {\"diverging\": [[0, \"#8e0152\"], [0.1, \"#c51b7d\"], [0.2, \"#de77ae\"], [0.3, \"#f1b6da\"], [0.4, \"#fde0ef\"], [0.5, \"#f7f7f7\"], [0.6, \"#e6f5d0\"], [0.7, \"#b8e186\"], [0.8, \"#7fbc41\"], [0.9, \"#4d9221\"], [1, \"#276419\"]], \"sequential\": [[0.0, \"#0d0887\"], [0.1111111111111111, \"#46039f\"], [0.2222222222222222, \"#7201a8\"], [0.3333333333333333, \"#9c179e\"], [0.4444444444444444, \"#bd3786\"], [0.5555555555555556, \"#d8576b\"], [0.6666666666666666, \"#ed7953\"], [0.7777777777777778, \"#fb9f3a\"], [0.8888888888888888, \"#fdca26\"], [1.0, \"#f0f921\"]], \"sequentialminus\": [[0.0, \"#0d0887\"], [0.1111111111111111, \"#46039f\"], [0.2222222222222222, \"#7201a8\"], [0.3333333333333333, \"#9c179e\"], [0.4444444444444444, \"#bd3786\"], [0.5555555555555556, \"#d8576b\"], [0.6666666666666666, \"#ed7953\"], [0.7777777777777778, \"#fb9f3a\"], [0.8888888888888888, \"#fdca26\"], [1.0, \"#f0f921\"]]}, \"colorway\": [\"#636efa\", \"#EF553B\", \"#00cc96\", \"#ab63fa\", \"#FFA15A\", \"#19d3f3\", \"#FF6692\", \"#B6E880\", \"#FF97FF\", \"#FECB52\"], \"font\": {\"color\": \"#2a3f5f\"}, \"geo\": {\"bgcolor\": \"white\", \"lakecolor\": \"white\", \"landcolor\": \"#E5ECF6\", \"showlakes\": true, \"showland\": true, \"subunitcolor\": \"white\"}, \"hoverlabel\": {\"align\": \"left\"}, \"hovermode\": \"closest\", \"mapbox\": {\"style\": \"light\"}, \"paper_bgcolor\": \"white\", \"plot_bgcolor\": \"#E5ECF6\", \"polar\": {\"angularaxis\": {\"gridcolor\": \"white\", \"linecolor\": \"white\", \"ticks\": \"\"}, \"bgcolor\": \"#E5ECF6\", \"radialaxis\": {\"gridcolor\": \"white\", \"linecolor\": \"white\", \"ticks\": \"\"}}, \"scene\": {\"xaxis\": {\"backgroundcolor\": \"#E5ECF6\", \"gridcolor\": \"white\", \"gridwidth\": 2, \"linecolor\": \"white\", \"showbackground\": true, \"ticks\": \"\", \"zerolinecolor\": \"white\"}, \"yaxis\": {\"backgroundcolor\": \"#E5ECF6\", \"gridcolor\": \"white\", \"gridwidth\": 2, \"linecolor\": \"white\", \"showbackground\": true, \"ticks\": \"\", \"zerolinecolor\": \"white\"}, \"zaxis\": {\"backgroundcolor\": \"#E5ECF6\", \"gridcolor\": \"white\", \"gridwidth\": 2, \"linecolor\": \"white\", \"showbackground\": true, \"ticks\": \"\", \"zerolinecolor\": \"white\"}}, \"shapedefaults\": {\"line\": {\"color\": \"#2a3f5f\"}}, \"ternary\": {\"aaxis\": {\"gridcolor\": \"white\", \"linecolor\": \"white\", \"ticks\": \"\"}, \"baxis\": {\"gridcolor\": \"white\", \"linecolor\": \"white\", \"ticks\": \"\"}, \"bgcolor\": \"#E5ECF6\", \"caxis\": {\"gridcolor\": \"white\", \"linecolor\": \"white\", \"ticks\": \"\"}}, \"title\": {\"x\": 0.05}, \"xaxis\": {\"automargin\": true, \"gridcolor\": \"white\", \"linecolor\": \"white\", \"ticks\": \"\", \"title\": {\"standoff\": 15}, \"zerolinecolor\": \"white\", \"zerolinewidth\": 2}, \"yaxis\": {\"automargin\": true, \"gridcolor\": \"white\", \"linecolor\": \"white\", \"ticks\": \"\", \"title\": {\"standoff\": 15}, \"zerolinecolor\": \"white\", \"zerolinewidth\": 2}}}, \"title\": {\"text\": \"Average High and Low Temperatures in New York\"}, \"xaxis\": {\"title\": {\"text\": \"Month\"}}, \"yaxis\": {\"title\": {\"text\": \"Temperature (degrees F)\"}}},\n",
       "                        {\"responsive\": true}\n",
       "                    ).then(function(){\n",
       "                            \n",
       "var gd = document.getElementById('3579d930-5961-4c31-97ce-b5136ff7b46a');\n",
       "var x = new MutationObserver(function (mutations, observer) {{\n",
       "        var display = window.getComputedStyle(gd).display;\n",
       "        if (!display || display === 'none') {{\n",
       "            console.log([gd, 'removed!']);\n",
       "            Plotly.purge(gd);\n",
       "            observer.disconnect();\n",
       "        }}\n",
       "}});\n",
       "\n",
       "// Listen for the removal of the full notebook cells\n",
       "var notebookContainer = gd.closest('#notebook-container');\n",
       "if (notebookContainer) {{\n",
       "    x.observe(notebookContainer, {childList: true});\n",
       "}}\n",
       "\n",
       "// Listen for the clearing of the current output cell\n",
       "var outputEl = gd.closest('.output');\n",
       "if (outputEl) {{\n",
       "    x.observe(outputEl, {childList: true});\n",
       "}}\n",
       "\n",
       "                        })\n",
       "                };\n",
       "                });\n",
       "            </script>\n",
       "        </div>"
      ]
     },
     "metadata": {},
     "output_type": "display_data"
    }
   ],
   "source": [
    "import plotly.graph_objects as go\n",
    "\n",
    "# Add data\n",
    "month = ['January', 'February', 'March', 'April', 'May', 'June', 'July',\n",
    "         'August', 'September', 'October', 'November', 'December']\n",
    "high_2000 = [32.5, 37.6, 49.9, 53.0, 69.1, 75.4, 76.5, 76.6, 70.7, 60.6, 45.1, 29.3]\n",
    "low_2000 = [13.8, 22.3, 32.5, 37.2, 49.9, 56.1, 57.7, 58.3, 51.2, 42.8, 31.6, 15.9]\n",
    "high_2007 = [36.5, 26.6, 43.6, 52.3, 71.5, 81.4, 80.5, 82.2, 76.0, 67.3, 46.1, 35.0]\n",
    "low_2007 = [23.6, 14.0, 27.0, 36.8, 47.6, 57.7, 58.9, 61.2, 53.3, 48.5, 31.0, 23.6]\n",
    "high_2014 = [28.8, 28.5, 37.0, 56.8, 69.7, 79.7, 78.5, 77.8, 74.1, 62.6, 45.3, 39.9]\n",
    "low_2014 = [12.7, 14.3, 18.6, 35.5, 49.9, 58.0, 60.0, 58.6, 51.7, 45.2, 32.2, 29.1]\n",
    "\n",
    "fig = go.Figure()\n",
    "# Create and style traces\n",
    "fig.add_trace(go.Scatter(x=month, y=high_2014, name='High 2014',\n",
    "                         line=dict(color='firebrick', width=4)))\n",
    "fig.add_trace(go.Scatter(x=month, y=low_2014, name = 'Low 2014',\n",
    "                         line=dict(color='royalblue', width=4)))\n",
    "fig.add_trace(go.Scatter(x=month, y=high_2007, name='High 2007',\n",
    "                         line=dict(color='firebrick', width=4,\n",
    "                              dash='dash') # dash options include 'dash', 'dot', and 'dashdot'\n",
    "))\n",
    "fig.add_trace(go.Scatter(x=month, y=low_2007, name='Low 2007',\n",
    "                         line = dict(color='royalblue', width=4, dash='dash')))\n",
    "fig.add_trace(go.Scatter(x=month, y=high_2000, name='High 2000',\n",
    "                         line = dict(color='firebrick', width=4, dash='dot')))\n",
    "fig.add_trace(go.Scatter(x=month, y=low_2000, name='Low 2000',\n",
    "                         line=dict(color='royalblue', width=4, dash='dot')))\n",
    "\n",
    "# Edit the layout\n",
    "fig.update_layout(title='Average High and Low Temperatures in New York',\n",
    "                   xaxis_title='Month',\n",
    "                   yaxis_title='Temperature (degrees F)')\n",
    "\n",
    "\n",
    "fig.show()"
   ]
  },
  {
   "cell_type": "markdown",
   "metadata": {},
   "source": [
    "## Connect Data Gaps\n",
    "* Data is not always clean and full as we wish\n",
    "* The *connectgaps* option determines if missing values in the provided data are shown as a gap in the graph or not."
   ]
  },
  {
   "cell_type": "code",
   "execution_count": 27,
   "metadata": {},
   "outputs": [
    {
     "data": {
      "application/vnd.plotly.v1+json": {
       "config": {
        "plotlyServerURL": "https://plot.ly"
       },
       "data": [
        {
         "connectgaps": true,
         "name": "<b>No</b> Gaps",
         "type": "scatter",
         "x": [
          1,
          2,
          3,
          4,
          5,
          6,
          7,
          8,
          9,
          10,
          11,
          12,
          13,
          14,
          15
         ],
         "y": [
          10,
          20,
          null,
          15,
          10,
          5,
          15,
          null,
          20,
          10,
          10,
          15,
          25,
          20,
          10
         ]
        },
        {
         "name": "Gaps",
         "type": "scatter",
         "x": [
          1,
          2,
          3,
          4,
          5,
          6,
          7,
          8,
          9,
          10,
          11,
          12,
          13,
          14,
          15
         ],
         "y": [
          5,
          15,
          null,
          10,
          5,
          0,
          10,
          null,
          15,
          5,
          5,
          10,
          20,
          15,
          5
         ]
        }
       ],
       "layout": {
        "template": {
         "data": {
          "bar": [
           {
            "error_x": {
             "color": "#2a3f5f"
            },
            "error_y": {
             "color": "#2a3f5f"
            },
            "marker": {
             "line": {
              "color": "#E5ECF6",
              "width": 0.5
             }
            },
            "type": "bar"
           }
          ],
          "barpolar": [
           {
            "marker": {
             "line": {
              "color": "#E5ECF6",
              "width": 0.5
             }
            },
            "type": "barpolar"
           }
          ],
          "carpet": [
           {
            "aaxis": {
             "endlinecolor": "#2a3f5f",
             "gridcolor": "white",
             "linecolor": "white",
             "minorgridcolor": "white",
             "startlinecolor": "#2a3f5f"
            },
            "baxis": {
             "endlinecolor": "#2a3f5f",
             "gridcolor": "white",
             "linecolor": "white",
             "minorgridcolor": "white",
             "startlinecolor": "#2a3f5f"
            },
            "type": "carpet"
           }
          ],
          "choropleth": [
           {
            "colorbar": {
             "outlinewidth": 0,
             "ticks": ""
            },
            "type": "choropleth"
           }
          ],
          "contour": [
           {
            "colorbar": {
             "outlinewidth": 0,
             "ticks": ""
            },
            "colorscale": [
             [
              0,
              "#0d0887"
             ],
             [
              0.1111111111111111,
              "#46039f"
             ],
             [
              0.2222222222222222,
              "#7201a8"
             ],
             [
              0.3333333333333333,
              "#9c179e"
             ],
             [
              0.4444444444444444,
              "#bd3786"
             ],
             [
              0.5555555555555556,
              "#d8576b"
             ],
             [
              0.6666666666666666,
              "#ed7953"
             ],
             [
              0.7777777777777778,
              "#fb9f3a"
             ],
             [
              0.8888888888888888,
              "#fdca26"
             ],
             [
              1,
              "#f0f921"
             ]
            ],
            "type": "contour"
           }
          ],
          "contourcarpet": [
           {
            "colorbar": {
             "outlinewidth": 0,
             "ticks": ""
            },
            "type": "contourcarpet"
           }
          ],
          "heatmap": [
           {
            "colorbar": {
             "outlinewidth": 0,
             "ticks": ""
            },
            "colorscale": [
             [
              0,
              "#0d0887"
             ],
             [
              0.1111111111111111,
              "#46039f"
             ],
             [
              0.2222222222222222,
              "#7201a8"
             ],
             [
              0.3333333333333333,
              "#9c179e"
             ],
             [
              0.4444444444444444,
              "#bd3786"
             ],
             [
              0.5555555555555556,
              "#d8576b"
             ],
             [
              0.6666666666666666,
              "#ed7953"
             ],
             [
              0.7777777777777778,
              "#fb9f3a"
             ],
             [
              0.8888888888888888,
              "#fdca26"
             ],
             [
              1,
              "#f0f921"
             ]
            ],
            "type": "heatmap"
           }
          ],
          "heatmapgl": [
           {
            "colorbar": {
             "outlinewidth": 0,
             "ticks": ""
            },
            "colorscale": [
             [
              0,
              "#0d0887"
             ],
             [
              0.1111111111111111,
              "#46039f"
             ],
             [
              0.2222222222222222,
              "#7201a8"
             ],
             [
              0.3333333333333333,
              "#9c179e"
             ],
             [
              0.4444444444444444,
              "#bd3786"
             ],
             [
              0.5555555555555556,
              "#d8576b"
             ],
             [
              0.6666666666666666,
              "#ed7953"
             ],
             [
              0.7777777777777778,
              "#fb9f3a"
             ],
             [
              0.8888888888888888,
              "#fdca26"
             ],
             [
              1,
              "#f0f921"
             ]
            ],
            "type": "heatmapgl"
           }
          ],
          "histogram": [
           {
            "marker": {
             "colorbar": {
              "outlinewidth": 0,
              "ticks": ""
             }
            },
            "type": "histogram"
           }
          ],
          "histogram2d": [
           {
            "colorbar": {
             "outlinewidth": 0,
             "ticks": ""
            },
            "colorscale": [
             [
              0,
              "#0d0887"
             ],
             [
              0.1111111111111111,
              "#46039f"
             ],
             [
              0.2222222222222222,
              "#7201a8"
             ],
             [
              0.3333333333333333,
              "#9c179e"
             ],
             [
              0.4444444444444444,
              "#bd3786"
             ],
             [
              0.5555555555555556,
              "#d8576b"
             ],
             [
              0.6666666666666666,
              "#ed7953"
             ],
             [
              0.7777777777777778,
              "#fb9f3a"
             ],
             [
              0.8888888888888888,
              "#fdca26"
             ],
             [
              1,
              "#f0f921"
             ]
            ],
            "type": "histogram2d"
           }
          ],
          "histogram2dcontour": [
           {
            "colorbar": {
             "outlinewidth": 0,
             "ticks": ""
            },
            "colorscale": [
             [
              0,
              "#0d0887"
             ],
             [
              0.1111111111111111,
              "#46039f"
             ],
             [
              0.2222222222222222,
              "#7201a8"
             ],
             [
              0.3333333333333333,
              "#9c179e"
             ],
             [
              0.4444444444444444,
              "#bd3786"
             ],
             [
              0.5555555555555556,
              "#d8576b"
             ],
             [
              0.6666666666666666,
              "#ed7953"
             ],
             [
              0.7777777777777778,
              "#fb9f3a"
             ],
             [
              0.8888888888888888,
              "#fdca26"
             ],
             [
              1,
              "#f0f921"
             ]
            ],
            "type": "histogram2dcontour"
           }
          ],
          "mesh3d": [
           {
            "colorbar": {
             "outlinewidth": 0,
             "ticks": ""
            },
            "type": "mesh3d"
           }
          ],
          "parcoords": [
           {
            "line": {
             "colorbar": {
              "outlinewidth": 0,
              "ticks": ""
             }
            },
            "type": "parcoords"
           }
          ],
          "pie": [
           {
            "automargin": true,
            "type": "pie"
           }
          ],
          "scatter": [
           {
            "marker": {
             "colorbar": {
              "outlinewidth": 0,
              "ticks": ""
             }
            },
            "type": "scatter"
           }
          ],
          "scatter3d": [
           {
            "line": {
             "colorbar": {
              "outlinewidth": 0,
              "ticks": ""
             }
            },
            "marker": {
             "colorbar": {
              "outlinewidth": 0,
              "ticks": ""
             }
            },
            "type": "scatter3d"
           }
          ],
          "scattercarpet": [
           {
            "marker": {
             "colorbar": {
              "outlinewidth": 0,
              "ticks": ""
             }
            },
            "type": "scattercarpet"
           }
          ],
          "scattergeo": [
           {
            "marker": {
             "colorbar": {
              "outlinewidth": 0,
              "ticks": ""
             }
            },
            "type": "scattergeo"
           }
          ],
          "scattergl": [
           {
            "marker": {
             "colorbar": {
              "outlinewidth": 0,
              "ticks": ""
             }
            },
            "type": "scattergl"
           }
          ],
          "scattermapbox": [
           {
            "marker": {
             "colorbar": {
              "outlinewidth": 0,
              "ticks": ""
             }
            },
            "type": "scattermapbox"
           }
          ],
          "scatterpolar": [
           {
            "marker": {
             "colorbar": {
              "outlinewidth": 0,
              "ticks": ""
             }
            },
            "type": "scatterpolar"
           }
          ],
          "scatterpolargl": [
           {
            "marker": {
             "colorbar": {
              "outlinewidth": 0,
              "ticks": ""
             }
            },
            "type": "scatterpolargl"
           }
          ],
          "scatterternary": [
           {
            "marker": {
             "colorbar": {
              "outlinewidth": 0,
              "ticks": ""
             }
            },
            "type": "scatterternary"
           }
          ],
          "surface": [
           {
            "colorbar": {
             "outlinewidth": 0,
             "ticks": ""
            },
            "colorscale": [
             [
              0,
              "#0d0887"
             ],
             [
              0.1111111111111111,
              "#46039f"
             ],
             [
              0.2222222222222222,
              "#7201a8"
             ],
             [
              0.3333333333333333,
              "#9c179e"
             ],
             [
              0.4444444444444444,
              "#bd3786"
             ],
             [
              0.5555555555555556,
              "#d8576b"
             ],
             [
              0.6666666666666666,
              "#ed7953"
             ],
             [
              0.7777777777777778,
              "#fb9f3a"
             ],
             [
              0.8888888888888888,
              "#fdca26"
             ],
             [
              1,
              "#f0f921"
             ]
            ],
            "type": "surface"
           }
          ],
          "table": [
           {
            "cells": {
             "fill": {
              "color": "#EBF0F8"
             },
             "line": {
              "color": "white"
             }
            },
            "header": {
             "fill": {
              "color": "#C8D4E3"
             },
             "line": {
              "color": "white"
             }
            },
            "type": "table"
           }
          ]
         },
         "layout": {
          "annotationdefaults": {
           "arrowcolor": "#2a3f5f",
           "arrowhead": 0,
           "arrowwidth": 1
          },
          "coloraxis": {
           "colorbar": {
            "outlinewidth": 0,
            "ticks": ""
           }
          },
          "colorscale": {
           "diverging": [
            [
             0,
             "#8e0152"
            ],
            [
             0.1,
             "#c51b7d"
            ],
            [
             0.2,
             "#de77ae"
            ],
            [
             0.3,
             "#f1b6da"
            ],
            [
             0.4,
             "#fde0ef"
            ],
            [
             0.5,
             "#f7f7f7"
            ],
            [
             0.6,
             "#e6f5d0"
            ],
            [
             0.7,
             "#b8e186"
            ],
            [
             0.8,
             "#7fbc41"
            ],
            [
             0.9,
             "#4d9221"
            ],
            [
             1,
             "#276419"
            ]
           ],
           "sequential": [
            [
             0,
             "#0d0887"
            ],
            [
             0.1111111111111111,
             "#46039f"
            ],
            [
             0.2222222222222222,
             "#7201a8"
            ],
            [
             0.3333333333333333,
             "#9c179e"
            ],
            [
             0.4444444444444444,
             "#bd3786"
            ],
            [
             0.5555555555555556,
             "#d8576b"
            ],
            [
             0.6666666666666666,
             "#ed7953"
            ],
            [
             0.7777777777777778,
             "#fb9f3a"
            ],
            [
             0.8888888888888888,
             "#fdca26"
            ],
            [
             1,
             "#f0f921"
            ]
           ],
           "sequentialminus": [
            [
             0,
             "#0d0887"
            ],
            [
             0.1111111111111111,
             "#46039f"
            ],
            [
             0.2222222222222222,
             "#7201a8"
            ],
            [
             0.3333333333333333,
             "#9c179e"
            ],
            [
             0.4444444444444444,
             "#bd3786"
            ],
            [
             0.5555555555555556,
             "#d8576b"
            ],
            [
             0.6666666666666666,
             "#ed7953"
            ],
            [
             0.7777777777777778,
             "#fb9f3a"
            ],
            [
             0.8888888888888888,
             "#fdca26"
            ],
            [
             1,
             "#f0f921"
            ]
           ]
          },
          "colorway": [
           "#636efa",
           "#EF553B",
           "#00cc96",
           "#ab63fa",
           "#FFA15A",
           "#19d3f3",
           "#FF6692",
           "#B6E880",
           "#FF97FF",
           "#FECB52"
          ],
          "font": {
           "color": "#2a3f5f"
          },
          "geo": {
           "bgcolor": "white",
           "lakecolor": "white",
           "landcolor": "#E5ECF6",
           "showlakes": true,
           "showland": true,
           "subunitcolor": "white"
          },
          "hoverlabel": {
           "align": "left"
          },
          "hovermode": "closest",
          "mapbox": {
           "style": "light"
          },
          "paper_bgcolor": "white",
          "plot_bgcolor": "#E5ECF6",
          "polar": {
           "angularaxis": {
            "gridcolor": "white",
            "linecolor": "white",
            "ticks": ""
           },
           "bgcolor": "#E5ECF6",
           "radialaxis": {
            "gridcolor": "white",
            "linecolor": "white",
            "ticks": ""
           }
          },
          "scene": {
           "xaxis": {
            "backgroundcolor": "#E5ECF6",
            "gridcolor": "white",
            "gridwidth": 2,
            "linecolor": "white",
            "showbackground": true,
            "ticks": "",
            "zerolinecolor": "white"
           },
           "yaxis": {
            "backgroundcolor": "#E5ECF6",
            "gridcolor": "white",
            "gridwidth": 2,
            "linecolor": "white",
            "showbackground": true,
            "ticks": "",
            "zerolinecolor": "white"
           },
           "zaxis": {
            "backgroundcolor": "#E5ECF6",
            "gridcolor": "white",
            "gridwidth": 2,
            "linecolor": "white",
            "showbackground": true,
            "ticks": "",
            "zerolinecolor": "white"
           }
          },
          "shapedefaults": {
           "line": {
            "color": "#2a3f5f"
           }
          },
          "ternary": {
           "aaxis": {
            "gridcolor": "white",
            "linecolor": "white",
            "ticks": ""
           },
           "baxis": {
            "gridcolor": "white",
            "linecolor": "white",
            "ticks": ""
           },
           "bgcolor": "#E5ECF6",
           "caxis": {
            "gridcolor": "white",
            "linecolor": "white",
            "ticks": ""
           }
          },
          "title": {
           "x": 0.05
          },
          "xaxis": {
           "automargin": true,
           "gridcolor": "white",
           "linecolor": "white",
           "ticks": "",
           "title": {
            "standoff": 15
           },
           "zerolinecolor": "white",
           "zerolinewidth": 2
          },
          "yaxis": {
           "automargin": true,
           "gridcolor": "white",
           "linecolor": "white",
           "ticks": "",
           "title": {
            "standoff": 15
           },
           "zerolinecolor": "white",
           "zerolinewidth": 2
          }
         }
        }
       }
      },
      "text/html": [
       "<div>\n",
       "        \n",
       "        \n",
       "            <div id=\"87b337dd-6af5-4a31-96c7-a6259d6f6748\" class=\"plotly-graph-div\" style=\"height:525px; width:100%;\"></div>\n",
       "            <script type=\"text/javascript\">\n",
       "                require([\"plotly\"], function(Plotly) {\n",
       "                    window.PLOTLYENV=window.PLOTLYENV || {};\n",
       "                    \n",
       "                if (document.getElementById(\"87b337dd-6af5-4a31-96c7-a6259d6f6748\")) {\n",
       "                    Plotly.newPlot(\n",
       "                        '87b337dd-6af5-4a31-96c7-a6259d6f6748',\n",
       "                        [{\"connectgaps\": true, \"name\": \"<b>No</b> Gaps\", \"type\": \"scatter\", \"x\": [1, 2, 3, 4, 5, 6, 7, 8, 9, 10, 11, 12, 13, 14, 15], \"y\": [10, 20, null, 15, 10, 5, 15, null, 20, 10, 10, 15, 25, 20, 10]}, {\"name\": \"Gaps\", \"type\": \"scatter\", \"x\": [1, 2, 3, 4, 5, 6, 7, 8, 9, 10, 11, 12, 13, 14, 15], \"y\": [5, 15, null, 10, 5, 0, 10, null, 15, 5, 5, 10, 20, 15, 5]}],\n",
       "                        {\"template\": {\"data\": {\"bar\": [{\"error_x\": {\"color\": \"#2a3f5f\"}, \"error_y\": {\"color\": \"#2a3f5f\"}, \"marker\": {\"line\": {\"color\": \"#E5ECF6\", \"width\": 0.5}}, \"type\": \"bar\"}], \"barpolar\": [{\"marker\": {\"line\": {\"color\": \"#E5ECF6\", \"width\": 0.5}}, \"type\": \"barpolar\"}], \"carpet\": [{\"aaxis\": {\"endlinecolor\": \"#2a3f5f\", \"gridcolor\": \"white\", \"linecolor\": \"white\", \"minorgridcolor\": \"white\", \"startlinecolor\": \"#2a3f5f\"}, \"baxis\": {\"endlinecolor\": \"#2a3f5f\", \"gridcolor\": \"white\", \"linecolor\": \"white\", \"minorgridcolor\": \"white\", \"startlinecolor\": \"#2a3f5f\"}, \"type\": \"carpet\"}], \"choropleth\": [{\"colorbar\": {\"outlinewidth\": 0, \"ticks\": \"\"}, \"type\": \"choropleth\"}], \"contour\": [{\"colorbar\": {\"outlinewidth\": 0, \"ticks\": \"\"}, \"colorscale\": [[0.0, \"#0d0887\"], [0.1111111111111111, \"#46039f\"], [0.2222222222222222, \"#7201a8\"], [0.3333333333333333, \"#9c179e\"], [0.4444444444444444, \"#bd3786\"], [0.5555555555555556, \"#d8576b\"], [0.6666666666666666, \"#ed7953\"], [0.7777777777777778, \"#fb9f3a\"], [0.8888888888888888, \"#fdca26\"], [1.0, \"#f0f921\"]], \"type\": \"contour\"}], \"contourcarpet\": [{\"colorbar\": {\"outlinewidth\": 0, \"ticks\": \"\"}, \"type\": \"contourcarpet\"}], \"heatmap\": [{\"colorbar\": {\"outlinewidth\": 0, \"ticks\": \"\"}, \"colorscale\": [[0.0, \"#0d0887\"], [0.1111111111111111, \"#46039f\"], [0.2222222222222222, \"#7201a8\"], [0.3333333333333333, \"#9c179e\"], [0.4444444444444444, \"#bd3786\"], [0.5555555555555556, \"#d8576b\"], [0.6666666666666666, \"#ed7953\"], [0.7777777777777778, \"#fb9f3a\"], [0.8888888888888888, \"#fdca26\"], [1.0, \"#f0f921\"]], \"type\": \"heatmap\"}], \"heatmapgl\": [{\"colorbar\": {\"outlinewidth\": 0, \"ticks\": \"\"}, \"colorscale\": [[0.0, \"#0d0887\"], [0.1111111111111111, \"#46039f\"], [0.2222222222222222, \"#7201a8\"], [0.3333333333333333, \"#9c179e\"], [0.4444444444444444, \"#bd3786\"], [0.5555555555555556, \"#d8576b\"], [0.6666666666666666, \"#ed7953\"], [0.7777777777777778, \"#fb9f3a\"], [0.8888888888888888, \"#fdca26\"], [1.0, \"#f0f921\"]], \"type\": \"heatmapgl\"}], \"histogram\": [{\"marker\": {\"colorbar\": {\"outlinewidth\": 0, \"ticks\": \"\"}}, \"type\": \"histogram\"}], \"histogram2d\": [{\"colorbar\": {\"outlinewidth\": 0, \"ticks\": \"\"}, \"colorscale\": [[0.0, \"#0d0887\"], [0.1111111111111111, \"#46039f\"], [0.2222222222222222, \"#7201a8\"], [0.3333333333333333, \"#9c179e\"], [0.4444444444444444, \"#bd3786\"], [0.5555555555555556, \"#d8576b\"], [0.6666666666666666, \"#ed7953\"], [0.7777777777777778, \"#fb9f3a\"], [0.8888888888888888, \"#fdca26\"], [1.0, \"#f0f921\"]], \"type\": \"histogram2d\"}], \"histogram2dcontour\": [{\"colorbar\": {\"outlinewidth\": 0, \"ticks\": \"\"}, \"colorscale\": [[0.0, \"#0d0887\"], [0.1111111111111111, \"#46039f\"], [0.2222222222222222, \"#7201a8\"], [0.3333333333333333, \"#9c179e\"], [0.4444444444444444, \"#bd3786\"], [0.5555555555555556, \"#d8576b\"], [0.6666666666666666, \"#ed7953\"], [0.7777777777777778, \"#fb9f3a\"], [0.8888888888888888, \"#fdca26\"], [1.0, \"#f0f921\"]], \"type\": \"histogram2dcontour\"}], \"mesh3d\": [{\"colorbar\": {\"outlinewidth\": 0, \"ticks\": \"\"}, \"type\": \"mesh3d\"}], \"parcoords\": [{\"line\": {\"colorbar\": {\"outlinewidth\": 0, \"ticks\": \"\"}}, \"type\": \"parcoords\"}], \"pie\": [{\"automargin\": true, \"type\": \"pie\"}], \"scatter\": [{\"marker\": {\"colorbar\": {\"outlinewidth\": 0, \"ticks\": \"\"}}, \"type\": \"scatter\"}], \"scatter3d\": [{\"line\": {\"colorbar\": {\"outlinewidth\": 0, \"ticks\": \"\"}}, \"marker\": {\"colorbar\": {\"outlinewidth\": 0, \"ticks\": \"\"}}, \"type\": \"scatter3d\"}], \"scattercarpet\": [{\"marker\": {\"colorbar\": {\"outlinewidth\": 0, \"ticks\": \"\"}}, \"type\": \"scattercarpet\"}], \"scattergeo\": [{\"marker\": {\"colorbar\": {\"outlinewidth\": 0, \"ticks\": \"\"}}, \"type\": \"scattergeo\"}], \"scattergl\": [{\"marker\": {\"colorbar\": {\"outlinewidth\": 0, \"ticks\": \"\"}}, \"type\": \"scattergl\"}], \"scattermapbox\": [{\"marker\": {\"colorbar\": {\"outlinewidth\": 0, \"ticks\": \"\"}}, \"type\": \"scattermapbox\"}], \"scatterpolar\": [{\"marker\": {\"colorbar\": {\"outlinewidth\": 0, \"ticks\": \"\"}}, \"type\": \"scatterpolar\"}], \"scatterpolargl\": [{\"marker\": {\"colorbar\": {\"outlinewidth\": 0, \"ticks\": \"\"}}, \"type\": \"scatterpolargl\"}], \"scatterternary\": [{\"marker\": {\"colorbar\": {\"outlinewidth\": 0, \"ticks\": \"\"}}, \"type\": \"scatterternary\"}], \"surface\": [{\"colorbar\": {\"outlinewidth\": 0, \"ticks\": \"\"}, \"colorscale\": [[0.0, \"#0d0887\"], [0.1111111111111111, \"#46039f\"], [0.2222222222222222, \"#7201a8\"], [0.3333333333333333, \"#9c179e\"], [0.4444444444444444, \"#bd3786\"], [0.5555555555555556, \"#d8576b\"], [0.6666666666666666, \"#ed7953\"], [0.7777777777777778, \"#fb9f3a\"], [0.8888888888888888, \"#fdca26\"], [1.0, \"#f0f921\"]], \"type\": \"surface\"}], \"table\": [{\"cells\": {\"fill\": {\"color\": \"#EBF0F8\"}, \"line\": {\"color\": \"white\"}}, \"header\": {\"fill\": {\"color\": \"#C8D4E3\"}, \"line\": {\"color\": \"white\"}}, \"type\": \"table\"}]}, \"layout\": {\"annotationdefaults\": {\"arrowcolor\": \"#2a3f5f\", \"arrowhead\": 0, \"arrowwidth\": 1}, \"coloraxis\": {\"colorbar\": {\"outlinewidth\": 0, \"ticks\": \"\"}}, \"colorscale\": {\"diverging\": [[0, \"#8e0152\"], [0.1, \"#c51b7d\"], [0.2, \"#de77ae\"], [0.3, \"#f1b6da\"], [0.4, \"#fde0ef\"], [0.5, \"#f7f7f7\"], [0.6, \"#e6f5d0\"], [0.7, \"#b8e186\"], [0.8, \"#7fbc41\"], [0.9, \"#4d9221\"], [1, \"#276419\"]], \"sequential\": [[0.0, \"#0d0887\"], [0.1111111111111111, \"#46039f\"], [0.2222222222222222, \"#7201a8\"], [0.3333333333333333, \"#9c179e\"], [0.4444444444444444, \"#bd3786\"], [0.5555555555555556, \"#d8576b\"], [0.6666666666666666, \"#ed7953\"], [0.7777777777777778, \"#fb9f3a\"], [0.8888888888888888, \"#fdca26\"], [1.0, \"#f0f921\"]], \"sequentialminus\": [[0.0, \"#0d0887\"], [0.1111111111111111, \"#46039f\"], [0.2222222222222222, \"#7201a8\"], [0.3333333333333333, \"#9c179e\"], [0.4444444444444444, \"#bd3786\"], [0.5555555555555556, \"#d8576b\"], [0.6666666666666666, \"#ed7953\"], [0.7777777777777778, \"#fb9f3a\"], [0.8888888888888888, \"#fdca26\"], [1.0, \"#f0f921\"]]}, \"colorway\": [\"#636efa\", \"#EF553B\", \"#00cc96\", \"#ab63fa\", \"#FFA15A\", \"#19d3f3\", \"#FF6692\", \"#B6E880\", \"#FF97FF\", \"#FECB52\"], \"font\": {\"color\": \"#2a3f5f\"}, \"geo\": {\"bgcolor\": \"white\", \"lakecolor\": \"white\", \"landcolor\": \"#E5ECF6\", \"showlakes\": true, \"showland\": true, \"subunitcolor\": \"white\"}, \"hoverlabel\": {\"align\": \"left\"}, \"hovermode\": \"closest\", \"mapbox\": {\"style\": \"light\"}, \"paper_bgcolor\": \"white\", \"plot_bgcolor\": \"#E5ECF6\", \"polar\": {\"angularaxis\": {\"gridcolor\": \"white\", \"linecolor\": \"white\", \"ticks\": \"\"}, \"bgcolor\": \"#E5ECF6\", \"radialaxis\": {\"gridcolor\": \"white\", \"linecolor\": \"white\", \"ticks\": \"\"}}, \"scene\": {\"xaxis\": {\"backgroundcolor\": \"#E5ECF6\", \"gridcolor\": \"white\", \"gridwidth\": 2, \"linecolor\": \"white\", \"showbackground\": true, \"ticks\": \"\", \"zerolinecolor\": \"white\"}, \"yaxis\": {\"backgroundcolor\": \"#E5ECF6\", \"gridcolor\": \"white\", \"gridwidth\": 2, \"linecolor\": \"white\", \"showbackground\": true, \"ticks\": \"\", \"zerolinecolor\": \"white\"}, \"zaxis\": {\"backgroundcolor\": \"#E5ECF6\", \"gridcolor\": \"white\", \"gridwidth\": 2, \"linecolor\": \"white\", \"showbackground\": true, \"ticks\": \"\", \"zerolinecolor\": \"white\"}}, \"shapedefaults\": {\"line\": {\"color\": \"#2a3f5f\"}}, \"ternary\": {\"aaxis\": {\"gridcolor\": \"white\", \"linecolor\": \"white\", \"ticks\": \"\"}, \"baxis\": {\"gridcolor\": \"white\", \"linecolor\": \"white\", \"ticks\": \"\"}, \"bgcolor\": \"#E5ECF6\", \"caxis\": {\"gridcolor\": \"white\", \"linecolor\": \"white\", \"ticks\": \"\"}}, \"title\": {\"x\": 0.05}, \"xaxis\": {\"automargin\": true, \"gridcolor\": \"white\", \"linecolor\": \"white\", \"ticks\": \"\", \"title\": {\"standoff\": 15}, \"zerolinecolor\": \"white\", \"zerolinewidth\": 2}, \"yaxis\": {\"automargin\": true, \"gridcolor\": \"white\", \"linecolor\": \"white\", \"ticks\": \"\", \"title\": {\"standoff\": 15}, \"zerolinecolor\": \"white\", \"zerolinewidth\": 2}}}},\n",
       "                        {\"responsive\": true}\n",
       "                    ).then(function(){\n",
       "                            \n",
       "var gd = document.getElementById('87b337dd-6af5-4a31-96c7-a6259d6f6748');\n",
       "var x = new MutationObserver(function (mutations, observer) {{\n",
       "        var display = window.getComputedStyle(gd).display;\n",
       "        if (!display || display === 'none') {{\n",
       "            console.log([gd, 'removed!']);\n",
       "            Plotly.purge(gd);\n",
       "            observer.disconnect();\n",
       "        }}\n",
       "}});\n",
       "\n",
       "// Listen for the removal of the full notebook cells\n",
       "var notebookContainer = gd.closest('#notebook-container');\n",
       "if (notebookContainer) {{\n",
       "    x.observe(notebookContainer, {childList: true});\n",
       "}}\n",
       "\n",
       "// Listen for the clearing of the current output cell\n",
       "var outputEl = gd.closest('.output');\n",
       "if (outputEl) {{\n",
       "    x.observe(outputEl, {childList: true});\n",
       "}}\n",
       "\n",
       "                        })\n",
       "                };\n",
       "                });\n",
       "            </script>\n",
       "        </div>"
      ]
     },
     "metadata": {},
     "output_type": "display_data"
    }
   ],
   "source": [
    "import plotly.graph_objects as go\n",
    "\n",
    "def substract(init_array, constant):\n",
    "    new_array = []\n",
    "    for x in init_array:\n",
    "        if x:\n",
    "            new_array.append(x-constant)\n",
    "        else:\n",
    "            new_array.append(x)\n",
    "    return new_array\n",
    "\n",
    "x = [1, 2, 3, 4, 5, 6, 7, 8, 9, 10, 11, 12, 13, 14, 15]\n",
    "y = np.array([10, 20, None, 15, 10, 5, 15, None, 20, 10, 10, 15, 25, 20, 10])\n",
    "fig = go.Figure()\n",
    "\n",
    "fig.add_trace(go.Scatter(\n",
    "    x=x,\n",
    "    y=y,\n",
    "    name = '<b>No</b> Gaps', # Style name/legend entry with html tags\n",
    "    connectgaps=True # override default to connect the gaps\n",
    "))\n",
    "fig.add_trace(go.Scatter(\n",
    "    x=x,\n",
    "    y=substract(y, 5),\n",
    "    name='Gaps',\n",
    "))\n",
    "\n",
    "fig.show()"
   ]
  },
  {
   "cell_type": "markdown",
   "metadata": {},
   "source": [
    "## Interpolation with Line Plots"
   ]
  },
  {
   "cell_type": "code",
   "execution_count": 28,
   "metadata": {},
   "outputs": [
    {
     "data": {
      "application/vnd.plotly.v1+json": {
       "config": {
        "plotlyServerURL": "https://plot.ly"
       },
       "data": [
        {
         "hoverinfo": "text+name",
         "line": {
          "shape": "linear"
         },
         "mode": "lines+markers",
         "name": "linear",
         "type": "scatter",
         "x": [
          1,
          2,
          3,
          4,
          5
         ],
         "y": [
          1,
          3,
          2,
          3,
          1
         ]
        },
        {
         "hoverinfo": "text+name",
         "line": {
          "shape": "spline"
         },
         "mode": "lines+markers",
         "name": "spline",
         "type": "scatter",
         "x": [
          1,
          2,
          3,
          4,
          5
         ],
         "y": [
          6,
          8,
          7,
          8,
          6
         ]
        },
        {
         "hoverinfo": "text+name",
         "line": {
          "shape": "vhv"
         },
         "mode": "lines+markers",
         "name": "vhv",
         "type": "scatter",
         "x": [
          1,
          2,
          3,
          4,
          5
         ],
         "y": [
          11,
          13,
          12,
          13,
          11
         ]
        },
        {
         "hoverinfo": "text+name",
         "line": {
          "shape": "hvh"
         },
         "mode": "lines+markers",
         "name": "hvh",
         "type": "scatter",
         "x": [
          1,
          2,
          3,
          4,
          5
         ],
         "y": [
          16,
          18,
          17,
          18,
          16
         ]
        },
        {
         "hoverinfo": "text+name",
         "line": {
          "shape": "vh"
         },
         "mode": "lines+markers",
         "name": "vh",
         "type": "scatter",
         "x": [
          1,
          2,
          3,
          4,
          5
         ],
         "y": [
          21,
          23,
          22,
          23,
          21
         ]
        },
        {
         "hoverinfo": "text+name",
         "line": {
          "shape": "hv"
         },
         "mode": "lines+markers",
         "name": "hv",
         "type": "scatter",
         "x": [
          1,
          2,
          3,
          4,
          5
         ],
         "y": [
          26,
          28,
          27,
          28,
          26
         ]
        }
       ],
       "layout": {
        "legend": {
         "font": {
          "size": 16
         },
         "traceorder": "reversed",
         "y": 0.5
        },
        "template": {
         "data": {
          "bar": [
           {
            "error_x": {
             "color": "#2a3f5f"
            },
            "error_y": {
             "color": "#2a3f5f"
            },
            "marker": {
             "line": {
              "color": "#E5ECF6",
              "width": 0.5
             }
            },
            "type": "bar"
           }
          ],
          "barpolar": [
           {
            "marker": {
             "line": {
              "color": "#E5ECF6",
              "width": 0.5
             }
            },
            "type": "barpolar"
           }
          ],
          "carpet": [
           {
            "aaxis": {
             "endlinecolor": "#2a3f5f",
             "gridcolor": "white",
             "linecolor": "white",
             "minorgridcolor": "white",
             "startlinecolor": "#2a3f5f"
            },
            "baxis": {
             "endlinecolor": "#2a3f5f",
             "gridcolor": "white",
             "linecolor": "white",
             "minorgridcolor": "white",
             "startlinecolor": "#2a3f5f"
            },
            "type": "carpet"
           }
          ],
          "choropleth": [
           {
            "colorbar": {
             "outlinewidth": 0,
             "ticks": ""
            },
            "type": "choropleth"
           }
          ],
          "contour": [
           {
            "colorbar": {
             "outlinewidth": 0,
             "ticks": ""
            },
            "colorscale": [
             [
              0,
              "#0d0887"
             ],
             [
              0.1111111111111111,
              "#46039f"
             ],
             [
              0.2222222222222222,
              "#7201a8"
             ],
             [
              0.3333333333333333,
              "#9c179e"
             ],
             [
              0.4444444444444444,
              "#bd3786"
             ],
             [
              0.5555555555555556,
              "#d8576b"
             ],
             [
              0.6666666666666666,
              "#ed7953"
             ],
             [
              0.7777777777777778,
              "#fb9f3a"
             ],
             [
              0.8888888888888888,
              "#fdca26"
             ],
             [
              1,
              "#f0f921"
             ]
            ],
            "type": "contour"
           }
          ],
          "contourcarpet": [
           {
            "colorbar": {
             "outlinewidth": 0,
             "ticks": ""
            },
            "type": "contourcarpet"
           }
          ],
          "heatmap": [
           {
            "colorbar": {
             "outlinewidth": 0,
             "ticks": ""
            },
            "colorscale": [
             [
              0,
              "#0d0887"
             ],
             [
              0.1111111111111111,
              "#46039f"
             ],
             [
              0.2222222222222222,
              "#7201a8"
             ],
             [
              0.3333333333333333,
              "#9c179e"
             ],
             [
              0.4444444444444444,
              "#bd3786"
             ],
             [
              0.5555555555555556,
              "#d8576b"
             ],
             [
              0.6666666666666666,
              "#ed7953"
             ],
             [
              0.7777777777777778,
              "#fb9f3a"
             ],
             [
              0.8888888888888888,
              "#fdca26"
             ],
             [
              1,
              "#f0f921"
             ]
            ],
            "type": "heatmap"
           }
          ],
          "heatmapgl": [
           {
            "colorbar": {
             "outlinewidth": 0,
             "ticks": ""
            },
            "colorscale": [
             [
              0,
              "#0d0887"
             ],
             [
              0.1111111111111111,
              "#46039f"
             ],
             [
              0.2222222222222222,
              "#7201a8"
             ],
             [
              0.3333333333333333,
              "#9c179e"
             ],
             [
              0.4444444444444444,
              "#bd3786"
             ],
             [
              0.5555555555555556,
              "#d8576b"
             ],
             [
              0.6666666666666666,
              "#ed7953"
             ],
             [
              0.7777777777777778,
              "#fb9f3a"
             ],
             [
              0.8888888888888888,
              "#fdca26"
             ],
             [
              1,
              "#f0f921"
             ]
            ],
            "type": "heatmapgl"
           }
          ],
          "histogram": [
           {
            "marker": {
             "colorbar": {
              "outlinewidth": 0,
              "ticks": ""
             }
            },
            "type": "histogram"
           }
          ],
          "histogram2d": [
           {
            "colorbar": {
             "outlinewidth": 0,
             "ticks": ""
            },
            "colorscale": [
             [
              0,
              "#0d0887"
             ],
             [
              0.1111111111111111,
              "#46039f"
             ],
             [
              0.2222222222222222,
              "#7201a8"
             ],
             [
              0.3333333333333333,
              "#9c179e"
             ],
             [
              0.4444444444444444,
              "#bd3786"
             ],
             [
              0.5555555555555556,
              "#d8576b"
             ],
             [
              0.6666666666666666,
              "#ed7953"
             ],
             [
              0.7777777777777778,
              "#fb9f3a"
             ],
             [
              0.8888888888888888,
              "#fdca26"
             ],
             [
              1,
              "#f0f921"
             ]
            ],
            "type": "histogram2d"
           }
          ],
          "histogram2dcontour": [
           {
            "colorbar": {
             "outlinewidth": 0,
             "ticks": ""
            },
            "colorscale": [
             [
              0,
              "#0d0887"
             ],
             [
              0.1111111111111111,
              "#46039f"
             ],
             [
              0.2222222222222222,
              "#7201a8"
             ],
             [
              0.3333333333333333,
              "#9c179e"
             ],
             [
              0.4444444444444444,
              "#bd3786"
             ],
             [
              0.5555555555555556,
              "#d8576b"
             ],
             [
              0.6666666666666666,
              "#ed7953"
             ],
             [
              0.7777777777777778,
              "#fb9f3a"
             ],
             [
              0.8888888888888888,
              "#fdca26"
             ],
             [
              1,
              "#f0f921"
             ]
            ],
            "type": "histogram2dcontour"
           }
          ],
          "mesh3d": [
           {
            "colorbar": {
             "outlinewidth": 0,
             "ticks": ""
            },
            "type": "mesh3d"
           }
          ],
          "parcoords": [
           {
            "line": {
             "colorbar": {
              "outlinewidth": 0,
              "ticks": ""
             }
            },
            "type": "parcoords"
           }
          ],
          "pie": [
           {
            "automargin": true,
            "type": "pie"
           }
          ],
          "scatter": [
           {
            "marker": {
             "colorbar": {
              "outlinewidth": 0,
              "ticks": ""
             }
            },
            "type": "scatter"
           }
          ],
          "scatter3d": [
           {
            "line": {
             "colorbar": {
              "outlinewidth": 0,
              "ticks": ""
             }
            },
            "marker": {
             "colorbar": {
              "outlinewidth": 0,
              "ticks": ""
             }
            },
            "type": "scatter3d"
           }
          ],
          "scattercarpet": [
           {
            "marker": {
             "colorbar": {
              "outlinewidth": 0,
              "ticks": ""
             }
            },
            "type": "scattercarpet"
           }
          ],
          "scattergeo": [
           {
            "marker": {
             "colorbar": {
              "outlinewidth": 0,
              "ticks": ""
             }
            },
            "type": "scattergeo"
           }
          ],
          "scattergl": [
           {
            "marker": {
             "colorbar": {
              "outlinewidth": 0,
              "ticks": ""
             }
            },
            "type": "scattergl"
           }
          ],
          "scattermapbox": [
           {
            "marker": {
             "colorbar": {
              "outlinewidth": 0,
              "ticks": ""
             }
            },
            "type": "scattermapbox"
           }
          ],
          "scatterpolar": [
           {
            "marker": {
             "colorbar": {
              "outlinewidth": 0,
              "ticks": ""
             }
            },
            "type": "scatterpolar"
           }
          ],
          "scatterpolargl": [
           {
            "marker": {
             "colorbar": {
              "outlinewidth": 0,
              "ticks": ""
             }
            },
            "type": "scatterpolargl"
           }
          ],
          "scatterternary": [
           {
            "marker": {
             "colorbar": {
              "outlinewidth": 0,
              "ticks": ""
             }
            },
            "type": "scatterternary"
           }
          ],
          "surface": [
           {
            "colorbar": {
             "outlinewidth": 0,
             "ticks": ""
            },
            "colorscale": [
             [
              0,
              "#0d0887"
             ],
             [
              0.1111111111111111,
              "#46039f"
             ],
             [
              0.2222222222222222,
              "#7201a8"
             ],
             [
              0.3333333333333333,
              "#9c179e"
             ],
             [
              0.4444444444444444,
              "#bd3786"
             ],
             [
              0.5555555555555556,
              "#d8576b"
             ],
             [
              0.6666666666666666,
              "#ed7953"
             ],
             [
              0.7777777777777778,
              "#fb9f3a"
             ],
             [
              0.8888888888888888,
              "#fdca26"
             ],
             [
              1,
              "#f0f921"
             ]
            ],
            "type": "surface"
           }
          ],
          "table": [
           {
            "cells": {
             "fill": {
              "color": "#EBF0F8"
             },
             "line": {
              "color": "white"
             }
            },
            "header": {
             "fill": {
              "color": "#C8D4E3"
             },
             "line": {
              "color": "white"
             }
            },
            "type": "table"
           }
          ]
         },
         "layout": {
          "annotationdefaults": {
           "arrowcolor": "#2a3f5f",
           "arrowhead": 0,
           "arrowwidth": 1
          },
          "coloraxis": {
           "colorbar": {
            "outlinewidth": 0,
            "ticks": ""
           }
          },
          "colorscale": {
           "diverging": [
            [
             0,
             "#8e0152"
            ],
            [
             0.1,
             "#c51b7d"
            ],
            [
             0.2,
             "#de77ae"
            ],
            [
             0.3,
             "#f1b6da"
            ],
            [
             0.4,
             "#fde0ef"
            ],
            [
             0.5,
             "#f7f7f7"
            ],
            [
             0.6,
             "#e6f5d0"
            ],
            [
             0.7,
             "#b8e186"
            ],
            [
             0.8,
             "#7fbc41"
            ],
            [
             0.9,
             "#4d9221"
            ],
            [
             1,
             "#276419"
            ]
           ],
           "sequential": [
            [
             0,
             "#0d0887"
            ],
            [
             0.1111111111111111,
             "#46039f"
            ],
            [
             0.2222222222222222,
             "#7201a8"
            ],
            [
             0.3333333333333333,
             "#9c179e"
            ],
            [
             0.4444444444444444,
             "#bd3786"
            ],
            [
             0.5555555555555556,
             "#d8576b"
            ],
            [
             0.6666666666666666,
             "#ed7953"
            ],
            [
             0.7777777777777778,
             "#fb9f3a"
            ],
            [
             0.8888888888888888,
             "#fdca26"
            ],
            [
             1,
             "#f0f921"
            ]
           ],
           "sequentialminus": [
            [
             0,
             "#0d0887"
            ],
            [
             0.1111111111111111,
             "#46039f"
            ],
            [
             0.2222222222222222,
             "#7201a8"
            ],
            [
             0.3333333333333333,
             "#9c179e"
            ],
            [
             0.4444444444444444,
             "#bd3786"
            ],
            [
             0.5555555555555556,
             "#d8576b"
            ],
            [
             0.6666666666666666,
             "#ed7953"
            ],
            [
             0.7777777777777778,
             "#fb9f3a"
            ],
            [
             0.8888888888888888,
             "#fdca26"
            ],
            [
             1,
             "#f0f921"
            ]
           ]
          },
          "colorway": [
           "#636efa",
           "#EF553B",
           "#00cc96",
           "#ab63fa",
           "#FFA15A",
           "#19d3f3",
           "#FF6692",
           "#B6E880",
           "#FF97FF",
           "#FECB52"
          ],
          "font": {
           "color": "#2a3f5f"
          },
          "geo": {
           "bgcolor": "white",
           "lakecolor": "white",
           "landcolor": "#E5ECF6",
           "showlakes": true,
           "showland": true,
           "subunitcolor": "white"
          },
          "hoverlabel": {
           "align": "left"
          },
          "hovermode": "closest",
          "mapbox": {
           "style": "light"
          },
          "paper_bgcolor": "white",
          "plot_bgcolor": "#E5ECF6",
          "polar": {
           "angularaxis": {
            "gridcolor": "white",
            "linecolor": "white",
            "ticks": ""
           },
           "bgcolor": "#E5ECF6",
           "radialaxis": {
            "gridcolor": "white",
            "linecolor": "white",
            "ticks": ""
           }
          },
          "scene": {
           "xaxis": {
            "backgroundcolor": "#E5ECF6",
            "gridcolor": "white",
            "gridwidth": 2,
            "linecolor": "white",
            "showbackground": true,
            "ticks": "",
            "zerolinecolor": "white"
           },
           "yaxis": {
            "backgroundcolor": "#E5ECF6",
            "gridcolor": "white",
            "gridwidth": 2,
            "linecolor": "white",
            "showbackground": true,
            "ticks": "",
            "zerolinecolor": "white"
           },
           "zaxis": {
            "backgroundcolor": "#E5ECF6",
            "gridcolor": "white",
            "gridwidth": 2,
            "linecolor": "white",
            "showbackground": true,
            "ticks": "",
            "zerolinecolor": "white"
           }
          },
          "shapedefaults": {
           "line": {
            "color": "#2a3f5f"
           }
          },
          "ternary": {
           "aaxis": {
            "gridcolor": "white",
            "linecolor": "white",
            "ticks": ""
           },
           "baxis": {
            "gridcolor": "white",
            "linecolor": "white",
            "ticks": ""
           },
           "bgcolor": "#E5ECF6",
           "caxis": {
            "gridcolor": "white",
            "linecolor": "white",
            "ticks": ""
           }
          },
          "title": {
           "x": 0.05
          },
          "xaxis": {
           "automargin": true,
           "gridcolor": "white",
           "linecolor": "white",
           "ticks": "",
           "title": {
            "standoff": 15
           },
           "zerolinecolor": "white",
           "zerolinewidth": 2
          },
          "yaxis": {
           "automargin": true,
           "gridcolor": "white",
           "linecolor": "white",
           "ticks": "",
           "title": {
            "standoff": 15
           },
           "zerolinecolor": "white",
           "zerolinewidth": 2
          }
         }
        }
       }
      },
      "text/html": [
       "<div>\n",
       "        \n",
       "        \n",
       "            <div id=\"7d9d9199-adf8-48b9-bcaa-690cdca41177\" class=\"plotly-graph-div\" style=\"height:525px; width:100%;\"></div>\n",
       "            <script type=\"text/javascript\">\n",
       "                require([\"plotly\"], function(Plotly) {\n",
       "                    window.PLOTLYENV=window.PLOTLYENV || {};\n",
       "                    \n",
       "                if (document.getElementById(\"7d9d9199-adf8-48b9-bcaa-690cdca41177\")) {\n",
       "                    Plotly.newPlot(\n",
       "                        '7d9d9199-adf8-48b9-bcaa-690cdca41177',\n",
       "                        [{\"hoverinfo\": \"text+name\", \"line\": {\"shape\": \"linear\"}, \"mode\": \"lines+markers\", \"name\": \"linear\", \"type\": \"scatter\", \"x\": [1, 2, 3, 4, 5], \"y\": [1, 3, 2, 3, 1]}, {\"hoverinfo\": \"text+name\", \"line\": {\"shape\": \"spline\"}, \"mode\": \"lines+markers\", \"name\": \"spline\", \"type\": \"scatter\", \"x\": [1, 2, 3, 4, 5], \"y\": [6, 8, 7, 8, 6]}, {\"hoverinfo\": \"text+name\", \"line\": {\"shape\": \"vhv\"}, \"mode\": \"lines+markers\", \"name\": \"vhv\", \"type\": \"scatter\", \"x\": [1, 2, 3, 4, 5], \"y\": [11, 13, 12, 13, 11]}, {\"hoverinfo\": \"text+name\", \"line\": {\"shape\": \"hvh\"}, \"mode\": \"lines+markers\", \"name\": \"hvh\", \"type\": \"scatter\", \"x\": [1, 2, 3, 4, 5], \"y\": [16, 18, 17, 18, 16]}, {\"hoverinfo\": \"text+name\", \"line\": {\"shape\": \"vh\"}, \"mode\": \"lines+markers\", \"name\": \"vh\", \"type\": \"scatter\", \"x\": [1, 2, 3, 4, 5], \"y\": [21, 23, 22, 23, 21]}, {\"hoverinfo\": \"text+name\", \"line\": {\"shape\": \"hv\"}, \"mode\": \"lines+markers\", \"name\": \"hv\", \"type\": \"scatter\", \"x\": [1, 2, 3, 4, 5], \"y\": [26, 28, 27, 28, 26]}],\n",
       "                        {\"legend\": {\"font\": {\"size\": 16}, \"traceorder\": \"reversed\", \"y\": 0.5}, \"template\": {\"data\": {\"bar\": [{\"error_x\": {\"color\": \"#2a3f5f\"}, \"error_y\": {\"color\": \"#2a3f5f\"}, \"marker\": {\"line\": {\"color\": \"#E5ECF6\", \"width\": 0.5}}, \"type\": \"bar\"}], \"barpolar\": [{\"marker\": {\"line\": {\"color\": \"#E5ECF6\", \"width\": 0.5}}, \"type\": \"barpolar\"}], \"carpet\": [{\"aaxis\": {\"endlinecolor\": \"#2a3f5f\", \"gridcolor\": \"white\", \"linecolor\": \"white\", \"minorgridcolor\": \"white\", \"startlinecolor\": \"#2a3f5f\"}, \"baxis\": {\"endlinecolor\": \"#2a3f5f\", \"gridcolor\": \"white\", \"linecolor\": \"white\", \"minorgridcolor\": \"white\", \"startlinecolor\": \"#2a3f5f\"}, \"type\": \"carpet\"}], \"choropleth\": [{\"colorbar\": {\"outlinewidth\": 0, \"ticks\": \"\"}, \"type\": \"choropleth\"}], \"contour\": [{\"colorbar\": {\"outlinewidth\": 0, \"ticks\": \"\"}, \"colorscale\": [[0.0, \"#0d0887\"], [0.1111111111111111, \"#46039f\"], [0.2222222222222222, \"#7201a8\"], [0.3333333333333333, \"#9c179e\"], [0.4444444444444444, \"#bd3786\"], [0.5555555555555556, \"#d8576b\"], [0.6666666666666666, \"#ed7953\"], [0.7777777777777778, \"#fb9f3a\"], [0.8888888888888888, \"#fdca26\"], [1.0, \"#f0f921\"]], \"type\": \"contour\"}], \"contourcarpet\": [{\"colorbar\": {\"outlinewidth\": 0, \"ticks\": \"\"}, \"type\": \"contourcarpet\"}], \"heatmap\": [{\"colorbar\": {\"outlinewidth\": 0, \"ticks\": \"\"}, \"colorscale\": [[0.0, \"#0d0887\"], [0.1111111111111111, \"#46039f\"], [0.2222222222222222, \"#7201a8\"], [0.3333333333333333, \"#9c179e\"], [0.4444444444444444, \"#bd3786\"], [0.5555555555555556, \"#d8576b\"], [0.6666666666666666, \"#ed7953\"], [0.7777777777777778, \"#fb9f3a\"], [0.8888888888888888, \"#fdca26\"], [1.0, \"#f0f921\"]], \"type\": \"heatmap\"}], \"heatmapgl\": [{\"colorbar\": {\"outlinewidth\": 0, \"ticks\": \"\"}, \"colorscale\": [[0.0, \"#0d0887\"], [0.1111111111111111, \"#46039f\"], [0.2222222222222222, \"#7201a8\"], [0.3333333333333333, \"#9c179e\"], [0.4444444444444444, \"#bd3786\"], [0.5555555555555556, \"#d8576b\"], [0.6666666666666666, \"#ed7953\"], [0.7777777777777778, \"#fb9f3a\"], [0.8888888888888888, \"#fdca26\"], [1.0, \"#f0f921\"]], \"type\": \"heatmapgl\"}], \"histogram\": [{\"marker\": {\"colorbar\": {\"outlinewidth\": 0, \"ticks\": \"\"}}, \"type\": \"histogram\"}], \"histogram2d\": [{\"colorbar\": {\"outlinewidth\": 0, \"ticks\": \"\"}, \"colorscale\": [[0.0, \"#0d0887\"], [0.1111111111111111, \"#46039f\"], [0.2222222222222222, \"#7201a8\"], [0.3333333333333333, \"#9c179e\"], [0.4444444444444444, \"#bd3786\"], [0.5555555555555556, \"#d8576b\"], [0.6666666666666666, \"#ed7953\"], [0.7777777777777778, \"#fb9f3a\"], [0.8888888888888888, \"#fdca26\"], [1.0, \"#f0f921\"]], \"type\": \"histogram2d\"}], \"histogram2dcontour\": [{\"colorbar\": {\"outlinewidth\": 0, \"ticks\": \"\"}, \"colorscale\": [[0.0, \"#0d0887\"], [0.1111111111111111, \"#46039f\"], [0.2222222222222222, \"#7201a8\"], [0.3333333333333333, \"#9c179e\"], [0.4444444444444444, \"#bd3786\"], [0.5555555555555556, \"#d8576b\"], [0.6666666666666666, \"#ed7953\"], [0.7777777777777778, \"#fb9f3a\"], [0.8888888888888888, \"#fdca26\"], [1.0, \"#f0f921\"]], \"type\": \"histogram2dcontour\"}], \"mesh3d\": [{\"colorbar\": {\"outlinewidth\": 0, \"ticks\": \"\"}, \"type\": \"mesh3d\"}], \"parcoords\": [{\"line\": {\"colorbar\": {\"outlinewidth\": 0, \"ticks\": \"\"}}, \"type\": \"parcoords\"}], \"pie\": [{\"automargin\": true, \"type\": \"pie\"}], \"scatter\": [{\"marker\": {\"colorbar\": {\"outlinewidth\": 0, \"ticks\": \"\"}}, \"type\": \"scatter\"}], \"scatter3d\": [{\"line\": {\"colorbar\": {\"outlinewidth\": 0, \"ticks\": \"\"}}, \"marker\": {\"colorbar\": {\"outlinewidth\": 0, \"ticks\": \"\"}}, \"type\": \"scatter3d\"}], \"scattercarpet\": [{\"marker\": {\"colorbar\": {\"outlinewidth\": 0, \"ticks\": \"\"}}, \"type\": \"scattercarpet\"}], \"scattergeo\": [{\"marker\": {\"colorbar\": {\"outlinewidth\": 0, \"ticks\": \"\"}}, \"type\": \"scattergeo\"}], \"scattergl\": [{\"marker\": {\"colorbar\": {\"outlinewidth\": 0, \"ticks\": \"\"}}, \"type\": \"scattergl\"}], \"scattermapbox\": [{\"marker\": {\"colorbar\": {\"outlinewidth\": 0, \"ticks\": \"\"}}, \"type\": \"scattermapbox\"}], \"scatterpolar\": [{\"marker\": {\"colorbar\": {\"outlinewidth\": 0, \"ticks\": \"\"}}, \"type\": \"scatterpolar\"}], \"scatterpolargl\": [{\"marker\": {\"colorbar\": {\"outlinewidth\": 0, \"ticks\": \"\"}}, \"type\": \"scatterpolargl\"}], \"scatterternary\": [{\"marker\": {\"colorbar\": {\"outlinewidth\": 0, \"ticks\": \"\"}}, \"type\": \"scatterternary\"}], \"surface\": [{\"colorbar\": {\"outlinewidth\": 0, \"ticks\": \"\"}, \"colorscale\": [[0.0, \"#0d0887\"], [0.1111111111111111, \"#46039f\"], [0.2222222222222222, \"#7201a8\"], [0.3333333333333333, \"#9c179e\"], [0.4444444444444444, \"#bd3786\"], [0.5555555555555556, \"#d8576b\"], [0.6666666666666666, \"#ed7953\"], [0.7777777777777778, \"#fb9f3a\"], [0.8888888888888888, \"#fdca26\"], [1.0, \"#f0f921\"]], \"type\": \"surface\"}], \"table\": [{\"cells\": {\"fill\": {\"color\": \"#EBF0F8\"}, \"line\": {\"color\": \"white\"}}, \"header\": {\"fill\": {\"color\": \"#C8D4E3\"}, \"line\": {\"color\": \"white\"}}, \"type\": \"table\"}]}, \"layout\": {\"annotationdefaults\": {\"arrowcolor\": \"#2a3f5f\", \"arrowhead\": 0, \"arrowwidth\": 1}, \"coloraxis\": {\"colorbar\": {\"outlinewidth\": 0, \"ticks\": \"\"}}, \"colorscale\": {\"diverging\": [[0, \"#8e0152\"], [0.1, \"#c51b7d\"], [0.2, \"#de77ae\"], [0.3, \"#f1b6da\"], [0.4, \"#fde0ef\"], [0.5, \"#f7f7f7\"], [0.6, \"#e6f5d0\"], [0.7, \"#b8e186\"], [0.8, \"#7fbc41\"], [0.9, \"#4d9221\"], [1, \"#276419\"]], \"sequential\": [[0.0, \"#0d0887\"], [0.1111111111111111, \"#46039f\"], [0.2222222222222222, \"#7201a8\"], [0.3333333333333333, \"#9c179e\"], [0.4444444444444444, \"#bd3786\"], [0.5555555555555556, \"#d8576b\"], [0.6666666666666666, \"#ed7953\"], [0.7777777777777778, \"#fb9f3a\"], [0.8888888888888888, \"#fdca26\"], [1.0, \"#f0f921\"]], \"sequentialminus\": [[0.0, \"#0d0887\"], [0.1111111111111111, \"#46039f\"], [0.2222222222222222, \"#7201a8\"], [0.3333333333333333, \"#9c179e\"], [0.4444444444444444, \"#bd3786\"], [0.5555555555555556, \"#d8576b\"], [0.6666666666666666, \"#ed7953\"], [0.7777777777777778, \"#fb9f3a\"], [0.8888888888888888, \"#fdca26\"], [1.0, \"#f0f921\"]]}, \"colorway\": [\"#636efa\", \"#EF553B\", \"#00cc96\", \"#ab63fa\", \"#FFA15A\", \"#19d3f3\", \"#FF6692\", \"#B6E880\", \"#FF97FF\", \"#FECB52\"], \"font\": {\"color\": \"#2a3f5f\"}, \"geo\": {\"bgcolor\": \"white\", \"lakecolor\": \"white\", \"landcolor\": \"#E5ECF6\", \"showlakes\": true, \"showland\": true, \"subunitcolor\": \"white\"}, \"hoverlabel\": {\"align\": \"left\"}, \"hovermode\": \"closest\", \"mapbox\": {\"style\": \"light\"}, \"paper_bgcolor\": \"white\", \"plot_bgcolor\": \"#E5ECF6\", \"polar\": {\"angularaxis\": {\"gridcolor\": \"white\", \"linecolor\": \"white\", \"ticks\": \"\"}, \"bgcolor\": \"#E5ECF6\", \"radialaxis\": {\"gridcolor\": \"white\", \"linecolor\": \"white\", \"ticks\": \"\"}}, \"scene\": {\"xaxis\": {\"backgroundcolor\": \"#E5ECF6\", \"gridcolor\": \"white\", \"gridwidth\": 2, \"linecolor\": \"white\", \"showbackground\": true, \"ticks\": \"\", \"zerolinecolor\": \"white\"}, \"yaxis\": {\"backgroundcolor\": \"#E5ECF6\", \"gridcolor\": \"white\", \"gridwidth\": 2, \"linecolor\": \"white\", \"showbackground\": true, \"ticks\": \"\", \"zerolinecolor\": \"white\"}, \"zaxis\": {\"backgroundcolor\": \"#E5ECF6\", \"gridcolor\": \"white\", \"gridwidth\": 2, \"linecolor\": \"white\", \"showbackground\": true, \"ticks\": \"\", \"zerolinecolor\": \"white\"}}, \"shapedefaults\": {\"line\": {\"color\": \"#2a3f5f\"}}, \"ternary\": {\"aaxis\": {\"gridcolor\": \"white\", \"linecolor\": \"white\", \"ticks\": \"\"}, \"baxis\": {\"gridcolor\": \"white\", \"linecolor\": \"white\", \"ticks\": \"\"}, \"bgcolor\": \"#E5ECF6\", \"caxis\": {\"gridcolor\": \"white\", \"linecolor\": \"white\", \"ticks\": \"\"}}, \"title\": {\"x\": 0.05}, \"xaxis\": {\"automargin\": true, \"gridcolor\": \"white\", \"linecolor\": \"white\", \"ticks\": \"\", \"title\": {\"standoff\": 15}, \"zerolinecolor\": \"white\", \"zerolinewidth\": 2}, \"yaxis\": {\"automargin\": true, \"gridcolor\": \"white\", \"linecolor\": \"white\", \"ticks\": \"\", \"title\": {\"standoff\": 15}, \"zerolinecolor\": \"white\", \"zerolinewidth\": 2}}}},\n",
       "                        {\"responsive\": true}\n",
       "                    ).then(function(){\n",
       "                            \n",
       "var gd = document.getElementById('7d9d9199-adf8-48b9-bcaa-690cdca41177');\n",
       "var x = new MutationObserver(function (mutations, observer) {{\n",
       "        var display = window.getComputedStyle(gd).display;\n",
       "        if (!display || display === 'none') {{\n",
       "            console.log([gd, 'removed!']);\n",
       "            Plotly.purge(gd);\n",
       "            observer.disconnect();\n",
       "        }}\n",
       "}});\n",
       "\n",
       "// Listen for the removal of the full notebook cells\n",
       "var notebookContainer = gd.closest('#notebook-container');\n",
       "if (notebookContainer) {{\n",
       "    x.observe(notebookContainer, {childList: true});\n",
       "}}\n",
       "\n",
       "// Listen for the clearing of the current output cell\n",
       "var outputEl = gd.closest('.output');\n",
       "if (outputEl) {{\n",
       "    x.observe(outputEl, {childList: true});\n",
       "}}\n",
       "\n",
       "                        })\n",
       "                };\n",
       "                });\n",
       "            </script>\n",
       "        </div>"
      ]
     },
     "metadata": {},
     "output_type": "display_data"
    }
   ],
   "source": [
    "import plotly.graph_objects as go\n",
    "import numpy as np\n",
    "\n",
    "x = np.array([1, 2, 3, 4, 5])\n",
    "y = np.array([1, 3, 2, 3, 1])\n",
    "\n",
    "fig = go.Figure()\n",
    "fig.add_trace(go.Scatter(x=x, y=y, name=\"linear\", line_shape='linear'))\n",
    "fig.add_trace(go.Scatter(x=x, y=y + 5, name=\"spline\", line_shape='spline'))\n",
    "fig.add_trace(go.Scatter(x=x, y=y + 10, name=\"vhv\", line_shape='vhv'))\n",
    "fig.add_trace(go.Scatter(x=x, y=y + 15, name=\"hvh\", line_shape='hvh'))\n",
    "fig.add_trace(go.Scatter(x=x, y=y + 20, name=\"vh\",  line_shape='vh'))\n",
    "fig.add_trace(go.Scatter(x=x, y=y + 25, name=\"hv\",  line_shape='hv'))\n",
    "\n",
    "fig.update_traces(hoverinfo='text+name', mode='lines+markers')\n",
    "fig.update_layout(legend=dict(y=0.5, traceorder='reversed', font_size=16))\n",
    "\n",
    "fig.show()"
   ]
  },
  {
   "cell_type": "markdown",
   "metadata": {},
   "source": [
    "## Filled Lines\n",
    "* This is useful when drawing filled areas on both sides (or a single side) of a line.\n",
    "* Examples are when one wants to plot a moving average or moving standard deviation\n"
   ]
  },
  {
   "cell_type": "code",
   "execution_count": 35,
   "metadata": {},
   "outputs": [
    {
     "data": {
      "text/plain": [
       "[2, 3, 4, 5, 6, 7, 8, 9, 10, 11, 9, 8, 7, 6, 5, 4, 3, 2, 1, 0]"
      ]
     },
     "execution_count": 35,
     "metadata": {},
     "output_type": "execute_result"
    }
   ],
   "source": [
    "y1_upper + y1_lower"
   ]
  },
  {
   "cell_type": "code",
   "execution_count": 44,
   "metadata": {},
   "outputs": [
    {
     "data": {
      "application/vnd.plotly.v1+json": {
       "config": {
        "plotlyServerURL": "https://plot.ly"
       },
       "data": [
        {
         "fill": "toself",
         "fillcolor": "rgba(0,100,80,0.2)",
         "line": {
          "color": "rgba(255,255,255,0)"
         },
         "mode": "lines",
         "name": "Fair",
         "showlegend": false,
         "type": "scatter",
         "x": [
          1,
          2,
          3,
          4,
          5,
          6,
          7,
          8,
          9,
          10,
          10,
          9,
          8,
          7,
          6,
          5,
          4,
          3,
          2,
          1
         ],
         "y": [
          2,
          3,
          4,
          5,
          6,
          7,
          8,
          9,
          10,
          11,
          9,
          8,
          7,
          6,
          5,
          4,
          3,
          2,
          1,
          0
         ]
        },
        {
         "line": {
          "color": "rgb(0,100,80)"
         },
         "mode": "lines",
         "name": "Fair",
         "type": "scatter",
         "x": [
          1,
          2,
          3,
          4,
          5,
          6,
          7,
          8,
          9,
          10
         ],
         "y": [
          1,
          2,
          3,
          4,
          5,
          6,
          7,
          8,
          9,
          10
         ]
        }
       ],
       "layout": {
        "template": {
         "data": {
          "bar": [
           {
            "error_x": {
             "color": "#2a3f5f"
            },
            "error_y": {
             "color": "#2a3f5f"
            },
            "marker": {
             "line": {
              "color": "#E5ECF6",
              "width": 0.5
             }
            },
            "type": "bar"
           }
          ],
          "barpolar": [
           {
            "marker": {
             "line": {
              "color": "#E5ECF6",
              "width": 0.5
             }
            },
            "type": "barpolar"
           }
          ],
          "carpet": [
           {
            "aaxis": {
             "endlinecolor": "#2a3f5f",
             "gridcolor": "white",
             "linecolor": "white",
             "minorgridcolor": "white",
             "startlinecolor": "#2a3f5f"
            },
            "baxis": {
             "endlinecolor": "#2a3f5f",
             "gridcolor": "white",
             "linecolor": "white",
             "minorgridcolor": "white",
             "startlinecolor": "#2a3f5f"
            },
            "type": "carpet"
           }
          ],
          "choropleth": [
           {
            "colorbar": {
             "outlinewidth": 0,
             "ticks": ""
            },
            "type": "choropleth"
           }
          ],
          "contour": [
           {
            "colorbar": {
             "outlinewidth": 0,
             "ticks": ""
            },
            "colorscale": [
             [
              0,
              "#0d0887"
             ],
             [
              0.1111111111111111,
              "#46039f"
             ],
             [
              0.2222222222222222,
              "#7201a8"
             ],
             [
              0.3333333333333333,
              "#9c179e"
             ],
             [
              0.4444444444444444,
              "#bd3786"
             ],
             [
              0.5555555555555556,
              "#d8576b"
             ],
             [
              0.6666666666666666,
              "#ed7953"
             ],
             [
              0.7777777777777778,
              "#fb9f3a"
             ],
             [
              0.8888888888888888,
              "#fdca26"
             ],
             [
              1,
              "#f0f921"
             ]
            ],
            "type": "contour"
           }
          ],
          "contourcarpet": [
           {
            "colorbar": {
             "outlinewidth": 0,
             "ticks": ""
            },
            "type": "contourcarpet"
           }
          ],
          "heatmap": [
           {
            "colorbar": {
             "outlinewidth": 0,
             "ticks": ""
            },
            "colorscale": [
             [
              0,
              "#0d0887"
             ],
             [
              0.1111111111111111,
              "#46039f"
             ],
             [
              0.2222222222222222,
              "#7201a8"
             ],
             [
              0.3333333333333333,
              "#9c179e"
             ],
             [
              0.4444444444444444,
              "#bd3786"
             ],
             [
              0.5555555555555556,
              "#d8576b"
             ],
             [
              0.6666666666666666,
              "#ed7953"
             ],
             [
              0.7777777777777778,
              "#fb9f3a"
             ],
             [
              0.8888888888888888,
              "#fdca26"
             ],
             [
              1,
              "#f0f921"
             ]
            ],
            "type": "heatmap"
           }
          ],
          "heatmapgl": [
           {
            "colorbar": {
             "outlinewidth": 0,
             "ticks": ""
            },
            "colorscale": [
             [
              0,
              "#0d0887"
             ],
             [
              0.1111111111111111,
              "#46039f"
             ],
             [
              0.2222222222222222,
              "#7201a8"
             ],
             [
              0.3333333333333333,
              "#9c179e"
             ],
             [
              0.4444444444444444,
              "#bd3786"
             ],
             [
              0.5555555555555556,
              "#d8576b"
             ],
             [
              0.6666666666666666,
              "#ed7953"
             ],
             [
              0.7777777777777778,
              "#fb9f3a"
             ],
             [
              0.8888888888888888,
              "#fdca26"
             ],
             [
              1,
              "#f0f921"
             ]
            ],
            "type": "heatmapgl"
           }
          ],
          "histogram": [
           {
            "marker": {
             "colorbar": {
              "outlinewidth": 0,
              "ticks": ""
             }
            },
            "type": "histogram"
           }
          ],
          "histogram2d": [
           {
            "colorbar": {
             "outlinewidth": 0,
             "ticks": ""
            },
            "colorscale": [
             [
              0,
              "#0d0887"
             ],
             [
              0.1111111111111111,
              "#46039f"
             ],
             [
              0.2222222222222222,
              "#7201a8"
             ],
             [
              0.3333333333333333,
              "#9c179e"
             ],
             [
              0.4444444444444444,
              "#bd3786"
             ],
             [
              0.5555555555555556,
              "#d8576b"
             ],
             [
              0.6666666666666666,
              "#ed7953"
             ],
             [
              0.7777777777777778,
              "#fb9f3a"
             ],
             [
              0.8888888888888888,
              "#fdca26"
             ],
             [
              1,
              "#f0f921"
             ]
            ],
            "type": "histogram2d"
           }
          ],
          "histogram2dcontour": [
           {
            "colorbar": {
             "outlinewidth": 0,
             "ticks": ""
            },
            "colorscale": [
             [
              0,
              "#0d0887"
             ],
             [
              0.1111111111111111,
              "#46039f"
             ],
             [
              0.2222222222222222,
              "#7201a8"
             ],
             [
              0.3333333333333333,
              "#9c179e"
             ],
             [
              0.4444444444444444,
              "#bd3786"
             ],
             [
              0.5555555555555556,
              "#d8576b"
             ],
             [
              0.6666666666666666,
              "#ed7953"
             ],
             [
              0.7777777777777778,
              "#fb9f3a"
             ],
             [
              0.8888888888888888,
              "#fdca26"
             ],
             [
              1,
              "#f0f921"
             ]
            ],
            "type": "histogram2dcontour"
           }
          ],
          "mesh3d": [
           {
            "colorbar": {
             "outlinewidth": 0,
             "ticks": ""
            },
            "type": "mesh3d"
           }
          ],
          "parcoords": [
           {
            "line": {
             "colorbar": {
              "outlinewidth": 0,
              "ticks": ""
             }
            },
            "type": "parcoords"
           }
          ],
          "pie": [
           {
            "automargin": true,
            "type": "pie"
           }
          ],
          "scatter": [
           {
            "marker": {
             "colorbar": {
              "outlinewidth": 0,
              "ticks": ""
             }
            },
            "type": "scatter"
           }
          ],
          "scatter3d": [
           {
            "line": {
             "colorbar": {
              "outlinewidth": 0,
              "ticks": ""
             }
            },
            "marker": {
             "colorbar": {
              "outlinewidth": 0,
              "ticks": ""
             }
            },
            "type": "scatter3d"
           }
          ],
          "scattercarpet": [
           {
            "marker": {
             "colorbar": {
              "outlinewidth": 0,
              "ticks": ""
             }
            },
            "type": "scattercarpet"
           }
          ],
          "scattergeo": [
           {
            "marker": {
             "colorbar": {
              "outlinewidth": 0,
              "ticks": ""
             }
            },
            "type": "scattergeo"
           }
          ],
          "scattergl": [
           {
            "marker": {
             "colorbar": {
              "outlinewidth": 0,
              "ticks": ""
             }
            },
            "type": "scattergl"
           }
          ],
          "scattermapbox": [
           {
            "marker": {
             "colorbar": {
              "outlinewidth": 0,
              "ticks": ""
             }
            },
            "type": "scattermapbox"
           }
          ],
          "scatterpolar": [
           {
            "marker": {
             "colorbar": {
              "outlinewidth": 0,
              "ticks": ""
             }
            },
            "type": "scatterpolar"
           }
          ],
          "scatterpolargl": [
           {
            "marker": {
             "colorbar": {
              "outlinewidth": 0,
              "ticks": ""
             }
            },
            "type": "scatterpolargl"
           }
          ],
          "scatterternary": [
           {
            "marker": {
             "colorbar": {
              "outlinewidth": 0,
              "ticks": ""
             }
            },
            "type": "scatterternary"
           }
          ],
          "surface": [
           {
            "colorbar": {
             "outlinewidth": 0,
             "ticks": ""
            },
            "colorscale": [
             [
              0,
              "#0d0887"
             ],
             [
              0.1111111111111111,
              "#46039f"
             ],
             [
              0.2222222222222222,
              "#7201a8"
             ],
             [
              0.3333333333333333,
              "#9c179e"
             ],
             [
              0.4444444444444444,
              "#bd3786"
             ],
             [
              0.5555555555555556,
              "#d8576b"
             ],
             [
              0.6666666666666666,
              "#ed7953"
             ],
             [
              0.7777777777777778,
              "#fb9f3a"
             ],
             [
              0.8888888888888888,
              "#fdca26"
             ],
             [
              1,
              "#f0f921"
             ]
            ],
            "type": "surface"
           }
          ],
          "table": [
           {
            "cells": {
             "fill": {
              "color": "#EBF0F8"
             },
             "line": {
              "color": "white"
             }
            },
            "header": {
             "fill": {
              "color": "#C8D4E3"
             },
             "line": {
              "color": "white"
             }
            },
            "type": "table"
           }
          ]
         },
         "layout": {
          "annotationdefaults": {
           "arrowcolor": "#2a3f5f",
           "arrowhead": 0,
           "arrowwidth": 1
          },
          "coloraxis": {
           "colorbar": {
            "outlinewidth": 0,
            "ticks": ""
           }
          },
          "colorscale": {
           "diverging": [
            [
             0,
             "#8e0152"
            ],
            [
             0.1,
             "#c51b7d"
            ],
            [
             0.2,
             "#de77ae"
            ],
            [
             0.3,
             "#f1b6da"
            ],
            [
             0.4,
             "#fde0ef"
            ],
            [
             0.5,
             "#f7f7f7"
            ],
            [
             0.6,
             "#e6f5d0"
            ],
            [
             0.7,
             "#b8e186"
            ],
            [
             0.8,
             "#7fbc41"
            ],
            [
             0.9,
             "#4d9221"
            ],
            [
             1,
             "#276419"
            ]
           ],
           "sequential": [
            [
             0,
             "#0d0887"
            ],
            [
             0.1111111111111111,
             "#46039f"
            ],
            [
             0.2222222222222222,
             "#7201a8"
            ],
            [
             0.3333333333333333,
             "#9c179e"
            ],
            [
             0.4444444444444444,
             "#bd3786"
            ],
            [
             0.5555555555555556,
             "#d8576b"
            ],
            [
             0.6666666666666666,
             "#ed7953"
            ],
            [
             0.7777777777777778,
             "#fb9f3a"
            ],
            [
             0.8888888888888888,
             "#fdca26"
            ],
            [
             1,
             "#f0f921"
            ]
           ],
           "sequentialminus": [
            [
             0,
             "#0d0887"
            ],
            [
             0.1111111111111111,
             "#46039f"
            ],
            [
             0.2222222222222222,
             "#7201a8"
            ],
            [
             0.3333333333333333,
             "#9c179e"
            ],
            [
             0.4444444444444444,
             "#bd3786"
            ],
            [
             0.5555555555555556,
             "#d8576b"
            ],
            [
             0.6666666666666666,
             "#ed7953"
            ],
            [
             0.7777777777777778,
             "#fb9f3a"
            ],
            [
             0.8888888888888888,
             "#fdca26"
            ],
            [
             1,
             "#f0f921"
            ]
           ]
          },
          "colorway": [
           "#636efa",
           "#EF553B",
           "#00cc96",
           "#ab63fa",
           "#FFA15A",
           "#19d3f3",
           "#FF6692",
           "#B6E880",
           "#FF97FF",
           "#FECB52"
          ],
          "font": {
           "color": "#2a3f5f"
          },
          "geo": {
           "bgcolor": "white",
           "lakecolor": "white",
           "landcolor": "#E5ECF6",
           "showlakes": true,
           "showland": true,
           "subunitcolor": "white"
          },
          "hoverlabel": {
           "align": "left"
          },
          "hovermode": "closest",
          "mapbox": {
           "style": "light"
          },
          "paper_bgcolor": "white",
          "plot_bgcolor": "#E5ECF6",
          "polar": {
           "angularaxis": {
            "gridcolor": "white",
            "linecolor": "white",
            "ticks": ""
           },
           "bgcolor": "#E5ECF6",
           "radialaxis": {
            "gridcolor": "white",
            "linecolor": "white",
            "ticks": ""
           }
          },
          "scene": {
           "xaxis": {
            "backgroundcolor": "#E5ECF6",
            "gridcolor": "white",
            "gridwidth": 2,
            "linecolor": "white",
            "showbackground": true,
            "ticks": "",
            "zerolinecolor": "white"
           },
           "yaxis": {
            "backgroundcolor": "#E5ECF6",
            "gridcolor": "white",
            "gridwidth": 2,
            "linecolor": "white",
            "showbackground": true,
            "ticks": "",
            "zerolinecolor": "white"
           },
           "zaxis": {
            "backgroundcolor": "#E5ECF6",
            "gridcolor": "white",
            "gridwidth": 2,
            "linecolor": "white",
            "showbackground": true,
            "ticks": "",
            "zerolinecolor": "white"
           }
          },
          "shapedefaults": {
           "line": {
            "color": "#2a3f5f"
           }
          },
          "ternary": {
           "aaxis": {
            "gridcolor": "white",
            "linecolor": "white",
            "ticks": ""
           },
           "baxis": {
            "gridcolor": "white",
            "linecolor": "white",
            "ticks": ""
           },
           "bgcolor": "#E5ECF6",
           "caxis": {
            "gridcolor": "white",
            "linecolor": "white",
            "ticks": ""
           }
          },
          "title": {
           "x": 0.05
          },
          "xaxis": {
           "automargin": true,
           "gridcolor": "white",
           "linecolor": "white",
           "ticks": "",
           "title": {
            "standoff": 15
           },
           "zerolinecolor": "white",
           "zerolinewidth": 2
          },
          "yaxis": {
           "automargin": true,
           "gridcolor": "white",
           "linecolor": "white",
           "ticks": "",
           "title": {
            "standoff": 15
           },
           "zerolinecolor": "white",
           "zerolinewidth": 2
          }
         }
        }
       }
      },
      "text/html": [
       "<div>\n",
       "        \n",
       "        \n",
       "            <div id=\"22508008-b544-4971-b0b5-6a561a59c520\" class=\"plotly-graph-div\" style=\"height:525px; width:100%;\"></div>\n",
       "            <script type=\"text/javascript\">\n",
       "                require([\"plotly\"], function(Plotly) {\n",
       "                    window.PLOTLYENV=window.PLOTLYENV || {};\n",
       "                    \n",
       "                if (document.getElementById(\"22508008-b544-4971-b0b5-6a561a59c520\")) {\n",
       "                    Plotly.newPlot(\n",
       "                        '22508008-b544-4971-b0b5-6a561a59c520',\n",
       "                        [{\"fill\": \"toself\", \"fillcolor\": \"rgba(0,100,80,0.2)\", \"line\": {\"color\": \"rgba(255,255,255,0)\"}, \"mode\": \"lines\", \"name\": \"Fair\", \"showlegend\": false, \"type\": \"scatter\", \"x\": [1, 2, 3, 4, 5, 6, 7, 8, 9, 10, 10, 9, 8, 7, 6, 5, 4, 3, 2, 1], \"y\": [2, 3, 4, 5, 6, 7, 8, 9, 10, 11, 9, 8, 7, 6, 5, 4, 3, 2, 1, 0]}, {\"line\": {\"color\": \"rgb(0,100,80)\"}, \"mode\": \"lines\", \"name\": \"Fair\", \"type\": \"scatter\", \"x\": [1, 2, 3, 4, 5, 6, 7, 8, 9, 10], \"y\": [1, 2, 3, 4, 5, 6, 7, 8, 9, 10]}],\n",
       "                        {\"template\": {\"data\": {\"bar\": [{\"error_x\": {\"color\": \"#2a3f5f\"}, \"error_y\": {\"color\": \"#2a3f5f\"}, \"marker\": {\"line\": {\"color\": \"#E5ECF6\", \"width\": 0.5}}, \"type\": \"bar\"}], \"barpolar\": [{\"marker\": {\"line\": {\"color\": \"#E5ECF6\", \"width\": 0.5}}, \"type\": \"barpolar\"}], \"carpet\": [{\"aaxis\": {\"endlinecolor\": \"#2a3f5f\", \"gridcolor\": \"white\", \"linecolor\": \"white\", \"minorgridcolor\": \"white\", \"startlinecolor\": \"#2a3f5f\"}, \"baxis\": {\"endlinecolor\": \"#2a3f5f\", \"gridcolor\": \"white\", \"linecolor\": \"white\", \"minorgridcolor\": \"white\", \"startlinecolor\": \"#2a3f5f\"}, \"type\": \"carpet\"}], \"choropleth\": [{\"colorbar\": {\"outlinewidth\": 0, \"ticks\": \"\"}, \"type\": \"choropleth\"}], \"contour\": [{\"colorbar\": {\"outlinewidth\": 0, \"ticks\": \"\"}, \"colorscale\": [[0.0, \"#0d0887\"], [0.1111111111111111, \"#46039f\"], [0.2222222222222222, \"#7201a8\"], [0.3333333333333333, \"#9c179e\"], [0.4444444444444444, \"#bd3786\"], [0.5555555555555556, \"#d8576b\"], [0.6666666666666666, \"#ed7953\"], [0.7777777777777778, \"#fb9f3a\"], [0.8888888888888888, \"#fdca26\"], [1.0, \"#f0f921\"]], \"type\": \"contour\"}], \"contourcarpet\": [{\"colorbar\": {\"outlinewidth\": 0, \"ticks\": \"\"}, \"type\": \"contourcarpet\"}], \"heatmap\": [{\"colorbar\": {\"outlinewidth\": 0, \"ticks\": \"\"}, \"colorscale\": [[0.0, \"#0d0887\"], [0.1111111111111111, \"#46039f\"], [0.2222222222222222, \"#7201a8\"], [0.3333333333333333, \"#9c179e\"], [0.4444444444444444, \"#bd3786\"], [0.5555555555555556, \"#d8576b\"], [0.6666666666666666, \"#ed7953\"], [0.7777777777777778, \"#fb9f3a\"], [0.8888888888888888, \"#fdca26\"], [1.0, \"#f0f921\"]], \"type\": \"heatmap\"}], \"heatmapgl\": [{\"colorbar\": {\"outlinewidth\": 0, \"ticks\": \"\"}, \"colorscale\": [[0.0, \"#0d0887\"], [0.1111111111111111, \"#46039f\"], [0.2222222222222222, \"#7201a8\"], [0.3333333333333333, \"#9c179e\"], [0.4444444444444444, \"#bd3786\"], [0.5555555555555556, \"#d8576b\"], [0.6666666666666666, \"#ed7953\"], [0.7777777777777778, \"#fb9f3a\"], [0.8888888888888888, \"#fdca26\"], [1.0, \"#f0f921\"]], \"type\": \"heatmapgl\"}], \"histogram\": [{\"marker\": {\"colorbar\": {\"outlinewidth\": 0, \"ticks\": \"\"}}, \"type\": \"histogram\"}], \"histogram2d\": [{\"colorbar\": {\"outlinewidth\": 0, \"ticks\": \"\"}, \"colorscale\": [[0.0, \"#0d0887\"], [0.1111111111111111, \"#46039f\"], [0.2222222222222222, \"#7201a8\"], [0.3333333333333333, \"#9c179e\"], [0.4444444444444444, \"#bd3786\"], [0.5555555555555556, \"#d8576b\"], [0.6666666666666666, \"#ed7953\"], [0.7777777777777778, \"#fb9f3a\"], [0.8888888888888888, \"#fdca26\"], [1.0, \"#f0f921\"]], \"type\": \"histogram2d\"}], \"histogram2dcontour\": [{\"colorbar\": {\"outlinewidth\": 0, \"ticks\": \"\"}, \"colorscale\": [[0.0, \"#0d0887\"], [0.1111111111111111, \"#46039f\"], [0.2222222222222222, \"#7201a8\"], [0.3333333333333333, \"#9c179e\"], [0.4444444444444444, \"#bd3786\"], [0.5555555555555556, \"#d8576b\"], [0.6666666666666666, \"#ed7953\"], [0.7777777777777778, \"#fb9f3a\"], [0.8888888888888888, \"#fdca26\"], [1.0, \"#f0f921\"]], \"type\": \"histogram2dcontour\"}], \"mesh3d\": [{\"colorbar\": {\"outlinewidth\": 0, \"ticks\": \"\"}, \"type\": \"mesh3d\"}], \"parcoords\": [{\"line\": {\"colorbar\": {\"outlinewidth\": 0, \"ticks\": \"\"}}, \"type\": \"parcoords\"}], \"pie\": [{\"automargin\": true, \"type\": \"pie\"}], \"scatter\": [{\"marker\": {\"colorbar\": {\"outlinewidth\": 0, \"ticks\": \"\"}}, \"type\": \"scatter\"}], \"scatter3d\": [{\"line\": {\"colorbar\": {\"outlinewidth\": 0, \"ticks\": \"\"}}, \"marker\": {\"colorbar\": {\"outlinewidth\": 0, \"ticks\": \"\"}}, \"type\": \"scatter3d\"}], \"scattercarpet\": [{\"marker\": {\"colorbar\": {\"outlinewidth\": 0, \"ticks\": \"\"}}, \"type\": \"scattercarpet\"}], \"scattergeo\": [{\"marker\": {\"colorbar\": {\"outlinewidth\": 0, \"ticks\": \"\"}}, \"type\": \"scattergeo\"}], \"scattergl\": [{\"marker\": {\"colorbar\": {\"outlinewidth\": 0, \"ticks\": \"\"}}, \"type\": \"scattergl\"}], \"scattermapbox\": [{\"marker\": {\"colorbar\": {\"outlinewidth\": 0, \"ticks\": \"\"}}, \"type\": \"scattermapbox\"}], \"scatterpolar\": [{\"marker\": {\"colorbar\": {\"outlinewidth\": 0, \"ticks\": \"\"}}, \"type\": \"scatterpolar\"}], \"scatterpolargl\": [{\"marker\": {\"colorbar\": {\"outlinewidth\": 0, \"ticks\": \"\"}}, \"type\": \"scatterpolargl\"}], \"scatterternary\": [{\"marker\": {\"colorbar\": {\"outlinewidth\": 0, \"ticks\": \"\"}}, \"type\": \"scatterternary\"}], \"surface\": [{\"colorbar\": {\"outlinewidth\": 0, \"ticks\": \"\"}, \"colorscale\": [[0.0, \"#0d0887\"], [0.1111111111111111, \"#46039f\"], [0.2222222222222222, \"#7201a8\"], [0.3333333333333333, \"#9c179e\"], [0.4444444444444444, \"#bd3786\"], [0.5555555555555556, \"#d8576b\"], [0.6666666666666666, \"#ed7953\"], [0.7777777777777778, \"#fb9f3a\"], [0.8888888888888888, \"#fdca26\"], [1.0, \"#f0f921\"]], \"type\": \"surface\"}], \"table\": [{\"cells\": {\"fill\": {\"color\": \"#EBF0F8\"}, \"line\": {\"color\": \"white\"}}, \"header\": {\"fill\": {\"color\": \"#C8D4E3\"}, \"line\": {\"color\": \"white\"}}, \"type\": \"table\"}]}, \"layout\": {\"annotationdefaults\": {\"arrowcolor\": \"#2a3f5f\", \"arrowhead\": 0, \"arrowwidth\": 1}, \"coloraxis\": {\"colorbar\": {\"outlinewidth\": 0, \"ticks\": \"\"}}, \"colorscale\": {\"diverging\": [[0, \"#8e0152\"], [0.1, \"#c51b7d\"], [0.2, \"#de77ae\"], [0.3, \"#f1b6da\"], [0.4, \"#fde0ef\"], [0.5, \"#f7f7f7\"], [0.6, \"#e6f5d0\"], [0.7, \"#b8e186\"], [0.8, \"#7fbc41\"], [0.9, \"#4d9221\"], [1, \"#276419\"]], \"sequential\": [[0.0, \"#0d0887\"], [0.1111111111111111, \"#46039f\"], [0.2222222222222222, \"#7201a8\"], [0.3333333333333333, \"#9c179e\"], [0.4444444444444444, \"#bd3786\"], [0.5555555555555556, \"#d8576b\"], [0.6666666666666666, \"#ed7953\"], [0.7777777777777778, \"#fb9f3a\"], [0.8888888888888888, \"#fdca26\"], [1.0, \"#f0f921\"]], \"sequentialminus\": [[0.0, \"#0d0887\"], [0.1111111111111111, \"#46039f\"], [0.2222222222222222, \"#7201a8\"], [0.3333333333333333, \"#9c179e\"], [0.4444444444444444, \"#bd3786\"], [0.5555555555555556, \"#d8576b\"], [0.6666666666666666, \"#ed7953\"], [0.7777777777777778, \"#fb9f3a\"], [0.8888888888888888, \"#fdca26\"], [1.0, \"#f0f921\"]]}, \"colorway\": [\"#636efa\", \"#EF553B\", \"#00cc96\", \"#ab63fa\", \"#FFA15A\", \"#19d3f3\", \"#FF6692\", \"#B6E880\", \"#FF97FF\", \"#FECB52\"], \"font\": {\"color\": \"#2a3f5f\"}, \"geo\": {\"bgcolor\": \"white\", \"lakecolor\": \"white\", \"landcolor\": \"#E5ECF6\", \"showlakes\": true, \"showland\": true, \"subunitcolor\": \"white\"}, \"hoverlabel\": {\"align\": \"left\"}, \"hovermode\": \"closest\", \"mapbox\": {\"style\": \"light\"}, \"paper_bgcolor\": \"white\", \"plot_bgcolor\": \"#E5ECF6\", \"polar\": {\"angularaxis\": {\"gridcolor\": \"white\", \"linecolor\": \"white\", \"ticks\": \"\"}, \"bgcolor\": \"#E5ECF6\", \"radialaxis\": {\"gridcolor\": \"white\", \"linecolor\": \"white\", \"ticks\": \"\"}}, \"scene\": {\"xaxis\": {\"backgroundcolor\": \"#E5ECF6\", \"gridcolor\": \"white\", \"gridwidth\": 2, \"linecolor\": \"white\", \"showbackground\": true, \"ticks\": \"\", \"zerolinecolor\": \"white\"}, \"yaxis\": {\"backgroundcolor\": \"#E5ECF6\", \"gridcolor\": \"white\", \"gridwidth\": 2, \"linecolor\": \"white\", \"showbackground\": true, \"ticks\": \"\", \"zerolinecolor\": \"white\"}, \"zaxis\": {\"backgroundcolor\": \"#E5ECF6\", \"gridcolor\": \"white\", \"gridwidth\": 2, \"linecolor\": \"white\", \"showbackground\": true, \"ticks\": \"\", \"zerolinecolor\": \"white\"}}, \"shapedefaults\": {\"line\": {\"color\": \"#2a3f5f\"}}, \"ternary\": {\"aaxis\": {\"gridcolor\": \"white\", \"linecolor\": \"white\", \"ticks\": \"\"}, \"baxis\": {\"gridcolor\": \"white\", \"linecolor\": \"white\", \"ticks\": \"\"}, \"bgcolor\": \"#E5ECF6\", \"caxis\": {\"gridcolor\": \"white\", \"linecolor\": \"white\", \"ticks\": \"\"}}, \"title\": {\"x\": 0.05}, \"xaxis\": {\"automargin\": true, \"gridcolor\": \"white\", \"linecolor\": \"white\", \"ticks\": \"\", \"title\": {\"standoff\": 15}, \"zerolinecolor\": \"white\", \"zerolinewidth\": 2}, \"yaxis\": {\"automargin\": true, \"gridcolor\": \"white\", \"linecolor\": \"white\", \"ticks\": \"\", \"title\": {\"standoff\": 15}, \"zerolinecolor\": \"white\", \"zerolinewidth\": 2}}}},\n",
       "                        {\"responsive\": true}\n",
       "                    ).then(function(){\n",
       "                            \n",
       "var gd = document.getElementById('22508008-b544-4971-b0b5-6a561a59c520');\n",
       "var x = new MutationObserver(function (mutations, observer) {{\n",
       "        var display = window.getComputedStyle(gd).display;\n",
       "        if (!display || display === 'none') {{\n",
       "            console.log([gd, 'removed!']);\n",
       "            Plotly.purge(gd);\n",
       "            observer.disconnect();\n",
       "        }}\n",
       "}});\n",
       "\n",
       "// Listen for the removal of the full notebook cells\n",
       "var notebookContainer = gd.closest('#notebook-container');\n",
       "if (notebookContainer) {{\n",
       "    x.observe(notebookContainer, {childList: true});\n",
       "}}\n",
       "\n",
       "// Listen for the clearing of the current output cell\n",
       "var outputEl = gd.closest('.output');\n",
       "if (outputEl) {{\n",
       "    x.observe(outputEl, {childList: true});\n",
       "}}\n",
       "\n",
       "                        })\n",
       "                };\n",
       "                });\n",
       "            </script>\n",
       "        </div>"
      ]
     },
     "metadata": {},
     "output_type": "display_data"
    }
   ],
   "source": [
    "import plotly.graph_objects as go\n",
    "import numpy as np\n",
    "\n",
    "\n",
    "\n",
    "x = [1, 2, 3, 4, 5, 6, 7, 8, 9, 10]\n",
    "x_rev = x[::-1]\n",
    "\n",
    "# Line 1\n",
    "y1 = [1, 2, 3, 4, 5, 6, 7, 8, 9, 10]\n",
    "y1_upper = [2, 3, 4, 5, 6, 7, 8, 9, 10, 11]\n",
    "y1_lower = [0, 1, 2, 3, 4, 5, 6, 7, 8, 9]\n",
    "y1_lower = y1_lower[::-1]\n",
    "\n",
    "# Line 2\n",
    "y2 = [5, 2.5, 5, 7.5, 5, 2.5, 7.5, 4.5, 5.5, 5]\n",
    "y2_upper = [5.5, 3, 5.5, 8, 6, 3, 8, 5, 6, 5.5]\n",
    "y2_lower = [4.5, 2, 4.4, 7, 4, 2, 7, 4, 5, 4.75]\n",
    "y2_lower = y2_lower[::-1]\n",
    "\n",
    "# Line 3\n",
    "y3 = [10, 8, 6, 4, 2, 0, 2, 4, 2, 0]\n",
    "y3_upper = [11, 9, 7, 5, 3, 1, 3, 5, 3, 1]\n",
    "y3_lower = [9, 7, 5, 3, 1, -.5, 1, 3, 1, -1]\n",
    "y3_lower = y3_lower[::-1]\n",
    "\n",
    "\n",
    "fig = go.Figure()\n",
    "\n",
    "fig.add_trace(go.Scatter(\n",
    "    x=x+x_rev,\n",
    "    y=y1_upper+y1_lower,\n",
    "    fill='toself',\n",
    "    fillcolor='rgba(0,100,80,0.2)',\n",
    "    line_color='rgba(255,255,255,0)',\n",
    "    showlegend=False,\n",
    "    name='Fair',\n",
    "))\n",
    "# fig.add_trace(go.Scatter(\n",
    "#     x=x+x_rev,\n",
    "#     y=y2_upper+y2_lower,\n",
    "#     fill='toself',\n",
    "#     fillcolor='rgba(0,176,246,0.2)',\n",
    "#     line_color='rgba(255,255,255,0)',\n",
    "#     name='Premium',\n",
    "#     showlegend=False,\n",
    "# ))\n",
    "# fig.add_trace(go.Scatter(\n",
    "#     x=x+x_rev,\n",
    "#     y=y3_upper+y3_lower,\n",
    "#     fill='toself',\n",
    "#     fillcolor='rgba(231,107,243,0.2)',\n",
    "#     line_color='rgba(255,255,255,0)',\n",
    "#     showlegend=False,\n",
    "#     name='Fair',\n",
    "# ))\n",
    "fig.add_trace(go.Scatter(\n",
    "    x=x, y=y1,\n",
    "    line_color='rgb(0,100,80)',\n",
    "    name='Fair',\n",
    "))\n",
    "# fig.add_trace(go.Scatter(\n",
    "#     x=x, y=y2,\n",
    "#     line_color='rgb(0,176,246)',\n",
    "#     name='Premium',\n",
    "# ))\n",
    "# fig.add_trace(go.Scatter(\n",
    "#     x=x, y=y3,\n",
    "#     line_color='rgb(231,107,243)',\n",
    "#     name='Ideal',\n",
    "# ))\n",
    "\n",
    "fig.update_traces(mode='lines')\n",
    "fig.show()"
   ]
  },
  {
   "cell_type": "markdown",
   "metadata": {},
   "source": [
    "## Plotting Moving Average and Moving Standard Deviation"
   ]
  },
  {
   "cell_type": "code",
   "execution_count": 36,
   "metadata": {},
   "outputs": [],
   "source": [
    "import pandas as pd\n",
    "df = pd.read_csv('https://raw.githubusercontent.com/nsadawi/SampleCSVDatasets/master/CSVs/stock-prices-2017-2019.csv')\n",
    "#df.columns"
   ]
  },
  {
   "cell_type": "code",
   "execution_count": 37,
   "metadata": {},
   "outputs": [
    {
     "data": {
      "application/vnd.plotly.v1+json": {
       "config": {
        "plotlyServerURL": "https://plot.ly"
       },
       "data": [
        {
         "line": {
          "shape": "linear"
         },
         "name": "IBM",
         "type": "scatter",
         "x": [
          "2017-01-03",
          "2017-01-04",
          "2017-01-05",
          "2017-01-06",
          "2017-01-09",
          "2017-01-10",
          "2017-01-11",
          "2017-01-12",
          "2017-01-13",
          "2017-01-17",
          "2017-01-18",
          "2017-01-19",
          "2017-01-20",
          "2017-01-23",
          "2017-01-24",
          "2017-01-25",
          "2017-01-26",
          "2017-01-27",
          "2017-01-30",
          "2017-01-31",
          "2017-02-01",
          "2017-02-02",
          "2017-02-03",
          "2017-02-06",
          "2017-02-07",
          "2017-02-08",
          "2017-02-09",
          "2017-02-10",
          "2017-02-13",
          "2017-02-14",
          "2017-02-15",
          "2017-02-16",
          "2017-02-17",
          "2017-02-21",
          "2017-02-22",
          "2017-02-23",
          "2017-02-24",
          "2017-02-27",
          "2017-02-28",
          "2017-03-01",
          "2017-03-02",
          "2017-03-03",
          "2017-03-06",
          "2017-03-07",
          "2017-03-08",
          "2017-03-09",
          "2017-03-10",
          "2017-03-13",
          "2017-03-14",
          "2017-03-15",
          "2017-03-16",
          "2017-03-17",
          "2017-03-20",
          "2017-03-21",
          "2017-03-22",
          "2017-03-23",
          "2017-03-24",
          "2017-03-27",
          "2017-03-28",
          "2017-03-29",
          "2017-03-30",
          "2017-03-31",
          "2017-04-03",
          "2017-04-04",
          "2017-04-05",
          "2017-04-06",
          "2017-04-07",
          "2017-04-10",
          "2017-04-11",
          "2017-04-12",
          "2017-04-13",
          "2017-04-17",
          "2017-04-18",
          "2017-04-19",
          "2017-04-20",
          "2017-04-21",
          "2017-04-24",
          "2017-04-25",
          "2017-04-26",
          "2017-04-27",
          "2017-04-28",
          "2017-05-01",
          "2017-05-02",
          "2017-05-03",
          "2017-05-04",
          "2017-05-05",
          "2017-05-08",
          "2017-05-09",
          "2017-05-10",
          "2017-05-11",
          "2017-05-12",
          "2017-05-15",
          "2017-05-16",
          "2017-05-17",
          "2017-05-18",
          "2017-05-19",
          "2017-05-22",
          "2017-05-23",
          "2017-05-24",
          "2017-05-25",
          "2017-05-26",
          "2017-05-30",
          "2017-05-31",
          "2017-06-01",
          "2017-06-02",
          "2017-06-05",
          "2017-06-06",
          "2017-06-07",
          "2017-06-08",
          "2017-06-09",
          "2017-06-12",
          "2017-06-13",
          "2017-06-14",
          "2017-06-15",
          "2017-06-16",
          "2017-06-19",
          "2017-06-20",
          "2017-06-21",
          "2017-06-22",
          "2017-06-23",
          "2017-06-26",
          "2017-06-27",
          "2017-06-28",
          "2017-06-29",
          "2017-06-30",
          "2017-07-03",
          "2017-07-05",
          "2017-07-06",
          "2017-07-07",
          "2017-07-10",
          "2017-07-11",
          "2017-07-12",
          "2017-07-13",
          "2017-07-14",
          "2017-07-17",
          "2017-07-18",
          "2017-07-19",
          "2017-07-20",
          "2017-07-21",
          "2017-07-24",
          "2017-07-25",
          "2017-07-26",
          "2017-07-27",
          "2017-07-28",
          "2017-07-31",
          "2017-08-01",
          "2017-08-02",
          "2017-08-03",
          "2017-08-04",
          "2017-08-07",
          "2017-08-08",
          "2017-08-09",
          "2017-08-10",
          "2017-08-11",
          "2017-08-14",
          "2017-08-15",
          "2017-08-16",
          "2017-08-17",
          "2017-08-18",
          "2017-08-21",
          "2017-08-22",
          "2017-08-23",
          "2017-08-24",
          "2017-08-25",
          "2017-08-28",
          "2017-08-29",
          "2017-08-30",
          "2017-08-31",
          "2017-09-01",
          "2017-09-05",
          "2017-09-06",
          "2017-09-07",
          "2017-09-08",
          "2017-09-11",
          "2017-09-12",
          "2017-09-13",
          "2017-09-14",
          "2017-09-15",
          "2017-09-18",
          "2017-09-19",
          "2017-09-20",
          "2017-09-21",
          "2017-09-22",
          "2017-09-25",
          "2017-09-26",
          "2017-09-27",
          "2017-09-28",
          "2017-09-29",
          "2017-10-02",
          "2017-10-03",
          "2017-10-04",
          "2017-10-05",
          "2017-10-06",
          "2017-10-09",
          "2017-10-10",
          "2017-10-11",
          "2017-10-12",
          "2017-10-13",
          "2017-10-16",
          "2017-10-17",
          "2017-10-18",
          "2017-10-19",
          "2017-10-20",
          "2017-10-23",
          "2017-10-24",
          "2017-10-25",
          "2017-10-26",
          "2017-10-27",
          "2017-10-30",
          "2017-10-31",
          "2017-11-01",
          "2017-11-02",
          "2017-11-03",
          "2017-11-06",
          "2017-11-07",
          "2017-11-08",
          "2017-11-09",
          "2017-11-10",
          "2017-11-13",
          "2017-11-14",
          "2017-11-15",
          "2017-11-16",
          "2017-11-17",
          "2017-11-20",
          "2017-11-21",
          "2017-11-22",
          "2017-11-24",
          "2017-11-27",
          "2017-11-28",
          "2017-11-29",
          "2017-11-30",
          "2017-12-01",
          "2017-12-04",
          "2017-12-05",
          "2017-12-06",
          "2017-12-07",
          "2017-12-08",
          "2017-12-11",
          "2017-12-12",
          "2017-12-13",
          "2017-12-14",
          "2017-12-15",
          "2017-12-18",
          "2017-12-19",
          "2017-12-20",
          "2017-12-21",
          "2017-12-22",
          "2017-12-26",
          "2017-12-27",
          "2017-12-28",
          "2017-12-29",
          "2018-01-02",
          "2018-01-03",
          "2018-01-04",
          "2018-01-05",
          "2018-01-08",
          "2018-01-09",
          "2018-01-10",
          "2018-01-11",
          "2018-01-12",
          "2018-01-16",
          "2018-01-17",
          "2018-01-18",
          "2018-01-19",
          "2018-01-22",
          "2018-01-23",
          "2018-01-24",
          "2018-01-25",
          "2018-01-26",
          "2018-01-29",
          "2018-01-30",
          "2018-01-31",
          "2018-02-01",
          "2018-02-02",
          "2018-02-05",
          "2018-02-06",
          "2018-02-07",
          "2018-02-08",
          "2018-02-09",
          "2018-02-12",
          "2018-02-13",
          "2018-02-14",
          "2018-02-15",
          "2018-02-16",
          "2018-02-20",
          "2018-02-21",
          "2018-02-22",
          "2018-02-23",
          "2018-02-26",
          "2018-02-27",
          "2018-02-28",
          "2018-03-01",
          "2018-03-02",
          "2018-03-05",
          "2018-03-06",
          "2018-03-07",
          "2018-03-08",
          "2018-03-09",
          "2018-03-12",
          "2018-03-13",
          "2018-03-14",
          "2018-03-15",
          "2018-03-16",
          "2018-03-19",
          "2018-03-20",
          "2018-03-21",
          "2018-03-22",
          "2018-03-23",
          "2018-03-26",
          "2018-03-27",
          "2018-03-28",
          "2018-03-29",
          "2018-04-02",
          "2018-04-03",
          "2018-04-04",
          "2018-04-05",
          "2018-04-06",
          "2018-04-09",
          "2018-04-10",
          "2018-04-11",
          "2018-04-12",
          "2018-04-13",
          "2018-04-16",
          "2018-04-17",
          "2018-04-18",
          "2018-04-19",
          "2018-04-20",
          "2018-04-23",
          "2018-04-24",
          "2018-04-25",
          "2018-04-26",
          "2018-04-27",
          "2018-04-30",
          "2018-05-01",
          "2018-05-02",
          "2018-05-03",
          "2018-05-04",
          "2018-05-07",
          "2018-05-08",
          "2018-05-09",
          "2018-05-10",
          "2018-05-11",
          "2018-05-14",
          "2018-05-15",
          "2018-05-16",
          "2018-05-17",
          "2018-05-18",
          "2018-05-21",
          "2018-05-22",
          "2018-05-23",
          "2018-05-24",
          "2018-05-25",
          "2018-05-29",
          "2018-05-30",
          "2018-05-31",
          "2018-06-01",
          "2018-06-04",
          "2018-06-05",
          "2018-06-06",
          "2018-06-07",
          "2018-06-08",
          "2018-06-11",
          "2018-06-12",
          "2018-06-13",
          "2018-06-14",
          "2018-06-15",
          "2018-06-18",
          "2018-06-19",
          "2018-06-20",
          "2018-06-21",
          "2018-06-22",
          "2018-06-25",
          "2018-06-26",
          "2018-06-27",
          "2018-06-28",
          "2018-06-29",
          "2018-07-02",
          "2018-07-03",
          "2018-07-05",
          "2018-07-06",
          "2018-07-09",
          "2018-07-10",
          "2018-07-11",
          "2018-07-12",
          "2018-07-13",
          "2018-07-16",
          "2018-07-17",
          "2018-07-18",
          "2018-07-19",
          "2018-07-20",
          "2018-07-23",
          "2018-07-24",
          "2018-07-25",
          "2018-07-26",
          "2018-07-27",
          "2018-07-30",
          "2018-07-31",
          "2018-08-01",
          "2018-08-02",
          "2018-08-03",
          "2018-08-06",
          "2018-08-07",
          "2018-08-08",
          "2018-08-09",
          "2018-08-10",
          "2018-08-13",
          "2018-08-14",
          "2018-08-15",
          "2018-08-16",
          "2018-08-17",
          "2018-08-20",
          "2018-08-21",
          "2018-08-22",
          "2018-08-23",
          "2018-08-24",
          "2018-08-27",
          "2018-08-28",
          "2018-08-29",
          "2018-08-30",
          "2018-08-31",
          "2018-09-04",
          "2018-09-05",
          "2018-09-06",
          "2018-09-07",
          "2018-09-10",
          "2018-09-11",
          "2018-09-12",
          "2018-09-13",
          "2018-09-14",
          "2018-09-17",
          "2018-09-18",
          "2018-09-19",
          "2018-09-20",
          "2018-09-21",
          "2018-09-24",
          "2018-09-25",
          "2018-09-26",
          "2018-09-27",
          "2018-09-28",
          "2018-10-01",
          "2018-10-02",
          "2018-10-03",
          "2018-10-04",
          "2018-10-05",
          "2018-10-08",
          "2018-10-09",
          "2018-10-10",
          "2018-10-11",
          "2018-10-12",
          "2018-10-15",
          "2018-10-16",
          "2018-10-17",
          "2018-10-18",
          "2018-10-19",
          "2018-10-22",
          "2018-10-23",
          "2018-10-24",
          "2018-10-25",
          "2018-10-26",
          "2018-10-29",
          "2018-10-30",
          "2018-10-31",
          "2018-11-01",
          "2018-11-02",
          "2018-11-05",
          "2018-11-06",
          "2018-11-07",
          "2018-11-08",
          "2018-11-09",
          "2018-11-12",
          "2018-11-13",
          "2018-11-14",
          "2018-11-15",
          "2018-11-16",
          "2018-11-19",
          "2018-11-20",
          "2018-11-21",
          "2018-11-23",
          "2018-11-26",
          "2018-11-27",
          "2018-11-28",
          "2018-11-29",
          "2018-11-30",
          "2018-12-03",
          "2018-12-04",
          "2018-12-06",
          "2018-12-07",
          "2018-12-10",
          "2018-12-11",
          "2018-12-12",
          "2018-12-13",
          "2018-12-14",
          "2018-12-17",
          "2018-12-18",
          "2018-12-19",
          "2018-12-20",
          "2018-12-21",
          "2018-12-24",
          "2018-12-26",
          "2018-12-27",
          "2018-12-28",
          "2018-12-31",
          "2019-01-02",
          "2019-01-03",
          "2019-01-04",
          "2019-01-07",
          "2019-01-08",
          "2019-01-09",
          "2019-01-10",
          "2019-01-11",
          "2019-01-14",
          "2019-01-15",
          "2019-01-16",
          "2019-01-17",
          "2019-01-18",
          "2019-01-22",
          "2019-01-23",
          "2019-01-24",
          "2019-01-25",
          "2019-01-28",
          "2019-01-29",
          "2019-01-30",
          "2019-01-31",
          "2019-02-01",
          "2019-02-04",
          "2019-02-05",
          "2019-02-06",
          "2019-02-07",
          "2019-02-08",
          "2019-02-11",
          "2019-02-12",
          "2019-02-13",
          "2019-02-14",
          "2019-02-15",
          "2019-02-19",
          "2019-02-20",
          "2019-02-21",
          "2019-02-22",
          "2019-02-25",
          "2019-02-26",
          "2019-02-27",
          "2019-02-28",
          "2019-03-01",
          "2019-03-04",
          "2019-03-05",
          "2019-03-06",
          "2019-03-07",
          "2019-03-08",
          "2019-03-11",
          "2019-03-12",
          "2019-03-13",
          "2019-03-14",
          "2019-03-15",
          "2019-03-18",
          "2019-03-19",
          "2019-03-20",
          "2019-03-21",
          "2019-03-22",
          "2019-03-25",
          "2019-03-26",
          "2019-03-27",
          "2019-03-28",
          "2019-03-29",
          "2019-04-01",
          "2019-04-02",
          "2019-04-03",
          "2019-04-04",
          "2019-04-05",
          "2019-04-08",
          "2019-04-09",
          "2019-04-10",
          "2019-04-11",
          "2019-04-12",
          "2019-04-15",
          "2019-04-16",
          "2019-04-17",
          "2019-04-18",
          "2019-04-22",
          "2019-04-23",
          "2019-04-24",
          "2019-04-25",
          "2019-04-26",
          "2019-04-29",
          "2019-04-30",
          "2019-05-01",
          "2019-05-02",
          "2019-05-03",
          "2019-05-06",
          "2019-05-07",
          "2019-05-08",
          "2019-05-09",
          "2019-05-10",
          "2019-05-13",
          "2019-05-14",
          "2019-05-15",
          "2019-05-16",
          "2019-05-17",
          "2019-05-20",
          "2019-05-21",
          "2019-05-22",
          "2019-05-23",
          "2019-05-24",
          "2019-05-28",
          "2019-05-29",
          "2019-05-30",
          "2019-05-31",
          "2019-06-03",
          "2019-06-04",
          "2019-06-05",
          "2019-06-06",
          "2019-06-07",
          "2019-06-10",
          "2019-06-11",
          "2019-06-12",
          "2019-06-13",
          "2019-06-14",
          "2019-06-17",
          "2019-06-18",
          "2019-06-19",
          "2019-06-20",
          "2019-06-21",
          "2019-06-24",
          "2019-06-25",
          "2019-06-26",
          "2019-06-27",
          "2019-06-28",
          "2019-07-01",
          "2019-07-02",
          "2019-07-03",
          "2019-07-05",
          "2019-07-08",
          "2019-07-09",
          "2019-07-10",
          "2019-07-11",
          "2019-07-12",
          "2019-07-15",
          "2019-07-16",
          "2019-07-17",
          "2019-07-18",
          "2019-07-19",
          "2019-07-22",
          "2019-07-23",
          "2019-07-24",
          "2019-07-25",
          "2019-07-26",
          "2019-07-29",
          "2019-07-30",
          "2019-07-31",
          "2019-08-01",
          "2019-08-02",
          "2019-08-05",
          "2019-08-06",
          "2019-08-07",
          "2019-08-08",
          "2019-08-09",
          "2019-08-12",
          "2019-08-13",
          "2019-08-14",
          "2019-08-15",
          "2019-08-16",
          "2019-08-19",
          "2019-08-20",
          "2019-08-21",
          "2019-08-22",
          "2019-08-23",
          "2019-08-26",
          "2019-08-27",
          "2019-08-28",
          "2019-08-29",
          "2019-08-30",
          "2019-09-03",
          "2019-09-04",
          "2019-09-05",
          "2019-09-06",
          "2019-09-09",
          "2019-09-10",
          "2019-09-11",
          "2019-09-12",
          "2019-09-13",
          "2019-09-16",
          "2019-09-17",
          "2019-09-18",
          "2019-09-19",
          "2019-09-20",
          "2019-09-23",
          "2019-09-24",
          "2019-09-25",
          "2019-09-26",
          "2019-09-27",
          "2019-09-30",
          "2019-10-01",
          "2019-10-02",
          "2019-10-03",
          "2019-10-04",
          "2019-10-07",
          "2019-10-08",
          "2019-10-09",
          "2019-10-10",
          "2019-10-11",
          "2019-10-14",
          "2019-10-15",
          "2019-10-16",
          "2019-10-17",
          "2019-10-18",
          "2019-10-21",
          "2019-10-22",
          "2019-10-23",
          "2019-10-24",
          "2019-10-25",
          "2019-10-28",
          "2019-10-29",
          "2019-10-30",
          "2019-10-31",
          "2019-11-01",
          "2019-11-04",
          "2019-11-05",
          "2019-11-06",
          "2019-11-07",
          "2019-11-08",
          "2019-11-11",
          "2019-11-12",
          "2019-11-13",
          "2019-11-14",
          "2019-11-15",
          "2019-11-18",
          "2019-11-19",
          "2019-11-20",
          "2019-11-21",
          "2019-11-22",
          "2019-11-25",
          "2019-11-26",
          "2019-11-27",
          "2019-11-29",
          "2019-12-02",
          "2019-12-03",
          "2019-12-04",
          "2019-12-05",
          "2019-12-06",
          "2019-12-09",
          "2019-12-10",
          "2019-12-11",
          "2019-12-12",
          "2019-12-13",
          "2019-12-16",
          "2019-12-17",
          "2019-12-18",
          "2019-12-19",
          "2019-12-20",
          "2019-12-23",
          "2019-12-24",
          "2019-12-26",
          "2019-12-27",
          "2019-12-30",
          "2019-12-31"
         ],
         "y": [
          146.93508911132812,
          148.75430297851562,
          148.2621307373047,
          148.9915771484375,
          147.33934020996094,
          145.46739196777344,
          147.42721557617188,
          147.60302734375,
          147.06689453125,
          147.55026245117188,
          146.59230041503906,
          146.60110473632812,
          149.88800048828125,
          150.30987548828125,
          154.58985900878906,
          156.69029235839844,
          157.01547241210938,
          155.8202362060547,
          154.50201416015625,
          153.37705993652344,
          153.17489624023438,
          153.42979431152344,
          154.51954650878906,
          154.55467224121094,
          156.83973693847656,
          156.05136108398438,
          156.97262573242188,
          158.2747039794922,
          158.87705993652344,
          159.55911254882812,
          160.93211364746094,
          160.71063232421875,
          160.03744506835938,
          159.67430114746094,
          160.46263122558594,
          160.9055633544922,
          160.63980102539062,
          158.9124755859375,
          159.28453063964844,
          161.17129516601562,
          159.9134521484375,
          159.48825073242188,
          159.86032104492188,
          159.78057861328125,
          158.95677185058594,
          156.94601440429688,
          157.52178955078125,
          156.30824279785156,
          155.65274047851562,
          155.7324676513672,
          156.99913024902344,
          155.59075927734375,
          155.63504028320312,
          154.02288818359375,
          154.8201141357422,
          154.85556030273438,
          153.9785919189453,
          153.92544555664062,
          154.58091735839844,
          154.07603454589844,
          154.00515747070312,
          154.253173828125,
          154.5720672607422,
          154.5897979736328,
          153.13706970214844,
          152.7561798095703,
          152.48159790039062,
          151.64892578125,
          151.09976196289062,
          151.1705780029297,
          150.16964721679688,
          151.5603485107422,
          150.63027954101562,
          143.22496032714844,
          143.76531982421875,
          142.0645751953125,
          142.39230346679688,
          142.07347106933594,
          141.78111267089844,
          142.01144409179688,
          141.98484802246094,
          140.700439453125,
          140.93075561523438,
          140.51441955566406,
          140.88645935058594,
          137.34326171875,
          136.87812805175778,
          136.05523681640622,
          135.28604125976562,
          134.74935913085938,
          134.4989013671875,
          135.51858520507812,
          137.45953369140622,
          134.99978637695312,
          134.86563110351562,
          135.93899536132812,
          136.52931213378906,
          135.98370361328122,
          136.41304016113278,
          137.03021240234378,
          136.3951416015625,
          135.71533203125,
          136.52040100097656,
          136.55615234375,
          136.00157165527344,
          136.3236083984375,
          136.28779602050778,
          135.04452514648438,
          136.04629516601562,
          137.83522033691406,
          138.80120849609378,
          137.96939086914062,
          137.57582092285156,
          137.94253540039062,
          138.98011779785156,
          138.49711608886722,
          138.59550476074222,
          137.55792236328122,
          138.10354614257812,
          137.84416198730472,
          138.845947265625,
          138.41659545898438,
          138.92646789550778,
          137.86207580566406,
          137.59371948242188,
          139.15898132324222,
          137.45059204101562,
          136.27888488769528,
          136.79766845703122,
          137.22697448730472,
          137.02127075195312,
          137.47743225097656,
          137.41484069824222,
          137.96044921875,
          136.86026000976562,
          137.74574279785156,
          131.95863342285156,
          132.07493591308594,
          131.55615234375,
          130.58123779296878,
          130.76011657714844,
          130.01768493652344,
          129.75833129882812,
          129.06062316894528,
          129.4005126953125,
          129.96403503417972,
          129.2037353515625,
          129.64202880859378,
          129.83882141113278,
          128.32716369628906,
          128.4537353515625,
          128.14640808105472,
          128.20964050292972,
          128.20964050292972,
          128.6435546875,
          128.4176025390625,
          128.80624389648438,
          127.17921447753906,
          126.27532958984376,
          126.84475708007812,
          127.45941925048828,
          128.4808349609375,
          129.20394897460938,
          129.92707824707028,
          128.81527709960938,
          129.38475036621094,
          128.86048889160156,
          129.28530883789062,
          130.23442077636722,
          129.29435729980472,
          129.99942016601562,
          129.16780090332028,
          128.76106262207028,
          130.93943786621094,
          131.75294494628906,
          131.96089172363278,
          131.55412292480472,
          130.90330505371094,
          130.65924072265622,
          130.51461791992188,
          131.86143493652344,
          131.30104064941406,
          131.18351745605472,
          131.85237121582028,
          132.47610473632812,
          131.66259765625,
          131.66259765625,
          131.13833618164062,
          132.56649780273438,
          132.67494201660156,
          132.40379333496094,
          132.6207275390625,
          132.40379333496094,
          133.22633361816406,
          134.22966003417972,
          133.43423461914062,
          132.90093994140622,
          132.96420288085938,
          132.72013854980472,
          132.45802307128906,
          144.19972229003906,
          145.4380645751953,
          146.49562072753906,
          144.2178192138672,
          140.9004669189453,
          138.74917602539062,
          138.83958435058594,
          138.91188049316406,
          139.52653503417972,
          139.25537109375,
          139.228271484375,
          138.61360168457028,
          137.01368713378906,
          136.34478759765622,
          136.80577087402344,
          137.004638671875,
          137.21463012695312,
          136.17387390136722,
          135.48002624511722,
          135.92741394042972,
          134.29322814941406,
          136.13734436035156,
          136.00041198730472,
          137.40634155273438,
          138.720947265625,
          138.55662536621094,
          138.62052917480472,
          138.74835205078122,
          139.19569396972656,
          140.18165588378906,
          140.56509399414062,
          141.28631591796875,
          142.83834838867188,
          141.82496643066406,
          140.68379211425778,
          140.19993591308594,
          141.3319549560547,
          141.8797149658203,
          143.0939483642578,
          140.51033020019528,
          140.59249877929688,
          139.22308349609378,
          139.9808349609375,
          139.88954162597656,
          139.63389587402344,
          138.31016540527344,
          139.22308349609378,
          139.52435302734378,
          139.79824829101562,
          140.62901306152344,
          140.06298828125,
          140.82073974609375,
          144.6916046142578,
          147.62213134765625,
          148.34335327148438,
          149.238037109375,
          149.56668090820312,
          149.88621520996094,
          149.9044952392578,
          148.93675231933594,
          149.58494567871094,
          153.967041015625,
          154.39610290527344,
          148.23377990722656,
          148.44378662109375,
          151.77598571777344,
          150.97259521484375,
          151.0638885498047,
          152.77110290527344,
          152.27810668945312,
          149.3749542236328,
          149.44798278808594,
          148.2611846923828,
          145.18455505371094,
          139.25047302246094,
          141.81582641601562,
          140.45556640625,
          136.06718444824222,
          137.83729553222656,
          139.5797119140625,
          138.98048400878906,
          142.67739868164062,
          143.82981872558594,
          143.9865264892578,
          143.04615783691406,
          141.93988037109375,
          141.22073364257812,
          143.37806701660156,
          146.19918823242188,
          144.32765197753906,
          143.6638641357422,
          141.8015594482422,
          142.42849731445312,
          144.69639587402344,
          143.5624542236328,
          145.95948791503906,
          144.0142059326172,
          146.87216186523438,
          147.7480010986328,
          146.88137817382812,
          145.77508544921875,
          147.14874267578125,
          147.7480010986328,
          145.065185546875,
          144.0049591064453,
          144.4567108154297,
          140.21583557128906,
          137.26570129394528,
          141.3959197998047,
          140.04989624023438,
          140.61228942871094,
          141.45123291015625,
          138.35356140136722,
          138.1507568359375,
          142.08737182617188,
          142.00439453125,
          138.81454467773438,
          140.76901245117188,
          143.2582244873047,
          143.2305450439453,
          145.72898864746094,
          144.4751739501953,
          145.5630340576172,
          148.34725952148438,
          137.17349243164062,
          136.16859436035156,
          133.58720397949222,
          134.47225952148438,
          134.1956787109375,
          134.5460205078125,
          135.26509094238278,
          135.04386901855472,
          133.64253234863278,
          133.67938232421878,
          131.3284912109375,
          130.90440368652344,
          132.67446899414062,
          132.03836059570312,
          131.83555603027344,
          132.93548583984378,
          134.45491027832028,
          134.3616943359375,
          134.51083374023438,
          133.98883056640622,
          134.81846618652344,
          134.697265625,
          134.30577087402344,
          135.62013244628906,
          135.24725341796878,
          134.85574340820312,
          134.29644775390622,
          133.89559936523438,
          131.63978576660156,
          132.94480895996094,
          131.72367858886722,
          132.32025146484378,
          133.3363037109375,
          133.95152282714844,
          134.89302062988278,
          135.49893188476562,
          136.22601318359378,
          136.63616943359378,
          136.90646362304688,
          136.42178344726562,
          135.34977722167972,
          135.52688598632812,
          134.67861938476562,
          134.13795471191406,
          132.95413208007812,
          131.66773986816406,
          131.69570922851562,
          129.37461853027344,
          129.64494323730472,
          128.15348815917972,
          130.53981018066406,
          130.222900390625,
          130.37203979492188,
          130.10171508789062,
          131.83554077148438,
          132.81430053710938,
          134.59474182128906,
          134.89302062988278,
          135.107421875,
          136.51498413085938,
          136.00228881835938,
          135.59214782714844,
          133.75576782226562,
          134.71591186523438,
          139.11572265625,
          136.42178344726562,
          135.81585693359378,
          136.44972229003906,
          136.67343139648438,
          136.75735473632812,
          135.30317687988278,
          135.62013244628906,
          135.09811401367188,
          133.76510620117188,
          133.26174926757812,
          137.68019104003906,
          136.12347412109378,
          137.03700256347656,
          136.92514038085938,
          136.40692138671878,
          136.13365173339844,
          134.46591186523438,
          135.07835388183594,
          135.59657287597656,
          136.94398498535156,
          137.62240600585938,
          138.04638671875,
          137.53758239746094,
          136.84977722167972,
          136.97224426269528,
          137.60353088378906,
          138.21598815917972,
          138.12176513671878,
          139.01687622070312,
          137.49989318847656,
          138.01811218261722,
          137.26431274414062,
          138.18772888183594,
          137.93333435058594,
          137.04762268066406,
          137.23606872558594,
          138.02754211425778,
          138.10293579101562,
          140.34542846679688,
          139.76124572753906,
          139.39378356933594,
          139.97798156738278,
          140.44908142089844,
          142.41835021972656,
          142.6068115234375,
          141.363037109375,
          140.30776977539062,
          142.85177612304688,
          142.74813842773438,
          142.4748992919922,
          144.16146850585938,
          144.86814880371094,
          144.36874389648438,
          142.569091796875,
          140.42082214355472,
          139.81776428222656,
          138.73422241210938,
          134.44705200195312,
          130.98907470703122,
          132.71334838867188,
          132.97720336914062,
          136.73667907714844,
          126.30618286132812,
          123.00836944580078,
          121.64214324951172,
          122.5089874267578,
          123.6302490234375,
          119.86131286621094,
          119.1452178955078,
          117.58111572265624,
          112.72862243652344,
          108.73355865478516,
          108.76182556152344,
          110.08094787597656,
          108.98795318603516,
          113.12435150146484,
          116.0075912475586,
          117.6282196044922,
          117.73318481445312,
          117.88587188720705,
          115.36669158935548,
          115.30943298339844,
          114.69873046875,
          115.88198852539062,
          116.00602722167969,
          114.80369567871094,
          111.83602905273438,
          113.1433334350586,
          111.82649230957031,
          114.08802032470705,
          114.53650665283205,
          117.3705825805664,
          115.92015075683594,
          118.58245086669922,
          119.57486724853516,
          116.03465270996094,
          118.23893737792969,
          113.87808990478516,
          115.58616638183594,
          115.35714721679688,
          115.6147918701172,
          115.20448303222656,
          114.41246032714844,
          110.786376953125,
          111.31121063232422,
          111.10128021240234,
          107.84733581542969,
          105.86254119873048,
          102.6467742919922,
          106.29193878173828,
          108.5725555419922,
          107.85688018798828,
          108.46759033203124,
          109.9371109008789,
          107.74237060546876,
          111.9505386352539,
          112.7425537109375,
          114.3456573486328,
          115.1663055419922,
          116.21595764160156,
          115.90106201171876,
          114.88003540039062,
          116.1587142944336,
          116.05374145507812,
          116.59765625,
          118.1530532836914,
          116.91254425048828,
          126.80792999267578,
          126.46440887451172,
          127.83850860595705,
          128.12480163574222,
          128.18202209472656,
          128.22975158691406,
          128.26791381835938,
          127.96257019042969,
          129.00267028808594,
          129.34619140625,
          130.08096313476562,
          128.57501220703122,
          129.07699584960938,
          129.34730529785156,
          131.33592224121094,
          132.75498962402344,
          131.75100708007812,
          133.247314453125,
          133.89408874511722,
          133.21835327148438,
          133.06390380859378,
          134.425048828125,
          134.62776184082028,
          134.87873840332028,
          134.34780883789062,
          133.34385681152344,
          134.37675476074222,
          133.63345336914062,
          133.10250854492188,
          132.23368835449222,
          130.66983032226562,
          130.4091796875,
          132.93841552734378,
          133.4886474609375,
          133.75894165039062,
          133.98097229003906,
          134.59878540039062,
          135.35177612304688,
          135.6220703125,
          134.76292419433594,
          136.53915405273438,
          134.61810302734378,
          134.35746765136722,
          135.36143493652344,
          134.41539001464844,
          135.07182312011722,
          136.21095275878906,
          138.334716796875,
          138.04510498046878,
          138.65327453613278,
          137.83271789550778,
          138.31541442871094,
          138.42160034179688,
          137.18594360351562,
          138.06440734863278,
          138.79808044433594,
          139.34832763671878,
          138.91390991210938,
          140.1109619140625,
          134.28990173339844,
          135.46762084960938,
          134.0775146484375,
          135.57380676269528,
          135.10076904296878,
          133.82652282714844,
          134.60845947265622,
          134.23197937011722,
          135.40969848632812,
          135.68963623046878,
          134.75325012207028,
          135.39039611816406,
          135.51588439941406,
          132.87083435058594,
          133.21835327148438,
          132.20245361328122,
          132.18293762207028,
          128.37333679199222,
          130.21951293945312,
          131.28424072265622,
          132.72994995117188,
          131.20611572265622,
          131.98756408691406,
          133.28672790527344,
          133.18905639648438,
          129.32084655761722,
          129.21339416503906,
          127.43560791015624,
          126.6834487915039,
          126.56622314453124,
          124.04602813720705,
          125.2963638305664,
          129.61390686035156,
          128.44172668457028,
          129.15478515625,
          130.21951293945312,
          131.61636352539062,
          132.79832458496094,
          131.74334716796878,
          132.61271667480472,
          132.01686096191406,
          131.82150268554688,
          133.21835327148438,
          133.90211486816406,
          135.63108825683594,
          135.97296142578122,
          136.1195068359375,
          135.15245056152344,
          135.30874633789062,
          135.30874633789062,
          134.70310974121094,
          136.63720703125,
          136.96932983398438,
          138.25871276855472,
          138.10244750976562,
          137.31121826171878,
          136.09996032714844,
          137.21353149414062,
          137.9656982421875,
          139.430908203125,
          139.99748229980472,
          140.20259094238278,
          139.75326538085938,
          146.1611785888672,
          146.2100067138672,
          146.2686309814453,
          146.893798828125,
          146.55189514160156,
          146.903564453125,
          147.85107421875,
          147.3822021484375,
          146.29794311523438,
          144.8034210205078,
          146.83518981933594,
          143.8363494873047,
          137.49681091308594,
          137.46749877929688,
          135.88505554199222,
          138.464599609375,
          134.54093933105472,
          132.55439758300778,
          134.20489501953122,
          129.7178955078125,
          130.38008117675778,
          132.19859313964844,
          133.46365356445312,
          131.44746398925778,
          132.68287658691406,
          132.7520751953125,
          128.05751037597656,
          128.47261047363278,
          129.63882446289062,
          131.21026611328122,
          133.30552673339844,
          133.94793701171878,
          132.53463745117188,
          134.72872924804688,
          139.32443237304688,
          138.92910766601562,
          140.93540954589844,
          143.3568115234375,
          141.92373657226562,
          141.94349670410156,
          141.992919921875,
          140.81680297851562,
          140.54006958007812,
          140.55984497070312,
          141.30108642578125,
          140.22381591796878,
          140.41160583496094,
          140.02613830566406,
          141.48887634277344,
          141.87432861328125,
          141.5679473876953,
          143.7224884033203,
          141.9830322265625,
          140.03602600097656,
          140.3621826171875,
          141.32086181640625,
          139.63081359863278,
          136.76467895507812,
          138.03961181640622,
          139.48257446289062,
          141.09353637695312,
          140.38194274902344,
          141.3307342529297,
          140.45112609863278,
          132.69276428222656,
          132.52474975585938,
          131.03237915039062,
          132.39627075195312,
          132.81137084960938,
          132.50498962402344,
          133.85899353027344,
          134.38279724121094,
          132.25790405273438,
          133.67120361328122,
          132.1689453125,
          133.94793701171878,
          136.06295776367188,
          136.2803955078125,
          137.16000366210938,
          137.69000244140622,
          137.61000061035156,
          135.47000122070312,
          135.58999633789062,
          134.47999572753906,
          134,
          134.39999389648438,
          134.30999755859378,
          134.52000427246094,
          133.19999694824222,
          133.83999633789062,
          134.33999633789062,
          135.97000122070312,
          135.08999633789062,
          133.77000427246094,
          134.44999694824222,
          132.91000366210938,
          132.1199951171875,
          131.99000549316406,
          131.91000366210938,
          133.22000122070312,
          133.91999816894528,
          133.91000366210938,
          133.75999450683594,
          135.32000732421878,
          134.21000671386722,
          134.1300048828125,
          134.22000122070312,
          134.41000366210938,
          134.55999755859378,
          135.58999633789062,
          135.55000305175778,
          134.97999572753906,
          134.91000366210938,
          135.27000427246094,
          132.80999755859378,
          134.03999328613278
         ]
        },
        {
         "line": {
          "shape": "linear"
         },
         "name": "AAPL",
         "type": "scatter",
         "x": [
          "2017-01-03",
          "2017-01-04",
          "2017-01-05",
          "2017-01-06",
          "2017-01-09",
          "2017-01-10",
          "2017-01-11",
          "2017-01-12",
          "2017-01-13",
          "2017-01-17",
          "2017-01-18",
          "2017-01-19",
          "2017-01-20",
          "2017-01-23",
          "2017-01-24",
          "2017-01-25",
          "2017-01-26",
          "2017-01-27",
          "2017-01-30",
          "2017-01-31",
          "2017-02-01",
          "2017-02-02",
          "2017-02-03",
          "2017-02-06",
          "2017-02-07",
          "2017-02-08",
          "2017-02-09",
          "2017-02-10",
          "2017-02-13",
          "2017-02-14",
          "2017-02-15",
          "2017-02-16",
          "2017-02-17",
          "2017-02-21",
          "2017-02-22",
          "2017-02-23",
          "2017-02-24",
          "2017-02-27",
          "2017-02-28",
          "2017-03-01",
          "2017-03-02",
          "2017-03-03",
          "2017-03-06",
          "2017-03-07",
          "2017-03-08",
          "2017-03-09",
          "2017-03-10",
          "2017-03-13",
          "2017-03-14",
          "2017-03-15",
          "2017-03-16",
          "2017-03-17",
          "2017-03-20",
          "2017-03-21",
          "2017-03-22",
          "2017-03-23",
          "2017-03-24",
          "2017-03-27",
          "2017-03-28",
          "2017-03-29",
          "2017-03-30",
          "2017-03-31",
          "2017-04-03",
          "2017-04-04",
          "2017-04-05",
          "2017-04-06",
          "2017-04-07",
          "2017-04-10",
          "2017-04-11",
          "2017-04-12",
          "2017-04-13",
          "2017-04-17",
          "2017-04-18",
          "2017-04-19",
          "2017-04-20",
          "2017-04-21",
          "2017-04-24",
          "2017-04-25",
          "2017-04-26",
          "2017-04-27",
          "2017-04-28",
          "2017-05-01",
          "2017-05-02",
          "2017-05-03",
          "2017-05-04",
          "2017-05-05",
          "2017-05-08",
          "2017-05-09",
          "2017-05-10",
          "2017-05-11",
          "2017-05-12",
          "2017-05-15",
          "2017-05-16",
          "2017-05-17",
          "2017-05-18",
          "2017-05-19",
          "2017-05-22",
          "2017-05-23",
          "2017-05-24",
          "2017-05-25",
          "2017-05-26",
          "2017-05-30",
          "2017-05-31",
          "2017-06-01",
          "2017-06-02",
          "2017-06-05",
          "2017-06-06",
          "2017-06-07",
          "2017-06-08",
          "2017-06-09",
          "2017-06-12",
          "2017-06-13",
          "2017-06-14",
          "2017-06-15",
          "2017-06-16",
          "2017-06-19",
          "2017-06-20",
          "2017-06-21",
          "2017-06-22",
          "2017-06-23",
          "2017-06-26",
          "2017-06-27",
          "2017-06-28",
          "2017-06-29",
          "2017-06-30",
          "2017-07-03",
          "2017-07-05",
          "2017-07-06",
          "2017-07-07",
          "2017-07-10",
          "2017-07-11",
          "2017-07-12",
          "2017-07-13",
          "2017-07-14",
          "2017-07-17",
          "2017-07-18",
          "2017-07-19",
          "2017-07-20",
          "2017-07-21",
          "2017-07-24",
          "2017-07-25",
          "2017-07-26",
          "2017-07-27",
          "2017-07-28",
          "2017-07-31",
          "2017-08-01",
          "2017-08-02",
          "2017-08-03",
          "2017-08-04",
          "2017-08-07",
          "2017-08-08",
          "2017-08-09",
          "2017-08-10",
          "2017-08-11",
          "2017-08-14",
          "2017-08-15",
          "2017-08-16",
          "2017-08-17",
          "2017-08-18",
          "2017-08-21",
          "2017-08-22",
          "2017-08-23",
          "2017-08-24",
          "2017-08-25",
          "2017-08-28",
          "2017-08-29",
          "2017-08-30",
          "2017-08-31",
          "2017-09-01",
          "2017-09-05",
          "2017-09-06",
          "2017-09-07",
          "2017-09-08",
          "2017-09-11",
          "2017-09-12",
          "2017-09-13",
          "2017-09-14",
          "2017-09-15",
          "2017-09-18",
          "2017-09-19",
          "2017-09-20",
          "2017-09-21",
          "2017-09-22",
          "2017-09-25",
          "2017-09-26",
          "2017-09-27",
          "2017-09-28",
          "2017-09-29",
          "2017-10-02",
          "2017-10-03",
          "2017-10-04",
          "2017-10-05",
          "2017-10-06",
          "2017-10-09",
          "2017-10-10",
          "2017-10-11",
          "2017-10-12",
          "2017-10-13",
          "2017-10-16",
          "2017-10-17",
          "2017-10-18",
          "2017-10-19",
          "2017-10-20",
          "2017-10-23",
          "2017-10-24",
          "2017-10-25",
          "2017-10-26",
          "2017-10-27",
          "2017-10-30",
          "2017-10-31",
          "2017-11-01",
          "2017-11-02",
          "2017-11-03",
          "2017-11-06",
          "2017-11-07",
          "2017-11-08",
          "2017-11-09",
          "2017-11-10",
          "2017-11-13",
          "2017-11-14",
          "2017-11-15",
          "2017-11-16",
          "2017-11-17",
          "2017-11-20",
          "2017-11-21",
          "2017-11-22",
          "2017-11-24",
          "2017-11-27",
          "2017-11-28",
          "2017-11-29",
          "2017-11-30",
          "2017-12-01",
          "2017-12-04",
          "2017-12-05",
          "2017-12-06",
          "2017-12-07",
          "2017-12-08",
          "2017-12-11",
          "2017-12-12",
          "2017-12-13",
          "2017-12-14",
          "2017-12-15",
          "2017-12-18",
          "2017-12-19",
          "2017-12-20",
          "2017-12-21",
          "2017-12-22",
          "2017-12-26",
          "2017-12-27",
          "2017-12-28",
          "2017-12-29",
          "2018-01-02",
          "2018-01-03",
          "2018-01-04",
          "2018-01-05",
          "2018-01-08",
          "2018-01-09",
          "2018-01-10",
          "2018-01-11",
          "2018-01-12",
          "2018-01-16",
          "2018-01-17",
          "2018-01-18",
          "2018-01-19",
          "2018-01-22",
          "2018-01-23",
          "2018-01-24",
          "2018-01-25",
          "2018-01-26",
          "2018-01-29",
          "2018-01-30",
          "2018-01-31",
          "2018-02-01",
          "2018-02-02",
          "2018-02-05",
          "2018-02-06",
          "2018-02-07",
          "2018-02-08",
          "2018-02-09",
          "2018-02-12",
          "2018-02-13",
          "2018-02-14",
          "2018-02-15",
          "2018-02-16",
          "2018-02-20",
          "2018-02-21",
          "2018-02-22",
          "2018-02-23",
          "2018-02-26",
          "2018-02-27",
          "2018-02-28",
          "2018-03-01",
          "2018-03-02",
          "2018-03-05",
          "2018-03-06",
          "2018-03-07",
          "2018-03-08",
          "2018-03-09",
          "2018-03-12",
          "2018-03-13",
          "2018-03-14",
          "2018-03-15",
          "2018-03-16",
          "2018-03-19",
          "2018-03-20",
          "2018-03-21",
          "2018-03-22",
          "2018-03-23",
          "2018-03-26",
          "2018-03-27",
          "2018-03-28",
          "2018-03-29",
          "2018-04-02",
          "2018-04-03",
          "2018-04-04",
          "2018-04-05",
          "2018-04-06",
          "2018-04-09",
          "2018-04-10",
          "2018-04-11",
          "2018-04-12",
          "2018-04-13",
          "2018-04-16",
          "2018-04-17",
          "2018-04-18",
          "2018-04-19",
          "2018-04-20",
          "2018-04-23",
          "2018-04-24",
          "2018-04-25",
          "2018-04-26",
          "2018-04-27",
          "2018-04-30",
          "2018-05-01",
          "2018-05-02",
          "2018-05-03",
          "2018-05-04",
          "2018-05-07",
          "2018-05-08",
          "2018-05-09",
          "2018-05-10",
          "2018-05-11",
          "2018-05-14",
          "2018-05-15",
          "2018-05-16",
          "2018-05-17",
          "2018-05-18",
          "2018-05-21",
          "2018-05-22",
          "2018-05-23",
          "2018-05-24",
          "2018-05-25",
          "2018-05-29",
          "2018-05-30",
          "2018-05-31",
          "2018-06-01",
          "2018-06-04",
          "2018-06-05",
          "2018-06-06",
          "2018-06-07",
          "2018-06-08",
          "2018-06-11",
          "2018-06-12",
          "2018-06-13",
          "2018-06-14",
          "2018-06-15",
          "2018-06-18",
          "2018-06-19",
          "2018-06-20",
          "2018-06-21",
          "2018-06-22",
          "2018-06-25",
          "2018-06-26",
          "2018-06-27",
          "2018-06-28",
          "2018-06-29",
          "2018-07-02",
          "2018-07-03",
          "2018-07-05",
          "2018-07-06",
          "2018-07-09",
          "2018-07-10",
          "2018-07-11",
          "2018-07-12",
          "2018-07-13",
          "2018-07-16",
          "2018-07-17",
          "2018-07-18",
          "2018-07-19",
          "2018-07-20",
          "2018-07-23",
          "2018-07-24",
          "2018-07-25",
          "2018-07-26",
          "2018-07-27",
          "2018-07-30",
          "2018-07-31",
          "2018-08-01",
          "2018-08-02",
          "2018-08-03",
          "2018-08-06",
          "2018-08-07",
          "2018-08-08",
          "2018-08-09",
          "2018-08-10",
          "2018-08-13",
          "2018-08-14",
          "2018-08-15",
          "2018-08-16",
          "2018-08-17",
          "2018-08-20",
          "2018-08-21",
          "2018-08-22",
          "2018-08-23",
          "2018-08-24",
          "2018-08-27",
          "2018-08-28",
          "2018-08-29",
          "2018-08-30",
          "2018-08-31",
          "2018-09-04",
          "2018-09-05",
          "2018-09-06",
          "2018-09-07",
          "2018-09-10",
          "2018-09-11",
          "2018-09-12",
          "2018-09-13",
          "2018-09-14",
          "2018-09-17",
          "2018-09-18",
          "2018-09-19",
          "2018-09-20",
          "2018-09-21",
          "2018-09-24",
          "2018-09-25",
          "2018-09-26",
          "2018-09-27",
          "2018-09-28",
          "2018-10-01",
          "2018-10-02",
          "2018-10-03",
          "2018-10-04",
          "2018-10-05",
          "2018-10-08",
          "2018-10-09",
          "2018-10-10",
          "2018-10-11",
          "2018-10-12",
          "2018-10-15",
          "2018-10-16",
          "2018-10-17",
          "2018-10-18",
          "2018-10-19",
          "2018-10-22",
          "2018-10-23",
          "2018-10-24",
          "2018-10-25",
          "2018-10-26",
          "2018-10-29",
          "2018-10-30",
          "2018-10-31",
          "2018-11-01",
          "2018-11-02",
          "2018-11-05",
          "2018-11-06",
          "2018-11-07",
          "2018-11-08",
          "2018-11-09",
          "2018-11-12",
          "2018-11-13",
          "2018-11-14",
          "2018-11-15",
          "2018-11-16",
          "2018-11-19",
          "2018-11-20",
          "2018-11-21",
          "2018-11-23",
          "2018-11-26",
          "2018-11-27",
          "2018-11-28",
          "2018-11-29",
          "2018-11-30",
          "2018-12-03",
          "2018-12-04",
          "2018-12-06",
          "2018-12-07",
          "2018-12-10",
          "2018-12-11",
          "2018-12-12",
          "2018-12-13",
          "2018-12-14",
          "2018-12-17",
          "2018-12-18",
          "2018-12-19",
          "2018-12-20",
          "2018-12-21",
          "2018-12-24",
          "2018-12-26",
          "2018-12-27",
          "2018-12-28",
          "2018-12-31",
          "2019-01-02",
          "2019-01-03",
          "2019-01-04",
          "2019-01-07",
          "2019-01-08",
          "2019-01-09",
          "2019-01-10",
          "2019-01-11",
          "2019-01-14",
          "2019-01-15",
          "2019-01-16",
          "2019-01-17",
          "2019-01-18",
          "2019-01-22",
          "2019-01-23",
          "2019-01-24",
          "2019-01-25",
          "2019-01-28",
          "2019-01-29",
          "2019-01-30",
          "2019-01-31",
          "2019-02-01",
          "2019-02-04",
          "2019-02-05",
          "2019-02-06",
          "2019-02-07",
          "2019-02-08",
          "2019-02-11",
          "2019-02-12",
          "2019-02-13",
          "2019-02-14",
          "2019-02-15",
          "2019-02-19",
          "2019-02-20",
          "2019-02-21",
          "2019-02-22",
          "2019-02-25",
          "2019-02-26",
          "2019-02-27",
          "2019-02-28",
          "2019-03-01",
          "2019-03-04",
          "2019-03-05",
          "2019-03-06",
          "2019-03-07",
          "2019-03-08",
          "2019-03-11",
          "2019-03-12",
          "2019-03-13",
          "2019-03-14",
          "2019-03-15",
          "2019-03-18",
          "2019-03-19",
          "2019-03-20",
          "2019-03-21",
          "2019-03-22",
          "2019-03-25",
          "2019-03-26",
          "2019-03-27",
          "2019-03-28",
          "2019-03-29",
          "2019-04-01",
          "2019-04-02",
          "2019-04-03",
          "2019-04-04",
          "2019-04-05",
          "2019-04-08",
          "2019-04-09",
          "2019-04-10",
          "2019-04-11",
          "2019-04-12",
          "2019-04-15",
          "2019-04-16",
          "2019-04-17",
          "2019-04-18",
          "2019-04-22",
          "2019-04-23",
          "2019-04-24",
          "2019-04-25",
          "2019-04-26",
          "2019-04-29",
          "2019-04-30",
          "2019-05-01",
          "2019-05-02",
          "2019-05-03",
          "2019-05-06",
          "2019-05-07",
          "2019-05-08",
          "2019-05-09",
          "2019-05-10",
          "2019-05-13",
          "2019-05-14",
          "2019-05-15",
          "2019-05-16",
          "2019-05-17",
          "2019-05-20",
          "2019-05-21",
          "2019-05-22",
          "2019-05-23",
          "2019-05-24",
          "2019-05-28",
          "2019-05-29",
          "2019-05-30",
          "2019-05-31",
          "2019-06-03",
          "2019-06-04",
          "2019-06-05",
          "2019-06-06",
          "2019-06-07",
          "2019-06-10",
          "2019-06-11",
          "2019-06-12",
          "2019-06-13",
          "2019-06-14",
          "2019-06-17",
          "2019-06-18",
          "2019-06-19",
          "2019-06-20",
          "2019-06-21",
          "2019-06-24",
          "2019-06-25",
          "2019-06-26",
          "2019-06-27",
          "2019-06-28",
          "2019-07-01",
          "2019-07-02",
          "2019-07-03",
          "2019-07-05",
          "2019-07-08",
          "2019-07-09",
          "2019-07-10",
          "2019-07-11",
          "2019-07-12",
          "2019-07-15",
          "2019-07-16",
          "2019-07-17",
          "2019-07-18",
          "2019-07-19",
          "2019-07-22",
          "2019-07-23",
          "2019-07-24",
          "2019-07-25",
          "2019-07-26",
          "2019-07-29",
          "2019-07-30",
          "2019-07-31",
          "2019-08-01",
          "2019-08-02",
          "2019-08-05",
          "2019-08-06",
          "2019-08-07",
          "2019-08-08",
          "2019-08-09",
          "2019-08-12",
          "2019-08-13",
          "2019-08-14",
          "2019-08-15",
          "2019-08-16",
          "2019-08-19",
          "2019-08-20",
          "2019-08-21",
          "2019-08-22",
          "2019-08-23",
          "2019-08-26",
          "2019-08-27",
          "2019-08-28",
          "2019-08-29",
          "2019-08-30",
          "2019-09-03",
          "2019-09-04",
          "2019-09-05",
          "2019-09-06",
          "2019-09-09",
          "2019-09-10",
          "2019-09-11",
          "2019-09-12",
          "2019-09-13",
          "2019-09-16",
          "2019-09-17",
          "2019-09-18",
          "2019-09-19",
          "2019-09-20",
          "2019-09-23",
          "2019-09-24",
          "2019-09-25",
          "2019-09-26",
          "2019-09-27",
          "2019-09-30",
          "2019-10-01",
          "2019-10-02",
          "2019-10-03",
          "2019-10-04",
          "2019-10-07",
          "2019-10-08",
          "2019-10-09",
          "2019-10-10",
          "2019-10-11",
          "2019-10-14",
          "2019-10-15",
          "2019-10-16",
          "2019-10-17",
          "2019-10-18",
          "2019-10-21",
          "2019-10-22",
          "2019-10-23",
          "2019-10-24",
          "2019-10-25",
          "2019-10-28",
          "2019-10-29",
          "2019-10-30",
          "2019-10-31",
          "2019-11-01",
          "2019-11-04",
          "2019-11-05",
          "2019-11-06",
          "2019-11-07",
          "2019-11-08",
          "2019-11-11",
          "2019-11-12",
          "2019-11-13",
          "2019-11-14",
          "2019-11-15",
          "2019-11-18",
          "2019-11-19",
          "2019-11-20",
          "2019-11-21",
          "2019-11-22",
          "2019-11-25",
          "2019-11-26",
          "2019-11-27",
          "2019-11-29",
          "2019-12-02",
          "2019-12-03",
          "2019-12-04",
          "2019-12-05",
          "2019-12-06",
          "2019-12-09",
          "2019-12-10",
          "2019-12-11",
          "2019-12-12",
          "2019-12-13",
          "2019-12-16",
          "2019-12-17",
          "2019-12-18",
          "2019-12-19",
          "2019-12-20",
          "2019-12-23",
          "2019-12-24",
          "2019-12-26",
          "2019-12-27",
          "2019-12-30",
          "2019-12-31"
         ],
         "y": [
          110.95387268066406,
          110.82970428466795,
          111.39330291748048,
          112.63513946533205,
          113.66682434082031,
          113.78146362304688,
          114.392822265625,
          113.9151840209961,
          113.71458435058594,
          114.63165283203124,
          114.62208557128906,
          114.4214859008789,
          114.63165283203124,
          114.70806121826172,
          114.6029815673828,
          116.4275360107422,
          116.48485565185548,
          116.49441528320312,
          116.18870544433594,
          115.92122650146484,
          122.9901885986328,
          122.78004455566406,
          123.30543518066406,
          124.46131134033205,
          125.64580535888672,
          126.13301849365234,
          127.04444885253906,
          126.7566146850586,
          127.8791046142578,
          129.53890991210938,
          130.00901794433594,
          129.85549926757812,
          130.21052551269528,
          131.15072631835938,
          131.54405212402344,
          130.98760986328122,
          131.11235046386722,
          131.37136840820312,
          131.428955078125,
          134.11528015136722,
          133.31893920898438,
          134.10565185546878,
          133.68351745605472,
          133.85623168945312,
          133.35731506347656,
          133.05032348632812,
          133.49166870117188,
          133.5491943359375,
          133.34776306152344,
          134.75808715820312,
          134.97871398925778,
          134.30715942382812,
          135.71748352050778,
          134.16322326660156,
          135.67909240722656,
          135.19937133789062,
          134.93075561523438,
          135.16102600097656,
          137.96247863769528,
          138.26948547363278,
          138.08718872070312,
          137.82817077636722,
          137.86654663085938,
          138.89312744140622,
          138.17355346679688,
          137.82817077636722,
          137.52114868164062,
          137.35806274414062,
          135.88058471679688,
          136.04365539550778,
          135.32415771484378,
          136.07244873046878,
          135.46803283691406,
          134.9691162109375,
          136.65771484375,
          136.49459838867188,
          137.80900573730472,
          138.66285705566406,
          137.84735107421878,
          137.95286560058594,
          137.81855773925778,
          140.629638671875,
          141.5218963623047,
          141.09014892578125,
          140.58164978027344,
          142.9130096435547,
          146.79861450195312,
          147.73880004882812,
          147.03846740722656,
          148.31008911132812,
          150.38131713867188,
          149.99598693847656,
          149.7744140625,
          144.74563598632812,
          146.9517364501953,
          147.4526824951172,
          148.34864807128906,
          148.1655731201172,
          147.72244262695312,
          148.2329864501953,
          147.98255920410156,
          148.0403594970703,
          147.16368103027344,
          147.56829833984375,
          149.75515747070312,
          148.2908172607422,
          148.79177856445312,
          149.67807006835938,
          149.31199645996094,
          143.5221405029297,
          140.09259033203122,
          141.21974182128906,
          139.84213256835938,
          139.00395202636722,
          137.0579833984375,
          140.9788818359375,
          139.69760131835938,
          140.52609252929688,
          140.294921875,
          140.92108154296875,
          140.47795104980472,
          138.46449279785156,
          140.48757934570312,
          138.41632080078122,
          138.743896484375,
          138.24290466308594,
          138.81130981445312,
          137.50114440917972,
          138.89801025390622,
          139.74575805664062,
          140.19854736328122,
          140.40086364746094,
          142.3565216064453,
          143.5799560546875,
          144.0808868408203,
          144.58187866210938,
          145.4874267578125,
          144.83233642578125,
          144.76490783691406,
          146.51824951171875,
          147.14442443847656,
          147.8380584716797,
          145.04428100585938,
          144.0231170654297,
          143.28131103515625,
          144.55296325683594,
          151.3832244873047,
          149.87074279785156,
          150.6607208251953,
          152.9920654296875,
          154.2155303955078,
          155.15960693359375,
          150.21749877929688,
          152.30654907226562,
          154.59869384765625,
          156.2911834716797,
          155.6625213623047,
          152.67405700683594,
          152.32589721679688,
          152.04542541503906,
          154.53099060058594,
          154.72439575195312,
          154.03773498535156,
          154.6083526611328,
          156.1654510498047,
          157.55816650390625,
          157.98370361328125,
          158.6123504638672,
          158.66070556640625,
          156.75543212890625,
          156.5909881591797,
          155.96234130859375,
          153.4187774658203,
          156.19448852539062,
          155.5755157470703,
          154.40525817871094,
          153.0802459716797,
          154.62770080566406,
          153.4574432373047,
          153.51547241210938,
          150.94287109375,
          148.35089111328125,
          146.90017700195312,
          145.6042022705078,
          148.10911560058594,
          149.16329956054688,
          148.2445068359375,
          149.05690002441406,
          148.75711059570312,
          149.4051055908203,
          148.43795776367188,
          150.28517150878906,
          150.19813537597656,
          150.72039794921875,
          150.77842712402344,
          151.4071044921875,
          150.8751678466797,
          151.8326416015625,
          154.62770080566406,
          155.1983184814453,
          154.5116424560547,
          150.85580444335938,
          151.11695861816406,
          151.03958129882812,
          151.9390106201172,
          151.2716827392578,
          152.2388153076172,
          157.69354248046875,
          161.2429962158203,
          163.48675537109375,
          161.4073944091797,
          162.5873260498047,
          166.83311462402344,
          168.52561950683594,
          169.0672149658203,
          170.45025634765625,
          170.1020965576172,
          169.53909301757812,
          168.8596649169922,
          166.30690002441406,
          164.11328125,
          166.073974609375,
          165.15187072753906,
          164.9868927001953,
          168.0540313720703,
          169.82058715820312,
          169.83030700683594,
          168.97613525390625,
          167.98609924316406,
          164.5015869140625,
          166.8019561767578,
          166.0254364013672,
          164.8121337890625,
          164.65684509277344,
          164.04537963867188,
          164.34629821777344,
          164.394775390625,
          167.5978546142578,
          166.65635681152344,
          167.20960998535156,
          167.1610565185547,
          168.8596649169922,
          171.2377166748047,
          169.41290283203125,
          169.22850036621094,
          169.86911010742188,
          169.86911010742188,
          165.55955505371094,
          165.5886688232422,
          166.05458068847656,
          164.25889587402344,
          167.19989013671875,
          167.1707763671875,
          167.947265625,
          169.85940551757812,
          169.22850036621094,
          169.20909118652344,
          169.17025756835938,
          170.1311798095703,
          171.88803100585938,
          171.01446533203125,
          173.83900451660156,
          173.99429321289062,
          173.21778869628906,
          171.80067443847656,
          171.83949279785156,
          169.10232543945312,
          166.08367919921875,
          166.471923828125,
          163.02621459960938,
          162.06527709960938,
          162.51177978515625,
          162.8514862060547,
          155.78536987304688,
          151.89312744140625,
          158.2410125732422,
          154.85353088378906,
          150.59249877929688,
          152.43446350097656,
          158.57432556152344,
          160.16290283203125,
          163.1158905029297,
          168.59303283691406,
          168.04727172851562,
          167.48202514648438,
          166.7218475341797,
          168.11550903320312,
          171.03924560546875,
          174.42103576660156,
          173.85580444335938,
          173.59266662597656,
          170.55194091796875,
          171.73118591308594,
          172.32571411132812,
          172.17950439453125,
          170.58120727539062,
          172.44264221191406,
          175.40536499023438,
          177.10113525390625,
          175.3956298828125,
          173.9044952392578,
          174.10916137695312,
          173.4951934814453,
          170.84434509277344,
          170.78585815429688,
          166.916748046875,
          164.5582733154297,
          160.7476348876953,
          168.378662109375,
          164.06121826171875,
          162.24851989746094,
          163.5154571533203,
          162.44342041015625,
          164.10997009277344,
          167.2481231689453,
          168.40786743164062,
          164.10023498535156,
          165.727783203125,
          168.84645080566406,
          168.05702209472656,
          169.7138214111328,
          170.28880310058594,
          171.3511199951172,
          173.7095947265625,
          173.31976318359375,
          168.40786743164062,
          161.5078125,
          161.0400390625,
          158.79849243164062,
          159.4904327392578,
          160.04595947265625,
          158.19424438476562,
          161.05950927734375,
          164.80189514160156,
          172.08206176757812,
          172.39390563964844,
          179.1575164794922,
          180.45372009277344,
          181.3210906982422,
          182.5977935791016,
          185.2096710205078,
          184.50526428222656,
          184.0747985839844,
          182.4018402099609,
          184.1041412353516,
          182.9399261474609,
          182.27464294433597,
          183.56607055664062,
          183.1062164306641,
          184.2802734375,
          184.0747985839844,
          184.49549865722656,
          183.83023071289062,
          183.4388885498047,
          182.822509765625,
          186.1195068359375,
          187.6750946044922,
          189.1230316162109,
          189.7785186767578,
          189.26980590820312,
          187.54791259765625,
          187.0880889892578,
          188.11534118652344,
          186.56956481933597,
          186.6674041748047,
          184.74986267089844,
          184.65200805664062,
          181.66807556152344,
          182.4605407714844,
          181.4430694580078,
          180.9147491455078,
          178.22430419921875,
          180.4353790283203,
          180.1712188720703,
          181.48220825195312,
          181.10064697265625,
          183.1258087158203,
          179.93641662597656,
          181.3843536376953,
          183.898681640625,
          186.45216369628903,
          186.2271728515625,
          183.8106384277344,
          186.8924102783203,
          187.18589782714844,
          186.7750244140625,
          187.3032989501953,
          186.2760467529297,
          187.7240295410156,
          187.29356384277344,
          187.4598388671875,
          188.8197479248047,
          190.600341796875,
          190.0035400390625,
          186.8435211181641,
          185.7966766357422,
          186.16842651367188,
          197.1356506347656,
          202.8980712890625,
          203.4850616455078,
          204.5416717529297,
          202.62413024902344,
          202.76112365722656,
          204.35580444335938,
          203.7471008300781,
          205.0626678466797,
          205.9266662597656,
          206.40771484375,
          209.43157958984372,
          213.6138916015625,
          211.53256225585938,
          211.1202087402344,
          211.13003540039062,
          211.56201171875,
          212.2198028564453,
          213.96734619140625,
          215.6952667236328,
          218.9154815673828,
          220.9281005859375,
          223.480712890625,
          224.19741821289062,
          222.73458862304688,
          219.03330993652344,
          217.26611328125,
          214.3502349853516,
          219.76963806152344,
          217.0402984619141,
          222.282958984375,
          219.7598114013672,
          213.908447265625,
          214.2618865966797,
          214.38949584960938,
          216.01927185058597,
          213.6924591064453,
          216.7653961181641,
          218.13987731933597,
          216.4021453857422,
          220.84957885742188,
          221.6251678466797,
          223.11746215820312,
          225.10064697265625,
          227.8397979736328,
          223.83416748046875,
          220.20159912109372,
          219.69110107421875,
          222.73458862304688,
          212.4161529541016,
          210.5409698486328,
          218.06134033203125,
          213.39791870117188,
          218.10060119628903,
          217.1581115722656,
          212.0823516845703,
          215.31236267089844,
          216.62794494628903,
          218.67002868652344,
          211.16929626464844,
          215.79345703125,
          212.35723876953125,
          208.3712615966797,
          209.41192626953125,
          214.8705902099609,
          218.1693420410156,
          203.697998046875,
          197.91537475585938,
          200.0556488037109,
          206.12298583984372,
          205.40380859375,
          201.44329833984372,
          191.29576110839844,
          189.3844757080078,
          184.03488159179688,
          188.57662963867188,
          190.6652374267578,
          183.10877990722656,
          174.36024475097656,
          174.16319274902344,
          169.73965454101562,
          172.03517150878906,
          171.66079711914062,
          178.26162719726562,
          176.89219665527344,
          175.93655395507812,
          182.0841827392578,
          174.0745391845703,
          172.13368225097656,
          165.9959259033203,
          167.0894775390625,
          166.13385009765625,
          166.5968780517578,
          168.4194793701172,
          163.03045654296875,
          161.5132598876953,
          163.6117401123047,
          158.50840759277344,
          154.5084991455078,
          148.49879455566406,
          144.6565399169922,
          154.84347534179688,
          153.83856201171875,
          153.91738891601562,
          155.40504455566406,
          155.58236694335938,
          140.08522033691406,
          146.0653533935547,
          145.74026489257812,
          148.5185089111328,
          151.0406036376953,
          151.52337646484375,
          150.03570556640625,
          147.77960205078125,
          150.80416870117188,
          152.646484375,
          153.55287170410156,
          154.4986572265625,
          151.03077697753906,
          151.64158630371094,
          150.43963623046875,
          155.42474365234375,
          153.98635864257812,
          152.39031982421875,
          162.80386352539062,
          163.9762420654297,
          164.05506896972656,
          168.7150421142578,
          171.6016845703125,
          171.66079711914062,
          168.40965270996094,
          168.60752868652344,
          167.63787841796875,
          169.0824432373047,
          168.37994384765625,
          168.993408203125,
          168.617431640625,
          169.12200927734375,
          170.21038818359375,
          169.2506561279297,
          171.14044189453125,
          172.38711547851562,
          172.48605346679688,
          173.0203399658203,
          171.31854248046875,
          173.11927795410156,
          173.989990234375,
          173.67337036132812,
          172.67405700683594,
          170.6754150390625,
          171.08108520507812,
          177.00770568847656,
          178.99647521972656,
          179.78799438476562,
          181.78662109375,
          184.15133666992188,
          186.03126525878903,
          184.55702209472656,
          186.16978454589844,
          193.0264587402344,
          189.0292053222656,
          186.7436370849609,
          184.8142547607422,
          186.4764862060547,
          186.72384643554688,
          187.9408416748047,
          189.2172088623047,
          191.9678039550781,
          193.2837371826172,
          193.6201171875,
          194.916259765625,
          197.9834747314453,
          197.38983154296875,
          198.4979705810547,
          196.84564208984372,
          196.76649475097656,
          197.1226806640625,
          197.14247131347656,
          200.9814453125,
          201.70372009277344,
          202.36663818359372,
          205.2854156494141,
          204.96881103515625,
          203.10870361328125,
          202.1390686035156,
          202.4457855224609,
          198.5474548339844,
          208.29327392578125,
          206.9377593994141,
          209.51026916503903,
          206.2748565673828,
          200.71429443359372,
          200.7538604736328,
          198.596923828125,
          195.84567260742188,
          184.46324157714844,
          187.3833312988281,
          189.62803649902344,
          188.79373168945312,
          187.72103881835938,
          181.8510284423828,
          185.3372802734375,
          181.54312133789062,
          178.44424438476562,
          177.7589111328125,
          177.02391052246094,
          176.17965698242188,
          177.09344482421875,
          173.8852996826172,
          172.1272735595703,
          178.42437744140625,
          181.3047332763672,
          183.96661376953125,
          188.86325073242188,
          191.2768096923828,
          193.49171447753903,
          192.87591552734372,
          192.83616638183597,
          191.43572998046875,
          192.57794189453125,
          197.10708618164062,
          196.531005859375,
          198.11024475097656,
          197.43484497070312,
          197.2362060546875,
          194.24658203125,
          198.4479522705078,
          198.38836669921875,
          196.5806579589844,
          200.1861114501953,
          201.3581085205078,
          203.02674865722656,
          202.84796142578125,
          198.6664581298828,
          199.8782196044922,
          201.854736328125,
          200.3847503662109,
          201.9242706298828,
          203.82135009765625,
          203.1161346435547,
          201.9739227294922,
          204.26829528808597,
          201.2190704345703,
          205.81773376464844,
          207.4267578125,
          207.2579345703125,
          205.6190948486328,
          206.33421325683597,
          208.26107788085938,
          207.3671722412109,
          211.59835815429688,
          207.01953125,
          202.63938903808597,
          192.0316467285156,
          195.66688537597656,
          197.69308471679688,
          202.05337524414062,
          200.3883819580078,
          199.87989807128903,
          208.3444976806641,
          202.1431121826172,
          201.1361389160156,
          205.8818817138672,
          209.72036743164062,
          209.73033142089844,
          212.0035095214844,
          211.8240509033203,
          202.033447265625,
          205.87191772460938,
          203.54888916015625,
          204.914794921875,
          208.3843688964844,
          208.1151885986328,
          205.0842742919922,
          208.5638427734375,
          212.6415863037109,
          212.62164306640625,
          213.5289306640625,
          216.0513458251953,
          222.9207305908203,
          222.42222595214844,
          218.09521484375,
          219.2417755126953,
          220.0393829345703,
          222.1031951904297,
          220.29861450195312,
          217.0782623291016,
          218.0653076171875,
          217.0284118652344,
          220.36839294433597,
          219.2318115234375,
          218.1650238037109,
          223.29959106445312,
          223.9177398681641,
          218.3045959472656,
          220.15902709960938,
          226.3304901123047,
          226.38034057617188,
          223.72830200195312,
          226.35043334960938,
          229.4012756347656,
          235.5029602050781,
          235.1639709472656,
          234.6156311035156,
          233.66845703125,
          234.57574462890625,
          235.70236206054688,
          239.7900848388672,
          239.2417449951172,
          242.45208740234372,
          242.85089111328125,
          245.8419189453125,
          248.3045196533203,
          242.56175231933597,
          242.53184509277344,
          248.015380859375,
          255.05426025390625,
          256.72921752929693,
          256.3603515625,
          256.47000122070307,
          259.42999267578125,
          260.1400146484375,
          262.20001220703125,
          261.95999145507807,
          264.47000122070307,
          262.6400146484375,
          265.760009765625,
          267.10000610351557,
          266.29000854492193,
          263.19000244140625,
          262.010009765625,
          261.77999877929693,
          266.3699951171875,
          264.29000854492193,
          267.83999633789057,
          267.25,
          264.16000366210943,
          259.45001220703125,
          261.739990234375,
          265.57998657226557,
          270.70999145507807,
          266.92001342773443,
          268.48001098632807,
          270.76998901367193,
          271.45999145507807,
          275.14999389648443,
          279.8599853515625,
          280.41000366210943,
          279.739990234375,
          280.01998901367193,
          279.44000244140625,
          284,
          284.2699890136719,
          289.9100036621094,
          289.79998779296875,
          291.5199890136719,
          293.6499938964844
         ]
        }
       ],
       "layout": {
        "legend": {
         "font": {
          "size": 16
         },
         "y": 0.5
        },
        "template": {
         "data": {
          "bar": [
           {
            "error_x": {
             "color": "#2a3f5f"
            },
            "error_y": {
             "color": "#2a3f5f"
            },
            "marker": {
             "line": {
              "color": "#E5ECF6",
              "width": 0.5
             }
            },
            "type": "bar"
           }
          ],
          "barpolar": [
           {
            "marker": {
             "line": {
              "color": "#E5ECF6",
              "width": 0.5
             }
            },
            "type": "barpolar"
           }
          ],
          "carpet": [
           {
            "aaxis": {
             "endlinecolor": "#2a3f5f",
             "gridcolor": "white",
             "linecolor": "white",
             "minorgridcolor": "white",
             "startlinecolor": "#2a3f5f"
            },
            "baxis": {
             "endlinecolor": "#2a3f5f",
             "gridcolor": "white",
             "linecolor": "white",
             "minorgridcolor": "white",
             "startlinecolor": "#2a3f5f"
            },
            "type": "carpet"
           }
          ],
          "choropleth": [
           {
            "colorbar": {
             "outlinewidth": 0,
             "ticks": ""
            },
            "type": "choropleth"
           }
          ],
          "contour": [
           {
            "colorbar": {
             "outlinewidth": 0,
             "ticks": ""
            },
            "colorscale": [
             [
              0,
              "#0d0887"
             ],
             [
              0.1111111111111111,
              "#46039f"
             ],
             [
              0.2222222222222222,
              "#7201a8"
             ],
             [
              0.3333333333333333,
              "#9c179e"
             ],
             [
              0.4444444444444444,
              "#bd3786"
             ],
             [
              0.5555555555555556,
              "#d8576b"
             ],
             [
              0.6666666666666666,
              "#ed7953"
             ],
             [
              0.7777777777777778,
              "#fb9f3a"
             ],
             [
              0.8888888888888888,
              "#fdca26"
             ],
             [
              1,
              "#f0f921"
             ]
            ],
            "type": "contour"
           }
          ],
          "contourcarpet": [
           {
            "colorbar": {
             "outlinewidth": 0,
             "ticks": ""
            },
            "type": "contourcarpet"
           }
          ],
          "heatmap": [
           {
            "colorbar": {
             "outlinewidth": 0,
             "ticks": ""
            },
            "colorscale": [
             [
              0,
              "#0d0887"
             ],
             [
              0.1111111111111111,
              "#46039f"
             ],
             [
              0.2222222222222222,
              "#7201a8"
             ],
             [
              0.3333333333333333,
              "#9c179e"
             ],
             [
              0.4444444444444444,
              "#bd3786"
             ],
             [
              0.5555555555555556,
              "#d8576b"
             ],
             [
              0.6666666666666666,
              "#ed7953"
             ],
             [
              0.7777777777777778,
              "#fb9f3a"
             ],
             [
              0.8888888888888888,
              "#fdca26"
             ],
             [
              1,
              "#f0f921"
             ]
            ],
            "type": "heatmap"
           }
          ],
          "heatmapgl": [
           {
            "colorbar": {
             "outlinewidth": 0,
             "ticks": ""
            },
            "colorscale": [
             [
              0,
              "#0d0887"
             ],
             [
              0.1111111111111111,
              "#46039f"
             ],
             [
              0.2222222222222222,
              "#7201a8"
             ],
             [
              0.3333333333333333,
              "#9c179e"
             ],
             [
              0.4444444444444444,
              "#bd3786"
             ],
             [
              0.5555555555555556,
              "#d8576b"
             ],
             [
              0.6666666666666666,
              "#ed7953"
             ],
             [
              0.7777777777777778,
              "#fb9f3a"
             ],
             [
              0.8888888888888888,
              "#fdca26"
             ],
             [
              1,
              "#f0f921"
             ]
            ],
            "type": "heatmapgl"
           }
          ],
          "histogram": [
           {
            "marker": {
             "colorbar": {
              "outlinewidth": 0,
              "ticks": ""
             }
            },
            "type": "histogram"
           }
          ],
          "histogram2d": [
           {
            "colorbar": {
             "outlinewidth": 0,
             "ticks": ""
            },
            "colorscale": [
             [
              0,
              "#0d0887"
             ],
             [
              0.1111111111111111,
              "#46039f"
             ],
             [
              0.2222222222222222,
              "#7201a8"
             ],
             [
              0.3333333333333333,
              "#9c179e"
             ],
             [
              0.4444444444444444,
              "#bd3786"
             ],
             [
              0.5555555555555556,
              "#d8576b"
             ],
             [
              0.6666666666666666,
              "#ed7953"
             ],
             [
              0.7777777777777778,
              "#fb9f3a"
             ],
             [
              0.8888888888888888,
              "#fdca26"
             ],
             [
              1,
              "#f0f921"
             ]
            ],
            "type": "histogram2d"
           }
          ],
          "histogram2dcontour": [
           {
            "colorbar": {
             "outlinewidth": 0,
             "ticks": ""
            },
            "colorscale": [
             [
              0,
              "#0d0887"
             ],
             [
              0.1111111111111111,
              "#46039f"
             ],
             [
              0.2222222222222222,
              "#7201a8"
             ],
             [
              0.3333333333333333,
              "#9c179e"
             ],
             [
              0.4444444444444444,
              "#bd3786"
             ],
             [
              0.5555555555555556,
              "#d8576b"
             ],
             [
              0.6666666666666666,
              "#ed7953"
             ],
             [
              0.7777777777777778,
              "#fb9f3a"
             ],
             [
              0.8888888888888888,
              "#fdca26"
             ],
             [
              1,
              "#f0f921"
             ]
            ],
            "type": "histogram2dcontour"
           }
          ],
          "mesh3d": [
           {
            "colorbar": {
             "outlinewidth": 0,
             "ticks": ""
            },
            "type": "mesh3d"
           }
          ],
          "parcoords": [
           {
            "line": {
             "colorbar": {
              "outlinewidth": 0,
              "ticks": ""
             }
            },
            "type": "parcoords"
           }
          ],
          "pie": [
           {
            "automargin": true,
            "type": "pie"
           }
          ],
          "scatter": [
           {
            "marker": {
             "colorbar": {
              "outlinewidth": 0,
              "ticks": ""
             }
            },
            "type": "scatter"
           }
          ],
          "scatter3d": [
           {
            "line": {
             "colorbar": {
              "outlinewidth": 0,
              "ticks": ""
             }
            },
            "marker": {
             "colorbar": {
              "outlinewidth": 0,
              "ticks": ""
             }
            },
            "type": "scatter3d"
           }
          ],
          "scattercarpet": [
           {
            "marker": {
             "colorbar": {
              "outlinewidth": 0,
              "ticks": ""
             }
            },
            "type": "scattercarpet"
           }
          ],
          "scattergeo": [
           {
            "marker": {
             "colorbar": {
              "outlinewidth": 0,
              "ticks": ""
             }
            },
            "type": "scattergeo"
           }
          ],
          "scattergl": [
           {
            "marker": {
             "colorbar": {
              "outlinewidth": 0,
              "ticks": ""
             }
            },
            "type": "scattergl"
           }
          ],
          "scattermapbox": [
           {
            "marker": {
             "colorbar": {
              "outlinewidth": 0,
              "ticks": ""
             }
            },
            "type": "scattermapbox"
           }
          ],
          "scatterpolar": [
           {
            "marker": {
             "colorbar": {
              "outlinewidth": 0,
              "ticks": ""
             }
            },
            "type": "scatterpolar"
           }
          ],
          "scatterpolargl": [
           {
            "marker": {
             "colorbar": {
              "outlinewidth": 0,
              "ticks": ""
             }
            },
            "type": "scatterpolargl"
           }
          ],
          "scatterternary": [
           {
            "marker": {
             "colorbar": {
              "outlinewidth": 0,
              "ticks": ""
             }
            },
            "type": "scatterternary"
           }
          ],
          "surface": [
           {
            "colorbar": {
             "outlinewidth": 0,
             "ticks": ""
            },
            "colorscale": [
             [
              0,
              "#0d0887"
             ],
             [
              0.1111111111111111,
              "#46039f"
             ],
             [
              0.2222222222222222,
              "#7201a8"
             ],
             [
              0.3333333333333333,
              "#9c179e"
             ],
             [
              0.4444444444444444,
              "#bd3786"
             ],
             [
              0.5555555555555556,
              "#d8576b"
             ],
             [
              0.6666666666666666,
              "#ed7953"
             ],
             [
              0.7777777777777778,
              "#fb9f3a"
             ],
             [
              0.8888888888888888,
              "#fdca26"
             ],
             [
              1,
              "#f0f921"
             ]
            ],
            "type": "surface"
           }
          ],
          "table": [
           {
            "cells": {
             "fill": {
              "color": "#EBF0F8"
             },
             "line": {
              "color": "white"
             }
            },
            "header": {
             "fill": {
              "color": "#C8D4E3"
             },
             "line": {
              "color": "white"
             }
            },
            "type": "table"
           }
          ]
         },
         "layout": {
          "annotationdefaults": {
           "arrowcolor": "#2a3f5f",
           "arrowhead": 0,
           "arrowwidth": 1
          },
          "coloraxis": {
           "colorbar": {
            "outlinewidth": 0,
            "ticks": ""
           }
          },
          "colorscale": {
           "diverging": [
            [
             0,
             "#8e0152"
            ],
            [
             0.1,
             "#c51b7d"
            ],
            [
             0.2,
             "#de77ae"
            ],
            [
             0.3,
             "#f1b6da"
            ],
            [
             0.4,
             "#fde0ef"
            ],
            [
             0.5,
             "#f7f7f7"
            ],
            [
             0.6,
             "#e6f5d0"
            ],
            [
             0.7,
             "#b8e186"
            ],
            [
             0.8,
             "#7fbc41"
            ],
            [
             0.9,
             "#4d9221"
            ],
            [
             1,
             "#276419"
            ]
           ],
           "sequential": [
            [
             0,
             "#0d0887"
            ],
            [
             0.1111111111111111,
             "#46039f"
            ],
            [
             0.2222222222222222,
             "#7201a8"
            ],
            [
             0.3333333333333333,
             "#9c179e"
            ],
            [
             0.4444444444444444,
             "#bd3786"
            ],
            [
             0.5555555555555556,
             "#d8576b"
            ],
            [
             0.6666666666666666,
             "#ed7953"
            ],
            [
             0.7777777777777778,
             "#fb9f3a"
            ],
            [
             0.8888888888888888,
             "#fdca26"
            ],
            [
             1,
             "#f0f921"
            ]
           ],
           "sequentialminus": [
            [
             0,
             "#0d0887"
            ],
            [
             0.1111111111111111,
             "#46039f"
            ],
            [
             0.2222222222222222,
             "#7201a8"
            ],
            [
             0.3333333333333333,
             "#9c179e"
            ],
            [
             0.4444444444444444,
             "#bd3786"
            ],
            [
             0.5555555555555556,
             "#d8576b"
            ],
            [
             0.6666666666666666,
             "#ed7953"
            ],
            [
             0.7777777777777778,
             "#fb9f3a"
            ],
            [
             0.8888888888888888,
             "#fdca26"
            ],
            [
             1,
             "#f0f921"
            ]
           ]
          },
          "colorway": [
           "#636efa",
           "#EF553B",
           "#00cc96",
           "#ab63fa",
           "#FFA15A",
           "#19d3f3",
           "#FF6692",
           "#B6E880",
           "#FF97FF",
           "#FECB52"
          ],
          "font": {
           "color": "#2a3f5f"
          },
          "geo": {
           "bgcolor": "white",
           "lakecolor": "white",
           "landcolor": "#E5ECF6",
           "showlakes": true,
           "showland": true,
           "subunitcolor": "white"
          },
          "hoverlabel": {
           "align": "left"
          },
          "hovermode": "closest",
          "mapbox": {
           "style": "light"
          },
          "paper_bgcolor": "white",
          "plot_bgcolor": "#E5ECF6",
          "polar": {
           "angularaxis": {
            "gridcolor": "white",
            "linecolor": "white",
            "ticks": ""
           },
           "bgcolor": "#E5ECF6",
           "radialaxis": {
            "gridcolor": "white",
            "linecolor": "white",
            "ticks": ""
           }
          },
          "scene": {
           "xaxis": {
            "backgroundcolor": "#E5ECF6",
            "gridcolor": "white",
            "gridwidth": 2,
            "linecolor": "white",
            "showbackground": true,
            "ticks": "",
            "zerolinecolor": "white"
           },
           "yaxis": {
            "backgroundcolor": "#E5ECF6",
            "gridcolor": "white",
            "gridwidth": 2,
            "linecolor": "white",
            "showbackground": true,
            "ticks": "",
            "zerolinecolor": "white"
           },
           "zaxis": {
            "backgroundcolor": "#E5ECF6",
            "gridcolor": "white",
            "gridwidth": 2,
            "linecolor": "white",
            "showbackground": true,
            "ticks": "",
            "zerolinecolor": "white"
           }
          },
          "shapedefaults": {
           "line": {
            "color": "#2a3f5f"
           }
          },
          "ternary": {
           "aaxis": {
            "gridcolor": "white",
            "linecolor": "white",
            "ticks": ""
           },
           "baxis": {
            "gridcolor": "white",
            "linecolor": "white",
            "ticks": ""
           },
           "bgcolor": "#E5ECF6",
           "caxis": {
            "gridcolor": "white",
            "linecolor": "white",
            "ticks": ""
           }
          },
          "title": {
           "x": 0.05
          },
          "xaxis": {
           "automargin": true,
           "gridcolor": "white",
           "linecolor": "white",
           "ticks": "",
           "title": {
            "standoff": 15
           },
           "zerolinecolor": "white",
           "zerolinewidth": 2
          },
          "yaxis": {
           "automargin": true,
           "gridcolor": "white",
           "linecolor": "white",
           "ticks": "",
           "title": {
            "standoff": 15
           },
           "zerolinecolor": "white",
           "zerolinewidth": 2
          }
         }
        }
       }
      },
      "text/html": [
       "<div>\n",
       "        \n",
       "        \n",
       "            <div id=\"5115ae97-c4f0-41c4-bae9-2b31ae278995\" class=\"plotly-graph-div\" style=\"height:525px; width:100%;\"></div>\n",
       "            <script type=\"text/javascript\">\n",
       "                require([\"plotly\"], function(Plotly) {\n",
       "                    window.PLOTLYENV=window.PLOTLYENV || {};\n",
       "                    \n",
       "                if (document.getElementById(\"5115ae97-c4f0-41c4-bae9-2b31ae278995\")) {\n",
       "                    Plotly.newPlot(\n",
       "                        '5115ae97-c4f0-41c4-bae9-2b31ae278995',\n",
       "                        [{\"line\": {\"shape\": \"linear\"}, \"name\": \"IBM\", \"type\": \"scatter\", \"x\": [\"2017-01-03\", \"2017-01-04\", \"2017-01-05\", \"2017-01-06\", \"2017-01-09\", \"2017-01-10\", \"2017-01-11\", \"2017-01-12\", \"2017-01-13\", \"2017-01-17\", \"2017-01-18\", \"2017-01-19\", \"2017-01-20\", \"2017-01-23\", \"2017-01-24\", \"2017-01-25\", \"2017-01-26\", \"2017-01-27\", \"2017-01-30\", \"2017-01-31\", \"2017-02-01\", \"2017-02-02\", \"2017-02-03\", \"2017-02-06\", \"2017-02-07\", \"2017-02-08\", \"2017-02-09\", \"2017-02-10\", \"2017-02-13\", \"2017-02-14\", \"2017-02-15\", \"2017-02-16\", \"2017-02-17\", \"2017-02-21\", \"2017-02-22\", \"2017-02-23\", \"2017-02-24\", \"2017-02-27\", \"2017-02-28\", \"2017-03-01\", \"2017-03-02\", \"2017-03-03\", \"2017-03-06\", \"2017-03-07\", \"2017-03-08\", \"2017-03-09\", \"2017-03-10\", \"2017-03-13\", \"2017-03-14\", \"2017-03-15\", \"2017-03-16\", \"2017-03-17\", \"2017-03-20\", \"2017-03-21\", \"2017-03-22\", \"2017-03-23\", \"2017-03-24\", \"2017-03-27\", \"2017-03-28\", \"2017-03-29\", \"2017-03-30\", \"2017-03-31\", \"2017-04-03\", \"2017-04-04\", \"2017-04-05\", \"2017-04-06\", \"2017-04-07\", \"2017-04-10\", \"2017-04-11\", \"2017-04-12\", \"2017-04-13\", \"2017-04-17\", \"2017-04-18\", \"2017-04-19\", \"2017-04-20\", \"2017-04-21\", \"2017-04-24\", \"2017-04-25\", \"2017-04-26\", \"2017-04-27\", \"2017-04-28\", \"2017-05-01\", \"2017-05-02\", \"2017-05-03\", \"2017-05-04\", \"2017-05-05\", \"2017-05-08\", \"2017-05-09\", \"2017-05-10\", \"2017-05-11\", \"2017-05-12\", \"2017-05-15\", \"2017-05-16\", \"2017-05-17\", \"2017-05-18\", \"2017-05-19\", \"2017-05-22\", \"2017-05-23\", \"2017-05-24\", \"2017-05-25\", \"2017-05-26\", \"2017-05-30\", \"2017-05-31\", \"2017-06-01\", \"2017-06-02\", \"2017-06-05\", \"2017-06-06\", \"2017-06-07\", \"2017-06-08\", \"2017-06-09\", \"2017-06-12\", \"2017-06-13\", \"2017-06-14\", \"2017-06-15\", \"2017-06-16\", \"2017-06-19\", \"2017-06-20\", \"2017-06-21\", \"2017-06-22\", \"2017-06-23\", \"2017-06-26\", \"2017-06-27\", \"2017-06-28\", \"2017-06-29\", \"2017-06-30\", \"2017-07-03\", \"2017-07-05\", \"2017-07-06\", \"2017-07-07\", \"2017-07-10\", \"2017-07-11\", \"2017-07-12\", \"2017-07-13\", \"2017-07-14\", \"2017-07-17\", \"2017-07-18\", \"2017-07-19\", \"2017-07-20\", \"2017-07-21\", \"2017-07-24\", \"2017-07-25\", \"2017-07-26\", \"2017-07-27\", \"2017-07-28\", \"2017-07-31\", \"2017-08-01\", \"2017-08-02\", \"2017-08-03\", \"2017-08-04\", \"2017-08-07\", \"2017-08-08\", \"2017-08-09\", \"2017-08-10\", \"2017-08-11\", \"2017-08-14\", \"2017-08-15\", \"2017-08-16\", \"2017-08-17\", \"2017-08-18\", \"2017-08-21\", \"2017-08-22\", \"2017-08-23\", \"2017-08-24\", \"2017-08-25\", \"2017-08-28\", \"2017-08-29\", \"2017-08-30\", \"2017-08-31\", \"2017-09-01\", \"2017-09-05\", \"2017-09-06\", \"2017-09-07\", \"2017-09-08\", \"2017-09-11\", \"2017-09-12\", \"2017-09-13\", \"2017-09-14\", \"2017-09-15\", \"2017-09-18\", \"2017-09-19\", \"2017-09-20\", \"2017-09-21\", \"2017-09-22\", \"2017-09-25\", \"2017-09-26\", \"2017-09-27\", \"2017-09-28\", \"2017-09-29\", \"2017-10-02\", \"2017-10-03\", \"2017-10-04\", \"2017-10-05\", \"2017-10-06\", \"2017-10-09\", \"2017-10-10\", \"2017-10-11\", \"2017-10-12\", \"2017-10-13\", \"2017-10-16\", \"2017-10-17\", \"2017-10-18\", \"2017-10-19\", \"2017-10-20\", \"2017-10-23\", \"2017-10-24\", \"2017-10-25\", \"2017-10-26\", \"2017-10-27\", \"2017-10-30\", \"2017-10-31\", \"2017-11-01\", \"2017-11-02\", \"2017-11-03\", \"2017-11-06\", \"2017-11-07\", \"2017-11-08\", \"2017-11-09\", \"2017-11-10\", \"2017-11-13\", \"2017-11-14\", \"2017-11-15\", \"2017-11-16\", \"2017-11-17\", \"2017-11-20\", \"2017-11-21\", \"2017-11-22\", \"2017-11-24\", \"2017-11-27\", \"2017-11-28\", \"2017-11-29\", \"2017-11-30\", \"2017-12-01\", \"2017-12-04\", \"2017-12-05\", \"2017-12-06\", \"2017-12-07\", \"2017-12-08\", \"2017-12-11\", \"2017-12-12\", \"2017-12-13\", \"2017-12-14\", \"2017-12-15\", \"2017-12-18\", \"2017-12-19\", \"2017-12-20\", \"2017-12-21\", \"2017-12-22\", \"2017-12-26\", \"2017-12-27\", \"2017-12-28\", \"2017-12-29\", \"2018-01-02\", \"2018-01-03\", \"2018-01-04\", \"2018-01-05\", \"2018-01-08\", \"2018-01-09\", \"2018-01-10\", \"2018-01-11\", \"2018-01-12\", \"2018-01-16\", \"2018-01-17\", \"2018-01-18\", \"2018-01-19\", \"2018-01-22\", \"2018-01-23\", \"2018-01-24\", \"2018-01-25\", \"2018-01-26\", \"2018-01-29\", \"2018-01-30\", \"2018-01-31\", \"2018-02-01\", \"2018-02-02\", \"2018-02-05\", \"2018-02-06\", \"2018-02-07\", \"2018-02-08\", \"2018-02-09\", \"2018-02-12\", \"2018-02-13\", \"2018-02-14\", \"2018-02-15\", \"2018-02-16\", \"2018-02-20\", \"2018-02-21\", \"2018-02-22\", \"2018-02-23\", \"2018-02-26\", \"2018-02-27\", \"2018-02-28\", \"2018-03-01\", \"2018-03-02\", \"2018-03-05\", \"2018-03-06\", \"2018-03-07\", \"2018-03-08\", \"2018-03-09\", \"2018-03-12\", \"2018-03-13\", \"2018-03-14\", \"2018-03-15\", \"2018-03-16\", \"2018-03-19\", \"2018-03-20\", \"2018-03-21\", \"2018-03-22\", \"2018-03-23\", \"2018-03-26\", \"2018-03-27\", \"2018-03-28\", \"2018-03-29\", \"2018-04-02\", \"2018-04-03\", \"2018-04-04\", \"2018-04-05\", \"2018-04-06\", \"2018-04-09\", \"2018-04-10\", \"2018-04-11\", \"2018-04-12\", \"2018-04-13\", \"2018-04-16\", \"2018-04-17\", \"2018-04-18\", \"2018-04-19\", \"2018-04-20\", \"2018-04-23\", \"2018-04-24\", \"2018-04-25\", \"2018-04-26\", \"2018-04-27\", \"2018-04-30\", \"2018-05-01\", \"2018-05-02\", \"2018-05-03\", \"2018-05-04\", \"2018-05-07\", \"2018-05-08\", \"2018-05-09\", \"2018-05-10\", \"2018-05-11\", \"2018-05-14\", \"2018-05-15\", \"2018-05-16\", \"2018-05-17\", \"2018-05-18\", \"2018-05-21\", \"2018-05-22\", \"2018-05-23\", \"2018-05-24\", \"2018-05-25\", \"2018-05-29\", \"2018-05-30\", \"2018-05-31\", \"2018-06-01\", \"2018-06-04\", \"2018-06-05\", \"2018-06-06\", \"2018-06-07\", \"2018-06-08\", \"2018-06-11\", \"2018-06-12\", \"2018-06-13\", \"2018-06-14\", \"2018-06-15\", \"2018-06-18\", \"2018-06-19\", \"2018-06-20\", \"2018-06-21\", \"2018-06-22\", \"2018-06-25\", \"2018-06-26\", \"2018-06-27\", \"2018-06-28\", \"2018-06-29\", \"2018-07-02\", \"2018-07-03\", \"2018-07-05\", \"2018-07-06\", \"2018-07-09\", \"2018-07-10\", \"2018-07-11\", \"2018-07-12\", \"2018-07-13\", \"2018-07-16\", \"2018-07-17\", \"2018-07-18\", \"2018-07-19\", \"2018-07-20\", \"2018-07-23\", \"2018-07-24\", \"2018-07-25\", \"2018-07-26\", \"2018-07-27\", \"2018-07-30\", \"2018-07-31\", \"2018-08-01\", \"2018-08-02\", \"2018-08-03\", \"2018-08-06\", \"2018-08-07\", \"2018-08-08\", \"2018-08-09\", \"2018-08-10\", \"2018-08-13\", \"2018-08-14\", \"2018-08-15\", \"2018-08-16\", \"2018-08-17\", \"2018-08-20\", \"2018-08-21\", \"2018-08-22\", \"2018-08-23\", \"2018-08-24\", \"2018-08-27\", \"2018-08-28\", \"2018-08-29\", \"2018-08-30\", \"2018-08-31\", \"2018-09-04\", \"2018-09-05\", \"2018-09-06\", \"2018-09-07\", \"2018-09-10\", \"2018-09-11\", \"2018-09-12\", \"2018-09-13\", \"2018-09-14\", \"2018-09-17\", \"2018-09-18\", \"2018-09-19\", \"2018-09-20\", \"2018-09-21\", \"2018-09-24\", \"2018-09-25\", \"2018-09-26\", \"2018-09-27\", \"2018-09-28\", \"2018-10-01\", \"2018-10-02\", \"2018-10-03\", \"2018-10-04\", \"2018-10-05\", \"2018-10-08\", \"2018-10-09\", \"2018-10-10\", \"2018-10-11\", \"2018-10-12\", \"2018-10-15\", \"2018-10-16\", \"2018-10-17\", \"2018-10-18\", \"2018-10-19\", \"2018-10-22\", \"2018-10-23\", \"2018-10-24\", \"2018-10-25\", \"2018-10-26\", \"2018-10-29\", \"2018-10-30\", \"2018-10-31\", \"2018-11-01\", \"2018-11-02\", \"2018-11-05\", \"2018-11-06\", \"2018-11-07\", \"2018-11-08\", \"2018-11-09\", \"2018-11-12\", \"2018-11-13\", \"2018-11-14\", \"2018-11-15\", \"2018-11-16\", \"2018-11-19\", \"2018-11-20\", \"2018-11-21\", \"2018-11-23\", \"2018-11-26\", \"2018-11-27\", \"2018-11-28\", \"2018-11-29\", \"2018-11-30\", \"2018-12-03\", \"2018-12-04\", \"2018-12-06\", \"2018-12-07\", \"2018-12-10\", \"2018-12-11\", \"2018-12-12\", \"2018-12-13\", \"2018-12-14\", \"2018-12-17\", \"2018-12-18\", \"2018-12-19\", \"2018-12-20\", \"2018-12-21\", \"2018-12-24\", \"2018-12-26\", \"2018-12-27\", \"2018-12-28\", \"2018-12-31\", \"2019-01-02\", \"2019-01-03\", \"2019-01-04\", \"2019-01-07\", \"2019-01-08\", \"2019-01-09\", \"2019-01-10\", \"2019-01-11\", \"2019-01-14\", \"2019-01-15\", \"2019-01-16\", \"2019-01-17\", \"2019-01-18\", \"2019-01-22\", \"2019-01-23\", \"2019-01-24\", \"2019-01-25\", \"2019-01-28\", \"2019-01-29\", \"2019-01-30\", \"2019-01-31\", \"2019-02-01\", \"2019-02-04\", \"2019-02-05\", \"2019-02-06\", \"2019-02-07\", \"2019-02-08\", \"2019-02-11\", \"2019-02-12\", \"2019-02-13\", \"2019-02-14\", \"2019-02-15\", \"2019-02-19\", \"2019-02-20\", \"2019-02-21\", \"2019-02-22\", \"2019-02-25\", \"2019-02-26\", \"2019-02-27\", \"2019-02-28\", \"2019-03-01\", \"2019-03-04\", \"2019-03-05\", \"2019-03-06\", \"2019-03-07\", \"2019-03-08\", \"2019-03-11\", \"2019-03-12\", \"2019-03-13\", \"2019-03-14\", \"2019-03-15\", \"2019-03-18\", \"2019-03-19\", \"2019-03-20\", \"2019-03-21\", \"2019-03-22\", \"2019-03-25\", \"2019-03-26\", \"2019-03-27\", \"2019-03-28\", \"2019-03-29\", \"2019-04-01\", \"2019-04-02\", \"2019-04-03\", \"2019-04-04\", \"2019-04-05\", \"2019-04-08\", \"2019-04-09\", \"2019-04-10\", \"2019-04-11\", \"2019-04-12\", \"2019-04-15\", \"2019-04-16\", \"2019-04-17\", \"2019-04-18\", \"2019-04-22\", \"2019-04-23\", \"2019-04-24\", \"2019-04-25\", \"2019-04-26\", \"2019-04-29\", \"2019-04-30\", \"2019-05-01\", \"2019-05-02\", \"2019-05-03\", \"2019-05-06\", \"2019-05-07\", \"2019-05-08\", \"2019-05-09\", \"2019-05-10\", \"2019-05-13\", \"2019-05-14\", \"2019-05-15\", \"2019-05-16\", \"2019-05-17\", \"2019-05-20\", \"2019-05-21\", \"2019-05-22\", \"2019-05-23\", \"2019-05-24\", \"2019-05-28\", \"2019-05-29\", \"2019-05-30\", \"2019-05-31\", \"2019-06-03\", \"2019-06-04\", \"2019-06-05\", \"2019-06-06\", \"2019-06-07\", \"2019-06-10\", \"2019-06-11\", \"2019-06-12\", \"2019-06-13\", \"2019-06-14\", \"2019-06-17\", \"2019-06-18\", \"2019-06-19\", \"2019-06-20\", \"2019-06-21\", \"2019-06-24\", \"2019-06-25\", \"2019-06-26\", \"2019-06-27\", \"2019-06-28\", \"2019-07-01\", \"2019-07-02\", \"2019-07-03\", \"2019-07-05\", \"2019-07-08\", \"2019-07-09\", \"2019-07-10\", \"2019-07-11\", \"2019-07-12\", \"2019-07-15\", \"2019-07-16\", \"2019-07-17\", \"2019-07-18\", \"2019-07-19\", \"2019-07-22\", \"2019-07-23\", \"2019-07-24\", \"2019-07-25\", \"2019-07-26\", \"2019-07-29\", \"2019-07-30\", \"2019-07-31\", \"2019-08-01\", \"2019-08-02\", \"2019-08-05\", \"2019-08-06\", \"2019-08-07\", \"2019-08-08\", \"2019-08-09\", \"2019-08-12\", \"2019-08-13\", \"2019-08-14\", \"2019-08-15\", \"2019-08-16\", \"2019-08-19\", \"2019-08-20\", \"2019-08-21\", \"2019-08-22\", \"2019-08-23\", \"2019-08-26\", \"2019-08-27\", \"2019-08-28\", \"2019-08-29\", \"2019-08-30\", \"2019-09-03\", \"2019-09-04\", \"2019-09-05\", \"2019-09-06\", \"2019-09-09\", \"2019-09-10\", \"2019-09-11\", \"2019-09-12\", \"2019-09-13\", \"2019-09-16\", \"2019-09-17\", \"2019-09-18\", \"2019-09-19\", \"2019-09-20\", \"2019-09-23\", \"2019-09-24\", \"2019-09-25\", \"2019-09-26\", \"2019-09-27\", \"2019-09-30\", \"2019-10-01\", \"2019-10-02\", \"2019-10-03\", \"2019-10-04\", \"2019-10-07\", \"2019-10-08\", \"2019-10-09\", \"2019-10-10\", \"2019-10-11\", \"2019-10-14\", \"2019-10-15\", \"2019-10-16\", \"2019-10-17\", \"2019-10-18\", \"2019-10-21\", \"2019-10-22\", \"2019-10-23\", \"2019-10-24\", \"2019-10-25\", \"2019-10-28\", \"2019-10-29\", \"2019-10-30\", \"2019-10-31\", \"2019-11-01\", \"2019-11-04\", \"2019-11-05\", \"2019-11-06\", \"2019-11-07\", \"2019-11-08\", \"2019-11-11\", \"2019-11-12\", \"2019-11-13\", \"2019-11-14\", \"2019-11-15\", \"2019-11-18\", \"2019-11-19\", \"2019-11-20\", \"2019-11-21\", \"2019-11-22\", \"2019-11-25\", \"2019-11-26\", \"2019-11-27\", \"2019-11-29\", \"2019-12-02\", \"2019-12-03\", \"2019-12-04\", \"2019-12-05\", \"2019-12-06\", \"2019-12-09\", \"2019-12-10\", \"2019-12-11\", \"2019-12-12\", \"2019-12-13\", \"2019-12-16\", \"2019-12-17\", \"2019-12-18\", \"2019-12-19\", \"2019-12-20\", \"2019-12-23\", \"2019-12-24\", \"2019-12-26\", \"2019-12-27\", \"2019-12-30\", \"2019-12-31\"], \"y\": [146.93508911132812, 148.75430297851562, 148.2621307373047, 148.9915771484375, 147.33934020996094, 145.46739196777344, 147.42721557617188, 147.60302734375, 147.06689453125, 147.55026245117188, 146.59230041503906, 146.60110473632812, 149.88800048828125, 150.30987548828125, 154.58985900878906, 156.69029235839844, 157.01547241210938, 155.8202362060547, 154.50201416015625, 153.37705993652344, 153.17489624023438, 153.42979431152344, 154.51954650878906, 154.55467224121094, 156.83973693847656, 156.05136108398438, 156.97262573242188, 158.2747039794922, 158.87705993652344, 159.55911254882812, 160.93211364746094, 160.71063232421875, 160.03744506835938, 159.67430114746094, 160.46263122558594, 160.9055633544922, 160.63980102539062, 158.9124755859375, 159.28453063964844, 161.17129516601562, 159.9134521484375, 159.48825073242188, 159.86032104492188, 159.78057861328125, 158.95677185058594, 156.94601440429688, 157.52178955078125, 156.30824279785156, 155.65274047851562, 155.7324676513672, 156.99913024902344, 155.59075927734375, 155.63504028320312, 154.02288818359375, 154.8201141357422, 154.85556030273438, 153.9785919189453, 153.92544555664062, 154.58091735839844, 154.07603454589844, 154.00515747070312, 154.253173828125, 154.5720672607422, 154.5897979736328, 153.13706970214844, 152.7561798095703, 152.48159790039062, 151.64892578125, 151.09976196289062, 151.1705780029297, 150.16964721679688, 151.5603485107422, 150.63027954101562, 143.22496032714844, 143.76531982421875, 142.0645751953125, 142.39230346679688, 142.07347106933594, 141.78111267089844, 142.01144409179688, 141.98484802246094, 140.700439453125, 140.93075561523438, 140.51441955566406, 140.88645935058594, 137.34326171875, 136.87812805175778, 136.05523681640622, 135.28604125976562, 134.74935913085938, 134.4989013671875, 135.51858520507812, 137.45953369140622, 134.99978637695312, 134.86563110351562, 135.93899536132812, 136.52931213378906, 135.98370361328122, 136.41304016113278, 137.03021240234378, 136.3951416015625, 135.71533203125, 136.52040100097656, 136.55615234375, 136.00157165527344, 136.3236083984375, 136.28779602050778, 135.04452514648438, 136.04629516601562, 137.83522033691406, 138.80120849609378, 137.96939086914062, 137.57582092285156, 137.94253540039062, 138.98011779785156, 138.49711608886722, 138.59550476074222, 137.55792236328122, 138.10354614257812, 137.84416198730472, 138.845947265625, 138.41659545898438, 138.92646789550778, 137.86207580566406, 137.59371948242188, 139.15898132324222, 137.45059204101562, 136.27888488769528, 136.79766845703122, 137.22697448730472, 137.02127075195312, 137.47743225097656, 137.41484069824222, 137.96044921875, 136.86026000976562, 137.74574279785156, 131.95863342285156, 132.07493591308594, 131.55615234375, 130.58123779296878, 130.76011657714844, 130.01768493652344, 129.75833129882812, 129.06062316894528, 129.4005126953125, 129.96403503417972, 129.2037353515625, 129.64202880859378, 129.83882141113278, 128.32716369628906, 128.4537353515625, 128.14640808105472, 128.20964050292972, 128.20964050292972, 128.6435546875, 128.4176025390625, 128.80624389648438, 127.17921447753906, 126.27532958984376, 126.84475708007812, 127.45941925048828, 128.4808349609375, 129.20394897460938, 129.92707824707028, 128.81527709960938, 129.38475036621094, 128.86048889160156, 129.28530883789062, 130.23442077636722, 129.29435729980472, 129.99942016601562, 129.16780090332028, 128.76106262207028, 130.93943786621094, 131.75294494628906, 131.96089172363278, 131.55412292480472, 130.90330505371094, 130.65924072265622, 130.51461791992188, 131.86143493652344, 131.30104064941406, 131.18351745605472, 131.85237121582028, 132.47610473632812, 131.66259765625, 131.66259765625, 131.13833618164062, 132.56649780273438, 132.67494201660156, 132.40379333496094, 132.6207275390625, 132.40379333496094, 133.22633361816406, 134.22966003417972, 133.43423461914062, 132.90093994140622, 132.96420288085938, 132.72013854980472, 132.45802307128906, 144.19972229003906, 145.4380645751953, 146.49562072753906, 144.2178192138672, 140.9004669189453, 138.74917602539062, 138.83958435058594, 138.91188049316406, 139.52653503417972, 139.25537109375, 139.228271484375, 138.61360168457028, 137.01368713378906, 136.34478759765622, 136.80577087402344, 137.004638671875, 137.21463012695312, 136.17387390136722, 135.48002624511722, 135.92741394042972, 134.29322814941406, 136.13734436035156, 136.00041198730472, 137.40634155273438, 138.720947265625, 138.55662536621094, 138.62052917480472, 138.74835205078122, 139.19569396972656, 140.18165588378906, 140.56509399414062, 141.28631591796875, 142.83834838867188, 141.82496643066406, 140.68379211425778, 140.19993591308594, 141.3319549560547, 141.8797149658203, 143.0939483642578, 140.51033020019528, 140.59249877929688, 139.22308349609378, 139.9808349609375, 139.88954162597656, 139.63389587402344, 138.31016540527344, 139.22308349609378, 139.52435302734378, 139.79824829101562, 140.62901306152344, 140.06298828125, 140.82073974609375, 144.6916046142578, 147.62213134765625, 148.34335327148438, 149.238037109375, 149.56668090820312, 149.88621520996094, 149.9044952392578, 148.93675231933594, 149.58494567871094, 153.967041015625, 154.39610290527344, 148.23377990722656, 148.44378662109375, 151.77598571777344, 150.97259521484375, 151.0638885498047, 152.77110290527344, 152.27810668945312, 149.3749542236328, 149.44798278808594, 148.2611846923828, 145.18455505371094, 139.25047302246094, 141.81582641601562, 140.45556640625, 136.06718444824222, 137.83729553222656, 139.5797119140625, 138.98048400878906, 142.67739868164062, 143.82981872558594, 143.9865264892578, 143.04615783691406, 141.93988037109375, 141.22073364257812, 143.37806701660156, 146.19918823242188, 144.32765197753906, 143.6638641357422, 141.8015594482422, 142.42849731445312, 144.69639587402344, 143.5624542236328, 145.95948791503906, 144.0142059326172, 146.87216186523438, 147.7480010986328, 146.88137817382812, 145.77508544921875, 147.14874267578125, 147.7480010986328, 145.065185546875, 144.0049591064453, 144.4567108154297, 140.21583557128906, 137.26570129394528, 141.3959197998047, 140.04989624023438, 140.61228942871094, 141.45123291015625, 138.35356140136722, 138.1507568359375, 142.08737182617188, 142.00439453125, 138.81454467773438, 140.76901245117188, 143.2582244873047, 143.2305450439453, 145.72898864746094, 144.4751739501953, 145.5630340576172, 148.34725952148438, 137.17349243164062, 136.16859436035156, 133.58720397949222, 134.47225952148438, 134.1956787109375, 134.5460205078125, 135.26509094238278, 135.04386901855472, 133.64253234863278, 133.67938232421878, 131.3284912109375, 130.90440368652344, 132.67446899414062, 132.03836059570312, 131.83555603027344, 132.93548583984378, 134.45491027832028, 134.3616943359375, 134.51083374023438, 133.98883056640622, 134.81846618652344, 134.697265625, 134.30577087402344, 135.62013244628906, 135.24725341796878, 134.85574340820312, 134.29644775390622, 133.89559936523438, 131.63978576660156, 132.94480895996094, 131.72367858886722, 132.32025146484378, 133.3363037109375, 133.95152282714844, 134.89302062988278, 135.49893188476562, 136.22601318359378, 136.63616943359378, 136.90646362304688, 136.42178344726562, 135.34977722167972, 135.52688598632812, 134.67861938476562, 134.13795471191406, 132.95413208007812, 131.66773986816406, 131.69570922851562, 129.37461853027344, 129.64494323730472, 128.15348815917972, 130.53981018066406, 130.222900390625, 130.37203979492188, 130.10171508789062, 131.83554077148438, 132.81430053710938, 134.59474182128906, 134.89302062988278, 135.107421875, 136.51498413085938, 136.00228881835938, 135.59214782714844, 133.75576782226562, 134.71591186523438, 139.11572265625, 136.42178344726562, 135.81585693359378, 136.44972229003906, 136.67343139648438, 136.75735473632812, 135.30317687988278, 135.62013244628906, 135.09811401367188, 133.76510620117188, 133.26174926757812, 137.68019104003906, 136.12347412109378, 137.03700256347656, 136.92514038085938, 136.40692138671878, 136.13365173339844, 134.46591186523438, 135.07835388183594, 135.59657287597656, 136.94398498535156, 137.62240600585938, 138.04638671875, 137.53758239746094, 136.84977722167972, 136.97224426269528, 137.60353088378906, 138.21598815917972, 138.12176513671878, 139.01687622070312, 137.49989318847656, 138.01811218261722, 137.26431274414062, 138.18772888183594, 137.93333435058594, 137.04762268066406, 137.23606872558594, 138.02754211425778, 138.10293579101562, 140.34542846679688, 139.76124572753906, 139.39378356933594, 139.97798156738278, 140.44908142089844, 142.41835021972656, 142.6068115234375, 141.363037109375, 140.30776977539062, 142.85177612304688, 142.74813842773438, 142.4748992919922, 144.16146850585938, 144.86814880371094, 144.36874389648438, 142.569091796875, 140.42082214355472, 139.81776428222656, 138.73422241210938, 134.44705200195312, 130.98907470703122, 132.71334838867188, 132.97720336914062, 136.73667907714844, 126.30618286132812, 123.00836944580078, 121.64214324951172, 122.5089874267578, 123.6302490234375, 119.86131286621094, 119.1452178955078, 117.58111572265624, 112.72862243652344, 108.73355865478516, 108.76182556152344, 110.08094787597656, 108.98795318603516, 113.12435150146484, 116.0075912475586, 117.6282196044922, 117.73318481445312, 117.88587188720705, 115.36669158935548, 115.30943298339844, 114.69873046875, 115.88198852539062, 116.00602722167969, 114.80369567871094, 111.83602905273438, 113.1433334350586, 111.82649230957031, 114.08802032470705, 114.53650665283205, 117.3705825805664, 115.92015075683594, 118.58245086669922, 119.57486724853516, 116.03465270996094, 118.23893737792969, 113.87808990478516, 115.58616638183594, 115.35714721679688, 115.6147918701172, 115.20448303222656, 114.41246032714844, 110.786376953125, 111.31121063232422, 111.10128021240234, 107.84733581542969, 105.86254119873048, 102.6467742919922, 106.29193878173828, 108.5725555419922, 107.85688018798828, 108.46759033203124, 109.9371109008789, 107.74237060546876, 111.9505386352539, 112.7425537109375, 114.3456573486328, 115.1663055419922, 116.21595764160156, 115.90106201171876, 114.88003540039062, 116.1587142944336, 116.05374145507812, 116.59765625, 118.1530532836914, 116.91254425048828, 126.80792999267578, 126.46440887451172, 127.83850860595705, 128.12480163574222, 128.18202209472656, 128.22975158691406, 128.26791381835938, 127.96257019042969, 129.00267028808594, 129.34619140625, 130.08096313476562, 128.57501220703122, 129.07699584960938, 129.34730529785156, 131.33592224121094, 132.75498962402344, 131.75100708007812, 133.247314453125, 133.89408874511722, 133.21835327148438, 133.06390380859378, 134.425048828125, 134.62776184082028, 134.87873840332028, 134.34780883789062, 133.34385681152344, 134.37675476074222, 133.63345336914062, 133.10250854492188, 132.23368835449222, 130.66983032226562, 130.4091796875, 132.93841552734378, 133.4886474609375, 133.75894165039062, 133.98097229003906, 134.59878540039062, 135.35177612304688, 135.6220703125, 134.76292419433594, 136.53915405273438, 134.61810302734378, 134.35746765136722, 135.36143493652344, 134.41539001464844, 135.07182312011722, 136.21095275878906, 138.334716796875, 138.04510498046878, 138.65327453613278, 137.83271789550778, 138.31541442871094, 138.42160034179688, 137.18594360351562, 138.06440734863278, 138.79808044433594, 139.34832763671878, 138.91390991210938, 140.1109619140625, 134.28990173339844, 135.46762084960938, 134.0775146484375, 135.57380676269528, 135.10076904296878, 133.82652282714844, 134.60845947265622, 134.23197937011722, 135.40969848632812, 135.68963623046878, 134.75325012207028, 135.39039611816406, 135.51588439941406, 132.87083435058594, 133.21835327148438, 132.20245361328122, 132.18293762207028, 128.37333679199222, 130.21951293945312, 131.28424072265622, 132.72994995117188, 131.20611572265622, 131.98756408691406, 133.28672790527344, 133.18905639648438, 129.32084655761722, 129.21339416503906, 127.43560791015624, 126.6834487915039, 126.56622314453124, 124.04602813720705, 125.2963638305664, 129.61390686035156, 128.44172668457028, 129.15478515625, 130.21951293945312, 131.61636352539062, 132.79832458496094, 131.74334716796878, 132.61271667480472, 132.01686096191406, 131.82150268554688, 133.21835327148438, 133.90211486816406, 135.63108825683594, 135.97296142578122, 136.1195068359375, 135.15245056152344, 135.30874633789062, 135.30874633789062, 134.70310974121094, 136.63720703125, 136.96932983398438, 138.25871276855472, 138.10244750976562, 137.31121826171878, 136.09996032714844, 137.21353149414062, 137.9656982421875, 139.430908203125, 139.99748229980472, 140.20259094238278, 139.75326538085938, 146.1611785888672, 146.2100067138672, 146.2686309814453, 146.893798828125, 146.55189514160156, 146.903564453125, 147.85107421875, 147.3822021484375, 146.29794311523438, 144.8034210205078, 146.83518981933594, 143.8363494873047, 137.49681091308594, 137.46749877929688, 135.88505554199222, 138.464599609375, 134.54093933105472, 132.55439758300778, 134.20489501953122, 129.7178955078125, 130.38008117675778, 132.19859313964844, 133.46365356445312, 131.44746398925778, 132.68287658691406, 132.7520751953125, 128.05751037597656, 128.47261047363278, 129.63882446289062, 131.21026611328122, 133.30552673339844, 133.94793701171878, 132.53463745117188, 134.72872924804688, 139.32443237304688, 138.92910766601562, 140.93540954589844, 143.3568115234375, 141.92373657226562, 141.94349670410156, 141.992919921875, 140.81680297851562, 140.54006958007812, 140.55984497070312, 141.30108642578125, 140.22381591796878, 140.41160583496094, 140.02613830566406, 141.48887634277344, 141.87432861328125, 141.5679473876953, 143.7224884033203, 141.9830322265625, 140.03602600097656, 140.3621826171875, 141.32086181640625, 139.63081359863278, 136.76467895507812, 138.03961181640622, 139.48257446289062, 141.09353637695312, 140.38194274902344, 141.3307342529297, 140.45112609863278, 132.69276428222656, 132.52474975585938, 131.03237915039062, 132.39627075195312, 132.81137084960938, 132.50498962402344, 133.85899353027344, 134.38279724121094, 132.25790405273438, 133.67120361328122, 132.1689453125, 133.94793701171878, 136.06295776367188, 136.2803955078125, 137.16000366210938, 137.69000244140622, 137.61000061035156, 135.47000122070312, 135.58999633789062, 134.47999572753906, 134.0, 134.39999389648438, 134.30999755859378, 134.52000427246094, 133.19999694824222, 133.83999633789062, 134.33999633789062, 135.97000122070312, 135.08999633789062, 133.77000427246094, 134.44999694824222, 132.91000366210938, 132.1199951171875, 131.99000549316406, 131.91000366210938, 133.22000122070312, 133.91999816894528, 133.91000366210938, 133.75999450683594, 135.32000732421878, 134.21000671386722, 134.1300048828125, 134.22000122070312, 134.41000366210938, 134.55999755859378, 135.58999633789062, 135.55000305175778, 134.97999572753906, 134.91000366210938, 135.27000427246094, 132.80999755859378, 134.03999328613278]}, {\"line\": {\"shape\": \"linear\"}, \"name\": \"AAPL\", \"type\": \"scatter\", \"x\": [\"2017-01-03\", \"2017-01-04\", \"2017-01-05\", \"2017-01-06\", \"2017-01-09\", \"2017-01-10\", \"2017-01-11\", \"2017-01-12\", \"2017-01-13\", \"2017-01-17\", \"2017-01-18\", \"2017-01-19\", \"2017-01-20\", \"2017-01-23\", \"2017-01-24\", \"2017-01-25\", \"2017-01-26\", \"2017-01-27\", \"2017-01-30\", \"2017-01-31\", \"2017-02-01\", \"2017-02-02\", \"2017-02-03\", \"2017-02-06\", \"2017-02-07\", \"2017-02-08\", \"2017-02-09\", \"2017-02-10\", \"2017-02-13\", \"2017-02-14\", \"2017-02-15\", \"2017-02-16\", \"2017-02-17\", \"2017-02-21\", \"2017-02-22\", \"2017-02-23\", \"2017-02-24\", \"2017-02-27\", \"2017-02-28\", \"2017-03-01\", \"2017-03-02\", \"2017-03-03\", \"2017-03-06\", \"2017-03-07\", \"2017-03-08\", \"2017-03-09\", \"2017-03-10\", \"2017-03-13\", \"2017-03-14\", \"2017-03-15\", \"2017-03-16\", \"2017-03-17\", \"2017-03-20\", \"2017-03-21\", \"2017-03-22\", \"2017-03-23\", \"2017-03-24\", \"2017-03-27\", \"2017-03-28\", \"2017-03-29\", \"2017-03-30\", \"2017-03-31\", \"2017-04-03\", \"2017-04-04\", \"2017-04-05\", \"2017-04-06\", \"2017-04-07\", \"2017-04-10\", \"2017-04-11\", \"2017-04-12\", \"2017-04-13\", \"2017-04-17\", \"2017-04-18\", \"2017-04-19\", \"2017-04-20\", \"2017-04-21\", \"2017-04-24\", \"2017-04-25\", \"2017-04-26\", \"2017-04-27\", \"2017-04-28\", \"2017-05-01\", \"2017-05-02\", \"2017-05-03\", \"2017-05-04\", \"2017-05-05\", \"2017-05-08\", \"2017-05-09\", \"2017-05-10\", \"2017-05-11\", \"2017-05-12\", \"2017-05-15\", \"2017-05-16\", \"2017-05-17\", \"2017-05-18\", \"2017-05-19\", \"2017-05-22\", \"2017-05-23\", \"2017-05-24\", \"2017-05-25\", \"2017-05-26\", \"2017-05-30\", \"2017-05-31\", \"2017-06-01\", \"2017-06-02\", \"2017-06-05\", \"2017-06-06\", \"2017-06-07\", \"2017-06-08\", \"2017-06-09\", \"2017-06-12\", \"2017-06-13\", \"2017-06-14\", \"2017-06-15\", \"2017-06-16\", \"2017-06-19\", \"2017-06-20\", \"2017-06-21\", \"2017-06-22\", \"2017-06-23\", \"2017-06-26\", \"2017-06-27\", \"2017-06-28\", \"2017-06-29\", \"2017-06-30\", \"2017-07-03\", \"2017-07-05\", \"2017-07-06\", \"2017-07-07\", \"2017-07-10\", \"2017-07-11\", \"2017-07-12\", \"2017-07-13\", \"2017-07-14\", \"2017-07-17\", \"2017-07-18\", \"2017-07-19\", \"2017-07-20\", \"2017-07-21\", \"2017-07-24\", \"2017-07-25\", \"2017-07-26\", \"2017-07-27\", \"2017-07-28\", \"2017-07-31\", \"2017-08-01\", \"2017-08-02\", \"2017-08-03\", \"2017-08-04\", \"2017-08-07\", \"2017-08-08\", \"2017-08-09\", \"2017-08-10\", \"2017-08-11\", \"2017-08-14\", \"2017-08-15\", \"2017-08-16\", \"2017-08-17\", \"2017-08-18\", \"2017-08-21\", \"2017-08-22\", \"2017-08-23\", \"2017-08-24\", \"2017-08-25\", \"2017-08-28\", \"2017-08-29\", \"2017-08-30\", \"2017-08-31\", \"2017-09-01\", \"2017-09-05\", \"2017-09-06\", \"2017-09-07\", \"2017-09-08\", \"2017-09-11\", \"2017-09-12\", \"2017-09-13\", \"2017-09-14\", \"2017-09-15\", \"2017-09-18\", \"2017-09-19\", \"2017-09-20\", \"2017-09-21\", \"2017-09-22\", \"2017-09-25\", \"2017-09-26\", \"2017-09-27\", \"2017-09-28\", \"2017-09-29\", \"2017-10-02\", \"2017-10-03\", \"2017-10-04\", \"2017-10-05\", \"2017-10-06\", \"2017-10-09\", \"2017-10-10\", \"2017-10-11\", \"2017-10-12\", \"2017-10-13\", \"2017-10-16\", \"2017-10-17\", \"2017-10-18\", \"2017-10-19\", \"2017-10-20\", \"2017-10-23\", \"2017-10-24\", \"2017-10-25\", \"2017-10-26\", \"2017-10-27\", \"2017-10-30\", \"2017-10-31\", \"2017-11-01\", \"2017-11-02\", \"2017-11-03\", \"2017-11-06\", \"2017-11-07\", \"2017-11-08\", \"2017-11-09\", \"2017-11-10\", \"2017-11-13\", \"2017-11-14\", \"2017-11-15\", \"2017-11-16\", \"2017-11-17\", \"2017-11-20\", \"2017-11-21\", \"2017-11-22\", \"2017-11-24\", \"2017-11-27\", \"2017-11-28\", \"2017-11-29\", \"2017-11-30\", \"2017-12-01\", \"2017-12-04\", \"2017-12-05\", \"2017-12-06\", \"2017-12-07\", \"2017-12-08\", \"2017-12-11\", \"2017-12-12\", \"2017-12-13\", \"2017-12-14\", \"2017-12-15\", \"2017-12-18\", \"2017-12-19\", \"2017-12-20\", \"2017-12-21\", \"2017-12-22\", \"2017-12-26\", \"2017-12-27\", \"2017-12-28\", \"2017-12-29\", \"2018-01-02\", \"2018-01-03\", \"2018-01-04\", \"2018-01-05\", \"2018-01-08\", \"2018-01-09\", \"2018-01-10\", \"2018-01-11\", \"2018-01-12\", \"2018-01-16\", \"2018-01-17\", \"2018-01-18\", \"2018-01-19\", \"2018-01-22\", \"2018-01-23\", \"2018-01-24\", \"2018-01-25\", \"2018-01-26\", \"2018-01-29\", \"2018-01-30\", \"2018-01-31\", \"2018-02-01\", \"2018-02-02\", \"2018-02-05\", \"2018-02-06\", \"2018-02-07\", \"2018-02-08\", \"2018-02-09\", \"2018-02-12\", \"2018-02-13\", \"2018-02-14\", \"2018-02-15\", \"2018-02-16\", \"2018-02-20\", \"2018-02-21\", \"2018-02-22\", \"2018-02-23\", \"2018-02-26\", \"2018-02-27\", \"2018-02-28\", \"2018-03-01\", \"2018-03-02\", \"2018-03-05\", \"2018-03-06\", \"2018-03-07\", \"2018-03-08\", \"2018-03-09\", \"2018-03-12\", \"2018-03-13\", \"2018-03-14\", \"2018-03-15\", \"2018-03-16\", \"2018-03-19\", \"2018-03-20\", \"2018-03-21\", \"2018-03-22\", \"2018-03-23\", \"2018-03-26\", \"2018-03-27\", \"2018-03-28\", \"2018-03-29\", \"2018-04-02\", \"2018-04-03\", \"2018-04-04\", \"2018-04-05\", \"2018-04-06\", \"2018-04-09\", \"2018-04-10\", \"2018-04-11\", \"2018-04-12\", \"2018-04-13\", \"2018-04-16\", \"2018-04-17\", \"2018-04-18\", \"2018-04-19\", \"2018-04-20\", \"2018-04-23\", \"2018-04-24\", \"2018-04-25\", \"2018-04-26\", \"2018-04-27\", \"2018-04-30\", \"2018-05-01\", \"2018-05-02\", \"2018-05-03\", \"2018-05-04\", \"2018-05-07\", \"2018-05-08\", \"2018-05-09\", \"2018-05-10\", \"2018-05-11\", \"2018-05-14\", \"2018-05-15\", \"2018-05-16\", \"2018-05-17\", \"2018-05-18\", \"2018-05-21\", \"2018-05-22\", \"2018-05-23\", \"2018-05-24\", \"2018-05-25\", \"2018-05-29\", \"2018-05-30\", \"2018-05-31\", \"2018-06-01\", \"2018-06-04\", \"2018-06-05\", \"2018-06-06\", \"2018-06-07\", \"2018-06-08\", \"2018-06-11\", \"2018-06-12\", \"2018-06-13\", \"2018-06-14\", \"2018-06-15\", \"2018-06-18\", \"2018-06-19\", \"2018-06-20\", \"2018-06-21\", \"2018-06-22\", \"2018-06-25\", \"2018-06-26\", \"2018-06-27\", \"2018-06-28\", \"2018-06-29\", \"2018-07-02\", \"2018-07-03\", \"2018-07-05\", \"2018-07-06\", \"2018-07-09\", \"2018-07-10\", \"2018-07-11\", \"2018-07-12\", \"2018-07-13\", \"2018-07-16\", \"2018-07-17\", \"2018-07-18\", \"2018-07-19\", \"2018-07-20\", \"2018-07-23\", \"2018-07-24\", \"2018-07-25\", \"2018-07-26\", \"2018-07-27\", \"2018-07-30\", \"2018-07-31\", \"2018-08-01\", \"2018-08-02\", \"2018-08-03\", \"2018-08-06\", \"2018-08-07\", \"2018-08-08\", \"2018-08-09\", \"2018-08-10\", \"2018-08-13\", \"2018-08-14\", \"2018-08-15\", \"2018-08-16\", \"2018-08-17\", \"2018-08-20\", \"2018-08-21\", \"2018-08-22\", \"2018-08-23\", \"2018-08-24\", \"2018-08-27\", \"2018-08-28\", \"2018-08-29\", \"2018-08-30\", \"2018-08-31\", \"2018-09-04\", \"2018-09-05\", \"2018-09-06\", \"2018-09-07\", \"2018-09-10\", \"2018-09-11\", \"2018-09-12\", \"2018-09-13\", \"2018-09-14\", \"2018-09-17\", \"2018-09-18\", \"2018-09-19\", \"2018-09-20\", \"2018-09-21\", \"2018-09-24\", \"2018-09-25\", \"2018-09-26\", \"2018-09-27\", \"2018-09-28\", \"2018-10-01\", \"2018-10-02\", \"2018-10-03\", \"2018-10-04\", \"2018-10-05\", \"2018-10-08\", \"2018-10-09\", \"2018-10-10\", \"2018-10-11\", \"2018-10-12\", \"2018-10-15\", \"2018-10-16\", \"2018-10-17\", \"2018-10-18\", \"2018-10-19\", \"2018-10-22\", \"2018-10-23\", \"2018-10-24\", \"2018-10-25\", \"2018-10-26\", \"2018-10-29\", \"2018-10-30\", \"2018-10-31\", \"2018-11-01\", \"2018-11-02\", \"2018-11-05\", \"2018-11-06\", \"2018-11-07\", \"2018-11-08\", \"2018-11-09\", \"2018-11-12\", \"2018-11-13\", \"2018-11-14\", \"2018-11-15\", \"2018-11-16\", \"2018-11-19\", \"2018-11-20\", \"2018-11-21\", \"2018-11-23\", \"2018-11-26\", \"2018-11-27\", \"2018-11-28\", \"2018-11-29\", \"2018-11-30\", \"2018-12-03\", \"2018-12-04\", \"2018-12-06\", \"2018-12-07\", \"2018-12-10\", \"2018-12-11\", \"2018-12-12\", \"2018-12-13\", \"2018-12-14\", \"2018-12-17\", \"2018-12-18\", \"2018-12-19\", \"2018-12-20\", \"2018-12-21\", \"2018-12-24\", \"2018-12-26\", \"2018-12-27\", \"2018-12-28\", \"2018-12-31\", \"2019-01-02\", \"2019-01-03\", \"2019-01-04\", \"2019-01-07\", \"2019-01-08\", \"2019-01-09\", \"2019-01-10\", \"2019-01-11\", \"2019-01-14\", \"2019-01-15\", \"2019-01-16\", \"2019-01-17\", \"2019-01-18\", \"2019-01-22\", \"2019-01-23\", \"2019-01-24\", \"2019-01-25\", \"2019-01-28\", \"2019-01-29\", \"2019-01-30\", \"2019-01-31\", \"2019-02-01\", \"2019-02-04\", \"2019-02-05\", \"2019-02-06\", \"2019-02-07\", \"2019-02-08\", \"2019-02-11\", \"2019-02-12\", \"2019-02-13\", \"2019-02-14\", \"2019-02-15\", \"2019-02-19\", \"2019-02-20\", \"2019-02-21\", \"2019-02-22\", \"2019-02-25\", \"2019-02-26\", \"2019-02-27\", \"2019-02-28\", \"2019-03-01\", \"2019-03-04\", \"2019-03-05\", \"2019-03-06\", \"2019-03-07\", \"2019-03-08\", \"2019-03-11\", \"2019-03-12\", \"2019-03-13\", \"2019-03-14\", \"2019-03-15\", \"2019-03-18\", \"2019-03-19\", \"2019-03-20\", \"2019-03-21\", \"2019-03-22\", \"2019-03-25\", \"2019-03-26\", \"2019-03-27\", \"2019-03-28\", \"2019-03-29\", \"2019-04-01\", \"2019-04-02\", \"2019-04-03\", \"2019-04-04\", \"2019-04-05\", \"2019-04-08\", \"2019-04-09\", \"2019-04-10\", \"2019-04-11\", \"2019-04-12\", \"2019-04-15\", \"2019-04-16\", \"2019-04-17\", \"2019-04-18\", \"2019-04-22\", \"2019-04-23\", \"2019-04-24\", \"2019-04-25\", \"2019-04-26\", \"2019-04-29\", \"2019-04-30\", \"2019-05-01\", \"2019-05-02\", \"2019-05-03\", \"2019-05-06\", \"2019-05-07\", \"2019-05-08\", \"2019-05-09\", \"2019-05-10\", \"2019-05-13\", \"2019-05-14\", \"2019-05-15\", \"2019-05-16\", \"2019-05-17\", \"2019-05-20\", \"2019-05-21\", \"2019-05-22\", \"2019-05-23\", \"2019-05-24\", \"2019-05-28\", \"2019-05-29\", \"2019-05-30\", \"2019-05-31\", \"2019-06-03\", \"2019-06-04\", \"2019-06-05\", \"2019-06-06\", \"2019-06-07\", \"2019-06-10\", \"2019-06-11\", \"2019-06-12\", \"2019-06-13\", \"2019-06-14\", \"2019-06-17\", \"2019-06-18\", \"2019-06-19\", \"2019-06-20\", \"2019-06-21\", \"2019-06-24\", \"2019-06-25\", \"2019-06-26\", \"2019-06-27\", \"2019-06-28\", \"2019-07-01\", \"2019-07-02\", \"2019-07-03\", \"2019-07-05\", \"2019-07-08\", \"2019-07-09\", \"2019-07-10\", \"2019-07-11\", \"2019-07-12\", \"2019-07-15\", \"2019-07-16\", \"2019-07-17\", \"2019-07-18\", \"2019-07-19\", \"2019-07-22\", \"2019-07-23\", \"2019-07-24\", \"2019-07-25\", \"2019-07-26\", \"2019-07-29\", \"2019-07-30\", \"2019-07-31\", \"2019-08-01\", \"2019-08-02\", \"2019-08-05\", \"2019-08-06\", \"2019-08-07\", \"2019-08-08\", \"2019-08-09\", \"2019-08-12\", \"2019-08-13\", \"2019-08-14\", \"2019-08-15\", \"2019-08-16\", \"2019-08-19\", \"2019-08-20\", \"2019-08-21\", \"2019-08-22\", \"2019-08-23\", \"2019-08-26\", \"2019-08-27\", \"2019-08-28\", \"2019-08-29\", \"2019-08-30\", \"2019-09-03\", \"2019-09-04\", \"2019-09-05\", \"2019-09-06\", \"2019-09-09\", \"2019-09-10\", \"2019-09-11\", \"2019-09-12\", \"2019-09-13\", \"2019-09-16\", \"2019-09-17\", \"2019-09-18\", \"2019-09-19\", \"2019-09-20\", \"2019-09-23\", \"2019-09-24\", \"2019-09-25\", \"2019-09-26\", \"2019-09-27\", \"2019-09-30\", \"2019-10-01\", \"2019-10-02\", \"2019-10-03\", \"2019-10-04\", \"2019-10-07\", \"2019-10-08\", \"2019-10-09\", \"2019-10-10\", \"2019-10-11\", \"2019-10-14\", \"2019-10-15\", \"2019-10-16\", \"2019-10-17\", \"2019-10-18\", \"2019-10-21\", \"2019-10-22\", \"2019-10-23\", \"2019-10-24\", \"2019-10-25\", \"2019-10-28\", \"2019-10-29\", \"2019-10-30\", \"2019-10-31\", \"2019-11-01\", \"2019-11-04\", \"2019-11-05\", \"2019-11-06\", \"2019-11-07\", \"2019-11-08\", \"2019-11-11\", \"2019-11-12\", \"2019-11-13\", \"2019-11-14\", \"2019-11-15\", \"2019-11-18\", \"2019-11-19\", \"2019-11-20\", \"2019-11-21\", \"2019-11-22\", \"2019-11-25\", \"2019-11-26\", \"2019-11-27\", \"2019-11-29\", \"2019-12-02\", \"2019-12-03\", \"2019-12-04\", \"2019-12-05\", \"2019-12-06\", \"2019-12-09\", \"2019-12-10\", \"2019-12-11\", \"2019-12-12\", \"2019-12-13\", \"2019-12-16\", \"2019-12-17\", \"2019-12-18\", \"2019-12-19\", \"2019-12-20\", \"2019-12-23\", \"2019-12-24\", \"2019-12-26\", \"2019-12-27\", \"2019-12-30\", \"2019-12-31\"], \"y\": [110.95387268066406, 110.82970428466795, 111.39330291748048, 112.63513946533205, 113.66682434082031, 113.78146362304688, 114.392822265625, 113.9151840209961, 113.71458435058594, 114.63165283203124, 114.62208557128906, 114.4214859008789, 114.63165283203124, 114.70806121826172, 114.6029815673828, 116.4275360107422, 116.48485565185548, 116.49441528320312, 116.18870544433594, 115.92122650146484, 122.9901885986328, 122.78004455566406, 123.30543518066406, 124.46131134033205, 125.64580535888672, 126.13301849365234, 127.04444885253906, 126.7566146850586, 127.8791046142578, 129.53890991210938, 130.00901794433594, 129.85549926757812, 130.21052551269528, 131.15072631835938, 131.54405212402344, 130.98760986328122, 131.11235046386722, 131.37136840820312, 131.428955078125, 134.11528015136722, 133.31893920898438, 134.10565185546878, 133.68351745605472, 133.85623168945312, 133.35731506347656, 133.05032348632812, 133.49166870117188, 133.5491943359375, 133.34776306152344, 134.75808715820312, 134.97871398925778, 134.30715942382812, 135.71748352050778, 134.16322326660156, 135.67909240722656, 135.19937133789062, 134.93075561523438, 135.16102600097656, 137.96247863769528, 138.26948547363278, 138.08718872070312, 137.82817077636722, 137.86654663085938, 138.89312744140622, 138.17355346679688, 137.82817077636722, 137.52114868164062, 137.35806274414062, 135.88058471679688, 136.04365539550778, 135.32415771484378, 136.07244873046878, 135.46803283691406, 134.9691162109375, 136.65771484375, 136.49459838867188, 137.80900573730472, 138.66285705566406, 137.84735107421878, 137.95286560058594, 137.81855773925778, 140.629638671875, 141.5218963623047, 141.09014892578125, 140.58164978027344, 142.9130096435547, 146.79861450195312, 147.73880004882812, 147.03846740722656, 148.31008911132812, 150.38131713867188, 149.99598693847656, 149.7744140625, 144.74563598632812, 146.9517364501953, 147.4526824951172, 148.34864807128906, 148.1655731201172, 147.72244262695312, 148.2329864501953, 147.98255920410156, 148.0403594970703, 147.16368103027344, 147.56829833984375, 149.75515747070312, 148.2908172607422, 148.79177856445312, 149.67807006835938, 149.31199645996094, 143.5221405029297, 140.09259033203122, 141.21974182128906, 139.84213256835938, 139.00395202636722, 137.0579833984375, 140.9788818359375, 139.69760131835938, 140.52609252929688, 140.294921875, 140.92108154296875, 140.47795104980472, 138.46449279785156, 140.48757934570312, 138.41632080078122, 138.743896484375, 138.24290466308594, 138.81130981445312, 137.50114440917972, 138.89801025390622, 139.74575805664062, 140.19854736328122, 140.40086364746094, 142.3565216064453, 143.5799560546875, 144.0808868408203, 144.58187866210938, 145.4874267578125, 144.83233642578125, 144.76490783691406, 146.51824951171875, 147.14442443847656, 147.8380584716797, 145.04428100585938, 144.0231170654297, 143.28131103515625, 144.55296325683594, 151.3832244873047, 149.87074279785156, 150.6607208251953, 152.9920654296875, 154.2155303955078, 155.15960693359375, 150.21749877929688, 152.30654907226562, 154.59869384765625, 156.2911834716797, 155.6625213623047, 152.67405700683594, 152.32589721679688, 152.04542541503906, 154.53099060058594, 154.72439575195312, 154.03773498535156, 154.6083526611328, 156.1654510498047, 157.55816650390625, 157.98370361328125, 158.6123504638672, 158.66070556640625, 156.75543212890625, 156.5909881591797, 155.96234130859375, 153.4187774658203, 156.19448852539062, 155.5755157470703, 154.40525817871094, 153.0802459716797, 154.62770080566406, 153.4574432373047, 153.51547241210938, 150.94287109375, 148.35089111328125, 146.90017700195312, 145.6042022705078, 148.10911560058594, 149.16329956054688, 148.2445068359375, 149.05690002441406, 148.75711059570312, 149.4051055908203, 148.43795776367188, 150.28517150878906, 150.19813537597656, 150.72039794921875, 150.77842712402344, 151.4071044921875, 150.8751678466797, 151.8326416015625, 154.62770080566406, 155.1983184814453, 154.5116424560547, 150.85580444335938, 151.11695861816406, 151.03958129882812, 151.9390106201172, 151.2716827392578, 152.2388153076172, 157.69354248046875, 161.2429962158203, 163.48675537109375, 161.4073944091797, 162.5873260498047, 166.83311462402344, 168.52561950683594, 169.0672149658203, 170.45025634765625, 170.1020965576172, 169.53909301757812, 168.8596649169922, 166.30690002441406, 164.11328125, 166.073974609375, 165.15187072753906, 164.9868927001953, 168.0540313720703, 169.82058715820312, 169.83030700683594, 168.97613525390625, 167.98609924316406, 164.5015869140625, 166.8019561767578, 166.0254364013672, 164.8121337890625, 164.65684509277344, 164.04537963867188, 164.34629821777344, 164.394775390625, 167.5978546142578, 166.65635681152344, 167.20960998535156, 167.1610565185547, 168.8596649169922, 171.2377166748047, 169.41290283203125, 169.22850036621094, 169.86911010742188, 169.86911010742188, 165.55955505371094, 165.5886688232422, 166.05458068847656, 164.25889587402344, 167.19989013671875, 167.1707763671875, 167.947265625, 169.85940551757812, 169.22850036621094, 169.20909118652344, 169.17025756835938, 170.1311798095703, 171.88803100585938, 171.01446533203125, 173.83900451660156, 173.99429321289062, 173.21778869628906, 171.80067443847656, 171.83949279785156, 169.10232543945312, 166.08367919921875, 166.471923828125, 163.02621459960938, 162.06527709960938, 162.51177978515625, 162.8514862060547, 155.78536987304688, 151.89312744140625, 158.2410125732422, 154.85353088378906, 150.59249877929688, 152.43446350097656, 158.57432556152344, 160.16290283203125, 163.1158905029297, 168.59303283691406, 168.04727172851562, 167.48202514648438, 166.7218475341797, 168.11550903320312, 171.03924560546875, 174.42103576660156, 173.85580444335938, 173.59266662597656, 170.55194091796875, 171.73118591308594, 172.32571411132812, 172.17950439453125, 170.58120727539062, 172.44264221191406, 175.40536499023438, 177.10113525390625, 175.3956298828125, 173.9044952392578, 174.10916137695312, 173.4951934814453, 170.84434509277344, 170.78585815429688, 166.916748046875, 164.5582733154297, 160.7476348876953, 168.378662109375, 164.06121826171875, 162.24851989746094, 163.5154571533203, 162.44342041015625, 164.10997009277344, 167.2481231689453, 168.40786743164062, 164.10023498535156, 165.727783203125, 168.84645080566406, 168.05702209472656, 169.7138214111328, 170.28880310058594, 171.3511199951172, 173.7095947265625, 173.31976318359375, 168.40786743164062, 161.5078125, 161.0400390625, 158.79849243164062, 159.4904327392578, 160.04595947265625, 158.19424438476562, 161.05950927734375, 164.80189514160156, 172.08206176757812, 172.39390563964844, 179.1575164794922, 180.45372009277344, 181.3210906982422, 182.5977935791016, 185.2096710205078, 184.50526428222656, 184.0747985839844, 182.4018402099609, 184.1041412353516, 182.9399261474609, 182.27464294433597, 183.56607055664062, 183.1062164306641, 184.2802734375, 184.0747985839844, 184.49549865722656, 183.83023071289062, 183.4388885498047, 182.822509765625, 186.1195068359375, 187.6750946044922, 189.1230316162109, 189.7785186767578, 189.26980590820312, 187.54791259765625, 187.0880889892578, 188.11534118652344, 186.56956481933597, 186.6674041748047, 184.74986267089844, 184.65200805664062, 181.66807556152344, 182.4605407714844, 181.4430694580078, 180.9147491455078, 178.22430419921875, 180.4353790283203, 180.1712188720703, 181.48220825195312, 181.10064697265625, 183.1258087158203, 179.93641662597656, 181.3843536376953, 183.898681640625, 186.45216369628903, 186.2271728515625, 183.8106384277344, 186.8924102783203, 187.18589782714844, 186.7750244140625, 187.3032989501953, 186.2760467529297, 187.7240295410156, 187.29356384277344, 187.4598388671875, 188.8197479248047, 190.600341796875, 190.0035400390625, 186.8435211181641, 185.7966766357422, 186.16842651367188, 197.1356506347656, 202.8980712890625, 203.4850616455078, 204.5416717529297, 202.62413024902344, 202.76112365722656, 204.35580444335938, 203.7471008300781, 205.0626678466797, 205.9266662597656, 206.40771484375, 209.43157958984372, 213.6138916015625, 211.53256225585938, 211.1202087402344, 211.13003540039062, 211.56201171875, 212.2198028564453, 213.96734619140625, 215.6952667236328, 218.9154815673828, 220.9281005859375, 223.480712890625, 224.19741821289062, 222.73458862304688, 219.03330993652344, 217.26611328125, 214.3502349853516, 219.76963806152344, 217.0402984619141, 222.282958984375, 219.7598114013672, 213.908447265625, 214.2618865966797, 214.38949584960938, 216.01927185058597, 213.6924591064453, 216.7653961181641, 218.13987731933597, 216.4021453857422, 220.84957885742188, 221.6251678466797, 223.11746215820312, 225.10064697265625, 227.8397979736328, 223.83416748046875, 220.20159912109372, 219.69110107421875, 222.73458862304688, 212.4161529541016, 210.5409698486328, 218.06134033203125, 213.39791870117188, 218.10060119628903, 217.1581115722656, 212.0823516845703, 215.31236267089844, 216.62794494628903, 218.67002868652344, 211.16929626464844, 215.79345703125, 212.35723876953125, 208.3712615966797, 209.41192626953125, 214.8705902099609, 218.1693420410156, 203.697998046875, 197.91537475585938, 200.0556488037109, 206.12298583984372, 205.40380859375, 201.44329833984372, 191.29576110839844, 189.3844757080078, 184.03488159179688, 188.57662963867188, 190.6652374267578, 183.10877990722656, 174.36024475097656, 174.16319274902344, 169.73965454101562, 172.03517150878906, 171.66079711914062, 178.26162719726562, 176.89219665527344, 175.93655395507812, 182.0841827392578, 174.0745391845703, 172.13368225097656, 165.9959259033203, 167.0894775390625, 166.13385009765625, 166.5968780517578, 168.4194793701172, 163.03045654296875, 161.5132598876953, 163.6117401123047, 158.50840759277344, 154.5084991455078, 148.49879455566406, 144.6565399169922, 154.84347534179688, 153.83856201171875, 153.91738891601562, 155.40504455566406, 155.58236694335938, 140.08522033691406, 146.0653533935547, 145.74026489257812, 148.5185089111328, 151.0406036376953, 151.52337646484375, 150.03570556640625, 147.77960205078125, 150.80416870117188, 152.646484375, 153.55287170410156, 154.4986572265625, 151.03077697753906, 151.64158630371094, 150.43963623046875, 155.42474365234375, 153.98635864257812, 152.39031982421875, 162.80386352539062, 163.9762420654297, 164.05506896972656, 168.7150421142578, 171.6016845703125, 171.66079711914062, 168.40965270996094, 168.60752868652344, 167.63787841796875, 169.0824432373047, 168.37994384765625, 168.993408203125, 168.617431640625, 169.12200927734375, 170.21038818359375, 169.2506561279297, 171.14044189453125, 172.38711547851562, 172.48605346679688, 173.0203399658203, 171.31854248046875, 173.11927795410156, 173.989990234375, 173.67337036132812, 172.67405700683594, 170.6754150390625, 171.08108520507812, 177.00770568847656, 178.99647521972656, 179.78799438476562, 181.78662109375, 184.15133666992188, 186.03126525878903, 184.55702209472656, 186.16978454589844, 193.0264587402344, 189.0292053222656, 186.7436370849609, 184.8142547607422, 186.4764862060547, 186.72384643554688, 187.9408416748047, 189.2172088623047, 191.9678039550781, 193.2837371826172, 193.6201171875, 194.916259765625, 197.9834747314453, 197.38983154296875, 198.4979705810547, 196.84564208984372, 196.76649475097656, 197.1226806640625, 197.14247131347656, 200.9814453125, 201.70372009277344, 202.36663818359372, 205.2854156494141, 204.96881103515625, 203.10870361328125, 202.1390686035156, 202.4457855224609, 198.5474548339844, 208.29327392578125, 206.9377593994141, 209.51026916503903, 206.2748565673828, 200.71429443359372, 200.7538604736328, 198.596923828125, 195.84567260742188, 184.46324157714844, 187.3833312988281, 189.62803649902344, 188.79373168945312, 187.72103881835938, 181.8510284423828, 185.3372802734375, 181.54312133789062, 178.44424438476562, 177.7589111328125, 177.02391052246094, 176.17965698242188, 177.09344482421875, 173.8852996826172, 172.1272735595703, 178.42437744140625, 181.3047332763672, 183.96661376953125, 188.86325073242188, 191.2768096923828, 193.49171447753903, 192.87591552734372, 192.83616638183597, 191.43572998046875, 192.57794189453125, 197.10708618164062, 196.531005859375, 198.11024475097656, 197.43484497070312, 197.2362060546875, 194.24658203125, 198.4479522705078, 198.38836669921875, 196.5806579589844, 200.1861114501953, 201.3581085205078, 203.02674865722656, 202.84796142578125, 198.6664581298828, 199.8782196044922, 201.854736328125, 200.3847503662109, 201.9242706298828, 203.82135009765625, 203.1161346435547, 201.9739227294922, 204.26829528808597, 201.2190704345703, 205.81773376464844, 207.4267578125, 207.2579345703125, 205.6190948486328, 206.33421325683597, 208.26107788085938, 207.3671722412109, 211.59835815429688, 207.01953125, 202.63938903808597, 192.0316467285156, 195.66688537597656, 197.69308471679688, 202.05337524414062, 200.3883819580078, 199.87989807128903, 208.3444976806641, 202.1431121826172, 201.1361389160156, 205.8818817138672, 209.72036743164062, 209.73033142089844, 212.0035095214844, 211.8240509033203, 202.033447265625, 205.87191772460938, 203.54888916015625, 204.914794921875, 208.3843688964844, 208.1151885986328, 205.0842742919922, 208.5638427734375, 212.6415863037109, 212.62164306640625, 213.5289306640625, 216.0513458251953, 222.9207305908203, 222.42222595214844, 218.09521484375, 219.2417755126953, 220.0393829345703, 222.1031951904297, 220.29861450195312, 217.0782623291016, 218.0653076171875, 217.0284118652344, 220.36839294433597, 219.2318115234375, 218.1650238037109, 223.29959106445312, 223.9177398681641, 218.3045959472656, 220.15902709960938, 226.3304901123047, 226.38034057617188, 223.72830200195312, 226.35043334960938, 229.4012756347656, 235.5029602050781, 235.1639709472656, 234.6156311035156, 233.66845703125, 234.57574462890625, 235.70236206054688, 239.7900848388672, 239.2417449951172, 242.45208740234372, 242.85089111328125, 245.8419189453125, 248.3045196533203, 242.56175231933597, 242.53184509277344, 248.015380859375, 255.05426025390625, 256.72921752929693, 256.3603515625, 256.47000122070307, 259.42999267578125, 260.1400146484375, 262.20001220703125, 261.95999145507807, 264.47000122070307, 262.6400146484375, 265.760009765625, 267.10000610351557, 266.29000854492193, 263.19000244140625, 262.010009765625, 261.77999877929693, 266.3699951171875, 264.29000854492193, 267.83999633789057, 267.25, 264.16000366210943, 259.45001220703125, 261.739990234375, 265.57998657226557, 270.70999145507807, 266.92001342773443, 268.48001098632807, 270.76998901367193, 271.45999145507807, 275.14999389648443, 279.8599853515625, 280.41000366210943, 279.739990234375, 280.01998901367193, 279.44000244140625, 284.0, 284.2699890136719, 289.9100036621094, 289.79998779296875, 291.5199890136719, 293.6499938964844]}],\n",
       "                        {\"legend\": {\"font\": {\"size\": 16}, \"y\": 0.5}, \"template\": {\"data\": {\"bar\": [{\"error_x\": {\"color\": \"#2a3f5f\"}, \"error_y\": {\"color\": \"#2a3f5f\"}, \"marker\": {\"line\": {\"color\": \"#E5ECF6\", \"width\": 0.5}}, \"type\": \"bar\"}], \"barpolar\": [{\"marker\": {\"line\": {\"color\": \"#E5ECF6\", \"width\": 0.5}}, \"type\": \"barpolar\"}], \"carpet\": [{\"aaxis\": {\"endlinecolor\": \"#2a3f5f\", \"gridcolor\": \"white\", \"linecolor\": \"white\", \"minorgridcolor\": \"white\", \"startlinecolor\": \"#2a3f5f\"}, \"baxis\": {\"endlinecolor\": \"#2a3f5f\", \"gridcolor\": \"white\", \"linecolor\": \"white\", \"minorgridcolor\": \"white\", \"startlinecolor\": \"#2a3f5f\"}, \"type\": \"carpet\"}], \"choropleth\": [{\"colorbar\": {\"outlinewidth\": 0, \"ticks\": \"\"}, \"type\": \"choropleth\"}], \"contour\": [{\"colorbar\": {\"outlinewidth\": 0, \"ticks\": \"\"}, \"colorscale\": [[0.0, \"#0d0887\"], [0.1111111111111111, \"#46039f\"], [0.2222222222222222, \"#7201a8\"], [0.3333333333333333, \"#9c179e\"], [0.4444444444444444, \"#bd3786\"], [0.5555555555555556, \"#d8576b\"], [0.6666666666666666, \"#ed7953\"], [0.7777777777777778, \"#fb9f3a\"], [0.8888888888888888, \"#fdca26\"], [1.0, \"#f0f921\"]], \"type\": \"contour\"}], \"contourcarpet\": [{\"colorbar\": {\"outlinewidth\": 0, \"ticks\": \"\"}, \"type\": \"contourcarpet\"}], \"heatmap\": [{\"colorbar\": {\"outlinewidth\": 0, \"ticks\": \"\"}, \"colorscale\": [[0.0, \"#0d0887\"], [0.1111111111111111, \"#46039f\"], [0.2222222222222222, \"#7201a8\"], [0.3333333333333333, \"#9c179e\"], [0.4444444444444444, \"#bd3786\"], [0.5555555555555556, \"#d8576b\"], [0.6666666666666666, \"#ed7953\"], [0.7777777777777778, \"#fb9f3a\"], [0.8888888888888888, \"#fdca26\"], [1.0, \"#f0f921\"]], \"type\": \"heatmap\"}], \"heatmapgl\": [{\"colorbar\": {\"outlinewidth\": 0, \"ticks\": \"\"}, \"colorscale\": [[0.0, \"#0d0887\"], [0.1111111111111111, \"#46039f\"], [0.2222222222222222, \"#7201a8\"], [0.3333333333333333, \"#9c179e\"], [0.4444444444444444, \"#bd3786\"], [0.5555555555555556, \"#d8576b\"], [0.6666666666666666, \"#ed7953\"], [0.7777777777777778, \"#fb9f3a\"], [0.8888888888888888, \"#fdca26\"], [1.0, \"#f0f921\"]], \"type\": \"heatmapgl\"}], \"histogram\": [{\"marker\": {\"colorbar\": {\"outlinewidth\": 0, \"ticks\": \"\"}}, \"type\": \"histogram\"}], \"histogram2d\": [{\"colorbar\": {\"outlinewidth\": 0, \"ticks\": \"\"}, \"colorscale\": [[0.0, \"#0d0887\"], [0.1111111111111111, \"#46039f\"], [0.2222222222222222, \"#7201a8\"], [0.3333333333333333, \"#9c179e\"], [0.4444444444444444, \"#bd3786\"], [0.5555555555555556, \"#d8576b\"], [0.6666666666666666, \"#ed7953\"], [0.7777777777777778, \"#fb9f3a\"], [0.8888888888888888, \"#fdca26\"], [1.0, \"#f0f921\"]], \"type\": \"histogram2d\"}], \"histogram2dcontour\": [{\"colorbar\": {\"outlinewidth\": 0, \"ticks\": \"\"}, \"colorscale\": [[0.0, \"#0d0887\"], [0.1111111111111111, \"#46039f\"], [0.2222222222222222, \"#7201a8\"], [0.3333333333333333, \"#9c179e\"], [0.4444444444444444, \"#bd3786\"], [0.5555555555555556, \"#d8576b\"], [0.6666666666666666, \"#ed7953\"], [0.7777777777777778, \"#fb9f3a\"], [0.8888888888888888, \"#fdca26\"], [1.0, \"#f0f921\"]], \"type\": \"histogram2dcontour\"}], \"mesh3d\": [{\"colorbar\": {\"outlinewidth\": 0, \"ticks\": \"\"}, \"type\": \"mesh3d\"}], \"parcoords\": [{\"line\": {\"colorbar\": {\"outlinewidth\": 0, \"ticks\": \"\"}}, \"type\": \"parcoords\"}], \"pie\": [{\"automargin\": true, \"type\": \"pie\"}], \"scatter\": [{\"marker\": {\"colorbar\": {\"outlinewidth\": 0, \"ticks\": \"\"}}, \"type\": \"scatter\"}], \"scatter3d\": [{\"line\": {\"colorbar\": {\"outlinewidth\": 0, \"ticks\": \"\"}}, \"marker\": {\"colorbar\": {\"outlinewidth\": 0, \"ticks\": \"\"}}, \"type\": \"scatter3d\"}], \"scattercarpet\": [{\"marker\": {\"colorbar\": {\"outlinewidth\": 0, \"ticks\": \"\"}}, \"type\": \"scattercarpet\"}], \"scattergeo\": [{\"marker\": {\"colorbar\": {\"outlinewidth\": 0, \"ticks\": \"\"}}, \"type\": \"scattergeo\"}], \"scattergl\": [{\"marker\": {\"colorbar\": {\"outlinewidth\": 0, \"ticks\": \"\"}}, \"type\": \"scattergl\"}], \"scattermapbox\": [{\"marker\": {\"colorbar\": {\"outlinewidth\": 0, \"ticks\": \"\"}}, \"type\": \"scattermapbox\"}], \"scatterpolar\": [{\"marker\": {\"colorbar\": {\"outlinewidth\": 0, \"ticks\": \"\"}}, \"type\": \"scatterpolar\"}], \"scatterpolargl\": [{\"marker\": {\"colorbar\": {\"outlinewidth\": 0, \"ticks\": \"\"}}, \"type\": \"scatterpolargl\"}], \"scatterternary\": [{\"marker\": {\"colorbar\": {\"outlinewidth\": 0, \"ticks\": \"\"}}, \"type\": \"scatterternary\"}], \"surface\": [{\"colorbar\": {\"outlinewidth\": 0, \"ticks\": \"\"}, \"colorscale\": [[0.0, \"#0d0887\"], [0.1111111111111111, \"#46039f\"], [0.2222222222222222, \"#7201a8\"], [0.3333333333333333, \"#9c179e\"], [0.4444444444444444, \"#bd3786\"], [0.5555555555555556, \"#d8576b\"], [0.6666666666666666, \"#ed7953\"], [0.7777777777777778, \"#fb9f3a\"], [0.8888888888888888, \"#fdca26\"], [1.0, \"#f0f921\"]], \"type\": \"surface\"}], \"table\": [{\"cells\": {\"fill\": {\"color\": \"#EBF0F8\"}, \"line\": {\"color\": \"white\"}}, \"header\": {\"fill\": {\"color\": \"#C8D4E3\"}, \"line\": {\"color\": \"white\"}}, \"type\": \"table\"}]}, \"layout\": {\"annotationdefaults\": {\"arrowcolor\": \"#2a3f5f\", \"arrowhead\": 0, \"arrowwidth\": 1}, \"coloraxis\": {\"colorbar\": {\"outlinewidth\": 0, \"ticks\": \"\"}}, \"colorscale\": {\"diverging\": [[0, \"#8e0152\"], [0.1, \"#c51b7d\"], [0.2, \"#de77ae\"], [0.3, \"#f1b6da\"], [0.4, \"#fde0ef\"], [0.5, \"#f7f7f7\"], [0.6, \"#e6f5d0\"], [0.7, \"#b8e186\"], [0.8, \"#7fbc41\"], [0.9, \"#4d9221\"], [1, \"#276419\"]], \"sequential\": [[0.0, \"#0d0887\"], [0.1111111111111111, \"#46039f\"], [0.2222222222222222, \"#7201a8\"], [0.3333333333333333, \"#9c179e\"], [0.4444444444444444, \"#bd3786\"], [0.5555555555555556, \"#d8576b\"], [0.6666666666666666, \"#ed7953\"], [0.7777777777777778, \"#fb9f3a\"], [0.8888888888888888, \"#fdca26\"], [1.0, \"#f0f921\"]], \"sequentialminus\": [[0.0, \"#0d0887\"], [0.1111111111111111, \"#46039f\"], [0.2222222222222222, \"#7201a8\"], [0.3333333333333333, \"#9c179e\"], [0.4444444444444444, \"#bd3786\"], [0.5555555555555556, \"#d8576b\"], [0.6666666666666666, \"#ed7953\"], [0.7777777777777778, \"#fb9f3a\"], [0.8888888888888888, \"#fdca26\"], [1.0, \"#f0f921\"]]}, \"colorway\": [\"#636efa\", \"#EF553B\", \"#00cc96\", \"#ab63fa\", \"#FFA15A\", \"#19d3f3\", \"#FF6692\", \"#B6E880\", \"#FF97FF\", \"#FECB52\"], \"font\": {\"color\": \"#2a3f5f\"}, \"geo\": {\"bgcolor\": \"white\", \"lakecolor\": \"white\", \"landcolor\": \"#E5ECF6\", \"showlakes\": true, \"showland\": true, \"subunitcolor\": \"white\"}, \"hoverlabel\": {\"align\": \"left\"}, \"hovermode\": \"closest\", \"mapbox\": {\"style\": \"light\"}, \"paper_bgcolor\": \"white\", \"plot_bgcolor\": \"#E5ECF6\", \"polar\": {\"angularaxis\": {\"gridcolor\": \"white\", \"linecolor\": \"white\", \"ticks\": \"\"}, \"bgcolor\": \"#E5ECF6\", \"radialaxis\": {\"gridcolor\": \"white\", \"linecolor\": \"white\", \"ticks\": \"\"}}, \"scene\": {\"xaxis\": {\"backgroundcolor\": \"#E5ECF6\", \"gridcolor\": \"white\", \"gridwidth\": 2, \"linecolor\": \"white\", \"showbackground\": true, \"ticks\": \"\", \"zerolinecolor\": \"white\"}, \"yaxis\": {\"backgroundcolor\": \"#E5ECF6\", \"gridcolor\": \"white\", \"gridwidth\": 2, \"linecolor\": \"white\", \"showbackground\": true, \"ticks\": \"\", \"zerolinecolor\": \"white\"}, \"zaxis\": {\"backgroundcolor\": \"#E5ECF6\", \"gridcolor\": \"white\", \"gridwidth\": 2, \"linecolor\": \"white\", \"showbackground\": true, \"ticks\": \"\", \"zerolinecolor\": \"white\"}}, \"shapedefaults\": {\"line\": {\"color\": \"#2a3f5f\"}}, \"ternary\": {\"aaxis\": {\"gridcolor\": \"white\", \"linecolor\": \"white\", \"ticks\": \"\"}, \"baxis\": {\"gridcolor\": \"white\", \"linecolor\": \"white\", \"ticks\": \"\"}, \"bgcolor\": \"#E5ECF6\", \"caxis\": {\"gridcolor\": \"white\", \"linecolor\": \"white\", \"ticks\": \"\"}}, \"title\": {\"x\": 0.05}, \"xaxis\": {\"automargin\": true, \"gridcolor\": \"white\", \"linecolor\": \"white\", \"ticks\": \"\", \"title\": {\"standoff\": 15}, \"zerolinecolor\": \"white\", \"zerolinewidth\": 2}, \"yaxis\": {\"automargin\": true, \"gridcolor\": \"white\", \"linecolor\": \"white\", \"ticks\": \"\", \"title\": {\"standoff\": 15}, \"zerolinecolor\": \"white\", \"zerolinewidth\": 2}}}},\n",
       "                        {\"responsive\": true}\n",
       "                    ).then(function(){\n",
       "                            \n",
       "var gd = document.getElementById('5115ae97-c4f0-41c4-bae9-2b31ae278995');\n",
       "var x = new MutationObserver(function (mutations, observer) {{\n",
       "        var display = window.getComputedStyle(gd).display;\n",
       "        if (!display || display === 'none') {{\n",
       "            console.log([gd, 'removed!']);\n",
       "            Plotly.purge(gd);\n",
       "            observer.disconnect();\n",
       "        }}\n",
       "}});\n",
       "\n",
       "// Listen for the removal of the full notebook cells\n",
       "var notebookContainer = gd.closest('#notebook-container');\n",
       "if (notebookContainer) {{\n",
       "    x.observe(notebookContainer, {childList: true});\n",
       "}}\n",
       "\n",
       "// Listen for the clearing of the current output cell\n",
       "var outputEl = gd.closest('.output');\n",
       "if (outputEl) {{\n",
       "    x.observe(outputEl, {childList: true});\n",
       "}}\n",
       "\n",
       "                        })\n",
       "                };\n",
       "                });\n",
       "            </script>\n",
       "        </div>"
      ]
     },
     "metadata": {},
     "output_type": "display_data"
    }
   ],
   "source": [
    "fig = go.Figure()\n",
    "\n",
    "fig.add_trace(go.Scatter(x = df['Date'], y=df['IBM'], name=\"IBM\", line_shape='linear'))\n",
    "fig.add_trace(go.Scatter(x = df['Date'], y=df['AAPL'], name=\"AAPL\", line_shape='linear'))\n",
    "\n",
    "#fig.update_traces(hoverinfo='text', mode='lines+markers')\n",
    "fig.update_layout(legend=dict(y=0.5,  font_size=16))\n",
    "\n",
    "fig.show()"
   ]
  },
  {
   "cell_type": "code",
   "execution_count": 38,
   "metadata": {},
   "outputs": [],
   "source": [
    "def moving_avg(values,window):\n",
    "    \"\"\"A function to compute incremental (not centred) moving avg (not efficiently!)\n",
    "    It loops through an input list and computes avg of the previous elements (according to window)\n",
    "    Also computes moving avg of first window - 1 elements! \n",
    "    Args:\n",
    "        param1 (list): A list of numerical values.\n",
    "        param2 (int): The window size.\n",
    "\n",
    "    Returns:\n",
    "        a list of moving avg values\n",
    "    \"\"\"\n",
    "    mavg = list() \n",
    "    for i in range(len(values)):\n",
    "        if i >= window:\n",
    "            mavg.append((np.mean(values[(i-window+1):i+1])))\n",
    "        else:\n",
    "            mavg.append((np.mean(values[0:i+1])))\n",
    "            \n",
    "    return mavg"
   ]
  },
  {
   "cell_type": "code",
   "execution_count": 39,
   "metadata": {},
   "outputs": [],
   "source": [
    "def moving_std(values,window):\n",
    "    \"\"\"A function to compute incremental (not centred) moving STD (not efficiently!)\n",
    "    It loops through an input list and computes STD of the previous elements (according to window)\n",
    "    Also computes moving STD of first window - 1 elements! \n",
    "    Args:\n",
    "        param1 (list): A list of numerical values.\n",
    "        param2 (int): The window size.\n",
    "\n",
    "    Returns:\n",
    "        a list of moving STD values\n",
    "    \"\"\"\n",
    "    mstd = list()\n",
    "    for i in range(0,len(values)):\n",
    "        if i >= window:\n",
    "            mstd.append(np.std(values[(i-window+1):i+1]))\n",
    "        else:\n",
    "            mstd.append(np.std(values[0:i+1]))\n",
    "            \n",
    "    return mstd"
   ]
  },
  {
   "cell_type": "code",
   "execution_count": 40,
   "metadata": {},
   "outputs": [],
   "source": [
    "def get_lower_upper_bounds(ma,mstd):\n",
    "    \"\"\"This function to computes the lower an upper bounds for moving STD around moving Avg\n",
    "    It loops through the MA list and computes the lower and upper bound values at each point\n",
    "    For the current ma point, upper bound = value + (mstd at that point/2)\n",
    "    and lower bound = value - (mstd at that point/2)\n",
    "    Args:\n",
    "        param1 (list): A list of Moving Avg values.\n",
    "        param2 (list): A list of Moving STD values.\n",
    "\n",
    "    Returns:\n",
    "        two lists of lower and upper bound values\n",
    "    \"\"\"\n",
    "    upper_bound = list()\n",
    "    lower_bound = list()\n",
    "    for idx, val in enumerate(ma):\n",
    "        ub = val + (mstd[idx]/2)\n",
    "        lb = val - (mstd[idx]/2)\n",
    "        upper_bound.append(ub)\n",
    "        lower_bound.append(lb)\n",
    "    return lower_bound,upper_bound"
   ]
  },
  {
   "cell_type": "code",
   "execution_count": 41,
   "metadata": {},
   "outputs": [],
   "source": [
    "window = 5\n",
    "data = df['IBM']\n",
    "x = list(range(len(data)))\n",
    "#compute moving avg and moving std\n",
    "ma = moving_avg(data,window)\n",
    "mstd = moving_std(data,window)\n",
    "#get lower and upper values of curves surrounding the MA curve\n",
    "#to represent the moving STD band around MA curve\n",
    "y_lower,y_upper = get_lower_upper_bounds(ma,mstd)  \n",
    "\n",
    "#values of MA to be plotted\n",
    "ma_trace = go.Scatter(x=x, y=ma, mode='lines', name=\"Moving Average\")"
   ]
  },
  {
   "cell_type": "code",
   "execution_count": 42,
   "metadata": {},
   "outputs": [
    {
     "data": {
      "application/vnd.plotly.v1+json": {
       "config": {
        "plotlyServerURL": "https://plot.ly"
       },
       "data": [
        {
         "line": {
          "shape": "linear"
         },
         "name": "IBM",
         "type": "scatter",
         "x": [
          0,
          1,
          2,
          3,
          4,
          5,
          6,
          7,
          8,
          9,
          10,
          11,
          12,
          13,
          14,
          15,
          16,
          17,
          18,
          19,
          20,
          21,
          22,
          23,
          24,
          25,
          26,
          27,
          28,
          29,
          30,
          31,
          32,
          33,
          34,
          35,
          36,
          37,
          38,
          39,
          40,
          41,
          42,
          43,
          44,
          45,
          46,
          47,
          48,
          49,
          50,
          51,
          52,
          53,
          54,
          55,
          56,
          57,
          58,
          59,
          60,
          61,
          62,
          63,
          64,
          65,
          66,
          67,
          68,
          69,
          70,
          71,
          72,
          73,
          74,
          75,
          76,
          77,
          78,
          79,
          80,
          81,
          82,
          83,
          84,
          85,
          86,
          87,
          88,
          89,
          90,
          91,
          92,
          93,
          94,
          95,
          96,
          97,
          98,
          99,
          100,
          101,
          102,
          103,
          104,
          105,
          106,
          107,
          108,
          109,
          110,
          111,
          112,
          113,
          114,
          115,
          116,
          117,
          118,
          119,
          120,
          121,
          122,
          123,
          124,
          125,
          126,
          127,
          128,
          129,
          130,
          131,
          132,
          133,
          134,
          135,
          136,
          137,
          138,
          139,
          140,
          141,
          142,
          143,
          144,
          145,
          146,
          147,
          148,
          149,
          150,
          151,
          152,
          153,
          154,
          155,
          156,
          157,
          158,
          159,
          160,
          161,
          162,
          163,
          164,
          165,
          166,
          167,
          168,
          169,
          170,
          171,
          172,
          173,
          174,
          175,
          176,
          177,
          178,
          179,
          180,
          181,
          182,
          183,
          184,
          185,
          186,
          187,
          188,
          189,
          190,
          191,
          192,
          193,
          194,
          195,
          196,
          197,
          198,
          199,
          200,
          201,
          202,
          203,
          204,
          205,
          206,
          207,
          208,
          209,
          210,
          211,
          212,
          213,
          214,
          215,
          216,
          217,
          218,
          219,
          220,
          221,
          222,
          223,
          224,
          225,
          226,
          227,
          228,
          229,
          230,
          231,
          232,
          233,
          234,
          235,
          236,
          237,
          238,
          239,
          240,
          241,
          242,
          243,
          244,
          245,
          246,
          247,
          248,
          249,
          250,
          251,
          252,
          253,
          254,
          255,
          256,
          257,
          258,
          259,
          260,
          261,
          262,
          263,
          264,
          265,
          266,
          267,
          268,
          269,
          270,
          271,
          272,
          273,
          274,
          275,
          276,
          277,
          278,
          279,
          280,
          281,
          282,
          283,
          284,
          285,
          286,
          287,
          288,
          289,
          290,
          291,
          292,
          293,
          294,
          295,
          296,
          297,
          298,
          299,
          300,
          301,
          302,
          303,
          304,
          305,
          306,
          307,
          308,
          309,
          310,
          311,
          312,
          313,
          314,
          315,
          316,
          317,
          318,
          319,
          320,
          321,
          322,
          323,
          324,
          325,
          326,
          327,
          328,
          329,
          330,
          331,
          332,
          333,
          334,
          335,
          336,
          337,
          338,
          339,
          340,
          341,
          342,
          343,
          344,
          345,
          346,
          347,
          348,
          349,
          350,
          351,
          352,
          353,
          354,
          355,
          356,
          357,
          358,
          359,
          360,
          361,
          362,
          363,
          364,
          365,
          366,
          367,
          368,
          369,
          370,
          371,
          372,
          373,
          374,
          375,
          376,
          377,
          378,
          379,
          380,
          381,
          382,
          383,
          384,
          385,
          386,
          387,
          388,
          389,
          390,
          391,
          392,
          393,
          394,
          395,
          396,
          397,
          398,
          399,
          400,
          401,
          402,
          403,
          404,
          405,
          406,
          407,
          408,
          409,
          410,
          411,
          412,
          413,
          414,
          415,
          416,
          417,
          418,
          419,
          420,
          421,
          422,
          423,
          424,
          425,
          426,
          427,
          428,
          429,
          430,
          431,
          432,
          433,
          434,
          435,
          436,
          437,
          438,
          439,
          440,
          441,
          442,
          443,
          444,
          445,
          446,
          447,
          448,
          449,
          450,
          451,
          452,
          453,
          454,
          455,
          456,
          457,
          458,
          459,
          460,
          461,
          462,
          463,
          464,
          465,
          466,
          467,
          468,
          469,
          470,
          471,
          472,
          473,
          474,
          475,
          476,
          477,
          478,
          479,
          480,
          481,
          482,
          483,
          484,
          485,
          486,
          487,
          488,
          489,
          490,
          491,
          492,
          493,
          494,
          495,
          496,
          497,
          498,
          499,
          500,
          501,
          502,
          503,
          504,
          505,
          506,
          507,
          508,
          509,
          510,
          511,
          512,
          513,
          514,
          515,
          516,
          517,
          518,
          519,
          520,
          521,
          522,
          523,
          524,
          525,
          526,
          527,
          528,
          529,
          530,
          531,
          532,
          533,
          534,
          535,
          536,
          537,
          538,
          539,
          540,
          541,
          542,
          543,
          544,
          545,
          546,
          547,
          548,
          549,
          550,
          551,
          552,
          553,
          554,
          555,
          556,
          557,
          558,
          559,
          560,
          561,
          562,
          563,
          564,
          565,
          566,
          567,
          568,
          569,
          570,
          571,
          572,
          573,
          574,
          575,
          576,
          577,
          578,
          579,
          580,
          581,
          582,
          583,
          584,
          585,
          586,
          587,
          588,
          589,
          590,
          591,
          592,
          593,
          594,
          595,
          596,
          597,
          598,
          599,
          600,
          601,
          602,
          603,
          604,
          605,
          606,
          607,
          608,
          609,
          610,
          611,
          612,
          613,
          614,
          615,
          616,
          617,
          618,
          619,
          620,
          621,
          622,
          623,
          624,
          625,
          626,
          627,
          628,
          629,
          630,
          631,
          632,
          633,
          634,
          635,
          636,
          637,
          638,
          639,
          640,
          641,
          642,
          643,
          644,
          645,
          646,
          647,
          648,
          649,
          650,
          651,
          652,
          653,
          654,
          655,
          656,
          657,
          658,
          659,
          660,
          661,
          662,
          663,
          664,
          665,
          666,
          667,
          668,
          669,
          670,
          671,
          672,
          673,
          674,
          675,
          676,
          677,
          678,
          679,
          680,
          681,
          682,
          683,
          684,
          685,
          686,
          687,
          688,
          689,
          690,
          691,
          692,
          693,
          694,
          695,
          696,
          697,
          698,
          699,
          700,
          701,
          702,
          703,
          704,
          705,
          706,
          707,
          708,
          709,
          710,
          711,
          712,
          713,
          714,
          715,
          716,
          717,
          718,
          719,
          720,
          721,
          722,
          723,
          724,
          725,
          726,
          727,
          728,
          729,
          730,
          731,
          732,
          733,
          734,
          735,
          736,
          737,
          738,
          739,
          740,
          741,
          742,
          743,
          744,
          745,
          746,
          747,
          748,
          749,
          750,
          751,
          752,
          753
         ],
         "y": [
          146.93508911132812,
          148.75430297851562,
          148.2621307373047,
          148.9915771484375,
          147.33934020996094,
          145.46739196777344,
          147.42721557617188,
          147.60302734375,
          147.06689453125,
          147.55026245117188,
          146.59230041503906,
          146.60110473632812,
          149.88800048828125,
          150.30987548828125,
          154.58985900878906,
          156.69029235839844,
          157.01547241210938,
          155.8202362060547,
          154.50201416015625,
          153.37705993652344,
          153.17489624023438,
          153.42979431152344,
          154.51954650878906,
          154.55467224121094,
          156.83973693847656,
          156.05136108398438,
          156.97262573242188,
          158.2747039794922,
          158.87705993652344,
          159.55911254882812,
          160.93211364746094,
          160.71063232421875,
          160.03744506835938,
          159.67430114746094,
          160.46263122558594,
          160.9055633544922,
          160.63980102539062,
          158.9124755859375,
          159.28453063964844,
          161.17129516601562,
          159.9134521484375,
          159.48825073242188,
          159.86032104492188,
          159.78057861328125,
          158.95677185058594,
          156.94601440429688,
          157.52178955078125,
          156.30824279785156,
          155.65274047851562,
          155.7324676513672,
          156.99913024902344,
          155.59075927734375,
          155.63504028320312,
          154.02288818359375,
          154.8201141357422,
          154.85556030273438,
          153.9785919189453,
          153.92544555664062,
          154.58091735839844,
          154.07603454589844,
          154.00515747070312,
          154.253173828125,
          154.5720672607422,
          154.5897979736328,
          153.13706970214844,
          152.7561798095703,
          152.48159790039062,
          151.64892578125,
          151.09976196289062,
          151.1705780029297,
          150.16964721679688,
          151.5603485107422,
          150.63027954101562,
          143.22496032714844,
          143.76531982421875,
          142.0645751953125,
          142.39230346679688,
          142.07347106933594,
          141.78111267089844,
          142.01144409179688,
          141.98484802246094,
          140.700439453125,
          140.93075561523438,
          140.51441955566406,
          140.88645935058594,
          137.34326171875,
          136.87812805175778,
          136.05523681640622,
          135.28604125976562,
          134.74935913085938,
          134.4989013671875,
          135.51858520507812,
          137.45953369140622,
          134.99978637695312,
          134.86563110351562,
          135.93899536132812,
          136.52931213378906,
          135.98370361328122,
          136.41304016113278,
          137.03021240234378,
          136.3951416015625,
          135.71533203125,
          136.52040100097656,
          136.55615234375,
          136.00157165527344,
          136.3236083984375,
          136.28779602050778,
          135.04452514648438,
          136.04629516601562,
          137.83522033691406,
          138.80120849609378,
          137.96939086914062,
          137.57582092285156,
          137.94253540039062,
          138.98011779785156,
          138.49711608886722,
          138.59550476074222,
          137.55792236328122,
          138.10354614257812,
          137.84416198730472,
          138.845947265625,
          138.41659545898438,
          138.92646789550778,
          137.86207580566406,
          137.59371948242188,
          139.15898132324222,
          137.45059204101562,
          136.27888488769528,
          136.79766845703122,
          137.22697448730472,
          137.02127075195312,
          137.47743225097656,
          137.41484069824222,
          137.96044921875,
          136.86026000976562,
          137.74574279785156,
          131.95863342285156,
          132.07493591308594,
          131.55615234375,
          130.58123779296878,
          130.76011657714844,
          130.01768493652344,
          129.75833129882812,
          129.06062316894528,
          129.4005126953125,
          129.96403503417972,
          129.2037353515625,
          129.64202880859378,
          129.83882141113278,
          128.32716369628906,
          128.4537353515625,
          128.14640808105472,
          128.20964050292972,
          128.20964050292972,
          128.6435546875,
          128.4176025390625,
          128.80624389648438,
          127.17921447753906,
          126.27532958984376,
          126.84475708007812,
          127.45941925048828,
          128.4808349609375,
          129.20394897460938,
          129.92707824707028,
          128.81527709960938,
          129.38475036621094,
          128.86048889160156,
          129.28530883789062,
          130.23442077636722,
          129.29435729980472,
          129.99942016601562,
          129.16780090332028,
          128.76106262207028,
          130.93943786621094,
          131.75294494628906,
          131.96089172363278,
          131.55412292480472,
          130.90330505371094,
          130.65924072265622,
          130.51461791992188,
          131.86143493652344,
          131.30104064941406,
          131.18351745605472,
          131.85237121582028,
          132.47610473632812,
          131.66259765625,
          131.66259765625,
          131.13833618164062,
          132.56649780273438,
          132.67494201660156,
          132.40379333496094,
          132.6207275390625,
          132.40379333496094,
          133.22633361816406,
          134.22966003417972,
          133.43423461914062,
          132.90093994140622,
          132.96420288085938,
          132.72013854980472,
          132.45802307128906,
          144.19972229003906,
          145.4380645751953,
          146.49562072753906,
          144.2178192138672,
          140.9004669189453,
          138.74917602539062,
          138.83958435058594,
          138.91188049316406,
          139.52653503417972,
          139.25537109375,
          139.228271484375,
          138.61360168457028,
          137.01368713378906,
          136.34478759765622,
          136.80577087402344,
          137.004638671875,
          137.21463012695312,
          136.17387390136722,
          135.48002624511722,
          135.92741394042972,
          134.29322814941406,
          136.13734436035156,
          136.00041198730472,
          137.40634155273438,
          138.720947265625,
          138.55662536621094,
          138.62052917480472,
          138.74835205078122,
          139.19569396972656,
          140.18165588378906,
          140.56509399414062,
          141.28631591796875,
          142.83834838867188,
          141.82496643066406,
          140.68379211425778,
          140.19993591308594,
          141.3319549560547,
          141.8797149658203,
          143.0939483642578,
          140.51033020019528,
          140.59249877929688,
          139.22308349609378,
          139.9808349609375,
          139.88954162597656,
          139.63389587402344,
          138.31016540527344,
          139.22308349609378,
          139.52435302734378,
          139.79824829101562,
          140.62901306152344,
          140.06298828125,
          140.82073974609375,
          144.6916046142578,
          147.62213134765625,
          148.34335327148438,
          149.238037109375,
          149.56668090820312,
          149.88621520996094,
          149.9044952392578,
          148.93675231933594,
          149.58494567871094,
          153.967041015625,
          154.39610290527344,
          148.23377990722656,
          148.44378662109375,
          151.77598571777344,
          150.97259521484375,
          151.0638885498047,
          152.77110290527344,
          152.27810668945312,
          149.3749542236328,
          149.44798278808594,
          148.2611846923828,
          145.18455505371094,
          139.25047302246094,
          141.81582641601562,
          140.45556640625,
          136.06718444824222,
          137.83729553222656,
          139.5797119140625,
          138.98048400878906,
          142.67739868164062,
          143.82981872558594,
          143.9865264892578,
          143.04615783691406,
          141.93988037109375,
          141.22073364257812,
          143.37806701660156,
          146.19918823242188,
          144.32765197753906,
          143.6638641357422,
          141.8015594482422,
          142.42849731445312,
          144.69639587402344,
          143.5624542236328,
          145.95948791503906,
          144.0142059326172,
          146.87216186523438,
          147.7480010986328,
          146.88137817382812,
          145.77508544921875,
          147.14874267578125,
          147.7480010986328,
          145.065185546875,
          144.0049591064453,
          144.4567108154297,
          140.21583557128906,
          137.26570129394528,
          141.3959197998047,
          140.04989624023438,
          140.61228942871094,
          141.45123291015625,
          138.35356140136722,
          138.1507568359375,
          142.08737182617188,
          142.00439453125,
          138.81454467773438,
          140.76901245117188,
          143.2582244873047,
          143.2305450439453,
          145.72898864746094,
          144.4751739501953,
          145.5630340576172,
          148.34725952148438,
          137.17349243164062,
          136.16859436035156,
          133.58720397949222,
          134.47225952148438,
          134.1956787109375,
          134.5460205078125,
          135.26509094238278,
          135.04386901855472,
          133.64253234863278,
          133.67938232421878,
          131.3284912109375,
          130.90440368652344,
          132.67446899414062,
          132.03836059570312,
          131.83555603027344,
          132.93548583984378,
          134.45491027832028,
          134.3616943359375,
          134.51083374023438,
          133.98883056640622,
          134.81846618652344,
          134.697265625,
          134.30577087402344,
          135.62013244628906,
          135.24725341796878,
          134.85574340820312,
          134.29644775390622,
          133.89559936523438,
          131.63978576660156,
          132.94480895996094,
          131.72367858886722,
          132.32025146484378,
          133.3363037109375,
          133.95152282714844,
          134.89302062988278,
          135.49893188476562,
          136.22601318359378,
          136.63616943359378,
          136.90646362304688,
          136.42178344726562,
          135.34977722167972,
          135.52688598632812,
          134.67861938476562,
          134.13795471191406,
          132.95413208007812,
          131.66773986816406,
          131.69570922851562,
          129.37461853027344,
          129.64494323730472,
          128.15348815917972,
          130.53981018066406,
          130.222900390625,
          130.37203979492188,
          130.10171508789062,
          131.83554077148438,
          132.81430053710938,
          134.59474182128906,
          134.89302062988278,
          135.107421875,
          136.51498413085938,
          136.00228881835938,
          135.59214782714844,
          133.75576782226562,
          134.71591186523438,
          139.11572265625,
          136.42178344726562,
          135.81585693359378,
          136.44972229003906,
          136.67343139648438,
          136.75735473632812,
          135.30317687988278,
          135.62013244628906,
          135.09811401367188,
          133.76510620117188,
          133.26174926757812,
          137.68019104003906,
          136.12347412109378,
          137.03700256347656,
          136.92514038085938,
          136.40692138671878,
          136.13365173339844,
          134.46591186523438,
          135.07835388183594,
          135.59657287597656,
          136.94398498535156,
          137.62240600585938,
          138.04638671875,
          137.53758239746094,
          136.84977722167972,
          136.97224426269528,
          137.60353088378906,
          138.21598815917972,
          138.12176513671878,
          139.01687622070312,
          137.49989318847656,
          138.01811218261722,
          137.26431274414062,
          138.18772888183594,
          137.93333435058594,
          137.04762268066406,
          137.23606872558594,
          138.02754211425778,
          138.10293579101562,
          140.34542846679688,
          139.76124572753906,
          139.39378356933594,
          139.97798156738278,
          140.44908142089844,
          142.41835021972656,
          142.6068115234375,
          141.363037109375,
          140.30776977539062,
          142.85177612304688,
          142.74813842773438,
          142.4748992919922,
          144.16146850585938,
          144.86814880371094,
          144.36874389648438,
          142.569091796875,
          140.42082214355472,
          139.81776428222656,
          138.73422241210938,
          134.44705200195312,
          130.98907470703122,
          132.71334838867188,
          132.97720336914062,
          136.73667907714844,
          126.30618286132812,
          123.00836944580078,
          121.64214324951172,
          122.5089874267578,
          123.6302490234375,
          119.86131286621094,
          119.1452178955078,
          117.58111572265624,
          112.72862243652344,
          108.73355865478516,
          108.76182556152344,
          110.08094787597656,
          108.98795318603516,
          113.12435150146484,
          116.0075912475586,
          117.6282196044922,
          117.73318481445312,
          117.88587188720705,
          115.36669158935548,
          115.30943298339844,
          114.69873046875,
          115.88198852539062,
          116.00602722167969,
          114.80369567871094,
          111.83602905273438,
          113.1433334350586,
          111.82649230957031,
          114.08802032470705,
          114.53650665283205,
          117.3705825805664,
          115.92015075683594,
          118.58245086669922,
          119.57486724853516,
          116.03465270996094,
          118.23893737792969,
          113.87808990478516,
          115.58616638183594,
          115.35714721679688,
          115.6147918701172,
          115.20448303222656,
          114.41246032714844,
          110.786376953125,
          111.31121063232422,
          111.10128021240234,
          107.84733581542969,
          105.86254119873048,
          102.6467742919922,
          106.29193878173828,
          108.5725555419922,
          107.85688018798828,
          108.46759033203124,
          109.9371109008789,
          107.74237060546876,
          111.9505386352539,
          112.7425537109375,
          114.3456573486328,
          115.1663055419922,
          116.21595764160156,
          115.90106201171876,
          114.88003540039062,
          116.1587142944336,
          116.05374145507812,
          116.59765625,
          118.1530532836914,
          116.91254425048828,
          126.80792999267578,
          126.46440887451172,
          127.83850860595705,
          128.12480163574222,
          128.18202209472656,
          128.22975158691406,
          128.26791381835938,
          127.96257019042969,
          129.00267028808594,
          129.34619140625,
          130.08096313476562,
          128.57501220703122,
          129.07699584960938,
          129.34730529785156,
          131.33592224121094,
          132.75498962402344,
          131.75100708007812,
          133.247314453125,
          133.89408874511722,
          133.21835327148438,
          133.06390380859378,
          134.425048828125,
          134.62776184082028,
          134.87873840332028,
          134.34780883789062,
          133.34385681152344,
          134.37675476074222,
          133.63345336914062,
          133.10250854492188,
          132.23368835449222,
          130.66983032226562,
          130.4091796875,
          132.93841552734378,
          133.4886474609375,
          133.75894165039062,
          133.98097229003906,
          134.59878540039062,
          135.35177612304688,
          135.6220703125,
          134.76292419433594,
          136.53915405273438,
          134.61810302734378,
          134.35746765136722,
          135.36143493652344,
          134.41539001464844,
          135.07182312011722,
          136.21095275878906,
          138.334716796875,
          138.04510498046878,
          138.65327453613278,
          137.83271789550778,
          138.31541442871094,
          138.42160034179688,
          137.18594360351562,
          138.06440734863278,
          138.79808044433594,
          139.34832763671878,
          138.91390991210938,
          140.1109619140625,
          134.28990173339844,
          135.46762084960938,
          134.0775146484375,
          135.57380676269528,
          135.10076904296878,
          133.82652282714844,
          134.60845947265622,
          134.23197937011722,
          135.40969848632812,
          135.68963623046878,
          134.75325012207028,
          135.39039611816406,
          135.51588439941406,
          132.87083435058594,
          133.21835327148438,
          132.20245361328122,
          132.18293762207028,
          128.37333679199222,
          130.21951293945312,
          131.28424072265622,
          132.72994995117188,
          131.20611572265622,
          131.98756408691406,
          133.28672790527344,
          133.18905639648438,
          129.32084655761722,
          129.21339416503906,
          127.43560791015624,
          126.6834487915039,
          126.56622314453124,
          124.04602813720705,
          125.2963638305664,
          129.61390686035156,
          128.44172668457028,
          129.15478515625,
          130.21951293945312,
          131.61636352539062,
          132.79832458496094,
          131.74334716796878,
          132.61271667480472,
          132.01686096191406,
          131.82150268554688,
          133.21835327148438,
          133.90211486816406,
          135.63108825683594,
          135.97296142578122,
          136.1195068359375,
          135.15245056152344,
          135.30874633789062,
          135.30874633789062,
          134.70310974121094,
          136.63720703125,
          136.96932983398438,
          138.25871276855472,
          138.10244750976562,
          137.31121826171878,
          136.09996032714844,
          137.21353149414062,
          137.9656982421875,
          139.430908203125,
          139.99748229980472,
          140.20259094238278,
          139.75326538085938,
          146.1611785888672,
          146.2100067138672,
          146.2686309814453,
          146.893798828125,
          146.55189514160156,
          146.903564453125,
          147.85107421875,
          147.3822021484375,
          146.29794311523438,
          144.8034210205078,
          146.83518981933594,
          143.8363494873047,
          137.49681091308594,
          137.46749877929688,
          135.88505554199222,
          138.464599609375,
          134.54093933105472,
          132.55439758300778,
          134.20489501953122,
          129.7178955078125,
          130.38008117675778,
          132.19859313964844,
          133.46365356445312,
          131.44746398925778,
          132.68287658691406,
          132.7520751953125,
          128.05751037597656,
          128.47261047363278,
          129.63882446289062,
          131.21026611328122,
          133.30552673339844,
          133.94793701171878,
          132.53463745117188,
          134.72872924804688,
          139.32443237304688,
          138.92910766601562,
          140.93540954589844,
          143.3568115234375,
          141.92373657226562,
          141.94349670410156,
          141.992919921875,
          140.81680297851562,
          140.54006958007812,
          140.55984497070312,
          141.30108642578125,
          140.22381591796878,
          140.41160583496094,
          140.02613830566406,
          141.48887634277344,
          141.87432861328125,
          141.5679473876953,
          143.7224884033203,
          141.9830322265625,
          140.03602600097656,
          140.3621826171875,
          141.32086181640625,
          139.63081359863278,
          136.76467895507812,
          138.03961181640622,
          139.48257446289062,
          141.09353637695312,
          140.38194274902344,
          141.3307342529297,
          140.45112609863278,
          132.69276428222656,
          132.52474975585938,
          131.03237915039062,
          132.39627075195312,
          132.81137084960938,
          132.50498962402344,
          133.85899353027344,
          134.38279724121094,
          132.25790405273438,
          133.67120361328122,
          132.1689453125,
          133.94793701171878,
          136.06295776367188,
          136.2803955078125,
          137.16000366210938,
          137.69000244140622,
          137.61000061035156,
          135.47000122070312,
          135.58999633789062,
          134.47999572753906,
          134,
          134.39999389648438,
          134.30999755859378,
          134.52000427246094,
          133.19999694824222,
          133.83999633789062,
          134.33999633789062,
          135.97000122070312,
          135.08999633789062,
          133.77000427246094,
          134.44999694824222,
          132.91000366210938,
          132.1199951171875,
          131.99000549316406,
          131.91000366210938,
          133.22000122070312,
          133.91999816894528,
          133.91000366210938,
          133.75999450683594,
          135.32000732421878,
          134.21000671386722,
          134.1300048828125,
          134.22000122070312,
          134.41000366210938,
          134.55999755859378,
          135.58999633789062,
          135.55000305175778,
          134.97999572753906,
          134.91000366210938,
          135.27000427246094,
          132.80999755859378,
          134.03999328613278
         ]
        },
        {
         "fill": "toself",
         "fillcolor": "rgba(0,100,80,0.2)",
         "line": {
          "color": "rgba(255,255,255,0)"
         },
         "name": "Moving STD",
         "showlegend": false,
         "type": "scatter",
         "x": [
          0,
          1,
          2,
          3,
          4,
          5,
          6,
          7,
          8,
          9,
          10,
          11,
          12,
          13,
          14,
          15,
          16,
          17,
          18,
          19,
          20,
          21,
          22,
          23,
          24,
          25,
          26,
          27,
          28,
          29,
          30,
          31,
          32,
          33,
          34,
          35,
          36,
          37,
          38,
          39,
          40,
          41,
          42,
          43,
          44,
          45,
          46,
          47,
          48,
          49,
          50,
          51,
          52,
          53,
          54,
          55,
          56,
          57,
          58,
          59,
          60,
          61,
          62,
          63,
          64,
          65,
          66,
          67,
          68,
          69,
          70,
          71,
          72,
          73,
          74,
          75,
          76,
          77,
          78,
          79,
          80,
          81,
          82,
          83,
          84,
          85,
          86,
          87,
          88,
          89,
          90,
          91,
          92,
          93,
          94,
          95,
          96,
          97,
          98,
          99,
          100,
          101,
          102,
          103,
          104,
          105,
          106,
          107,
          108,
          109,
          110,
          111,
          112,
          113,
          114,
          115,
          116,
          117,
          118,
          119,
          120,
          121,
          122,
          123,
          124,
          125,
          126,
          127,
          128,
          129,
          130,
          131,
          132,
          133,
          134,
          135,
          136,
          137,
          138,
          139,
          140,
          141,
          142,
          143,
          144,
          145,
          146,
          147,
          148,
          149,
          150,
          151,
          152,
          153,
          154,
          155,
          156,
          157,
          158,
          159,
          160,
          161,
          162,
          163,
          164,
          165,
          166,
          167,
          168,
          169,
          170,
          171,
          172,
          173,
          174,
          175,
          176,
          177,
          178,
          179,
          180,
          181,
          182,
          183,
          184,
          185,
          186,
          187,
          188,
          189,
          190,
          191,
          192,
          193,
          194,
          195,
          196,
          197,
          198,
          199,
          200,
          201,
          202,
          203,
          204,
          205,
          206,
          207,
          208,
          209,
          210,
          211,
          212,
          213,
          214,
          215,
          216,
          217,
          218,
          219,
          220,
          221,
          222,
          223,
          224,
          225,
          226,
          227,
          228,
          229,
          230,
          231,
          232,
          233,
          234,
          235,
          236,
          237,
          238,
          239,
          240,
          241,
          242,
          243,
          244,
          245,
          246,
          247,
          248,
          249,
          250,
          251,
          252,
          253,
          254,
          255,
          256,
          257,
          258,
          259,
          260,
          261,
          262,
          263,
          264,
          265,
          266,
          267,
          268,
          269,
          270,
          271,
          272,
          273,
          274,
          275,
          276,
          277,
          278,
          279,
          280,
          281,
          282,
          283,
          284,
          285,
          286,
          287,
          288,
          289,
          290,
          291,
          292,
          293,
          294,
          295,
          296,
          297,
          298,
          299,
          300,
          301,
          302,
          303,
          304,
          305,
          306,
          307,
          308,
          309,
          310,
          311,
          312,
          313,
          314,
          315,
          316,
          317,
          318,
          319,
          320,
          321,
          322,
          323,
          324,
          325,
          326,
          327,
          328,
          329,
          330,
          331,
          332,
          333,
          334,
          335,
          336,
          337,
          338,
          339,
          340,
          341,
          342,
          343,
          344,
          345,
          346,
          347,
          348,
          349,
          350,
          351,
          352,
          353,
          354,
          355,
          356,
          357,
          358,
          359,
          360,
          361,
          362,
          363,
          364,
          365,
          366,
          367,
          368,
          369,
          370,
          371,
          372,
          373,
          374,
          375,
          376,
          377,
          378,
          379,
          380,
          381,
          382,
          383,
          384,
          385,
          386,
          387,
          388,
          389,
          390,
          391,
          392,
          393,
          394,
          395,
          396,
          397,
          398,
          399,
          400,
          401,
          402,
          403,
          404,
          405,
          406,
          407,
          408,
          409,
          410,
          411,
          412,
          413,
          414,
          415,
          416,
          417,
          418,
          419,
          420,
          421,
          422,
          423,
          424,
          425,
          426,
          427,
          428,
          429,
          430,
          431,
          432,
          433,
          434,
          435,
          436,
          437,
          438,
          439,
          440,
          441,
          442,
          443,
          444,
          445,
          446,
          447,
          448,
          449,
          450,
          451,
          452,
          453,
          454,
          455,
          456,
          457,
          458,
          459,
          460,
          461,
          462,
          463,
          464,
          465,
          466,
          467,
          468,
          469,
          470,
          471,
          472,
          473,
          474,
          475,
          476,
          477,
          478,
          479,
          480,
          481,
          482,
          483,
          484,
          485,
          486,
          487,
          488,
          489,
          490,
          491,
          492,
          493,
          494,
          495,
          496,
          497,
          498,
          499,
          500,
          501,
          502,
          503,
          504,
          505,
          506,
          507,
          508,
          509,
          510,
          511,
          512,
          513,
          514,
          515,
          516,
          517,
          518,
          519,
          520,
          521,
          522,
          523,
          524,
          525,
          526,
          527,
          528,
          529,
          530,
          531,
          532,
          533,
          534,
          535,
          536,
          537,
          538,
          539,
          540,
          541,
          542,
          543,
          544,
          545,
          546,
          547,
          548,
          549,
          550,
          551,
          552,
          553,
          554,
          555,
          556,
          557,
          558,
          559,
          560,
          561,
          562,
          563,
          564,
          565,
          566,
          567,
          568,
          569,
          570,
          571,
          572,
          573,
          574,
          575,
          576,
          577,
          578,
          579,
          580,
          581,
          582,
          583,
          584,
          585,
          586,
          587,
          588,
          589,
          590,
          591,
          592,
          593,
          594,
          595,
          596,
          597,
          598,
          599,
          600,
          601,
          602,
          603,
          604,
          605,
          606,
          607,
          608,
          609,
          610,
          611,
          612,
          613,
          614,
          615,
          616,
          617,
          618,
          619,
          620,
          621,
          622,
          623,
          624,
          625,
          626,
          627,
          628,
          629,
          630,
          631,
          632,
          633,
          634,
          635,
          636,
          637,
          638,
          639,
          640,
          641,
          642,
          643,
          644,
          645,
          646,
          647,
          648,
          649,
          650,
          651,
          652,
          653,
          654,
          655,
          656,
          657,
          658,
          659,
          660,
          661,
          662,
          663,
          664,
          665,
          666,
          667,
          668,
          669,
          670,
          671,
          672,
          673,
          674,
          675,
          676,
          677,
          678,
          679,
          680,
          681,
          682,
          683,
          684,
          685,
          686,
          687,
          688,
          689,
          690,
          691,
          692,
          693,
          694,
          695,
          696,
          697,
          698,
          699,
          700,
          701,
          702,
          703,
          704,
          705,
          706,
          707,
          708,
          709,
          710,
          711,
          712,
          713,
          714,
          715,
          716,
          717,
          718,
          719,
          720,
          721,
          722,
          723,
          724,
          725,
          726,
          727,
          728,
          729,
          730,
          731,
          732,
          733,
          734,
          735,
          736,
          737,
          738,
          739,
          740,
          741,
          742,
          743,
          744,
          745,
          746,
          747,
          748,
          749,
          750,
          751,
          752,
          753,
          753,
          752,
          751,
          750,
          749,
          748,
          747,
          746,
          745,
          744,
          743,
          742,
          741,
          740,
          739,
          738,
          737,
          736,
          735,
          734,
          733,
          732,
          731,
          730,
          729,
          728,
          727,
          726,
          725,
          724,
          723,
          722,
          721,
          720,
          719,
          718,
          717,
          716,
          715,
          714,
          713,
          712,
          711,
          710,
          709,
          708,
          707,
          706,
          705,
          704,
          703,
          702,
          701,
          700,
          699,
          698,
          697,
          696,
          695,
          694,
          693,
          692,
          691,
          690,
          689,
          688,
          687,
          686,
          685,
          684,
          683,
          682,
          681,
          680,
          679,
          678,
          677,
          676,
          675,
          674,
          673,
          672,
          671,
          670,
          669,
          668,
          667,
          666,
          665,
          664,
          663,
          662,
          661,
          660,
          659,
          658,
          657,
          656,
          655,
          654,
          653,
          652,
          651,
          650,
          649,
          648,
          647,
          646,
          645,
          644,
          643,
          642,
          641,
          640,
          639,
          638,
          637,
          636,
          635,
          634,
          633,
          632,
          631,
          630,
          629,
          628,
          627,
          626,
          625,
          624,
          623,
          622,
          621,
          620,
          619,
          618,
          617,
          616,
          615,
          614,
          613,
          612,
          611,
          610,
          609,
          608,
          607,
          606,
          605,
          604,
          603,
          602,
          601,
          600,
          599,
          598,
          597,
          596,
          595,
          594,
          593,
          592,
          591,
          590,
          589,
          588,
          587,
          586,
          585,
          584,
          583,
          582,
          581,
          580,
          579,
          578,
          577,
          576,
          575,
          574,
          573,
          572,
          571,
          570,
          569,
          568,
          567,
          566,
          565,
          564,
          563,
          562,
          561,
          560,
          559,
          558,
          557,
          556,
          555,
          554,
          553,
          552,
          551,
          550,
          549,
          548,
          547,
          546,
          545,
          544,
          543,
          542,
          541,
          540,
          539,
          538,
          537,
          536,
          535,
          534,
          533,
          532,
          531,
          530,
          529,
          528,
          527,
          526,
          525,
          524,
          523,
          522,
          521,
          520,
          519,
          518,
          517,
          516,
          515,
          514,
          513,
          512,
          511,
          510,
          509,
          508,
          507,
          506,
          505,
          504,
          503,
          502,
          501,
          500,
          499,
          498,
          497,
          496,
          495,
          494,
          493,
          492,
          491,
          490,
          489,
          488,
          487,
          486,
          485,
          484,
          483,
          482,
          481,
          480,
          479,
          478,
          477,
          476,
          475,
          474,
          473,
          472,
          471,
          470,
          469,
          468,
          467,
          466,
          465,
          464,
          463,
          462,
          461,
          460,
          459,
          458,
          457,
          456,
          455,
          454,
          453,
          452,
          451,
          450,
          449,
          448,
          447,
          446,
          445,
          444,
          443,
          442,
          441,
          440,
          439,
          438,
          437,
          436,
          435,
          434,
          433,
          432,
          431,
          430,
          429,
          428,
          427,
          426,
          425,
          424,
          423,
          422,
          421,
          420,
          419,
          418,
          417,
          416,
          415,
          414,
          413,
          412,
          411,
          410,
          409,
          408,
          407,
          406,
          405,
          404,
          403,
          402,
          401,
          400,
          399,
          398,
          397,
          396,
          395,
          394,
          393,
          392,
          391,
          390,
          389,
          388,
          387,
          386,
          385,
          384,
          383,
          382,
          381,
          380,
          379,
          378,
          377,
          376,
          375,
          374,
          373,
          372,
          371,
          370,
          369,
          368,
          367,
          366,
          365,
          364,
          363,
          362,
          361,
          360,
          359,
          358,
          357,
          356,
          355,
          354,
          353,
          352,
          351,
          350,
          349,
          348,
          347,
          346,
          345,
          344,
          343,
          342,
          341,
          340,
          339,
          338,
          337,
          336,
          335,
          334,
          333,
          332,
          331,
          330,
          329,
          328,
          327,
          326,
          325,
          324,
          323,
          322,
          321,
          320,
          319,
          318,
          317,
          316,
          315,
          314,
          313,
          312,
          311,
          310,
          309,
          308,
          307,
          306,
          305,
          304,
          303,
          302,
          301,
          300,
          299,
          298,
          297,
          296,
          295,
          294,
          293,
          292,
          291,
          290,
          289,
          288,
          287,
          286,
          285,
          284,
          283,
          282,
          281,
          280,
          279,
          278,
          277,
          276,
          275,
          274,
          273,
          272,
          271,
          270,
          269,
          268,
          267,
          266,
          265,
          264,
          263,
          262,
          261,
          260,
          259,
          258,
          257,
          256,
          255,
          254,
          253,
          252,
          251,
          250,
          249,
          248,
          247,
          246,
          245,
          244,
          243,
          242,
          241,
          240,
          239,
          238,
          237,
          236,
          235,
          234,
          233,
          232,
          231,
          230,
          229,
          228,
          227,
          226,
          225,
          224,
          223,
          222,
          221,
          220,
          219,
          218,
          217,
          216,
          215,
          214,
          213,
          212,
          211,
          210,
          209,
          208,
          207,
          206,
          205,
          204,
          203,
          202,
          201,
          200,
          199,
          198,
          197,
          196,
          195,
          194,
          193,
          192,
          191,
          190,
          189,
          188,
          187,
          186,
          185,
          184,
          183,
          182,
          181,
          180,
          179,
          178,
          177,
          176,
          175,
          174,
          173,
          172,
          171,
          170,
          169,
          168,
          167,
          166,
          165,
          164,
          163,
          162,
          161,
          160,
          159,
          158,
          157,
          156,
          155,
          154,
          153,
          152,
          151,
          150,
          149,
          148,
          147,
          146,
          145,
          144,
          143,
          142,
          141,
          140,
          139,
          138,
          137,
          136,
          135,
          134,
          133,
          132,
          131,
          130,
          129,
          128,
          127,
          126,
          125,
          124,
          123,
          122,
          121,
          120,
          119,
          118,
          117,
          116,
          115,
          114,
          113,
          112,
          111,
          110,
          109,
          108,
          107,
          106,
          105,
          104,
          103,
          102,
          101,
          100,
          99,
          98,
          97,
          96,
          95,
          94,
          93,
          92,
          91,
          90,
          89,
          88,
          87,
          86,
          85,
          84,
          83,
          82,
          81,
          80,
          79,
          78,
          77,
          76,
          75,
          74,
          73,
          72,
          71,
          70,
          69,
          68,
          67,
          66,
          65,
          64,
          63,
          62,
          61,
          60,
          59,
          58,
          57,
          56,
          55,
          54,
          53,
          52,
          51,
          50,
          49,
          48,
          47,
          46,
          45,
          44,
          43,
          42,
          41,
          40,
          39,
          38,
          37,
          36,
          35,
          34,
          33,
          32,
          31,
          30,
          29,
          28,
          27,
          26,
          25,
          24,
          23,
          22,
          21,
          20,
          19,
          18,
          17,
          16,
          15,
          14,
          13,
          12,
          11,
          10,
          9,
          8,
          7,
          6,
          5,
          4,
          3,
          2,
          1,
          0
         ],
         "y": [
          146.93508911132812,
          148.29949951171875,
          148.36799991145466,
          148.63362755436685,
          148.45495151193768,
          148.40289074406041,
          148.0877946168479,
          147.9273087558052,
          147.3688989670397,
          147.42293779318592,
          147.4366549735272,
          147.30203852296475,
          148.15276630678977,
          148.99029249670033,
          151.07144189107106,
          153.41072750312617,
          155.22759384532122,
          156.10357912716427,
          156.24272835154778,
          156.16354896469392,
          155.50941654925097,
          154.55783034217367,
          154.09368562011633,
          154.11063800926115,
          155.15098926977595,
          155.68538299438987,
          156.32185989959046,
          157.1496228564486,
          157.91603688355346,
          158.5839247880183,
          159.58143672457845,
          160.1837422659852,
          160.39929825752802,
          160.4573810143895,
          160.5909061300923,
          160.58231569405916,
          160.56296862374182,
          160.4837459327701,
          160.43657707170647,
          160.63709927514046,
          160.4015724179109,
          160.1434452066299,
          160.27195958305407,
          160.33431133338158,
          159.7766315191188,
          159.54529203124983,
          159.2049907705793,
          158.54455674546378,
          157.6413830250861,
          156.790284390615,
          156.80485435925146,
          156.32470346313727,
          156.1922773858604,
          156.06847803737026,
          155.90758198272417,
          155.28144432673233,
          154.96942289106158,
          154.53235081905822,
          154.63391640245018,
          154.46769048476105,
          154.23264148186388,
          154.2846711165171,
          154.41833954436274,
          154.42116544133913,
          154.3780789917766,
          154.24475457032037,
          153.95783381581,
          153.40593110077424,
          152.59739237645894,
          152.16928823911144,
          151.6916913134501,
          151.39246627774418,
          151.16611572375953,
          150.9007947131569,
          149.67220688392297,
          148.2519562288944,
          145.99795055143528,
          143.04334455612857,
          142.76643555500488,
          142.16221809343614,
          142.14756639143,
          141.96743910608595,
          141.75896917611306,
          141.54951015766684,
          141.25961471666838,
          140.76199661179092,
          140.21461697459887,
          139.32451965324,
          138.2554207421709,
          136.54369945975594,
          135.93049752793308,
          135.49844671840523,
          136.0245725032945,
          135.97631669369477,
          135.99241447898333,
          136.22322332069453,
          136.4430484296377,
          135.98012188496403,
          136.2399941820392,
          136.5787641968154,
          136.6380150808521,
          136.53071678356716,
          136.62453106432991,
          136.65503743968375,
          136.40123493948,
          136.3840860946395,
          136.43709562994243,
          136.30736815082207,
          136.17368410824983,
          136.7545857929286,
          137.473403960619,
          137.82918440341692,
          138.09496853666374,
          138.23101115458653,
          138.52442728360714,
          138.43852468621242,
          138.56714615739145,
          138.56624677923702,
          138.5884030971125,
          138.31466428327948,
          138.42619694685447,
          138.37742030673425,
          138.63584017689922,
          138.61061355870697,
          138.5926400546364,
          138.6909500000943,
          138.551267335728,
          138.12945420979844,
          137.94270025704435,
          137.86968824171993,
          137.15580906860478,
          137.16453364174197,
          137.31351493610234,
          137.57698221103362,
          137.53932787367833,
          137.67736435635035,
          137.51076707964663,
          136.68121379508904,
          135.38170691509958,
          134.05146234277663,
          131.69206366808027,
          131.3628968516786,
          130.8482644904924,
          130.3397716970484,
          130.08904081783655,
          129.82116259230244,
          129.646302915986,
          129.6147686126754,
          129.74904979640903,
          129.69169167800524,
          129.39847447833304,
          129.23698338880513,
          128.9104727124606,
          128.32390038046745,
          128.4264766266164,
          128.41717403872457,
          128.57580561718947,
          128.53765878623508,
          128.3540220113244,
          127.98318069587695,
          127.73519694515527,
          127.61383484308814,
          128.18574910579287,
          128.94387244191617,
          129.18536579693424,
          129.40945322511382,
          129.44063676427754,
          129.4568722253779,
          129.57172272283452,
          129.63671777975597,
          129.78779080806524,
          129.81319480749266,
          129.76409341713227,
          130.0153260611539,
          130.67666545398728,
          131.17576400634778,
          131.57737003629862,
          131.6365345182497,
          131.6163617410739,
          131.39423384183107,
          131.35946863200581,
          131.29106082281766,
          131.3452210128827,
          131.59175954920062,
          131.96635132014993,
          131.92455590750149,
          131.97628797652305,
          131.9736648157807,
          132.17223971969375,
          132.23503535847178,
          132.38554467261469,
          132.57007147836268,
          132.5897853668242,
          132.8165180942083,
          133.32438035928868,
          133.50573514460177,
          133.5416091525671,
          133.590519327744,
          133.52167634581014,
          133.0563061908695,
          137.33807052214408,
          140.52861764258773,
          143.41617701545687,
          145.12367882135715,
          145.19047821948362,
          144.6092944139907,
          143.36970375287848,
          141.37668102250782,
          139.78816134854296,
          139.20192223772827,
          139.27723641534095,
          139.26433307629893,
          139.18125557651453,
          138.68830875326955,
          138.15929049688347,
          137.54045621629032,
          137.0245697625342,
          136.90513765412868,
          136.851948764408,
          136.68738397821602,
          136.2936678822588,
          135.95218356697657,
          135.90481203898435,
          136.44812118176944,
          137.2534205259759,
          137.94007318456218,
          138.38388552551504,
          138.66396789794263,
          138.88066772536698,
          139.36224729205205,
          139.8510455469965,
          140.45478957632963,
          141.42177164282657,
          141.80966745496417,
          141.8559068417059,
          141.82547020066735,
          141.83428903285477,
          141.5108249209192,
          141.9403707442963,
          141.91969567623806,
          141.95679062011848,
          141.71960581061057,
          141.33110107779302,
          140.28623488052904,
          140.08855223808726,
          139.7116822514459,
          139.7116822514459,
          139.58949850578034,
          139.56212148641262,
          139.87489850182143,
          140.08773959663787,
          140.4120810416512,
          142.09267543762158,
          144.23067906804678,
          146.00515790635998,
          147.67682313541113,
          148.76228819657,
          149.34777267636596,
          149.6759132453439,
          149.6939048633811,
          149.75088170241327,
          151.35096168597525,
          152.5231142347522,
          152.33226126631334,
          152.27600871516555,
          152.67606777756373,
          151.9056161742071,
          150.8303060484713,
          151.72233543034167,
          152.11837307895414,
          151.88328391617404,
          151.688033573934,
          151.3120318569299,
          150.05280869683858,
          148.22933455487544,
          146.7081678539954,
          144.6425738343592,
          142.0526300945932,
          140.08594951586534,
          140.1566696510431,
          139.34376323306356,
          140.119491439135,
          141.72203453825153,
          142.87261794794983,
          143.41771950784153,
          143.47317328437953,
          143.3414076584734,
          143.21426020803614,
          144.00964107997248,
          144.2956224231698,
          144.56023617139925,
          144.5881185711478,
          144.45424099819164,
          143.9362368796995,
          143.73710766074126,
          144.4425824085383,
          144.71950859244077,
          145.63551083737573,
          146.4382004041424,
          146.9315514078944,
          146.9005727834444,
          147.20495033755816,
          147.4233861025521,
          147.00871535840216,
          146.62907292487935,
          146.43016996241278,
          145.50781213703274,
          143.69907800287464,
          142.78313857703182,
          141.8396960136319,
          140.60816302172907,
          140.92274191002474,
          140.94041523001658,
          140.36509997125575,
          140.93362257382987,
          141.2975218910293,
          140.7720980918876,
          141.17528363755753,
          142.1407855974572,
          142.4526030082544,
          143.543821993021,
          144.31422890483302,
          144.9889051790053,
          146.3163250101357,
          146.13942892968464,
          144.7518875956477,
          143.03388857338845,
          140.62378555368917,
          135.78801819690185,
          135.0222485231655,
          134.6849520773126,
          134.90046431531556,
          134.83050070247066,
          134.7723553138094,
          134.49333848374027,
          133.70092271499215,
          133.02163625630826,
          132.6174545344706,
          132.05937503059408,
          132.433234507003,
          133.25048411283393,
          133.68096398173114,
          134.15324875404025,
          134.3435536402024,
          134.5606089313708,
          134.61996100900564,
          134.61138548013776,
          134.96185544636313,
          135.1650327586777,
          135.17163032876402,
          135.12510969420964,
          135.0949508550956,
          134.6176988663253,
          134.09189711521785,
          133.44390065354742,
          132.9243715607561,
          132.72575168019162,
          133.24312265528684,
          133.8103341470101,
          134.56164124229076,
          135.30035097108637,
          135.91898383510141,
          136.4028476833785,
          136.57616329575822,
          136.57296715262103,
          136.47720078339884,
          136.1731242492569,
          135.6115382184861,
          134.99449871012723,
          134.4687181676821,
          133.6427571776656,
          132.75884443067608,
          131.7458027749858,
          130.79744446636394,
          130.47431997745153,
          130.00040964259603,
          130.22181127581882,
          130.3153129061148,
          130.9283761372004,
          131.60646486113487,
          132.77012663550948,
          133.73672558206957,
          134.49531606599055,
          135.3776974723236,
          135.7826638360546,
          135.91685678269684,
          135.86525628705604,
          135.80505763666798,
          136.74261443154967,
          136.83420451611596,
          136.87602105887942,
          137.2284235038001,
          137.46834161589604,
          136.58853052710302,
          136.4782068818428,
          136.45487096257517,
          136.23759757297157,
          135.7895392428509,
          135.0717565089843,
          135.86248762919377,
          135.98664047942847,
          136.4537585226662,
          136.9819259603446,
          137.1040637607895,
          136.71896177367907,
          136.65635314854902,
          136.25178259238876,
          135.88798456049787,
          136.0702988560597,
          136.52761046534016,
          137.2303145129339,
          137.57555984979038,
          137.62328784444864,
          137.62610708052526,
          137.621434644637,
          137.6813335954687,
          137.8352738871586,
          138.3257878500582,
          138.36187418613756,
          138.4188271439639,
          138.2874479850129,
          138.30241872307576,
          137.95255450559952,
          137.91477297110424,
          137.7557240844163,
          137.91444179137727,
          137.88861980678632,
          138.73875875133177,
          139.27710935553026,
          139.58529065628463,
          139.90184025582474,
          140.17849781282422,
          140.93275747133148,
          141.62176514781504,
          141.88335777884583,
          141.90795690571025,
          142.38374393067144,
          142.4714813450712,
          142.4373446951902,
          143.13138218779005,
          143.8853428092117,
          144.19484900781524,
          144.17856757515997,
          144.0889757924757,
          143.42333500600316,
          142.19483582767953,
          140.5399950194952,
          138.68772512026467,
          137.04614000754808,
          135.28321228949054,
          134.53557015619748,
          133.637513363514,
          132.83360576608573,
          131.0428946765203,
          128.82874941670082,
          124.21084324300311,
          122.78408000284576,
          122.18538343356477,
          121.65414697537254,
          120.35992785074919,
          117.73181030303677,
          115.56064227451716,
          113.24490972664984,
          110.61730169672775,
          110.7716914986806,
          112.7839511231563,
          114.82354307171714,
          116.34844880248313,
          117.37996815834936,
          117.44107661281988,
          117.37674811582495,
          116.8671435909913,
          116.37602445419905,
          115.68568920569581,
          115.60803533238914,
          115.3969897508894,
          115.14261143742628,
          114.34996986648704,
          113.7350088479217,
          113.64554433288093,
          115.11299268973251,
          115.67752720259176,
          116.94517397540174,
          118.10002917902874,
          118.20846180175232,
          118.3955085749455,
          118.2866064507751,
          117.6693362397673,
          116.52388361983124,
          116.43848911706321,
          115.44965675460743,
          115.45409678408684,
          115.17002142273105,
          114.47479750689396,
          113.49208436996958,
          112.13324243682271,
          110.46322565741792,
          109.38980084069739,
          108.12786465422394,
          107.27089114740575,
          107.27354668976267,
          107.87488922417091,
          108.81611303769213,
          108.90632818444594,
          109.9837871298263,
          111.1332828450962,
          112.49005059830533,
          113.68274357654127,
          114.86318359522204,
          115.49733846953804,
          115.64130705333562,
          115.9353298423831,
          116.0882607275827,
          116.20249167082805,
          116.89758969760372,
          117.15259534347054,
          120.91054128739069,
          123.30858375819776,
          125.58248765742456,
          127.3317553608483,
          127.83851125167642,
          128.10078423549544,
          128.20497406902373,
          128.20679542341526,
          128.5055198324789,
          128.82309881887397,
          129.31136835128933,
          129.35020260357928,
          129.46544562337846,
          129.52906925590773,
          130.1627235944891,
          131.00688834597224,
          131.56312084298892,
          132.3646815782276,
          133.06763838728943,
          133.32844250283478,
          133.38608888937873,
          133.8266519630412,
          134.1584313927701,
          134.4185961470318,
          134.58355782757164,
          134.58650763091222,
          134.5761000168214,
          134.39293957237166,
          134.0204324357292,
          133.68743030612302,
          133.44084375052086,
          132.65152222080752,
          132.4349610905096,
          132.55778097676233,
          132.96611508497827,
          133.56551162048873,
          134.0270858175248,
          134.56957067625407,
          135.0286262143414,
          135.15251897403388,
          135.7209177112676,
          135.72262927260306,
          135.58050381723575,
          135.51722933191243,
          135.4695940305289,
          134.95974929328818,
          135.4241502358846,
          136.55718129115252,
          137.1961983458348,
          137.9560376191813,
          138.23956082514576,
          138.37575321091413,
          138.3972185349746,
          138.34267554750502,
          138.18374138711533,
          138.42705372112232,
          138.7268671819396,
          138.8422093780755,
          139.38388479265873,
          139.31898191813514,
          138.77914727650588,
          137.81010289686546,
          136.99802116238698,
          135.20730767232587,
          135.1700911064611,
          134.9586153792837,
          134.97729919076937,
          134.9213059522073,
          135.1039196833402,
          135.20587325886723,
          135.35970736880893,
          135.51054348045727,
          135.36201067930452,
          134.90078249781808,
          134.51853945437887,
          133.81052648057403,
          132.64148957995474,
          132.10501161800474,
          131.57102824068,
          131.73170610862442,
          131.48175580789942,
          131.90511987433027,
          132.50403005535148,
          132.87239523755994,
          132.52860642993954,
          132.29979054446017,
          131.66029143144874,
          130.2947143700599,
          128.4440163110701,
          127.62202067985042,
          126.60393379984895,
          127.36822927062323,
          127.80559395046359,
          128.4218736505666,
          129.40789155944776,
          130.3464079029258,
          131.24108991339926,
          131.74379478604297,
          132.25587459567234,
          132.3922574290178,
          132.41228492201782,
          132.56171854066613,
          133.09893946824232,
          134.01202881789524,
          134.8792625950074,
          135.55926970815875,
          135.7552786954889,
          135.82245762253433,
          135.76935273306617,
          135.54743114131207,
          135.74545894399407,
          136.21861457703355,
          137.00400953317276,
          137.5739402052315,
          137.77125680930456,
          137.74209351794156,
          137.7821114727111,
          137.6940522037075,
          138.15055722802856,
          138.85450839416234,
          139.54859673857715,
          139.86745714371497,
          142.37864338949606,
          143.9855535676138,
          145.24822170816572,
          146.39004474858962,
          146.5541855928682,
          146.71335598880046,
          147.16064516586877,
          147.34277150665596,
          147.27781326255888,
          147.17569233104507,
          147.16053548421067,
          146.48932235605216,
          145.5298891049368,
          144.02942678241502,
          142.4324084930812,
          139.99578024044695,
          137.4651803680927,
          136.83143846632362,
          136.11806149567147,
          135.32202634601913,
          133.2560236123033,
          132.61311440089247,
          132.85543824555617,
          132.10334382892128,
          132.5623362862586,
          132.84239112406894,
          132.64282373833277,
          131.69847976794196,
          131.33305112052727,
          130.90009504323575,
          131.09960308042963,
          132.35892629205185,
          132.8988760614827,
          133.7493403238405,
          135.96328096225935,
          137.26063232901268,
          138.86030687231477,
          140.8699420884311,
          141.71401712306758,
          142.1497774463445,
          142.41639619407457,
          142.40984927994649,
          141.75895401885074,
          141.4999702698988,
          141.31659838588317,
          140.8680791735102,
          140.79078764668617,
          140.72288507975506,
          140.98586951816347,
          141.17307730052093,
          141.4338773534947,
          142.32664226579345,
          142.53659574973966,
          142.4238625476433,
          142.19043537193127,
          142.14224523532874,
          141.0981037793094,
          140.39004284659106,
          140.0393754667453,
          139.81987484724633,
          139.74159001571124,
          139.9375902094362,
          140.66575648812727,
          140.87065708101147,
          140.82451505301094,
          139.47061892875462,
          137.78748437715385,
          135.5034710778105,
          132.61415586914936,
          132.5669665580757,
          132.97392038302556,
          133.585404301276,
          133.57236454355714,
          133.7434994151854,
          133.71422172867437,
          133.73821179630596,
          134.33027583124002,
          135.20123850712048,
          136.03178337228545,
          136.86992714658297,
          137.2969717595168,
          137.2668064606361,
          137.19209584559377,
          136.80307824475562,
          136.05156976094804,
          135.10221735626254,
          134.8270055768033,
          134.43475598344708,
          134.32364577262317,
          134.2966421193942,
          134.28062846638747,
          134.83406078395328,
          134.97067190759108,
          135.01739510719386,
          135.09943987726052,
          134.96493796048466,
          134.19785185316675,
          133.5216293305097,
          133.15392896114966,
          132.6959529383251,
          133.03201756816202,
          133.43331863768103,
          133.7245857575419,
          134.37381841778273,
          134.50752806853245,
          134.54126114366807,
          134.589870929819,
          134.67835506833865,
          134.38439805739716,
          134.84481874617356,
          135.15848245534303,
          135.26203585966883,
          135.31587316177794,
          135.40035716838304,
          135.1909268446847,
          134.8498325107079,
          133.9541652920265,
          134.2170748642997,
          135.1196440523201,
          134.92012537337828,
          134.7739626754874,
          134.57351827707882,
          134.3191827186702,
          134.2276075578372,
          134.23765445314575,
          134.066134929556,
          133.99074569226946,
          133.94047608185815,
          133.67818353534227,
          132.96341473073937,
          132.5466862451315,
          132.23198389668175,
          132.16405072378427,
          132.19807299197535,
          132.57437286675594,
          133.1381466819895,
          133.91106301607786,
          134.34855816961448,
          134.1866026955405,
          134.0053229654558,
          133.91393726292173,
          133.8033681156438,
          133.81135348607458,
          133.84835129768933,
          134.24924059858415,
          134.28498783139986,
          134.4737775167843,
          134.80842779764572,
          135.53292029040063,
          136.21590586339062,
          136.417354916317,
          136.62437223462382,
          135.5865914081045,
          134.21631233083954,
          133.65133717647325,
          132.91330327032247,
          132.83330309627218,
          132.82171577132561,
          132.92685580942396,
          132.75405757558346,
          132.79636449755216,
          132.06768117947442,
          131.94093749465867,
          131.96885804686625,
          132.1354449378145,
          133.4252170388618,
          135.48190792671414,
          137.5555264508953,
          140.2253084951604,
          139.465603375154,
          138.3673475347044,
          138.26289606827314,
          138.2755414125193,
          138.4078840547391,
          138.85578234872142,
          140.23506272459682,
          140.8275911904525,
          140.87823528236558,
          141.24966650509106,
          141.71807343971346,
          141.1452693553003,
          140.71368124025528,
          140.43682870533846,
          140.39473961269593,
          140.2861115022762,
          140.4237814451107,
          140.50856877570854,
          140.76769116489808,
          140.84128339221056,
          141.12785628388363,
          141.60365780013163,
          141.64455351295666,
          140.68564735834298,
          140.07378194919804,
          138.039854054147,
          135.72061964135713,
          134.5253051709873,
          133.57322416469376,
          132.54149829920635,
          131.3560006475017,
          130.2711396259169,
          129.17429218324224,
          129.15241960520177,
          129.30850771736334,
          129.66653488049556,
          130.71860814643287,
          132.17547386616545,
          131.50673109655386,
          130.77973112225058,
          131.1306091177251,
          131.0092305698106,
          131.30325983496232,
          132.47106447429337,
          134.14189333831288,
          134.73355787156703,
          136.0767813018292,
          137.26434549197495,
          138.17595332332507,
          140.14628122539747,
          142.1779966372507,
          145.172719880276,
          146.10739664469557,
          146.11958965137683,
          146.7168583683005,
          146.89024240935967,
          146.62694028334997,
          146.4178024584652,
          146.28001850869427,
          143.72470744867599,
          142.190047334803,
          140.9442560026987,
          139.83952677651956,
          139.07252088362875,
          138.37548773407912,
          137.42852383240017,
          137.05796938329956,
          136.98309013027685,
          137.01223667182012,
          136.9545739625272,
          137.1403093528048,
          136.29438254867472,
          135.74683275198348,
          135.3522411358571,
          135.09864505991217,
          135.08959278446918,
          135.37561186654318,
          135.45144374465315,
          134.95597008380796,
          134.3783401551225,
          133.33914560811763,
          132.6239391996829,
          132.3296799165233,
          132.00339376402135,
          131.98481590806028,
          131.92278773699783,
          131.3402313613589,
          130.46913856356642,
          129.65119524285075,
          129.27211016348045,
          127.68262662902877,
          126.19925061701154,
          125.78010551242704,
          125.51415903504082,
          125.407134925737,
          125.95586017952458,
          127.24379191646895,
          128.04222715826043,
          129.3179617423794,
          130.4992451000711,
          131.0675178376386,
          132.08737038744005,
          131.6938093001173,
          131.06583349481033,
          130.04350664327248,
          130.18428510231305,
          130.13396443510123,
          130.37362607730776,
          130.8976766798109,
          132.58565882216033,
          133.160629246793,
          133.79870480686944,
          134.32598980897674,
          135.19300266212088,
          134.83027676205046,
          134.67133621378903,
          134.4025988713473,
          134.3496657274802,
          134.35931579946498,
          134.31621372227877,
          134.4484025458827,
          134.5965375425179,
          134.80990120089427,
          135.33386072618143,
          136.4731415418535,
          137.26549073811486,
          138.710390109685,
          138.08205820004952,
          138.00047656806038,
          137.88712474567456,
          137.74429206015031,
          137.82090477476058,
          138.1100263380723,
          138.096738244164,
          137.39114596196362,
          136.57031125777183,
          135.63499672252456,
          135.2005457596287,
          134.7426771566935,
          134.56993820671184,
          134.647025842518,
          134.73840421300943,
          134.77938387807677,
          135.03498181138133,
          135.0289663219355,
          134.5740923540911,
          134.29639209620547,
          133.9020784936678,
          133.4792191141158,
          132.26495102599563,
          131.53989077439675,
          131.3381235642533,
          131.3064878840998,
          131.36794189052063,
          132.16565039010413,
          132.9886744302051,
          133.50132049395833,
          133.8393053006752,
          134.05386824489736,
          134.06277825775967,
          133.95374685992837,
          133.66692631390572,
          133.53323120488616,
          133.3128316795369,
          132.68377805398066,
          132.6178587666965,
          132.12569047013244,
          131.00993390028805,
          130.14336719412043,
          129.4292017419184,
          129.20375589769841,
          129.0415179022954,
          128.96728753091844,
          128.63676028704575,
          128.5527551838669,
          128.30054009714166,
          128.15245135892735,
          128.1000283070535,
          128.05222502765596,
          127.43501288364517,
          127.1285572297689,
          123.12752198290168,
          120.88809034550513,
          118.66565330234911,
          116.89942880538274,
          116.39768847000603,
          115.83969057583379,
          115.6339920938204,
          115.59554359370637,
          115.39350011367158,
          114.96230012439875,
          114.25127603241508,
          113.30522155614514,
          111.09622676037279,
          110.19724188216342,
          109.20278282873193,
          108.39800913482215,
          108.1242748428978,
          107.63431726015943,
          105.65940643012596,
          105.2187293112139,
          105.21756710454737,
          105.37208346589324,
          106.11785601965418,
          108.30027226738676,
          110.05022313934916,
          111.63424009292106,
          112.45693161908261,
          113.38008233703457,
          115.01592274716315,
          114.80661460769726,
          115.03156398352273,
          115.11411381669221,
          115.65574920945146,
          116.23699279238896,
          116.94491500903888,
          116.78461986328674,
          116.29379406315876,
          115.2539104972545,
          113.81917384721294,
          113.27298143136123,
          112.52660837708,
          112.5440194723908,
          112.69626121261453,
          113.5258181280034,
          113.89359862801685,
          115.07191461878273,
          115.21945910973389,
          115.28106172744158,
          115.53042110627433,
          116.19261223573754,
          116.40754704440668,
          115.57171946372097,
          113.04407133911842,
          111.5080822944938,
          110.00111662586713,
          109.10376321323348,
          109.09986138920975,
          109.9095183739361,
          111.21949383388127,
          113.48812072723668,
          116.81867932698518,
          119.43660619845558,
          120.52978075100555,
          121.47634480184173,
          122.62752955973126,
          123.25219540751795,
          125.22533652465161,
          127.86310749075024,
          130.25148199781412,
          132.60977286138063,
          132.661148062072,
          133.6344447092488,
          135.07584909848535,
          137.85558603519232,
          140.16942198482047,
          141.39449336313746,
          142.46633426611805,
          143.19837334280876,
          143.25371056249728,
          142.95642965172578,
          141.88623866181933,
          141.46090359582544,
          141.47953183852258,
          141.43535396971916,
          140.950063113821,
          140.8427469574823,
          140.31663817249745,
          139.86741953062162,
          139.79251048795703,
          139.13070979300338,
          138.66708361129352,
          138.11217897454785,
          137.56508035999633,
          137.45038165805744,
          137.45847690979463,
          137.3119028687087,
          137.46567136483327,
          137.608798033463,
          137.6923505640336,
          137.6809358040496,
          137.93022681111424,
          137.82134724940934,
          137.6463740151762,
          137.27004837846638,
          137.19031557445317,
          137.18237394911299,
          137.18525156205285,
          137.17676708719196,
          136.72321334356897,
          136.08476727417548,
          135.35528138036295,
          135.21709128065902,
          135.18458013676778,
          135.35220910682997,
          135.73109802332598,
          136.33151430053968,
          136.56502803608552,
          135.42909698887416,
          134.69325075467754,
          134.38481337799342,
          134.30762955830625,
          134.14755501445322,
          134.8280144680866,
          135.54328621609093,
          135.86665613703423,
          135.92161001268843,
          136.25872899438136,
          136.32226507355708,
          135.77917537315304,
          135.05399603096436,
          135.00632893114965,
          134.93012116415343,
          134.82738254887892,
          134.9237879023971,
          135.32708852980315,
          135.06231907410165,
          134.19209012533267,
          133.2026941879157,
          131.95900195699292,
          131.11720856956862,
          130.53213377167762,
          130.300426353034,
          129.4406685391977,
          129.3514614292593,
          129.1738945566227,
          129.28910775692347,
          129.41715514301106,
          130.38905440274857,
          131.17321733690207,
          132.4109049317094,
          133.1174146448179,
          134.064449043779,
          134.83447008229518,
          135.38028761597747,
          135.85923110136676,
          136.04311561105087,
          136.09958133314805,
          135.66139181857463,
          134.96327934849234,
          134.26196592344488,
          133.4383709647405,
          132.67957674166178,
          132.4675035654163,
          132.06017971629277,
          132.085278097447,
          132.3562275202807,
          132.96105698634463,
          133.35623301844035,
          134.47111970154504,
          134.6050294659466,
          134.71883597982975,
          134.71052266124414,
          134.41033083293377,
          134.31708131673724,
          134.330875172635,
          134.29328511159795,
          133.7571482640945,
          133.0861433358035,
          132.5694388503001,
          132.32502858247858,
          131.72207555159073,
          131.45313717643717,
          131.6325881901388,
          131.87007516947298,
          132.13854872055475,
          133.09040785415033,
          134.0984027428312,
          134.24677590885744,
          134.50870316515318,
          134.14154938753117,
          134.16565430886573,
          134.45087340466065,
          135.27573837209206,
          137.3019451668459,
          139.93913413286793,
          142.37575051367475,
          144.62167547814556,
          143.9134812956041,
          142.6705489271982,
          141.17670413002585,
          140.77808546830806,
          140.63263359199593,
          139.55514849134875,
          138.99215361709676,
          139.5214051109238,
          139.32846238710763,
          139.08199475530677,
          139.8047446820928,
          139.38727395911587,
          139.20769391186468,
          139.51392947464933,
          140.15251205773382,
          140.70427893071908,
          143.08846471843603,
          144.93926973485287,
          145.2677166259019,
          146.03864181933224,
          146.6970972958854,
          146.56519736751994,
          145.61576022436807,
          145.6585425862462,
          144.8243240099201,
          144.40637148684303,
          143.5449079114655,
          142.93677550161797,
          142.72400073769623,
          142.83095062030048,
          142.91406344516773,
          143.16001375307098,
          142.9555658305539,
          142.53058607292394,
          142.30396975987128,
          142.21428593454198,
          142.2678391676985,
          142.71873955741734,
          141.59043478903345,
          140.74895797978456,
          139.43984900667033,
          137.93733839484935,
          137.82433369076455,
          138.14556423567564,
          138.08458881421276,
          139.05681204407864,
          141.34446840196892,
          142.87584093506712,
          144.37832535723396,
          147.76590468206766,
          149.54130066260134,
          150.28638048856598,
          150.7009751170291,
          151.42629855190526,
          150.28860817317394,
          149.36570835582557,
          149.62328397227728,
          150.05061068923317,
          149.57425373600634,
          149.71518746415543,
          150.19262062852903,
          149.56081809918098,
          149.40075403977426,
          149.31896745107204,
          149.0995994499686,
          148.5147944623059,
          147.02243470382064,
          144.60952330013575,
          142.61116899793691,
          141.29991175226573,
          140.30836216003465,
          139.92205592123943,
          139.60733486625273,
          139.11904681067855,
          139.0337769510874,
          139.04291726570403,
          139.10332629347596,
          139.10332629347596,
          139.63938965644397,
          139.792280744471,
          140.02917724251947,
          140.40022451165504,
          141.00658828613152,
          140.88665808352755,
          140.9353677810943,
          140.85732083103395,
          140.917310088239,
          140.907873305192,
          141.02349989657537,
          140.8688847911296,
          140.2050716188922,
          139.53605515023287,
          139.0734844823004,
          138.75889528607294,
          138.65619140549242,
          138.15715026611988,
          137.33805661315682,
          136.78859502832844,
          135.769888800196,
          135.45777481432432,
          135.23055783406255,
          135.25257107169537,
          135.3420010630537,
          136.03284917608084,
          136.21962716332638,
          136.51234281462132,
          136.72883599918453,
          136.77253816847528,
          137.04315701288218,
          137.49397884438667,
          138.2737309957511,
          138.9499308397167,
          139.02742056708092,
          138.91109656109987,
          138.9828957803633,
          139.2708897782734,
          140.31136314165275,
          141.7111645703843,
          143.31019927075073,
          140.00002112981474,
          137.10845067009,
          134.58344290428727,
          132.7591401712153,
          132.7347094341305,
          132.9779940643461,
          133.111629109756,
          132.9363754665735,
          132.86016451360138,
          132.62934278524256,
          132.51531784329168,
          132.47811624450392,
          131.99164727163733,
          131.79292212426031,
          131.64695316691885,
          131.63021389358752,
          131.54313816273492,
          131.55858751175822,
          131.4656967780454,
          131.50343627750632,
          131.09343332189314,
          130.86271966094546,
          130.80479489007297,
          130.83761999104104,
          130.84263749605958,
          131.11584040736363,
          131.20774648760968,
          130.4100139969045,
          129.8570912182616,
          129.5716011475752,
          129.24950548181485,
          129.21873128989895,
          129.3793283858667,
          129.28180758060662,
          129.18701268899403,
          129.06037566583734,
          129.0522891515752,
          129.0359806673631,
          128.91530263426117,
          128.3692576161517,
          127.82254296335726,
          127.11996683658994,
          126.88198730046653,
          126.89078877261817,
          127.02607833732618,
          127.37475606484747,
          127.96484365517115,
          128.33886723437303,
          128.23356448666613,
          128.23871502377423,
          128.2147348734388,
          128.2798349047269,
          128.52627955064798,
          128.78771936932318,
          129.09862204269788,
          129.47060352390346,
          129.2936054107621,
          129.30859210354524,
          129.45931226121317,
          129.50986665286658,
          129.73142581271722,
          130.2211446891951,
          130.633154173712,
          131.0803667518416,
          131.5152185654265,
          132.6965828798223,
          133.95879474983286,
          135.26520337933775,
          137.30612563388402,
          137.15437329819665,
          137.26340475185702,
          137.0617597221008,
          136.75635869224243,
          136.75434718139522,
          136.8955522367957,
          136.96923821951816,
          137.2082472062172,
          137.8454672834126,
          138.09218598623386,
          138.06528230864487,
          138.1474858065274,
          138.2188473231008,
          137.9298489803751,
          137.952636060958,
          137.9246362538299,
          138.10527976421562,
          138.06303178521608,
          138.06929183088982,
          137.94746774542818,
          137.9832021109241,
          137.8186592555697,
          137.19620577974248,
          136.44947160244246,
          136.13261410578724,
          135.86039223441514,
          135.70783444643766,
          135.7780932749592,
          136.2387161376357,
          136.06274007723547,
          136.074204513645,
          136.2318583122694,
          136.20511981457634,
          136.08425514026098,
          136.30254888399165,
          136.1793412719346,
          135.65227876717955,
          135.34684955058282,
          135.47425503715914,
          135.28978937461798,
          134.94456061867294,
          134.914149614899,
          134.98039575842427,
          134.94480279331353,
          135.05656912245752,
          135.5811113312597,
          136.32423013673534,
          137.34648254402563,
          138.40659274219803,
          139.38813766555282,
          140.74715408215977,
          140.90725253764563,
          141.2044707652932,
          141.45308701696095,
          141.94970533708565,
          141.96694450422012,
          142.06427733562015,
          142.36490739699641,
          142.8330247903616,
          144.24623713048064,
          146.06801528404577,
          147.80153072629625,
          150.68613036999048,
          150.86723831209957,
          150.93651303225303,
          151.49352914370104,
          151.85202168604107,
          152.43949736602264,
          153.05685124278372,
          153.47856085936712,
          153.844827502364,
          154.1773269903015,
          154.17660064118414,
          154.05162038738914,
          153.99381725837048,
          154.09892938828582,
          154.23033530653422,
          154.10868922000427,
          154.3554550386259,
          154.68830054631454,
          154.91959086883836,
          155.12363622044222,
          155.65177778992086,
          155.78863271850338,
          156.08089393176414,
          156.07421756251,
          156.5128406077264,
          157.26080214125497,
          158.0211994149676,
          158.46748262695328,
          159.42311823674058,
          159.75124774864966,
          159.61518030952408,
          159.36455650235445,
          159.567049408261,
          159.72836703345328,
          159.6454236607154,
          159.7541630027768,
          160.1249281047738,
          160.13391355398772,
          160.1359432351421,
          159.90806088014176,
          159.6472471526282,
          159.15770670862418,
          158.2648096133122,
          157.31002052448173,
          156.89015818480593,
          155.9276171337858,
          155.25331710236267,
          154.4726614392039,
          153.8564692263178,
          153.51174968605136,
          153.50763884277427,
          153.5637699996232,
          154.0464550327803,
          154.79848106460298,
          155.20442130665532,
          153.66671506228886,
          152.16980605702253,
          149.8209253289051,
          148.12101416361645,
          147.3863249349403,
          146.92665874203834,
          146.86339726805087,
          147.05922515342593,
          146.62297895486094,
          146.5926488845228,
          146.80411214263228,
          146.90726763901145,
          147.12300647273645,
          147.65802456228107,
          147.83792243342612,
          147.59968197331096,
          147.389892578125,
          146.93508911132812
         ]
        },
        {
         "mode": "lines",
         "name": "Moving Average",
         "type": "scatter",
         "x": [
          0,
          1,
          2,
          3,
          4,
          5,
          6,
          7,
          8,
          9,
          10,
          11,
          12,
          13,
          14,
          15,
          16,
          17,
          18,
          19,
          20,
          21,
          22,
          23,
          24,
          25,
          26,
          27,
          28,
          29,
          30,
          31,
          32,
          33,
          34,
          35,
          36,
          37,
          38,
          39,
          40,
          41,
          42,
          43,
          44,
          45,
          46,
          47,
          48,
          49,
          50,
          51,
          52,
          53,
          54,
          55,
          56,
          57,
          58,
          59,
          60,
          61,
          62,
          63,
          64,
          65,
          66,
          67,
          68,
          69,
          70,
          71,
          72,
          73,
          74,
          75,
          76,
          77,
          78,
          79,
          80,
          81,
          82,
          83,
          84,
          85,
          86,
          87,
          88,
          89,
          90,
          91,
          92,
          93,
          94,
          95,
          96,
          97,
          98,
          99,
          100,
          101,
          102,
          103,
          104,
          105,
          106,
          107,
          108,
          109,
          110,
          111,
          112,
          113,
          114,
          115,
          116,
          117,
          118,
          119,
          120,
          121,
          122,
          123,
          124,
          125,
          126,
          127,
          128,
          129,
          130,
          131,
          132,
          133,
          134,
          135,
          136,
          137,
          138,
          139,
          140,
          141,
          142,
          143,
          144,
          145,
          146,
          147,
          148,
          149,
          150,
          151,
          152,
          153,
          154,
          155,
          156,
          157,
          158,
          159,
          160,
          161,
          162,
          163,
          164,
          165,
          166,
          167,
          168,
          169,
          170,
          171,
          172,
          173,
          174,
          175,
          176,
          177,
          178,
          179,
          180,
          181,
          182,
          183,
          184,
          185,
          186,
          187,
          188,
          189,
          190,
          191,
          192,
          193,
          194,
          195,
          196,
          197,
          198,
          199,
          200,
          201,
          202,
          203,
          204,
          205,
          206,
          207,
          208,
          209,
          210,
          211,
          212,
          213,
          214,
          215,
          216,
          217,
          218,
          219,
          220,
          221,
          222,
          223,
          224,
          225,
          226,
          227,
          228,
          229,
          230,
          231,
          232,
          233,
          234,
          235,
          236,
          237,
          238,
          239,
          240,
          241,
          242,
          243,
          244,
          245,
          246,
          247,
          248,
          249,
          250,
          251,
          252,
          253,
          254,
          255,
          256,
          257,
          258,
          259,
          260,
          261,
          262,
          263,
          264,
          265,
          266,
          267,
          268,
          269,
          270,
          271,
          272,
          273,
          274,
          275,
          276,
          277,
          278,
          279,
          280,
          281,
          282,
          283,
          284,
          285,
          286,
          287,
          288,
          289,
          290,
          291,
          292,
          293,
          294,
          295,
          296,
          297,
          298,
          299,
          300,
          301,
          302,
          303,
          304,
          305,
          306,
          307,
          308,
          309,
          310,
          311,
          312,
          313,
          314,
          315,
          316,
          317,
          318,
          319,
          320,
          321,
          322,
          323,
          324,
          325,
          326,
          327,
          328,
          329,
          330,
          331,
          332,
          333,
          334,
          335,
          336,
          337,
          338,
          339,
          340,
          341,
          342,
          343,
          344,
          345,
          346,
          347,
          348,
          349,
          350,
          351,
          352,
          353,
          354,
          355,
          356,
          357,
          358,
          359,
          360,
          361,
          362,
          363,
          364,
          365,
          366,
          367,
          368,
          369,
          370,
          371,
          372,
          373,
          374,
          375,
          376,
          377,
          378,
          379,
          380,
          381,
          382,
          383,
          384,
          385,
          386,
          387,
          388,
          389,
          390,
          391,
          392,
          393,
          394,
          395,
          396,
          397,
          398,
          399,
          400,
          401,
          402,
          403,
          404,
          405,
          406,
          407,
          408,
          409,
          410,
          411,
          412,
          413,
          414,
          415,
          416,
          417,
          418,
          419,
          420,
          421,
          422,
          423,
          424,
          425,
          426,
          427,
          428,
          429,
          430,
          431,
          432,
          433,
          434,
          435,
          436,
          437,
          438,
          439,
          440,
          441,
          442,
          443,
          444,
          445,
          446,
          447,
          448,
          449,
          450,
          451,
          452,
          453,
          454,
          455,
          456,
          457,
          458,
          459,
          460,
          461,
          462,
          463,
          464,
          465,
          466,
          467,
          468,
          469,
          470,
          471,
          472,
          473,
          474,
          475,
          476,
          477,
          478,
          479,
          480,
          481,
          482,
          483,
          484,
          485,
          486,
          487,
          488,
          489,
          490,
          491,
          492,
          493,
          494,
          495,
          496,
          497,
          498,
          499,
          500,
          501,
          502,
          503,
          504,
          505,
          506,
          507,
          508,
          509,
          510,
          511,
          512,
          513,
          514,
          515,
          516,
          517,
          518,
          519,
          520,
          521,
          522,
          523,
          524,
          525,
          526,
          527,
          528,
          529,
          530,
          531,
          532,
          533,
          534,
          535,
          536,
          537,
          538,
          539,
          540,
          541,
          542,
          543,
          544,
          545,
          546,
          547,
          548,
          549,
          550,
          551,
          552,
          553,
          554,
          555,
          556,
          557,
          558,
          559,
          560,
          561,
          562,
          563,
          564,
          565,
          566,
          567,
          568,
          569,
          570,
          571,
          572,
          573,
          574,
          575,
          576,
          577,
          578,
          579,
          580,
          581,
          582,
          583,
          584,
          585,
          586,
          587,
          588,
          589,
          590,
          591,
          592,
          593,
          594,
          595,
          596,
          597,
          598,
          599,
          600,
          601,
          602,
          603,
          604,
          605,
          606,
          607,
          608,
          609,
          610,
          611,
          612,
          613,
          614,
          615,
          616,
          617,
          618,
          619,
          620,
          621,
          622,
          623,
          624,
          625,
          626,
          627,
          628,
          629,
          630,
          631,
          632,
          633,
          634,
          635,
          636,
          637,
          638,
          639,
          640,
          641,
          642,
          643,
          644,
          645,
          646,
          647,
          648,
          649,
          650,
          651,
          652,
          653,
          654,
          655,
          656,
          657,
          658,
          659,
          660,
          661,
          662,
          663,
          664,
          665,
          666,
          667,
          668,
          669,
          670,
          671,
          672,
          673,
          674,
          675,
          676,
          677,
          678,
          679,
          680,
          681,
          682,
          683,
          684,
          685,
          686,
          687,
          688,
          689,
          690,
          691,
          692,
          693,
          694,
          695,
          696,
          697,
          698,
          699,
          700,
          701,
          702,
          703,
          704,
          705,
          706,
          707,
          708,
          709,
          710,
          711,
          712,
          713,
          714,
          715,
          716,
          717,
          718,
          719,
          720,
          721,
          722,
          723,
          724,
          725,
          726,
          727,
          728,
          729,
          730,
          731,
          732,
          733,
          734,
          735,
          736,
          737,
          738,
          739,
          740,
          741,
          742,
          743,
          744,
          745,
          746,
          747,
          748,
          749,
          750,
          751,
          752,
          753
         ],
         "y": [
          146.93508911132812,
          147.84469604492188,
          147.9838409423828,
          148.23577499389648,
          148.05648803710938,
          147.76294860839843,
          147.49753112792968,
          147.36571044921874,
          146.98077392578125,
          147.02295837402343,
          147.24794006347656,
          147.0827178955078,
          147.53971252441406,
          148.1883087158203,
          149.59622802734376,
          151.61582641601564,
          153.69869995117188,
          154.88514709472656,
          155.72357482910155,
          155.48101501464845,
          154.77793579101564,
          154.06080017089843,
          153.8006622314453,
          153.81119384765626,
          154.50372924804688,
          155.0790222167969,
          155.78758850097657,
          156.5386199951172,
          157.4030975341797,
          157.94697265625,
          158.92312316894532,
          159.67072448730468,
          160.0232727050781,
          160.18272094726564,
          160.3634246826172,
          160.35811462402344,
          160.3439483642578,
          160.11895446777345,
          160.04100036621094,
          160.18273315429687,
          159.98431091308595,
          159.75400085449218,
          159.94356994628907,
          160.04277954101562,
          159.5998748779297,
          159.00638732910156,
          158.61309509277345,
          157.90267944335938,
          157.07711181640624,
          156.4322509765625,
          156.4428741455078,
          156.05666809082032,
          155.92202758789062,
          155.59605712890624,
          155.41358642578126,
          154.98487243652343,
          154.66243896484374,
          154.32052001953124,
          154.4321258544922,
          154.28330993652344,
          154.11322937011718,
          154.16814575195312,
          154.29747009277344,
          154.29924621582032,
          154.1114532470703,
          153.86165771484374,
          153.50734252929686,
          152.92271423339844,
          152.22470703125,
          151.83140869140624,
          151.31410217285156,
          151.12985229492188,
          150.926123046875,
          149.35116271972657,
          147.87011108398437,
          146.2490966796875,
          144.41548767089844,
          142.7041259765625,
          142.4153564453125,
          142.06458129882813,
          142.04863586425782,
          141.71026306152345,
          141.48171997070312,
          141.22838134765624,
          141.00338439941407,
          140.07506713867187,
          139.31060485839845,
          138.33550109863282,
          137.28982543945312,
          136.06240539550782,
          135.4935333251953,
          135.22162475585938,
          135.5024841308594,
          135.4452331542969,
          135.46848754882814,
          135.75650634765626,
          135.95865173339843,
          135.66348571777343,
          135.94613647460938,
          136.379052734375,
          136.47028198242188,
          136.30748596191407,
          136.41482543945312,
          136.44344787597657,
          136.2377197265625,
          136.2234130859375,
          136.33790588378906,
          136.04273071289063,
          135.94075927734374,
          136.30748901367187,
          136.80300903320312,
          137.1393280029297,
          137.6455871582031,
          138.02483520507812,
          138.25381469726562,
          138.1929962158203,
          138.31821899414064,
          138.31463928222655,
          138.34684143066406,
          138.1196502685547,
          138.18941650390624,
          138.15363464355468,
          138.42734375,
          138.3790496826172,
          138.32896118164064,
          138.39156799316407,
          138.1983673095703,
          137.66885070800782,
          137.45596923828126,
          137.38262023925782,
          136.955078125,
          136.9604461669922,
          137.18763732910156,
          137.42019348144532,
          137.3468505859375,
          137.4917449951172,
          136.3879852294922,
          135.32000427246095,
          134.03914489746094,
          132.78334045410156,
          131.38621520996094,
          130.9980255126953,
          130.53470458984376,
          130.0355987548828,
          129.79945373535156,
          129.6402374267578,
          129.47744750976562,
          129.45418701171874,
          129.60982666015624,
          129.39515686035156,
          129.0930969238281,
          128.88163146972656,
          128.59515380859375,
          128.26931762695312,
          128.3325958251953,
          128.32536926269535,
          128.45733642578125,
          128.25125122070312,
          127.86438903808593,
          127.50462951660157,
          127.31299285888672,
          127.24791107177734,
          127.65285797119141,
          128.38320770263672,
          128.77731170654297,
          129.1623779296875,
          129.23830871582032,
          129.25458068847655,
          129.31604919433593,
          129.411865234375,
          129.53479919433593,
          129.59626159667968,
          129.4914123535156,
          129.63241577148438,
          130.12413330078124,
          130.51642761230468,
          130.99369201660156,
          131.4221405029297,
          131.36610107421876,
          131.11843566894532,
          131.09854431152343,
          131.0479278564453,
          131.10397033691407,
          131.34259643554688,
          131.73489379882812,
          131.69512634277345,
          131.76743774414064,
          131.7584014892578,
          131.90122680664064,
          131.9409942626953,
          132.0892333984375,
          132.280859375,
          132.53395080566406,
          132.66591796875,
          132.97686157226562,
          133.18294982910157,
          133.2389923095703,
          133.35107421875,
          133.2498352050781,
          132.8955078125,
          135.0486053466797,
          137.5560302734375,
          140.26231384277344,
          142.56184997558594,
          144.25033874511718,
          143.1602294921875,
          141.8405334472656,
          140.32378540039062,
          139.38552856445312,
          139.05650939941407,
          139.15232849121094,
          139.1071319580078,
          138.7274932861328,
          138.0911437988281,
          137.60122375488282,
          137.1564971923828,
          136.87670288085937,
          136.708740234375,
          136.5357879638672,
          136.36011657714843,
          135.81783447265624,
          135.60237731933597,
          135.56768493652345,
          135.95294799804688,
          136.51165466308595,
          137.3643341064453,
          137.86097106933593,
          138.41055908203126,
          138.7684295654297,
          139.0605712890625,
          139.46226501464844,
          139.99542236328125,
          140.81342163085938,
          141.3392761230469,
          141.43970336914063,
          141.36667175292968,
          141.37579956054688,
          141.18407287597657,
          141.4378692626953,
          141.4031768798828,
          141.481689453125,
          141.0599151611328,
          140.68013916015624,
          140.0392578125,
          139.8639709472656,
          139.40750427246093,
          139.40750427246093,
          139.3162078857422,
          139.29794921875,
          139.49697265625,
          139.8475372314453,
          140.1670684814453,
          141.2005187988281,
          142.76529541015626,
          144.30816345214845,
          146.14317321777344,
          147.89236145019532,
          148.93128356933593,
          149.38775634765625,
          149.50643615722657,
          149.57581787109376,
          150.4558898925781,
          151.3578674316406,
          151.0237243652344,
          150.92513122558594,
          151.36333923339845,
          150.7644500732422,
          150.09800720214844,
          151.0054718017578,
          151.7723358154297,
          151.29212951660156,
          150.98720703125,
          150.42666625976562,
          148.90935668945312,
          146.3038299560547,
          144.79200439453126,
          142.99352111816407,
          140.55472106933593,
          139.08526916503905,
          139.15111694335937,
          138.58404846191405,
          139.02841491699218,
          140.58094177246093,
          141.8107879638672,
          142.5040771484375,
          143.09595642089843,
          142.80462341308595,
          142.71427307128906,
          143.15680541992188,
          143.41310424804686,
          143.75790100097657,
          143.8740661621094,
          143.68415222167968,
          143.38359375,
          143.23055419921874,
          143.68967895507814,
          144.13220825195313,
          145.02094116210938,
          145.63126220703126,
          146.2950469970703,
          146.25816650390624,
          146.88507385253905,
          147.06024169921875,
          146.5236785888672,
          145.94839477539062,
          145.68471984863282,
          144.2981384277344,
          142.20167846679686,
          141.46782531738282,
          140.67681274414062,
          139.90792846679688,
          140.1550079345703,
          140.3725799560547,
          139.72354736328126,
          140.13104248046875,
          140.40946350097656,
          139.8821258544922,
          140.36521606445314,
          141.38670959472657,
          141.61534423828124,
          142.36026306152343,
          143.4923889160156,
          144.4511932373047,
          145.46900024414063,
          144.2575897216797,
          142.34551086425782,
          140.16791687011718,
          137.94976196289062,
          135.11944580078125,
          134.5939514160156,
          134.4132507324219,
          134.70458374023437,
          134.53863830566405,
          134.4353790283203,
          133.7918731689453,
          132.91973571777345,
          132.44585571289062,
          132.1250213623047,
          131.75625610351562,
          132.07765502929686,
          132.78775634765626,
          133.1252014160156,
          133.61969604492188,
          134.05035095214845,
          134.42694702148438,
          134.4754180908203,
          134.4642333984375,
          134.68609313964845,
          134.93777770996093,
          134.9452331542969,
          134.8650695800781,
          134.7830352783203,
          133.98696594238282,
          133.52647705078124,
          132.90006408691406,
          132.50482482910155,
          132.3929656982422,
          132.85531311035157,
          133.24495544433594,
          134.00000610351563,
          134.78115844726562,
          135.44113159179688,
          136.03211975097656,
          136.33787231445314,
          136.30804138183595,
          136.1682159423828,
          135.77670593261718,
          135.22300415039064,
          134.52947387695312,
          133.79306640625,
          133.0268310546875,
          131.96603088378907,
          131.0674285888672,
          130.1072998046875,
          129.8817138671875,
          129.58715209960937,
          129.78663635253906,
          129.87799072265625,
          130.6144012451172,
          131.06929931640624,
          131.94366760253905,
          132.84786376953124,
          133.84900512695313,
          134.78489379882814,
          135.42249145507813,
          135.62197265625,
          135.39452209472657,
          135.31622009277345,
          135.83636779785155,
          135.9202667236328,
          135.9650085449219,
          136.50379943847656,
          136.89530334472656,
          136.4236297607422,
          136.1999084472656,
          136.1607635498047,
          135.89044189453125,
          135.30877685546875,
          134.60965576171876,
          135.08505859375,
          135.18572692871095,
          135.57350463867186,
          136.20551147460938,
          136.8345458984375,
          136.52523803710938,
          136.1937255859375,
          135.80199584960937,
          135.53628234863282,
          135.64369506835936,
          135.94144592285156,
          136.65754089355468,
          137.14938659667968,
          137.4000274658203,
          137.40567932128906,
          137.401904296875,
          137.43582458496093,
          137.5526611328125,
          137.9860809326172,
          138.09161071777345,
          138.17452697753907,
          137.98419189453125,
          137.99738464355468,
          137.78067626953126,
          137.69022216796876,
          137.5338134765625,
          137.68645935058595,
          137.66950073242188,
          138.15191955566405,
          138.69464416503905,
          139.12618713378907,
          139.51627502441406,
          139.98550415039062,
          140.40008850097655,
          140.96920166015624,
          141.36305236816406,
          141.42901000976562,
          141.9095489501953,
          141.9755065917969,
          141.94912414550782,
          142.5088104248047,
          143.42088623046874,
          143.72427978515626,
          143.68847045898437,
          143.27765502929688,
          142.4089141845703,
          141.18212890625,
          139.19779052734376,
          136.881787109375,
          135.34029235839844,
          133.97218017578126,
          133.57267150878906,
          131.94449768066406,
          130.34835662841797,
          128.13411560058594,
          126.04047241210938,
          123.41918640136718,
          122.13021240234374,
          121.35758209228516,
          120.54537658691406,
          118.58930358886718,
          115.60996551513672,
          113.39006805419922,
          111.57721405029297,
          109.85858154296875,
          109.93772735595704,
          111.39253387451171,
          113.16581268310547,
          114.69626007080078,
          116.47584381103516,
          116.92431182861328,
          116.78468017578125,
          116.19878234863282,
          115.82854309082032,
          115.45257415771485,
          115.33997497558593,
          114.64529418945312,
          114.33421478271484,
          113.52311553955079,
          113.13951416015625,
          113.08607635498046,
          114.19298706054687,
          114.74835052490235,
          116.09954223632812,
          117.19691162109375,
          117.49654083251953,
          117.67021179199219,
          117.26179962158203,
          116.66254272460938,
          115.81899871826172,
          115.73502655029297,
          115.12813568115234,
          115.235009765625,
          114.27505187988281,
          113.46586456298829,
          112.56316223144532,
          111.09173278808593,
          109.38174896240234,
          107.75382843017579,
          106.74997406005859,
          106.24422912597656,
          106.24613800048829,
          106.76714782714843,
          108.22521514892578,
          108.51530151367187,
          109.19089813232422,
          110.16803283691407,
          111.34364624023438,
          112.38948516845703,
          114.08420257568359,
          114.87430725097656,
          115.30180358886719,
          115.66441497802734,
          115.84190216064454,
          115.91824188232422,
          116.36864013671875,
          116.77514190673828,
          118.90498504638671,
          120.98711853027343,
          123.23528900146485,
          125.229638671875,
          127.48353424072266,
          127.76789855957031,
          128.12859954833985,
          128.15341186523438,
          128.32898559570313,
          128.56181945800782,
          128.93206176757812,
          128.9934814453125,
          129.21636657714845,
          129.28529357910156,
          129.68323974609376,
          130.21804504394532,
          130.85324401855468,
          131.68730773925782,
          132.59666442871094,
          132.97315063476563,
          133.0349334716797,
          133.56974182128906,
          133.84583129882813,
          134.04276123046876,
          134.26865234375,
          134.32464294433595,
          134.3149841308594,
          134.11612243652343,
          133.76087646484376,
          133.33805236816406,
          132.8032470703125,
          132.00973205566407,
          131.8707244873047,
          131.9479522705078,
          132.2530029296875,
          132.91523132324218,
          133.7531524658203,
          134.23582458496094,
          134.66250915527343,
          134.8633056640625,
          135.37494201660155,
          135.3788055419922,
          135.17994384765626,
          135.12781677246093,
          135.05830993652344,
          134.76484375,
          135.08341369628906,
          135.8788635253906,
          136.41559753417968,
          137.26317443847657,
          137.8153533935547,
          138.23624572753906,
          138.25362243652344,
          138.0817901611328,
          137.96401672363282,
          138.15708923339844,
          138.363671875,
          138.4621337890625,
          139.04713745117186,
          138.292236328125,
          137.6261444091797,
          136.57198181152344,
          135.90396118164062,
          134.90192260742188,
          134.8092468261719,
          134.63741455078124,
          134.66830749511718,
          134.63548583984374,
          134.75325927734374,
          134.93860473632813,
          135.0949920654297,
          135.35177307128907,
          134.84400024414063,
          134.34974365234376,
          133.83958435058594,
          133.19809265136718,
          131.76958312988282,
          131.23931884765625,
          130.8524963378906,
          130.95799560546874,
          130.76263122558595,
          131.4854766845703,
          132.0989196777344,
          132.4798828125,
          131.79806213378907,
          131.39951782226564,
          130.48912658691407,
          129.16847076416016,
          127.84390411376953,
          126.7889404296875,
          126.00553436279297,
          126.44119415283203,
          126.79284973144532,
          127.31056213378906,
          128.54525909423828,
          129.80925903320312,
          130.446142578125,
          131.1064666748047,
          131.7980529785156,
          132.15752258300782,
          132.19855041503905,
          132.28255615234374,
          132.7143096923828,
          133.31798400878907,
          134.1092041015625,
          134.96880493164062,
          135.35562438964843,
          135.63695068359374,
          135.57248229980468,
          135.31851196289062,
          135.42205200195312,
          135.78542785644532,
          136.37542114257812,
          136.9341613769531,
          137.45578308105468,
          137.34833374023438,
          137.3971740722656,
          137.33857116699218,
          137.60426330566406,
          138.14151611328126,
          138.96204223632813,
          139.46998901367186,
          141.1090850830078,
          142.46490478515625,
          143.71913452148436,
          145.0573760986328,
          146.41710205078124,
          146.56557922363282,
          146.89379272460937,
          147.11650695800782,
          146.9973358154297,
          146.64764099121095,
          146.63396606445312,
          145.83102111816407,
          143.85394287109375,
          142.08785400390624,
          140.30418090820314,
          138.63006286621095,
          136.77098083496094,
          135.78249816894532,
          135.12997741699218,
          133.89654541015625,
          132.2796417236328,
          131.81117248535153,
          131.99302368164064,
          131.44153747558593,
          132.03453369140624,
          132.5089324951172,
          131.68071594238282,
          130.68250732421876,
          130.3207794189453,
          130.02625732421876,
          130.13694763183594,
          131.31503295898438,
          132.1274383544922,
          133.14541931152343,
          134.76825256347655,
          135.89296875,
          137.29046325683595,
          139.45489807128905,
          140.8938995361328,
          141.41771240234374,
          142.0304748535156,
          142.00675354003906,
          141.4434051513672,
          141.17062683105468,
          141.04214477539062,
          140.68832397460938,
          140.60728454589844,
          140.50449829101564,
          140.6903045654297,
          140.8049530029297,
          141.073779296875,
          141.73595581054687,
          142.12733459472656,
          141.83676452636718,
          141.53433532714843,
          141.48491821289062,
          140.6665832519531,
          139.62291259765624,
          139.2236297607422,
          139.0477081298828,
          139.0022430419922,
          139.1524688720703,
          140.06567993164063,
          140.54798278808593,
          139.1900207519531,
          137.47626342773438,
          135.60635070800782,
          133.8194580078125,
          132.2915069580078,
          132.2539520263672,
          132.52080078125,
          133.19088439941407,
          133.1632110595703,
          133.33517761230468,
          133.26796875,
          133.28575744628907,
          133.62178955078124,
          134.42628784179686,
          135.1240478515625,
          136.22825927734374,
          136.9606719970703,
          136.84208068847656,
          136.7040008544922,
          136.16799926757812,
          135.42999877929688,
          134.78799743652343,
          134.55599670410157,
          134.3419982910156,
          134.08599853515625,
          134.0539978027344,
          134.04199829101563,
          134.3739990234375,
          134.48799743652344,
          134.60199890136718,
          134.7239990234375,
          134.43800048828126,
          133.66799926757812,
          133.04800109863282,
          132.6760009765625,
          132.43000183105468,
          132.6320007324219,
          132.99000244140626,
          133.34400024414063,
          134.0260009765625,
          134.2240020751953,
          134.26600341796876,
          134.3280029296875,
          134.4580047607422,
          134.30600280761718,
          134.58200073242188,
          134.86600036621093,
          135.01799926757812,
          135.1179992675781,
          135.26000061035157,
          134.7040008544922,
          134.4019989013672
         ]
        }
       ],
       "layout": {
        "legend": {
         "font": {
          "size": 16
         },
         "y": 0.5
        },
        "template": {
         "data": {
          "bar": [
           {
            "error_x": {
             "color": "#2a3f5f"
            },
            "error_y": {
             "color": "#2a3f5f"
            },
            "marker": {
             "line": {
              "color": "#E5ECF6",
              "width": 0.5
             }
            },
            "type": "bar"
           }
          ],
          "barpolar": [
           {
            "marker": {
             "line": {
              "color": "#E5ECF6",
              "width": 0.5
             }
            },
            "type": "barpolar"
           }
          ],
          "carpet": [
           {
            "aaxis": {
             "endlinecolor": "#2a3f5f",
             "gridcolor": "white",
             "linecolor": "white",
             "minorgridcolor": "white",
             "startlinecolor": "#2a3f5f"
            },
            "baxis": {
             "endlinecolor": "#2a3f5f",
             "gridcolor": "white",
             "linecolor": "white",
             "minorgridcolor": "white",
             "startlinecolor": "#2a3f5f"
            },
            "type": "carpet"
           }
          ],
          "choropleth": [
           {
            "colorbar": {
             "outlinewidth": 0,
             "ticks": ""
            },
            "type": "choropleth"
           }
          ],
          "contour": [
           {
            "colorbar": {
             "outlinewidth": 0,
             "ticks": ""
            },
            "colorscale": [
             [
              0,
              "#0d0887"
             ],
             [
              0.1111111111111111,
              "#46039f"
             ],
             [
              0.2222222222222222,
              "#7201a8"
             ],
             [
              0.3333333333333333,
              "#9c179e"
             ],
             [
              0.4444444444444444,
              "#bd3786"
             ],
             [
              0.5555555555555556,
              "#d8576b"
             ],
             [
              0.6666666666666666,
              "#ed7953"
             ],
             [
              0.7777777777777778,
              "#fb9f3a"
             ],
             [
              0.8888888888888888,
              "#fdca26"
             ],
             [
              1,
              "#f0f921"
             ]
            ],
            "type": "contour"
           }
          ],
          "contourcarpet": [
           {
            "colorbar": {
             "outlinewidth": 0,
             "ticks": ""
            },
            "type": "contourcarpet"
           }
          ],
          "heatmap": [
           {
            "colorbar": {
             "outlinewidth": 0,
             "ticks": ""
            },
            "colorscale": [
             [
              0,
              "#0d0887"
             ],
             [
              0.1111111111111111,
              "#46039f"
             ],
             [
              0.2222222222222222,
              "#7201a8"
             ],
             [
              0.3333333333333333,
              "#9c179e"
             ],
             [
              0.4444444444444444,
              "#bd3786"
             ],
             [
              0.5555555555555556,
              "#d8576b"
             ],
             [
              0.6666666666666666,
              "#ed7953"
             ],
             [
              0.7777777777777778,
              "#fb9f3a"
             ],
             [
              0.8888888888888888,
              "#fdca26"
             ],
             [
              1,
              "#f0f921"
             ]
            ],
            "type": "heatmap"
           }
          ],
          "heatmapgl": [
           {
            "colorbar": {
             "outlinewidth": 0,
             "ticks": ""
            },
            "colorscale": [
             [
              0,
              "#0d0887"
             ],
             [
              0.1111111111111111,
              "#46039f"
             ],
             [
              0.2222222222222222,
              "#7201a8"
             ],
             [
              0.3333333333333333,
              "#9c179e"
             ],
             [
              0.4444444444444444,
              "#bd3786"
             ],
             [
              0.5555555555555556,
              "#d8576b"
             ],
             [
              0.6666666666666666,
              "#ed7953"
             ],
             [
              0.7777777777777778,
              "#fb9f3a"
             ],
             [
              0.8888888888888888,
              "#fdca26"
             ],
             [
              1,
              "#f0f921"
             ]
            ],
            "type": "heatmapgl"
           }
          ],
          "histogram": [
           {
            "marker": {
             "colorbar": {
              "outlinewidth": 0,
              "ticks": ""
             }
            },
            "type": "histogram"
           }
          ],
          "histogram2d": [
           {
            "colorbar": {
             "outlinewidth": 0,
             "ticks": ""
            },
            "colorscale": [
             [
              0,
              "#0d0887"
             ],
             [
              0.1111111111111111,
              "#46039f"
             ],
             [
              0.2222222222222222,
              "#7201a8"
             ],
             [
              0.3333333333333333,
              "#9c179e"
             ],
             [
              0.4444444444444444,
              "#bd3786"
             ],
             [
              0.5555555555555556,
              "#d8576b"
             ],
             [
              0.6666666666666666,
              "#ed7953"
             ],
             [
              0.7777777777777778,
              "#fb9f3a"
             ],
             [
              0.8888888888888888,
              "#fdca26"
             ],
             [
              1,
              "#f0f921"
             ]
            ],
            "type": "histogram2d"
           }
          ],
          "histogram2dcontour": [
           {
            "colorbar": {
             "outlinewidth": 0,
             "ticks": ""
            },
            "colorscale": [
             [
              0,
              "#0d0887"
             ],
             [
              0.1111111111111111,
              "#46039f"
             ],
             [
              0.2222222222222222,
              "#7201a8"
             ],
             [
              0.3333333333333333,
              "#9c179e"
             ],
             [
              0.4444444444444444,
              "#bd3786"
             ],
             [
              0.5555555555555556,
              "#d8576b"
             ],
             [
              0.6666666666666666,
              "#ed7953"
             ],
             [
              0.7777777777777778,
              "#fb9f3a"
             ],
             [
              0.8888888888888888,
              "#fdca26"
             ],
             [
              1,
              "#f0f921"
             ]
            ],
            "type": "histogram2dcontour"
           }
          ],
          "mesh3d": [
           {
            "colorbar": {
             "outlinewidth": 0,
             "ticks": ""
            },
            "type": "mesh3d"
           }
          ],
          "parcoords": [
           {
            "line": {
             "colorbar": {
              "outlinewidth": 0,
              "ticks": ""
             }
            },
            "type": "parcoords"
           }
          ],
          "pie": [
           {
            "automargin": true,
            "type": "pie"
           }
          ],
          "scatter": [
           {
            "marker": {
             "colorbar": {
              "outlinewidth": 0,
              "ticks": ""
             }
            },
            "type": "scatter"
           }
          ],
          "scatter3d": [
           {
            "line": {
             "colorbar": {
              "outlinewidth": 0,
              "ticks": ""
             }
            },
            "marker": {
             "colorbar": {
              "outlinewidth": 0,
              "ticks": ""
             }
            },
            "type": "scatter3d"
           }
          ],
          "scattercarpet": [
           {
            "marker": {
             "colorbar": {
              "outlinewidth": 0,
              "ticks": ""
             }
            },
            "type": "scattercarpet"
           }
          ],
          "scattergeo": [
           {
            "marker": {
             "colorbar": {
              "outlinewidth": 0,
              "ticks": ""
             }
            },
            "type": "scattergeo"
           }
          ],
          "scattergl": [
           {
            "marker": {
             "colorbar": {
              "outlinewidth": 0,
              "ticks": ""
             }
            },
            "type": "scattergl"
           }
          ],
          "scattermapbox": [
           {
            "marker": {
             "colorbar": {
              "outlinewidth": 0,
              "ticks": ""
             }
            },
            "type": "scattermapbox"
           }
          ],
          "scatterpolar": [
           {
            "marker": {
             "colorbar": {
              "outlinewidth": 0,
              "ticks": ""
             }
            },
            "type": "scatterpolar"
           }
          ],
          "scatterpolargl": [
           {
            "marker": {
             "colorbar": {
              "outlinewidth": 0,
              "ticks": ""
             }
            },
            "type": "scatterpolargl"
           }
          ],
          "scatterternary": [
           {
            "marker": {
             "colorbar": {
              "outlinewidth": 0,
              "ticks": ""
             }
            },
            "type": "scatterternary"
           }
          ],
          "surface": [
           {
            "colorbar": {
             "outlinewidth": 0,
             "ticks": ""
            },
            "colorscale": [
             [
              0,
              "#0d0887"
             ],
             [
              0.1111111111111111,
              "#46039f"
             ],
             [
              0.2222222222222222,
              "#7201a8"
             ],
             [
              0.3333333333333333,
              "#9c179e"
             ],
             [
              0.4444444444444444,
              "#bd3786"
             ],
             [
              0.5555555555555556,
              "#d8576b"
             ],
             [
              0.6666666666666666,
              "#ed7953"
             ],
             [
              0.7777777777777778,
              "#fb9f3a"
             ],
             [
              0.8888888888888888,
              "#fdca26"
             ],
             [
              1,
              "#f0f921"
             ]
            ],
            "type": "surface"
           }
          ],
          "table": [
           {
            "cells": {
             "fill": {
              "color": "#EBF0F8"
             },
             "line": {
              "color": "white"
             }
            },
            "header": {
             "fill": {
              "color": "#C8D4E3"
             },
             "line": {
              "color": "white"
             }
            },
            "type": "table"
           }
          ]
         },
         "layout": {
          "annotationdefaults": {
           "arrowcolor": "#2a3f5f",
           "arrowhead": 0,
           "arrowwidth": 1
          },
          "coloraxis": {
           "colorbar": {
            "outlinewidth": 0,
            "ticks": ""
           }
          },
          "colorscale": {
           "diverging": [
            [
             0,
             "#8e0152"
            ],
            [
             0.1,
             "#c51b7d"
            ],
            [
             0.2,
             "#de77ae"
            ],
            [
             0.3,
             "#f1b6da"
            ],
            [
             0.4,
             "#fde0ef"
            ],
            [
             0.5,
             "#f7f7f7"
            ],
            [
             0.6,
             "#e6f5d0"
            ],
            [
             0.7,
             "#b8e186"
            ],
            [
             0.8,
             "#7fbc41"
            ],
            [
             0.9,
             "#4d9221"
            ],
            [
             1,
             "#276419"
            ]
           ],
           "sequential": [
            [
             0,
             "#0d0887"
            ],
            [
             0.1111111111111111,
             "#46039f"
            ],
            [
             0.2222222222222222,
             "#7201a8"
            ],
            [
             0.3333333333333333,
             "#9c179e"
            ],
            [
             0.4444444444444444,
             "#bd3786"
            ],
            [
             0.5555555555555556,
             "#d8576b"
            ],
            [
             0.6666666666666666,
             "#ed7953"
            ],
            [
             0.7777777777777778,
             "#fb9f3a"
            ],
            [
             0.8888888888888888,
             "#fdca26"
            ],
            [
             1,
             "#f0f921"
            ]
           ],
           "sequentialminus": [
            [
             0,
             "#0d0887"
            ],
            [
             0.1111111111111111,
             "#46039f"
            ],
            [
             0.2222222222222222,
             "#7201a8"
            ],
            [
             0.3333333333333333,
             "#9c179e"
            ],
            [
             0.4444444444444444,
             "#bd3786"
            ],
            [
             0.5555555555555556,
             "#d8576b"
            ],
            [
             0.6666666666666666,
             "#ed7953"
            ],
            [
             0.7777777777777778,
             "#fb9f3a"
            ],
            [
             0.8888888888888888,
             "#fdca26"
            ],
            [
             1,
             "#f0f921"
            ]
           ]
          },
          "colorway": [
           "#636efa",
           "#EF553B",
           "#00cc96",
           "#ab63fa",
           "#FFA15A",
           "#19d3f3",
           "#FF6692",
           "#B6E880",
           "#FF97FF",
           "#FECB52"
          ],
          "font": {
           "color": "#2a3f5f"
          },
          "geo": {
           "bgcolor": "white",
           "lakecolor": "white",
           "landcolor": "#E5ECF6",
           "showlakes": true,
           "showland": true,
           "subunitcolor": "white"
          },
          "hoverlabel": {
           "align": "left"
          },
          "hovermode": "closest",
          "mapbox": {
           "style": "light"
          },
          "paper_bgcolor": "white",
          "plot_bgcolor": "#E5ECF6",
          "polar": {
           "angularaxis": {
            "gridcolor": "white",
            "linecolor": "white",
            "ticks": ""
           },
           "bgcolor": "#E5ECF6",
           "radialaxis": {
            "gridcolor": "white",
            "linecolor": "white",
            "ticks": ""
           }
          },
          "scene": {
           "xaxis": {
            "backgroundcolor": "#E5ECF6",
            "gridcolor": "white",
            "gridwidth": 2,
            "linecolor": "white",
            "showbackground": true,
            "ticks": "",
            "zerolinecolor": "white"
           },
           "yaxis": {
            "backgroundcolor": "#E5ECF6",
            "gridcolor": "white",
            "gridwidth": 2,
            "linecolor": "white",
            "showbackground": true,
            "ticks": "",
            "zerolinecolor": "white"
           },
           "zaxis": {
            "backgroundcolor": "#E5ECF6",
            "gridcolor": "white",
            "gridwidth": 2,
            "linecolor": "white",
            "showbackground": true,
            "ticks": "",
            "zerolinecolor": "white"
           }
          },
          "shapedefaults": {
           "line": {
            "color": "#2a3f5f"
           }
          },
          "ternary": {
           "aaxis": {
            "gridcolor": "white",
            "linecolor": "white",
            "ticks": ""
           },
           "baxis": {
            "gridcolor": "white",
            "linecolor": "white",
            "ticks": ""
           },
           "bgcolor": "#E5ECF6",
           "caxis": {
            "gridcolor": "white",
            "linecolor": "white",
            "ticks": ""
           }
          },
          "title": {
           "x": 0.05
          },
          "xaxis": {
           "automargin": true,
           "gridcolor": "white",
           "linecolor": "white",
           "ticks": "",
           "title": {
            "standoff": 15
           },
           "zerolinecolor": "white",
           "zerolinewidth": 2
          },
          "yaxis": {
           "automargin": true,
           "gridcolor": "white",
           "linecolor": "white",
           "ticks": "",
           "title": {
            "standoff": 15
           },
           "zerolinecolor": "white",
           "zerolinewidth": 2
          }
         }
        }
       }
      },
      "text/html": [
       "<div>\n",
       "        \n",
       "        \n",
       "            <div id=\"d1a4914f-a3b7-4fa9-9134-1e05527df84f\" class=\"plotly-graph-div\" style=\"height:525px; width:100%;\"></div>\n",
       "            <script type=\"text/javascript\">\n",
       "                require([\"plotly\"], function(Plotly) {\n",
       "                    window.PLOTLYENV=window.PLOTLYENV || {};\n",
       "                    \n",
       "                if (document.getElementById(\"d1a4914f-a3b7-4fa9-9134-1e05527df84f\")) {\n",
       "                    Plotly.newPlot(\n",
       "                        'd1a4914f-a3b7-4fa9-9134-1e05527df84f',\n",
       "                        [{\"line\": {\"shape\": \"linear\"}, \"name\": \"IBM\", \"type\": \"scatter\", \"x\": [0, 1, 2, 3, 4, 5, 6, 7, 8, 9, 10, 11, 12, 13, 14, 15, 16, 17, 18, 19, 20, 21, 22, 23, 24, 25, 26, 27, 28, 29, 30, 31, 32, 33, 34, 35, 36, 37, 38, 39, 40, 41, 42, 43, 44, 45, 46, 47, 48, 49, 50, 51, 52, 53, 54, 55, 56, 57, 58, 59, 60, 61, 62, 63, 64, 65, 66, 67, 68, 69, 70, 71, 72, 73, 74, 75, 76, 77, 78, 79, 80, 81, 82, 83, 84, 85, 86, 87, 88, 89, 90, 91, 92, 93, 94, 95, 96, 97, 98, 99, 100, 101, 102, 103, 104, 105, 106, 107, 108, 109, 110, 111, 112, 113, 114, 115, 116, 117, 118, 119, 120, 121, 122, 123, 124, 125, 126, 127, 128, 129, 130, 131, 132, 133, 134, 135, 136, 137, 138, 139, 140, 141, 142, 143, 144, 145, 146, 147, 148, 149, 150, 151, 152, 153, 154, 155, 156, 157, 158, 159, 160, 161, 162, 163, 164, 165, 166, 167, 168, 169, 170, 171, 172, 173, 174, 175, 176, 177, 178, 179, 180, 181, 182, 183, 184, 185, 186, 187, 188, 189, 190, 191, 192, 193, 194, 195, 196, 197, 198, 199, 200, 201, 202, 203, 204, 205, 206, 207, 208, 209, 210, 211, 212, 213, 214, 215, 216, 217, 218, 219, 220, 221, 222, 223, 224, 225, 226, 227, 228, 229, 230, 231, 232, 233, 234, 235, 236, 237, 238, 239, 240, 241, 242, 243, 244, 245, 246, 247, 248, 249, 250, 251, 252, 253, 254, 255, 256, 257, 258, 259, 260, 261, 262, 263, 264, 265, 266, 267, 268, 269, 270, 271, 272, 273, 274, 275, 276, 277, 278, 279, 280, 281, 282, 283, 284, 285, 286, 287, 288, 289, 290, 291, 292, 293, 294, 295, 296, 297, 298, 299, 300, 301, 302, 303, 304, 305, 306, 307, 308, 309, 310, 311, 312, 313, 314, 315, 316, 317, 318, 319, 320, 321, 322, 323, 324, 325, 326, 327, 328, 329, 330, 331, 332, 333, 334, 335, 336, 337, 338, 339, 340, 341, 342, 343, 344, 345, 346, 347, 348, 349, 350, 351, 352, 353, 354, 355, 356, 357, 358, 359, 360, 361, 362, 363, 364, 365, 366, 367, 368, 369, 370, 371, 372, 373, 374, 375, 376, 377, 378, 379, 380, 381, 382, 383, 384, 385, 386, 387, 388, 389, 390, 391, 392, 393, 394, 395, 396, 397, 398, 399, 400, 401, 402, 403, 404, 405, 406, 407, 408, 409, 410, 411, 412, 413, 414, 415, 416, 417, 418, 419, 420, 421, 422, 423, 424, 425, 426, 427, 428, 429, 430, 431, 432, 433, 434, 435, 436, 437, 438, 439, 440, 441, 442, 443, 444, 445, 446, 447, 448, 449, 450, 451, 452, 453, 454, 455, 456, 457, 458, 459, 460, 461, 462, 463, 464, 465, 466, 467, 468, 469, 470, 471, 472, 473, 474, 475, 476, 477, 478, 479, 480, 481, 482, 483, 484, 485, 486, 487, 488, 489, 490, 491, 492, 493, 494, 495, 496, 497, 498, 499, 500, 501, 502, 503, 504, 505, 506, 507, 508, 509, 510, 511, 512, 513, 514, 515, 516, 517, 518, 519, 520, 521, 522, 523, 524, 525, 526, 527, 528, 529, 530, 531, 532, 533, 534, 535, 536, 537, 538, 539, 540, 541, 542, 543, 544, 545, 546, 547, 548, 549, 550, 551, 552, 553, 554, 555, 556, 557, 558, 559, 560, 561, 562, 563, 564, 565, 566, 567, 568, 569, 570, 571, 572, 573, 574, 575, 576, 577, 578, 579, 580, 581, 582, 583, 584, 585, 586, 587, 588, 589, 590, 591, 592, 593, 594, 595, 596, 597, 598, 599, 600, 601, 602, 603, 604, 605, 606, 607, 608, 609, 610, 611, 612, 613, 614, 615, 616, 617, 618, 619, 620, 621, 622, 623, 624, 625, 626, 627, 628, 629, 630, 631, 632, 633, 634, 635, 636, 637, 638, 639, 640, 641, 642, 643, 644, 645, 646, 647, 648, 649, 650, 651, 652, 653, 654, 655, 656, 657, 658, 659, 660, 661, 662, 663, 664, 665, 666, 667, 668, 669, 670, 671, 672, 673, 674, 675, 676, 677, 678, 679, 680, 681, 682, 683, 684, 685, 686, 687, 688, 689, 690, 691, 692, 693, 694, 695, 696, 697, 698, 699, 700, 701, 702, 703, 704, 705, 706, 707, 708, 709, 710, 711, 712, 713, 714, 715, 716, 717, 718, 719, 720, 721, 722, 723, 724, 725, 726, 727, 728, 729, 730, 731, 732, 733, 734, 735, 736, 737, 738, 739, 740, 741, 742, 743, 744, 745, 746, 747, 748, 749, 750, 751, 752, 753], \"y\": [146.93508911132812, 148.75430297851562, 148.2621307373047, 148.9915771484375, 147.33934020996094, 145.46739196777344, 147.42721557617188, 147.60302734375, 147.06689453125, 147.55026245117188, 146.59230041503906, 146.60110473632812, 149.88800048828125, 150.30987548828125, 154.58985900878906, 156.69029235839844, 157.01547241210938, 155.8202362060547, 154.50201416015625, 153.37705993652344, 153.17489624023438, 153.42979431152344, 154.51954650878906, 154.55467224121094, 156.83973693847656, 156.05136108398438, 156.97262573242188, 158.2747039794922, 158.87705993652344, 159.55911254882812, 160.93211364746094, 160.71063232421875, 160.03744506835938, 159.67430114746094, 160.46263122558594, 160.9055633544922, 160.63980102539062, 158.9124755859375, 159.28453063964844, 161.17129516601562, 159.9134521484375, 159.48825073242188, 159.86032104492188, 159.78057861328125, 158.95677185058594, 156.94601440429688, 157.52178955078125, 156.30824279785156, 155.65274047851562, 155.7324676513672, 156.99913024902344, 155.59075927734375, 155.63504028320312, 154.02288818359375, 154.8201141357422, 154.85556030273438, 153.9785919189453, 153.92544555664062, 154.58091735839844, 154.07603454589844, 154.00515747070312, 154.253173828125, 154.5720672607422, 154.5897979736328, 153.13706970214844, 152.7561798095703, 152.48159790039062, 151.64892578125, 151.09976196289062, 151.1705780029297, 150.16964721679688, 151.5603485107422, 150.63027954101562, 143.22496032714844, 143.76531982421875, 142.0645751953125, 142.39230346679688, 142.07347106933594, 141.78111267089844, 142.01144409179688, 141.98484802246094, 140.700439453125, 140.93075561523438, 140.51441955566406, 140.88645935058594, 137.34326171875, 136.87812805175778, 136.05523681640622, 135.28604125976562, 134.74935913085938, 134.4989013671875, 135.51858520507812, 137.45953369140622, 134.99978637695312, 134.86563110351562, 135.93899536132812, 136.52931213378906, 135.98370361328122, 136.41304016113278, 137.03021240234378, 136.3951416015625, 135.71533203125, 136.52040100097656, 136.55615234375, 136.00157165527344, 136.3236083984375, 136.28779602050778, 135.04452514648438, 136.04629516601562, 137.83522033691406, 138.80120849609378, 137.96939086914062, 137.57582092285156, 137.94253540039062, 138.98011779785156, 138.49711608886722, 138.59550476074222, 137.55792236328122, 138.10354614257812, 137.84416198730472, 138.845947265625, 138.41659545898438, 138.92646789550778, 137.86207580566406, 137.59371948242188, 139.15898132324222, 137.45059204101562, 136.27888488769528, 136.79766845703122, 137.22697448730472, 137.02127075195312, 137.47743225097656, 137.41484069824222, 137.96044921875, 136.86026000976562, 137.74574279785156, 131.95863342285156, 132.07493591308594, 131.55615234375, 130.58123779296878, 130.76011657714844, 130.01768493652344, 129.75833129882812, 129.06062316894528, 129.4005126953125, 129.96403503417972, 129.2037353515625, 129.64202880859378, 129.83882141113278, 128.32716369628906, 128.4537353515625, 128.14640808105472, 128.20964050292972, 128.20964050292972, 128.6435546875, 128.4176025390625, 128.80624389648438, 127.17921447753906, 126.27532958984376, 126.84475708007812, 127.45941925048828, 128.4808349609375, 129.20394897460938, 129.92707824707028, 128.81527709960938, 129.38475036621094, 128.86048889160156, 129.28530883789062, 130.23442077636722, 129.29435729980472, 129.99942016601562, 129.16780090332028, 128.76106262207028, 130.93943786621094, 131.75294494628906, 131.96089172363278, 131.55412292480472, 130.90330505371094, 130.65924072265622, 130.51461791992188, 131.86143493652344, 131.30104064941406, 131.18351745605472, 131.85237121582028, 132.47610473632812, 131.66259765625, 131.66259765625, 131.13833618164062, 132.56649780273438, 132.67494201660156, 132.40379333496094, 132.6207275390625, 132.40379333496094, 133.22633361816406, 134.22966003417972, 133.43423461914062, 132.90093994140622, 132.96420288085938, 132.72013854980472, 132.45802307128906, 144.19972229003906, 145.4380645751953, 146.49562072753906, 144.2178192138672, 140.9004669189453, 138.74917602539062, 138.83958435058594, 138.91188049316406, 139.52653503417972, 139.25537109375, 139.228271484375, 138.61360168457028, 137.01368713378906, 136.34478759765622, 136.80577087402344, 137.004638671875, 137.21463012695312, 136.17387390136722, 135.48002624511722, 135.92741394042972, 134.29322814941406, 136.13734436035156, 136.00041198730472, 137.40634155273438, 138.720947265625, 138.55662536621094, 138.62052917480472, 138.74835205078122, 139.19569396972656, 140.18165588378906, 140.56509399414062, 141.28631591796875, 142.83834838867188, 141.82496643066406, 140.68379211425778, 140.19993591308594, 141.3319549560547, 141.8797149658203, 143.0939483642578, 140.51033020019528, 140.59249877929688, 139.22308349609378, 139.9808349609375, 139.88954162597656, 139.63389587402344, 138.31016540527344, 139.22308349609378, 139.52435302734378, 139.79824829101562, 140.62901306152344, 140.06298828125, 140.82073974609375, 144.6916046142578, 147.62213134765625, 148.34335327148438, 149.238037109375, 149.56668090820312, 149.88621520996094, 149.9044952392578, 148.93675231933594, 149.58494567871094, 153.967041015625, 154.39610290527344, 148.23377990722656, 148.44378662109375, 151.77598571777344, 150.97259521484375, 151.0638885498047, 152.77110290527344, 152.27810668945312, 149.3749542236328, 149.44798278808594, 148.2611846923828, 145.18455505371094, 139.25047302246094, 141.81582641601562, 140.45556640625, 136.06718444824222, 137.83729553222656, 139.5797119140625, 138.98048400878906, 142.67739868164062, 143.82981872558594, 143.9865264892578, 143.04615783691406, 141.93988037109375, 141.22073364257812, 143.37806701660156, 146.19918823242188, 144.32765197753906, 143.6638641357422, 141.8015594482422, 142.42849731445312, 144.69639587402344, 143.5624542236328, 145.95948791503906, 144.0142059326172, 146.87216186523438, 147.7480010986328, 146.88137817382812, 145.77508544921875, 147.14874267578125, 147.7480010986328, 145.065185546875, 144.0049591064453, 144.4567108154297, 140.21583557128906, 137.26570129394528, 141.3959197998047, 140.04989624023438, 140.61228942871094, 141.45123291015625, 138.35356140136722, 138.1507568359375, 142.08737182617188, 142.00439453125, 138.81454467773438, 140.76901245117188, 143.2582244873047, 143.2305450439453, 145.72898864746094, 144.4751739501953, 145.5630340576172, 148.34725952148438, 137.17349243164062, 136.16859436035156, 133.58720397949222, 134.47225952148438, 134.1956787109375, 134.5460205078125, 135.26509094238278, 135.04386901855472, 133.64253234863278, 133.67938232421878, 131.3284912109375, 130.90440368652344, 132.67446899414062, 132.03836059570312, 131.83555603027344, 132.93548583984378, 134.45491027832028, 134.3616943359375, 134.51083374023438, 133.98883056640622, 134.81846618652344, 134.697265625, 134.30577087402344, 135.62013244628906, 135.24725341796878, 134.85574340820312, 134.29644775390622, 133.89559936523438, 131.63978576660156, 132.94480895996094, 131.72367858886722, 132.32025146484378, 133.3363037109375, 133.95152282714844, 134.89302062988278, 135.49893188476562, 136.22601318359378, 136.63616943359378, 136.90646362304688, 136.42178344726562, 135.34977722167972, 135.52688598632812, 134.67861938476562, 134.13795471191406, 132.95413208007812, 131.66773986816406, 131.69570922851562, 129.37461853027344, 129.64494323730472, 128.15348815917972, 130.53981018066406, 130.222900390625, 130.37203979492188, 130.10171508789062, 131.83554077148438, 132.81430053710938, 134.59474182128906, 134.89302062988278, 135.107421875, 136.51498413085938, 136.00228881835938, 135.59214782714844, 133.75576782226562, 134.71591186523438, 139.11572265625, 136.42178344726562, 135.81585693359378, 136.44972229003906, 136.67343139648438, 136.75735473632812, 135.30317687988278, 135.62013244628906, 135.09811401367188, 133.76510620117188, 133.26174926757812, 137.68019104003906, 136.12347412109378, 137.03700256347656, 136.92514038085938, 136.40692138671878, 136.13365173339844, 134.46591186523438, 135.07835388183594, 135.59657287597656, 136.94398498535156, 137.62240600585938, 138.04638671875, 137.53758239746094, 136.84977722167972, 136.97224426269528, 137.60353088378906, 138.21598815917972, 138.12176513671878, 139.01687622070312, 137.49989318847656, 138.01811218261722, 137.26431274414062, 138.18772888183594, 137.93333435058594, 137.04762268066406, 137.23606872558594, 138.02754211425778, 138.10293579101562, 140.34542846679688, 139.76124572753906, 139.39378356933594, 139.97798156738278, 140.44908142089844, 142.41835021972656, 142.6068115234375, 141.363037109375, 140.30776977539062, 142.85177612304688, 142.74813842773438, 142.4748992919922, 144.16146850585938, 144.86814880371094, 144.36874389648438, 142.569091796875, 140.42082214355472, 139.81776428222656, 138.73422241210938, 134.44705200195312, 130.98907470703122, 132.71334838867188, 132.97720336914062, 136.73667907714844, 126.30618286132812, 123.00836944580078, 121.64214324951172, 122.5089874267578, 123.6302490234375, 119.86131286621094, 119.1452178955078, 117.58111572265624, 112.72862243652344, 108.73355865478516, 108.76182556152344, 110.08094787597656, 108.98795318603516, 113.12435150146484, 116.0075912475586, 117.6282196044922, 117.73318481445312, 117.88587188720705, 115.36669158935548, 115.30943298339844, 114.69873046875, 115.88198852539062, 116.00602722167969, 114.80369567871094, 111.83602905273438, 113.1433334350586, 111.82649230957031, 114.08802032470705, 114.53650665283205, 117.3705825805664, 115.92015075683594, 118.58245086669922, 119.57486724853516, 116.03465270996094, 118.23893737792969, 113.87808990478516, 115.58616638183594, 115.35714721679688, 115.6147918701172, 115.20448303222656, 114.41246032714844, 110.786376953125, 111.31121063232422, 111.10128021240234, 107.84733581542969, 105.86254119873048, 102.6467742919922, 106.29193878173828, 108.5725555419922, 107.85688018798828, 108.46759033203124, 109.9371109008789, 107.74237060546876, 111.9505386352539, 112.7425537109375, 114.3456573486328, 115.1663055419922, 116.21595764160156, 115.90106201171876, 114.88003540039062, 116.1587142944336, 116.05374145507812, 116.59765625, 118.1530532836914, 116.91254425048828, 126.80792999267578, 126.46440887451172, 127.83850860595705, 128.12480163574222, 128.18202209472656, 128.22975158691406, 128.26791381835938, 127.96257019042969, 129.00267028808594, 129.34619140625, 130.08096313476562, 128.57501220703122, 129.07699584960938, 129.34730529785156, 131.33592224121094, 132.75498962402344, 131.75100708007812, 133.247314453125, 133.89408874511722, 133.21835327148438, 133.06390380859378, 134.425048828125, 134.62776184082028, 134.87873840332028, 134.34780883789062, 133.34385681152344, 134.37675476074222, 133.63345336914062, 133.10250854492188, 132.23368835449222, 130.66983032226562, 130.4091796875, 132.93841552734378, 133.4886474609375, 133.75894165039062, 133.98097229003906, 134.59878540039062, 135.35177612304688, 135.6220703125, 134.76292419433594, 136.53915405273438, 134.61810302734378, 134.35746765136722, 135.36143493652344, 134.41539001464844, 135.07182312011722, 136.21095275878906, 138.334716796875, 138.04510498046878, 138.65327453613278, 137.83271789550778, 138.31541442871094, 138.42160034179688, 137.18594360351562, 138.06440734863278, 138.79808044433594, 139.34832763671878, 138.91390991210938, 140.1109619140625, 134.28990173339844, 135.46762084960938, 134.0775146484375, 135.57380676269528, 135.10076904296878, 133.82652282714844, 134.60845947265622, 134.23197937011722, 135.40969848632812, 135.68963623046878, 134.75325012207028, 135.39039611816406, 135.51588439941406, 132.87083435058594, 133.21835327148438, 132.20245361328122, 132.18293762207028, 128.37333679199222, 130.21951293945312, 131.28424072265622, 132.72994995117188, 131.20611572265622, 131.98756408691406, 133.28672790527344, 133.18905639648438, 129.32084655761722, 129.21339416503906, 127.43560791015624, 126.6834487915039, 126.56622314453124, 124.04602813720705, 125.2963638305664, 129.61390686035156, 128.44172668457028, 129.15478515625, 130.21951293945312, 131.61636352539062, 132.79832458496094, 131.74334716796878, 132.61271667480472, 132.01686096191406, 131.82150268554688, 133.21835327148438, 133.90211486816406, 135.63108825683594, 135.97296142578122, 136.1195068359375, 135.15245056152344, 135.30874633789062, 135.30874633789062, 134.70310974121094, 136.63720703125, 136.96932983398438, 138.25871276855472, 138.10244750976562, 137.31121826171878, 136.09996032714844, 137.21353149414062, 137.9656982421875, 139.430908203125, 139.99748229980472, 140.20259094238278, 139.75326538085938, 146.1611785888672, 146.2100067138672, 146.2686309814453, 146.893798828125, 146.55189514160156, 146.903564453125, 147.85107421875, 147.3822021484375, 146.29794311523438, 144.8034210205078, 146.83518981933594, 143.8363494873047, 137.49681091308594, 137.46749877929688, 135.88505554199222, 138.464599609375, 134.54093933105472, 132.55439758300778, 134.20489501953122, 129.7178955078125, 130.38008117675778, 132.19859313964844, 133.46365356445312, 131.44746398925778, 132.68287658691406, 132.7520751953125, 128.05751037597656, 128.47261047363278, 129.63882446289062, 131.21026611328122, 133.30552673339844, 133.94793701171878, 132.53463745117188, 134.72872924804688, 139.32443237304688, 138.92910766601562, 140.93540954589844, 143.3568115234375, 141.92373657226562, 141.94349670410156, 141.992919921875, 140.81680297851562, 140.54006958007812, 140.55984497070312, 141.30108642578125, 140.22381591796878, 140.41160583496094, 140.02613830566406, 141.48887634277344, 141.87432861328125, 141.5679473876953, 143.7224884033203, 141.9830322265625, 140.03602600097656, 140.3621826171875, 141.32086181640625, 139.63081359863278, 136.76467895507812, 138.03961181640622, 139.48257446289062, 141.09353637695312, 140.38194274902344, 141.3307342529297, 140.45112609863278, 132.69276428222656, 132.52474975585938, 131.03237915039062, 132.39627075195312, 132.81137084960938, 132.50498962402344, 133.85899353027344, 134.38279724121094, 132.25790405273438, 133.67120361328122, 132.1689453125, 133.94793701171878, 136.06295776367188, 136.2803955078125, 137.16000366210938, 137.69000244140622, 137.61000061035156, 135.47000122070312, 135.58999633789062, 134.47999572753906, 134.0, 134.39999389648438, 134.30999755859378, 134.52000427246094, 133.19999694824222, 133.83999633789062, 134.33999633789062, 135.97000122070312, 135.08999633789062, 133.77000427246094, 134.44999694824222, 132.91000366210938, 132.1199951171875, 131.99000549316406, 131.91000366210938, 133.22000122070312, 133.91999816894528, 133.91000366210938, 133.75999450683594, 135.32000732421878, 134.21000671386722, 134.1300048828125, 134.22000122070312, 134.41000366210938, 134.55999755859378, 135.58999633789062, 135.55000305175778, 134.97999572753906, 134.91000366210938, 135.27000427246094, 132.80999755859378, 134.03999328613278]}, {\"fill\": \"toself\", \"fillcolor\": \"rgba(0,100,80,0.2)\", \"line\": {\"color\": \"rgba(255,255,255,0)\"}, \"name\": \"Moving STD\", \"showlegend\": false, \"type\": \"scatter\", \"x\": [0, 1, 2, 3, 4, 5, 6, 7, 8, 9, 10, 11, 12, 13, 14, 15, 16, 17, 18, 19, 20, 21, 22, 23, 24, 25, 26, 27, 28, 29, 30, 31, 32, 33, 34, 35, 36, 37, 38, 39, 40, 41, 42, 43, 44, 45, 46, 47, 48, 49, 50, 51, 52, 53, 54, 55, 56, 57, 58, 59, 60, 61, 62, 63, 64, 65, 66, 67, 68, 69, 70, 71, 72, 73, 74, 75, 76, 77, 78, 79, 80, 81, 82, 83, 84, 85, 86, 87, 88, 89, 90, 91, 92, 93, 94, 95, 96, 97, 98, 99, 100, 101, 102, 103, 104, 105, 106, 107, 108, 109, 110, 111, 112, 113, 114, 115, 116, 117, 118, 119, 120, 121, 122, 123, 124, 125, 126, 127, 128, 129, 130, 131, 132, 133, 134, 135, 136, 137, 138, 139, 140, 141, 142, 143, 144, 145, 146, 147, 148, 149, 150, 151, 152, 153, 154, 155, 156, 157, 158, 159, 160, 161, 162, 163, 164, 165, 166, 167, 168, 169, 170, 171, 172, 173, 174, 175, 176, 177, 178, 179, 180, 181, 182, 183, 184, 185, 186, 187, 188, 189, 190, 191, 192, 193, 194, 195, 196, 197, 198, 199, 200, 201, 202, 203, 204, 205, 206, 207, 208, 209, 210, 211, 212, 213, 214, 215, 216, 217, 218, 219, 220, 221, 222, 223, 224, 225, 226, 227, 228, 229, 230, 231, 232, 233, 234, 235, 236, 237, 238, 239, 240, 241, 242, 243, 244, 245, 246, 247, 248, 249, 250, 251, 252, 253, 254, 255, 256, 257, 258, 259, 260, 261, 262, 263, 264, 265, 266, 267, 268, 269, 270, 271, 272, 273, 274, 275, 276, 277, 278, 279, 280, 281, 282, 283, 284, 285, 286, 287, 288, 289, 290, 291, 292, 293, 294, 295, 296, 297, 298, 299, 300, 301, 302, 303, 304, 305, 306, 307, 308, 309, 310, 311, 312, 313, 314, 315, 316, 317, 318, 319, 320, 321, 322, 323, 324, 325, 326, 327, 328, 329, 330, 331, 332, 333, 334, 335, 336, 337, 338, 339, 340, 341, 342, 343, 344, 345, 346, 347, 348, 349, 350, 351, 352, 353, 354, 355, 356, 357, 358, 359, 360, 361, 362, 363, 364, 365, 366, 367, 368, 369, 370, 371, 372, 373, 374, 375, 376, 377, 378, 379, 380, 381, 382, 383, 384, 385, 386, 387, 388, 389, 390, 391, 392, 393, 394, 395, 396, 397, 398, 399, 400, 401, 402, 403, 404, 405, 406, 407, 408, 409, 410, 411, 412, 413, 414, 415, 416, 417, 418, 419, 420, 421, 422, 423, 424, 425, 426, 427, 428, 429, 430, 431, 432, 433, 434, 435, 436, 437, 438, 439, 440, 441, 442, 443, 444, 445, 446, 447, 448, 449, 450, 451, 452, 453, 454, 455, 456, 457, 458, 459, 460, 461, 462, 463, 464, 465, 466, 467, 468, 469, 470, 471, 472, 473, 474, 475, 476, 477, 478, 479, 480, 481, 482, 483, 484, 485, 486, 487, 488, 489, 490, 491, 492, 493, 494, 495, 496, 497, 498, 499, 500, 501, 502, 503, 504, 505, 506, 507, 508, 509, 510, 511, 512, 513, 514, 515, 516, 517, 518, 519, 520, 521, 522, 523, 524, 525, 526, 527, 528, 529, 530, 531, 532, 533, 534, 535, 536, 537, 538, 539, 540, 541, 542, 543, 544, 545, 546, 547, 548, 549, 550, 551, 552, 553, 554, 555, 556, 557, 558, 559, 560, 561, 562, 563, 564, 565, 566, 567, 568, 569, 570, 571, 572, 573, 574, 575, 576, 577, 578, 579, 580, 581, 582, 583, 584, 585, 586, 587, 588, 589, 590, 591, 592, 593, 594, 595, 596, 597, 598, 599, 600, 601, 602, 603, 604, 605, 606, 607, 608, 609, 610, 611, 612, 613, 614, 615, 616, 617, 618, 619, 620, 621, 622, 623, 624, 625, 626, 627, 628, 629, 630, 631, 632, 633, 634, 635, 636, 637, 638, 639, 640, 641, 642, 643, 644, 645, 646, 647, 648, 649, 650, 651, 652, 653, 654, 655, 656, 657, 658, 659, 660, 661, 662, 663, 664, 665, 666, 667, 668, 669, 670, 671, 672, 673, 674, 675, 676, 677, 678, 679, 680, 681, 682, 683, 684, 685, 686, 687, 688, 689, 690, 691, 692, 693, 694, 695, 696, 697, 698, 699, 700, 701, 702, 703, 704, 705, 706, 707, 708, 709, 710, 711, 712, 713, 714, 715, 716, 717, 718, 719, 720, 721, 722, 723, 724, 725, 726, 727, 728, 729, 730, 731, 732, 733, 734, 735, 736, 737, 738, 739, 740, 741, 742, 743, 744, 745, 746, 747, 748, 749, 750, 751, 752, 753, 753, 752, 751, 750, 749, 748, 747, 746, 745, 744, 743, 742, 741, 740, 739, 738, 737, 736, 735, 734, 733, 732, 731, 730, 729, 728, 727, 726, 725, 724, 723, 722, 721, 720, 719, 718, 717, 716, 715, 714, 713, 712, 711, 710, 709, 708, 707, 706, 705, 704, 703, 702, 701, 700, 699, 698, 697, 696, 695, 694, 693, 692, 691, 690, 689, 688, 687, 686, 685, 684, 683, 682, 681, 680, 679, 678, 677, 676, 675, 674, 673, 672, 671, 670, 669, 668, 667, 666, 665, 664, 663, 662, 661, 660, 659, 658, 657, 656, 655, 654, 653, 652, 651, 650, 649, 648, 647, 646, 645, 644, 643, 642, 641, 640, 639, 638, 637, 636, 635, 634, 633, 632, 631, 630, 629, 628, 627, 626, 625, 624, 623, 622, 621, 620, 619, 618, 617, 616, 615, 614, 613, 612, 611, 610, 609, 608, 607, 606, 605, 604, 603, 602, 601, 600, 599, 598, 597, 596, 595, 594, 593, 592, 591, 590, 589, 588, 587, 586, 585, 584, 583, 582, 581, 580, 579, 578, 577, 576, 575, 574, 573, 572, 571, 570, 569, 568, 567, 566, 565, 564, 563, 562, 561, 560, 559, 558, 557, 556, 555, 554, 553, 552, 551, 550, 549, 548, 547, 546, 545, 544, 543, 542, 541, 540, 539, 538, 537, 536, 535, 534, 533, 532, 531, 530, 529, 528, 527, 526, 525, 524, 523, 522, 521, 520, 519, 518, 517, 516, 515, 514, 513, 512, 511, 510, 509, 508, 507, 506, 505, 504, 503, 502, 501, 500, 499, 498, 497, 496, 495, 494, 493, 492, 491, 490, 489, 488, 487, 486, 485, 484, 483, 482, 481, 480, 479, 478, 477, 476, 475, 474, 473, 472, 471, 470, 469, 468, 467, 466, 465, 464, 463, 462, 461, 460, 459, 458, 457, 456, 455, 454, 453, 452, 451, 450, 449, 448, 447, 446, 445, 444, 443, 442, 441, 440, 439, 438, 437, 436, 435, 434, 433, 432, 431, 430, 429, 428, 427, 426, 425, 424, 423, 422, 421, 420, 419, 418, 417, 416, 415, 414, 413, 412, 411, 410, 409, 408, 407, 406, 405, 404, 403, 402, 401, 400, 399, 398, 397, 396, 395, 394, 393, 392, 391, 390, 389, 388, 387, 386, 385, 384, 383, 382, 381, 380, 379, 378, 377, 376, 375, 374, 373, 372, 371, 370, 369, 368, 367, 366, 365, 364, 363, 362, 361, 360, 359, 358, 357, 356, 355, 354, 353, 352, 351, 350, 349, 348, 347, 346, 345, 344, 343, 342, 341, 340, 339, 338, 337, 336, 335, 334, 333, 332, 331, 330, 329, 328, 327, 326, 325, 324, 323, 322, 321, 320, 319, 318, 317, 316, 315, 314, 313, 312, 311, 310, 309, 308, 307, 306, 305, 304, 303, 302, 301, 300, 299, 298, 297, 296, 295, 294, 293, 292, 291, 290, 289, 288, 287, 286, 285, 284, 283, 282, 281, 280, 279, 278, 277, 276, 275, 274, 273, 272, 271, 270, 269, 268, 267, 266, 265, 264, 263, 262, 261, 260, 259, 258, 257, 256, 255, 254, 253, 252, 251, 250, 249, 248, 247, 246, 245, 244, 243, 242, 241, 240, 239, 238, 237, 236, 235, 234, 233, 232, 231, 230, 229, 228, 227, 226, 225, 224, 223, 222, 221, 220, 219, 218, 217, 216, 215, 214, 213, 212, 211, 210, 209, 208, 207, 206, 205, 204, 203, 202, 201, 200, 199, 198, 197, 196, 195, 194, 193, 192, 191, 190, 189, 188, 187, 186, 185, 184, 183, 182, 181, 180, 179, 178, 177, 176, 175, 174, 173, 172, 171, 170, 169, 168, 167, 166, 165, 164, 163, 162, 161, 160, 159, 158, 157, 156, 155, 154, 153, 152, 151, 150, 149, 148, 147, 146, 145, 144, 143, 142, 141, 140, 139, 138, 137, 136, 135, 134, 133, 132, 131, 130, 129, 128, 127, 126, 125, 124, 123, 122, 121, 120, 119, 118, 117, 116, 115, 114, 113, 112, 111, 110, 109, 108, 107, 106, 105, 104, 103, 102, 101, 100, 99, 98, 97, 96, 95, 94, 93, 92, 91, 90, 89, 88, 87, 86, 85, 84, 83, 82, 81, 80, 79, 78, 77, 76, 75, 74, 73, 72, 71, 70, 69, 68, 67, 66, 65, 64, 63, 62, 61, 60, 59, 58, 57, 56, 55, 54, 53, 52, 51, 50, 49, 48, 47, 46, 45, 44, 43, 42, 41, 40, 39, 38, 37, 36, 35, 34, 33, 32, 31, 30, 29, 28, 27, 26, 25, 24, 23, 22, 21, 20, 19, 18, 17, 16, 15, 14, 13, 12, 11, 10, 9, 8, 7, 6, 5, 4, 3, 2, 1, 0], \"y\": [146.93508911132812, 148.29949951171875, 148.36799991145466, 148.63362755436685, 148.45495151193768, 148.40289074406041, 148.0877946168479, 147.9273087558052, 147.3688989670397, 147.42293779318592, 147.4366549735272, 147.30203852296475, 148.15276630678977, 148.99029249670033, 151.07144189107106, 153.41072750312617, 155.22759384532122, 156.10357912716427, 156.24272835154778, 156.16354896469392, 155.50941654925097, 154.55783034217367, 154.09368562011633, 154.11063800926115, 155.15098926977595, 155.68538299438987, 156.32185989959046, 157.1496228564486, 157.91603688355346, 158.5839247880183, 159.58143672457845, 160.1837422659852, 160.39929825752802, 160.4573810143895, 160.5909061300923, 160.58231569405916, 160.56296862374182, 160.4837459327701, 160.43657707170647, 160.63709927514046, 160.4015724179109, 160.1434452066299, 160.27195958305407, 160.33431133338158, 159.7766315191188, 159.54529203124983, 159.2049907705793, 158.54455674546378, 157.6413830250861, 156.790284390615, 156.80485435925146, 156.32470346313727, 156.1922773858604, 156.06847803737026, 155.90758198272417, 155.28144432673233, 154.96942289106158, 154.53235081905822, 154.63391640245018, 154.46769048476105, 154.23264148186388, 154.2846711165171, 154.41833954436274, 154.42116544133913, 154.3780789917766, 154.24475457032037, 153.95783381581, 153.40593110077424, 152.59739237645894, 152.16928823911144, 151.6916913134501, 151.39246627774418, 151.16611572375953, 150.9007947131569, 149.67220688392297, 148.2519562288944, 145.99795055143528, 143.04334455612857, 142.76643555500488, 142.16221809343614, 142.14756639143, 141.96743910608595, 141.75896917611306, 141.54951015766684, 141.25961471666838, 140.76199661179092, 140.21461697459887, 139.32451965324, 138.2554207421709, 136.54369945975594, 135.93049752793308, 135.49844671840523, 136.0245725032945, 135.97631669369477, 135.99241447898333, 136.22322332069453, 136.4430484296377, 135.98012188496403, 136.2399941820392, 136.5787641968154, 136.6380150808521, 136.53071678356716, 136.62453106432991, 136.65503743968375, 136.40123493948, 136.3840860946395, 136.43709562994243, 136.30736815082207, 136.17368410824983, 136.7545857929286, 137.473403960619, 137.82918440341692, 138.09496853666374, 138.23101115458653, 138.52442728360714, 138.43852468621242, 138.56714615739145, 138.56624677923702, 138.5884030971125, 138.31466428327948, 138.42619694685447, 138.37742030673425, 138.63584017689922, 138.61061355870697, 138.5926400546364, 138.6909500000943, 138.551267335728, 138.12945420979844, 137.94270025704435, 137.86968824171993, 137.15580906860478, 137.16453364174197, 137.31351493610234, 137.57698221103362, 137.53932787367833, 137.67736435635035, 137.51076707964663, 136.68121379508904, 135.38170691509958, 134.05146234277663, 131.69206366808027, 131.3628968516786, 130.8482644904924, 130.3397716970484, 130.08904081783655, 129.82116259230244, 129.646302915986, 129.6147686126754, 129.74904979640903, 129.69169167800524, 129.39847447833304, 129.23698338880513, 128.9104727124606, 128.32390038046745, 128.4264766266164, 128.41717403872457, 128.57580561718947, 128.53765878623508, 128.3540220113244, 127.98318069587695, 127.73519694515527, 127.61383484308814, 128.18574910579287, 128.94387244191617, 129.18536579693424, 129.40945322511382, 129.44063676427754, 129.4568722253779, 129.57172272283452, 129.63671777975597, 129.78779080806524, 129.81319480749266, 129.76409341713227, 130.0153260611539, 130.67666545398728, 131.17576400634778, 131.57737003629862, 131.6365345182497, 131.6163617410739, 131.39423384183107, 131.35946863200581, 131.29106082281766, 131.3452210128827, 131.59175954920062, 131.96635132014993, 131.92455590750149, 131.97628797652305, 131.9736648157807, 132.17223971969375, 132.23503535847178, 132.38554467261469, 132.57007147836268, 132.5897853668242, 132.8165180942083, 133.32438035928868, 133.50573514460177, 133.5416091525671, 133.590519327744, 133.52167634581014, 133.0563061908695, 137.33807052214408, 140.52861764258773, 143.41617701545687, 145.12367882135715, 145.19047821948362, 144.6092944139907, 143.36970375287848, 141.37668102250782, 139.78816134854296, 139.20192223772827, 139.27723641534095, 139.26433307629893, 139.18125557651453, 138.68830875326955, 138.15929049688347, 137.54045621629032, 137.0245697625342, 136.90513765412868, 136.851948764408, 136.68738397821602, 136.2936678822588, 135.95218356697657, 135.90481203898435, 136.44812118176944, 137.2534205259759, 137.94007318456218, 138.38388552551504, 138.66396789794263, 138.88066772536698, 139.36224729205205, 139.8510455469965, 140.45478957632963, 141.42177164282657, 141.80966745496417, 141.8559068417059, 141.82547020066735, 141.83428903285477, 141.5108249209192, 141.9403707442963, 141.91969567623806, 141.95679062011848, 141.71960581061057, 141.33110107779302, 140.28623488052904, 140.08855223808726, 139.7116822514459, 139.7116822514459, 139.58949850578034, 139.56212148641262, 139.87489850182143, 140.08773959663787, 140.4120810416512, 142.09267543762158, 144.23067906804678, 146.00515790635998, 147.67682313541113, 148.76228819657, 149.34777267636596, 149.6759132453439, 149.6939048633811, 149.75088170241327, 151.35096168597525, 152.5231142347522, 152.33226126631334, 152.27600871516555, 152.67606777756373, 151.9056161742071, 150.8303060484713, 151.72233543034167, 152.11837307895414, 151.88328391617404, 151.688033573934, 151.3120318569299, 150.05280869683858, 148.22933455487544, 146.7081678539954, 144.6425738343592, 142.0526300945932, 140.08594951586534, 140.1566696510431, 139.34376323306356, 140.119491439135, 141.72203453825153, 142.87261794794983, 143.41771950784153, 143.47317328437953, 143.3414076584734, 143.21426020803614, 144.00964107997248, 144.2956224231698, 144.56023617139925, 144.5881185711478, 144.45424099819164, 143.9362368796995, 143.73710766074126, 144.4425824085383, 144.71950859244077, 145.63551083737573, 146.4382004041424, 146.9315514078944, 146.9005727834444, 147.20495033755816, 147.4233861025521, 147.00871535840216, 146.62907292487935, 146.43016996241278, 145.50781213703274, 143.69907800287464, 142.78313857703182, 141.8396960136319, 140.60816302172907, 140.92274191002474, 140.94041523001658, 140.36509997125575, 140.93362257382987, 141.2975218910293, 140.7720980918876, 141.17528363755753, 142.1407855974572, 142.4526030082544, 143.543821993021, 144.31422890483302, 144.9889051790053, 146.3163250101357, 146.13942892968464, 144.7518875956477, 143.03388857338845, 140.62378555368917, 135.78801819690185, 135.0222485231655, 134.6849520773126, 134.90046431531556, 134.83050070247066, 134.7723553138094, 134.49333848374027, 133.70092271499215, 133.02163625630826, 132.6174545344706, 132.05937503059408, 132.433234507003, 133.25048411283393, 133.68096398173114, 134.15324875404025, 134.3435536402024, 134.5606089313708, 134.61996100900564, 134.61138548013776, 134.96185544636313, 135.1650327586777, 135.17163032876402, 135.12510969420964, 135.0949508550956, 134.6176988663253, 134.09189711521785, 133.44390065354742, 132.9243715607561, 132.72575168019162, 133.24312265528684, 133.8103341470101, 134.56164124229076, 135.30035097108637, 135.91898383510141, 136.4028476833785, 136.57616329575822, 136.57296715262103, 136.47720078339884, 136.1731242492569, 135.6115382184861, 134.99449871012723, 134.4687181676821, 133.6427571776656, 132.75884443067608, 131.7458027749858, 130.79744446636394, 130.47431997745153, 130.00040964259603, 130.22181127581882, 130.3153129061148, 130.9283761372004, 131.60646486113487, 132.77012663550948, 133.73672558206957, 134.49531606599055, 135.3776974723236, 135.7826638360546, 135.91685678269684, 135.86525628705604, 135.80505763666798, 136.74261443154967, 136.83420451611596, 136.87602105887942, 137.2284235038001, 137.46834161589604, 136.58853052710302, 136.4782068818428, 136.45487096257517, 136.23759757297157, 135.7895392428509, 135.0717565089843, 135.86248762919377, 135.98664047942847, 136.4537585226662, 136.9819259603446, 137.1040637607895, 136.71896177367907, 136.65635314854902, 136.25178259238876, 135.88798456049787, 136.0702988560597, 136.52761046534016, 137.2303145129339, 137.57555984979038, 137.62328784444864, 137.62610708052526, 137.621434644637, 137.6813335954687, 137.8352738871586, 138.3257878500582, 138.36187418613756, 138.4188271439639, 138.2874479850129, 138.30241872307576, 137.95255450559952, 137.91477297110424, 137.7557240844163, 137.91444179137727, 137.88861980678632, 138.73875875133177, 139.27710935553026, 139.58529065628463, 139.90184025582474, 140.17849781282422, 140.93275747133148, 141.62176514781504, 141.88335777884583, 141.90795690571025, 142.38374393067144, 142.4714813450712, 142.4373446951902, 143.13138218779005, 143.8853428092117, 144.19484900781524, 144.17856757515997, 144.0889757924757, 143.42333500600316, 142.19483582767953, 140.5399950194952, 138.68772512026467, 137.04614000754808, 135.28321228949054, 134.53557015619748, 133.637513363514, 132.83360576608573, 131.0428946765203, 128.82874941670082, 124.21084324300311, 122.78408000284576, 122.18538343356477, 121.65414697537254, 120.35992785074919, 117.73181030303677, 115.56064227451716, 113.24490972664984, 110.61730169672775, 110.7716914986806, 112.7839511231563, 114.82354307171714, 116.34844880248313, 117.37996815834936, 117.44107661281988, 117.37674811582495, 116.8671435909913, 116.37602445419905, 115.68568920569581, 115.60803533238914, 115.3969897508894, 115.14261143742628, 114.34996986648704, 113.7350088479217, 113.64554433288093, 115.11299268973251, 115.67752720259176, 116.94517397540174, 118.10002917902874, 118.20846180175232, 118.3955085749455, 118.2866064507751, 117.6693362397673, 116.52388361983124, 116.43848911706321, 115.44965675460743, 115.45409678408684, 115.17002142273105, 114.47479750689396, 113.49208436996958, 112.13324243682271, 110.46322565741792, 109.38980084069739, 108.12786465422394, 107.27089114740575, 107.27354668976267, 107.87488922417091, 108.81611303769213, 108.90632818444594, 109.9837871298263, 111.1332828450962, 112.49005059830533, 113.68274357654127, 114.86318359522204, 115.49733846953804, 115.64130705333562, 115.9353298423831, 116.0882607275827, 116.20249167082805, 116.89758969760372, 117.15259534347054, 120.91054128739069, 123.30858375819776, 125.58248765742456, 127.3317553608483, 127.83851125167642, 128.10078423549544, 128.20497406902373, 128.20679542341526, 128.5055198324789, 128.82309881887397, 129.31136835128933, 129.35020260357928, 129.46544562337846, 129.52906925590773, 130.1627235944891, 131.00688834597224, 131.56312084298892, 132.3646815782276, 133.06763838728943, 133.32844250283478, 133.38608888937873, 133.8266519630412, 134.1584313927701, 134.4185961470318, 134.58355782757164, 134.58650763091222, 134.5761000168214, 134.39293957237166, 134.0204324357292, 133.68743030612302, 133.44084375052086, 132.65152222080752, 132.4349610905096, 132.55778097676233, 132.96611508497827, 133.56551162048873, 134.0270858175248, 134.56957067625407, 135.0286262143414, 135.15251897403388, 135.7209177112676, 135.72262927260306, 135.58050381723575, 135.51722933191243, 135.4695940305289, 134.95974929328818, 135.4241502358846, 136.55718129115252, 137.1961983458348, 137.9560376191813, 138.23956082514576, 138.37575321091413, 138.3972185349746, 138.34267554750502, 138.18374138711533, 138.42705372112232, 138.7268671819396, 138.8422093780755, 139.38388479265873, 139.31898191813514, 138.77914727650588, 137.81010289686546, 136.99802116238698, 135.20730767232587, 135.1700911064611, 134.9586153792837, 134.97729919076937, 134.9213059522073, 135.1039196833402, 135.20587325886723, 135.35970736880893, 135.51054348045727, 135.36201067930452, 134.90078249781808, 134.51853945437887, 133.81052648057403, 132.64148957995474, 132.10501161800474, 131.57102824068, 131.73170610862442, 131.48175580789942, 131.90511987433027, 132.50403005535148, 132.87239523755994, 132.52860642993954, 132.29979054446017, 131.66029143144874, 130.2947143700599, 128.4440163110701, 127.62202067985042, 126.60393379984895, 127.36822927062323, 127.80559395046359, 128.4218736505666, 129.40789155944776, 130.3464079029258, 131.24108991339926, 131.74379478604297, 132.25587459567234, 132.3922574290178, 132.41228492201782, 132.56171854066613, 133.09893946824232, 134.01202881789524, 134.8792625950074, 135.55926970815875, 135.7552786954889, 135.82245762253433, 135.76935273306617, 135.54743114131207, 135.74545894399407, 136.21861457703355, 137.00400953317276, 137.5739402052315, 137.77125680930456, 137.74209351794156, 137.7821114727111, 137.6940522037075, 138.15055722802856, 138.85450839416234, 139.54859673857715, 139.86745714371497, 142.37864338949606, 143.9855535676138, 145.24822170816572, 146.39004474858962, 146.5541855928682, 146.71335598880046, 147.16064516586877, 147.34277150665596, 147.27781326255888, 147.17569233104507, 147.16053548421067, 146.48932235605216, 145.5298891049368, 144.02942678241502, 142.4324084930812, 139.99578024044695, 137.4651803680927, 136.83143846632362, 136.11806149567147, 135.32202634601913, 133.2560236123033, 132.61311440089247, 132.85543824555617, 132.10334382892128, 132.5623362862586, 132.84239112406894, 132.64282373833277, 131.69847976794196, 131.33305112052727, 130.90009504323575, 131.09960308042963, 132.35892629205185, 132.8988760614827, 133.7493403238405, 135.96328096225935, 137.26063232901268, 138.86030687231477, 140.8699420884311, 141.71401712306758, 142.1497774463445, 142.41639619407457, 142.40984927994649, 141.75895401885074, 141.4999702698988, 141.31659838588317, 140.8680791735102, 140.79078764668617, 140.72288507975506, 140.98586951816347, 141.17307730052093, 141.4338773534947, 142.32664226579345, 142.53659574973966, 142.4238625476433, 142.19043537193127, 142.14224523532874, 141.0981037793094, 140.39004284659106, 140.0393754667453, 139.81987484724633, 139.74159001571124, 139.9375902094362, 140.66575648812727, 140.87065708101147, 140.82451505301094, 139.47061892875462, 137.78748437715385, 135.5034710778105, 132.61415586914936, 132.5669665580757, 132.97392038302556, 133.585404301276, 133.57236454355714, 133.7434994151854, 133.71422172867437, 133.73821179630596, 134.33027583124002, 135.20123850712048, 136.03178337228545, 136.86992714658297, 137.2969717595168, 137.2668064606361, 137.19209584559377, 136.80307824475562, 136.05156976094804, 135.10221735626254, 134.8270055768033, 134.43475598344708, 134.32364577262317, 134.2966421193942, 134.28062846638747, 134.83406078395328, 134.97067190759108, 135.01739510719386, 135.09943987726052, 134.96493796048466, 134.19785185316675, 133.5216293305097, 133.15392896114966, 132.6959529383251, 133.03201756816202, 133.43331863768103, 133.7245857575419, 134.37381841778273, 134.50752806853245, 134.54126114366807, 134.589870929819, 134.67835506833865, 134.38439805739716, 134.84481874617356, 135.15848245534303, 135.26203585966883, 135.31587316177794, 135.40035716838304, 135.1909268446847, 134.8498325107079, 133.9541652920265, 134.2170748642997, 135.1196440523201, 134.92012537337828, 134.7739626754874, 134.57351827707882, 134.3191827186702, 134.2276075578372, 134.23765445314575, 134.066134929556, 133.99074569226946, 133.94047608185815, 133.67818353534227, 132.96341473073937, 132.5466862451315, 132.23198389668175, 132.16405072378427, 132.19807299197535, 132.57437286675594, 133.1381466819895, 133.91106301607786, 134.34855816961448, 134.1866026955405, 134.0053229654558, 133.91393726292173, 133.8033681156438, 133.81135348607458, 133.84835129768933, 134.24924059858415, 134.28498783139986, 134.4737775167843, 134.80842779764572, 135.53292029040063, 136.21590586339062, 136.417354916317, 136.62437223462382, 135.5865914081045, 134.21631233083954, 133.65133717647325, 132.91330327032247, 132.83330309627218, 132.82171577132561, 132.92685580942396, 132.75405757558346, 132.79636449755216, 132.06768117947442, 131.94093749465867, 131.96885804686625, 132.1354449378145, 133.4252170388618, 135.48190792671414, 137.5555264508953, 140.2253084951604, 139.465603375154, 138.3673475347044, 138.26289606827314, 138.2755414125193, 138.4078840547391, 138.85578234872142, 140.23506272459682, 140.8275911904525, 140.87823528236558, 141.24966650509106, 141.71807343971346, 141.1452693553003, 140.71368124025528, 140.43682870533846, 140.39473961269593, 140.2861115022762, 140.4237814451107, 140.50856877570854, 140.76769116489808, 140.84128339221056, 141.12785628388363, 141.60365780013163, 141.64455351295666, 140.68564735834298, 140.07378194919804, 138.039854054147, 135.72061964135713, 134.5253051709873, 133.57322416469376, 132.54149829920635, 131.3560006475017, 130.2711396259169, 129.17429218324224, 129.15241960520177, 129.30850771736334, 129.66653488049556, 130.71860814643287, 132.17547386616545, 131.50673109655386, 130.77973112225058, 131.1306091177251, 131.0092305698106, 131.30325983496232, 132.47106447429337, 134.14189333831288, 134.73355787156703, 136.0767813018292, 137.26434549197495, 138.17595332332507, 140.14628122539747, 142.1779966372507, 145.172719880276, 146.10739664469557, 146.11958965137683, 146.7168583683005, 146.89024240935967, 146.62694028334997, 146.4178024584652, 146.28001850869427, 143.72470744867599, 142.190047334803, 140.9442560026987, 139.83952677651956, 139.07252088362875, 138.37548773407912, 137.42852383240017, 137.05796938329956, 136.98309013027685, 137.01223667182012, 136.9545739625272, 137.1403093528048, 136.29438254867472, 135.74683275198348, 135.3522411358571, 135.09864505991217, 135.08959278446918, 135.37561186654318, 135.45144374465315, 134.95597008380796, 134.3783401551225, 133.33914560811763, 132.6239391996829, 132.3296799165233, 132.00339376402135, 131.98481590806028, 131.92278773699783, 131.3402313613589, 130.46913856356642, 129.65119524285075, 129.27211016348045, 127.68262662902877, 126.19925061701154, 125.78010551242704, 125.51415903504082, 125.407134925737, 125.95586017952458, 127.24379191646895, 128.04222715826043, 129.3179617423794, 130.4992451000711, 131.0675178376386, 132.08737038744005, 131.6938093001173, 131.06583349481033, 130.04350664327248, 130.18428510231305, 130.13396443510123, 130.37362607730776, 130.8976766798109, 132.58565882216033, 133.160629246793, 133.79870480686944, 134.32598980897674, 135.19300266212088, 134.83027676205046, 134.67133621378903, 134.4025988713473, 134.3496657274802, 134.35931579946498, 134.31621372227877, 134.4484025458827, 134.5965375425179, 134.80990120089427, 135.33386072618143, 136.4731415418535, 137.26549073811486, 138.710390109685, 138.08205820004952, 138.00047656806038, 137.88712474567456, 137.74429206015031, 137.82090477476058, 138.1100263380723, 138.096738244164, 137.39114596196362, 136.57031125777183, 135.63499672252456, 135.2005457596287, 134.7426771566935, 134.56993820671184, 134.647025842518, 134.73840421300943, 134.77938387807677, 135.03498181138133, 135.0289663219355, 134.5740923540911, 134.29639209620547, 133.9020784936678, 133.4792191141158, 132.26495102599563, 131.53989077439675, 131.3381235642533, 131.3064878840998, 131.36794189052063, 132.16565039010413, 132.9886744302051, 133.50132049395833, 133.8393053006752, 134.05386824489736, 134.06277825775967, 133.95374685992837, 133.66692631390572, 133.53323120488616, 133.3128316795369, 132.68377805398066, 132.6178587666965, 132.12569047013244, 131.00993390028805, 130.14336719412043, 129.4292017419184, 129.20375589769841, 129.0415179022954, 128.96728753091844, 128.63676028704575, 128.5527551838669, 128.30054009714166, 128.15245135892735, 128.1000283070535, 128.05222502765596, 127.43501288364517, 127.1285572297689, 123.12752198290168, 120.88809034550513, 118.66565330234911, 116.89942880538274, 116.39768847000603, 115.83969057583379, 115.6339920938204, 115.59554359370637, 115.39350011367158, 114.96230012439875, 114.25127603241508, 113.30522155614514, 111.09622676037279, 110.19724188216342, 109.20278282873193, 108.39800913482215, 108.1242748428978, 107.63431726015943, 105.65940643012596, 105.2187293112139, 105.21756710454737, 105.37208346589324, 106.11785601965418, 108.30027226738676, 110.05022313934916, 111.63424009292106, 112.45693161908261, 113.38008233703457, 115.01592274716315, 114.80661460769726, 115.03156398352273, 115.11411381669221, 115.65574920945146, 116.23699279238896, 116.94491500903888, 116.78461986328674, 116.29379406315876, 115.2539104972545, 113.81917384721294, 113.27298143136123, 112.52660837708, 112.5440194723908, 112.69626121261453, 113.5258181280034, 113.89359862801685, 115.07191461878273, 115.21945910973389, 115.28106172744158, 115.53042110627433, 116.19261223573754, 116.40754704440668, 115.57171946372097, 113.04407133911842, 111.5080822944938, 110.00111662586713, 109.10376321323348, 109.09986138920975, 109.9095183739361, 111.21949383388127, 113.48812072723668, 116.81867932698518, 119.43660619845558, 120.52978075100555, 121.47634480184173, 122.62752955973126, 123.25219540751795, 125.22533652465161, 127.86310749075024, 130.25148199781412, 132.60977286138063, 132.661148062072, 133.6344447092488, 135.07584909848535, 137.85558603519232, 140.16942198482047, 141.39449336313746, 142.46633426611805, 143.19837334280876, 143.25371056249728, 142.95642965172578, 141.88623866181933, 141.46090359582544, 141.47953183852258, 141.43535396971916, 140.950063113821, 140.8427469574823, 140.31663817249745, 139.86741953062162, 139.79251048795703, 139.13070979300338, 138.66708361129352, 138.11217897454785, 137.56508035999633, 137.45038165805744, 137.45847690979463, 137.3119028687087, 137.46567136483327, 137.608798033463, 137.6923505640336, 137.6809358040496, 137.93022681111424, 137.82134724940934, 137.6463740151762, 137.27004837846638, 137.19031557445317, 137.18237394911299, 137.18525156205285, 137.17676708719196, 136.72321334356897, 136.08476727417548, 135.35528138036295, 135.21709128065902, 135.18458013676778, 135.35220910682997, 135.73109802332598, 136.33151430053968, 136.56502803608552, 135.42909698887416, 134.69325075467754, 134.38481337799342, 134.30762955830625, 134.14755501445322, 134.8280144680866, 135.54328621609093, 135.86665613703423, 135.92161001268843, 136.25872899438136, 136.32226507355708, 135.77917537315304, 135.05399603096436, 135.00632893114965, 134.93012116415343, 134.82738254887892, 134.9237879023971, 135.32708852980315, 135.06231907410165, 134.19209012533267, 133.2026941879157, 131.95900195699292, 131.11720856956862, 130.53213377167762, 130.300426353034, 129.4406685391977, 129.3514614292593, 129.1738945566227, 129.28910775692347, 129.41715514301106, 130.38905440274857, 131.17321733690207, 132.4109049317094, 133.1174146448179, 134.064449043779, 134.83447008229518, 135.38028761597747, 135.85923110136676, 136.04311561105087, 136.09958133314805, 135.66139181857463, 134.96327934849234, 134.26196592344488, 133.4383709647405, 132.67957674166178, 132.4675035654163, 132.06017971629277, 132.085278097447, 132.3562275202807, 132.96105698634463, 133.35623301844035, 134.47111970154504, 134.6050294659466, 134.71883597982975, 134.71052266124414, 134.41033083293377, 134.31708131673724, 134.330875172635, 134.29328511159795, 133.7571482640945, 133.0861433358035, 132.5694388503001, 132.32502858247858, 131.72207555159073, 131.45313717643717, 131.6325881901388, 131.87007516947298, 132.13854872055475, 133.09040785415033, 134.0984027428312, 134.24677590885744, 134.50870316515318, 134.14154938753117, 134.16565430886573, 134.45087340466065, 135.27573837209206, 137.3019451668459, 139.93913413286793, 142.37575051367475, 144.62167547814556, 143.9134812956041, 142.6705489271982, 141.17670413002585, 140.77808546830806, 140.63263359199593, 139.55514849134875, 138.99215361709676, 139.5214051109238, 139.32846238710763, 139.08199475530677, 139.8047446820928, 139.38727395911587, 139.20769391186468, 139.51392947464933, 140.15251205773382, 140.70427893071908, 143.08846471843603, 144.93926973485287, 145.2677166259019, 146.03864181933224, 146.6970972958854, 146.56519736751994, 145.61576022436807, 145.6585425862462, 144.8243240099201, 144.40637148684303, 143.5449079114655, 142.93677550161797, 142.72400073769623, 142.83095062030048, 142.91406344516773, 143.16001375307098, 142.9555658305539, 142.53058607292394, 142.30396975987128, 142.21428593454198, 142.2678391676985, 142.71873955741734, 141.59043478903345, 140.74895797978456, 139.43984900667033, 137.93733839484935, 137.82433369076455, 138.14556423567564, 138.08458881421276, 139.05681204407864, 141.34446840196892, 142.87584093506712, 144.37832535723396, 147.76590468206766, 149.54130066260134, 150.28638048856598, 150.7009751170291, 151.42629855190526, 150.28860817317394, 149.36570835582557, 149.62328397227728, 150.05061068923317, 149.57425373600634, 149.71518746415543, 150.19262062852903, 149.56081809918098, 149.40075403977426, 149.31896745107204, 149.0995994499686, 148.5147944623059, 147.02243470382064, 144.60952330013575, 142.61116899793691, 141.29991175226573, 140.30836216003465, 139.92205592123943, 139.60733486625273, 139.11904681067855, 139.0337769510874, 139.04291726570403, 139.10332629347596, 139.10332629347596, 139.63938965644397, 139.792280744471, 140.02917724251947, 140.40022451165504, 141.00658828613152, 140.88665808352755, 140.9353677810943, 140.85732083103395, 140.917310088239, 140.907873305192, 141.02349989657537, 140.8688847911296, 140.2050716188922, 139.53605515023287, 139.0734844823004, 138.75889528607294, 138.65619140549242, 138.15715026611988, 137.33805661315682, 136.78859502832844, 135.769888800196, 135.45777481432432, 135.23055783406255, 135.25257107169537, 135.3420010630537, 136.03284917608084, 136.21962716332638, 136.51234281462132, 136.72883599918453, 136.77253816847528, 137.04315701288218, 137.49397884438667, 138.2737309957511, 138.9499308397167, 139.02742056708092, 138.91109656109987, 138.9828957803633, 139.2708897782734, 140.31136314165275, 141.7111645703843, 143.31019927075073, 140.00002112981474, 137.10845067009, 134.58344290428727, 132.7591401712153, 132.7347094341305, 132.9779940643461, 133.111629109756, 132.9363754665735, 132.86016451360138, 132.62934278524256, 132.51531784329168, 132.47811624450392, 131.99164727163733, 131.79292212426031, 131.64695316691885, 131.63021389358752, 131.54313816273492, 131.55858751175822, 131.4656967780454, 131.50343627750632, 131.09343332189314, 130.86271966094546, 130.80479489007297, 130.83761999104104, 130.84263749605958, 131.11584040736363, 131.20774648760968, 130.4100139969045, 129.8570912182616, 129.5716011475752, 129.24950548181485, 129.21873128989895, 129.3793283858667, 129.28180758060662, 129.18701268899403, 129.06037566583734, 129.0522891515752, 129.0359806673631, 128.91530263426117, 128.3692576161517, 127.82254296335726, 127.11996683658994, 126.88198730046653, 126.89078877261817, 127.02607833732618, 127.37475606484747, 127.96484365517115, 128.33886723437303, 128.23356448666613, 128.23871502377423, 128.2147348734388, 128.2798349047269, 128.52627955064798, 128.78771936932318, 129.09862204269788, 129.47060352390346, 129.2936054107621, 129.30859210354524, 129.45931226121317, 129.50986665286658, 129.73142581271722, 130.2211446891951, 130.633154173712, 131.0803667518416, 131.5152185654265, 132.6965828798223, 133.95879474983286, 135.26520337933775, 137.30612563388402, 137.15437329819665, 137.26340475185702, 137.0617597221008, 136.75635869224243, 136.75434718139522, 136.8955522367957, 136.96923821951816, 137.2082472062172, 137.8454672834126, 138.09218598623386, 138.06528230864487, 138.1474858065274, 138.2188473231008, 137.9298489803751, 137.952636060958, 137.9246362538299, 138.10527976421562, 138.06303178521608, 138.06929183088982, 137.94746774542818, 137.9832021109241, 137.8186592555697, 137.19620577974248, 136.44947160244246, 136.13261410578724, 135.86039223441514, 135.70783444643766, 135.7780932749592, 136.2387161376357, 136.06274007723547, 136.074204513645, 136.2318583122694, 136.20511981457634, 136.08425514026098, 136.30254888399165, 136.1793412719346, 135.65227876717955, 135.34684955058282, 135.47425503715914, 135.28978937461798, 134.94456061867294, 134.914149614899, 134.98039575842427, 134.94480279331353, 135.05656912245752, 135.5811113312597, 136.32423013673534, 137.34648254402563, 138.40659274219803, 139.38813766555282, 140.74715408215977, 140.90725253764563, 141.2044707652932, 141.45308701696095, 141.94970533708565, 141.96694450422012, 142.06427733562015, 142.36490739699641, 142.8330247903616, 144.24623713048064, 146.06801528404577, 147.80153072629625, 150.68613036999048, 150.86723831209957, 150.93651303225303, 151.49352914370104, 151.85202168604107, 152.43949736602264, 153.05685124278372, 153.47856085936712, 153.844827502364, 154.1773269903015, 154.17660064118414, 154.05162038738914, 153.99381725837048, 154.09892938828582, 154.23033530653422, 154.10868922000427, 154.3554550386259, 154.68830054631454, 154.91959086883836, 155.12363622044222, 155.65177778992086, 155.78863271850338, 156.08089393176414, 156.07421756251, 156.5128406077264, 157.26080214125497, 158.0211994149676, 158.46748262695328, 159.42311823674058, 159.75124774864966, 159.61518030952408, 159.36455650235445, 159.567049408261, 159.72836703345328, 159.6454236607154, 159.7541630027768, 160.1249281047738, 160.13391355398772, 160.1359432351421, 159.90806088014176, 159.6472471526282, 159.15770670862418, 158.2648096133122, 157.31002052448173, 156.89015818480593, 155.9276171337858, 155.25331710236267, 154.4726614392039, 153.8564692263178, 153.51174968605136, 153.50763884277427, 153.5637699996232, 154.0464550327803, 154.79848106460298, 155.20442130665532, 153.66671506228886, 152.16980605702253, 149.8209253289051, 148.12101416361645, 147.3863249349403, 146.92665874203834, 146.86339726805087, 147.05922515342593, 146.62297895486094, 146.5926488845228, 146.80411214263228, 146.90726763901145, 147.12300647273645, 147.65802456228107, 147.83792243342612, 147.59968197331096, 147.389892578125, 146.93508911132812]}, {\"mode\": \"lines\", \"name\": \"Moving Average\", \"type\": \"scatter\", \"x\": [0, 1, 2, 3, 4, 5, 6, 7, 8, 9, 10, 11, 12, 13, 14, 15, 16, 17, 18, 19, 20, 21, 22, 23, 24, 25, 26, 27, 28, 29, 30, 31, 32, 33, 34, 35, 36, 37, 38, 39, 40, 41, 42, 43, 44, 45, 46, 47, 48, 49, 50, 51, 52, 53, 54, 55, 56, 57, 58, 59, 60, 61, 62, 63, 64, 65, 66, 67, 68, 69, 70, 71, 72, 73, 74, 75, 76, 77, 78, 79, 80, 81, 82, 83, 84, 85, 86, 87, 88, 89, 90, 91, 92, 93, 94, 95, 96, 97, 98, 99, 100, 101, 102, 103, 104, 105, 106, 107, 108, 109, 110, 111, 112, 113, 114, 115, 116, 117, 118, 119, 120, 121, 122, 123, 124, 125, 126, 127, 128, 129, 130, 131, 132, 133, 134, 135, 136, 137, 138, 139, 140, 141, 142, 143, 144, 145, 146, 147, 148, 149, 150, 151, 152, 153, 154, 155, 156, 157, 158, 159, 160, 161, 162, 163, 164, 165, 166, 167, 168, 169, 170, 171, 172, 173, 174, 175, 176, 177, 178, 179, 180, 181, 182, 183, 184, 185, 186, 187, 188, 189, 190, 191, 192, 193, 194, 195, 196, 197, 198, 199, 200, 201, 202, 203, 204, 205, 206, 207, 208, 209, 210, 211, 212, 213, 214, 215, 216, 217, 218, 219, 220, 221, 222, 223, 224, 225, 226, 227, 228, 229, 230, 231, 232, 233, 234, 235, 236, 237, 238, 239, 240, 241, 242, 243, 244, 245, 246, 247, 248, 249, 250, 251, 252, 253, 254, 255, 256, 257, 258, 259, 260, 261, 262, 263, 264, 265, 266, 267, 268, 269, 270, 271, 272, 273, 274, 275, 276, 277, 278, 279, 280, 281, 282, 283, 284, 285, 286, 287, 288, 289, 290, 291, 292, 293, 294, 295, 296, 297, 298, 299, 300, 301, 302, 303, 304, 305, 306, 307, 308, 309, 310, 311, 312, 313, 314, 315, 316, 317, 318, 319, 320, 321, 322, 323, 324, 325, 326, 327, 328, 329, 330, 331, 332, 333, 334, 335, 336, 337, 338, 339, 340, 341, 342, 343, 344, 345, 346, 347, 348, 349, 350, 351, 352, 353, 354, 355, 356, 357, 358, 359, 360, 361, 362, 363, 364, 365, 366, 367, 368, 369, 370, 371, 372, 373, 374, 375, 376, 377, 378, 379, 380, 381, 382, 383, 384, 385, 386, 387, 388, 389, 390, 391, 392, 393, 394, 395, 396, 397, 398, 399, 400, 401, 402, 403, 404, 405, 406, 407, 408, 409, 410, 411, 412, 413, 414, 415, 416, 417, 418, 419, 420, 421, 422, 423, 424, 425, 426, 427, 428, 429, 430, 431, 432, 433, 434, 435, 436, 437, 438, 439, 440, 441, 442, 443, 444, 445, 446, 447, 448, 449, 450, 451, 452, 453, 454, 455, 456, 457, 458, 459, 460, 461, 462, 463, 464, 465, 466, 467, 468, 469, 470, 471, 472, 473, 474, 475, 476, 477, 478, 479, 480, 481, 482, 483, 484, 485, 486, 487, 488, 489, 490, 491, 492, 493, 494, 495, 496, 497, 498, 499, 500, 501, 502, 503, 504, 505, 506, 507, 508, 509, 510, 511, 512, 513, 514, 515, 516, 517, 518, 519, 520, 521, 522, 523, 524, 525, 526, 527, 528, 529, 530, 531, 532, 533, 534, 535, 536, 537, 538, 539, 540, 541, 542, 543, 544, 545, 546, 547, 548, 549, 550, 551, 552, 553, 554, 555, 556, 557, 558, 559, 560, 561, 562, 563, 564, 565, 566, 567, 568, 569, 570, 571, 572, 573, 574, 575, 576, 577, 578, 579, 580, 581, 582, 583, 584, 585, 586, 587, 588, 589, 590, 591, 592, 593, 594, 595, 596, 597, 598, 599, 600, 601, 602, 603, 604, 605, 606, 607, 608, 609, 610, 611, 612, 613, 614, 615, 616, 617, 618, 619, 620, 621, 622, 623, 624, 625, 626, 627, 628, 629, 630, 631, 632, 633, 634, 635, 636, 637, 638, 639, 640, 641, 642, 643, 644, 645, 646, 647, 648, 649, 650, 651, 652, 653, 654, 655, 656, 657, 658, 659, 660, 661, 662, 663, 664, 665, 666, 667, 668, 669, 670, 671, 672, 673, 674, 675, 676, 677, 678, 679, 680, 681, 682, 683, 684, 685, 686, 687, 688, 689, 690, 691, 692, 693, 694, 695, 696, 697, 698, 699, 700, 701, 702, 703, 704, 705, 706, 707, 708, 709, 710, 711, 712, 713, 714, 715, 716, 717, 718, 719, 720, 721, 722, 723, 724, 725, 726, 727, 728, 729, 730, 731, 732, 733, 734, 735, 736, 737, 738, 739, 740, 741, 742, 743, 744, 745, 746, 747, 748, 749, 750, 751, 752, 753], \"y\": [146.93508911132812, 147.84469604492188, 147.9838409423828, 148.23577499389648, 148.05648803710938, 147.76294860839843, 147.49753112792968, 147.36571044921874, 146.98077392578125, 147.02295837402343, 147.24794006347656, 147.0827178955078, 147.53971252441406, 148.1883087158203, 149.59622802734376, 151.61582641601564, 153.69869995117188, 154.88514709472656, 155.72357482910155, 155.48101501464845, 154.77793579101564, 154.06080017089843, 153.8006622314453, 153.81119384765626, 154.50372924804688, 155.0790222167969, 155.78758850097657, 156.5386199951172, 157.4030975341797, 157.94697265625, 158.92312316894532, 159.67072448730468, 160.0232727050781, 160.18272094726564, 160.3634246826172, 160.35811462402344, 160.3439483642578, 160.11895446777345, 160.04100036621094, 160.18273315429687, 159.98431091308595, 159.75400085449218, 159.94356994628907, 160.04277954101562, 159.5998748779297, 159.00638732910156, 158.61309509277345, 157.90267944335938, 157.07711181640624, 156.4322509765625, 156.4428741455078, 156.05666809082032, 155.92202758789062, 155.59605712890624, 155.41358642578126, 154.98487243652343, 154.66243896484374, 154.32052001953124, 154.4321258544922, 154.28330993652344, 154.11322937011718, 154.16814575195312, 154.29747009277344, 154.29924621582032, 154.1114532470703, 153.86165771484374, 153.50734252929686, 152.92271423339844, 152.22470703125, 151.83140869140624, 151.31410217285156, 151.12985229492188, 150.926123046875, 149.35116271972657, 147.87011108398437, 146.2490966796875, 144.41548767089844, 142.7041259765625, 142.4153564453125, 142.06458129882813, 142.04863586425782, 141.71026306152345, 141.48171997070312, 141.22838134765624, 141.00338439941407, 140.07506713867187, 139.31060485839845, 138.33550109863282, 137.28982543945312, 136.06240539550782, 135.4935333251953, 135.22162475585938, 135.5024841308594, 135.4452331542969, 135.46848754882814, 135.75650634765626, 135.95865173339843, 135.66348571777343, 135.94613647460938, 136.379052734375, 136.47028198242188, 136.30748596191407, 136.41482543945312, 136.44344787597657, 136.2377197265625, 136.2234130859375, 136.33790588378906, 136.04273071289063, 135.94075927734374, 136.30748901367187, 136.80300903320312, 137.1393280029297, 137.6455871582031, 138.02483520507812, 138.25381469726562, 138.1929962158203, 138.31821899414064, 138.31463928222655, 138.34684143066406, 138.1196502685547, 138.18941650390624, 138.15363464355468, 138.42734375, 138.3790496826172, 138.32896118164064, 138.39156799316407, 138.1983673095703, 137.66885070800782, 137.45596923828126, 137.38262023925782, 136.955078125, 136.9604461669922, 137.18763732910156, 137.42019348144532, 137.3468505859375, 137.4917449951172, 136.3879852294922, 135.32000427246095, 134.03914489746094, 132.78334045410156, 131.38621520996094, 130.9980255126953, 130.53470458984376, 130.0355987548828, 129.79945373535156, 129.6402374267578, 129.47744750976562, 129.45418701171874, 129.60982666015624, 129.39515686035156, 129.0930969238281, 128.88163146972656, 128.59515380859375, 128.26931762695312, 128.3325958251953, 128.32536926269535, 128.45733642578125, 128.25125122070312, 127.86438903808593, 127.50462951660157, 127.31299285888672, 127.24791107177734, 127.65285797119141, 128.38320770263672, 128.77731170654297, 129.1623779296875, 129.23830871582032, 129.25458068847655, 129.31604919433593, 129.411865234375, 129.53479919433593, 129.59626159667968, 129.4914123535156, 129.63241577148438, 130.12413330078124, 130.51642761230468, 130.99369201660156, 131.4221405029297, 131.36610107421876, 131.11843566894532, 131.09854431152343, 131.0479278564453, 131.10397033691407, 131.34259643554688, 131.73489379882812, 131.69512634277345, 131.76743774414064, 131.7584014892578, 131.90122680664064, 131.9409942626953, 132.0892333984375, 132.280859375, 132.53395080566406, 132.66591796875, 132.97686157226562, 133.18294982910157, 133.2389923095703, 133.35107421875, 133.2498352050781, 132.8955078125, 135.0486053466797, 137.5560302734375, 140.26231384277344, 142.56184997558594, 144.25033874511718, 143.1602294921875, 141.8405334472656, 140.32378540039062, 139.38552856445312, 139.05650939941407, 139.15232849121094, 139.1071319580078, 138.7274932861328, 138.0911437988281, 137.60122375488282, 137.1564971923828, 136.87670288085937, 136.708740234375, 136.5357879638672, 136.36011657714843, 135.81783447265624, 135.60237731933597, 135.56768493652345, 135.95294799804688, 136.51165466308595, 137.3643341064453, 137.86097106933593, 138.41055908203126, 138.7684295654297, 139.0605712890625, 139.46226501464844, 139.99542236328125, 140.81342163085938, 141.3392761230469, 141.43970336914063, 141.36667175292968, 141.37579956054688, 141.18407287597657, 141.4378692626953, 141.4031768798828, 141.481689453125, 141.0599151611328, 140.68013916015624, 140.0392578125, 139.8639709472656, 139.40750427246093, 139.40750427246093, 139.3162078857422, 139.29794921875, 139.49697265625, 139.8475372314453, 140.1670684814453, 141.2005187988281, 142.76529541015626, 144.30816345214845, 146.14317321777344, 147.89236145019532, 148.93128356933593, 149.38775634765625, 149.50643615722657, 149.57581787109376, 150.4558898925781, 151.3578674316406, 151.0237243652344, 150.92513122558594, 151.36333923339845, 150.7644500732422, 150.09800720214844, 151.0054718017578, 151.7723358154297, 151.29212951660156, 150.98720703125, 150.42666625976562, 148.90935668945312, 146.3038299560547, 144.79200439453126, 142.99352111816407, 140.55472106933593, 139.08526916503905, 139.15111694335937, 138.58404846191405, 139.02841491699218, 140.58094177246093, 141.8107879638672, 142.5040771484375, 143.09595642089843, 142.80462341308595, 142.71427307128906, 143.15680541992188, 143.41310424804686, 143.75790100097657, 143.8740661621094, 143.68415222167968, 143.38359375, 143.23055419921874, 143.68967895507814, 144.13220825195313, 145.02094116210938, 145.63126220703126, 146.2950469970703, 146.25816650390624, 146.88507385253905, 147.06024169921875, 146.5236785888672, 145.94839477539062, 145.68471984863282, 144.2981384277344, 142.20167846679686, 141.46782531738282, 140.67681274414062, 139.90792846679688, 140.1550079345703, 140.3725799560547, 139.72354736328126, 140.13104248046875, 140.40946350097656, 139.8821258544922, 140.36521606445314, 141.38670959472657, 141.61534423828124, 142.36026306152343, 143.4923889160156, 144.4511932373047, 145.46900024414063, 144.2575897216797, 142.34551086425782, 140.16791687011718, 137.94976196289062, 135.11944580078125, 134.5939514160156, 134.4132507324219, 134.70458374023437, 134.53863830566405, 134.4353790283203, 133.7918731689453, 132.91973571777345, 132.44585571289062, 132.1250213623047, 131.75625610351562, 132.07765502929686, 132.78775634765626, 133.1252014160156, 133.61969604492188, 134.05035095214845, 134.42694702148438, 134.4754180908203, 134.4642333984375, 134.68609313964845, 134.93777770996093, 134.9452331542969, 134.8650695800781, 134.7830352783203, 133.98696594238282, 133.52647705078124, 132.90006408691406, 132.50482482910155, 132.3929656982422, 132.85531311035157, 133.24495544433594, 134.00000610351563, 134.78115844726562, 135.44113159179688, 136.03211975097656, 136.33787231445314, 136.30804138183595, 136.1682159423828, 135.77670593261718, 135.22300415039064, 134.52947387695312, 133.79306640625, 133.0268310546875, 131.96603088378907, 131.0674285888672, 130.1072998046875, 129.8817138671875, 129.58715209960937, 129.78663635253906, 129.87799072265625, 130.6144012451172, 131.06929931640624, 131.94366760253905, 132.84786376953124, 133.84900512695313, 134.78489379882814, 135.42249145507813, 135.62197265625, 135.39452209472657, 135.31622009277345, 135.83636779785155, 135.9202667236328, 135.9650085449219, 136.50379943847656, 136.89530334472656, 136.4236297607422, 136.1999084472656, 136.1607635498047, 135.89044189453125, 135.30877685546875, 134.60965576171876, 135.08505859375, 135.18572692871095, 135.57350463867186, 136.20551147460938, 136.8345458984375, 136.52523803710938, 136.1937255859375, 135.80199584960937, 135.53628234863282, 135.64369506835936, 135.94144592285156, 136.65754089355468, 137.14938659667968, 137.4000274658203, 137.40567932128906, 137.401904296875, 137.43582458496093, 137.5526611328125, 137.9860809326172, 138.09161071777345, 138.17452697753907, 137.98419189453125, 137.99738464355468, 137.78067626953126, 137.69022216796876, 137.5338134765625, 137.68645935058595, 137.66950073242188, 138.15191955566405, 138.69464416503905, 139.12618713378907, 139.51627502441406, 139.98550415039062, 140.40008850097655, 140.96920166015624, 141.36305236816406, 141.42901000976562, 141.9095489501953, 141.9755065917969, 141.94912414550782, 142.5088104248047, 143.42088623046874, 143.72427978515626, 143.68847045898437, 143.27765502929688, 142.4089141845703, 141.18212890625, 139.19779052734376, 136.881787109375, 135.34029235839844, 133.97218017578126, 133.57267150878906, 131.94449768066406, 130.34835662841797, 128.13411560058594, 126.04047241210938, 123.41918640136718, 122.13021240234374, 121.35758209228516, 120.54537658691406, 118.58930358886718, 115.60996551513672, 113.39006805419922, 111.57721405029297, 109.85858154296875, 109.93772735595704, 111.39253387451171, 113.16581268310547, 114.69626007080078, 116.47584381103516, 116.92431182861328, 116.78468017578125, 116.19878234863282, 115.82854309082032, 115.45257415771485, 115.33997497558593, 114.64529418945312, 114.33421478271484, 113.52311553955079, 113.13951416015625, 113.08607635498046, 114.19298706054687, 114.74835052490235, 116.09954223632812, 117.19691162109375, 117.49654083251953, 117.67021179199219, 117.26179962158203, 116.66254272460938, 115.81899871826172, 115.73502655029297, 115.12813568115234, 115.235009765625, 114.27505187988281, 113.46586456298829, 112.56316223144532, 111.09173278808593, 109.38174896240234, 107.75382843017579, 106.74997406005859, 106.24422912597656, 106.24613800048829, 106.76714782714843, 108.22521514892578, 108.51530151367187, 109.19089813232422, 110.16803283691407, 111.34364624023438, 112.38948516845703, 114.08420257568359, 114.87430725097656, 115.30180358886719, 115.66441497802734, 115.84190216064454, 115.91824188232422, 116.36864013671875, 116.77514190673828, 118.90498504638671, 120.98711853027343, 123.23528900146485, 125.229638671875, 127.48353424072266, 127.76789855957031, 128.12859954833985, 128.15341186523438, 128.32898559570313, 128.56181945800782, 128.93206176757812, 128.9934814453125, 129.21636657714845, 129.28529357910156, 129.68323974609376, 130.21804504394532, 130.85324401855468, 131.68730773925782, 132.59666442871094, 132.97315063476563, 133.0349334716797, 133.56974182128906, 133.84583129882813, 134.04276123046876, 134.26865234375, 134.32464294433595, 134.3149841308594, 134.11612243652343, 133.76087646484376, 133.33805236816406, 132.8032470703125, 132.00973205566407, 131.8707244873047, 131.9479522705078, 132.2530029296875, 132.91523132324218, 133.7531524658203, 134.23582458496094, 134.66250915527343, 134.8633056640625, 135.37494201660155, 135.3788055419922, 135.17994384765626, 135.12781677246093, 135.05830993652344, 134.76484375, 135.08341369628906, 135.8788635253906, 136.41559753417968, 137.26317443847657, 137.8153533935547, 138.23624572753906, 138.25362243652344, 138.0817901611328, 137.96401672363282, 138.15708923339844, 138.363671875, 138.4621337890625, 139.04713745117186, 138.292236328125, 137.6261444091797, 136.57198181152344, 135.90396118164062, 134.90192260742188, 134.8092468261719, 134.63741455078124, 134.66830749511718, 134.63548583984374, 134.75325927734374, 134.93860473632813, 135.0949920654297, 135.35177307128907, 134.84400024414063, 134.34974365234376, 133.83958435058594, 133.19809265136718, 131.76958312988282, 131.23931884765625, 130.8524963378906, 130.95799560546874, 130.76263122558595, 131.4854766845703, 132.0989196777344, 132.4798828125, 131.79806213378907, 131.39951782226564, 130.48912658691407, 129.16847076416016, 127.84390411376953, 126.7889404296875, 126.00553436279297, 126.44119415283203, 126.79284973144532, 127.31056213378906, 128.54525909423828, 129.80925903320312, 130.446142578125, 131.1064666748047, 131.7980529785156, 132.15752258300782, 132.19855041503905, 132.28255615234374, 132.7143096923828, 133.31798400878907, 134.1092041015625, 134.96880493164062, 135.35562438964843, 135.63695068359374, 135.57248229980468, 135.31851196289062, 135.42205200195312, 135.78542785644532, 136.37542114257812, 136.9341613769531, 137.45578308105468, 137.34833374023438, 137.3971740722656, 137.33857116699218, 137.60426330566406, 138.14151611328126, 138.96204223632813, 139.46998901367186, 141.1090850830078, 142.46490478515625, 143.71913452148436, 145.0573760986328, 146.41710205078124, 146.56557922363282, 146.89379272460937, 147.11650695800782, 146.9973358154297, 146.64764099121095, 146.63396606445312, 145.83102111816407, 143.85394287109375, 142.08785400390624, 140.30418090820314, 138.63006286621095, 136.77098083496094, 135.78249816894532, 135.12997741699218, 133.89654541015625, 132.2796417236328, 131.81117248535153, 131.99302368164064, 131.44153747558593, 132.03453369140624, 132.5089324951172, 131.68071594238282, 130.68250732421876, 130.3207794189453, 130.02625732421876, 130.13694763183594, 131.31503295898438, 132.1274383544922, 133.14541931152343, 134.76825256347655, 135.89296875, 137.29046325683595, 139.45489807128905, 140.8938995361328, 141.41771240234374, 142.0304748535156, 142.00675354003906, 141.4434051513672, 141.17062683105468, 141.04214477539062, 140.68832397460938, 140.60728454589844, 140.50449829101564, 140.6903045654297, 140.8049530029297, 141.073779296875, 141.73595581054687, 142.12733459472656, 141.83676452636718, 141.53433532714843, 141.48491821289062, 140.6665832519531, 139.62291259765624, 139.2236297607422, 139.0477081298828, 139.0022430419922, 139.1524688720703, 140.06567993164063, 140.54798278808593, 139.1900207519531, 137.47626342773438, 135.60635070800782, 133.8194580078125, 132.2915069580078, 132.2539520263672, 132.52080078125, 133.19088439941407, 133.1632110595703, 133.33517761230468, 133.26796875, 133.28575744628907, 133.62178955078124, 134.42628784179686, 135.1240478515625, 136.22825927734374, 136.9606719970703, 136.84208068847656, 136.7040008544922, 136.16799926757812, 135.42999877929688, 134.78799743652343, 134.55599670410157, 134.3419982910156, 134.08599853515625, 134.0539978027344, 134.04199829101563, 134.3739990234375, 134.48799743652344, 134.60199890136718, 134.7239990234375, 134.43800048828126, 133.66799926757812, 133.04800109863282, 132.6760009765625, 132.43000183105468, 132.6320007324219, 132.99000244140626, 133.34400024414063, 134.0260009765625, 134.2240020751953, 134.26600341796876, 134.3280029296875, 134.4580047607422, 134.30600280761718, 134.58200073242188, 134.86600036621093, 135.01799926757812, 135.1179992675781, 135.26000061035157, 134.7040008544922, 134.4019989013672]}],\n",
       "                        {\"legend\": {\"font\": {\"size\": 16}, \"y\": 0.5}, \"template\": {\"data\": {\"bar\": [{\"error_x\": {\"color\": \"#2a3f5f\"}, \"error_y\": {\"color\": \"#2a3f5f\"}, \"marker\": {\"line\": {\"color\": \"#E5ECF6\", \"width\": 0.5}}, \"type\": \"bar\"}], \"barpolar\": [{\"marker\": {\"line\": {\"color\": \"#E5ECF6\", \"width\": 0.5}}, \"type\": \"barpolar\"}], \"carpet\": [{\"aaxis\": {\"endlinecolor\": \"#2a3f5f\", \"gridcolor\": \"white\", \"linecolor\": \"white\", \"minorgridcolor\": \"white\", \"startlinecolor\": \"#2a3f5f\"}, \"baxis\": {\"endlinecolor\": \"#2a3f5f\", \"gridcolor\": \"white\", \"linecolor\": \"white\", \"minorgridcolor\": \"white\", \"startlinecolor\": \"#2a3f5f\"}, \"type\": \"carpet\"}], \"choropleth\": [{\"colorbar\": {\"outlinewidth\": 0, \"ticks\": \"\"}, \"type\": \"choropleth\"}], \"contour\": [{\"colorbar\": {\"outlinewidth\": 0, \"ticks\": \"\"}, \"colorscale\": [[0.0, \"#0d0887\"], [0.1111111111111111, \"#46039f\"], [0.2222222222222222, \"#7201a8\"], [0.3333333333333333, \"#9c179e\"], [0.4444444444444444, \"#bd3786\"], [0.5555555555555556, \"#d8576b\"], [0.6666666666666666, \"#ed7953\"], [0.7777777777777778, \"#fb9f3a\"], [0.8888888888888888, \"#fdca26\"], [1.0, \"#f0f921\"]], \"type\": \"contour\"}], \"contourcarpet\": [{\"colorbar\": {\"outlinewidth\": 0, \"ticks\": \"\"}, \"type\": \"contourcarpet\"}], \"heatmap\": [{\"colorbar\": {\"outlinewidth\": 0, \"ticks\": \"\"}, \"colorscale\": [[0.0, \"#0d0887\"], [0.1111111111111111, \"#46039f\"], [0.2222222222222222, \"#7201a8\"], [0.3333333333333333, \"#9c179e\"], [0.4444444444444444, \"#bd3786\"], [0.5555555555555556, \"#d8576b\"], [0.6666666666666666, \"#ed7953\"], [0.7777777777777778, \"#fb9f3a\"], [0.8888888888888888, \"#fdca26\"], [1.0, \"#f0f921\"]], \"type\": \"heatmap\"}], \"heatmapgl\": [{\"colorbar\": {\"outlinewidth\": 0, \"ticks\": \"\"}, \"colorscale\": [[0.0, \"#0d0887\"], [0.1111111111111111, \"#46039f\"], [0.2222222222222222, \"#7201a8\"], [0.3333333333333333, \"#9c179e\"], [0.4444444444444444, \"#bd3786\"], [0.5555555555555556, \"#d8576b\"], [0.6666666666666666, \"#ed7953\"], [0.7777777777777778, \"#fb9f3a\"], [0.8888888888888888, \"#fdca26\"], [1.0, \"#f0f921\"]], \"type\": \"heatmapgl\"}], \"histogram\": [{\"marker\": {\"colorbar\": {\"outlinewidth\": 0, \"ticks\": \"\"}}, \"type\": \"histogram\"}], \"histogram2d\": [{\"colorbar\": {\"outlinewidth\": 0, \"ticks\": \"\"}, \"colorscale\": [[0.0, \"#0d0887\"], [0.1111111111111111, \"#46039f\"], [0.2222222222222222, \"#7201a8\"], [0.3333333333333333, \"#9c179e\"], [0.4444444444444444, \"#bd3786\"], [0.5555555555555556, \"#d8576b\"], [0.6666666666666666, \"#ed7953\"], [0.7777777777777778, \"#fb9f3a\"], [0.8888888888888888, \"#fdca26\"], [1.0, \"#f0f921\"]], \"type\": \"histogram2d\"}], \"histogram2dcontour\": [{\"colorbar\": {\"outlinewidth\": 0, \"ticks\": \"\"}, \"colorscale\": [[0.0, \"#0d0887\"], [0.1111111111111111, \"#46039f\"], [0.2222222222222222, \"#7201a8\"], [0.3333333333333333, \"#9c179e\"], [0.4444444444444444, \"#bd3786\"], [0.5555555555555556, \"#d8576b\"], [0.6666666666666666, \"#ed7953\"], [0.7777777777777778, \"#fb9f3a\"], [0.8888888888888888, \"#fdca26\"], [1.0, \"#f0f921\"]], \"type\": \"histogram2dcontour\"}], \"mesh3d\": [{\"colorbar\": {\"outlinewidth\": 0, \"ticks\": \"\"}, \"type\": \"mesh3d\"}], \"parcoords\": [{\"line\": {\"colorbar\": {\"outlinewidth\": 0, \"ticks\": \"\"}}, \"type\": \"parcoords\"}], \"pie\": [{\"automargin\": true, \"type\": \"pie\"}], \"scatter\": [{\"marker\": {\"colorbar\": {\"outlinewidth\": 0, \"ticks\": \"\"}}, \"type\": \"scatter\"}], \"scatter3d\": [{\"line\": {\"colorbar\": {\"outlinewidth\": 0, \"ticks\": \"\"}}, \"marker\": {\"colorbar\": {\"outlinewidth\": 0, \"ticks\": \"\"}}, \"type\": \"scatter3d\"}], \"scattercarpet\": [{\"marker\": {\"colorbar\": {\"outlinewidth\": 0, \"ticks\": \"\"}}, \"type\": \"scattercarpet\"}], \"scattergeo\": [{\"marker\": {\"colorbar\": {\"outlinewidth\": 0, \"ticks\": \"\"}}, \"type\": \"scattergeo\"}], \"scattergl\": [{\"marker\": {\"colorbar\": {\"outlinewidth\": 0, \"ticks\": \"\"}}, \"type\": \"scattergl\"}], \"scattermapbox\": [{\"marker\": {\"colorbar\": {\"outlinewidth\": 0, \"ticks\": \"\"}}, \"type\": \"scattermapbox\"}], \"scatterpolar\": [{\"marker\": {\"colorbar\": {\"outlinewidth\": 0, \"ticks\": \"\"}}, \"type\": \"scatterpolar\"}], \"scatterpolargl\": [{\"marker\": {\"colorbar\": {\"outlinewidth\": 0, \"ticks\": \"\"}}, \"type\": \"scatterpolargl\"}], \"scatterternary\": [{\"marker\": {\"colorbar\": {\"outlinewidth\": 0, \"ticks\": \"\"}}, \"type\": \"scatterternary\"}], \"surface\": [{\"colorbar\": {\"outlinewidth\": 0, \"ticks\": \"\"}, \"colorscale\": [[0.0, \"#0d0887\"], [0.1111111111111111, \"#46039f\"], [0.2222222222222222, \"#7201a8\"], [0.3333333333333333, \"#9c179e\"], [0.4444444444444444, \"#bd3786\"], [0.5555555555555556, \"#d8576b\"], [0.6666666666666666, \"#ed7953\"], [0.7777777777777778, \"#fb9f3a\"], [0.8888888888888888, \"#fdca26\"], [1.0, \"#f0f921\"]], \"type\": \"surface\"}], \"table\": [{\"cells\": {\"fill\": {\"color\": \"#EBF0F8\"}, \"line\": {\"color\": \"white\"}}, \"header\": {\"fill\": {\"color\": \"#C8D4E3\"}, \"line\": {\"color\": \"white\"}}, \"type\": \"table\"}]}, \"layout\": {\"annotationdefaults\": {\"arrowcolor\": \"#2a3f5f\", \"arrowhead\": 0, \"arrowwidth\": 1}, \"coloraxis\": {\"colorbar\": {\"outlinewidth\": 0, \"ticks\": \"\"}}, \"colorscale\": {\"diverging\": [[0, \"#8e0152\"], [0.1, \"#c51b7d\"], [0.2, \"#de77ae\"], [0.3, \"#f1b6da\"], [0.4, \"#fde0ef\"], [0.5, \"#f7f7f7\"], [0.6, \"#e6f5d0\"], [0.7, \"#b8e186\"], [0.8, \"#7fbc41\"], [0.9, \"#4d9221\"], [1, \"#276419\"]], \"sequential\": [[0.0, \"#0d0887\"], [0.1111111111111111, \"#46039f\"], [0.2222222222222222, \"#7201a8\"], [0.3333333333333333, \"#9c179e\"], [0.4444444444444444, \"#bd3786\"], [0.5555555555555556, \"#d8576b\"], [0.6666666666666666, \"#ed7953\"], [0.7777777777777778, \"#fb9f3a\"], [0.8888888888888888, \"#fdca26\"], [1.0, \"#f0f921\"]], \"sequentialminus\": [[0.0, \"#0d0887\"], [0.1111111111111111, \"#46039f\"], [0.2222222222222222, \"#7201a8\"], [0.3333333333333333, \"#9c179e\"], [0.4444444444444444, \"#bd3786\"], [0.5555555555555556, \"#d8576b\"], [0.6666666666666666, \"#ed7953\"], [0.7777777777777778, \"#fb9f3a\"], [0.8888888888888888, \"#fdca26\"], [1.0, \"#f0f921\"]]}, \"colorway\": [\"#636efa\", \"#EF553B\", \"#00cc96\", \"#ab63fa\", \"#FFA15A\", \"#19d3f3\", \"#FF6692\", \"#B6E880\", \"#FF97FF\", \"#FECB52\"], \"font\": {\"color\": \"#2a3f5f\"}, \"geo\": {\"bgcolor\": \"white\", \"lakecolor\": \"white\", \"landcolor\": \"#E5ECF6\", \"showlakes\": true, \"showland\": true, \"subunitcolor\": \"white\"}, \"hoverlabel\": {\"align\": \"left\"}, \"hovermode\": \"closest\", \"mapbox\": {\"style\": \"light\"}, \"paper_bgcolor\": \"white\", \"plot_bgcolor\": \"#E5ECF6\", \"polar\": {\"angularaxis\": {\"gridcolor\": \"white\", \"linecolor\": \"white\", \"ticks\": \"\"}, \"bgcolor\": \"#E5ECF6\", \"radialaxis\": {\"gridcolor\": \"white\", \"linecolor\": \"white\", \"ticks\": \"\"}}, \"scene\": {\"xaxis\": {\"backgroundcolor\": \"#E5ECF6\", \"gridcolor\": \"white\", \"gridwidth\": 2, \"linecolor\": \"white\", \"showbackground\": true, \"ticks\": \"\", \"zerolinecolor\": \"white\"}, \"yaxis\": {\"backgroundcolor\": \"#E5ECF6\", \"gridcolor\": \"white\", \"gridwidth\": 2, \"linecolor\": \"white\", \"showbackground\": true, \"ticks\": \"\", \"zerolinecolor\": \"white\"}, \"zaxis\": {\"backgroundcolor\": \"#E5ECF6\", \"gridcolor\": \"white\", \"gridwidth\": 2, \"linecolor\": \"white\", \"showbackground\": true, \"ticks\": \"\", \"zerolinecolor\": \"white\"}}, \"shapedefaults\": {\"line\": {\"color\": \"#2a3f5f\"}}, \"ternary\": {\"aaxis\": {\"gridcolor\": \"white\", \"linecolor\": \"white\", \"ticks\": \"\"}, \"baxis\": {\"gridcolor\": \"white\", \"linecolor\": \"white\", \"ticks\": \"\"}, \"bgcolor\": \"#E5ECF6\", \"caxis\": {\"gridcolor\": \"white\", \"linecolor\": \"white\", \"ticks\": \"\"}}, \"title\": {\"x\": 0.05}, \"xaxis\": {\"automargin\": true, \"gridcolor\": \"white\", \"linecolor\": \"white\", \"ticks\": \"\", \"title\": {\"standoff\": 15}, \"zerolinecolor\": \"white\", \"zerolinewidth\": 2}, \"yaxis\": {\"automargin\": true, \"gridcolor\": \"white\", \"linecolor\": \"white\", \"ticks\": \"\", \"title\": {\"standoff\": 15}, \"zerolinecolor\": \"white\", \"zerolinewidth\": 2}}}},\n",
       "                        {\"responsive\": true}\n",
       "                    ).then(function(){\n",
       "                            \n",
       "var gd = document.getElementById('d1a4914f-a3b7-4fa9-9134-1e05527df84f');\n",
       "var x = new MutationObserver(function (mutations, observer) {{\n",
       "        var display = window.getComputedStyle(gd).display;\n",
       "        if (!display || display === 'none') {{\n",
       "            console.log([gd, 'removed!']);\n",
       "            Plotly.purge(gd);\n",
       "            observer.disconnect();\n",
       "        }}\n",
       "}});\n",
       "\n",
       "// Listen for the removal of the full notebook cells\n",
       "var notebookContainer = gd.closest('#notebook-container');\n",
       "if (notebookContainer) {{\n",
       "    x.observe(notebookContainer, {childList: true});\n",
       "}}\n",
       "\n",
       "// Listen for the clearing of the current output cell\n",
       "var outputEl = gd.closest('.output');\n",
       "if (outputEl) {{\n",
       "    x.observe(outputEl, {childList: true});\n",
       "}}\n",
       "\n",
       "                        })\n",
       "                };\n",
       "                });\n",
       "            </script>\n",
       "        </div>"
      ]
     },
     "metadata": {},
     "output_type": "display_data"
    }
   ],
   "source": [
    "fig = go.Figure()\n",
    "\n",
    "fig.add_trace(go.Scatter(x = x, y=data, name=\"IBM\", line_shape='linear'))\n",
    "#fig.add_trace(ma_trace)\n",
    "fig.add_trace(go.Scatter(\n",
    "    x=x+x[::-1],# notice how we append x and x reversed to make the full area\n",
    "    y=y_upper+y_lower[::-1],# notice how we append y and y reversed to make the full area\n",
    "    fill='toself',\n",
    "    fillcolor='rgba(0,100,80,0.2)',\n",
    "    line_color='rgba(255,255,255,0)',\n",
    "    showlegend=False,\n",
    "    name='Moving STD',\n",
    "))\n",
    "fig.add_trace(ma_trace)\n",
    "\n",
    "\n",
    "fig.update_layout(legend=dict(y=0.5,  font_size=16))\n",
    "\n",
    "fig.show()\n"
   ]
  },
  {
   "cell_type": "code",
   "execution_count": null,
   "metadata": {},
   "outputs": [],
   "source": []
  }
 ],
 "metadata": {
  "kernelspec": {
   "display_name": "Python 3",
   "language": "python",
   "name": "python3"
  },
  "language_info": {
   "codemirror_mode": {
    "name": "ipython",
    "version": 3
   },
   "file_extension": ".py",
   "mimetype": "text/x-python",
   "name": "python",
   "nbconvert_exporter": "python",
   "pygments_lexer": "ipython3",
   "version": "3.6.10"
  }
 },
 "nbformat": 4,
 "nbformat_minor": 2
}
