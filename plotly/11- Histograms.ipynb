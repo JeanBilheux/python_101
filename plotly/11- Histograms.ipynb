{
 "cells": [
  {
   "cell_type": "markdown",
   "metadata": {},
   "source": [
    "# Histograms\n",
    "\n",
    "A histogram is an accurate representation of the distribution of numerical data. It is an estimate of the probability distribution of a continuous variable and was first introduced by Karl Pearson. It differs from a bar graph, in the sense that a bar graph relates two variables, but a histogram relates only one. To construct a histogram, the first step is to *\"bin\"* (or \"bucket\") the range of values-that is, divide the entire range of values into a series of intervals-and then count how many values fall into each interval. The bins are usually specified as consecutive, non-overlapping intervals of a variable. The bins (intervals) must be adjacent, and are often (but not required to be) of equal size. [Histogram on Wikipedia](https://en.wikipedia.org/wiki/Histogram)\n",
    " ![Histogram](https://upload.wikimedia.org/wikipedia/commons/c/c3/Histogram_of_arrivals_per_minute.svg)\n",
    "\n",
    "* Histograms are a special form of bar chart where the data represent continuous rather than discrete categories. \n",
    "* For example a histogram could be used to present details of the average number of hours exercise carried out by people of different ages because age is a continuous rather than a discrete category. \n",
    "* However, because a continuous category may have a large number of possible values the data are often grouped to reduce the number of data points. \n",
    "* For example, instead of drawing a bar for each individual age between 0 and 65, the data could be grouped into a series of continuous age ranges such as 16-24, 25-34, 35-44 etc.\n",
    "* Unlike a bar chart, in a histogram both the x- and y-axes have a scale. \n",
    "* This means that it is the area of the bar that is proportional to the size of the category represented and not just its height. [Source](https://www.le.ac.uk/oerresources/ssds/numeracyskills/page_32.htm)\n"
   ]
  },
  {
   "cell_type": "markdown",
   "metadata": {},
   "source": [
    "## Histogram with Plotly Express\n",
    "In plotly a histogram is an aggregated bar chart, with several possible aggregation functions (e.g. sum, average, count...). Also, the data to be binned can be numerical data but also categorical or date data."
   ]
  },
  {
   "cell_type": "code",
   "execution_count": null,
   "metadata": {},
   "outputs": [],
   "source": [
    "import plotly.express as px\n",
    "df = px.data.tips()\n",
    "fig = px.histogram(df, x=\"total_bill\")\n",
    "#fig = px.histogram(df, x=\"total_bill\", nbins=20) # choose number of bins\n",
    "# Here we use a column with categorical data\n",
    "#fig = px.histogram(df, x=\"day\", nbins=2)\n",
    "fig.show()"
   ]
  },
  {
   "cell_type": "markdown",
   "metadata": {},
   "source": [
    "## Type of Normalization and Other Options\n",
    "* The default mode is to represent the count of samples in each bin. \n",
    "* With the *histnorm* argument, it is also possible to represent:\n",
    "* the percentage or fraction of samples in each bin (*histnorm='percent'* or *probability*)\n",
    "* or a density histogram (the sum of bars is equal to 100, *density*)\n",
    "* or a probability density histogram (sum equal to 1, *probability density*)."
   ]
  },
  {
   "cell_type": "code",
   "execution_count": null,
   "metadata": {},
   "outputs": [],
   "source": [
    "import plotly.express as px\n",
    "df = px.data.tips()\n",
    "#fig = px.histogram(df, x=\"total_bill\", histnorm='probability')\n",
    "fig = px.histogram(df, x=\"total_bill\",\n",
    "                   title='Histogram of bills',\n",
    "                   labels={'total_bill':'total bill'}, # can specify one label per df column\n",
    "                   opacity=0.8,\n",
    "                   log_y=True, # represent bars with log scale\n",
    "                   color_discrete_sequence=['indianred'] # color of histogram bars\n",
    "                   )\n",
    "fig.show()"
   ]
  },
  {
   "cell_type": "markdown",
   "metadata": {},
   "source": [
    "## Several histograms for the different values of one column"
   ]
  },
  {
   "cell_type": "code",
   "execution_count": null,
   "metadata": {},
   "outputs": [],
   "source": [
    "import plotly.express as px\n",
    "df = px.data.tips()\n",
    "fig = px.histogram(df, x=\"total_bill\", color=\"sex\", opacity=0.8) \n",
    "fig.show()"
   ]
  },
  {
   "cell_type": "markdown",
   "metadata": {},
   "source": [
    "## Visualizing the distribution\n",
    "* With the *marginal* keyword, a subplot is drawn alongside the histogram, visualizing the distribution.\n",
    "* More on distribution plots later"
   ]
  },
  {
   "cell_type": "code",
   "execution_count": null,
   "metadata": {},
   "outputs": [],
   "source": [
    "import plotly.express as px\n",
    "df = px.data.tips()\n",
    "fig = px.histogram(df, x=\"total_bill\", color=\"sex\", marginal=\"box\", # can be `box`, `violin`\n",
    "                         hover_data=df.columns)\n",
    "fig.show()"
   ]
  },
  {
   "cell_type": "markdown",
   "metadata": {},
   "source": [
    "## Histograms using Graphic Object"
   ]
  },
  {
   "cell_type": "code",
   "execution_count": null,
   "metadata": {
    "scrolled": false
   },
   "outputs": [],
   "source": [
    "# Basic Histogram\n",
    "import plotly.graph_objects as go\n",
    "\n",
    "import numpy as np\n",
    "np.random.seed(1)\n",
    "\n",
    "x = np.random.randn(500)\n",
    "\n",
    "#fig = go.Figure(data=[go.Histogram(x=x)])\n",
    "#Normalized Histogram\n",
    "fig = go.Figure(data=[go.Histogram(x=x, histnorm='probability')])\n",
    "fig.show()"
   ]
  },
  {
   "cell_type": "markdown",
   "metadata": {},
   "source": [
    "## Horizontal Histogram"
   ]
  },
  {
   "cell_type": "code",
   "execution_count": null,
   "metadata": {},
   "outputs": [],
   "source": [
    "import plotly.graph_objects as go\n",
    "\n",
    "import numpy as np\n",
    "\n",
    "y = np.random.randn(500)\n",
    "# Use `y` argument instead of `x` for horizontal histogram\n",
    "\n",
    "fig = go.Figure(data=[go.Histogram(y=y)])\n",
    "fig.show()"
   ]
  },
  {
   "cell_type": "markdown",
   "metadata": {},
   "source": [
    "## Overlaid Histogram"
   ]
  },
  {
   "cell_type": "code",
   "execution_count": null,
   "metadata": {},
   "outputs": [],
   "source": [
    "import plotly.graph_objects as go\n",
    "\n",
    "import numpy as np\n",
    "\n",
    "x0 = np.random.randn(500)\n",
    "# Add 1 to shift the mean of the Gaussian distribution\n",
    "x1 = np.random.randn(500) + 1\n",
    "\n",
    "fig = go.Figure()\n",
    "fig.add_trace(go.Histogram(x=x0))\n",
    "fig.add_trace(go.Histogram(x=x1))\n",
    "\n",
    "# Overlay both histograms\n",
    "fig.update_layout(barmode='overlay')\n",
    "# Reduce opacity to see both histograms\n",
    "fig.update_traces(opacity=0.55)\n",
    "fig.show()"
   ]
  },
  {
   "cell_type": "markdown",
   "metadata": {},
   "source": [
    "## Stacked Histograms"
   ]
  },
  {
   "cell_type": "code",
   "execution_count": null,
   "metadata": {},
   "outputs": [],
   "source": [
    "import plotly.graph_objects as go\n",
    "\n",
    "import numpy as np\n",
    "\n",
    "x0 = np.random.randn(2000)\n",
    "x1 = np.random.randn(2000) + 1\n",
    "\n",
    "fig = go.Figure()\n",
    "fig.add_trace(go.Histogram(x=x0))\n",
    "fig.add_trace(go.Histogram(x=x1))\n",
    "\n",
    "# The two histograms are drawn on top of another\n",
    "fig.update_layout(barmode='stack')\n",
    "fig.update_traces(opacity=0.75)\n",
    "\n",
    "fig.show()"
   ]
  },
  {
   "cell_type": "markdown",
   "metadata": {},
   "source": [
    "## Styled Histogram"
   ]
  },
  {
   "cell_type": "code",
   "execution_count": null,
   "metadata": {},
   "outputs": [],
   "source": [
    "import plotly.graph_objects as go\n",
    "\n",
    "import numpy as np\n",
    "x0 = np.random.randn(500)\n",
    "x1 = np.random.randn(500) + 1\n",
    "\n",
    "fig = go.Figure()\n",
    "fig.add_trace(go.Histogram(\n",
    "    x=x0,\n",
    "    histnorm='percent',\n",
    "    name='control', # name used in legend and hover labels\n",
    "    xbins=dict( # bins used for histogram\n",
    "        start=-4.0,\n",
    "        end=3.0,\n",
    "        size=0.5\n",
    "    ),\n",
    "    marker_color='#EB89B5',\n",
    "    opacity=0.75\n",
    "))\n",
    "fig.add_trace(go.Histogram(\n",
    "    x=x1,\n",
    "    histnorm='percent',\n",
    "    name='experimental',\n",
    "    xbins=dict(\n",
    "        start=-3.0,\n",
    "        end=4,\n",
    "        size=0.5\n",
    "    ),\n",
    "    marker_color='#330C73',\n",
    "    opacity=0.75\n",
    "))\n",
    "\n",
    "fig.update_layout(\n",
    "    title_text='Sampled Results', # title of plot\n",
    "    xaxis_title_text='Value', # xaxis label\n",
    "    yaxis_title_text='Count', # yaxis label\n",
    "    bargap=0.2, # gap between bars of adjacent location coordinates\n",
    "    bargroupgap=0.1 # gap between bars of the same location coordinates\n",
    ")\n",
    "\n",
    "fig.show()"
   ]
  },
  {
   "cell_type": "markdown",
   "metadata": {},
   "source": [
    "## Cumulative Histogram\n",
    "The cumulative histogram is a histogram in which the vertical axis gives not just the counts for a single bin, but rather gives the counts for that bin plus all bins for smaller values of the response variable. [Source](https://mipav.cit.nih.gov/pubwiki/index.php/Cumulative_Histogram)"
   ]
  },
  {
   "cell_type": "code",
   "execution_count": null,
   "metadata": {},
   "outputs": [],
   "source": [
    "import plotly.graph_objects as go\n",
    "\n",
    "import numpy as np\n",
    "\n",
    "x = np.random.randn(500)\n",
    "fig = go.Figure(data=[go.Histogram(x=x, cumulative_enabled=True)])\n",
    "\n",
    "fig.show()"
   ]
  },
  {
   "cell_type": "markdown",
   "metadata": {},
   "source": [
    "## Custom Binning\n",
    "\n",
    "* For custom binning along *x-axis*, use the attribute *nbinsx*. \n",
    "* Please note that the autobin algorithm will choose a *'nice'* round bin size that may result in somewhat fewer than nbinsx total bins. \n",
    "* Alternatively, you can set the exact values for *xbins* along with *autobinx = False*.\n"
   ]
  },
  {
   "cell_type": "code",
   "execution_count": null,
   "metadata": {
    "scrolled": false
   },
   "outputs": [],
   "source": [
    "import plotly.graph_objects as go\n",
    "from plotly.subplots import make_subplots\n",
    "\n",
    "x = ['1970-01-01', '1970-01-01', '1970-02-01', '1970-04-01', '1970-01-02',\n",
    "     '1972-01-31', '1970-02-13', '1971-04-19']\n",
    "\n",
    "fig = make_subplots(rows=3, cols=2)\n",
    "\n",
    "trace0 = go.Histogram(x=x, nbinsx=4)\n",
    "trace1 = go.Histogram(x=x, nbinsx = 8)\n",
    "trace2 = go.Histogram(x=x, nbinsx=10)\n",
    "trace3 = go.Histogram(x=x,\n",
    "                      xbins=dict(\n",
    "                      start='1969-11-15',\n",
    "                      end='1972-03-31',\n",
    "                      size='M18'), # M18 stands for 18 months\n",
    "                      autobinx=False\n",
    "                     )\n",
    "trace4 = go.Histogram(x=x,\n",
    "                      xbins=dict(\n",
    "                      start='1969-11-15',\n",
    "                      end='1972-03-31',\n",
    "                      size='M4'), # 4 months bin size\n",
    "                      autobinx=False\n",
    "                      )\n",
    "trace5 = go.Histogram(x=x,\n",
    "                      xbins=dict(\n",
    "                      start='1969-11-15',\n",
    "                      end='1972-03-31',\n",
    "                      size= 'M2'), # 2 months\n",
    "                      autobinx = False\n",
    "                      )\n",
    "\n",
    "fig.append_trace(trace0, 1, 1)\n",
    "fig.append_trace(trace1, 1, 2)\n",
    "fig.append_trace(trace2, 2, 1)\n",
    "fig.append_trace(trace3, 2, 2)\n",
    "fig.append_trace(trace4, 3, 1)\n",
    "fig.append_trace(trace5, 3, 2)\n",
    "\n",
    "fig.show()"
   ]
  },
  {
   "cell_type": "markdown",
   "metadata": {},
   "source": [
    "## Share bins between histograms\n",
    "In this example both histograms have a compatible bin settings using *bingroup* attribute. Note that traces on the same subplot, and with the same *barmode* (\"stack\", \"relative\", \"group\") are forced into the same *bingroup*, however traces with *barmode = \"overlay\"* and on different axes (of the same axis type) can have compatible bin settings. "
   ]
  },
  {
   "cell_type": "code",
   "execution_count": null,
   "metadata": {},
   "outputs": [],
   "source": [
    "import plotly.graph_objects as go\n",
    "import numpy as np\n",
    "\n",
    "fig = go.Figure(go.Histogram(\n",
    "    x=np.random.randint(7, size=100),\n",
    "    bingroup=1))\n",
    "\n",
    "fig.add_trace(go.Histogram(\n",
    "    x=np.random.randint(7, size=20),\n",
    "    bingroup=1))\n",
    "\n",
    "fig.update_layout(\n",
    "    barmode=\"overlay\",\n",
    "    bargap=0.1)\n",
    "\n",
    "fig.show()"
   ]
  },
  {
   "cell_type": "markdown",
   "metadata": {},
   "source": [
    "## 2D Histogram of a Bivariate Normal Distribution"
   ]
  },
  {
   "cell_type": "code",
   "execution_count": null,
   "metadata": {},
   "outputs": [],
   "source": [
    "import plotly.graph_objects as go\n",
    "\n",
    "import numpy as np\n",
    "\n",
    "x = np.random.randn(500)\n",
    "y = np.random.randn(500)+1\n",
    "\n",
    "fig = go.Figure(go.Histogram2d(x=x, y=y, histnorm='probability',\n",
    "        autobinx=False,\n",
    "        xbins=dict(start=-3, end=3, size=0.1),\n",
    "        autobiny=False,\n",
    "        ybins=dict(start=-2.5, end=4, size=0.1),\n",
    "        colorscale=[[0, 'rgb(12,51,131)'], [0.25, 'rgb(10,136,186)'], [0.5, 'rgb(242,211,56)'], [0.75, 'rgb(242,143,56)'], [1, 'rgb(217,30,30)']]\n",
    "    ))\n",
    "fig.show()"
   ]
  },
  {
   "cell_type": "markdown",
   "metadata": {},
   "source": [
    "## Sharing bin settings between 2D Histograms"
   ]
  },
  {
   "cell_type": "markdown",
   "metadata": {},
   "source": [
    "This example shows how to use *bingroup* attribute to have a compatible bin settings for both histograms. To define *start*, end and *size* value of *x-axis* and *y-axis* seperatly, set *ybins* and *xbins*."
   ]
  },
  {
   "cell_type": "code",
   "execution_count": null,
   "metadata": {},
   "outputs": [],
   "source": [
    "import plotly.graph_objects as go\n",
    "from plotly.subplots import make_subplots\n",
    "\n",
    "fig = make_subplots(2,2)\n",
    "fig.add_trace(go.Histogram2d(\n",
    "    x = [ 1, 2, 2, 3, 4 ],\n",
    "    y = [ 1, 2, 2, 3, 4 ],\n",
    "    coloraxis = \"coloraxis\",\n",
    "    xbins = {'start':1, 'size':1}), 1,1)\n",
    "fig.add_trace(go.Histogram2d(\n",
    "    x = [ 4, 5, 5, 5, 6 ],\n",
    "    y = [ 4, 5, 5, 5, 6 ],\n",
    "    coloraxis = \"coloraxis\",\n",
    "    ybins = {'start': 3, 'size': 1}),1,2)\n",
    "fig.add_trace(go.Histogram2d(\n",
    "    x = [ 1, 2, 2, 3, 4 ],\n",
    "    y = [ 1, 2, 2, 3, 4 ],\n",
    "    bingroup = 1,\n",
    "    coloraxis = \"coloraxis\",\n",
    "    xbins = {'start':1, 'size':1}), 2,1)\n",
    "fig.add_trace(go.Histogram2d(\n",
    "    x = [ 4, 5, 5, 5, 6 ],\n",
    "    y = [ 4, 5, 5, 5, 6 ],\n",
    "    bingroup = 1,\n",
    "    coloraxis = \"coloraxis\",\n",
    "    ybins = {'start': 3, 'size': 1}),2,2)\n",
    "fig.show()"
   ]
  },
  {
   "cell_type": "code",
   "execution_count": null,
   "metadata": {},
   "outputs": [],
   "source": []
  }
 ],
 "metadata": {
  "kernelspec": {
   "display_name": "Python 3",
   "language": "python",
   "name": "python3"
  },
  "language_info": {
   "codemirror_mode": {
    "name": "ipython",
    "version": 3
   },
   "file_extension": ".py",
   "mimetype": "text/x-python",
   "name": "python",
   "nbconvert_exporter": "python",
   "pygments_lexer": "ipython3",
   "version": "3.7.6"
  }
 },
 "nbformat": 4,
 "nbformat_minor": 2
}
