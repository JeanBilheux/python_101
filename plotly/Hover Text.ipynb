{
 "cells": [
  {
   "cell_type": "markdown",
   "metadata": {},
   "source": [
    "# Hover Text\n",
    "https://plot.ly/python/v3/hover-text-and-formatting/\n",
    "\n",
    "https://plot.ly/python/text-and-annotations/"
   ]
  },
  {
   "cell_type": "code",
   "execution_count": null,
   "metadata": {},
   "outputs": [],
   "source": [
    "import plotly.graph_objs as go\n",
    "\n",
    "fig = go.Figure()\n",
    "\n",
    "import pandas as pd\n",
    "df = pd.read_csv('https://raw.githubusercontent.com/nsadawi/SampleCSVDatasets/master/CSVs/stock-prices-2017-2019.csv')\n",
    "\n",
    "fig.add_trace(go.Scatter(\n",
    "        #x = [1,2,3,4,5],\n",
    "        #y = [2,1,6,4,4],\n",
    "        x = df['Date'], y =df['IBM'],\n",
    "        #text = [\"Text A\", \"Text B\", \"Text C\", \"Text D\", \"Text E\"],\n",
    "        text = list(df['Date'].apply(str)),\n",
    "        hoverinfo = 'text',\n",
    "        marker = dict(\n",
    "            color = 'green'\n",
    "        ),\n",
    "        showlegend = False\n",
    "    ))\n",
    "\n",
    "fig.show()"
   ]
  },
  {
   "cell_type": "code",
   "execution_count": null,
   "metadata": {},
   "outputs": [],
   "source": []
  }
 ],
 "metadata": {
  "kernelspec": {
   "display_name": "Python 3",
   "language": "python",
   "name": "python3"
  },
  "language_info": {
   "codemirror_mode": {
    "name": "ipython",
    "version": 3
   },
   "file_extension": ".py",
   "mimetype": "text/x-python",
   "name": "python",
   "nbconvert_exporter": "python",
   "pygments_lexer": "ipython3",
   "version": "3.7.6"
  }
 },
 "nbformat": 4,
 "nbformat_minor": 2
}
