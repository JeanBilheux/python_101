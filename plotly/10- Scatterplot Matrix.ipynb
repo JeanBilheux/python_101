{
 "cells": [
  {
   "cell_type": "markdown",
   "metadata": {},
   "source": [
    "# Scatter Matrix\n",
    "* A scatterplot matrix is a matrix associated to *n* numerical arrays (data variables), *X1,X2,...,Xn*, of the same length. \n",
    "* The cell *(i,j)* of such a matrix displays the scatter plot of the variable *Xi* versus *Xj*."
   ]
  },
  {
   "cell_type": "markdown",
   "metadata": {},
   "source": [
    "## Using Plotly Express"
   ]
  },
  {
   "cell_type": "code",
   "execution_count": null,
   "metadata": {},
   "outputs": [],
   "source": [
    "# Plot the scatter matrix for the columns of the dataframe. \n",
    "# By default, all columns are considered.\n",
    "import plotly.express as px\n",
    "df = px.data.iris()\n",
    "fig = px.scatter_matrix(df)\n",
    "fig.show()\n",
    "#df"
   ]
  },
  {
   "cell_type": "markdown",
   "metadata": {},
   "source": [
    "Specify the columns to be represented with the *dimensions* argument, and set colors using a column of the dataframe:"
   ]
  },
  {
   "cell_type": "code",
   "execution_count": null,
   "metadata": {},
   "outputs": [],
   "source": [
    "import plotly.express as px\n",
    "df = px.data.iris()\n",
    "fig = px.scatter_matrix(df,\n",
    "    dimensions=[\"sepal_width\", \"sepal_length\", \"petal_width\", \"petal_length\"],\n",
    "    color=\"species\")\n",
    "fig.show()"
   ]
  },
  {
   "cell_type": "markdown",
   "metadata": {},
   "source": [
    "## Styled Scatter Matrix with Plotly Express"
   ]
  },
  {
   "cell_type": "code",
   "execution_count": null,
   "metadata": {},
   "outputs": [],
   "source": [
    "import plotly.express as px\n",
    "df = px.data.iris()\n",
    "fig = px.scatter_matrix(df,\n",
    "    dimensions=[\"sepal_width\", \"sepal_length\", \"petal_width\", \"petal_length\"],\n",
    "    color=\"species\", symbol=\"species\",\n",
    "    title=\"Scatter matrix of iris data set\",\n",
    "    labels={col:col.replace('_', ' ') for col in df.columns}) # remove underscore\n",
    "fig.update_traces(diagonal_visible=False)\n",
    "fig.show()"
   ]
  },
  {
   "cell_type": "markdown",
   "metadata": {},
   "source": [
    "## Scatter Matrix with Graphic Object\n",
    "* It is possible to use the more generic go.Splom function.\n",
    "* The Plotly *splom* trace implementation for the scatterplot matrix does not require to set *x=Xi , and y=Xj*, for each scatter plot. \n",
    "* All arrays, *X1,X2,...,Xn* , are passed once, through a list of dicts called *dimensions*, i.e. each array/variable represents a dimension.\n",
    "* A trace of type splom is defined as follows:\n",
    "\n",
    "$\\qquad$trace=go.Splom(dimensions=[dict(label='string-1',<br />\n",
    "$\\qquad\\qquad$                              values=X1),<br />\n",
    "$\\qquad\\qquad$                         dict(label='string-2',<br />\n",
    "$\\qquad\\qquad$                                 values=X2),<br />\n",
    "$\\qquad\\qquad$                            .<br />\n",
    "$\\qquad\\qquad$                            .<br />\n",
    "$\\qquad\\qquad$                            .<br />\n",
    "$\\qquad\\qquad$                            dict(label='string-n',<br />\n",
    "$\\qquad\\qquad$                                values=Xn)],<br />\n",
    "$\\qquad\\qquad$                            ....<br />\n",
    "$\\qquad$                )<br />\n",
    "\n",
    "* The label in each dimension is assigned to the axes titles of the corresponding matrix cell.\n",
    "* More here: https://plot.ly/python/reference/#splom"
   ]
  },
  {
   "cell_type": "markdown",
   "metadata": {},
   "source": [
    "## Splom of the Iris data set"
   ]
  },
  {
   "cell_type": "code",
   "execution_count": null,
   "metadata": {},
   "outputs": [],
   "source": [
    "import plotly.graph_objects as go\n",
    "import pandas as pd\n",
    "\n",
    "df = pd.read_csv('https://raw.githubusercontent.com/plotly/datasets/master/iris-data.csv')\n",
    "\n",
    "# The Iris dataset contains four data variables, sepal length, sepal width, petal length,\n",
    "# petal width, for 150 iris flowers. The flowers are labeled as `Iris-setosa`,\n",
    "# `Iris-versicolor`, `Iris-virginica`.\n",
    "\n",
    "# Define indices corresponding to flower categories, using pandas label encoding\n",
    "index_vals = df['class'].astype('category').cat.codes\n",
    "\n",
    "fig = go.Figure(data=go.Splom(\n",
    "                dimensions=[dict(label='sepal length', values=df['sepal length'], visible=True),\n",
    "                            dict(label='sepal width',  values=df['sepal width'], visible=True),\n",
    "                            dict(label='petal length', values=df['petal length'], visible=True),\n",
    "                            dict(label='petal width',  values=df['petal width'], visible=True)],\n",
    "                            #We can choose to remove a variable from splom, by setting \n",
    "                            #visible=False in its corresponding dimension. \n",
    "                            #In this case the default grid associated to the scatterplot \n",
    "                            #matrix keeps its number of cells, but the cells in the row \n",
    "                            #and column corresponding to the visible false dimension are empty\n",
    "                text=df['class'],\n",
    "                marker=dict(color=index_vals,\n",
    "                            showscale=False, # colors encode categorical variables\n",
    "                            line_color='white', line_width=0.5),\n",
    "                #diagonal_visible=True, # show or remove plots on diagonal\n",
    "                # To plot only the lower/upper half of the splom we switch the default showlowerhalf=True/showupperhalf=True to False:\n",
    "                #showupperhalf=False, # plot only the lower/upper half\n",
    "                )                \n",
    "               )\n",
    "\n",
    "\n",
    "fig.update_layout(\n",
    "    title='Iris Data set',\n",
    "    dragmode='select',\n",
    "    width=600,\n",
    "    height=600,\n",
    "    hovermode='closest',\n",
    ")\n",
    "\n",
    "fig.show()"
   ]
  },
  {
   "cell_type": "markdown",
   "metadata": {},
   "source": [
    "## Question: How can we display something else in the diagonal?"
   ]
  },
  {
   "cell_type": "markdown",
   "metadata": {},
   "source": [
    "## Using Figure Factory\n",
    "https://plot.ly/python/figure-factory-subplots/#plotlys-figure-factory-module\n",
    "\n",
    "We can customize what to display in the diagonal"
   ]
  },
  {
   "cell_type": "code",
   "execution_count": null,
   "metadata": {},
   "outputs": [],
   "source": [
    "import plotly.figure_factory as ff\n",
    "\n",
    "import pandas as pd\n",
    "\n",
    "df = pd.read_csv('https://raw.githubusercontent.com/plotly/datasets/master/iris-data.csv')\n",
    "\n",
    "fig = ff.create_scatterplotmatrix(df, diag='histogram', index='class',\n",
    "                                  height=800, width=800)\n",
    "fig.show()"
   ]
  },
  {
   "cell_type": "code",
   "execution_count": null,
   "metadata": {},
   "outputs": [],
   "source": []
  },
  {
   "cell_type": "code",
   "execution_count": null,
   "metadata": {},
   "outputs": [],
   "source": [
    "df"
   ]
  },
  {
   "cell_type": "code",
   "execution_count": null,
   "metadata": {},
   "outputs": [],
   "source": []
  }
 ],
 "metadata": {
  "kernelspec": {
   "display_name": "Python 3",
   "language": "python",
   "name": "python3"
  },
  "language_info": {
   "codemirror_mode": {
    "name": "ipython",
    "version": 3
   },
   "file_extension": ".py",
   "mimetype": "text/x-python",
   "name": "python",
   "nbconvert_exporter": "python",
   "pygments_lexer": "ipython3",
   "version": "3.7.6"
  }
 },
 "nbformat": 4,
 "nbformat_minor": 2
}
