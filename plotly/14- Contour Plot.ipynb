{
 "cells": [
  {
   "cell_type": "markdown",
   "metadata": {},
   "source": [
    "# Contour Plot  and 2D Histogram Contour\n",
    "* A contour plot is a graphical technique for representing a 3-dimensional surface by plotting constant z slices, called contours, on a 2-dimensional format. \n",
    "* That is, given a value for z, lines are drawn for connecting the (x,y) coordinates where that z value occurs.\n",
    "*  The contour plot is an alternative to a 3-D surface plot. \n",
    "\n",
    "[Contour Plot on NIST](https://www.itl.nist.gov/div898/handbook/eda/section3/contour.htm)\n",
    "\n",
    "![Contour plot](https://www.itl.nist.gov/div898/handbook/eda/gif/contourp.gif)\n",
    "\n",
    "The contour plot is formed by:\n",
    "* Vertical axis: Independent variable 2\n",
    "* Horizontal axis: Independent variable 1\n",
    "* Lines: iso-response values \n",
    "\n",
    "The independent variables are usually restricted to a regular grid. The actual techniques for determining the correct iso-response values are rather complex and are almost always computer generated.\n",
    "\n",
    "An additional variable may be required to specify the Z values for drawing the iso-lines. Some software packages require explicit values. Other software packages will determine them automatically.\n",
    "\n",
    "If the data (or function) do not form a regular grid, you typically need to perform a 2-D interpolation to form a regular grid. "
   ]
  },
  {
   "cell_type": "markdown",
   "metadata": {},
   "source": [
    "## Basic 2D Histogram Contour\n",
    "Notice this is a  2D Histogram Contour .. i.e. it counts how many values in each bin"
   ]
  },
  {
   "cell_type": "code",
   "execution_count": null,
   "metadata": {},
   "outputs": [],
   "source": [
    "import plotly.graph_objects as go\n",
    "\n",
    "import numpy as np\n",
    "np.random.seed(1)\n",
    "\n",
    "x = np.random.uniform(-1, 1, size=500)\n",
    "y = np.random.uniform(-1, 1, size=500)\n",
    "\n",
    "fig = go.Figure(go.Histogram2dContour(\n",
    "        x = x,\n",
    "        y = y\n",
    "))\n",
    "\n",
    "fig.show()"
   ]
  },
  {
   "cell_type": "markdown",
   "metadata": {},
   "source": [
    "## 2D Histogram Contour Colorscale"
   ]
  },
  {
   "cell_type": "code",
   "execution_count": null,
   "metadata": {},
   "outputs": [],
   "source": [
    "import plotly.graph_objects as go\n",
    "\n",
    "import numpy as np\n",
    "\n",
    "x = np.random.uniform(-1, 1, size=500)\n",
    "y = np.random.uniform(-1, 1, size=500)\n",
    "\n",
    "fig = go.Figure(go.Histogram2dContour(\n",
    "        x = x,\n",
    "        y = y,\n",
    "        colorscale = 'Blues'\n",
    "))\n",
    "\n",
    "fig.show()"
   ]
  },
  {
   "cell_type": "markdown",
   "metadata": {},
   "source": [
    "## 2D Histogram Contour Styled"
   ]
  },
  {
   "cell_type": "code",
   "execution_count": null,
   "metadata": {},
   "outputs": [],
   "source": [
    "import plotly.graph_objects as go\n",
    "\n",
    "import numpy as np\n",
    "\n",
    "x = np.random.uniform(-1, 1, size=500)\n",
    "y = np.random.uniform(-1, 1, size=500)\n",
    "z = np.random.uniform(-10, 10, size=500)\n",
    "\n",
    "\n",
    "fig = go.Figure(go.Histogram2dContour(\n",
    "        x = x,\n",
    "        y = y,\n",
    "        z = z,\n",
    "\n",
    "        colorscale = 'Jet',\n",
    "        contours = dict(\n",
    "            showlabels = False,\n",
    "            labelfont = dict(\n",
    "                family = 'Raleway',\n",
    "                color = 'white'\n",
    "            )\n",
    "        ),\n",
    "        hoverlabel = dict(\n",
    "            bgcolor = 'white',\n",
    "            bordercolor = 'black',\n",
    "            font = dict(\n",
    "                family = 'Raleway',\n",
    "                color = 'black'\n",
    "            )\n",
    "        )\n",
    "\n",
    "))\n",
    "\n",
    "fig.show()"
   ]
  },
  {
   "cell_type": "markdown",
   "metadata": {},
   "source": [
    "## 2D Histogram Contour Subplot"
   ]
  },
  {
   "cell_type": "code",
   "execution_count": null,
   "metadata": {},
   "outputs": [],
   "source": [
    "import plotly.graph_objects as go\n",
    "\n",
    "import numpy as np\n",
    "\n",
    "t = np.linspace(-1, 1.2, 2000)\n",
    "x = (t**3) + (0.3 * np.random.randn(2000))\n",
    "y = (t**6) + (0.3 * np.random.randn(2000))\n",
    "\n",
    "fig = go.Figure()\n",
    "fig.add_trace(go.Histogram2dContour(\n",
    "        x = x,\n",
    "        y = y,\n",
    "        colorscale = 'Blues',\n",
    "        reversescale = True,\n",
    "        xaxis = 'x',\n",
    "        yaxis = 'y'\n",
    "    ))\n",
    "fig.add_trace(go.Scatter(\n",
    "        x = x,\n",
    "        y = y,\n",
    "        xaxis = 'x',\n",
    "        yaxis = 'y',\n",
    "        mode = 'markers',\n",
    "        marker = dict(\n",
    "            color = 'rgba(0,0,0,0.3)',\n",
    "            size = 3\n",
    "        )\n",
    "    ))\n",
    "fig.add_trace(go.Histogram(\n",
    "        y = y,\n",
    "        xaxis = 'x2',\n",
    "        marker = dict(\n",
    "            color = 'rgba(0,0,0,1)'\n",
    "        )\n",
    "    ))\n",
    "fig.add_trace(go.Histogram(\n",
    "        x = x,\n",
    "        yaxis = 'y2',\n",
    "        marker = dict(\n",
    "            color = 'rgba(0,0,0,1)'\n",
    "        )\n",
    "    ))\n",
    "\n",
    "fig.update_layout(\n",
    "    autosize = False,\n",
    "    xaxis = dict(\n",
    "        zeroline = False,\n",
    "        domain = [0,0.85],\n",
    "        showgrid = False\n",
    "    ),\n",
    "    yaxis = dict(\n",
    "        zeroline = False,\n",
    "        domain = [0,0.85],\n",
    "        showgrid = False\n",
    "    ),\n",
    "    xaxis2 = dict(\n",
    "        zeroline = False,\n",
    "        domain = [0.85,1],\n",
    "        showgrid = False\n",
    "    ),\n",
    "    yaxis2 = dict(\n",
    "        zeroline = False,\n",
    "        domain = [0.85,1],\n",
    "        showgrid = False\n",
    "    ),\n",
    "    height = 600,\n",
    "    width = 600,\n",
    "    bargap = 0,\n",
    "    hovermode = 'closest',\n",
    "    showlegend = False\n",
    ")\n",
    "\n",
    "fig.show()"
   ]
  },
  {
   "cell_type": "markdown",
   "metadata": {},
   "source": [
    "## Basic Contour Plot\n",
    "* A 2D contour plot shows the contour lines of a 2D numerical array *z*, i.e. interpolated lines of isovalues of *z*.\n",
    "### Contour Line:\n",
    "* A contour line (also isoline, isopleth, or isarithm) of a function of two variables is a curve along which the function has a constant value, so that the curve joins points of equal value.\n",
    "* It is a plane section of the three-dimensional graph of the function f(x, y) parallel to the (x, y)-plane.\n",
    "* In cartography, a contour line (often just called a \"contour\") joins points of equal elevation (height) above a given level, such as mean sea level.\n",
    "* A contour map is a map illustrated with contour lines, for example a topographic map, which thus shows valleys and hills, and the steepness or gentleness of slopes.\n",
    "* The contour interval of a contour map is the difference in elevation between successive contour lines.\n",
    "[Contour Line on Wikipedia](https://en.wikipedia.org/wiki/Contour_line)\n"
   ]
  },
  {
   "cell_type": "code",
   "execution_count": null,
   "metadata": {},
   "outputs": [],
   "source": [
    "import plotly.graph_objects as go\n",
    "\n",
    "fig = go.Figure(data =\n",
    "    go.Contour(\n",
    "        # notice z is 2D .. because we have x and y\n",
    "        z=[[10, 10.625, 12.5, 15.625, 20],\n",
    "           [5.625, 6.25, 8.125, 11.25, 15.625],\n",
    "           [2.5, 3.125, 5., 8.125, 12.5],\n",
    "           [0.625, 1.25, 3.125, 6.25, 10.625],\n",
    "           [0, 0.625, 2.5, 5.625, 10]]\n",
    "    ))\n",
    "fig.show()"
   ]
  },
  {
   "cell_type": "markdown",
   "metadata": {},
   "source": [
    "## Setting X and Y Coordinates in a Contour Plot"
   ]
  },
  {
   "cell_type": "code",
   "execution_count": null,
   "metadata": {},
   "outputs": [],
   "source": [
    "import plotly.graph_objects as go\n",
    "\n",
    "fig = go.Figure(data =\n",
    "    go.Contour(\n",
    "        z=[[10, 10.625, 12.5, 15.625, 20],\n",
    "           [5.625, 6.25, 8.125, 11.25, 15.625],\n",
    "           [2.5, 3.125, 5., 8.125, 12.5],\n",
    "           [0.625, 1.25, 3.125, 6.25, 10.625],\n",
    "           [0, 0.625, 2.5, 5.625, 10]],\n",
    "        x=[-9, -6, -5 , -3, -1], # horizontal axis\n",
    "        y=[0, 1, 4, 5, 7], # vertical axis\n",
    "        #colorscale='Electric'#Colorscale for Contour Plot\n",
    "    ))\n",
    "fig.show()"
   ]
  },
  {
   "cell_type": "markdown",
   "metadata": {},
   "source": [
    "## Contour Line Labels"
   ]
  },
  {
   "cell_type": "code",
   "execution_count": null,
   "metadata": {},
   "outputs": [],
   "source": [
    "import plotly.graph_objects as go\n",
    "\n",
    "fig = go.Figure(data=\n",
    "    go.Contour(\n",
    "        z=[[10, 10.625, 12.5, 15.625, 20],\n",
    "           [5.625, 6.25, 8.125, 11.25, 15.625],\n",
    "           [2.5, 3.125, 5., 8.125, 12.5],\n",
    "           [0.625, 1.25, 3.125, 6.25, 10.625],\n",
    "           [0, 0.625, 2.5, 5.625, 10]],\n",
    "        #contours_coloring='lines',\n",
    "        contours=dict(\n",
    "            coloring ='heatmap',\n",
    "            showlabels = True, # show labels on contours\n",
    "            labelfont = dict( # label font properties\n",
    "                size = 12,\n",
    "                color = 'white',\n",
    "            )            \n",
    "        ),\n",
    "        # Customize Colorbar\n",
    "        #colorbar=dict(\n",
    "        #    title='Color bar title', # title here\n",
    "        #    titleside='right',\n",
    "        #    titlefont=dict(\n",
    "        #        size=14,\n",
    "        #        family='Arial, sans-serif')\n",
    "        #)\n",
    "    ))\n",
    "\n",
    "fig.show()"
   ]
  },
  {
   "cell_type": "markdown",
   "metadata": {},
   "source": [
    "## 3D Surface Plot\n",
    "* A surface plot shows a functional relationship between a dependent variable (Z), and two independent variables (X and Y). \n",
    "* The plot is a companion plot to the contour plot. "
   ]
  },
  {
   "cell_type": "code",
   "execution_count": null,
   "metadata": {},
   "outputs": [],
   "source": [
    "# Topographical 3D Surface Plot\n",
    "import plotly.graph_objects as go\n",
    "\n",
    "import pandas as pd\n",
    "\n",
    "# Read data from a csv\n",
    "z_data = pd.read_csv('https://raw.githubusercontent.com/plotly/datasets/master/api_docs/mt_bruno_elevation.csv')\n",
    "#z_matrix = np.random.rand(30,20)\n",
    "\n",
    "z = z_data.values\n",
    "# to specify x and y data\n",
    "#sh_0, sh_1 = z.shape\n",
    "#x, y = np.linspace(0, 1, sh_0), np.linspace(0, 1, sh_1)\n",
    "\n",
    "\n",
    "# z is a 2D matrix\n",
    "fig = go.Figure(data=[go.Surface(z=z)])\n",
    "\n",
    "fig.update_layout(title='Mt Bruno Elevation', autosize=False,\n",
    "                  width=500, height=500,\n",
    "                  margin=dict(l=65, r=50, b=65, t=90))\n",
    "\n",
    "fig.show()"
   ]
  },
  {
   "cell_type": "markdown",
   "metadata": {},
   "source": [
    "## Surface Plot With Contours\n",
    "It is possible to display contour lines"
   ]
  },
  {
   "cell_type": "code",
   "execution_count": null,
   "metadata": {},
   "outputs": [],
   "source": [
    "import plotly.graph_objects as go\n",
    "\n",
    "import pandas as pd\n",
    "\n",
    "# Read data from a csv\n",
    "z_data = pd.read_csv('https://raw.githubusercontent.com/plotly/datasets/master/api_docs/mt_bruno_elevation.csv')\n",
    "\n",
    "fig = go.Figure(data=[go.Surface(z=z_data.values)])\n",
    "fig.update_traces(contours_z=dict(show=True, usecolormap=True,\n",
    "                                  highlightcolor=\"limegreen\", project_z=True))\n",
    "fig.update_layout(title='Mt Bruno Elevation', autosize=False,\n",
    "                  scene_camera_eye=dict(x=1.87, y=0.88, z=-0.64),\n",
    "                  width=500, height=500,\n",
    "                  margin=dict(l=65, r=50, b=65, t=90)\n",
    ")\n",
    "\n",
    "fig.show()"
   ]
  },
  {
   "cell_type": "markdown",
   "metadata": {},
   "source": [
    "## Multiple 3D Surface Plots"
   ]
  },
  {
   "cell_type": "code",
   "execution_count": null,
   "metadata": {},
   "outputs": [],
   "source": [
    "import plotly.graph_objects as go\n",
    "\n",
    "z1 = np.random.rand(30,20)\n",
    "\n",
    "z2 = z1 + 1\n",
    "z3 = z1 - 1\n",
    "\n",
    "fig = go.Figure(data=[\n",
    "    go.Surface(z=z1),\n",
    "    go.Surface(z=z2, showscale=False, opacity=0.9),\n",
    "    go.Surface(z=z3, showscale=False, opacity=0.9)\n",
    "\n",
    "])\n",
    "\n",
    "fig.show()\n",
    "\n"
   ]
  },
  {
   "cell_type": "code",
   "execution_count": null,
   "metadata": {},
   "outputs": [],
   "source": []
  }
 ],
 "metadata": {
  "kernelspec": {
   "display_name": "Python 3",
   "language": "python",
   "name": "python3"
  },
  "language_info": {
   "codemirror_mode": {
    "name": "ipython",
    "version": 3
   },
   "file_extension": ".py",
   "mimetype": "text/x-python",
   "name": "python",
   "nbconvert_exporter": "python",
   "pygments_lexer": "ipython3",
   "version": "3.7.6"
  }
 },
 "nbformat": 4,
 "nbformat_minor": 2
}
