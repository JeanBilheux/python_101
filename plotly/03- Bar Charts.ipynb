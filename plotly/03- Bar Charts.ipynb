{
 "cells": [
  {
   "cell_type": "markdown",
   "metadata": {},
   "source": [
    "# Bar Charts\n",
    "\n",
    "A bar chart or bar graph is a chart or graph that presents categorical data with rectangular bars with heights or lengths proportional to the values that they represent. The bars can be plotted vertically or horizontally. A vertical bar chart is sometimes called a column chart. [Bar Chart on Wikipedia](https://en.wikipedia.org/wiki/Bar_chart)\n",
    "\n",
    "* Bar graphs are used to compare things between different groups or to track changes over time. However, when trying to measure change over time, bar graphs are best when the changes are larger.[Source](https://nces.ed.gov/nceskids/help/user_guide/graph/whentouse.asp)\n",
    "\n",
    "* Bar charts are one of the most commonly used types of graph and are used to display and compare the number, frequency or other measure (e.g. mean) for different discrete categories or groups.\n",
    "* The graph is constructed such that the heights or lengths of the different bars are proportional to the size of the category they represent.\n",
    "* Since the x-axis (the horizontal axis) represents the different categories it has no scale.\n",
    "* The y-axis (the vertical axis) does have a scale and this indicates the units of measurement.\n",
    "* The bars can be drawn either vertically or horizontally depending upon the number of categories and length or complexity of the category labels. \n",
    "* There are various ways in which bar charts can be constructed and this makes them a very flexible chart type.\n",
    "* For example, if there is more than one set of values for each category then grouped or component bar charts can be used to display the data. \n",
    "[Source](https://www.le.ac.uk/oerresources/ssds/numeracyskills/page_31.htm)"
   ]
  },
  {
   "cell_type": "markdown",
   "metadata": {},
   "source": [
    "## Bar chart with Plotly Express"
   ]
  },
  {
   "cell_type": "code",
   "execution_count": null,
   "metadata": {},
   "outputs": [],
   "source": [
    "# With px.bar, each row of the DataFrame is represented as a rectangular mark.\n",
    "import plotly.express as px\n",
    "data_libya = px.data.gapminder().query(\"country == 'Libya'\")\n",
    "fig = px.bar(data_libya, x='year', y='pop')\n",
    "fig.show()"
   ]
  },
  {
   "cell_type": "code",
   "execution_count": null,
   "metadata": {},
   "outputs": [],
   "source": [
    "#type(data_libya)"
   ]
  },
  {
   "cell_type": "markdown",
   "metadata": {},
   "source": [
    "##  Customize bar chart with Plotly Express"
   ]
  },
  {
   "cell_type": "code",
   "execution_count": null,
   "metadata": {},
   "outputs": [],
   "source": [
    "# We can use a certain column in the data to color the bars\n",
    "import plotly.express as px\n",
    "data = px.data.gapminder()\n",
    "\n",
    "data_canada = data[data.country == 'Canada']\n",
    "fig = px.bar(data_canada, x='year', y='pop',\n",
    "             hover_data=['lifeExp', 'gdpPercap'], color='lifeExp',\n",
    "             labels={'pop':'population of Canada'}, height=400)\n",
    "fig.show()"
   ]
  },
  {
   "cell_type": "code",
   "execution_count": null,
   "metadata": {},
   "outputs": [],
   "source": [
    "# When several rows share the same value of x (here Female or Male), \n",
    "# the rectangles are stacked on top of one another by default.\n",
    "import plotly.express as px\n",
    "df = px.data.tips()\n",
    "fig = px.bar(df, x=\"sex\", y=\"total_bill\", color='time')\n",
    "fig.show()"
   ]
  },
  {
   "cell_type": "code",
   "execution_count": null,
   "metadata": {},
   "outputs": [],
   "source": [
    "df"
   ]
  },
  {
   "cell_type": "code",
   "execution_count": null,
   "metadata": {},
   "outputs": [],
   "source": [
    "# Change the default stacking\n",
    "import plotly.express as px\n",
    "fig = px.bar(df, x=\"sex\", y=\"total_bill\", color='smoker', barmode='group',\n",
    "             height=400)\n",
    "fig.show()"
   ]
  },
  {
   "cell_type": "markdown",
   "metadata": {},
   "source": [
    "## Facetted subplots\n",
    "Use the keyword arguments facet_row (resp. facet_col) to create facetted subplots, where different rows (resp. columns) correspond to different values of the dataframe column specified in facet_row."
   ]
  },
  {
   "cell_type": "code",
   "execution_count": null,
   "metadata": {},
   "outputs": [],
   "source": [
    "import plotly.express as px\n",
    "fig = px.bar(df, x=\"sex\", y=\"total_bill\", color=\"smoker\", barmode=\"group\",\n",
    "             facet_row=\"time\", facet_col=\"day\",\n",
    "             category_orders={\"day\": [\"Thur\", \"Fri\", \"Sat\", \"Sun\"],\n",
    "                              \"time\": [\"Lunch\", \"Dinner\"]})\n",
    "fig.show()"
   ]
  },
  {
   "cell_type": "markdown",
   "metadata": {},
   "source": [
    "# And here are examples on Bar Charts with Plotly's Graph Objects"
   ]
  },
  {
   "cell_type": "markdown",
   "metadata": {},
   "source": [
    "## A Simple Bar Chart"
   ]
  },
  {
   "cell_type": "code",
   "execution_count": null,
   "metadata": {},
   "outputs": [],
   "source": [
    "import plotly.graph_objects as go\n",
    "animals=['giraffes', 'orangutans', 'monkeys']\n",
    "\n",
    "fig = go.Figure([go.Bar(x=animals, y=[20, 14, 23])])\n",
    "fig.show()"
   ]
  },
  {
   "cell_type": "markdown",
   "metadata": {},
   "source": [
    "## Grouped Bar Chart\n",
    "Notice how we can customize the figure using *fig.update*."
   ]
  },
  {
   "cell_type": "code",
   "execution_count": null,
   "metadata": {},
   "outputs": [],
   "source": [
    "import plotly.graph_objects as go\n",
    "animals=['giraffes', 'orangutans', 'monkeys']\n",
    "\n",
    "fig = go.Figure(data=[\n",
    "    go.Bar(name='SF Zoo', x=animals, y=[20, 14, 23]),\n",
    "    go.Bar(name='LA Zoo', x=animals, y=[12, 18, 29])\n",
    "])\n",
    "# Change the bar mode .. default mode is group\n",
    "fig.update_layout(barmode='group')\n",
    "fig.show()"
   ]
  },
  {
   "cell_type": "markdown",
   "metadata": {},
   "source": [
    "## Stacked Bar Chart"
   ]
  },
  {
   "cell_type": "code",
   "execution_count": null,
   "metadata": {},
   "outputs": [],
   "source": [
    "import plotly.graph_objects as go\n",
    "animals=['giraffes', 'orangutans', 'monkeys']\n",
    "\n",
    "fig = go.Figure(data=[\n",
    "    go.Bar(name='SF Zoo', x=animals, y=[20, 14, 23]),\n",
    "    go.Bar(name='LA Zoo', x=animals, y=[12, 18, 29])\n",
    "])\n",
    "# Change the bar mode to 'stack'\n",
    "fig.update_layout(barmode='stack')\n",
    "fig.show()"
   ]
  },
  {
   "cell_type": "markdown",
   "metadata": {},
   "source": [
    "## Bar Chart with Hover Text"
   ]
  },
  {
   "cell_type": "code",
   "execution_count": null,
   "metadata": {},
   "outputs": [],
   "source": [
    "import plotly.graph_objects as go\n",
    "\n",
    "x = ['Product A', 'Product B', 'Product C']\n",
    "y = [20, 14, 23]\n",
    "\n",
    "# Use the hovertext kw argument for hover text\n",
    "fig = go.Figure(data=[go.Bar(x=x, y=y,\n",
    "            hovertext=['27% market share', '24% market share', '19% market share'])])\n",
    "# Customize aspect\n",
    "fig.update_traces(marker_color='rgb(158,202,225)', marker_line_color='rgb(8,48,107)',\n",
    "                  marker_line_width=1.5, opacity=0.6)\n",
    "fig.update_layout(title_text='January 2013 Sales Report')\n",
    "fig.show()"
   ]
  },
  {
   "cell_type": "markdown",
   "metadata": {},
   "source": [
    "## Bar Chart with Direct Labels\n",
    "It is possible to change text fontsize and position"
   ]
  },
  {
   "cell_type": "code",
   "execution_count": null,
   "metadata": {},
   "outputs": [],
   "source": [
    "import plotly.graph_objects as go\n",
    "\n",
    "x = ['Product A', 'Product B', 'Product C']\n",
    "y = [20, 14, 23]\n",
    "\n",
    "# Use textposition='auto' for direct text\n",
    "fig = go.Figure(data=[go.Bar(\n",
    "            x=x, y=y,\n",
    "            text=y,\n",
    "            textposition='auto',\n",
    "        )])\n",
    "\n",
    "fig.show()"
   ]
  },
  {
   "cell_type": "markdown",
   "metadata": {},
   "source": [
    "## Rotated Bar Chart Labels\n",
    "This is useful when we do not have much display space"
   ]
  },
  {
   "cell_type": "code",
   "execution_count": null,
   "metadata": {},
   "outputs": [],
   "source": [
    "import plotly.graph_objects as go\n",
    "\n",
    "months = ['Jan', 'Feb', 'Mar', 'Apr', 'May', 'Jun',\n",
    "          'Jul', 'Aug', 'Sep', 'Oct', 'Nov', 'Dec']\n",
    "\n",
    "fig = go.Figure()\n",
    "fig.add_trace(go.Bar(\n",
    "    x=months,\n",
    "    y=[20, 14, 25, 16, 18, 22, 19, 15, 12, 16, 14, 17],\n",
    "    name='Primary Product',\n",
    "    marker_color='indianred'\n",
    "))\n",
    "fig.add_trace(go.Bar(\n",
    "    x=months,\n",
    "    y=[19, 14, 22, 14, 16, 19, 15, 14, 10, 12, 12, 16],\n",
    "    name='Secondary Product',\n",
    "    marker_color='lightsalmon'\n",
    "))\n",
    "\n",
    "# Here we modify the tickangle of the xaxis, resulting in rotated labels.\n",
    "fig.update_layout(barmode='group', xaxis_tickangle=-45)\n",
    "fig.show()"
   ]
  },
  {
   "cell_type": "markdown",
   "metadata": {},
   "source": [
    "## Customizing Individual Bar Colors and Widths\n",
    "In case we want to highligh a certain bar"
   ]
  },
  {
   "cell_type": "code",
   "execution_count": null,
   "metadata": {},
   "outputs": [],
   "source": [
    "import plotly.graph_objects as go\n",
    "\n",
    "colors = ['lightslategray',] * 5\n",
    "colors[1] = 'crimson'\n",
    "\n",
    "fig = go.Figure(data=[go.Bar(\n",
    "    x=['Feature A', 'Feature B', 'Feature C',\n",
    "       'Feature D', 'Feature E'],\n",
    "    y=[20, 14, 23, 25, 22],\n",
    "    marker_color=colors, # marker color can be a single color value or an iterable\n",
    "    width=[0.5, 0.5, 0.5, 1, 0.5] # customize width here\n",
    ")])\n",
    "fig.update_layout(title_text='Least Used Feature')"
   ]
  },
  {
   "cell_type": "code",
   "execution_count": null,
   "metadata": {},
   "outputs": [],
   "source": []
  },
  {
   "cell_type": "markdown",
   "metadata": {},
   "source": [
    "## Horizontal Bar Chart with Plotly Express\n",
    "## https://plot.ly/python/horizontal-bar-charts/"
   ]
  },
  {
   "cell_type": "code",
   "execution_count": null,
   "metadata": {},
   "outputs": [],
   "source": [
    "import plotly.express as px\n",
    "df = px.data.tips()\n",
    "fig = px.bar(df, x=\"total_bill\", y=\"day\", orientation='h')\n",
    "fig.show()"
   ]
  },
  {
   "cell_type": "markdown",
   "metadata": {},
   "source": [
    "## Configure horizontal bar chart"
   ]
  },
  {
   "cell_type": "code",
   "execution_count": null,
   "metadata": {},
   "outputs": [],
   "source": [
    "import plotly.express as px\n",
    "df = px.data.tips()\n",
    "fig = px.bar(df, x=\"total_bill\", y=\"sex\", color='day', orientation='h',\n",
    "             hover_data=['total_bill'],             \n",
    "             height=400,\n",
    "             title='Restaurant bills')\n",
    "fig.show()"
   ]
  },
  {
   "cell_type": "code",
   "execution_count": null,
   "metadata": {},
   "outputs": [],
   "source": [
    "df.head()"
   ]
  },
  {
   "cell_type": "markdown",
   "metadata": {},
   "source": [
    "## Horizontal Bar Chart with go.Bar (Graphic Object rather then plotly express)\n",
    "Notice the axes are swapped and the orientation is 'h'"
   ]
  },
  {
   "cell_type": "code",
   "execution_count": null,
   "metadata": {},
   "outputs": [],
   "source": [
    "import plotly.graph_objects as go\n",
    "\n",
    "fig = go.Figure(go.Bar(\n",
    "            x=[20, 14, 23],\n",
    "            y=['giraffes', 'orangutans', 'monkeys'],\n",
    "            orientation='h'))\n",
    "\n",
    "fig.show()"
   ]
  },
  {
   "cell_type": "markdown",
   "metadata": {},
   "source": [
    "## Colored Horizontal Bar Chart\n",
    "Coloring is easy peasy!"
   ]
  },
  {
   "cell_type": "code",
   "execution_count": null,
   "metadata": {},
   "outputs": [],
   "source": [
    "import plotly.graph_objects as go\n",
    "\n",
    "fig = go.Figure()\n",
    "fig.add_trace(go.Bar(\n",
    "    y=['giraffes', 'orangutans', 'monkeys'],\n",
    "    x=[20, 14, 23],\n",
    "    name='SF Zoo',\n",
    "    orientation='h',\n",
    "    marker=dict(\n",
    "        color='rgba(246, 78, 139, 0.6)',\n",
    "        line=dict(color='rgba(246, 78, 139, 1.0)', width=3)\n",
    "    )\n",
    "))\n",
    "fig.add_trace(go.Bar(\n",
    "    y=['giraffes', 'orangutans', 'monkeys'],\n",
    "    x=[12, 18, 29],\n",
    "    name='LA Zoo',\n",
    "    orientation='h',\n",
    "    marker=dict(\n",
    "        color='rgba(58, 71, 80, 0.6)',\n",
    "        line=dict(color='rgba(58, 71, 80, 1.0)', width=3)\n",
    "    )\n",
    "))\n",
    "\n",
    "fig.update_layout(barmode='stack')\n",
    "fig.show()"
   ]
  },
  {
   "cell_type": "markdown",
   "metadata": {},
   "source": [
    "## Bar Chart with Sorted or Ordered Categories\n",
    "Set *categoryorder* to \"*category ascending\" or \"category descending\" for the alphanumerical order of the category names or \"total ascending\" or \"total descending\" for numerical order of values. categoryorder for more information. Note that sorting the bars by a particular trace isn't possible right now - it's only possible to sort by the total values. Of course, you can always sort your data before plotting it if you need more customization.\n",
    "\n",
    "This example orders the bar chart alphabetically with categoryorder: 'category ascending'"
   ]
  },
  {
   "cell_type": "code",
   "execution_count": null,
   "metadata": {},
   "outputs": [],
   "source": [
    "import plotly.graph_objects as go\n",
    "\n",
    "x=['b', 'a', 'c', 'd']\n",
    "fig = go.Figure(go.Bar(x=x, y=[2,5,1,9], name='Montreal'))\n",
    "fig.add_trace(go.Bar(x=x, y=[1, 4, 9, 16], name='Ottawa'))\n",
    "fig.add_trace(go.Bar(x=x, y=[6, 8, 4.5, 8], name='Toronto'))\n",
    "\n",
    "fig.update_layout(barmode='stack', xaxis={'categoryorder':'category ascending'})\n",
    "fig.show()"
   ]
  },
  {
   "cell_type": "code",
   "execution_count": null,
   "metadata": {},
   "outputs": [],
   "source": [
    "import plotly.graph_objects as go\n",
    "\n",
    "y=['b', 'a', 'c', 'd']\n",
    "fig = go.Figure(go.Bar(y=y, x=[2,5,1,9], name='Montreal', orientation='h',))\n",
    "fig.add_trace(go.Bar(y=y, x=[1, 4, 9, 16], name='Ottawa', orientation='h',))\n",
    "fig.add_trace(go.Bar(y=y, x=[6, 8, 4.5, 8], name='Toronto', orientation='h',))\n",
    "\n",
    "fig.update_layout(barmode='stack')\n",
    "fig.show()"
   ]
  },
  {
   "cell_type": "code",
   "execution_count": null,
   "metadata": {},
   "outputs": [],
   "source": []
  }
 ],
 "metadata": {
  "kernelspec": {
   "display_name": "Python 3",
   "language": "python",
   "name": "python3"
  },
  "language_info": {
   "codemirror_mode": {
    "name": "ipython",
    "version": 3
   },
   "file_extension": ".py",
   "mimetype": "text/x-python",
   "name": "python",
   "nbconvert_exporter": "python",
   "pygments_lexer": "ipython3",
   "version": "3.7.6"
  }
 },
 "nbformat": 4,
 "nbformat_minor": 2
}
