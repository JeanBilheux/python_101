{
 "cells": [
  {
   "cell_type": "markdown",
   "metadata": {},
   "source": [
    "# Generate fake human data"
   ]
  },
  {
   "cell_type": "code",
   "execution_count": 1,
   "metadata": {
    "collapsed": false
   },
   "outputs": [
    {
     "name": "stderr",
     "output_type": "stream",
     "text": [
      "/Users/j35/anaconda/envs/scons/lib/python2.7/site-packages/matplotlib/font_manager.py:273: UserWarning: Matplotlib is building the font cache using fc-list. This may take a moment.\n",
      "  warnings.warn('Matplotlib is building the font cache using fc-list. This may take a moment.')\n"
     ]
    },
    {
     "data": {
      "image/png": "[encoded data removed]",
      "text/plain": [
       "<matplotlib.figure.Figure at 0x10cb6ce10>"
      ]
     },
     "metadata": {},
     "output_type": "display_data"
    }
   ],
   "source": [
    "%matplotlib inline\n",
    "import numpy as np\n",
    "import matplotlib.pyplot as plt\n",
    "import time\n",
    "np.random.seed(1)\n",
    "\n",
    "x = np.linspace(0, 1, 36)[None, :] * np.ones((50, 36))\n",
    "y = 1.0 / (1 + np.exp(-10 * (x + np.random.normal(0, 0.1, (50, 36)) - 0.5)))\n",
    "plt.plot(x[0], y.mean(axis=0))\n",
    "\n",
    "t = np.empty((50, 36))\n",
    "rt = np.empty((50, 36))\n",
    "rt_means = np.random.uniform(200, 1000, 36)\n",
    "rt_stds = np.sqrt(np.random.uniform(100, 250, 50))\n",
    "for i in range(50):\n",
    "    for j in range(36):\n",
    "        t[i, j] = time.time()\n",
    "        rt[i, j] = np.random.normal(rt_means[j], rt_stds[i])\n",
    "        \n",
    "data = []\n",
    "for i in range(50):\n",
    "    trials = np.arange(0, 36)\n",
    "    np.random.shuffle(trials)\n",
    "    for j in range(36):\n",
    "        data.append({\n",
    "            \"participant\": int(i),\n",
    "            \"stimulus\": int(j),\n",
    "            \"trial\": int(trials[j]),\n",
    "            \"timestamp\": float(t[i, j]),\n",
    "            \"x\": float(x[i, j]),\n",
    "            \"y\": float(y[i, j]),\n",
    "            \"rt\": float(rt[i, j])\n",
    "        })\n",
    "        \n",
    "import json\n",
    "with open(\"data/human_raw.json\", \"w\") as fh:\n",
    "    json.dump(data, fh, indent=1)"
   ]
  },
  {
   "cell_type": "code",
   "execution_count": 2,
   "metadata": {
    "collapsed": false,
    "scrolled": false
   },
   "outputs": [
    {
     "name": "stdout",
     "output_type": "stream",
     "text": [
      "[\r\n",
      " {\r\n",
      "  \"rt\": 712.3117048408211, \r\n",
      "  \"participant\": 0, \r\n",
      "  \"stimulus\": 0, \r\n",
      "  \"timestamp\": 1468595079.704256, \r\n",
      "  \"trial\": 33, \r\n",
      "  \"y\": 0.033065042123708886, \r\n",
      "  \"x\": 0.0\r\n",
      " }, \r\n",
      " {\r\n",
      "  \"rt\": 494.589488145245, \r\n",
      "  \"participant\": 0, \r\n",
      "  \"stimulus\": 1, \r\n",
      "  \"timestamp\": 1468595079.704287, \r\n",
      "  \"trial\": 4, \r\n",
      "  \"y\": 0.004839743185043226, \r\n",
      "  \"x\": 0.02857142857142857\r\n",
      " }, \r\n",
      " {\r\n"
     ]
    }
   ],
   "source": [
    "!head -n 20 data/human_raw.json"
   ]
  },
  {
   "cell_type": "markdown",
   "metadata": {},
   "source": [
    "# Generate fake model data"
   ]
  },
  {
   "cell_type": "code",
   "execution_count": 3,
   "metadata": {
    "collapsed": false
   },
   "outputs": [],
   "source": [
    "model = (x[0] / 2) + 0.25 + np.random.normal(0, 0.01, 36)\n",
    "np.savez(\"data/model_raw.npz\", x=x[0], y=model)"
   ]
  },
  {
   "cell_type": "code",
   "execution_count": null,
   "metadata": {
    "collapsed": true
   },
   "outputs": [],
   "source": []
  }
 ],
 "metadata": {
  "kernelspec": {
   "display_name": "Python 2",
   "language": "python",
   "name": "python2"
  },
  "language_info": {
   "codemirror_mode": {
    "name": "ipython",
    "version": 2
   },
   "file_extension": ".py",
   "mimetype": "text/x-python",
   "name": "python",
   "nbconvert_exporter": "python",
   "pygments_lexer": "ipython2",
   "version": "2.7.12"
  }
 },
 "nbformat": 4,
 "nbformat_minor": 0
}
