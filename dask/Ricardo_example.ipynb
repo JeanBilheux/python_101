{
 "cells": [
  {
   "cell_type": "code",
   "execution_count": 5,
   "metadata": {
    "collapsed": true
   },
   "outputs": [],
   "source": [
    "%matplotlib inline"
   ]
  },
  {
   "cell_type": "code",
   "execution_count": 6,
   "metadata": {
    "collapsed": false
   },
   "outputs": [
    {
     "ename": "ImportError",
     "evalue": "No module named 'toolz'",
     "output_type": "error",
     "traceback": [
      "\u001b[0;31m---------------------------------------------------------------------------\u001b[0m",
      "\u001b[0;31mImportError\u001b[0m                               Traceback (most recent call last)",
      "\u001b[0;32m<ipython-input-6-72438edb1817>\u001b[0m in \u001b[0;36m<module>\u001b[0;34m()\u001b[0m\n\u001b[0;32m----> 1\u001b[0;31m \u001b[0;32mimport\u001b[0m \u001b[0mdask\u001b[0m\u001b[0;34m.\u001b[0m\u001b[0marray\u001b[0m \u001b[0;32mas\u001b[0m \u001b[0mda\u001b[0m\u001b[0;34m\u001b[0m\u001b[0m\n\u001b[0m\u001b[1;32m      2\u001b[0m \u001b[0;32mimport\u001b[0m \u001b[0mmatplotlib\u001b[0m\u001b[0;34m.\u001b[0m\u001b[0mpyplot\u001b[0m \u001b[0;32mas\u001b[0m \u001b[0mplt\u001b[0m\u001b[0;34m\u001b[0m\u001b[0m\n\u001b[1;32m      3\u001b[0m \u001b[0;32mimport\u001b[0m \u001b[0mmatplotlib\u001b[0m\u001b[0;34m.\u001b[0m\u001b[0mimage\u001b[0m \u001b[0;32mas\u001b[0m \u001b[0mmpimg\u001b[0m\u001b[0;34m\u001b[0m\u001b[0m\n\u001b[1;32m      4\u001b[0m \u001b[0;32mimport\u001b[0m \u001b[0mnumpy\u001b[0m \u001b[0;32mas\u001b[0m \u001b[0mnp\u001b[0m\u001b[0;34m\u001b[0m\u001b[0m\n\u001b[1;32m      5\u001b[0m \u001b[0;32mfrom\u001b[0m \u001b[0mdask\u001b[0m\u001b[0;34m.\u001b[0m\u001b[0mdot\u001b[0m \u001b[0;32mimport\u001b[0m \u001b[0mdot_graph\u001b[0m\u001b[0;34m\u001b[0m\u001b[0m\n",
      "\u001b[0;32m/Users/j35/anaconda/envs/py3/lib/python3.4/site-packages/dask/array/__init__.py\u001b[0m in \u001b[0;36m<module>\u001b[0;34m()\u001b[0m\n\u001b[1;32m      2\u001b[0m \u001b[0;34m\u001b[0m\u001b[0m\n\u001b[1;32m      3\u001b[0m \u001b[0;32mfrom\u001b[0m \u001b[0;34m.\u001b[0m\u001b[0;34m.\u001b[0m\u001b[0mutils\u001b[0m \u001b[0;32mimport\u001b[0m \u001b[0mignoring\u001b[0m\u001b[0;34m\u001b[0m\u001b[0m\n\u001b[0;32m----> 4\u001b[0;31m from .core import (Array, stack, concatenate, take, tensordot, transpose,\n\u001b[0m\u001b[1;32m      5\u001b[0m         \u001b[0mfrom_array\u001b[0m\u001b[0;34m,\u001b[0m \u001b[0mfrom_imperative\u001b[0m\u001b[0;34m,\u001b[0m \u001b[0mchoose\u001b[0m\u001b[0;34m,\u001b[0m \u001b[0mwhere\u001b[0m\u001b[0;34m,\u001b[0m \u001b[0mcoarsen\u001b[0m\u001b[0;34m,\u001b[0m \u001b[0minsert\u001b[0m\u001b[0;34m,\u001b[0m\u001b[0;34m\u001b[0m\u001b[0m\n\u001b[1;32m      6\u001b[0m         \u001b[0mbroadcast_to\u001b[0m\u001b[0;34m,\u001b[0m \u001b[0mravel\u001b[0m\u001b[0;34m,\u001b[0m \u001b[0mreshape\u001b[0m\u001b[0;34m,\u001b[0m \u001b[0mfromfunction\u001b[0m\u001b[0;34m,\u001b[0m \u001b[0munique\u001b[0m\u001b[0;34m,\u001b[0m \u001b[0mstore\u001b[0m\u001b[0;34m,\u001b[0m \u001b[0msqueeze\u001b[0m\u001b[0;34m,\u001b[0m\u001b[0;34m\u001b[0m\u001b[0m\n",
      "\u001b[0;32m/Users/j35/anaconda/envs/py3/lib/python3.4/site-packages/dask/array/core.py\u001b[0m in \u001b[0;36m<module>\u001b[0;34m()\u001b[0m\n\u001b[1;32m     11\u001b[0m \u001b[0;32mfrom\u001b[0m \u001b[0mfunctools\u001b[0m \u001b[0;32mimport\u001b[0m \u001b[0mpartial\u001b[0m\u001b[0;34m,\u001b[0m \u001b[0mwraps\u001b[0m\u001b[0;34m\u001b[0m\u001b[0m\n\u001b[1;32m     12\u001b[0m \u001b[0;34m\u001b[0m\u001b[0m\n\u001b[0;32m---> 13\u001b[0;31m from toolz.curried import (pipe, partition, concat, unique, pluck, join, first,\n\u001b[0m\u001b[1;32m     14\u001b[0m                            \u001b[0mmemoize\u001b[0m\u001b[0;34m,\u001b[0m \u001b[0mmap\u001b[0m\u001b[0;34m,\u001b[0m \u001b[0mgroupby\u001b[0m\u001b[0;34m,\u001b[0m \u001b[0mvalmap\u001b[0m\u001b[0;34m,\u001b[0m \u001b[0maccumulate\u001b[0m\u001b[0;34m,\u001b[0m \u001b[0mmerge\u001b[0m\u001b[0;34m,\u001b[0m\u001b[0;34m\u001b[0m\u001b[0m\n\u001b[1;32m     15\u001b[0m                            curry, reduce, interleave, sliding_window, partial)\n",
      "\u001b[0;31mImportError\u001b[0m: No module named 'toolz'"
     ]
    }
   ],
   "source": [
    "import dask.array as da\n",
    "import matplotlib.pyplot as plt\n",
    "import matplotlib.image as mpimg\n",
    "import numpy as np\n",
    "from dask.dot import dot_graph"
   ]
  },
  {
   "cell_type": "code",
   "execution_count": 8,
   "metadata": {
    "collapsed": false
   },
   "outputs": [
    {
     "data": {
      "text/plain": [
       "{('da.random.normal-43a1c1f9a216db2de0b58f8bb0f8ee0e',\n",
       "  0,\n",
       "  0,\n",
       "  0): (<function dask.array.random._apply_random>, 'normal', 263185378, (50,\n",
       "   50,\n",
       "   50), (10, 0.1), {}),\n",
       " ('da.random.normal-43a1c1f9a216db2de0b58f8bb0f8ee0e',\n",
       "  0,\n",
       "  0,\n",
       "  1): (<function dask.array.random._apply_random>, 'normal', 364105177, (50,\n",
       "   50,\n",
       "   50), (10, 0.1), {}),\n",
       " ('da.random.normal-43a1c1f9a216db2de0b58f8bb0f8ee0e',\n",
       "  0,\n",
       "  1,\n",
       "  0): (<function dask.array.random._apply_random>, 'normal', 702523900, (50,\n",
       "   50,\n",
       "   50), (10, 0.1), {}),\n",
       " ('da.random.normal-43a1c1f9a216db2de0b58f8bb0f8ee0e',\n",
       "  0,\n",
       "  1,\n",
       "  1): (<function dask.array.random._apply_random>, 'normal', 967925722, (50,\n",
       "   50,\n",
       "   50), (10, 0.1), {}),\n",
       " ('da.random.normal-43a1c1f9a216db2de0b58f8bb0f8ee0e',\n",
       "  1,\n",
       "  0,\n",
       "  0): (<function dask.array.random._apply_random>, 'normal', 1476928625, (50,\n",
       "   50,\n",
       "   50), (10, 0.1), {}),\n",
       " ('da.random.normal-43a1c1f9a216db2de0b58f8bb0f8ee0e',\n",
       "  1,\n",
       "  0,\n",
       "  1): (<function dask.array.random._apply_random>, 'normal', 1593901617, (50,\n",
       "   50,\n",
       "   50), (10, 0.1), {}),\n",
       " ('da.random.normal-43a1c1f9a216db2de0b58f8bb0f8ee0e',\n",
       "  1,\n",
       "  1,\n",
       "  0): (<function dask.array.random._apply_random>, 'normal', 1611343251, (50,\n",
       "   50,\n",
       "   50), (10, 0.1), {}),\n",
       " ('da.random.normal-43a1c1f9a216db2de0b58f8bb0f8ee0e',\n",
       "  1,\n",
       "  1,\n",
       "  1): (<function dask.array.random._apply_random>, 'normal', 1731327342, (50,\n",
       "   50,\n",
       "   50), (10, 0.1), {})}"
      ]
     },
     "execution_count": 8,
     "metadata": {},
     "output_type": "execute_result"
    }
   ],
   "source": [
    "# random 3D array \n",
    "x = da.random.normal(10, 0.1, size=(100, 100, 100), chunks=(50, 50, 50))\n",
    "x.dask"
   ]
  },
  {
   "cell_type": "code",
   "execution_count": 9,
   "metadata": {
    "collapsed": false
   },
   "outputs": [],
   "source": [
    "# squash to 2d but does not compute yet\n",
    "mean = x.mean(axis=0)\n",
    "#mean.dask"
   ]
  },
  {
   "cell_type": "code",
   "execution_count": 11,
   "metadata": {
    "collapsed": false
   },
   "outputs": [
    {
     "data": {
      "image/png": "",
      "text/plain": [
       "<IPython.core.display.Image object>"
      ]
     },
     "execution_count": 11,
     "metadata": {},
     "output_type": "execute_result"
    }
   ],
   "source": [
    "# see the diagram of the process\n",
    "dot_graph(mean.dask, format='png')"
   ]
  },
  {
   "cell_type": "code",
   "execution_count": null,
   "metadata": {
    "collapsed": true
   },
   "outputs": [],
   "source": []
  }
 ],
 "metadata": {
  "kernelspec": {
   "display_name": "Python 3",
   "language": "python",
   "name": "python3"
  },
  "language_info": {
   "codemirror_mode": {
    "name": "ipython",
    "version": 3
   },
   "file_extension": ".py",
   "mimetype": "text/x-python",
   "name": "python",
   "nbconvert_exporter": "python",
   "pygments_lexer": "ipython3",
   "version": "3.4.4"
  }
 },
 "nbformat": 4,
 "nbformat_minor": 0
}
