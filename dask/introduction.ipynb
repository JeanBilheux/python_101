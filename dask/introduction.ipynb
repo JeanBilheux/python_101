{
 "cells": [
  {
   "cell_type": "code",
   "execution_count": 3,
   "metadata": {
    "collapsed": false
   },
   "outputs": [],
   "source": [
    "import dask\n",
    "import dask.array as da"
   ]
  },
  {
   "cell_type": "markdown",
   "metadata": {},
   "source": [
    "How to construct a 20000x2000 array of normally distributed random values broekn up into 1000x1000 sized chunks."
   ]
  },
  {
   "cell_type": "code",
   "execution_count": 8,
   "metadata": {
    "collapsed": false
   },
   "outputs": [],
   "source": [
    "x = da.random.normal(10, 0.1, size=(20000, 20000),\n",
    "                    chunks=(1000, 1000))"
   ]
  },
  {
   "cell_type": "code",
   "execution_count": 9,
   "metadata": {
    "collapsed": false
   },
   "outputs": [],
   "source": [
    "result = x.mean()"
   ]
  },
  {
   "cell_type": "code",
   "execution_count": 11,
   "metadata": {
    "collapsed": false
   },
   "outputs": [],
   "source": [
    "from dask.dot import dot_graph\n",
    "import matplotlib.image as mpimg\n",
    "import matplotlib.pyplot as plt"
   ]
  },
  {
   "cell_type": "code",
   "execution_count": 12,
   "metadata": {
    "collapsed": true
   },
   "outputs": [],
   "source": [
    "%matplotlib inline"
   ]
  },
  {
   "cell_type": "code",
   "execution_count": 14,
   "metadata": {
    "collapsed": false
   },
   "outputs": [
    {
     "data": {
      "image/png": "",
      "text/plain": [
       "<IPython.core.display.Image object>"
      ]
     },
     "execution_count": 14,
     "metadata": {},
     "output_type": "execute_result"
    }
   ],
   "source": [
    "dot_graph(result.dask)\n",
    "#image = mpimg.imread(\"mydask.png\")\n",
    "#plt.figure(figsize=(15,8))\n",
    "#plt.imshow(image, aspect='auto')"
   ]
  },
  {
   "cell_type": "code",
   "execution_count": 21,
   "metadata": {
    "collapsed": true
   },
   "outputs": [],
   "source": [
    "import dask.array as da\n",
    "import matplotlib.pyplot as plt\n",
    "import matplotlib.image as mpimg\n",
    "import numpy as np\n",
    "from dask.dot import dot_graph"
   ]
  },
  {
   "cell_type": "code",
   "execution_count": 22,
   "metadata": {
    "collapsed": false
   },
   "outputs": [
    {
     "data": {
      "text/plain": [
       "{('da.random.normal-784be1d97e70b75a6ca73a0bf95dc34c',\n",
       "  0,\n",
       "  0,\n",
       "  0): (<function dask.array.random._apply_random>, 'normal', 32459707, (50,\n",
       "   50,\n",
       "   50), (10, 0.1), {}),\n",
       " ('da.random.normal-784be1d97e70b75a6ca73a0bf95dc34c',\n",
       "  0,\n",
       "  0,\n",
       "  1): (<function dask.array.random._apply_random>, 'normal', 68064680, (50,\n",
       "   50,\n",
       "   50), (10, 0.1), {}),\n",
       " ('da.random.normal-784be1d97e70b75a6ca73a0bf95dc34c',\n",
       "  0,\n",
       "  1,\n",
       "  0): (<function dask.array.random._apply_random>, 'normal', 313252345, (50,\n",
       "   50,\n",
       "   50), (10, 0.1), {}),\n",
       " ('da.random.normal-784be1d97e70b75a6ca73a0bf95dc34c',\n",
       "  0,\n",
       "  1,\n",
       "  1): (<function dask.array.random._apply_random>, 'normal', 471618119, (50,\n",
       "   50,\n",
       "   50), (10, 0.1), {}),\n",
       " ('da.random.normal-784be1d97e70b75a6ca73a0bf95dc34c',\n",
       "  1,\n",
       "  0,\n",
       "  0): (<function dask.array.random._apply_random>, 'normal', 1473186707, (50,\n",
       "   50,\n",
       "   50), (10, 0.1), {}),\n",
       " ('da.random.normal-784be1d97e70b75a6ca73a0bf95dc34c',\n",
       "  1,\n",
       "  0,\n",
       "  1): (<function dask.array.random._apply_random>, 'normal', 1643834463, (50,\n",
       "   50,\n",
       "   50), (10, 0.1), {}),\n",
       " ('da.random.normal-784be1d97e70b75a6ca73a0bf95dc34c',\n",
       "  1,\n",
       "  1,\n",
       "  0): (<function dask.array.random._apply_random>, 'normal', 1891298585, (50,\n",
       "   50,\n",
       "   50), (10, 0.1), {}),\n",
       " ('da.random.normal-784be1d97e70b75a6ca73a0bf95dc34c',\n",
       "  1,\n",
       "  1,\n",
       "  1): (<function dask.array.random._apply_random>, 'normal', 1974178257, (50,\n",
       "   50,\n",
       "   50), (10, 0.1), {})}"
      ]
     },
     "execution_count": 22,
     "metadata": {},
     "output_type": "execute_result"
    }
   ],
   "source": [
    "# Random 3D array (drop-in NumPy replacement)\n",
    "x = da.random.normal(10, 0.1, size=(100, 100, 100), chunks=(50, 50, 50))\n",
    "x.dask"
   ]
  },
  {
   "cell_type": "code",
   "execution_count": 23,
   "metadata": {
    "collapsed": false
   },
   "outputs": [
    {
     "data": {
      "text/plain": [
       "{('atop-a365a3b894b3e92f2ffee2765abf1561',\n",
       "  0,\n",
       "  0,\n",
       "  0): (functools.partial(<function mean_chunk at 0x10be7aae8>, axis=(0,), keepdims=True), ('da.random.normal-784be1d97e70b75a6ca73a0bf95dc34c',\n",
       "   0,\n",
       "   0,\n",
       "   0)),\n",
       " ('atop-a365a3b894b3e92f2ffee2765abf1561',\n",
       "  0,\n",
       "  0,\n",
       "  1): (functools.partial(<function mean_chunk at 0x10be7aae8>, axis=(0,), keepdims=True), ('da.random.normal-784be1d97e70b75a6ca73a0bf95dc34c',\n",
       "   0,\n",
       "   0,\n",
       "   1)),\n",
       " ('atop-a365a3b894b3e92f2ffee2765abf1561',\n",
       "  0,\n",
       "  1,\n",
       "  0): (functools.partial(<function mean_chunk at 0x10be7aae8>, axis=(0,), keepdims=True), ('da.random.normal-784be1d97e70b75a6ca73a0bf95dc34c',\n",
       "   0,\n",
       "   1,\n",
       "   0)),\n",
       " ('atop-a365a3b894b3e92f2ffee2765abf1561',\n",
       "  0,\n",
       "  1,\n",
       "  1): (functools.partial(<function mean_chunk at 0x10be7aae8>, axis=(0,), keepdims=True), ('da.random.normal-784be1d97e70b75a6ca73a0bf95dc34c',\n",
       "   0,\n",
       "   1,\n",
       "   1)),\n",
       " ('atop-a365a3b894b3e92f2ffee2765abf1561',\n",
       "  1,\n",
       "  0,\n",
       "  0): (functools.partial(<function mean_chunk at 0x10be7aae8>, axis=(0,), keepdims=True), ('da.random.normal-784be1d97e70b75a6ca73a0bf95dc34c',\n",
       "   1,\n",
       "   0,\n",
       "   0)),\n",
       " ('atop-a365a3b894b3e92f2ffee2765abf1561',\n",
       "  1,\n",
       "  0,\n",
       "  1): (functools.partial(<function mean_chunk at 0x10be7aae8>, axis=(0,), keepdims=True), ('da.random.normal-784be1d97e70b75a6ca73a0bf95dc34c',\n",
       "   1,\n",
       "   0,\n",
       "   1)),\n",
       " ('atop-a365a3b894b3e92f2ffee2765abf1561',\n",
       "  1,\n",
       "  1,\n",
       "  0): (functools.partial(<function mean_chunk at 0x10be7aae8>, axis=(0,), keepdims=True), ('da.random.normal-784be1d97e70b75a6ca73a0bf95dc34c',\n",
       "   1,\n",
       "   1,\n",
       "   0)),\n",
       " ('atop-a365a3b894b3e92f2ffee2765abf1561',\n",
       "  1,\n",
       "  1,\n",
       "  1): (functools.partial(<function mean_chunk at 0x10be7aae8>, axis=(0,), keepdims=True), ('da.random.normal-784be1d97e70b75a6ca73a0bf95dc34c',\n",
       "   1,\n",
       "   1,\n",
       "   1)),\n",
       " ('da.random.normal-784be1d97e70b75a6ca73a0bf95dc34c',\n",
       "  0,\n",
       "  0,\n",
       "  0): (<function dask.array.random._apply_random>, 'normal', 32459707, (50,\n",
       "   50,\n",
       "   50), (10, 0.1), {}),\n",
       " ('da.random.normal-784be1d97e70b75a6ca73a0bf95dc34c',\n",
       "  0,\n",
       "  0,\n",
       "  1): (<function dask.array.random._apply_random>, 'normal', 68064680, (50,\n",
       "   50,\n",
       "   50), (10, 0.1), {}),\n",
       " ('da.random.normal-784be1d97e70b75a6ca73a0bf95dc34c',\n",
       "  0,\n",
       "  1,\n",
       "  0): (<function dask.array.random._apply_random>, 'normal', 313252345, (50,\n",
       "   50,\n",
       "   50), (10, 0.1), {}),\n",
       " ('da.random.normal-784be1d97e70b75a6ca73a0bf95dc34c',\n",
       "  0,\n",
       "  1,\n",
       "  1): (<function dask.array.random._apply_random>, 'normal', 471618119, (50,\n",
       "   50,\n",
       "   50), (10, 0.1), {}),\n",
       " ('da.random.normal-784be1d97e70b75a6ca73a0bf95dc34c',\n",
       "  1,\n",
       "  0,\n",
       "  0): (<function dask.array.random._apply_random>, 'normal', 1473186707, (50,\n",
       "   50,\n",
       "   50), (10, 0.1), {}),\n",
       " ('da.random.normal-784be1d97e70b75a6ca73a0bf95dc34c',\n",
       "  1,\n",
       "  0,\n",
       "  1): (<function dask.array.random._apply_random>, 'normal', 1643834463, (50,\n",
       "   50,\n",
       "   50), (10, 0.1), {}),\n",
       " ('da.random.normal-784be1d97e70b75a6ca73a0bf95dc34c',\n",
       "  1,\n",
       "  1,\n",
       "  0): (<function dask.array.random._apply_random>, 'normal', 1891298585, (50,\n",
       "   50,\n",
       "   50), (10, 0.1), {}),\n",
       " ('da.random.normal-784be1d97e70b75a6ca73a0bf95dc34c',\n",
       "  1,\n",
       "  1,\n",
       "  1): (<function dask.array.random._apply_random>, 'normal', 1974178257, (50,\n",
       "   50,\n",
       "   50), (10, 0.1), {}),\n",
       " ('p_reduce-e866acb74cd2759383dbf9f133f535f6',\n",
       "  0,\n",
       "  0): (<toolz.functoolz.Compose at 0x1184210f0>, [('atop-a365a3b894b3e92f2ffee2765abf1561',\n",
       "    0,\n",
       "    0,\n",
       "    0),\n",
       "   ('atop-a365a3b894b3e92f2ffee2765abf1561', 1, 0, 0)]),\n",
       " ('p_reduce-e866acb74cd2759383dbf9f133f535f6',\n",
       "  0,\n",
       "  1): (<toolz.functoolz.Compose at 0x1184210f0>, [('atop-a365a3b894b3e92f2ffee2765abf1561',\n",
       "    0,\n",
       "    0,\n",
       "    1),\n",
       "   ('atop-a365a3b894b3e92f2ffee2765abf1561', 1, 0, 1)]),\n",
       " ('p_reduce-e866acb74cd2759383dbf9f133f535f6',\n",
       "  1,\n",
       "  0): (<toolz.functoolz.Compose at 0x1184210f0>, [('atop-a365a3b894b3e92f2ffee2765abf1561',\n",
       "    0,\n",
       "    1,\n",
       "    0),\n",
       "   ('atop-a365a3b894b3e92f2ffee2765abf1561', 1, 1, 0)]),\n",
       " ('p_reduce-e866acb74cd2759383dbf9f133f535f6',\n",
       "  1,\n",
       "  1): (<toolz.functoolz.Compose at 0x1184210f0>, [('atop-a365a3b894b3e92f2ffee2765abf1561',\n",
       "    0,\n",
       "    1,\n",
       "    1),\n",
       "   ('atop-a365a3b894b3e92f2ffee2765abf1561', 1, 1, 1)])}"
      ]
     },
     "execution_count": 23,
     "metadata": {},
     "output_type": "execute_result"
    }
   ],
   "source": [
    "\n",
    "# Squash to 2D (DO not compute!)\n",
    "mean = x.mean(axis=0)\n",
    "mean.dask"
   ]
  },
  {
   "cell_type": "code",
   "execution_count": 24,
   "metadata": {
    "collapsed": false
   },
   "outputs": [
    {
     "ename": "OSError",
     "evalue": "error reading PNG header",
     "output_type": "error",
     "traceback": [
      "\u001b[0;31m---------------------------------------------------------------------------\u001b[0m",
      "\u001b[0;31mOSError\u001b[0m                                   Traceback (most recent call last)",
      "\u001b[0;32m<ipython-input-24-feabc4fa52b5>\u001b[0m in \u001b[0;36m<module>\u001b[0;34m()\u001b[0m\n\u001b[1;32m      1\u001b[0m \u001b[0;31m# See the plot!\u001b[0m\u001b[0;34m\u001b[0m\u001b[0;34m\u001b[0m\u001b[0m\n\u001b[1;32m      2\u001b[0m \u001b[0mdot_graph\u001b[0m\u001b[0;34m(\u001b[0m\u001b[0mmean\u001b[0m\u001b[0;34m.\u001b[0m\u001b[0mdask\u001b[0m\u001b[0;34m)\u001b[0m\u001b[0;34m\u001b[0m\u001b[0m\n\u001b[0;32m----> 3\u001b[0;31m \u001b[0mimage\u001b[0m \u001b[0;34m=\u001b[0m \u001b[0mmpimg\u001b[0m\u001b[0;34m.\u001b[0m\u001b[0mimread\u001b[0m\u001b[0;34m(\u001b[0m\u001b[0;34m\"mydask.png\"\u001b[0m\u001b[0;34m)\u001b[0m\u001b[0;34m\u001b[0m\u001b[0m\n\u001b[0m\u001b[1;32m      4\u001b[0m \u001b[0mplt\u001b[0m\u001b[0;34m.\u001b[0m\u001b[0mfigure\u001b[0m\u001b[0;34m(\u001b[0m\u001b[0mfigsize\u001b[0m \u001b[0;34m=\u001b[0m \u001b[0;34m(\u001b[0m\u001b[0;36m15\u001b[0m\u001b[0;34m,\u001b[0m\u001b[0;36m8\u001b[0m\u001b[0;34m)\u001b[0m\u001b[0;34m)\u001b[0m\u001b[0;34m\u001b[0m\u001b[0m\n\u001b[1;32m      5\u001b[0m \u001b[0mplt\u001b[0m\u001b[0;34m.\u001b[0m\u001b[0mimshow\u001b[0m\u001b[0;34m(\u001b[0m\u001b[0mimage\u001b[0m\u001b[0;34m,\u001b[0m \u001b[0maspect\u001b[0m\u001b[0;34m=\u001b[0m\u001b[0;34m'auto'\u001b[0m\u001b[0;34m)\u001b[0m\u001b[0;34m\u001b[0m\u001b[0m\n",
      "\u001b[0;32m/Users/j35/anaconda/lib/python3.4/site-packages/matplotlib/image.py\u001b[0m in \u001b[0;36mimread\u001b[0;34m(fname, format)\u001b[0m\n\u001b[1;32m   1322\u001b[0m         \u001b[0;32melse\u001b[0m\u001b[0;34m:\u001b[0m\u001b[0;34m\u001b[0m\u001b[0m\n\u001b[1;32m   1323\u001b[0m             \u001b[0;32mwith\u001b[0m \u001b[0mopen\u001b[0m\u001b[0;34m(\u001b[0m\u001b[0mfname\u001b[0m\u001b[0;34m,\u001b[0m \u001b[0;34m'rb'\u001b[0m\u001b[0;34m)\u001b[0m \u001b[0;32mas\u001b[0m \u001b[0mfd\u001b[0m\u001b[0;34m:\u001b[0m\u001b[0;34m\u001b[0m\u001b[0m\n\u001b[0;32m-> 1324\u001b[0;31m                 \u001b[0;32mreturn\u001b[0m \u001b[0mhandler\u001b[0m\u001b[0;34m(\u001b[0m\u001b[0mfd\u001b[0m\u001b[0;34m)\u001b[0m\u001b[0;34m\u001b[0m\u001b[0m\n\u001b[0m\u001b[1;32m   1325\u001b[0m     \u001b[0;32melse\u001b[0m\u001b[0;34m:\u001b[0m\u001b[0;34m\u001b[0m\u001b[0m\n\u001b[1;32m   1326\u001b[0m         \u001b[0;32mreturn\u001b[0m \u001b[0mhandler\u001b[0m\u001b[0;34m(\u001b[0m\u001b[0mfname\u001b[0m\u001b[0;34m)\u001b[0m\u001b[0;34m\u001b[0m\u001b[0m\n",
      "\u001b[0;31mOSError\u001b[0m: error reading PNG header"
     ]
    }
   ],
   "source": [
    "# See the plot!\n",
    "dot_graph(mean.dask)\n",
    "image = mpimg.imread(\"mydask.png\")\n",
    "plt.figure(figsize = (15,8))\n",
    "plt.imshow(image, aspect='auto')"
   ]
  },
  {
   "cell_type": "code",
   "execution_count": null,
   "metadata": {
    "collapsed": true
   },
   "outputs": [],
   "source": []
  }
 ],
 "metadata": {
  "kernelspec": {
   "display_name": "Python 2",
   "language": "python",
   "name": "python2"
  },
  "language_info": {
   "codemirror_mode": {
    "name": "ipython",
    "version": 2
   },
   "file_extension": ".py",
   "mimetype": "text/x-python",
   "name": "python",
   "nbconvert_exporter": "python",
   "pygments_lexer": "ipython2",
   "version": "2.7.11"
  }
 },
 "nbformat": 4,
 "nbformat_minor": 0
}
