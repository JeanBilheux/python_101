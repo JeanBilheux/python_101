{
 "cells": [
  {
   "cell_type": "markdown",
   "metadata": {},
   "source": [
    "### Dask - Out-of-core NumPy/Pandas through Taks Scheduling"
   ]
  },
  {
   "cell_type": "markdown",
   "metadata": {},
   "source": [
    "* Talk from SciPy is [here](https://speakerdeck.com/jcrist/pandas-through-task-scheduling)\n",
    "* introduction\n",
    "    * [notebook](introduction.ipynb)\n",
    "* Demo with big arrays\n",
    "    * [document](http://earthpy.org/dask.html) \n",
    "    * [notebook](array_bigger_than_memory.ipynb)\n",
    "* video tutorials\n",
    "    * [PyData - Seattle 2015](https://www.youtube.com/watch?v=ieW3G7ZzRZ0)\n",
    "* tutorials\n",
    "    * [Pythonic Perambulations](https://jakevdp.github.io/blog/2015/08/14/out-of-core-dataframes-in-python/)\n",
    "    * [github Dask](https://github.com/blaze/dask-tutorial)"
   ]
  }
 ],
 "metadata": {
  "kernelspec": {
   "display_name": "Python 3",
   "language": "python",
   "name": "python3"
  },
  "language_info": {
   "codemirror_mode": {
    "name": "ipython",
    "version": 3
   },
   "file_extension": ".py",
   "mimetype": "text/x-python",
   "name": "python",
   "nbconvert_exporter": "python",
   "pygments_lexer": "ipython3",
   "version": "3.4.4"
  }
 },
 "nbformat": 4,
 "nbformat_minor": 0
}
