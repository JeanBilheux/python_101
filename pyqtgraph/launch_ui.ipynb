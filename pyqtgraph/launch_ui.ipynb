{
 "cells": [
  {
   "cell_type": "markdown",
   "metadata": {
    "run_control": {
     "frozen": false,
     "read_only": false
    }
   },
   "source": [
    "# Select Your IPTS"
   ]
  },
  {
   "cell_type": "code",
   "execution_count": 1,
   "metadata": {
    "run_control": {
     "frozen": false,
     "read_only": false
    }
   },
   "outputs": [],
   "source": [
    "from roi_selection_ui import Interface\n",
    "import glob"
   ]
  },
  {
   "cell_type": "code",
   "execution_count": 2,
   "metadata": {
    "run_control": {
     "frozen": false,
     "read_only": false
    }
   },
   "outputs": [],
   "source": [
    "%gui qt"
   ]
  },
  {
   "cell_type": "markdown",
   "metadata": {
    "run_control": {
     "frozen": false,
     "read_only": false
    }
   },
   "source": [
    "# launch UI"
   ]
  },
  {
   "cell_type": "code",
   "execution_count": 3,
   "metadata": {},
   "outputs": [
    {
     "name": "stdout",
     "output_type": "stream",
     "text": [
      "mouse clicked\n",
      "image_pos =PyQt5.QtCore.QPointF(45.511111111111234, 26.89292929292941)\n",
      "mouse clicked\n",
      "image_pos =PyQt5.QtCore.QPointF(-57.92323232323224, -47.57979797979786)\n",
      "mouse clicked\n",
      "image_pos =PyQt5.QtCore.QPointF(-28.961616161616064, -18.61818181818171)\n",
      "mouse clicked\n",
      "image_pos =PyQt5.QtCore.QPointF(12.412121212121292, 51.71717171717185)\n",
      "mouse clicked\n",
      "image_pos =PyQt5.QtCore.QPointF(8.274747474747585, 80.67878787878803)\n",
      "mouse clicked\n",
      "image_pos =PyQt5.QtCore.QPointF(8.274747474747585, 80.67878787878803)\n",
      "mouse clicked\n",
      "image_pos =PyQt5.QtCore.QPointF(4.137373737373821, 101.36565656565668)\n",
      "mouse clicked\n",
      "image_pos =PyQt5.QtCore.QPointF(4.137373737373821, 122.05252525252538)\n",
      "mouse clicked\n",
      "image_pos =PyQt5.QtCore.QPointF(4.137373737373821, 146.8767676767678)\n",
      "mouse clicked\n",
      "image_pos =PyQt5.QtCore.QPointF(4.137373737373821, 179.97575757575774)\n",
      "mouse clicked\n",
      "image_pos =PyQt5.QtCore.QPointF(78.96852550480389, 68.26123795719388)\n",
      "mouse clicked\n",
      "image_pos =PyQt5.QtCore.QPointF(3.9576502546665324, 15.312384839449834)\n",
      "mouse clicked\n",
      "image_pos =PyQt5.QtCore.QPointF(3.9576502546665324, 15.312384839449834)\n",
      "mouse clicked\n",
      "image_pos =PyQt5.QtCore.QPointF(0.5872206130864512, 0.7719119139761386)\n",
      "mouse clicked\n",
      "image_pos =PyQt5.QtCore.QPointF(4.766079156787853, 2.7006158572229424)\n",
      "mouse clicked\n",
      "image_pos =PyQt5.QtCore.QPointF(-453.8680203560256, -98.1329973316677)\n"
     ]
    }
   ],
   "source": [
    "list_files_to_load = glob.glob(\"../data/tiff/*.tiff\")\n",
    "\n",
    "o_template = Interface(list_files=list_files_to_load)\n",
    "o_template.show()"
   ]
  },
  {
   "cell_type": "code",
   "execution_count": 4,
   "metadata": {},
   "outputs": [],
   "source": [
    "image_item = o_template.image_item"
   ]
  },
  {
   "cell_type": "code",
   "execution_count": 5,
   "metadata": {},
   "outputs": [],
   "source": [
    "scene = image_item.scene()"
   ]
  },
  {
   "cell_type": "code",
   "execution_count": 6,
   "metadata": {},
   "outputs": [
    {
     "data": {
      "text/plain": [
       "<pyqtgraph.GraphicsScene.GraphicsScene.GraphicsScene at 0x7fd8fa16a5e0>"
      ]
     },
     "execution_count": 6,
     "metadata": {},
     "output_type": "execute_result"
    }
   ],
   "source": [
    "scene.sigMouseClicked"
   ]
  },
  {
   "cell_type": "code",
   "execution_count": 4,
   "metadata": {
    "run_control": {
     "frozen": false,
     "read_only": false
    }
   },
   "outputs": [],
   "source": [
    "image_item = o_template.ui.image_view.getImageItem()"
   ]
  },
  {
   "cell_type": "code",
   "execution_count": null,
   "metadata": {},
   "outputs": [],
   "source": [
    "image_item."
   ]
  }
 ],
 "metadata": {
  "anaconda-cloud": {},
  "kernelspec": {
   "display_name": "Python 3 (ipykernel)",
   "language": "python",
   "name": "python3"
  },
  "language_info": {
   "codemirror_mode": {
    "name": "ipython",
    "version": 3
   },
   "file_extension": ".py",
   "mimetype": "text/x-python",
   "name": "python",
   "nbconvert_exporter": "python",
   "pygments_lexer": "ipython3",
   "version": "3.8.13"
  },
  "toc": {
   "colors": {
    "hover_highlight": "#DAA520",
    "running_highlight": "#FF0000",
    "selected_highlight": "#FFD700"
   },
   "moveMenuLeft": true,
   "nav_menu": {
    "height": "12px",
    "width": "252px"
   },
   "navigate_menu": true,
   "number_sections": true,
   "sideBar": true,
   "threshold": 4,
   "toc_cell": false,
   "toc_section_display": "block",
   "toc_window_display": false
  }
 },
 "nbformat": 4,
 "nbformat_minor": 1
}
