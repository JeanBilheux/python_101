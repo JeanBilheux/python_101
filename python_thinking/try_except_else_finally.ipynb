{
 "cells": [
  {
   "cell_type": "markdown",
   "metadata": {},
   "source": [
    "## finally block"
   ]
  },
  {
   "cell_type": "markdown",
   "metadata": {},
   "source": [
    "use **try/finally** when we want to catch an exception but also do some cleaning before propaging the error"
   ]
  },
  {
   "cell_type": "code",
   "execution_count": 7,
   "metadata": {
    "collapsed": false
   },
   "outputs": [],
   "source": [
    "handle = open('data/my_file.txt')\n",
    "try:\n",
    "    data = handle.read()\n",
    "finally:\n",
    "    handle.close()    #always run after try"
   ]
  },
  {
   "cell_type": "markdown",
   "metadata": {},
   "source": [
    "## else block "
   ]
  },
  {
   "cell_type": "markdown",
   "metadata": {},
   "source": [
    "use **try/except/else**\n",
    "\n",
    "if no exceptions are raised, else is ran... making the code cleaner and minimizing the code to handle inside *try*"
   ]
  },
  {
   "cell_type": "code",
   "execution_count": 20,
   "metadata": {
    "collapsed": true
   },
   "outputs": [],
   "source": [
    "def test_me(variable):\n",
    "    print(\"Working with \" ,variable)\n",
    "    try:\n",
    "        sum = variable + 5\n",
    "    except:\n",
    "        print(\"Value Error\")\n",
    "    else:\n",
    "        print(\"Value is %d\" %sum)"
   ]
  },
  {
   "cell_type": "code",
   "execution_count": 21,
   "metadata": {
    "collapsed": false
   },
   "outputs": [
    {
     "name": "stdout",
     "output_type": "stream",
     "text": [
      "Working with  a\n",
      "Value Error\n",
      "Working with  5\n",
      "Value is 10\n"
     ]
    }
   ],
   "source": [
    "a = 'a'\n",
    "test_me(a)\n",
    "\n",
    "b = 5\n",
    "test_me(b)"
   ]
  },
  {
   "cell_type": "code",
   "execution_count": null,
   "metadata": {
    "collapsed": true
   },
   "outputs": [],
   "source": []
  }
 ],
 "metadata": {
  "kernelspec": {
   "display_name": "Python 3",
   "language": "python",
   "name": "python3"
  },
  "language_info": {
   "codemirror_mode": {
    "name": "ipython",
    "version": 3
   },
   "file_extension": ".py",
   "mimetype": "text/x-python",
   "name": "python",
   "nbconvert_exporter": "python",
   "pygments_lexer": "ipython3",
   "version": "3.4.3"
  }
 },
 "nbformat": 4,
 "nbformat_minor": 0
}
