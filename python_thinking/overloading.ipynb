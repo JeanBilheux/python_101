{
 "cells": [
  {
   "cell_type": "markdown",
   "metadata": {},
   "source": [
    "Documentation for this tutorial was found [here](https://arpitbhayani.me/blogs/function-overloading)\n",
    "\n",
    "and code is [here](https://repl.it/@arpitbbhayani/Python-Function-Overloading)"
   ]
  },
  {
   "cell_type": "code",
   "execution_count": 1,
   "metadata": {},
   "outputs": [
    {
     "ename": "IndentationError",
     "evalue": "expected an indented block (overload.py, line 52)",
     "output_type": "error",
     "traceback": [
      "Traceback \u001b[0;36m(most recent call last)\u001b[0m:\n",
      "  File \u001b[1;32m\"//miniconda3/envs/py36/lib/python3.6/site-packages/IPython/core/interactiveshell.py\"\u001b[0m, line \u001b[1;32m3326\u001b[0m, in \u001b[1;35mrun_code\u001b[0m\n    exec(code_obj, self.user_global_ns, self.user_ns)\n",
      "\u001b[0;36m  File \u001b[0;32m\"<ipython-input-1-550b9cbe696c>\"\u001b[0;36m, line \u001b[0;32m1\u001b[0;36m, in \u001b[0;35m<module>\u001b[0;36m\u001b[0m\n\u001b[0;31m    from overload import overload\u001b[0m\n",
      "\u001b[0;36m  File \u001b[0;32m\"/Users/j35/git/python_101/python_thinking/overload.py\"\u001b[0;36m, line \u001b[0;32m52\u001b[0m\n\u001b[0;31m    self.function_map = dict()\u001b[0m\n\u001b[0m       ^\u001b[0m\n\u001b[0;31mIndentationError\u001b[0m\u001b[0;31m:\u001b[0m expected an indented block\n"
     ]
    }
   ],
   "source": [
    "from overload import overload"
   ]
  },
  {
   "cell_type": "code",
   "execution_count": 86,
   "metadata": {},
   "outputs": [
    {
     "name": "stdout",
     "output_type": "stream",
     "text": [
      "area of cuboid with dimension (4, 3, 6) is: 13\n",
      "area of rectangle with dimension (7, 2) is: 14\n",
      "area of circle with radius 7 is: 153.93804002589985\n",
      "area of nothing is: 0\n",
      "volume of cuboid with dimension (4, 3, 6) is: 72\n"
     ]
    }
   ],
   "source": [
    "from overload import overload\n",
    "\n",
    "@overload\n",
    "def area(length, breadth):\n",
    "  return length * breadth\n",
    "\n",
    "\n",
    "@overload\n",
    "def area(radius):\n",
    "  import math\n",
    "  return math.pi * radius ** 2\n",
    "\n",
    "\n",
    "@overload\n",
    "def area(length, breadth, height):\n",
    "  return 2 * (length * breadth + breadth * height + height * length)\n",
    "\n",
    "\n",
    "@overload\n",
    "def volume(length, breadth, height):\n",
    "  return length * breadth * height\n",
    "\n",
    "\n",
    "@overload\n",
    "def area(length, breadth, height):\n",
    "  return length + breadth + height\n",
    "\n",
    "\n",
    "@overload\n",
    "def area():\n",
    "  return 0\n",
    "\n",
    "\n",
    "print(f\"area of cuboid with dimension (4, 3, 6) is: {area(4, 3, 6)}\")\n",
    "print(f\"area of rectangle with dimension (7, 2) is: {area(7, 2)}\")\n",
    "print(f\"area of circle with radius 7 is: {area(7)}\")\n",
    "print(f\"area of nothing is: {area()}\")\n",
    "print(f\"volume of cuboid with dimension (4, 3, 6) is: {volume(4, 3, 6)}\")\n"
   ]
  },
  {
   "cell_type": "markdown",
   "metadata": {},
   "source": [
    "## Sandbox region"
   ]
  },
  {
   "cell_type": "markdown",
   "metadata": {},
   "source": [
    "This is what needs to be implemented to make this class a singleton. Only one instance can be instanciated at the time"
   ]
  },
  {
   "cell_type": "code",
   "execution_count": 1,
   "metadata": {},
   "outputs": [],
   "source": [
    "class Namespace(object):\n",
    "  \"\"\"Namespace is the singleton class that is responsible\n",
    "  for holding all the functions.\n",
    "  \"\"\"\n",
    "  __instance = None\n",
    "\n",
    "  def __init__(self):\n",
    "    if self.__instance is None:\n",
    "      self.function_map = dict()\n",
    "      Namespace.__instance = self\n",
    "    else:\n",
    "      raise Exception(\"cannot instantiate Namespace again.\")\n",
    "\n",
    "#   @staticmethod\n",
    "#   def get_instance():\n",
    "#     if Namespace.__instance is None:\n",
    "#       Namespace()\n",
    "#     return Namespace.__instance"
   ]
  },
  {
   "cell_type": "code",
   "execution_count": 2,
   "metadata": {},
   "outputs": [],
   "source": [
    "first_namespace = Namespace()"
   ]
  },
  {
   "cell_type": "markdown",
   "metadata": {},
   "source": [
    "This is just to illustrate that we can not instantiate Namespace twice"
   ]
  },
  {
   "cell_type": "code",
   "execution_count": 3,
   "metadata": {},
   "outputs": [
    {
     "ename": "Exception",
     "evalue": "cannot instantiate Namespace again.",
     "output_type": "error",
     "traceback": [
      "\u001b[0;31m---------------------------------------------------------------------------\u001b[0m",
      "\u001b[0;31mException\u001b[0m                                 Traceback (most recent call last)",
      "\u001b[0;32m<ipython-input-3-52e72f58b248>\u001b[0m in \u001b[0;36m<module>\u001b[0;34m\u001b[0m\n\u001b[0;32m----> 1\u001b[0;31m \u001b[0msecond_namespace\u001b[0m \u001b[0;34m=\u001b[0m \u001b[0mNamespace\u001b[0m\u001b[0;34m(\u001b[0m\u001b[0;34m)\u001b[0m\u001b[0;34m\u001b[0m\u001b[0;34m\u001b[0m\u001b[0m\n\u001b[0m",
      "\u001b[0;32m<ipython-input-1-28ffdc1dad18>\u001b[0m in \u001b[0;36m__init__\u001b[0;34m(self)\u001b[0m\n\u001b[1;32m     10\u001b[0m       \u001b[0mNamespace\u001b[0m\u001b[0;34m.\u001b[0m\u001b[0m__instance\u001b[0m \u001b[0;34m=\u001b[0m \u001b[0mself\u001b[0m\u001b[0;34m\u001b[0m\u001b[0;34m\u001b[0m\u001b[0m\n\u001b[1;32m     11\u001b[0m     \u001b[0;32melse\u001b[0m\u001b[0;34m:\u001b[0m\u001b[0;34m\u001b[0m\u001b[0;34m\u001b[0m\u001b[0m\n\u001b[0;32m---> 12\u001b[0;31m       \u001b[0;32mraise\u001b[0m \u001b[0mException\u001b[0m\u001b[0;34m(\u001b[0m\u001b[0;34m\"cannot instantiate Namespace again.\"\u001b[0m\u001b[0;34m)\u001b[0m\u001b[0;34m\u001b[0m\u001b[0;34m\u001b[0m\u001b[0m\n\u001b[0m\u001b[1;32m     13\u001b[0m \u001b[0;34m\u001b[0m\u001b[0m\n\u001b[1;32m     14\u001b[0m \u001b[0;31m#   @staticmethod\u001b[0m\u001b[0;34m\u001b[0m\u001b[0;34m\u001b[0m\u001b[0;34m\u001b[0m\u001b[0m\n",
      "\u001b[0;31mException\u001b[0m: cannot instantiate Namespace again."
     ]
    }
   ],
   "source": [
    "second_namespace = Namespace() "
   ]
  },
  {
   "cell_type": "markdown",
   "metadata": {},
   "source": [
    "\\_\\_instance is a private class variable, so trying to read it will raise an **AttributeError**"
   ]
  },
  {
   "cell_type": "code",
   "execution_count": 29,
   "metadata": {},
   "outputs": [
    {
     "ename": "AttributeError",
     "evalue": "'Namespace' object has no attribute '__instance'",
     "output_type": "error",
     "traceback": [
      "\u001b[0;31m---------------------------------------------------------------------------\u001b[0m",
      "\u001b[0;31mAttributeError\u001b[0m                            Traceback (most recent call last)",
      "\u001b[0;32m<ipython-input-29-9d5c594e94fa>\u001b[0m in \u001b[0;36m<module>\u001b[0;34m\u001b[0m\n\u001b[0;32m----> 1\u001b[0;31m \u001b[0mfirst_namespace\u001b[0m\u001b[0;34m.\u001b[0m\u001b[0m__instance\u001b[0m\u001b[0;34m\u001b[0m\u001b[0;34m\u001b[0m\u001b[0m\n\u001b[0m",
      "\u001b[0;31mAttributeError\u001b[0m: 'Namespace' object has no attribute '__instance'"
     ]
    }
   ],
   "source": [
    "first_namespace.__instance "
   ]
  },
  {
   "cell_type": "markdown",
   "metadata": {},
   "source": [
    "I'm trying to see if I can instantiate another one after deleting the first one"
   ]
  },
  {
   "cell_type": "code",
   "execution_count": 7,
   "metadata": {},
   "outputs": [],
   "source": [
    "class Namespace_del:\n",
    "  \"\"\"Namespace is the singleton class that is responsible\n",
    "  for holding all the functions.\n",
    "  \"\"\"\n",
    "  __instance = None\n",
    "\n",
    "  def __init__(self):\n",
    "    class_name = self.__class__.__name__\n",
    "    if self.__instance is None:\n",
    "      self.function_map = dict()\n",
    "      Namespace_del.__instance = self\n",
    "    else:\n",
    "      raise Exception(\"cannot instantiate {} again.\".format(class_name))\n",
    "\n",
    "  def __del__(self):\n",
    "    print(\"hererererer\")\n",
    "    Namespace_del.__instance = None"
   ]
  },
  {
   "cell_type": "code",
   "execution_count": 8,
   "metadata": {},
   "outputs": [],
   "source": [
    "first_name_del = Namespace_del()"
   ]
  },
  {
   "cell_type": "code",
   "execution_count": 9,
   "metadata": {},
   "outputs": [
    {
     "ename": "Exception",
     "evalue": "cannot instantiate Namespace_del again.",
     "output_type": "error",
     "traceback": [
      "\u001b[0;31m---------------------------------------------------------------------------\u001b[0m",
      "\u001b[0;31mException\u001b[0m                                 Traceback (most recent call last)",
      "\u001b[0;32m<ipython-input-9-8a0bc93aefac>\u001b[0m in \u001b[0;36m<module>\u001b[0;34m\u001b[0m\n\u001b[0;32m----> 1\u001b[0;31m \u001b[0msecond_name_del\u001b[0m \u001b[0;34m=\u001b[0m \u001b[0mNamespace_del\u001b[0m\u001b[0;34m(\u001b[0m\u001b[0;34m)\u001b[0m\u001b[0;34m\u001b[0m\u001b[0;34m\u001b[0m\u001b[0m\n\u001b[0m",
      "\u001b[0;32m<ipython-input-7-283e5529354c>\u001b[0m in \u001b[0;36m__init__\u001b[0;34m(self)\u001b[0m\n\u001b[1;32m     11\u001b[0m       \u001b[0mNamespace_del\u001b[0m\u001b[0;34m.\u001b[0m\u001b[0m__instance\u001b[0m \u001b[0;34m=\u001b[0m \u001b[0mself\u001b[0m\u001b[0;34m\u001b[0m\u001b[0;34m\u001b[0m\u001b[0m\n\u001b[1;32m     12\u001b[0m     \u001b[0;32melse\u001b[0m\u001b[0;34m:\u001b[0m\u001b[0;34m\u001b[0m\u001b[0;34m\u001b[0m\u001b[0m\n\u001b[0;32m---> 13\u001b[0;31m       \u001b[0;32mraise\u001b[0m \u001b[0mException\u001b[0m\u001b[0;34m(\u001b[0m\u001b[0;34m\"cannot instantiate {} again.\"\u001b[0m\u001b[0;34m.\u001b[0m\u001b[0mformat\u001b[0m\u001b[0;34m(\u001b[0m\u001b[0mclass_name\u001b[0m\u001b[0;34m)\u001b[0m\u001b[0;34m)\u001b[0m\u001b[0;34m\u001b[0m\u001b[0;34m\u001b[0m\u001b[0m\n\u001b[0m\u001b[1;32m     14\u001b[0m \u001b[0;34m\u001b[0m\u001b[0m\n\u001b[1;32m     15\u001b[0m   \u001b[0;32mdef\u001b[0m \u001b[0m__del__\u001b[0m\u001b[0;34m(\u001b[0m\u001b[0mself\u001b[0m\u001b[0;34m)\u001b[0m\u001b[0;34m:\u001b[0m\u001b[0;34m\u001b[0m\u001b[0;34m\u001b[0m\u001b[0m\n",
      "\u001b[0;31mException\u001b[0m: cannot instantiate Namespace_del again."
     ]
    }
   ],
   "source": [
    "second_name_del = Namespace_del()"
   ]
  },
  {
   "cell_type": "markdown",
   "metadata": {},
   "source": [
    "**Answer**: \n",
    "\n",
    "No. \\_\\_del__ method is never called !"
   ]
  },
  {
   "cell_type": "markdown",
   "metadata": {},
   "source": [
    "## Playing now with the Function class"
   ]
  },
  {
   "cell_type": "code",
   "execution_count": 11,
   "metadata": {},
   "outputs": [],
   "source": [
    "class Function(object):\n",
    "  \"\"\"Function is a wrap over standard python function\n",
    "\n",
    "  An instance of this Function class is also callable\n",
    "  just like the python function that it wrapped.\n",
    "  When the instance is \"called\" like a function it fetches\n",
    "  the function to be invoked from the virtual namespace and then\n",
    "  invokes the same.\n",
    "  \"\"\"\n",
    "  def __init__(self, fn):\n",
    "    self.fn = fn\n",
    "  \n",
    "  def __call__(self, *args, **kwargs):\n",
    "    \"\"\"Overriding the __call__ function which makes the\n",
    "    instance callable.\n",
    "    \"\"\"\n",
    "    # fetching the function to be invoked from the virtual namespace\n",
    "    # through the arguments.\n",
    "    fn = Namespace.get_instance().get(self.fn, *args)\n",
    "    if not fn:\n",
    "      raise Exception(\"no matching function found.\")\n",
    "\n",
    "    # invoking the wrapped function and returning the value.\n",
    "    return fn(*args, **kwargs)\n",
    "\n",
    "  def key(self, args=None):\n",
    "    \"\"\"Returns the key that will uniquely identifies\n",
    "    a function (even when it is overloaded).\n",
    "    \"\"\"\n",
    "    if args is None:\n",
    "      args = getfullargspec(self.fn).args\n",
    "\n",
    "    return tuple([\n",
    "      self.fn.__module__,\n",
    "      self.fn.__class__,\n",
    "      self.fn.__name__,\n",
    "      len(args or []),\n",
    "    ])"
   ]
  },
  {
   "cell_type": "markdown",
   "metadata": {},
   "source": [
    "How the getfullargspec works"
   ]
  },
  {
   "cell_type": "code",
   "execution_count": 16,
   "metadata": {},
   "outputs": [],
   "source": [
    "from inspect import getfullargspec"
   ]
  },
  {
   "cell_type": "code",
   "execution_count": 17,
   "metadata": {},
   "outputs": [],
   "source": [
    "def my_function(a,b=0,c=6):\n",
    "    return a+b+c"
   ]
  },
  {
   "cell_type": "code",
   "execution_count": 18,
   "metadata": {},
   "outputs": [
    {
     "data": {
      "text/plain": [
       "FullArgSpec(args=['a', 'b', 'c'], varargs=None, varkw=None, defaults=(0, 6), kwonlyargs=[], kwonlydefaults=None, annotations={})"
      ]
     },
     "execution_count": 18,
     "metadata": {},
     "output_type": "execute_result"
    }
   ],
   "source": [
    "getfullargspec(my_function)"
   ]
  },
  {
   "cell_type": "code",
   "execution_count": 19,
   "metadata": {},
   "outputs": [
    {
     "data": {
      "text/plain": [
       "['a', 'b', 'c']"
      ]
     },
     "execution_count": 19,
     "metadata": {},
     "output_type": "execute_result"
    }
   ],
   "source": [
    "getfullargspec(my_function).args"
   ]
  },
  {
   "cell_type": "code",
   "execution_count": null,
   "metadata": {},
   "outputs": [],
   "source": []
  }
 ],
 "metadata": {
  "kernelspec": {
   "display_name": "Python 3",
   "language": "python",
   "name": "python3"
  }
 },
 "nbformat": 4,
 "nbformat_minor": 2
}
