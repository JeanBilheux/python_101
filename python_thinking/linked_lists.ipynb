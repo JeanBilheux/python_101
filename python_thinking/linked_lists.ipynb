{
 "cells": [
  {
   "cell_type": "markdown",
   "metadata": {},
   "source": [
    "Full tutorial can be found [here](https://stackabuse.com/python-linked-lists/)\n"
   ]
  },
  {
   "cell_type": "markdown",
   "metadata": {},
   "source": [
    "Linked list is one of the most common, and simplest one, data structures used in computer science. It's the fundamental for other higher level structure such as **stacks**, **circular buffers** and **queues**"
   ]
  },
  {
   "cell_type": "markdown",
   "metadata": {},
   "source": [
    "<img src=\"python-linked-lists-2.png\" />\n",
    "Double-linked list"
   ]
  },
  {
   "cell_type": "markdown",
   "metadata": {},
   "source": [
    "# Single-linked list"
   ]
  },
  {
   "cell_type": "markdown",
   "metadata": {},
   "source": [
    "## Node as a data structure "
   ]
  },
  {
   "cell_type": "markdown",
   "metadata": {},
   "source": [
    "This defines the object instance"
   ]
  },
  {
   "cell_type": "code",
   "execution_count": 1,
   "metadata": {},
   "outputs": [],
   "source": [
    "class ListNode:\n",
    "    \n",
    "    def __init__(self, data):\n",
    "        \n",
    "        # store the data\n",
    "        self.data = data\n",
    "        \n",
    "        # store reference to next item\n",
    "        self.next = None\n",
    "        \n",
    "    def has_value(self, value):\n",
    "        \"\"\"Method to compare the value with the node data\"\"\"\n",
    "        if self.data == value:\n",
    "            return True\n",
    "        else:\n",
    "            return False\n",
    "    "
   ]
  },
  {
   "cell_type": "markdown",
   "metadata": {},
   "source": [
    "Here how we then can create a few nodes"
   ]
  },
  {
   "cell_type": "code",
   "execution_count": 2,
   "metadata": {},
   "outputs": [],
   "source": [
    "node1 = ListNode(15)\n",
    "node2 = ListNode(8.2)\n",
    "node3 = ListNode(\"Berlin\")\n",
    "node4 = ListNode(\"Paris\")"
   ]
  },
  {
   "cell_type": "markdown",
   "metadata": {},
   "source": [
    "## Creating a class for a single-linked list "
   ]
  },
  {
   "cell_type": "code",
   "execution_count": 3,
   "metadata": {},
   "outputs": [],
   "source": [
    "class SingleLinkedList:\n",
    "    \n",
    "    def __init__(self):\n",
    "        self.head = None\n",
    "        self.tail = None\n",
    "        \n",
    "    def add_list_item(self, item):\n",
    "        \"\"\"and an item at the end of the list\"\"\"\n",
    "        \n",
    "        # make sure we are passing a ListNode instance\n",
    "        if not isinstance(item, ListNode):\n",
    "            item = ListNode(item)\n",
    "                    \n",
    "        if self.head is None:\n",
    "            # first node of the list\n",
    "            self.head = item\n",
    "        else:\n",
    "            self.tail.next = item\n",
    "\n",
    "        self.tail = item\n",
    "\n",
    "    def list_length(self):\n",
    "        \"\"\"return the number of nodes in the list\"\"\"\n",
    "        count = 0\n",
    "        current_node = self.head\n",
    "        \n",
    "        while current_node is not None:\n",
    "            count += 1\n",
    "            \n",
    "            current_node = current_node.next\n",
    "            \n",
    "        return count\n",
    "    \n",
    "    def output_list(self):\n",
    "        \"\"\"outputs the value of the nodes\"\"\"\n",
    "        \n",
    "        current_node = self.head\n",
    "        \n",
    "        while current_node is not None:\n",
    "            print(current_node.data)\n",
    "            \n",
    "            current_node = current_node.next\n",
    "            \n",
    "    def unordered_search(self, value):\n",
    "        \"\"\"search the linked list for the node that has this value\"\"\"\n",
    "        \n",
    "        current_node = self.head\n",
    "        \n",
    "        # init position\n",
    "        node_id = 1\n",
    "        \n",
    "        # define list of results\n",
    "        results = []\n",
    "        \n",
    "        while current_node:\n",
    "            \n",
    "            if current_node.has_value(value):\n",
    "                results.append(node_id)\n",
    "\n",
    "            # jump to next node\n",
    "            current_node = current_node.next\n",
    "            \n",
    "            node_id += 1\n",
    "            \n",
    "        return results\n",
    "    \n",
    "    def remove_list_item_by_id(self, item_id):\n",
    "        \"\"\"remove the list item with the item id\"\"\"\n",
    "        \n",
    "        current_id = 1\n",
    "        current_node = self.head\n",
    "        previous_node = None\n",
    "        \n",
    "        while current_node is not None:\n",
    "            if current_node == item_id:\n",
    "                # if this is the first node (head)\n",
    "                if previous_node is not None:\n",
    "                    previous_node.next = current_node.next\n",
    "                else:\n",
    "                    self.head = current_node.next\n",
    "                return\n",
    "            \n",
    "            # needed for the next iteration\n",
    "            previous_node = current_node\n",
    "            current_node = current_node.next\n",
    "            current_id = current_id + 1\n",
    "        \n",
    "        return"
   ]
  },
  {
   "cell_type": "markdown",
   "metadata": {},
   "source": [
    "### initialization "
   ]
  },
  {
   "cell_type": "code",
   "execution_count": 4,
   "metadata": {},
   "outputs": [
    {
     "data": {
      "text/plain": [
       "4"
      ]
     },
     "execution_count": 4,
     "metadata": {},
     "output_type": "execute_result"
    }
   ],
   "source": [
    "o_single = SingleLinkedList()\n",
    "o_single.add_list_item(node1)\n",
    "o_single.add_list_item(node2)\n",
    "o_single.add_list_item(node3)\n",
    "o_single.add_list_item(node4)\n",
    "o_single.list_length()"
   ]
  },
  {
   "cell_type": "markdown",
   "metadata": {},
   "source": [
    "### display list "
   ]
  },
  {
   "cell_type": "code",
   "execution_count": 5,
   "metadata": {},
   "outputs": [
    {
     "name": "stdout",
     "output_type": "stream",
     "text": [
      "15\n",
      "8.2\n",
      "Berlin\n",
      "Paris\n"
     ]
    }
   ],
   "source": [
    "o_single.output_list()"
   ]
  },
  {
   "cell_type": "markdown",
   "metadata": {},
   "source": [
    "### search "
   ]
  },
  {
   "cell_type": "code",
   "execution_count": 6,
   "metadata": {},
   "outputs": [
    {
     "data": {
      "text/plain": [
       "[2]"
      ]
     },
     "execution_count": 6,
     "metadata": {},
     "output_type": "execute_result"
    }
   ],
   "source": [
    "o_single.unordered_search(8.2)"
   ]
  },
  {
   "cell_type": "markdown",
   "metadata": {},
   "source": [
    "### removing an entry "
   ]
  },
  {
   "cell_type": "code",
   "execution_count": 10,
   "metadata": {},
   "outputs": [
    {
     "name": "stdout",
     "output_type": "stream",
     "text": [
      "8.2\n",
      "Berlin\n",
      "Paris\n"
     ]
    }
   ],
   "source": [
    "o_single.remove_list_item_by_id(node1)\n",
    "o_single.output_list()"
   ]
  },
  {
   "cell_type": "markdown",
   "metadata": {},
   "source": [
    "# Double-linked list"
   ]
  },
  {
   "cell_type": "code",
   "execution_count": null,
   "metadata": {},
   "outputs": [],
   "source": [
    "class ListNode:\n",
    "    \n",
    "    def __init__(self, data):\n",
    "        \n",
    "        # store the data\n",
    "        self.data = data\n",
    "        \n",
    "        # store reference to next item\n",
    "        self.next = None\n",
    "        \n",
    "        # store reference to previous item\n",
    "        self.previous = None\n",
    "        \n",
    "    def has_value(self, value):\n",
    "        \"\"\"Method to compare the value with the node data\"\"\"\n",
    "       \n",
    "        if self.data == value:\n",
    "            return True\n",
    "        else:\n",
    "            return False"
   ]
  },
  {
   "cell_type": "code",
   "execution_count": 11,
   "metadata": {},
   "outputs": [],
   "source": [
    "class DoubleLinkedList:  \n",
    "\n",
    "    def __init__(self):\n",
    "        \"constructor to initiate this object\"\n",
    "\n",
    "        self.head = None\n",
    "        self.tail = None\n",
    "        return\n",
    "\n",
    "    def list_length(self):\n",
    "        \"returns the number of list items\"\n",
    "\n",
    "        count = 0\n",
    "        current_node = self.head\n",
    "\n",
    "        while current_node is not None:\n",
    "            # increase counter by one\n",
    "            count = count + 1\n",
    "\n",
    "            # jump to the linked node\n",
    "            current_node = current_node.next\n",
    "\n",
    "        return count\n",
    "\n",
    "    def output_list(self):\n",
    "        \"outputs the list (the value of the node, actually)\"\n",
    "        current_node = self.head\n",
    "\n",
    "        while current_node is not None:\n",
    "            print(current_node.data)\n",
    "\n",
    "            # jump to the linked node\n",
    "            current_node = current_node.next\n",
    "\n",
    "        return\n",
    "\n",
    "    def unordered_search (self, value):\n",
    "        \"search the linked list for the node that has this value\"\n",
    "\n",
    "        # define current_node\n",
    "        current_node = self.head\n",
    "\n",
    "        # define position\n",
    "        node_id = 1\n",
    "\n",
    "        # define list of results\n",
    "        results = []\n",
    "\n",
    "        while current_node is not None:\n",
    "            if current_node.has_value(value):\n",
    "                results.append(node_id)\n",
    "\n",
    "            # jump to the linked node\n",
    "            current_node = current_node.next\n",
    "            node_id = node_id + 1\n",
    "\n",
    "        return results\n",
    "    \n",
    "    ## different from single list\n",
    "    def add_list_item(self, item):\n",
    "        \"\"\"add an item at the end of the list\"\"\"\n",
    "        \n",
    "        # make sure we are passing a ListNode instance\n",
    "        if not isinstance(item, ListNode):\n",
    "            item = ListNode(item)\n",
    "                    \n",
    "        if self.head is None:\n",
    "            # first node of the list\n",
    "            self.head = item\n",
    "            item.previous = None\n",
    "            item.next = None\n",
    "        else:\n",
    "            self.tail.next = item\n",
    "            item.previous = self.tail\n",
    "\n",
    "        self.tail = item\n",
    "\n",
    "    def remove_list_item_by_id(self, item_id):\n",
    "        \"\"\"remove the list item with the item id\"\"\"\n",
    "        \n",
    "        current_id = 1\n",
    "        current_node = self.head\n",
    "        \n",
    "        while current_node:\n",
    "            previous_node = current_node.previous\n",
    "            next_node = current_node.next\n",
    "            \n",
    "            if current_node == item_id:\n",
    "                \n",
    "                \n",
    "        "
   ]
  },
  {
   "cell_type": "code",
   "execution_count": null,
   "metadata": {},
   "outputs": [],
   "source": []
  }
 ],
 "metadata": {
  "kernelspec": {
   "display_name": "Python 3",
   "language": "python",
   "name": "python3"
  },
  "language_info": {
   "codemirror_mode": {
    "name": "ipython",
    "version": 3
   },
   "file_extension": ".py",
   "mimetype": "text/x-python",
   "name": "python",
   "nbconvert_exporter": "python",
   "pygments_lexer": "ipython3",
   "version": "3.6.4"
  }
 },
 "nbformat": 4,
 "nbformat_minor": 2
}
