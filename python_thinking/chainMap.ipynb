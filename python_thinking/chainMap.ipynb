{
 "cells": [
  {
   "cell_type": "markdown",
   "metadata": {},
   "source": [
    "**chainMap** is a way to look into multiple dictionaries but without really merging them"
   ]
  },
  {
   "cell_type": "markdown",
   "metadata": {},
   "source": [
    "# How does it work"
   ]
  },
  {
   "cell_type": "code",
   "execution_count": 1,
   "metadata": {},
   "outputs": [],
   "source": [
    "from collections import ChainMap"
   ]
  },
  {
   "cell_type": "code",
   "execution_count": 19,
   "metadata": {},
   "outputs": [],
   "source": [
    "dict1 = {'key1': 'value1', 'key2': 'value2'}\n",
    "dict2 = {'key3': 'value3', 'key4': 'value4', 'key2': 'value5'}"
   ]
  },
  {
   "cell_type": "code",
   "execution_count": 20,
   "metadata": {},
   "outputs": [],
   "source": [
    "my_chainmap = ChainMap(dict1, dict2)"
   ]
  },
  {
   "cell_type": "code",
   "execution_count": 21,
   "metadata": {},
   "outputs": [
    {
     "data": {
      "text/plain": [
       "ChainMap({'key1': 'value1', 'key2': 'value2'}, {'key3': 'value3', 'key4': 'value4', 'key2': 'value5'})"
      ]
     },
     "execution_count": 21,
     "metadata": {},
     "output_type": "execute_result"
    }
   ],
   "source": [
    "my_chainmap"
   ]
  },
  {
   "cell_type": "code",
   "execution_count": 22,
   "metadata": {},
   "outputs": [
    {
     "data": {
      "text/plain": [
       "'value4'"
      ]
     },
     "execution_count": 22,
     "metadata": {},
     "output_type": "execute_result"
    }
   ],
   "source": [
    "my_chainmap['key4']"
   ]
  },
  {
   "cell_type": "code",
   "execution_count": 23,
   "metadata": {},
   "outputs": [
    {
     "name": "stdout",
     "output_type": "stream",
     "text": [
      "key2\n",
      "key3\n",
      "key4\n",
      "key1\n"
     ]
    }
   ],
   "source": [
    "for _key in my_chainmap.keys():\n",
    "    print(_key)"
   ]
  },
  {
   "cell_type": "code",
   "execution_count": 24,
   "metadata": {},
   "outputs": [
    {
     "name": "stdout",
     "output_type": "stream",
     "text": [
      "key2: value2\n",
      "key3: value3\n",
      "key4: value4\n",
      "key1: value1\n"
     ]
    }
   ],
   "source": [
    "for _key, _value in my_chainmap.items():\n",
    "    print(f\"{_key}: {_value}\")"
   ]
  },
  {
   "cell_type": "markdown",
   "metadata": {},
   "source": [
    "You will notice here that the *value5* of *key2* (dict2) is gone!"
   ]
  },
  {
   "cell_type": "markdown",
   "metadata": {},
   "source": [
    "# Changing the default behavior when initializing the chainMap "
   ]
  },
  {
   "cell_type": "code",
   "execution_count": 25,
   "metadata": {},
   "outputs": [
    {
     "data": {
      "text/plain": [
       "[{'key1': 'value1', 'key2': 'value2'},\n",
       " {'key3': 'value3', 'key4': 'value4', 'key2': 'value5'}]"
      ]
     },
     "execution_count": 25,
     "metadata": {},
     "output_type": "execute_result"
    }
   ],
   "source": [
    "my_chainmap.maps"
   ]
  },
  {
   "cell_type": "code",
   "execution_count": 26,
   "metadata": {},
   "outputs": [],
   "source": [
    "my_chainmap.maps.reverse()"
   ]
  },
  {
   "cell_type": "code",
   "execution_count": 27,
   "metadata": {},
   "outputs": [
    {
     "data": {
      "text/plain": [
       "[{'key3': 'value3', 'key4': 'value4', 'key2': 'value5'},\n",
       " {'key1': 'value1', 'key2': 'value2'}]"
      ]
     },
     "execution_count": 27,
     "metadata": {},
     "output_type": "execute_result"
    }
   ],
   "source": [
    "my_chainmap.maps"
   ]
  },
  {
   "cell_type": "markdown",
   "metadata": {},
   "source": [
    "We have inverted the way the dict are stored in the chainMap"
   ]
  },
  {
   "cell_type": "code",
   "execution_count": 28,
   "metadata": {},
   "outputs": [
    {
     "name": "stdout",
     "output_type": "stream",
     "text": [
      "key2: value5\n",
      "key3: value3\n",
      "key4: value4\n",
      "key1: value1\n"
     ]
    }
   ],
   "source": [
    "for _key, _value in my_chainmap.items():\n",
    "    print(f\"{_key}: {_value}\")"
   ]
  },
  {
   "cell_type": "markdown",
   "metadata": {},
   "source": [
    "# Dict are stored by reference (not by value) "
   ]
  },
  {
   "cell_type": "markdown",
   "metadata": {},
   "source": [
    "This means that if any of the dictionary is modified (key, value, addded new key/value), the chainMap will see those changes."
   ]
  },
  {
   "cell_type": "code",
   "execution_count": 29,
   "metadata": {},
   "outputs": [],
   "source": [
    "dict3 = {'key1': 'value1', 'key2': 'value2'}\n",
    "dict4 = {'key3': 'value3', 'key4': 'value4', 'key2': 'value5'}\n",
    "my_chainmap_2 = ChainMap(dict3, dict4)"
   ]
  },
  {
   "cell_type": "code",
   "execution_count": 30,
   "metadata": {},
   "outputs": [
    {
     "data": {
      "text/plain": [
       "[{'key1': 'value1', 'key2': 'value2'},\n",
       " {'key3': 'value3', 'key4': 'value4', 'key2': 'value5'}]"
      ]
     },
     "execution_count": 30,
     "metadata": {},
     "output_type": "execute_result"
    }
   ],
   "source": [
    "my_chainmap_2.maps"
   ]
  },
  {
   "cell_type": "code",
   "execution_count": 31,
   "metadata": {},
   "outputs": [
    {
     "data": {
      "text/plain": [
       "[{'key1': 'new_value1', 'key2': 'value2'},\n",
       " {'key3': 'value3', 'key4': 'value4', 'key2': 'value5'}]"
      ]
     },
     "execution_count": 31,
     "metadata": {},
     "output_type": "execute_result"
    }
   ],
   "source": [
    "dict3['key1'] = \"new_value1\"\n",
    "my_chainmap_2.maps"
   ]
  },
  {
   "cell_type": "code",
   "execution_count": 32,
   "metadata": {},
   "outputs": [
    {
     "data": {
      "text/plain": [
       "[{'key1': 'new_value1', 'key2': 'value2'},\n",
       " {'key3': 'value3',\n",
       "  'key4': 'value4',\n",
       "  'key2': 'value5',\n",
       "  'new_key_5': 'new_value_of_new_key5'}]"
      ]
     },
     "execution_count": 32,
     "metadata": {},
     "output_type": "execute_result"
    }
   ],
   "source": [
    "dict4['new_key_5'] = \"new_value_of_new_key5\"\n",
    "my_chainmap_2.maps"
   ]
  },
  {
   "cell_type": "markdown",
   "metadata": {},
   "source": [
    "The other way works too, where we change the value of the **first key** in the initial dictionary."
   ]
  },
  {
   "cell_type": "code",
   "execution_count": 33,
   "metadata": {},
   "outputs": [
    {
     "data": {
      "text/plain": [
       "[{'key1': 'new_value1', 'key2': 'new_key2_from_chainmap'},\n",
       " {'key3': 'value3',\n",
       "  'key4': 'value4',\n",
       "  'key2': 'value5',\n",
       "  'new_key_5': 'new_value_of_new_key5'}]"
      ]
     },
     "execution_count": 33,
     "metadata": {},
     "output_type": "execute_result"
    }
   ],
   "source": [
    "my_chainmap_2['key2'] = \"new_key2_from_chainmap\"\n",
    "my_chainmap_2.maps"
   ]
  },
  {
   "cell_type": "markdown",
   "metadata": {},
   "source": [
    "**key2 of the second dictionary did not change!**"
   ]
  },
  {
   "cell_type": "code",
   "execution_count": 34,
   "metadata": {},
   "outputs": [
    {
     "name": "stdout",
     "output_type": "stream",
     "text": [
      "{'key1': 'new_value1', 'key2': 'new_key2_from_chainmap'}\n"
     ]
    }
   ],
   "source": [
    "print(dict3)"
   ]
  },
  {
   "cell_type": "markdown",
   "metadata": {},
   "source": [
    "# new_child "
   ]
  },
  {
   "cell_type": "markdown",
   "metadata": {},
   "source": [
    "## use case 1 "
   ]
  },
  {
   "cell_type": "markdown",
   "metadata": {},
   "source": [
    "But there is a way to tell the chainMap not to touch the underlying structures, by using **new_child**"
   ]
  },
  {
   "cell_type": "code",
   "execution_count": 49,
   "metadata": {},
   "outputs": [],
   "source": [
    "dict1 = {'key1': 'value1', 'key2': 'value2'}\n",
    "dict2 = {'key3': 'value3', 'key4': 'value4', 'key2': 'value5'}\n",
    "my_chainmap = ChainMap(dict1, dict2)"
   ]
  },
  {
   "cell_type": "code",
   "execution_count": 50,
   "metadata": {},
   "outputs": [],
   "source": [
    "my_new_chainmap = my_chainmap.new_child()"
   ]
  },
  {
   "cell_type": "code",
   "execution_count": 51,
   "metadata": {},
   "outputs": [
    {
     "name": "stdout",
     "output_type": "stream",
     "text": [
      "my_chainmap.maps: [{'key1': 'value1', 'key2': 'value2'}, {'key3': 'value3', 'key4': 'value4', 'key2': 'value5'}]\n",
      "my_new_chainmap.maps: ChainMap({}, {'key1': 'value1', 'key2': 'value2'}, {'key3': 'value3', 'key4': 'value4', 'key2': 'value5'})\n"
     ]
    }
   ],
   "source": [
    "print(f\"my_chainmap.maps: {my_chainmap.maps}\")\n",
    "print(f\"my_new_chainmap.maps: {my_new_chainmap}\")"
   ]
  },
  {
   "cell_type": "markdown",
   "metadata": {},
   "source": [
    "Changing one underlying structure"
   ]
  },
  {
   "cell_type": "code",
   "execution_count": 54,
   "metadata": {},
   "outputs": [],
   "source": [
    "my_new_chainmap['key4'] = \"NEW VALUE 4\""
   ]
  },
  {
   "cell_type": "code",
   "execution_count": 55,
   "metadata": {},
   "outputs": [
    {
     "name": "stdout",
     "output_type": "stream",
     "text": [
      "my_chainmap.maps: [{'key1': 'value1', 'key2': 'value2'}, {'key3': 'value3', 'key4': 'value4', 'key2': 'value5'}]\n",
      "my_new_chainmap.maps: ChainMap({'key4': 'NEW VALUE 4'}, {'key1': 'value1', 'key2': 'value2'}, {'key3': 'value3', 'key4': 'value4', 'key2': 'value5'})\n"
     ]
    }
   ],
   "source": [
    "print(f\"my_chainmap.maps: {my_chainmap.maps}\")\n",
    "print(f\"my_new_chainmap.maps: {my_new_chainmap}\")"
   ]
  },
  {
   "cell_type": "markdown",
   "metadata": {},
   "source": [
    "## use case 2 "
   ]
  },
  {
   "cell_type": "code",
   "execution_count": 64,
   "metadata": {},
   "outputs": [],
   "source": [
    "dict1 = {'key1': 'value1', 'key2': 'value2'}\n",
    "dict2 = {'key3': 'value3', 'key4': 'value4', 'key2': 'value5'}\n",
    "dict3 = {'key10': 'value10'}"
   ]
  },
  {
   "cell_type": "code",
   "execution_count": 65,
   "metadata": {},
   "outputs": [],
   "source": [
    "chain_map1 = ChainMap(dict1, dict2)"
   ]
  },
  {
   "cell_type": "code",
   "execution_count": 66,
   "metadata": {},
   "outputs": [
    {
     "data": {
      "text/plain": [
       "[{'key1': 'value1', 'key2': 'value2'},\n",
       " {'key3': 'value3', 'key4': 'value4', 'key2': 'value5'}]"
      ]
     },
     "execution_count": 66,
     "metadata": {},
     "output_type": "execute_result"
    }
   ],
   "source": [
    "chain_map1.maps"
   ]
  },
  {
   "cell_type": "code",
   "execution_count": 68,
   "metadata": {},
   "outputs": [],
   "source": [
    "chain_map2 = chain_map1.new_child(dict3)"
   ]
  },
  {
   "cell_type": "code",
   "execution_count": 69,
   "metadata": {},
   "outputs": [
    {
     "data": {
      "text/plain": [
       "[{'key10': 'value10'},\n",
       " {'key1': 'value1', 'key2': 'value2'},\n",
       " {'key3': 'value3', 'key4': 'value4', 'key2': 'value5'}]"
      ]
     },
     "execution_count": 69,
     "metadata": {},
     "output_type": "execute_result"
    }
   ],
   "source": [
    "chain_map2.maps"
   ]
  },
  {
   "cell_type": "markdown",
   "metadata": {},
   "source": [
    "This is equivalent to"
   ]
  },
  {
   "cell_type": "code",
   "execution_count": 71,
   "metadata": {},
   "outputs": [
    {
     "data": {
      "text/plain": [
       "[{'key10': 'value10'},\n",
       " {'key1': 'value1', 'key2': 'value2'},\n",
       " {'key3': 'value3', 'key4': 'value4', 'key2': 'value5'}]"
      ]
     },
     "execution_count": 71,
     "metadata": {},
     "output_type": "execute_result"
    }
   ],
   "source": [
    "chain_map3 = ChainMap(dict3, *chain_map1.maps)\n",
    "chain_map3.maps"
   ]
  },
  {
   "cell_type": "code",
   "execution_count": null,
   "metadata": {},
   "outputs": [],
   "source": []
  }
 ],
 "metadata": {
  "kernelspec": {
   "display_name": "Python 3",
   "language": "python",
   "name": "python3"
  },
  "language_info": {
   "codemirror_mode": {
    "name": "ipython",
    "version": 3
   },
   "file_extension": ".py",
   "mimetype": "text/x-python",
   "name": "python",
   "nbconvert_exporter": "python",
   "pygments_lexer": "ipython3",
   "version": "3.6.7"
  }
 },
 "nbformat": 4,
 "nbformat_minor": 2
}
