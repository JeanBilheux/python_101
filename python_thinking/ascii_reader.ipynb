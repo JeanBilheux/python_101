{
 "cells": [
  {
   "cell_type": "code",
   "execution_count": 1,
   "metadata": {
    "collapsed": true
   },
   "outputs": [],
   "source": [
    "a=['1 2','3 4','5 6']"
   ]
  },
  {
   "cell_type": "code",
   "execution_count": 6,
   "metadata": {
    "collapsed": false
   },
   "outputs": [
    {
     "name": "stdout",
     "output_type": "stream",
     "text": [
      "['1', '2']\n",
      "nbr_columns: 2\n"
     ]
    }
   ],
   "source": [
    "_row_0 = a[0].split(' ')\n",
    "print(_row_0)\n",
    "nbr_columns = len(_row_0)\n",
    "print(\"nbr_columns: %d\" %nbr_columns)"
   ]
  },
  {
   "cell_type": "code",
   "execution_count": 7,
   "metadata": {
    "collapsed": true
   },
   "outputs": [],
   "source": [
    "final_array = []"
   ]
  },
  {
   "cell_type": "code",
   "execution_count": 9,
   "metadata": {
    "collapsed": true
   },
   "outputs": [],
   "source": [
    "for _row in range(len(a)):\n",
    "    _row_split = a[_row].split(' ')\n",
    "    final_array.append(_row_split)"
   ]
  },
  {
   "cell_type": "code",
   "execution_count": 10,
   "metadata": {
    "collapsed": false
   },
   "outputs": [
    {
     "name": "stdout",
     "output_type": "stream",
     "text": [
      "[['1', '2'], ['3', '4'], ['5', '6']]\n"
     ]
    }
   ],
   "source": [
    "print(final_array)"
   ]
  },
  {
   "cell_type": "code",
   "execution_count": 29,
   "metadata": {
    "collapsed": false
   },
   "outputs": [
    {
     "ename": "NameError",
     "evalue": "name 'np' is not defined",
     "output_type": "error",
     "traceback": [
      "\u001b[0;31m---------------------------------------------------------------------------\u001b[0m",
      "\u001b[0;31mNameError\u001b[0m                                 Traceback (most recent call last)",
      "\u001b[0;32m<ipython-input-29-e6217d3af29a>\u001b[0m in \u001b[0;36m<module>\u001b[0;34m()\u001b[0m\n\u001b[0;32m----> 1\u001b[0;31m \u001b[0ma\u001b[0m\u001b[0;34m=\u001b[0m\u001b[0mnp\u001b[0m\u001b[0;34m.\u001b[0m\u001b[0mzeros\u001b[0m\u001b[0;34m(\u001b[0m\u001b[0;34m(\u001b[0m\u001b[0;36m2\u001b[0m\u001b[0;34m,\u001b[0m\u001b[0;36m2\u001b[0m\u001b[0;34m)\u001b[0m\u001b[0;34m)\u001b[0m\u001b[0;34m\u001b[0m\u001b[0m\n\u001b[0m",
      "\u001b[0;31mNameError\u001b[0m: name 'np' is not defined"
     ]
    }
   ],
   "source": [
    "a=np.zeros((2,2))"
   ]
  },
  {
   "cell_type": "code",
   "execution_count": 18,
   "metadata": {
    "collapsed": false,
    "scrolled": true
   },
   "outputs": [
    {
     "name": "stdout",
     "output_type": "stream",
     "text": [
      "2\n"
     ]
    }
   ],
   "source": [
    "print(final_array[0][1])      "
   ]
  },
  {
   "cell_type": "code",
   "execution_count": 21,
   "metadata": {
    "collapsed": false
   },
   "outputs": [
    {
     "ename": "SyntaxError",
     "evalue": "invalid syntax (<ipython-input-21-e8006c9e4ece>, line 1)",
     "output_type": "error",
     "traceback": [
      "\u001b[0;36m  File \u001b[0;32m\"<ipython-input-21-e8006c9e4ece>\"\u001b[0;36m, line \u001b[0;32m1\u001b[0m\n\u001b[0;31m    b=[[1,2];[3,4]]\u001b[0m\n\u001b[0m            ^\u001b[0m\n\u001b[0;31mSyntaxError\u001b[0m\u001b[0;31m:\u001b[0m invalid syntax\n"
     ]
    }
   ],
   "source": [
    "b=[[1,2];[3,4]]"
   ]
  },
  {
   "cell_type": "code",
   "execution_count": 20,
   "metadata": {
    "collapsed": false
   },
   "outputs": [
    {
     "data": {
      "text/plain": [
       "[[1, 2], [3, 4]]"
      ]
     },
     "execution_count": 20,
     "metadata": {},
     "output_type": "execute_result"
    }
   ],
   "source": [
    "b"
   ]
  },
  {
   "cell_type": "code",
   "execution_count": 30,
   "metadata": {
    "collapsed": true
   },
   "outputs": [],
   "source": [
    "import numpy as np"
   ]
  },
  {
   "cell_type": "code",
   "execution_count": 42,
   "metadata": {
    "collapsed": false
   },
   "outputs": [],
   "source": [
    "file = \"/Users/j35/git/braggedge/tests/data/tof.txt\""
   ]
  },
  {
   "cell_type": "code",
   "execution_count": 43,
   "metadata": {
    "collapsed": true
   },
   "outputs": [],
   "source": [
    "from numpy import genfromtxt"
   ]
  },
  {
   "cell_type": "code",
   "execution_count": 46,
   "metadata": {
    "collapsed": true
   },
   "outputs": [],
   "source": [
    "my_data = genfromtxt(file, delimiter='')"
   ]
  },
  {
   "cell_type": "code",
   "execution_count": 47,
   "metadata": {
    "collapsed": false
   },
   "outputs": [
    {
     "data": {
      "text/plain": [
       "array([[  9.60000000e-07,   2.13700000e+03],\n",
       "       [  1.12000000e-05,   1.98800000e+03],\n",
       "       [  2.14400000e-05,   1.97900000e+03],\n",
       "       [  3.16800000e-05,   2.07800000e+03],\n",
       "       [  4.19200000e-05,   2.06500000e+03],\n",
       "       [  5.21600000e-05,   2.07700000e+03],\n",
       "       [  6.24000000e-05,   1.92900000e+03],\n",
       "       [  7.26400000e-05,   2.03000000e+03],\n",
       "       [  8.28800000e-05,   2.14000000e+03],\n",
       "       [  9.31200000e-05,   2.17900000e+03],\n",
       "       [  1.03360000e-04,   2.07500000e+03],\n",
       "       [  1.13600000e-04,   2.12600000e+03],\n",
       "       [  1.23840000e-04,   2.05500000e+03],\n",
       "       [  1.34080000e-04,   2.10300000e+03],\n",
       "       [  1.44320000e-04,   2.05400000e+03],\n",
       "       [  1.54560000e-04,   2.15200000e+03],\n",
       "       [  1.64800000e-04,   2.11600000e+03],\n",
       "       [  1.75040000e-04,   2.10000000e+03],\n",
       "       [  1.85280000e-04,   2.24200000e+03],\n",
       "       [  1.95520000e-04,   2.13100000e+03],\n",
       "       [  2.05760000e-04,   2.28200000e+03],\n",
       "       [  2.16000000e-04,   2.23500000e+03],\n",
       "       [  2.26240000e-04,   2.18200000e+03],\n",
       "       [  2.36480000e-04,   2.29500000e+03],\n",
       "       [  2.46720000e-04,   2.34500000e+03],\n",
       "       [  2.56960000e-04,   2.28900000e+03],\n",
       "       [  2.67200000e-04,   2.22300000e+03],\n",
       "       [  2.77440000e-04,   2.38600000e+03],\n",
       "       [  2.87680000e-04,   2.34800000e+03],\n",
       "       [  2.97920000e-04,   2.49200000e+03],\n",
       "       [  3.08160000e-04,   2.54700000e+03],\n",
       "       [  3.18400000e-04,   2.56300000e+03],\n",
       "       [  3.28640000e-04,   2.71400000e+03],\n",
       "       [  3.38880000e-04,   2.70700000e+03],\n",
       "       [  3.49120000e-04,   2.79800000e+03],\n",
       "       [  3.59360000e-04,   3.05200000e+03],\n",
       "       [  3.69600000e-04,   3.14000000e+03],\n",
       "       [  3.79840000e-04,   3.21200000e+03],\n",
       "       [  3.90080000e-04,   3.25500000e+03],\n",
       "       [  4.00320000e-04,   3.28000000e+03],\n",
       "       [  4.10560000e-04,   3.66000000e+03],\n",
       "       [  4.20800000e-04,   3.81200000e+03],\n",
       "       [  4.31040000e-04,   3.88300000e+03],\n",
       "       [  4.41280000e-04,   3.95000000e+03],\n",
       "       [  4.51520000e-04,   4.11900000e+03],\n",
       "       [  4.61760000e-04,   4.24300000e+03],\n",
       "       [  4.72000000e-04,   4.54300000e+03],\n",
       "       [  4.82240000e-04,   4.81100000e+03],\n",
       "       [  4.92480000e-04,   5.47700000e+03],\n",
       "       [  5.02720000e-04,   5.72100000e+03],\n",
       "       [  5.12960000e-04,   6.12900000e+03],\n",
       "       [  5.23200000e-04,   6.82400000e+03],\n",
       "       [  5.33440000e-04,   8.51300000e+03],\n",
       "       [  5.43680000e-04,   1.33950000e+04],\n",
       "       [  5.53920000e-04,   2.30130000e+04],\n",
       "       [  5.64160000e-04,   4.17180000e+04],\n",
       "       [  5.74400000e-04,   6.92210000e+04],\n",
       "       [  5.84640000e-04,   1.05840000e+05],\n",
       "       [  5.94880000e-04,   1.50434000e+05],\n",
       "       [  6.05120000e-04,   2.00076000e+05],\n",
       "       [  6.15360000e-04,   2.54017000e+05],\n",
       "       [  6.25600000e-04,   3.12702000e+05],\n",
       "       [  6.35840000e-04,   3.73702000e+05],\n",
       "       [  6.46080000e-04,   4.38235000e+05],\n",
       "       [  6.56320000e-04,   5.05989000e+05],\n",
       "       [  6.66560000e-04,   5.75851000e+05],\n",
       "       [  6.76800000e-04,   6.45913000e+05],\n",
       "       [  6.87040000e-04,   7.24861000e+05],\n",
       "       [  6.97280000e-04,   8.04174000e+05],\n",
       "       [  7.07520000e-04,   8.88730000e+05],\n",
       "       [  7.17760000e-04,   9.69739000e+05],\n",
       "       [  7.28000000e-04,   1.05544500e+06],\n",
       "       [  7.38240000e-04,   1.13812900e+06],\n",
       "       [  7.48480000e-04,   1.21793600e+06],\n",
       "       [  7.58720000e-04,   1.30608700e+06],\n",
       "       [  7.68960000e-04,   1.38987700e+06],\n",
       "       [  7.79200000e-04,   1.47091900e+06],\n",
       "       [  7.89440000e-04,   1.55430300e+06],\n",
       "       [  7.99680000e-04,   1.63550200e+06],\n",
       "       [  8.09920000e-04,   1.72276000e+06],\n",
       "       [  8.20160000e-04,   1.79626600e+06],\n",
       "       [  8.30400000e-04,   1.88430000e+06],\n",
       "       [  8.40640000e-04,   1.96848200e+06],\n",
       "       [  8.50880000e-04,   2.04703700e+06],\n",
       "       [  8.61120000e-04,   2.12867600e+06],\n",
       "       [  8.71360000e-04,   2.20623700e+06],\n",
       "       [  8.81600000e-04,   2.28870900e+06],\n",
       "       [  8.91840000e-04,   2.36289300e+06],\n",
       "       [  9.02080000e-04,   2.44340300e+06],\n",
       "       [  9.12320000e-04,   2.51664900e+06],\n",
       "       [  9.22560000e-04,   2.59884600e+06],\n",
       "       [  9.32800000e-04,   2.66954400e+06],\n",
       "       [  9.43040000e-04,   2.73281200e+06],\n",
       "       [  9.53280000e-04,   2.79971700e+06],\n",
       "       [  9.63520000e-04,   2.85836700e+06],\n",
       "       [  9.73760000e-04,   2.91467700e+06],\n",
       "       [  9.84000000e-04,   2.97054100e+06],\n",
       "       [  9.94240000e-04,   3.03022700e+06],\n",
       "       [  1.00448000e-03,   3.07897400e+06],\n",
       "       [  1.01472000e-03,   3.11657700e+06],\n",
       "       [  1.02496000e-03,   3.16636800e+06],\n",
       "       [  1.03520000e-03,   3.19974300e+06],\n",
       "       [  1.04544000e-03,   3.23367300e+06],\n",
       "       [  1.05568000e-03,   3.26721600e+06],\n",
       "       [  1.06592000e-03,   3.29508400e+06],\n",
       "       [  1.07616000e-03,   3.31976100e+06],\n",
       "       [  1.08640000e-03,   3.34716800e+06],\n",
       "       [  1.09664000e-03,   3.36262900e+06],\n",
       "       [  1.10688000e-03,   3.37095500e+06],\n",
       "       [  1.11712000e-03,   3.37278300e+06],\n",
       "       [  1.12736000e-03,   3.37039300e+06],\n",
       "       [  1.13760000e-03,   3.38187200e+06],\n",
       "       [  1.14784000e-03,   3.38990400e+06],\n",
       "       [  1.15808000e-03,   3.39203600e+06],\n",
       "       [  1.16832000e-03,   3.39194500e+06],\n",
       "       [  1.17856000e-03,   3.38118300e+06],\n",
       "       [  1.18880000e-03,   3.38060000e+06],\n",
       "       [  1.19904000e-03,   3.37889300e+06],\n",
       "       [  1.20928000e-03,   3.37996000e+06],\n",
       "       [  1.21952000e-03,   3.37011400e+06],\n",
       "       [  1.22976000e-03,   3.36423000e+06],\n",
       "       [  1.24000000e-03,   3.35415800e+06]])"
      ]
     },
     "execution_count": 47,
     "metadata": {},
     "output_type": "execute_result"
    }
   ],
   "source": [
    "my_data"
   ]
  },
  {
   "cell_type": "code",
   "execution_count": 37,
   "metadata": {
    "collapsed": false
   },
   "outputs": [
    {
     "data": {
      "text/plain": [
       "array([[  1.,  20.],\n",
       "       [  2.,  21.],\n",
       "       [  3.,  22.],\n",
       "       [  4.,  23.],\n",
       "       [  5.,  24.],\n",
       "       [  6.,  25.],\n",
       "       [  7.,  26.],\n",
       "       [  8.,  27.],\n",
       "       [  9.,  28.],\n",
       "       [ 10.,  29.],\n",
       "       [ 11.,  30.],\n",
       "       [ 11.,  31.],\n",
       "       [ 12.,  32.],\n",
       "       [ 13.,  33.],\n",
       "       [ 14.,  34.],\n",
       "       [ 15.,  35.],\n",
       "       [ 16.,  36.]])"
      ]
     },
     "execution_count": 37,
     "metadata": {},
     "output_type": "execute_result"
    }
   ],
   "source": [
    "my_data"
   ]
  },
  {
   "cell_type": "code",
   "execution_count": 38,
   "metadata": {
    "collapsed": false
   },
   "outputs": [
    {
     "ename": "TypeError",
     "evalue": "'tuple' object is not callable",
     "output_type": "error",
     "traceback": [
      "\u001b[0;31m---------------------------------------------------------------------------\u001b[0m",
      "\u001b[0;31mTypeError\u001b[0m                                 Traceback (most recent call last)",
      "\u001b[0;32m<ipython-input-38-85307243a923>\u001b[0m in \u001b[0;36m<module>\u001b[0;34m()\u001b[0m\n\u001b[0;32m----> 1\u001b[0;31m \u001b[0mmy_data\u001b[0m\u001b[0;34m.\u001b[0m\u001b[0mshape\u001b[0m\u001b[0;34m(\u001b[0m\u001b[0;34m)\u001b[0m\u001b[0;34m\u001b[0m\u001b[0m\n\u001b[0m",
      "\u001b[0;31mTypeError\u001b[0m: 'tuple' object is not callable"
     ]
    }
   ],
   "source": [
    "my_data.shape()"
   ]
  },
  {
   "cell_type": "code",
   "execution_count": 39,
   "metadata": {
    "collapsed": false
   },
   "outputs": [
    {
     "data": {
      "text/plain": [
       "(17, 2)"
      ]
     },
     "execution_count": 39,
     "metadata": {},
     "output_type": "execute_result"
    }
   ],
   "source": [
    "my_data.shape"
   ]
  },
  {
   "cell_type": "code",
   "execution_count": 41,
   "metadata": {
    "collapsed": false
   },
   "outputs": [
    {
     "data": {
      "text/plain": [
       "array([  1.,   2.,   3.,   4.,   5.,   6.,   7.,   8.,   9.,  10.,  11.,\n",
       "        11.,  12.,  13.,  14.,  15.,  16.])"
      ]
     },
     "execution_count": 41,
     "metadata": {},
     "output_type": "execute_result"
    }
   ],
   "source": [
    "my_data[:,0\n",
    "    ]"
   ]
  },
  {
   "cell_type": "code",
   "execution_count": null,
   "metadata": {
    "collapsed": true
   },
   "outputs": [],
   "source": []
  },
  {
   "cell_type": "code",
   "execution_count": null,
   "metadata": {
    "collapsed": true
   },
   "outputs": [],
   "source": []
  }
 ],
 "metadata": {
  "kernelspec": {
   "display_name": "Python 3",
   "language": "python",
   "name": "python3"
  },
  "language_info": {
   "codemirror_mode": {
    "name": "ipython",
    "version": 3
   },
   "file_extension": ".py",
   "mimetype": "text/x-python",
   "name": "python",
   "nbconvert_exporter": "python",
   "pygments_lexer": "ipython3",
   "version": "3.4.4"
  }
 },
 "nbformat": 4,
 "nbformat_minor": 0
}
