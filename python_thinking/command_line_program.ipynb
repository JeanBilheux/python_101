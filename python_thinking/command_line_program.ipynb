{
 "cells": [
  {
   "cell_type": "markdown",
   "metadata": {},
   "source": [
    "Tutorial found [here](https://stormpath.com/blog/building-simple-cli-interfaces-in-python/)"
   ]
  },
  {
   "cell_type": "markdown",
   "metadata": {},
   "source": [
    "They are 2 types of commands:\n",
    "\n",
    "- single\n",
    "- multi-command"
   ]
  },
  {
   "cell_type": "markdown",
   "metadata": {},
   "source": [
    "### single"
   ]
  },
  {
   "cell_type": "markdown",
   "metadata": {},
   "source": [
    "A good example is *grep*. It does one thing\n",
    "\n",
    "```\n",
    "grep 'Randall' some_file.txt\n",
    "```"
   ]
  },
  {
   "cell_type": "markdown",
   "metadata": {},
   "source": [
    "### sub-commands"
   ]
  },
  {
   "cell_type": "markdown",
   "metadata": {},
   "source": [
    "example:\n",
    "```\n",
    "$ heroku applications:create my-new-ap\n",
    "```\n",
    "\n",
    "where **applications:create** is the sub-command.\n",
    "\n",
    "Then later\n",
    "```\n",
    "$ heroku applications:destroy my-new-app\n",
    "```\n"
   ]
  },
  {
   "cell_type": "markdown",
   "metadata": {},
   "source": [
    "## Structuring the CLI program"
   ]
  },
  {
   "cell_type": "markdown",
   "metadata": {
    "collapsed": true
   },
   "source": [
    "skele-cli\n",
    "├── MANIFEST.in\n",
    "├── README.rst\n",
    "├── setup.cfg\n",
    "├── setup.py\n",
    "└── skele\n",
    "    ├── __init__.py\n",
    "    ├── cli.py\n",
    "    └── commands\n",
    "        ├── __init__.py\n",
    "        ├── base.py\n",
    "        └── hello.py\n",
    "\n",
    "2 directories, 9 files"
   ]
  },
  {
   "cell_type": "markdown",
   "metadata": {},
   "source": [
    "### MANIFEST.in"
   ]
  },
  {
   "cell_type": "markdown",
   "metadata": {},
   "source": [
    "```\n",
    "MANIFEST.in\n",
    "exclude .gitignore\n",
    "exclude .coverage\n",
    "exclude .travis.yml\n",
    "include README.rst\n",
    "include setup.cfg\n",
    "prune .cache\n",
    "prune .git\n",
    "prune build\n",
    "prune dist\n",
    "recursive-exclude *.egg-info *\n",
    "recursive-include tests *\n",
    "```"
   ]
  },
  {
   "cell_type": "markdown",
   "metadata": {},
   "source": [
    "### setup.cfg "
   ]
  },
  {
   "cell_type": "markdown",
   "metadata": {},
   "source": [
    "```\n",
    "# setup.cfg\n",
    "[bdist_wheel]\n",
    "universal=1\n",
    "```"
   ]
  },
  {
   "cell_type": "markdown",
   "metadata": {},
   "source": [
    "### setup.py"
   ]
  },
  {
   "cell_type": "markdown",
   "metadata": {},
   "source": [
    "```\n",
    "\"\"\"Packaging settings.\"\"\"\n",
    "\n",
    "from codecs import open\n",
    "from os.path import abspath, dirname, join\n",
    "from subprocess import call\n",
    "\n",
    "from setuptools import Command, find_packages, setup\n",
    "\n",
    "from skele import __version__\n",
    "\n",
    "this_dir = abspath(dirname(__file__))\n",
    "with open(join(this_dir, 'README.rst'), encoding='utf-8') as file:\n",
    "    long_description = file.read()\n",
    "\n",
    "class RunTests(Command):\n",
    "    \"\"\"Run all tests.\"\"\"\n",
    "    description = 'run tests'\n",
    "    user_options = []\n",
    "\n",
    "    def initialize_options(self):\n",
    "        pass\n",
    "\n",
    "    def finalize_options(self):\n",
    "        pass\n",
    "\n",
    "    def run(self):\n",
    "        \"\"\"Run all tests!\"\"\"\n",
    "        errno = call(['py.test', '--cov=skele', '--cov-report=term-missing'])\n",
    "        raise SystemExit(errno)\n",
    "\n",
    "setup(\n",
    "    name = 'skele',\n",
    "    version = __version__,\n",
    "    description = 'A skeleton command line program in Python.',\n",
    "    long_description = long_description,\n",
    "    url = 'https://github.com/rdegges/skele-cli',\n",
    "    author = 'Randall Degges',\n",
    "    author_email = 'r@rdegges.com',\n",
    "    license = 'UNLICENSE',\n",
    "    classifiers = [\n",
    "        'Intended Audience :: Developers',\n",
    "        'Topic :: Utilities',\n",
    "        'License :: Public Domain',\n",
    "        'Natural Language :: English',\n",
    "        'Operating System :: OS Independent',\n",
    "        'Programming Language :: Python :: 2',\n",
    "        'Programming Language :: Python :: 2.6',\n",
    "        'Programming Language :: Python :: 2.7',\n",
    "        'Programming Language :: Python :: 3',\n",
    "        'Programming Language :: Python :: 3.2',\n",
    "        'Programming Language :: Python :: 3.3',\n",
    "        'Programming Language :: Python :: 3.4',\n",
    "    ],\n",
    "    keywords = 'cli',\n",
    "    packages = find_packages(exclude=['docs', 'tests*']),\n",
    "    install_requires = ['docopt'],\n",
    "    extras_require = {\n",
    "        'test': ['coverage', 'pytest', 'pytest-cov'],\n",
    "    },\n",
    "    entry_points = {\n",
    "        'console_scripts': [\n",
    "            'skele=skele.cli:main',\n",
    "        ],\n",
    "    },\n",
    "    cmdclass = {'test': RunTests},\n",
    ")\n",
    "```"
   ]
  },
  {
   "cell_type": "markdown",
   "metadata": {},
   "source": [
    "This script will automatically use the **README.rst** file for documentation\n",
    "\n",
    "```\n",
    "this_dir = abspath(dirname(__file__))\n",
    "with open(join(this_dir, 'README.rst'), encoding='utf-8') as file:\n",
    "    long_description = file.read()\n",
    "    ```"
   ]
  },
  {
   "cell_type": "code",
   "execution_count": null,
   "metadata": {
    "collapsed": true
   },
   "outputs": [],
   "source": []
  },
  {
   "cell_type": "code",
   "execution_count": null,
   "metadata": {
    "collapsed": true
   },
   "outputs": [],
   "source": []
  }
 ],
 "metadata": {
  "kernelspec": {
   "display_name": "Python 3",
   "language": "python",
   "name": "python3"
  },
  "language_info": {
   "codemirror_mode": {
    "name": "ipython",
    "version": 3
   },
   "file_extension": ".py",
   "mimetype": "text/x-python",
   "name": "python",
   "nbconvert_exporter": "python",
   "pygments_lexer": "ipython3",
   "version": "3.4.4"
  }
 },
 "nbformat": 4,
 "nbformat_minor": 0
}
