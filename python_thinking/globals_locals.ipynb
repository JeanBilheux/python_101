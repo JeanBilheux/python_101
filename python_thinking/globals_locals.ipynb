{
 "cells": [
  {
   "cell_type": "code",
   "execution_count": 1,
   "metadata": {
    "run_control": {
     "frozen": false,
     "read_only": false
    }
   },
   "outputs": [
    {
     "data": {
      "text/plain": [
       "{'FormatCode': <function yapf.yapflib.yapf_api.FormatCode>,\n",
       " 'In': ['', 'globals()'],\n",
       " 'Out': {},\n",
       " '_': '',\n",
       " '__': '',\n",
       " '___': '',\n",
       " '__builtin__': <module 'builtins' (built-in)>,\n",
       " '__builtins__': <module 'builtins' (built-in)>,\n",
       " '__doc__': 'Automatically created module for IPython interactive environment',\n",
       " '__loader__': None,\n",
       " '__name__': '__main__',\n",
       " '__package__': None,\n",
       " '__spec__': None,\n",
       " '_dh': ['/Users/j35/git/notebooks/python_101/python_thinking'],\n",
       " '_i': '',\n",
       " '_i1': 'globals()',\n",
       " '_ih': ['', 'globals()'],\n",
       " '_ii': '',\n",
       " '_iii': '',\n",
       " '_oh': {},\n",
       " 'exit': <IPython.core.autocall.ZMQExitAutocall at 0x10c6d79e8>,\n",
       " 'get_ipython': <bound method InteractiveShell.get_ipython of <ipykernel.zmqshell.ZMQInteractiveShell object at 0x10c68bc18>>,\n",
       " 'glob': <module 'glob' from '/Users/j35/anaconda/envs/py36/lib/python3.6/glob.py'>,\n",
       " 'np': <module 'numpy' from '/Users/j35/anaconda/envs/py36/lib/python3.6/site-packages/numpy/__init__.py'>,\n",
       " 'os': <module 'os' from '/Users/j35/anaconda/envs/py36/lib/python3.6/os.py'>,\n",
       " 'pd': <module 'pandas' from '/Users/j35/anaconda/envs/py36/lib/python3.6/site-packages/pandas/__init__.py'>,\n",
       " 'plt': <module 'matplotlib.pyplot' from '/Users/j35/anaconda/envs/py36/lib/python3.6/site-packages/matplotlib/pyplot.py'>,\n",
       " 'quit': <IPython.core.autocall.ZMQExitAutocall at 0x10c6d79e8>,\n",
       " 'sys': <module 'sys' (built-in)>}"
      ]
     },
     "execution_count": 1,
     "metadata": {},
     "output_type": "execute_result"
    }
   ],
   "source": [
    "globals()"
   ]
  },
  {
   "cell_type": "code",
   "execution_count": 2,
   "metadata": {},
   "outputs": [
    {
     "data": {
      "text/plain": [
       "{'FormatCode': <function yapf.yapflib.yapf_api.FormatCode>,\n",
       " 'In': ['', 'globals()', 'locals()'],\n",
       " 'Out': {1: {...}},\n",
       " '_': {...},\n",
       " '_1': {...},\n",
       " '__': '',\n",
       " '___': '',\n",
       " '__builtin__': <module 'builtins' (built-in)>,\n",
       " '__builtins__': <module 'builtins' (built-in)>,\n",
       " '__doc__': 'Automatically created module for IPython interactive environment',\n",
       " '__loader__': None,\n",
       " '__name__': '__main__',\n",
       " '__package__': None,\n",
       " '__spec__': None,\n",
       " '_dh': ['/Users/j35/git/notebooks/python_101/python_thinking'],\n",
       " '_i': 'globals()',\n",
       " '_i1': 'globals()',\n",
       " '_i2': 'locals()',\n",
       " '_ih': ['', 'globals()', 'locals()'],\n",
       " '_ii': '',\n",
       " '_iii': '',\n",
       " '_oh': {1: {...}},\n",
       " 'exit': <IPython.core.autocall.ZMQExitAutocall at 0x10c6d79e8>,\n",
       " 'get_ipython': <bound method InteractiveShell.get_ipython of <ipykernel.zmqshell.ZMQInteractiveShell object at 0x10c68bc18>>,\n",
       " 'glob': <module 'glob' from '/Users/j35/anaconda/envs/py36/lib/python3.6/glob.py'>,\n",
       " 'np': <module 'numpy' from '/Users/j35/anaconda/envs/py36/lib/python3.6/site-packages/numpy/__init__.py'>,\n",
       " 'os': <module 'os' from '/Users/j35/anaconda/envs/py36/lib/python3.6/os.py'>,\n",
       " 'pd': <module 'pandas' from '/Users/j35/anaconda/envs/py36/lib/python3.6/site-packages/pandas/__init__.py'>,\n",
       " 'plt': <module 'matplotlib.pyplot' from '/Users/j35/anaconda/envs/py36/lib/python3.6/site-packages/matplotlib/pyplot.py'>,\n",
       " 'quit': <IPython.core.autocall.ZMQExitAutocall at 0x10c6d79e8>,\n",
       " 'sys': <module 'sys' (built-in)>}"
      ]
     },
     "execution_count": 2,
     "metadata": {},
     "output_type": "execute_result"
    }
   ],
   "source": [
    "locals()"
   ]
  },
  {
   "cell_type": "code",
   "execution_count": null,
   "metadata": {
    "collapsed": true
   },
   "outputs": [],
   "source": []
  }
 ],
 "metadata": {
  "kernelspec": {
   "display_name": "Python 3",
   "language": "python",
   "name": "python3"
  },
  "language_info": {
   "codemirror_mode": {
    "name": "ipython",
    "version": 3
   },
   "file_extension": ".py",
   "mimetype": "text/x-python",
   "name": "python",
   "nbconvert_exporter": "python",
   "pygments_lexer": "ipython3",
   "version": "3.6.2"
  },
  "toc": {
   "colors": {
    "hover_highlight": "#DAA520",
    "running_highlight": "#FF0000",
    "selected_highlight": "#FFD700"
   },
   "moveMenuLeft": true,
   "nav_menu": {
    "height": "12px",
    "width": "252px"
   },
   "navigate_menu": true,
   "number_sections": true,
   "sideBar": true,
   "threshold": 4,
   "toc_cell": false,
   "toc_section_display": "block",
   "toc_window_display": false
  }
 },
 "nbformat": 4,
 "nbformat_minor": 2
}
