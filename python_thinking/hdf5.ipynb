{
 "cells": [
  {
   "cell_type": "markdown",
   "metadata": {},
   "source": [
    "Tutorial found [here, in the pyTables web site](http://www.pytables.org/usersguide/tutorials.html)"
   ]
  },
  {
   "cell_type": "markdown",
   "metadata": {
    "run_control": {
     "frozen": false,
     "read_only": false
    }
   },
   "source": [
    "In this notebook, we gonna learn:\n",
    "* how to save a 3D array into a HDF5 file\n",
    "* load an array from a HDF5 file\n"
   ]
  },
  {
   "cell_type": "code",
   "execution_count": 2,
   "metadata": {},
   "outputs": [
    {
     "ename": "ModuleNotFoundError",
     "evalue": "No module named 'tables'",
     "output_type": "error",
     "traceback": [
      "\u001b[0;31m---------------------------------------------------------------------------\u001b[0m",
      "\u001b[0;31mModuleNotFoundError\u001b[0m                       Traceback (most recent call last)",
      "\u001b[0;32m<ipython-input-2-c03cc0d145ba>\u001b[0m in \u001b[0;36m<module>\u001b[0;34m\u001b[0m\n\u001b[0;32m----> 1\u001b[0;31m \u001b[0;32mimport\u001b[0m \u001b[0mtables\u001b[0m \u001b[0;32mas\u001b[0m \u001b[0mtb\u001b[0m\u001b[0;34m\u001b[0m\u001b[0;34m\u001b[0m\u001b[0m\n\u001b[0m\u001b[1;32m      2\u001b[0m \u001b[0;32mimport\u001b[0m \u001b[0mnumpy\u001b[0m \u001b[0;32mas\u001b[0m \u001b[0mnp\u001b[0m\u001b[0;34m\u001b[0m\u001b[0;34m\u001b[0m\u001b[0m\n",
      "\u001b[0;31mModuleNotFoundError\u001b[0m: No module named 'tables'"
     ]
    }
   ],
   "source": [
    "import tables as tb\n",
    "import numpy as np"
   ]
  },
  {
   "cell_type": "markdown",
   "metadata": {},
   "source": [
    "# Creating a fake 3D data set"
   ]
  },
  {
   "cell_type": "code",
   "execution_count": 6,
   "metadata": {
    "collapsed": true
   },
   "outputs": [],
   "source": [
    "stack_images = []\n",
    "for i in range(10):\n",
    "    _random_image = np.random.rand(100,100)\n",
    "    stack_images.append(_random_image)"
   ]
  },
  {
   "cell_type": "code",
   "execution_count": 7,
   "metadata": {},
   "outputs": [
    {
     "name": "stdout",
     "output_type": "stream",
     "text": [
      "(10, 100, 100)\n"
     ]
    }
   ],
   "source": [
    "print(np.shape(stack_images))"
   ]
  },
  {
   "cell_type": "markdown",
   "metadata": {},
   "source": [
    "# Saving 3D array into h5 file"
   ]
  },
  {
   "cell_type": "code",
   "execution_count": 8,
   "metadata": {
    "collapsed": true
   },
   "outputs": [],
   "source": [
    "output_file = 'my_hdf5_file.h5'"
   ]
  },
  {
   "cell_type": "code",
   "execution_count": 9,
   "metadata": {
    "collapsed": true
   },
   "outputs": [],
   "source": [
    "h5file = tb.open_file(output_file, mode='w', title='Test file')"
   ]
  },
  {
   "cell_type": "markdown",
   "metadata": {},
   "source": [
    "Creating a group"
   ]
  },
  {
   "cell_type": "code",
   "execution_count": null,
   "metadata": {},
   "outputs": [],
   "source": [
    "group = h5file.create_group(\"/\", \"MCP\", \"MCP data set\")"
   ]
  },
  {
   "cell_type": "markdown",
   "metadata": {},
   "source": [
    "creating array object"
   ]
  },
  {
   "cell_type": "code",
   "execution_count": 12,
   "metadata": {},
   "outputs": [
    {
     "data": {
      "text/plain": [
       "/MCP/data (Array(10, 100, 100)) '3D data set'\n",
       "  atom := Float64Atom(shape=(), dflt=0.0)\n",
       "  maindim := 0\n",
       "  flavor := 'python'\n",
       "  byteorder := 'little'\n",
       "  chunkshape := None"
      ]
     },
     "execution_count": 12,
     "metadata": {},
     "output_type": "execute_result"
    }
   ],
   "source": [
    "h5file.create_array(group, \"data\", stack_images, \"3D data set\")"
   ]
  },
  {
   "cell_type": "code",
   "execution_count": 13,
   "metadata": {
    "collapsed": true
   },
   "outputs": [],
   "source": [
    "h5file.close()"
   ]
  },
  {
   "cell_type": "markdown",
   "metadata": {},
   "source": [
    "# Loading array for h5 file "
   ]
  },
  {
   "cell_type": "code",
   "execution_count": 14,
   "metadata": {
    "collapsed": true
   },
   "outputs": [],
   "source": [
    "input_file = output_file"
   ]
  },
  {
   "cell_type": "code",
   "execution_count": 15,
   "metadata": {
    "collapsed": true
   },
   "outputs": [],
   "source": [
    "new_h5file = tb.open_file(input_file, 'a')"
   ]
  },
  {
   "cell_type": "code",
   "execution_count": 16,
   "metadata": {},
   "outputs": [
    {
     "name": "stdout",
     "output_type": "stream",
     "text": [
      "my_hdf5_file.h5 (File) 'Test file'\n",
      "Last modif.: 'Wed Oct 18 12:10:12 2017'\n",
      "Object Tree: \n",
      "/ (RootGroup) 'Test file'\n",
      "/MCP (Group) 'MCP data set'\n",
      "/MCP/data (Array(10, 100, 100)) '3D data set'\n",
      "\n"
     ]
    }
   ],
   "source": [
    "print(new_h5file)"
   ]
  },
  {
   "cell_type": "code",
   "execution_count": 18,
   "metadata": {},
   "outputs": [],
   "source": [
    "group = new_h5file.get_node(\"/MCP/data\") "
   ]
  },
  {
   "cell_type": "code",
   "execution_count": 20,
   "metadata": {},
   "outputs": [],
   "source": [
    "data = group.read()"
   ]
  },
  {
   "cell_type": "code",
   "execution_count": 24,
   "metadata": {},
   "outputs": [
    {
     "name": "stdout",
     "output_type": "stream",
     "text": [
      "(10, 100, 100)\n"
     ]
    }
   ],
   "source": [
    "print(np.shape(data))\n",
    "np_data = np.array(data)"
   ]
  },
  {
   "cell_type": "code",
   "execution_count": 25,
   "metadata": {},
   "outputs": [
    {
     "name": "stdout",
     "output_type": "stream",
     "text": [
      "<class 'numpy.ndarray'>\n"
     ]
    }
   ],
   "source": [
    "print(type(np_data))"
   ]
  },
  {
   "cell_type": "markdown",
   "metadata": {
    "collapsed": true
   },
   "source": [
    "# Looking at metadata inside NeXus "
   ]
  },
  {
   "cell_type": "code",
   "execution_count": 1,
   "metadata": {},
   "outputs": [],
   "source": [
    "import os\n",
    "import h5py"
   ]
  },
  {
   "cell_type": "code",
   "execution_count": 2,
   "metadata": {},
   "outputs": [],
   "source": [
    "input_data = \"/Volumes/G-DRIVE/IPTS/SNAP/SNAP_54081.nxs.h5\"\n",
    "assert os.path.exists(input_data)"
   ]
  },
  {
   "cell_type": "code",
   "execution_count": 3,
   "metadata": {},
   "outputs": [],
   "source": [
    "f = h5py.File(input_data, 'r')"
   ]
  },
  {
   "cell_type": "code",
   "execution_count": 4,
   "metadata": {},
   "outputs": [
    {
     "data": {
      "text/plain": [
       "<KeysViewHDF5 ['entry']>"
      ]
     },
     "execution_count": 4,
     "metadata": {},
     "output_type": "execute_result"
    }
   ],
   "source": [
    "f.keys()"
   ]
  },
  {
   "cell_type": "code",
   "execution_count": 5,
   "metadata": {},
   "outputs": [
    {
     "name": "stdout",
     "output_type": "stream",
     "text": [
      "ipts: b'IPTS-23760'\n"
     ]
    }
   ],
   "source": [
    "ipts = str(f['entry']['experiment_identifier'][0])\n",
    "print(f\"ipts: {ipts}\")"
   ]
  },
  {
   "cell_type": "code",
   "execution_count": 10,
   "metadata": {},
   "outputs": [
    {
     "data": {
      "text/plain": [
       "b'C:/data/IPTS-23760/Tomorrow_Is_Wednesday/GoodMusic/random_dir/Run_54081_DASTest_vvv_1_000_Stuffb'"
      ]
     },
     "execution_count": 10,
     "metadata": {},
     "output_type": "execute_result"
    }
   ],
   "source": [
    "f['entry']['DASlogs']['BL3:Exp:Det:FileName']['value'][0][0]\n"
   ]
  },
  {
   "cell_type": "code",
   "execution_count": 39,
   "metadata": {},
   "outputs": [
    {
     "name": "stdout",
     "output_type": "stream",
     "text": [
      "Imaging Mode\n"
     ]
    }
   ],
   "source": [
    "mode = f['entry']['DASlogs']['BL3:Exp:Mode']['value_strings'][0][0].decode(\"utf8\")\n",
    "print(mode)"
   ]
  },
  {
   "cell_type": "code",
   "execution_count": 27,
   "metadata": {},
   "outputs": [
    {
     "name": "stdout",
     "output_type": "stream",
     "text": [
      "/SNS/SNAP/IPTS-23760/shared/autoreduce/mcp/Tomorrow_Is_Wednesday/GoodMusic/random_dir/Run_54081\n"
     ]
    }
   ],
   "source": [
    "import pathlib\n",
    "\n",
    "import h5py\n",
    "\n",
    "\n",
    "def extract_image_directory(nexus_path):\n",
    "    nexus = pathlib.Path(nexus_path)\n",
    "    assert nexus.exists()\n",
    "\n",
    "    with h5py.File(nexus_path, \"r\") as hdf5_data:\n",
    "        run_number = hdf5_data[\"entry\"][\"entry_identifier\"][:][0].decode(\"utf8\")\n",
    "        pv = hdf5_data[\"entry\"][\"DASlogs\"][\"BL3:Exp:Det:FileName\"]\n",
    "        value = pv[\"value\"][0][0].decode(\"utf8\")\n",
    "        elements = value.split(\"/\")\n",
    "\n",
    "        return (\n",
    "            pathlib.Path(\"/SNS/SNAP\")\n",
    "            / elements[2]\n",
    "            / \"images\"\n",
    "            / \"mcp\"\n",
    "            / \"/\".join(elements[3:-1])\n",
    "            / f\"Run_{run_number}\"\n",
    "        )\n",
    "    \n",
    "def extract_ipts(nexus_path):\n",
    "    nexus = pathlib.Path(nexus_path)\n",
    "    assert nexus.exists()\n",
    "\n",
    "    with h5py.File(nexus_path, \"r\") as hdf5_data:\n",
    "        ipts = hdf5_data[\"entry\"][\"experiment_identifier\"][0].decode(\"utf8\")\n",
    "        \n",
    "        return ipts\n",
    "    \n",
    "def build_output_directory(input_path, ipts):\n",
    "    parse_input_path = str(input_path).split(\"/\")\n",
    "    local_output_path = \"/\".join(parse_input_path[5:])\n",
    "    output_folder = f\"/SNS/SNAP/{ipts}/shared/autoreduce/{local_output_path}\"\n",
    "    return output_folder\n",
    "\n",
    "image_directory = extract_image_directory(input_data)\n",
    "ipts = extract_ipts(input_data)\n",
    "\n",
    "print(build_output_directory(image_directory, ipts))"
   ]
  },
  {
   "cell_type": "code",
   "execution_count": 40,
   "metadata": {},
   "outputs": [],
   "source": [
    "def extract_instrument_mode(nexus_path):\n",
    "    nexus = pathlib.Path(nexus_path)\n",
    "    assert nexus.exists()\n",
    "\n",
    "    with h5py.File(nexus_path, \"r\") as hdf5_data:\n",
    "        instrument_mode = hdf5_data['entry']['DASlogs']['BL3:Exp:Mode']['value_strings'][0][0].decode(\"utf8\")\n",
    "        \n",
    "        return instrument_mode"
   ]
  },
  {
   "cell_type": "code",
   "execution_count": 41,
   "metadata": {},
   "outputs": [
    {
     "name": "stdout",
     "output_type": "stream",
     "text": [
      "Imaging Mode\n"
     ]
    }
   ],
   "source": [
    "print(extract_instrument_mode(input_data))"
   ]
  },
  {
   "cell_type": "markdown",
   "metadata": {},
   "source": [
    "# Retrieving monitor1 value from NeXus (SNAP) "
   ]
  },
  {
   "cell_type": "code",
   "execution_count": 28,
   "metadata": {},
   "outputs": [],
   "source": [
    "import h5py\n",
    "import os\n",
    "import json"
   ]
  },
  {
   "cell_type": "code",
   "execution_count": 29,
   "metadata": {},
   "outputs": [],
   "source": [
    "nexus_path = '/Volumes/G-DRIVE/IPTS/SNAP/SNAP_54282.nxs.h5'\n",
    "assert os.path.isfile(nexus_path)"
   ]
  },
  {
   "cell_type": "code",
   "execution_count": 30,
   "metadata": {},
   "outputs": [],
   "source": [
    "f = h5py.File(nexus_path, 'r')"
   ]
  },
  {
   "cell_type": "code",
   "execution_count": 31,
   "metadata": {},
   "outputs": [
    {
     "name": "stdout",
     "output_type": "stream",
     "text": [
      "monitor: 7862583\n",
      "instrument mode: Imaging Mode\n",
      "source filename: ['C:/data/IPTS-27829/Region_2b_10C/20220225_Run_54281_BM12_0010_0810']\n"
     ]
    }
   ],
   "source": [
    "monitor1 = f['entry']['monitor1']['total_counts'][0]\n",
    "print(f\"monitor: {monitor1}\")\n",
    "\n",
    "instrument_mode = f['entry']['DASlogs']['BL3:Exp:Mode']['value_strings'][0][0].decode(\"utf8\")\n",
    "print(f\"instrument mode: {instrument_mode}\")\n",
    "\n",
    "source_filename = f['entry']['DASlogs']['BL3:Exp:Det:FileName']['value'][0]\n",
    "source_filename = [_entry.decode(\"utf8\") for _entry in source_filename]\n",
    "print(f\"source filename: {source_filename}\")"
   ]
  },
  {
   "cell_type": "code",
   "execution_count": 32,
   "metadata": {},
   "outputs": [],
   "source": [
    "_dict = {'monitor1': int(monitor1),\n",
    "        'intrument_mode': instrument_mode,\n",
    "        'source_filename': source_filename}"
   ]
  },
  {
   "cell_type": "code",
   "execution_count": 33,
   "metadata": {},
   "outputs": [],
   "source": [
    "output_json = \"/Users/j35/Desktop/export_json.json\"\n",
    "with open(output_json, 'w') as write_file:\n",
    "    json.dump(_dict, write_file)"
   ]
  },
  {
   "cell_type": "code",
   "execution_count": 34,
   "metadata": {},
   "outputs": [
    {
     "name": "stdout",
     "output_type": "stream",
     "text": [
      "detector_offset: 9099832.44175\n",
      "detector_units: ns\n"
     ]
    }
   ],
   "source": [
    "detector_offset = f['entry']['DASlogs']['BL3:Det:dsp1:Trig2:Delay']['average_value'][0]\n",
    "detector_offset_units = f['entry']['DASlogs']['BL3:Det:dsp1:Trig2:Delay']['average_value'].attrs.get('units').decode(\"utf8\")\n",
    "\n",
    "\n",
    "print(f\"detector_offset: {detector_offset}\")\n",
    "print(f\"detector_units: {detector_offset_units}\")"
   ]
  },
  {
   "cell_type": "code",
   "execution_count": 44,
   "metadata": {},
   "outputs": [
    {
     "name": "stdout",
     "output_type": "stream",
     "text": [
      "detector_sample_distance: 20.0\n",
      "units: m\n"
     ]
    }
   ],
   "source": [
    "detector_sample_distance = f['entry']['DASlogs']['BL3:Exp:DetectorDistance']['average_value'][0]\n",
    "detector_sample_units = f['entry']['DASlogs']['BL3:Exp:DetectorDistance']['average_value'].attrs.get('units').decode(\"utf8\")\n",
    "print(f\"detector_sample_distance: {detector_sample_distance}\")\n",
    "print(f\"units: {detector_sample_units}\")"
   ]
  },
  {
   "cell_type": "code",
   "execution_count": null,
   "metadata": {},
   "outputs": [],
   "source": []
  }
 ],
 "metadata": {
  "kernelspec": {
   "display_name": "Python 3",
   "language": "python",
   "name": "python3"
  },
  "language_info": {
   "codemirror_mode": {
    "name": "ipython",
    "version": 3
   },
   "file_extension": ".py",
   "mimetype": "text/x-python",
   "name": "python",
   "nbconvert_exporter": "python",
   "pygments_lexer": "ipython3",
   "version": "3.7.10"
  },
  "toc": {
   "colors": {
    "hover_highlight": "#DAA520",
    "running_highlight": "#FF0000",
    "selected_highlight": "#FFD700"
   },
   "moveMenuLeft": true,
   "nav_menu": {
    "height": "66px",
    "width": "252px"
   },
   "navigate_menu": true,
   "number_sections": true,
   "sideBar": true,
   "threshold": 4,
   "toc_cell": false,
   "toc_section_display": "block",
   "toc_window_display": false
  }
 },
 "nbformat": 4,
 "nbformat_minor": 2
}
