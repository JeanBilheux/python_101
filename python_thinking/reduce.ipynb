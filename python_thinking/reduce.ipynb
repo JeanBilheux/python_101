{
 "cells": [
  {
   "cell_type": "markdown",
   "metadata": {
    "run_control": {
     "frozen": false,
     "read_only": false
    }
   },
   "source": [
    "Source of tutorial found on [YouTube here](https://www.youtube.com/watch?v=ZrZ6vJGiE8I&__s=xeegezzyrfhwongbojre)"
   ]
  },
  {
   "cell_type": "code",
   "execution_count": 14,
   "metadata": {},
   "outputs": [],
   "source": [
    "from functools import reduce\n",
    "import pprint"
   ]
  },
  {
   "cell_type": "markdown",
   "metadata": {},
   "source": [
    "**reduce** takes 2 arguments + 1 optional starting value argument\n",
    "\n",
    " - First argument: function to use\n",
    " - second argument: list"
   ]
  },
  {
   "cell_type": "code",
   "execution_count": 2,
   "metadata": {
    "collapsed": true
   },
   "outputs": [],
   "source": [
    "reduce?"
   ]
  },
  {
   "cell_type": "markdown",
   "metadata": {},
   "source": [
    "# Example 1 "
   ]
  },
  {
   "cell_type": "code",
   "execution_count": 3,
   "metadata": {
    "collapsed": true
   },
   "outputs": [],
   "source": [
    "names_and_ages = ({'age': 202, 'name': 'a'},\n",
    "                 {'age': 135, 'name': 'b'},\n",
    "                 {'age': 150, 'name': 'c'},\n",
    "                 {'age': 87, 'name': 'd'},)"
   ]
  },
  {
   "cell_type": "code",
   "execution_count": 4,
   "metadata": {},
   "outputs": [
    {
     "name": "stdout",
     "output_type": "stream",
     "text": [
      "574\n"
     ]
    }
   ],
   "source": [
    "total_age = reduce(lambda acc, val: acc + val['age'],\n",
    "                  names_and_ages,\n",
    "                  0)\n",
    "print(total_age)"
   ]
  },
  {
   "cell_type": "markdown",
   "metadata": {},
   "source": [
    "# Example 2"
   ]
  },
  {
   "cell_type": "code",
   "execution_count": 5,
   "metadata": {
    "collapsed": true
   },
   "outputs": [],
   "source": [
    "scientists = ({'name': 'Ada Lovelace', 'field':'math'},\n",
    "             {'name': 'Emmy Noether', 'field':'math'},\n",
    "             {'name': 'Marie Curie', 'field':'physics'},\n",
    "             {'name': 'Tu Youyou', 'field':'chemistry'},\n",
    "             {'name': 'Ada Yonath', 'field':'chemistry'},\n",
    "             {'name': 'Vera Rubin', 'field': 'astronomy'},\n",
    "             {'name': 'Sally Ride', 'field': 'physics'})"
   ]
  },
  {
   "cell_type": "code",
   "execution_count": 9,
   "metadata": {
    "collapsed": true
   },
   "outputs": [],
   "source": [
    "def reducer(acc, val):\n",
    "    acc[val['field']].append(val['name'])\n",
    "    return acc"
   ]
  },
  {
   "cell_type": "code",
   "execution_count": 10,
   "metadata": {},
   "outputs": [],
   "source": [
    "scientists_by_field = reduce(reducer, scientists, {'math': [], 'physics': [], 'astronomy': [], 'chemistry': []})"
   ]
  },
  {
   "cell_type": "code",
   "execution_count": 11,
   "metadata": {},
   "outputs": [
    {
     "name": "stdout",
     "output_type": "stream",
     "text": [
      "{'physics': ['Marie Curie', 'Sally Ride'], 'chemistry': ['Tu Youyou', 'Ada Yonath'], 'astronomy': ['Vera Rubin'], 'math': ['Ada Lovelace', 'Emmy Noether']}\n"
     ]
    }
   ],
   "source": [
    "print(scientists_by_field)"
   ]
  },
  {
   "cell_type": "markdown",
   "metadata": {},
   "source": [
    "In order to avoid the need to initialize the final dictionary inside the **reduce** function, we can use **collections.defaultDict**"
   ]
  },
  {
   "cell_type": "code",
   "execution_count": 12,
   "metadata": {
    "collapsed": true
   },
   "outputs": [],
   "source": [
    "import collections"
   ]
  },
  {
   "cell_type": "code",
   "execution_count": 13,
   "metadata": {
    "collapsed": true
   },
   "outputs": [],
   "source": [
    "scientists_by_field = reduce(reducer, scientists, collections.defaultdict(list))"
   ]
  },
  {
   "cell_type": "code",
   "execution_count": 15,
   "metadata": {},
   "outputs": [
    {
     "name": "stdout",
     "output_type": "stream",
     "text": [
      "defaultdict(<class 'list'>,\n",
      "            {'astronomy': ['Vera Rubin'],\n",
      "             'chemistry': ['Tu Youyou', 'Ada Yonath'],\n",
      "             'math': ['Ada Lovelace', 'Emmy Noether'],\n",
      "             'physics': ['Marie Curie', 'Sally Ride']})\n"
     ]
    }
   ],
   "source": [
    "pprint.pprint(scientists_by_field)"
   ]
  },
  {
   "cell_type": "code",
   "execution_count": null,
   "metadata": {
    "collapsed": true
   },
   "outputs": [],
   "source": []
  }
 ],
 "metadata": {
  "kernelspec": {
   "display_name": "Python [conda env:py35]",
   "language": "python",
   "name": "conda-env-py35-py"
  },
  "language_info": {
   "codemirror_mode": {
    "name": "ipython",
    "version": 3
   },
   "file_extension": ".py",
   "mimetype": "text/x-python",
   "name": "python",
   "nbconvert_exporter": "python",
   "pygments_lexer": "ipython3",
   "version": "3.5.3"
  },
  "toc": {
   "colors": {
    "hover_highlight": "#DAA520",
    "running_highlight": "#FF0000",
    "selected_highlight": "#FFD700"
   },
   "moveMenuLeft": true,
   "nav_menu": {
    "height": "47px",
    "width": "252px"
   },
   "navigate_menu": true,
   "number_sections": true,
   "sideBar": true,
   "threshold": 4,
   "toc_cell": false,
   "toc_section_display": "block",
   "toc_window_display": false
  }
 },
 "nbformat": 4,
 "nbformat_minor": 2
}
