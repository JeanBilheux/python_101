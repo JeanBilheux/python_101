{
 "cells": [
  {
   "cell_type": "code",
   "execution_count": 1,
   "metadata": {},
   "outputs": [],
   "source": [
    "import random\n",
    "from pprint import pprint\n",
    "import numpy as np"
   ]
  },
  {
   "cell_type": "code",
   "execution_count": 8,
   "metadata": {},
   "outputs": [],
   "source": [
    "a = [random.randint(0,10) for x in range(10)]"
   ]
  },
  {
   "cell_type": "code",
   "execution_count": 9,
   "metadata": {},
   "outputs": [
    {
     "name": "stdout",
     "output_type": "stream",
     "text": [
      "[10, 4, 7, 6, 1, 2, 2, 3, 2, 4]\n"
     ]
    }
   ],
   "source": [
    "print(a)"
   ]
  },
  {
   "cell_type": "markdown",
   "metadata": {},
   "source": [
    "### sort"
   ]
  },
  {
   "cell_type": "code",
   "execution_count": 12,
   "metadata": {},
   "outputs": [
    {
     "name": "stdout",
     "output_type": "stream",
     "text": [
      "[1, 2, 2, 2, 3, 4, 4, 6, 7, 10]\n"
     ]
    }
   ],
   "source": [
    "a.sort()\n",
    "print(a)"
   ]
  },
  {
   "cell_type": "markdown",
   "metadata": {},
   "source": [
    "### sort reverse"
   ]
  },
  {
   "cell_type": "code",
   "execution_count": 22,
   "metadata": {
    "collapsed": true
   },
   "outputs": [],
   "source": [
    "aa = [random.randint(0,10) for x in range(20)]"
   ]
  },
  {
   "cell_type": "code",
   "execution_count": 24,
   "metadata": {},
   "outputs": [
    {
     "name": "stdout",
     "output_type": "stream",
     "text": [
      "[10, 9, 8, 7, 7, 7, 6, 5, 4, 4, 4, 3, 3, 3, 3, 3, 1, 0, 0, 0]\n"
     ]
    }
   ],
   "source": [
    "bb = sorted(aa, reverse=True)\n",
    "print(bb)"
   ]
  },
  {
   "cell_type": "markdown",
   "metadata": {},
   "source": [
    "### sorted"
   ]
  },
  {
   "cell_type": "code",
   "execution_count": 2,
   "metadata": {},
   "outputs": [
    {
     "name": "stdout",
     "output_type": "stream",
     "text": [
      "[0, 2, 0, 7, 5, 10, 0, 5, 6, 9, 4, 4, 3, 4, 10, 9, 2, 5, 10, 9]\n"
     ]
    }
   ],
   "source": [
    "b = [random.randint(0,10) for x in range(20)]\n",
    "print(b)"
   ]
  },
  {
   "cell_type": "code",
   "execution_count": 3,
   "metadata": {},
   "outputs": [
    {
     "name": "stdout",
     "output_type": "stream",
     "text": [
      "[0, 0, 0, 2, 2, 3, 4, 4, 4, 5, 5, 5, 6, 7, 9, 9, 9, 10, 10, 10]\n"
     ]
    }
   ],
   "source": [
    "c = sorted(b)\n",
    "print(c)"
   ]
  },
  {
   "cell_type": "markdown",
   "metadata": {},
   "source": [
    "### sort by length"
   ]
  },
  {
   "cell_type": "code",
   "execution_count": 4,
   "metadata": {},
   "outputs": [
    {
     "name": "stdout",
     "output_type": "stream",
     "text": [
      "['aaaaa', 'bbb', 'ddfdfdfdfdfd', 'eeee']\n"
     ]
    }
   ],
   "source": [
    "list_str = ['aaaaa','bbb','ddfdfdfdfdfd','eeee']\n",
    "sort_by_str = sorted(list_str)\n",
    "print(sort_by_str)"
   ]
  },
  {
   "cell_type": "code",
   "execution_count": 5,
   "metadata": {},
   "outputs": [
    {
     "name": "stdout",
     "output_type": "stream",
     "text": [
      "['ddfdfdfdfdfd', 'aaaaa', 'eeee', 'bbb']\n"
     ]
    }
   ],
   "source": [
    "sort_by_len = sorted(list_str, key=len, reverse=True)\n",
    "print(sort_by_len)"
   ]
  },
  {
   "cell_type": "markdown",
   "metadata": {},
   "source": [
    "works with lambda function"
   ]
  },
  {
   "cell_type": "code",
   "execution_count": 8,
   "metadata": {},
   "outputs": [
    {
     "data": {
      "text/plain": [
       "['ddfdfdfdfdfd', 'aaaaa', 'eeee', 'bbb']"
      ]
     },
     "execution_count": 8,
     "metadata": {},
     "output_type": "execute_result"
    }
   ],
   "source": [
    "sorted(list_str, key=lambda x: len(x), reverse=True)"
   ]
  },
  {
   "cell_type": "markdown",
   "metadata": {},
   "source": [
    "### own sort key function"
   ]
  },
  {
   "cell_type": "code",
   "execution_count": 29,
   "metadata": {
    "collapsed": true
   },
   "outputs": [],
   "source": [
    "def myFct(s):\n",
    "    ''' sort by last character '''\n",
    "    return s[-1]"
   ]
  },
  {
   "cell_type": "code",
   "execution_count": 31,
   "metadata": {
    "collapsed": true
   },
   "outputs": [],
   "source": [
    "list_str = ['ab','ca','de','fg','eb']"
   ]
  },
  {
   "cell_type": "code",
   "execution_count": 32,
   "metadata": {},
   "outputs": [
    {
     "name": "stdout",
     "output_type": "stream",
     "text": [
      "['ca', 'ab', 'eb', 'de', 'fg']\n"
     ]
    }
   ],
   "source": [
    "sort_by_last_char = sorted(list_str, key=myFct)\n",
    "pprint(sort_by_last_char)"
   ]
  },
  {
   "cell_type": "markdown",
   "metadata": {},
   "source": [
    " **a.** sort by length of string using function"
   ]
  },
  {
   "cell_type": "code",
   "execution_count": 3,
   "metadata": {},
   "outputs": [],
   "source": [
    "def mySortAlgo(s):\n",
    "    ''' sort by length of string s '''\n",
    "    return len(s)"
   ]
  },
  {
   "cell_type": "code",
   "execution_count": 4,
   "metadata": {},
   "outputs": [
    {
     "name": "stdout",
     "output_type": "stream",
     "text": [
      "['Plato', 'Socrates', 'Aristotle', 'Archimedes']\n"
     ]
    }
   ],
   "source": [
    "names = ['Socrates','Archimedes', 'Plato', 'Aristotle']\n",
    "names.sort(key=mySortAlgo)\n",
    "print(names)"
   ]
  },
  {
   "cell_type": "markdown",
   "metadata": {},
   "source": [
    " **b.** or using lambda"
   ]
  },
  {
   "cell_type": "code",
   "execution_count": 5,
   "metadata": {},
   "outputs": [
    {
     "name": "stdout",
     "output_type": "stream",
     "text": [
      "['Plato', 'Socrates', 'Aristotle', 'Archimedes']\n"
     ]
    }
   ],
   "source": [
    "names = ['Socrates','Archimedes', 'Plato', 'Aristotle']\n",
    "names.sort(key=lambda x: len(x))\n",
    "print(names)"
   ]
  },
  {
   "cell_type": "markdown",
   "metadata": {},
   "source": [
    "Useful when working with classes"
   ]
  },
  {
   "cell_type": "code",
   "execution_count": 10,
   "metadata": {},
   "outputs": [],
   "source": [
    "from collections import namedtuple"
   ]
  },
  {
   "cell_type": "code",
   "execution_count": 13,
   "metadata": {},
   "outputs": [
    {
     "data": {
      "text/plain": [
       "[StudentFinal(name='Bart', grade=89),\n",
       " StudentFinal(name='Bill', grade=90),\n",
       " StudentFinal(name='Patty', grade=94)]"
      ]
     },
     "execution_count": 13,
     "metadata": {},
     "output_type": "execute_result"
    }
   ],
   "source": [
    "StudentFinal = namedtuple('StudentFinal', 'name grade')\n",
    "bill = StudentFinal('Bill', 90)\n",
    "patty = StudentFinal('Patty', 94)\n",
    "bart = StudentFinal('Bart', 89)\n",
    "students = [bill, patty, bart]\n",
    "sorted(students, key=lambda x: getattr(x, 'grade'))"
   ]
  },
  {
   "cell_type": "markdown",
   "metadata": {},
   "source": [
    "### sort helper "
   ]
  },
  {
   "cell_type": "code",
   "execution_count": 50,
   "metadata": {},
   "outputs": [
    {
     "name": "stdout",
     "output_type": "stream",
     "text": [
      "[9, 2, 9, 4, 1, 7, 1, 8, 4, 4]\n"
     ]
    }
   ],
   "source": [
    "group = [2, 3, 4, 5, 6]\n",
    "numbers = [random.randint(0, 10) for x in range(10)]\n",
    "pprint(numbers)"
   ]
  },
  {
   "cell_type": "markdown",
   "metadata": {},
   "source": [
    "Python has specific rules for comparing tuples. It first compares items in index zero, then index one, then index two, and so on. This is why the return value from the helper closure causes the sort order to have two distinct groups"
   ]
  },
  {
   "cell_type": "code",
   "execution_count": 51,
   "metadata": {
    "collapsed": true
   },
   "outputs": [],
   "source": [
    "def sort_priority(values, group):\n",
    "    def helper(x):\n",
    "        if x in group:\n",
    "            return (0, x)\n",
    "        return (1, x)\n",
    "    \n",
    "    values.sort(key=helper)    "
   ]
  },
  {
   "cell_type": "code",
   "execution_count": 52,
   "metadata": {},
   "outputs": [],
   "source": [
    "sort_priority(numbers, group)"
   ]
  },
  {
   "cell_type": "code",
   "execution_count": 53,
   "metadata": {},
   "outputs": [
    {
     "name": "stdout",
     "output_type": "stream",
     "text": [
      "[2, 4, 4, 4, 1, 1, 7, 8, 9, 9]\n"
     ]
    }
   ],
   "source": [
    "pprint(numbers)"
   ]
  },
  {
   "cell_type": "code",
   "execution_count": null,
   "metadata": {
    "collapsed": true
   },
   "outputs": [],
   "source": []
  }
 ],
 "metadata": {
  "kernelspec": {
   "display_name": "Python 3",
   "language": "python",
   "name": "python3"
  },
  "language_info": {
   "codemirror_mode": {
    "name": "ipython",
    "version": 3
   },
   "file_extension": ".py",
   "mimetype": "text/x-python",
   "name": "python",
   "nbconvert_exporter": "python",
   "pygments_lexer": "ipython3",
   "version": "3.6.4"
  }
 },
 "nbformat": 4,
 "nbformat_minor": 1
}
