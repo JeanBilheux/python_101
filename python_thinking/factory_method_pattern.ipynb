{
 "cells": [
  {
   "cell_type": "markdown",
   "metadata": {},
   "source": [
    "Tutorial based on this [page](https://realpython.com/factory-method-python/)"
   ]
  },
  {
   "cell_type": "markdown",
   "metadata": {},
   "source": [
    "# Goal \n",
    "\n",
    "let's work with an application that needs to convert a **Song** object into its string representation (using a specified format). \n",
    "\n",
    "__serialization__: when converting an object to a different representation\n",
    "\n"
   ]
  },
  {
   "cell_type": "markdown",
   "metadata": {},
   "source": [
    "# Traditional way to do this\n"
   ]
  },
  {
   "cell_type": "code",
   "execution_count": 2,
   "metadata": {},
   "outputs": [],
   "source": [
    "import json\n",
    "import xml.etree.ElementTree as et"
   ]
  },
  {
   "cell_type": "code",
   "execution_count": 7,
   "metadata": {},
   "outputs": [],
   "source": [
    "class Song:\n",
    "    def __init__(self, song_id, title, artist):\n",
    "        self.song_id = song_id\n",
    "        self.title = title\n",
    "        self.artist = artist\n",
    "\n",
    "class SongSerializer:\n",
    "    def serialize(self, song, format):\n",
    "        if format == 'JSON':\n",
    "            song_info = {\n",
    "                'id': song.song_id,\n",
    "                'title': song.title,\n",
    "                'artist': song.artist\n",
    "            }\n",
    "            return json.dumps(song_info)\n",
    "        elif format == 'XML':\n",
    "            song_info = et.Element('song', attrib={'id': song.song_id})\n",
    "            title = et.SubElement(song_info, 'title')\n",
    "            title.text = song.title\n",
    "            artist = et.SubElement(song_info, 'artist')\n",
    "            artist.text = song.artist\n",
    "            return et.tostring(song_info, encoding='unicode')\n",
    "        else:\n",
    "            raise ValueError(format)"
   ]
  },
  {
   "cell_type": "markdown",
   "metadata": {},
   "source": [
    "Demo of its use"
   ]
  },
  {
   "cell_type": "code",
   "execution_count": null,
   "metadata": {},
   "outputs": [],
   "source": [
    "song = Song('1', 'Water of Love', 'Dire Straits')"
   ]
  },
  {
   "cell_type": "code",
   "execution_count": 9,
   "metadata": {},
   "outputs": [],
   "source": [
    "serializer = SongSerializer()"
   ]
  },
  {
   "cell_type": "markdown",
   "metadata": {},
   "source": [
    "Create the JSON version of our object"
   ]
  },
  {
   "cell_type": "code",
   "execution_count": 10,
   "metadata": {},
   "outputs": [
    {
     "data": {
      "text/plain": [
       "'{\"id\": \"1\", \"title\": \"Water of Love\", \"artist\": \"Dire Straits\"}'"
      ]
     },
     "execution_count": 10,
     "metadata": {},
     "output_type": "execute_result"
    }
   ],
   "source": [
    "serializer.serialize(song, 'JSON')"
   ]
  },
  {
   "cell_type": "markdown",
   "metadata": {},
   "source": [
    "Create the XML verrsion of our object"
   ]
  },
  {
   "cell_type": "code",
   "execution_count": 12,
   "metadata": {},
   "outputs": [
    {
     "data": {
      "text/plain": [
       "'<song id=\"1\"><title>Water of Love</title><artist>Dire Straits</artist></song>'"
      ]
     },
     "execution_count": 12,
     "metadata": {},
     "output_type": "execute_result"
    }
   ],
   "source": [
    "serializer.serialize(song, 'XML')"
   ]
  },
  {
   "cell_type": "markdown",
   "metadata": {},
   "source": [
    "This method of doing things is bad because:\n",
    "    \n",
    "- **SongSerializer** is doing more than 1 thing (that goes against the [single responsibility principle](https://en.wikipedia.org/wiki/Single_responsibility_principle))\n",
    "- because of the **if/then/else**, it's hard to read and hard to maintain\n",
    "\n",
    "Problems will show up if:\n",
    "- a new format is introduced\n",
    "- the Song object changes\n",
    "- when the string representation ('JSON' vs 'JSON API') changes\n",
    "\n",
    "**Ideal solution**\n",
    "\n",
    "If any of those cases show up, we do not need to change the **serialize()** method."
   ]
  },
  {
   "cell_type": "markdown",
   "metadata": {},
   "source": [
    "# Looking for common Interface "
   ]
  },
  {
   "cell_type": "markdown",
   "metadata": {},
   "source": [
    "1. We need to find the common interface in our software. Here, the common goal is **to take a Song object and output a string**\n",
    "\n",
    "2. We will provide separate implementations for each logical paths\n",
    "\n",
    "3. Another **separate component** will decide of the concrete implementation to use\n",
    "\n"
   ]
  },
  {
   "cell_type": "markdown",
   "metadata": {},
   "source": [
    "# Refactoring Code inoto the Desired Interface "
   ]
  },
  {
   "cell_type": "code",
   "execution_count": 13,
   "metadata": {},
   "outputs": [],
   "source": [
    "class SongSerializer:\n",
    "    def serialize(self, song, format):\n",
    "        if format == 'JSON':\n",
    "            return self._serialize_to_json(song)\n",
    "        elif format == 'XML':\n",
    "            return self._serialize_to_xml(song)\n",
    "        else:\n",
    "            raise ValueError(format)\n",
    "            \n",
    "    def _serialize_to_json(self, song):\n",
    "            song_info = {\n",
    "                'id': song.song_id,\n",
    "                'title': song.title,\n",
    "                'artist': song.artist\n",
    "            }\n",
    "            return json.dumps(song_info)\n",
    "\n",
    "    def _serialize_to_xml(self, song):\n",
    "            song_info = et.Element('song', attrib={'id': song.song_id})\n",
    "            title = et.SubElement(song_info, 'title')\n",
    "            title.text = song.title\n",
    "            artist = et.SubElement(song_info, 'artist')\n",
    "            artist.text = song.artist\n",
    "            return et.tostring(song_info, encoding='unicode')\n"
   ]
  },
  {
   "cell_type": "code",
   "execution_count": 15,
   "metadata": {},
   "outputs": [
    {
     "name": "stdout",
     "output_type": "stream",
     "text": [
      "JSON: {\"id\": \"1\", \"title\": \"Water of Love\", \"artist\": \"Dire Straits\"}\n",
      "XML: <song id=\"1\"><title>Water of Love</title><artist>Dire Straits</artist></song>\n"
     ]
    }
   ],
   "source": [
    "song = Song('1', 'Water of Love', 'Dire Straits')\n",
    "serializer = SongSerializer()\n",
    "print(\"JSON: {}\".format(serializer.serialize(song, 'JSON')))\n",
    "print(\"XML: {}\".format(serializer.serialize(song, 'XML')))"
   ]
  },
  {
   "cell_type": "markdown",
   "metadata": {},
   "source": [
    "This is better (and this is what I use to do to be honest) but this can still be improved by using the **Factory** method."
   ]
  },
  {
   "cell_type": "markdown",
   "metadata": {},
   "source": [
    "# Basic Implementation of Factory Method"
   ]
  },
  {
   "cell_type": "code",
   "execution_count": 18,
   "metadata": {},
   "outputs": [],
   "source": [
    "class SongSerializer:\n",
    "    \n",
    "    def _get_serializer(self, format):\n",
    "        \"\"\"this method evaluates the value of the format and return the matching serialization function\n",
    "        \n",
    "        name: creator\n",
    "        \"\"\"\n",
    "        if format == 'JSON':\n",
    "            return self._serialize_to_json\n",
    "        elif format == 'XML':\n",
    "            return self._serialize_to_xml\n",
    "        else:\n",
    "            raise ValueError(format)\n",
    "    \n",
    "    def serialize(self, song, format):\n",
    "        \"\"\"name: client of the component pattern\"\"\"\n",
    "        _serializer = self._get_serializer(format)\n",
    "        return _serializer(song)\n",
    "            \n",
    "    def _serialize_to_json(self, song):\n",
    "        \"\"\"name: product component\"\"\"\n",
    "            song_info = {\n",
    "                'id': song.song_id,\n",
    "                'title': song.title,\n",
    "                'artist': song.artist\n",
    "            }\n",
    "            return json.dumps(song_info)\n",
    "\n",
    "    def _serialize_to_xml(self, song):\n",
    "        \"\"\"name: product component\"\"\"\n",
    "            song_info = et.Element('song', attrib={'id': song.song_id})\n",
    "            title = et.SubElement(song_info, 'title')\n",
    "            title.text = song.title\n",
    "            artist = et.SubElement(song_info, 'artist')\n",
    "            artist.text = song.artist\n",
    "            return et.tostring(song_info, encoding='unicode')"
   ]
  },
  {
   "cell_type": "code",
   "execution_count": 19,
   "metadata": {},
   "outputs": [
    {
     "name": "stdout",
     "output_type": "stream",
     "text": [
      "JSON: {\"id\": \"1\", \"title\": \"Water of Love\", \"artist\": \"Dire Straits\"}\n",
      "XML: <song id=\"1\"><title>Water of Love</title><artist>Dire Straits</artist></song>\n"
     ]
    }
   ],
   "source": [
    "song = Song('1', 'Water of Love', 'Dire Straits')\n",
    "serializer = SongSerializer()\n",
    "print(\"JSON: {}\".format(serializer.serialize(song, 'JSON')))\n",
    "print(\"XML: {}\".format(serializer.serialize(song, 'XML')))"
   ]
  },
  {
   "cell_type": "markdown",
   "metadata": {},
   "source": [
    "More cleaning due to the fact that some of the class do not have to be part of the class"
   ]
  },
  {
   "cell_type": "code",
   "execution_count": 20,
   "metadata": {},
   "outputs": [],
   "source": [
    "class SongSerializer:\n",
    "    def serialize(self, song, format):\n",
    "        serializer = get_serializer(format)\n",
    "        return serializer(song)\n",
    "\n",
    "\n",
    "def get_serializer(format):\n",
    "    if format == 'JSON':\n",
    "        return _serialize_to_json\n",
    "    elif format == 'XML':\n",
    "        return _serialize_to_xml\n",
    "    else:\n",
    "        raise ValueError(format)\n",
    "\n",
    "\n",
    "def _serialize_to_json(song):\n",
    "    payload = {\n",
    "        'id': song.song_id,\n",
    "        'title': song.title,\n",
    "        'artist': song.artist\n",
    "    }\n",
    "    return json.dumps(payload)\n",
    "\n",
    "\n",
    "def _serialize_to_xml(song):\n",
    "    song_element = et.Element('song', attrib={'id': song.song_id})\n",
    "    title = et.SubElement(song_element, 'title')\n",
    "    title.text = song.title\n",
    "    artist = et.SubElement(song_element, 'artist')\n",
    "    artist.text = song.artist\n",
    "    return et.tostring(song_element, encoding='unicode')"
   ]
  },
  {
   "cell_type": "code",
   "execution_count": 21,
   "metadata": {},
   "outputs": [
    {
     "name": "stdout",
     "output_type": "stream",
     "text": [
      "JSON: {\"id\": \"1\", \"title\": \"Water of Love\", \"artist\": \"Dire Straits\"}\n",
      "XML: <song id=\"1\"><title>Water of Love</title><artist>Dire Straits</artist></song>\n"
     ]
    }
   ],
   "source": [
    "song = Song('1', 'Water of Love', 'Dire Straits')\n",
    "serializer = SongSerializer()\n",
    "print(\"JSON: {}\".format(serializer.serialize(song, 'JSON')))\n",
    "print(\"XML: {}\".format(serializer.serialize(song, 'XML')))"
   ]
  },
  {
   "cell_type": "code",
   "execution_count": null,
   "metadata": {},
   "outputs": [],
   "source": []
  }
 ],
 "metadata": {
  "kernelspec": {
   "display_name": "Python 3",
   "language": "python",
   "name": "python3"
  },
  "language_info": {
   "codemirror_mode": {
    "name": "ipython",
    "version": 3
   },
   "file_extension": ".py",
   "mimetype": "text/x-python",
   "name": "python",
   "nbconvert_exporter": "python",
   "pygments_lexer": "ipython3",
   "version": "3.6.7"
  }
 },
 "nbformat": 4,
 "nbformat_minor": 2
}
