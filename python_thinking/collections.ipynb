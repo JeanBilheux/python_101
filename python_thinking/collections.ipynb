{
 "cells": [
  {
   "cell_type": "markdown",
   "metadata": {},
   "source": [
    "Documentation found:\n",
    "* [Python software foundation](https://docs.python.org/2/library/collections.html#module-collections)"
   ]
  },
  {
   "cell_type": "markdown",
   "metadata": {},
   "source": [
    "## namedtuple()"
   ]
  },
  {
   "cell_type": "code",
   "execution_count": 17,
   "metadata": {
    "collapsed": false
   },
   "outputs": [
    {
     "name": "stdout",
     "output_type": "stream",
     "text": [
      "<class 'tuple'>\n"
     ]
    }
   ],
   "source": [
    "# normal tuple\n",
    "a=(1,2,3)\n",
    "print(type(a))"
   ]
  },
  {
   "cell_type": "markdown",
   "metadata": {},
   "source": [
    "Named tuples assign meaning to each position in a tuple and allow for more readable, self-documenting code. They can be used wherever regular tuples are used, and they add the ability to access fields by name instead of position index. "
   ]
  },
  {
   "cell_type": "markdown",
   "metadata": {},
   "source": [
    "full tutorial in [this log book](namedtuple.ipynb)"
   ]
  },
  {
   "cell_type": "markdown",
   "metadata": {},
   "source": [
    "## deque\n",
    "\n",
    "[tutorial here](https://pymotw.com/2/collections/deque.html)"
   ]
  },
  {
   "cell_type": "markdown",
   "metadata": {},
   "source": [
    "Those are a generalization of stacks and queues (pronouced 'deck' and is short for 'double-ended-queue'). Deques support thread-safe, memory efficient appends and pops from either side of the deque with approximately the same O91) performance in either direction. "
   ]
  },
  {
   "cell_type": "code",
   "execution_count": 11,
   "metadata": {
    "collapsed": true
   },
   "outputs": [],
   "source": [
    "from collections import deque"
   ]
  },
  {
   "cell_type": "code",
   "execution_count": 14,
   "metadata": {
    "collapsed": false
   },
   "outputs": [
    {
     "name": "stdout",
     "output_type": "stream",
     "text": [
      "Deque: deque(['a', 'b', 'c', 'd', 'e', 'f', 'g'])\n",
      "Length: 7\n",
      "Left end: a\n",
      "Right end: g\n",
      "remove(c): deque(['a', 'b', 'd', 'e', 'f', 'g'])\n"
     ]
    }
   ],
   "source": [
    "d = deque('abcdefg')\n",
    "print('Deque:', d)\n",
    "print('Length:', len(d))\n",
    "print('Left end:', d[0])\n",
    "print('Right end:', d[-1])\n",
    "\n",
    "d.remove('c')\n",
    "print('remove(c):', d)"
   ]
  },
  {
   "cell_type": "markdown",
   "metadata": {},
   "source": [
    "To populte a deque"
   ]
  },
  {
   "cell_type": "code",
   "execution_count": 15,
   "metadata": {
    "collapsed": false
   },
   "outputs": [
    {
     "name": "stdout",
     "output_type": "stream",
     "text": [
      "extend    : deque(['a', 'b', 'c', 'd', 'e', 'f', 'g'])\n",
      "append    : deque(['a', 'b', 'c', 'd', 'e', 'f', 'g', 'h'])\n",
      "extendleft: deque(['g', 'f', 'e', 'd', 'c', 'b', 'a'])\n",
      "appendleft: deque(['h', 'g', 'f', 'e', 'd', 'c', 'b', 'a'])\n"
     ]
    }
   ],
   "source": [
    "# Add to the right\n",
    "d = deque()\n",
    "d.extend('abcdefg')\n",
    "print('extend    :', d)\n",
    "d.append('h')\n",
    "print('append    :', d)\n",
    "\n",
    "# Add to the left\n",
    "d = deque()\n",
    "d.extendleft('abcdefg')\n",
    "print('extendleft:', d)\n",
    "d.appendleft('h')\n",
    "print('appendleft:', d)"
   ]
  },
  {
   "cell_type": "markdown",
   "metadata": {},
   "source": [
    "## Counter"
   ]
  },
  {
   "cell_type": "markdown",
   "metadata": {},
   "source": [
    "It's a **dict** subclass for counting hashable objects. "
   ]
  },
  {
   "cell_type": "code",
   "execution_count": 7,
   "metadata": {
    "collapsed": true
   },
   "outputs": [],
   "source": [
    "from collections import Counter"
   ]
  },
  {
   "cell_type": "markdown",
   "metadata": {},
   "source": [
    "This is provided to support convenient and rapid *tallies* (keep record of number)"
   ]
  },
  {
   "cell_type": "markdown",
   "metadata": {},
   "source": [
    "example: Tally occurences of words in a list"
   ]
  },
  {
   "cell_type": "code",
   "execution_count": 8,
   "metadata": {
    "collapsed": false
   },
   "outputs": [],
   "source": [
    "cnt = Counter()"
   ]
  },
  {
   "cell_type": "code",
   "execution_count": 9,
   "metadata": {
    "collapsed": true
   },
   "outputs": [],
   "source": [
    "for word in ['red', 'blue', 'red', 'green', 'blue', 'blue']:\n",
    "    cnt[word] += 1"
   ]
  },
  {
   "cell_type": "code",
   "execution_count": 10,
   "metadata": {
    "collapsed": false
   },
   "outputs": [
    {
     "data": {
      "text/plain": [
       "Counter({'blue': 3, 'green': 1, 'red': 2})"
      ]
     },
     "execution_count": 10,
     "metadata": {},
     "output_type": "execute_result"
    }
   ],
   "source": [
    "cnt"
   ]
  },
  {
   "cell_type": "markdown",
   "metadata": {},
   "source": [
    "## OrderDict"
   ]
  },
  {
   "cell_type": "markdown",
   "metadata": {},
   "source": [
    "Ordered dictionaries are just like regular dictionaries but they remember the order that items were inserted. When iterating over an ordered dictionary, the items are returned in the order their keys were first added."
   ]
  },
  {
   "cell_type": "code",
   "execution_count": 22,
   "metadata": {
    "collapsed": false
   },
   "outputs": [],
   "source": [
    "from collections import OrderedDict"
   ]
  },
  {
   "cell_type": "code",
   "execution_count": 23,
   "metadata": {
    "collapsed": true
   },
   "outputs": [],
   "source": [
    "# regular dict (without any sorting)\n",
    "d = {'banana': 3, 'apple': 4, 'orange': 2, 'pear': 1}"
   ]
  },
  {
   "cell_type": "code",
   "execution_count": 25,
   "metadata": {
    "collapsed": false
   },
   "outputs": [
    {
     "name": "stdout",
     "output_type": "stream",
     "text": [
      "apple\n",
      "pear\n",
      "orange\n",
      "banana\n"
     ]
    }
   ],
   "source": [
    "for key in d.keys():\n",
    "    print(key)"
   ]
  },
  {
   "cell_type": "code",
   "execution_count": 26,
   "metadata": {
    "collapsed": false
   },
   "outputs": [
    {
     "data": {
      "text/plain": [
       "OrderedDict([('apple', 4), ('banana', 3), ('orange', 2), ('pear', 1)])"
      ]
     },
     "execution_count": 26,
     "metadata": {},
     "output_type": "execute_result"
    }
   ],
   "source": [
    "# dictionary sorted by key\n",
    "OrderedDict(sorted(d.items(), key=lambda t: t[0]))"
   ]
  },
  {
   "cell_type": "code",
   "execution_count": 28,
   "metadata": {
    "collapsed": false
   },
   "outputs": [
    {
     "data": {
      "text/plain": [
       "OrderedDict([('pear', 1), ('orange', 2), ('banana', 3), ('apple', 4)])"
      ]
     },
     "execution_count": 28,
     "metadata": {},
     "output_type": "execute_result"
    }
   ],
   "source": [
    "# dictionary sorted by value\n",
    "OrderedDict(sorted(d.items(), key=lambda t: t[1]))"
   ]
  },
  {
   "cell_type": "code",
   "execution_count": 30,
   "metadata": {
    "collapsed": false
   },
   "outputs": [
    {
     "data": {
      "text/plain": [
       "OrderedDict([('pear', 1), ('apple', 4), ('orange', 2), ('banana', 3)])"
      ]
     },
     "execution_count": 30,
     "metadata": {},
     "output_type": "execute_result"
    }
   ],
   "source": [
    "# dictionary sorted by length of the key string\n",
    "OrderedDict(sorted(d.items(), key=lambda t: len(t[0])))"
   ]
  },
  {
   "cell_type": "markdown",
   "metadata": {},
   "source": [
    "**Attention**\n",
    "\n",
    "The new sorted dictionaries maintain their sort when entries are deleted. *But when entries are added*, the keys are **appended to the end** and the sort is not maintained."
   ]
  },
  {
   "cell_type": "markdown",
   "metadata": {},
   "source": [
    "## defaultdict\n",
    "\n",
    "Nice [tutorial here](https://www.accelebrate.com/blog/using-defaultdict-python/)"
   ]
  },
  {
   "cell_type": "code",
   "execution_count": null,
   "metadata": {
    "collapsed": true
   },
   "outputs": [],
   "source": []
  }
 ],
 "metadata": {
  "kernelspec": {
   "display_name": "Python 3",
   "language": "python",
   "name": "python3"
  },
  "language_info": {
   "codemirror_mode": {
    "name": "ipython",
    "version": 3
   },
   "file_extension": ".py",
   "mimetype": "text/x-python",
   "name": "python",
   "nbconvert_exporter": "python",
   "pygments_lexer": "ipython3",
   "version": "3.5.1"
  }
 },
 "nbformat": 4,
 "nbformat_minor": 0
}
