{
  "cells": [
    {
      "cell_type": "markdown",
      "source": [
        "Documentation found:\n",
        "* [Python software foundation](https://docs.python.org/2/library/collections.html#module-collections)\n",
        "* [dan Bader review](https://dbader.org/blog/python-dictionaries-maps-and-hashtables)"
      ],
      "metadata": {}
    },
    {
      "cell_type": "markdown",
      "source": [
        "## namedtuple()"
      ],
      "metadata": {}
    },
    {
      "cell_type": "code",
      "source": [
        "# normal tuple\n",
        "a=(1,2,3)\n",
        "print(type(a))"
      ],
      "outputs": [
        {
          "output_type": "stream",
          "name": "stdout",
          "text": [
            "<class 'tuple'>\n"
          ]
        }
      ],
      "execution_count": 17,
      "metadata": {
        "collapsed": false
      }
    },
    {
      "cell_type": "markdown",
      "source": [
        "Named tuples assign meaning to each position in a tuple and allow for more readable, self-documenting code. They can be used wherever regular tuples are used, and they add the ability to access fields by name instead of position index. "
      ],
      "metadata": {}
    },
    {
      "cell_type": "markdown",
      "source": [
        "full tutorial in [this log book](namedtuple.ipynb)"
      ],
      "metadata": {}
    },
    {
      "cell_type": "markdown",
      "source": [
        "## deque\n",
        "\n[tutorial here](https://pymotw.com/2/collections/deque.html)"
      ],
      "metadata": {}
    },
    {
      "cell_type": "markdown",
      "source": [
        "Those are a generalization of stacks and queues (pronouced 'deck' and is short for 'double-ended-queue'). Deques support thread-safe, memory efficient appends and pops from either side of the deque with approximately the same O91) performance in either direction. "
      ],
      "metadata": {}
    },
    {
      "cell_type": "code",
      "source": [
        "from collections import deque"
      ],
      "outputs": [],
      "execution_count": 11,
      "metadata": {
        "collapsed": true
      }
    },
    {
      "cell_type": "code",
      "source": [
        "d = deque('abcdefg')\n",
        "print('Deque:', d)\n",
        "print('Length:', len(d))\n",
        "print('Left end:', d[0])\n",
        "print('Right end:', d[-1])\n",
        "\n",
        "d.remove('c')\n",
        "print('remove(c):', d)"
      ],
      "outputs": [
        {
          "output_type": "stream",
          "name": "stdout",
          "text": [
            "Deque: deque(['a', 'b', 'c', 'd', 'e', 'f', 'g'])\n",
            "Length: 7\n",
            "Left end: a\n",
            "Right end: g\n",
            "remove(c): deque(['a', 'b', 'd', 'e', 'f', 'g'])\n"
          ]
        }
      ],
      "execution_count": 14,
      "metadata": {
        "collapsed": false
      }
    },
    {
      "cell_type": "markdown",
      "source": [
        "To populte a deque"
      ],
      "metadata": {}
    },
    {
      "cell_type": "code",
      "source": [
        "# Add to the right\n",
        "d = deque()\n",
        "d.extend('abcdefg')\n",
        "print('extend    :', d)\n",
        "d.append('h')\n",
        "print('append    :', d)\n",
        "\n",
        "# Add to the left\n",
        "d = deque()\n",
        "d.extendleft('abcdefg')\n",
        "print('extendleft:', d)\n",
        "d.appendleft('h')\n",
        "print('appendleft:', d)"
      ],
      "outputs": [
        {
          "output_type": "stream",
          "name": "stdout",
          "text": [
            "extend    : deque(['a', 'b', 'c', 'd', 'e', 'f', 'g'])\n",
            "append    : deque(['a', 'b', 'c', 'd', 'e', 'f', 'g', 'h'])\n",
            "extendleft: deque(['g', 'f', 'e', 'd', 'c', 'b', 'a'])\n",
            "appendleft: deque(['h', 'g', 'f', 'e', 'd', 'c', 'b', 'a'])\n"
          ]
        }
      ],
      "execution_count": 15,
      "metadata": {
        "collapsed": false
      }
    },
    {
      "cell_type": "markdown",
      "source": [
        "## Counter"
      ],
      "metadata": {}
    },
    {
      "cell_type": "markdown",
      "source": [
        "It's a **dict** subclass for counting hashable objects. "
      ],
      "metadata": {}
    },
    {
      "cell_type": "code",
      "source": [
        "from collections import Counter"
      ],
      "outputs": [],
      "execution_count": 7,
      "metadata": {
        "collapsed": true
      }
    },
    {
      "cell_type": "markdown",
      "source": [
        "This is provided to support convenient and rapid *tallies* (keep record of number)"
      ],
      "metadata": {}
    },
    {
      "cell_type": "markdown",
      "source": [
        "example: Tally occurences of words in a list"
      ],
      "metadata": {}
    },
    {
      "cell_type": "code",
      "source": [
        "cnt = Counter()"
      ],
      "outputs": [],
      "execution_count": 8,
      "metadata": {
        "collapsed": false
      }
    },
    {
      "cell_type": "code",
      "source": [
        "for word in ['red', 'blue', 'red', 'green', 'blue', 'blue']:\n",
        "    cnt[word] += 1"
      ],
      "outputs": [],
      "execution_count": 9,
      "metadata": {
        "collapsed": true
      }
    },
    {
      "cell_type": "code",
      "source": [
        "cnt"
      ],
      "outputs": [
        {
          "output_type": "execute_result",
          "execution_count": 10,
          "data": {
            "text/plain": [
              "Counter({'blue': 3, 'green': 1, 'red': 2})"
            ]
          },
          "metadata": {}
        }
      ],
      "execution_count": 10,
      "metadata": {
        "collapsed": false
      }
    },
    {
      "cell_type": "markdown",
      "source": [
        "## OrderDict"
      ],
      "metadata": {}
    },
    {
      "cell_type": "markdown",
      "source": [
        "Ordered dictionaries are just like regular dictionaries but they remember the order that items were inserted. When iterating over an ordered dictionary, the items are returned in the order their keys were first added."
      ],
      "metadata": {}
    },
    {
      "cell_type": "code",
      "source": [
        "from collections import OrderedDict"
      ],
      "outputs": [],
      "execution_count": 22,
      "metadata": {
        "collapsed": false
      }
    },
    {
      "cell_type": "code",
      "source": [
        "# regular dict (without any sorting)\n",
        "d = {'banana': 3, 'apple': 4, 'orange': 2, 'pear': 1}"
      ],
      "outputs": [],
      "execution_count": 23,
      "metadata": {
        "collapsed": true
      }
    },
    {
      "cell_type": "code",
      "source": [
        "for key in d.keys():\n",
        "    print(key)"
      ],
      "outputs": [
        {
          "output_type": "stream",
          "name": "stdout",
          "text": [
            "apple\n",
            "pear\n",
            "orange\n",
            "banana\n"
          ]
        }
      ],
      "execution_count": 25,
      "metadata": {
        "collapsed": false
      }
    },
    {
      "cell_type": "code",
      "source": [
        "# dictionary sorted by key\n",
        "OrderedDict(sorted(d.items(), key=lambda t: t[0]))"
      ],
      "outputs": [
        {
          "output_type": "execute_result",
          "execution_count": 26,
          "data": {
            "text/plain": [
              "OrderedDict([('apple', 4), ('banana', 3), ('orange', 2), ('pear', 1)])"
            ]
          },
          "metadata": {}
        }
      ],
      "execution_count": 26,
      "metadata": {
        "collapsed": false
      }
    },
    {
      "cell_type": "code",
      "source": [
        "# dictionary sorted by value\n",
        "OrderedDict(sorted(d.items(), key=lambda t: t[1]))"
      ],
      "outputs": [
        {
          "output_type": "execute_result",
          "execution_count": 28,
          "data": {
            "text/plain": [
              "OrderedDict([('pear', 1), ('orange', 2), ('banana', 3), ('apple', 4)])"
            ]
          },
          "metadata": {}
        }
      ],
      "execution_count": 28,
      "metadata": {
        "collapsed": false
      }
    },
    {
      "cell_type": "code",
      "source": [
        "# dictionary sorted by length of the key string\n",
        "OrderedDict(sorted(d.items(), key=lambda t: len(t[0])))"
      ],
      "outputs": [
        {
          "output_type": "execute_result",
          "execution_count": 30,
          "data": {
            "text/plain": [
              "OrderedDict([('pear', 1), ('apple', 4), ('orange', 2), ('banana', 3)])"
            ]
          },
          "metadata": {}
        }
      ],
      "execution_count": 30,
      "metadata": {
        "collapsed": false
      }
    },
    {
      "cell_type": "markdown",
      "source": [
        "**Attention**\n",
        "\nThe new sorted dictionaries maintain their sort when entries are deleted. *But when entries are added*, the keys are **appended to the end** and the sort is not maintained."
      ],
      "metadata": {}
    },
    {
      "cell_type": "markdown",
      "source": [
        "## defaultdict\n",
        "\nNice [tutorial here](https://www.accelebrate.com/blog/using-defaultdict-python/)"
      ],
      "metadata": {}
    },
    {
      "cell_type": "markdown",
      "source": [
        "## ChainMap"
      ],
      "metadata": {
        "collapsed": true
      }
    },
    {
      "cell_type": "code",
      "source": [
        "from collections import ChainMap"
      ],
      "outputs": [],
      "execution_count": 1,
      "metadata": {}
    },
    {
      "cell_type": "code",
      "source": [
        "dict1 = {'one': 1, 'two': 2}\n",
        "dict2 = {'three': 3, 'four': 4, 'tow': 20}\n",
        "chain = ChainMap(dict1, dict2)"
      ],
      "outputs": [],
      "execution_count": 4,
      "metadata": {}
    },
    {
      "cell_type": "code",
      "source": [
        "chain"
      ],
      "outputs": [
        {
          "output_type": "execute_result",
          "execution_count": 5,
          "data": {
            "text/plain": [
              "ChainMap({'one': 1, 'two': 2}, {'tow': 20, 'four': 4, 'three': 3})"
            ]
          },
          "metadata": {}
        }
      ],
      "execution_count": 5,
      "metadata": {
        "collapsed": false,
        "outputHidden": false,
        "inputHidden": false
      }
    },
    {
      "cell_type": "markdown",
      "source": [
        "ChainMap will look for any occurence in the chain from left dictionary to right.... until it finds the key...or fails"
      ],
      "metadata": {
        "collapsed": false,
        "outputHidden": false,
        "inputHidden": false
      }
    },
    {
      "cell_type": "code",
      "source": [
        "chain['two']"
      ],
      "outputs": [
        {
          "output_type": "execute_result",
          "execution_count": 6,
          "data": {
            "text/plain": [
              "2"
            ]
          },
          "metadata": {}
        }
      ],
      "execution_count": 6,
      "metadata": {}
    },
    {
      "cell_type": "code",
      "source": [
        "chain['missing']"
      ],
      "outputs": [
        {
          "output_type": "error",
          "ename": "KeyError",
          "evalue": "'missing'",
          "traceback": [
            "\u001b[0;31m---------------------------------------------------------------------------\u001b[0m",
            "\u001b[0;31mKeyError\u001b[0m                                  Traceback (most recent call last)",
            "\u001b[0;32m<ipython-input-7-732599e134f3>\u001b[0m in \u001b[0;36m<module>\u001b[0;34m()\u001b[0m\n\u001b[0;32m----> 1\u001b[0;31m \u001b[0mchain\u001b[0m\u001b[0;34m[\u001b[0m\u001b[0;34m'missing'\u001b[0m\u001b[0;34m]\u001b[0m\u001b[0;34m\u001b[0m\u001b[0m\n\u001b[0m",
            "\u001b[0;32m/Users/j35/anaconda/envs/plotcon/lib/python3.5/collections/__init__.py\u001b[0m in \u001b[0;36m__getitem__\u001b[0;34m(self, key)\u001b[0m\n\u001b[1;32m    879\u001b[0m             \u001b[0;32mexcept\u001b[0m \u001b[0mKeyError\u001b[0m\u001b[0;34m:\u001b[0m\u001b[0;34m\u001b[0m\u001b[0m\n\u001b[1;32m    880\u001b[0m                 \u001b[0;32mpass\u001b[0m\u001b[0;34m\u001b[0m\u001b[0m\n\u001b[0;32m--> 881\u001b[0;31m         \u001b[0;32mreturn\u001b[0m \u001b[0mself\u001b[0m\u001b[0;34m.\u001b[0m\u001b[0m__missing__\u001b[0m\u001b[0;34m(\u001b[0m\u001b[0mkey\u001b[0m\u001b[0;34m)\u001b[0m            \u001b[0;31m# support subclasses that define __missing__\u001b[0m\u001b[0;34m\u001b[0m\u001b[0m\n\u001b[0m\u001b[1;32m    882\u001b[0m \u001b[0;34m\u001b[0m\u001b[0m\n\u001b[1;32m    883\u001b[0m     \u001b[0;32mdef\u001b[0m \u001b[0mget\u001b[0m\u001b[0;34m(\u001b[0m\u001b[0mself\u001b[0m\u001b[0;34m,\u001b[0m \u001b[0mkey\u001b[0m\u001b[0;34m,\u001b[0m \u001b[0mdefault\u001b[0m\u001b[0;34m=\u001b[0m\u001b[0;32mNone\u001b[0m\u001b[0;34m)\u001b[0m\u001b[0;34m:\u001b[0m\u001b[0;34m\u001b[0m\u001b[0m\n",
            "\u001b[0;32m/Users/j35/anaconda/envs/plotcon/lib/python3.5/collections/__init__.py\u001b[0m in \u001b[0;36m__missing__\u001b[0;34m(self, key)\u001b[0m\n\u001b[1;32m    871\u001b[0m \u001b[0;34m\u001b[0m\u001b[0m\n\u001b[1;32m    872\u001b[0m     \u001b[0;32mdef\u001b[0m \u001b[0m__missing__\u001b[0m\u001b[0;34m(\u001b[0m\u001b[0mself\u001b[0m\u001b[0;34m,\u001b[0m \u001b[0mkey\u001b[0m\u001b[0;34m)\u001b[0m\u001b[0;34m:\u001b[0m\u001b[0;34m\u001b[0m\u001b[0m\n\u001b[0;32m--> 873\u001b[0;31m         \u001b[0;32mraise\u001b[0m \u001b[0mKeyError\u001b[0m\u001b[0;34m(\u001b[0m\u001b[0mkey\u001b[0m\u001b[0;34m)\u001b[0m\u001b[0;34m\u001b[0m\u001b[0m\n\u001b[0m\u001b[1;32m    874\u001b[0m \u001b[0;34m\u001b[0m\u001b[0m\n\u001b[1;32m    875\u001b[0m     \u001b[0;32mdef\u001b[0m \u001b[0m__getitem__\u001b[0m\u001b[0;34m(\u001b[0m\u001b[0mself\u001b[0m\u001b[0;34m,\u001b[0m \u001b[0mkey\u001b[0m\u001b[0;34m)\u001b[0m\u001b[0;34m:\u001b[0m\u001b[0;34m\u001b[0m\u001b[0m\n",
            "\u001b[0;31mKeyError\u001b[0m: 'missing'"
          ]
        }
      ],
      "execution_count": 7,
      "metadata": {
        "collapsed": false,
        "outputHidden": false,
        "inputHidden": false
      }
    },
    {
      "cell_type": "markdown",
      "source": [
        "## types.MappingProxyType"
      ],
      "metadata": {
        "collapsed": false,
        "outputHidden": false,
        "inputHidden": false
      }
    },
    {
      "cell_type": "markdown",
      "source": [
        "This is to make a read-only dictionary"
      ],
      "metadata": {}
    },
    {
      "cell_type": "code",
      "source": [
        "from types import MappingProxyType"
      ],
      "outputs": [],
      "execution_count": 8,
      "metadata": {}
    },
    {
      "cell_type": "code",
      "source": [
        "read_only = MappingProxyType({'one': 1, 'two': 2})"
      ],
      "outputs": [],
      "execution_count": 9,
      "metadata": {
        "collapsed": false,
        "outputHidden": false,
        "inputHidden": false
      }
    },
    {
      "cell_type": "code",
      "source": [
        "read_only['one']\n"
      ],
      "outputs": [
        {
          "output_type": "execute_result",
          "execution_count": 10,
          "data": {
            "text/plain": [
              "1"
            ]
          },
          "metadata": {}
        }
      ],
      "execution_count": 10,
      "metadata": {
        "collapsed": false,
        "outputHidden": false,
        "inputHidden": false
      }
    },
    {
      "cell_type": "code",
      "source": [
        "read_only['three'] = 3\n"
      ],
      "outputs": [
        {
          "output_type": "error",
          "ename": "TypeError",
          "evalue": "'mappingproxy' object does not support item assignment",
          "traceback": [
            "\u001b[0;31m---------------------------------------------------------------------------\u001b[0m",
            "\u001b[0;31mTypeError\u001b[0m                                 Traceback (most recent call last)",
            "\u001b[0;32m<ipython-input-12-087be9fba104>\u001b[0m in \u001b[0;36m<module>\u001b[0;34m()\u001b[0m\n\u001b[0;32m----> 1\u001b[0;31m \u001b[0mread_only\u001b[0m\u001b[0;34m[\u001b[0m\u001b[0;34m'three'\u001b[0m\u001b[0;34m]\u001b[0m \u001b[0;34m=\u001b[0m \u001b[0;36m3\u001b[0m\u001b[0;34m\u001b[0m\u001b[0m\n\u001b[0m",
            "\u001b[0;31mTypeError\u001b[0m: 'mappingproxy' object does not support item assignment"
          ]
        }
      ],
      "execution_count": 12,
      "metadata": {
        "collapsed": false,
        "outputHidden": false,
        "inputHidden": false
      }
    },
    {
      "cell_type": "code",
      "source": [],
      "outputs": [],
      "execution_count": null,
      "metadata": {
        "collapsed": false,
        "outputHidden": false,
        "inputHidden": false
      }
    }
  ],
  "metadata": {
    "kernelspec": {
      "name": "python3",
      "language": "python",
      "display_name": "Python 3"
    },
    "language_info": {
      "nbconvert_exporter": "python",
      "version": "3.5.3",
      "codemirror_mode": {
        "name": "ipython",
        "version": 3
      },
      "mimetype": "text/x-python",
      "name": "python",
      "pygments_lexer": "ipython3",
      "file_extension": ".py"
    },
    "kernel_info": {
      "name": "python3"
    }
  },
  "nbformat": 4,
  "nbformat_minor": 0
}