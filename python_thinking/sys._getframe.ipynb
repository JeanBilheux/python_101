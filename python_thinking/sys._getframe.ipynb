{
 "cells": [
  {
   "cell_type": "code",
   "execution_count": 1,
   "metadata": {},
   "outputs": [],
   "source": [
    "import sys"
   ]
  },
  {
   "cell_type": "code",
   "execution_count": 22,
   "metadata": {},
   "outputs": [
    {
     "name": "stdout",
     "output_type": "stream",
     "text": [
      "at top level: sys._getframe(0).f_local['a']: level 0\n"
     ]
    }
   ],
   "source": [
    "a = 'level 0'\n",
    "print(f\"at top level: sys._getframe(0).f_local['a']: {sys._getframe(0).f_locals['a']}\")\n",
    "\n",
    "\n",
    "def level1():\n",
    "    a = 'level 1'\n",
    "    print(f\"inside level1: sys._getframe(0).f_local['a']: {sys._getframe(0).f_locals['a']}\")\n",
    "    print(f\"inside level1: sys._getframe(1).f_local['a']: {sys._getframe(1).f_locals['a']}\")\n",
    "    sys._getframe(0).f_locals\n",
    "    \n",
    "    def level2():\n",
    "        a = 'level 2'\n",
    "        print(f\"inside level2: sys._getframe(0).f_local['a']: {sys._getframe(0).f_locals['a']}\")\n",
    "        print(f\"inside level2: sys._getframe(1).f_local['a']: {sys._getframe(1).f_locals['a']}\")\n",
    "        print(f\"inside level2: sys._getframe(2).f_local['a']: {sys._getframe(2).f_locals['a']}\")\n",
    "\n",
    "    level2()\n",
    "    "
   ]
  },
  {
   "cell_type": "code",
   "execution_count": 23,
   "metadata": {},
   "outputs": [
    {
     "name": "stdout",
     "output_type": "stream",
     "text": [
      "inside level1: sys._getframe(0).f_local['a']: level 1\n",
      "inside level1: sys._getframe(1).f_local['a']: level 0\n",
      "inside level2: sys._getframe(0).f_local['a']: level 2\n",
      "inside level2: sys._getframe(1).f_local['a']: level 1\n",
      "inside level2: sys._getframe(2).f_local['a']: level 0\n"
     ]
    }
   ],
   "source": [
    "level1()"
   ]
  },
  {
   "cell_type": "code",
   "execution_count": 24,
   "metadata": {},
   "outputs": [],
   "source": []
  },
  {
   "cell_type": "code",
   "execution_count": null,
   "metadata": {},
   "outputs": [],
   "source": []
  }
 ],
 "metadata": {
  "kernelspec": {
   "display_name": "Python 3",
   "language": "python",
   "name": "python3"
  },
  "language_info": {
   "codemirror_mode": {
    "name": "ipython",
    "version": 3
   },
   "file_extension": ".py",
   "mimetype": "text/x-python",
   "name": "python",
   "nbconvert_exporter": "python",
   "pygments_lexer": "ipython3",
   "version": "3.6.9"
  }
 },
 "nbformat": 4,
 "nbformat_minor": 2
}
