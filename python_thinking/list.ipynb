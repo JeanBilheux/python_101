{
 "cells": [
  {
   "cell_type": "code",
   "execution_count": 3,
   "metadata": {},
   "outputs": [],
   "source": [
    "my_list = list([[1,2,3], [4,5,6], [7,8,9]])"
   ]
  },
  {
   "cell_type": "code",
   "execution_count": 2,
   "metadata": {},
   "outputs": [
    {
     "data": {
      "text/plain": [
       "[[1, 2, 3], [4, 5, 6]]"
      ]
     },
     "execution_count": 2,
     "metadata": {},
     "output_type": "execute_result"
    }
   ],
   "source": [
    "my_list"
   ]
  },
  {
   "cell_type": "code",
   "execution_count": 5,
   "metadata": {},
   "outputs": [],
   "source": [
    "row1 = my_list.pop(1)"
   ]
  },
  {
   "cell_type": "code",
   "execution_count": 6,
   "metadata": {},
   "outputs": [
    {
     "data": {
      "text/plain": [
       "[4, 5, 6]"
      ]
     },
     "execution_count": 6,
     "metadata": {},
     "output_type": "execute_result"
    }
   ],
   "source": [
    "row1"
   ]
  },
  {
   "cell_type": "code",
   "execution_count": 7,
   "metadata": {},
   "outputs": [],
   "source": [
    "my_list.insert(0, row1)"
   ]
  },
  {
   "cell_type": "code",
   "execution_count": 8,
   "metadata": {},
   "outputs": [
    {
     "data": {
      "text/plain": [
       "[[4, 5, 6], [1, 2, 3], [7, 8, 9]]"
      ]
     },
     "execution_count": 8,
     "metadata": {},
     "output_type": "execute_result"
    }
   ],
   "source": [
    "my_list"
   ]
  },
  {
   "cell_type": "markdown",
   "metadata": {},
   "source": [
    "# intersection "
   ]
  },
  {
   "cell_type": "code",
   "execution_count": 9,
   "metadata": {},
   "outputs": [],
   "source": [
    "list_files = [['abc', '000', '000.txt'],\n",
    "             ['abc', '000', '001.txt'],\n",
    "             ['abc', '000', '002.txt']]"
   ]
  },
  {
   "cell_type": "code",
   "execution_count": 10,
   "metadata": {},
   "outputs": [],
   "source": [
    "def intersection(lst1, lst2): \n",
    "    return [item for item in lst1 if item in lst2] "
   ]
  },
  {
   "cell_type": "code",
   "execution_count": 12,
   "metadata": {},
   "outputs": [],
   "source": [
    "list_reference = list_files[0]\n",
    "for _index, _list in enumerate(list_files[1:]):\n",
    "    lst2 = _list\n",
    "    list_reference = intersection(list_reference, lst2)\n",
    "    "
   ]
  },
  {
   "cell_type": "code",
   "execution_count": 13,
   "metadata": {},
   "outputs": [
    {
     "data": {
      "text/plain": [
       "['abc', '000']"
      ]
     },
     "execution_count": 13,
     "metadata": {},
     "output_type": "execute_result"
    }
   ],
   "source": [
    "list_reference"
   ]
  },
  {
   "cell_type": "markdown",
   "metadata": {},
   "source": [
    "## create routine "
   ]
  },
  {
   "cell_type": "code",
   "execution_count": 15,
   "metadata": {},
   "outputs": [],
   "source": [
    "def get_beginning_common_part_of_string_from_list(list_of_text=None, filename_spacer='_'):\n",
    "    \"\"\"This method returns the continuous part of a string, from the beginning, that can be found\n",
    "    in all string provided. The match will stop before the last filename_spacer\n",
    "\n",
    "    for example:\n",
    "    list_of_text = ['abc_000.txt', 'abc_001.txt', 'abc_002.txt']\n",
    "    the method will return 'abc_'\n",
    "    \"\"\"\n",
    "    if list_of_text is None:\n",
    "        raise ValueError(\"Please provide a list of string!\")\n",
    "\n",
    "    split_list_of_text = [text.split(filename_spacer) for text in list_of_text]\n",
    "\n",
    "    def intersection(lst1, lst2):\n",
    "        return [item for item in lst1 if item in lst2]\n",
    "\n",
    "    list_reference = split_list_of_text[0]\n",
    "    for _list in split_list_of_text[1:]:\n",
    "        list_reference = intersection(list_reference, _list)\n",
    "\n",
    "    return filename_spacer.join(list_reference)"
   ]
  },
  {
   "cell_type": "markdown",
   "metadata": {},
   "source": [
    "## ex 2\n"
   ]
  },
  {
   "cell_type": "markdown",
   "metadata": {},
   "source": [
    "This shows a bug!!!!!"
   ]
  },
  {
   "cell_type": "code",
   "execution_count": 16,
   "metadata": {},
   "outputs": [],
   "source": [
    "list_files = ['/Users/j35/IPTS/IPTS-24959/renamed_files/20202020_Femur_0010_000_000_00000.tiff',\n",
    "    '/Users/j35/IPTS/IPTS-24959/renamed_files/20202020_Femur_0010_000_000_00001.tiff',\n",
    "    '/Users/j35/IPTS/IPTS-24959/renamed_files/20202020_Femur_0010_000_000_00002.tiff',\n",
    "    '/Users/j35/IPTS/IPTS-24959/renamed_files/20202020_Femur_0010_000_110_00003.tiff']"
   ]
  },
  {
   "cell_type": "code",
   "execution_count": 17,
   "metadata": {},
   "outputs": [
    {
     "name": "stdout",
     "output_type": "stream",
     "text": [
      "_list is ['/Users/j35/IPTS/IPTS-24959/renamed', 'files/20202020', 'Femur', '0010', '000', '000', '00001.tiff']\n",
      "list_reference: ['/Users/j35/IPTS/IPTS-24959/renamed', 'files/20202020', 'Femur', '0010', '000', '000']\n",
      "\n",
      "_list is ['/Users/j35/IPTS/IPTS-24959/renamed', 'files/20202020', 'Femur', '0010', '000', '000', '00002.tiff']\n",
      "list_reference: ['/Users/j35/IPTS/IPTS-24959/renamed', 'files/20202020', 'Femur', '0010', '000', '000']\n",
      "\n",
      "_list is ['/Users/j35/IPTS/IPTS-24959/renamed', 'files/20202020', 'Femur', '0010', '000', '110', '00003.tiff']\n",
      "list_reference: ['/Users/j35/IPTS/IPTS-24959/renamed', 'files/20202020', 'Femur', '0010', '000', '000']\n",
      "\n"
     ]
    },
    {
     "data": {
      "text/plain": [
       "'/Users/j35/IPTS/IPTS-24959/renamed_files/20202020_Femur_0010_000_000'"
      ]
     },
     "execution_count": 17,
     "metadata": {},
     "output_type": "execute_result"
    }
   ],
   "source": [
    "get_beginning_common_part_of_string_from_list(list_of_text=list_files)"
   ]
  },
  {
   "cell_type": "code",
   "execution_count": 19,
   "metadata": {},
   "outputs": [],
   "source": [
    "list1 = ['/Users/j35/IPTS/IPTS-24959/renamed', 'files/20202020', 'Femur', '0010', '000', '000', '00001.tiff']\n",
    "list2 = ['/Users/j35/IPTS/IPTS-24959/renamed', 'files/20202020', 'Femur', '0010', '000', '001', '00002.tiff']"
   ]
  },
  {
   "cell_type": "code",
   "execution_count": 21,
   "metadata": {},
   "outputs": [
    {
     "data": {
      "text/plain": [
       "['/Users/j35/IPTS/IPTS-24959/renamed',\n",
       " 'files/20202020',\n",
       " 'Femur',\n",
       " '0010',\n",
       " '000',\n",
       " '000']"
      ]
     },
     "execution_count": 21,
     "metadata": {},
     "output_type": "execute_result"
    }
   ],
   "source": [
    "[item for item in list1 if item in list2]"
   ]
  },
  {
   "cell_type": "markdown",
   "metadata": {},
   "source": [
    "## new algo "
   ]
  },
  {
   "cell_type": "code",
   "execution_count": 72,
   "metadata": {},
   "outputs": [
    {
     "name": "stdout",
     "output_type": "stream",
     "text": [
      "['/Users/j35/IPTS/IPTS-24959/renamed_files/20202020_Femur_0010_000_000_00000.tiff',\n",
      " '/Users/j35/IPTS/IPTS-24959/renamed_files/20202020_Femur_0010_000_000_00001.tiff',\n",
      " '/Users/j35/IPTS/IPTS-24959/renamed_files/20202020_Femur_0010_000_000_00002.tiff',\n",
      " '/Users/j35/IPTS/IPTS-24959/renamed_files/20202020_Femur_0010_000_110_00003.tiff']\n"
     ]
    }
   ],
   "source": [
    "import pprint\n",
    "pprint.pprint(list_files)"
   ]
  },
  {
   "cell_type": "code",
   "execution_count": 56,
   "metadata": {},
   "outputs": [],
   "source": [
    "list_files_split = [_name.split(\"_\") for _name in list_files]"
   ]
  },
  {
   "cell_type": "code",
   "execution_count": 78,
   "metadata": {},
   "outputs": [
    {
     "data": {
      "text/plain": [
       "array([['/Users/j35/IPTS/IPTS-24959/renamed', 'files/20202020', 'Femur',\n",
       "        '0010', '000', '000', '00000.tiff'],\n",
       "       ['/Users/j35/IPTS/IPTS-24959/renamed', 'files/20202020', 'Femur',\n",
       "        '0010', '000', '000', '00001.tiff'],\n",
       "       ['/Users/j35/IPTS/IPTS-24959/renamed', 'files/20202020', 'Femur',\n",
       "        '0010', '000', '000', '00002.tiff'],\n",
       "       ['/Users/j35/IPTS/IPTS-24959/renamed', 'files/20202020', 'Femur',\n",
       "        '0010', '000', '110', '00003.tiff']], dtype='<U34')"
      ]
     },
     "execution_count": 78,
     "metadata": {},
     "output_type": "execute_result"
    }
   ],
   "source": [
    "list_files_split = np.array(list_files_split)\n",
    "list_files_split"
   ]
  },
  {
   "cell_type": "code",
   "execution_count": null,
   "metadata": {},
   "outputs": [],
   "source": []
  },
  {
   "cell_type": "code",
   "execution_count": 81,
   "metadata": {},
   "outputs": [],
   "source": [
    "common_part = []\n",
    "[nbr_files, nbr_argument] = list_files_split.shape\n",
    "for _index in np.arange(nbr_argument):\n",
    "    _array = list_files_split[:, _index]\n",
    "    _set = set(_array)\n",
    "    if len(_set) > 1:\n",
    "        break\n",
    "    common_part.append(list(_set)[0])"
   ]
  },
  {
   "cell_type": "code",
   "execution_count": 82,
   "metadata": {},
   "outputs": [
    {
     "data": {
      "text/plain": [
       "['/Users/j35/IPTS/IPTS-24959/renamed',\n",
       " 'files/20202020',\n",
       " 'Femur',\n",
       " '0010',\n",
       " '000']"
      ]
     },
     "execution_count": 82,
     "metadata": {},
     "output_type": "execute_result"
    }
   ],
   "source": [
    "common_part"
   ]
  },
  {
   "cell_type": "code",
   "execution_count": null,
   "metadata": {},
   "outputs": [],
   "source": []
  }
 ],
 "metadata": {
  "kernelspec": {
   "display_name": "Python 3",
   "language": "python",
   "name": "python3"
  },
  "language_info": {
   "codemirror_mode": {
    "name": "ipython",
    "version": 3
   },
   "file_extension": ".py",
   "mimetype": "text/x-python",
   "name": "python",
   "nbconvert_exporter": "python",
   "pygments_lexer": "ipython3",
   "version": "3.6.10"
  }
 },
 "nbformat": 4,
 "nbformat_minor": 4
}
