{
 "cells": [
  {
   "cell_type": "markdown",
   "metadata": {},
   "source": [
    "### old method returning list"
   ]
  },
  {
   "cell_type": "code",
   "execution_count": 3,
   "metadata": {
    "collapsed": true
   },
   "outputs": [],
   "source": [
    "def index_words(text):\n",
    "    result = []\n",
    "    if text:\n",
    "        result.append(0)\n",
    "    for index, letter in enumerate(text):\n",
    "        if letter == \" \":\n",
    "            result.append(index+1)\n",
    "    return result"
   ]
  },
  {
   "cell_type": "code",
   "execution_count": 4,
   "metadata": {
    "collapsed": true
   },
   "outputs": [],
   "source": [
    "address = \"Four years ago I went to paris and came back empty\""
   ]
  },
  {
   "cell_type": "code",
   "execution_count": 5,
   "metadata": {
    "collapsed": false
   },
   "outputs": [
    {
     "name": "stdout",
     "output_type": "stream",
     "text": [
      "Four years ago I went to paris and came back empty\n",
      "[0, 5, 11, 15, 17, 22, 25, 31, 35, 40, 45]\n"
     ]
    }
   ],
   "source": [
    "result = index_words(address)\n",
    "print(address)\n",
    "print(result)"
   ]
  },
  {
   "cell_type": "markdown",
   "metadata": {},
   "source": [
    "### generator"
   ]
  },
  {
   "cell_type": "code",
   "execution_count": 6,
   "metadata": {
    "collapsed": false
   },
   "outputs": [
    {
     "name": "stdout",
     "output_type": "stream",
     "text": [
      "[0, 5, 11, 15, 17, 22, 25, 31, 35, 40, 45]\n"
     ]
    }
   ],
   "source": [
    "def index_words_iter(text):\n",
    "    if text: #initialization of generator\n",
    "        yield 0\n",
    "    for index, letter in enumerate(text):\n",
    "        if letter == \" \":\n",
    "            yield index+1\n",
    "\n",
    "result = list(index_words_iter(address))\n",
    "print(result)"
   ]
  },
  {
   "cell_type": "markdown",
   "metadata": {},
   "source": [
    "### Advantage of generator is that they can work on huge files"
   ]
  },
  {
   "cell_type": "code",
   "execution_count": 42,
   "metadata": {
    "collapsed": true
   },
   "outputs": [],
   "source": [
    "from itertools import islice"
   ]
  },
  {
   "cell_type": "code",
   "execution_count": 123,
   "metadata": {
    "collapsed": true
   },
   "outputs": [],
   "source": [
    "def index_file(handle):\n",
    "    offset = 0 #initialization\n",
    "    for line in handle:\n",
    "        print(\"At offset %d, line is: %s \" %(offset, line))\n",
    "        if line:\n",
    "            yield offset\n",
    "        for letter in line:\n",
    "            offset += 1\n",
    "            if letter == '\\n':\n",
    "                yield offset"
   ]
  },
  {
   "cell_type": "code",
   "execution_count": 124,
   "metadata": {
    "collapsed": false
   },
   "outputs": [
    {
     "name": "stdout",
     "output_type": "stream",
     "text": [
      "At offset 0, line is: This is the first line of the my_file file\n",
      " \n",
      "At offset 43, line is: Cavani\n",
      " \n",
      "At offset 50, line is: Zlatan\n",
      " \n",
      "At offset 57, line is: Luiz\n",
      " \n",
      "At offset 62, line is: Veratti\n",
      " \n",
      "At offset 70, line is: Blanc\n",
      " \n",
      "At offset 76, line is: Rabiot\n",
      " \n",
      "At offset 83, line is: Marquinhos\n",
      " \n",
      "At offset 94, line is: Aurier\n",
      " \n",
      "At offset 101, line is: Lucas\n",
      " \n",
      "At offset 107, line is: DiMaria\n",
      " \n",
      "[0, 43, 43, 50, 50, 57, 57, 62, 62, 70, 70, 76, 76, 83, 83, 94, 94, 101, 101, 107, 107, 115]\n"
     ]
    }
   ],
   "source": [
    "file_name = 'data/my_file.txt'\n",
    "list_result = None\n",
    "with open(file_name, 'r') as f:\n",
    "    it = index_file(f)\n",
    "    result = islice(it, 0, None) # processing the entire file by giving it an end argument of 'None'\n",
    "    list_result = list(result)\n",
    "    print(list_result)\n"
   ]
  },
  {
   "cell_type": "code",
   "execution_count": 81,
   "metadata": {
    "collapsed": false
   },
   "outputs": [
    {
     "name": "stdout",
     "output_type": "stream",
     "text": [
      "This is the first line of the my_file file\n",
      "Cavani\n",
      "Zlatan\n",
      "Luiz\n",
      "Veratti\n",
      "Blanc\n",
      "Rabiot\n",
      "Marquinhos\n",
      "Aurier\n",
      "Lucas\n",
      "DiMaria\n",
      "\n"
     ]
    }
   ],
   "source": [
    "my_string = ''\n",
    "with open(file_name, 'r') as f:\n",
    "        my_string = f.read()\n",
    "print(my_string)"
   ]
  },
  {
   "cell_type": "code",
   "execution_count": 106,
   "metadata": {
    "collapsed": false
   },
   "outputs": [
    {
     "name": "stdout",
     "output_type": "stream",
     "text": [
      "[0, 43, 43, 50, 50, 57, 57, 62, 62, 70, 70, 76, 76, 83, 83, 94, 94, 101, 101, 107, 107, 115]\n",
      "{0, 101, 70, 43, 76, 107, 50, 83, 115, 57, 62, 94}\n"
     ]
    }
   ],
   "source": [
    "print(list_result)\n",
    "new_list_result = set(list_result)\n",
    "print(new_list_result) # to eliminate the duplicates"
   ]
  },
  {
   "cell_type": "code",
   "execution_count": 93,
   "metadata": {
    "collapsed": false
   },
   "outputs": [
    {
     "name": "stdout",
     "output_type": "stream",
     "text": [
      "This is the first line of the my_file file\n",
      "\n"
     ]
    }
   ],
   "source": [
    "print(my_string[list_result[0]:list_result[1]])"
   ]
  },
  {
   "cell_type": "code",
   "execution_count": 113,
   "metadata": {
    "collapsed": false
   },
   "outputs": [],
   "source": [
    "my_file_array = [my_string[list_result[index]:list_result[index+1]-1] for index in range(0, len(list_result)-1, 2)]"
   ]
  },
  {
   "cell_type": "code",
   "execution_count": 114,
   "metadata": {
    "collapsed": false
   },
   "outputs": [
    {
     "name": "stdout",
     "output_type": "stream",
     "text": [
      "['This is the first line of the my_file file', 'Cavani', 'Zlatan', 'Luiz', 'Veratti', 'Blanc', 'Rabiot', 'Marquinhos', 'Aurier', 'Lucas', 'DiMaria']\n"
     ]
    }
   ],
   "source": [
    "print(my_file_array)"
   ]
  },
  {
   "cell_type": "markdown",
   "metadata": {},
   "source": [
    "## questions"
   ]
  },
  {
   "cell_type": "markdown",
   "metadata": {},
   "source": [
    "- how to sort a list that has been set ?"
   ]
  },
  {
   "cell_type": "code",
   "execution_count": null,
   "metadata": {
    "collapsed": true
   },
   "outputs": [],
   "source": []
  }
 ],
 "metadata": {
  "kernelspec": {
   "display_name": "Python 3",
   "language": "python",
   "name": "python3"
  },
  "language_info": {
   "codemirror_mode": {
    "name": "ipython",
    "version": 3
   },
   "file_extension": ".py",
   "mimetype": "text/x-python",
   "name": "python",
   "nbconvert_exporter": "python",
   "pygments_lexer": "ipython3",
   "version": "3.4.4"
  }
 },
 "nbformat": 4,
 "nbformat_minor": 0
}
