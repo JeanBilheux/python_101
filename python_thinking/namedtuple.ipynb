{
 "cells": [
  {
   "cell_type": "markdown",
   "metadata": {},
   "source": [
    "### tuple"
   ]
  },
  {
   "cell_type": "markdown",
   "metadata": {},
   "source": [
    "The standard **tuple** uses numerical indexes to access its members"
   ]
  },
  {
   "cell_type": "code",
   "execution_count": 3,
   "metadata": {
    "collapsed": false
   },
   "outputs": [
    {
     "name": "stdout",
     "output_type": "stream",
     "text": [
      "('Bob', 30, 'male')\n"
     ]
    }
   ],
   "source": [
    "bob = ('Bob', 30, 'male')\n",
    "print(bob)"
   ]
  },
  {
   "cell_type": "code",
   "execution_count": 6,
   "metadata": {
    "collapsed": false
   },
   "outputs": [
    {
     "name": "stdout",
     "output_type": "stream",
     "text": [
      "Bob is a 30 year old male\n",
      "Jane is a 29 year old  female\n"
     ]
    }
   ],
   "source": [
    "jane = ('Jane', 29, ' female')\n",
    "for p in [bob, jane]:\n",
    "    print(\"%s is a %d year old %s\" % p)"
   ]
  },
  {
   "cell_type": "markdown",
   "metadata": {},
   "source": [
    "**Issue here** is that we rely on the position of the arguments to get the values"
   ]
  },
  {
   "cell_type": "markdown",
   "metadata": {},
   "source": [
    "## namedtuple"
   ]
  },
  {
   "cell_type": "markdown",
   "metadata": {},
   "source": [
    "Each kind of **namedtuple** is repreented by its own class, created by using the *namedtuple()* factory function"
   ]
  },
  {
   "cell_type": "code",
   "execution_count": 1,
   "metadata": {
    "collapsed": true
   },
   "outputs": [],
   "source": [
    "import collections"
   ]
  },
  {
   "cell_type": "markdown",
   "metadata": {},
   "source": [
    "The *namedtuple* let us define **tiny**, **immutable** data classes"
   ]
  },
  {
   "cell_type": "markdown",
   "metadata": {},
   "source": [
    "The arguments are the name of the new class and a string containing the names of the elements"
   ]
  },
  {
   "cell_type": "code",
   "execution_count": 10,
   "metadata": {
    "collapsed": false
   },
   "outputs": [
    {
     "name": "stdout",
     "output_type": "stream",
     "text": [
      "Type of Person:  <class 'type'>\n",
      "Representation:  Person(name='Bob', age=30, gender='male')\n",
      "Bob is a 30 year old male\n",
      "Jane is a 29 year old female\n"
     ]
    }
   ],
   "source": [
    "Person = collections.namedtuple('Person', ('name', 'age', 'gender'))\n",
    "print('Type of Person: ' , type(Person))\n",
    "\n",
    "bob = Person(name='Bob', age=30, gender='male')\n",
    "print(\"Representation: \", bob)\n",
    "\n",
    "jane = Person(name='Jane', age=29, gender='female')\n",
    "\n",
    "for p in [bob, jane]:\n",
    "    print(\"%s is a %d year old %s\" % p)"
   ]
  },
  {
   "cell_type": "markdown",
   "metadata": {},
   "source": [
    "this show the way to access the values"
   ]
  },
  {
   "cell_type": "code",
   "execution_count": 11,
   "metadata": {
    "collapsed": false
   },
   "outputs": [
    {
     "name": "stdout",
     "output_type": "stream",
     "text": [
      "bob age is 30\n"
     ]
    }
   ],
   "source": [
    "print(\"bob age is %d\" %bob.age)"
   ]
  },
  {
   "cell_type": "code",
   "execution_count": null,
   "metadata": {
    "collapsed": true
   },
   "outputs": [],
   "source": []
  }
 ],
 "metadata": {
  "kernelspec": {
   "display_name": "Python 3",
   "language": "python",
   "name": "python3"
  },
  "language_info": {
   "codemirror_mode": {
    "name": "ipython",
    "version": 3
   },
   "file_extension": ".py",
   "mimetype": "text/x-python",
   "name": "python",
   "nbconvert_exporter": "python",
   "pygments_lexer": "ipython3",
   "version": "3.5.1"
  }
 },
 "nbformat": 4,
 "nbformat_minor": 0
}
