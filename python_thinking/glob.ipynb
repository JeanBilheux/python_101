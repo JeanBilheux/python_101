{
 "cells": [
  {
   "cell_type": "markdown",
   "metadata": {},
   "source": [
    "Documentation [here](https://docs.python.org/2/library/glob.html)"
   ]
  },
  {
   "cell_type": "code",
   "execution_count": 1,
   "metadata": {
    "collapsed": true
   },
   "outputs": [],
   "source": [
    "from glob import glob"
   ]
  },
  {
   "cell_type": "code",
   "execution_count": 2,
   "metadata": {
    "collapsed": false
   },
   "outputs": [
    {
     "name": "stdout",
     "output_type": "stream",
     "text": [
      "%r_vs_%s_print_format.ipynb\n",
      "command_line_program.ipynb\n",
      "defaultdict.ipynb\n",
      "descriptors.ipynb\n",
      "dictionary_array.ipynb\n",
      "for_while_loop_else.ipynb\n",
      "generator.ipynb\n",
      "glob.ipynb\n",
      "helper_function.ipynb\n",
      "islice.ipynb\n",
      "iterator_and_generator_examples.ipynb\n",
      "iterator_and_generator_tutorial.ipynb\n",
      "list_comprehension.ipynb\n",
      "namedtuple.ipynb\n",
      "print_format.ipynb\n",
      "sort_list.ipynb\n",
      "srt_format.ipynb\n",
      "sys_commands.ipynb\n",
      "time.ipynb\n",
      "try_except_else_finally.ipynb\n",
      "zip.ipynb\n"
     ]
    }
   ],
   "source": [
    "for name in glob('*'):\n",
    "    print(name)"
   ]
  },
  {
   "cell_type": "code",
   "execution_count": 3,
   "metadata": {
    "collapsed": false
   },
   "outputs": [
    {
     "name": "stdout",
     "output_type": "stream",
     "text": [
      "iterator_and_generator_examples.ipynb\n",
      "iterator_and_generator_tutorial.ipynb\n"
     ]
    }
   ],
   "source": [
    "for name in glob('ite*.*'):\n",
    "    print(name)"
   ]
  },
  {
   "cell_type": "code",
   "execution_count": null,
   "metadata": {
    "collapsed": true
   },
   "outputs": [],
   "source": []
  }
 ],
 "metadata": {
  "kernelspec": {
   "display_name": "Python 3",
   "language": "python",
   "name": "python3"
  },
  "language_info": {
   "codemirror_mode": {
    "name": "ipython",
    "version": 3
   },
   "file_extension": ".py",
   "mimetype": "text/x-python",
   "name": "python",
   "nbconvert_exporter": "python",
   "pygments_lexer": "ipython3",
   "version": "3.4.4"
  }
 },
 "nbformat": 4,
 "nbformat_minor": 0
}
