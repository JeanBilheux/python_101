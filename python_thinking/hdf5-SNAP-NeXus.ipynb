{
 "cells": [
  {
   "cell_type": "code",
   "execution_count": 2,
   "metadata": {},
   "outputs": [],
   "source": [
    "import h5py\n",
    "import os"
   ]
  },
  {
   "cell_type": "markdown",
   "metadata": {
    "collapsed": true
   },
   "source": [
    "# SNAP NeXus\n"
   ]
  },
  {
   "cell_type": "code",
   "execution_count": 5,
   "metadata": {},
   "outputs": [],
   "source": [
    "snap_nexus_file = \"/Users/j35/IPTS/SNAP/SNAP_54912.nxs.h5\"\n",
    "assert os.path.exists(snap_nexus_file)"
   ]
  },
  {
   "cell_type": "code",
   "execution_count": 6,
   "metadata": {},
   "outputs": [],
   "source": [
    "f = h5py.File(snap_nexus_file, 'r')"
   ]
  },
  {
   "cell_type": "markdown",
   "metadata": {},
   "source": [
    "## proton charge "
   ]
  },
  {
   "cell_type": "code",
   "execution_count": 15,
   "metadata": {},
   "outputs": [
    {
     "name": "stdout",
     "output_type": "stream",
     "text": [
      "proton_charge: 10000642960660.0\n",
      "units: picoCoulombs\n"
     ]
    }
   ],
   "source": [
    "proton_charge = f['entry']['proton_charge'][0]\n",
    "print(f\"proton_charge: {proton_charge}\")\n",
    "units = f['entry']['proton_charge'].attrs.get(\"units\").decode(\"utf8\")\n",
    "print(f\"units: {units}\")"
   ]
  },
  {
   "cell_type": "markdown",
   "metadata": {},
   "source": [
    "## Rotation State "
   ]
  },
  {
   "cell_type": "code",
   "execution_count": 17,
   "metadata": {},
   "outputs": [],
   "source": [
    "wt90_goniometer = \"BL3:Mot:WT90\"\n",
    "wt120_goniometer = \"BL3:Mot:WT120\"\n",
    "rotation_stage = \"PV:BL3:Mot:ImageRot\"\n"
   ]
  },
  {
   "cell_type": "code",
   "execution_count": 23,
   "metadata": {},
   "outputs": [
    {
     "name": "stdout",
     "output_type": "stream",
     "text": [
      "rotation_state: 0.0\n",
      "units: deg\n"
     ]
    }
   ],
   "source": [
    "rotation_stage = f['entry']['DASlogs']['BL3:Mot:ImageRot']['average_value'][0]\n",
    "print(f\"rotation_state: {rotation_stage}\")\n",
    "units = f['entry']['DASlogs']['BL3:Mot:ImageRot']['average_value'].attrs.get(\"units\").decode(\"utf8\")\n",
    "print(f\"units: {units}\")"
   ]
  },
  {
   "cell_type": "code",
   "execution_count": null,
   "metadata": {},
   "outputs": [],
   "source": []
  }
 ],
 "metadata": {
  "kernelspec": {
   "display_name": "Python 3",
   "language": "python",
   "name": "python3"
  },
  "language_info": {
   "codemirror_mode": {
    "name": "ipython",
    "version": 3
   },
   "file_extension": ".py",
   "mimetype": "text/x-python",
   "name": "python",
   "nbconvert_exporter": "python",
   "pygments_lexer": "ipython3",
   "version": "3.7.10"
  },
  "toc": {
   "colors": {
    "hover_highlight": "#DAA520",
    "running_highlight": "#FF0000",
    "selected_highlight": "#FFD700"
   },
   "moveMenuLeft": true,
   "nav_menu": {
    "height": "66px",
    "width": "252px"
   },
   "navigate_menu": true,
   "number_sections": true,
   "sideBar": true,
   "threshold": 4,
   "toc_cell": false,
   "toc_section_display": "block",
   "toc_window_display": false
  }
 },
 "nbformat": 4,
 "nbformat_minor": 2
}
