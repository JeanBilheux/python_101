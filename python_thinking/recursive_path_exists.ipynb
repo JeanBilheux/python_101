{
 "cells": [
  {
   "cell_type": "code",
   "execution_count": 72,
   "id": "moral-wilson",
   "metadata": {},
   "outputs": [],
   "source": [
    "import os\n",
    "from pathlib import Path\n",
    "\n",
    "\n",
    "def validate_path(path):\n",
    "    \"\"\"this method will check to see if the path exists, if it doesn't it will recursively check the parent\"\"\"\n",
    "    print(f\"about to test {path}\")\n",
    "    path = Path(path)\n",
    "    if os.path.exists(path):\n",
    "        print(f\"{path} does exist and return it\")\n",
    "        print(path)\n",
    "        return path\n",
    "    else:\n",
    "        print(f\"{path} does not exist and checking parent\")\n",
    "        return validate_path(path.parent)\n",
    "\n"
   ]
  },
  {
   "cell_type": "code",
   "execution_count": 73,
   "id": "recorded-producer",
   "metadata": {},
   "outputs": [],
   "source": [
    "path1 = \"/Volumes/G-DRIVE\\ 1/\""
   ]
  },
  {
   "cell_type": "code",
   "execution_count": 74,
   "id": "authorized-technology",
   "metadata": {},
   "outputs": [
    {
     "data": {
      "text/plain": [
       "False"
      ]
     },
     "execution_count": 74,
     "metadata": {},
     "output_type": "execute_result"
    }
   ],
   "source": [
    "os.path.exists(path1)"
   ]
  },
  {
   "cell_type": "code",
   "execution_count": 75,
   "id": "naked-characteristic",
   "metadata": {},
   "outputs": [],
   "source": [
    "path2 = Path(\"/Volumes/\") / \"G-DRIVE 1\" / \"IPTS\""
   ]
  },
  {
   "cell_type": "code",
   "execution_count": 76,
   "id": "fatal-hotel",
   "metadata": {},
   "outputs": [
    {
     "data": {
      "text/plain": [
       "PosixPath('/Volumes/G-DRIVE 1/IPTS')"
      ]
     },
     "execution_count": 76,
     "metadata": {},
     "output_type": "execute_result"
    }
   ],
   "source": [
    "path2"
   ]
  },
  {
   "cell_type": "code",
   "execution_count": 77,
   "id": "earlier-elimination",
   "metadata": {},
   "outputs": [
    {
     "data": {
      "text/plain": [
       "True"
      ]
     },
     "execution_count": 77,
     "metadata": {},
     "output_type": "execute_result"
    }
   ],
   "source": [
    "os.path.exists(path2)"
   ]
  },
  {
   "cell_type": "code",
   "execution_count": 78,
   "id": "rational-juice",
   "metadata": {},
   "outputs": [
    {
     "name": "stdout",
     "output_type": "stream",
     "text": [
      "about to test /Volumes/G-DRIVE 1/IPTS\n",
      "/Volumes/G-DRIVE 1/IPTS does exist and return it\n",
      "/Volumes/G-DRIVE 1/IPTS\n"
     ]
    }
   ],
   "source": [
    "path_returned = validate_path(path2)"
   ]
  },
  {
   "cell_type": "code",
   "execution_count": 79,
   "id": "several-collins",
   "metadata": {},
   "outputs": [
    {
     "name": "stdout",
     "output_type": "stream",
     "text": [
      "/Volumes/G-DRIVE 1/IPTS\n"
     ]
    }
   ],
   "source": [
    "print(path_returned)"
   ]
  },
  {
   "cell_type": "code",
   "execution_count": 80,
   "id": "geological-inspiration",
   "metadata": {},
   "outputs": [],
   "source": [
    "partially_bad_path = Path(\"/Volumes/\") / \"does_not_exist\""
   ]
  },
  {
   "cell_type": "code",
   "execution_count": 81,
   "id": "accredited-magic",
   "metadata": {},
   "outputs": [
    {
     "name": "stdout",
     "output_type": "stream",
     "text": [
      "about to test /Volumes/does_not_exist\n",
      "/Volumes/does_not_exist does not exist and checking parent\n",
      "about to test /Volumes\n",
      "/Volumes does exist and return it\n",
      "/Volumes\n"
     ]
    }
   ],
   "source": [
    "path_returned = validate_path(partially_bad_path)"
   ]
  },
  {
   "cell_type": "code",
   "execution_count": 82,
   "id": "configured-calgary",
   "metadata": {},
   "outputs": [
    {
     "name": "stdout",
     "output_type": "stream",
     "text": [
      "/Volumes\n"
     ]
    }
   ],
   "source": [
    "print(path_returned)"
   ]
  },
  {
   "cell_type": "code",
   "execution_count": null,
   "id": "random-system",
   "metadata": {},
   "outputs": [],
   "source": []
  },
  {
   "cell_type": "code",
   "execution_count": null,
   "id": "consolidated-israeli",
   "metadata": {},
   "outputs": [],
   "source": []
  }
 ],
 "metadata": {
  "kernelspec": {
   "display_name": "Python 3 (ipykernel)",
   "language": "python",
   "name": "python3"
  },
  "language_info": {
   "codemirror_mode": {
    "name": "ipython",
    "version": 3
   },
   "file_extension": ".py",
   "mimetype": "text/x-python",
   "name": "python",
   "nbconvert_exporter": "python",
   "pygments_lexer": "ipython3",
   "version": "3.8.13"
  }
 },
 "nbformat": 4,
 "nbformat_minor": 5
}
