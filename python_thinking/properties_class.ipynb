{
 "cells": [
  {
   "cell_type": "code",
   "execution_count": 1,
   "metadata": {},
   "outputs": [],
   "source": [
    "class Person:\n",
    "    \n",
    "    def __init__(self, first_name, last_name):\n",
    "        self.first_name = first_name\n",
    "        self.last_name = last_name\n",
    "    \n",
    "    @property\n",
    "    def full_name(self):\n",
    "        return self.first_name + \" \" + self.last_name"
   ]
  },
  {
   "cell_type": "code",
   "execution_count": 2,
   "metadata": {},
   "outputs": [],
   "source": [
    "person = Person(\"jean\", \"bilheux\")"
   ]
  },
  {
   "cell_type": "code",
   "execution_count": 3,
   "metadata": {},
   "outputs": [
    {
     "data": {
      "text/plain": [
       "'jean bilheux'"
      ]
     },
     "execution_count": 3,
     "metadata": {},
     "output_type": "execute_result"
    }
   ],
   "source": [
    "person.full_name"
   ]
  },
  {
   "cell_type": "markdown",
   "metadata": {},
   "source": [
    "@property defines automatically a *getter* for full_name, but not a *setter*. It's not possible to change full_name."
   ]
  },
  {
   "cell_type": "code",
   "execution_count": 4,
   "metadata": {},
   "outputs": [
    {
     "ename": "AttributeError",
     "evalue": "can't set attribute",
     "output_type": "error",
     "traceback": [
      "\u001b[0;31m---------------------------------------------------------------------------\u001b[0m",
      "\u001b[0;31mAttributeError\u001b[0m                            Traceback (most recent call last)",
      "\u001b[0;32m<ipython-input-4-72d69ef15645>\u001b[0m in \u001b[0;36m<module>\u001b[0;34m\u001b[0m\n\u001b[0;32m----> 1\u001b[0;31m \u001b[0mperson\u001b[0m\u001b[0;34m.\u001b[0m\u001b[0mfull_name\u001b[0m \u001b[0;34m=\u001b[0m \u001b[0;34m\"yo\"\u001b[0m\u001b[0;34m\u001b[0m\u001b[0;34m\u001b[0m\u001b[0m\n\u001b[0m",
      "\u001b[0;31mAttributeError\u001b[0m: can't set attribute"
     ]
    }
   ],
   "source": [
    "person.full_name = \"yo\""
   ]
  },
  {
   "cell_type": "markdown",
   "metadata": {},
   "source": [
    "For this we need to define a *setter*"
   ]
  },
  {
   "cell_type": "code",
   "execution_count": 10,
   "metadata": {},
   "outputs": [],
   "source": [
    "class Person:\n",
    "    \n",
    "    def __init__(self, first_name, last_name):\n",
    "        self.first_name = first_name\n",
    "        self.last_name = last_name\n",
    "    \n",
    "    @property\n",
    "    def full_name(self):\n",
    "        return self.first_name + \" \" + self.last_name\n",
    "    \n",
    "    @full_name.setter\n",
    "    def full_name(self, value):\n",
    "        self.first_name, self.last_name = value.split(\" \", 1)"
   ]
  },
  {
   "cell_type": "code",
   "execution_count": 11,
   "metadata": {},
   "outputs": [],
   "source": [
    "person = Person(\"Jean\", \"Bilheux\")"
   ]
  },
  {
   "cell_type": "code",
   "execution_count": 12,
   "metadata": {},
   "outputs": [],
   "source": [
    "person.full_name = \"Hassina Bilheux YoYO\""
   ]
  },
  {
   "cell_type": "code",
   "execution_count": 13,
   "metadata": {},
   "outputs": [
    {
     "data": {
      "text/plain": [
       "'Hassina Bilheux YoYO'"
      ]
     },
     "execution_count": 13,
     "metadata": {},
     "output_type": "execute_result"
    }
   ],
   "source": [
    "person.full_name"
   ]
  },
  {
   "cell_type": "markdown",
   "metadata": {
    "run_control": {
     "frozen": false,
     "read_only": false
    }
   },
   "source": [
    "Source of this tutorial can be found [here](https://pybit.es/property-decorator.html)"
   ]
  },
  {
   "cell_type": "code",
   "execution_count": 12,
   "metadata": {},
   "outputs": [
    {
     "name": "stdout",
     "output_type": "stream",
     "text": [
      "Account of Bob:\n",
      "\n",
      "Start Balance: 100\n",
      "\n",
      "Transactions:\n",
      "\n",
      "- Transaction(date=datetime.datetime(2020, 2, 11, 18, 7, 44, 213786), amount=25)\n",
      "- Transaction(date=datetime.datetime(2020, 2, 11, 18, 7, 44, 213795), amount=-100)\n",
      "- Transaction(date=datetime.datetime(2020, 2, 11, 18, 7, 44, 213798), amount=50)\n",
      "- Transaction(date=datetime.datetime(2020, 2, 11, 18, 7, 44, 213800), amount=-10)\n",
      "\n",
      "End Balance: 65\n"
     ]
    }
   ],
   "source": [
    "from collections import namedtuple\n",
    "from datetime import datetime\n",
    "\n",
    "Transaction = namedtuple('Transaction', 'date amount')\n",
    "\n",
    "\n",
    "class Account:\n",
    "\n",
    "    def __init__(self, owner, start_balance=0):\n",
    "        self.owner = owner.title()\n",
    "        self.start_balance = start_balance\n",
    "        self._transactions = []\n",
    "\n",
    "    # first property use case: computed attributes\n",
    "\n",
    "    @property\n",
    "    def balance(self):\n",
    "        tt = sum(t.amount for t in self._transactions)\n",
    "        return self._start_balance + tt\n",
    "\n",
    "    # second property use case: encapsulation\n",
    "\n",
    "    @property\n",
    "    def start_balance(self):\n",
    "        return self._start_balance\n",
    "\n",
    "    @start_balance.setter\n",
    "    def start_balance(self, balance):\n",
    "        if not isinstance(balance, int):\n",
    "            raise TypeError('Start balance needs to be int')\n",
    "        if balance < 0:\n",
    "            raise ValueError('Start balance cannot be negative')\n",
    "        self._start_balance = balance\n",
    "\n",
    "    @start_balance.deleter\n",
    "    def start_balance(self):\n",
    "        raise AttributeError('Cannot delete start_balance attr')\n",
    "\n",
    "    # (not property related)\n",
    "    # transaction management with magic methods\n",
    "\n",
    "    def _add_transaction(self, amount):\n",
    "        if not isinstance(amount, int):\n",
    "            raise TypeError('Amount needs to be of type int')\n",
    "        t = Transaction(datetime.now(), amount)\n",
    "        self._transactions.append(t)\n",
    "\n",
    "    def __iadd__(self, amount):\n",
    "        'Magic method to allow for acc += amount'\n",
    "        self._add_transaction(amount)\n",
    "        return self  # need to return object!\n",
    "\n",
    "    def __isub__(self, amount):\n",
    "        'Magic method to allow for acc -= amount'\n",
    "        self._add_transaction(-amount)\n",
    "        return self\n",
    "\n",
    "    def __len__(self):\n",
    "        'len(acc_instance) gives # transactions'\n",
    "        return len(self._transactions)\n",
    "\n",
    "    def __str__(self):\n",
    "        'Nice class reporting when doing str(acc_instance)'\n",
    "        tt = ['- {}'.format(t) for t in self._transactions]\n",
    "        s = ['Account of {}:'.format(self.owner),\n",
    "             'Start Balance: {}'.format(self.start_balance),\n",
    "             'Transactions:',\n",
    "             '\\n'.join(tt) or 'None',\n",
    "             'End Balance: {}'.format(self.balance)]\n",
    "        return '\\n\\n'.join(s)\n",
    "\n",
    "\n",
    "if __name__ == '__main__':\n",
    "    acc = Account('Bob', 100)\n",
    "    acc += 25\n",
    "    acc -= 100\n",
    "    acc += 50\n",
    "    acc -= 10\n",
    "    print(acc)"
   ]
  },
  {
   "cell_type": "markdown",
   "metadata": {},
   "source": [
    "# my class"
   ]
  },
  {
   "cell_type": "code",
   "execution_count": 2,
   "metadata": {},
   "outputs": [],
   "source": [
    "class FlyingHours:\n",
    "    \n",
    "    def __init__(self, owner, starting_hours=0):\n",
    "        self.owner = owner.title()  # first character is upper case\n",
    "        self.starting_hours = starting_hours\n",
    "        self._total_hours = starting_hours\n",
    "        \n",
    "    def __str__(self):\n",
    "        s = [\"{} of {}\".format(__class__.__name__, self.owner),\n",
    "             \"Total Hours: {}\".format(self._total_hours),\n",
    "            ]\n",
    "        return '\\n\\n'.join(s)"
   ]
  },
  {
   "cell_type": "code",
   "execution_count": 3,
   "metadata": {},
   "outputs": [
    {
     "name": "stdout",
     "output_type": "stream",
     "text": [
      "FlyingHours of Jean Bilheux\n",
      "\n",
      "Total Hours: bob\n"
     ]
    }
   ],
   "source": [
    "# That should not work !!!\n",
    "o_plane = FlyingHours(\"jean bilheux\", \"bob\")\n",
    "print(o_plane)"
   ]
  },
  {
   "cell_type": "code",
   "execution_count": 4,
   "metadata": {},
   "outputs": [],
   "source": [
    "class FlyingHours1(FlyingHours):\n",
    "    \n",
    "    def __init__(self, owner, starting_hours=0):\n",
    "        super().__init__(owner, starting_hours=starting_hours)\n",
    "    \n",
    "    @property\n",
    "    def starting_hours(self):\n",
    "        return self._starting_hours\n",
    "    \n",
    "    @starting_hours.setter\n",
    "    def starting_hours(self, hours):\n",
    "        if not isinstance(hours, int):\n",
    "            raise TypeError(\"must be a int\")\n",
    "        if hours <= 0:\n",
    "            raise ValueError(\"must be greater than 0!\")\n",
    "        self._starting_hours = hours\n",
    "        \n",
    "    @starting_hours.deleter\n",
    "    def starting_hours(self):\n",
    "        raise AttributeError(\"Cannot reset hours!\")\n",
    "        \n",
    "    @property\n",
    "    def hours(self):\n",
    "        return \"You have been flying {}\".format(self._starting_hours)\n",
    "        \n",
    "    def _add_hours(self, hours):\n",
    "        self._total_hours += hours\n",
    "        \n",
    "    def __iadd__(self, hours):\n",
    "        'Magic method to allow for acc += amount'\n",
    "        self._add_hours(hours)\n",
    "        return self  # need to return object!\n",
    "\n",
    "    def __isub__(self, hours):\n",
    "        'Magic method to allow for acc -= amount'\n",
    "        self._add_hours(-hours)\n",
    "        return self\n",
    "\n"
   ]
  },
  {
   "cell_type": "code",
   "execution_count": 10,
   "metadata": {},
   "outputs": [
    {
     "name": "stdout",
     "output_type": "stream",
     "text": [
      "FlyingHours of Jean Bilheux\n",
      "\n",
      "Total Hours: 10\n"
     ]
    }
   ],
   "source": [
    "o_plane = FlyingHours1(\"jean bilheux\", starting_hours=10)\n",
    "print(o_plane)"
   ]
  },
  {
   "cell_type": "code",
   "execution_count": 11,
   "metadata": {},
   "outputs": [
    {
     "data": {
      "text/plain": [
       "10"
      ]
     },
     "execution_count": 11,
     "metadata": {},
     "output_type": "execute_result"
    }
   ],
   "source": [
    "o_plane.starting_hours\n"
   ]
  },
  {
   "cell_type": "code",
   "execution_count": 7,
   "metadata": {},
   "outputs": [
    {
     "data": {
      "text/plain": [
       "'You have been flying 10'"
      ]
     },
     "execution_count": 7,
     "metadata": {},
     "output_type": "execute_result"
    }
   ],
   "source": [
    "o_plane.hours"
   ]
  },
  {
   "cell_type": "code",
   "execution_count": 8,
   "metadata": {},
   "outputs": [],
   "source": [
    "o_plane += 10"
   ]
  },
  {
   "cell_type": "code",
   "execution_count": 9,
   "metadata": {},
   "outputs": [
    {
     "name": "stdout",
     "output_type": "stream",
     "text": [
      "FlyingHours of Jean Bilheux\n",
      "\n",
      "Total Hours: 20\n",
      "FlyingHours of Jean Bilheux\n",
      "\n",
      "Total Hours: 35\n"
     ]
    }
   ],
   "source": [
    "print(o_plane)\n",
    "o_plane += 15\n",
    "print(o_plane)"
   ]
  },
  {
   "cell_type": "markdown",
   "metadata": {
    "collapsed": true
   },
   "source": [
    "# setter used during \\_\\_init__ "
   ]
  },
  {
   "cell_type": "code",
   "execution_count": 20,
   "metadata": {},
   "outputs": [],
   "source": [
    "class Ticket:\n",
    "    \n",
    "    def __init__(self, price):\n",
    "        self.price = price\n",
    "        \n",
    "    @property\n",
    "    def price(self):\n",
    "        return self._price\n",
    "    \n",
    "    @price.setter\n",
    "    def price(self, new_price):\n",
    "        if new_price < 0:\n",
    "            self._price = 0\n",
    "        else:\n",
    "            self._price = new_price"
   ]
  },
  {
   "cell_type": "code",
   "execution_count": 21,
   "metadata": {},
   "outputs": [
    {
     "name": "stdout",
     "output_type": "stream",
     "text": [
      "10\n"
     ]
    }
   ],
   "source": [
    "ticket1 = Ticket(10)\n",
    "print(ticket1.price)"
   ]
  },
  {
   "cell_type": "code",
   "execution_count": 22,
   "metadata": {},
   "outputs": [
    {
     "name": "stdout",
     "output_type": "stream",
     "text": [
      "0\n"
     ]
    }
   ],
   "source": [
    "ticket2 = Ticket(-10)\n",
    "print(ticket2.price)"
   ]
  },
  {
   "cell_type": "code",
   "execution_count": null,
   "metadata": {},
   "outputs": [],
   "source": []
  }
 ],
 "metadata": {
  "kernelspec": {
   "display_name": "Python 3",
   "language": "python",
   "name": "python3"
  },
  "language_info": {
   "codemirror_mode": {
    "name": "ipython",
    "version": 3
   },
   "file_extension": ".py",
   "mimetype": "text/x-python",
   "name": "python",
   "nbconvert_exporter": "python",
   "pygments_lexer": "ipython3",
   "version": "3.6.9"
  },
  "toc": {
   "colors": {
    "hover_highlight": "#DAA520",
    "running_highlight": "#FF0000",
    "selected_highlight": "#FFD700"
   },
   "moveMenuLeft": true,
   "nav_menu": {
    "height": "30px",
    "width": "252px"
   },
   "navigate_menu": true,
   "number_sections": true,
   "sideBar": true,
   "threshold": 4,
   "toc_cell": false,
   "toc_section_display": "block",
   "toc_window_display": false
  }
 },
 "nbformat": 4,
 "nbformat_minor": 2
}
