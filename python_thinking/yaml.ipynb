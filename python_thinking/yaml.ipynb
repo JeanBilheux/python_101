{
 "cells": [
  {
   "cell_type": "markdown",
   "id": "c7abcc5a",
   "metadata": {},
   "source": [
    "Tutorial inspired from [real python](https://realpython.com/python-yaml/)\n"
   ]
  },
  {
   "cell_type": "code",
   "execution_count": 2,
   "id": "7a5ed769",
   "metadata": {},
   "outputs": [],
   "source": [
    "import yaml"
   ]
  },
  {
   "cell_type": "code",
   "execution_count": null,
   "id": "15bcdf44",
   "metadata": {},
   "outputs": [],
   "source": []
  }
 ],
 "metadata": {
  "kernelspec": {
   "display_name": "Python 3",
   "language": "python",
   "name": "python3"
  },
  "language_info": {
   "codemirror_mode": {
    "name": "ipython",
    "version": 3
   },
   "file_extension": ".py",
   "mimetype": "text/x-python",
   "name": "python",
   "nbconvert_exporter": "python",
   "pygments_lexer": "ipython3",
   "version": "3.7.12"
  }
 },
 "nbformat": 4,
 "nbformat_minor": 5
}
