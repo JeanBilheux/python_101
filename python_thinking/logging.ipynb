{
 "cells": [
  {
   "cell_type": "code",
   "execution_count": null,
   "metadata": {},
   "outputs": [],
   "source": [
    "import logging"
   ]
  },
  {
   "cell_type": "code",
   "execution_count": null,
   "metadata": {},
   "outputs": [],
   "source": [
    "logging.debug(\"this is a debug\")\n",
    "logging.info(\"this is an info\")\n",
    "logging.warning(\"this is a warning\")\n",
    "logging.error(\"this is an error\")\n",
    "logging.critical(\"this is critical\")"
   ]
  },
  {
   "cell_type": "code",
   "execution_count": null,
   "metadata": {},
   "outputs": [],
   "source": [
    "logging.basicConfig(level=logging.INFO)"
   ]
  },
  {
   "cell_type": "code",
   "execution_count": null,
   "metadata": {},
   "outputs": [],
   "source": [
    "logging.debug(\"this is a debug\")\n",
    "logging.info(\"this is an info\")\n",
    "logging.warning(\"this is a warning\")\n",
    "logging.error(\"this is an error\")\n",
    "logging.critical(\"this is critical\")"
   ]
  },
  {
   "cell_type": "code",
   "execution_count": null,
   "metadata": {},
   "outputs": [],
   "source": [
    "logging.basicConfig(level=logging.ERROR)"
   ]
  },
  {
   "cell_type": "code",
   "execution_count": null,
   "metadata": {},
   "outputs": [],
   "source": [
    "logging.debug(\"this is a debug\")\n",
    "logging.info(\"this is an info\")\n",
    "logging.warning(\"this is a warning\")\n",
    "logging.error(\"this is an error\")\n",
    "logging.critical(\"this is critical\")"
   ]
  },
  {
   "cell_type": "markdown",
   "metadata": {},
   "source": [
    "One must restart the kernel to validate the new level of logging!"
   ]
  },
  {
   "cell_type": "code",
   "execution_count": null,
   "metadata": {},
   "outputs": [],
   "source": [
    "logging.log(logging.ERROR, \"this is an error\")"
   ]
  },
  {
   "cell_type": "markdown",
   "metadata": {},
   "source": [
    "it's possible to configure the logging module via basicConfig\n",
    "\n",
    "* **filename**: where to write the log message (instead of stderr\n",
    "* **level**: see above\n",
    "* **filemode**: 'w' or 'a' (append)\n",
    "* **format**: format of log records"
   ]
  },
  {
   "cell_type": "markdown",
   "metadata": {},
   "source": [
    "NB: remember to restart the kernel and start running it from here to get the following working"
   ]
  },
  {
   "cell_type": "code",
   "execution_count": 1,
   "metadata": {},
   "outputs": [],
   "source": [
    "import logging"
   ]
  },
  {
   "cell_type": "code",
   "execution_count": 2,
   "metadata": {},
   "outputs": [],
   "source": [
    "logging.basicConfig(filename='/Users/j35/Desktop/remove_me.txt',\n",
    "                   filemode='w')"
   ]
  },
  {
   "cell_type": "code",
   "execution_count": 3,
   "metadata": {},
   "outputs": [],
   "source": [
    "logging.debug(\"this is a debug\")\n",
    "logging.info(\"this is an info\")\n",
    "logging.warning(\"this is a warning\")\n",
    "logging.error(\"this is an error\")\n",
    "logging.critical(\"this is critical\")"
   ]
  },
  {
   "cell_type": "markdown",
   "metadata": {},
   "source": [
    "## format"
   ]
  },
  {
   "cell_type": "markdown",
   "metadata": {},
   "source": [
    "The default format is defined as followed\n",
    "\n",
    "```\n",
    "%(levelname)s:%(name)s:%(message)s\n",
    "```"
   ]
  },
  {
   "cell_type": "code",
   "execution_count": 4,
   "metadata": {},
   "outputs": [],
   "source": [
    "logging.basicConfig(format=\"Log level: %(levelname)s, msg: %(message)s\")"
   ]
  },
  {
   "cell_type": "markdown",
   "metadata": {},
   "source": [
    "But there are many more attributes that can be added such as\n",
    "\n",
    "* asctime\n",
    "* funcName\n",
    "* lineno\n",
    "* message\n",
    "* pathname\n",
    "* levelname\n",
    "* name\n"
   ]
  },
  {
   "cell_type": "markdown",
   "metadata": {},
   "source": [
    "Full list can be found [here](https://docs.python.org/3/library/logging.html#logrecord-attributes)"
   ]
  }
 ],
 "metadata": {
  "kernelspec": {
   "display_name": "Python 3",
   "language": "python",
   "name": "python3"
  },
  "language_info": {
   "codemirror_mode": {
    "name": "ipython",
    "version": 3
   },
   "file_extension": ".py",
   "mimetype": "text/x-python",
   "name": "python",
   "nbconvert_exporter": "python",
   "pygments_lexer": "ipython3",
   "version": "3.6.9"
  }
 },
 "nbformat": 4,
 "nbformat_minor": 2
}
