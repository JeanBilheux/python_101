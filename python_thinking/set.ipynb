{
  "cells": [
    {
      "cell_type": "markdown",
      "source": [
        "Inspired from \n",
        " * [this youtube tutorial](https://www.youtube.com/watch?v=b-K1ujf8u_k)\n",
        " * [Dan Bader web site](https://dbader.org/blog/sets-and-multiset-in-python)"
      ],
      "metadata": {
        "run_control": {
          "frozen": false,
          "read_only": false
        }
      }
    },
    {
      "cell_type": "markdown",
      "source": [
        "## declaration"
      ],
      "metadata": {}
    },
    {
      "cell_type": "code",
      "source": [
        "vowels = set(['a','e','i','o','u'])\n",
        "print(type(vowels))"
      ],
      "outputs": [
        {
          "output_type": "stream",
          "name": "stdout",
          "text": [
            "<class 'set'>\n"
          ]
        }
      ],
      "execution_count": 3,
      "metadata": {
        "collapsed": false
      }
    },
    {
      "cell_type": "code",
      "source": [
        "vowels = {'a','e','i','o','u'}\n",
        "print(type(vowels))"
      ],
      "outputs": [
        {
          "output_type": "stream",
          "name": "stdout",
          "text": [
            "<class 'set'>\n"
          ]
        }
      ],
      "execution_count": 4,
      "metadata": {
        "collapsed": false
      }
    },
    {
      "cell_type": "markdown",
      "source": [
        "Set: **unordered** collections of items that **doesn't allow duplicates** (when list is an ordered collections of items)"
      ],
      "metadata": {}
    },
    {
      "cell_type": "markdown",
      "source": [
        "## is in ?"
      ],
      "metadata": {}
    },
    {
      "cell_type": "markdown",
      "source": [
        "List: test for membership is in 0(n) time .. can be slow"
      ],
      "metadata": {}
    },
    {
      "cell_type": "code",
      "source": [
        "list_vowels = ['a','e','i','o','u']\n",
        "'i' in list_vowels"
      ],
      "outputs": [
        {
          "output_type": "execute_result",
          "execution_count": 6,
          "data": {
            "text/plain": [
              "True"
            ]
          },
          "metadata": {}
        }
      ],
      "execution_count": 6,
      "metadata": {
        "collapsed": false
      }
    },
    {
      "cell_type": "markdown",
      "source": [
        "Set: test for membership is much faster... 0(1)\n"
      ],
      "metadata": {}
    },
    {
      "cell_type": "markdown",
      "source": [
        "## set comprehension "
      ],
      "metadata": {}
    },
    {
      "cell_type": "code",
      "source": [
        "squares = {x*x for x in range(10)}\n",
        "squares"
      ],
      "outputs": [
        {
          "output_type": "execute_result",
          "execution_count": 9,
          "data": {
            "text/plain": [
              "{0, 1, 4, 9, 16, 25, 36, 49, 64, 81}"
            ]
          },
          "metadata": {}
        }
      ],
      "execution_count": 9,
      "metadata": {
        "collapsed": false
      }
    },
    {
      "cell_type": "markdown",
      "source": [
        "## empty set "
      ],
      "metadata": {}
    },
    {
      "cell_type": "code",
      "source": [
        "empty_set = set()"
      ],
      "outputs": [],
      "execution_count": 10,
      "metadata": {
        "collapsed": true
      }
    },
    {
      "cell_type": "markdown",
      "source": [
        "## set implementation in the python standard library"
      ],
      "metadata": {}
    },
    {
      "cell_type": "code",
      "source": [
        "letters = set('alice')\n",
        "letters"
      ],
      "outputs": [
        {
          "output_type": "execute_result",
          "execution_count": 11,
          "data": {
            "text/plain": [
              "{'a', 'c', 'e', 'i', 'l'}"
            ]
          },
          "metadata": {}
        }
      ],
      "execution_count": 11,
      "metadata": {
        "collapsed": false
      }
    },
    {
      "cell_type": "code",
      "source": [
        "letters.intersection(vowels)"
      ],
      "outputs": [
        {
          "output_type": "execute_result",
          "execution_count": 12,
          "data": {
            "text/plain": [
              "{'a', 'e', 'i'}"
            ]
          },
          "metadata": {}
        }
      ],
      "execution_count": 12,
      "metadata": {
        "collapsed": false
      }
    },
    {
      "cell_type": "markdown",
      "source": [
        "live interaction to set"
      ],
      "metadata": {}
    },
    {
      "cell_type": "code",
      "source": [
        "vowels.add('x')\n",
        "vowels"
      ],
      "outputs": [
        {
          "output_type": "execute_result",
          "execution_count": 13,
          "data": {
            "text/plain": [
              "{'a', 'e', 'i', 'o', 'u', 'x'}"
            ]
          },
          "metadata": {}
        }
      ],
      "execution_count": 13,
      "metadata": {
        "collapsed": false
      }
    },
    {
      "cell_type": "code",
      "source": [
        "vowels.add(23)\n",
        "vowels"
      ],
      "outputs": [
        {
          "output_type": "execute_result",
          "execution_count": 15,
          "data": {
            "text/plain": [
              "{'e', 'o', 'i', 'u', 'a', 'x', 23}"
            ]
          },
          "metadata": {}
        }
      ],
      "execution_count": 15,
      "metadata": {
        "collapsed": false
      }
    },
    {
      "cell_type": "markdown",
      "source": [
        "## frozen sets"
      ],
      "metadata": {}
    },
    {
      "cell_type": "markdown",
      "source": [
        "we won't be able to add new elements to our set"
      ],
      "metadata": {}
    },
    {
      "cell_type": "code",
      "source": [
        "vowels = frozenset({'a','e','i','o','u'})"
      ],
      "outputs": [],
      "execution_count": 16,
      "metadata": {
        "collapsed": true
      }
    },
    {
      "cell_type": "code",
      "source": [
        "vowels.add(23)"
      ],
      "outputs": [
        {
          "output_type": "error",
          "ename": "AttributeError",
          "evalue": "'frozenset' object has no attribute 'add'",
          "traceback": [
            "\u001b[0;31m---------------------------------------------------------------------------\u001b[0m",
            "\u001b[0;31mAttributeError\u001b[0m                            Traceback (most recent call last)",
            "\u001b[0;32m<ipython-input-17-1fb7f32a4bb9>\u001b[0m in \u001b[0;36m<module>\u001b[0;34m()\u001b[0m\n\u001b[0;32m----> 1\u001b[0;31m \u001b[0mvowels\u001b[0m\u001b[0;34m.\u001b[0m\u001b[0madd\u001b[0m\u001b[0;34m(\u001b[0m\u001b[0;36m23\u001b[0m\u001b[0;34m)\u001b[0m\u001b[0;34m\u001b[0m\u001b[0m\n\u001b[0m",
            "\u001b[0;31mAttributeError\u001b[0m: 'frozenset' object has no attribute 'add'"
          ]
        }
      ],
      "execution_count": 17,
      "metadata": {
        "collapsed": false
      }
    },
    {
      "cell_type": "markdown",
      "source": [
        "frozen set are also hashable"
      ],
      "metadata": {}
    },
    {
      "cell_type": "markdown",
      "source": [
        "## multi-sets (or counter)"
      ],
      "metadata": {}
    },
    {
      "cell_type": "code",
      "source": [
        "import collections"
      ],
      "outputs": [],
      "execution_count": 20,
      "metadata": {
        "collapsed": true
      }
    },
    {
      "cell_type": "markdown",
      "source": [
        "Nice when we need not only if an element is in a set, but also how many times we can find it in the set"
      ],
      "metadata": {}
    },
    {
      "cell_type": "code",
      "source": [
        "inventory = collections.Counter()"
      ],
      "outputs": [],
      "execution_count": 22,
      "metadata": {
        "collapsed": false
      }
    },
    {
      "cell_type": "code",
      "source": [
        "loot = {'sword': 1, 'bread': 3}\n",
        "inventory.update(loot)\n",
        "inventory"
      ],
      "outputs": [
        {
          "output_type": "execute_result",
          "execution_count": 24,
          "data": {
            "text/plain": [
              "Counter({'bread': 3, 'sword': 1})"
            ]
          },
          "metadata": {}
        }
      ],
      "execution_count": 24,
      "metadata": {
        "collapsed": false
      }
    },
    {
      "cell_type": "code",
      "source": [
        "more_loot = {'sword': 1, 'apple': 1}\n",
        "inventory.update(more_loot)\n",
        "inventory"
      ],
      "outputs": [
        {
          "output_type": "execute_result",
          "execution_count": 25,
          "data": {
            "text/plain": [
              "Counter({'apple': 1, 'bread': 3, 'sword': 2})"
            ]
          },
          "metadata": {}
        }
      ],
      "execution_count": 25,
      "metadata": {
        "collapsed": false
      }
    },
    {
      "cell_type": "markdown",
      "source": [
        "Now we have 2 **swords** !"
      ],
      "metadata": {}
    },
    {
      "cell_type": "code",
      "source": [],
      "outputs": [],
      "execution_count": null,
      "metadata": {
        "collapsed": true
      }
    }
  ],
  "metadata": {
    "anaconda-cloud": {},
    "kernelspec": {
      "name": "python3",
      "language": "python",
      "display_name": "Python 3"
    },
    "language_info": {
      "file_extension": ".py",
      "nbconvert_exporter": "python",
      "version": "3.5.3",
      "codemirror_mode": {
        "name": "ipython",
        "version": 3
      },
      "name": "python",
      "pygments_lexer": "ipython3",
      "mimetype": "text/x-python"
    },
    "toc": {
      "number_sections": true,
      "toc_window_display": false,
      "threshold": 4,
      "navigate_menu": true,
      "colors": {
        "hover_highlight": "#DAA520",
        "running_highlight": "#FF0000",
        "selected_highlight": "#FFD700"
      },
      "toc_section_display": "block",
      "moveMenuLeft": true,
      "toc_cell": false,
      "nav_menu": {
        "height": "138px",
        "width": "252px"
      },
      "sideBar": true
    },
    "kernel_info": {
      "name": "python3"
    }
  },
  "nbformat": 4,
  "nbformat_minor": 0
}