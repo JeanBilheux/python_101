{
 "cells": [
  {
   "cell_type": "code",
   "execution_count": 6,
   "metadata": {},
   "outputs": [],
   "source": [
    "import re"
   ]
  },
  {
   "cell_type": "code",
   "execution_count": 7,
   "metadata": {},
   "outputs": [],
   "source": [
    "text1 = \"Fe\"\n",
    "text2 = \"Fe35\"\n",
    "text3 = \"(Fe126)\"\n",
    "text4 = \"(Fe126)3\"\n",
    "\n",
    "text5 = \"Fe0.2\"\n",
    "text6 = \"(Fe126)0.5\""
   ]
  },
  {
   "cell_type": "markdown",
   "metadata": {},
   "source": [
    "# working with text1 "
   ]
  },
  {
   "cell_type": "code",
   "execution_count": 8,
   "metadata": {},
   "outputs": [],
   "source": [
    "regular_expression_1 = r'^([A-Z]{1}[a-z]{0,1}$)'"
   ]
  },
  {
   "cell_type": "code",
   "execution_count": 9,
   "metadata": {},
   "outputs": [],
   "source": [
    "m = re.search(regular_expression_1, text1)"
   ]
  },
  {
   "cell_type": "code",
   "execution_count": 10,
   "metadata": {},
   "outputs": [
    {
     "name": "stdout",
     "output_type": "stream",
     "text": [
      "Fe\n",
      "Fe\n"
     ]
    }
   ],
   "source": [
    "print(m.group(0))\n",
    "print(m.group(1))"
   ]
  },
  {
   "cell_type": "markdown",
   "metadata": {},
   "source": [
    "# working with text2 "
   ]
  },
  {
   "cell_type": "code",
   "execution_count": 11,
   "metadata": {},
   "outputs": [],
   "source": [
    "m = re.search(regular_expression_1, text2)"
   ]
  },
  {
   "cell_type": "code",
   "execution_count": 12,
   "metadata": {},
   "outputs": [],
   "source": [
    "assert m is None"
   ]
  },
  {
   "cell_type": "code",
   "execution_count": 13,
   "metadata": {},
   "outputs": [
    {
     "ename": "AttributeError",
     "evalue": "'NoneType' object has no attribute 'group'",
     "output_type": "error",
     "traceback": [
      "\u001b[0;31m---------------------------------------------------------------------------\u001b[0m",
      "\u001b[0;31mAttributeError\u001b[0m                            Traceback (most recent call last)",
      "\u001b[0;32m<ipython-input-13-6dd36cae549c>\u001b[0m in \u001b[0;36m<module>\u001b[0;34m\u001b[0m\n\u001b[0;32m----> 1\u001b[0;31m \u001b[0mm\u001b[0m\u001b[0;34m.\u001b[0m\u001b[0mgroup\u001b[0m\u001b[0;34m(\u001b[0m\u001b[0;36m0\u001b[0m\u001b[0;34m)\u001b[0m\u001b[0;34m\u001b[0m\u001b[0;34m\u001b[0m\u001b[0m\n\u001b[0m",
      "\u001b[0;31mAttributeError\u001b[0m: 'NoneType' object has no attribute 'group'"
     ]
    }
   ],
   "source": [
    "m.group(0)"
   ]
  },
  {
   "cell_type": "code",
   "execution_count": 41,
   "metadata": {},
   "outputs": [],
   "source": [
    "regular_expression_2 = r'^(?P<element>[A-Z][a-z]*)(?P<coefficient>\\d*\\.{0,1}\\d*)'"
   ]
  },
  {
   "cell_type": "code",
   "execution_count": 42,
   "metadata": {},
   "outputs": [],
   "source": [
    "m = re.search(regular_expression_2, text2)"
   ]
  },
  {
   "cell_type": "code",
   "execution_count": 43,
   "metadata": {},
   "outputs": [
    {
     "name": "stdout",
     "output_type": "stream",
     "text": [
      "Fe35\n",
      "Fe\n",
      "35\n",
      "Fe\n",
      "35\n"
     ]
    }
   ],
   "source": [
    "print(m.group(0))\n",
    "print(m.group(1))\n",
    "print(m.group(2))\n",
    "print(m.group('element'))\n",
    "print(m.group('coefficient'))"
   ]
  },
  {
   "cell_type": "markdown",
   "metadata": {},
   "source": [
    "# text5 "
   ]
  },
  {
   "cell_type": "code",
   "execution_count": 54,
   "metadata": {},
   "outputs": [
    {
     "name": "stdout",
     "output_type": "stream",
     "text": [
      "Fe0.2\n"
     ]
    }
   ],
   "source": [
    "print(text5)"
   ]
  },
  {
   "cell_type": "code",
   "execution_count": 57,
   "metadata": {},
   "outputs": [
    {
     "name": "stdout",
     "output_type": "stream",
     "text": [
      "Element is: Fe\n",
      "Coefficient is: 0.2\n"
     ]
    }
   ],
   "source": [
    "m = re.search(regular_expression_2, text5)\n",
    "print(\"Element is: {}\".format(m.group('element')))\n",
    "print(\"Coefficient is: {}\".format(m.group('coefficient')))"
   ]
  },
  {
   "cell_type": "markdown",
   "metadata": {},
   "source": [
    "# working with text3"
   ]
  },
  {
   "cell_type": "code",
   "execution_count": 46,
   "metadata": {},
   "outputs": [
    {
     "ename": "AttributeError",
     "evalue": "'NoneType' object has no attribute 'group'",
     "output_type": "error",
     "traceback": [
      "\u001b[0;31m---------------------------------------------------------------------------\u001b[0m",
      "\u001b[0;31mAttributeError\u001b[0m                            Traceback (most recent call last)",
      "\u001b[0;32m<ipython-input-46-6b68820abe9b>\u001b[0m in \u001b[0;36m<module>\u001b[0;34m\u001b[0m\n\u001b[1;32m      1\u001b[0m \u001b[0mm\u001b[0m \u001b[0;34m=\u001b[0m \u001b[0mre\u001b[0m\u001b[0;34m.\u001b[0m\u001b[0msearch\u001b[0m\u001b[0;34m(\u001b[0m\u001b[0mregular_expression_2\u001b[0m\u001b[0;34m,\u001b[0m \u001b[0mtext3\u001b[0m\u001b[0;34m)\u001b[0m\u001b[0;34m\u001b[0m\u001b[0;34m\u001b[0m\u001b[0m\n\u001b[0;32m----> 2\u001b[0;31m \u001b[0mprint\u001b[0m\u001b[0;34m(\u001b[0m\u001b[0mm\u001b[0m\u001b[0;34m.\u001b[0m\u001b[0mgroup\u001b[0m\u001b[0;34m(\u001b[0m\u001b[0;36m0\u001b[0m\u001b[0;34m)\u001b[0m\u001b[0;34m)\u001b[0m\u001b[0;34m\u001b[0m\u001b[0;34m\u001b[0m\u001b[0m\n\u001b[0m",
      "\u001b[0;31mAttributeError\u001b[0m: 'NoneType' object has no attribute 'group'"
     ]
    }
   ],
   "source": [
    "m = re.search(regular_expression_2, text3)\n",
    "print(m.group(0))"
   ]
  },
  {
   "cell_type": "code",
   "execution_count": 58,
   "metadata": {},
   "outputs": [],
   "source": [
    "regular_expression_3 = r'^\\((?P<element>[A-Z][a-z]*)(?P<coefficient>\\d+)\\)(?P<stochiometric>\\d*\\.{0,1}\\d*)'"
   ]
  },
  {
   "cell_type": "code",
   "execution_count": 59,
   "metadata": {},
   "outputs": [
    {
     "name": "stdout",
     "output_type": "stream",
     "text": [
      "(Fe126)\n"
     ]
    }
   ],
   "source": [
    "print(text3)"
   ]
  },
  {
   "cell_type": "code",
   "execution_count": 60,
   "metadata": {},
   "outputs": [
    {
     "name": "stdout",
     "output_type": "stream",
     "text": [
      "Fe\n",
      "126\n",
      "\n"
     ]
    }
   ],
   "source": [
    "m = re.search(regular_expression_3, text3)\n",
    "# print(m.group(0))\n",
    "# print(m.group(1))\n",
    "# print(m.group(2))\n",
    "print(m.group('element'))\n",
    "print(m.group('coefficient'))\n",
    "print(m.group('stochiometric'))\n",
    "assert m.group('stochiometric') is \"\""
   ]
  },
  {
   "cell_type": "markdown",
   "metadata": {},
   "source": [
    "# working with text3"
   ]
  },
  {
   "cell_type": "code",
   "execution_count": 50,
   "metadata": {},
   "outputs": [
    {
     "name": "stdout",
     "output_type": "stream",
     "text": [
      "Fe\n",
      "126\n",
      "Fe\n",
      "126\n",
      "3\n"
     ]
    }
   ],
   "source": [
    "m = re.search(regular_expression_3, text4)\n",
    "print(m.group(1))\n",
    "print(m.group(2))\n",
    "print(m.group('element'))\n",
    "print(m.group('coefficient'))\n",
    "print(m.group('stochiometric'))"
   ]
  },
  {
   "cell_type": "markdown",
   "metadata": {},
   "source": [
    "# More cases "
   ]
  },
  {
   "cell_type": "code",
   "execution_count": 51,
   "metadata": {},
   "outputs": [
    {
     "name": "stdout",
     "output_type": "stream",
     "text": [
      "(Fe126)0.5\n"
     ]
    }
   ],
   "source": [
    "print(text6)"
   ]
  },
  {
   "cell_type": "code",
   "execution_count": 53,
   "metadata": {},
   "outputs": [
    {
     "name": "stdout",
     "output_type": "stream",
     "text": [
      "Fe\n",
      "126\n",
      "Fe\n",
      "126\n",
      "0.5\n"
     ]
    }
   ],
   "source": [
    "m = re.search(regular_expression_3, text6)\n",
    "print(m.group(1))\n",
    "print(m.group(2))\n",
    "print(m.group('element'))\n",
    "print(m.group('coefficient'))\n",
    "print(m.group('stochiometric'))"
   ]
  },
  {
   "cell_type": "markdown",
   "metadata": {},
   "source": [
    "# equation extraction"
   ]
  },
  {
   "cell_type": "code",
   "execution_count": 53,
   "metadata": {},
   "outputs": [],
   "source": [
    "regular1 = r'\\$(?P<formula>.+)\\`'"
   ]
  },
  {
   "cell_type": "code",
   "execution_count": 54,
   "metadata": {},
   "outputs": [],
   "source": [
    "formula_to_extract = r\"${value/10e12}`\""
   ]
  },
  {
   "cell_type": "code",
   "execution_count": 55,
   "metadata": {},
   "outputs": [],
   "source": [
    "m = re.search(regular1, formula_to_extract)"
   ]
  },
  {
   "cell_type": "code",
   "execution_count": 56,
   "metadata": {},
   "outputs": [
    {
     "name": "stdout",
     "output_type": "stream",
     "text": [
      "{value/10e12}\n"
     ]
    }
   ],
   "source": [
    "print(m.group('formula'))"
   ]
  },
  {
   "cell_type": "code",
   "execution_count": 57,
   "metadata": {},
   "outputs": [],
   "source": [
    "result = m.group('formula')"
   ]
  },
  {
   "cell_type": "code",
   "execution_count": 58,
   "metadata": {},
   "outputs": [],
   "source": [
    "value = 10"
   ]
  },
  {
   "cell_type": "code",
   "execution_count": 60,
   "metadata": {},
   "outputs": [],
   "source": [
    "final_result = eval(result)"
   ]
  },
  {
   "cell_type": "code",
   "execution_count": 66,
   "metadata": {},
   "outputs": [
    {
     "name": "stdout",
     "output_type": "stream",
     "text": [
      "{1e-12}\n"
     ]
    }
   ],
   "source": [
    "print(final_result)"
   ]
  },
  {
   "cell_type": "code",
   "execution_count": 67,
   "metadata": {},
   "outputs": [
    {
     "name": "stdout",
     "output_type": "stream",
     "text": [
      "1e-12\n"
     ]
    }
   ],
   "source": [
    "print(final_result.pop())"
   ]
  },
  {
   "cell_type": "markdown",
   "metadata": {},
   "source": [
    "# retrieving infos from a file"
   ]
  },
  {
   "cell_type": "code",
   "execution_count": 2,
   "metadata": {},
   "outputs": [],
   "source": [
    "import os"
   ]
  },
  {
   "cell_type": "code",
   "execution_count": 3,
   "metadata": {},
   "outputs": [],
   "source": [
    "file_to_load = 'data/re_file.out'\n",
    "assert os.path.exists(file_to_load)"
   ]
  },
  {
   "cell_type": "code",
   "execution_count": 17,
   "metadata": {},
   "outputs": [],
   "source": [
    "line_with_infos = \"Python-[Notice] Radius calculated from the input workspace = 2.5e+04 mm\""
   ]
  },
  {
   "cell_type": "code",
   "execution_count": 37,
   "metadata": {},
   "outputs": [],
   "source": [
    "regular1 = r'.*= (?P<radius>.*) mm'\n"
   ]
  },
  {
   "cell_type": "code",
   "execution_count": 38,
   "metadata": {},
   "outputs": [
    {
     "data": {
      "text/plain": [
       "<_sre.SRE_Match object; span=(0, 71), match='Python-[Notice] Radius calculated from the input >"
      ]
     },
     "execution_count": 38,
     "metadata": {},
     "output_type": "execute_result"
    }
   ],
   "source": [
    "m = re.search(regular1, line_with_infos)\n",
    "m"
   ]
  },
  {
   "cell_type": "code",
   "execution_count": 39,
   "metadata": {},
   "outputs": [
    {
     "data": {
      "text/plain": [
       "'2.5e+04'"
      ]
     },
     "execution_count": 39,
     "metadata": {},
     "output_type": "execute_result"
    }
   ],
   "source": [
    "m.group('radius')"
   ]
  },
  {
   "cell_type": "markdown",
   "metadata": {},
   "source": [
    "# column 11 ->  x0:342, y0:174, width:1, height:1\n",
    " "
   ]
  },
  {
   "cell_type": "code",
   "execution_count": 9,
   "metadata": {},
   "outputs": [],
   "source": [
    "import re"
   ]
  },
  {
   "cell_type": "code",
   "execution_count": 56,
   "metadata": {},
   "outputs": [],
   "source": [
    "text = \"#column 3 -> x0:334, y0:166, width:17, height:17\""
   ]
  },
  {
   "cell_type": "code",
   "execution_count": 57,
   "metadata": {},
   "outputs": [],
   "source": [
    "r = r\"^#column (?P<column_index>\\d+) -> x0:(?P<x0>\\d+), y0:(?P<y0>\\d+), width:(?P<width>\\d+), \" \\\n",
    "                          r\"height:(?P<height>\\d+)$\""
   ]
  },
  {
   "cell_type": "code",
   "execution_count": 58,
   "metadata": {},
   "outputs": [],
   "source": [
    "m = re.search(r, text)"
   ]
  },
  {
   "cell_type": "code",
   "execution_count": 59,
   "metadata": {},
   "outputs": [
    {
     "name": "stdout",
     "output_type": "stream",
     "text": [
      "334\n",
      "166\n",
      "17\n",
      "17\n"
     ]
    }
   ],
   "source": [
    "print(m.group('x0'))\n",
    "print(m.group('y0'))\n",
    "print(m.group('width'))\n",
    "print(m.group('height'))"
   ]
  },
  {
   "cell_type": "markdown",
   "metadata": {},
   "source": [
    "# string with None "
   ]
  },
  {
   "cell_type": "code",
   "execution_count": 1,
   "metadata": {},
   "outputs": [],
   "source": [
    "import re"
   ]
  },
  {
   "cell_type": "code",
   "execution_count": 127,
   "metadata": {},
   "outputs": [],
   "source": [
    "text = \"#column 3 -> x0:281, y0:97, width:171, height:171, kropff: a0:1.0163813139466338, \" + \\\n",
    "    \"b0:12.5947462957717, a0_error:0.039351328073873544, b0_error:1.017479259307577, \" + \\\n",
    "    \"ahkl:-1.6722534165548748, bhkl:46.92930666044536, ahkl_error:0.07858611818043099, \" + \\\n",
    "    \"bhkl_error:2.1255501863442703, lambdahkl:None, tau:None, sigma:None, lambdahkl_error:None, \" + \\\n",
    "    \"tau_error:None, sigma_error:None\""
   ]
  },
  {
   "cell_type": "code",
   "execution_count": 128,
   "metadata": {},
   "outputs": [],
   "source": [
    "regular = r\"^#column (?P<column_index>\\d+) -> x0:(?P<x0>\\d+), y0:(?P<y0>\\d+), width:(?P<width>\\d+), \" \\\n",
    "          r\"height:(?P<height>\\d+), kropff: a0:(?P<a0>-{0,1}\\d+.\\d+|None), b0:(?P<b0>-{0,1}\\d+.\\d+|None), a0_error:(\" \\\n",
    "          r\"?P<a0_error>\\d+.\\d+|None), b0_error:(?P<b0_error>\\d+.\\d+|None), ahkl:(?P<ahkl>-{0,1}\\d+.\\d+|None), bhkl:(?P<bhkl>-{0,1}\\d+.\\d+|None), \" \\\n",
    "          r\"ahkl_error:(?P<ahkl_error>\\d+.\\d+|None), bhkl_error:(?P<bhkl_error>\\d+.\\d+|None), lambdahkl:(\" \\\n",
    "          r\"?P<lambdahkl>-{0,1}\\d+.\\d+|None), tau:(?P<tau>-{0,1}\\d+.\\d+|None), sigma:(?P<sigma>-{0,1}\\d+.\\d+|None), lambdahkl_error:(\" \\\n",
    "          r\"?P<lambdahkl_error>\\d+.\\d+|None), tau_error:(?P<tau_error>\\d+.\\d+|None), sigma_error:(?P<sigma_error>\\d+.\\d+|None)$\"\n"
   ]
  },
  {
   "cell_type": "code",
   "execution_count": 122,
   "metadata": {},
   "outputs": [],
   "source": [
    "text = \"#column 3 -> x0:281, y0:97, width:171, height:171, kropff: a0:1.0163813139466338, \" + \\\n",
    "    \"b0:12.5947462957717, a0_error:0.039351328073873544, b0_error:1.017479259307577, \" + \\\n",
    "    \"ahkl:-1.6722534165548748, bhkl:46.92930666044536, ahkl_error:0.07858611818043099, \" + \\\n",
    "    \"bhkl_error:2.1255501863442703, lambdahkl:None\""
   ]
  },
  {
   "cell_type": "code",
   "execution_count": 124,
   "metadata": {},
   "outputs": [],
   "source": [
    "regular = r\"^#column (?P<column_index>\\d+) -> x0:(?P<x0>\\d+), y0:(?P<y0>\\d+), width:(?P<width>\\d+), \" \\\n",
    "          r\"height:(?P<height>\\d+), kropff: a0:(?P<a0>\\d+.\\d+|None), b0:(?P<b0>\\d+.\\d+|None), a0_error:(\" \\\n",
    "          r\"?P<a0_error>\\d+.\\d+|None), b0_error:(?P<b0_error>\\d+.\\d+|None), ahkl:(?P<ahkl>-{0,1}\\d+.\\d+|None), \" + \\\n",
    "          r\"bhkl:(?P<bhkl>-{0,1}\\d+.\\d+|None), \" \\\n",
    "          r\"ahkl_error:(?P<ahkl_error>\\d+.\\d+|None), bhkl_error:(?P<bhkl_error>\\d+.\\d+|None), lambdahkl:(\" \\\n",
    "          r\"?P<lambdahkl>-{0,1}\\d+.\\d+|None)$\""
   ]
  },
  {
   "cell_type": "code",
   "execution_count": 131,
   "metadata": {},
   "outputs": [],
   "source": [
    "m = re.search(regular, text)"
   ]
  },
  {
   "cell_type": "code",
   "execution_count": 132,
   "metadata": {},
   "outputs": [
    {
     "data": {
      "text/plain": [
       "'-1.6722534165548748'"
      ]
     },
     "execution_count": 132,
     "metadata": {},
     "output_type": "execute_result"
    }
   ],
   "source": [
    "m.group('ahkl')"
   ]
  },
  {
   "cell_type": "markdown",
   "metadata": {},
   "source": [
    "# string with optional e notation "
   ]
  },
  {
   "cell_type": "code",
   "execution_count": 2,
   "metadata": {},
   "outputs": [],
   "source": [
    "import re"
   ]
  },
  {
   "cell_type": "code",
   "execution_count": 6,
   "metadata": {},
   "outputs": [],
   "source": [
    "text = \"#column 3 -> x0:168, y0:172, width:171, height:171, kropff: a0:1.2712760393068503, b0:-25.30545832387303, a0_error:0.02490603378935692, b0_error:2.826445481169651, ahkl:0.011361676044816449, bhkl:-5.104341382456004, ahkl_error:0.017272673570695615, bhkl_error:2.1928076630583564, tofhkl:0.008167354987805651, tau:6.2470414653867676e-06, sigma:9.127364688391238e-05, tofhkl_error:None, tau_error:None, sigma_error:None\""
   ]
  },
  {
   "cell_type": "code",
   "execution_count": 7,
   "metadata": {},
   "outputs": [],
   "source": [
    "regular = r\"^#column (?P<column_index>\\d+) -> x0:(?P<x0>\\d+), y0:(?P<y0>\\d+), width:(?P<width>\\d+), \" \\\n",
    "          r\"height:(?P<height>\\d+), kropff: a0:(?P<a0>-{0,1}\\d+.\\d+|None), b0:(?P<b0>-{0,1}\\d+.\\d+|None), a0_error:(\" \\\n",
    "          r\"?P<a0_error>\\d+.\\d+|None), b0_error:(?P<b0_error>\\d+.\\d+|None), ahkl:(?P<ahkl>-{0,1}\\d+.\\d+|None), bhkl:(?P<bhkl>-{0,1}\\d+.\\d+|None), \" \\\n",
    "          r\"ahkl_error:(?P<ahkl_error>\\d+.\\d+|None), bhkl_error:(?P<bhkl_error>\\d+.\\d+|None), lambdahkl:(\" \\\n",
    "          r\"?P<lambdahkl>-{0,1}\\d+.\\d+|None), tau:(?P<tau>-{0,1}\\d+.\\d+|None), sigma:(?P<sigma>-{0,1}\\d+.\\d+|None), lambdahkl_error:(\" \\\n",
    "          r\"?P<lambdahkl_error>\\d+.\\d+|None), tau_error:(?P<tau_error>\\d+.\\d+|None), sigma_error:(?P<sigma_error>\\d+.\\d+|None)$\"\n"
   ]
  },
  {
   "cell_type": "code",
   "execution_count": 8,
   "metadata": {},
   "outputs": [],
   "source": [
    "m = re.search(regular, text)"
   ]
  },
  {
   "cell_type": "code",
   "execution_count": 9,
   "metadata": {},
   "outputs": [],
   "source": [
    "m"
   ]
  },
  {
   "cell_type": "code",
   "execution_count": 33,
   "metadata": {},
   "outputs": [],
   "source": [
    "short_text = \"#column 3 -> x0:168, y0:172, width:171, height:171, kropff: a0:1e-6,\""
   ]
  },
  {
   "cell_type": "code",
   "execution_count": 36,
   "metadata": {},
   "outputs": [],
   "source": [
    "regular = r\"^#column (?P<column_index>\\d+) -> x0:(?P<x0>\\d+), y0:(?P<y0>\\d+), width:(?P<width>\\d+), \" \\\n",
    "          r\"height:(?P<height>\\d+), kropff: a0:(?P<a0>-{0,1}\\d+.+\\d+|None|-{0,1}\\d+.\\d+e-{0,1}\\d+),\""
   ]
  },
  {
   "cell_type": "code",
   "execution_count": 37,
   "metadata": {},
   "outputs": [
    {
     "name": "stdout",
     "output_type": "stream",
     "text": [
      "1e-6\n"
     ]
    }
   ],
   "source": [
    "m = re.search(regular, short_text)\n",
    "print(m.group('a0'))"
   ]
  },
  {
   "cell_type": "code",
   "execution_count": null,
   "metadata": {},
   "outputs": [],
   "source": []
  }
 ],
 "metadata": {
  "kernelspec": {
   "display_name": "Python 3",
   "language": "python",
   "name": "python3"
  },
  "language_info": {
   "codemirror_mode": {
    "name": "ipython",
    "version": 3
   },
   "file_extension": ".py",
   "mimetype": "text/x-python",
   "name": "python",
   "nbconvert_exporter": "python",
   "pygments_lexer": "ipython3",
   "version": "3.6.10"
  }
 },
 "nbformat": 4,
 "nbformat_minor": 2
}
