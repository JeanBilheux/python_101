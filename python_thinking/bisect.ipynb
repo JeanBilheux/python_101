{
 "cells": [
  {
   "cell_type": "markdown",
   "metadata": {},
   "source": [
    "This module is used to maintain lists in sorted order when adding new elements."
   ]
  },
  {
   "cell_type": "code",
   "execution_count": 9,
   "metadata": {
    "collapsed": false
   },
   "outputs": [
    {
     "name": "stdout",
     "output_type": "stream",
     "text": [
      "18  0 [18]\n",
      "73  1 [18, 73]\n",
      "98  2 [18, 73, 98]\n",
      " 9  0 [9, 18, 73, 98]\n",
      "33  2 [9, 18, 33, 73, 98]\n",
      "16  1 [9, 16, 18, 33, 73, 98]\n",
      "64  4 [9, 16, 18, 33, 64, 73, 98]\n",
      "98  7 [9, 16, 18, 33, 64, 73, 98, 98]\n",
      "58  4 [9, 16, 18, 33, 58, 64, 73, 98, 98]\n",
      "61  5 [9, 16, 18, 33, 58, 61, 64, 73, 98, 98]\n",
      "84  8 [9, 16, 18, 33, 58, 61, 64, 73, 84, 98, 98]\n",
      "49  4 [9, 16, 18, 33, 49, 58, 61, 64, 73, 84, 98, 98]\n",
      "27  3 [9, 16, 18, 27, 33, 49, 58, 61, 64, 73, 84, 98, 98]\n",
      "13  1 [9, 13, 16, 18, 27, 33, 49, 58, 61, 64, 73, 84, 98, 98]\n",
      "63  9 [9, 13, 16, 18, 27, 33, 49, 58, 61, 63, 64, 73, 84, 98, 98]\n",
      " 4  0 [4, 9, 13, 16, 18, 27, 33, 49, 58, 61, 63, 64, 73, 84, 98, 98]\n",
      "50  8 [4, 9, 13, 16, 18, 27, 33, 49, 50, 58, 61, 63, 64, 73, 84, 98, 98]\n",
      "56  9 [4, 9, 13, 16, 18, 27, 33, 49, 50, 56, 58, 61, 63, 64, 73, 84, 98, 98]\n",
      "78 15 [4, 9, 13, 16, 18, 27, 33, 49, 50, 56, 58, 61, 63, 64, 73, 78, 84, 98, 98]\n"
     ]
    }
   ],
   "source": [
    "import bisect\n",
    "import random\n",
    "\n",
    "# Use a constant see to ensure that we see\n",
    "# the same pseudo-random numbers each time\n",
    "# we run the loop.\n",
    "random.seed(1)\n",
    "\n",
    "# Generate 20 random numbers and\n",
    "# insert them into a list in sorted\n",
    "# order.\n",
    "my_array = []\n",
    "for i in range(1, 20):\n",
    "    r = random.randint(1, 100)\n",
    "    position = bisect.bisect(my_array, r)\n",
    "    bisect.insort(my_array, r)\n",
    "    print('%2d %2d'% (r, position), my_array)"
   ]
  },
  {
   "cell_type": "markdown",
   "metadata": {},
   "source": [
    "It's possible to add the new element on the left, or on the right when a same value is found using respectively insort_left and insort_right. By default, insort inserts on the right (after)."
   ]
  },
  {
   "cell_type": "code",
   "execution_count": null,
   "metadata": {
    "collapsed": true
   },
   "outputs": [],
   "source": []
  }
 ],
 "metadata": {
  "kernelspec": {
   "display_name": "Python 3",
   "language": "python",
   "name": "python3"
  },
  "language_info": {
   "codemirror_mode": {
    "name": "ipython",
    "version": 3
   },
   "file_extension": ".py",
   "mimetype": "text/x-python",
   "name": "python",
   "nbconvert_exporter": "python",
   "pygments_lexer": "ipython3",
   "version": "3.4.5"
  }
 },
 "nbformat": 4,
 "nbformat_minor": 0
}
