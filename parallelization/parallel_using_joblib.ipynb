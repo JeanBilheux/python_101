{
 "cells": [
  {
   "cell_type": "code",
   "execution_count": 1,
   "metadata": {
    "collapsed": true
   },
   "outputs": [],
   "source": [
    "import numpy as np\n",
    "list_of_numbers = np.arange(100)"
   ]
  },
  {
   "cell_type": "code",
   "execution_count": 3,
   "metadata": {
    "collapsed": false
   },
   "outputs": [],
   "source": [
    "from joblib import Parallel, delayed"
   ]
  },
  {
   "cell_type": "code",
   "execution_count": 4,
   "metadata": {
    "collapsed": true
   },
   "outputs": [],
   "source": [
    "def task(number):\n",
    "    print(\"number is %d\" %number)"
   ]
  },
  {
   "cell_type": "code",
   "execution_count": 5,
   "metadata": {
    "collapsed": false
   },
   "outputs": [
    {
     "name": "stdout",
     "output_type": "stream",
     "text": [
      "number is 0\n",
      "number is 1\n",
      "number is 2\n",
      "number is 3\n",
      "number is 4\n",
      "number is 5\n",
      "number is 6\n",
      "number is 7\n",
      "number is 8\n",
      "number is 9\n",
      "number is 10\n",
      "number is 11\n",
      "number is 13\n",
      "number is 17\n",
      "number is 22\n",
      "number is 21\n",
      "number is 35\n",
      "number is 36\n",
      "number is 44\n",
      "number is 60\n",
      "number is 12\n",
      "number is 14\n",
      "number is 16\n",
      "number is 23\n",
      "number is 28\n",
      "number is 27\n",
      "number is 43\n",
      "number is 49\n",
      "number is 53\n",
      "number is 70\n",
      "number is 15\n",
      "number is 18\n",
      "number is 20\n",
      "number is 30\n",
      "number is 34\n",
      "number is 32\n",
      "number is 52\n",
      "number is 58\n",
      "number is 63\n",
      "number is 82\n",
      "number is 19\n",
      "number is 24\n",
      "number is 26\n",
      "number is 38\n",
      "number is 42\n",
      "number is 40\n",
      "number is 62\n",
      "number is 68\n",
      "number is 77\n",
      "number is 92\n",
      "number is 25\n",
      "number is 29\n",
      "number is 33\n",
      "number is 46\n",
      "number is 51\n",
      "number is 48\n",
      "number is 72\n",
      "number is 78\n",
      "number is 87\n",
      "number is 31\n",
      "number is 37\n",
      "number is 41\n",
      "number is 54\n",
      "number is 61\n",
      "number is 57\n",
      "number is 81\n",
      "number is 88\n",
      "number is 96\n",
      "number is 39\n",
      "number is 45\n",
      "number is 50\n",
      "number is 64\n",
      "number is 71\n",
      "number is 67\n",
      "number is 91\n",
      "number is 98\n",
      "number is 47\n",
      "number is 55\n",
      "number is 59\n",
      "number is 74\n",
      "number is 80\n",
      "number is 76\n",
      "number is 56\n",
      "number is 65\n",
      "number is 69\n",
      "number is 85\n",
      "number is 89\n",
      "number is 86\n",
      "number is 66\n",
      "number is 73\n",
      "number is 79\n",
      "number is 94\n",
      "number is 99\n",
      "number is 97\n",
      "number is 75\n",
      "number is 83\n",
      "number is 90\n",
      "number is 84\n",
      "number is 93\n",
      "number is 95\n"
     ]
    }
   ],
   "source": [
    "def joblib_loop():\n",
    "    Parallel(n_jobs=10)(delayed(task)(i) for i in list_of_numbers)\n",
    "    \n",
    "joblib_loop()"
   ]
  },
  {
   "cell_type": "code",
   "execution_count": null,
   "metadata": {
    "collapsed": true
   },
   "outputs": [],
   "source": []
  }
 ],
 "metadata": {
  "kernelspec": {
   "display_name": "Python 3",
   "language": "python",
   "name": "python3"
  },
  "language_info": {
   "codemirror_mode": {
    "name": "ipython",
    "version": 3
   },
   "file_extension": ".py",
   "mimetype": "text/x-python",
   "name": "python",
   "nbconvert_exporter": "python",
   "pygments_lexer": "ipython3",
   "version": "3.4.3"
  }
 },
 "nbformat": 4,
 "nbformat_minor": 0
}
