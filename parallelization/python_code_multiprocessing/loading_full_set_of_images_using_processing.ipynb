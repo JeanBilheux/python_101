{
 "cells": [
  {
   "cell_type": "code",
   "execution_count": 1,
   "metadata": {
    "run_control": {
     "frozen": false,
     "read_only": false
    }
   },
   "outputs": [],
   "source": [
    "from concurrent.futures import ProcessPoolExecutor\n",
    "import os\n",
    "from PIL import Image\n",
    "import numpy as np\n",
    "import glob\n",
    "import time\n",
    "import multiprocessing as mp"
   ]
  },
  {
   "cell_type": "code",
   "execution_count": 2,
   "metadata": {
    "run_control": {
     "frozen": false,
     "read_only": false
    }
   },
   "outputs": [],
   "source": [
    "def read_file(file):\n",
    "#     print(\"Executing our task on process # {}\".format(os.getpid()))\n",
    "#     data = np.array(Image.open(file))\n",
    "    data = Image.open(file)\n",
    "    data = np.array(data)\n",
    "    return data\n",
    "\n",
    "def parallel(list_files):\n",
    "\n",
    "    data0 = np.array(Image.open(list_files[0]))\n",
    "    [height, width] = np.shape(data0)\n",
    "    \n",
    "    data = np.zeros(shape=(len(list_files), height, width))\n",
    "    \n",
    "    with ProcessPoolExecutor(max_workers=mp.cpu_count()) as executor:\n",
    "        for _file, _data in zip(list_files, executor.map(read_file, list_files)):\n",
    "            _index = np.where(np.array(list_files) == _file)[0]\n",
    "            data[_index, :, :] = _data.copy()\n",
    "    \n",
    "    return data\n",
    "\n",
    "list_files = glob.glob('/Volumes/my_book_thunderbolt_duo/IPTS/IPTS-19921-Charles/114_without_registration/*.tif')\n",
    "# list_files = list_files[:20]"
   ]
  },
  {
   "cell_type": "markdown",
   "metadata": {
    "run_control": {
     "frozen": false,
     "read_only": false
    }
   },
   "source": [
    "# Parallel processing "
   ]
  },
  {
   "cell_type": "code",
   "execution_count": 3,
   "metadata": {
    "run_control": {
     "frozen": false,
     "read_only": false
    },
    "scrolled": false
   },
   "outputs": [
    {
     "name": "stdout",
     "output_type": "stream",
     "text": [
      "loading 114 files\n",
      "3.3327128887176514\n"
     ]
    }
   ],
   "source": [
    "print(\"loading {} files\".format(len(list_files)))\n",
    "start_time = time.time()\n",
    "\n",
    "data = parallel(list_files)\n",
    "\n",
    "print(time.time() - start_time)"
   ]
  },
  {
   "cell_type": "markdown",
   "metadata": {
    "run_control": {
     "frozen": false,
     "read_only": false
    }
   },
   "source": [
    "With a fresh notebook, took 3.4s to load 114 files\n",
    "\n",
    "after running old way, 4.1 s"
   ]
  },
  {
   "cell_type": "markdown",
   "metadata": {
    "run_control": {
     "frozen": false,
     "read_only": false
    }
   },
   "source": [
    "# old way\n",
    "\n",
    "\n"
   ]
  },
  {
   "cell_type": "code",
   "execution_count": 3,
   "metadata": {
    "run_control": {
     "frozen": false,
     "read_only": false
    }
   },
   "outputs": [
    {
     "name": "stdout",
     "output_type": "stream",
     "text": [
      "3.640791893005371\n"
     ]
    }
   ],
   "source": [
    "start_time = time.time()\n",
    "big_array = []\n",
    "for _file in list_files:\n",
    "    _data = read_file(_file)\n",
    "    big_array.append(_data)\n",
    "    \n",
    "print(time.time() - start_time)"
   ]
  },
  {
   "cell_type": "markdown",
   "metadata": {
    "run_control": {
     "frozen": false,
     "read_only": false
    }
   },
   "source": [
    "With a fresh notebook, took 3.5s to load 114 files\n",
    "\n",
    "after running parallel, 6.5 s"
   ]
  },
  {
   "cell_type": "code",
   "execution_count": null,
   "metadata": {
    "run_control": {
     "frozen": false,
     "read_only": false
    }
   },
   "outputs": [],
   "source": []
  }
 ],
 "metadata": {
  "kernelspec": {
   "display_name": "Python 3 (ipykernel)",
   "language": "python",
   "name": "python3"
  },
  "language_info": {
   "codemirror_mode": {
    "name": "ipython",
    "version": 3
   },
   "file_extension": ".py",
   "mimetype": "text/x-python",
   "name": "python",
   "nbconvert_exporter": "python",
   "pygments_lexer": "ipython3",
   "version": "3.8.17"
  },
  "toc": {
   "colors": {
    "hover_highlight": "#DAA520",
    "running_highlight": "#FF0000",
    "selected_highlight": "#FFD700"
   },
   "moveMenuLeft": true,
   "nav_menu": {
    "height": "48px",
    "width": "252px"
   },
   "navigate_menu": true,
   "number_sections": true,
   "sideBar": true,
   "threshold": 4,
   "toc_cell": false,
   "toc_section_display": "block",
   "toc_window_display": false
  }
 },
 "nbformat": 4,
 "nbformat_minor": 2
}
