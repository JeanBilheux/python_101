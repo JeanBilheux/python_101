{
 "cells": [
  {
   "cell_type": "code",
   "execution_count": 18,
   "id": "cacd2fdd",
   "metadata": {},
   "outputs": [],
   "source": [
    "import glob\n",
    "import os\n",
    "from PIL import Image\n",
    "import time\n",
    "import numpy as np\n",
    "\n",
    "import concurrent.futures"
   ]
  },
  {
   "cell_type": "code",
   "execution_count": 15,
   "id": "3a2b9abd",
   "metadata": {},
   "outputs": [],
   "source": [
    "list_files = glob.glob(\"/Users/j35/HFIR/CG1D/IPTS-30750/23_06_09_left/*.tiff\")    # 529 images\n",
    "assert len(list_files) > 0"
   ]
  },
  {
   "cell_type": "markdown",
   "id": "560da76b",
   "metadata": {},
   "source": [
    "in serial"
   ]
  },
  {
   "cell_type": "code",
   "execution_count": 19,
   "id": "467099fa",
   "metadata": {},
   "outputs": [
    {
     "name": "stdout",
     "output_type": "stream",
     "text": [
      "Took 0:00:10.508969s \n",
      "Took1 10.508929874999922s\n"
     ]
    }
   ],
   "source": [
    "now = time.perf_counter()\n",
    "list_images = []\n",
    "for _file in list_files:\n",
    "    _image = np.array(Image.open(_file))\n",
    "    list_images.append(_image)\n",
    "then = time.perf_counter()\n",
    "print(f\"Took {then - now}s \")\n"
   ]
  },
  {
   "cell_type": "markdown",
   "id": "a7c67f75",
   "metadata": {},
   "source": [
    "in parallel"
   ]
  },
  {
   "cell_type": "code",
   "execution_count": 25,
   "id": "010bde14",
   "metadata": {},
   "outputs": [],
   "source": [
    "def loading_indexes(from_index=0, to_index=1):\n",
    "    time.sleep(1)\n",
    "    return 1\n",
    "    #     local_array = []\n",
    "#     for _file in list_files[from_index: to_index]:\n",
    "#         local_array.append(np.array(Image.open(_file)))\n",
    "#     return f\"{from_index} - {to_index} : Done!\"\n",
    "    "
   ]
  },
  {
   "cell_type": "code",
   "execution_count": 26,
   "id": "7d3d9575",
   "metadata": {},
   "outputs": [
    {
     "name": "stderr",
     "output_type": "stream",
     "text": [
      "Process SpawnProcess-21:\n",
      "Traceback (most recent call last):\n",
      "  File \"/Users/j35/opt/anaconda3/envs/py38/lib/python3.8/multiprocessing/process.py\", line 315, in _bootstrap\n",
      "    self.run()\n",
      "  File \"/Users/j35/opt/anaconda3/envs/py38/lib/python3.8/multiprocessing/process.py\", line 108, in run\n",
      "    self._target(*self._args, **self._kwargs)\n",
      "  File \"/Users/j35/opt/anaconda3/envs/py38/lib/python3.8/concurrent/futures/process.py\", line 233, in _process_worker\n",
      "    call_item = call_queue.get(block=True)\n",
      "  File \"/Users/j35/opt/anaconda3/envs/py38/lib/python3.8/multiprocessing/queues.py\", line 116, in get\n",
      "    return _ForkingPickler.loads(res)\n",
      "AttributeError: Can't get attribute 'loading_indexes' on <module '__main__' (built-in)>\n",
      "Process SpawnProcess-22:\n",
      "Traceback (most recent call last):\n",
      "  File \"/Users/j35/opt/anaconda3/envs/py38/lib/python3.8/multiprocessing/process.py\", line 315, in _bootstrap\n",
      "    self.run()\n",
      "  File \"/Users/j35/opt/anaconda3/envs/py38/lib/python3.8/multiprocessing/process.py\", line 108, in run\n",
      "    self._target(*self._args, **self._kwargs)\n",
      "  File \"/Users/j35/opt/anaconda3/envs/py38/lib/python3.8/concurrent/futures/process.py\", line 233, in _process_worker\n",
      "    call_item = call_queue.get(block=True)\n",
      "  File \"/Users/j35/opt/anaconda3/envs/py38/lib/python3.8/multiprocessing/queues.py\", line 116, in get\n",
      "    return _ForkingPickler.loads(res)\n",
      "AttributeError: Can't get attribute 'loading_indexes' on <module '__main__' (built-in)>\n"
     ]
    }
   ],
   "source": [
    "with concurrent.futures.ProcessPoolExecutor() as executor:\n",
    "    process1 = executor.submit(loading_indexes, 0, 100)\n",
    "    process2 = executor.submit(loading_indexes, 100, 200)\n",
    "    process3 = executor.submit(loading_indexes, 200, 300)\n",
    "    process4 = executor.submit(loading_indexes, 300, 400)\n",
    "    process5 = executor.submit(loading_indexes, 400, 529)"
   ]
  },
  {
   "cell_type": "code",
   "execution_count": null,
   "id": "deae9d4c",
   "metadata": {},
   "outputs": [],
   "source": []
  }
 ],
 "metadata": {
  "kernelspec": {
   "display_name": "Python 3 (ipykernel)",
   "language": "python",
   "name": "python3"
  },
  "language_info": {
   "codemirror_mode": {
    "name": "ipython",
    "version": 3
   },
   "file_extension": ".py",
   "mimetype": "text/x-python",
   "name": "python",
   "nbconvert_exporter": "python",
   "pygments_lexer": "ipython3",
   "version": "3.8.17"
  }
 },
 "nbformat": 4,
 "nbformat_minor": 5
}
