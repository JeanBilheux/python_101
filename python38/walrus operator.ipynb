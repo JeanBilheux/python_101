{
 "cells": [
  {
   "cell_type": "markdown",
   "id": "6281fcc8",
   "metadata": {},
   "source": [
    "[source](https://www.youtube.com/watch?v=b2pNLOgQyss)"
   ]
  },
  {
   "cell_type": "code",
   "execution_count": 2,
   "id": "c4fd9bbf",
   "metadata": {},
   "outputs": [],
   "source": [
    "import re"
   ]
  },
  {
   "cell_type": "code",
   "execution_count": 9,
   "id": "32420d1b",
   "metadata": {},
   "outputs": [],
   "source": [
    "UNITS_RE = re.compile(r'^(?P<quantity>\\d+)\\s*(?P<units>kg|g)$')"
   ]
  },
  {
   "cell_type": "markdown",
   "id": "12f8073b",
   "metadata": {},
   "source": [
    "# without walrus operator"
   ]
  },
  {
   "cell_type": "code",
   "execution_count": 10,
   "id": "09f0c8f7",
   "metadata": {},
   "outputs": [],
   "source": [
    "def get_quantity_without_walrus_operator(string):\n",
    "    match = UNITS_RE.search(string)\n",
    "    if match:\n",
    "        return (int(match.group('quantity')), match.group('units'))\n",
    "    return int(string)"
   ]
  },
  {
   "cell_type": "markdown",
   "id": "043ebbeb",
   "metadata": {},
   "source": [
    "# with walrus operator "
   ]
  },
  {
   "cell_type": "code",
   "execution_count": 11,
   "id": "e0a7acff",
   "metadata": {},
   "outputs": [],
   "source": [
    "def get_quantity_with_walrus_operator(string):\n",
    "    if match := UNITS_RE.search(string):\n",
    "        return (int(match.group('quantity')), match.group('units'))\n",
    "    return int(string)"
   ]
  },
  {
   "cell_type": "markdown",
   "id": "5d60cc3a",
   "metadata": {},
   "source": [
    "# Test "
   ]
  },
  {
   "cell_type": "code",
   "execution_count": 17,
   "id": "0d02da6b",
   "metadata": {},
   "outputs": [
    {
     "name": "stdout",
     "output_type": "stream",
     "text": [
      "(4, 'kg')\n",
      "(4, 'kg')\n"
     ]
    }
   ],
   "source": [
    "print(get_quantity_without_walrus_operator('4 kg'))\n",
    "print(get_quantity_with_walrus_operator('4 kg'))"
   ]
  },
  {
   "cell_type": "code",
   "execution_count": 14,
   "id": "e57a33d5",
   "metadata": {},
   "outputs": [
    {
     "name": "stdout",
     "output_type": "stream",
     "text": [
      "(4, 'g')\n",
      "(4, 'g')\n"
     ]
    }
   ],
   "source": [
    "print(get_quantity_without_walrus_operator('4 g'))\n",
    "print(get_quantity_with_walrus_operator('4 g'))"
   ]
  },
  {
   "cell_type": "code",
   "execution_count": 19,
   "id": "3ff06d1d",
   "metadata": {},
   "outputs": [
    {
     "name": "stdout",
     "output_type": "stream",
     "text": [
      "4\n",
      "4\n"
     ]
    }
   ],
   "source": [
    "print(get_quantity_without_walrus_operator('4'))\n",
    "print(get_quantity_with_walrus_operator('4'))"
   ]
  },
  {
   "cell_type": "markdown",
   "id": "60fada1e",
   "metadata": {},
   "source": [
    "This can be very useful when "
   ]
  }
 ],
 "metadata": {
  "kernelspec": {
   "display_name": "Python 3 (ipykernel)",
   "language": "python",
   "name": "python3"
  },
  "language_info": {
   "codemirror_mode": {
    "name": "ipython",
    "version": 3
   },
   "file_extension": ".py",
   "mimetype": "text/x-python",
   "name": "python",
   "nbconvert_exporter": "python",
   "pygments_lexer": "ipython3",
   "version": "3.8.13"
  }
 },
 "nbformat": 4,
 "nbformat_minor": 5
}
