{
 "cells": [
  {
   "cell_type": "code",
   "execution_count": 1,
   "metadata": {
    "collapsed": false,
    "run_control": {
     "frozen": false,
     "read_only": false
    }
   },
   "outputs": [],
   "source": [
    "import panel_wizard\n",
    "\n",
    "config = panel_wizard.Config()\n",
    "\n",
    "panel_wizard.wizard(config)"
   ]
  },
  {
   "cell_type": "code",
   "execution_count": null,
   "metadata": {
    "collapsed": true
   },
   "outputs": [],
   "source": []
  }
 ],
 "metadata": {
  "anaconda-cloud": {},
  "kernelspec": {
   "display_name": "Python [conda env:py35]",
   "language": "python",
   "name": "conda-env-py35-py"
  },
  "language_info": {
   "codemirror_mode": {
    "name": "ipython",
    "version": 3
   },
   "file_extension": ".py",
   "mimetype": "text/x-python",
   "name": "python",
   "nbconvert_exporter": "python",
   "pygments_lexer": "ipython3",
   "version": "3.5.3"
  },
  "toc": {
   "colors": {
    "hover_highlight": "#DAA520",
    "running_highlight": "#FF0000",
    "selected_highlight": "#FFD700"
   },
   "moveMenuLeft": true,
   "nav_menu": {
    "height": "12px",
    "width": "252px"
   },
   "navigate_menu": true,
   "number_sections": true,
   "sideBar": true,
   "threshold": 4,
   "toc_cell": false,
   "toc_section_display": "block",
   "toc_window_display": false
  },
  "widgets": {
   "state": {
    "11b1447248a043d49f50862a35f31fbb": {
     "views": [
      {
       "cell_index": 0
      }
     ]
    },
    "24049db2f83a43549969c4653aa00f6c": {
     "views": [
      {
       "cell_index": 0
      }
     ]
    },
    "800814152b1849f199d442458ca0f9ce": {
     "views": [
      {
       "cell_index": 2
      }
     ]
    },
    "a5e138e070304706b2cb417fc0c71cb1": {
     "views": [
      {
       "cell_index": 2
      }
     ]
    },
    "bb71aa8b8d0e40e79fdabace494daed2": {
     "views": [
      {
       "cell_index": 0
      }
     ]
    },
    "ec56660628744e69a3ab320a7ac6f85c": {
     "views": [
      {
       "cell_index": 0
      }
     ]
    },
    "f3575c6a57e14cb5b436e279d91688d6": {
     "views": [
      {
       "cell_index": 2
      }
     ]
    }
   },
   "version": "1.2.0"
  }
 },
 "nbformat": 4,
 "nbformat_minor": 2
}
