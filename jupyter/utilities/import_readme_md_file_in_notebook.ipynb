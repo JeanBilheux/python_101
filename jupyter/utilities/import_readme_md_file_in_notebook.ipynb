{
 "cells": [
  {
   "cell_type": "code",
   "execution_count": 2,
   "metadata": {
    "collapsed": false
   },
   "outputs": [
    {
     "data": {
      "text/markdown": [
       "Bokeh in IPython Notebook\n",
       "===============================\n",
       "\n",
       "Welcome to [Bokeh](http://bokeh.pydata.org/) in IPython Notebook!\n",
       "\n",
       "Bokeh is a Python interactive visualization library for large datasets that natively uses the latest web technologies. Its goal is to provide elegant, concise construction of novel graphics in the style of Protovis/D3, while delivering high-performance interactivity over large data to thin clients.\n",
       "\n",
       "These IPython notebooks provide useful Bokeh examples and a tutorial to get started. You can visualize the rendered IPython notebooks [here](http://nbviewer.ipython.org/github/bokeh/bokeh-notebooks) or download the repository and execute `ipython notebook` from your terminal.\n",
       "\n",
       "Please visit the [Bokeh web page](http://bokeh.pydata.org/en/latest) for more information and full documentation.\n",
       "\n",
       "Be sure to follow us on Twitter @bokehplots!\n"
      ],
      "text/plain": [
       "<IPython.core.display.Markdown object>"
      ]
     },
     "execution_count": 2,
     "metadata": {},
     "output_type": "execute_result"
    }
   ],
   "source": [
    "from IPython.core.display import Markdown\n",
    "Markdown(open(\"README.md\").read())"
   ]
  },
  {
   "cell_type": "code",
   "execution_count": null,
   "metadata": {
    "collapsed": true
   },
   "outputs": [],
   "source": []
  }
 ],
 "metadata": {
  "kernelspec": {
   "display_name": "Python 3",
   "language": "python",
   "name": "python3"
  },
  "language_info": {
   "codemirror_mode": {
    "name": "ipython",
    "version": 3
   },
   "file_extension": ".py",
   "mimetype": "text/x-python",
   "name": "python",
   "nbconvert_exporter": "python",
   "pygments_lexer": "ipython3",
   "version": "3.4.5"
  }
 },
 "nbformat": 4,
 "nbformat_minor": 0
}
