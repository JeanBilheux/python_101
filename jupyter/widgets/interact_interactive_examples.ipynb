{
 "cells": [
  {
   "cell_type": "code",
   "execution_count": 2,
   "metadata": {
    "collapsed": true
   },
   "outputs": [],
   "source": [
    "from ipywidgets import interact, interactive\n",
    "import ipywidgets as widgets\n",
    "\n",
    "%matplotlib inline\n",
    "import matplotlib.pyplot as plt\n",
    "import numpy as np"
   ]
  },
  {
   "cell_type": "markdown",
   "metadata": {},
   "source": [
    "# children"
   ]
  },
  {
   "cell_type": "code",
   "execution_count": 21,
   "metadata": {},
   "outputs": [
    {
     "data": {
      "application/vnd.jupyter.widget-view+json": {
       "model_id": "5f972e01d94049ce8d7e37e4ef6dace2",
       "version_major": "2",
       "version_minor": "0"
      },
      "text/plain": [
       "A Jupyter Widget"
      ]
     },
     "metadata": {},
     "output_type": "display_data"
    }
   ],
   "source": [
    "def my_function(a=10, b=20):\n",
    "    x = np.linspace(0, 100, 1)\n",
    "    print(\"a and b are: {},{}\".format(a,b))\n",
    "    return a*x+b\n",
    "\n",
    "v = interactive(my_function,{'manual':True},\n",
    "               a=widgets.IntSlider(min=0,max=20,value=1),\n",
    "               b=widgets.IntSlider(min=0,max=100,value=1))\n",
    "display(v)"
   ]
  },
  {
   "cell_type": "code",
   "execution_count": 22,
   "metadata": {},
   "outputs": [
    {
     "name": "stdout",
     "output_type": "stream",
     "text": [
      "Selected value of slider1 is: 10\n"
     ]
    }
   ],
   "source": [
    "slider1, slider2 = v.children[:2]\n",
    "print(\"Selected value of slider1 is: {}\".format(slider1.value))"
   ]
  },
  {
   "cell_type": "markdown",
   "metadata": {},
   "source": [
    "Trying to change the behavior of one of the slider !"
   ]
  },
  {
   "cell_type": "code",
   "execution_count": 24,
   "metadata": {},
   "outputs": [
    {
     "data": {
      "application/vnd.jupyter.widget-view+json": {
       "model_id": "5f972e01d94049ce8d7e37e4ef6dace2",
       "version_major": "2",
       "version_minor": "0"
      },
      "text/plain": [
       "A Jupyter Widget"
      ]
     },
     "metadata": {},
     "output_type": "display_data"
    }
   ],
   "source": [
    "slider1.min = -20\n",
    "display(v)"
   ]
  },
  {
   "cell_type": "markdown",
   "metadata": {},
   "source": [
    "# interact "
   ]
  },
  {
   "cell_type": "markdown",
   "metadata": {},
   "source": [
    "Reversing the input text"
   ]
  },
  {
   "cell_type": "code",
   "execution_count": 25,
   "metadata": {},
   "outputs": [
    {
     "data": {
      "application/vnd.jupyter.widget-view+json": {
       "model_id": "acf2065e6acb4d2895f972cd389a8cc0",
       "version_major": "2",
       "version_minor": "0"
      },
      "text/plain": [
       "A Jupyter Widget"
      ]
     },
     "metadata": {},
     "output_type": "display_data"
    }
   ],
   "source": [
    "@interact(text='')\n",
    "def reverse(text):\n",
    "    return text[::-1]"
   ]
  },
  {
   "cell_type": "markdown",
   "metadata": {},
   "source": [
    "display plot"
   ]
  },
  {
   "cell_type": "code",
   "execution_count": 29,
   "metadata": {},
   "outputs": [
    {
     "data": {
      "application/vnd.jupyter.widget-view+json": {
       "model_id": "6dbdb7c7800646c3b7377b2803462066",
       "version_major": "2",
       "version_minor": "0"
      },
      "text/plain": [
       "A Jupyter Widget"
      ]
     },
     "metadata": {},
     "output_type": "display_data"
    }
   ],
   "source": [
    "@interact(k=0.5, p=(0,2*np.pi,0.1))\n",
    "def basic_plot(k, p):\n",
    "    x = np.arange(0, 4*np.pi, 0.1)\n",
    "    y = np.sin(k*x+p)\n",
    "    plt.plot(x, y, 'r*')"
   ]
  },
  {
   "cell_type": "markdown",
   "metadata": {},
   "source": [
    "without annoying refreshing"
   ]
  },
  {
   "cell_type": "code",
   "execution_count": 33,
   "metadata": {
    "scrolled": true
   },
   "outputs": [
    {
     "data": {
      "application/vnd.jupyter.widget-view+json": {
       "model_id": "e3160c031b7449c8a2a0086f7e57d820",
       "version_major": "2",
       "version_minor": "0"
      },
      "text/plain": [
       "A Jupyter Widget"
      ]
     },
     "metadata": {},
     "output_type": "display_data"
    }
   ],
   "source": [
    "def basic_plot(k, p):\n",
    "    x = np.arange(0, 4*np.pi, 0.1)\n",
    "    y = np.sin(k*x+p)\n",
    "    plt.plot(x, y, 'r*')\n",
    "    \n",
    "my_plot = interactive(basic_plot,\n",
    "                     k=widgets.FloatSlider(min=0.5,\n",
    "                                          max=2,\n",
    "                                          value=0,\n",
    "                                          continuous_update=False),\n",
    "                     p=widgets.FloatSlider(min=0,\n",
    "                                          max=2*np.pi,\n",
    "                                          value=0.5,\n",
    "                                          continuous_update=True))\n",
    "display(my_plot)"
   ]
  },
  {
   "cell_type": "markdown",
   "metadata": {},
   "source": [
    "# linking"
   ]
  },
  {
   "cell_type": "code",
   "execution_count": 39,
   "metadata": {},
   "outputs": [
    {
     "data": {
      "application/vnd.jupyter.widget-view+json": {
       "model_id": "f815d08a6ffd418cb5618c7aeec4e103",
       "version_major": "2",
       "version_minor": "0"
      },
      "text/plain": [
       "A Jupyter Widget"
      ]
     },
     "metadata": {},
     "output_type": "display_data"
    },
    {
     "data": {
      "application/vnd.jupyter.widget-view+json": {
       "model_id": "ada06ec6227d42f0b6896b17c70211f6",
       "version_major": "2",
       "version_minor": "0"
      },
      "text/plain": [
       "A Jupyter Widget"
      ]
     },
     "metadata": {},
     "output_type": "display_data"
    }
   ],
   "source": [
    "radio1 = widgets.RadioButtons(options=['choice 1', 'choice2'])\n",
    "drop1 = widgets.Dropdown(options=['choice1','choice2'])\n",
    "display(radio1, drop1)\n",
    "\n",
    "mylink = widgets.jslink((radio1, 'index'), (drop1, 'index'))"
   ]
  },
  {
   "cell_type": "code",
   "execution_count": null,
   "metadata": {
    "collapsed": true
   },
   "outputs": [],
   "source": []
  }
 ],
 "metadata": {
  "kernelspec": {
   "display_name": "SciPy2017 Python 3.6",
   "language": "python",
   "name": "scipy2017_36"
  },
  "language_info": {
   "codemirror_mode": {
    "name": "ipython",
    "version": 3
   },
   "file_extension": ".py",
   "mimetype": "text/x-python",
   "name": "python",
   "nbconvert_exporter": "python",
   "pygments_lexer": "ipython3",
   "version": "3.6.1"
  }
 },
 "nbformat": 4,
 "nbformat_minor": 2
}
