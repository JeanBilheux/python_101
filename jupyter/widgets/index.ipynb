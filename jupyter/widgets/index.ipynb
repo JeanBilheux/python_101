{
 "cells": [
  {
   "cell_type": "markdown",
   "metadata": {
    "collapsed": true
   },
   "source": [
    "### Here is the complete list of all the widgets available"
   ]
  },
  {
   "cell_type": "code",
   "execution_count": 3,
   "metadata": {
    "collapsed": false
   },
   "outputs": [
    {
     "data": {
      "text/plain": [
       "['Accordion',\n",
       " 'BoundedFloatText',\n",
       " 'BoundedIntText',\n",
       " 'Box',\n",
       " 'Button',\n",
       " 'CallbackDispatcher',\n",
       " 'Checkbox',\n",
       " 'Color',\n",
       " 'ColorPicker',\n",
       " 'Controller',\n",
       " 'Dropdown',\n",
       " 'EventfulDict',\n",
       " 'EventfulList',\n",
       " 'FlexBox',\n",
       " 'FloatProgress',\n",
       " 'FloatRangeSlider',\n",
       " 'FloatSlider',\n",
       " 'FloatText',\n",
       " 'HBox',\n",
       " 'HTML',\n",
       " 'Image',\n",
       " 'IntProgress',\n",
       " 'IntRangeSlider',\n",
       " 'IntSlider',\n",
       " 'IntText',\n",
       " 'Latex',\n",
       " 'Output',\n",
       " 'PlaceProxy',\n",
       " 'Proxy',\n",
       " 'RadioButtons',\n",
       " 'Select',\n",
       " 'SelectMultiple',\n",
       " 'Tab',\n",
       " 'Text',\n",
       " 'Textarea',\n",
       " 'ToggleButton',\n",
       " 'ToggleButtons',\n",
       " 'VBox',\n",
       " 'Valid']"
      ]
     },
     "execution_count": 3,
     "metadata": {},
     "output_type": "execute_result"
    }
   ],
   "source": [
    "from ipywidgets import widgets\n",
    "[n for n in dir(widgets) if not n.endswith('Widget') and n[0] == n[0].upper() and not n[0] == '_']"
   ]
  },
  {
   "cell_type": "markdown",
   "metadata": {},
   "source": [
    "### ipython Widgets described here:"
   ]
  },
  {
   "cell_type": "markdown",
   "metadata": {},
   "source": [
    "* [Dropdown](Dropdown.ipynb)\n",
    "* [List](list.ipynb)\n",
    "* [ProgressBar](ProgressBar.ipynb)\n",
    "* [RadioButton](RadioButtons.ipynb)\n",
    "* [Slider](slider.ipynb)\n",
    "* [Text](text.ipynb)\n",
    "* [ToggleButton](ToggleButtons.ipynb)"
   ]
  },
  {
   "cell_type": "markdown",
   "metadata": {},
   "source": [
    "### html widgets"
   ]
  },
  {
   "cell_type": "markdown",
   "metadata": {},
   "source": [
    "* [FileDialog](FileDialog.ipynb)\n",
    "* [FolderDialog](FolderDialog.ipynb)"
   ]
  },
  {
   "cell_type": "markdown",
   "metadata": {},
   "source": [
    "### Utilites"
   ]
  },
  {
   "cell_type": "markdown",
   "metadata": {},
   "source": [
    "* [Events](events.ipynb)\n",
    "* [Interact](interact.ipynb)\n",
    "* [Linking](linking.ipynb)\n",
    "* [Styling](styling.ipynb)"
   ]
  },
  {
   "cell_type": "markdown",
   "metadata": {
    "collapsed": true
   },
   "source": [
    "### nice links (tutorials) "
   ]
  },
  {
   "cell_type": "markdown",
   "metadata": {},
   "source": [
    "* [Building interactive Dashboards with Jupyter](http://blog.dominodatalab.com/interactive-dashboards-in-jupyter/)\n",
    "* [Advanced Jupyter Notebook Tricks - Part1](http://blog.dominodatalab.com/lesser-known-ways-of-using-notebooks/)"
   ]
  },
  {
   "cell_type": "code",
   "execution_count": null,
   "metadata": {
    "collapsed": true
   },
   "outputs": [],
   "source": []
  }
 ],
 "metadata": {
  "kernelspec": {
   "display_name": "Python 3",
   "language": "python",
   "name": "python3"
  },
  "language_info": {
   "codemirror_mode": {
    "name": "ipython",
    "version": 3
   },
   "file_extension": ".py",
   "mimetype": "text/x-python",
   "name": "python",
   "nbconvert_exporter": "python",
   "pygments_lexer": "ipython3",
   "version": "3.5.2"
  }
 },
 "nbformat": 4,
 "nbformat_minor": 0
}
