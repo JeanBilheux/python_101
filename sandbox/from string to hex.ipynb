{
 "cells": [
  {
   "cell_type": "code",
   "execution_count": 10,
   "id": "7c84857a",
   "metadata": {},
   "outputs": [],
   "source": [
    "_string = \"?c_?>7\""
   ]
  },
  {
   "cell_type": "code",
   "execution_count": 12,
   "id": "ae7da5b6",
   "metadata": {},
   "outputs": [
    {
     "name": "stdout",
     "output_type": "stream",
     "text": [
      "0x3f\n",
      "0x63\n",
      "0x5f\n",
      "0x3f\n",
      "0x3e\n",
      "0x37\n"
     ]
    }
   ],
   "source": [
    "for _c in _string:\n",
    "    print(hex(ord(_c)))"
   ]
  },
  {
   "cell_type": "code",
   "execution_count": null,
   "id": "f86fa3ac",
   "metadata": {},
   "outputs": [],
   "source": []
  }
 ],
 "metadata": {
  "kernelspec": {
   "display_name": "Python 3",
   "language": "python",
   "name": "python3"
  },
  "language_info": {
   "codemirror_mode": {
    "name": "ipython",
    "version": 3
   },
   "file_extension": ".py",
   "mimetype": "text/x-python",
   "name": "python",
   "nbconvert_exporter": "python",
   "pygments_lexer": "ipython3",
   "version": "3.7.10"
  }
 },
 "nbformat": 4,
 "nbformat_minor": 5
}
