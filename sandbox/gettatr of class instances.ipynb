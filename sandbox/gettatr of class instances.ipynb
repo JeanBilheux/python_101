{
 "cells": [
  {
   "cell_type": "code",
   "execution_count": 14,
   "id": "f84ee624-4d9a-4abd-9e75-72fe58d6fdd9",
   "metadata": {},
   "outputs": [],
   "source": [
    "class SubClass:\n",
    "    var = 10\n",
    "\n",
    "class MyClass:\n",
    "    var_a = SubClass()"
   ]
  },
  {
   "cell_type": "code",
   "execution_count": 15,
   "id": "06b5050e-f270-4b85-93eb-3acc2522c684",
   "metadata": {},
   "outputs": [],
   "source": [
    "my_class = MyClass()\n"
   ]
  },
  {
   "cell_type": "code",
   "execution_count": 16,
   "id": "5f057b9a-7fca-457f-8d8e-0c8f744fa60a",
   "metadata": {},
   "outputs": [
    {
     "data": {
      "text/plain": [
       "10"
      ]
     },
     "execution_count": 16,
     "metadata": {},
     "output_type": "execute_result"
    }
   ],
   "source": [
    "my_class.var_a.var\n"
   ]
  },
  {
   "cell_type": "code",
   "execution_count": 17,
   "id": "dcca7b36-4eac-4fbf-9d6f-964b851d1395",
   "metadata": {},
   "outputs": [],
   "source": [
    "setattr(my_class.var_a, 'var', 20)\n"
   ]
  },
  {
   "cell_type": "code",
   "execution_count": 18,
   "id": "bcdec40c-dcf9-44d1-bd0e-19b7ea09ba68",
   "metadata": {},
   "outputs": [],
   "source": [
    "setattr(my_class, 'var_a', setattr(my_class.var_a, 'var', 30))"
   ]
  },
  {
   "cell_type": "code",
   "execution_count": 20,
   "id": "afc53654-a833-4678-8914-edf0700f819e",
   "metadata": {},
   "outputs": [
    {
     "ename": "AttributeError",
     "evalue": "'NoneType' object has no attribute 'var'",
     "output_type": "error",
     "traceback": [
      "\u001b[0;31m---------------------------------------------------------------------------\u001b[0m",
      "\u001b[0;31mAttributeError\u001b[0m                            Traceback (most recent call last)",
      "Cell \u001b[0;32mIn[20], line 1\u001b[0m\n\u001b[0;32m----> 1\u001b[0m \u001b[43mmy_class\u001b[49m\u001b[38;5;241;43m.\u001b[39;49m\u001b[43mvar_a\u001b[49m\u001b[38;5;241;43m.\u001b[39;49m\u001b[43mvar\u001b[49m\n",
      "\u001b[0;31mAttributeError\u001b[0m: 'NoneType' object has no attribute 'var'"
     ]
    }
   ],
   "source": [
    "my_class.var_a.var"
   ]
  },
  {
   "cell_type": "code",
   "execution_count": null,
   "id": "91b26cc5-3740-431c-82e4-5c611bd85cbf",
   "metadata": {},
   "outputs": [],
   "source": []
  }
 ],
 "metadata": {
  "kernelspec": {
   "display_name": "Python 3 (ipykernel)",
   "language": "python",
   "name": "python3"
  },
  "language_info": {
   "codemirror_mode": {
    "name": "ipython",
    "version": 3
   },
   "file_extension": ".py",
   "mimetype": "text/x-python",
   "name": "python",
   "nbconvert_exporter": "python",
   "pygments_lexer": "ipython3",
   "version": "3.12.1"
  }
 },
 "nbformat": 4,
 "nbformat_minor": 5
}
