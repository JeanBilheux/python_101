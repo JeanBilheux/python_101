{
 "cells": [
  {
   "cell_type": "code",
   "execution_count": 1,
   "id": "unlikely-exchange",
   "metadata": {},
   "outputs": [],
   "source": [
    "import os"
   ]
  },
  {
   "cell_type": "code",
   "execution_count": 2,
   "id": "cheap-average",
   "metadata": {},
   "outputs": [],
   "source": [
    "input_folder = \"/Volumes/G-DRIVE/IPTS/IPTS-25967-pymbir/output_folder/real_output_folder\""
   ]
  },
  {
   "cell_type": "code",
   "execution_count": 10,
   "id": "worldwide-bulgarian",
   "metadata": {},
   "outputs": [],
   "source": [
    "file1 = os.path.join(input_folder, 'image10.tiff')\n",
    "assert os.path.exists(file1)"
   ]
  },
  {
   "cell_type": "code",
   "execution_count": 11,
   "id": "stainless-rebecca",
   "metadata": {},
   "outputs": [
    {
     "name": "stdout",
     "output_type": "stream",
     "text": [
      "os.stat_result(st_mode=33188, st_ino=4498177, st_dev=16777229, st_nlink=1, st_uid=1376125886, st_gid=1551083765, st_size=8392435, st_atime=1639157017, st_mtime=1624888203, st_ctime=1639156761)\n"
     ]
    }
   ],
   "source": [
    "var_1 = os.stat(file1)\n",
    "print(var_1)"
   ]
  },
  {
   "cell_type": "code",
   "execution_count": 11,
   "id": "statistical-particle",
   "metadata": {},
   "outputs": [],
   "source": [
    "var_2 = os.stat(file1)"
   ]
  },
  {
   "cell_type": "code",
   "execution_count": 13,
   "id": "animated-prescription",
   "metadata": {},
   "outputs": [
    {
     "name": "stdout",
     "output_type": "stream",
     "text": [
      "os.stat_result(st_mode=33188, st_ino=4498003, st_dev=16777229, st_nlink=1, st_uid=1376125886, st_gid=1551083765, st_size=8392435, st_atime=1639149196, st_mtime=1624888203, st_ctime=1639149196)\n"
     ]
    }
   ],
   "source": [
    "print(var_1)"
   ]
  },
  {
   "cell_type": "code",
   "execution_count": 15,
   "id": "blank-miracle",
   "metadata": {},
   "outputs": [
    {
     "name": "stdout",
     "output_type": "stream",
     "text": [
      "os.stat_result(st_mode=33188, st_ino=4498008, st_dev=16777229, st_nlink=1, st_uid=1376125886, st_gid=1551083765, st_size=8392435, st_atime=1639149213, st_mtime=1624888203, st_ctime=1639149213)\n"
     ]
    }
   ],
   "source": [
    "print(var_2)"
   ]
  },
  {
   "cell_type": "code",
   "execution_count": 16,
   "id": "flying-massage",
   "metadata": {},
   "outputs": [
    {
     "data": {
      "text/plain": [
       "-17"
      ]
     },
     "execution_count": 16,
     "metadata": {},
     "output_type": "execute_result"
    }
   ],
   "source": [
    "1639149196 - 1639149213"
   ]
  },
  {
   "cell_type": "code",
   "execution_count": 17,
   "id": "republican-virgin",
   "metadata": {},
   "outputs": [],
   "source": [
    "# st_atime can be used to check last modification of file"
   ]
  },
  {
   "cell_type": "code",
   "execution_count": 20,
   "id": "adapted-moscow",
   "metadata": {},
   "outputs": [
    {
     "data": {
      "text/plain": [
       "1639149196.0"
      ]
     },
     "execution_count": 20,
     "metadata": {},
     "output_type": "execute_result"
    }
   ],
   "source": [
    "var_1.st_atime"
   ]
  },
  {
   "cell_type": "code",
   "execution_count": null,
   "id": "eligible-range",
   "metadata": {},
   "outputs": [],
   "source": []
  }
 ],
 "metadata": {
  "kernelspec": {
   "display_name": "Python 3",
   "language": "python",
   "name": "python3"
  },
  "language_info": {
   "codemirror_mode": {
    "name": "ipython",
    "version": 3
   },
   "file_extension": ".py",
   "mimetype": "text/x-python",
   "name": "python",
   "nbconvert_exporter": "python",
   "pygments_lexer": "ipython3",
   "version": "3.7.10"
  }
 },
 "nbformat": 4,
 "nbformat_minor": 5
}
