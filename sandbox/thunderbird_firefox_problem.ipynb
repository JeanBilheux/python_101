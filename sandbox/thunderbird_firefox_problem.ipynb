{
 "cells": [
  {
   "cell_type": "code",
   "execution_count": 1,
   "metadata": {},
   "outputs": [],
   "source": [
    "text = \"thunderbird firefox\""
   ]
  },
  {
   "cell_type": "markdown",
   "metadata": {},
   "source": [
    "# using nothing fancy"
   ]
  },
  {
   "cell_type": "code",
   "execution_count": 19,
   "metadata": {},
   "outputs": [],
   "source": [
    "my_dict = {}"
   ]
  },
  {
   "cell_type": "code",
   "execution_count": 20,
   "metadata": {},
   "outputs": [],
   "source": [
    "for c in text:\n",
    "    if c in my_dict.keys():\n",
    "        my_dict[c] += 1\n",
    "    else:\n",
    "        my_dict[c] = 1"
   ]
  },
  {
   "cell_type": "code",
   "execution_count": 21,
   "metadata": {},
   "outputs": [
    {
     "name": "stdout",
     "output_type": "stream",
     "text": [
      "t: 1\n",
      "h: 1\n",
      "u: 1\n",
      "n: 1\n",
      "d: 2\n",
      "e: 2\n",
      "r: 3\n",
      "b: 1\n",
      "i: 2\n",
      " : 1\n",
      "f: 2\n",
      "o: 1\n",
      "x: 1\n"
     ]
    }
   ],
   "source": [
    "c_already_seen = []\n",
    "for c in text:\n",
    "    if c in c_already_seen:\n",
    "        continue\n",
    "    c_already_seen.append(c)\n",
    "    print(f\"{c}: {my_dict[c]}\")"
   ]
  },
  {
   "cell_type": "markdown",
   "metadata": {},
   "source": [
    "# Using default dict"
   ]
  },
  {
   "cell_type": "code",
   "execution_count": 46,
   "metadata": {},
   "outputs": [],
   "source": [
    "import collections"
   ]
  },
  {
   "cell_type": "code",
   "execution_count": 47,
   "metadata": {},
   "outputs": [],
   "source": [
    "def default_value():\n",
    "    return 0"
   ]
  },
  {
   "cell_type": "code",
   "execution_count": 48,
   "metadata": {},
   "outputs": [],
   "source": [
    "my_new_dict = collections.defaultdict(default_value)"
   ]
  },
  {
   "cell_type": "code",
   "execution_count": 49,
   "metadata": {},
   "outputs": [],
   "source": [
    "for c in text:\n",
    "    my_new_dict[c] += 1"
   ]
  },
  {
   "cell_type": "code",
   "execution_count": 50,
   "metadata": {},
   "outputs": [
    {
     "name": "stdout",
     "output_type": "stream",
     "text": [
      "t: 1\n",
      "h: 1\n",
      "u: 1\n",
      "n: 1\n",
      "d: 2\n",
      "e: 2\n",
      "r: 3\n",
      "b: 1\n",
      "i: 2\n",
      " : 1\n",
      "f: 2\n",
      "o: 1\n",
      "x: 1\n"
     ]
    }
   ],
   "source": [
    "c_already_seen = []\n",
    "for c in text:\n",
    "    if c in c_already_seen:\n",
    "        continue\n",
    "    c_already_seen.append(c)\n",
    "    print(f\"{c}: {my_new_dict[c]}\")"
   ]
  },
  {
   "cell_type": "code",
   "execution_count": null,
   "metadata": {},
   "outputs": [],
   "source": []
  }
 ],
 "metadata": {
  "kernelspec": {
   "display_name": "Python 3",
   "language": "python",
   "name": "python3"
  },
  "language_info": {
   "codemirror_mode": {
    "name": "ipython",
    "version": 3
   },
   "file_extension": ".py",
   "mimetype": "text/x-python",
   "name": "python",
   "nbconvert_exporter": "python",
   "pygments_lexer": "ipython3",
   "version": "3.6.9"
  }
 },
 "nbformat": 4,
 "nbformat_minor": 2
}
