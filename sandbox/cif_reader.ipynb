{
 "cells": [
  {
   "cell_type": "code",
   "execution_count": 14,
   "id": "52bf37db",
   "metadata": {},
   "outputs": [],
   "source": [
    "from bem import matter, xscalc, xtaloriprobmodel as xopm\n",
    "import os\n",
    "\n",
    "import base64\n",
    "import sys\n",
    "\n",
    "from diffpy.Structure.Parsers import getParser\n",
    "from diffpy.Structure import loadStructure"
   ]
  },
  {
   "cell_type": "markdown",
   "id": "18328a69",
   "metadata": {},
   "source": [
    "# Ni file"
   ]
  },
  {
   "cell_type": "markdown",
   "id": "0f06a211",
   "metadata": {},
   "source": [
    "using cif file"
   ]
  },
  {
   "cell_type": "code",
   "execution_count": 18,
   "id": "9f42f351",
   "metadata": {},
   "outputs": [],
   "source": [
    "ni_cif_file = \"/Users/j35/git/NEUIT/static/cif/ni.cif\"\n",
    "assert os.path.exists(cu_cif_file)"
   ]
  },
  {
   "cell_type": "code",
   "execution_count": 19,
   "id": "63635996",
   "metadata": {},
   "outputs": [],
   "source": [
    "cif_structure = loadStructure(ni_cif_file, fmt='cif')"
   ]
  },
  {
   "cell_type": "code",
   "execution_count": 20,
   "id": "892099ed",
   "metadata": {},
   "outputs": [
    {
     "data": {
      "text/plain": [
       "[Ni0+ 0.000000 0.000000 0.000000 1.0000,\n",
       " Ni0+ 0.000000 0.500000 0.500000 1.0000,\n",
       " Ni0+ 0.500000 0.000000 0.500000 1.0000,\n",
       " Ni0+ 0.500000 0.500000 0.000000 1.0000]"
      ]
     },
     "execution_count": 20,
     "metadata": {},
     "output_type": "execute_result"
    }
   ],
   "source": [
    "cif_structure"
   ]
  },
  {
   "cell_type": "code",
   "execution_count": 37,
   "id": "a124730a",
   "metadata": {},
   "outputs": [
    {
     "data": {
      "text/plain": [
       "Lattice(a=3.5432, b=3.5432, c=3.5432, alpha=90, beta=90, gamma=90)"
      ]
     },
     "execution_count": 37,
     "metadata": {},
     "output_type": "execute_result"
    }
   ],
   "source": [
    "cif_structure.lattice"
   ]
  },
  {
   "cell_type": "markdown",
   "id": "dc051688",
   "metadata": {},
   "source": [
    "using manual input"
   ]
  },
  {
   "cell_type": "code",
   "execution_count": 39,
   "id": "c534a88c",
   "metadata": {},
   "outputs": [],
   "source": [
    "atoms = [matter.Atom('Ni', (0,0,0)), matter.Atom('Ni', (0.5, 0.5, 0)),\n",
    "         matter.Atom('Ni', (0.5,0,0.5)), matter.Atom('Ni', (0, 0.5, 0.5))]\n",
    "\n",
    "a = 3.5238\n",
    "alpha = 90."
   ]
  },
  {
   "cell_type": "code",
   "execution_count": 42,
   "id": "fcaab1cd",
   "metadata": {},
   "outputs": [],
   "source": [
    "lattice = matter.Lattice(a=a, b=a, c=a, alpha=alpha, beta=alpha, gamma=alpha)\n",
    "fccNi = matter.Structure(atoms, lattice, sgid=225)"
   ]
  },
  {
   "cell_type": "code",
   "execution_count": 43,
   "id": "cb6db5f6",
   "metadata": {},
   "outputs": [
    {
     "data": {
      "text/plain": [
       "[Ni   0.000000 0.000000 0.000000 1.0000,\n",
       " Ni   0.500000 0.500000 0.000000 1.0000,\n",
       " Ni   0.500000 0.000000 0.500000 1.0000,\n",
       " Ni   0.000000 0.500000 0.500000 1.0000]"
      ]
     },
     "execution_count": 43,
     "metadata": {},
     "output_type": "execute_result"
    }
   ],
   "source": [
    "fccNi"
   ]
  },
  {
   "cell_type": "code",
   "execution_count": 44,
   "id": "ac389cae",
   "metadata": {},
   "outputs": [
    {
     "data": {
      "text/plain": [
       "Lattice(a=3.5238, b=3.5238, c=3.5238, alpha=90, beta=90, gamma=90)"
      ]
     },
     "execution_count": 44,
     "metadata": {},
     "output_type": "execute_result"
    }
   ],
   "source": [
    "fccNi.lattice"
   ]
  },
  {
   "cell_type": "code",
   "execution_count": null,
   "id": "c585235a",
   "metadata": {},
   "outputs": [],
   "source": []
  }
 ],
 "metadata": {
  "kernelspec": {
   "display_name": "Python 3 (ipykernel)",
   "language": "python",
   "name": "python3"
  },
  "language_info": {
   "codemirror_mode": {
    "name": "ipython",
    "version": 3
   },
   "file_extension": ".py",
   "mimetype": "text/x-python",
   "name": "python",
   "nbconvert_exporter": "python",
   "pygments_lexer": "ipython3",
   "version": "3.10.8"
  }
 },
 "nbformat": 4,
 "nbformat_minor": 5
}
