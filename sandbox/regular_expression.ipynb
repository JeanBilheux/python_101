{
 "cells": [
  {
   "cell_type": "code",
   "execution_count": 1,
   "id": "a9f96fbe",
   "metadata": {},
   "outputs": [],
   "source": [
    "import re\n"
   ]
  },
  {
   "cell_type": "code",
   "execution_count": 2,
   "id": "fd2d71ba",
   "metadata": {},
   "outputs": [],
   "source": [
    "file_name = \"Run_3188_20240924_September20_2024_PurpleCar_GoldenRatio_CT_5_0_C_Cd_inBeam_Resonance_0005_093_552_1128049_02698.tif\""
   ]
  },
  {
   "cell_type": "code",
   "execution_count": 3,
   "id": "b20b368f",
   "metadata": {},
   "outputs": [],
   "source": [
    "parsed_string = file_name.split(\"_\")"
   ]
  },
  {
   "cell_type": "code",
   "execution_count": 4,
   "id": "508e192b",
   "metadata": {},
   "outputs": [],
   "source": [
    "angle_deg_1 = parsed_string[-4]\n",
    "angle_deg_2 = parsed_string[-3]"
   ]
  },
  {
   "cell_type": "code",
   "execution_count": 7,
   "id": "cfff3694",
   "metadata": {},
   "outputs": [
    {
     "name": "stdout",
     "output_type": "stream",
     "text": [
      "552\n"
     ]
    }
   ],
   "source": [
    "print(angle_deg_2)"
   ]
  },
  {
   "cell_type": "code",
   "execution_count": null,
   "id": "11711d15",
   "metadata": {},
   "outputs": [],
   "source": []
  }
 ],
 "metadata": {
  "kernelspec": {
   "display_name": "Python 3 (ipykernel)",
   "language": "python",
   "name": "python3"
  },
  "language_info": {
   "codemirror_mode": {
    "name": "ipython",
    "version": 3
   },
   "file_extension": ".py",
   "mimetype": "text/x-python",
   "name": "python",
   "nbconvert_exporter": "python",
   "pygments_lexer": "ipython3",
   "version": "3.10.8"
  }
 },
 "nbformat": 4,
 "nbformat_minor": 5
}
