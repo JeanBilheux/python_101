{
 "cells": [
  {
   "cell_type": "code",
   "execution_count": 1,
   "id": "ce6ade42",
   "metadata": {},
   "outputs": [],
   "source": [
    "import numpy as np"
   ]
  },
  {
   "cell_type": "code",
   "execution_count": 2,
   "id": "7e21c4e5",
   "metadata": {},
   "outputs": [],
   "source": [
    "def find_nearest_index(array, value):\n",
    "    idx = (np.abs(np.array(array) - value)).argmin()\n",
    "    return idx\n"
   ]
  },
  {
   "cell_type": "code",
   "execution_count": 3,
   "id": "99e8402d",
   "metadata": {},
   "outputs": [],
   "source": [
    "full_array = [4.068933757140806, 3.5238, 2.491702875545156, 2.034466878570403, 2.124931352046247, 1.616830326026171, 1.3563112523802687, 1.7619, 1.5758912678227517, 1.4385853259365606]"
   ]
  },
  {
   "cell_type": "code",
   "execution_count": 4,
   "id": "d571bc12",
   "metadata": {},
   "outputs": [],
   "source": [
    "lambda_value = 3.705"
   ]
  },
  {
   "cell_type": "code",
   "execution_count": 5,
   "id": "5cf5ed07",
   "metadata": {},
   "outputs": [],
   "source": [
    "assert find_nearest_index(full_array, lambda_value) == 1"
   ]
  },
  {
   "cell_type": "markdown",
   "id": "3baa1c3c",
   "metadata": {},
   "source": [
    "# testing array "
   ]
  },
  {
   "cell_type": "code",
   "execution_count": 6,
   "id": "afe586e5",
   "metadata": {},
   "outputs": [],
   "source": [
    "test_array = [0,1,2,3,4,5,6,7]\n",
    "value = 0"
   ]
  },
  {
   "cell_type": "code",
   "execution_count": 8,
   "id": "d4552ad7",
   "metadata": {},
   "outputs": [],
   "source": [
    "assert find_nearest_index(test_array, 0) == 0"
   ]
  },
  {
   "cell_type": "code",
   "execution_count": 9,
   "id": "59bc97b7",
   "metadata": {},
   "outputs": [],
   "source": [
    "assert find_nearest_index(test_array, 1) == 1"
   ]
  },
  {
   "cell_type": "code",
   "execution_count": 10,
   "id": "0586067e",
   "metadata": {},
   "outputs": [],
   "source": [
    "assert find_nearest_index(test_array, 0.5) == 0"
   ]
  },
  {
   "cell_type": "code",
   "execution_count": 13,
   "id": "de145a18",
   "metadata": {},
   "outputs": [],
   "source": [
    "assert find_nearest_index(test_array, 0.6) == 1"
   ]
  },
  {
   "cell_type": "code",
   "execution_count": 14,
   "id": "60a6d7a7",
   "metadata": {},
   "outputs": [],
   "source": [
    "assert find_nearest_index(test_array, 8) == 7"
   ]
  },
  {
   "cell_type": "code",
   "execution_count": null,
   "id": "cf63bd41",
   "metadata": {},
   "outputs": [],
   "source": []
  }
 ],
 "metadata": {
  "kernelspec": {
   "display_name": "Python 3",
   "language": "python",
   "name": "python3"
  },
  "language_info": {
   "codemirror_mode": {
    "name": "ipython",
    "version": 3
   },
   "file_extension": ".py",
   "mimetype": "text/x-python",
   "name": "python",
   "nbconvert_exporter": "python",
   "pygments_lexer": "ipython3",
   "version": "3.8.8"
  }
 },
 "nbformat": 4,
 "nbformat_minor": 5
}
