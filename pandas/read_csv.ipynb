{
 "cells": [
  {
   "cell_type": "code",
   "execution_count": 14,
   "id": "c1d781eb",
   "metadata": {},
   "outputs": [],
   "source": [
    "import pandas as pd\n",
    "import os\n",
    "import numpy as np"
   ]
  },
  {
   "cell_type": "code",
   "execution_count": 4,
   "id": "5a034f56",
   "metadata": {},
   "outputs": [],
   "source": [
    "file = \"/Users/j35/git/HyperCTui/src/hyperctui/static/golden_angle.csv\"\n",
    "assert os.path.exists(file)"
   ]
  },
  {
   "cell_type": "code",
   "execution_count": 5,
   "id": "c46b7dee",
   "metadata": {},
   "outputs": [],
   "source": [
    "data = pd.read_csv(file)"
   ]
  },
  {
   "cell_type": "code",
   "execution_count": 16,
   "id": "19759c17",
   "metadata": {},
   "outputs": [
    {
     "data": {
      "text/plain": [
       "200"
      ]
     },
     "execution_count": 16,
     "metadata": {},
     "output_type": "execute_result"
    }
   ],
   "source": [
    "len(np.array(data['angles']))"
   ]
  },
  {
   "cell_type": "code",
   "execution_count": null,
   "id": "0400f227",
   "metadata": {},
   "outputs": [],
   "source": []
  }
 ],
 "metadata": {
  "kernelspec": {
   "display_name": "Python 3 (ipykernel)",
   "language": "python",
   "name": "python3"
  },
  "language_info": {
   "codemirror_mode": {
    "name": "ipython",
    "version": 3
   },
   "file_extension": ".py",
   "mimetype": "text/x-python",
   "name": "python",
   "nbconvert_exporter": "python",
   "pygments_lexer": "ipython3",
   "version": "3.10.8"
  }
 },
 "nbformat": 4,
 "nbformat_minor": 5
}
