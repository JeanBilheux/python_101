{
 "cells": [
  {
   "cell_type": "code",
   "execution_count": 1,
   "id": "9b7625a3",
   "metadata": {},
   "outputs": [],
   "source": [
    "import numpy as np"
   ]
  },
  {
   "cell_type": "code",
   "execution_count": 2,
   "id": "1fe22021",
   "metadata": {},
   "outputs": [],
   "source": [
    "initial_array = np.arange(20)"
   ]
  },
  {
   "cell_type": "code",
   "execution_count": 4,
   "id": "bfb72318",
   "metadata": {},
   "outputs": [],
   "source": [
    "value_to_use = 3.6"
   ]
  },
  {
   "cell_type": "code",
   "execution_count": 13,
   "id": "048f4fd9",
   "metadata": {},
   "outputs": [
    {
     "data": {
      "text/plain": [
       "array([ 3.6,  2.6,  1.6,  0.6,  0.4,  1.4,  2.4,  3.4,  4.4,  5.4,  6.4,\n",
       "        7.4,  8.4,  9.4, 10.4, 11.4, 12.4, 13.4, 14.4, 15.4])"
      ]
     },
     "execution_count": 13,
     "metadata": {},
     "output_type": "execute_result"
    }
   ],
   "source": [
    "diff_array = np.abs(initial_array - value_to_use)\n",
    "diff_array"
   ]
  },
  {
   "cell_type": "code",
   "execution_count": 17,
   "id": "a50c5489",
   "metadata": {},
   "outputs": [
    {
     "data": {
      "text/plain": [
       "4"
      ]
     },
     "execution_count": 17,
     "metadata": {},
     "output_type": "execute_result"
    }
   ],
   "source": [
    "np.where(np.min(diff_array) == diff_array)[0][0]"
   ]
  },
  {
   "cell_type": "code",
   "execution_count": 19,
   "id": "54db4a27",
   "metadata": {},
   "outputs": [],
   "source": [
    "# let's try to generalize it"
   ]
  },
  {
   "cell_type": "code",
   "execution_count": 34,
   "id": "ff83fb58",
   "metadata": {},
   "outputs": [],
   "source": [
    "def find_best_index(full_array=None, value=0):\n",
    "    full_array = [float(_value) for _value in full_array]\n",
    "    value = float(value)\n",
    "    diff_array = [np.abs(_v - value) for _v in full_array]\n",
    "    return np.where(np.min(diff_array) == diff_array)[0][0]"
   ]
  },
  {
   "cell_type": "markdown",
   "id": "88daa805",
   "metadata": {},
   "source": [
    "# Tests "
   ]
  },
  {
   "cell_type": "code",
   "execution_count": 37,
   "id": "14f1b8be",
   "metadata": {},
   "outputs": [
    {
     "name": "stdout",
     "output_type": "stream",
     "text": [
      "index_found: 10\n"
     ]
    }
   ],
   "source": [
    "full_array = np.arange(20)\n",
    "value = 10\n",
    "index_found = find_best_index(full_array=full_array, value=value)\n",
    "print(f\"index_found: {index_found}\")\n",
    "assert index_found == 10"
   ]
  },
  {
   "cell_type": "code",
   "execution_count": 38,
   "id": "31423ed5",
   "metadata": {},
   "outputs": [
    {
     "name": "stdout",
     "output_type": "stream",
     "text": [
      "index_found: 3\n"
     ]
    }
   ],
   "source": [
    "full_array = [0,1,3,7,11,15,19,30]\n",
    "value = 7.5\n",
    "index_found = find_best_index(full_array=full_array, value=value)\n",
    "print(f\"index_found: {index_found}\")\n",
    "assert index_found == 3"
   ]
  },
  {
   "cell_type": "code",
   "execution_count": 46,
   "id": "a6d37862",
   "metadata": {},
   "outputs": [
    {
     "name": "stdout",
     "output_type": "stream",
     "text": [
      "index_found: 2\n"
     ]
    }
   ],
   "source": [
    "full_array = [0,1,3,7,11,15,19,30]\n",
    "value = 5\n",
    "index_found = find_best_index(full_array=full_array, value=value)\n",
    "print(f\"index_found: {index_found}\")\n",
    "assert index_found == 2"
   ]
  },
  {
   "cell_type": "code",
   "execution_count": null,
   "id": "c4272cbc",
   "metadata": {},
   "outputs": [],
   "source": []
  }
 ],
 "metadata": {
  "kernelspec": {
   "display_name": "Python 3",
   "language": "python",
   "name": "python3"
  },
  "language_info": {
   "codemirror_mode": {
    "name": "ipython",
    "version": 3
   },
   "file_extension": ".py",
   "mimetype": "text/x-python",
   "name": "python",
   "nbconvert_exporter": "python",
   "pygments_lexer": "ipython3",
   "version": "3.7.12"
  }
 },
 "nbformat": 4,
 "nbformat_minor": 5
}
