{
 "cells": [
  {
   "cell_type": "code",
   "execution_count": 1,
   "id": "2d9dd319",
   "metadata": {},
   "outputs": [],
   "source": [
    "import numpy as np"
   ]
  },
  {
   "cell_type": "code",
   "execution_count": 4,
   "id": "606d6507",
   "metadata": {},
   "outputs": [
    {
     "data": {
      "text/plain": [
       "array([0, 1, 2, 3, 4, 5, 6, 7, 8, 9])"
      ]
     },
     "execution_count": 4,
     "metadata": {},
     "output_type": "execute_result"
    }
   ],
   "source": [
    "reference_index = np.arange(10)\n",
    "reference_index"
   ]
  },
  {
   "cell_type": "code",
   "execution_count": 5,
   "id": "7aa636b8",
   "metadata": {},
   "outputs": [
    {
     "data": {
      "text/plain": [
       "array([ 0, 10, 20, 30, 40, 50, 60, 70, 80, 90])"
      ]
     },
     "execution_count": 5,
     "metadata": {},
     "output_type": "execute_result"
    }
   ],
   "source": [
    "data1 = np.arange(0, 100, 10)\n",
    "data1"
   ]
  },
  {
   "cell_type": "code",
   "execution_count": 6,
   "id": "90ba0467",
   "metadata": {},
   "outputs": [
    {
     "data": {
      "text/plain": [
       "array([ 0, 20, 40, 60, 80])"
      ]
     },
     "execution_count": 6,
     "metadata": {},
     "output_type": "execute_result"
    }
   ],
   "source": [
    "data2 = np.arange(0, 100, 20)\n",
    "data2"
   ]
  },
  {
   "cell_type": "code",
   "execution_count": 25,
   "id": "ca6608b5",
   "metadata": {},
   "outputs": [],
   "source": [
    "index_of_bin_in_reference_index = [0]\n",
    "for _bin in data2:\n",
    "    result = np.where(_bin < data1)\n",
    "    index_of_bin_in_reference_index.append(result[0][0])"
   ]
  },
  {
   "cell_type": "code",
   "execution_count": 26,
   "id": "28088307",
   "metadata": {},
   "outputs": [
    {
     "data": {
      "text/plain": [
       "[0, 1, 3, 5, 7, 9]"
      ]
     },
     "execution_count": 26,
     "metadata": {},
     "output_type": "execute_result"
    }
   ],
   "source": [
    "index_of_bin_in_reference_index"
   ]
  },
  {
   "cell_type": "markdown",
   "id": "e17fb347",
   "metadata": {},
   "source": [
    "# method 2 "
   ]
  },
  {
   "cell_type": "code",
   "execution_count": 81,
   "id": "9a38948e",
   "metadata": {},
   "outputs": [],
   "source": [
    "original_tof_array = np.array([1.12, 11.36, 21.60, 31.84, 42.08, 52.32])\n",
    "bin_tof_array = np.array([1.12, 6.12, 11.12, 16.12, 21.12, 26.12, 31.12, 36.12, 41.12, 46.12, 51.12, 56.12])"
   ]
  },
  {
   "cell_type": "code",
   "execution_count": 82,
   "id": "8b52d128",
   "metadata": {},
   "outputs": [],
   "source": [
    "# original_tof_array = np.arange(0,10,1)\n",
    "# print(f\"original_tof_array: {original_tof_array}\")\n",
    "# bin_tof_array = np.arange(0,11,2)\n",
    "# print(f\"bin_tof_array: {bin_tof_array}\")"
   ]
  },
  {
   "cell_type": "code",
   "execution_count": 88,
   "id": "2140404e",
   "metadata": {},
   "outputs": [],
   "source": [
    "index_of_bins_in_original_array = [[] for _ in np.arange(len(bin_tof_array))]"
   ]
  },
  {
   "cell_type": "code",
   "execution_count": 89,
   "id": "7be10f5a",
   "metadata": {},
   "outputs": [],
   "source": [
    "for _file_index, _bin in enumerate(original_tof_array):\n",
    "    result1 = np.where(_bin >= bin_tof_array)\n",
    "    index = result1[0][-1]\n",
    "    index_of_bins_in_original_array[index].append(_file_index)"
   ]
  },
  {
   "cell_type": "code",
   "execution_count": 90,
   "id": "d72dd100",
   "metadata": {},
   "outputs": [
    {
     "data": {
      "text/plain": [
       "[[0], [], [1], [], [2], [], [3], [], [4], [], [5], []]"
      ]
     },
     "execution_count": 90,
     "metadata": {},
     "output_type": "execute_result"
    }
   ],
   "source": [
    "index_of_bins_in_original_array"
   ]
  },
  {
   "cell_type": "markdown",
   "id": "3acd4d1b",
   "metadata": {},
   "source": [
    "# Create linear file index bin array "
   ]
  },
  {
   "cell_type": "code",
   "execution_count": 1,
   "id": "46eae479",
   "metadata": {},
   "outputs": [],
   "source": [
    "import numpy as np"
   ]
  },
  {
   "cell_type": "code",
   "execution_count": 58,
   "id": "64d4e924",
   "metadata": {},
   "outputs": [
    {
     "name": "stdout",
     "output_type": "stream",
     "text": [
      "original_file_index_array: [ 0  1  2  3  4  5  6  7  8  9 10 11 12 13 14 15 16 17 18 19]\n",
      "new_index_array: [ 0  6 12 18 24]\n"
     ]
    }
   ],
   "source": [
    "original_file_index_array = np.arange(20)\n",
    "print(f\"original_file_index_array: {original_file_index_array}\")\n",
    "number_of_files = len(original_file_index_array)\n",
    "\n",
    "bin_value = 6\n",
    "\n",
    "new_index_array = np.arange(0, number_of_files, bin_value)\n",
    "if new_index_array[-1] <= (number_of_files-1):\n",
    "    new_index_array = np.append(new_index_array, new_index_array[-1] + bin_value)\n",
    "    \n",
    "print(f\"new_index_array: {new_index_array}\")"
   ]
  },
  {
   "cell_type": "markdown",
   "id": "a23974dd",
   "metadata": {},
   "source": [
    "I'm looking for something like \n",
    "[[0,1],[2,3],[4,5]....]"
   ]
  },
  {
   "cell_type": "code",
   "execution_count": 59,
   "id": "8fa20dfb",
   "metadata": {},
   "outputs": [
    {
     "name": "stdout",
     "output_type": "stream",
     "text": [
      "bins_with_index_of_file_index: [[], [], [], []]\n"
     ]
    }
   ],
   "source": [
    "bins_with_index_of_file_index = [[] for _ in np.arange(len(new_index_array)-1)]\n",
    "print(f\"bins_with_index_of_file_index: {bins_with_index_of_file_index}\")"
   ]
  },
  {
   "cell_type": "code",
   "execution_count": 60,
   "id": "de963235",
   "metadata": {},
   "outputs": [],
   "source": [
    "for _file_index, _bin in enumerate(original_file_index_array):\n",
    "#     print(f\"_file_index:{_file_index} and _bin:{_bin}\")\n",
    "#     print(f\"new_index_array: {new_index_array}\")\n",
    "    result = np.where(_bin >= new_index_array)\n",
    "#     print(f\"-> result: {result}\")\n",
    "\n",
    "    index = result[0][-1]\n",
    "    bins_with_index_of_file_index[index].append(_file_index)"
   ]
  },
  {
   "cell_type": "code",
   "execution_count": 61,
   "id": "3c63c231",
   "metadata": {},
   "outputs": [
    {
     "name": "stdout",
     "output_type": "stream",
     "text": [
      "bins_with_index_of_file_index: [[0, 1, 2, 3, 4, 5], [6, 7, 8, 9, 10, 11], [12, 13, 14, 15, 16, 17], [18, 19]]\n"
     ]
    }
   ],
   "source": [
    "print(f\"bins_with_index_of_file_index: {bins_with_index_of_file_index}\")"
   ]
  },
  {
   "cell_type": "code",
   "execution_count": null,
   "id": "2e3e8da2",
   "metadata": {},
   "outputs": [],
   "source": []
  }
 ],
 "metadata": {
  "kernelspec": {
   "display_name": "Python 3",
   "language": "python",
   "name": "python3"
  },
  "language_info": {
   "codemirror_mode": {
    "name": "ipython",
    "version": 3
   },
   "file_extension": ".py",
   "mimetype": "text/x-python",
   "name": "python",
   "nbconvert_exporter": "python",
   "pygments_lexer": "ipython3",
   "version": "3.7.12"
  }
 },
 "nbformat": 4,
 "nbformat_minor": 5
}
