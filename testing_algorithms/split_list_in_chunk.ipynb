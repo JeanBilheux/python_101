{
 "cells": [
  {
   "cell_type": "code",
   "execution_count": 1,
   "id": "28a55aac",
   "metadata": {},
   "outputs": [
    {
     "name": "stdout",
     "output_type": "stream",
     "text": [
      "[[1, 2, 3], [4, 5, 6], [7, 8, 9], [10]]\n"
     ]
    }
   ],
   "source": [
    "\n",
    "from collections import deque\n",
    "  \n",
    "def split_list(input_list, chunk_size):\n",
    "  # Create a deque object from the input list\n",
    "  deque_obj = deque(input_list)\n",
    "  # While the deque object is not empty\n",
    "  while deque_obj:\n",
    "      # Pop chunk_size elements from the left side of the deque object\n",
    "      # and append them to the chunk list\n",
    "      chunk = []\n",
    "      for _ in range(chunk_size):\n",
    "        if deque_obj:\n",
    "          chunk.append(deque_obj.popleft())\n",
    "          \n",
    "      # Yield the chunk\n",
    "      yield chunk\n",
    "input_list = [1, 2, 3, 4, 5, 6, 7, 8, 9, 10]\n",
    "chunk_size = 3\n",
    "chunks = list(split_list(input_list, chunk_size))\n",
    "print(chunks) # [[1, 2, 3], [4, 5, 6], [7, 8, 9], [10]]"
   ]
  },
  {
   "cell_type": "code",
   "execution_count": 2,
   "id": "f55cc54c",
   "metadata": {},
   "outputs": [],
   "source": [
    "new_input_list = ['file1', 'file2', 'file3', 'file4', 'file5', 'file6', 'file7', 'file8', 'file9', 'file10']"
   ]
  },
  {
   "cell_type": "code",
   "execution_count": 3,
   "id": "482c310b",
   "metadata": {},
   "outputs": [
    {
     "name": "stdout",
     "output_type": "stream",
     "text": [
      "[['file1', 'file2', 'file3'], ['file4', 'file5', 'file6'], ['file7', 'file8', 'file9'], ['file10']]\n"
     ]
    }
   ],
   "source": [
    "print(list(split_list(new_input_list, chunk_size)))"
   ]
  },
  {
   "cell_type": "code",
   "execution_count": null,
   "id": "cf3b45e6",
   "metadata": {},
   "outputs": [],
   "source": []
  }
 ],
 "metadata": {
  "kernelspec": {
   "display_name": "Python 3 (ipykernel)",
   "language": "python",
   "name": "python3"
  },
  "language_info": {
   "codemirror_mode": {
    "name": "ipython",
    "version": 3
   },
   "file_extension": ".py",
   "mimetype": "text/x-python",
   "name": "python",
   "nbconvert_exporter": "python",
   "pygments_lexer": "ipython3",
   "version": "3.8.17"
  }
 },
 "nbformat": 4,
 "nbformat_minor": 5
}
