{
 "cells": [
  {
   "cell_type": "markdown",
   "metadata": {},
   "source": [
    "Full tutorial can be found [here](https://realpython.com/python37-new-features/#data-classes)"
   ]
  },
  {
   "cell_type": "markdown",
   "metadata": {},
   "source": [
    "Using the @dataclass decorator, the class you create gets a lot of features added for free such as:\n",
    "\n",
    "* __init__()\n",
    "* __repr__()\n",
    "* __eq__()\n",
    "* __ne__()\n",
    "* __lt__()\n",
    "* __le__()\n",
    "* __gt__()\n",
    "* __ge__()"
   ]
  },
  {
   "cell_type": "markdown",
   "metadata": {},
   "source": [
    "## with python 3.6 "
   ]
  },
  {
   "cell_type": "code",
   "execution_count": 26,
   "metadata": {},
   "outputs": [],
   "source": [
    "class Country36:\n",
    "\n",
    "    def __init__(self, name, population, area, coastline=0):\n",
    "        self.name = name\n",
    "        self.population = population\n",
    "        self.area = area\n",
    "        self.coastline = coastline\n",
    "\n",
    "    def __repr__(self):\n",
    "        return (\n",
    "            f\"{__class__.__name__}(name={self.name!r}, population={self.population!r},\"\n",
    "            f\" coastline={self.coastline!r})\"\n",
    "        )\n",
    "\n",
    "    def __eq__(self, other):\n",
    "        if other.__class__ is self.__class__:\n",
    "            return (\n",
    "                (self.name, self.population, self.coastline)\n",
    "                == (other.name, other.population, other.coastline)\n",
    "            )\n",
    "        return NotImplemented\n",
    "\n",
    "    def __ne__(self, other):\n",
    "        if other.__class__ is self.__class__:\n",
    "            return (\n",
    "                (self.name, self.population, self.coastline)\n",
    "                != (other.name, other.population, other.coastline)\n",
    "            )\n",
    "        return NotImplemented\n",
    "\n",
    "    def __lt__(self, other):\n",
    "        if other.__class__ is self.__class__:\n",
    "            return ((self.name, self.population, self.coastline) < (\n",
    "                other.name, other.population, other.coastline\n",
    "            ))\n",
    "        return NotImplemented\n",
    "\n",
    "    def __le__(self, other):\n",
    "        if other.__class__ is self.__class__:\n",
    "            return ((self.name, self.population, self.coastline) <= (\n",
    "                other.name, other.population, other.coastline\n",
    "            ))\n",
    "        return NotImplemented\n",
    "\n",
    "    def __gt__(self, other):\n",
    "        if other.__class__ is self.__class__:\n",
    "            return ((self.name, self.population, self.coastline) > (\n",
    "                other.name, other.population, other.coastline\n",
    "            ))\n",
    "        return NotImplemented\n",
    "\n",
    "    def __ge__(self, other):\n",
    "        if other.__class__ is self.__class__:\n",
    "            return ((self.name, self.population, self.coastline) >= (\n",
    "                other.name, other.population, other.coastline\n",
    "            ))\n",
    "        return NotImplemented\n",
    "\n",
    "    def beach_per_person(self):\n",
    "        \"\"\"Meters of coastline per person\"\"\"\n",
    "        return (self.coastline * 1000) / self.population"
   ]
  },
  {
   "cell_type": "markdown",
   "metadata": {},
   "source": [
    "## with python 3.7"
   ]
  },
  {
   "cell_type": "code",
   "execution_count": 27,
   "metadata": {},
   "outputs": [],
   "source": [
    "from dataclasses import dataclass, field"
   ]
  },
  {
   "cell_type": "code",
   "execution_count": 28,
   "metadata": {},
   "outputs": [],
   "source": [
    "@dataclass(order=True)\n",
    "class Country37:\n",
    "    name: str\n",
    "    population: int\n",
    "    area: float = field(repr=False, compare=False)\n",
    "    coastline: float=0\n",
    "        \n",
    "    def beach_per_person(self):\n",
    "        \"\"\"Meters of coastline per person\"\"\"\n",
    "        return (self.coastline * 1000) / self.population"
   ]
  },
  {
   "cell_type": "markdown",
   "metadata": {},
   "source": [
    "## example "
   ]
  },
  {
   "cell_type": "code",
   "execution_count": 29,
   "metadata": {},
   "outputs": [],
   "source": [
    "norway36 = Country36(\"Norway\", 5320045, 323802, 58133)\n",
    "norway37 = Country37(\"Norway\", 5320045, 323802, 58133)"
   ]
  },
  {
   "cell_type": "code",
   "execution_count": 30,
   "metadata": {},
   "outputs": [
    {
     "name": "stdout",
     "output_type": "stream",
     "text": [
      "323802\n",
      "323802\n"
     ]
    }
   ],
   "source": [
    "print(norway36.area)\n",
    "print(norway37.area)"
   ]
  },
  {
   "cell_type": "code",
   "execution_count": 31,
   "metadata": {},
   "outputs": [],
   "source": [
    "usa36 = Country36(\"USA\", 326625791, 9833517, 19924)\n",
    "usa37 = Country37(\"USA\", 326625791, 9833517, 19924)"
   ]
  },
  {
   "cell_type": "code",
   "execution_count": 32,
   "metadata": {},
   "outputs": [],
   "source": [
    "nepal36 = Country36(\"Nepal\", 29384297, 147181)\n",
    "nepal36 = Country37(\"Nepal\", 29384297, 147181)"
   ]
  },
  {
   "cell_type": "code",
   "execution_count": 33,
   "metadata": {},
   "outputs": [
    {
     "name": "stdout",
     "output_type": "stream",
     "text": [
      "0.06099946957342386\n",
      "0.06099946957342386\n"
     ]
    }
   ],
   "source": [
    "print(usa36.beach_per_person())\n",
    "print(usa37.beach_per_person())"
   ]
  },
  {
   "cell_type": "code",
   "execution_count": 37,
   "metadata": {},
   "outputs": [
    {
     "name": "stdout",
     "output_type": "stream",
     "text": [
      "Country36(name='Norway', population=5320045, coastline=58133)\n",
      "Country37(name='Norway', population=5320045, coastline=58133)\n"
     ]
    }
   ],
   "source": [
    "print(norway36)\n",
    "print(norway37)"
   ]
  },
  {
   "cell_type": "code",
   "execution_count": null,
   "metadata": {},
   "outputs": [],
   "source": []
  }
 ],
 "metadata": {
  "kernelspec": {
   "display_name": "Python 3",
   "language": "python",
   "name": "python3"
  },
  "language_info": {
   "codemirror_mode": {
    "name": "ipython",
    "version": 3
   },
   "file_extension": ".py",
   "mimetype": "text/x-python",
   "name": "python",
   "nbconvert_exporter": "python",
   "pygments_lexer": "ipython3",
   "version": "3.7.0"
  }
 },
 "nbformat": 4,
 "nbformat_minor": 2
}
