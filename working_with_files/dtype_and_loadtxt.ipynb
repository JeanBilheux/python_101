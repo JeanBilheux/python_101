{
 "cells": [
  {
   "cell_type": "markdown",
   "metadata": {},
   "source": [
    "# Playing with dtype"
   ]
  },
  {
   "cell_type": "code",
   "execution_count": 3,
   "metadata": {
    "collapsed": true
   },
   "outputs": [],
   "source": [
    "import numpy as np"
   ]
  },
  {
   "cell_type": "code",
   "execution_count": null,
   "metadata": {
    "collapsed": false
   },
   "outputs": [],
   "source": [
    "particle_type = np.dtype([('mass', 'f4'), ('velocity', 'f4'), ('other', 'object')])"
   ]
  },
  {
   "cell_type": "code",
   "execution_count": null,
   "metadata": {
    "collapsed": false
   },
   "outputs": [],
   "source": [
    "particles = np.array([(1, 2, None), (1, 2, None), (3, 4, None)], dtype=particle_type)"
   ]
  },
  {
   "cell_type": "code",
   "execution_count": null,
   "metadata": {
    "collapsed": false
   },
   "outputs": [],
   "source": [
    "print(particles)"
   ]
  },
  {
   "cell_type": "code",
   "execution_count": null,
   "metadata": {
    "collapsed": false
   },
   "outputs": [],
   "source": [
    "particles[0]"
   ]
  },
  {
   "cell_type": "code",
   "execution_count": null,
   "metadata": {
    "collapsed": false
   },
   "outputs": [],
   "source": [
    "print(particles['velocity'])"
   ]
  },
  {
   "cell_type": "code",
   "execution_count": null,
   "metadata": {
    "collapsed": false
   },
   "outputs": [],
   "source": [
    "particles.sort(order=('velocity'))"
   ]
  },
  {
   "cell_type": "markdown",
   "metadata": {},
   "source": [
    "# Complex data type"
   ]
  },
  {
   "cell_type": "code",
   "execution_count": 29,
   "metadata": {
    "collapsed": false
   },
   "outputs": [],
   "source": [
    "dt_complex = np.dtype([('time', float), \n",
    "                       ('size', float),\n",
    "                      ('position', [('az', float),\n",
    "                                   ('el', float),\n",
    "                                   ('region_type', int),\n",
    "                                   ('region_ID', int)]),\n",
    "                      ('gain', int),\n",
    "                      ('samples', float, 3)])"
   ]
  },
  {
   "cell_type": "code",
   "execution_count": 30,
   "metadata": {
    "collapsed": true
   },
   "outputs": [],
   "source": [
    "filename = 'nested_dtype.txt'"
   ]
  },
  {
   "cell_type": "code",
   "execution_count": 31,
   "metadata": {
    "collapsed": false
   },
   "outputs": [],
   "source": [
    "data = np.loadtxt(filename, dtype=dt_complex, skiprows=2)"
   ]
  },
  {
   "cell_type": "code",
   "execution_count": 32,
   "metadata": {
    "collapsed": false
   },
   "outputs": [
    {
     "name": "stdout",
     "output_type": "stream",
     "text": [
      "[ (1111111.0, 10.0, (0.7, -0.1, 1, 4), 40, [0.361358537, 0.924940989, 0.476165854])\n",
      " (1111112.0, 10.0, (0.9, -0.1, 1, 4), 40, [0.157334404, 0.965901723, 0.8487847])\n",
      " (1111113.0, 10.0, (1.1, -0.1, 1, 4), 40, [0.114315107, 0.101304054, 0.430552638])\n",
      " (1111114.0, 10.0, (1.3, -0.1, 1, 4), 40, [0.72485143, 0.292217202, 0.398807113])\n",
      " (1111115.0, 10.0, (1.5, -0.1, 1, 4), 40, [0.968001027, 0.899049691, 0.072604841])\n",
      " (1111116.0, 10.0, (1.7, -0.1, 1, 4), 40, [0.693286874, 0.468478564, 0.231692357])\n",
      " (1111117.0, 10.0, (1.9, -0.1, 1, 4), 40, [0.245350889, 0.649302438, 0.864083429])\n",
      " (1111118.0, 10.0, (2.1, -0.1, 1, 4), 40, [0.610551061, 0.410296878, 0.696429115])\n",
      " (1111119.0, 10.0, (2.3, -0.1, 1, 4), 40, [0.385871885, 0.147101673, 0.599135281])\n",
      " (1111120.0, 10.0, (2.5, -0.1, 1, 4), 40, [0.815657218, 0.359923327, 0.244355926])\n",
      " (1111121.0, 10.0, (2.7, -0.1, 1, 4), 40, [0.747577973, 0.990528394, 0.502516903])\n",
      " (1111122.0, 10.0, (2.9, -0.1, 1, 4), 40, [0.50384251, 0.757717939, 0.304764243])\n",
      " (1111123.0, 10.0, (3.1, -0.1, 1, 4), 40, [0.067893369, 0.632484537, 0.480706427])]\n"
     ]
    }
   ],
   "source": [
    "print(data)"
   ]
  },
  {
   "cell_type": "code",
   "execution_count": 33,
   "metadata": {
    "collapsed": false
   },
   "outputs": [
    {
     "name": "stdout",
     "output_type": "stream",
     "text": [
      "[ 1111111.  1111112.  1111113.  1111114.  1111115.  1111116.  1111117.\n",
      "  1111118.  1111119.  1111120.  1111121.  1111122.  1111123.]\n"
     ]
    }
   ],
   "source": [
    "print(data['time'])"
   ]
  },
  {
   "cell_type": "markdown",
   "metadata": {},
   "source": [
    "# Simple data type"
   ]
  },
  {
   "cell_type": "code",
   "execution_count": 35,
   "metadata": {
    "collapsed": true
   },
   "outputs": [],
   "source": [
    "simple_file = 'simple_ascii.txt'"
   ]
  },
  {
   "cell_type": "code",
   "execution_count": 37,
   "metadata": {
    "collapsed": false
   },
   "outputs": [],
   "source": [
    "data = np.loadtxt(simple_file, skiprows=1)"
   ]
  },
  {
   "cell_type": "code",
   "execution_count": 11,
   "metadata": {
    "collapsed": false
   },
   "outputs": [
    {
     "name": "stdout",
     "output_type": "stream",
     "text": [
      "[  7.16120736e-246   1.65781489e-076   3.88219336e-265   1.39736838e-076\n",
      "   2.50488720e-264   3.22444615e-086   5.88363259e-062   2.36330486e-264\n",
      "   1.69340762e-052   7.16120736e-246   1.31398248e-047   3.88221226e-265\n",
      "   3.21492646e-057   2.87752021e-264   3.22445843e-086   1.10791234e-047\n",
      "   2.72201698e-077   4.85110415e-033   1.06658826e-038   9.34575632e-067\n",
      "   3.88209873e-265   7.71621570e-043   3.91068123e-265   3.22444045e-086\n",
      "   2.00579384e-052   9.65047822e-072   9.05972440e-043   3.88209871e-265\n",
      "   1.14217132e-071   2.38132167e-264   2.72038955e-077   5.15439156e-062\n",
      "   2.05417426e-072   1.45002829e-047   3.88219572e-265   4.43567511e-038\n",
      "   3.53480691e-057   2.75291329e-264   2.21501460e-052   7.16120736e-246\n",
      "   1.83086113e-076   3.90765263e-265   3.22446499e-086   5.87985659e-062\n",
      "   3.28388757e-033   2.31657266e-052   3.88209867e-265]\n"
     ]
    }
   ],
   "source": [
    "print(data)"
   ]
  },
  {
   "cell_type": "code",
   "execution_count": 12,
   "metadata": {
    "collapsed": true
   },
   "outputs": [],
   "source": [
    "np.fromfile?"
   ]
  },
  {
   "cell_type": "code",
   "execution_count": 27,
   "metadata": {
    "collapsed": false
   },
   "outputs": [],
   "source": [
    "np.loadtxt?"
   ]
  },
  {
   "cell_type": "code",
   "execution_count": null,
   "metadata": {
    "collapsed": true
   },
   "outputs": [],
   "source": []
  }
 ],
 "metadata": {
  "kernelspec": {
   "display_name": "Python 3",
   "language": "python",
   "name": "python3"
  },
  "language_info": {
   "codemirror_mode": {
    "name": "ipython",
    "version": 3
   },
   "file_extension": ".py",
   "mimetype": "text/x-python",
   "name": "python",
   "nbconvert_exporter": "python",
   "pygments_lexer": "ipython3",
   "version": "3.4.3"
  }
 },
 "nbformat": 4,
 "nbformat_minor": 0
}
