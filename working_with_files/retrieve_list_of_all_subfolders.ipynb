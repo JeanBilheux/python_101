{
 "cells": [
  {
   "cell_type": "code",
   "execution_count": 2,
   "id": "c76803e0",
   "metadata": {},
   "outputs": [],
   "source": [
    "import os"
   ]
  },
  {
   "cell_type": "code",
   "execution_count": 3,
   "id": "e0424bee",
   "metadata": {},
   "outputs": [],
   "source": [
    "root_folder = \".\""
   ]
  },
  {
   "cell_type": "code",
   "execution_count": 4,
   "id": "54cb627c",
   "metadata": {},
   "outputs": [
    {
     "data": {
      "text/plain": [
       "['.DS_Store',\n",
       " '.ipynb_checkpoints',\n",
       " 'dtype_and_loadtxt.ipynb',\n",
       " 'folder1',\n",
       " 'Load PDF.ipynb',\n",
       " 'nested_dtype.txt',\n",
       " 'parsing_xml.py',\n",
       " 'retrieve_list_of_all_subfolders.ipynb',\n",
       " 'simple_ascii.txt',\n",
       " 'sorting_files.ipynb',\n",
       " 'working_with_files.ipynb']"
      ]
     },
     "execution_count": 4,
     "metadata": {},
     "output_type": "execute_result"
    }
   ],
   "source": [
    "os.listdir(root_folder)"
   ]
  },
  {
   "cell_type": "code",
   "execution_count": 6,
   "id": "36eda95e",
   "metadata": {},
   "outputs": [
    {
     "data": {
      "text/plain": [
       "['/Volumes/G-DRIVE/git/python_101/working_with_files',\n",
       " '/Volumes/G-DRIVE/git/python_101/working_with_files/.ipynb_checkpoints',\n",
       " '/Volumes/G-DRIVE/git/python_101/working_with_files/folder1',\n",
       " '/Volumes/G-DRIVE/git/python_101/working_with_files/folder1/folder11',\n",
       " '/Volumes/G-DRIVE/git/python_101/working_with_files/folder1/folder11/folder111',\n",
       " '/Volumes/G-DRIVE/git/python_101/working_with_files/folder1/folder11/folder112',\n",
       " '/Volumes/G-DRIVE/git/python_101/working_with_files/folder1/folder12',\n",
       " '/Volumes/G-DRIVE/git/python_101/working_with_files/folder1/folder12/folder121']"
      ]
     },
     "execution_count": 6,
     "metadata": {},
     "output_type": "execute_result"
    }
   ],
   "source": [
    "[os.path.abspath(x[0]) for x in os.walk(root_folder)]"
   ]
  },
  {
   "cell_type": "code",
   "execution_count": null,
   "id": "04442dc0",
   "metadata": {},
   "outputs": [],
   "source": []
  }
 ],
 "metadata": {
  "kernelspec": {
   "display_name": "Python 3",
   "language": "python",
   "name": "python3"
  },
  "language_info": {
   "codemirror_mode": {
    "name": "ipython",
    "version": 3
   },
   "file_extension": ".py",
   "mimetype": "text/x-python",
   "name": "python",
   "nbconvert_exporter": "python",
   "pygments_lexer": "ipython3",
   "version": "3.7.12"
  }
 },
 "nbformat": 4,
 "nbformat_minor": 5
}
