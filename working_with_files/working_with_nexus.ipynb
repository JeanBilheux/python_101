{
 "cells": [
  {
   "cell_type": "code",
   "execution_count": 3,
   "id": "5d276ba7",
   "metadata": {},
   "outputs": [],
   "source": [
    "import os\n",
    "import h5py"
   ]
  },
  {
   "cell_type": "code",
   "execution_count": 2,
   "id": "c4e61ad5",
   "metadata": {},
   "outputs": [],
   "source": [
    "file = \"/Volumes/Buffalo/IPTS/IPTS-30023-Matteo-Simon/SNAP_57103.nxs.h5\"\n",
    "assert os.path.exists(file)"
   ]
  },
  {
   "cell_type": "code",
   "execution_count": 4,
   "id": "2926ab66",
   "metadata": {},
   "outputs": [],
   "source": [
    "f = h5py.File(file, 'r')"
   ]
  },
  {
   "cell_type": "code",
   "execution_count": 6,
   "id": "1635b515",
   "metadata": {},
   "outputs": [
    {
     "data": {
      "text/plain": [
       "1100226668540.0"
      ]
     },
     "execution_count": 6,
     "metadata": {},
     "output_type": "execute_result"
    }
   ],
   "source": [
    "f['entry']['proton_charge'][0]"
   ]
  },
  {
   "cell_type": "code",
   "execution_count": null,
   "id": "f32fbab2",
   "metadata": {},
   "outputs": [],
   "source": []
  }
 ],
 "metadata": {
  "kernelspec": {
   "display_name": "Python 3 (ipykernel)",
   "language": "python",
   "name": "python3"
  },
  "language_info": {
   "codemirror_mode": {
    "name": "ipython",
    "version": 3
   },
   "file_extension": ".py",
   "mimetype": "text/x-python",
   "name": "python",
   "nbconvert_exporter": "python",
   "pygments_lexer": "ipython3",
   "version": "3.8.13"
  }
 },
 "nbformat": 4,
 "nbformat_minor": 5
}
