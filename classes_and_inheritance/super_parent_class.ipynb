{
 "cells": [
  {
   "cell_type": "markdown",
   "metadata": {},
   "source": [
    "Here is the traditional way to directly call the parent's __init__ method"
   ]
  },
  {
   "cell_type": "code",
   "execution_count": 1,
   "metadata": {
    "collapsed": true
   },
   "outputs": [],
   "source": [
    "class MyBaseClass(object):\n",
    "    \n",
    "    def __init__(self, value):\n",
    "        print('MyBaseClass __init__')\n",
    "        self.value = value\n",
    "        \n",
    "class MyChildrenClass(MyBaseClass):\n",
    "    \n",
    "    def __init__(self):\n",
    "        print('MyChildrenClass __init__')\n",
    "        MyBaseClass.__init__(self, 5)"
   ]
  },
  {
   "cell_type": "code",
   "execution_count": 2,
   "metadata": {
    "collapsed": false
   },
   "outputs": [
    {
     "name": "stdout",
     "output_type": "stream",
     "text": [
      "MyChildrenClass __init__\n",
      "MyBaseClass __init__\n"
     ]
    }
   ],
   "source": [
    "myChildren = MyChildrenClass()"
   ]
  },
  {
   "cell_type": "markdown",
   "metadata": {},
   "source": [
    "But sometimes this can lead to unpredictable behavior."
   ]
  },
  {
   "cell_type": "markdown",
   "metadata": {},
   "source": [
    "###  Issue about the order the parents __init__ are called"
   ]
  },
  {
   "cell_type": "code",
   "execution_count": 9,
   "metadata": {
    "collapsed": true
   },
   "outputs": [],
   "source": [
    "class TimesTwo(object):\n",
    "    \n",
    "    def __init__(self):\n",
    "        print('TimesTwo __init__')\n",
    "        self.value *= 2\n",
    "        \n",
    "class PlusFive(object):\n",
    "    \n",
    "    def __init__(self):\n",
    "        print('PlusFive __init__')\n",
    "        self.value += 5"
   ]
  },
  {
   "cell_type": "markdown",
   "metadata": {},
   "source": [
    "Class that defines the parent classes in one way"
   ]
  },
  {
   "cell_type": "code",
   "execution_count": 10,
   "metadata": {
    "collapsed": true
   },
   "outputs": [],
   "source": [
    "class OneWay(MyBaseClass, TimesTwo, PlusFive):\n",
    "    \n",
    "    def __init__(self, value):\n",
    "        MyBaseClass.__init__(self, value)\n",
    "        TimesTwo.__init__(self)\n",
    "        PlusFive.__init__(self)"
   ]
  },
  {
   "cell_type": "code",
   "execution_count": 12,
   "metadata": {
    "collapsed": false
   },
   "outputs": [
    {
     "name": "stdout",
     "output_type": "stream",
     "text": [
      "MyBaseClass __init__\n",
      "TimesTwo __init__\n",
      "PlusFive __init__\n",
      "First ordering is (5 * 2) + 5 =  15\n"
     ]
    }
   ],
   "source": [
    "foo = OneWay(5)\n",
    "print('First ordering is (5 * 2) + 5 = ', foo.value)"
   ]
  },
  {
   "cell_type": "markdown",
   "metadata": {},
   "source": [
    "Class that defines the parent in another way (call to parents __init__ does not follow class inheritance declaration)"
   ]
  },
  {
   "cell_type": "code",
   "execution_count": 13,
   "metadata": {
    "collapsed": true
   },
   "outputs": [],
   "source": [
    "class AnotherWay(MyBaseClass, PlusFive, TimesTwo):\n",
    "    \n",
    "    def __init__(self, value):\n",
    "        MyBaseClass.__init__(self, value)\n",
    "        TimesTwo.__init__(self)\n",
    "        PlusFive.__init__(self)"
   ]
  },
  {
   "cell_type": "code",
   "execution_count": 14,
   "metadata": {
    "collapsed": false
   },
   "outputs": [
    {
     "name": "stdout",
     "output_type": "stream",
     "text": [
      "MyBaseClass __init__\n",
      "TimesTwo __init__\n",
      "PlusFive __init__\n",
      "Second ordering is  15\n"
     ]
    }
   ],
   "source": [
    "bar = AnotherWay(5)\n",
    "print('Second ordering is ', bar.value)"
   ]
  },
  {
   "cell_type": "markdown",
   "metadata": {},
   "source": [
    "### Issue about diamond inheritance"
   ]
  },
  {
   "cell_type": "markdown",
   "metadata": {},
   "source": [
    "This happens when a subclass inherits from 2 separate classes that have the same superclass somewhere in the hierarchy. The common superclass's __init__ methods will be ran multiple times ==> causing unexpected behavior."
   ]
  },
  {
   "cell_type": "code",
   "execution_count": 19,
   "metadata": {
    "collapsed": true
   },
   "outputs": [],
   "source": [
    "class TimesFive(MyBaseClass):\n",
    "    \n",
    "    def __init__(self, value):\n",
    "        print('TimesFive __init__')\n",
    "        MyBaseClass.__init__(self, value)\n",
    "        self.value *= 5\n",
    "        \n",
    "class PlusTwo(MyBaseClass):\n",
    "    \n",
    "    def __init__(self, value):\n",
    "        print('PlusTow __init__')\n",
    "        MyBaseClass.__init__(self, value)\n",
    "        self.value += 2"
   ]
  },
  {
   "cell_type": "code",
   "execution_count": 21,
   "metadata": {
    "collapsed": false
   },
   "outputs": [],
   "source": [
    "class ThisWay(TimesFive, PlusTwo):\n",
    "    \n",
    "    def __init__(self, value):\n",
    "        print('ThisWay __init__')\n",
    "        TimesFive.__init__(self, value)\n",
    "        PlusTwo.__init__(self, value)"
   ]
  },
  {
   "cell_type": "code",
   "execution_count": 23,
   "metadata": {
    "collapsed": false
   },
   "outputs": [
    {
     "name": "stdout",
     "output_type": "stream",
     "text": [
      "ThisWay __init__\n",
      "TimesFive __init__\n",
      "MyBaseClass __init__\n",
      "PlusTow __init__\n",
      "MyBaseClass __init__\n",
      "Should be (5 * 5) + 2 = 27 but it is  7\n"
     ]
    }
   ],
   "source": [
    "foo = ThisWay(5)\n",
    "print('Should be (5 * 5) + 2 = 27 but it is ', foo.value)"
   ]
  },
  {
   "cell_type": "markdown",
   "metadata": {},
   "source": [
    "This is because the second time the superclass __init__ is called, it reset the self.vlaue to 5"
   ]
  },
  {
   "cell_type": "markdown",
   "metadata": {},
   "source": [
    "### Super (python 2)"
   ]
  },
  {
   "cell_type": "markdown",
   "metadata": {},
   "source": [
    "MRO: Method Resolution Order"
   ]
  },
  {
   "cell_type": "markdown",
   "metadata": {},
   "source": [
    "**super** will force to call the super class __init__ only once in a diamond hierarchy"
   ]
  },
  {
   "cell_type": "code",
   "execution_count": 30,
   "metadata": {
    "collapsed": true
   },
   "outputs": [],
   "source": [
    "class TimesFiveCorrect(MyBaseClass):\n",
    "    \n",
    "    def __init__(self, value):\n",
    "        print('TimesFiveCorrect __init__')\n",
    "        super(TimesFiveCorrect, self).__init__(value)\n",
    "        self.value *= 5\n",
    "        \n",
    "class PlusTwoCorrect(MyBaseClass):\n",
    "    \n",
    "    def __init__(self, value):\n",
    "        print('PlusTwoCorrect __init__')\n",
    "        super(PlusTwoCorrect, self).__init__(value)\n",
    "        self.value += 2"
   ]
  },
  {
   "cell_type": "code",
   "execution_count": 31,
   "metadata": {
    "collapsed": true
   },
   "outputs": [],
   "source": [
    "class GoodWay(TimesFiveCorrect, PlusTwoCorrect):\n",
    "    \n",
    "    def __init__(self, value):\n",
    "        print('GoodWay __init__')\n",
    "        super(GoodWay, self).__init__(value)"
   ]
  },
  {
   "cell_type": "code",
   "execution_count": 32,
   "metadata": {
    "collapsed": false
   },
   "outputs": [
    {
     "name": "stdout",
     "output_type": "stream",
     "text": [
      "GoodWay __init__\n",
      "TimesFiveCorrect __init__\n",
      "PlusTwoCorrect __init__\n",
      "MyBaseClass __init__\n",
      "Should be 5 * (5+2) = 35 and is  35\n"
     ]
    }
   ],
   "source": [
    "foo = GoodWay(5)\n",
    "print(\"Should be 5 * (5+2) = 35 and is \", foo.value)"
   ]
  },
  {
   "cell_type": "markdown",
   "metadata": {},
   "source": [
    "To check the MRO for this class"
   ]
  },
  {
   "cell_type": "code",
   "execution_count": 27,
   "metadata": {
    "collapsed": true
   },
   "outputs": [],
   "source": [
    "from pprint import pprint"
   ]
  },
  {
   "cell_type": "markdown",
   "metadata": {},
   "source": [
    "This is the order the various classes are called"
   ]
  },
  {
   "cell_type": "code",
   "execution_count": 28,
   "metadata": {
    "collapsed": false
   },
   "outputs": [
    {
     "name": "stdout",
     "output_type": "stream",
     "text": [
      "[<class '__main__.GoodWay'>,\n",
      " <class '__main__.TimesFiveCorrect'>,\n",
      " <class '__main__.PlusTwoCorrect'>,\n",
      " <class '__main__.MyBaseClass'>,\n",
      " <class 'object'>]\n"
     ]
    }
   ],
   "source": [
    "pprint(GoodWay.mro())"
   ]
  },
  {
   "cell_type": "markdown",
   "metadata": {},
   "source": [
    "Then those classes do their work in the opposite order the __init__ were called"
   ]
  },
  {
   "cell_type": "markdown",
   "metadata": {},
   "source": [
    "### Super (python 3)"
   ]
  },
  {
   "cell_type": "code",
   "execution_count": 33,
   "metadata": {
    "collapsed": true
   },
   "outputs": [],
   "source": [
    "class Explicit(MyBaseClass):\n",
    "    \n",
    "    def __init__(self, value):\n",
    "        super(__class__, self).__init__(value * 2)"
   ]
  },
  {
   "cell_type": "code",
   "execution_count": 34,
   "metadata": {
    "collapsed": true
   },
   "outputs": [],
   "source": [
    "class Implicit(MyBaseClass):\n",
    "    \n",
    "    def __init__(self, value):\n",
    "        super().__init__(value * 2)"
   ]
  },
  {
   "cell_type": "code",
   "execution_count": null,
   "metadata": {
    "collapsed": true
   },
   "outputs": [],
   "source": []
  }
 ],
 "metadata": {
  "kernelspec": {
   "display_name": "Python 3",
   "language": "python",
   "name": "python3"
  },
  "language_info": {
   "codemirror_mode": {
    "name": "ipython",
    "version": 3
   },
   "file_extension": ".py",
   "mimetype": "text/x-python",
   "name": "python",
   "nbconvert_exporter": "python",
   "pygments_lexer": "ipython3",
   "version": "3.4.3"
  }
 },
 "nbformat": 4,
 "nbformat_minor": 0
}
