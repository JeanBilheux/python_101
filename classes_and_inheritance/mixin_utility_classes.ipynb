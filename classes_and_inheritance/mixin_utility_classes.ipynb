{
 "cells": [
  {
   "cell_type": "code",
   "execution_count": 47,
   "metadata": {
    "collapsed": true
   },
   "outputs": [],
   "source": [
    "from pprint import pprint"
   ]
  },
  {
   "cell_type": "markdown",
   "metadata": {},
   "source": [
    "If we think we need a class with multiple inheritance, we should consider writing a **mix-in** class instead. "
   ]
  },
  {
   "cell_type": "markdown",
   "metadata": {},
   "source": [
    "Defintion: a **mix-in** is a small class that only defines a set of additional methods that a class should provided. But **mix-in** classes **do not define their own instance attributes** and **do not require a __init__ constructor** to be called."
   ]
  },
  {
   "cell_type": "code",
   "execution_count": 79,
   "metadata": {
    "collapsed": true
   },
   "outputs": [],
   "source": [
    "class ToDictMixin(object):\n",
    "    \n",
    "    def to_dict(self):\n",
    "        print('Entering to_dict')\n",
    "        return self._traverse_dict(self.__dict__)\n",
    "    \n",
    "    def _traverse_dict(self, instance_dict):\n",
    "        print(\"-> Entering _traverse_dict with: \\n --> instance_dict: \")\n",
    "        pprint(instance_dict)\n",
    "        output = {}\n",
    "        for key, value in instance_dict.items():\n",
    "            print(\"key/value is {0}/{1}\".format(key, value))\n",
    "            output[key] = self._traverse(key, value)\n",
    "            print(\"\\n\")\n",
    "        return output\n",
    "\n",
    "    def _traverse(self, key, value):\n",
    "\n",
    "        # as long as the value is an instance of ToDictMixin, we keep looping\n",
    "        if isinstance(value, ToDictMixin):\n",
    "            print(\"----> isinstance(value, ToDictMixin)\")\n",
    "            return value.to_dict()\n",
    "        \n",
    "        # if the value is a simple dictionary\n",
    "        elif isinstance(value, dict):\n",
    "            print(\"----> isinstance(value, dict)\")\n",
    "            return self._traverse_dict(value)\n",
    "\n",
    "        elif isinstance(value, list):\n",
    "            print(\"----> isinstance(value, list)\")\n",
    "            return [self._traverse(key, i) for i in value]\n",
    "\n",
    "        elif hasattr(value, '__dict__'):\n",
    "            print(\"---> hasattr(value, '__dict__')\")\n",
    "            return self._traverse_dict(value.__dict__)\n",
    "\n",
    "        else:\n",
    "            print(\"----> else\")\n",
    "            return value"
   ]
  },
  {
   "cell_type": "code",
   "execution_count": 80,
   "metadata": {
    "collapsed": true
   },
   "outputs": [],
   "source": [
    "class BinaryTree(ToDictMixin):\n",
    "    \n",
    "    def __init__(self, value, left=None, right=None):\n",
    "        self.value = value\n",
    "        self.right = right\n",
    "        self.left = left"
   ]
  },
  {
   "cell_type": "code",
   "execution_count": 81,
   "metadata": {
    "collapsed": false
   },
   "outputs": [
    {
     "name": "stdout",
     "output_type": "stream",
     "text": [
      "<class '__main__.BinaryTree'>\n"
     ]
    }
   ],
   "source": [
    "tree = BinaryTree(10, left=BinaryTree(7, right=BinaryTree(9)), right=BinaryTree(13, left=BinaryTree(11)))\n",
    "print(type(tree))"
   ]
  },
  {
   "cell_type": "markdown",
   "metadata": {},
   "source": [
    "### Trying to understand the various calls in ToDictMixin"
   ]
  },
  {
   "cell_type": "code",
   "execution_count": 63,
   "metadata": {
    "collapsed": false
   },
   "outputs": [
    {
     "name": "stdout",
     "output_type": "stream",
     "text": [
      "{'value': 10, 'left': <__main__.BinaryTree object at 0x1098f63c8>, 'right': <__main__.BinaryTree object at 0x1098f6438>}\n"
     ]
    }
   ],
   "source": [
    "print(tree.__dict__)"
   ]
  },
  {
   "cell_type": "code",
   "execution_count": 64,
   "metadata": {
    "collapsed": false
   },
   "outputs": [
    {
     "name": "stdout",
     "output_type": "stream",
     "text": [
      "{'value': 7, 'left': None, 'right': <__main__.BinaryTree object at 0x1098f6390>}\n"
     ]
    }
   ],
   "source": [
    "print(tree.left.__dict__)"
   ]
  },
  {
   "cell_type": "markdown",
   "metadata": {},
   "source": [
    "tree is a instance of **ToDictMixin** but also **BinaryTree**"
   ]
  },
  {
   "cell_type": "code",
   "execution_count": 73,
   "metadata": {
    "collapsed": false
   },
   "outputs": [
    {
     "data": {
      "text/plain": [
       "True"
      ]
     },
     "execution_count": 73,
     "metadata": {},
     "output_type": "execute_result"
    }
   ],
   "source": [
    "isinstance(tree, ToDictMixin)"
   ]
  },
  {
   "cell_type": "code",
   "execution_count": 75,
   "metadata": {
    "collapsed": false
   },
   "outputs": [
    {
     "data": {
      "text/plain": [
       "True"
      ]
     },
     "execution_count": 75,
     "metadata": {},
     "output_type": "execute_result"
    }
   ],
   "source": [
    "isinstance(tree, BinaryTree)"
   ]
  },
  {
   "cell_type": "code",
   "execution_count": 65,
   "metadata": {
    "collapsed": false
   },
   "outputs": [
    {
     "data": {
      "text/plain": [
       "True"
      ]
     },
     "execution_count": 65,
     "metadata": {},
     "output_type": "execute_result"
    }
   ],
   "source": [
    "hasattr(tree, '__dict__')"
   ]
  },
  {
   "cell_type": "markdown",
   "metadata": {},
   "source": [
    "type of a **dictionary**"
   ]
  },
  {
   "cell_type": "code",
   "execution_count": 78,
   "metadata": {
    "collapsed": false
   },
   "outputs": [
    {
     "name": "stdout",
     "output_type": "stream",
     "text": [
      "<class 'dict'>\n"
     ]
    }
   ],
   "source": [
    "a = {'ma': 10, 'ba': 20}\n",
    "print(type(a))"
   ]
  },
  {
   "cell_type": "code",
   "execution_count": 77,
   "metadata": {
    "collapsed": false
   },
   "outputs": [
    {
     "data": {
      "text/plain": [
       "True"
      ]
     },
     "execution_count": 77,
     "metadata": {},
     "output_type": "execute_result"
    }
   ],
   "source": [
    "isinstance(a, dict)"
   ]
  },
  {
   "cell_type": "markdown",
   "metadata": {},
   "source": [
    "### Running the script"
   ]
  },
  {
   "cell_type": "code",
   "execution_count": 82,
   "metadata": {
    "collapsed": false
   },
   "outputs": [
    {
     "name": "stdout",
     "output_type": "stream",
     "text": [
      "Entering to_dict\n",
      "-> Entering _traverse_dict with: \n",
      " --> instance_dict: \n",
      "{'left': <__main__.BinaryTree object at 0x1098fb7b8>,\n",
      " 'right': <__main__.BinaryTree object at 0x1098fb828>,\n",
      " 'value': 10}\n",
      "key/value is value/10\n",
      "----> else\n",
      "\n",
      "\n",
      "key/value is left/<__main__.BinaryTree object at 0x1098fb7b8>\n",
      "----> isinstance(value, ToDictMixin)\n",
      "Entering to_dict\n",
      "-> Entering _traverse_dict with: \n",
      " --> instance_dict: \n",
      "{'left': None,\n",
      " 'right': <__main__.BinaryTree object at 0x1098fb780>,\n",
      " 'value': 7}\n",
      "key/value is value/7\n",
      "----> else\n",
      "\n",
      "\n",
      "key/value is left/None\n",
      "----> else\n",
      "\n",
      "\n",
      "key/value is right/<__main__.BinaryTree object at 0x1098fb780>\n",
      "----> isinstance(value, ToDictMixin)\n",
      "Entering to_dict\n",
      "-> Entering _traverse_dict with: \n",
      " --> instance_dict: \n",
      "{'left': None, 'right': None, 'value': 9}\n",
      "key/value is value/9\n",
      "----> else\n",
      "\n",
      "\n",
      "key/value is left/None\n",
      "----> else\n",
      "\n",
      "\n",
      "key/value is right/None\n",
      "----> else\n",
      "\n",
      "\n",
      "\n",
      "\n",
      "\n",
      "\n",
      "key/value is right/<__main__.BinaryTree object at 0x1098fb828>\n",
      "----> isinstance(value, ToDictMixin)\n",
      "Entering to_dict\n",
      "-> Entering _traverse_dict with: \n",
      " --> instance_dict: \n",
      "{'left': <__main__.BinaryTree object at 0x1098fb7f0>,\n",
      " 'right': None,\n",
      " 'value': 13}\n",
      "key/value is value/13\n",
      "----> else\n",
      "\n",
      "\n",
      "key/value is left/<__main__.BinaryTree object at 0x1098fb7f0>\n",
      "----> isinstance(value, ToDictMixin)\n",
      "Entering to_dict\n",
      "-> Entering _traverse_dict with: \n",
      " --> instance_dict: \n",
      "{'left': None, 'right': None, 'value': 11}\n",
      "key/value is value/11\n",
      "----> else\n",
      "\n",
      "\n",
      "key/value is left/None\n",
      "----> else\n",
      "\n",
      "\n",
      "key/value is right/None\n",
      "----> else\n",
      "\n",
      "\n",
      "\n",
      "\n",
      "key/value is right/None\n",
      "----> else\n",
      "\n",
      "\n",
      "\n",
      "\n",
      "{'left': {'left': None,\n",
      "          'right': {'left': None, 'right': None, 'value': 9},\n",
      "          'value': 7},\n",
      " 'right': {'left': {'left': None, 'right': None, 'value': 11},\n",
      "           'right': None,\n",
      "           'value': 13},\n",
      " 'value': 10}\n"
     ]
    }
   ],
   "source": [
    "pprint(tree.to_dict())"
   ]
  },
  {
   "cell_type": "markdown",
   "metadata": {
    "collapsed": true
   },
   "source": [
    "### mix-in routine can be overridden"
   ]
  },
  {
   "cell_type": "code",
   "execution_count": 84,
   "metadata": {
    "collapsed": true
   },
   "outputs": [],
   "source": [
    "class BinaryTree(ToDictMixin):\n",
    "    \n",
    "    def __init__(self, value, left=None, right=None):\n",
    "        self.value = value\n",
    "        self.right = right\n",
    "        self.left = left\n",
    "        \n",
    "class BinaryTreeWithParent(BinaryTree):\n",
    "    \n",
    "    def __init__(self, value, left=None, right=None, parent=None):\n",
    "        super().__init__(value, left=left, right=right)\n",
    "        self.parent = parent\n",
    "        \n",
    "    def _traverse(self, key, value):\n",
    "        if (isinstance(value, BinaryTreeWithParent) and key == 'parent'):\n",
    "            return value.value\n",
    "        else:\n",
    "            return super()._traverse(key, value)"
   ]
  },
  {
   "cell_type": "code",
   "execution_count": 87,
   "metadata": {
    "collapsed": false
   },
   "outputs": [
    {
     "name": "stdout",
     "output_type": "stream",
     "text": [
      "Entering to_dict\n",
      "-> Entering _traverse_dict with: \n",
      " --> instance_dict: \n",
      "{'left': <__main__.BinaryTreeWithParent object at 0x10850ae10>,\n",
      " 'parent': None,\n",
      " 'right': None,\n",
      " 'value': 10}\n",
      "key/value is value/10\n",
      "----> else\n",
      "\n",
      "\n",
      "key/value is left/<__main__.BinaryTreeWithParent object at 0x10850ae10>\n",
      "----> isinstance(value, ToDictMixin)\n",
      "Entering to_dict\n",
      "-> Entering _traverse_dict with: \n",
      " --> instance_dict: \n",
      "{'left': None,\n",
      " 'parent': <__main__.BinaryTreeWithParent object at 0x1085170b8>,\n",
      " 'right': <__main__.BinaryTreeWithParent object at 0x108517390>,\n",
      " 'value': 7}\n",
      "key/value is value/7\n",
      "----> else\n",
      "\n",
      "\n",
      "key/value is left/None\n",
      "----> else\n",
      "\n",
      "\n",
      "key/value is right/<__main__.BinaryTreeWithParent object at 0x108517390>\n",
      "----> isinstance(value, ToDictMixin)\n",
      "Entering to_dict\n",
      "-> Entering _traverse_dict with: \n",
      " --> instance_dict: \n",
      "{'left': None,\n",
      " 'parent': <__main__.BinaryTreeWithParent object at 0x10850ae10>,\n",
      " 'right': None,\n",
      " 'value': 9}\n",
      "key/value is value/9\n",
      "----> else\n",
      "\n",
      "\n",
      "key/value is left/None\n",
      "----> else\n",
      "\n",
      "\n",
      "key/value is right/None\n",
      "----> else\n",
      "\n",
      "\n",
      "key/value is parent/<__main__.BinaryTreeWithParent object at 0x10850ae10>\n",
      "\n",
      "\n",
      "\n",
      "\n",
      "key/value is parent/<__main__.BinaryTreeWithParent object at 0x1085170b8>\n",
      "\n",
      "\n",
      "\n",
      "\n",
      "key/value is right/None\n",
      "----> else\n",
      "\n",
      "\n",
      "key/value is parent/None\n",
      "----> else\n",
      "\n",
      "\n",
      "{'right': None, 'value': 10, 'left': {'right': {'right': None, 'value': 9, 'left': None, 'parent': 7}, 'value': 7, 'left': None, 'parent': 10}, 'parent': None}\n"
     ]
    }
   ],
   "source": [
    "root = BinaryTreeWithParent(10)\n",
    "root.left = BinaryTreeWithParent(7, parent=root)\n",
    "root.left.right = BinaryTreeWithParent(9, parent=root.left)\n",
    "print(root.to_dict())"
   ]
  },
  {
   "cell_type": "code",
   "execution_count": null,
   "metadata": {
    "collapsed": true
   },
   "outputs": [],
   "source": []
  }
 ],
 "metadata": {
  "kernelspec": {
   "display_name": "Python 3",
   "language": "python",
   "name": "python3"
  },
  "language_info": {
   "codemirror_mode": {
    "name": "ipython",
    "version": 3
   },
   "file_extension": ".py",
   "mimetype": "text/x-python",
   "name": "python",
   "nbconvert_exporter": "python",
   "pygments_lexer": "ipython3",
   "version": "3.4.3"
  }
 },
 "nbformat": 4,
 "nbformat_minor": 0
}
