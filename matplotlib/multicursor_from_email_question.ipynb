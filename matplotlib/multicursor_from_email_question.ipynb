{
 "cells": [
  {
   "cell_type": "code",
   "execution_count": 1,
   "metadata": {
    "collapsed": true
   },
   "outputs": [],
   "source": [
    "from matplotlib import pyplot as pl\n",
    "from matplotlib.widgets import MultiCursor\n",
    "from matplotlib import gridspec\n",
    "import numpy as np"
   ]
  },
  {
   "cell_type": "code",
   "execution_count": 5,
   "metadata": {
    "collapsed": true
   },
   "outputs": [],
   "source": [
    "fig = pl.gcf()\n",
    "gs = gridspec.GridSpec(2,2)\n",
    "\n",
    "ax = None\n",
    "for g in gs:\n",
    "    ax = pl.subplot(g, sharex=ax)\n",
    "\n",
    "#multi = MultiCursor(fig.canvas, tuple(fig.axes),\n",
    "#                    useblit=True, horizOn=True, color='k', lw=1)\n",
    "\n",
    "pl.draw()\n",
    "pl.show()"
   ]
  },
  {
   "cell_type": "code",
   "execution_count": 3,
   "metadata": {
    "collapsed": true
   },
   "outputs": [],
   "source": [
    "x = np.arange(50,55,0.01)\n",
    "y1 = np.sin(x)\n",
    "y2 = np.cos(x) + 4\n",
    "y3 = 0.2*np.cos(x) - 4\n",
    "y4 = np.cos(2*x) - 1\n",
    "\n",
    "for ax,y in zip(fig.axes, [y1,y2,y3,y4]):\n",
    "    ax.plot(x,y)\n",
    "\n",
    "for ax in fig.axes:\n",
    "    ax.grid()\n",
    "\n",
    "#multi = MultiCursor(fig.canvas, tuple(fig.axes),\n",
    "#                    useblit=True, horizOn=True, color='k', lw=1)\n",
    "\n",
    "pl.draw()\n",
    "pl.show()"
   ]
  },
  {
   "cell_type": "code",
   "execution_count": null,
   "metadata": {
    "collapsed": true
   },
   "outputs": [],
   "source": []
  }
 ],
 "metadata": {
  "kernelspec": {
   "display_name": "Python 3",
   "language": "python",
   "name": "python3"
  },
  "language_info": {
   "codemirror_mode": {
    "name": "ipython",
    "version": 3
   },
   "file_extension": ".py",
   "mimetype": "text/x-python",
   "name": "python",
   "nbconvert_exporter": "python",
   "pygments_lexer": "ipython3",
   "version": "3.4.4"
  }
 },
 "nbformat": 4,
 "nbformat_minor": 0
}
