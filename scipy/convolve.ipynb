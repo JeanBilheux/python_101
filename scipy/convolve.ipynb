{
 "cells": [
  {
   "cell_type": "code",
   "execution_count": 49,
   "metadata": {},
   "outputs": [],
   "source": [
    "import numpy as np\n",
    "import scipy.ndimage\n",
    "import scipy.signal"
   ]
  },
  {
   "cell_type": "code",
   "execution_count": 50,
   "metadata": {},
   "outputs": [],
   "source": [
    "test_data = np.array([[1, 10, 11], [9, 2, 1], [1, 30, 15]])\n",
    "kernel = np.ones((2, 2))/4"
   ]
  },
  {
   "cell_type": "markdown",
   "metadata": {},
   "source": [
    "https://www.allaboutcircuits.com/technical-articles/two-dimensional-convolution-in-image-processing/"
   ]
  },
  {
   "cell_type": "markdown",
   "metadata": {},
   "source": [
    "# convolve with ndimage"
   ]
  },
  {
   "cell_type": "code",
   "execution_count": 48,
   "metadata": {},
   "outputs": [
    {
     "name": "stdout",
     "output_type": "stream",
     "text": [
      "[[ 5  6  6]\n",
      " [10 12  8]\n",
      " [15 22 15]]\n"
     ]
    }
   ],
   "source": [
    "output_array = scipy.ndimage.convolve(test_data, kernel, mode='reflect')\n",
    "print(output_array)"
   ]
  },
  {
   "cell_type": "code",
   "execution_count": 46,
   "metadata": {},
   "outputs": [
    {
     "name": "stdout",
     "output_type": "stream",
     "text": [
      "[[ 5  6  3]\n",
      " [10 12  4]\n",
      " [ 7 11  3]]\n"
     ]
    }
   ],
   "source": [
    "output_array = scipy.ndimage.convolve(test_data, kernel, mode='constant', cval=0)\n",
    "print(output_array)"
   ]
  },
  {
   "cell_type": "code",
   "execution_count": 40,
   "metadata": {},
   "outputs": [
    {
     "name": "stdout",
     "output_type": "stream",
     "text": [
      "[[ 5  6  6]\n",
      " [10 12  8]\n",
      " [15 22 15]]\n"
     ]
    }
   ],
   "source": [
    "output_array = scipy.ndimage.convolve(test_data, kernel, mode='nearest')\n",
    "print(output_array)"
   ]
  },
  {
   "cell_type": "code",
   "execution_count": 41,
   "metadata": {},
   "outputs": [
    {
     "name": "stdout",
     "output_type": "stream",
     "text": [
      "[[ 5  6  6]\n",
      " [10 12 12]\n",
      " [10 12 12]]\n"
     ]
    }
   ],
   "source": [
    "output_array = scipy.ndimage.convolve(test_data, kernel, mode='mirror')\n",
    "print(output_array)"
   ]
  },
  {
   "cell_type": "code",
   "execution_count": 42,
   "metadata": {},
   "outputs": [
    {
     "name": "stdout",
     "output_type": "stream",
     "text": [
      "[[ 5  6  5]\n",
      " [10 12  6]\n",
      " [10 16  7]]\n"
     ]
    }
   ],
   "source": [
    "output_array = scipy.ndimage.convolve(test_data, kernel, mode='wrap')\n",
    "print(output_array)"
   ]
  },
  {
   "cell_type": "markdown",
   "metadata": {},
   "source": [
    "# convolve with signal"
   ]
  },
  {
   "cell_type": "code",
   "execution_count": 76,
   "metadata": {},
   "outputs": [],
   "source": [
    "kernel = np.ones((2, 2))/4"
   ]
  },
  {
   "cell_type": "code",
   "execution_count": 77,
   "metadata": {
    "scrolled": true
   },
   "outputs": [
    {
     "name": "stdout",
     "output_type": "stream",
     "text": [
      "[[ 0.25  2.75  5.25]\n",
      " [ 2.5   5.5   6.  ]\n",
      " [ 2.5  10.5  12.  ]]\n"
     ]
    }
   ],
   "source": [
    "output_array = scipy.signal.convolve2d(test_data, kernel, mode='same', boundary='fill', fillvalue=0)\n",
    "print(output_array)"
   ]
  },
  {
   "cell_type": "code",
   "execution_count": 78,
   "metadata": {},
   "outputs": [
    {
     "name": "stdout",
     "output_type": "stream",
     "text": [
      "[[ 7.  10.5 16.5]\n",
      " [ 5.5  5.5  6. ]\n",
      " [ 6.5 10.5 12. ]]\n"
     ]
    }
   ],
   "source": [
    "output_array = scipy.signal.convolve2d(test_data, kernel, mode='same', boundary='wrap')\n",
    "print(output_array)"
   ]
  },
  {
   "cell_type": "code",
   "execution_count": 79,
   "metadata": {},
   "outputs": [
    {
     "name": "stdout",
     "output_type": "stream",
     "text": [
      "[[ 1.   5.5 10.5]\n",
      " [ 5.   5.5  6. ]\n",
      " [ 5.  10.5 12. ]]\n"
     ]
    }
   ],
   "source": [
    "output_array = scipy.signal.convolve2d(test_data, kernel, mode='same', boundary='symm')\n",
    "print(output_array)"
   ]
  },
  {
   "cell_type": "code",
   "execution_count": 8,
   "metadata": {},
   "outputs": [],
   "source": [
    "# gaussian_filter"
   ]
  },
  {
   "cell_type": "code",
   "execution_count": null,
   "metadata": {},
   "outputs": [],
   "source": []
  }
 ],
 "metadata": {
  "kernelspec": {
   "display_name": "Python 3",
   "language": "python",
   "name": "python3"
  },
  "language_info": {
   "codemirror_mode": {
    "name": "ipython",
    "version": 3
   },
   "file_extension": ".py",
   "mimetype": "text/x-python",
   "name": "python",
   "nbconvert_exporter": "python",
   "pygments_lexer": "ipython3",
   "version": "3.6.10"
  }
 },
 "nbformat": 4,
 "nbformat_minor": 4
}
