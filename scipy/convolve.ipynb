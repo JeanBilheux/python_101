{
 "cells": [
  {
   "cell_type": "code",
   "execution_count": 49,
   "metadata": {},
   "outputs": [],
   "source": [
    "import numpy as np\n",
    "import scipy.ndimage\n",
    "import scipy.signal"
   ]
  },
  {
   "cell_type": "code",
   "execution_count": 94,
   "metadata": {},
   "outputs": [],
   "source": [
    "test_data = np.array([[1, 10, 11], [9, 2, 1], [1, 30, 15],[20, 2, 3]])\n",
    "kernel = np.ones((3, 3))/9"
   ]
  },
  {
   "cell_type": "markdown",
   "metadata": {},
   "source": [
    "https://www.allaboutcircuits.com/technical-articles/two-dimensional-convolution-in-image-processing/"
   ]
  },
  {
   "cell_type": "markdown",
   "metadata": {},
   "source": [
    "# convolve with ndimage"
   ]
  },
  {
   "cell_type": "code",
   "execution_count": 95,
   "metadata": {},
   "outputs": [
    {
     "name": "stdout",
     "output_type": "stream",
     "text": [
      "[[ 4  6  7]\n",
      " [ 7  8 10]\n",
      " [10  9  7]\n",
      " [12 10  8]]\n"
     ]
    }
   ],
   "source": [
    "output_array = scipy.ndimage.convolve(test_data, kernel, mode='reflect')\n",
    "print(output_array)"
   ]
  },
  {
   "cell_type": "code",
   "execution_count": 96,
   "metadata": {},
   "outputs": [
    {
     "name": "stdout",
     "output_type": "stream",
     "text": [
      "[[2 3 2]\n",
      " [5 8 7]\n",
      " [7 9 5]\n",
      " [5 7 5]]\n"
     ]
    }
   ],
   "source": [
    "output_array = scipy.ndimage.convolve(test_data, kernel, mode='constant', cval=0)\n",
    "print(output_array)"
   ]
  },
  {
   "cell_type": "code",
   "execution_count": 97,
   "metadata": {},
   "outputs": [
    {
     "name": "stdout",
     "output_type": "stream",
     "text": [
      "[[ 4  6  7]\n",
      " [ 7  8 10]\n",
      " [10  9  7]\n",
      " [12 10  8]]\n"
     ]
    }
   ],
   "source": [
    "output_array = scipy.ndimage.convolve(test_data, kernel, mode='nearest')\n",
    "print(output_array)"
   ]
  },
  {
   "cell_type": "code",
   "execution_count": 98,
   "metadata": {},
   "outputs": [
    {
     "name": "stdout",
     "output_type": "stream",
     "text": [
      "[[ 5  5  4]\n",
      " [10  8 12]\n",
      " [10  9  9]\n",
      " [16 12 17]]\n"
     ]
    }
   ],
   "source": [
    "output_array = scipy.ndimage.convolve(test_data, kernel, mode='mirror')\n",
    "print(output_array)"
   ]
  },
  {
   "cell_type": "code",
   "execution_count": 99,
   "metadata": {},
   "outputs": [
    {
     "name": "stdout",
     "output_type": "stream",
     "text": [
      "[[ 6  6  6]\n",
      " [ 8  8  8]\n",
      " [ 9  9  9]\n",
      " [10 10 10]]\n"
     ]
    }
   ],
   "source": [
    "output_array = scipy.ndimage.convolve(test_data, kernel, mode='wrap')\n",
    "print(output_array)"
   ]
  },
  {
   "cell_type": "markdown",
   "metadata": {},
   "source": [
    "# convolve with signal"
   ]
  },
  {
   "cell_type": "code",
   "execution_count": 100,
   "metadata": {},
   "outputs": [],
   "source": [
    "kernel = np.ones((3, 3))/9"
   ]
  },
  {
   "cell_type": "code",
   "execution_count": 101,
   "metadata": {
    "scrolled": true
   },
   "outputs": [
    {
     "name": "stdout",
     "output_type": "stream",
     "text": [
      "[[2.44444444 3.77777778 2.66666667]\n",
      " [5.88888889 8.88888889 7.66666667]\n",
      " [7.11111111 9.22222222 5.88888889]\n",
      " [5.88888889 7.88888889 5.55555556]]\n"
     ]
    }
   ],
   "source": [
    "output_array = scipy.signal.convolve2d(test_data, kernel, mode='same', boundary='fill', fillvalue=0)\n",
    "print(output_array)"
   ]
  },
  {
   "cell_type": "code",
   "execution_count": 102,
   "metadata": {},
   "outputs": [
    {
     "name": "stdout",
     "output_type": "stream",
     "text": [
      "[[ 6.55555556  6.55555556  6.55555556]\n",
      " [ 8.88888889  8.88888889  8.88888889]\n",
      " [ 9.22222222  9.22222222  9.22222222]\n",
      " [10.33333333 10.33333333 10.33333333]]\n"
     ]
    }
   ],
   "source": [
    "output_array = scipy.signal.convolve2d(test_data, kernel, mode='same', boundary='wrap')\n",
    "print(output_array)"
   ]
  },
  {
   "cell_type": "code",
   "execution_count": 103,
   "metadata": {},
   "outputs": [
    {
     "name": "stdout",
     "output_type": "stream",
     "text": [
      "[[ 4.88888889  6.22222222  7.55555556]\n",
      " [ 7.11111111  8.88888889 10.66666667]\n",
      " [10.44444444  9.22222222  8.        ]\n",
      " [12.88888889 10.66666667  8.44444444]]\n"
     ]
    }
   ],
   "source": [
    "output_array = scipy.signal.convolve2d(test_data, kernel, mode='same', boundary='symm')\n",
    "print(output_array)"
   ]
  },
  {
   "cell_type": "code",
   "execution_count": 104,
   "metadata": {},
   "outputs": [],
   "source": [
    "# gaussian_filter"
   ]
  },
  {
   "cell_type": "code",
   "execution_count": null,
   "metadata": {},
   "outputs": [],
   "source": []
  }
 ],
 "metadata": {
  "kernelspec": {
   "display_name": "Python 3",
   "language": "python",
   "name": "python3"
  },
  "language_info": {
   "codemirror_mode": {
    "name": "ipython",
    "version": 3
   },
   "file_extension": ".py",
   "mimetype": "text/x-python",
   "name": "python",
   "nbconvert_exporter": "python",
   "pygments_lexer": "ipython3",
   "version": "3.6.10"
  }
 },
 "nbformat": 4,
 "nbformat_minor": 4
}
