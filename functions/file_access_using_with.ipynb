{
 "cells": [
  {
   "cell_type": "code",
   "execution_count": 1,
   "metadata": {
    "collapsed": true
   },
   "outputs": [],
   "source": [
    "file = 'data/my_numbers.txt'"
   ]
  },
  {
   "cell_type": "code",
   "execution_count": 2,
   "metadata": {
    "collapsed": false
   },
   "outputs": [
    {
     "name": "stdout",
     "output_type": "stream",
     "text": [
      "10\n",
      "\n",
      "20\n",
      "\n",
      "30\n",
      "\n",
      "30\n",
      "\n",
      "34\n",
      "\n",
      "56\n",
      "\n",
      "45\n",
      "\n",
      "67\n",
      "\n",
      "78\n",
      "\n",
      "98\n",
      "\n",
      "68\n",
      "\n",
      "57\n",
      "\n",
      "46\n",
      "\n",
      "45\n",
      "\n",
      "45\n",
      "\n",
      "56\n",
      "\n",
      "75\n",
      "\n",
      "68\n",
      "\n",
      "787\n",
      "\n",
      "9\n",
      "\n",
      "78\n",
      "\n",
      "67\n",
      "\n",
      "56\n",
      "\n",
      "5\n",
      "\n"
     ]
    }
   ],
   "source": [
    "with open(file, 'r') as f:\n",
    "    for line in f:\n",
    "        print(line)"
   ]
  },
  {
   "cell_type": "code",
   "execution_count": null,
   "metadata": {
    "collapsed": true
   },
   "outputs": [],
   "source": []
  }
 ],
 "metadata": {
  "kernelspec": {
   "display_name": "Python 3",
   "language": "python",
   "name": "python3"
  },
  "language_info": {
   "codemirror_mode": {
    "name": "ipython",
    "version": 3
   },
   "file_extension": ".py",
   "mimetype": "text/x-python",
   "name": "python",
   "nbconvert_exporter": "python",
   "pygments_lexer": "ipython3",
   "version": "3.4.4"
  }
 },
 "nbformat": 4,
 "nbformat_minor": 0
}
