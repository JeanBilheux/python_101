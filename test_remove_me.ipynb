{
 "cells": [
  {
   "cell_type": "code",
   "execution_count": 2,
   "metadata": {},
   "outputs": [],
   "source": [
    "import os"
   ]
  },
  {
   "cell_type": "code",
   "execution_count": 10,
   "metadata": {},
   "outputs": [],
   "source": [
    "def create_output_directory(output_dir=None, subfolder=None, hfir_sans=True):\n",
    "    if output_dir is None:\n",
    "        return\n",
    "    \n",
    "    subfolder_array = [] if subfolder is None else subfolder\n",
    "    \n",
    "    if hfir_sans:\n",
    "        subfolder_array.extend(['1D', '2D'])\n",
    "    \n",
    "    if subfolder_array == []:\n",
    "        if not os.path.exists(output_dir):\n",
    "            os.makedirs(output_dir)\n",
    "    else:\n",
    "        for folder in subfolder_array:\n",
    "    \n",
    "            output_folder = os.path.join(output_dir, folder)\n",
    "            if not os.path.exists(output_folder):\n",
    "                os.makedirs(output_folder)"
   ]
  },
  {
   "cell_type": "code",
   "execution_count": 12,
   "metadata": {},
   "outputs": [],
   "source": [
    "create_output_directory(output_dir=\"/Users/j35/Desktop/\")"
   ]
  },
  {
   "cell_type": "code",
   "execution_count": null,
   "metadata": {},
   "outputs": [],
   "source": []
  }
 ],
 "metadata": {
  "kernelspec": {
   "display_name": "Python 3",
   "language": "python",
   "name": "python3"
  },
  "language_info": {
   "codemirror_mode": {
    "name": "ipython",
    "version": 3
   },
   "file_extension": ".py",
   "mimetype": "text/x-python",
   "name": "python",
   "nbconvert_exporter": "python",
   "pygments_lexer": "ipython3",
   "version": "3.6.9"
  }
 },
 "nbformat": 4,
 "nbformat_minor": 2
}
