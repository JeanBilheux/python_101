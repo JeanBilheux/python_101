{
 "cells": [
  {
   "cell_type": "markdown",
   "metadata": {},
   "source": [
    "### using traditional way"
   ]
  },
  {
   "cell_type": "code",
   "execution_count": 39,
   "metadata": {
    "collapsed": true
   },
   "outputs": [],
   "source": [
    "def normalize(numbers):\n",
    "    print('Entering normalize')\n",
    "    print('numbers: ')\n",
    "    print(numbers)\n",
    "    total = sum(numbers)\n",
    "    print('total is: ' , total)\n",
    "    result = []\n",
    "    for value in numbers:\n",
    "        print('value in loop is ', value)\n",
    "        percent = 100 * value / total\n",
    "        result.append(percent)\n",
    "    return result"
   ]
  },
  {
   "cell_type": "code",
   "execution_count": 6,
   "metadata": {
    "collapsed": true
   },
   "outputs": [],
   "source": [
    "from pprint import pprint"
   ]
  },
  {
   "cell_type": "code",
   "execution_count": 7,
   "metadata": {
    "collapsed": false
   },
   "outputs": [
    {
     "name": "stdout",
     "output_type": "stream",
     "text": [
      "[6.0, 13.6, 12.0, 12.0, 1.2, 40.0, 15.2]\n"
     ]
    }
   ],
   "source": [
    "visits = [15, 34, 30, 30, 3, 100, 38]\n",
    "percentage = normalize(visits)\n",
    "pprint(percentage)"
   ]
  },
  {
   "cell_type": "markdown",
   "metadata": {},
   "source": [
    "### using generators"
   ]
  },
  {
   "cell_type": "code",
   "execution_count": 9,
   "metadata": {
    "collapsed": false
   },
   "outputs": [],
   "source": [
    "import os"
   ]
  },
  {
   "cell_type": "code",
   "execution_count": 19,
   "metadata": {
    "collapsed": false
   },
   "outputs": [
    {
     "name": "stdout",
     "output_type": "stream",
     "text": [
      "True\n"
     ]
    }
   ],
   "source": [
    "file_path = 'data/my_numbers.txt'\n",
    "print(os.path.isfile(file_path))"
   ]
  },
  {
   "cell_type": "code",
   "execution_count": 32,
   "metadata": {
    "collapsed": true
   },
   "outputs": [],
   "source": [
    "def read_visits(data_path):\n",
    "    with open(file_path) as f:\n",
    "        for line in f:\n",
    "            line = line.rstrip()  #removing \\n from each line\n",
    "            yield int(line)\n",
    "            "
   ]
  },
  {
   "cell_type": "code",
   "execution_count": 40,
   "metadata": {
    "collapsed": false
   },
   "outputs": [
    {
     "name": "stdout",
     "output_type": "stream",
     "text": [
      "Entering normalize\n",
      "numbers: \n",
      "<generator object read_visits at 0x10541b480>\n",
      "10\n",
      "20\n",
      "30\n",
      "30\n",
      "34\n",
      "56\n",
      "45\n",
      "67\n",
      "78\n",
      "98\n",
      "68\n",
      "57\n",
      "46\n",
      "45\n",
      "45\n",
      "56\n",
      "75\n",
      "68\n",
      "787\n",
      "9\n",
      "78\n",
      "67\n",
      "56\n",
      "5\n",
      "total is:  1930\n"
     ]
    }
   ],
   "source": [
    "it = read_visits(file_path)\n",
    "percentage = normalize(it)"
   ]
  },
  {
   "cell_type": "code",
   "execution_count": 36,
   "metadata": {
    "collapsed": false
   },
   "outputs": [
    {
     "name": "stdout",
     "output_type": "stream",
     "text": [
      "[]\n"
     ]
    }
   ],
   "source": [
    "print(percentage)"
   ]
  },
  {
   "cell_type": "markdown",
   "metadata": {},
   "source": [
    "not working because as we are trying to access the iterator twice in the normalize function, the values are gone. Iterator only works one time."
   ]
  },
  {
   "cell_type": "markdown",
   "metadata": {},
   "source": [
    "An iterator or generator an only be accessed once"
   ]
  },
  {
   "cell_type": "code",
   "execution_count": 41,
   "metadata": {
    "collapsed": false
   },
   "outputs": [
    {
     "name": "stdout",
     "output_type": "stream",
     "text": [
      "10\n",
      "20\n",
      "30\n",
      "30\n",
      "34\n",
      "56\n",
      "45\n",
      "67\n",
      "78\n",
      "98\n",
      "68\n",
      "57\n",
      "46\n",
      "45\n",
      "45\n",
      "56\n",
      "75\n",
      "68\n",
      "787\n",
      "9\n",
      "78\n",
      "67\n",
      "56\n",
      "5\n",
      "[10, 20, 30, 30, 34, 56, 45, 67, 78, 98, 68, 57, 46, 45, 45, 56, 75, 68, 787, 9, 78, 67, 56, 5]\n"
     ]
    }
   ],
   "source": [
    "it = read_visits(file_path)\n",
    "print(list(it))"
   ]
  },
  {
   "cell_type": "code",
   "execution_count": 43,
   "metadata": {
    "collapsed": false
   },
   "outputs": [
    {
     "name": "stdout",
     "output_type": "stream",
     "text": [
      "[]\n"
     ]
    }
   ],
   "source": [
    "print(list(it))"
   ]
  },
  {
   "cell_type": "code",
   "execution_count": null,
   "metadata": {
    "collapsed": true
   },
   "outputs": [],
   "source": []
  }
 ],
 "metadata": {
  "kernelspec": {
   "display_name": "Python 3",
   "language": "python",
   "name": "python3"
  },
  "language_info": {
   "codemirror_mode": {
    "name": "ipython",
    "version": 3
   },
   "file_extension": ".py",
   "mimetype": "text/x-python",
   "name": "python",
   "nbconvert_exporter": "python",
   "pygments_lexer": "ipython3",
   "version": "3.4.3"
  }
 },
 "nbformat": 4,
 "nbformat_minor": 0
}
