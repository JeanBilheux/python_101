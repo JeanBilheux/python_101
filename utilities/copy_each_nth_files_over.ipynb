{
 "cells": [
  {
   "cell_type": "code",
   "execution_count": 2,
   "metadata": {},
   "outputs": [],
   "source": [
    "import os\n",
    "import glob\n",
    "import numpy as np\n",
    "import shutil"
   ]
  },
  {
   "cell_type": "code",
   "execution_count": 22,
   "metadata": {},
   "outputs": [],
   "source": [
    "#input_folder = \"/Volumes/G-DRIVE/Pictures/Masters/2020/December/TimeLapseRayanDesk/20201213-170033//\"\n",
    "# input_folder = \"/Volumes/G-DRIVE/Pictures/Masters/2020/December/TimeLapseRayanDesk/20201213-173510/\"\n",
    "input_folder = \"/Volumes/G-DRIVE/Pictures/Masters/2020/December/TimeLapseRayanDesk/20201213-175334/\"\n",
    "assert os.path.exists(input_folder)"
   ]
  },
  {
   "cell_type": "code",
   "execution_count": 23,
   "metadata": {},
   "outputs": [
    {
     "name": "stdout",
     "output_type": "stream",
     "text": [
      "Found 7533 files\n"
     ]
    }
   ],
   "source": [
    "list_files = glob.glob(input_folder + \"*.JPG\")\n",
    "nbr_files = len(list_files)\n",
    "print(f\"Found {nbr_files} files\")"
   ]
  },
  {
   "cell_type": "code",
   "execution_count": 24,
   "metadata": {},
   "outputs": [],
   "source": [
    "current_time_lapse_interval = 0.5   # 's'\n",
    "new_time_lapse_interval = 30.       # 's'\n",
    "nbr_images_to_skip = np.int(new_time_lapse_interval / current_time_lapse_interval)"
   ]
  },
  {
   "cell_type": "code",
   "execution_count": 25,
   "metadata": {},
   "outputs": [],
   "source": [
    "list_images_index_to_copy = np.arange(0, nbr_files, nbr_images_to_skip)"
   ]
  },
  {
   "cell_type": "code",
   "execution_count": 26,
   "metadata": {},
   "outputs": [],
   "source": [
    "output_folder = \"/Volumes/G-DRIVE/Pictures/Masters/2020/December/TimeLapseRayanDesk/full_new_set/\"\n",
    "assert os.path.exists(output_folder)"
   ]
  },
  {
   "cell_type": "code",
   "execution_count": 27,
   "metadata": {},
   "outputs": [
    {
     "name": "stdout",
     "output_type": "stream",
     "text": [
      "/Volumes/G-DRIVE/Pictures/Masters/2020/December/TimeLapseRayanDesk/20201213-175334/G0042670.JPG -> /Volumes/G-DRIVE/Pictures/Masters/2020/December/TimeLapseRayanDesk/full_new_set/image_414.JPG\n",
      "/Volumes/G-DRIVE/Pictures/Masters/2020/December/TimeLapseRayanDesk/20201213-175334/G0042730.JPG -> /Volumes/G-DRIVE/Pictures/Masters/2020/December/TimeLapseRayanDesk/full_new_set/image_415.JPG\n",
      "/Volumes/G-DRIVE/Pictures/Masters/2020/December/TimeLapseRayanDesk/20201213-175334/G0042790.JPG -> /Volumes/G-DRIVE/Pictures/Masters/2020/December/TimeLapseRayanDesk/full_new_set/image_416.JPG\n",
      "/Volumes/G-DRIVE/Pictures/Masters/2020/December/TimeLapseRayanDesk/20201213-175334/G0042850.JPG -> /Volumes/G-DRIVE/Pictures/Masters/2020/December/TimeLapseRayanDesk/full_new_set/image_417.JPG\n",
      "/Volumes/G-DRIVE/Pictures/Masters/2020/December/TimeLapseRayanDesk/20201213-175334/G0042910.JPG -> /Volumes/G-DRIVE/Pictures/Masters/2020/December/TimeLapseRayanDesk/full_new_set/image_418.JPG\n",
      "/Volumes/G-DRIVE/Pictures/Masters/2020/December/TimeLapseRayanDesk/20201213-175334/G0042970.JPG -> /Volumes/G-DRIVE/Pictures/Masters/2020/December/TimeLapseRayanDesk/full_new_set/image_419.JPG\n",
      "/Volumes/G-DRIVE/Pictures/Masters/2020/December/TimeLapseRayanDesk/20201213-175334/G0043030.JPG -> /Volumes/G-DRIVE/Pictures/Masters/2020/December/TimeLapseRayanDesk/full_new_set/image_420.JPG\n",
      "/Volumes/G-DRIVE/Pictures/Masters/2020/December/TimeLapseRayanDesk/20201213-175334/G0043090.JPG -> /Volumes/G-DRIVE/Pictures/Masters/2020/December/TimeLapseRayanDesk/full_new_set/image_421.JPG\n",
      "/Volumes/G-DRIVE/Pictures/Masters/2020/December/TimeLapseRayanDesk/20201213-175334/G0043150.JPG -> /Volumes/G-DRIVE/Pictures/Masters/2020/December/TimeLapseRayanDesk/full_new_set/image_422.JPG\n",
      "/Volumes/G-DRIVE/Pictures/Masters/2020/December/TimeLapseRayanDesk/20201213-175334/G0043210.JPG -> /Volumes/G-DRIVE/Pictures/Masters/2020/December/TimeLapseRayanDesk/full_new_set/image_423.JPG\n",
      "/Volumes/G-DRIVE/Pictures/Masters/2020/December/TimeLapseRayanDesk/20201213-175334/G0043270.JPG -> /Volumes/G-DRIVE/Pictures/Masters/2020/December/TimeLapseRayanDesk/full_new_set/image_424.JPG\n",
      "/Volumes/G-DRIVE/Pictures/Masters/2020/December/TimeLapseRayanDesk/20201213-175334/G0043330.JPG -> /Volumes/G-DRIVE/Pictures/Masters/2020/December/TimeLapseRayanDesk/full_new_set/image_425.JPG\n",
      "/Volumes/G-DRIVE/Pictures/Masters/2020/December/TimeLapseRayanDesk/20201213-175334/G0043390.JPG -> /Volumes/G-DRIVE/Pictures/Masters/2020/December/TimeLapseRayanDesk/full_new_set/image_426.JPG\n",
      "/Volumes/G-DRIVE/Pictures/Masters/2020/December/TimeLapseRayanDesk/20201213-175334/G0043450.JPG -> /Volumes/G-DRIVE/Pictures/Masters/2020/December/TimeLapseRayanDesk/full_new_set/image_427.JPG\n",
      "/Volumes/G-DRIVE/Pictures/Masters/2020/December/TimeLapseRayanDesk/20201213-175334/G0043510.JPG -> /Volumes/G-DRIVE/Pictures/Masters/2020/December/TimeLapseRayanDesk/full_new_set/image_428.JPG\n",
      "/Volumes/G-DRIVE/Pictures/Masters/2020/December/TimeLapseRayanDesk/20201213-175334/G0043570.JPG -> /Volumes/G-DRIVE/Pictures/Masters/2020/December/TimeLapseRayanDesk/full_new_set/image_429.JPG\n",
      "/Volumes/G-DRIVE/Pictures/Masters/2020/December/TimeLapseRayanDesk/20201213-175334/G0043630.JPG -> /Volumes/G-DRIVE/Pictures/Masters/2020/December/TimeLapseRayanDesk/full_new_set/image_430.JPG\n",
      "/Volumes/G-DRIVE/Pictures/Masters/2020/December/TimeLapseRayanDesk/20201213-175334/G0043690.JPG -> /Volumes/G-DRIVE/Pictures/Masters/2020/December/TimeLapseRayanDesk/full_new_set/image_431.JPG\n",
      "/Volumes/G-DRIVE/Pictures/Masters/2020/December/TimeLapseRayanDesk/20201213-175334/G0043750.JPG -> /Volumes/G-DRIVE/Pictures/Masters/2020/December/TimeLapseRayanDesk/full_new_set/image_432.JPG\n",
      "/Volumes/G-DRIVE/Pictures/Masters/2020/December/TimeLapseRayanDesk/20201213-175334/G0043810.JPG -> /Volumes/G-DRIVE/Pictures/Masters/2020/December/TimeLapseRayanDesk/full_new_set/image_433.JPG\n",
      "/Volumes/G-DRIVE/Pictures/Masters/2020/December/TimeLapseRayanDesk/20201213-175334/G0043870.JPG -> /Volumes/G-DRIVE/Pictures/Masters/2020/December/TimeLapseRayanDesk/full_new_set/image_434.JPG\n",
      "/Volumes/G-DRIVE/Pictures/Masters/2020/December/TimeLapseRayanDesk/20201213-175334/G0043930.JPG -> /Volumes/G-DRIVE/Pictures/Masters/2020/December/TimeLapseRayanDesk/full_new_set/image_435.JPG\n",
      "/Volumes/G-DRIVE/Pictures/Masters/2020/December/TimeLapseRayanDesk/20201213-175334/G0043990.JPG -> /Volumes/G-DRIVE/Pictures/Masters/2020/December/TimeLapseRayanDesk/full_new_set/image_436.JPG\n",
      "/Volumes/G-DRIVE/Pictures/Masters/2020/December/TimeLapseRayanDesk/20201213-175334/G0044050.JPG -> /Volumes/G-DRIVE/Pictures/Masters/2020/December/TimeLapseRayanDesk/full_new_set/image_437.JPG\n",
      "/Volumes/G-DRIVE/Pictures/Masters/2020/December/TimeLapseRayanDesk/20201213-175334/G0044110.JPG -> /Volumes/G-DRIVE/Pictures/Masters/2020/December/TimeLapseRayanDesk/full_new_set/image_438.JPG\n",
      "/Volumes/G-DRIVE/Pictures/Masters/2020/December/TimeLapseRayanDesk/20201213-175334/G0044170.JPG -> /Volumes/G-DRIVE/Pictures/Masters/2020/December/TimeLapseRayanDesk/full_new_set/image_439.JPG\n",
      "/Volumes/G-DRIVE/Pictures/Masters/2020/December/TimeLapseRayanDesk/20201213-175334/G0044230.JPG -> /Volumes/G-DRIVE/Pictures/Masters/2020/December/TimeLapseRayanDesk/full_new_set/image_440.JPG\n",
      "/Volumes/G-DRIVE/Pictures/Masters/2020/December/TimeLapseRayanDesk/20201213-175334/G0044290.JPG -> /Volumes/G-DRIVE/Pictures/Masters/2020/December/TimeLapseRayanDesk/full_new_set/image_441.JPG\n",
      "/Volumes/G-DRIVE/Pictures/Masters/2020/December/TimeLapseRayanDesk/20201213-175334/G0044350.JPG -> /Volumes/G-DRIVE/Pictures/Masters/2020/December/TimeLapseRayanDesk/full_new_set/image_442.JPG\n",
      "/Volumes/G-DRIVE/Pictures/Masters/2020/December/TimeLapseRayanDesk/20201213-175334/G0044410.JPG -> /Volumes/G-DRIVE/Pictures/Masters/2020/December/TimeLapseRayanDesk/full_new_set/image_443.JPG\n",
      "/Volumes/G-DRIVE/Pictures/Masters/2020/December/TimeLapseRayanDesk/20201213-175334/G0044470.JPG -> /Volumes/G-DRIVE/Pictures/Masters/2020/December/TimeLapseRayanDesk/full_new_set/image_444.JPG\n",
      "/Volumes/G-DRIVE/Pictures/Masters/2020/December/TimeLapseRayanDesk/20201213-175334/G0044530.JPG -> /Volumes/G-DRIVE/Pictures/Masters/2020/December/TimeLapseRayanDesk/full_new_set/image_445.JPG\n",
      "/Volumes/G-DRIVE/Pictures/Masters/2020/December/TimeLapseRayanDesk/20201213-175334/G0044590.JPG -> /Volumes/G-DRIVE/Pictures/Masters/2020/December/TimeLapseRayanDesk/full_new_set/image_446.JPG\n",
      "/Volumes/G-DRIVE/Pictures/Masters/2020/December/TimeLapseRayanDesk/20201213-175334/G0044650.JPG -> /Volumes/G-DRIVE/Pictures/Masters/2020/December/TimeLapseRayanDesk/full_new_set/image_447.JPG\n",
      "/Volumes/G-DRIVE/Pictures/Masters/2020/December/TimeLapseRayanDesk/20201213-175334/G0044710.JPG -> /Volumes/G-DRIVE/Pictures/Masters/2020/December/TimeLapseRayanDesk/full_new_set/image_448.JPG\n",
      "/Volumes/G-DRIVE/Pictures/Masters/2020/December/TimeLapseRayanDesk/20201213-175334/G0044770.JPG -> /Volumes/G-DRIVE/Pictures/Masters/2020/December/TimeLapseRayanDesk/full_new_set/image_449.JPG\n",
      "/Volumes/G-DRIVE/Pictures/Masters/2020/December/TimeLapseRayanDesk/20201213-175334/G0044830.JPG -> /Volumes/G-DRIVE/Pictures/Masters/2020/December/TimeLapseRayanDesk/full_new_set/image_450.JPG\n",
      "/Volumes/G-DRIVE/Pictures/Masters/2020/December/TimeLapseRayanDesk/20201213-175334/G0044890.JPG -> /Volumes/G-DRIVE/Pictures/Masters/2020/December/TimeLapseRayanDesk/full_new_set/image_451.JPG\n",
      "/Volumes/G-DRIVE/Pictures/Masters/2020/December/TimeLapseRayanDesk/20201213-175334/G0044950.JPG -> /Volumes/G-DRIVE/Pictures/Masters/2020/December/TimeLapseRayanDesk/full_new_set/image_452.JPG\n",
      "/Volumes/G-DRIVE/Pictures/Masters/2020/December/TimeLapseRayanDesk/20201213-175334/G0045010.JPG -> /Volumes/G-DRIVE/Pictures/Masters/2020/December/TimeLapseRayanDesk/full_new_set/image_453.JPG\n",
      "/Volumes/G-DRIVE/Pictures/Masters/2020/December/TimeLapseRayanDesk/20201213-175334/G0045070.JPG -> /Volumes/G-DRIVE/Pictures/Masters/2020/December/TimeLapseRayanDesk/full_new_set/image_454.JPG\n",
      "/Volumes/G-DRIVE/Pictures/Masters/2020/December/TimeLapseRayanDesk/20201213-175334/G0045130.JPG -> /Volumes/G-DRIVE/Pictures/Masters/2020/December/TimeLapseRayanDesk/full_new_set/image_455.JPG\n",
      "/Volumes/G-DRIVE/Pictures/Masters/2020/December/TimeLapseRayanDesk/20201213-175334/G0045190.JPG -> /Volumes/G-DRIVE/Pictures/Masters/2020/December/TimeLapseRayanDesk/full_new_set/image_456.JPG\n",
      "/Volumes/G-DRIVE/Pictures/Masters/2020/December/TimeLapseRayanDesk/20201213-175334/G0045250.JPG -> /Volumes/G-DRIVE/Pictures/Masters/2020/December/TimeLapseRayanDesk/full_new_set/image_457.JPG\n",
      "/Volumes/G-DRIVE/Pictures/Masters/2020/December/TimeLapseRayanDesk/20201213-175334/G0045310.JPG -> /Volumes/G-DRIVE/Pictures/Masters/2020/December/TimeLapseRayanDesk/full_new_set/image_458.JPG\n",
      "/Volumes/G-DRIVE/Pictures/Masters/2020/December/TimeLapseRayanDesk/20201213-175334/G0045370.JPG -> /Volumes/G-DRIVE/Pictures/Masters/2020/December/TimeLapseRayanDesk/full_new_set/image_459.JPG\n"
     ]
    },
    {
     "name": "stdout",
     "output_type": "stream",
     "text": [
      "/Volumes/G-DRIVE/Pictures/Masters/2020/December/TimeLapseRayanDesk/20201213-175334/G0045430.JPG -> /Volumes/G-DRIVE/Pictures/Masters/2020/December/TimeLapseRayanDesk/full_new_set/image_460.JPG\n",
      "/Volumes/G-DRIVE/Pictures/Masters/2020/December/TimeLapseRayanDesk/20201213-175334/G0045490.JPG -> /Volumes/G-DRIVE/Pictures/Masters/2020/December/TimeLapseRayanDesk/full_new_set/image_461.JPG\n",
      "/Volumes/G-DRIVE/Pictures/Masters/2020/December/TimeLapseRayanDesk/20201213-175334/G0045550.JPG -> /Volumes/G-DRIVE/Pictures/Masters/2020/December/TimeLapseRayanDesk/full_new_set/image_462.JPG\n",
      "/Volumes/G-DRIVE/Pictures/Masters/2020/December/TimeLapseRayanDesk/20201213-175334/G0045610.JPG -> /Volumes/G-DRIVE/Pictures/Masters/2020/December/TimeLapseRayanDesk/full_new_set/image_463.JPG\n",
      "/Volumes/G-DRIVE/Pictures/Masters/2020/December/TimeLapseRayanDesk/20201213-175334/G0045670.JPG -> /Volumes/G-DRIVE/Pictures/Masters/2020/December/TimeLapseRayanDesk/full_new_set/image_464.JPG\n",
      "/Volumes/G-DRIVE/Pictures/Masters/2020/December/TimeLapseRayanDesk/20201213-175334/G0045730.JPG -> /Volumes/G-DRIVE/Pictures/Masters/2020/December/TimeLapseRayanDesk/full_new_set/image_465.JPG\n",
      "/Volumes/G-DRIVE/Pictures/Masters/2020/December/TimeLapseRayanDesk/20201213-175334/G0045790.JPG -> /Volumes/G-DRIVE/Pictures/Masters/2020/December/TimeLapseRayanDesk/full_new_set/image_466.JPG\n",
      "/Volumes/G-DRIVE/Pictures/Masters/2020/December/TimeLapseRayanDesk/20201213-175334/G0045850.JPG -> /Volumes/G-DRIVE/Pictures/Masters/2020/December/TimeLapseRayanDesk/full_new_set/image_467.JPG\n",
      "/Volumes/G-DRIVE/Pictures/Masters/2020/December/TimeLapseRayanDesk/20201213-175334/G0045910.JPG -> /Volumes/G-DRIVE/Pictures/Masters/2020/December/TimeLapseRayanDesk/full_new_set/image_468.JPG\n",
      "/Volumes/G-DRIVE/Pictures/Masters/2020/December/TimeLapseRayanDesk/20201213-175334/G0045970.JPG -> /Volumes/G-DRIVE/Pictures/Masters/2020/December/TimeLapseRayanDesk/full_new_set/image_469.JPG\n",
      "/Volumes/G-DRIVE/Pictures/Masters/2020/December/TimeLapseRayanDesk/20201213-175334/G0046030.JPG -> /Volumes/G-DRIVE/Pictures/Masters/2020/December/TimeLapseRayanDesk/full_new_set/image_470.JPG\n",
      "/Volumes/G-DRIVE/Pictures/Masters/2020/December/TimeLapseRayanDesk/20201213-175334/G0046090.JPG -> /Volumes/G-DRIVE/Pictures/Masters/2020/December/TimeLapseRayanDesk/full_new_set/image_471.JPG\n",
      "/Volumes/G-DRIVE/Pictures/Masters/2020/December/TimeLapseRayanDesk/20201213-175334/G0046150.JPG -> /Volumes/G-DRIVE/Pictures/Masters/2020/December/TimeLapseRayanDesk/full_new_set/image_472.JPG\n",
      "/Volumes/G-DRIVE/Pictures/Masters/2020/December/TimeLapseRayanDesk/20201213-175334/G0046210.JPG -> /Volumes/G-DRIVE/Pictures/Masters/2020/December/TimeLapseRayanDesk/full_new_set/image_473.JPG\n",
      "/Volumes/G-DRIVE/Pictures/Masters/2020/December/TimeLapseRayanDesk/20201213-175334/G0046270.JPG -> /Volumes/G-DRIVE/Pictures/Masters/2020/December/TimeLapseRayanDesk/full_new_set/image_474.JPG\n",
      "/Volumes/G-DRIVE/Pictures/Masters/2020/December/TimeLapseRayanDesk/20201213-175334/G0046330.JPG -> /Volumes/G-DRIVE/Pictures/Masters/2020/December/TimeLapseRayanDesk/full_new_set/image_475.JPG\n",
      "/Volumes/G-DRIVE/Pictures/Masters/2020/December/TimeLapseRayanDesk/20201213-175334/G0046390.JPG -> /Volumes/G-DRIVE/Pictures/Masters/2020/December/TimeLapseRayanDesk/full_new_set/image_476.JPG\n",
      "/Volumes/G-DRIVE/Pictures/Masters/2020/December/TimeLapseRayanDesk/20201213-175334/G0046450.JPG -> /Volumes/G-DRIVE/Pictures/Masters/2020/December/TimeLapseRayanDesk/full_new_set/image_477.JPG\n",
      "/Volumes/G-DRIVE/Pictures/Masters/2020/December/TimeLapseRayanDesk/20201213-175334/G0046510.JPG -> /Volumes/G-DRIVE/Pictures/Masters/2020/December/TimeLapseRayanDesk/full_new_set/image_478.JPG\n",
      "/Volumes/G-DRIVE/Pictures/Masters/2020/December/TimeLapseRayanDesk/20201213-175334/G0046570.JPG -> /Volumes/G-DRIVE/Pictures/Masters/2020/December/TimeLapseRayanDesk/full_new_set/image_479.JPG\n",
      "/Volumes/G-DRIVE/Pictures/Masters/2020/December/TimeLapseRayanDesk/20201213-175334/G0046630.JPG -> /Volumes/G-DRIVE/Pictures/Masters/2020/December/TimeLapseRayanDesk/full_new_set/image_480.JPG\n",
      "/Volumes/G-DRIVE/Pictures/Masters/2020/December/TimeLapseRayanDesk/20201213-175334/G0046690.JPG -> /Volumes/G-DRIVE/Pictures/Masters/2020/December/TimeLapseRayanDesk/full_new_set/image_481.JPG\n",
      "/Volumes/G-DRIVE/Pictures/Masters/2020/December/TimeLapseRayanDesk/20201213-175334/G0046750.JPG -> /Volumes/G-DRIVE/Pictures/Masters/2020/December/TimeLapseRayanDesk/full_new_set/image_482.JPG\n",
      "/Volumes/G-DRIVE/Pictures/Masters/2020/December/TimeLapseRayanDesk/20201213-175334/G0046810.JPG -> /Volumes/G-DRIVE/Pictures/Masters/2020/December/TimeLapseRayanDesk/full_new_set/image_483.JPG\n",
      "/Volumes/G-DRIVE/Pictures/Masters/2020/December/TimeLapseRayanDesk/20201213-175334/G0046870.JPG -> /Volumes/G-DRIVE/Pictures/Masters/2020/December/TimeLapseRayanDesk/full_new_set/image_484.JPG\n",
      "/Volumes/G-DRIVE/Pictures/Masters/2020/December/TimeLapseRayanDesk/20201213-175334/G0046930.JPG -> /Volumes/G-DRIVE/Pictures/Masters/2020/December/TimeLapseRayanDesk/full_new_set/image_485.JPG\n",
      "/Volumes/G-DRIVE/Pictures/Masters/2020/December/TimeLapseRayanDesk/20201213-175334/G0046990.JPG -> /Volumes/G-DRIVE/Pictures/Masters/2020/December/TimeLapseRayanDesk/full_new_set/image_486.JPG\n",
      "/Volumes/G-DRIVE/Pictures/Masters/2020/December/TimeLapseRayanDesk/20201213-175334/G0047050.JPG -> /Volumes/G-DRIVE/Pictures/Masters/2020/December/TimeLapseRayanDesk/full_new_set/image_487.JPG\n",
      "/Volumes/G-DRIVE/Pictures/Masters/2020/December/TimeLapseRayanDesk/20201213-175334/G0047110.JPG -> /Volumes/G-DRIVE/Pictures/Masters/2020/December/TimeLapseRayanDesk/full_new_set/image_488.JPG\n",
      "/Volumes/G-DRIVE/Pictures/Masters/2020/December/TimeLapseRayanDesk/20201213-175334/G0047170.JPG -> /Volumes/G-DRIVE/Pictures/Masters/2020/December/TimeLapseRayanDesk/full_new_set/image_489.JPG\n",
      "/Volumes/G-DRIVE/Pictures/Masters/2020/December/TimeLapseRayanDesk/20201213-175334/G0047230.JPG -> /Volumes/G-DRIVE/Pictures/Masters/2020/December/TimeLapseRayanDesk/full_new_set/image_490.JPG\n",
      "/Volumes/G-DRIVE/Pictures/Masters/2020/December/TimeLapseRayanDesk/20201213-175334/G0047290.JPG -> /Volumes/G-DRIVE/Pictures/Masters/2020/December/TimeLapseRayanDesk/full_new_set/image_491.JPG\n",
      "/Volumes/G-DRIVE/Pictures/Masters/2020/December/TimeLapseRayanDesk/20201213-175334/G0047350.JPG -> /Volumes/G-DRIVE/Pictures/Masters/2020/December/TimeLapseRayanDesk/full_new_set/image_492.JPG\n",
      "/Volumes/G-DRIVE/Pictures/Masters/2020/December/TimeLapseRayanDesk/20201213-175334/G0047410.JPG -> /Volumes/G-DRIVE/Pictures/Masters/2020/December/TimeLapseRayanDesk/full_new_set/image_493.JPG\n",
      "/Volumes/G-DRIVE/Pictures/Masters/2020/December/TimeLapseRayanDesk/20201213-175334/G0047470.JPG -> /Volumes/G-DRIVE/Pictures/Masters/2020/December/TimeLapseRayanDesk/full_new_set/image_494.JPG\n",
      "/Volumes/G-DRIVE/Pictures/Masters/2020/December/TimeLapseRayanDesk/20201213-175334/G0047530.JPG -> /Volumes/G-DRIVE/Pictures/Masters/2020/December/TimeLapseRayanDesk/full_new_set/image_495.JPG\n",
      "/Volumes/G-DRIVE/Pictures/Masters/2020/December/TimeLapseRayanDesk/20201213-175334/G0047590.JPG -> /Volumes/G-DRIVE/Pictures/Masters/2020/December/TimeLapseRayanDesk/full_new_set/image_496.JPG\n",
      "/Volumes/G-DRIVE/Pictures/Masters/2020/December/TimeLapseRayanDesk/20201213-175334/G0047650.JPG -> /Volumes/G-DRIVE/Pictures/Masters/2020/December/TimeLapseRayanDesk/full_new_set/image_497.JPG\n",
      "/Volumes/G-DRIVE/Pictures/Masters/2020/December/TimeLapseRayanDesk/20201213-175334/G0047710.JPG -> /Volumes/G-DRIVE/Pictures/Masters/2020/December/TimeLapseRayanDesk/full_new_set/image_498.JPG\n",
      "/Volumes/G-DRIVE/Pictures/Masters/2020/December/TimeLapseRayanDesk/20201213-175334/G0047770.JPG -> /Volumes/G-DRIVE/Pictures/Masters/2020/December/TimeLapseRayanDesk/full_new_set/image_499.JPG\n",
      "/Volumes/G-DRIVE/Pictures/Masters/2020/December/TimeLapseRayanDesk/20201213-175334/G0047830.JPG -> /Volumes/G-DRIVE/Pictures/Masters/2020/December/TimeLapseRayanDesk/full_new_set/image_500.JPG\n",
      "/Volumes/G-DRIVE/Pictures/Masters/2020/December/TimeLapseRayanDesk/20201213-175334/G0047890.JPG -> /Volumes/G-DRIVE/Pictures/Masters/2020/December/TimeLapseRayanDesk/full_new_set/image_501.JPG\n",
      "/Volumes/G-DRIVE/Pictures/Masters/2020/December/TimeLapseRayanDesk/20201213-175334/G0047950.JPG -> /Volumes/G-DRIVE/Pictures/Masters/2020/December/TimeLapseRayanDesk/full_new_set/image_502.JPG\n",
      "/Volumes/G-DRIVE/Pictures/Masters/2020/December/TimeLapseRayanDesk/20201213-175334/G0048010.JPG -> /Volumes/G-DRIVE/Pictures/Masters/2020/December/TimeLapseRayanDesk/full_new_set/image_503.JPG\n",
      "/Volumes/G-DRIVE/Pictures/Masters/2020/December/TimeLapseRayanDesk/20201213-175334/G0048070.JPG -> /Volumes/G-DRIVE/Pictures/Masters/2020/December/TimeLapseRayanDesk/full_new_set/image_504.JPG\n",
      "/Volumes/G-DRIVE/Pictures/Masters/2020/December/TimeLapseRayanDesk/20201213-175334/G0048130.JPG -> /Volumes/G-DRIVE/Pictures/Masters/2020/December/TimeLapseRayanDesk/full_new_set/image_505.JPG\n"
     ]
    },
    {
     "name": "stdout",
     "output_type": "stream",
     "text": [
      "/Volumes/G-DRIVE/Pictures/Masters/2020/December/TimeLapseRayanDesk/20201213-175334/G0048190.JPG -> /Volumes/G-DRIVE/Pictures/Masters/2020/December/TimeLapseRayanDesk/full_new_set/image_506.JPG\n",
      "/Volumes/G-DRIVE/Pictures/Masters/2020/December/TimeLapseRayanDesk/20201213-175334/G0048250.JPG -> /Volumes/G-DRIVE/Pictures/Masters/2020/December/TimeLapseRayanDesk/full_new_set/image_507.JPG\n",
      "/Volumes/G-DRIVE/Pictures/Masters/2020/December/TimeLapseRayanDesk/20201213-175334/G0048310.JPG -> /Volumes/G-DRIVE/Pictures/Masters/2020/December/TimeLapseRayanDesk/full_new_set/image_508.JPG\n",
      "/Volumes/G-DRIVE/Pictures/Masters/2020/December/TimeLapseRayanDesk/20201213-175334/G0048370.JPG -> /Volumes/G-DRIVE/Pictures/Masters/2020/December/TimeLapseRayanDesk/full_new_set/image_509.JPG\n",
      "/Volumes/G-DRIVE/Pictures/Masters/2020/December/TimeLapseRayanDesk/20201213-175334/G0048430.JPG -> /Volumes/G-DRIVE/Pictures/Masters/2020/December/TimeLapseRayanDesk/full_new_set/image_510.JPG\n",
      "/Volumes/G-DRIVE/Pictures/Masters/2020/December/TimeLapseRayanDesk/20201213-175334/G0048490.JPG -> /Volumes/G-DRIVE/Pictures/Masters/2020/December/TimeLapseRayanDesk/full_new_set/image_511.JPG\n",
      "/Volumes/G-DRIVE/Pictures/Masters/2020/December/TimeLapseRayanDesk/20201213-175334/G0048550.JPG -> /Volumes/G-DRIVE/Pictures/Masters/2020/December/TimeLapseRayanDesk/full_new_set/image_512.JPG\n",
      "/Volumes/G-DRIVE/Pictures/Masters/2020/December/TimeLapseRayanDesk/20201213-175334/G0048610.JPG -> /Volumes/G-DRIVE/Pictures/Masters/2020/December/TimeLapseRayanDesk/full_new_set/image_513.JPG\n",
      "/Volumes/G-DRIVE/Pictures/Masters/2020/December/TimeLapseRayanDesk/20201213-175334/G0048670.JPG -> /Volumes/G-DRIVE/Pictures/Masters/2020/December/TimeLapseRayanDesk/full_new_set/image_514.JPG\n",
      "/Volumes/G-DRIVE/Pictures/Masters/2020/December/TimeLapseRayanDesk/20201213-175334/G0048730.JPG -> /Volumes/G-DRIVE/Pictures/Masters/2020/December/TimeLapseRayanDesk/full_new_set/image_515.JPG\n",
      "/Volumes/G-DRIVE/Pictures/Masters/2020/December/TimeLapseRayanDesk/20201213-175334/G0048790.JPG -> /Volumes/G-DRIVE/Pictures/Masters/2020/December/TimeLapseRayanDesk/full_new_set/image_516.JPG\n",
      "/Volumes/G-DRIVE/Pictures/Masters/2020/December/TimeLapseRayanDesk/20201213-175334/G0048850.JPG -> /Volumes/G-DRIVE/Pictures/Masters/2020/December/TimeLapseRayanDesk/full_new_set/image_517.JPG\n",
      "/Volumes/G-DRIVE/Pictures/Masters/2020/December/TimeLapseRayanDesk/20201213-175334/G0048910.JPG -> /Volumes/G-DRIVE/Pictures/Masters/2020/December/TimeLapseRayanDesk/full_new_set/image_518.JPG\n",
      "/Volumes/G-DRIVE/Pictures/Masters/2020/December/TimeLapseRayanDesk/20201213-175334/G0048970.JPG -> /Volumes/G-DRIVE/Pictures/Masters/2020/December/TimeLapseRayanDesk/full_new_set/image_519.JPG\n",
      "/Volumes/G-DRIVE/Pictures/Masters/2020/December/TimeLapseRayanDesk/20201213-175334/G0049030.JPG -> /Volumes/G-DRIVE/Pictures/Masters/2020/December/TimeLapseRayanDesk/full_new_set/image_520.JPG\n",
      "/Volumes/G-DRIVE/Pictures/Masters/2020/December/TimeLapseRayanDesk/20201213-175334/G0049090.JPG -> /Volumes/G-DRIVE/Pictures/Masters/2020/December/TimeLapseRayanDesk/full_new_set/image_521.JPG\n",
      "/Volumes/G-DRIVE/Pictures/Masters/2020/December/TimeLapseRayanDesk/20201213-175334/G0049150.JPG -> /Volumes/G-DRIVE/Pictures/Masters/2020/December/TimeLapseRayanDesk/full_new_set/image_522.JPG\n",
      "/Volumes/G-DRIVE/Pictures/Masters/2020/December/TimeLapseRayanDesk/20201213-175334/G0049210.JPG -> /Volumes/G-DRIVE/Pictures/Masters/2020/December/TimeLapseRayanDesk/full_new_set/image_523.JPG\n",
      "/Volumes/G-DRIVE/Pictures/Masters/2020/December/TimeLapseRayanDesk/20201213-175334/G0049270.JPG -> /Volumes/G-DRIVE/Pictures/Masters/2020/December/TimeLapseRayanDesk/full_new_set/image_524.JPG\n",
      "/Volumes/G-DRIVE/Pictures/Masters/2020/December/TimeLapseRayanDesk/20201213-175334/G0049330.JPG -> /Volumes/G-DRIVE/Pictures/Masters/2020/December/TimeLapseRayanDesk/full_new_set/image_525.JPG\n",
      "/Volumes/G-DRIVE/Pictures/Masters/2020/December/TimeLapseRayanDesk/20201213-175334/G0049390.JPG -> /Volumes/G-DRIVE/Pictures/Masters/2020/December/TimeLapseRayanDesk/full_new_set/image_526.JPG\n",
      "/Volumes/G-DRIVE/Pictures/Masters/2020/December/TimeLapseRayanDesk/20201213-175334/G0049450.JPG -> /Volumes/G-DRIVE/Pictures/Masters/2020/December/TimeLapseRayanDesk/full_new_set/image_527.JPG\n",
      "/Volumes/G-DRIVE/Pictures/Masters/2020/December/TimeLapseRayanDesk/20201213-175334/G0049510.JPG -> /Volumes/G-DRIVE/Pictures/Masters/2020/December/TimeLapseRayanDesk/full_new_set/image_528.JPG\n",
      "/Volumes/G-DRIVE/Pictures/Masters/2020/December/TimeLapseRayanDesk/20201213-175334/G0049570.JPG -> /Volumes/G-DRIVE/Pictures/Masters/2020/December/TimeLapseRayanDesk/full_new_set/image_529.JPG\n",
      "/Volumes/G-DRIVE/Pictures/Masters/2020/December/TimeLapseRayanDesk/20201213-175334/G0049630.JPG -> /Volumes/G-DRIVE/Pictures/Masters/2020/December/TimeLapseRayanDesk/full_new_set/image_530.JPG\n",
      "/Volumes/G-DRIVE/Pictures/Masters/2020/December/TimeLapseRayanDesk/20201213-175334/G0049690.JPG -> /Volumes/G-DRIVE/Pictures/Masters/2020/December/TimeLapseRayanDesk/full_new_set/image_531.JPG\n",
      "/Volumes/G-DRIVE/Pictures/Masters/2020/December/TimeLapseRayanDesk/20201213-175334/G0049750.JPG -> /Volumes/G-DRIVE/Pictures/Masters/2020/December/TimeLapseRayanDesk/full_new_set/image_532.JPG\n",
      "/Volumes/G-DRIVE/Pictures/Masters/2020/December/TimeLapseRayanDesk/20201213-175334/G0049810.JPG -> /Volumes/G-DRIVE/Pictures/Masters/2020/December/TimeLapseRayanDesk/full_new_set/image_533.JPG\n",
      "/Volumes/G-DRIVE/Pictures/Masters/2020/December/TimeLapseRayanDesk/20201213-175334/G0049870.JPG -> /Volumes/G-DRIVE/Pictures/Masters/2020/December/TimeLapseRayanDesk/full_new_set/image_534.JPG\n",
      "/Volumes/G-DRIVE/Pictures/Masters/2020/December/TimeLapseRayanDesk/20201213-175334/G0049930.JPG -> /Volumes/G-DRIVE/Pictures/Masters/2020/December/TimeLapseRayanDesk/full_new_set/image_535.JPG\n",
      "/Volumes/G-DRIVE/Pictures/Masters/2020/December/TimeLapseRayanDesk/20201213-175334/G0049990.JPG -> /Volumes/G-DRIVE/Pictures/Masters/2020/December/TimeLapseRayanDesk/full_new_set/image_536.JPG\n",
      "/Volumes/G-DRIVE/Pictures/Masters/2020/December/TimeLapseRayanDesk/20201213-175334/G0050051.JPG -> /Volumes/G-DRIVE/Pictures/Masters/2020/December/TimeLapseRayanDesk/full_new_set/image_537.JPG\n",
      "/Volumes/G-DRIVE/Pictures/Masters/2020/December/TimeLapseRayanDesk/20201213-175334/G0050111.JPG -> /Volumes/G-DRIVE/Pictures/Masters/2020/December/TimeLapseRayanDesk/full_new_set/image_538.JPG\n",
      "/Volumes/G-DRIVE/Pictures/Masters/2020/December/TimeLapseRayanDesk/20201213-175334/G0050171.JPG -> /Volumes/G-DRIVE/Pictures/Masters/2020/December/TimeLapseRayanDesk/full_new_set/image_539.JPG\n"
     ]
    }
   ],
   "source": [
    "file_name_prefix = \"image\"\n",
    "file_name_ext = \".JPG\"\n",
    "file_index_offset = len(glob.glob(output_folder + \"*.JPG\"))\n",
    "for new_file_index, index_to_keep in enumerate(list_images_index_to_copy):\n",
    "    file_to_copy = list_files[index_to_keep]\n",
    "    new_file_name = os.path.join(output_folder, file_name_prefix + \"_{:03d}\".format(new_file_index+file_index_offset) + file_name_ext)\n",
    "    print(f\"{file_to_copy} -> {new_file_name}\")\n",
    "    shutil.copy(file_to_copy, new_file_name)"
   ]
  },
  {
   "cell_type": "code",
   "execution_count": null,
   "metadata": {},
   "outputs": [],
   "source": []
  }
 ],
 "metadata": {
  "kernelspec": {
   "display_name": "Python 3",
   "language": "python",
   "name": "python3"
  },
  "language_info": {
   "codemirror_mode": {
    "name": "ipython",
    "version": 3
   },
   "file_extension": ".py",
   "mimetype": "text/x-python",
   "name": "python",
   "nbconvert_exporter": "python",
   "pygments_lexer": "ipython3",
   "version": "3.6.10"
  }
 },
 "nbformat": 4,
 "nbformat_minor": 4
}
