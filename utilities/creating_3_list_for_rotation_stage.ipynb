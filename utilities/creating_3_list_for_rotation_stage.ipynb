{
 "cells": [
  {
   "cell_type": "markdown",
   "metadata": {},
   "source": [
    "For an experiment, we had to set up the rotation stages in a way that could minimize the issues due to beam off time.\n",
    "\n",
    "First list will set up the rotation stage for 5 angles (for example)\n",
    "then 10 for the next one....."
   ]
  },
  {
   "cell_type": "code",
   "execution_count": 1,
   "metadata": {},
   "outputs": [],
   "source": [
    "import numpy as np"
   ]
  },
  {
   "cell_type": "code",
   "execution_count": 6,
   "metadata": {},
   "outputs": [],
   "source": [
    "full_list_angle = np.linspace(0, 180., num=48)\n",
    "assert len(full_list_angle) == 48"
   ]
  },
  {
   "cell_type": "code",
   "execution_count": 8,
   "metadata": {},
   "outputs": [],
   "source": [
    "full_list_index = np.arange(len(full_list_angle))\n",
    "assert len(full_list_index) == 48"
   ]
  },
  {
   "cell_type": "markdown",
   "metadata": {},
   "source": [
    "First Run of measurements"
   ]
  },
  {
   "cell_type": "code",
   "execution_count": 21,
   "metadata": {},
   "outputs": [
    {
     "data": {
      "text/plain": [
       "array([  0.        ,  38.29787234,  76.59574468, 114.89361702,\n",
       "       153.19148936])"
      ]
     },
     "execution_count": 21,
     "metadata": {},
     "output_type": "execute_result"
    }
   ],
   "source": [
    "first_run_angle_mod = 10\n",
    "index_first_run = [index for index in full_list_index if (index % first_run_angle_mod == 0)]\n",
    "list_first_run = full_list_angle[index_first_run]\n",
    "list_first_run"
   ]
  },
  {
   "cell_type": "markdown",
   "metadata": {},
   "source": [
    "Second run of measurements"
   ]
  },
  {
   "cell_type": "code",
   "execution_count": 28,
   "metadata": {},
   "outputs": [
    {
     "data": {
      "text/plain": [
       "array([ 11.4893617 ,  22.9787234 ,  34.46808511,  45.95744681,\n",
       "        57.44680851,  68.93617021,  80.42553191,  91.91489362,\n",
       "       103.40425532, 126.38297872, 137.87234043, 149.36170213,\n",
       "       160.85106383, 172.34042553])"
      ]
     },
     "execution_count": 28,
     "metadata": {},
     "output_type": "execute_result"
    }
   ],
   "source": [
    "second_run_angle_mod = 3\n",
    "index_second_run = [index for index in full_list_index if (index % second_run_angle_mod == 0) and (index not in index_first_run)]\n",
    "list_second_run = full_list_angle[index_second_run]\n",
    "list_second_run"
   ]
  },
  {
   "cell_type": "markdown",
   "metadata": {},
   "source": [
    "Third run of measurements"
   ]
  },
  {
   "cell_type": "code",
   "execution_count": 33,
   "metadata": {},
   "outputs": [
    {
     "data": {
      "text/plain": [
       "array([  3.82978723,   7.65957447,  15.31914894,  19.14893617,\n",
       "        26.80851064,  30.63829787,  42.12765957,  49.78723404,\n",
       "        53.61702128,  61.27659574,  65.10638298,  72.76595745,\n",
       "        84.25531915,  88.08510638,  95.74468085,  99.57446809,\n",
       "       107.23404255, 111.06382979, 118.72340426, 122.55319149,\n",
       "       130.21276596, 134.04255319, 141.70212766, 145.53191489,\n",
       "       157.0212766 , 164.68085106, 168.5106383 , 176.17021277,\n",
       "       180.        ])"
      ]
     },
     "execution_count": 33,
     "metadata": {},
     "output_type": "execute_result"
    }
   ],
   "source": [
    "index_third_run = [index for index in full_list_index if  \n",
    "                   (index not in index_first_run) and\n",
    "                  (index not in index_second_run)]\n",
    "list_third_run = full_list_angle[index_third_run]\n",
    "list_third_run"
   ]
  },
  {
   "cell_type": "code",
   "execution_count": 34,
   "metadata": {},
   "outputs": [
    {
     "data": {
      "text/plain": [
       "48"
      ]
     },
     "execution_count": 34,
     "metadata": {},
     "output_type": "execute_result"
    }
   ],
   "source": [
    "len(list_firs_run) + len(list_second_run) + len(list_third_run)"
   ]
  },
  {
   "cell_type": "code",
   "execution_count": null,
   "metadata": {},
   "outputs": [],
   "source": []
  }
 ],
 "metadata": {
  "kernelspec": {
   "display_name": "Python 3",
   "language": "python",
   "name": "python3"
  },
  "language_info": {
   "codemirror_mode": {
    "name": "ipython",
    "version": 3
   },
   "file_extension": ".py",
   "mimetype": "text/x-python",
   "name": "python",
   "nbconvert_exporter": "python",
   "pygments_lexer": "ipython3",
   "version": "3.6.4"
  }
 },
 "nbformat": 4,
 "nbformat_minor": 2
}
