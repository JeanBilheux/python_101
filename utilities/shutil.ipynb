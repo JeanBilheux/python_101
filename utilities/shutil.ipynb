{
 "cells": [
  {
   "cell_type": "markdown",
   "metadata": {
    "run_control": {
     "frozen": false,
     "read_only": false
    }
   },
   "source": [
    "The goal of this notebook is to copy the entire contain of a folder into another folder (that must exist already). But this copy does not wipe out the destination folder, just add the new files."
   ]
  },
  {
   "cell_type": "code",
   "execution_count": 3,
   "metadata": {
    "run_control": {
     "frozen": false,
     "read_only": false
    }
   },
   "outputs": [],
   "source": [
    "import os\n",
    "import shutil"
   ]
  },
  {
   "cell_type": "code",
   "execution_count": 4,
   "metadata": {
    "run_control": {
     "frozen": false,
     "read_only": false
    }
   },
   "outputs": [
    {
     "data": {
      "text/plain": [
       "True"
      ]
     },
     "execution_count": 4,
     "metadata": {},
     "output_type": "execute_result"
    }
   ],
   "source": [
    "src = '/Users/j35/Desktop/source'\n",
    "os.path.exists(src)"
   ]
  },
  {
   "cell_type": "code",
   "execution_count": 17,
   "metadata": {
    "run_control": {
     "frozen": false,
     "read_only": false
    }
   },
   "outputs": [],
   "source": [
    "current_dir = os.path.abspath(os.curdir)\n",
    "\n",
    "def recursive_copy(src, dst):\n",
    "    \n",
    "    print(\"Entering recursive_copy ...\")\n",
    "    print(\"src: {}\".format(src))\n",
    "    print(\"dst: {}\".format(dst))\n",
    "    \n",
    "    if not os.path.exists(dst):\n",
    "        print(\"{} does not exist, I need to create it\".format(dst))\n",
    "        os.mkdir(dst)    \n",
    "        \n",
    "#    print(\"changing directory to {}\".format(src))\n",
    "#    os.chdir(src)\n",
    "    for item in os.listdir(src):\n",
    "        \n",
    "        full_item = os.path.join(src, item)\n",
    "        print(\"-> working with item {}\".format(item))\n",
    "        if os.path.isfile(full_item):\n",
    "            print(\"--> {} is a file and will be copy to {}\".format(src, dst))\n",
    "            shutil.copy(full_item, dst)\n",
    "        else:\n",
    "            print(\"--> item is a folder and we need to go back to recursive_copy\")\n",
    "            new_dst = os.path.join(dst, item)\n",
    "            item = os.path.join(src, item)\n",
    "            recursive_copy(item, new_dst)\n"
   ]
  },
  {
   "cell_type": "code",
   "execution_count": 18,
   "metadata": {
    "run_control": {
     "frozen": false,
     "read_only": false
    }
   },
   "outputs": [
    {
     "name": "stdout",
     "output_type": "stream",
     "text": [
      "Entering recursive_copy ...\n",
      "src: /Users/j35/Desktop/source\n",
      "dst: /Users/j35/Desktop/target\n",
      "-> working with item .DS_Store\n",
      "--> /Users/j35/Desktop/source is a file and will be copy to /Users/j35/Desktop/target\n",
      "-> working with item .pre_commit.py\n",
      "--> /Users/j35/Desktop/source is a file and will be copy to /Users/j35/Desktop/target\n",
      "-> working with item __code\n",
      "--> item is a folder and we need to go back to recursive_copy\n",
      "Entering recursive_copy ...\n",
      "src: /Users/j35/Desktop/source/__code\n",
      "dst: /Users/j35/Desktop/target/__code\n",
      "-> working with item .DS_Store\n",
      "--> /Users/j35/Desktop/source/__code is a file and will be copy to /Users/j35/Desktop/target/__code\n",
      "-> working with item __all\n",
      "--> item is a folder and we need to go back to recursive_copy\n",
      "Entering recursive_copy ...\n",
      "src: /Users/j35/Desktop/source/__code/__all\n",
      "dst: /Users/j35/Desktop/target/__code/__all\n",
      "-> working with item __pycache__\n",
      "--> item is a folder and we need to go back to recursive_copy\n",
      "Entering recursive_copy ...\n",
      "src: /Users/j35/Desktop/source/__code/__all/__pycache__\n",
      "dst: /Users/j35/Desktop/target/__code/__all/__pycache__\n",
      "-> working with item custom_style.cpython-36.pyc\n",
      "--> /Users/j35/Desktop/source/__code/__all/__pycache__ is a file and will be copy to /Users/j35/Desktop/target/__code/__all/__pycache__\n",
      "-> working with item config_handler.py\n",
      "--> /Users/j35/Desktop/source/__code/__all is a file and will be copy to /Users/j35/Desktop/target/__code/__all\n",
      "-> working with item custom_nb_styling.css\n",
      "--> /Users/j35/Desktop/source/__code/__all is a file and will be copy to /Users/j35/Desktop/target/__code/__all\n",
      "-> working with item custom_style.py\n",
      "--> /Users/j35/Desktop/source/__code/__all is a file and will be copy to /Users/j35/Desktop/target/__code/__all\n",
      "-> working with item notebook_tutorial.png\n",
      "--> /Users/j35/Desktop/source/__code/__all is a file and will be copy to /Users/j35/Desktop/target/__code/__all\n",
      "-> working with item notebook_tutorial.psd\n",
      "--> /Users/j35/Desktop/source/__code/__all is a file and will be copy to /Users/j35/Desktop/target/__code/__all\n",
      "-> working with item tile_background.jpg\n",
      "--> /Users/j35/Desktop/source/__code/__all is a file and will be copy to /Users/j35/Desktop/target/__code/__all\n",
      "-> working with item file_handler.py\n",
      "--> /Users/j35/Desktop/source/__code is a file and will be copy to /Users/j35/Desktop/target/__code\n",
      "-> working with item integrated_roi_counts_vs_file_name_and_time_stamp.py\n",
      "--> /Users/j35/Desktop/source/__code is a file and will be copy to /Users/j35/Desktop/target/__code\n",
      "-> working with item static\n",
      "--> item is a folder and we need to go back to recursive_copy\n",
      "Entering recursive_copy ...\n",
      "src: /Users/j35/Desktop/source/__code/static\n",
      "dst: /Users/j35/Desktop/target/__code/static\n",
      "-> working with item down_arrow.png\n",
      "--> /Users/j35/Desktop/source/__code/static is a file and will be copy to /Users/j35/Desktop/target/__code/static\n",
      "-> working with item left_arrow.png\n",
      "--> /Users/j35/Desktop/source/__code/static is a file and will be copy to /Users/j35/Desktop/target/__code/static\n",
      "-> working with item profile\n",
      "--> item is a folder and we need to go back to recursive_copy\n",
      "Entering recursive_copy ...\n",
      "src: /Users/j35/Desktop/source/__code/static/profile\n",
      "dst: /Users/j35/Desktop/target/__code/static/profile\n",
      "-> working with item button_rotation_left.png\n",
      "--> /Users/j35/Desktop/source/__code/static/profile is a file and will be copy to /Users/j35/Desktop/target/__code/static/profile\n",
      "-> working with item button_rotation_left_fast.png\n",
      "--> /Users/j35/Desktop/source/__code/static/profile is a file and will be copy to /Users/j35/Desktop/target/__code/static/profile\n",
      "-> working with item button_rotation_left_slow.png\n",
      "--> /Users/j35/Desktop/source/__code/static/profile is a file and will be copy to /Users/j35/Desktop/target/__code/static/profile\n",
      "-> working with item button_rotation_right.png\n",
      "--> /Users/j35/Desktop/source/__code/static/profile is a file and will be copy to /Users/j35/Desktop/target/__code/static/profile\n",
      "-> working with item button_rotation_right_fast.png\n",
      "--> /Users/j35/Desktop/source/__code/static/profile is a file and will be copy to /Users/j35/Desktop/target/__code/static/profile\n",
      "-> working with item button_rotation_right_slow.png\n",
      "--> /Users/j35/Desktop/source/__code/static/profile is a file and will be copy to /Users/j35/Desktop/target/__code/static/profile\n",
      "-> working with item right_arrow.png\n",
      "--> /Users/j35/Desktop/source/__code/static is a file and will be copy to /Users/j35/Desktop/target/__code/static\n",
      "-> working with item rotate_left.png\n",
      "--> /Users/j35/Desktop/source/__code/static is a file and will be copy to /Users/j35/Desktop/target/__code/static\n",
      "-> working with item rotate_right.png\n",
      "--> /Users/j35/Desktop/source/__code/static is a file and will be copy to /Users/j35/Desktop/target/__code/static\n",
      "-> working with item small_rotate_left.png\n",
      "--> /Users/j35/Desktop/source/__code/static is a file and will be copy to /Users/j35/Desktop/target/__code/static\n",
      "-> working with item small_rotate_right.png\n",
      "--> /Users/j35/Desktop/source/__code/static is a file and will be copy to /Users/j35/Desktop/target/__code/static\n",
      "-> working with item up_arrow.png\n",
      "--> /Users/j35/Desktop/source/__code/static is a file and will be copy to /Users/j35/Desktop/target/__code/static\n",
      "-> working with item warning_icon.png\n",
      "--> /Users/j35/Desktop/source/__code/static is a file and will be copy to /Users/j35/Desktop/target/__code/static\n",
      "-> working with item time_utility.py\n",
      "--> /Users/j35/Desktop/source/__code is a file and will be copy to /Users/j35/Desktop/target/__code\n",
      "-> working with item ui_integrated_roi_counts_vs_file_name_and_time_stamp.py\n",
      "--> /Users/j35/Desktop/source/__code is a file and will be copy to /Users/j35/Desktop/target/__code\n",
      "-> working with item ui_profile.py\n",
      "--> /Users/j35/Desktop/source/__code is a file and will be copy to /Users/j35/Desktop/target/__code\n",
      "-> working with item ui_template.py\n",
      "--> /Users/j35/Desktop/source/__code is a file and will be copy to /Users/j35/Desktop/target/__code\n",
      "-> working with item __init__.py\n",
      "--> /Users/j35/Desktop/source is a file and will be copy to /Users/j35/Desktop/target\n",
      "-> working with item install_me.sh\n",
      "--> /Users/j35/Desktop/source is a file and will be copy to /Users/j35/Desktop/target\n",
      "-> working with item integrated_roi_counts_vs_file_name_and_time_stamp.ipynb\n",
      "--> /Users/j35/Desktop/source is a file and will be copy to /Users/j35/Desktop/target\n",
      "-> working with item Personalized_notebooks\n",
      "--> item is a folder and we need to go back to recursive_copy\n",
      "Entering recursive_copy ...\n",
      "src: /Users/j35/Desktop/source/Personalized_notebooks\n",
      "dst: /Users/j35/Desktop/target/Personalized_notebooks\n",
      "-> working with item .ipynb_checkpoints\n",
      "--> item is a folder and we need to go back to recursive_copy\n",
      "Entering recursive_copy ...\n",
      "src: /Users/j35/Desktop/source/Personalized_notebooks/.ipynb_checkpoints\n",
      "dst: /Users/j35/Desktop/target/Personalized_notebooks/.ipynb_checkpoints\n",
      "-> working with item Saikat_low_statistics_algorithm-checkpoint.ipynb\n",
      "--> /Users/j35/Desktop/source/Personalized_notebooks/.ipynb_checkpoints is a file and will be copy to /Users/j35/Desktop/target/Personalized_notebooks/.ipynb_checkpoints\n",
      "-> working with item __init__.py\n",
      "--> /Users/j35/Desktop/source/Personalized_notebooks is a file and will be copy to /Users/j35/Desktop/target/Personalized_notebooks\n",
      "-> working with item Saikat_low_statistics_algorithm.ipynb\n",
      "--> /Users/j35/Desktop/source/Personalized_notebooks is a file and will be copy to /Users/j35/Desktop/target/Personalized_notebooks\n",
      "-> working with item profile.ipynb\n",
      "--> /Users/j35/Desktop/source is a file and will be copy to /Users/j35/Desktop/target\n",
      "-> working with item README.md\n",
      "--> /Users/j35/Desktop/source is a file and will be copy to /Users/j35/Desktop/target\n",
      "-> working with item requirements.yml\n",
      "--> /Users/j35/Desktop/source is a file and will be copy to /Users/j35/Desktop/target\n",
      "-> working with item template_ui.ipynb\n",
      "--> /Users/j35/Desktop/source is a file and will be copy to /Users/j35/Desktop/target\n",
      "-> working with item TEST_integrated_roi_counts_vs_file_name_and_time_stamp-Copy1.ipynb\n",
      "--> /Users/j35/Desktop/source is a file and will be copy to /Users/j35/Desktop/target\n",
      "-> working with item TEST_profile.ipynb\n",
      "--> /Users/j35/Desktop/source is a file and will be copy to /Users/j35/Desktop/target\n",
      "-> working with item ui\n",
      "--> item is a folder and we need to go back to recursive_copy\n",
      "Entering recursive_copy ...\n",
      "src: /Users/j35/Desktop/source/ui\n",
      "dst: /Users/j35/Desktop/target/ui\n",
      "-> working with item .DS_Store\n",
      "--> /Users/j35/Desktop/source/ui is a file and will be copy to /Users/j35/Desktop/target/ui\n",
      "-> working with item ui_addie.ui\n",
      "--> /Users/j35/Desktop/source/ui is a file and will be copy to /Users/j35/Desktop/target/ui\n",
      "-> working with item ui_integrated_roi_counts_vs_file_name_and_time_stamp.ui\n",
      "--> /Users/j35/Desktop/source/ui is a file and will be copy to /Users/j35/Desktop/target/ui\n",
      "-> working with item ui_metadata_overlapping_images.ui\n",
      "--> /Users/j35/Desktop/source/ui is a file and will be copy to /Users/j35/Desktop/target/ui\n",
      "-> working with item ui_metadata_overlapping_images_string_format.ui\n",
      "--> /Users/j35/Desktop/source/ui is a file and will be copy to /Users/j35/Desktop/target/ui\n",
      "-> working with item ui_radial_profile.ui\n",
      "--> /Users/j35/Desktop/source/ui is a file and will be copy to /Users/j35/Desktop/target/ui\n",
      "-> working with item ui_scale_overlapping_images.ui\n",
      "--> /Users/j35/Desktop/source/ui is a file and will be copy to /Users/j35/Desktop/target/ui\n"
     ]
    }
   ],
   "source": [
    "dst = '/Users/j35/Desktop/target'\n",
    "recursive_copy(src, dst)"
   ]
  },
  {
   "cell_type": "code",
   "execution_count": 49,
   "metadata": {
    "run_control": {
     "frozen": false,
     "read_only": false
    }
   },
   "outputs": [
    {
     "data": {
      "text/plain": [
       "True"
      ]
     },
     "execution_count": 49,
     "metadata": {},
     "output_type": "execute_result"
    }
   ],
   "source": [
    "file = '/Users/j35/Desktop/source/.git/COMMIT_EDITMSG'\n",
    "os.path.exists(file)\n"
   ]
  },
  {
   "cell_type": "code",
   "execution_count": 50,
   "metadata": {},
   "outputs": [
    {
     "data": {
      "text/plain": [
       "True"
      ]
     },
     "execution_count": 50,
     "metadata": {},
     "output_type": "execute_result"
    }
   ],
   "source": [
    "os.path.isfile(file)\n"
   ]
  },
  {
   "cell_type": "code",
   "execution_count": null,
   "metadata": {
    "collapsed": true
   },
   "outputs": [],
   "source": []
  }
 ],
 "metadata": {
  "kernelspec": {
   "display_name": "Python 3",
   "language": "python",
   "name": "python3"
  },
  "toc": {
   "colors": {
    "hover_highlight": "#DAA520",
    "running_highlight": "#FF0000",
    "selected_highlight": "#FFD700"
   },
   "moveMenuLeft": true,
   "nav_menu": {
    "height": "12px",
    "width": "252px"
   },
   "navigate_menu": true,
   "number_sections": true,
   "sideBar": true,
   "threshold": 4,
   "toc_cell": false,
   "toc_section_display": "block",
   "toc_window_display": false
  }
 },
 "nbformat": 4,
 "nbformat_minor": 2
}
