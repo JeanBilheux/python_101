{
 "cells": [
  {
   "cell_type": "code",
   "execution_count": 70,
   "metadata": {},
   "outputs": [],
   "source": [
    "import numpy as np"
   ]
  },
  {
   "cell_type": "code",
   "execution_count": 71,
   "metadata": {},
   "outputs": [],
   "source": [
    "number_of_files = 10\n",
    "max_angle = 360"
   ]
  },
  {
   "cell_type": "code",
   "execution_count": 74,
   "metadata": {},
   "outputs": [],
   "source": [
    "def projection_angle(file_index, arc=180):\n",
    "    phi = 0.5 * (1+np.sqrt(5))\n",
    "    return np.fmod(file_index*phi*180, arc)"
   ]
  },
  {
   "cell_type": "code",
   "execution_count": 75,
   "metadata": {
    "scrolled": true
   },
   "outputs": [],
   "source": [
    "list_golden_angles = []\n",
    "for _file_index in np.arange(number_of_files):\n",
    "    _projection_angle = projection_angle(_file_index, arc=max_angle)\n",
    "#     print(\"{}: {}\".format(_file_index, _projection_angle))\n",
    "    list_golden_angles.append(_projection_angle)"
   ]
  },
  {
   "cell_type": "code",
   "execution_count": 77,
   "metadata": {},
   "outputs": [
    {
     "name": "stdout",
     "output_type": "stream",
     "text": [
      "0.00, 291.25, 222.49, 153.74, 84.98, 16.23, 307.48, 238.72, 169.97, 101.22\n"
     ]
    }
   ],
   "source": [
    "str_list_golden = [\"{:.2f}\".format(_value) for _value in list_golden_angles]\n",
    "print(\", \".join(str_list_golden))"
   ]
  },
  {
   "cell_type": "code",
   "execution_count": 61,
   "metadata": {},
   "outputs": [],
   "source": [
    "# np.savetxt(\"/Users/j35/Desktop/golden_ratio_2000angles_0_to_360.txt\", list_golden_angles, fmt=\"%.2f\", newline=', ')"
   ]
  }
 ],
 "metadata": {
  "kernelspec": {
   "display_name": "Python 3",
   "language": "python",
   "name": "python3"
  },
  "language_info": {
   "codemirror_mode": {
    "name": "ipython",
    "version": 3
   },
   "file_extension": ".py",
   "mimetype": "text/x-python",
   "name": "python",
   "nbconvert_exporter": "python",
   "pygments_lexer": "ipython3",
   "version": "3.7.10"
  }
 },
 "nbformat": 4,
 "nbformat_minor": 2
}
