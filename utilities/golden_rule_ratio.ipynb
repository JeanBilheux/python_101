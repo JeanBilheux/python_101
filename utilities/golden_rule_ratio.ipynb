{
 "cells": [
  {
   "cell_type": "code",
   "execution_count": 1,
   "metadata": {},
   "outputs": [],
   "source": [
    "import numpy as np"
   ]
  },
  {
   "cell_type": "code",
   "execution_count": 5,
   "metadata": {},
   "outputs": [],
   "source": [
    "number_of_files = 50"
   ]
  },
  {
   "cell_type": "code",
   "execution_count": 6,
   "metadata": {},
   "outputs": [],
   "source": [
    "def projection_angle(file_index):\n",
    "    projection_angle = (1 + np.sqrt(5.0))/2.0 * file_index\n",
    "    projection_angle = (projection_angle - np.int(projection_angle))*180\n",
    "    return projection_angle"
   ]
  },
  {
   "cell_type": "code",
   "execution_count": 7,
   "metadata": {
    "scrolled": false
   },
   "outputs": [
    {
     "name": "stdout",
     "output_type": "stream",
     "text": [
      "0: 0.0\n",
      "1: 111.24611797498108\n",
      "2: 42.492235949962165\n",
      "3: 153.73835392494325\n",
      "4: 84.98447189992433\n",
      "5: 16.230589874905412\n",
      "6: 127.4767078498865\n",
      "7: 58.72282582486758\n",
      "8: 169.96894379984866\n",
      "9: 101.21506177482973\n",
      "10: 32.461179749810825\n",
      "11: 143.70729772479223\n",
      "12: 74.95341569977299\n",
      "13: 6.199533674753752\n",
      "14: 117.44565164973515\n",
      "15: 48.69176962471656\n",
      "16: 159.93788759969732\n",
      "17: 91.18400557467808\n",
      "18: 22.430123549659484\n",
      "19: 133.6762415246409\n",
      "20: 64.92235949962165\n",
      "21: 176.1684774746024\n",
      "22: 107.41459544958445\n",
      "23: 38.660713424565216\n",
      "24: 149.90683139954598\n",
      "25: 81.15294937452674\n",
      "26: 12.399067349507504\n",
      "27: 123.64518532448955\n",
      "28: 54.89130329947031\n",
      "29: 166.13742127445107\n",
      "30: 97.38353924943311\n",
      "31: 28.629657224413876\n",
      "32: 139.87577519939464\n",
      "33: 71.1218931743754\n",
      "34: 2.368011149356164\n",
      "35: 113.6141291243382\n",
      "36: 44.86024709931897\n",
      "37: 156.10636507429973\n",
      "38: 87.35248304928177\n",
      "39: 18.598601024262535\n",
      "40: 129.8447189992433\n",
      "41: 61.09083697422534\n",
      "42: 172.33695494920482\n",
      "43: 103.58307292418687\n",
      "44: 34.82919089916891\n",
      "45: 146.0753088741484\n",
      "46: 77.32142684913043\n",
      "47: 8.567544824109916\n",
      "48: 119.81366279909196\n",
      "49: 51.059780774074\n"
     ]
    }
   ],
   "source": [
    "list_golden_angles = []\n",
    "for _file_index in np.arange(number_of_files):\n",
    "    _projection_angle = projection_angle(_file_index)\n",
    "    print(\"{}: {}\".format(_file_index, _projection_angle))\n",
    "    list_golden_angles.append(_projection_angle)"
   ]
  },
  {
   "cell_type": "code",
   "execution_count": 9,
   "metadata": {},
   "outputs": [
    {
     "name": "stdout",
     "output_type": "stream",
     "text": [
      "0.00, 111.25, 42.49, 153.74, 84.98, 16.23, 127.48, 58.72, 169.97, 101.22, 32.46, 143.71, 74.95, 6.20, 117.45, 48.69, 159.94, 91.18, 22.43, 133.68, 64.92, 176.17, 107.41, 38.66, 149.91, 81.15, 12.40, 123.65, 54.89, 166.14, 97.38, 28.63, 139.88, 71.12, 2.37, 113.61, 44.86, 156.11, 87.35, 18.60, 129.84, 61.09, 172.34, 103.58, 34.83, 146.08, 77.32, 8.57, 119.81, 51.06\n"
     ]
    }
   ],
   "source": [
    "str_list_golden = [\"{:.2f}\".format(_value) for _value in list_golden_angles]\n",
    "print(\", \".join(str_list_golden))"
   ]
  },
  {
   "cell_type": "code",
   "execution_count": 6,
   "metadata": {},
   "outputs": [],
   "source": [
    "np.savetxt(\"/Users/j35/Desktop/golden_ratio.txt\", list_golden_angles, fmt=\"%.2f\", newline=', ')"
   ]
  },
  {
   "cell_type": "code",
   "execution_count": null,
   "metadata": {},
   "outputs": [],
   "source": []
  }
 ],
 "metadata": {
  "kernelspec": {
   "display_name": "Python 3",
   "language": "python",
   "name": "python3"
  },
  "language_info": {
   "codemirror_mode": {
    "name": "ipython",
    "version": 3
   },
   "file_extension": ".py",
   "mimetype": "text/x-python",
   "name": "python",
   "nbconvert_exporter": "python",
   "pygments_lexer": "ipython3",
   "version": "3.6.10"
  }
 },
 "nbformat": 4,
 "nbformat_minor": 2
}
