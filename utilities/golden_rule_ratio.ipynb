{
 "cells": [
  {
   "cell_type": "code",
   "execution_count": 2,
   "metadata": {},
   "outputs": [],
   "source": [
    "import numpy as np"
   ]
  },
  {
   "cell_type": "code",
   "execution_count": 11,
   "metadata": {},
   "outputs": [],
   "source": [
    "number_of_files = 15"
   ]
  },
  {
   "cell_type": "code",
   "execution_count": 15,
   "metadata": {},
   "outputs": [],
   "source": [
    "def projection_angle(file_index):\n",
    "    projection_angle = (1 + np.sqrt(5.0))/2.0 * file_index\n",
    "    projection_angle = (projection_angle - np.int(projection_angle))*180\n",
    "    return projection_angle"
   ]
  },
  {
   "cell_type": "code",
   "execution_count": 19,
   "metadata": {},
   "outputs": [
    {
     "name": "stdout",
     "output_type": "stream",
     "text": [
      "0: 0.0\n",
      "1: 111.24611797498108\n",
      "2: 42.492235949962165\n",
      "3: 153.73835392494325\n",
      "4: 84.98447189992433\n",
      "5: 16.230589874905412\n",
      "6: 127.4767078498865\n",
      "7: 58.72282582486758\n",
      "8: 169.96894379984866\n",
      "9: 101.21506177482973\n",
      "10: 32.461179749810825\n",
      "11: 143.70729772479223\n",
      "12: 74.95341569977299\n",
      "13: 6.199533674753752\n",
      "14: 117.44565164973515\n"
     ]
    }
   ],
   "source": [
    "list_golden_angles = []\n",
    "for _file_index in np.arange(number_of_files):\n",
    "    _projection_angle = projection_angle(_file_index)\n",
    "    print(\"{}: {}\".format(_file_index, _projection_angle))\n",
    "    list_golden_angles.append(_projection_angle)"
   ]
  },
  {
   "cell_type": "code",
   "execution_count": 24,
   "metadata": {},
   "outputs": [
    {
     "name": "stdout",
     "output_type": "stream",
     "text": [
      "0.00, 111.25, 42.49, 153.74, 84.98, 16.23, 127.48, 58.72, 169.97, 101.22, 32.46, 143.71, 74.95, 6.20, 117.45\n"
     ]
    }
   ],
   "source": [
    "str_list_golden = [\"{:.2f}\".format(_value) for _value in list_golden_angles]\n",
    "print(\", \".join(str_list_golden))"
   ]
  },
  {
   "cell_type": "code",
   "execution_count": null,
   "metadata": {},
   "outputs": [],
   "source": []
  }
 ],
 "metadata": {
  "kernelspec": {
   "display_name": "Python 3",
   "language": "python",
   "name": "python3"
  },
  "language_info": {
   "codemirror_mode": {
    "name": "ipython",
    "version": 3
   },
   "file_extension": ".py",
   "mimetype": "text/x-python",
   "name": "python",
   "nbconvert_exporter": "python",
   "pygments_lexer": "ipython3",
   "version": "3.6.7"
  }
 },
 "nbformat": 4,
 "nbformat_minor": 2
}
