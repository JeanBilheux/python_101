{
 "cells": [
  {
   "cell_type": "code",
   "execution_count": 9,
   "metadata": {},
   "outputs": [],
   "source": [
    "output_file_path = '/Users/j35/Desktop/test.nxs.h5'"
   ]
  },
  {
   "cell_type": "code",
   "execution_count": 10,
   "metadata": {},
   "outputs": [],
   "source": [
    "import h5py\n",
    "import numpy as np"
   ]
  },
  {
   "cell_type": "code",
   "execution_count": 11,
   "metadata": {},
   "outputs": [],
   "source": [
    "with h5py.File(output_file_path, 'w') as f:\n",
    "    entry = f.create_group('entry')\n",
    "    daslogs = entry.create_group('daslogs')\n",
    "\n",
    "    pv1 = daslogs.create_group('pv1')  \n",
    "    dataset_1 = np.arange(10)\n",
    "    data_mean = pv1.create_dataset('average_value', data=[np.mean(dataset_1)])\n",
    "    data_min = pv1.create_dataset('maximum_value', data=[np.max(dataset_1)])\n",
    "    data_max = pv1.create_dataset('minimum_value', data=[np.min(dataset_1)])\n",
    "    data_set = pv1.create_dataset('value', data=dataset_1)\n",
    "    \n",
    "    pv2 = daslogs.create_group('pv2')  \n",
    "    dataset_2 = np.arange(20)\n",
    "    data_mean = pv2.create_dataset('average_value', data=[np.mean(dataset_2)])\n",
    "    data_min = pv2.create_dataset('maximum_value', data=[np.max(dataset_2)])\n",
    "    data_max = pv2.create_dataset('minimum_value', data=[np.min(dataset_2)])\n",
    "    data_set = pv2.create_dataset('value', data=dataset_2)"
   ]
  },
  {
   "cell_type": "code",
   "execution_count": null,
   "metadata": {},
   "outputs": [],
   "source": []
  }
 ],
 "metadata": {
  "kernelspec": {
   "display_name": "Python 3",
   "language": "python",
   "name": "python3"
  },
  "language_info": {
   "codemirror_mode": {
    "name": "ipython",
    "version": 3
   },
   "file_extension": ".py",
   "mimetype": "text/x-python",
   "name": "python",
   "nbconvert_exporter": "python",
   "pygments_lexer": "ipython3",
   "version": "3.6.9"
  }
 },
 "nbformat": 4,
 "nbformat_minor": 2
}
