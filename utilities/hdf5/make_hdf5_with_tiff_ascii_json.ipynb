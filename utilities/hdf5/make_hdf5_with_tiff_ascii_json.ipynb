{
 "cells": [
  {
   "cell_type": "code",
   "execution_count": 1,
   "metadata": {},
   "outputs": [],
   "source": [
    "output_file_path = 'ibeatles_output.nxs.h5'"
   ]
  },
  {
   "cell_type": "code",
   "execution_count": 2,
   "metadata": {},
   "outputs": [],
   "source": [
    "import h5py\n",
    "import numpy as np\n",
    "import os\n",
    "import json\n",
    "from PIL import Image\n",
    "import matplotlib.pyplot as plt\n",
    "%matplotlib notebook"
   ]
  },
  {
   "cell_type": "markdown",
   "metadata": {},
   "source": [
    "# reset hdf5 "
   ]
  },
  {
   "cell_type": "code",
   "execution_count": 3,
   "metadata": {},
   "outputs": [],
   "source": [
    "os.remove(output_file_path)"
   ]
  },
  {
   "cell_type": "markdown",
   "metadata": {},
   "source": [
    "# load the json and tiff file"
   ]
  },
  {
   "cell_type": "code",
   "execution_count": 4,
   "metadata": {},
   "outputs": [],
   "source": [
    "json_file = \"data/table.json\"\n",
    "assert os.path.exists(json_file)"
   ]
  },
  {
   "cell_type": "code",
   "execution_count": null,
   "metadata": {},
   "outputs": [],
   "source": [
    "tiff_file = \"data/image1.tiff\"\n",
    "image_loaded = np.asarray(Image.open(tiff_file))"
   ]
  },
  {
   "cell_type": "code",
   "execution_count": 5,
   "metadata": {},
   "outputs": [],
   "source": [
    "with open(json_file, 'r') as json_file:\n",
    "    data = json.load(json_file)"
   ]
  },
  {
   "cell_type": "code",
   "execution_count": 6,
   "metadata": {},
   "outputs": [],
   "source": [
    "with h5py.File(output_file_path, 'w') as f:\n",
    "    entry = f.create_group('entry')\n",
    "\n",
    "    # fitting table\n",
    "    fitting_group = entry.create_group('fitting table')\n",
    "    for key in data.keys():\n",
    "\n",
    "        key_group = fitting_group.create_group(key)  \n",
    "        \n",
    "        _item1 = data[key]\n",
    "        key_group.create_dataset('xaxis', data=_item1['xaxis'])\n",
    "        key_group.create_dataset('yaxis', data=_item1['yaxis'])\n",
    "\n",
    "        fitted_group = key_group.create_group('fitted')\n",
    "        _item12 = _item1['fitted']\n",
    "\n",
    "        high_tof_group = fitted_group.create_group('hight_tof')\n",
    "        _item123 = _item12['high_tof']\n",
    "        high_tof_group.create_dataset('xaxis', data=_item123['xaxis'])\n",
    "        high_tof_group.create_dataset('yaxis', data=_item123['yaxis'])\n",
    "\n",
    "        low_tof_group = fitted_group.create_group('low_tof')\n",
    "        _item123 = _item12['low_tof']\n",
    "        low_tof_group.create_dataset('xaxis', data=_item123['xaxis'])\n",
    "        low_tof_group.create_dataset('yaxis', data=_item123['yaxis'])\n",
    "\n",
    "        bragg_peak_group = fitted_group.create_group('bragg_peak')           \n",
    "        _item123 = _item12['bragg_peak']\n",
    "        bragg_peak_group.create_dataset('xaxis', data=_item123['xaxis'])\n",
    "        bragg_peak_group.create_dataset('yaxis', data=_item123['yaxis'])\n",
    "\n",
    "        for _item in ['strain', 'd', 'a0', 'b0', 'ahkl', 'bhkl', 'tau', 'sigma', 'lambda_hkl']:\n",
    "            _group = fitted_group.create_group(_item)\n",
    "            _group.create_dataset('val', data=_item1[_item]['val'])\n",
    "            _group.create_dataset('err', data=_item1[_item]['err'])\n",
    "\n",
    "        bragg_peak_threshold = fitted_group.create_group('bragg peak threshold')\n",
    "        bragg_peak_threshold.create_dataset('left', data=_item1['bragg peak threshold']['left'])\n",
    "        bragg_peak_threshold.create_dataset('right', data=_item1['bragg peak threshold']['right'])\n",
    "        \n",
    "    # image\n",
    "    image_group = entry.create_group('image')"
   ]
  }
 ],
 "metadata": {
  "kernelspec": {
   "display_name": "Python 3 (ipykernel)",
   "language": "python",
   "name": "python3"
  },
  "language_info": {
   "codemirror_mode": {
    "name": "ipython",
    "version": 3
   },
   "file_extension": ".py",
   "mimetype": "text/x-python",
   "name": "python",
   "nbconvert_exporter": "python",
   "pygments_lexer": "ipython3",
   "version": "3.10.10"
  }
 },
 "nbformat": 4,
 "nbformat_minor": 2
}
