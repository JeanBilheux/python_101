{
 "cells": [
  {
   "cell_type": "code",
   "execution_count": 1,
   "id": "sharp-patch",
   "metadata": {},
   "outputs": [],
   "source": [
    "import numpy as np\n",
    "\n",
    "import plotly\n",
    "import plotly.express as px\n",
    "import plotly.graph_objects as go\n",
    "import dash\n",
    "import dash_table\n",
    "import jupyter_dash as jd\n",
    "from jupyter_dash import JupyterDash\n",
    "import dash_core_components as dcc\n",
    "import dash_html_components as html\n",
    "import dash_bootstrap_components as dbc\n",
    "from dash.dependencies import Output, Input\n",
    "from dash.exceptions import PreventUpdate\n",
    "import pandas as pd"
   ]
  },
  {
   "cell_type": "code",
   "execution_count": 2,
   "id": "rubber-messaging",
   "metadata": {},
   "outputs": [],
   "source": [
    "def calculate_golden_ratio(angle_index, max_angle=180):\n",
    "    phi = 0.5 * (1 + np.sqrt(5))\n",
    "    return np.fmod(int(angle_index) * phi * 180, int(max_angle))\n",
    "\n",
    "\n",
    "def retrieve_list_of_golden_angles(total_number_of_angles, max_angle=180):\n",
    "    list_angles = [calculate_golden_ratio(angle_index, max_angle=max_angle) for angle_index in np.arange(\n",
    "            total_number_of_angles)]\n",
    "    return list_angles\n"
   ]
  },
  {
   "cell_type": "code",
   "execution_count": 3,
   "id": "modular-dragon",
   "metadata": {
    "scrolled": true
   },
   "outputs": [
    {
     "data": {
      "text/plain": [
       "[0.0,\n",
       " 291.2461179749811,\n",
       " 222.49223594996215,\n",
       " 153.73835392494323,\n",
       " 84.9844718999243,\n",
       " 16.23058987490549,\n",
       " 307.47670784988645,\n",
       " 238.72282582486764,\n",
       " 169.9689437998486,\n",
       " 101.21506177482979,\n",
       " 32.46117974981098,\n",
       " 323.70729772479217,\n",
       " 254.9534156997729,\n",
       " 186.19953367475364,\n",
       " 117.44565164973528,\n",
       " 48.69176962471647,\n",
       " 339.9378875996972,\n",
       " 271.18400557467794,\n",
       " 202.43012354965958,\n",
       " 133.67624152464123]"
      ]
     },
     "execution_count": 3,
     "metadata": {},
     "output_type": "execute_result"
    }
   ],
   "source": [
    "total_number_of_angles = 20\n",
    "max_angle_value = 360\n",
    "\n",
    "list_angles = retrieve_list_of_golden_angles(total_number_of_angles, max_angle=max_angle_value)\n",
    "list_angles"
   ]
  },
  {
   "cell_type": "code",
   "execution_count": 4,
   "id": "sapphire-fraud",
   "metadata": {},
   "outputs": [],
   "source": [
    "list_angles = pd.DataFrame(list_angles, columns=['angles'])"
   ]
  },
  {
   "cell_type": "code",
   "execution_count": 5,
   "id": "departmental-longer",
   "metadata": {},
   "outputs": [
    {
     "data": {
      "text/html": [
       "<div>\n",
       "<style scoped>\n",
       "    .dataframe tbody tr th:only-of-type {\n",
       "        vertical-align: middle;\n",
       "    }\n",
       "\n",
       "    .dataframe tbody tr th {\n",
       "        vertical-align: top;\n",
       "    }\n",
       "\n",
       "    .dataframe thead th {\n",
       "        text-align: right;\n",
       "    }\n",
       "</style>\n",
       "<table border=\"1\" class=\"dataframe\">\n",
       "  <thead>\n",
       "    <tr style=\"text-align: right;\">\n",
       "      <th></th>\n",
       "      <th>angles</th>\n",
       "    </tr>\n",
       "  </thead>\n",
       "  <tbody>\n",
       "    <tr>\n",
       "      <th>0</th>\n",
       "      <td>0.000000</td>\n",
       "    </tr>\n",
       "    <tr>\n",
       "      <th>1</th>\n",
       "      <td>291.246118</td>\n",
       "    </tr>\n",
       "    <tr>\n",
       "      <th>2</th>\n",
       "      <td>222.492236</td>\n",
       "    </tr>\n",
       "    <tr>\n",
       "      <th>3</th>\n",
       "      <td>153.738354</td>\n",
       "    </tr>\n",
       "    <tr>\n",
       "      <th>4</th>\n",
       "      <td>84.984472</td>\n",
       "    </tr>\n",
       "    <tr>\n",
       "      <th>5</th>\n",
       "      <td>16.230590</td>\n",
       "    </tr>\n",
       "    <tr>\n",
       "      <th>6</th>\n",
       "      <td>307.476708</td>\n",
       "    </tr>\n",
       "    <tr>\n",
       "      <th>7</th>\n",
       "      <td>238.722826</td>\n",
       "    </tr>\n",
       "    <tr>\n",
       "      <th>8</th>\n",
       "      <td>169.968944</td>\n",
       "    </tr>\n",
       "    <tr>\n",
       "      <th>9</th>\n",
       "      <td>101.215062</td>\n",
       "    </tr>\n",
       "    <tr>\n",
       "      <th>10</th>\n",
       "      <td>32.461180</td>\n",
       "    </tr>\n",
       "    <tr>\n",
       "      <th>11</th>\n",
       "      <td>323.707298</td>\n",
       "    </tr>\n",
       "    <tr>\n",
       "      <th>12</th>\n",
       "      <td>254.953416</td>\n",
       "    </tr>\n",
       "    <tr>\n",
       "      <th>13</th>\n",
       "      <td>186.199534</td>\n",
       "    </tr>\n",
       "    <tr>\n",
       "      <th>14</th>\n",
       "      <td>117.445652</td>\n",
       "    </tr>\n",
       "    <tr>\n",
       "      <th>15</th>\n",
       "      <td>48.691770</td>\n",
       "    </tr>\n",
       "    <tr>\n",
       "      <th>16</th>\n",
       "      <td>339.937888</td>\n",
       "    </tr>\n",
       "    <tr>\n",
       "      <th>17</th>\n",
       "      <td>271.184006</td>\n",
       "    </tr>\n",
       "    <tr>\n",
       "      <th>18</th>\n",
       "      <td>202.430124</td>\n",
       "    </tr>\n",
       "    <tr>\n",
       "      <th>19</th>\n",
       "      <td>133.676242</td>\n",
       "    </tr>\n",
       "  </tbody>\n",
       "</table>\n",
       "</div>"
      ],
      "text/plain": [
       "        angles\n",
       "0     0.000000\n",
       "1   291.246118\n",
       "2   222.492236\n",
       "3   153.738354\n",
       "4    84.984472\n",
       "5    16.230590\n",
       "6   307.476708\n",
       "7   238.722826\n",
       "8   169.968944\n",
       "9   101.215062\n",
       "10   32.461180\n",
       "11  323.707298\n",
       "12  254.953416\n",
       "13  186.199534\n",
       "14  117.445652\n",
       "15   48.691770\n",
       "16  339.937888\n",
       "17  271.184006\n",
       "18  202.430124\n",
       "19  133.676242"
      ]
     },
     "execution_count": 5,
     "metadata": {},
     "output_type": "execute_result"
    }
   ],
   "source": [
    "list_angles"
   ]
  },
  {
   "cell_type": "code",
   "execution_count": 6,
   "id": "individual-release",
   "metadata": {},
   "outputs": [
    {
     "data": {
      "text/plain": [
       "[{'angles': 0.0},\n",
       " {'angles': 291.2461179749811},\n",
       " {'angles': 222.49223594996215},\n",
       " {'angles': 153.73835392494323},\n",
       " {'angles': 84.9844718999243},\n",
       " {'angles': 16.23058987490549},\n",
       " {'angles': 307.47670784988645},\n",
       " {'angles': 238.72282582486764},\n",
       " {'angles': 169.9689437998486},\n",
       " {'angles': 101.21506177482979},\n",
       " {'angles': 32.46117974981098},\n",
       " {'angles': 323.70729772479217},\n",
       " {'angles': 254.9534156997729},\n",
       " {'angles': 186.19953367475364},\n",
       " {'angles': 117.44565164973528},\n",
       " {'angles': 48.69176962471647},\n",
       " {'angles': 339.9378875996972},\n",
       " {'angles': 271.18400557467794},\n",
       " {'angles': 202.43012354965958},\n",
       " {'angles': 133.67624152464123}]"
      ]
     },
     "execution_count": 6,
     "metadata": {},
     "output_type": "execute_result"
    }
   ],
   "source": [
    "list_angles.to_dict('records')"
   ]
  },
  {
   "cell_type": "code",
   "execution_count": 8,
   "id": "possible-waste",
   "metadata": {},
   "outputs": [
    {
     "data": {
      "text/html": [
       "\n",
       "        <iframe\n",
       "            width=\"100%\"\n",
       "            height=\"650\"\n",
       "            src=\"http://127.0.0.1:8051/\"\n",
       "            frameborder=\"0\"\n",
       "            allowfullscreen\n",
       "        ></iframe>\n",
       "        "
      ],
      "text/plain": [
       "<IPython.lib.display.IFrame at 0x7fb868682c10>"
      ]
     },
     "metadata": {},
     "output_type": "display_data"
    }
   ],
   "source": [
    "app = JupyterDash(__name__, external_stylesheets=[dbc.themes.COSMO])\n",
    "\n",
    "app.layout = html.Div([\n",
    "    html.Label(\"this is the table\"),\n",
    "    dash_table.DataTable(id='table',\n",
    "                        columns=[{'name': 'angles'}],\n",
    "                        data=list_angles.to_dict('records'),\n",
    "                        style_cell={'minWidth': 95,\n",
    "                                   'maxWidth': 95, \n",
    "                                   'width': 95})\n",
    "    \n",
    "])\n",
    "\n",
    "\n",
    "\n",
    "\n",
    "app.run_server(mode='inline', port=8051)\n"
   ]
  },
  {
   "cell_type": "code",
   "execution_count": null,
   "id": "religious-aircraft",
   "metadata": {},
   "outputs": [],
   "source": []
  }
 ],
 "metadata": {
  "kernelspec": {
   "display_name": "Python 3",
   "language": "python",
   "name": "python3"
  },
  "language_info": {
   "codemirror_mode": {
    "name": "ipython",
    "version": 3
   },
   "file_extension": ".py",
   "mimetype": "text/x-python",
   "name": "python",
   "nbconvert_exporter": "python",
   "pygments_lexer": "ipython3",
   "version": "3.8.12"
  }
 },
 "nbformat": 4,
 "nbformat_minor": 5
}
